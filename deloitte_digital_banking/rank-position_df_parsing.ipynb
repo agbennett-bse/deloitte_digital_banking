{
 "cells": [
  {
   "cell_type": "code",
   "execution_count": 32,
   "metadata": {},
   "outputs": [
    {
     "data": {
      "text/html": [
       "<div>\n",
       "<style scoped>\n",
       "    .dataframe tbody tr th:only-of-type {\n",
       "        vertical-align: middle;\n",
       "    }\n",
       "\n",
       "    .dataframe tbody tr th {\n",
       "        vertical-align: top;\n",
       "    }\n",
       "\n",
       "    .dataframe thead th {\n",
       "        text-align: right;\n",
       "    }\n",
       "</style>\n",
       "<table border=\"1\" class=\"dataframe\">\n",
       "  <thead>\n",
       "    <tr style=\"text-align: right;\">\n",
       "      <th></th>\n",
       "      <th>Unnamed: 0</th>\n",
       "      <th>date</th>\n",
       "      <th>2021-12-01 00:00:00</th>\n",
       "      <th>2022-01-01 00:00:00</th>\n",
       "      <th>2022-02-01 00:00:00</th>\n",
       "      <th>2022-03-01 00:00:00</th>\n",
       "      <th>2022-04-01 00:00:00</th>\n",
       "      <th>2022-05-01 00:00:00</th>\n",
       "      <th>2022-06-01 00:00:00</th>\n",
       "      <th>2022-07-01 00:00:00</th>\n",
       "      <th>...</th>\n",
       "      <th>2023-04-01 00:00:00</th>\n",
       "      <th>2023-05-01 00:00:00</th>\n",
       "      <th>2023-06-01 00:00:00</th>\n",
       "      <th>2023-07-01 00:00:00</th>\n",
       "      <th>2023-08-01 00:00:00</th>\n",
       "      <th>2023-09-01 00:00:00</th>\n",
       "      <th>2023-10-01 00:00:00</th>\n",
       "      <th>2023-11-01 00:00:00</th>\n",
       "      <th>2023-12-01 00:00:00</th>\n",
       "      <th>2024-01-01 00:00:00</th>\n",
       "    </tr>\n",
       "  </thead>\n",
       "  <tbody>\n",
       "    <tr>\n",
       "      <th>0</th>\n",
       "      <td>Best Comission-Free Accounts (Helmycash)</td>\n",
       "      <td>Cuenta Online sin comisiones BBVA</td>\n",
       "      <td>1.0</td>\n",
       "      <td>1.0</td>\n",
       "      <td>1.0</td>\n",
       "      <td>NaN</td>\n",
       "      <td>NaN</td>\n",
       "      <td>1.0</td>\n",
       "      <td>8.0</td>\n",
       "      <td>3.0</td>\n",
       "      <td>...</td>\n",
       "      <td>NaN</td>\n",
       "      <td>NaN</td>\n",
       "      <td>NaN</td>\n",
       "      <td>4.0</td>\n",
       "      <td>6.0</td>\n",
       "      <td>NaN</td>\n",
       "      <td>NaN</td>\n",
       "      <td>4.176471</td>\n",
       "      <td>3.193548</td>\n",
       "      <td>4.035714</td>\n",
       "    </tr>\n",
       "    <tr>\n",
       "      <th>1</th>\n",
       "      <td>NaN</td>\n",
       "      <td>Cuenta Nómina ING</td>\n",
       "      <td>2.0</td>\n",
       "      <td>2.0</td>\n",
       "      <td>2.0</td>\n",
       "      <td>NaN</td>\n",
       "      <td>NaN</td>\n",
       "      <td>2.0</td>\n",
       "      <td>1.0</td>\n",
       "      <td>1.0</td>\n",
       "      <td>...</td>\n",
       "      <td>NaN</td>\n",
       "      <td>NaN</td>\n",
       "      <td>NaN</td>\n",
       "      <td>NaN</td>\n",
       "      <td>NaN</td>\n",
       "      <td>NaN</td>\n",
       "      <td>NaN</td>\n",
       "      <td>NaN</td>\n",
       "      <td>NaN</td>\n",
       "      <td>NaN</td>\n",
       "    </tr>\n",
       "    <tr>\n",
       "      <th>2</th>\n",
       "      <td>NaN</td>\n",
       "      <td>Cuenta Nómina hasta 5% TAE Bankinter</td>\n",
       "      <td>3.0</td>\n",
       "      <td>3.0</td>\n",
       "      <td>3.0</td>\n",
       "      <td>NaN</td>\n",
       "      <td>NaN</td>\n",
       "      <td>3.0</td>\n",
       "      <td>2.0</td>\n",
       "      <td>2.0</td>\n",
       "      <td>...</td>\n",
       "      <td>NaN</td>\n",
       "      <td>NaN</td>\n",
       "      <td>NaN</td>\n",
       "      <td>NaN</td>\n",
       "      <td>NaN</td>\n",
       "      <td>NaN</td>\n",
       "      <td>NaN</td>\n",
       "      <td>NaN</td>\n",
       "      <td>NaN</td>\n",
       "      <td>NaN</td>\n",
       "    </tr>\n",
       "    <tr>\n",
       "      <th>3</th>\n",
       "      <td>NaN</td>\n",
       "      <td>Cuenta Clara ABANCA</td>\n",
       "      <td>4.0</td>\n",
       "      <td>4.0</td>\n",
       "      <td>4.0</td>\n",
       "      <td>NaN</td>\n",
       "      <td>NaN</td>\n",
       "      <td>4.0</td>\n",
       "      <td>6.0</td>\n",
       "      <td>6.0</td>\n",
       "      <td>...</td>\n",
       "      <td>NaN</td>\n",
       "      <td>NaN</td>\n",
       "      <td>NaN</td>\n",
       "      <td>NaN</td>\n",
       "      <td>4.0</td>\n",
       "      <td>NaN</td>\n",
       "      <td>NaN</td>\n",
       "      <td>5.470588</td>\n",
       "      <td>5.354839</td>\n",
       "      <td>4.064516</td>\n",
       "    </tr>\n",
       "    <tr>\n",
       "      <th>4</th>\n",
       "      <td>NaN</td>\n",
       "      <td>Cuenta Online SIN Liberbank</td>\n",
       "      <td>5.0</td>\n",
       "      <td>5.0</td>\n",
       "      <td>5.0</td>\n",
       "      <td>NaN</td>\n",
       "      <td>NaN</td>\n",
       "      <td>8.0</td>\n",
       "      <td>NaN</td>\n",
       "      <td>NaN</td>\n",
       "      <td>...</td>\n",
       "      <td>NaN</td>\n",
       "      <td>NaN</td>\n",
       "      <td>NaN</td>\n",
       "      <td>NaN</td>\n",
       "      <td>NaN</td>\n",
       "      <td>NaN</td>\n",
       "      <td>NaN</td>\n",
       "      <td>NaN</td>\n",
       "      <td>NaN</td>\n",
       "      <td>NaN</td>\n",
       "    </tr>\n",
       "  </tbody>\n",
       "</table>\n",
       "<p>5 rows × 28 columns</p>\n",
       "</div>"
      ],
      "text/plain": [
       "                                 Unnamed: 0  \\\n",
       "0  Best Comission-Free Accounts (Helmycash)   \n",
       "1                                       NaN   \n",
       "2                                       NaN   \n",
       "3                                       NaN   \n",
       "4                                       NaN   \n",
       "\n",
       "                                   date  2021-12-01 00:00:00  \\\n",
       "0     Cuenta Online sin comisiones BBVA                  1.0   \n",
       "1                    Cuenta Nómina ING                   2.0   \n",
       "2  Cuenta Nómina hasta 5% TAE Bankinter                  3.0   \n",
       "3                   Cuenta Clara ABANCA                  4.0   \n",
       "4           Cuenta Online SIN Liberbank                  5.0   \n",
       "\n",
       "   2022-01-01 00:00:00  2022-02-01 00:00:00  2022-03-01 00:00:00  \\\n",
       "0                  1.0                  1.0                  NaN   \n",
       "1                  2.0                  2.0                  NaN   \n",
       "2                  3.0                  3.0                  NaN   \n",
       "3                  4.0                  4.0                  NaN   \n",
       "4                  5.0                  5.0                  NaN   \n",
       "\n",
       "   2022-04-01 00:00:00  2022-05-01 00:00:00  2022-06-01 00:00:00  \\\n",
       "0                  NaN                  1.0                  8.0   \n",
       "1                  NaN                  2.0                  1.0   \n",
       "2                  NaN                  3.0                  2.0   \n",
       "3                  NaN                  4.0                  6.0   \n",
       "4                  NaN                  8.0                  NaN   \n",
       "\n",
       "   2022-07-01 00:00:00  ...  2023-04-01 00:00:00  2023-05-01 00:00:00  \\\n",
       "0                  3.0  ...                  NaN                  NaN   \n",
       "1                  1.0  ...                  NaN                  NaN   \n",
       "2                  2.0  ...                  NaN                  NaN   \n",
       "3                  6.0  ...                  NaN                  NaN   \n",
       "4                  NaN  ...                  NaN                  NaN   \n",
       "\n",
       "   2023-06-01 00:00:00  2023-07-01 00:00:00  2023-08-01 00:00:00  \\\n",
       "0                  NaN                  4.0                  6.0   \n",
       "1                  NaN                  NaN                  NaN   \n",
       "2                  NaN                  NaN                  NaN   \n",
       "3                  NaN                  NaN                  4.0   \n",
       "4                  NaN                  NaN                  NaN   \n",
       "\n",
       "   2023-09-01 00:00:00  2023-10-01 00:00:00  2023-11-01 00:00:00  \\\n",
       "0                  NaN                  NaN             4.176471   \n",
       "1                  NaN                  NaN                  NaN   \n",
       "2                  NaN                  NaN                  NaN   \n",
       "3                  NaN                  NaN             5.470588   \n",
       "4                  NaN                  NaN                  NaN   \n",
       "\n",
       "   2023-12-01 00:00:00  2024-01-01 00:00:00  \n",
       "0             3.193548             4.035714  \n",
       "1                  NaN                  NaN  \n",
       "2                  NaN                  NaN  \n",
       "3             5.354839             4.064516  \n",
       "4                  NaN                  NaN  \n",
       "\n",
       "[5 rows x 28 columns]"
      ]
     },
     "metadata": {},
     "output_type": "display_data"
    }
   ],
   "source": [
    "import pandas as pd\n",
    "import numpy as np\n",
    "\n",
    "file_path = 'D:/Hangze Wu/BSE/DSDM/semester3/Master Thesis/thesis project/data/Account Products.xlsx'\n",
    "df = pd.read_excel(file_path, sheet_name='ranking_position', skiprows=7)\n",
    "\n",
    "display(df.head())"
   ]
  },
  {
   "cell_type": "code",
   "execution_count": 13,
   "metadata": {},
   "outputs": [
    {
     "name": "stderr",
     "output_type": "stream",
     "text": [
      "C:\\Users\\wuhangze\\AppData\\Local\\Temp\\ipykernel_12720\\2703216551.py:1: FutureWarning: Series.fillna with 'method' is deprecated and will raise in a future version. Use obj.ffill() or obj.bfill() instead.\n",
      "  df['Unnamed: 0'] = df['Unnamed: 0'].fillna(method='ffill')\n"
     ]
    }
   ],
   "source": [
    "df['Unnamed: 0'] = df['Unnamed: 0'].fillna(method='ffill')\n",
    "\n",
    "# Rename the columns for clarity:\n",
    "df.columns = ['Category', 'Bank Name'] + list(df.columns[2:])"
   ]
  },
  {
   "cell_type": "code",
   "execution_count": 14,
   "metadata": {},
   "outputs": [
    {
     "name": "stdout",
     "output_type": "stream",
     "text": [
      "                                   Category  \\\n",
      "0  Best Comission-Free Accounts (Helmycash)   \n",
      "1  Best Comission-Free Accounts (Helmycash)   \n",
      "2  Best Comission-Free Accounts (Helmycash)   \n",
      "3  Best Comission-Free Accounts (Helmycash)   \n",
      "4  Best Comission-Free Accounts (Helmycash)   \n",
      "\n",
      "                              Bank Name       Date  Rank  \n",
      "0     Cuenta Online sin comisiones BBVA 2021-12-01   1.0  \n",
      "1                    Cuenta Nómina ING  2021-12-01   2.0  \n",
      "2  Cuenta Nómina hasta 5% TAE Bankinter 2021-12-01   3.0  \n",
      "3                   Cuenta Clara ABANCA 2021-12-01   4.0  \n",
      "4           Cuenta Online SIN Liberbank 2021-12-01   5.0  \n"
     ]
    }
   ],
   "source": [
    "transformed_df = pd.melt(df, id_vars=['Category', 'Bank Name'], var_name='Date', value_name='Rank')\n",
    "transformed_df['Date'] = pd.to_datetime(transformed_df['Date'])\n",
    "print(transformed_df.head())"
   ]
  },
  {
   "cell_type": "markdown",
   "metadata": {},
   "source": [
    "### Imputing with 0 value"
   ]
  },
  {
   "cell_type": "code",
   "execution_count": 15,
   "metadata": {},
   "outputs": [],
   "source": [
    "#transformed_df['Rank'] = transformed_df['Rank'].fillna(0)\n",
    "#transformed_df.isna().sum()"
   ]
  },
  {
   "cell_type": "code",
   "execution_count": 16,
   "metadata": {},
   "outputs": [
    {
     "data": {
      "text/plain": [
       "\"\\nfrom sklearn.experimental import enable_iterative_imputer\\nfrom sklearn.impute import IterativeImputer\\nimport numpy as np\\n\\n# Convert date to a numerical format if not already done\\ntransformed_df['Date'] = pd.to_datetime(transformed_df['Date']).astype(np.int64)\\n\\n# Ensure that 'Category' and 'Bank Name' are not included if they are non-numeric without encoding\\n# For simplicity here, we only use numeric columns (assuming Date has been transformed to numeric)\\ndf_for_imputation = transformed_df[['Date', 'Rank']]\\n\\n# Initialize the IterativeImputer\\nimputer = IterativeImputer(max_iter=10, random_state=0)\\n\\n# Fit and transform the data\\ndf_for_imputation['Rank'] = imputer.fit_transform(df_for_imputation)\\n\\n# Merge or replace the original 'Rank' column\\ntransformed_df['Rank'] = df_for_imputation['Rank']\\n\\n# Check for any remaining missing values\\nprint(transformed_df.isnull().sum())\\n\\n\""
      ]
     },
     "execution_count": 16,
     "metadata": {},
     "output_type": "execute_result"
    }
   ],
   "source": [
    "'''\n",
    "from sklearn.experimental import enable_iterative_imputer\n",
    "from sklearn.impute import IterativeImputer\n",
    "import numpy as np\n",
    "\n",
    "# Convert date to a numerical format if not already done\n",
    "transformed_df['Date'] = pd.to_datetime(transformed_df['Date']).astype(np.int64)\n",
    "\n",
    "# Ensure that 'Category' and 'Bank Name' are not included if they are non-numeric without encoding\n",
    "# For simplicity here, we only use numeric columns (assuming Date has been transformed to numeric)\n",
    "df_for_imputation = transformed_df[['Date', 'Rank']]\n",
    "\n",
    "# Initialize the IterativeImputer\n",
    "imputer = IterativeImputer(max_iter=10, random_state=0)\n",
    "\n",
    "# Fit and transform the data\n",
    "df_for_imputation['Rank'] = imputer.fit_transform(df_for_imputation)\n",
    "\n",
    "# Merge or replace the original 'Rank' column\n",
    "transformed_df['Rank'] = df_for_imputation['Rank']\n",
    "\n",
    "# Check for any remaining missing values\n",
    "print(transformed_df.isnull().sum())\n",
    "\n",
    "'''"
   ]
  },
  {
   "cell_type": "code",
   "execution_count": 17,
   "metadata": {},
   "outputs": [
    {
     "data": {
      "image/png": "[encoded data removed]",
      "text/plain": [
       "<Figure size 1000x500 with 1 Axes>"
      ]
     },
     "metadata": {},
     "output_type": "display_data"
    }
   ],
   "source": [
    "import matplotlib.pyplot as plt\n",
    "\n",
    "# Example for plotting data for a specific bank and category\n",
    "bank_data = transformed_df[(transformed_df['Bank Name'] == 'Cuenta Online sin comisiones BBVA') &\n",
    "                           (transformed_df['Category'] == 'Best Comission-Free Accounts (Helmycash)')]\n",
    "\n",
    "plt.figure(figsize=(10, 5))\n",
    "plt.plot(bank_data['Date'], bank_data['Rank'], marker='o', linestyle='-')\n",
    "plt.title('Rank Position Over Time for Cuenta Online sin comisiones BBVA')\n",
    "plt.xlabel('Date')\n",
    "plt.ylabel('Rank Position')\n",
    "plt.grid(True)\n",
    "plt.xticks(rotation=45)\n",
    "plt.tight_layout()\n",
    "plt.show()"
   ]
  },
  {
   "cell_type": "code",
   "execution_count": 18,
   "metadata": {},
   "outputs": [
    {
     "name": "stdout",
     "output_type": "stream",
     "text": [
      "count    470.000000\n",
      "mean       4.937191\n",
      "std        2.649911\n",
      "min        1.000000\n",
      "25%        3.000000\n",
      "50%        5.000000\n",
      "75%        7.000000\n",
      "max       11.000000\n",
      "Name: Rank, dtype: float64\n"
     ]
    }
   ],
   "source": [
    "summary = transformed_df['Rank'].describe()\n",
    "print(summary)"
   ]
  },
  {
   "cell_type": "code",
   "execution_count": 33,
   "metadata": {},
   "outputs": [
    {
     "data": {
      "image/png": "[encoded data removed]",
      "text/plain": [
       "<Figure size 640x480 with 1 Axes>"
      ]
     },
     "metadata": {},
     "output_type": "display_data"
    }
   ],
   "source": [
    "import seaborn as sns\n",
    "import matplotlib.pyplot as plt\n",
    "\n",
    "sns.histplot(transformed_df['Rank'], bins=11, color='lightblue', edgecolor='black', kde=False)\n",
    "plt.title('Rank Distribution')\n",
    "plt.xlabel('Rank')\n",
    "plt.ylabel('Frequency')\n",
    "\n",
    "# Set the ticks on the x-axis to cover all ranks from 1 to 11\n",
    "plt.xticks(np.arange(1, 12, step=1))  # This sets ticks at every integer from 1 to 11\n",
    "\n",
    "plt.show()"
   ]
  },
  {
   "cell_type": "markdown",
   "metadata": {},
   "source": [
    "We are able to observed that for rank above 7 is uniform distributed, whereas others are"
   ]
  },
  {
   "cell_type": "markdown",
   "metadata": {},
   "source": [
    "#### Category"
   ]
  },
  {
   "cell_type": "code",
   "execution_count": 20,
   "metadata": {},
   "outputs": [
    {
     "name": "stderr",
     "output_type": "stream",
     "text": [
      "C:\\Users\\wuhangze\\AppData\\Local\\Temp\\ipykernel_12720\\3609543098.py:6: FutureWarning: Series.fillna with 'method' is deprecated and will raise in a future version. Use obj.ffill() or obj.bfill() instead.\n",
      "  filled_categories = categories.fillna(method='ffill')\n"
     ]
    }
   ],
   "source": [
    "# Extract bank names and categories\n",
    "bank_names = df.iloc[0:, 1]  # Bank names are in the second column starting from the second row\n",
    "categories = df.iloc[0:, 0]  # Categories are in the first column for each bank\n",
    "\n",
    "\n",
    "filled_categories = categories.fillna(method='ffill')\n",
    "\n",
    "combined_df = pd.DataFrame({\n",
    "    'Category': filled_categories,\n",
    "    'Bank Name': bank_names\n",
    "})"
   ]
  },
  {
   "cell_type": "code",
   "execution_count": 21,
   "metadata": {},
   "outputs": [
    {
     "name": "stdout",
     "output_type": "stream",
     "text": [
      "Bank Name\n",
      "Cuenta Nómina hasta 5% TAE Bankinter               3\n",
      "Cuenta Clara ABANCA                                3\n",
      "Cuenta Online SIN Liberbank                        2\n",
      "Cuenta Nómina ING                                  2\n",
      "Cuenta Inteligente Bienvenida EVO Banco            2\n",
      "Cuenta Online Sabadell                             2\n",
      "Cuenta Online sin comisiones BBVA                  1\n",
      "Cuenta de Ahorro Bank Norwegian                    1\n",
      "Cuenta de Ahorro Online Nationale Nederlanden      1\n",
      "Cuenta de Ahorro Progretto                         1\n",
      "Cuenta Naranja ING                                 1\n",
      "Cuenta de Ahorro BraBank                           1\n",
      "Cuenta de Ahorro Lea Bank                          1\n",
      "Cuenta PlayStation Unicaja Banco                   1\n",
      "Cuenta Vamos Ibercaja                              1\n",
      "Cuenta de Ahorro Klarna                            1\n",
      "Cuenta Ahorro Trade Republic                       1\n",
      "Cuenta Contigo Renault Bank                        1\n",
      "Cuenta Día a Día Caixabank                         1\n",
      "Cuenta MoneyGo                                     1\n",
      "Cuenta Remunerada Scalable Capital                 1\n",
      "Cuenta de Ahorro N26                               1\n",
      "Cuenta Remunerada EBAN Banco                       1\n",
      "Cuenta de Ahorro CKV                               1\n",
      "Cuenta Remunerada Pibank                           1\n",
      "Cuenta de Ahorro Bienvenida con Nómina Openbank    1\n",
      "Cuenta Ahorro Orange Bank                          1\n",
      "Cuenta Nómina Open Openbank                        1\n",
      "Cuenta Corriente Open Openbank                     1\n",
      "Cuenta N26                                         1\n",
      "Cuenta imagin                                      1\n",
      "Cuenta Revolut                                     1\n",
      "Cuenta Online Banco Sabadell                       1\n",
      "Cuenta Online Banco Santander                      1\n",
      "Cuenta No Cuenta ING                               1\n",
      "Cuenta Nómina Va Contigo BBVA                      1\n",
      "Cuenta 2% MyInvestor                               1\n",
      "Cuenta Nómina N26                                  1\n",
      "Cuenta imagin con Nómina                           1\n",
      "Cuenta Inteligente Bienvenida Nómina EVO Banco     1\n",
      "Cuenta Online Nómina Santander                     1\n",
      "Cuenta Nómina Sin Comisiones BBVA                  1\n",
      "Cuenta Expansión Plus Sabadell                     1\n",
      "Cuenta Evolución Banco Mediolanum                  1\n",
      "Cuenta de Ahorro Distingo Bank                     1\n",
      "Name: count, dtype: int64\n",
      "count                                       53\n",
      "unique                                      45\n",
      "top       Cuenta Nómina hasta 5% TAE Bankinter\n",
      "freq                                         3\n",
      "Name: Bank Name, dtype: object\n"
     ]
    }
   ],
   "source": [
    "value_counts = combined_df['Bank Name'].value_counts()\n",
    "print(value_counts)\n",
    "\n",
    "# Descriptive statistics for a categorical column\n",
    "cat_summary = combined_df['Bank Name'].describe()\n",
    "print(cat_summary)"
   ]
  }
 ],
 "metadata": {
  "kernelspec": {
   "display_name": "Python 3",
   "language": "python",
   "name": "python3"
  },
  "language_info": {
   "codemirror_mode": {
    "name": "ipython",
    "version": 3
   },
   "file_extension": ".py",
   "mimetype": "text/x-python",
   "name": "python",
   "nbconvert_exporter": "python",
   "pygments_lexer": "ipython3",
   "version": "3.12.3"
  }
 },
 "nbformat": 4,
 "nbformat_minor": 2
}
