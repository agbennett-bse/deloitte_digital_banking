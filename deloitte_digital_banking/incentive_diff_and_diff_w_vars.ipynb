{
 "cells": [
  {
   "cell_type": "code",
   "execution_count": 669,
   "metadata": {},
   "outputs": [],
   "source": [
    "import pandas as pd\n",
    "import numpy as np\n",
    "import plotly.express as px\n",
    "import klib as kl\n",
    "\n",
    "# impute missing values with iterative imputer \n",
    "from sklearn.experimental import enable_iterative_imputer\n",
    "from sklearn.impute import IterativeImputer\n",
    "\n",
    "import pandas as pd\n",
    "import numpy as np\n",
    "import statsmodels.api as sm\n",
    "import statsmodels.formula.api as smf"
   ]
  },
  {
   "cell_type": "code",
   "execution_count": 670,
   "metadata": {},
   "outputs": [],
   "source": [
    "products_data = pd.read_csv('data/regression_clean_data_final_1.csv')\n",
    "\n"
   ]
  },
  {
   "cell_type": "code",
   "execution_count": 671,
   "metadata": {},
   "outputs": [
    {
     "data": {
      "text/html": [
       "<div>\n",
       "<style scoped>\n",
       "    .dataframe tbody tr th:only-of-type {\n",
       "        vertical-align: middle;\n",
       "    }\n",
       "\n",
       "    .dataframe tbody tr th {\n",
       "        vertical-align: top;\n",
       "    }\n",
       "\n",
       "    .dataframe thead th {\n",
       "        text-align: right;\n",
       "    }\n",
       "</style>\n",
       "<table border=\"1\" class=\"dataframe\">\n",
       "  <thead>\n",
       "    <tr style=\"text-align: right;\">\n",
       "      <th></th>\n",
       "      <th>month</th>\n",
       "      <th>year</th>\n",
       "      <th>incentive</th>\n",
       "      <th>apr</th>\n",
       "      <th>notes</th>\n",
       "      <th>bank</th>\n",
       "      <th>notes_1</th>\n",
       "      <th>tag</th>\n",
       "      <th>site_changes</th>\n",
       "      <th>date</th>\n",
       "    </tr>\n",
       "  </thead>\n",
       "  <tbody>\n",
       "    <tr>\n",
       "      <th>0</th>\n",
       "      <td>1</td>\n",
       "      <td>2021</td>\n",
       "      <td>0</td>\n",
       "      <td>0.0</td>\n",
       "      <td>NaN</td>\n",
       "      <td>abanca</td>\n",
       "      <td>NaN</td>\n",
       "      <td>NaN</td>\n",
       "      <td>NaN</td>\n",
       "      <td>2021-01-01</td>\n",
       "    </tr>\n",
       "    <tr>\n",
       "      <th>1</th>\n",
       "      <td>6</td>\n",
       "      <td>2021</td>\n",
       "      <td>150</td>\n",
       "      <td>0.0</td>\n",
       "      <td>800-1200 deposit</td>\n",
       "      <td>abanca</td>\n",
       "      <td>NaN</td>\n",
       "      <td>increase incentive</td>\n",
       "      <td>NaN</td>\n",
       "      <td>2021-06-01</td>\n",
       "    </tr>\n",
       "    <tr>\n",
       "      <th>2</th>\n",
       "      <td>8</td>\n",
       "      <td>2021</td>\n",
       "      <td>150</td>\n",
       "      <td>0.0</td>\n",
       "      <td>800-1200 deposit</td>\n",
       "      <td>abanca</td>\n",
       "      <td>NaN</td>\n",
       "      <td>incentive decrease</td>\n",
       "      <td>NaN</td>\n",
       "      <td>2021-08-01</td>\n",
       "    </tr>\n",
       "    <tr>\n",
       "      <th>3</th>\n",
       "      <td>4</td>\n",
       "      <td>2022</td>\n",
       "      <td>300</td>\n",
       "      <td>0.0</td>\n",
       "      <td>if over 1200 deposit</td>\n",
       "      <td>abanca</td>\n",
       "      <td>NaN</td>\n",
       "      <td>incentive increase, apr decrease</td>\n",
       "      <td>NaN</td>\n",
       "      <td>2022-04-01</td>\n",
       "    </tr>\n",
       "    <tr>\n",
       "      <th>4</th>\n",
       "      <td>12</td>\n",
       "      <td>2022</td>\n",
       "      <td>300</td>\n",
       "      <td>0.0</td>\n",
       "      <td>mejor cambia de el sitio</td>\n",
       "      <td>abanca</td>\n",
       "      <td>NaN</td>\n",
       "      <td>NaN</td>\n",
       "      <td>major site change</td>\n",
       "      <td>2022-12-01</td>\n",
       "    </tr>\n",
       "  </tbody>\n",
       "</table>\n",
       "</div>"
      ],
      "text/plain": [
       "   month  year  incentive  apr                     notes    bank notes_1  \\\n",
       "0      1  2021          0  0.0                       NaN  abanca     NaN   \n",
       "1      6  2021        150  0.0          800-1200 deposit  abanca     NaN   \n",
       "2      8  2021        150  0.0          800-1200 deposit  abanca     NaN   \n",
       "3      4  2022        300  0.0      if over 1200 deposit  abanca     NaN   \n",
       "4     12  2022        300  0.0  mejor cambia de el sitio  abanca     NaN   \n",
       "\n",
       "                                tag        site_changes       date  \n",
       "0                               NaN                 NaN 2021-01-01  \n",
       "1                increase incentive                 NaN 2021-06-01  \n",
       "2                incentive decrease                 NaN 2021-08-01  \n",
       "3  incentive increase, apr decrease                 NaN 2022-04-01  \n",
       "4                               NaN  major site change  2022-12-01  "
      ]
     },
     "execution_count": 671,
     "metadata": {},
     "output_type": "execute_result"
    }
   ],
   "source": [
    "data = pd.read_csv('data/site_changes_cleaned.csv')\n",
    "\n",
    "\n",
    "\n",
    "# create a date column from month and year and add day as 1\n",
    "data['date'] = pd.to_datetime(data[['year', 'month']].assign(day=1))\n",
    "data = kl.clean_column_names(data)\n",
    "\n",
    "data.head()"
   ]
  },
  {
   "cell_type": "code",
   "execution_count": 672,
   "metadata": {},
   "outputs": [
    {
     "data": {
      "text/plain": [
       "bank\n",
       "abanca           1500\n",
       "banc sabadell    1050\n",
       "bankinter           0\n",
       "bbva                0\n",
       "evobanco            0\n",
       "myinvestor          0\n",
       "n26                 0\n",
       "openbank            0\n",
       "revolut             0\n",
       "santander         850\n",
       "Name: incentive, dtype: int64"
      ]
     },
     "execution_count": 672,
     "metadata": {},
     "output_type": "execute_result"
    }
   ],
   "source": [
    "data.groupby('bank')['incentive'].sum()"
   ]
  },
  {
   "cell_type": "code",
   "execution_count": 673,
   "metadata": {},
   "outputs": [
    {
     "data": {
      "text/plain": [
       "bank\n",
       "abanca            4.00\n",
       "banc sabadell    14.00\n",
       "bankinter        15.00\n",
       "bbva              6.00\n",
       "evobanco          7.47\n",
       "myinvestor        7.00\n",
       "n26               2.26\n",
       "openbank          5.14\n",
       "revolut           0.00\n",
       "santander         0.00\n",
       "Name: apr, dtype: float64"
      ]
     },
     "execution_count": 673,
     "metadata": {},
     "output_type": "execute_result"
    }
   ],
   "source": [
    "data.groupby('bank')['apr'].sum()"
   ]
  },
  {
   "cell_type": "code",
   "execution_count": 674,
   "metadata": {},
   "outputs": [
    {
     "data": {
      "text/plain": [
       "tag\n",
       "increase incentive                  15\n",
       "increase apr                        15\n",
       "incentive decrease                   3\n",
       "decrease apr                         3\n",
       "incentive decrease, apr increase     2\n",
       "incentive increase, apr decrease     1\n",
       "incentive increase, apr increase     1\n",
       "incentive decrease, apr decrease     1\n",
       "temporary incentive                  1\n",
       "Name: count, dtype: int64"
      ]
     },
     "execution_count": 674,
     "metadata": {},
     "output_type": "execute_result"
    }
   ],
   "source": [
    "data.tag.value_counts()"
   ]
  },
  {
   "cell_type": "code",
   "execution_count": 675,
   "metadata": {},
   "outputs": [
    {
     "data": {
      "text/html": [
       "<div>\n",
       "<style scoped>\n",
       "    .dataframe tbody tr th:only-of-type {\n",
       "        vertical-align: middle;\n",
       "    }\n",
       "\n",
       "    .dataframe tbody tr th {\n",
       "        vertical-align: top;\n",
       "    }\n",
       "\n",
       "    .dataframe thead th {\n",
       "        text-align: right;\n",
       "    }\n",
       "</style>\n",
       "<table border=\"1\" class=\"dataframe\">\n",
       "  <thead>\n",
       "    <tr style=\"text-align: right;\">\n",
       "      <th></th>\n",
       "      <th>month</th>\n",
       "      <th>year</th>\n",
       "      <th>incentive</th>\n",
       "      <th>apr</th>\n",
       "      <th>notes</th>\n",
       "      <th>bank</th>\n",
       "      <th>notes_1</th>\n",
       "      <th>tag</th>\n",
       "      <th>site_changes</th>\n",
       "      <th>date</th>\n",
       "    </tr>\n",
       "  </thead>\n",
       "  <tbody>\n",
       "    <tr>\n",
       "      <th>0</th>\n",
       "      <td>1</td>\n",
       "      <td>2021</td>\n",
       "      <td>0</td>\n",
       "      <td>0.0</td>\n",
       "      <td>NaN</td>\n",
       "      <td>abanca</td>\n",
       "      <td>NaN</td>\n",
       "      <td>NaN</td>\n",
       "      <td>NaN</td>\n",
       "      <td>2021-01-01</td>\n",
       "    </tr>\n",
       "    <tr>\n",
       "      <th>1</th>\n",
       "      <td>6</td>\n",
       "      <td>2021</td>\n",
       "      <td>150</td>\n",
       "      <td>0.0</td>\n",
       "      <td>800-1200 deposit</td>\n",
       "      <td>abanca</td>\n",
       "      <td>NaN</td>\n",
       "      <td>increase incentive</td>\n",
       "      <td>NaN</td>\n",
       "      <td>2021-06-01</td>\n",
       "    </tr>\n",
       "    <tr>\n",
       "      <th>2</th>\n",
       "      <td>8</td>\n",
       "      <td>2021</td>\n",
       "      <td>150</td>\n",
       "      <td>0.0</td>\n",
       "      <td>800-1200 deposit</td>\n",
       "      <td>abanca</td>\n",
       "      <td>NaN</td>\n",
       "      <td>incentive decrease</td>\n",
       "      <td>NaN</td>\n",
       "      <td>2021-08-01</td>\n",
       "    </tr>\n",
       "    <tr>\n",
       "      <th>3</th>\n",
       "      <td>4</td>\n",
       "      <td>2022</td>\n",
       "      <td>300</td>\n",
       "      <td>0.0</td>\n",
       "      <td>if over 1200 deposit</td>\n",
       "      <td>abanca</td>\n",
       "      <td>NaN</td>\n",
       "      <td>incentive increase, apr decrease</td>\n",
       "      <td>NaN</td>\n",
       "      <td>2022-04-01</td>\n",
       "    </tr>\n",
       "    <tr>\n",
       "      <th>4</th>\n",
       "      <td>12</td>\n",
       "      <td>2022</td>\n",
       "      <td>300</td>\n",
       "      <td>0.0</td>\n",
       "      <td>mejor cambia de el sitio</td>\n",
       "      <td>abanca</td>\n",
       "      <td>NaN</td>\n",
       "      <td>NaN</td>\n",
       "      <td>major site change</td>\n",
       "      <td>2022-12-01</td>\n",
       "    </tr>\n",
       "  </tbody>\n",
       "</table>\n",
       "</div>"
      ],
      "text/plain": [
       "   month  year  incentive  apr                     notes    bank notes_1  \\\n",
       "0      1  2021          0  0.0                       NaN  abanca     NaN   \n",
       "1      6  2021        150  0.0          800-1200 deposit  abanca     NaN   \n",
       "2      8  2021        150  0.0          800-1200 deposit  abanca     NaN   \n",
       "3      4  2022        300  0.0      if over 1200 deposit  abanca     NaN   \n",
       "4     12  2022        300  0.0  mejor cambia de el sitio  abanca     NaN   \n",
       "\n",
       "                                tag        site_changes       date  \n",
       "0                               NaN                 NaN 2021-01-01  \n",
       "1                increase incentive                 NaN 2021-06-01  \n",
       "2                incentive decrease                 NaN 2021-08-01  \n",
       "3  incentive increase, apr decrease                 NaN 2022-04-01  \n",
       "4                               NaN  major site change  2022-12-01  "
      ]
     },
     "execution_count": 675,
     "metadata": {},
     "output_type": "execute_result"
    }
   ],
   "source": [
    "data.head()"
   ]
  },
  {
   "cell_type": "code",
   "execution_count": 676,
   "metadata": {},
   "outputs": [
    {
     "data": {
      "text/plain": [
       "tag\n",
       "increase incentive                  15\n",
       "increase apr                        15\n",
       "incentive decrease                   3\n",
       "decrease apr                         3\n",
       "decrease incentive, increase apr     2\n",
       "increase incentive, decrease apr     1\n",
       "increase incentive, increase apr     1\n",
       "decrease incentive, decrease apr     1\n",
       "temporary incentive                  1\n",
       "Name: count, dtype: int64"
      ]
     },
     "execution_count": 676,
     "metadata": {},
     "output_type": "execute_result"
    }
   ],
   "source": [
    "# rename tags\n",
    "\n",
    "data.tag = data.tag.replace({'apr increase':'increase apr', 'incentive increase':'increase incentive', 'decrease incentive':'incentive decrease',  'decrease incentive ':'incentive decrease',\n",
    "'incentive decrease, apr increase':'decrease incentive, increase apr',\n",
    "'incentive increase, apr decrease':'increase incentive, decrease apr',\n",
    "'incentive increase, apr increase':'increase incentive, increase apr',\n",
    "'incentive decrease, apr decrease':'decrease incentive, decrease apr'})\n",
    "\n",
    "       \n",
    "data.tag.value_counts()"
   ]
  },
  {
   "cell_type": "code",
   "execution_count": 677,
   "metadata": {},
   "outputs": [
    {
     "data": {
      "text/html": [
       "<div>\n",
       "<style scoped>\n",
       "    .dataframe tbody tr th:only-of-type {\n",
       "        vertical-align: middle;\n",
       "    }\n",
       "\n",
       "    .dataframe tbody tr th {\n",
       "        vertical-align: top;\n",
       "    }\n",
       "\n",
       "    .dataframe thead th {\n",
       "        text-align: right;\n",
       "    }\n",
       "</style>\n",
       "<table border=\"1\" class=\"dataframe\">\n",
       "  <thead>\n",
       "    <tr style=\"text-align: right;\">\n",
       "      <th></th>\n",
       "      <th>month</th>\n",
       "      <th>year</th>\n",
       "      <th>incentive</th>\n",
       "      <th>apr</th>\n",
       "      <th>notes</th>\n",
       "      <th>bank</th>\n",
       "      <th>notes_1</th>\n",
       "      <th>tag</th>\n",
       "      <th>site_changes</th>\n",
       "      <th>date</th>\n",
       "    </tr>\n",
       "  </thead>\n",
       "  <tbody>\n",
       "    <tr>\n",
       "      <th>0</th>\n",
       "      <td>1</td>\n",
       "      <td>2021</td>\n",
       "      <td>0</td>\n",
       "      <td>0.0</td>\n",
       "      <td>NaN</td>\n",
       "      <td>abanca</td>\n",
       "      <td>NaN</td>\n",
       "      <td>NaN</td>\n",
       "      <td>NaN</td>\n",
       "      <td>2021-01-01</td>\n",
       "    </tr>\n",
       "    <tr>\n",
       "      <th>1</th>\n",
       "      <td>6</td>\n",
       "      <td>2021</td>\n",
       "      <td>150</td>\n",
       "      <td>0.0</td>\n",
       "      <td>800-1200 deposit</td>\n",
       "      <td>abanca</td>\n",
       "      <td>NaN</td>\n",
       "      <td>increase incentive</td>\n",
       "      <td>NaN</td>\n",
       "      <td>2021-06-01</td>\n",
       "    </tr>\n",
       "    <tr>\n",
       "      <th>2</th>\n",
       "      <td>8</td>\n",
       "      <td>2021</td>\n",
       "      <td>150</td>\n",
       "      <td>0.0</td>\n",
       "      <td>800-1200 deposit</td>\n",
       "      <td>abanca</td>\n",
       "      <td>NaN</td>\n",
       "      <td>incentive decrease</td>\n",
       "      <td>NaN</td>\n",
       "      <td>2021-08-01</td>\n",
       "    </tr>\n",
       "    <tr>\n",
       "      <th>3</th>\n",
       "      <td>4</td>\n",
       "      <td>2022</td>\n",
       "      <td>300</td>\n",
       "      <td>0.0</td>\n",
       "      <td>if over 1200 deposit</td>\n",
       "      <td>abanca</td>\n",
       "      <td>NaN</td>\n",
       "      <td>increase incentive, decrease apr</td>\n",
       "      <td>NaN</td>\n",
       "      <td>2022-04-01</td>\n",
       "    </tr>\n",
       "    <tr>\n",
       "      <th>4</th>\n",
       "      <td>12</td>\n",
       "      <td>2022</td>\n",
       "      <td>300</td>\n",
       "      <td>0.0</td>\n",
       "      <td>mejor cambia de el sitio</td>\n",
       "      <td>abanca</td>\n",
       "      <td>NaN</td>\n",
       "      <td>NaN</td>\n",
       "      <td>major site change</td>\n",
       "      <td>2022-12-01</td>\n",
       "    </tr>\n",
       "  </tbody>\n",
       "</table>\n",
       "</div>"
      ],
      "text/plain": [
       "   month  year  incentive  apr                     notes    bank notes_1  \\\n",
       "0      1  2021          0  0.0                       NaN  abanca     NaN   \n",
       "1      6  2021        150  0.0          800-1200 deposit  abanca     NaN   \n",
       "2      8  2021        150  0.0          800-1200 deposit  abanca     NaN   \n",
       "3      4  2022        300  0.0      if over 1200 deposit  abanca     NaN   \n",
       "4     12  2022        300  0.0  mejor cambia de el sitio  abanca     NaN   \n",
       "\n",
       "                                tag        site_changes       date  \n",
       "0                               NaN                 NaN 2021-01-01  \n",
       "1                increase incentive                 NaN 2021-06-01  \n",
       "2                incentive decrease                 NaN 2021-08-01  \n",
       "3  increase incentive, decrease apr                 NaN 2022-04-01  \n",
       "4                               NaN  major site change  2022-12-01  "
      ]
     },
     "execution_count": 677,
     "metadata": {},
     "output_type": "execute_result"
    }
   ],
   "source": [
    "data.head()"
   ]
  },
  {
   "cell_type": "code",
   "execution_count": 678,
   "metadata": {},
   "outputs": [],
   "source": [
    "mapping_dict = {\n",
    "    'abanca': 'abanca',\n",
    "    'banc sabadell': 'banc sabadell',\n",
    "    'bancosabadell': 'banc sabadell',\n",
    "    'bancosantander': 'santander',\n",
    "    'bancsabadell': 'banc sabadell',\n",
    "    'sabadell': 'banc sabadell',\n",
    "    'bank': 'bank',\n",
    "    'bankinter': 'bankinter',\n",
    "    'bbva': 'bbva',\n",
    "    'caixabank': 'caixabank',\n",
    "    'caixa_bank': 'caixabank',\n",
    "    'date': 'date',\n",
    "    'evobanco': 'evobanco',\n",
    "    'evo_banco': 'evobanco',\n",
    "    'imagin': 'imagin',\n",
    "    'ing': 'ing',\n",
    "    'ing-bank': 'ing',\n",
    "    'ing_bank': 'ing',\n",
    "    'kutxabank': 'kutxabank',\n",
    "    'liberbank': 'liberbank',\n",
    "    'myinvestor': 'myinvestor',\n",
    "    'n26': 'n26',\n",
    "    'n26.com': 'n26',\n",
    "    None: None,  # handling nan (not a number)\n",
    "    'openbank': 'openbank',\n",
    "    'orangebank': 'orangebank',\n",
    "    'pibank': 'pibank',\n",
    "    'renaultbank': 'renaultbank',\n",
    "    'revolut': 'revolut',\n",
    "    'santander': 'santander',\n",
    "    'value': 'value'\n",
    "}\n",
    "\n",
    "# map santander to bancosantander in data \n",
    "data.bank = data.bank.map(mapping_dict)\n",
    "products_data.bank = products_data.bank.map(mapping_dict)\n",
    "\n"
   ]
  },
  {
   "cell_type": "markdown",
   "metadata": {},
   "source": [
    "create two lists one for APR and Incentive increases. "
   ]
  },
  {
   "cell_type": "code",
   "execution_count": 679,
   "metadata": {},
   "outputs": [
    {
     "data": {
      "text/html": [
       "<div>\n",
       "<style scoped>\n",
       "    .dataframe tbody tr th:only-of-type {\n",
       "        vertical-align: middle;\n",
       "    }\n",
       "\n",
       "    .dataframe tbody tr th {\n",
       "        vertical-align: top;\n",
       "    }\n",
       "\n",
       "    .dataframe thead th {\n",
       "        text-align: right;\n",
       "    }\n",
       "</style>\n",
       "<table border=\"1\" class=\"dataframe\">\n",
       "  <thead>\n",
       "    <tr style=\"text-align: right;\">\n",
       "      <th></th>\n",
       "      <th>bank</th>\n",
       "      <th>date</th>\n",
       "      <th>web_traffic</th>\n",
       "      <th>cross_visitation</th>\n",
       "      <th>search_interest</th>\n",
       "      <th>rank</th>\n",
       "      <th>incentive</th>\n",
       "      <th>apr</th>\n",
       "      <th>mentions</th>\n",
       "      <th>app_installs</th>\n",
       "      <th>ppc_spend</th>\n",
       "    </tr>\n",
       "  </thead>\n",
       "  <tbody>\n",
       "    <tr>\n",
       "      <th>0</th>\n",
       "      <td>abanca</td>\n",
       "      <td>2021-12-01</td>\n",
       "      <td>15202.983835</td>\n",
       "      <td>0.077994</td>\n",
       "      <td>7.75</td>\n",
       "      <td>4.0</td>\n",
       "      <td>150.0</td>\n",
       "      <td>0.0</td>\n",
       "      <td>1.0</td>\n",
       "      <td>43605.699637</td>\n",
       "      <td>1506.110026</td>\n",
       "    </tr>\n",
       "    <tr>\n",
       "      <th>1</th>\n",
       "      <td>abanca</td>\n",
       "      <td>2022-01-01</td>\n",
       "      <td>42183.913207</td>\n",
       "      <td>0.062500</td>\n",
       "      <td>7.80</td>\n",
       "      <td>4.0</td>\n",
       "      <td>150.0</td>\n",
       "      <td>0.0</td>\n",
       "      <td>1.0</td>\n",
       "      <td>43605.699637</td>\n",
       "      <td>1506.110026</td>\n",
       "    </tr>\n",
       "    <tr>\n",
       "      <th>2</th>\n",
       "      <td>abanca</td>\n",
       "      <td>2022-02-01</td>\n",
       "      <td>34498.153115</td>\n",
       "      <td>0.052288</td>\n",
       "      <td>7.25</td>\n",
       "      <td>4.0</td>\n",
       "      <td>150.0</td>\n",
       "      <td>0.0</td>\n",
       "      <td>2.0</td>\n",
       "      <td>48647.434439</td>\n",
       "      <td>32750.639361</td>\n",
       "    </tr>\n",
       "    <tr>\n",
       "      <th>3</th>\n",
       "      <td>abanca</td>\n",
       "      <td>2022-03-01</td>\n",
       "      <td>34546.319021</td>\n",
       "      <td>0.061503</td>\n",
       "      <td>6.75</td>\n",
       "      <td>4.0</td>\n",
       "      <td>150.0</td>\n",
       "      <td>0.0</td>\n",
       "      <td>2.0</td>\n",
       "      <td>26687.227413</td>\n",
       "      <td>15754.216964</td>\n",
       "    </tr>\n",
       "    <tr>\n",
       "      <th>4</th>\n",
       "      <td>abanca</td>\n",
       "      <td>2022-04-01</td>\n",
       "      <td>40508.288420</td>\n",
       "      <td>0.050222</td>\n",
       "      <td>6.75</td>\n",
       "      <td>4.0</td>\n",
       "      <td>300.0</td>\n",
       "      <td>0.0</td>\n",
       "      <td>2.0</td>\n",
       "      <td>4254.184995</td>\n",
       "      <td>6542.970638</td>\n",
       "    </tr>\n",
       "  </tbody>\n",
       "</table>\n",
       "</div>"
      ],
      "text/plain": [
       "     bank        date   web_traffic  cross_visitation  search_interest  rank  \\\n",
       "0  abanca  2021-12-01  15202.983835          0.077994             7.75   4.0   \n",
       "1  abanca  2022-01-01  42183.913207          0.062500             7.80   4.0   \n",
       "2  abanca  2022-02-01  34498.153115          0.052288             7.25   4.0   \n",
       "3  abanca  2022-03-01  34546.319021          0.061503             6.75   4.0   \n",
       "4  abanca  2022-04-01  40508.288420          0.050222             6.75   4.0   \n",
       "\n",
       "   incentive  apr  mentions  app_installs     ppc_spend  \n",
       "0      150.0  0.0       1.0  43605.699637   1506.110026  \n",
       "1      150.0  0.0       1.0  43605.699637   1506.110026  \n",
       "2      150.0  0.0       2.0  48647.434439  32750.639361  \n",
       "3      150.0  0.0       2.0  26687.227413  15754.216964  \n",
       "4      300.0  0.0       2.0   4254.184995   6542.970638  "
      ]
     },
     "execution_count": 679,
     "metadata": {},
     "output_type": "execute_result"
    }
   ],
   "source": [
    "products_data.head()"
   ]
  },
  {
   "cell_type": "code",
   "execution_count": 680,
   "metadata": {},
   "outputs": [
    {
     "data": {
      "text/plain": [
       "Index(['bank', 'date', 'web_traffic', 'cross_visitation', 'search_interest',\n",
       "       'rank', 'incentive', 'apr', 'mentions', 'app_installs', 'ppc_spend'],\n",
       "      dtype='object')"
      ]
     },
     "execution_count": 680,
     "metadata": {},
     "output_type": "execute_result"
    }
   ],
   "source": [
    "products_data.columns"
   ]
  },
  {
   "cell_type": "code",
   "execution_count": 681,
   "metadata": {},
   "outputs": [],
   "source": [
    "# cast date to datetime\n",
    "products_data['date'] = pd.to_datetime(products_data['date'])\n",
    "\n",
    "# log scale web traffic\n",
    "products_data['web_traffic'] = np.log(products_data['web_traffic'])\n",
    "\n",
    "# create a web_traffic_lag column\n",
    "products_data['web_traffic_lag'] = products_data.groupby('bank')['web_traffic'].shift(1)\n",
    "\n",
    "# deal with the first lag 0 value \n",
    "products_data['web_traffic_lag'] = products_data['web_traffic_lag'].fillna(0)\n",
    "\n",
    "products_data = products_data[['bank', 'date', 'web_traffic_lag', 'web_traffic', 'cross_visitation', 'search_interest',\n",
    "       'rank', 'mentions', 'app_installs', 'ppc_spend']]\n",
    "\n",
    "data['date'] = pd.to_datetime(data['date']) "
   ]
  },
  {
   "cell_type": "code",
   "execution_count": 682,
   "metadata": {},
   "outputs": [],
   "source": [
    "\n",
    "# scale products data with standard scaler\n",
    "from sklearn.preprocessing import StandardScaler\n",
    "\n",
    "scaler = StandardScaler()\n",
    "\n",
    "products_data[['web_traffic', 'web_traffic_lag', 'cross_visitation', 'search_interest', 'rank', 'mentions', 'app_installs', 'ppc_spend']] = scaler.fit_transform(products_data[['web_traffic', 'web_traffic_lag', 'cross_visitation', 'search_interest', 'rank', 'mentions', 'app_installs', 'ppc_spend']])"
   ]
  },
  {
   "cell_type": "code",
   "execution_count": 683,
   "metadata": {},
   "outputs": [],
   "source": [
    "\n",
    "# attach product_data to data\n",
    "data = pd.merge(products_data, data, on=['bank', 'date'], how='left')\n",
    "\n",
    "# drop the 124 row \n",
    "data = data.drop(124)\n",
    "\n",
    "data['date'] = pd.to_datetime(data[['year', 'month']].assign(day=1))\n",
    "\n",
    "\n",
    "# for some reason banks are not having the dates attaching properly to the bank data so we have to re add all of the dates to the banks\n",
    "\n",
    "for bank in data.bank.unique():\n",
    "    data.loc[data.bank == bank, 'date'] = list(products_data.date.unique())\n"
   ]
  },
  {
   "cell_type": "code",
   "execution_count": 684,
   "metadata": {},
   "outputs": [],
   "source": [
    "# log scale web traffic\n",
    "data['web_traffic'] = np.log(data['web_traffic'])\n"
   ]
  },
  {
   "cell_type": "markdown",
   "metadata": {},
   "source": [
    "separate the data into increase apr and increase incentive lists \n"
   ]
  },
  {
   "cell_type": "code",
   "execution_count": 685,
   "metadata": {},
   "outputs": [],
   "source": [
    "\n",
    "data.tag = data.tag.fillna('')\n",
    "apr_increase_dates = data[data.tag.str.contains('increase apr')]\n",
    "incentive_increase_dates = data[data.tag.str.contains('increase incentive')]\n",
    "\n",
    "\n",
    "all_dates = data.date.unique()\n"
   ]
  },
  {
   "cell_type": "code",
   "execution_count": 686,
   "metadata": {},
   "outputs": [],
   "source": [
    "apr_increase_dates = apr_increase_dates[['date', 'bank', 'apr']]\n",
    "incentive_increase_dates = incentive_increase_dates[['date', 'bank', 'incentive']]"
   ]
  },
  {
   "cell_type": "code",
   "execution_count": 687,
   "metadata": {},
   "outputs": [],
   "source": [
    "banks = data.bank.unique()"
   ]
  },
  {
   "cell_type": "markdown",
   "metadata": {},
   "source": [
    "### here we look for similar banks and average the 3 highest correlated banks that are not the bank of interest for the control bank"
   ]
  },
  {
   "cell_type": "code",
   "execution_count": 688,
   "metadata": {},
   "outputs": [],
   "source": [
    "# Function to find top similar banks based on web_traffic similarity\n",
    "def find_similar_banks(selected_bank, data, top_n=3):\n",
    "    # Filter data for the selected bank and its web_traffic time series\n",
    "    selected_series = data[data['bank'] == selected_bank]['web_traffic'].values\n",
    "    \n",
    "    # Calculate Pearson correlation coefficients with other banks\n",
    "    similarities = []\n",
    "    for bank in data['bank'].unique():\n",
    "        if bank == selected_bank:\n",
    "            continue\n",
    "        series = data[data['bank'] == bank]['web_traffic'].values\n",
    "        correlation = np.corrcoef(selected_series, series)[0, 1]  # Pearson correlation coefficient\n",
    "        similarities.append((bank, correlation))\n",
    "    \n",
    "    # Sort banks by correlation coefficient in descending order\n",
    "    similarities.sort(key=lambda x: x[1], reverse=True)\n",
    "    \n",
    "    # Select top N banks (most similar)\n",
    "    top_similar_banks = [similarity[0] for similarity in similarities[:top_n]]\n",
    "    \n",
    "    similar_bank_control = data[data.bank.isin(top_similar_banks)]\n",
    "\n",
    "    return ' x '.join(top_similar_banks), pd.DataFrame(similar_bank_control.groupby('date')[['web_traffic','web_traffic_lag','cross_visitation', 'search_interest',\n",
    "       'rank', 'mentions', 'app_installs', 'ppc_spend']].mean()).reset_index()\n",
    "    "
   ]
  },
  {
   "cell_type": "code",
   "execution_count": 689,
   "metadata": {},
   "outputs": [],
   "source": [
    "bank_control_dict = {}\n",
    "\n",
    "for bank_name in data.bank.unique():\n",
    "    bank_avgs, bank_df = find_similar_banks(bank_name, data, top_n=top_n_)\n",
    "    bank_df['apr'] = 0\n",
    "    bank_df['incentive'] = 0\n",
    "    bank_control_dict[bank_name] = {'bank_avgs': bank_avgs, 'bank_df': bank_df}"
   ]
  },
  {
   "cell_type": "code",
   "execution_count": 690,
   "metadata": {},
   "outputs": [],
   "source": [
    "# control_df_avg = data.loc[data.bank == 'ing']#pd.DataFrame(data.groupby('date')[['web_traffic','web_traffic_lag','cross_visitation', 'search_interest','rank', 'mentions', 'app_installs', 'ppc_spend']].mean()).reset_index()\n",
    "# control_df_avg['apr'] = 0\n",
    "# control_df_avg['incentive'] = 0"
   ]
  },
  {
   "cell_type": "code",
   "execution_count": 691,
   "metadata": {},
   "outputs": [],
   "source": [
    "# reorder columns to match the bank_data columns\n",
    "data = data[['date', 'web_traffic', 'web_traffic_lag', 'cross_visitation', 'search_interest', 'rank', 'mentions', 'app_installs', 'ppc_spend', 'apr', 'incentive', 'tag']]"
   ]
  },
  {
   "cell_type": "markdown",
   "metadata": {},
   "source": [
    "here we create a dictionary for each bank as a key and each value is a dataframe of the bank's data."
   ]
  },
  {
   "cell_type": "code",
   "execution_count": 692,
   "metadata": {},
   "outputs": [
    {
     "data": {
      "text/plain": [
       "{'abanca':       bank       date  web_traffic_lag  web_traffic  cross_visitation  \\\n",
       " 0   abanca 2021-12-01        -4.435833    -0.048002         -0.427429   \n",
       " 1   abanca 2022-01-01         0.166453     1.089653         -0.819808   \n",
       " 2   abanca 2022-02-01         0.654223     0.865440         -1.078425   \n",
       " 3   abanca 2022-03-01         0.558091     0.866995         -0.845045   \n",
       " 4   abanca 2022-04-01         0.558758     1.044470         -1.130745   \n",
       " 5   abanca 2022-05-01         0.634850     0.701919         -0.926270   \n",
       " 6   abanca 2022-06-01         0.487982     0.884320         -1.013821   \n",
       " 7   abanca 2022-07-01         0.566186     1.518390         -0.870214   \n",
       " 8   abanca 2022-08-01         0.838043     1.363675         -0.613364   \n",
       " 9   abanca 2022-09-01         0.771710     1.301022         -0.877671   \n",
       " 10  abanca 2022-10-01         0.744847     1.291716         -0.336700   \n",
       " 11  abanca 2022-11-01         0.740857     1.368661         -0.872920   \n",
       " 12  abanca 2022-12-01         0.773847     1.624917         -0.562407   \n",
       " 13  abanca 2023-01-01         0.883717     1.691354         -0.747996   \n",
       " 14  abanca 2023-02-01         0.912202     1.267370         -0.835749   \n",
       " 15  abanca 2023-03-01         0.730419     1.441376         -1.081908   \n",
       " 16  abanca 2023-04-01         0.805024     1.342920         -1.224695   \n",
       " 17  abanca 2023-05-01         0.762811     1.443103         -1.057402   \n",
       " 18  abanca 2023-06-01         0.805764     1.565224         -1.090432   \n",
       " 19  abanca 2023-07-01         0.858124     1.774513         -0.603980   \n",
       " 20  abanca 2023-08-01         0.947856     1.942870         -0.671003   \n",
       " 21  abanca 2023-09-01         1.020039     1.639516         -0.788422   \n",
       " 22  abanca 2023-10-01         0.889976     1.741038         -0.560814   \n",
       " 23  abanca 2023-11-01         0.933504     1.482858         -0.700105   \n",
       " 24  abanca 2023-12-01         0.822809     1.438371         -0.138496   \n",
       " \n",
       "     search_interest      rank  mentions  app_installs  ppc_spend  apr  \\\n",
       " 0         -0.686943 -0.380274 -0.497102      0.089113  -1.089415  NaN   \n",
       " 1         -0.684625 -0.380274 -0.497102      0.089113  -1.089415  NaN   \n",
       " 2         -0.710122 -0.380274 -0.071236      0.224657   0.256398  NaN   \n",
       " 3         -0.733302 -0.380274 -0.071236     -0.365729  -0.475698  NaN   \n",
       " 4         -0.733302 -0.380274 -0.071236     -0.968828  -0.872459  NaN   \n",
       " 5         -0.703168 -0.600442 -0.071236     -0.064996   0.403430  NaN   \n",
       " 6         -0.652174 -0.380274 -0.922968      2.374108   0.043365  NaN   \n",
       " 7         -0.666081 -0.160105 -0.497102      2.968629   0.339074  NaN   \n",
       " 8         -0.721712 -0.160105 -0.922968      1.829412   0.492094  NaN   \n",
       " 9         -0.675353  0.060063  0.354630      1.020860  -0.146120  NaN   \n",
       " 10        -0.693897  0.060063 -0.922968      0.361843  -0.405046  NaN   \n",
       " 11        -0.710122 -0.380274 -0.922968      0.450581   0.186764  NaN   \n",
       " 12        -0.710122  0.060063 -0.497102     -0.398403  -0.119091  NaN   \n",
       " 13        -0.703168 -0.600442 -0.922968     -0.401215  -0.395049  NaN   \n",
       " 14        -0.721712 -0.600442 -0.922968     -0.555138  -0.436297  NaN   \n",
       " 15        -0.721712  0.206842 -0.497102     -0.477745  -0.053508  NaN   \n",
       " 16        -0.703168  0.206842  0.354630     -0.505697   0.289744  NaN   \n",
       " 17        -0.744891  0.206842 -0.497102     -0.531671   0.238926  NaN   \n",
       " 18        -0.710122  0.206842 -0.497102     -0.515928  -0.105182  NaN   \n",
       " 19        -0.703168  0.206842 -0.497102     -0.596886  -0.123410  2.0   \n",
       " 20        -0.744891  0.280232 -0.497102     -0.663631  -0.380017  NaN   \n",
       " 21        -0.733302  0.280232 -0.922968     -0.615222  -0.339139  NaN   \n",
       " 22        -0.721712  0.280232 -0.497102     -0.536046  -0.118657  NaN   \n",
       " 23        -0.733302 -0.276665 -0.497102     -0.601534  -0.219884  NaN   \n",
       " 24        -0.721712 -0.302149 -0.922968     -0.630536  -0.373436  2.0   \n",
       " \n",
       "     incentive  \n",
       " 0         NaN  \n",
       " 1         NaN  \n",
       " 2         NaN  \n",
       " 3         NaN  \n",
       " 4       300.0  \n",
       " 5         NaN  \n",
       " 6         NaN  \n",
       " 7         NaN  \n",
       " 8         NaN  \n",
       " 9         NaN  \n",
       " 10        NaN  \n",
       " 11        NaN  \n",
       " 12        NaN  \n",
       " 13        NaN  \n",
       " 14        NaN  \n",
       " 15        NaN  \n",
       " 16        NaN  \n",
       " 17        NaN  \n",
       " 18        NaN  \n",
       " 19        NaN  \n",
       " 20        NaN  \n",
       " 21        NaN  \n",
       " 22        NaN  \n",
       " 23        NaN  \n",
       " 24        NaN  ,\n",
       " 'n26':    bank       date  web_traffic_lag  web_traffic  cross_visitation  \\\n",
       " 0   n26 2021-12-01        -4.435833    -0.667258         -0.700677   \n",
       " 1   n26 2022-01-01        -0.099053    -0.757329         -0.408969   \n",
       " 2   n26 2022-02-01        -0.137670    -0.741002         -0.997669   \n",
       " 3   n26 2022-03-01        -0.130670    -0.786092         -0.970545   \n",
       " 4   n26 2022-04-01        -0.150003    -0.785430         -1.079273   \n",
       " 5   n26 2022-05-01        -0.149719    -0.668856         -1.019313   \n",
       " 6   n26 2022-06-01        -0.099737    -0.622274         -1.127663   \n",
       " 7   n26 2022-07-01        -0.079766    -0.636442         -1.259582   \n",
       " 8   n26 2022-08-01        -0.085840    -0.726576         -1.024032   \n",
       " 9   n26 2022-09-01        -0.124485    -0.834573         -1.138463   \n",
       " 10  n26 2022-10-01        -0.170789    -0.787329         -1.326285   \n",
       " 11  n26 2022-11-01        -0.150533    -0.686637         -0.934499   \n",
       " 12  n26 2022-12-01        -0.107361    -0.814323         -0.879912   \n",
       " 13  n26 2023-01-01        -0.162107    -0.959343         -0.886487   \n",
       " 14  n26 2023-02-01        -0.224284    -0.906253         -1.320332   \n",
       " 15  n26 2023-03-01        -0.201522    -0.942014         -1.343859   \n",
       " 16  n26 2023-04-01        -0.216854    -0.895643         -1.334675   \n",
       " 17  n26 2023-05-01        -0.196973    -1.085662         -1.157696   \n",
       " 18  n26 2023-06-01        -0.278443    -0.778719         -0.917901   \n",
       " 19  n26 2023-07-01        -0.146842    -0.232372         -0.285170   \n",
       " 20  n26 2023-08-01         0.087405    -0.482373         -0.646996   \n",
       " 21  n26 2023-09-01        -0.019783    -0.885876         -1.051160   \n",
       " 22  n26 2023-10-01        -0.192785    -0.827128         -0.909774   \n",
       " 23  n26 2023-11-01        -0.167597    -0.868346         -0.477344   \n",
       " 24  n26 2023-12-01        -0.185269    -0.615953         -0.066122   \n",
       " \n",
       "     search_interest      rank  mentions  app_installs  ppc_spend   apr  \\\n",
       " 0         -0.999866  0.940737 -0.071236     -0.869741  -1.120646   NaN   \n",
       " 1         -0.999866  0.940737 -0.071236     -0.869741  -1.120646   NaN   \n",
       " 2         -0.999866  0.940737 -0.071236     -0.869741  -1.120646   NaN   \n",
       " 3         -0.999866  0.940737 -0.497102     -0.895072  -1.106451   NaN   \n",
       " 4         -0.999866  0.940737 -0.497102     -0.979425  -1.060673   NaN   \n",
       " 5         -0.999866  0.940737 -0.071236     -0.872043  -1.119474   NaN   \n",
       " 6         -0.999866  0.280232 -0.497102     -0.810719  -1.152229   NaN   \n",
       " 7         -0.999866  0.280232 -0.922968     -0.810031  -0.980397   NaN   \n",
       " 8         -0.999866  1.381073 -0.922968     -0.839631  -0.788843   NaN   \n",
       " 9         -0.999866  1.601242  1.206362     -0.837575  -0.470207   NaN   \n",
       " 10        -0.999866  1.601242 -0.497102     -0.809559  -1.105098   NaN   \n",
       " 11        -0.999866  1.160905 -0.922968     -0.845917  -1.123830   NaN   \n",
       " 12        -0.999866  1.160905  0.354630     -0.845759  -1.120785   NaN   \n",
       " 13        -0.999866  1.601242  0.354630     -0.868131  -1.124554   NaN   \n",
       " 14        -0.999866  1.601242 -0.071236     -0.867439  -1.121819   NaN   \n",
       " 15        -0.999866  1.381073 -0.497102     -0.861434  -1.111676   NaN   \n",
       " 16        -0.999866  1.381073 -0.071236     -0.890648  -1.113752   NaN   \n",
       " 17        -0.988276  1.381073  0.780496     -0.826435  -1.126285   NaN   \n",
       " 18        -0.988276  1.381073 -0.071236     -0.800707  -1.111871   NaN   \n",
       " 19        -0.962779  1.381073 -0.497102     -0.834561  -0.823170  2.26   \n",
       " 20        -0.965096  1.087516 -0.497102     -0.803349  -0.872282   NaN   \n",
       " 21        -0.965096  1.087516 -0.922968     -0.807656  -0.962767   NaN   \n",
       " 22        -0.981322  1.087516  1.206362     -0.720475  -0.950627   NaN   \n",
       " 23        -0.988276  1.160905 -0.071236     -0.744668  -1.019720   NaN   \n",
       " 24        -0.981322  1.160905 -0.497102     -0.657555  -0.940548   NaN   \n",
       " \n",
       "     incentive  \n",
       " 0         NaN  \n",
       " 1         NaN  \n",
       " 2         NaN  \n",
       " 3         NaN  \n",
       " 4         NaN  \n",
       " 5         NaN  \n",
       " 6         NaN  \n",
       " 7         NaN  \n",
       " 8         NaN  \n",
       " 9         NaN  \n",
       " 10        NaN  \n",
       " 11        NaN  \n",
       " 12        NaN  \n",
       " 13        NaN  \n",
       " 14        NaN  \n",
       " 15        NaN  \n",
       " 16        NaN  \n",
       " 17        NaN  \n",
       " 18        NaN  \n",
       " 19        NaN  \n",
       " 20        NaN  \n",
       " 21        NaN  \n",
       " 22        NaN  \n",
       " 23        NaN  \n",
       " 24        NaN  ,\n",
       " 'banc sabadell':              bank       date  web_traffic_lag  web_traffic  cross_visitation  \\\n",
       " 0   banc sabadell 2021-12-01        -4.435833     0.258630         -0.624080   \n",
       " 1   banc sabadell 2022-01-01         0.297922     0.258630         -0.260031   \n",
       " 2   banc sabadell 2022-02-01         0.297922     0.258630         -0.892725   \n",
       " 3   banc sabadell 2022-03-01         0.297922     0.258630         -0.689373   \n",
       " 4   banc sabadell 2022-04-01         0.297922     0.258630         -0.781634   \n",
       " 5   banc sabadell 2022-05-01         0.297922    -0.287192         -0.741090   \n",
       " 6   banc sabadell 2022-06-01         0.063901     0.623434         -0.740878   \n",
       " 7   banc sabadell 2022-07-01         0.454331     0.837738         -0.458164   \n",
       " 8   banc sabadell 2022-08-01         0.546214     0.924726         -0.399363   \n",
       " 9   banc sabadell 2022-09-01         0.583510     1.033243         -0.495217   \n",
       " 10  banc sabadell 2022-10-01         0.630037     0.150437         -0.602755   \n",
       " 11  banc sabadell 2022-11-01         0.251534     0.788012         -0.501023   \n",
       " 12  banc sabadell 2022-12-01         0.524894     1.137156          0.187081   \n",
       " 13  banc sabadell 2023-01-01         0.674589     1.524548         -0.061477   \n",
       " 14  banc sabadell 2023-02-01         0.840684     1.165065         -0.323262   \n",
       " 15  banc sabadell 2023-03-01         0.686555     1.166064         -0.393045   \n",
       " 16  banc sabadell 2023-04-01         0.686984     0.767807         -0.342382   \n",
       " 17  banc sabadell 2023-05-01         0.516231     1.040187         -0.440320   \n",
       " 18  banc sabadell 2023-06-01         0.633014     0.897814         -0.327205   \n",
       " 19  banc sabadell 2023-07-01         0.571972     0.329578         -0.078775   \n",
       " 20  banc sabadell 2023-08-01         0.328341     0.152602         -0.051048   \n",
       " 21  banc sabadell 2023-09-01         0.252462    -0.350277         -0.219941   \n",
       " 22  banc sabadell 2023-10-01         0.036853     0.006518          0.112127   \n",
       " 23  banc sabadell 2023-11-01         0.189829     0.691673         -0.079260   \n",
       " 24  banc sabadell 2023-12-01         0.483589     0.826567          1.177944   \n",
       " \n",
       "     search_interest      rank  mentions  app_installs  ppc_spend  apr  \\\n",
       " 0          0.518390 -1.260947 -0.922968     -0.313054  -1.002157  NaN   \n",
       " 1          0.511436 -1.260947 -0.922968     -0.313054  -1.002157  NaN   \n",
       " 2          0.356134 -1.260947 -0.922968     -0.313054  -1.002157  NaN   \n",
       " 3          0.321364 -1.260947 -0.922968     -0.313054  -1.002157  NaN   \n",
       " 4          0.275006 -1.260947 -0.922968     -0.675524  -0.098392  NaN   \n",
       " 5          0.400175 -0.820610 -0.922968     -0.005259  -0.571041  NaN   \n",
       " 6          0.483621 -1.260947 -0.922968      0.017207   0.153672  NaN   \n",
       " 7          0.529980 -1.260947 -0.922968      0.319390   2.523540  NaN   \n",
       " 8          0.205467 -0.380274 -0.922968      0.509879   1.698135  1.0   \n",
       " 9          0.437262 -0.380274 -0.922968      0.880102   1.985857  NaN   \n",
       " 10         0.316729 -0.380274 -0.922968      0.165512   1.236541  NaN   \n",
       " 11         0.309775 -0.086716 -0.922968      0.105958   1.230691  2.0   \n",
       " 12         0.228647 -0.967389 -0.922968      0.113754   1.080032  NaN   \n",
       " 13         0.409446 -1.260947 -0.922968      0.263293   0.908703  2.0   \n",
       " 14         0.344544  0.206842 -0.922968      0.166353   0.586680  NaN   \n",
       " 15         0.402493 -0.527053 -0.922968      0.255775   0.001298  NaN   \n",
       " 16         0.298185 -0.527053 -0.922968      0.061285  -0.197562  NaN   \n",
       " 17         0.228647 -0.527053 -0.922968      0.187415   0.914241  2.5   \n",
       " 18         0.309775 -0.527053 -0.922968      0.182233   0.488578  NaN   \n",
       " 19         0.363088 -0.673831 -0.922968      0.239940  -0.017973  NaN   \n",
       " 20        -0.026328 -0.673831 -0.922968      0.034926   0.736935  NaN   \n",
       " 21         0.112749 -0.673831 -0.922968      0.079093  -0.107863  NaN   \n",
       " 22         0.140565 -0.673831 -0.922968      0.369275   0.526203  NaN   \n",
       " 23         0.193877 -1.299800 -0.922968      0.464351   1.790687  NaN   \n",
       " 24         0.149836 -1.204130 -0.922968      0.201886   1.781257  NaN   \n",
       " \n",
       "     incentive  \n",
       " 0         NaN  \n",
       " 1         NaN  \n",
       " 2         NaN  \n",
       " 3         NaN  \n",
       " 4         NaN  \n",
       " 5         NaN  \n",
       " 6         NaN  \n",
       " 7         NaN  \n",
       " 8        50.0  \n",
       " 9         0.0  \n",
       " 10        NaN  \n",
       " 11        NaN  \n",
       " 12        NaN  \n",
       " 13        NaN  \n",
       " 14        NaN  \n",
       " 15        NaN  \n",
       " 16      250.0  \n",
       " 17        NaN  \n",
       " 18        NaN  \n",
       " 19        NaN  \n",
       " 20        NaN  \n",
       " 21        NaN  \n",
       " 22        NaN  \n",
       " 23        NaN  \n",
       " 24        NaN  ,\n",
       " 'ing':    bank       date  web_traffic_lag  web_traffic  cross_visitation  \\\n",
       " 0   ing 2021-12-01        -4.435833     1.040338          0.657981   \n",
       " 1   ing 2022-01-01         0.633079     0.794502          0.668486   \n",
       " 2   ing 2022-02-01         0.527677     1.040338          0.094503   \n",
       " 3   ing 2022-03-01         0.633079     1.040338          0.650404   \n",
       " 4   ing 2022-04-01         0.633079     1.040338          0.498057   \n",
       " 5   ing 2022-05-01         0.633079     0.832291          0.822832   \n",
       " 6   ing 2022-06-01         0.543879     0.848671          0.470068   \n",
       " 7   ing 2022-07-01         0.550902     0.373503          1.862286   \n",
       " 8   ing 2022-08-01         0.347174     0.707641          0.952202   \n",
       " 9   ing 2022-09-01         0.490435     1.296228          0.779706   \n",
       " 10  ing 2022-10-01         0.742792     0.944394          1.263841   \n",
       " 11  ing 2022-11-01         0.591943     0.552754          1.603270   \n",
       " 12  ing 2022-12-01         0.424027     0.632520          0.553083   \n",
       " 13  ing 2023-01-01         0.458227     0.617351          0.642193   \n",
       " 14  ing 2023-02-01         0.451723     0.551194          0.696524   \n",
       " 15  ing 2023-03-01         0.423359     0.308677          0.921489   \n",
       " 16  ing 2023-04-01         0.319379     0.089186         -0.016688   \n",
       " 17  ing 2023-05-01         0.225273     0.237736          2.344734   \n",
       " 18  ing 2023-06-01         0.288963     0.099797          0.311484   \n",
       " 19  ing 2023-07-01         0.229822     0.567807          0.596646   \n",
       " 20  ing 2023-08-01         0.430481     0.154454          0.954579   \n",
       " 21  ing 2023-09-01         0.253256     0.286961          1.334761   \n",
       " 22  ing 2023-10-01         0.310069     0.095990          0.797857   \n",
       " 23  ing 2023-11-01         0.228190     0.323190          0.612967   \n",
       " 24  ing 2023-12-01         0.325602    -0.142267          1.394009   \n",
       " \n",
       "     search_interest      rank  mentions  app_installs  ppc_spend  apr  \\\n",
       " 0          0.135929  0.060063  2.058094     -0.343676  -0.447164  NaN   \n",
       " 1          0.049006  0.060063  0.780496     -0.733572  -0.208238  NaN   \n",
       " 2          0.135929  0.060063  2.058094     -0.343676  -0.447164  NaN   \n",
       " 3          0.049006  0.060063  0.780496     -0.733572  -0.208238  NaN   \n",
       " 4          1.034133  0.060063  0.780496     -0.640709   0.709808  NaN   \n",
       " 5          1.584646 -0.233495  1.632228      0.047399   0.055437  NaN   \n",
       " 6          1.034133 -1.260947  0.780496      0.007904  -0.298016  NaN   \n",
       " 7          1.034133 -1.701284  0.780496      0.018343  -0.141508  NaN   \n",
       " 8          1.034133 -1.701284  0.780496      0.103791   0.213534  NaN   \n",
       " 9          1.584646 -1.701284  2.058094      0.297298  -0.031088  NaN   \n",
       " 10        -0.843404 -1.701284  1.206362      0.383714  -0.225522  NaN   \n",
       " 11        -0.721712 -1.260947 -0.071236      0.237369  -0.078937  NaN   \n",
       " 12        -0.843404  0.500400  1.206362      0.134016  -0.191059  NaN   \n",
       " 13         1.584646 -0.160105  2.483960      0.213901   0.242892  NaN   \n",
       " 14         1.034133 -0.380274  0.780496      0.113449   0.022439  NaN   \n",
       " 15         1.584646  0.720568  4.187425      0.255683   0.260822  NaN   \n",
       " 16        -0.721712  0.720568 -0.071236      0.211945   0.591733  NaN   \n",
       " 17         1.584646  0.720568  3.761558      0.129522   0.934410  NaN   \n",
       " 18         1.584646  0.720568  2.483960      0.244772   1.127687  NaN   \n",
       " 19        -0.843404 -0.600442  1.206362      0.250022   0.557114  NaN   \n",
       " 20         1.584646 -0.160105  1.632228      0.048471   0.662649  NaN   \n",
       " 21         1.584646 -0.160105  2.483960      0.083763   1.380793  NaN   \n",
       " 22         1.584646 -0.160105  2.909826      0.331637   1.864787  NaN   \n",
       " 23         1.584646  0.461547  4.613291      0.331115   4.205738  NaN   \n",
       " 24        -0.843404  0.592729  1.206362     -0.047923   1.389217  NaN   \n",
       " \n",
       "     incentive  \n",
       " 0         NaN  \n",
       " 1         NaN  \n",
       " 2         NaN  \n",
       " 3         NaN  \n",
       " 4         NaN  \n",
       " 5         NaN  \n",
       " 6         NaN  \n",
       " 7         NaN  \n",
       " 8         NaN  \n",
       " 9         NaN  \n",
       " 10        NaN  \n",
       " 11        NaN  \n",
       " 12        NaN  \n",
       " 13        NaN  \n",
       " 14        NaN  \n",
       " 15        NaN  \n",
       " 16        NaN  \n",
       " 17        NaN  \n",
       " 18        NaN  \n",
       " 19        NaN  \n",
       " 20        NaN  \n",
       " 21        NaN  \n",
       " 22        NaN  \n",
       " 23        NaN  \n",
       " 24        NaN  ,\n",
       " 'bbva':     bank       date  web_traffic_lag  web_traffic  cross_visitation  \\\n",
       " 0   bbva 2021-12-01        -4.435833     1.172772          2.568702   \n",
       " 1   bbva 2022-01-01         0.689860     0.982169          1.912045   \n",
       " 2   bbva 2022-02-01         0.608139     1.057330          2.473204   \n",
       " 3   bbva 2022-03-01         0.640364     1.135894          2.027331   \n",
       " 4   bbva 2022-04-01         0.674048     1.051989          2.193232   \n",
       " 5   bbva 2022-05-01         0.638074     1.147726          1.671522   \n",
       " 6   bbva 2022-06-01         0.679121     0.685650          1.888385   \n",
       " 7   bbva 2022-07-01         0.481007     1.259241          1.964314   \n",
       " 8   bbva 2022-08-01         0.726933     1.256738          2.069241   \n",
       " 9   bbva 2022-09-01         0.725860     0.941153          2.033424   \n",
       " 10  bbva 2022-10-01         0.590553     1.157432          1.824562   \n",
       " 11  bbva 2022-11-01         0.683283     0.928368          2.108896   \n",
       " 12  bbva 2022-12-01         0.585072     1.074437          2.587539   \n",
       " 13  bbva 2023-01-01         0.647699     0.888556          2.415903   \n",
       " 14  bbva 2023-02-01         0.568002     0.619251          2.476324   \n",
       " 15  bbva 2023-03-01         0.452538     0.692973          2.001327   \n",
       " 16  bbva 2023-04-01         0.484146     0.582984          1.499609   \n",
       " 17  bbva 2023-05-01         0.436989     0.826955          2.097213   \n",
       " 18  bbva 2023-06-01         0.541591     0.819405          2.009340   \n",
       " 19  bbva 2023-07-01         0.538354     1.030532          2.447185   \n",
       " 20  bbva 2023-08-01         0.628875     0.838953          1.746556   \n",
       " 21  bbva 2023-09-01         0.546735     2.079795          2.467422   \n",
       " 22  bbva 2023-10-01         1.078746     0.568277          2.413055   \n",
       " 23  bbva 2023-11-01         0.430683     0.810842          2.178507   \n",
       " 24  bbva 2023-12-01         0.534683     0.696992          2.246614   \n",
       " \n",
       "     search_interest      rank  mentions  app_installs  ppc_spend  apr  \\\n",
       " 0          1.086287 -0.820610  0.780496     -0.316403   0.205896  NaN   \n",
       " 1          1.160462 -0.820610 -0.922968     -0.313054  -1.002157  NaN   \n",
       " 2          1.179005 -0.600442  2.058094     -0.343676  -0.447164  NaN   \n",
       " 3          0.981980 -0.600442  0.780496     -0.316403   0.205896  NaN   \n",
       " 4          0.958800 -0.600442 -0.497102      0.273209   0.860013  NaN   \n",
       " 5          1.067744 -1.040779  0.780496      1.991819   2.016592  NaN   \n",
       " 6          1.225364  0.940737 -0.497102      2.048625   1.693914  NaN   \n",
       " 7          1.216092 -0.600442 -0.071236      1.942457   1.741703  NaN   \n",
       " 8          0.819723  0.060063 -0.071236      1.858827   1.063977  NaN   \n",
       " 9          1.028339  0.060063 -0.071236      2.461163   1.513445  NaN   \n",
       " 10         1.086287  0.060063 -0.497102      2.145621   0.739617  NaN   \n",
       " 11         1.016749 -0.820610 -0.922968      2.006070   1.016913  NaN   \n",
       " 12         0.900851 -0.820610 -0.922968      1.959057   1.300210  NaN   \n",
       " 13         1.104831 -0.160105 -0.922968      3.050823   1.379332  NaN   \n",
       " 14         1.097877 -0.600442 -0.922968      1.748000   1.068876  NaN   \n",
       " 15         1.132646  0.280232 -0.922968      1.941726   1.426857  NaN   \n",
       " 16         1.373713  0.280232  0.354630      1.746754   0.637602  NaN   \n",
       " 17         1.410800  0.280232  0.354630      2.311757   1.598161  NaN   \n",
       " 18         1.179005  0.280232 -0.497102      2.223865   1.274954  NaN   \n",
       " 19         1.123374 -0.380274 -0.497102      2.041646   2.905535  NaN   \n",
       " 20         1.341261  0.060063 -0.497102      1.665205   1.449916  NaN   \n",
       " 21         1.584646  0.060063 -0.071236      1.734352   1.302042  NaN   \n",
       " 22         1.549877  0.060063  0.354630      2.097815   1.389281  NaN   \n",
       " 23         1.433979 -0.341420  0.780496      1.722841   2.161400  NaN   \n",
       " 24         0.984298 -0.557829 -0.497102      1.433295   1.807410  NaN   \n",
       " \n",
       "     incentive  \n",
       " 0         NaN  \n",
       " 1         NaN  \n",
       " 2         NaN  \n",
       " 3         NaN  \n",
       " 4         NaN  \n",
       " 5         NaN  \n",
       " 6         NaN  \n",
       " 7         0.0  \n",
       " 8         NaN  \n",
       " 9         NaN  \n",
       " 10        NaN  \n",
       " 11        NaN  \n",
       " 12        NaN  \n",
       " 13        NaN  \n",
       " 14        NaN  \n",
       " 15        0.0  \n",
       " 16        NaN  \n",
       " 17        NaN  \n",
       " 18        NaN  \n",
       " 19        0.0  \n",
       " 20        NaN  \n",
       " 21        NaN  \n",
       " 22        NaN  \n",
       " 23        0.0  \n",
       " 24        NaN  ,\n",
       " 'revolut':        bank       date  web_traffic_lag  web_traffic  cross_visitation  \\\n",
       " 0   revolut 2021-12-01        -4.435833    -2.752691         -0.604405   \n",
       " 1   revolut 2022-01-01        -0.993181    -2.606977         -1.065575   \n",
       " 2   revolut 2022-02-01        -0.930706    -2.785384         -1.161183   \n",
       " 3   revolut 2022-03-01        -1.007199    -2.970300         -1.109126   \n",
       " 4   revolut 2022-04-01        -1.086481    -3.058651         -1.258686   \n",
       " 5   revolut 2022-05-01        -1.124362    -2.524748         -1.196651   \n",
       " 6   revolut 2022-06-01        -0.895451    -2.823106         -0.918542   \n",
       " 7   revolut 2022-07-01        -1.023372    -1.977625         -0.798543   \n",
       " 8   revolut 2022-08-01        -0.660872    -1.380037         -0.437115   \n",
       " 9   revolut 2022-09-01        -0.404656    -0.628374         -1.096159   \n",
       " 10  revolut 2022-10-01        -0.082381    -1.001536         -1.202665   \n",
       " 11  revolut 2022-11-01        -0.242374    -0.705464         -0.847029   \n",
       " 12  revolut 2022-12-01        -0.115433    -1.144258         -0.872920   \n",
       " 13  revolut 2023-01-01        -0.303566    -0.772742         -1.235867   \n",
       " 14  revolut 2023-02-01        -0.144279    -0.808997         -0.569148   \n",
       " 15  revolut 2023-03-01        -0.159823    -0.972124         -1.071774   \n",
       " 16  revolut 2023-04-01        -0.229764    -1.407292         -1.079661   \n",
       " 17  revolut 2023-05-01        -0.416342    -0.912670         -0.976809   \n",
       " 18  revolut 2023-06-01        -0.204273    -1.159688         -0.930232   \n",
       " 19  revolut 2023-07-01        -0.310182    -0.518876         -0.485077   \n",
       " 20  revolut 2023-08-01        -0.035434     0.039565         -0.424981   \n",
       " 21  revolut 2023-09-01         0.203998    -0.581212         -0.719171   \n",
       " 22  revolut 2023-10-01        -0.062160    -0.620744         -0.249160   \n",
       " 23  revolut 2023-11-01        -0.079110    -0.783813         -0.487299   \n",
       " 24  revolut 2023-12-01        -0.149026    -0.670154          0.121947   \n",
       " \n",
       "     search_interest      rank  mentions  app_installs  ppc_spend  apr  \\\n",
       " 0         -0.686943 -0.557829 -0.922968      2.101760   0.267729  NaN   \n",
       " 1         -0.686943 -0.557829 -0.922968      2.101760   0.267729  NaN   \n",
       " 2         -0.685784 -0.557829 -0.497102      1.285113   0.109991  NaN   \n",
       " 3         -0.685784 -0.557829 -0.497102      1.285113   0.109991  NaN   \n",
       " 4          0.514913 -0.557829 -0.922968     -0.550132  -1.047394  NaN   \n",
       " 5          0.437262  0.500400 -0.922968     -0.075975  -0.956921  NaN   \n",
       " 6          0.437262  0.940737 -0.922968     -0.235529  -0.737767  NaN   \n",
       " 7          0.437262  0.940737 -0.922968      0.010108  -0.706267  NaN   \n",
       " 8          0.437262  1.821410 -0.922968      0.033789  -1.077100  NaN   \n",
       " 9         -0.685784  2.261747 -0.497102      0.085109  -1.140824  NaN   \n",
       " 10         0.437262  2.261747 -0.922968      0.115897  -1.050213  NaN   \n",
       " 11         0.437262  0.940737 -0.922968      0.076797  -1.082125  NaN   \n",
       " 12        -0.721712  0.940737 -0.071236     -0.092798  -0.931009  NaN   \n",
       " 13         0.437262  1.381073 -0.922968     -0.058204  -1.016105  NaN   \n",
       " 14         0.437262  1.381073 -0.922968      0.481797  -1.044449  NaN   \n",
       " 15         0.437262  1.381073 -0.922968      0.219037  -0.978361  NaN   \n",
       " 16        -0.685784  1.381073 -0.497102      0.093118  -1.038005  NaN   \n",
       " 17        -0.843404  1.381073 -0.497102      0.357488  -0.990993  NaN   \n",
       " 18        -0.721712  1.381073 -0.071236      0.242147  -1.010267  NaN   \n",
       " 19        -0.843404  1.381073 -0.497102      0.971365  -0.714583  NaN   \n",
       " 20        -0.721712  0.940737 -0.071236      2.286791  -0.502754  NaN   \n",
       " 21        -0.843404  0.940737 -0.497102      1.107595  -0.910312  NaN   \n",
       " 22        -0.843404  0.940737 -0.497102      1.381350  -0.834821  NaN   \n",
       " 23         0.514913  1.381073 -0.922968      1.942902  -0.088864  NaN   \n",
       " 24        -0.721712  1.196416 -0.071236      1.520743   0.151346  NaN   \n",
       " \n",
       "     incentive  \n",
       " 0         NaN  \n",
       " 1         NaN  \n",
       " 2         NaN  \n",
       " 3         NaN  \n",
       " 4         NaN  \n",
       " 5         NaN  \n",
       " 6         NaN  \n",
       " 7         NaN  \n",
       " 8         NaN  \n",
       " 9         0.0  \n",
       " 10        NaN  \n",
       " 11        NaN  \n",
       " 12        NaN  \n",
       " 13        NaN  \n",
       " 14        NaN  \n",
       " 15        NaN  \n",
       " 16        NaN  \n",
       " 17        NaN  \n",
       " 18        NaN  \n",
       " 19        NaN  \n",
       " 20        NaN  \n",
       " 21        NaN  \n",
       " 22        0.0  \n",
       " 23        0.0  \n",
       " 24        NaN  ,\n",
       " 'openbank':         bank       date  web_traffic_lag  web_traffic  cross_visitation  \\\n",
       " 0   openbank 2021-12-01        -4.435833     0.115387          0.845991   \n",
       " 1   openbank 2022-01-01         0.236506     0.115387          0.829341   \n",
       " 2   openbank 2022-02-01         0.236506     0.115387          0.570437   \n",
       " 3   openbank 2022-03-01         0.236506     0.115387          0.321822   \n",
       " 4   openbank 2022-04-01         0.236506     0.115387          0.237523   \n",
       " 5   openbank 2022-05-01         0.236506    -0.156501          0.507804   \n",
       " 6   openbank 2022-06-01         0.119934     0.277245          0.231288   \n",
       " 7   openbank 2022-07-01         0.305903     0.231477          0.634646   \n",
       " 8   openbank 2022-08-01         0.286280     0.259001          0.467310   \n",
       " 9   openbank 2022-09-01         0.298081     0.259001          0.064701   \n",
       " 10  openbank 2022-10-01         0.298081    -0.611646          0.017478   \n",
       " 11  openbank 2022-11-01        -0.075209    -0.356220          0.286710   \n",
       " 12  openbank 2022-12-01         0.034305     0.653141          0.431067   \n",
       " 13  openbank 2023-01-01         0.467068     0.483673          0.491019   \n",
       " 14  openbank 2023-02-01         0.394409    -0.943558          0.343411   \n",
       " 15  openbank 2023-03-01        -0.217516     0.387560          0.684226   \n",
       " 16  openbank 2023-04-01         0.353200     0.012814          0.472828   \n",
       " 17  openbank 2023-05-01         0.192528     0.293305          1.383172   \n",
       " 18  openbank 2023-06-01         0.312789     0.078836          0.561991   \n",
       " 19  openbank 2023-07-01         0.220835     0.209404          0.932080   \n",
       " 20  openbank 2023-08-01         0.276816    -0.350876          1.335734   \n",
       " 21  openbank 2023-09-01         0.036596    -0.682561          0.933172   \n",
       " 22  openbank 2023-10-01        -0.105614    -0.371521          0.293727   \n",
       " 23  openbank 2023-11-01         0.027745    -0.454879          0.805139   \n",
       " 24  openbank 2023-12-01        -0.007995     0.490822          1.135634   \n",
       " \n",
       "     search_interest      rank  mentions  app_installs  ppc_spend   apr  \\\n",
       " 0         -0.849199 -0.380274  1.206362      0.258865  -0.208290   NaN   \n",
       " 1         -0.805158 -0.380274 -0.071236      0.224657   0.256398   NaN   \n",
       " 2         -0.837609 -0.380274  0.780496     -0.316403   0.205896   NaN   \n",
       " 3         -0.837609 -0.380274  1.206362      0.258865  -0.208290   NaN   \n",
       " 4         -0.837609 -0.380274 -0.922968     -0.862640   0.876731  1.00   \n",
       " 5         -0.832973 -0.233495  1.206362     -0.570912   1.345062   NaN   \n",
       " 6         -0.837609 -0.233495 -0.922968     -0.559759   1.225836   NaN   \n",
       " 7         -0.823702 -0.380274 -0.497102     -0.601233   1.589509   NaN   \n",
       " 8         -0.860789 -0.820610  0.780496     -0.617733   1.307138   NaN   \n",
       " 9         -0.837609 -0.233495 -0.497102     -0.558772   1.369478   NaN   \n",
       " 10        -0.832973 -0.233495  0.780496     -0.590797   0.205504   NaN   \n",
       " 11        -0.849199 -0.233495  0.780496     -0.610008   0.773045   NaN   \n",
       " 12        -0.849199 -0.527053  0.780496     -0.603599   0.575058   NaN   \n",
       " 13        -0.814430  0.353621 -0.071236     -0.614066   0.863504   NaN   \n",
       " 14        -0.802840 -0.233495  0.780496     -0.642478   1.165736   NaN   \n",
       " 15        -0.826020 -0.086716  2.909826     -0.615664   1.242716   NaN   \n",
       " 16        -0.814430 -0.086716 -0.497102     -0.581603   0.867275  1.25   \n",
       " 17        -0.837609 -0.086716  0.354630     -0.615313   0.896641   NaN   \n",
       " 18        -0.814430 -0.086716  0.354630     -0.645640   2.422020   NaN   \n",
       " 19        -0.823702 -1.260947  0.780496     -0.658066   3.866005   NaN   \n",
       " 20        -0.860789 -1.481116 -0.071236     -0.672551   1.514097   NaN   \n",
       " 21        -0.837609 -1.481116  0.354630     -0.625136   1.727113   NaN   \n",
       " 22        -0.842245 -1.481116  1.206362     -0.566221   2.609638  1.76   \n",
       " 23        -0.883968 -1.325703  0.780496     -0.741008   2.848369   NaN   \n",
       " 24        -0.851517 -1.445605  0.780496     -0.691433   3.707863   NaN   \n",
       " \n",
       "     incentive  \n",
       " 0         NaN  \n",
       " 1         NaN  \n",
       " 2         NaN  \n",
       " 3         NaN  \n",
       " 4         NaN  \n",
       " 5         NaN  \n",
       " 6         NaN  \n",
       " 7         NaN  \n",
       " 8         NaN  \n",
       " 9         NaN  \n",
       " 10        NaN  \n",
       " 11        NaN  \n",
       " 12        NaN  \n",
       " 13        NaN  \n",
       " 14        NaN  \n",
       " 15        NaN  \n",
       " 16        NaN  \n",
       " 17        NaN  \n",
       " 18        NaN  \n",
       " 19        NaN  \n",
       " 20        NaN  \n",
       " 21        NaN  \n",
       " 22        NaN  \n",
       " 23        NaN  \n",
       " 24        NaN  ,\n",
       " 'myinvestor':           bank       date  web_traffic_lag  web_traffic  cross_visitation  \\\n",
       " 0   myinvestor 2021-12-01        -4.435833    -1.218592         -0.672348   \n",
       " 1   myinvestor 2022-01-01        -0.335437    -0.981921         -0.702961   \n",
       " 2   myinvestor 2022-02-01        -0.233964    -1.527609         -1.142985   \n",
       " 3   myinvestor 2022-03-01        -0.467928    -1.300894         -0.906912   \n",
       " 4   myinvestor 2022-04-01        -0.370724    -1.127079         -1.133712   \n",
       " 5   myinvestor 2022-05-01        -0.296201    -1.356242         -1.129656   \n",
       " 6   myinvestor 2022-06-01        -0.394454    -1.610232         -1.334675   \n",
       " 7   myinvestor 2022-07-01        -0.503353    -0.646447         -1.149778   \n",
       " 8   myinvestor 2022-08-01        -0.090130    -1.030836         -1.113803   \n",
       " 9   myinvestor 2022-09-01        -0.254936    -0.987191         -1.253330   \n",
       " 10  myinvestor 2022-10-01        -0.236224    -0.886216         -0.938037   \n",
       " 11  myinvestor 2022-11-01        -0.192931    -1.028651         -0.952883   \n",
       " 12  myinvestor 2022-12-01        -0.254000    -0.865141         -0.498500   \n",
       " 13  myinvestor 2023-01-01        -0.183895    -0.665751         -1.092694   \n",
       " 14  myinvestor 2023-02-01        -0.098407     0.252835         -0.726705   \n",
       " 15  myinvestor 2023-03-01         0.295437     0.100602         -1.372813   \n",
       " 16  myinvestor 2023-04-01         0.230167    -0.358830         -1.113945   \n",
       " 17  myinvestor 2023-05-01         0.033186    -0.754884         -1.151370   \n",
       " 18  myinvestor 2023-06-01        -0.136622    -0.340427         -0.945294   \n",
       " 19  myinvestor 2023-07-01         0.041076    -0.606047         -0.765231   \n",
       " 20  myinvestor 2023-08-01        -0.072808    -0.493273         -0.391959   \n",
       " 21  myinvestor 2023-09-01        -0.024457    -0.039073         -0.779225   \n",
       " 22  myinvestor 2023-10-01         0.170282    -0.145342         -0.644711   \n",
       " 23  myinvestor 2023-11-01         0.124719    -0.284126         -0.747395   \n",
       " 24  myinvestor 2023-12-01         0.065215    -0.173428          0.032437   \n",
       " \n",
       "     search_interest      rank  mentions  app_installs  ppc_spend  apr  \\\n",
       " 0         -0.721712  0.060063 -0.071236     -0.516912  -0.234515  NaN   \n",
       " 1         -0.721712  0.060063 -0.071236     -0.516912  -0.234515  NaN   \n",
       " 2         -0.721712  0.060063 -0.071236     -0.516912  -0.234515  NaN   \n",
       " 3         -0.721712  0.060063 -0.071236     -0.516912  -0.234515  NaN   \n",
       " 4         -0.721712  0.060063 -0.071236     -1.056910  -0.925367  NaN   \n",
       " 5          0.437262 -0.380274 -0.922968     -1.014852  -1.065874  NaN   \n",
       " 6         -0.685784 -0.380274 -0.497102     -0.999448  -1.085394  NaN   \n",
       " 7          1.584646 -0.380274  1.632228     -1.017635  -1.115319  NaN   \n",
       " 8          1.034133  0.500400  0.780496     -1.012606  -1.132976  NaN   \n",
       " 9          1.034133  0.500400  0.780496     -1.019130  -1.082586  1.0   \n",
       " 10         1.584646  0.500400  1.632228     -1.026492  -0.992463  1.0   \n",
       " 11        -0.843404  1.381073  1.206362     -1.021950  -0.989410  NaN   \n",
       " 12         1.034133  0.940737  0.780496     -1.012164  -1.038836  NaN   \n",
       " 13        -0.721712  1.381073 -0.071236     -0.991538  -1.066081  2.0   \n",
       " 14         1.584646  0.940737  3.761558     -0.949588  -1.062838  NaN   \n",
       " 15         1.034133  2.261747  0.780496     -0.946406  -1.112270  NaN   \n",
       " 16         1.584646  2.261747  2.483960     -0.970048  -1.031758  NaN   \n",
       " 17         1.584646  2.261747  2.058094     -0.984651  -0.863240  NaN   \n",
       " 18         1.584646  2.261747  2.058094     -0.966166  -0.775327  NaN   \n",
       " 19         1.034133  2.261747  0.780496     -0.974841  -0.492515  NaN   \n",
       " 20        -0.685784  2.261747 -0.497102     -0.965765  -0.456527  NaN   \n",
       " 21         1.034133  2.261747  0.780496     -0.955173  -0.626296  NaN   \n",
       " 22        -0.721712  2.261747 -0.071236     -1.052045  -0.723989  NaN   \n",
       " 23        -0.843404  2.261747 -0.497102     -1.019912  -0.696949  NaN   \n",
       " 24        -0.721712  2.261747 -0.071236     -0.946400  -0.651122  NaN   \n",
       " \n",
       "     incentive  \n",
       " 0         NaN  \n",
       " 1         NaN  \n",
       " 2         NaN  \n",
       " 3         NaN  \n",
       " 4         NaN  \n",
       " 5         NaN  \n",
       " 6         NaN  \n",
       " 7         NaN  \n",
       " 8         NaN  \n",
       " 9         NaN  \n",
       " 10        NaN  \n",
       " 11        NaN  \n",
       " 12        NaN  \n",
       " 13        NaN  \n",
       " 14        NaN  \n",
       " 15        NaN  \n",
       " 16        NaN  \n",
       " 17        NaN  \n",
       " 18        NaN  \n",
       " 19        NaN  \n",
       " 20        NaN  \n",
       " 21        NaN  \n",
       " 22        NaN  \n",
       " 23        NaN  \n",
       " 24        NaN  ,\n",
       " 'bankinter':          bank       date  web_traffic_lag  web_traffic  cross_visitation  \\\n",
       " 0   bankinter 2021-12-01        -4.435833    -0.665929          0.275935   \n",
       " 1   bankinter 2022-01-01        -0.098482    -0.367879         -0.017395   \n",
       " 2   bankinter 2022-02-01         0.029306    -0.645929         -0.298565   \n",
       " 3   bankinter 2022-03-01        -0.089908    -0.843588         -0.311397   \n",
       " 4   bankinter 2022-04-01        -0.174654    -0.483559          0.205614   \n",
       " 5   bankinter 2022-05-01        -0.020291    -1.088967         -0.030829   \n",
       " 6   bankinter 2022-06-01        -0.279860    -0.797273          0.473849   \n",
       " 7   bankinter 2022-07-01        -0.154796    -0.951032         -0.245099   \n",
       " 8   bankinter 2022-08-01        -0.220721    -1.202364          0.016927   \n",
       " 9   bankinter 2022-09-01        -0.328479    -0.681352          0.304678   \n",
       " 10  bankinter 2022-10-01        -0.105095    -0.627675         -0.029083   \n",
       " 11  bankinter 2022-11-01        -0.082081    -0.189653          0.110172   \n",
       " 12  bankinter 2022-12-01         0.105721    -1.039375          0.370892   \n",
       " 13  bankinter 2023-01-01        -0.258598    -0.391238         -0.114119   \n",
       " 14  bankinter 2023-02-01         0.019291    -0.108417          0.029433   \n",
       " 15  bankinter 2023-03-01         0.140551     0.008070          0.080919   \n",
       " 16  bankinter 2023-04-01         0.190494    -0.481141          0.335757   \n",
       " 17  bankinter 2023-05-01        -0.019255     0.478409         -0.324434   \n",
       " 18  bankinter 2023-06-01         0.392152    -0.436075         -0.040408   \n",
       " 19  bankinter 2023-07-01         0.000067    -0.268577         -0.326823   \n",
       " 20  bankinter 2023-08-01         0.071882     0.042706          0.132928   \n",
       " 21  bankinter 2023-09-01         0.205344    -0.087881          0.075956   \n",
       " 22  bankinter 2023-10-01         0.149355     0.010597         -0.170717   \n",
       " 23  bankinter 2023-11-01         0.191577    -0.499726          0.337166   \n",
       " 24  bankinter 2023-12-01        -0.027223    -0.656257          0.457826   \n",
       " \n",
       "     search_interest      rank  mentions  app_installs  ppc_spend  apr  \\\n",
       " 0         -0.489917 -1.407726  0.780496     -0.316403   0.205896  NaN   \n",
       " 1         -0.508461 -1.407726 -0.497102      0.089113  -1.089415  NaN   \n",
       " 2         -0.547866 -1.407726  0.780496     -0.316403   0.205896  NaN   \n",
       " 3         -0.571045 -1.407726 -0.071236      0.224657   0.256398  NaN   \n",
       " 4         -0.582635 -1.407726 -0.071236     -0.952136  -0.741622  NaN   \n",
       " 5         -0.545548 -1.260947  0.780496     -0.824652  -0.891135  NaN   \n",
       " 6         -0.501507 -1.554505 -0.497102     -0.842433  -0.754516  NaN   \n",
       " 7         -0.517733 -1.407726 -0.071236     -0.820563  -0.811308  NaN   \n",
       " 8         -0.628994 -0.527053 -0.922968     -0.810293  -0.855695  NaN   \n",
       " 9         -0.571045 -0.820610 -0.497102     -0.783828  -0.719207  NaN   \n",
       " 10        -0.601179 -0.820610 -0.922968     -0.776729  -0.816839  NaN   \n",
       " 11        -0.617404 -1.701284 -0.922968     -0.761340  -0.862506  NaN   \n",
       " 12        -0.617404 -1.701284 -0.497102     -0.786139  -0.938641  NaN   \n",
       " 13        -0.564092 -1.701284 -0.922968     -0.765245  -0.882333  NaN   \n",
       " 14        -0.571045 -0.380274 -0.497102     -0.818554  -0.815464  NaN   \n",
       " 15        -0.559456  0.060063 -0.071236     -0.769925  -1.028619  NaN   \n",
       " 16        -0.545548  0.060063 -0.071236     -0.799325  -0.810474  NaN   \n",
       " 17        -0.571045  0.060063 -0.071236     -0.791316  -0.565634  NaN   \n",
       " 18        -0.536276  0.060063  0.354630     -0.747443  -0.018573  NaN   \n",
       " 19        -0.499189 -0.820610  0.354630     -0.743907  -0.443707  NaN   \n",
       " 20        -0.628994 -0.820610 -0.922968     -0.788679  -0.914121  NaN   \n",
       " 21        -0.594225 -0.820610 -0.922968     -0.785471  -0.672015  NaN   \n",
       " 22        -0.564092 -0.820610  0.354630     -0.775861  -0.483461  NaN   \n",
       " 23        -0.571045 -0.380274 -0.071236     -0.750955  -0.563332  NaN   \n",
       " 24        -0.554820 -0.380274 -0.497102     -0.821229  -0.493274  NaN   \n",
       " \n",
       "     incentive  \n",
       " 0         NaN  \n",
       " 1         NaN  \n",
       " 2         NaN  \n",
       " 3         NaN  \n",
       " 4         NaN  \n",
       " 5         NaN  \n",
       " 6         NaN  \n",
       " 7         NaN  \n",
       " 8         NaN  \n",
       " 9         NaN  \n",
       " 10        NaN  \n",
       " 11        NaN  \n",
       " 12        NaN  \n",
       " 13        NaN  \n",
       " 14        NaN  \n",
       " 15        NaN  \n",
       " 16        NaN  \n",
       " 17        NaN  \n",
       " 18        NaN  \n",
       " 19        0.0  \n",
       " 20        NaN  \n",
       " 21        NaN  \n",
       " 22        NaN  \n",
       " 23        NaN  \n",
       " 24        NaN  ,\n",
       " 'evobanco':         bank       date  web_traffic_lag  web_traffic  cross_visitation  \\\n",
       " 0   evobanco 2021-12-01        -4.435833    -1.275349         -0.381396   \n",
       " 1   evobanco 2022-01-01        -0.359771    -1.395492         -1.001434   \n",
       " 2   evobanco 2022-02-01        -0.411283    -1.075270         -0.693749   \n",
       " 3   evobanco 2022-03-01        -0.273987    -0.534523         -0.491315   \n",
       " 4   evobanco 2022-04-01        -0.042143    -1.281386         -0.575492   \n",
       " 5   evobanco 2022-05-01        -0.362360    -0.952617         -0.281062   \n",
       " 6   evobanco 2022-06-01        -0.221400    -1.108023         -0.634245   \n",
       " 7   evobanco 2022-07-01        -0.288030    -1.963519         -0.641140   \n",
       " 8   evobanco 2022-08-01        -0.654824    -1.153108         -0.757698   \n",
       " 9   evobanco 2022-09-01        -0.307360    -1.445751         -0.867770   \n",
       " 10  evobanco 2022-10-01        -0.432831    -1.513674         -0.891137   \n",
       " 11  evobanco 2022-11-01        -0.461953    -1.075874         -0.564225   \n",
       " 12  evobanco 2022-12-01        -0.274246    -1.531064         -0.537614   \n",
       " 13  evobanco 2023-01-01        -0.469409    -1.449856         -0.749359   \n",
       " 14  evobanco 2023-02-01        -0.434591    -0.976939         -0.380263   \n",
       " 15  evobanco 2023-03-01        -0.231828    -1.475835         -1.017650   \n",
       " 16  evobanco 2023-04-01        -0.445730    -0.833793         -0.889398   \n",
       " 17  evobanco 2023-05-01        -0.170454    -0.631338         -0.746758   \n",
       " 18  evobanco 2023-06-01        -0.083652    -0.283160         -0.794685   \n",
       " 19  evobanco 2023-07-01         0.065629    -0.830756         -0.628266   \n",
       " 20  evobanco 2023-08-01        -0.169152    -0.746955         -0.673611   \n",
       " 21  evobanco 2023-09-01        -0.133223    -0.523387         -0.521904   \n",
       " 22  evobanco 2023-10-01        -0.037368    -0.449561         -0.495313   \n",
       " 23  evobanco 2023-11-01        -0.005715    -0.578999         -0.312716   \n",
       " 24  evobanco 2023-12-01        -0.061212    -0.511052         -0.168091   \n",
       " \n",
       "     search_interest      rank  mentions  app_installs  ppc_spend   apr  \\\n",
       " 0         -0.918738 -0.380274 -0.497102      0.089113  -1.089415   NaN   \n",
       " 1         -0.916420 -0.380274 -0.922968     -0.313054  -1.002157   NaN   \n",
       " 2         -0.907148 -0.380274 -0.497102      0.089113  -1.089415   NaN   \n",
       " 3         -0.907148 -0.380274 -0.071236      0.224657   0.256398   NaN   \n",
       " 4         -0.918738 -0.380274 -0.071236     -1.002928   0.443572   NaN   \n",
       " 5         -0.879332 -0.380274 -0.497102     -0.891311   0.507722   NaN   \n",
       " 6         -0.883968 -0.600442 -0.922968     -0.898978   0.481349   NaN   \n",
       " 7         -0.897876 -0.600442 -0.497102     -0.902706   0.861321   NaN   \n",
       " 8         -0.895558 -0.380274 -0.497102     -0.914593   0.685579   NaN   \n",
       " 9         -0.907148  0.280232 -0.922968     -0.915808   0.475751   NaN   \n",
       " 10        -0.879332  0.280232 -0.497102     -0.907693   0.195478   NaN   \n",
       " 11        -0.907148  0.060063 -0.497102     -0.909475   0.135049  0.06   \n",
       " 12        -0.918738  0.060063 -0.922968     -0.902604  -0.180159   NaN   \n",
       " 13        -0.897876  0.353621 -0.922968     -0.887985   0.348840   NaN   \n",
       " 14        -0.907148  0.940737 -0.922968     -0.888250   0.390326   NaN   \n",
       " 15        -0.930327 -0.820610  0.780496     -0.913911   0.239137   NaN   \n",
       " 16        -0.907148 -0.820610  2.058094     -0.908966   0.249146  2.00   \n",
       " 17        -0.930327 -0.820610 -0.922968     -0.909758   0.949141   NaN   \n",
       " 18        -0.918738 -0.820610  0.354630     -0.897259  -0.042481   NaN   \n",
       " 19        -0.907148  0.060063 -0.497102     -0.881936   0.250787   NaN   \n",
       " 20        -0.941917  1.087516 -0.922968     -0.896505   0.051978   NaN   \n",
       " 21        -0.918738  1.087516 -0.497102     -0.890412   0.090240  2.50   \n",
       " 22        -0.907148  1.087516  0.354630     -0.833748  -0.117244   NaN   \n",
       " 23        -0.907148  1.087516 -0.497102     -0.866680  -0.092352  2.85   \n",
       " 24        -0.916420  1.149068 -0.071236     -0.904155  -0.326985   NaN   \n",
       " \n",
       "     incentive  \n",
       " 0         NaN  \n",
       " 1         NaN  \n",
       " 2         NaN  \n",
       " 3         NaN  \n",
       " 4         NaN  \n",
       " 5         NaN  \n",
       " 6         NaN  \n",
       " 7         NaN  \n",
       " 8         NaN  \n",
       " 9         NaN  \n",
       " 10        NaN  \n",
       " 11        NaN  \n",
       " 12        NaN  \n",
       " 13        NaN  \n",
       " 14        NaN  \n",
       " 15        NaN  \n",
       " 16        NaN  \n",
       " 17        NaN  \n",
       " 18        NaN  \n",
       " 19        NaN  \n",
       " 20        NaN  \n",
       " 21        NaN  \n",
       " 22        NaN  \n",
       " 23        NaN  \n",
       " 24        NaN  ,\n",
       " 'santander':          bank       date  web_traffic_lag  web_traffic  cross_visitation  \\\n",
       " 0   santander 2021-12-01        -4.435833     0.380346          0.558394   \n",
       " 1   santander 2022-01-01         0.350108     0.645900          0.319052   \n",
       " 2   santander 2022-02-01         0.463964     0.451567          0.617154   \n",
       " 3   santander 2022-03-01         0.380643     0.497888          0.451652   \n",
       " 4   santander 2022-04-01         0.400504     0.494792          0.853894   \n",
       " 5   santander 2022-05-01         0.399176     0.944736          0.496294   \n",
       " 6   santander 2022-06-01         0.592089     0.896468          0.428214   \n",
       " 7   santander 2022-07-01         0.571395     0.911445          0.601301   \n",
       " 8   santander 2022-08-01         0.577816     1.051008          0.950516   \n",
       " 9   santander 2022-09-01         0.637654     1.083004          0.758391   \n",
       " 10  santander 2022-10-01         0.651372     1.559393          0.776448   \n",
       " 11  santander 2022-11-01         0.855623     1.351924          0.914746   \n",
       " 12  santander 2022-12-01         0.766671     0.711262          1.196380   \n",
       " 13  santander 2023-01-01         0.491988     1.399111          0.676797   \n",
       " 14  santander 2023-02-01         0.786903     1.500724          0.730521   \n",
       " 15  santander 2023-03-01         0.830469     1.383383          1.746233   \n",
       " 16  santander 2023-04-01         0.780159     1.254482          0.691222   \n",
       " 17  santander 2023-05-01         0.724893     1.084166          0.343200   \n",
       " 18  santander 2023-06-01         0.651870     0.711901          0.804042   \n",
       " 19  santander 2023-07-01         0.492262     1.164055          0.868841   \n",
       " 20  santander 2023-08-01         0.686123     0.858699          0.608808   \n",
       " 21  santander 2023-09-01         0.555201     1.041175          0.775504   \n",
       " 22  santander 2023-10-01         0.633438     0.932486          0.797037   \n",
       " 23  santander 2023-11-01         0.586837     0.893817          0.667009   \n",
       " 24  santander 2023-12-01         0.570258     0.675811          1.628914   \n",
       " \n",
       "     search_interest      rank  mentions  app_installs  ppc_spend  apr  \\\n",
       " 0          1.990287  1.149068  1.206362      0.258865  -0.208290  NaN   \n",
       " 1          2.022738  1.149068 -0.071236      0.224657   0.256398  NaN   \n",
       " 2          1.990287  1.149068  1.632228      0.047935   0.359043  NaN   \n",
       " 3          1.828030  1.149068  0.780496     -0.316403   0.205896  NaN   \n",
       " 4          1.665774  1.149068 -0.497102     -0.282562  -0.548216  NaN   \n",
       " 5          1.911477  1.149068  1.632228      1.423270  -0.103935  NaN   \n",
       " 6          2.071415  1.149068 -0.922968      1.477603  -0.454265  NaN   \n",
       " 7          2.050553  1.149068 -0.071236      1.111132  -0.484001  NaN   \n",
       " 8          1.631005  0.500400 -0.497102      1.253872  -0.298665  NaN   \n",
       " 9          1.793261  0.060063  0.354630      1.926402  -0.446373  NaN   \n",
       " 10         1.828030  0.060063 -0.071236      1.889562   0.221780  NaN   \n",
       " 11         1.665774 -1.701284 -0.922968      1.871377  -0.297404  NaN   \n",
       " 12         1.503518 -1.701284 -0.497102      1.722034  -0.652692  NaN   \n",
       " 13         1.809487 -1.260947 -0.497102      1.702643  -0.394925  NaN   \n",
       " 14         1.793261 -1.701284  0.354630      1.356509  -0.581638  NaN   \n",
       " 15         1.955518 -1.701284 -0.497102      1.827303  -0.767692  NaN   \n",
       " 16         1.855846 -1.701284  0.354630      1.724340  -0.474642  NaN   \n",
       " 17         1.654184 -1.701284  0.780496      2.008239  -0.302422  NaN   \n",
       " 18         1.862800 -1.701284 -0.497102      1.815915  -0.502567  NaN   \n",
       " 19         1.911477  0.500400 -0.497102      1.871749  -0.513523  NaN   \n",
       " 20         1.294903 -0.600442 -0.497102      1.450881  -0.155122  NaN   \n",
       " 21         1.561467 -0.600442  0.354630      2.023180  -0.359409  NaN   \n",
       " 22         1.670410 -0.600442  0.780496      1.754092  -0.353658  NaN   \n",
       " 23         1.723723 -1.481116  0.354630      1.279289   0.139534  NaN   \n",
       " 24         1.865118 -1.346174 -0.071236      1.009781  -0.350539  NaN   \n",
       " \n",
       "     incentive  \n",
       " 0         NaN  \n",
       " 1         NaN  \n",
       " 2         NaN  \n",
       " 3         NaN  \n",
       " 4         NaN  \n",
       " 5       150.0  \n",
       " 6         NaN  \n",
       " 7         NaN  \n",
       " 8       150.0  \n",
       " 9         NaN  \n",
       " 10        NaN  \n",
       " 11        NaN  \n",
       " 12        NaN  \n",
       " 13        NaN  \n",
       " 14        NaN  \n",
       " 15        NaN  \n",
       " 16        NaN  \n",
       " 17        NaN  \n",
       " 18        NaN  \n",
       " 19        NaN  \n",
       " 20        NaN  \n",
       " 21      400.0  \n",
       " 22        NaN  \n",
       " 23        NaN  \n",
       " 24        NaN  }"
      ]
     },
     "execution_count": 692,
     "metadata": {},
     "output_type": "execute_result"
    }
   ],
   "source": [
    "# for each bank we take a subsection of the data that has no incentives \n",
    "\n",
    "bank_data_dict = {}\n",
    "\n",
    "for bank in banks:\n",
    "    # for each bank attach the relevant apr and incentive data\n",
    "    \n",
    "    apr_data = apr_increase_dates[apr_increase_dates.bank == bank].fillna(0)\n",
    "    incentive_data = incentive_increase_dates[incentive_increase_dates.bank == bank].fillna(0)\n",
    "\n",
    "    # merge the apr and incentives data with a copy of the products data specific to the bank\n",
    "    temp_products_data = products_data[products_data.bank == bank].fillna(0)\n",
    "    bank_data = temp_products_data.merge(apr_data, on=['date','bank'], how='left')\n",
    "    bank_data = bank_data.merge(incentive_data, on=['date','bank'], how='left')\n",
    "\n",
    "    bank_data_dict[bank] = bank_data\n",
    "\n",
    "\n",
    "bank_data_dict\n",
    "    \n",
    "\n",
    "    "
   ]
  },
  {
   "cell_type": "markdown",
   "metadata": {},
   "source": [
    "filling na values\n"
   ]
  },
  {
   "cell_type": "code",
   "execution_count": 693,
   "metadata": {},
   "outputs": [],
   "source": [
    "# drop bank_x and bank_y columns\n",
    "for bank in banks:\n",
    "    bank_data = bank_data_dict[bank]\n",
    "    #bank_data = bank_data.drop(columns=['bank_x', 'bank_y'])\n",
    "    bank_data.fillna(0, inplace=True)\n",
    "    bank_data_dict[bank] = bank_data"
   ]
  },
  {
   "cell_type": "markdown",
   "metadata": {},
   "source": [
    "here we create two functions to determine if the event is valid and another to find consecutive dates surrounding the event date "
   ]
  },
  {
   "cell_type": "code",
   "execution_count": 694,
   "metadata": {},
   "outputs": [],
   "source": [
    "def check_if_valid_event(bank_data, date, buffer, column):\n",
    "    date_index = bank_data[bank_data.date == date].index[0]\n",
    "    for i in range(1, buffer + 1):\n",
    "        prev_date = bank_data.iloc[date_index - i].date\n",
    "        next_date = bank_data.iloc[date_index + i].date\n",
    "        prev_apr = bank_data.iloc[date_index - i][column]\n",
    "        next_apr = bank_data.iloc[date_index + i][column]\n",
    "\n",
    "        print(f\"Checking date: {date}, Buffer-{i}: {prev_date} (APR: {prev_apr}), Buffer+{i}: {next_date} (APR: {next_apr})\")\n",
    "        \n",
    "        if prev_apr != 0 or next_apr != 0:\n",
    "            return False\n",
    "\n",
    "    return True\n",
    "\n",
    "def find_consecutive_dates(dates, buffer):\n",
    "    # Calculate the required length of the sequence\n",
    "    required_length = (buffer * 2) + 1\n",
    "    \n",
    "    # Convert dates to a sorted list of pandas Timestamps\n",
    "    sorted_dates = sorted(pd.to_datetime(dates))\n",
    "    \n",
    "    # Iterate through the sorted dates list\n",
    "    for i in range(len(sorted_dates) - required_length + 1):\n",
    "        # Extract the sublist of the required length\n",
    "        sublist = sorted_dates[i:i + required_length]\n",
    "        \n",
    "        \n",
    "        # Check if the sublist is consecutive months\n",
    "        if all((sublist[j + 1].year * 12 + sublist[j + 1].month) - (sublist[j].year * 12 + sublist[j].month) == 1 for j in range(len(sublist) - 1)):\n",
    "            return sublist\n",
    "    \n",
    "    # If no such sequence is found\n",
    "    return None"
   ]
  },
  {
   "cell_type": "markdown",
   "metadata": {},
   "source": [
    "here we run a loop for each bank then find a control date in the 'ing' series which does not alter or change incentives or aprs.\n",
    "\n",
    "this is for apr changes"
   ]
  },
  {
   "cell_type": "code",
   "execution_count": 695,
   "metadata": {},
   "outputs": [
    {
     "name": "stdout",
     "output_type": "stream",
     "text": [
      "Checking date: 2023-07-01 00:00:00, Buffer-1: 2023-06-01 00:00:00 (APR: 0.0), Buffer+1: 2023-08-01 00:00:00 (APR: 0.0)\n",
      "Checking date: 2023-07-01 00:00:00, Buffer-2: 2023-05-01 00:00:00 (APR: 0.0), Buffer+2: 2023-09-01 00:00:00 (APR: 0.0)\n",
      "Checking date: 2023-07-01 00:00:00, Buffer-1: 2023-06-01 00:00:00 (APR: 0), Buffer+1: 2023-08-01 00:00:00 (APR: 0)\n",
      "Checking date: 2023-07-01 00:00:00, Buffer-2: 2023-05-01 00:00:00 (APR: 0), Buffer+2: 2023-09-01 00:00:00 (APR: 0)\n",
      "[Timestamp('2022-05-01 00:00:00'), Timestamp('2022-06-01 00:00:00'), Timestamp('2022-07-01 00:00:00'), Timestamp('2022-08-01 00:00:00'), Timestamp('2022-09-01 00:00:00')]\n",
      "Error processing bank abanca: single positional indexer is out-of-bounds\n",
      "Checking date: 2023-07-01 00:00:00, Buffer-1: 2023-06-01 00:00:00 (APR: 0.0), Buffer+1: 2023-08-01 00:00:00 (APR: 0.0)\n",
      "Checking date: 2023-07-01 00:00:00, Buffer-2: 2023-05-01 00:00:00 (APR: 0.0), Buffer+2: 2023-09-01 00:00:00 (APR: 0.0)\n",
      "Checking date: 2023-07-01 00:00:00, Buffer-1: 2023-06-01 00:00:00 (APR: 0), Buffer+1: 2023-08-01 00:00:00 (APR: 0)\n",
      "Checking date: 2023-07-01 00:00:00, Buffer-2: 2023-05-01 00:00:00 (APR: 0), Buffer+2: 2023-09-01 00:00:00 (APR: 0)\n",
      "[Timestamp('2021-12-01 00:00:00'), Timestamp('2022-01-01 00:00:00'), Timestamp('2022-02-01 00:00:00'), Timestamp('2022-03-01 00:00:00'), Timestamp('2022-04-01 00:00:00')]\n",
      "Checking date: 2022-08-01 00:00:00, Buffer-1: 2022-07-01 00:00:00 (APR: 0.0), Buffer+1: 2022-09-01 00:00:00 (APR: 0.0)\n",
      "Checking date: 2022-08-01 00:00:00, Buffer-2: 2022-06-01 00:00:00 (APR: 0.0), Buffer+2: 2022-10-01 00:00:00 (APR: 0.0)\n",
      "Checking date: 2022-08-01 00:00:00, Buffer-1: 2022-07-01 00:00:00 (APR: 0), Buffer+1: 2022-09-01 00:00:00 (APR: 0)\n",
      "Checking date: 2022-08-01 00:00:00, Buffer-2: 2022-06-01 00:00:00 (APR: 0), Buffer+2: 2022-10-01 00:00:00 (APR: 0)\n",
      "[Timestamp('2021-12-01 00:00:00'), Timestamp('2022-01-01 00:00:00'), Timestamp('2022-02-01 00:00:00'), Timestamp('2022-03-01 00:00:00'), Timestamp('2022-04-01 00:00:00')]\n",
      "Checking date: 2022-11-01 00:00:00, Buffer-1: 2022-10-01 00:00:00 (APR: 0.0), Buffer+1: 2022-12-01 00:00:00 (APR: 0.0)\n",
      "Checking date: 2022-11-01 00:00:00, Buffer-2: 2022-09-01 00:00:00 (APR: 0.0), Buffer+2: 2023-01-01 00:00:00 (APR: 2.0)\n",
      "Checking date: 2023-01-01 00:00:00, Buffer-1: 2022-12-01 00:00:00 (APR: 0.0), Buffer+1: 2023-02-01 00:00:00 (APR: 0.0)\n",
      "Checking date: 2023-01-01 00:00:00, Buffer-2: 2022-11-01 00:00:00 (APR: 2.0), Buffer+2: 2023-03-01 00:00:00 (APR: 0.0)\n",
      "Checking date: 2023-05-01 00:00:00, Buffer-1: 2023-04-01 00:00:00 (APR: 0.0), Buffer+1: 2023-06-01 00:00:00 (APR: 0.0)\n",
      "Checking date: 2023-05-01 00:00:00, Buffer-2: 2023-03-01 00:00:00 (APR: 0.0), Buffer+2: 2023-07-01 00:00:00 (APR: 0.0)\n",
      "Checking date: 2023-05-01 00:00:00, Buffer-1: 2023-04-01 00:00:00 (APR: 0), Buffer+1: 2023-06-01 00:00:00 (APR: 0)\n",
      "Checking date: 2023-05-01 00:00:00, Buffer-2: 2023-03-01 00:00:00 (APR: 0), Buffer+2: 2023-07-01 00:00:00 (APR: 0)\n",
      "[Timestamp('2021-12-01 00:00:00'), Timestamp('2022-01-01 00:00:00'), Timestamp('2022-02-01 00:00:00'), Timestamp('2022-03-01 00:00:00'), Timestamp('2022-04-01 00:00:00')]\n",
      "Checking date: 2022-04-01 00:00:00, Buffer-1: 2022-03-01 00:00:00 (APR: 0.0), Buffer+1: 2022-05-01 00:00:00 (APR: 0.0)\n",
      "Checking date: 2022-04-01 00:00:00, Buffer-2: 2022-02-01 00:00:00 (APR: 0.0), Buffer+2: 2022-06-01 00:00:00 (APR: 0.0)\n",
      "Checking date: 2022-04-01 00:00:00, Buffer-1: 2022-03-01 00:00:00 (APR: 0), Buffer+1: 2022-05-01 00:00:00 (APR: 0)\n",
      "Checking date: 2022-04-01 00:00:00, Buffer-2: 2022-02-01 00:00:00 (APR: 0), Buffer+2: 2022-06-01 00:00:00 (APR: 0)\n",
      "[Timestamp('2022-05-01 00:00:00'), Timestamp('2022-06-01 00:00:00'), Timestamp('2022-07-01 00:00:00'), Timestamp('2022-08-01 00:00:00'), Timestamp('2022-09-01 00:00:00')]\n",
      "Checking date: 2023-04-01 00:00:00, Buffer-1: 2023-03-01 00:00:00 (APR: 0.0), Buffer+1: 2023-05-01 00:00:00 (APR: 0.0)\n",
      "Checking date: 2023-04-01 00:00:00, Buffer-2: 2023-02-01 00:00:00 (APR: 0.0), Buffer+2: 2023-06-01 00:00:00 (APR: 0.0)\n",
      "Checking date: 2023-04-01 00:00:00, Buffer-1: 2023-03-01 00:00:00 (APR: 0), Buffer+1: 2023-05-01 00:00:00 (APR: 0)\n",
      "Checking date: 2023-04-01 00:00:00, Buffer-2: 2023-02-01 00:00:00 (APR: 0), Buffer+2: 2023-06-01 00:00:00 (APR: 0)\n",
      "[Timestamp('2022-05-01 00:00:00'), Timestamp('2022-06-01 00:00:00'), Timestamp('2022-07-01 00:00:00'), Timestamp('2022-08-01 00:00:00'), Timestamp('2022-09-01 00:00:00')]\n",
      "Checking date: 2023-10-01 00:00:00, Buffer-1: 2023-09-01 00:00:00 (APR: 0.0), Buffer+1: 2023-11-01 00:00:00 (APR: 0.0)\n",
      "Checking date: 2023-10-01 00:00:00, Buffer-2: 2023-08-01 00:00:00 (APR: 0.0), Buffer+2: 2023-12-01 00:00:00 (APR: 0.0)\n",
      "Checking date: 2023-10-01 00:00:00, Buffer-1: 2023-09-01 00:00:00 (APR: 0), Buffer+1: 2023-11-01 00:00:00 (APR: 0)\n",
      "Checking date: 2023-10-01 00:00:00, Buffer-2: 2023-08-01 00:00:00 (APR: 0), Buffer+2: 2023-12-01 00:00:00 (APR: 0)\n",
      "[Timestamp('2022-05-01 00:00:00'), Timestamp('2022-06-01 00:00:00'), Timestamp('2022-07-01 00:00:00'), Timestamp('2022-08-01 00:00:00'), Timestamp('2022-09-01 00:00:00')]\n",
      "Checking date: 2022-09-01 00:00:00, Buffer-1: 2022-08-01 00:00:00 (APR: 0.0), Buffer+1: 2022-10-01 00:00:00 (APR: 1.0)\n",
      "Checking date: 2022-10-01 00:00:00, Buffer-1: 2022-09-01 00:00:00 (APR: 1.0), Buffer+1: 2022-11-01 00:00:00 (APR: 0.0)\n",
      "Checking date: 2023-01-01 00:00:00, Buffer-1: 2022-12-01 00:00:00 (APR: 0.0), Buffer+1: 2023-02-01 00:00:00 (APR: 0.0)\n",
      "Checking date: 2023-01-01 00:00:00, Buffer-2: 2022-11-01 00:00:00 (APR: 0.0), Buffer+2: 2023-03-01 00:00:00 (APR: 0.0)\n",
      "Checking date: 2023-01-01 00:00:00, Buffer-1: 2022-12-01 00:00:00 (APR: 0), Buffer+1: 2023-02-01 00:00:00 (APR: 0)\n",
      "Checking date: 2023-01-01 00:00:00, Buffer-2: 2022-11-01 00:00:00 (APR: 0), Buffer+2: 2023-03-01 00:00:00 (APR: 0)\n",
      "[Timestamp('2021-12-01 00:00:00'), Timestamp('2022-01-01 00:00:00'), Timestamp('2022-02-01 00:00:00'), Timestamp('2022-03-01 00:00:00'), Timestamp('2022-04-01 00:00:00')]\n",
      "Checking date: 2022-11-01 00:00:00, Buffer-1: 2022-10-01 00:00:00 (APR: 0.0), Buffer+1: 2022-12-01 00:00:00 (APR: 0.0)\n",
      "Checking date: 2022-11-01 00:00:00, Buffer-2: 2022-09-01 00:00:00 (APR: 0.0), Buffer+2: 2023-01-01 00:00:00 (APR: 0.0)\n",
      "Checking date: 2022-11-01 00:00:00, Buffer-1: 2022-10-01 00:00:00 (APR: 0), Buffer+1: 2022-12-01 00:00:00 (APR: 0)\n",
      "Checking date: 2022-11-01 00:00:00, Buffer-2: 2022-09-01 00:00:00 (APR: 0), Buffer+2: 2023-01-01 00:00:00 (APR: 0)\n",
      "[Timestamp('2021-12-01 00:00:00'), Timestamp('2022-01-01 00:00:00'), Timestamp('2022-02-01 00:00:00'), Timestamp('2022-03-01 00:00:00'), Timestamp('2022-04-01 00:00:00')]\n",
      "Checking date: 2023-04-01 00:00:00, Buffer-1: 2023-03-01 00:00:00 (APR: 0.0), Buffer+1: 2023-05-01 00:00:00 (APR: 0.0)\n",
      "Checking date: 2023-04-01 00:00:00, Buffer-2: 2023-02-01 00:00:00 (APR: 0.0), Buffer+2: 2023-06-01 00:00:00 (APR: 0.0)\n",
      "Checking date: 2023-04-01 00:00:00, Buffer-1: 2023-03-01 00:00:00 (APR: 0), Buffer+1: 2023-05-01 00:00:00 (APR: 0)\n",
      "Checking date: 2023-04-01 00:00:00, Buffer-2: 2023-02-01 00:00:00 (APR: 0), Buffer+2: 2023-06-01 00:00:00 (APR: 0)\n",
      "[Timestamp('2021-12-01 00:00:00'), Timestamp('2022-01-01 00:00:00'), Timestamp('2022-02-01 00:00:00'), Timestamp('2022-03-01 00:00:00'), Timestamp('2022-04-01 00:00:00')]\n",
      "Checking date: 2023-09-01 00:00:00, Buffer-1: 2023-08-01 00:00:00 (APR: 0.0), Buffer+1: 2023-10-01 00:00:00 (APR: 0.0)\n",
      "Checking date: 2023-09-01 00:00:00, Buffer-2: 2023-07-01 00:00:00 (APR: 0.0), Buffer+2: 2023-11-01 00:00:00 (APR: 2.85)\n",
      "Checking date: 2023-11-01 00:00:00, Buffer-1: 2023-10-01 00:00:00 (APR: 0.0), Buffer+1: 2023-12-01 00:00:00 (APR: 0.0)\n",
      "Error processing bank evobanco: single positional indexer is out-of-bounds\n"
     ]
    }
   ],
   "source": [
    "\n",
    "\n",
    "# For each event date we verify that there is 1 day before and after that are not events\n",
    "all_regressions_apr = {'regressions': []}\n",
    "\n",
    "# For each bank we find an event date\n",
    "for bank in banks:\n",
    "    try:\n",
    "        bank_data = bank_data_dict[bank]\n",
    "        \n",
    "        # Find dates where there is an APR increase\n",
    "        apr_increase_dates = bank_data[bank_data.apr > 0]\n",
    "        \n",
    "        for date in apr_increase_dates.date:\n",
    "            is_valid = check_if_valid_event(bank_data, date, buffer, 'apr')\n",
    "            # If the date is valid we check for a control date in another bank\n",
    "            if is_valid:\n",
    "                bank_control = 'avg'\n",
    "                bank_data_control = bank_control_dict[bank]['bank_df'][all_vars] # control_df_avg \n",
    "                control_date = bank_data_control[bank_data_control.date == date]\n",
    "                if not control_date.empty and control_date.apr.iloc[0] == 0 and check_if_valid_event(bank_data_control, date, buffer, 'apr'):\n",
    "                    # Now we have a valid event and control date\n",
    "                    # We now need to find a control period where neither bank has activity\n",
    "\n",
    "                    # Create a list of dates that are not events for either bank or the control period\n",
    "                    viable_control_dates = bank_data_control[(bank_data_control.apr == 0) & (bank_data_control.incentive == 0)].date\n",
    "                    # Also remove the event dates + buffer\n",
    "                    viable_control_dates = viable_control_dates[viable_control_dates != date]\n",
    "                    for i in range(1, buffer + 1):\n",
    "                        viable_control_dates = viable_control_dates[viable_control_dates != date + pd.DateOffset(i)]\n",
    "                        viable_control_dates = viable_control_dates[viable_control_dates != date - pd.DateOffset(i)]\n",
    "                    \n",
    "                    # Do the same for the bank dates\n",
    "                    viable_bank_dates = bank_data[(bank_data.apr == 0) & (bank_data.incentive == 0)].date\n",
    "                    viable_bank_dates = viable_bank_dates[viable_bank_dates != date]\n",
    "                    for i in range(1, buffer + 1):\n",
    "                        viable_bank_dates = viable_bank_dates[viable_bank_dates != date + pd.DateOffset(i)]\n",
    "                        viable_bank_dates = viable_bank_dates[viable_bank_dates != date - pd.DateOffset(i)]\n",
    "\n",
    "                    # Now we have a list of viable control dates for both banks\n",
    "                    # We need to find the intersection of these two lists of dates\n",
    "                    viable_periods = viable_control_dates[viable_control_dates.isin(viable_bank_dates)]\n",
    "\n",
    "                    # Now we need to find a sequence of consecutive dates that are in the viable periods and (buffer*2)+1 dates long\n",
    "                    control_period = find_consecutive_dates(viable_periods, buffer)\n",
    "                    print(control_period)\n",
    "                    \n",
    "                    # Now we create each series with the relevant data\n",
    "                    event_series = bank_data[(bank_data.date >= date - pd.DateOffset(months=buffer)) & (bank_data.date <= date + pd.DateOffset(months=buffer))]\n",
    "                    event_control_series = bank_data_control[(bank_data_control.date >= date - pd.DateOffset(months=buffer)) & (bank_data_control.date <= date + pd.DateOffset(months=buffer))]\n",
    "\n",
    "                    control_event_series = bank_data[(bank_data.date >= control_period[0]) & (bank_data.date <= control_period[-1])]\n",
    "                    control_series = bank_data_control[(bank_data_control.date >= control_period[0]) & (bank_data_control.date <= control_period[-1])]\n",
    "\n",
    "                    # Now we add it to a dictionary\n",
    "                    regression = {\n",
    "                        'banks_for_regression': f'{bank} * {\"avg\"}', \n",
    "                        'bank_of_interest_event_series': event_series, \n",
    "                        'control_bank_event_series': event_control_series, \n",
    "                        'bank_of_interest_non_event_series': control_event_series, \n",
    "                        'control_bank_non_event_series': control_series\n",
    "                    }\n",
    "                    all_regressions_apr['regressions'].append(regression)\n",
    "    except Exception as e:\n",
    "        print(f\"Error processing bank {bank}: {e}\")\n",
    "\n"
   ]
  },
  {
   "cell_type": "markdown",
   "metadata": {},
   "source": [
    "now we do the same for incentives "
   ]
  },
  {
   "cell_type": "code",
   "execution_count": 696,
   "metadata": {},
   "outputs": [
    {
     "data": {
      "text/plain": [
       "Index(['bank', 'date', 'web_traffic_lag', 'web_traffic', 'cross_visitation',\n",
       "       'search_interest', 'rank', 'mentions', 'app_installs', 'ppc_spend'],\n",
       "      dtype='object')"
      ]
     },
     "execution_count": 696,
     "metadata": {},
     "output_type": "execute_result"
    }
   ],
   "source": [
    "products_data.columns"
   ]
  },
  {
   "cell_type": "code",
   "execution_count": 697,
   "metadata": {},
   "outputs": [
    {
     "name": "stdout",
     "output_type": "stream",
     "text": [
      "Checking date: 2022-04-01 00:00:00, Buffer-1: 2022-03-01 00:00:00 (APR: 0.0), Buffer+1: 2022-05-01 00:00:00 (APR: 0.0)\n",
      "Checking date: 2022-04-01 00:00:00, Buffer-2: 2022-02-01 00:00:00 (APR: 0.0), Buffer+2: 2022-06-01 00:00:00 (APR: 0.0)\n",
      "    web_traffic_lag  cross_visitation  search_interest  web_traffic  \\\n",
      "0         -4.435833          0.259504         0.010759    -0.384480   \n",
      "1          0.105725          0.169191         0.006819    -0.533463   \n",
      "2          0.073072         -0.096774        -0.002916    -0.419021   \n",
      "3          0.086699         -0.018262        -0.066660    -0.395130   \n",
      "4          0.073713         -0.085661         0.356597    -0.420710   \n",
      "5          0.058999         -0.092540         0.497992    -0.022895   \n",
      "6          0.058343         -0.085726         0.436103    -0.337995   \n",
      "7          0.076620          0.262062         0.443520    -0.310457   \n",
      "8          0.174722          0.232186         0.299344    -0.065186   \n",
      "9          0.254133          0.016658         0.272919     0.077170   \n",
      "10         0.342042         -0.008660        -0.000598    -0.601739   \n",
      "11         0.226771          0.285923         0.008442    -0.301804   \n",
      "12         0.262240          0.314974        -0.287097    -0.085905   \n",
      "13         0.262968          0.174853         0.507264    -0.059592   \n",
      "14         0.298369          0.192021         0.382790    -0.307379   \n",
      "15         0.240221          0.022828         0.511436    -0.462863   \n",
      "16         0.208778         -0.254759        -0.147093    -1.073615   \n",
      "17         0.113036          0.373424         0.278482    -0.529066   \n",
      "18         0.196171          0.029097         0.272688    -0.870529   \n",
      "19         0.176625          0.438962        -0.232625    -0.548614   \n",
      "20         0.287933          0.315622         0.242554    -1.788301   \n",
      "21         0.247334          0.362382         0.294708    -0.258070   \n",
      "22         0.234144          0.432821         0.290072    -2.647295   \n",
      "23         0.120399          0.349514         0.547828    -0.569279   \n",
      "24         0.201916          0.974878        -0.282461    -0.275728   \n",
      "\n",
      "         date  incentive  apr  \n",
      "0  2021-12-01          0    0  \n",
      "1  2022-01-01          0    0  \n",
      "2  2022-02-01          0    0  \n",
      "3  2022-03-01          0    0  \n",
      "4  2022-04-01          0    0  \n",
      "5  2022-05-01          0    0  \n",
      "6  2022-06-01          0    0  \n",
      "7  2022-07-01          0    0  \n",
      "8  2022-08-01          0    0  \n",
      "9  2022-09-01          0    0  \n",
      "10 2022-10-01          0    0  \n",
      "11 2022-11-01          0    0  \n",
      "12 2022-12-01          0    0  \n",
      "13 2023-01-01          0    0  \n",
      "14 2023-02-01          0    0  \n",
      "15 2023-03-01          0    0  \n",
      "16 2023-04-01          0    0  \n",
      "17 2023-05-01          0    0  \n",
      "18 2023-06-01          0    0  \n",
      "19 2023-07-01          0    0  \n",
      "20 2023-08-01          0    0  \n",
      "21 2023-09-01          0    0  \n",
      "22 2023-10-01          0    0  \n",
      "23 2023-11-01          0    0  \n",
      "24 2023-12-01          0    0  \n",
      "Checking date: 2022-04-01 00:00:00, Buffer-1: 2022-03-01 00:00:00 (APR: 0), Buffer+1: 2022-05-01 00:00:00 (APR: 0)\n",
      "Checking date: 2022-04-01 00:00:00, Buffer-2: 2022-02-01 00:00:00 (APR: 0), Buffer+2: 2022-06-01 00:00:00 (APR: 0)\n",
      "[Timestamp('2022-05-01 00:00:00'), Timestamp('2022-06-01 00:00:00'), Timestamp('2022-07-01 00:00:00'), Timestamp('2022-08-01 00:00:00'), Timestamp('2022-09-01 00:00:00')]\n",
      "Checking date: 2022-08-01 00:00:00, Buffer-1: 2022-07-01 00:00:00 (APR: 0.0), Buffer+1: 2022-09-01 00:00:00 (APR: 0.0)\n",
      "Checking date: 2022-08-01 00:00:00, Buffer-2: 2022-06-01 00:00:00 (APR: 0.0), Buffer+2: 2022-10-01 00:00:00 (APR: 0.0)\n",
      "    web_traffic_lag  cross_visitation  search_interest  web_traffic  \\\n",
      "0         -4.435833          0.298834        -0.230307     0.099458   \n",
      "1          0.079432          0.057236        -0.232393    -0.054058   \n",
      "2          0.144332         -0.133914        -0.216168    -0.016408   \n",
      "3          0.138733         -0.049396        -0.277593     0.008081   \n",
      "4          0.125880         -0.155483         0.154936     0.044579   \n",
      "5          0.126385         -0.129576         0.277323    -0.133242   \n",
      "6          0.143159         -0.140315         0.208944    -0.221469   \n",
      "7          0.098991          0.179652         0.204308    -0.112223   \n",
      "8          0.233088          0.189386         0.113908     0.064295   \n",
      "9          0.291773         -0.059833         0.050396     0.153986   \n",
      "10         0.365004          0.044551        -0.202723     0.114988   \n",
      "11         0.324635          0.211543        -0.195538    -0.117779   \n",
      "12         0.312030          0.165077        -0.474851     0.033070   \n",
      "13         0.304794          0.037549         0.284741    -0.024982   \n",
      "14         0.312673          0.089524         0.169539    -0.279323   \n",
      "15         0.248994         -0.114945         0.286595    -0.392208   \n",
      "16         0.232386         -0.431222        -0.347363    -0.887260   \n",
      "17         0.162351          0.250008         0.083775    -0.419935   \n",
      "18         0.230721         -0.123548         0.068708    -0.685255   \n",
      "19         0.233855          0.333921        -0.445876     0.012542   \n",
      "20         0.411837          0.191631         0.098842    -1.152279   \n",
      "21         0.400849          0.248686         0.125498    -0.007247   \n",
      "22         0.404769          0.298233         0.117617    -0.784727   \n",
      "23         0.269134          0.225345         0.362392    -0.315075   \n",
      "24         0.269760          0.711590        -0.456771     0.001265   \n",
      "\n",
      "         date  incentive  apr  \n",
      "0  2021-12-01          0    0  \n",
      "1  2022-01-01          0    0  \n",
      "2  2022-02-01          0    0  \n",
      "3  2022-03-01          0    0  \n",
      "4  2022-04-01          0    0  \n",
      "5  2022-05-01          0    0  \n",
      "6  2022-06-01          0    0  \n",
      "7  2022-07-01          0    0  \n",
      "8  2022-08-01          0    0  \n",
      "9  2022-09-01          0    0  \n",
      "10 2022-10-01          0    0  \n",
      "11 2022-11-01          0    0  \n",
      "12 2022-12-01          0    0  \n",
      "13 2023-01-01          0    0  \n",
      "14 2023-02-01          0    0  \n",
      "15 2023-03-01          0    0  \n",
      "16 2023-04-01          0    0  \n",
      "17 2023-05-01          0    0  \n",
      "18 2023-06-01          0    0  \n",
      "19 2023-07-01          0    0  \n",
      "20 2023-08-01          0    0  \n",
      "21 2023-09-01          0    0  \n",
      "22 2023-10-01          0    0  \n",
      "23 2023-11-01          0    0  \n",
      "24 2023-12-01          0    0  \n",
      "Checking date: 2022-08-01 00:00:00, Buffer-1: 2022-07-01 00:00:00 (APR: 0), Buffer+1: 2022-09-01 00:00:00 (APR: 0)\n",
      "Checking date: 2022-08-01 00:00:00, Buffer-2: 2022-06-01 00:00:00 (APR: 0), Buffer+2: 2022-10-01 00:00:00 (APR: 0)\n",
      "[Timestamp('2021-12-01 00:00:00'), Timestamp('2022-01-01 00:00:00'), Timestamp('2022-02-01 00:00:00'), Timestamp('2022-03-01 00:00:00'), Timestamp('2022-04-01 00:00:00')]\n",
      "Checking date: 2023-04-01 00:00:00, Buffer-1: 2023-03-01 00:00:00 (APR: 0.0), Buffer+1: 2023-05-01 00:00:00 (APR: 0.0)\n",
      "Checking date: 2023-04-01 00:00:00, Buffer-2: 2023-02-01 00:00:00 (APR: 0.0), Buffer+2: 2023-06-01 00:00:00 (APR: 0.0)\n",
      "    web_traffic_lag  cross_visitation  search_interest  web_traffic  \\\n",
      "0         -4.435833          0.298834        -0.230307     0.099458   \n",
      "1          0.079432          0.057236        -0.232393    -0.054058   \n",
      "2          0.144332         -0.133914        -0.216168    -0.016408   \n",
      "3          0.138733         -0.049396        -0.277593     0.008081   \n",
      "4          0.125880         -0.155483         0.154936     0.044579   \n",
      "5          0.126385         -0.129576         0.277323    -0.133242   \n",
      "6          0.143159         -0.140315         0.208944    -0.221469   \n",
      "7          0.098991          0.179652         0.204308    -0.112223   \n",
      "8          0.233088          0.189386         0.113908     0.064295   \n",
      "9          0.291773         -0.059833         0.050396     0.153986   \n",
      "10         0.365004          0.044551        -0.202723     0.114988   \n",
      "11         0.324635          0.211543        -0.195538    -0.117779   \n",
      "12         0.312030          0.165077        -0.474851     0.033070   \n",
      "13         0.304794          0.037549         0.284741    -0.024982   \n",
      "14         0.312673          0.089524         0.169539    -0.279323   \n",
      "15         0.248994         -0.114945         0.286595    -0.392208   \n",
      "16         0.232386         -0.431222        -0.347363    -0.887260   \n",
      "17         0.162351          0.250008         0.083775    -0.419935   \n",
      "18         0.230721         -0.123548         0.068708    -0.685255   \n",
      "19         0.233855          0.333921        -0.445876     0.012542   \n",
      "20         0.411837          0.191631         0.098842    -1.152279   \n",
      "21         0.400849          0.248686         0.125498    -0.007247   \n",
      "22         0.404769          0.298233         0.117617    -0.784727   \n",
      "23         0.269134          0.225345         0.362392    -0.315075   \n",
      "24         0.269760          0.711590        -0.456771     0.001265   \n",
      "\n",
      "         date  incentive  apr  \n",
      "0  2021-12-01          0    0  \n",
      "1  2022-01-01          0    0  \n",
      "2  2022-02-01          0    0  \n",
      "3  2022-03-01          0    0  \n",
      "4  2022-04-01          0    0  \n",
      "5  2022-05-01          0    0  \n",
      "6  2022-06-01          0    0  \n",
      "7  2022-07-01          0    0  \n",
      "8  2022-08-01          0    0  \n",
      "9  2022-09-01          0    0  \n",
      "10 2022-10-01          0    0  \n",
      "11 2022-11-01          0    0  \n",
      "12 2022-12-01          0    0  \n",
      "13 2023-01-01          0    0  \n",
      "14 2023-02-01          0    0  \n",
      "15 2023-03-01          0    0  \n",
      "16 2023-04-01          0    0  \n",
      "17 2023-05-01          0    0  \n",
      "18 2023-06-01          0    0  \n",
      "19 2023-07-01          0    0  \n",
      "20 2023-08-01          0    0  \n",
      "21 2023-09-01          0    0  \n",
      "22 2023-10-01          0    0  \n",
      "23 2023-11-01          0    0  \n",
      "24 2023-12-01          0    0  \n",
      "Checking date: 2023-04-01 00:00:00, Buffer-1: 2023-03-01 00:00:00 (APR: 0), Buffer+1: 2023-05-01 00:00:00 (APR: 0)\n",
      "Checking date: 2023-04-01 00:00:00, Buffer-2: 2023-02-01 00:00:00 (APR: 0), Buffer+2: 2023-06-01 00:00:00 (APR: 0)\n",
      "[Timestamp('2021-12-01 00:00:00'), Timestamp('2022-01-01 00:00:00'), Timestamp('2022-02-01 00:00:00'), Timestamp('2022-03-01 00:00:00'), Timestamp('2022-04-01 00:00:00')]\n",
      "Checking date: 2022-05-01 00:00:00, Buffer-1: 2022-04-01 00:00:00 (APR: 0.0), Buffer+1: 2022-06-01 00:00:00 (APR: 0.0)\n",
      "Checking date: 2022-05-01 00:00:00, Buffer-2: 2022-03-01 00:00:00 (APR: 0.0), Buffer+2: 2022-07-01 00:00:00 (APR: 0.0)\n",
      "    web_traffic_lag  cross_visitation  search_interest  web_traffic  \\\n",
      "0         -4.435833          0.294899         0.010759    -0.384480   \n",
      "1          0.337652          0.218345         0.007283    -0.378632   \n",
      "2          0.390058         -0.080222        -0.007784    -0.350395   \n",
      "3          0.399757          0.034554        -0.076164    -0.332028   \n",
      "4          0.402761         -0.060073         0.106954    -0.304655   \n",
      "5          0.410841         -0.038464         0.269906    -0.133242   \n",
      "6          0.335029         -0.104782         0.218216    -0.284230   \n",
      "7          0.394532          0.247728         0.222852    -0.128430   \n",
      "8          0.474505          0.196937         0.067549     0.028657   \n",
      "9          0.489406          0.060356         0.275006     0.123665   \n",
      "10         0.507488          0.164533        -0.226830    -0.387311   \n",
      "11         0.423417          0.280745        -0.221035    -0.147894   \n",
      "12         0.440096          0.377077        -0.284779     0.056935   \n",
      "13         0.500425          0.272427         0.279178     0.086688   \n",
      "14         0.509665          0.138701         0.150995    -0.171298   \n",
      "15         0.418270          0.020801         0.279641    -0.255748   \n",
      "16         0.415736         -0.283766        -0.150570    -0.731499   \n",
      "17         0.348866          0.357306         0.298185    -0.305101   \n",
      "18         0.398178         -0.002943         0.275006    -0.540889   \n",
      "19         0.410286          0.415181        -0.204578    -0.268079   \n",
      "20         0.484591          0.266418         0.237918    -0.814804   \n",
      "21         0.410542          0.348532         0.316729    -0.007247   \n",
      "22         0.424572          0.370490         0.314411    -1.846851   \n",
      "23         0.322922          0.306953         0.298185    -0.328467   \n",
      "24         0.396283          0.922790        -0.282461    -0.062648   \n",
      "\n",
      "         date  incentive  apr  \n",
      "0  2021-12-01          0    0  \n",
      "1  2022-01-01          0    0  \n",
      "2  2022-02-01          0    0  \n",
      "3  2022-03-01          0    0  \n",
      "4  2022-04-01          0    0  \n",
      "5  2022-05-01          0    0  \n",
      "6  2022-06-01          0    0  \n",
      "7  2022-07-01          0    0  \n",
      "8  2022-08-01          0    0  \n",
      "9  2022-09-01          0    0  \n",
      "10 2022-10-01          0    0  \n",
      "11 2022-11-01          0    0  \n",
      "12 2022-12-01          0    0  \n",
      "13 2023-01-01          0    0  \n",
      "14 2023-02-01          0    0  \n",
      "15 2023-03-01          0    0  \n",
      "16 2023-04-01          0    0  \n",
      "17 2023-05-01          0    0  \n",
      "18 2023-06-01          0    0  \n",
      "19 2023-07-01          0    0  \n",
      "20 2023-08-01          0    0  \n",
      "21 2023-09-01          0    0  \n",
      "22 2023-10-01          0    0  \n",
      "23 2023-11-01          0    0  \n",
      "24 2023-12-01          0    0  \n",
      "Checking date: 2022-05-01 00:00:00, Buffer-1: 2022-04-01 00:00:00 (APR: 0), Buffer+1: 2022-06-01 00:00:00 (APR: 0)\n",
      "Checking date: 2022-05-01 00:00:00, Buffer-2: 2022-03-01 00:00:00 (APR: 0), Buffer+2: 2022-07-01 00:00:00 (APR: 0)\n",
      "[Timestamp('2021-12-01 00:00:00'), Timestamp('2022-01-01 00:00:00'), Timestamp('2022-02-01 00:00:00'), Timestamp('2022-03-01 00:00:00'), Timestamp('2022-04-01 00:00:00')]\n",
      "Checking date: 2022-08-01 00:00:00, Buffer-1: 2022-07-01 00:00:00 (APR: 0.0), Buffer+1: 2022-09-01 00:00:00 (APR: 0.0)\n",
      "Checking date: 2022-08-01 00:00:00, Buffer-2: 2022-06-01 00:00:00 (APR: 0.0), Buffer+2: 2022-10-01 00:00:00 (APR: 0.0)\n",
      "    web_traffic_lag  cross_visitation  search_interest  web_traffic  \\\n",
      "0         -4.435833          0.294899         0.010759    -0.384480   \n",
      "1          0.337652          0.218345         0.007283    -0.378632   \n",
      "2          0.390058         -0.080222        -0.007784    -0.350395   \n",
      "3          0.399757          0.034554        -0.076164    -0.332028   \n",
      "4          0.402761         -0.060073         0.106954    -0.304655   \n",
      "5          0.410841         -0.038464         0.269906    -0.133242   \n",
      "6          0.335029         -0.104782         0.218216    -0.284230   \n",
      "7          0.394532          0.247728         0.222852    -0.128430   \n",
      "8          0.474505          0.196937         0.067549     0.028657   \n",
      "9          0.489406          0.060356         0.275006     0.123665   \n",
      "10         0.507488          0.164533        -0.226830    -0.387311   \n",
      "11         0.423417          0.280745        -0.221035    -0.147894   \n",
      "12         0.440096          0.377077        -0.284779     0.056935   \n",
      "13         0.500425          0.272427         0.279178     0.086688   \n",
      "14         0.509665          0.138701         0.150995    -0.171298   \n",
      "15         0.418270          0.020801         0.279641    -0.255748   \n",
      "16         0.415736         -0.283766        -0.150570    -0.731499   \n",
      "17         0.348866          0.357306         0.298185    -0.305101   \n",
      "18         0.398178         -0.002943         0.275006    -0.540889   \n",
      "19         0.410286          0.415181        -0.204578    -0.268079   \n",
      "20         0.484591          0.266418         0.237918    -0.814804   \n",
      "21         0.410542          0.348532         0.316729    -0.007247   \n",
      "22         0.424572          0.370490         0.314411    -1.846851   \n",
      "23         0.322922          0.306953         0.298185    -0.328467   \n",
      "24         0.396283          0.922790        -0.282461    -0.062648   \n",
      "\n",
      "         date  incentive  apr  \n",
      "0  2021-12-01          0    0  \n",
      "1  2022-01-01          0    0  \n",
      "2  2022-02-01          0    0  \n",
      "3  2022-03-01          0    0  \n",
      "4  2022-04-01          0    0  \n",
      "5  2022-05-01          0    0  \n",
      "6  2022-06-01          0    0  \n",
      "7  2022-07-01          0    0  \n",
      "8  2022-08-01          0    0  \n",
      "9  2022-09-01          0    0  \n",
      "10 2022-10-01          0    0  \n",
      "11 2022-11-01          0    0  \n",
      "12 2022-12-01          0    0  \n",
      "13 2023-01-01          0    0  \n",
      "14 2023-02-01          0    0  \n",
      "15 2023-03-01          0    0  \n",
      "16 2023-04-01          0    0  \n",
      "17 2023-05-01          0    0  \n",
      "18 2023-06-01          0    0  \n",
      "19 2023-07-01          0    0  \n",
      "20 2023-08-01          0    0  \n",
      "21 2023-09-01          0    0  \n",
      "22 2023-10-01          0    0  \n",
      "23 2023-11-01          0    0  \n",
      "24 2023-12-01          0    0  \n",
      "Checking date: 2022-08-01 00:00:00, Buffer-1: 2022-07-01 00:00:00 (APR: 0), Buffer+1: 2022-09-01 00:00:00 (APR: 0)\n",
      "Checking date: 2022-08-01 00:00:00, Buffer-2: 2022-06-01 00:00:00 (APR: 0), Buffer+2: 2022-10-01 00:00:00 (APR: 0)\n",
      "[Timestamp('2021-12-01 00:00:00'), Timestamp('2022-01-01 00:00:00'), Timestamp('2022-02-01 00:00:00'), Timestamp('2022-03-01 00:00:00'), Timestamp('2022-04-01 00:00:00')]\n",
      "Checking date: 2023-09-01 00:00:00, Buffer-1: 2023-08-01 00:00:00 (APR: 0.0), Buffer+1: 2023-10-01 00:00:00 (APR: 0.0)\n",
      "Checking date: 2023-09-01 00:00:00, Buffer-2: 2023-07-01 00:00:00 (APR: 0.0), Buffer+2: 2023-11-01 00:00:00 (APR: 0.0)\n",
      "    web_traffic_lag  cross_visitation  search_interest  web_traffic  \\\n",
      "0         -4.435833          0.294899         0.010759    -0.384480   \n",
      "1          0.337652          0.218345         0.007283    -0.378632   \n",
      "2          0.390058         -0.080222        -0.007784    -0.350395   \n",
      "3          0.399757          0.034554        -0.076164    -0.332028   \n",
      "4          0.402761         -0.060073         0.106954    -0.304655   \n",
      "5          0.410841         -0.038464         0.269906    -0.133242   \n",
      "6          0.335029         -0.104782         0.218216    -0.284230   \n",
      "7          0.394532          0.247728         0.222852    -0.128430   \n",
      "8          0.474505          0.196937         0.067549     0.028657   \n",
      "9          0.489406          0.060356         0.275006     0.123665   \n",
      "10         0.507488          0.164533        -0.226830    -0.387311   \n",
      "11         0.423417          0.280745        -0.221035    -0.147894   \n",
      "12         0.440096          0.377077        -0.284779     0.056935   \n",
      "13         0.500425          0.272427         0.279178     0.086688   \n",
      "14         0.509665          0.138701         0.150995    -0.171298   \n",
      "15         0.418270          0.020801         0.279641    -0.255748   \n",
      "16         0.415736         -0.283766        -0.150570    -0.731499   \n",
      "17         0.348866          0.357306         0.298185    -0.305101   \n",
      "18         0.398178         -0.002943         0.275006    -0.540889   \n",
      "19         0.410286          0.415181        -0.204578    -0.268079   \n",
      "20         0.484591          0.266418         0.237918    -0.814804   \n",
      "21         0.410542          0.348532         0.316729    -0.007247   \n",
      "22         0.424572          0.370490         0.314411    -1.846851   \n",
      "23         0.322922          0.306953         0.298185    -0.328467   \n",
      "24         0.396283          0.922790        -0.282461    -0.062648   \n",
      "\n",
      "         date  incentive  apr  \n",
      "0  2021-12-01          0    0  \n",
      "1  2022-01-01          0    0  \n",
      "2  2022-02-01          0    0  \n",
      "3  2022-03-01          0    0  \n",
      "4  2022-04-01          0    0  \n",
      "5  2022-05-01          0    0  \n",
      "6  2022-06-01          0    0  \n",
      "7  2022-07-01          0    0  \n",
      "8  2022-08-01          0    0  \n",
      "9  2022-09-01          0    0  \n",
      "10 2022-10-01          0    0  \n",
      "11 2022-11-01          0    0  \n",
      "12 2022-12-01          0    0  \n",
      "13 2023-01-01          0    0  \n",
      "14 2023-02-01          0    0  \n",
      "15 2023-03-01          0    0  \n",
      "16 2023-04-01          0    0  \n",
      "17 2023-05-01          0    0  \n",
      "18 2023-06-01          0    0  \n",
      "19 2023-07-01          0    0  \n",
      "20 2023-08-01          0    0  \n",
      "21 2023-09-01          0    0  \n",
      "22 2023-10-01          0    0  \n",
      "23 2023-11-01          0    0  \n",
      "24 2023-12-01          0    0  \n",
      "Checking date: 2023-09-01 00:00:00, Buffer-1: 2023-08-01 00:00:00 (APR: 0), Buffer+1: 2023-10-01 00:00:00 (APR: 0)\n",
      "Checking date: 2023-09-01 00:00:00, Buffer-2: 2023-07-01 00:00:00 (APR: 0), Buffer+2: 2023-11-01 00:00:00 (APR: 0)\n",
      "[Timestamp('2021-12-01 00:00:00'), Timestamp('2022-01-01 00:00:00'), Timestamp('2022-02-01 00:00:00'), Timestamp('2022-03-01 00:00:00'), Timestamp('2022-04-01 00:00:00')]\n"
     ]
    },
    {
     "data": {
      "text/plain": [
       "{'regressions': [{'banks_for_regression': 'abanca * avg',\n",
       "   'bank_of_interest_event_series':      bank       date  web_traffic_lag  web_traffic  cross_visitation  \\\n",
       "   2  abanca 2022-02-01         0.654223     0.865440         -1.078425   \n",
       "   3  abanca 2022-03-01         0.558091     0.866995         -0.845045   \n",
       "   4  abanca 2022-04-01         0.558758     1.044470         -1.130745   \n",
       "   5  abanca 2022-05-01         0.634850     0.701919         -0.926270   \n",
       "   6  abanca 2022-06-01         0.487982     0.884320         -1.013821   \n",
       "   \n",
       "      search_interest      rank  mentions  app_installs  ppc_spend  apr  \\\n",
       "   2        -0.710122 -0.380274 -0.071236      0.224657   0.256398  0.0   \n",
       "   3        -0.733302 -0.380274 -0.071236     -0.365729  -0.475698  0.0   \n",
       "   4        -0.733302 -0.380274 -0.071236     -0.968828  -0.872459  0.0   \n",
       "   5        -0.703168 -0.600442 -0.071236     -0.064996   0.403430  0.0   \n",
       "   6        -0.652174 -0.380274 -0.922968      2.374108   0.043365  0.0   \n",
       "   \n",
       "      incentive  \n",
       "   2        0.0  \n",
       "   3        0.0  \n",
       "   4      300.0  \n",
       "   5        0.0  \n",
       "   6        0.0  ,\n",
       "   'control_bank_event_series':    web_traffic_lag  cross_visitation  search_interest  web_traffic       date  \\\n",
       "   2         0.073072         -0.096774        -0.002916    -0.419021 2022-02-01   \n",
       "   3         0.086699         -0.018262        -0.066660    -0.395130 2022-03-01   \n",
       "   4         0.073713         -0.085661         0.356597    -0.420710 2022-04-01   \n",
       "   5         0.058999         -0.092540         0.497992    -0.022895 2022-05-01   \n",
       "   6         0.058343         -0.085726         0.436103    -0.337995 2022-06-01   \n",
       "   \n",
       "      incentive  apr  \n",
       "   2          0    0  \n",
       "   3          0    0  \n",
       "   4          0    0  \n",
       "   5          0    0  \n",
       "   6          0    0  ,\n",
       "   'bank_of_interest_non_event_series':      bank       date  web_traffic_lag  web_traffic  cross_visitation  \\\n",
       "   5  abanca 2022-05-01         0.634850     0.701919         -0.926270   \n",
       "   6  abanca 2022-06-01         0.487982     0.884320         -1.013821   \n",
       "   7  abanca 2022-07-01         0.566186     1.518390         -0.870214   \n",
       "   8  abanca 2022-08-01         0.838043     1.363675         -0.613364   \n",
       "   9  abanca 2022-09-01         0.771710     1.301022         -0.877671   \n",
       "   \n",
       "      search_interest      rank  mentions  app_installs  ppc_spend  apr  \\\n",
       "   5        -0.703168 -0.600442 -0.071236     -0.064996   0.403430  0.0   \n",
       "   6        -0.652174 -0.380274 -0.922968      2.374108   0.043365  0.0   \n",
       "   7        -0.666081 -0.160105 -0.497102      2.968629   0.339074  0.0   \n",
       "   8        -0.721712 -0.160105 -0.922968      1.829412   0.492094  0.0   \n",
       "   9        -0.675353  0.060063  0.354630      1.020860  -0.146120  0.0   \n",
       "   \n",
       "      incentive  \n",
       "   5        0.0  \n",
       "   6        0.0  \n",
       "   7        0.0  \n",
       "   8        0.0  \n",
       "   9        0.0  ,\n",
       "   'control_bank_non_event_series':    web_traffic_lag  cross_visitation  search_interest  web_traffic       date  \\\n",
       "   5         0.058999         -0.092540         0.497992    -0.022895 2022-05-01   \n",
       "   6         0.058343         -0.085726         0.436103    -0.337995 2022-06-01   \n",
       "   7         0.076620          0.262062         0.443520    -0.310457 2022-07-01   \n",
       "   8         0.174722          0.232186         0.299344    -0.065186 2022-08-01   \n",
       "   9         0.254133          0.016658         0.272919     0.077170 2022-09-01   \n",
       "   \n",
       "      incentive  apr  \n",
       "   5          0    0  \n",
       "   6          0    0  \n",
       "   7          0    0  \n",
       "   8          0    0  \n",
       "   9          0    0  },\n",
       "  {'banks_for_regression': 'banc sabadell * avg',\n",
       "   'bank_of_interest_event_series':              bank       date  web_traffic_lag  web_traffic  cross_visitation  \\\n",
       "   6   banc sabadell 2022-06-01         0.063901     0.623434         -0.740878   \n",
       "   7   banc sabadell 2022-07-01         0.454331     0.837738         -0.458164   \n",
       "   8   banc sabadell 2022-08-01         0.546214     0.924726         -0.399363   \n",
       "   9   banc sabadell 2022-09-01         0.583510     1.033243         -0.495217   \n",
       "   10  banc sabadell 2022-10-01         0.630037     0.150437         -0.602755   \n",
       "   \n",
       "       search_interest      rank  mentions  app_installs  ppc_spend  apr  \\\n",
       "   6          0.483621 -1.260947 -0.922968      0.017207   0.153672  0.0   \n",
       "   7          0.529980 -1.260947 -0.922968      0.319390   2.523540  0.0   \n",
       "   8          0.205467 -0.380274 -0.922968      0.509879   1.698135  1.0   \n",
       "   9          0.437262 -0.380274 -0.922968      0.880102   1.985857  0.0   \n",
       "   10         0.316729 -0.380274 -0.922968      0.165512   1.236541  0.0   \n",
       "   \n",
       "       incentive  \n",
       "   6         0.0  \n",
       "   7         0.0  \n",
       "   8        50.0  \n",
       "   9         0.0  \n",
       "   10        0.0  ,\n",
       "   'control_bank_event_series':     web_traffic_lag  cross_visitation  search_interest  web_traffic  \\\n",
       "   6          0.143159         -0.140315         0.208944    -0.221469   \n",
       "   7          0.098991          0.179652         0.204308    -0.112223   \n",
       "   8          0.233088          0.189386         0.113908     0.064295   \n",
       "   9          0.291773         -0.059833         0.050396     0.153986   \n",
       "   10         0.365004          0.044551        -0.202723     0.114988   \n",
       "   \n",
       "            date  incentive  apr  \n",
       "   6  2022-06-01          0    0  \n",
       "   7  2022-07-01          0    0  \n",
       "   8  2022-08-01          0    0  \n",
       "   9  2022-09-01          0    0  \n",
       "   10 2022-10-01          0    0  ,\n",
       "   'bank_of_interest_non_event_series':             bank       date  web_traffic_lag  web_traffic  cross_visitation  \\\n",
       "   0  banc sabadell 2021-12-01        -4.435833      0.25863         -0.624080   \n",
       "   1  banc sabadell 2022-01-01         0.297922      0.25863         -0.260031   \n",
       "   2  banc sabadell 2022-02-01         0.297922      0.25863         -0.892725   \n",
       "   3  banc sabadell 2022-03-01         0.297922      0.25863         -0.689373   \n",
       "   4  banc sabadell 2022-04-01         0.297922      0.25863         -0.781634   \n",
       "   \n",
       "      search_interest      rank  mentions  app_installs  ppc_spend  apr  \\\n",
       "   0         0.518390 -1.260947 -0.922968     -0.313054  -1.002157  0.0   \n",
       "   1         0.511436 -1.260947 -0.922968     -0.313054  -1.002157  0.0   \n",
       "   2         0.356134 -1.260947 -0.922968     -0.313054  -1.002157  0.0   \n",
       "   3         0.321364 -1.260947 -0.922968     -0.313054  -1.002157  0.0   \n",
       "   4         0.275006 -1.260947 -0.922968     -0.675524  -0.098392  0.0   \n",
       "   \n",
       "      incentive  \n",
       "   0        0.0  \n",
       "   1        0.0  \n",
       "   2        0.0  \n",
       "   3        0.0  \n",
       "   4        0.0  ,\n",
       "   'control_bank_non_event_series':    web_traffic_lag  cross_visitation  search_interest  web_traffic       date  \\\n",
       "   0        -4.435833          0.298834        -0.230307     0.099458 2021-12-01   \n",
       "   1         0.079432          0.057236        -0.232393    -0.054058 2022-01-01   \n",
       "   2         0.144332         -0.133914        -0.216168    -0.016408 2022-02-01   \n",
       "   3         0.138733         -0.049396        -0.277593     0.008081 2022-03-01   \n",
       "   4         0.125880         -0.155483         0.154936     0.044579 2022-04-01   \n",
       "   \n",
       "      incentive  apr  \n",
       "   0          0    0  \n",
       "   1          0    0  \n",
       "   2          0    0  \n",
       "   3          0    0  \n",
       "   4          0    0  },\n",
       "  {'banks_for_regression': 'banc sabadell * avg',\n",
       "   'bank_of_interest_event_series':              bank       date  web_traffic_lag  web_traffic  cross_visitation  \\\n",
       "   14  banc sabadell 2023-02-01         0.840684     1.165065         -0.323262   \n",
       "   15  banc sabadell 2023-03-01         0.686555     1.166064         -0.393045   \n",
       "   16  banc sabadell 2023-04-01         0.686984     0.767807         -0.342382   \n",
       "   17  banc sabadell 2023-05-01         0.516231     1.040187         -0.440320   \n",
       "   18  banc sabadell 2023-06-01         0.633014     0.897814         -0.327205   \n",
       "   \n",
       "       search_interest      rank  mentions  app_installs  ppc_spend  apr  \\\n",
       "   14         0.344544  0.206842 -0.922968      0.166353   0.586680  0.0   \n",
       "   15         0.402493 -0.527053 -0.922968      0.255775   0.001298  0.0   \n",
       "   16         0.298185 -0.527053 -0.922968      0.061285  -0.197562  0.0   \n",
       "   17         0.228647 -0.527053 -0.922968      0.187415   0.914241  2.5   \n",
       "   18         0.309775 -0.527053 -0.922968      0.182233   0.488578  0.0   \n",
       "   \n",
       "       incentive  \n",
       "   14        0.0  \n",
       "   15        0.0  \n",
       "   16      250.0  \n",
       "   17        0.0  \n",
       "   18        0.0  ,\n",
       "   'control_bank_event_series':     web_traffic_lag  cross_visitation  search_interest  web_traffic  \\\n",
       "   14         0.312673          0.089524         0.169539    -0.279323   \n",
       "   15         0.248994         -0.114945         0.286595    -0.392208   \n",
       "   16         0.232386         -0.431222        -0.347363    -0.887260   \n",
       "   17         0.162351          0.250008         0.083775    -0.419935   \n",
       "   18         0.230721         -0.123548         0.068708    -0.685255   \n",
       "   \n",
       "            date  incentive  apr  \n",
       "   14 2023-02-01          0    0  \n",
       "   15 2023-03-01          0    0  \n",
       "   16 2023-04-01          0    0  \n",
       "   17 2023-05-01          0    0  \n",
       "   18 2023-06-01          0    0  ,\n",
       "   'bank_of_interest_non_event_series':             bank       date  web_traffic_lag  web_traffic  cross_visitation  \\\n",
       "   0  banc sabadell 2021-12-01        -4.435833      0.25863         -0.624080   \n",
       "   1  banc sabadell 2022-01-01         0.297922      0.25863         -0.260031   \n",
       "   2  banc sabadell 2022-02-01         0.297922      0.25863         -0.892725   \n",
       "   3  banc sabadell 2022-03-01         0.297922      0.25863         -0.689373   \n",
       "   4  banc sabadell 2022-04-01         0.297922      0.25863         -0.781634   \n",
       "   \n",
       "      search_interest      rank  mentions  app_installs  ppc_spend  apr  \\\n",
       "   0         0.518390 -1.260947 -0.922968     -0.313054  -1.002157  0.0   \n",
       "   1         0.511436 -1.260947 -0.922968     -0.313054  -1.002157  0.0   \n",
       "   2         0.356134 -1.260947 -0.922968     -0.313054  -1.002157  0.0   \n",
       "   3         0.321364 -1.260947 -0.922968     -0.313054  -1.002157  0.0   \n",
       "   4         0.275006 -1.260947 -0.922968     -0.675524  -0.098392  0.0   \n",
       "   \n",
       "      incentive  \n",
       "   0        0.0  \n",
       "   1        0.0  \n",
       "   2        0.0  \n",
       "   3        0.0  \n",
       "   4        0.0  ,\n",
       "   'control_bank_non_event_series':    web_traffic_lag  cross_visitation  search_interest  web_traffic       date  \\\n",
       "   0        -4.435833          0.298834        -0.230307     0.099458 2021-12-01   \n",
       "   1         0.079432          0.057236        -0.232393    -0.054058 2022-01-01   \n",
       "   2         0.144332         -0.133914        -0.216168    -0.016408 2022-02-01   \n",
       "   3         0.138733         -0.049396        -0.277593     0.008081 2022-03-01   \n",
       "   4         0.125880         -0.155483         0.154936     0.044579 2022-04-01   \n",
       "   \n",
       "      incentive  apr  \n",
       "   0          0    0  \n",
       "   1          0    0  \n",
       "   2          0    0  \n",
       "   3          0    0  \n",
       "   4          0    0  },\n",
       "  {'banks_for_regression': 'santander * avg',\n",
       "   'bank_of_interest_event_series':         bank       date  web_traffic_lag  web_traffic  cross_visitation  \\\n",
       "   3  santander 2022-03-01         0.380643     0.497888          0.451652   \n",
       "   4  santander 2022-04-01         0.400504     0.494792          0.853894   \n",
       "   5  santander 2022-05-01         0.399176     0.944736          0.496294   \n",
       "   6  santander 2022-06-01         0.592089     0.896468          0.428214   \n",
       "   7  santander 2022-07-01         0.571395     0.911445          0.601301   \n",
       "   \n",
       "      search_interest      rank  mentions  app_installs  ppc_spend  apr  \\\n",
       "   3         1.828030  1.149068  0.780496     -0.316403   0.205896  0.0   \n",
       "   4         1.665774  1.149068 -0.497102     -0.282562  -0.548216  0.0   \n",
       "   5         1.911477  1.149068  1.632228      1.423270  -0.103935  0.0   \n",
       "   6         2.071415  1.149068 -0.922968      1.477603  -0.454265  0.0   \n",
       "   7         2.050553  1.149068 -0.071236      1.111132  -0.484001  0.0   \n",
       "   \n",
       "      incentive  \n",
       "   3        0.0  \n",
       "   4        0.0  \n",
       "   5      150.0  \n",
       "   6        0.0  \n",
       "   7        0.0  ,\n",
       "   'control_bank_event_series':    web_traffic_lag  cross_visitation  search_interest  web_traffic       date  \\\n",
       "   3         0.399757          0.034554        -0.076164    -0.332028 2022-03-01   \n",
       "   4         0.402761         -0.060073         0.106954    -0.304655 2022-04-01   \n",
       "   5         0.410841         -0.038464         0.269906    -0.133242 2022-05-01   \n",
       "   6         0.335029         -0.104782         0.218216    -0.284230 2022-06-01   \n",
       "   7         0.394532          0.247728         0.222852    -0.128430 2022-07-01   \n",
       "   \n",
       "      incentive  apr  \n",
       "   3          0    0  \n",
       "   4          0    0  \n",
       "   5          0    0  \n",
       "   6          0    0  \n",
       "   7          0    0  ,\n",
       "   'bank_of_interest_non_event_series':         bank       date  web_traffic_lag  web_traffic  cross_visitation  \\\n",
       "   0  santander 2021-12-01        -4.435833     0.380346          0.558394   \n",
       "   1  santander 2022-01-01         0.350108     0.645900          0.319052   \n",
       "   2  santander 2022-02-01         0.463964     0.451567          0.617154   \n",
       "   3  santander 2022-03-01         0.380643     0.497888          0.451652   \n",
       "   4  santander 2022-04-01         0.400504     0.494792          0.853894   \n",
       "   \n",
       "      search_interest      rank  mentions  app_installs  ppc_spend  apr  \\\n",
       "   0         1.990287  1.149068  1.206362      0.258865  -0.208290  0.0   \n",
       "   1         2.022738  1.149068 -0.071236      0.224657   0.256398  0.0   \n",
       "   2         1.990287  1.149068  1.632228      0.047935   0.359043  0.0   \n",
       "   3         1.828030  1.149068  0.780496     -0.316403   0.205896  0.0   \n",
       "   4         1.665774  1.149068 -0.497102     -0.282562  -0.548216  0.0   \n",
       "   \n",
       "      incentive  \n",
       "   0        0.0  \n",
       "   1        0.0  \n",
       "   2        0.0  \n",
       "   3        0.0  \n",
       "   4        0.0  ,\n",
       "   'control_bank_non_event_series':    web_traffic_lag  cross_visitation  search_interest  web_traffic       date  \\\n",
       "   0        -4.435833          0.294899         0.010759    -0.384480 2021-12-01   \n",
       "   1         0.337652          0.218345         0.007283    -0.378632 2022-01-01   \n",
       "   2         0.390058         -0.080222        -0.007784    -0.350395 2022-02-01   \n",
       "   3         0.399757          0.034554        -0.076164    -0.332028 2022-03-01   \n",
       "   4         0.402761         -0.060073         0.106954    -0.304655 2022-04-01   \n",
       "   \n",
       "      incentive  apr  \n",
       "   0          0    0  \n",
       "   1          0    0  \n",
       "   2          0    0  \n",
       "   3          0    0  \n",
       "   4          0    0  },\n",
       "  {'banks_for_regression': 'santander * avg',\n",
       "   'bank_of_interest_event_series':          bank       date  web_traffic_lag  web_traffic  cross_visitation  \\\n",
       "   6   santander 2022-06-01         0.592089     0.896468          0.428214   \n",
       "   7   santander 2022-07-01         0.571395     0.911445          0.601301   \n",
       "   8   santander 2022-08-01         0.577816     1.051008          0.950516   \n",
       "   9   santander 2022-09-01         0.637654     1.083004          0.758391   \n",
       "   10  santander 2022-10-01         0.651372     1.559393          0.776448   \n",
       "   \n",
       "       search_interest      rank  mentions  app_installs  ppc_spend  apr  \\\n",
       "   6          2.071415  1.149068 -0.922968      1.477603  -0.454265  0.0   \n",
       "   7          2.050553  1.149068 -0.071236      1.111132  -0.484001  0.0   \n",
       "   8          1.631005  0.500400 -0.497102      1.253872  -0.298665  0.0   \n",
       "   9          1.793261  0.060063  0.354630      1.926402  -0.446373  0.0   \n",
       "   10         1.828030  0.060063 -0.071236      1.889562   0.221780  0.0   \n",
       "   \n",
       "       incentive  \n",
       "   6         0.0  \n",
       "   7         0.0  \n",
       "   8       150.0  \n",
       "   9         0.0  \n",
       "   10        0.0  ,\n",
       "   'control_bank_event_series':     web_traffic_lag  cross_visitation  search_interest  web_traffic  \\\n",
       "   6          0.335029         -0.104782         0.218216    -0.284230   \n",
       "   7          0.394532          0.247728         0.222852    -0.128430   \n",
       "   8          0.474505          0.196937         0.067549     0.028657   \n",
       "   9          0.489406          0.060356         0.275006     0.123665   \n",
       "   10         0.507488          0.164533        -0.226830    -0.387311   \n",
       "   \n",
       "            date  incentive  apr  \n",
       "   6  2022-06-01          0    0  \n",
       "   7  2022-07-01          0    0  \n",
       "   8  2022-08-01          0    0  \n",
       "   9  2022-09-01          0    0  \n",
       "   10 2022-10-01          0    0  ,\n",
       "   'bank_of_interest_non_event_series':         bank       date  web_traffic_lag  web_traffic  cross_visitation  \\\n",
       "   0  santander 2021-12-01        -4.435833     0.380346          0.558394   \n",
       "   1  santander 2022-01-01         0.350108     0.645900          0.319052   \n",
       "   2  santander 2022-02-01         0.463964     0.451567          0.617154   \n",
       "   3  santander 2022-03-01         0.380643     0.497888          0.451652   \n",
       "   4  santander 2022-04-01         0.400504     0.494792          0.853894   \n",
       "   \n",
       "      search_interest      rank  mentions  app_installs  ppc_spend  apr  \\\n",
       "   0         1.990287  1.149068  1.206362      0.258865  -0.208290  0.0   \n",
       "   1         2.022738  1.149068 -0.071236      0.224657   0.256398  0.0   \n",
       "   2         1.990287  1.149068  1.632228      0.047935   0.359043  0.0   \n",
       "   3         1.828030  1.149068  0.780496     -0.316403   0.205896  0.0   \n",
       "   4         1.665774  1.149068 -0.497102     -0.282562  -0.548216  0.0   \n",
       "   \n",
       "      incentive  \n",
       "   0        0.0  \n",
       "   1        0.0  \n",
       "   2        0.0  \n",
       "   3        0.0  \n",
       "   4        0.0  ,\n",
       "   'control_bank_non_event_series':    web_traffic_lag  cross_visitation  search_interest  web_traffic       date  \\\n",
       "   0        -4.435833          0.294899         0.010759    -0.384480 2021-12-01   \n",
       "   1         0.337652          0.218345         0.007283    -0.378632 2022-01-01   \n",
       "   2         0.390058         -0.080222        -0.007784    -0.350395 2022-02-01   \n",
       "   3         0.399757          0.034554        -0.076164    -0.332028 2022-03-01   \n",
       "   4         0.402761         -0.060073         0.106954    -0.304655 2022-04-01   \n",
       "   \n",
       "      incentive  apr  \n",
       "   0          0    0  \n",
       "   1          0    0  \n",
       "   2          0    0  \n",
       "   3          0    0  \n",
       "   4          0    0  },\n",
       "  {'banks_for_regression': 'santander * avg',\n",
       "   'bank_of_interest_event_series':          bank       date  web_traffic_lag  web_traffic  cross_visitation  \\\n",
       "   19  santander 2023-07-01         0.492262     1.164055          0.868841   \n",
       "   20  santander 2023-08-01         0.686123     0.858699          0.608808   \n",
       "   21  santander 2023-09-01         0.555201     1.041175          0.775504   \n",
       "   22  santander 2023-10-01         0.633438     0.932486          0.797037   \n",
       "   23  santander 2023-11-01         0.586837     0.893817          0.667009   \n",
       "   \n",
       "       search_interest      rank  mentions  app_installs  ppc_spend  apr  \\\n",
       "   19         1.911477  0.500400 -0.497102      1.871749  -0.513523  0.0   \n",
       "   20         1.294903 -0.600442 -0.497102      1.450881  -0.155122  0.0   \n",
       "   21         1.561467 -0.600442  0.354630      2.023180  -0.359409  0.0   \n",
       "   22         1.670410 -0.600442  0.780496      1.754092  -0.353658  0.0   \n",
       "   23         1.723723 -1.481116  0.354630      1.279289   0.139534  0.0   \n",
       "   \n",
       "       incentive  \n",
       "   19        0.0  \n",
       "   20        0.0  \n",
       "   21      400.0  \n",
       "   22        0.0  \n",
       "   23        0.0  ,\n",
       "   'control_bank_event_series':     web_traffic_lag  cross_visitation  search_interest  web_traffic  \\\n",
       "   19         0.410286          0.415181        -0.204578    -0.268079   \n",
       "   20         0.484591          0.266418         0.237918    -0.814804   \n",
       "   21         0.410542          0.348532         0.316729    -0.007247   \n",
       "   22         0.424572          0.370490         0.314411    -1.846851   \n",
       "   23         0.322922          0.306953         0.298185    -0.328467   \n",
       "   \n",
       "            date  incentive  apr  \n",
       "   19 2023-07-01          0    0  \n",
       "   20 2023-08-01          0    0  \n",
       "   21 2023-09-01          0    0  \n",
       "   22 2023-10-01          0    0  \n",
       "   23 2023-11-01          0    0  ,\n",
       "   'bank_of_interest_non_event_series':         bank       date  web_traffic_lag  web_traffic  cross_visitation  \\\n",
       "   0  santander 2021-12-01        -4.435833     0.380346          0.558394   \n",
       "   1  santander 2022-01-01         0.350108     0.645900          0.319052   \n",
       "   2  santander 2022-02-01         0.463964     0.451567          0.617154   \n",
       "   3  santander 2022-03-01         0.380643     0.497888          0.451652   \n",
       "   4  santander 2022-04-01         0.400504     0.494792          0.853894   \n",
       "   \n",
       "      search_interest      rank  mentions  app_installs  ppc_spend  apr  \\\n",
       "   0         1.990287  1.149068  1.206362      0.258865  -0.208290  0.0   \n",
       "   1         2.022738  1.149068 -0.071236      0.224657   0.256398  0.0   \n",
       "   2         1.990287  1.149068  1.632228      0.047935   0.359043  0.0   \n",
       "   3         1.828030  1.149068  0.780496     -0.316403   0.205896  0.0   \n",
       "   4         1.665774  1.149068 -0.497102     -0.282562  -0.548216  0.0   \n",
       "   \n",
       "      incentive  \n",
       "   0        0.0  \n",
       "   1        0.0  \n",
       "   2        0.0  \n",
       "   3        0.0  \n",
       "   4        0.0  ,\n",
       "   'control_bank_non_event_series':    web_traffic_lag  cross_visitation  search_interest  web_traffic       date  \\\n",
       "   0        -4.435833          0.294899         0.010759    -0.384480 2021-12-01   \n",
       "   1         0.337652          0.218345         0.007283    -0.378632 2022-01-01   \n",
       "   2         0.390058         -0.080222        -0.007784    -0.350395 2022-02-01   \n",
       "   3         0.399757          0.034554        -0.076164    -0.332028 2022-03-01   \n",
       "   4         0.402761         -0.060073         0.106954    -0.304655 2022-04-01   \n",
       "   \n",
       "      incentive  apr  \n",
       "   0          0    0  \n",
       "   1          0    0  \n",
       "   2          0    0  \n",
       "   3          0    0  \n",
       "   4          0    0  }]}"
      ]
     },
     "execution_count": 697,
     "metadata": {},
     "output_type": "execute_result"
    }
   ],
   "source": [
    "# For each event date we verify that there is 1 day before and after that are not events\n",
    "all_regressions_incentives = {'regressions': []}\n",
    "\n",
    "# For each bank we find an event date\n",
    "for bank in banks:\n",
    "    try:\n",
    "        bank_data = bank_data_dict[bank]\n",
    "        \n",
    "        # Find dates where there is an APR increase\n",
    "        incentive_increase_dates = bank_data[bank_data.incentive > 0]\n",
    "        \n",
    "        for date in incentive_increase_dates.date:\n",
    "            is_valid = check_if_valid_event(bank_data, date, buffer, 'incentive')\n",
    "            # If the date is valid we check for a control date in another bank\n",
    "            if is_valid:\n",
    "                bank_control = 'avg'\n",
    "                # create a column that is the average of all banks that are not the bank of interest\n",
    "                bank_data_control = bank_control_dict[bank]['bank_df'][all_vars] # control_df_avg\n",
    "                print(bank_data_control)\n",
    "                control_date = bank_data_control[bank_data_control.date == date]\n",
    "                if not control_date.empty and control_date.incentive.iloc[0] == 0 and check_if_valid_event(bank_data_control, date, buffer, 'incentive'):\n",
    "                    # Now we have a valid event and control date\n",
    "                    # We now need to find a control period where neither bank has activity\n",
    "\n",
    "                    # Create a list of dates that are not events for either bank or the control period\n",
    "                    viable_control_dates = bank_data_control[(bank_data_control.incentive == 0) & (bank_data_control.incentive == 0)].date\n",
    "                    # Also remove the event dates + buffer\n",
    "                    viable_control_dates = viable_control_dates[viable_control_dates != date]\n",
    "                    for i in range(1, buffer + 1):\n",
    "                        viable_control_dates = viable_control_dates[viable_control_dates != date + pd.DateOffset(i)]\n",
    "                        viable_control_dates = viable_control_dates[viable_control_dates != date - pd.DateOffset(i)]\n",
    "                    \n",
    "                    # Do the same for the bank dates\n",
    "                    viable_bank_dates = bank_data[(bank_data.incentive == 0) & (bank_data.incentive == 0)].date\n",
    "                    viable_bank_dates = viable_bank_dates[viable_bank_dates != date]\n",
    "                    for i in range(1, buffer + 1):\n",
    "                        viable_bank_dates = viable_bank_dates[viable_bank_dates != date + pd.DateOffset(i)]\n",
    "                        viable_bank_dates = viable_bank_dates[viable_bank_dates != date - pd.DateOffset(i)]\n",
    "\n",
    "                    # Now we have a list of viable control dates for both banks\n",
    "                    # We need to find the intersection of these two lists of dates\n",
    "                    viable_periods = viable_control_dates[viable_control_dates.isin(viable_bank_dates)]\n",
    "\n",
    "                    # Now we need to find a sequence of consecutive dates that are in the viable periods and (buffer*2)+1 dates long\n",
    "                    control_period = find_consecutive_dates(viable_periods, buffer)\n",
    "                    print(control_period)\n",
    "                    \n",
    "                    # Now we create each series with the relevant data\n",
    "                    event_series = bank_data[(bank_data.date >= date - pd.DateOffset(months=buffer)) & (bank_data.date <= date + pd.DateOffset(months=buffer))]\n",
    "                    event_control_series = bank_data_control[(bank_data_control.date >= date - pd.DateOffset(months=buffer)) & (bank_data_control.date <= date + pd.DateOffset(months=buffer))]\n",
    "\n",
    "                    control_event_series = bank_data[(bank_data.date >= control_period[0]) & (bank_data.date <= control_period[-1])]\n",
    "                    control_series = bank_data_control[(bank_data_control.date >= control_period[0]) & (bank_data_control.date <= control_period[-1])]\n",
    "\n",
    "                    # Now we add it to a dictionary\n",
    "                    regression = {\n",
    "                        'banks_for_regression': f'{bank} * {\"avg\"}', \n",
    "                        'bank_of_interest_event_series': event_series, \n",
    "                        'control_bank_event_series': event_control_series, \n",
    "                        'bank_of_interest_non_event_series': control_event_series, \n",
    "                        'control_bank_non_event_series': control_series\n",
    "                    }\n",
    "                    all_regressions_incentives['regressions'].append(regression)\n",
    "    except Exception as e:\n",
    "        print(f\"Error processing bank {bank}: {e}\")\n",
    "\n",
    "all_regressions_incentives\n"
   ]
  },
  {
   "cell_type": "markdown",
   "metadata": {},
   "source": [
    "define a function to get the relevant data from the statsmodel output into a dataframe"
   ]
  },
  {
   "cell_type": "code",
   "execution_count": 698,
   "metadata": {},
   "outputs": [],
   "source": [
    "def extract_data_from_sm(model):\n",
    "    model_dict = {}\n",
    "\n",
    "    # Extracting coefficients\n",
    "    coefficients = model.params\n",
    "    model_dict['coefficients'] = coefficients\n",
    "\n",
    "    # Extracting standard errors of coefficients\n",
    "    std_errors = model.bse\n",
    "    model_dict['standard_errors'] = std_errors\n",
    "\n",
    "    # Extracting t-values\n",
    "    t_values = model.tvalues\n",
    "    model_dict['t_values'] = t_values\n",
    "\n",
    "    # Extracting p-values\n",
    "    p_values = model.pvalues\n",
    "    model_dict['p_values'] = p_values\n",
    "\n",
    "    # Extracting R-squared\n",
    "    r_squared = model.rsquared\n",
    "    model_dict['r_squared'] = r_squared\n",
    "\n",
    "    return pd.DataFrame(model_dict)"
   ]
  },
  {
   "cell_type": "markdown",
   "metadata": {},
   "source": [
    "define a function to get control and event periods for each bank out of the dictionary and into a dataframe that be regressed \n",
    "\n",
    "also creates the interation terms for the regression"
   ]
  },
  {
   "cell_type": "code",
   "execution_count": 699,
   "metadata": {},
   "outputs": [],
   "source": [
    "def get_regression_summary(regression): \n",
    "    # Extract the DataFrames\n",
    "    bank_of_interest_event_series = regression['bank_of_interest_event_series']\n",
    "    control_bank_event_series = regression['control_bank_event_series']\n",
    "    bank_of_interest_non_event_series = regression['bank_of_interest_non_event_series']\n",
    "    control_bank_non_event_series = regression['control_bank_non_event_series']\n",
    "\n",
    "    # standardize columns to [['date', 'web_traffic', 'web_traffic_lag', 'cross_visitation', 'search_interest', 'rank', 'mentions', 'app_installs', 'ppc_spend', 'apr', 'incentive', 'tag']]\n",
    "    bank_of_interest_event_series = bank_of_interest_event_series[all_vars]\n",
    "    control_bank_event_series = control_bank_event_series[all_vars]\n",
    "    bank_of_interest_non_event_series = bank_of_interest_non_event_series[all_vars]\n",
    "    control_bank_non_event_series = control_bank_non_event_series[all_vars]\n",
    "    \n",
    "    # remove 3rd column\n",
    "    control_bank_event_series = control_bank_event_series.loc[:,~control_bank_event_series.columns.duplicated()].copy()\n",
    "    control_bank_non_event_series = control_bank_non_event_series.loc[:,~control_bank_non_event_series.columns.duplicated()].copy()\n",
    "\n",
    "    # print all df shapes \n",
    "    print(bank_of_interest_event_series.index)\n",
    "    print(control_bank_event_series.index)\n",
    "    print(bank_of_interest_non_event_series.index)\n",
    "    print(control_bank_non_event_series.index)\n",
    "\n",
    "    # Add a 'type' and 'period' columns to each DataFrame\n",
    "    bank_of_interest_event_series['type'] = 'bank_of_interest_event'\n",
    "    control_bank_event_series['type'] = 'control_bank_event'\n",
    "    bank_of_interest_non_event_series['type'] = 'bank_of_interest_non_event'\n",
    "    control_bank_non_event_series['type'] = 'control_bank_non_event'\n",
    "\n",
    "    bank_of_interest_event_series['period'] = 'post'\n",
    "    control_bank_event_series['period'] = 'post'\n",
    "    bank_of_interest_non_event_series['period'] = 'pre'\n",
    "    control_bank_non_event_series['period'] = 'pre'\n",
    "\n",
    "    # Combine the series into a single DataFrame\n",
    "    combined_df = pd.concat([\n",
    "        bank_of_interest_event_series,\n",
    "        control_bank_event_series,\n",
    "        bank_of_interest_non_event_series,\n",
    "        control_bank_non_event_series\n",
    "    ])\n",
    "\n",
    "    # Reset index to avoid duplicate indices\n",
    "    combined_df.reset_index(drop=True, inplace=True)\n",
    "    \n",
    "\n",
    "    # Create dummy variables\n",
    "    combined_df['treatment'] = combined_df['type'].apply(lambda x: 1 if x in ['bank_of_interest_event', 'bank_of_interest_non_event'] else 0)\n",
    "    combined_df['post'] = combined_df['period'].apply(lambda x: 1 if x == 'post' else 0)\n",
    "\n",
    "\n",
    "    # Interaction term: treatment * post\n",
    "    combined_df['treatment_post'] = combined_df['treatment'] * combined_df['post']\n",
    "\n",
    "    # Dependent variable\n",
    "    y = combined_df['web_traffic']\n",
    "\n",
    "    # Independent variables\n",
    "    X = combined_df[ind_vars + ['treatment', 'post', 'treatment_post']]\n",
    "    X = sm.add_constant(X)\n",
    "\n",
    "    # Fit the model\n",
    "    model = sm.OLS(y, X).fit()\n",
    "\n",
    "    # Get the summary of the regression\n",
    "    summary = extract_data_from_sm(model)\n",
    "    summary['output_title'] = regression['banks_for_regression']\n",
    "    summary['date_of_event'] = bank_of_interest_event_series.date.median()\n",
    "\n",
    "    # Parallel Trends Check: Only pre-treatment periods\n",
    "    pre_treatment_df = combined_df[combined_df['period'] == 'pre']\n",
    "    y_pre = pre_treatment_df['web_traffic']\n",
    "    X_pre = pre_treatment_df[['treatment', 'post']]  # Only use 'treatment' as 'post' is always 0\n",
    "    X_pre = sm.add_constant(X_pre)\n",
    "    parallel_model = sm.OLS(y_pre, X_pre).fit()\n",
    "    parallel_summary = extract_data_from_sm(parallel_model)\n",
    "    parallel_summary['regression_type'] = 'Parallel Trends Check'\n",
    "    parallel_summary['output_title'] = regression['banks_for_regression']\n",
    "\n",
    "    return summary, parallel_summary"
   ]
  },
  {
   "cell_type": "markdown",
   "metadata": {},
   "source": [
    "### get regrssion outputs for each regression for incentives"
   ]
  },
  {
   "cell_type": "code",
   "execution_count": 700,
   "metadata": {},
   "outputs": [
    {
     "name": "stdout",
     "output_type": "stream",
     "text": [
      "Index([2, 3, 4, 5, 6], dtype='int64')\n",
      "Index([2, 3, 4, 5, 6], dtype='int64')\n",
      "Index([5, 6, 7, 8, 9], dtype='int64')\n",
      "Index([5, 6, 7, 8, 9], dtype='int64')\n",
      "Index([6, 7, 8, 9, 10], dtype='int64')\n",
      "Index([6, 7, 8, 9, 10], dtype='int64')\n",
      "Index([0, 1, 2, 3, 4], dtype='int64')\n",
      "Index([0, 1, 2, 3, 4], dtype='int64')\n",
      "Index([14, 15, 16, 17, 18], dtype='int64')\n",
      "Index([14, 15, 16, 17, 18], dtype='int64')\n",
      "Index([0, 1, 2, 3, 4], dtype='int64')\n",
      "Index([0, 1, 2, 3, 4], dtype='int64')\n",
      "Index([3, 4, 5, 6, 7], dtype='int64')\n",
      "Index([3, 4, 5, 6, 7], dtype='int64')\n",
      "Index([0, 1, 2, 3, 4], dtype='int64')\n",
      "Index([0, 1, 2, 3, 4], dtype='int64')\n",
      "Index([6, 7, 8, 9, 10], dtype='int64')\n",
      "Index([6, 7, 8, 9, 10], dtype='int64')\n",
      "Index([0, 1, 2, 3, 4], dtype='int64')\n",
      "Index([0, 1, 2, 3, 4], dtype='int64')\n",
      "Index([19, 20, 21, 22, 23], dtype='int64')\n",
      "Index([19, 20, 21, 22, 23], dtype='int64')\n",
      "Index([0, 1, 2, 3, 4], dtype='int64')\n",
      "Index([0, 1, 2, 3, 4], dtype='int64')\n"
     ]
    }
   ],
   "source": [
    "all_regression_outputs = []\n",
    "all_parallel_trends_incentives = []\n",
    "\n",
    "for regression in all_regressions_incentives['regressions']:\n",
    "    if len(regression.keys()) > 0:\n",
    "        summary, parallel_trends = get_regression_summary(regression)\n",
    "        all_regression_outputs.append(summary)\n",
    "        all_parallel_trends_incentives.append(parallel_trends)\n",
    "    else: \n",
    "        print('No valid regressions found')\n",
    "        print(regression)\n"
   ]
  },
  {
   "cell_type": "markdown",
   "metadata": {},
   "source": [
    "visualize the regression outputs for each bank"
   ]
  },
  {
   "cell_type": "code",
   "execution_count": 701,
   "metadata": {},
   "outputs": [
    {
     "data": {
      "text/html": [
       "<div>\n",
       "<style scoped>\n",
       "    .dataframe tbody tr th:only-of-type {\n",
       "        vertical-align: middle;\n",
       "    }\n",
       "\n",
       "    .dataframe tbody tr th {\n",
       "        vertical-align: top;\n",
       "    }\n",
       "\n",
       "    .dataframe thead th {\n",
       "        text-align: right;\n",
       "    }\n",
       "</style>\n",
       "<table border=\"1\" class=\"dataframe\">\n",
       "  <thead>\n",
       "    <tr style=\"text-align: right;\">\n",
       "      <th></th>\n",
       "      <th>coefficients</th>\n",
       "      <th>standard_errors</th>\n",
       "      <th>t_values</th>\n",
       "      <th>p_values</th>\n",
       "      <th>r_squared</th>\n",
       "      <th>output_title</th>\n",
       "      <th>date_of_event</th>\n",
       "      <th>variable_name</th>\n",
       "      <th>normalized_coefficients</th>\n",
       "    </tr>\n",
       "  </thead>\n",
       "  <tbody>\n",
       "    <tr>\n",
       "      <th>0</th>\n",
       "      <td>-0.401846</td>\n",
       "      <td>0.225282</td>\n",
       "      <td>-1.783750</td>\n",
       "      <td>0.097812</td>\n",
       "      <td>0.924686</td>\n",
       "      <td>abanca * avg</td>\n",
       "      <td>2022-04-01</td>\n",
       "      <td>const</td>\n",
       "      <td>0.669084</td>\n",
       "    </tr>\n",
       "    <tr>\n",
       "      <th>1</th>\n",
       "      <td>0.967011</td>\n",
       "      <td>0.713168</td>\n",
       "      <td>1.355936</td>\n",
       "      <td>0.198206</td>\n",
       "      <td>0.924686</td>\n",
       "      <td>abanca * avg</td>\n",
       "      <td>2022-04-01</td>\n",
       "      <td>web_traffic_lag</td>\n",
       "      <td>2.630071</td>\n",
       "    </tr>\n",
       "    <tr>\n",
       "      <th>2</th>\n",
       "      <td>-0.016154</td>\n",
       "      <td>0.493129</td>\n",
       "      <td>-0.032758</td>\n",
       "      <td>0.974365</td>\n",
       "      <td>0.924686</td>\n",
       "      <td>abanca * avg</td>\n",
       "      <td>2022-04-01</td>\n",
       "      <td>cross_visitation</td>\n",
       "      <td>0.983976</td>\n",
       "    </tr>\n",
       "    <tr>\n",
       "      <th>3</th>\n",
       "      <td>0.386163</td>\n",
       "      <td>0.418364</td>\n",
       "      <td>0.923031</td>\n",
       "      <td>0.372806</td>\n",
       "      <td>0.924686</td>\n",
       "      <td>abanca * avg</td>\n",
       "      <td>2022-04-01</td>\n",
       "      <td>search_interest</td>\n",
       "      <td>1.471325</td>\n",
       "    </tr>\n",
       "    <tr>\n",
       "      <th>4</th>\n",
       "      <td>1.167844</td>\n",
       "      <td>0.822404</td>\n",
       "      <td>1.420037</td>\n",
       "      <td>0.179132</td>\n",
       "      <td>0.924686</td>\n",
       "      <td>abanca * avg</td>\n",
       "      <td>2022-04-01</td>\n",
       "      <td>treatment</td>\n",
       "      <td>3.215053</td>\n",
       "    </tr>\n",
       "    <tr>\n",
       "      <th>5</th>\n",
       "      <td>-0.080689</td>\n",
       "      <td>0.172829</td>\n",
       "      <td>-0.466871</td>\n",
       "      <td>0.648320</td>\n",
       "      <td>0.924686</td>\n",
       "      <td>abanca * avg</td>\n",
       "      <td>2022-04-01</td>\n",
       "      <td>post</td>\n",
       "      <td>0.922480</td>\n",
       "    </tr>\n",
       "    <tr>\n",
       "      <th>6</th>\n",
       "      <td>-0.115712</td>\n",
       "      <td>0.207654</td>\n",
       "      <td>-0.557235</td>\n",
       "      <td>0.586834</td>\n",
       "      <td>0.924686</td>\n",
       "      <td>abanca * avg</td>\n",
       "      <td>2022-04-01</td>\n",
       "      <td>treatment_post</td>\n",
       "      <td>0.890732</td>\n",
       "    </tr>\n",
       "    <tr>\n",
       "      <th>7</th>\n",
       "      <td>-0.000320</td>\n",
       "      <td>0.113821</td>\n",
       "      <td>-0.002814</td>\n",
       "      <td>0.997797</td>\n",
       "      <td>0.753579</td>\n",
       "      <td>banc sabadell * avg</td>\n",
       "      <td>2022-08-01</td>\n",
       "      <td>const</td>\n",
       "      <td>0.999680</td>\n",
       "    </tr>\n",
       "    <tr>\n",
       "      <th>8</th>\n",
       "      <td>0.000982</td>\n",
       "      <td>0.037451</td>\n",
       "      <td>0.026223</td>\n",
       "      <td>0.979478</td>\n",
       "      <td>0.753579</td>\n",
       "      <td>banc sabadell * avg</td>\n",
       "      <td>2022-08-01</td>\n",
       "      <td>web_traffic_lag</td>\n",
       "      <td>1.000983</td>\n",
       "    </tr>\n",
       "    <tr>\n",
       "      <th>9</th>\n",
       "      <td>0.282505</td>\n",
       "      <td>0.303296</td>\n",
       "      <td>0.931450</td>\n",
       "      <td>0.368597</td>\n",
       "      <td>0.753579</td>\n",
       "      <td>banc sabadell * avg</td>\n",
       "      <td>2022-08-01</td>\n",
       "      <td>cross_visitation</td>\n",
       "      <td>1.326448</td>\n",
       "    </tr>\n",
       "    <tr>\n",
       "      <th>10</th>\n",
       "      <td>-0.102617</td>\n",
       "      <td>0.348004</td>\n",
       "      <td>-0.294872</td>\n",
       "      <td>0.772748</td>\n",
       "      <td>0.753579</td>\n",
       "      <td>banc sabadell * avg</td>\n",
       "      <td>2022-08-01</td>\n",
       "      <td>search_interest</td>\n",
       "      <td>0.902473</td>\n",
       "    </tr>\n",
       "    <tr>\n",
       "      <th>11</th>\n",
       "      <td>0.483778</td>\n",
       "      <td>0.298007</td>\n",
       "      <td>1.623377</td>\n",
       "      <td>0.128497</td>\n",
       "      <td>0.753579</td>\n",
       "      <td>banc sabadell * avg</td>\n",
       "      <td>2022-08-01</td>\n",
       "      <td>treatment</td>\n",
       "      <td>1.622191</td>\n",
       "    </tr>\n",
       "    <tr>\n",
       "      <th>12</th>\n",
       "      <td>-0.004353</td>\n",
       "      <td>0.163273</td>\n",
       "      <td>-0.026664</td>\n",
       "      <td>0.979133</td>\n",
       "      <td>0.753579</td>\n",
       "      <td>banc sabadell * avg</td>\n",
       "      <td>2022-08-01</td>\n",
       "      <td>post</td>\n",
       "      <td>0.995656</td>\n",
       "    </tr>\n",
       "    <tr>\n",
       "      <th>13</th>\n",
       "      <td>0.427206</td>\n",
       "      <td>0.203490</td>\n",
       "      <td>2.099397</td>\n",
       "      <td>0.055874</td>\n",
       "      <td>0.753579</td>\n",
       "      <td>banc sabadell * avg</td>\n",
       "      <td>2022-08-01</td>\n",
       "      <td>treatment_post</td>\n",
       "      <td>1.532968</td>\n",
       "    </tr>\n",
       "    <tr>\n",
       "      <th>14</th>\n",
       "      <td>0.092799</td>\n",
       "      <td>0.070102</td>\n",
       "      <td>1.323768</td>\n",
       "      <td>0.208387</td>\n",
       "      <td>0.965658</td>\n",
       "      <td>banc sabadell * avg</td>\n",
       "      <td>2023-04-01</td>\n",
       "      <td>const</td>\n",
       "      <td>1.097241</td>\n",
       "    </tr>\n",
       "    <tr>\n",
       "      <th>15</th>\n",
       "      <td>0.002283</td>\n",
       "      <td>0.023488</td>\n",
       "      <td>0.097206</td>\n",
       "      <td>0.924045</td>\n",
       "      <td>0.965658</td>\n",
       "      <td>banc sabadell * avg</td>\n",
       "      <td>2023-04-01</td>\n",
       "      <td>web_traffic_lag</td>\n",
       "      <td>1.002286</td>\n",
       "    </tr>\n",
       "    <tr>\n",
       "      <th>16</th>\n",
       "      <td>0.211141</td>\n",
       "      <td>0.183988</td>\n",
       "      <td>1.147578</td>\n",
       "      <td>0.271824</td>\n",
       "      <td>0.965658</td>\n",
       "      <td>banc sabadell * avg</td>\n",
       "      <td>2023-04-01</td>\n",
       "      <td>cross_visitation</td>\n",
       "      <td>1.235086</td>\n",
       "    </tr>\n",
       "    <tr>\n",
       "      <th>17</th>\n",
       "      <td>0.470323</td>\n",
       "      <td>0.215747</td>\n",
       "      <td>2.179974</td>\n",
       "      <td>0.048238</td>\n",
       "      <td>0.965658</td>\n",
       "      <td>banc sabadell * avg</td>\n",
       "      <td>2023-04-01</td>\n",
       "      <td>search_interest</td>\n",
       "      <td>1.600510</td>\n",
       "    </tr>\n",
       "    <tr>\n",
       "      <th>18</th>\n",
       "      <td>0.117996</td>\n",
       "      <td>0.213463</td>\n",
       "      <td>0.552773</td>\n",
       "      <td>0.589798</td>\n",
       "      <td>0.965658</td>\n",
       "      <td>banc sabadell * avg</td>\n",
       "      <td>2023-04-01</td>\n",
       "      <td>treatment</td>\n",
       "      <td>1.125240</td>\n",
       "    </tr>\n",
       "    <tr>\n",
       "      <th>19</th>\n",
       "      <td>-0.636768</td>\n",
       "      <td>0.099088</td>\n",
       "      <td>-6.426292</td>\n",
       "      <td>0.000022</td>\n",
       "      <td>0.965658</td>\n",
       "      <td>banc sabadell * avg</td>\n",
       "      <td>2023-04-01</td>\n",
       "      <td>post</td>\n",
       "      <td>0.528999</td>\n",
       "    </tr>\n",
       "    <tr>\n",
       "      <th>20</th>\n",
       "      <td>1.359978</td>\n",
       "      <td>0.158801</td>\n",
       "      <td>8.564068</td>\n",
       "      <td>0.000001</td>\n",
       "      <td>0.965658</td>\n",
       "      <td>banc sabadell * avg</td>\n",
       "      <td>2023-04-01</td>\n",
       "      <td>treatment_post</td>\n",
       "      <td>3.896109</td>\n",
       "    </tr>\n",
       "    <tr>\n",
       "      <th>21</th>\n",
       "      <td>-0.346203</td>\n",
       "      <td>0.051846</td>\n",
       "      <td>-6.677558</td>\n",
       "      <td>0.000015</td>\n",
       "      <td>0.966405</td>\n",
       "      <td>santander * avg</td>\n",
       "      <td>2022-05-01</td>\n",
       "      <td>const</td>\n",
       "      <td>0.707369</td>\n",
       "    </tr>\n",
       "    <tr>\n",
       "      <th>22</th>\n",
       "      <td>0.030924</td>\n",
       "      <td>0.019245</td>\n",
       "      <td>1.606883</td>\n",
       "      <td>0.132086</td>\n",
       "      <td>0.966405</td>\n",
       "      <td>santander * avg</td>\n",
       "      <td>2022-05-01</td>\n",
       "      <td>web_traffic_lag</td>\n",
       "      <td>1.031407</td>\n",
       "    </tr>\n",
       "    <tr>\n",
       "      <th>23</th>\n",
       "      <td>0.103153</td>\n",
       "      <td>0.190948</td>\n",
       "      <td>0.540216</td>\n",
       "      <td>0.598182</td>\n",
       "      <td>0.966405</td>\n",
       "      <td>santander * avg</td>\n",
       "      <td>2022-05-01</td>\n",
       "      <td>cross_visitation</td>\n",
       "      <td>1.108661</td>\n",
       "    </tr>\n",
       "    <tr>\n",
       "      <th>24</th>\n",
       "      <td>0.697701</td>\n",
       "      <td>0.234323</td>\n",
       "      <td>2.977524</td>\n",
       "      <td>0.010691</td>\n",
       "      <td>0.966405</td>\n",
       "      <td>santander * avg</td>\n",
       "      <td>2022-05-01</td>\n",
       "      <td>search_interest</td>\n",
       "      <td>2.009129</td>\n",
       "    </tr>\n",
       "    <tr>\n",
       "      <th>25</th>\n",
       "      <td>-0.525129</td>\n",
       "      <td>0.500220</td>\n",
       "      <td>-1.049797</td>\n",
       "      <td>0.312936</td>\n",
       "      <td>0.966405</td>\n",
       "      <td>santander * avg</td>\n",
       "      <td>2022-05-01</td>\n",
       "      <td>treatment</td>\n",
       "      <td>0.591479</td>\n",
       "    </tr>\n",
       "    <tr>\n",
       "      <th>26</th>\n",
       "      <td>-0.007466</td>\n",
       "      <td>0.078553</td>\n",
       "      <td>-0.095047</td>\n",
       "      <td>0.925727</td>\n",
       "      <td>0.966405</td>\n",
       "      <td>santander * avg</td>\n",
       "      <td>2022-05-01</td>\n",
       "      <td>post</td>\n",
       "      <td>0.992562</td>\n",
       "    </tr>\n",
       "    <tr>\n",
       "      <th>27</th>\n",
       "      <td>0.225520</td>\n",
       "      <td>0.101977</td>\n",
       "      <td>2.211483</td>\n",
       "      <td>0.045527</td>\n",
       "      <td>0.966405</td>\n",
       "      <td>santander * avg</td>\n",
       "      <td>2022-05-01</td>\n",
       "      <td>treatment_post</td>\n",
       "      <td>1.252974</td>\n",
       "    </tr>\n",
       "    <tr>\n",
       "      <th>28</th>\n",
       "      <td>-0.363657</td>\n",
       "      <td>0.088415</td>\n",
       "      <td>-4.113077</td>\n",
       "      <td>0.001223</td>\n",
       "      <td>0.934748</td>\n",
       "      <td>santander * avg</td>\n",
       "      <td>2022-08-01</td>\n",
       "      <td>const</td>\n",
       "      <td>0.695129</td>\n",
       "    </tr>\n",
       "    <tr>\n",
       "      <th>29</th>\n",
       "      <td>0.035145</td>\n",
       "      <td>0.033220</td>\n",
       "      <td>1.057953</td>\n",
       "      <td>0.309340</td>\n",
       "      <td>0.934748</td>\n",
       "      <td>santander * avg</td>\n",
       "      <td>2022-08-01</td>\n",
       "      <td>web_traffic_lag</td>\n",
       "      <td>1.035770</td>\n",
       "    </tr>\n",
       "    <tr>\n",
       "      <th>30</th>\n",
       "      <td>0.380820</td>\n",
       "      <td>0.351357</td>\n",
       "      <td>1.083856</td>\n",
       "      <td>0.298121</td>\n",
       "      <td>0.934748</td>\n",
       "      <td>santander * avg</td>\n",
       "      <td>2022-08-01</td>\n",
       "      <td>cross_visitation</td>\n",
       "      <td>1.463485</td>\n",
       "    </tr>\n",
       "    <tr>\n",
       "      <th>31</th>\n",
       "      <td>0.366038</td>\n",
       "      <td>0.381475</td>\n",
       "      <td>0.959534</td>\n",
       "      <td>0.354797</td>\n",
       "      <td>0.934748</td>\n",
       "      <td>santander * avg</td>\n",
       "      <td>2022-08-01</td>\n",
       "      <td>search_interest</td>\n",
       "      <td>1.442011</td>\n",
       "    </tr>\n",
       "    <tr>\n",
       "      <th>32</th>\n",
       "      <td>-0.030810</td>\n",
       "      <td>0.847798</td>\n",
       "      <td>-0.036341</td>\n",
       "      <td>0.971562</td>\n",
       "      <td>0.934748</td>\n",
       "      <td>santander * avg</td>\n",
       "      <td>2022-08-01</td>\n",
       "      <td>treatment</td>\n",
       "      <td>0.969660</td>\n",
       "    </tr>\n",
       "    <tr>\n",
       "      <th>33</th>\n",
       "      <td>0.134880</td>\n",
       "      <td>0.135856</td>\n",
       "      <td>0.992814</td>\n",
       "      <td>0.338921</td>\n",
       "      <td>0.934748</td>\n",
       "      <td>santander * avg</td>\n",
       "      <td>2022-08-01</td>\n",
       "      <td>post</td>\n",
       "      <td>1.144400</td>\n",
       "    </tr>\n",
       "    <tr>\n",
       "      <th>34</th>\n",
       "      <td>0.384576</td>\n",
       "      <td>0.171150</td>\n",
       "      <td>2.247005</td>\n",
       "      <td>0.042643</td>\n",
       "      <td>0.934748</td>\n",
       "      <td>santander * avg</td>\n",
       "      <td>2022-08-01</td>\n",
       "      <td>treatment_post</td>\n",
       "      <td>1.468991</td>\n",
       "    </tr>\n",
       "    <tr>\n",
       "      <th>35</th>\n",
       "      <td>-0.338533</td>\n",
       "      <td>0.194438</td>\n",
       "      <td>-1.741088</td>\n",
       "      <td>0.105265</td>\n",
       "      <td>0.794669</td>\n",
       "      <td>santander * avg</td>\n",
       "      <td>2023-09-01</td>\n",
       "      <td>const</td>\n",
       "      <td>0.712815</td>\n",
       "    </tr>\n",
       "    <tr>\n",
       "      <th>36</th>\n",
       "      <td>0.013092</td>\n",
       "      <td>0.071408</td>\n",
       "      <td>0.183342</td>\n",
       "      <td>0.857358</td>\n",
       "      <td>0.794669</td>\n",
       "      <td>santander * avg</td>\n",
       "      <td>2023-09-01</td>\n",
       "      <td>web_traffic_lag</td>\n",
       "      <td>1.013178</td>\n",
       "    </tr>\n",
       "    <tr>\n",
       "      <th>37</th>\n",
       "      <td>-0.028167</td>\n",
       "      <td>0.761458</td>\n",
       "      <td>-0.036991</td>\n",
       "      <td>0.971054</td>\n",
       "      <td>0.794669</td>\n",
       "      <td>santander * avg</td>\n",
       "      <td>2023-09-01</td>\n",
       "      <td>cross_visitation</td>\n",
       "      <td>0.972226</td>\n",
       "    </tr>\n",
       "    <tr>\n",
       "      <th>38</th>\n",
       "      <td>-0.195025</td>\n",
       "      <td>0.584280</td>\n",
       "      <td>-0.333786</td>\n",
       "      <td>0.743864</td>\n",
       "      <td>0.794669</td>\n",
       "      <td>santander * avg</td>\n",
       "      <td>2023-09-01</td>\n",
       "      <td>search_interest</td>\n",
       "      <td>0.822814</td>\n",
       "    </tr>\n",
       "    <tr>\n",
       "      <th>39</th>\n",
       "      <td>1.226279</td>\n",
       "      <td>1.247770</td>\n",
       "      <td>0.982776</td>\n",
       "      <td>0.343655</td>\n",
       "      <td>0.794669</td>\n",
       "      <td>santander * avg</td>\n",
       "      <td>2023-09-01</td>\n",
       "      <td>treatment</td>\n",
       "      <td>3.408523</td>\n",
       "    </tr>\n",
       "    <tr>\n",
       "      <th>40</th>\n",
       "      <td>-0.272763</td>\n",
       "      <td>0.376674</td>\n",
       "      <td>-0.724137</td>\n",
       "      <td>0.481811</td>\n",
       "      <td>0.794669</td>\n",
       "      <td>santander * avg</td>\n",
       "      <td>2023-09-01</td>\n",
       "      <td>post</td>\n",
       "      <td>0.761273</td>\n",
       "    </tr>\n",
       "    <tr>\n",
       "      <th>41</th>\n",
       "      <td>0.694628</td>\n",
       "      <td>0.460426</td>\n",
       "      <td>1.508663</td>\n",
       "      <td>0.155299</td>\n",
       "      <td>0.794669</td>\n",
       "      <td>santander * avg</td>\n",
       "      <td>2023-09-01</td>\n",
       "      <td>treatment_post</td>\n",
       "      <td>2.002963</td>\n",
       "    </tr>\n",
       "  </tbody>\n",
       "</table>\n",
       "</div>"
      ],
      "text/plain": [
       "    coefficients  standard_errors  t_values  p_values  r_squared  \\\n",
       "0      -0.401846         0.225282 -1.783750  0.097812   0.924686   \n",
       "1       0.967011         0.713168  1.355936  0.198206   0.924686   \n",
       "2      -0.016154         0.493129 -0.032758  0.974365   0.924686   \n",
       "3       0.386163         0.418364  0.923031  0.372806   0.924686   \n",
       "4       1.167844         0.822404  1.420037  0.179132   0.924686   \n",
       "5      -0.080689         0.172829 -0.466871  0.648320   0.924686   \n",
       "6      -0.115712         0.207654 -0.557235  0.586834   0.924686   \n",
       "7      -0.000320         0.113821 -0.002814  0.997797   0.753579   \n",
       "8       0.000982         0.037451  0.026223  0.979478   0.753579   \n",
       "9       0.282505         0.303296  0.931450  0.368597   0.753579   \n",
       "10     -0.102617         0.348004 -0.294872  0.772748   0.753579   \n",
       "11      0.483778         0.298007  1.623377  0.128497   0.753579   \n",
       "12     -0.004353         0.163273 -0.026664  0.979133   0.753579   \n",
       "13      0.427206         0.203490  2.099397  0.055874   0.753579   \n",
       "14      0.092799         0.070102  1.323768  0.208387   0.965658   \n",
       "15      0.002283         0.023488  0.097206  0.924045   0.965658   \n",
       "16      0.211141         0.183988  1.147578  0.271824   0.965658   \n",
       "17      0.470323         0.215747  2.179974  0.048238   0.965658   \n",
       "18      0.117996         0.213463  0.552773  0.589798   0.965658   \n",
       "19     -0.636768         0.099088 -6.426292  0.000022   0.965658   \n",
       "20      1.359978         0.158801  8.564068  0.000001   0.965658   \n",
       "21     -0.346203         0.051846 -6.677558  0.000015   0.966405   \n",
       "22      0.030924         0.019245  1.606883  0.132086   0.966405   \n",
       "23      0.103153         0.190948  0.540216  0.598182   0.966405   \n",
       "24      0.697701         0.234323  2.977524  0.010691   0.966405   \n",
       "25     -0.525129         0.500220 -1.049797  0.312936   0.966405   \n",
       "26     -0.007466         0.078553 -0.095047  0.925727   0.966405   \n",
       "27      0.225520         0.101977  2.211483  0.045527   0.966405   \n",
       "28     -0.363657         0.088415 -4.113077  0.001223   0.934748   \n",
       "29      0.035145         0.033220  1.057953  0.309340   0.934748   \n",
       "30      0.380820         0.351357  1.083856  0.298121   0.934748   \n",
       "31      0.366038         0.381475  0.959534  0.354797   0.934748   \n",
       "32     -0.030810         0.847798 -0.036341  0.971562   0.934748   \n",
       "33      0.134880         0.135856  0.992814  0.338921   0.934748   \n",
       "34      0.384576         0.171150  2.247005  0.042643   0.934748   \n",
       "35     -0.338533         0.194438 -1.741088  0.105265   0.794669   \n",
       "36      0.013092         0.071408  0.183342  0.857358   0.794669   \n",
       "37     -0.028167         0.761458 -0.036991  0.971054   0.794669   \n",
       "38     -0.195025         0.584280 -0.333786  0.743864   0.794669   \n",
       "39      1.226279         1.247770  0.982776  0.343655   0.794669   \n",
       "40     -0.272763         0.376674 -0.724137  0.481811   0.794669   \n",
       "41      0.694628         0.460426  1.508663  0.155299   0.794669   \n",
       "\n",
       "           output_title date_of_event     variable_name  \\\n",
       "0          abanca * avg    2022-04-01             const   \n",
       "1          abanca * avg    2022-04-01   web_traffic_lag   \n",
       "2          abanca * avg    2022-04-01  cross_visitation   \n",
       "3          abanca * avg    2022-04-01   search_interest   \n",
       "4          abanca * avg    2022-04-01         treatment   \n",
       "5          abanca * avg    2022-04-01              post   \n",
       "6          abanca * avg    2022-04-01    treatment_post   \n",
       "7   banc sabadell * avg    2022-08-01             const   \n",
       "8   banc sabadell * avg    2022-08-01   web_traffic_lag   \n",
       "9   banc sabadell * avg    2022-08-01  cross_visitation   \n",
       "10  banc sabadell * avg    2022-08-01   search_interest   \n",
       "11  banc sabadell * avg    2022-08-01         treatment   \n",
       "12  banc sabadell * avg    2022-08-01              post   \n",
       "13  banc sabadell * avg    2022-08-01    treatment_post   \n",
       "14  banc sabadell * avg    2023-04-01             const   \n",
       "15  banc sabadell * avg    2023-04-01   web_traffic_lag   \n",
       "16  banc sabadell * avg    2023-04-01  cross_visitation   \n",
       "17  banc sabadell * avg    2023-04-01   search_interest   \n",
       "18  banc sabadell * avg    2023-04-01         treatment   \n",
       "19  banc sabadell * avg    2023-04-01              post   \n",
       "20  banc sabadell * avg    2023-04-01    treatment_post   \n",
       "21      santander * avg    2022-05-01             const   \n",
       "22      santander * avg    2022-05-01   web_traffic_lag   \n",
       "23      santander * avg    2022-05-01  cross_visitation   \n",
       "24      santander * avg    2022-05-01   search_interest   \n",
       "25      santander * avg    2022-05-01         treatment   \n",
       "26      santander * avg    2022-05-01              post   \n",
       "27      santander * avg    2022-05-01    treatment_post   \n",
       "28      santander * avg    2022-08-01             const   \n",
       "29      santander * avg    2022-08-01   web_traffic_lag   \n",
       "30      santander * avg    2022-08-01  cross_visitation   \n",
       "31      santander * avg    2022-08-01   search_interest   \n",
       "32      santander * avg    2022-08-01         treatment   \n",
       "33      santander * avg    2022-08-01              post   \n",
       "34      santander * avg    2022-08-01    treatment_post   \n",
       "35      santander * avg    2023-09-01             const   \n",
       "36      santander * avg    2023-09-01   web_traffic_lag   \n",
       "37      santander * avg    2023-09-01  cross_visitation   \n",
       "38      santander * avg    2023-09-01   search_interest   \n",
       "39      santander * avg    2023-09-01         treatment   \n",
       "40      santander * avg    2023-09-01              post   \n",
       "41      santander * avg    2023-09-01    treatment_post   \n",
       "\n",
       "    normalized_coefficients  \n",
       "0                  0.669084  \n",
       "1                  2.630071  \n",
       "2                  0.983976  \n",
       "3                  1.471325  \n",
       "4                  3.215053  \n",
       "5                  0.922480  \n",
       "6                  0.890732  \n",
       "7                  0.999680  \n",
       "8                  1.000983  \n",
       "9                  1.326448  \n",
       "10                 0.902473  \n",
       "11                 1.622191  \n",
       "12                 0.995656  \n",
       "13                 1.532968  \n",
       "14                 1.097241  \n",
       "15                 1.002286  \n",
       "16                 1.235086  \n",
       "17                 1.600510  \n",
       "18                 1.125240  \n",
       "19                 0.528999  \n",
       "20                 3.896109  \n",
       "21                 0.707369  \n",
       "22                 1.031407  \n",
       "23                 1.108661  \n",
       "24                 2.009129  \n",
       "25                 0.591479  \n",
       "26                 0.992562  \n",
       "27                 1.252974  \n",
       "28                 0.695129  \n",
       "29                 1.035770  \n",
       "30                 1.463485  \n",
       "31                 1.442011  \n",
       "32                 0.969660  \n",
       "33                 1.144400  \n",
       "34                 1.468991  \n",
       "35                 0.712815  \n",
       "36                 1.013178  \n",
       "37                 0.972226  \n",
       "38                 0.822814  \n",
       "39                 3.408523  \n",
       "40                 0.761273  \n",
       "41                 2.002963  "
      ]
     },
     "execution_count": 701,
     "metadata": {},
     "output_type": "execute_result"
    }
   ],
   "source": [
    "all_incentive_diff_n_diff = pd.concat(all_regression_outputs)\n",
    "\n",
    "# create a column from the index \n",
    "all_incentive_diff_n_diff['variable_name'] = all_incentive_diff_n_diff.index\n",
    "\n",
    "all_incentive_diff_n_diff = all_incentive_diff_n_diff.reset_index(drop=True)\n",
    "\n",
    "all_incentive_diff_n_diff['normalized_coefficients'] = np.exp(all_incentive_diff_n_diff['coefficients'])\n",
    "\n",
    "all_incentive_diff_n_diff"
   ]
  },
  {
   "cell_type": "markdown",
   "metadata": {},
   "source": [
    "get average statistics"
   ]
  },
  {
   "cell_type": "code",
   "execution_count": 702,
   "metadata": {},
   "outputs": [
    {
     "name": "stdout",
     "output_type": "stream",
     "text": [
      "0.1618226615592423\n",
      "0.4138568987441562\n"
     ]
    }
   ],
   "source": [
    "\n",
    "print(all_incentive_diff_n_diff.coefficients.mean())\n",
    "print(all_incentive_diff_n_diff.p_values.mean())\n"
   ]
  },
  {
   "cell_type": "code",
   "execution_count": 703,
   "metadata": {},
   "outputs": [
    {
     "data": {
      "text/plain": [
       "0.49603258128165256"
      ]
     },
     "execution_count": 703,
     "metadata": {},
     "output_type": "execute_result"
    }
   ],
   "source": [
    "all_incentive_diff_n_diff.loc[all_incentive_diff_n_diff['variable_name'] == 'treatment_post', 'coefficients'].mean()"
   ]
  },
  {
   "cell_type": "markdown",
   "metadata": {},
   "source": [
    "view pertinent statistics"
   ]
  },
  {
   "cell_type": "code",
   "execution_count": 704,
   "metadata": {},
   "outputs": [
    {
     "data": {
      "text/html": [
       "<div>\n",
       "<style scoped>\n",
       "    .dataframe tbody tr th:only-of-type {\n",
       "        vertical-align: middle;\n",
       "    }\n",
       "\n",
       "    .dataframe tbody tr th {\n",
       "        vertical-align: top;\n",
       "    }\n",
       "\n",
       "    .dataframe thead th {\n",
       "        text-align: right;\n",
       "    }\n",
       "</style>\n",
       "<table border=\"1\" class=\"dataframe\">\n",
       "  <thead>\n",
       "    <tr style=\"text-align: right;\">\n",
       "      <th></th>\n",
       "      <th>normalized_coefficients</th>\n",
       "      <th>coefficients</th>\n",
       "      <th>p_values</th>\n",
       "      <th>variable_name</th>\n",
       "      <th>output_title</th>\n",
       "      <th>date_of_event</th>\n",
       "      <th>r_squared</th>\n",
       "    </tr>\n",
       "  </thead>\n",
       "  <tbody>\n",
       "    <tr>\n",
       "      <th>6</th>\n",
       "      <td>0.890732</td>\n",
       "      <td>-0.115712</td>\n",
       "      <td>0.586834</td>\n",
       "      <td>treatment_post</td>\n",
       "      <td>abanca * avg</td>\n",
       "      <td>2022-04-01</td>\n",
       "      <td>0.924686</td>\n",
       "    </tr>\n",
       "    <tr>\n",
       "      <th>13</th>\n",
       "      <td>1.532968</td>\n",
       "      <td>0.427206</td>\n",
       "      <td>0.055874</td>\n",
       "      <td>treatment_post</td>\n",
       "      <td>banc sabadell * avg</td>\n",
       "      <td>2022-08-01</td>\n",
       "      <td>0.753579</td>\n",
       "    </tr>\n",
       "    <tr>\n",
       "      <th>20</th>\n",
       "      <td>3.896109</td>\n",
       "      <td>1.359978</td>\n",
       "      <td>0.000001</td>\n",
       "      <td>treatment_post</td>\n",
       "      <td>banc sabadell * avg</td>\n",
       "      <td>2023-04-01</td>\n",
       "      <td>0.965658</td>\n",
       "    </tr>\n",
       "    <tr>\n",
       "      <th>27</th>\n",
       "      <td>1.252974</td>\n",
       "      <td>0.225520</td>\n",
       "      <td>0.045527</td>\n",
       "      <td>treatment_post</td>\n",
       "      <td>santander * avg</td>\n",
       "      <td>2022-05-01</td>\n",
       "      <td>0.966405</td>\n",
       "    </tr>\n",
       "    <tr>\n",
       "      <th>34</th>\n",
       "      <td>1.468991</td>\n",
       "      <td>0.384576</td>\n",
       "      <td>0.042643</td>\n",
       "      <td>treatment_post</td>\n",
       "      <td>santander * avg</td>\n",
       "      <td>2022-08-01</td>\n",
       "      <td>0.934748</td>\n",
       "    </tr>\n",
       "    <tr>\n",
       "      <th>41</th>\n",
       "      <td>2.002963</td>\n",
       "      <td>0.694628</td>\n",
       "      <td>0.155299</td>\n",
       "      <td>treatment_post</td>\n",
       "      <td>santander * avg</td>\n",
       "      <td>2023-09-01</td>\n",
       "      <td>0.794669</td>\n",
       "    </tr>\n",
       "  </tbody>\n",
       "</table>\n",
       "</div>"
      ],
      "text/plain": [
       "    normalized_coefficients  coefficients  p_values   variable_name  \\\n",
       "6                  0.890732     -0.115712  0.586834  treatment_post   \n",
       "13                 1.532968      0.427206  0.055874  treatment_post   \n",
       "20                 3.896109      1.359978  0.000001  treatment_post   \n",
       "27                 1.252974      0.225520  0.045527  treatment_post   \n",
       "34                 1.468991      0.384576  0.042643  treatment_post   \n",
       "41                 2.002963      0.694628  0.155299  treatment_post   \n",
       "\n",
       "           output_title date_of_event  r_squared  \n",
       "6          abanca * avg    2022-04-01   0.924686  \n",
       "13  banc sabadell * avg    2022-08-01   0.753579  \n",
       "20  banc sabadell * avg    2023-04-01   0.965658  \n",
       "27      santander * avg    2022-05-01   0.966405  \n",
       "34      santander * avg    2022-08-01   0.934748  \n",
       "41      santander * avg    2023-09-01   0.794669  "
      ]
     },
     "execution_count": 704,
     "metadata": {},
     "output_type": "execute_result"
    }
   ],
   "source": [
    "\n",
    "all_incentive_diff_n_diff.loc[all_incentive_diff_n_diff.variable_name == 'treatment_post', ['normalized_coefficients', 'coefficients','p_values', 'variable_name','output_title', 'date_of_event', 'r_squared']].to_csv('data/incentive_diff_n_diff.csv')\n",
    "all_incentive_diff_n_diff.loc[all_incentive_diff_n_diff.variable_name == 'treatment_post', ['normalized_coefficients', 'coefficients','p_values', 'variable_name', 'output_title', 'date_of_event', 'r_squared']]\n"
   ]
  },
  {
   "cell_type": "code",
   "execution_count": 705,
   "metadata": {},
   "outputs": [
    {
     "data": {
      "text/html": [
       "<div>\n",
       "<style scoped>\n",
       "    .dataframe tbody tr th:only-of-type {\n",
       "        vertical-align: middle;\n",
       "    }\n",
       "\n",
       "    .dataframe tbody tr th {\n",
       "        vertical-align: top;\n",
       "    }\n",
       "\n",
       "    .dataframe thead th {\n",
       "        text-align: right;\n",
       "    }\n",
       "</style>\n",
       "<table border=\"1\" class=\"dataframe\">\n",
       "  <thead>\n",
       "    <tr style=\"text-align: right;\">\n",
       "      <th></th>\n",
       "      <th>coefficients</th>\n",
       "      <th>standard_errors</th>\n",
       "      <th>t_values</th>\n",
       "      <th>p_values</th>\n",
       "      <th>r_squared</th>\n",
       "      <th>regression_type</th>\n",
       "      <th>output_title</th>\n",
       "    </tr>\n",
       "  </thead>\n",
       "  <tbody>\n",
       "    <tr>\n",
       "      <th>const</th>\n",
       "      <td>-0.131872</td>\n",
       "      <td>0.123477</td>\n",
       "      <td>-1.067990</td>\n",
       "      <td>3.166894e-01</td>\n",
       "      <td>0.871409</td>\n",
       "      <td>Parallel Trends Check</td>\n",
       "      <td>abanca * avg</td>\n",
       "    </tr>\n",
       "    <tr>\n",
       "      <th>treatment</th>\n",
       "      <td>1.285738</td>\n",
       "      <td>0.174623</td>\n",
       "      <td>7.362934</td>\n",
       "      <td>7.895133e-05</td>\n",
       "      <td>0.871409</td>\n",
       "      <td>Parallel Trends Check</td>\n",
       "      <td>abanca * avg</td>\n",
       "    </tr>\n",
       "    <tr>\n",
       "      <th>post</th>\n",
       "      <td>0.000000</td>\n",
       "      <td>0.000000</td>\n",
       "      <td>NaN</td>\n",
       "      <td>NaN</td>\n",
       "      <td>0.871409</td>\n",
       "      <td>Parallel Trends Check</td>\n",
       "      <td>abanca * avg</td>\n",
       "    </tr>\n",
       "    <tr>\n",
       "      <th>const</th>\n",
       "      <td>0.016330</td>\n",
       "      <td>0.018576</td>\n",
       "      <td>0.879123</td>\n",
       "      <td>4.049659e-01</td>\n",
       "      <td>0.914043</td>\n",
       "      <td>Parallel Trends Check</td>\n",
       "      <td>banc sabadell * avg</td>\n",
       "    </tr>\n",
       "    <tr>\n",
       "      <th>treatment</th>\n",
       "      <td>0.242300</td>\n",
       "      <td>0.026270</td>\n",
       "      <td>9.223352</td>\n",
       "      <td>1.546970e-05</td>\n",
       "      <td>0.914043</td>\n",
       "      <td>Parallel Trends Check</td>\n",
       "      <td>banc sabadell * avg</td>\n",
       "    </tr>\n",
       "    <tr>\n",
       "      <th>post</th>\n",
       "      <td>0.000000</td>\n",
       "      <td>0.000000</td>\n",
       "      <td>NaN</td>\n",
       "      <td>NaN</td>\n",
       "      <td>0.914043</td>\n",
       "      <td>Parallel Trends Check</td>\n",
       "      <td>banc sabadell * avg</td>\n",
       "    </tr>\n",
       "    <tr>\n",
       "      <th>const</th>\n",
       "      <td>0.016330</td>\n",
       "      <td>0.018576</td>\n",
       "      <td>0.879123</td>\n",
       "      <td>4.049659e-01</td>\n",
       "      <td>0.914043</td>\n",
       "      <td>Parallel Trends Check</td>\n",
       "      <td>banc sabadell * avg</td>\n",
       "    </tr>\n",
       "    <tr>\n",
       "      <th>treatment</th>\n",
       "      <td>0.242300</td>\n",
       "      <td>0.026270</td>\n",
       "      <td>9.223352</td>\n",
       "      <td>1.546970e-05</td>\n",
       "      <td>0.914043</td>\n",
       "      <td>Parallel Trends Check</td>\n",
       "      <td>banc sabadell * avg</td>\n",
       "    </tr>\n",
       "    <tr>\n",
       "      <th>post</th>\n",
       "      <td>0.000000</td>\n",
       "      <td>0.000000</td>\n",
       "      <td>NaN</td>\n",
       "      <td>NaN</td>\n",
       "      <td>0.914043</td>\n",
       "      <td>Parallel Trends Check</td>\n",
       "      <td>banc sabadell * avg</td>\n",
       "    </tr>\n",
       "    <tr>\n",
       "      <th>const</th>\n",
       "      <td>-0.350038</td>\n",
       "      <td>0.032479</td>\n",
       "      <td>-10.777405</td>\n",
       "      <td>4.840714e-06</td>\n",
       "      <td>0.976862</td>\n",
       "      <td>Parallel Trends Check</td>\n",
       "      <td>santander * avg</td>\n",
       "    </tr>\n",
       "    <tr>\n",
       "      <th>treatment</th>\n",
       "      <td>0.844137</td>\n",
       "      <td>0.045932</td>\n",
       "      <td>18.377928</td>\n",
       "      <td>7.911114e-08</td>\n",
       "      <td>0.976862</td>\n",
       "      <td>Parallel Trends Check</td>\n",
       "      <td>santander * avg</td>\n",
       "    </tr>\n",
       "    <tr>\n",
       "      <th>post</th>\n",
       "      <td>0.000000</td>\n",
       "      <td>0.000000</td>\n",
       "      <td>NaN</td>\n",
       "      <td>NaN</td>\n",
       "      <td>0.976862</td>\n",
       "      <td>Parallel Trends Check</td>\n",
       "      <td>santander * avg</td>\n",
       "    </tr>\n",
       "    <tr>\n",
       "      <th>const</th>\n",
       "      <td>-0.350038</td>\n",
       "      <td>0.032479</td>\n",
       "      <td>-10.777405</td>\n",
       "      <td>4.840714e-06</td>\n",
       "      <td>0.976862</td>\n",
       "      <td>Parallel Trends Check</td>\n",
       "      <td>santander * avg</td>\n",
       "    </tr>\n",
       "    <tr>\n",
       "      <th>treatment</th>\n",
       "      <td>0.844137</td>\n",
       "      <td>0.045932</td>\n",
       "      <td>18.377928</td>\n",
       "      <td>7.911114e-08</td>\n",
       "      <td>0.976862</td>\n",
       "      <td>Parallel Trends Check</td>\n",
       "      <td>santander * avg</td>\n",
       "    </tr>\n",
       "    <tr>\n",
       "      <th>post</th>\n",
       "      <td>0.000000</td>\n",
       "      <td>0.000000</td>\n",
       "      <td>NaN</td>\n",
       "      <td>NaN</td>\n",
       "      <td>0.976862</td>\n",
       "      <td>Parallel Trends Check</td>\n",
       "      <td>santander * avg</td>\n",
       "    </tr>\n",
       "    <tr>\n",
       "      <th>const</th>\n",
       "      <td>-0.350038</td>\n",
       "      <td>0.032479</td>\n",
       "      <td>-10.777405</td>\n",
       "      <td>4.840714e-06</td>\n",
       "      <td>0.976862</td>\n",
       "      <td>Parallel Trends Check</td>\n",
       "      <td>santander * avg</td>\n",
       "    </tr>\n",
       "    <tr>\n",
       "      <th>treatment</th>\n",
       "      <td>0.844137</td>\n",
       "      <td>0.045932</td>\n",
       "      <td>18.377928</td>\n",
       "      <td>7.911114e-08</td>\n",
       "      <td>0.976862</td>\n",
       "      <td>Parallel Trends Check</td>\n",
       "      <td>santander * avg</td>\n",
       "    </tr>\n",
       "    <tr>\n",
       "      <th>post</th>\n",
       "      <td>0.000000</td>\n",
       "      <td>0.000000</td>\n",
       "      <td>NaN</td>\n",
       "      <td>NaN</td>\n",
       "      <td>0.976862</td>\n",
       "      <td>Parallel Trends Check</td>\n",
       "      <td>santander * avg</td>\n",
       "    </tr>\n",
       "  </tbody>\n",
       "</table>\n",
       "</div>"
      ],
      "text/plain": [
       "           coefficients  standard_errors   t_values      p_values  r_squared  \\\n",
       "const         -0.131872         0.123477  -1.067990  3.166894e-01   0.871409   \n",
       "treatment      1.285738         0.174623   7.362934  7.895133e-05   0.871409   \n",
       "post           0.000000         0.000000        NaN           NaN   0.871409   \n",
       "const          0.016330         0.018576   0.879123  4.049659e-01   0.914043   \n",
       "treatment      0.242300         0.026270   9.223352  1.546970e-05   0.914043   \n",
       "post           0.000000         0.000000        NaN           NaN   0.914043   \n",
       "const          0.016330         0.018576   0.879123  4.049659e-01   0.914043   \n",
       "treatment      0.242300         0.026270   9.223352  1.546970e-05   0.914043   \n",
       "post           0.000000         0.000000        NaN           NaN   0.914043   \n",
       "const         -0.350038         0.032479 -10.777405  4.840714e-06   0.976862   \n",
       "treatment      0.844137         0.045932  18.377928  7.911114e-08   0.976862   \n",
       "post           0.000000         0.000000        NaN           NaN   0.976862   \n",
       "const         -0.350038         0.032479 -10.777405  4.840714e-06   0.976862   \n",
       "treatment      0.844137         0.045932  18.377928  7.911114e-08   0.976862   \n",
       "post           0.000000         0.000000        NaN           NaN   0.976862   \n",
       "const         -0.350038         0.032479 -10.777405  4.840714e-06   0.976862   \n",
       "treatment      0.844137         0.045932  18.377928  7.911114e-08   0.976862   \n",
       "post           0.000000         0.000000        NaN           NaN   0.976862   \n",
       "\n",
       "                 regression_type         output_title  \n",
       "const      Parallel Trends Check         abanca * avg  \n",
       "treatment  Parallel Trends Check         abanca * avg  \n",
       "post       Parallel Trends Check         abanca * avg  \n",
       "const      Parallel Trends Check  banc sabadell * avg  \n",
       "treatment  Parallel Trends Check  banc sabadell * avg  \n",
       "post       Parallel Trends Check  banc sabadell * avg  \n",
       "const      Parallel Trends Check  banc sabadell * avg  \n",
       "treatment  Parallel Trends Check  banc sabadell * avg  \n",
       "post       Parallel Trends Check  banc sabadell * avg  \n",
       "const      Parallel Trends Check      santander * avg  \n",
       "treatment  Parallel Trends Check      santander * avg  \n",
       "post       Parallel Trends Check      santander * avg  \n",
       "const      Parallel Trends Check      santander * avg  \n",
       "treatment  Parallel Trends Check      santander * avg  \n",
       "post       Parallel Trends Check      santander * avg  \n",
       "const      Parallel Trends Check      santander * avg  \n",
       "treatment  Parallel Trends Check      santander * avg  \n",
       "post       Parallel Trends Check      santander * avg  "
      ]
     },
     "execution_count": 705,
     "metadata": {},
     "output_type": "execute_result"
    }
   ],
   "source": [
    "all_parallel_trends_incentives = pd.concat(all_parallel_trends_incentives)\n",
    "all_parallel_trends_incentives"
   ]
  },
  {
   "cell_type": "markdown",
   "metadata": {},
   "source": [
    "### get regrssion outputs for each regression for aprs"
   ]
  },
  {
   "cell_type": "code",
   "execution_count": null,
   "metadata": {},
   "outputs": [],
   "source": []
  },
  {
   "cell_type": "code",
   "execution_count": 706,
   "metadata": {},
   "outputs": [
    {
     "name": "stdout",
     "output_type": "stream",
     "text": [
      "Index([17, 18, 19, 20, 21], dtype='int64')\n",
      "Index([17, 18, 19, 20, 21], dtype='int64')\n",
      "Index([5, 6, 7, 8, 9], dtype='int64')\n",
      "Index([5, 6, 7, 8, 9], dtype='int64')\n",
      "Index([17, 18, 19, 20, 21], dtype='int64')\n",
      "Index([17, 18, 19, 20, 21], dtype='int64')\n",
      "Index([0, 1, 2, 3, 4], dtype='int64')\n",
      "Index([0, 1, 2, 3, 4], dtype='int64')\n",
      "Index([6, 7, 8, 9, 10], dtype='int64')\n",
      "Index([6, 7, 8, 9, 10], dtype='int64')\n",
      "Index([0, 1, 2, 3, 4], dtype='int64')\n",
      "Index([0, 1, 2, 3, 4], dtype='int64')\n",
      "Index([15, 16, 17, 18, 19], dtype='int64')\n",
      "Index([15, 16, 17, 18, 19], dtype='int64')\n",
      "Index([0, 1, 2, 3, 4], dtype='int64')\n",
      "Index([0, 1, 2, 3, 4], dtype='int64')\n",
      "Index([2, 3, 4, 5, 6], dtype='int64')\n",
      "Index([2, 3, 4, 5, 6], dtype='int64')\n",
      "Index([5, 6, 7, 8, 9], dtype='int64')\n",
      "Index([5, 6, 7, 8, 9], dtype='int64')\n",
      "Index([14, 15, 16, 17, 18], dtype='int64')\n",
      "Index([14, 15, 16, 17, 18], dtype='int64')\n",
      "Index([5, 6, 7, 8, 9], dtype='int64')\n",
      "Index([5, 6, 7, 8, 9], dtype='int64')\n",
      "Index([20, 21, 22, 23, 24], dtype='int64')\n",
      "Index([20, 21, 22, 23, 24], dtype='int64')\n",
      "Index([5, 6, 7, 8, 9], dtype='int64')\n",
      "Index([5, 6, 7, 8, 9], dtype='int64')\n",
      "Index([11, 12, 13, 14, 15], dtype='int64')\n",
      "Index([11, 12, 13, 14, 15], dtype='int64')\n",
      "Index([0, 1, 2, 3, 4], dtype='int64')\n",
      "Index([0, 1, 2, 3, 4], dtype='int64')\n",
      "Index([9, 10, 11, 12, 13], dtype='int64')\n",
      "Index([9, 10, 11, 12, 13], dtype='int64')\n",
      "Index([0, 1, 2, 3, 4], dtype='int64')\n",
      "Index([0, 1, 2, 3, 4], dtype='int64')\n",
      "Index([14, 15, 16, 17, 18], dtype='int64')\n",
      "Index([14, 15, 16, 17, 18], dtype='int64')\n",
      "Index([0, 1, 2, 3, 4], dtype='int64')\n",
      "Index([0, 1, 2, 3, 4], dtype='int64')\n"
     ]
    }
   ],
   "source": [
    "all_regression_outputs_apr = []\n",
    "all_parallel_trends_apr = []\n",
    "\n",
    "for regression in all_regressions_apr['regressions']:\n",
    "    if len(regression.keys()) > 0:\n",
    "        summary, parallel_trends = get_regression_summary(regression)\n",
    "        all_regression_outputs_apr.append(summary)\n",
    "        all_parallel_trends_apr.append(parallel_trends)\n",
    "    else: \n",
    "        print('No valid regressions found')\n",
    "        print(regression)\n"
   ]
  },
  {
   "cell_type": "markdown",
   "metadata": {},
   "source": [
    "view results as a dataframe"
   ]
  },
  {
   "cell_type": "code",
   "execution_count": 707,
   "metadata": {},
   "outputs": [
    {
     "data": {
      "text/html": [
       "<div>\n",
       "<style scoped>\n",
       "    .dataframe tbody tr th:only-of-type {\n",
       "        vertical-align: middle;\n",
       "    }\n",
       "\n",
       "    .dataframe tbody tr th {\n",
       "        vertical-align: top;\n",
       "    }\n",
       "\n",
       "    .dataframe thead th {\n",
       "        text-align: right;\n",
       "    }\n",
       "</style>\n",
       "<table border=\"1\" class=\"dataframe\">\n",
       "  <thead>\n",
       "    <tr style=\"text-align: right;\">\n",
       "      <th></th>\n",
       "      <th>coefficients</th>\n",
       "      <th>standard_errors</th>\n",
       "      <th>t_values</th>\n",
       "      <th>p_values</th>\n",
       "      <th>r_squared</th>\n",
       "      <th>output_title</th>\n",
       "      <th>date_of_event</th>\n",
       "      <th>variable_name</th>\n",
       "      <th>normalized_coefficients</th>\n",
       "    </tr>\n",
       "  </thead>\n",
       "  <tbody>\n",
       "    <tr>\n",
       "      <th>0</th>\n",
       "      <td>-0.068418</td>\n",
       "      <td>0.390611</td>\n",
       "      <td>-0.175156</td>\n",
       "      <td>0.863656</td>\n",
       "      <td>0.910404</td>\n",
       "      <td>abanca * avg</td>\n",
       "      <td>2023-07-01</td>\n",
       "      <td>const</td>\n",
       "      <td>0.933870</td>\n",
       "    </tr>\n",
       "    <tr>\n",
       "      <th>1</th>\n",
       "      <td>-0.099217</td>\n",
       "      <td>1.039183</td>\n",
       "      <td>-0.095476</td>\n",
       "      <td>0.925393</td>\n",
       "      <td>0.910404</td>\n",
       "      <td>abanca * avg</td>\n",
       "      <td>2023-07-01</td>\n",
       "      <td>web_traffic_lag</td>\n",
       "      <td>0.905546</td>\n",
       "    </tr>\n",
       "    <tr>\n",
       "      <th>2</th>\n",
       "      <td>0.639639</td>\n",
       "      <td>0.630182</td>\n",
       "      <td>1.015007</td>\n",
       "      <td>0.328622</td>\n",
       "      <td>0.910404</td>\n",
       "      <td>abanca * avg</td>\n",
       "      <td>2023-07-01</td>\n",
       "      <td>cross_visitation</td>\n",
       "      <td>1.895796</td>\n",
       "    </tr>\n",
       "    <tr>\n",
       "      <th>3</th>\n",
       "      <td>-0.240142</td>\n",
       "      <td>0.808362</td>\n",
       "      <td>-0.297073</td>\n",
       "      <td>0.771105</td>\n",
       "      <td>0.910404</td>\n",
       "      <td>abanca * avg</td>\n",
       "      <td>2023-07-01</td>\n",
       "      <td>search_interest</td>\n",
       "      <td>0.786516</td>\n",
       "    </tr>\n",
       "    <tr>\n",
       "      <th>4</th>\n",
       "      <td>1.673818</td>\n",
       "      <td>1.396370</td>\n",
       "      <td>1.198692</td>\n",
       "      <td>0.252043</td>\n",
       "      <td>0.910404</td>\n",
       "      <td>abanca * avg</td>\n",
       "      <td>2023-07-01</td>\n",
       "      <td>treatment</td>\n",
       "      <td>5.332489</td>\n",
       "    </tr>\n",
       "    <tr>\n",
       "      <th>...</th>\n",
       "      <td>...</td>\n",
       "      <td>...</td>\n",
       "      <td>...</td>\n",
       "      <td>...</td>\n",
       "      <td>...</td>\n",
       "      <td>...</td>\n",
       "      <td>...</td>\n",
       "      <td>...</td>\n",
       "      <td>...</td>\n",
       "    </tr>\n",
       "    <tr>\n",
       "      <th>65</th>\n",
       "      <td>0.605720</td>\n",
       "      <td>0.402032</td>\n",
       "      <td>1.506648</td>\n",
       "      <td>0.155810</td>\n",
       "      <td>0.672176</td>\n",
       "      <td>evobanco * avg</td>\n",
       "      <td>2023-04-01</td>\n",
       "      <td>cross_visitation</td>\n",
       "      <td>1.832572</td>\n",
       "    </tr>\n",
       "    <tr>\n",
       "      <th>66</th>\n",
       "      <td>0.293257</td>\n",
       "      <td>0.810407</td>\n",
       "      <td>0.361864</td>\n",
       "      <td>0.723268</td>\n",
       "      <td>0.672176</td>\n",
       "      <td>evobanco * avg</td>\n",
       "      <td>2023-04-01</td>\n",
       "      <td>search_interest</td>\n",
       "      <td>1.340788</td>\n",
       "    </tr>\n",
       "    <tr>\n",
       "      <th>67</th>\n",
       "      <td>-0.026100</td>\n",
       "      <td>0.705805</td>\n",
       "      <td>-0.036979</td>\n",
       "      <td>0.971063</td>\n",
       "      <td>0.672176</td>\n",
       "      <td>evobanco * avg</td>\n",
       "      <td>2023-04-01</td>\n",
       "      <td>treatment</td>\n",
       "      <td>0.974238</td>\n",
       "    </tr>\n",
       "    <tr>\n",
       "      <th>68</th>\n",
       "      <td>-0.145272</td>\n",
       "      <td>0.232066</td>\n",
       "      <td>-0.625994</td>\n",
       "      <td>0.542154</td>\n",
       "      <td>0.672176</td>\n",
       "      <td>evobanco * avg</td>\n",
       "      <td>2023-04-01</td>\n",
       "      <td>post</td>\n",
       "      <td>0.864787</td>\n",
       "    </tr>\n",
       "    <tr>\n",
       "      <th>69</th>\n",
       "      <td>0.445199</td>\n",
       "      <td>0.292033</td>\n",
       "      <td>1.524484</td>\n",
       "      <td>0.151340</td>\n",
       "      <td>0.672176</td>\n",
       "      <td>evobanco * avg</td>\n",
       "      <td>2023-04-01</td>\n",
       "      <td>treatment_post</td>\n",
       "      <td>1.560801</td>\n",
       "    </tr>\n",
       "  </tbody>\n",
       "</table>\n",
       "<p>70 rows × 9 columns</p>\n",
       "</div>"
      ],
      "text/plain": [
       "    coefficients  standard_errors  t_values  p_values  r_squared  \\\n",
       "0      -0.068418         0.390611 -0.175156  0.863656   0.910404   \n",
       "1      -0.099217         1.039183 -0.095476  0.925393   0.910404   \n",
       "2       0.639639         0.630182  1.015007  0.328622   0.910404   \n",
       "3      -0.240142         0.808362 -0.297073  0.771105   0.910404   \n",
       "4       1.673818         1.396370  1.198692  0.252043   0.910404   \n",
       "..           ...              ...       ...       ...        ...   \n",
       "65      0.605720         0.402032  1.506648  0.155810   0.672176   \n",
       "66      0.293257         0.810407  0.361864  0.723268   0.672176   \n",
       "67     -0.026100         0.705805 -0.036979  0.971063   0.672176   \n",
       "68     -0.145272         0.232066 -0.625994  0.542154   0.672176   \n",
       "69      0.445199         0.292033  1.524484  0.151340   0.672176   \n",
       "\n",
       "      output_title date_of_event     variable_name  normalized_coefficients  \n",
       "0     abanca * avg    2023-07-01             const                 0.933870  \n",
       "1     abanca * avg    2023-07-01   web_traffic_lag                 0.905546  \n",
       "2     abanca * avg    2023-07-01  cross_visitation                 1.895796  \n",
       "3     abanca * avg    2023-07-01   search_interest                 0.786516  \n",
       "4     abanca * avg    2023-07-01         treatment                 5.332489  \n",
       "..             ...           ...               ...                      ...  \n",
       "65  evobanco * avg    2023-04-01  cross_visitation                 1.832572  \n",
       "66  evobanco * avg    2023-04-01   search_interest                 1.340788  \n",
       "67  evobanco * avg    2023-04-01         treatment                 0.974238  \n",
       "68  evobanco * avg    2023-04-01              post                 0.864787  \n",
       "69  evobanco * avg    2023-04-01    treatment_post                 1.560801  \n",
       "\n",
       "[70 rows x 9 columns]"
      ]
     },
     "execution_count": 707,
     "metadata": {},
     "output_type": "execute_result"
    }
   ],
   "source": [
    "all_incentive_diff_n_diff_2 = pd.concat(all_regression_outputs_apr)\n",
    "\n",
    "# create a column from the index \n",
    "all_incentive_diff_n_diff_2['variable_name'] = all_incentive_diff_n_diff_2.index\n",
    "\n",
    "all_incentive_diff_n_diff_2 = all_incentive_diff_n_diff_2.reset_index(drop=True)\n",
    "\n",
    "all_incentive_diff_n_diff_2['normalized_coefficients'] = np.exp(all_incentive_diff_n_diff_2['coefficients'])\n",
    "\n",
    "all_incentive_diff_n_diff_2"
   ]
  },
  {
   "cell_type": "markdown",
   "metadata": {},
   "source": [
    "view average results "
   ]
  },
  {
   "cell_type": "code",
   "execution_count": 708,
   "metadata": {},
   "outputs": [
    {
     "name": "stdout",
     "output_type": "stream",
     "text": [
      "0.06302981918416539\n",
      "0.4100528667630663\n"
     ]
    }
   ],
   "source": [
    "print(all_incentive_diff_n_diff_2.coefficients.mean())\n",
    "print(all_incentive_diff_n_diff_2.p_values.mean())\n",
    "\n"
   ]
  },
  {
   "cell_type": "code",
   "execution_count": 709,
   "metadata": {},
   "outputs": [],
   "source": [
    "all_parallel_trends_apr = pd.concat(all_parallel_trends_apr)"
   ]
  },
  {
   "cell_type": "code",
   "execution_count": null,
   "metadata": {},
   "outputs": [],
   "source": []
  },
  {
   "cell_type": "code",
   "execution_count": null,
   "metadata": {},
   "outputs": [],
   "source": []
  },
  {
   "cell_type": "markdown",
   "metadata": {},
   "source": [
    "view important resuls"
   ]
  },
  {
   "cell_type": "code",
   "execution_count": 710,
   "metadata": {},
   "outputs": [
    {
     "data": {
      "text/html": [
       "<div>\n",
       "<style scoped>\n",
       "    .dataframe tbody tr th:only-of-type {\n",
       "        vertical-align: middle;\n",
       "    }\n",
       "\n",
       "    .dataframe tbody tr th {\n",
       "        vertical-align: top;\n",
       "    }\n",
       "\n",
       "    .dataframe thead th {\n",
       "        text-align: right;\n",
       "    }\n",
       "</style>\n",
       "<table border=\"1\" class=\"dataframe\">\n",
       "  <thead>\n",
       "    <tr style=\"text-align: right;\">\n",
       "      <th></th>\n",
       "      <th>coefficients</th>\n",
       "      <th>standard_errors</th>\n",
       "      <th>t_values</th>\n",
       "      <th>p_values</th>\n",
       "      <th>r_squared</th>\n",
       "      <th>regression_type</th>\n",
       "      <th>output_title</th>\n",
       "    </tr>\n",
       "  </thead>\n",
       "  <tbody>\n",
       "    <tr>\n",
       "      <th>const</th>\n",
       "      <td>-0.131872</td>\n",
       "      <td>0.123477</td>\n",
       "      <td>-1.067990</td>\n",
       "      <td>0.316689</td>\n",
       "      <td>0.871409</td>\n",
       "      <td>Parallel Trends Check</td>\n",
       "      <td>abanca * avg</td>\n",
       "    </tr>\n",
       "    <tr>\n",
       "      <th>const</th>\n",
       "      <td>0.016330</td>\n",
       "      <td>0.018576</td>\n",
       "      <td>0.879123</td>\n",
       "      <td>0.404966</td>\n",
       "      <td>0.914043</td>\n",
       "      <td>Parallel Trends Check</td>\n",
       "      <td>banc sabadell * avg</td>\n",
       "    </tr>\n",
       "    <tr>\n",
       "      <th>const</th>\n",
       "      <td>0.016330</td>\n",
       "      <td>0.018576</td>\n",
       "      <td>0.879123</td>\n",
       "      <td>0.404966</td>\n",
       "      <td>0.914043</td>\n",
       "      <td>Parallel Trends Check</td>\n",
       "      <td>banc sabadell * avg</td>\n",
       "    </tr>\n",
       "    <tr>\n",
       "      <th>const</th>\n",
       "      <td>-0.078716</td>\n",
       "      <td>0.077106</td>\n",
       "      <td>-1.020883</td>\n",
       "      <td>0.337186</td>\n",
       "      <td>0.401778</td>\n",
       "      <td>Parallel Trends Check</td>\n",
       "      <td>openbank * avg</td>\n",
       "    </tr>\n",
       "    <tr>\n",
       "      <th>const</th>\n",
       "      <td>-0.078716</td>\n",
       "      <td>0.077106</td>\n",
       "      <td>-1.020883</td>\n",
       "      <td>0.337186</td>\n",
       "      <td>0.401778</td>\n",
       "      <td>Parallel Trends Check</td>\n",
       "      <td>openbank * avg</td>\n",
       "    </tr>\n",
       "    <tr>\n",
       "      <th>const</th>\n",
       "      <td>-0.078716</td>\n",
       "      <td>0.077106</td>\n",
       "      <td>-1.020883</td>\n",
       "      <td>0.337186</td>\n",
       "      <td>0.401778</td>\n",
       "      <td>Parallel Trends Check</td>\n",
       "      <td>openbank * avg</td>\n",
       "    </tr>\n",
       "  </tbody>\n",
       "</table>\n",
       "</div>"
      ],
      "text/plain": [
       "       coefficients  standard_errors  t_values  p_values  r_squared  \\\n",
       "const     -0.131872         0.123477 -1.067990  0.316689   0.871409   \n",
       "const      0.016330         0.018576  0.879123  0.404966   0.914043   \n",
       "const      0.016330         0.018576  0.879123  0.404966   0.914043   \n",
       "const     -0.078716         0.077106 -1.020883  0.337186   0.401778   \n",
       "const     -0.078716         0.077106 -1.020883  0.337186   0.401778   \n",
       "const     -0.078716         0.077106 -1.020883  0.337186   0.401778   \n",
       "\n",
       "             regression_type         output_title  \n",
       "const  Parallel Trends Check         abanca * avg  \n",
       "const  Parallel Trends Check  banc sabadell * avg  \n",
       "const  Parallel Trends Check  banc sabadell * avg  \n",
       "const  Parallel Trends Check       openbank * avg  \n",
       "const  Parallel Trends Check       openbank * avg  \n",
       "const  Parallel Trends Check       openbank * avg  "
      ]
     },
     "execution_count": 710,
     "metadata": {},
     "output_type": "execute_result"
    }
   ],
   "source": [
    "all_parallel_trends_apr.loc[all_parallel_trends_apr.p_values > 0.05]"
   ]
  },
  {
   "cell_type": "code",
   "execution_count": 711,
   "metadata": {},
   "outputs": [
    {
     "data": {
      "text/plain": [
       "97.66666666666667"
      ]
     },
     "execution_count": 711,
     "metadata": {},
     "output_type": "execute_result"
    }
   ],
   "source": [
    "(99+99+95)/3"
   ]
  },
  {
   "cell_type": "code",
   "execution_count": 712,
   "metadata": {},
   "outputs": [
    {
     "data": {
      "text/html": [
       "<div>\n",
       "<style scoped>\n",
       "    .dataframe tbody tr th:only-of-type {\n",
       "        vertical-align: middle;\n",
       "    }\n",
       "\n",
       "    .dataframe tbody tr th {\n",
       "        vertical-align: top;\n",
       "    }\n",
       "\n",
       "    .dataframe thead th {\n",
       "        text-align: right;\n",
       "    }\n",
       "</style>\n",
       "<table border=\"1\" class=\"dataframe\">\n",
       "  <thead>\n",
       "    <tr style=\"text-align: right;\">\n",
       "      <th></th>\n",
       "      <th>coefficients</th>\n",
       "      <th>p_values</th>\n",
       "      <th>output_title</th>\n",
       "      <th>date_of_event</th>\n",
       "      <th>r_squared</th>\n",
       "    </tr>\n",
       "  </thead>\n",
       "  <tbody>\n",
       "    <tr>\n",
       "      <th>6</th>\n",
       "      <td>1.382451</td>\n",
       "      <td>0.007266</td>\n",
       "      <td>abanca * avg</td>\n",
       "      <td>2023-07-01</td>\n",
       "      <td>0.910404</td>\n",
       "    </tr>\n",
       "    <tr>\n",
       "      <th>13</th>\n",
       "      <td>0.333641</td>\n",
       "      <td>0.248464</td>\n",
       "      <td>n26 * avg</td>\n",
       "      <td>2023-07-01</td>\n",
       "      <td>0.432644</td>\n",
       "    </tr>\n",
       "    <tr>\n",
       "      <th>20</th>\n",
       "      <td>0.427206</td>\n",
       "      <td>0.055874</td>\n",
       "      <td>banc sabadell * avg</td>\n",
       "      <td>2022-08-01</td>\n",
       "      <td>0.753579</td>\n",
       "    </tr>\n",
       "    <tr>\n",
       "      <th>27</th>\n",
       "      <td>0.959336</td>\n",
       "      <td>0.002334</td>\n",
       "      <td>banc sabadell * avg</td>\n",
       "      <td>2023-05-01</td>\n",
       "      <td>0.846371</td>\n",
       "    </tr>\n",
       "    <tr>\n",
       "      <th>34</th>\n",
       "      <td>0.129655</td>\n",
       "      <td>0.417713</td>\n",
       "      <td>openbank * avg</td>\n",
       "      <td>2022-04-01</td>\n",
       "      <td>0.669769</td>\n",
       "    </tr>\n",
       "    <tr>\n",
       "      <th>41</th>\n",
       "      <td>-0.088900</td>\n",
       "      <td>0.744717</td>\n",
       "      <td>openbank * avg</td>\n",
       "      <td>2023-04-01</td>\n",
       "      <td>0.575247</td>\n",
       "    </tr>\n",
       "    <tr>\n",
       "      <th>48</th>\n",
       "      <td>-0.192545</td>\n",
       "      <td>0.735670</td>\n",
       "      <td>openbank * avg</td>\n",
       "      <td>2023-10-01</td>\n",
       "      <td>0.430702</td>\n",
       "    </tr>\n",
       "    <tr>\n",
       "      <th>55</th>\n",
       "      <td>0.085877</td>\n",
       "      <td>0.764392</td>\n",
       "      <td>myinvestor * avg</td>\n",
       "      <td>2023-01-01</td>\n",
       "      <td>0.823845</td>\n",
       "    </tr>\n",
       "    <tr>\n",
       "      <th>62</th>\n",
       "      <td>-0.420335</td>\n",
       "      <td>0.051959</td>\n",
       "      <td>evobanco * avg</td>\n",
       "      <td>2022-11-01</td>\n",
       "      <td>0.925183</td>\n",
       "    </tr>\n",
       "    <tr>\n",
       "      <th>69</th>\n",
       "      <td>0.445199</td>\n",
       "      <td>0.151340</td>\n",
       "      <td>evobanco * avg</td>\n",
       "      <td>2023-04-01</td>\n",
       "      <td>0.672176</td>\n",
       "    </tr>\n",
       "  </tbody>\n",
       "</table>\n",
       "</div>"
      ],
      "text/plain": [
       "    coefficients  p_values         output_title date_of_event  r_squared\n",
       "6       1.382451  0.007266         abanca * avg    2023-07-01   0.910404\n",
       "13      0.333641  0.248464            n26 * avg    2023-07-01   0.432644\n",
       "20      0.427206  0.055874  banc sabadell * avg    2022-08-01   0.753579\n",
       "27      0.959336  0.002334  banc sabadell * avg    2023-05-01   0.846371\n",
       "34      0.129655  0.417713       openbank * avg    2022-04-01   0.669769\n",
       "41     -0.088900  0.744717       openbank * avg    2023-04-01   0.575247\n",
       "48     -0.192545  0.735670       openbank * avg    2023-10-01   0.430702\n",
       "55      0.085877  0.764392     myinvestor * avg    2023-01-01   0.823845\n",
       "62     -0.420335  0.051959       evobanco * avg    2022-11-01   0.925183\n",
       "69      0.445199  0.151340       evobanco * avg    2023-04-01   0.672176"
      ]
     },
     "execution_count": 712,
     "metadata": {},
     "output_type": "execute_result"
    }
   ],
   "source": [
    "\n",
    "all_incentive_diff_n_diff_2.loc[all_incentive_diff_n_diff_2.variable_name == 'treatment_post', ['coefficients','p_values', 'output_title', 'date_of_event', 'r_squared']].to_csv('data/apr_diff_n_diff.csv')\n",
    "apr_increase_coeffs = all_incentive_diff_n_diff_2.loc[all_incentive_diff_n_diff_2.variable_name == 'treatment_post', ['coefficients','p_values', 'output_title', 'date_of_event', 'r_squared']]\n",
    "apr_increase_coeffs\n"
   ]
  },
  {
   "cell_type": "markdown",
   "metadata": {},
   "source": [
    "### modify function to take average of all banks not included in the time period specified rather than just ing\n"
   ]
  },
  {
   "cell_type": "code",
   "execution_count": 713,
   "metadata": {},
   "outputs": [
    {
     "name": "stdout",
     "output_type": "stream",
     "text": [
      "1.8407894862634133\n",
      "0.1476961657693354\n"
     ]
    }
   ],
   "source": [
    "incentive_increase_coeffs = all_incentive_diff_n_diff.loc[all_incentive_diff_n_diff.variable_name == 'treatment_post', ['normalized_coefficients', 'coefficients','p_values', 'output_title', 'date_of_event', 'r_squared']]\n",
    "print(incentive_increase_coeffs.normalized_coefficients.mean())\n",
    "print(incentive_increase_coeffs.p_values.mean())"
   ]
  },
  {
   "cell_type": "code",
   "execution_count": 714,
   "metadata": {},
   "outputs": [
    {
     "data": {
      "text/html": [
       "<div>\n",
       "<style scoped>\n",
       "    .dataframe tbody tr th:only-of-type {\n",
       "        vertical-align: middle;\n",
       "    }\n",
       "\n",
       "    .dataframe tbody tr th {\n",
       "        vertical-align: top;\n",
       "    }\n",
       "\n",
       "    .dataframe thead th {\n",
       "        text-align: right;\n",
       "    }\n",
       "</style>\n",
       "<table border=\"1\" class=\"dataframe\">\n",
       "  <thead>\n",
       "    <tr style=\"text-align: right;\">\n",
       "      <th></th>\n",
       "      <th>coefficients</th>\n",
       "      <th>standard_errors</th>\n",
       "      <th>t_values</th>\n",
       "      <th>p_values</th>\n",
       "      <th>r_squared</th>\n",
       "      <th>regression_type</th>\n",
       "      <th>output_title</th>\n",
       "    </tr>\n",
       "  </thead>\n",
       "  <tbody>\n",
       "    <tr>\n",
       "      <th>const</th>\n",
       "      <td>-0.131872</td>\n",
       "      <td>0.123477</td>\n",
       "      <td>-1.067990</td>\n",
       "      <td>0.316689</td>\n",
       "      <td>0.871409</td>\n",
       "      <td>Parallel Trends Check</td>\n",
       "      <td>abanca * avg</td>\n",
       "    </tr>\n",
       "    <tr>\n",
       "      <th>const</th>\n",
       "      <td>0.016330</td>\n",
       "      <td>0.018576</td>\n",
       "      <td>0.879123</td>\n",
       "      <td>0.404966</td>\n",
       "      <td>0.914043</td>\n",
       "      <td>Parallel Trends Check</td>\n",
       "      <td>banc sabadell * avg</td>\n",
       "    </tr>\n",
       "    <tr>\n",
       "      <th>const</th>\n",
       "      <td>0.016330</td>\n",
       "      <td>0.018576</td>\n",
       "      <td>0.879123</td>\n",
       "      <td>0.404966</td>\n",
       "      <td>0.914043</td>\n",
       "      <td>Parallel Trends Check</td>\n",
       "      <td>banc sabadell * avg</td>\n",
       "    </tr>\n",
       "  </tbody>\n",
       "</table>\n",
       "</div>"
      ],
      "text/plain": [
       "       coefficients  standard_errors  t_values  p_values  r_squared  \\\n",
       "const     -0.131872         0.123477 -1.067990  0.316689   0.871409   \n",
       "const      0.016330         0.018576  0.879123  0.404966   0.914043   \n",
       "const      0.016330         0.018576  0.879123  0.404966   0.914043   \n",
       "\n",
       "             regression_type         output_title  \n",
       "const  Parallel Trends Check         abanca * avg  \n",
       "const  Parallel Trends Check  banc sabadell * avg  \n",
       "const  Parallel Trends Check  banc sabadell * avg  "
      ]
     },
     "execution_count": 714,
     "metadata": {},
     "output_type": "execute_result"
    }
   ],
   "source": [
    "all_parallel_trends_incentives.loc[all_parallel_trends_incentives.p_values > 0.05]\n"
   ]
  },
  {
   "cell_type": "code",
   "execution_count": 719,
   "metadata": {},
   "outputs": [
    {
     "data": {
      "text/html": [
       "<div>\n",
       "<style scoped>\n",
       "    .dataframe tbody tr th:only-of-type {\n",
       "        vertical-align: middle;\n",
       "    }\n",
       "\n",
       "    .dataframe tbody tr th {\n",
       "        vertical-align: top;\n",
       "    }\n",
       "\n",
       "    .dataframe thead th {\n",
       "        text-align: right;\n",
       "    }\n",
       "</style>\n",
       "<table border=\"1\" class=\"dataframe\">\n",
       "  <thead>\n",
       "    <tr style=\"text-align: right;\">\n",
       "      <th></th>\n",
       "      <th>normalized_coefficients</th>\n",
       "      <th>coefficients</th>\n",
       "      <th>p_values</th>\n",
       "      <th>output_title</th>\n",
       "      <th>date_of_event</th>\n",
       "      <th>r_squared</th>\n",
       "    </tr>\n",
       "  </thead>\n",
       "  <tbody>\n",
       "    <tr>\n",
       "      <th>6</th>\n",
       "      <td>0.890732</td>\n",
       "      <td>-0.115712</td>\n",
       "      <td>0.586834</td>\n",
       "      <td>abanca * avg</td>\n",
       "      <td>2022-04-01</td>\n",
       "      <td>0.924686</td>\n",
       "    </tr>\n",
       "    <tr>\n",
       "      <th>13</th>\n",
       "      <td>1.532968</td>\n",
       "      <td>0.427206</td>\n",
       "      <td>0.055874</td>\n",
       "      <td>banc sabadell * avg</td>\n",
       "      <td>2022-08-01</td>\n",
       "      <td>0.753579</td>\n",
       "    </tr>\n",
       "    <tr>\n",
       "      <th>20</th>\n",
       "      <td>3.896109</td>\n",
       "      <td>1.359978</td>\n",
       "      <td>0.000001</td>\n",
       "      <td>banc sabadell * avg</td>\n",
       "      <td>2023-04-01</td>\n",
       "      <td>0.965658</td>\n",
       "    </tr>\n",
       "    <tr>\n",
       "      <th>27</th>\n",
       "      <td>1.252974</td>\n",
       "      <td>0.225520</td>\n",
       "      <td>0.045527</td>\n",
       "      <td>santander * avg</td>\n",
       "      <td>2022-05-01</td>\n",
       "      <td>0.966405</td>\n",
       "    </tr>\n",
       "    <tr>\n",
       "      <th>34</th>\n",
       "      <td>1.468991</td>\n",
       "      <td>0.384576</td>\n",
       "      <td>0.042643</td>\n",
       "      <td>santander * avg</td>\n",
       "      <td>2022-08-01</td>\n",
       "      <td>0.934748</td>\n",
       "    </tr>\n",
       "    <tr>\n",
       "      <th>41</th>\n",
       "      <td>2.002963</td>\n",
       "      <td>0.694628</td>\n",
       "      <td>0.155299</td>\n",
       "      <td>santander * avg</td>\n",
       "      <td>2023-09-01</td>\n",
       "      <td>0.794669</td>\n",
       "    </tr>\n",
       "  </tbody>\n",
       "</table>\n",
       "</div>"
      ],
      "text/plain": [
       "    normalized_coefficients  coefficients  p_values         output_title  \\\n",
       "6                  0.890732     -0.115712  0.586834         abanca * avg   \n",
       "13                 1.532968      0.427206  0.055874  banc sabadell * avg   \n",
       "20                 3.896109      1.359978  0.000001  banc sabadell * avg   \n",
       "27                 1.252974      0.225520  0.045527      santander * avg   \n",
       "34                 1.468991      0.384576  0.042643      santander * avg   \n",
       "41                 2.002963      0.694628  0.155299      santander * avg   \n",
       "\n",
       "   date_of_event  r_squared  \n",
       "6     2022-04-01   0.924686  \n",
       "13    2022-08-01   0.753579  \n",
       "20    2023-04-01   0.965658  \n",
       "27    2022-05-01   0.966405  \n",
       "34    2022-08-01   0.934748  \n",
       "41    2023-09-01   0.794669  "
      ]
     },
     "execution_count": 719,
     "metadata": {},
     "output_type": "execute_result"
    }
   ],
   "source": [
    "incentive_increase_coeffs"
   ]
  },
  {
   "cell_type": "code",
   "execution_count": 716,
   "metadata": {},
   "outputs": [
    {
     "name": "stdout",
     "output_type": "stream",
     "text": [
      "1.5709159722649642\n",
      "0.31797309195210965\n"
     ]
    }
   ],
   "source": [
    "apr_increases_coeffs = all_incentive_diff_n_diff_2.loc[all_incentive_diff_n_diff_2.variable_name == 'treatment_post', ['normalized_coefficients', 'coefficients','p_values', 'output_title', 'date_of_event', 'r_squared']]\n",
    "print(apr_increases_coeffs.normalized_coefficients.mean())\n",
    "print(apr_increases_coeffs.p_values.mean())"
   ]
  },
  {
   "cell_type": "code",
   "execution_count": 717,
   "metadata": {},
   "outputs": [
    {
     "data": {
      "text/html": [
       "<div>\n",
       "<style scoped>\n",
       "    .dataframe tbody tr th:only-of-type {\n",
       "        vertical-align: middle;\n",
       "    }\n",
       "\n",
       "    .dataframe tbody tr th {\n",
       "        vertical-align: top;\n",
       "    }\n",
       "\n",
       "    .dataframe thead th {\n",
       "        text-align: right;\n",
       "    }\n",
       "</style>\n",
       "<table border=\"1\" class=\"dataframe\">\n",
       "  <thead>\n",
       "    <tr style=\"text-align: right;\">\n",
       "      <th></th>\n",
       "      <th>coefficients</th>\n",
       "      <th>p_values</th>\n",
       "      <th>output_title</th>\n",
       "      <th>date_of_event</th>\n",
       "      <th>r_squared</th>\n",
       "    </tr>\n",
       "  </thead>\n",
       "  <tbody>\n",
       "    <tr>\n",
       "      <th>6</th>\n",
       "      <td>1.382451</td>\n",
       "      <td>0.007266</td>\n",
       "      <td>abanca * avg</td>\n",
       "      <td>2023-07-01</td>\n",
       "      <td>0.910404</td>\n",
       "    </tr>\n",
       "    <tr>\n",
       "      <th>13</th>\n",
       "      <td>0.333641</td>\n",
       "      <td>0.248464</td>\n",
       "      <td>n26 * avg</td>\n",
       "      <td>2023-07-01</td>\n",
       "      <td>0.432644</td>\n",
       "    </tr>\n",
       "    <tr>\n",
       "      <th>20</th>\n",
       "      <td>0.427206</td>\n",
       "      <td>0.055874</td>\n",
       "      <td>banc sabadell * avg</td>\n",
       "      <td>2022-08-01</td>\n",
       "      <td>0.753579</td>\n",
       "    </tr>\n",
       "    <tr>\n",
       "      <th>27</th>\n",
       "      <td>0.959336</td>\n",
       "      <td>0.002334</td>\n",
       "      <td>banc sabadell * avg</td>\n",
       "      <td>2023-05-01</td>\n",
       "      <td>0.846371</td>\n",
       "    </tr>\n",
       "    <tr>\n",
       "      <th>34</th>\n",
       "      <td>0.129655</td>\n",
       "      <td>0.417713</td>\n",
       "      <td>openbank * avg</td>\n",
       "      <td>2022-04-01</td>\n",
       "      <td>0.669769</td>\n",
       "    </tr>\n",
       "    <tr>\n",
       "      <th>41</th>\n",
       "      <td>-0.088900</td>\n",
       "      <td>0.744717</td>\n",
       "      <td>openbank * avg</td>\n",
       "      <td>2023-04-01</td>\n",
       "      <td>0.575247</td>\n",
       "    </tr>\n",
       "    <tr>\n",
       "      <th>48</th>\n",
       "      <td>-0.192545</td>\n",
       "      <td>0.735670</td>\n",
       "      <td>openbank * avg</td>\n",
       "      <td>2023-10-01</td>\n",
       "      <td>0.430702</td>\n",
       "    </tr>\n",
       "    <tr>\n",
       "      <th>55</th>\n",
       "      <td>0.085877</td>\n",
       "      <td>0.764392</td>\n",
       "      <td>myinvestor * avg</td>\n",
       "      <td>2023-01-01</td>\n",
       "      <td>0.823845</td>\n",
       "    </tr>\n",
       "    <tr>\n",
       "      <th>62</th>\n",
       "      <td>-0.420335</td>\n",
       "      <td>0.051959</td>\n",
       "      <td>evobanco * avg</td>\n",
       "      <td>2022-11-01</td>\n",
       "      <td>0.925183</td>\n",
       "    </tr>\n",
       "    <tr>\n",
       "      <th>69</th>\n",
       "      <td>0.445199</td>\n",
       "      <td>0.151340</td>\n",
       "      <td>evobanco * avg</td>\n",
       "      <td>2023-04-01</td>\n",
       "      <td>0.672176</td>\n",
       "    </tr>\n",
       "  </tbody>\n",
       "</table>\n",
       "</div>"
      ],
      "text/plain": [
       "    coefficients  p_values         output_title date_of_event  r_squared\n",
       "6       1.382451  0.007266         abanca * avg    2023-07-01   0.910404\n",
       "13      0.333641  0.248464            n26 * avg    2023-07-01   0.432644\n",
       "20      0.427206  0.055874  banc sabadell * avg    2022-08-01   0.753579\n",
       "27      0.959336  0.002334  banc sabadell * avg    2023-05-01   0.846371\n",
       "34      0.129655  0.417713       openbank * avg    2022-04-01   0.669769\n",
       "41     -0.088900  0.744717       openbank * avg    2023-04-01   0.575247\n",
       "48     -0.192545  0.735670       openbank * avg    2023-10-01   0.430702\n",
       "55      0.085877  0.764392     myinvestor * avg    2023-01-01   0.823845\n",
       "62     -0.420335  0.051959       evobanco * avg    2022-11-01   0.925183\n",
       "69      0.445199  0.151340       evobanco * avg    2023-04-01   0.672176"
      ]
     },
     "execution_count": 717,
     "metadata": {},
     "output_type": "execute_result"
    }
   ],
   "source": [
    "# drop normalized coefficients\n",
    "apr_increase_coeffs"
   ]
  },
  {
   "cell_type": "code",
   "execution_count": 718,
   "metadata": {},
   "outputs": [
    {
     "data": {
      "text/html": [
       "<div>\n",
       "<style scoped>\n",
       "    .dataframe tbody tr th:only-of-type {\n",
       "        vertical-align: middle;\n",
       "    }\n",
       "\n",
       "    .dataframe tbody tr th {\n",
       "        vertical-align: top;\n",
       "    }\n",
       "\n",
       "    .dataframe thead th {\n",
       "        text-align: right;\n",
       "    }\n",
       "</style>\n",
       "<table border=\"1\" class=\"dataframe\">\n",
       "  <thead>\n",
       "    <tr style=\"text-align: right;\">\n",
       "      <th></th>\n",
       "      <th>coefficients</th>\n",
       "      <th>standard_errors</th>\n",
       "      <th>t_values</th>\n",
       "      <th>p_values</th>\n",
       "      <th>r_squared</th>\n",
       "      <th>regression_type</th>\n",
       "      <th>output_title</th>\n",
       "    </tr>\n",
       "  </thead>\n",
       "  <tbody>\n",
       "    <tr>\n",
       "      <th>const</th>\n",
       "      <td>-0.131872</td>\n",
       "      <td>0.123477</td>\n",
       "      <td>-1.067990</td>\n",
       "      <td>0.316689</td>\n",
       "      <td>0.871409</td>\n",
       "      <td>Parallel Trends Check</td>\n",
       "      <td>abanca * avg</td>\n",
       "    </tr>\n",
       "    <tr>\n",
       "      <th>const</th>\n",
       "      <td>0.016330</td>\n",
       "      <td>0.018576</td>\n",
       "      <td>0.879123</td>\n",
       "      <td>0.404966</td>\n",
       "      <td>0.914043</td>\n",
       "      <td>Parallel Trends Check</td>\n",
       "      <td>banc sabadell * avg</td>\n",
       "    </tr>\n",
       "    <tr>\n",
       "      <th>const</th>\n",
       "      <td>0.016330</td>\n",
       "      <td>0.018576</td>\n",
       "      <td>0.879123</td>\n",
       "      <td>0.404966</td>\n",
       "      <td>0.914043</td>\n",
       "      <td>Parallel Trends Check</td>\n",
       "      <td>banc sabadell * avg</td>\n",
       "    </tr>\n",
       "    <tr>\n",
       "      <th>const</th>\n",
       "      <td>-0.078716</td>\n",
       "      <td>0.077106</td>\n",
       "      <td>-1.020883</td>\n",
       "      <td>0.337186</td>\n",
       "      <td>0.401778</td>\n",
       "      <td>Parallel Trends Check</td>\n",
       "      <td>openbank * avg</td>\n",
       "    </tr>\n",
       "    <tr>\n",
       "      <th>const</th>\n",
       "      <td>-0.078716</td>\n",
       "      <td>0.077106</td>\n",
       "      <td>-1.020883</td>\n",
       "      <td>0.337186</td>\n",
       "      <td>0.401778</td>\n",
       "      <td>Parallel Trends Check</td>\n",
       "      <td>openbank * avg</td>\n",
       "    </tr>\n",
       "    <tr>\n",
       "      <th>const</th>\n",
       "      <td>-0.078716</td>\n",
       "      <td>0.077106</td>\n",
       "      <td>-1.020883</td>\n",
       "      <td>0.337186</td>\n",
       "      <td>0.401778</td>\n",
       "      <td>Parallel Trends Check</td>\n",
       "      <td>openbank * avg</td>\n",
       "    </tr>\n",
       "  </tbody>\n",
       "</table>\n",
       "</div>"
      ],
      "text/plain": [
       "       coefficients  standard_errors  t_values  p_values  r_squared  \\\n",
       "const     -0.131872         0.123477 -1.067990  0.316689   0.871409   \n",
       "const      0.016330         0.018576  0.879123  0.404966   0.914043   \n",
       "const      0.016330         0.018576  0.879123  0.404966   0.914043   \n",
       "const     -0.078716         0.077106 -1.020883  0.337186   0.401778   \n",
       "const     -0.078716         0.077106 -1.020883  0.337186   0.401778   \n",
       "const     -0.078716         0.077106 -1.020883  0.337186   0.401778   \n",
       "\n",
       "             regression_type         output_title  \n",
       "const  Parallel Trends Check         abanca * avg  \n",
       "const  Parallel Trends Check  banc sabadell * avg  \n",
       "const  Parallel Trends Check  banc sabadell * avg  \n",
       "const  Parallel Trends Check       openbank * avg  \n",
       "const  Parallel Trends Check       openbank * avg  \n",
       "const  Parallel Trends Check       openbank * avg  "
      ]
     },
     "execution_count": 718,
     "metadata": {},
     "output_type": "execute_result"
    }
   ],
   "source": [
    "# find only with significant p values\n",
    "all_parallel_trends_apr.loc[all_parallel_trends_apr.p_values > 0.05]"
   ]
  },
  {
   "cell_type": "code",
   "execution_count": 491,
   "metadata": {},
   "outputs": [],
   "source": [
    "ind_vars = ['web_traffic_lag',  'cross_visitation', 'search_interest']\n",
    "all_vars = ind_vars + ['web_traffic', 'date', 'incentive', 'apr']\n",
    "\n",
    "top_n_ = 5\n",
    "buffer = 2"
   ]
  },
  {
   "cell_type": "code",
   "execution_count": 650,
   "metadata": {},
   "outputs": [],
   "source": [
    "# supress warnings \n",
    "import warnings\n",
    "\n",
    "warnings.filterwarnings('ignore')"
   ]
  },
  {
   "cell_type": "code",
   "execution_count": 665,
   "metadata": {},
   "outputs": [
    {
     "name": "stdout",
     "output_type": "stream",
     "text": [
      "abanca * avg\n"
     ]
    },
    {
     "data": {
      "application/vnd.plotly.v1+json": {
       "config": {
        "plotlyServerURL": "https://plot.ly"
       },
       "data": [
        {
         "hovertemplate": "type=bank_of_interest_event<br>date=%{x}<br>web_traffic=%{y}<extra></extra>",
         "legendgroup": "bank_of_interest_event",
         "line": {
          "color": "#636efa",
          "dash": "solid"
         },
         "marker": {
          "symbol": "circle"
         },
         "mode": "lines",
         "name": "bank_of_interest_event",
         "orientation": "v",
         "showlegend": true,
         "type": "scatter",
         "x": [
          "2023-05-01T00:00:00",
          "2023-06-01T00:00:00",
          "2023-07-01T00:00:00",
          "2023-08-01T00:00:00",
          "2023-09-01T00:00:00"
         ],
         "xaxis": "x",
         "y": [
          1.4431028423252863,
          1.5652243119695013,
          1.7745131063147477,
          1.9428699907629914,
          1.6395155246128725
         ],
         "yaxis": "y"
        },
        {
         "hovertemplate": "type=control_bank_event<br>date=%{x}<br>web_traffic=%{y}<extra></extra>",
         "legendgroup": "control_bank_event",
         "line": {
          "color": "#EF553B",
          "dash": "solid"
         },
         "marker": {
          "symbol": "circle"
         },
         "mode": "lines",
         "name": "control_bank_event",
         "orientation": "v",
         "showlegend": true,
         "type": "scatter",
         "x": [
          "2023-05-01T00:00:00",
          "2023-06-01T00:00:00",
          "2023-07-01T00:00:00",
          "2023-08-01T00:00:00",
          "2023-09-01T00:00:00"
         ],
         "xaxis": "x",
         "y": [
          -0.529066351191031,
          -0.8705288322680645,
          -0.5486138684559918,
          -1.7883009498022373,
          -0.2580702624673923
         ],
         "yaxis": "y"
        },
        {
         "hovertemplate": "type=bank_of_interest_non_event<br>date=%{x}<br>web_traffic=%{y}<extra></extra>",
         "legendgroup": "bank_of_interest_non_event",
         "line": {
          "color": "#00cc96",
          "dash": "solid"
         },
         "marker": {
          "symbol": "circle"
         },
         "mode": "lines",
         "name": "bank_of_interest_non_event",
         "orientation": "v",
         "showlegend": true,
         "type": "scatter",
         "x": [
          "2022-05-01T00:00:00",
          "2022-06-01T00:00:00",
          "2022-07-01T00:00:00",
          "2022-08-01T00:00:00",
          "2022-09-01T00:00:00"
         ],
         "xaxis": "x",
         "y": [
          0.7019192716703138,
          0.8843203178073472,
          1.518389573507872,
          1.3636751422227615,
          1.301022184570808
         ],
         "yaxis": "y"
        },
        {
         "hovertemplate": "type=control_bank_non_event<br>date=%{x}<br>web_traffic=%{y}<extra></extra>",
         "legendgroup": "control_bank_non_event",
         "line": {
          "color": "#ab63fa",
          "dash": "solid"
         },
         "marker": {
          "symbol": "circle"
         },
         "mode": "lines",
         "name": "control_bank_non_event",
         "orientation": "v",
         "showlegend": true,
         "type": "scatter",
         "x": [
          "2022-05-01T00:00:00",
          "2022-06-01T00:00:00",
          "2022-07-01T00:00:00",
          "2022-08-01T00:00:00",
          "2022-09-01T00:00:00"
         ],
         "xaxis": "x",
         "y": [
          -0.022895120134510144,
          -0.3379946844113209,
          -0.31045674380486615,
          -0.06518554187932414,
          0.0771703726371376
         ],
         "yaxis": "y"
        }
       ],
       "layout": {
        "legend": {
         "title": {
          "text": "Series"
         },
         "tracegroupgap": 0
        },
        "template": {
         "data": {
          "bar": [
           {
            "error_x": {
             "color": "#2a3f5f"
            },
            "error_y": {
             "color": "#2a3f5f"
            },
            "marker": {
             "line": {
              "color": "#E5ECF6",
              "width": 0.5
             },
             "pattern": {
              "fillmode": "overlay",
              "size": 10,
              "solidity": 0.2
             }
            },
            "type": "bar"
           }
          ],
          "barpolar": [
           {
            "marker": {
             "line": {
              "color": "#E5ECF6",
              "width": 0.5
             },
             "pattern": {
              "fillmode": "overlay",
              "size": 10,
              "solidity": 0.2
             }
            },
            "type": "barpolar"
           }
          ],
          "carpet": [
           {
            "aaxis": {
             "endlinecolor": "#2a3f5f",
             "gridcolor": "white",
             "linecolor": "white",
             "minorgridcolor": "white",
             "startlinecolor": "#2a3f5f"
            },
            "baxis": {
             "endlinecolor": "#2a3f5f",
             "gridcolor": "white",
             "linecolor": "white",
             "minorgridcolor": "white",
             "startlinecolor": "#2a3f5f"
            },
            "type": "carpet"
           }
          ],
          "choropleth": [
           {
            "colorbar": {
             "outlinewidth": 0,
             "ticks": ""
            },
            "type": "choropleth"
           }
          ],
          "contour": [
           {
            "colorbar": {
             "outlinewidth": 0,
             "ticks": ""
            },
            "colorscale": [
             [
              0,
              "#0d0887"
             ],
             [
              0.1111111111111111,
              "#46039f"
             ],
             [
              0.2222222222222222,
              "#7201a8"
             ],
             [
              0.3333333333333333,
              "#9c179e"
             ],
             [
              0.4444444444444444,
              "#bd3786"
             ],
             [
              0.5555555555555556,
              "#d8576b"
             ],
             [
              0.6666666666666666,
              "#ed7953"
             ],
             [
              0.7777777777777778,
              "#fb9f3a"
             ],
             [
              0.8888888888888888,
              "#fdca26"
             ],
             [
              1,
              "#f0f921"
             ]
            ],
            "type": "contour"
           }
          ],
          "contourcarpet": [
           {
            "colorbar": {
             "outlinewidth": 0,
             "ticks": ""
            },
            "type": "contourcarpet"
           }
          ],
          "heatmap": [
           {
            "colorbar": {
             "outlinewidth": 0,
             "ticks": ""
            },
            "colorscale": [
             [
              0,
              "#0d0887"
             ],
             [
              0.1111111111111111,
              "#46039f"
             ],
             [
              0.2222222222222222,
              "#7201a8"
             ],
             [
              0.3333333333333333,
              "#9c179e"
             ],
             [
              0.4444444444444444,
              "#bd3786"
             ],
             [
              0.5555555555555556,
              "#d8576b"
             ],
             [
              0.6666666666666666,
              "#ed7953"
             ],
             [
              0.7777777777777778,
              "#fb9f3a"
             ],
             [
              0.8888888888888888,
              "#fdca26"
             ],
             [
              1,
              "#f0f921"
             ]
            ],
            "type": "heatmap"
           }
          ],
          "heatmapgl": [
           {
            "colorbar": {
             "outlinewidth": 0,
             "ticks": ""
            },
            "colorscale": [
             [
              0,
              "#0d0887"
             ],
             [
              0.1111111111111111,
              "#46039f"
             ],
             [
              0.2222222222222222,
              "#7201a8"
             ],
             [
              0.3333333333333333,
              "#9c179e"
             ],
             [
              0.4444444444444444,
              "#bd3786"
             ],
             [
              0.5555555555555556,
              "#d8576b"
             ],
             [
              0.6666666666666666,
              "#ed7953"
             ],
             [
              0.7777777777777778,
              "#fb9f3a"
             ],
             [
              0.8888888888888888,
              "#fdca26"
             ],
             [
              1,
              "#f0f921"
             ]
            ],
            "type": "heatmapgl"
           }
          ],
          "histogram": [
           {
            "marker": {
             "pattern": {
              "fillmode": "overlay",
              "size": 10,
              "solidity": 0.2
             }
            },
            "type": "histogram"
           }
          ],
          "histogram2d": [
           {
            "colorbar": {
             "outlinewidth": 0,
             "ticks": ""
            },
            "colorscale": [
             [
              0,
              "#0d0887"
             ],
             [
              0.1111111111111111,
              "#46039f"
             ],
             [
              0.2222222222222222,
              "#7201a8"
             ],
             [
              0.3333333333333333,
              "#9c179e"
             ],
             [
              0.4444444444444444,
              "#bd3786"
             ],
             [
              0.5555555555555556,
              "#d8576b"
             ],
             [
              0.6666666666666666,
              "#ed7953"
             ],
             [
              0.7777777777777778,
              "#fb9f3a"
             ],
             [
              0.8888888888888888,
              "#fdca26"
             ],
             [
              1,
              "#f0f921"
             ]
            ],
            "type": "histogram2d"
           }
          ],
          "histogram2dcontour": [
           {
            "colorbar": {
             "outlinewidth": 0,
             "ticks": ""
            },
            "colorscale": [
             [
              0,
              "#0d0887"
             ],
             [
              0.1111111111111111,
              "#46039f"
             ],
             [
              0.2222222222222222,
              "#7201a8"
             ],
             [
              0.3333333333333333,
              "#9c179e"
             ],
             [
              0.4444444444444444,
              "#bd3786"
             ],
             [
              0.5555555555555556,
              "#d8576b"
             ],
             [
              0.6666666666666666,
              "#ed7953"
             ],
             [
              0.7777777777777778,
              "#fb9f3a"
             ],
             [
              0.8888888888888888,
              "#fdca26"
             ],
             [
              1,
              "#f0f921"
             ]
            ],
            "type": "histogram2dcontour"
           }
          ],
          "mesh3d": [
           {
            "colorbar": {
             "outlinewidth": 0,
             "ticks": ""
            },
            "type": "mesh3d"
           }
          ],
          "parcoords": [
           {
            "line": {
             "colorbar": {
              "outlinewidth": 0,
              "ticks": ""
             }
            },
            "type": "parcoords"
           }
          ],
          "pie": [
           {
            "automargin": true,
            "type": "pie"
           }
          ],
          "scatter": [
           {
            "fillpattern": {
             "fillmode": "overlay",
             "size": 10,
             "solidity": 0.2
            },
            "type": "scatter"
           }
          ],
          "scatter3d": [
           {
            "line": {
             "colorbar": {
              "outlinewidth": 0,
              "ticks": ""
             }
            },
            "marker": {
             "colorbar": {
              "outlinewidth": 0,
              "ticks": ""
             }
            },
            "type": "scatter3d"
           }
          ],
          "scattercarpet": [
           {
            "marker": {
             "colorbar": {
              "outlinewidth": 0,
              "ticks": ""
             }
            },
            "type": "scattercarpet"
           }
          ],
          "scattergeo": [
           {
            "marker": {
             "colorbar": {
              "outlinewidth": 0,
              "ticks": ""
             }
            },
            "type": "scattergeo"
           }
          ],
          "scattergl": [
           {
            "marker": {
             "colorbar": {
              "outlinewidth": 0,
              "ticks": ""
             }
            },
            "type": "scattergl"
           }
          ],
          "scattermapbox": [
           {
            "marker": {
             "colorbar": {
              "outlinewidth": 0,
              "ticks": ""
             }
            },
            "type": "scattermapbox"
           }
          ],
          "scatterpolar": [
           {
            "marker": {
             "colorbar": {
              "outlinewidth": 0,
              "ticks": ""
             }
            },
            "type": "scatterpolar"
           }
          ],
          "scatterpolargl": [
           {
            "marker": {
             "colorbar": {
              "outlinewidth": 0,
              "ticks": ""
             }
            },
            "type": "scatterpolargl"
           }
          ],
          "scatterternary": [
           {
            "marker": {
             "colorbar": {
              "outlinewidth": 0,
              "ticks": ""
             }
            },
            "type": "scatterternary"
           }
          ],
          "surface": [
           {
            "colorbar": {
             "outlinewidth": 0,
             "ticks": ""
            },
            "colorscale": [
             [
              0,
              "#0d0887"
             ],
             [
              0.1111111111111111,
              "#46039f"
             ],
             [
              0.2222222222222222,
              "#7201a8"
             ],
             [
              0.3333333333333333,
              "#9c179e"
             ],
             [
              0.4444444444444444,
              "#bd3786"
             ],
             [
              0.5555555555555556,
              "#d8576b"
             ],
             [
              0.6666666666666666,
              "#ed7953"
             ],
             [
              0.7777777777777778,
              "#fb9f3a"
             ],
             [
              0.8888888888888888,
              "#fdca26"
             ],
             [
              1,
              "#f0f921"
             ]
            ],
            "type": "surface"
           }
          ],
          "table": [
           {
            "cells": {
             "fill": {
              "color": "#EBF0F8"
             },
             "line": {
              "color": "white"
             }
            },
            "header": {
             "fill": {
              "color": "#C8D4E3"
             },
             "line": {
              "color": "white"
             }
            },
            "type": "table"
           }
          ]
         },
         "layout": {
          "annotationdefaults": {
           "arrowcolor": "#2a3f5f",
           "arrowhead": 0,
           "arrowwidth": 1
          },
          "autotypenumbers": "strict",
          "coloraxis": {
           "colorbar": {
            "outlinewidth": 0,
            "ticks": ""
           }
          },
          "colorscale": {
           "diverging": [
            [
             0,
             "#8e0152"
            ],
            [
             0.1,
             "#c51b7d"
            ],
            [
             0.2,
             "#de77ae"
            ],
            [
             0.3,
             "#f1b6da"
            ],
            [
             0.4,
             "#fde0ef"
            ],
            [
             0.5,
             "#f7f7f7"
            ],
            [
             0.6,
             "#e6f5d0"
            ],
            [
             0.7,
             "#b8e186"
            ],
            [
             0.8,
             "#7fbc41"
            ],
            [
             0.9,
             "#4d9221"
            ],
            [
             1,
             "#276419"
            ]
           ],
           "sequential": [
            [
             0,
             "#0d0887"
            ],
            [
             0.1111111111111111,
             "#46039f"
            ],
            [
             0.2222222222222222,
             "#7201a8"
            ],
            [
             0.3333333333333333,
             "#9c179e"
            ],
            [
             0.4444444444444444,
             "#bd3786"
            ],
            [
             0.5555555555555556,
             "#d8576b"
            ],
            [
             0.6666666666666666,
             "#ed7953"
            ],
            [
             0.7777777777777778,
             "#fb9f3a"
            ],
            [
             0.8888888888888888,
             "#fdca26"
            ],
            [
             1,
             "#f0f921"
            ]
           ],
           "sequentialminus": [
            [
             0,
             "#0d0887"
            ],
            [
             0.1111111111111111,
             "#46039f"
            ],
            [
             0.2222222222222222,
             "#7201a8"
            ],
            [
             0.3333333333333333,
             "#9c179e"
            ],
            [
             0.4444444444444444,
             "#bd3786"
            ],
            [
             0.5555555555555556,
             "#d8576b"
            ],
            [
             0.6666666666666666,
             "#ed7953"
            ],
            [
             0.7777777777777778,
             "#fb9f3a"
            ],
            [
             0.8888888888888888,
             "#fdca26"
            ],
            [
             1,
             "#f0f921"
            ]
           ]
          },
          "colorway": [
           "#636efa",
           "#EF553B",
           "#00cc96",
           "#ab63fa",
           "#FFA15A",
           "#19d3f3",
           "#FF6692",
           "#B6E880",
           "#FF97FF",
           "#FECB52"
          ],
          "font": {
           "color": "#2a3f5f"
          },
          "geo": {
           "bgcolor": "white",
           "lakecolor": "white",
           "landcolor": "#E5ECF6",
           "showlakes": true,
           "showland": true,
           "subunitcolor": "white"
          },
          "hoverlabel": {
           "align": "left"
          },
          "hovermode": "closest",
          "mapbox": {
           "style": "light"
          },
          "paper_bgcolor": "white",
          "plot_bgcolor": "#E5ECF6",
          "polar": {
           "angularaxis": {
            "gridcolor": "white",
            "linecolor": "white",
            "ticks": ""
           },
           "bgcolor": "#E5ECF6",
           "radialaxis": {
            "gridcolor": "white",
            "linecolor": "white",
            "ticks": ""
           }
          },
          "scene": {
           "xaxis": {
            "backgroundcolor": "#E5ECF6",
            "gridcolor": "white",
            "gridwidth": 2,
            "linecolor": "white",
            "showbackground": true,
            "ticks": "",
            "zerolinecolor": "white"
           },
           "yaxis": {
            "backgroundcolor": "#E5ECF6",
            "gridcolor": "white",
            "gridwidth": 2,
            "linecolor": "white",
            "showbackground": true,
            "ticks": "",
            "zerolinecolor": "white"
           },
           "zaxis": {
            "backgroundcolor": "#E5ECF6",
            "gridcolor": "white",
            "gridwidth": 2,
            "linecolor": "white",
            "showbackground": true,
            "ticks": "",
            "zerolinecolor": "white"
           }
          },
          "shapedefaults": {
           "line": {
            "color": "#2a3f5f"
           }
          },
          "ternary": {
           "aaxis": {
            "gridcolor": "white",
            "linecolor": "white",
            "ticks": ""
           },
           "baxis": {
            "gridcolor": "white",
            "linecolor": "white",
            "ticks": ""
           },
           "bgcolor": "#E5ECF6",
           "caxis": {
            "gridcolor": "white",
            "linecolor": "white",
            "ticks": ""
           }
          },
          "title": {
           "x": 0.05
          },
          "xaxis": {
           "automargin": true,
           "gridcolor": "white",
           "linecolor": "white",
           "ticks": "",
           "title": {
            "standoff": 15
           },
           "zerolinecolor": "white",
           "zerolinewidth": 2
          },
          "yaxis": {
           "automargin": true,
           "gridcolor": "white",
           "linecolor": "white",
           "ticks": "",
           "title": {
            "standoff": 15
           },
           "zerolinecolor": "white",
           "zerolinewidth": 2
          }
         }
        },
        "title": {
         "text": "Web Traffic Across Different Series - Incentive"
        },
        "xaxis": {
         "anchor": "y",
         "domain": [
          0,
          1
         ],
         "title": {
          "text": "date"
         }
        },
        "yaxis": {
         "anchor": "x",
         "domain": [
          0,
          1
         ],
         "title": {
          "text": "web_traffic"
         }
        }
       }
      }
     },
     "metadata": {},
     "output_type": "display_data"
    },
    {
     "name": "stdout",
     "output_type": "stream",
     "text": [
      "n26 * avg\n"
     ]
    },
    {
     "data": {
      "application/vnd.plotly.v1+json": {
       "config": {
        "plotlyServerURL": "https://plot.ly"
       },
       "data": [
        {
         "hovertemplate": "type=bank_of_interest_event<br>date=%{x}<br>web_traffic=%{y}<extra></extra>",
         "legendgroup": "bank_of_interest_event",
         "line": {
          "color": "#636efa",
          "dash": "solid"
         },
         "marker": {
          "symbol": "circle"
         },
         "mode": "lines",
         "name": "bank_of_interest_event",
         "orientation": "v",
         "showlegend": true,
         "type": "scatter",
         "x": [
          "2023-05-01T00:00:00",
          "2023-06-01T00:00:00",
          "2023-07-01T00:00:00",
          "2023-08-01T00:00:00",
          "2023-09-01T00:00:00"
         ],
         "xaxis": "x",
         "y": [
          -1.0856620893104745,
          -0.7787194690803216,
          -0.2323721665027028,
          -0.4823734733341116,
          -0.8858758704677078
         ],
         "yaxis": "y"
        },
        {
         "hovertemplate": "type=control_bank_event<br>date=%{x}<br>web_traffic=%{y}<extra></extra>",
         "legendgroup": "control_bank_event",
         "line": {
          "color": "#EF553B",
          "dash": "solid"
         },
         "marker": {
          "symbol": "circle"
         },
         "mode": "lines",
         "name": "control_bank_event",
         "orientation": "v",
         "showlegend": true,
         "type": "scatter",
         "x": [
          "2023-05-01T00:00:00",
          "2023-06-01T00:00:00",
          "2023-07-01T00:00:00",
          "2023-08-01T00:00:00",
          "2023-09-01T00:00:00"
         ],
         "xaxis": "x",
         "y": [
          -0.30510087662955937,
          -0.5408893381877345,
          -0.26807888159275045,
          -1.297807508530281,
          -0.007246579520921337
         ],
         "yaxis": "y"
        },
        {
         "hovertemplate": "type=bank_of_interest_non_event<br>date=%{x}<br>web_traffic=%{y}<extra></extra>",
         "legendgroup": "bank_of_interest_non_event",
         "line": {
          "color": "#00cc96",
          "dash": "solid"
         },
         "marker": {
          "symbol": "circle"
         },
         "mode": "lines",
         "name": "bank_of_interest_non_event",
         "orientation": "v",
         "showlegend": true,
         "type": "scatter",
         "x": [
          "2021-12-01T00:00:00",
          "2022-01-01T00:00:00",
          "2022-02-01T00:00:00",
          "2022-03-01T00:00:00",
          "2022-04-01T00:00:00"
         ],
         "xaxis": "x",
         "y": [
          -0.6672583026355112,
          -0.7573285480039245,
          -0.7410024496421644,
          -0.7860919208303503,
          -0.7854303469421583
         ],
         "yaxis": "y"
        },
        {
         "hovertemplate": "type=control_bank_non_event<br>date=%{x}<br>web_traffic=%{y}<extra></extra>",
         "legendgroup": "control_bank_non_event",
         "line": {
          "color": "#ab63fa",
          "dash": "solid"
         },
         "marker": {
          "symbol": "circle"
         },
         "mode": "lines",
         "name": "control_bank_non_event",
         "orientation": "v",
         "showlegend": true,
         "type": "scatter",
         "x": [
          "2021-12-01T00:00:00",
          "2022-01-01T00:00:00",
          "2022-02-01T00:00:00",
          "2022-03-01T00:00:00",
          "2022-04-01T00:00:00"
         ],
         "xaxis": "x",
         "y": [
          -0.38448045200327186,
          -0.37863243699964516,
          -0.35039542630991993,
          -0.33202828250833283,
          -0.3046548766826206
         ],
         "yaxis": "y"
        }
       ],
       "layout": {
        "legend": {
         "title": {
          "text": "Series"
         },
         "tracegroupgap": 0
        },
        "template": {
         "data": {
          "bar": [
           {
            "error_x": {
             "color": "#2a3f5f"
            },
            "error_y": {
             "color": "#2a3f5f"
            },
            "marker": {
             "line": {
              "color": "#E5ECF6",
              "width": 0.5
             },
             "pattern": {
              "fillmode": "overlay",
              "size": 10,
              "solidity": 0.2
             }
            },
            "type": "bar"
           }
          ],
          "barpolar": [
           {
            "marker": {
             "line": {
              "color": "#E5ECF6",
              "width": 0.5
             },
             "pattern": {
              "fillmode": "overlay",
              "size": 10,
              "solidity": 0.2
             }
            },
            "type": "barpolar"
           }
          ],
          "carpet": [
           {
            "aaxis": {
             "endlinecolor": "#2a3f5f",
             "gridcolor": "white",
             "linecolor": "white",
             "minorgridcolor": "white",
             "startlinecolor": "#2a3f5f"
            },
            "baxis": {
             "endlinecolor": "#2a3f5f",
             "gridcolor": "white",
             "linecolor": "white",
             "minorgridcolor": "white",
             "startlinecolor": "#2a3f5f"
            },
            "type": "carpet"
           }
          ],
          "choropleth": [
           {
            "colorbar": {
             "outlinewidth": 0,
             "ticks": ""
            },
            "type": "choropleth"
           }
          ],
          "contour": [
           {
            "colorbar": {
             "outlinewidth": 0,
             "ticks": ""
            },
            "colorscale": [
             [
              0,
              "#0d0887"
             ],
             [
              0.1111111111111111,
              "#46039f"
             ],
             [
              0.2222222222222222,
              "#7201a8"
             ],
             [
              0.3333333333333333,
              "#9c179e"
             ],
             [
              0.4444444444444444,
              "#bd3786"
             ],
             [
              0.5555555555555556,
              "#d8576b"
             ],
             [
              0.6666666666666666,
              "#ed7953"
             ],
             [
              0.7777777777777778,
              "#fb9f3a"
             ],
             [
              0.8888888888888888,
              "#fdca26"
             ],
             [
              1,
              "#f0f921"
             ]
            ],
            "type": "contour"
           }
          ],
          "contourcarpet": [
           {
            "colorbar": {
             "outlinewidth": 0,
             "ticks": ""
            },
            "type": "contourcarpet"
           }
          ],
          "heatmap": [
           {
            "colorbar": {
             "outlinewidth": 0,
             "ticks": ""
            },
            "colorscale": [
             [
              0,
              "#0d0887"
             ],
             [
              0.1111111111111111,
              "#46039f"
             ],
             [
              0.2222222222222222,
              "#7201a8"
             ],
             [
              0.3333333333333333,
              "#9c179e"
             ],
             [
              0.4444444444444444,
              "#bd3786"
             ],
             [
              0.5555555555555556,
              "#d8576b"
             ],
             [
              0.6666666666666666,
              "#ed7953"
             ],
             [
              0.7777777777777778,
              "#fb9f3a"
             ],
             [
              0.8888888888888888,
              "#fdca26"
             ],
             [
              1,
              "#f0f921"
             ]
            ],
            "type": "heatmap"
           }
          ],
          "heatmapgl": [
           {
            "colorbar": {
             "outlinewidth": 0,
             "ticks": ""
            },
            "colorscale": [
             [
              0,
              "#0d0887"
             ],
             [
              0.1111111111111111,
              "#46039f"
             ],
             [
              0.2222222222222222,
              "#7201a8"
             ],
             [
              0.3333333333333333,
              "#9c179e"
             ],
             [
              0.4444444444444444,
              "#bd3786"
             ],
             [
              0.5555555555555556,
              "#d8576b"
             ],
             [
              0.6666666666666666,
              "#ed7953"
             ],
             [
              0.7777777777777778,
              "#fb9f3a"
             ],
             [
              0.8888888888888888,
              "#fdca26"
             ],
             [
              1,
              "#f0f921"
             ]
            ],
            "type": "heatmapgl"
           }
          ],
          "histogram": [
           {
            "marker": {
             "pattern": {
              "fillmode": "overlay",
              "size": 10,
              "solidity": 0.2
             }
            },
            "type": "histogram"
           }
          ],
          "histogram2d": [
           {
            "colorbar": {
             "outlinewidth": 0,
             "ticks": ""
            },
            "colorscale": [
             [
              0,
              "#0d0887"
             ],
             [
              0.1111111111111111,
              "#46039f"
             ],
             [
              0.2222222222222222,
              "#7201a8"
             ],
             [
              0.3333333333333333,
              "#9c179e"
             ],
             [
              0.4444444444444444,
              "#bd3786"
             ],
             [
              0.5555555555555556,
              "#d8576b"
             ],
             [
              0.6666666666666666,
              "#ed7953"
             ],
             [
              0.7777777777777778,
              "#fb9f3a"
             ],
             [
              0.8888888888888888,
              "#fdca26"
             ],
             [
              1,
              "#f0f921"
             ]
            ],
            "type": "histogram2d"
           }
          ],
          "histogram2dcontour": [
           {
            "colorbar": {
             "outlinewidth": 0,
             "ticks": ""
            },
            "colorscale": [
             [
              0,
              "#0d0887"
             ],
             [
              0.1111111111111111,
              "#46039f"
             ],
             [
              0.2222222222222222,
              "#7201a8"
             ],
             [
              0.3333333333333333,
              "#9c179e"
             ],
             [
              0.4444444444444444,
              "#bd3786"
             ],
             [
              0.5555555555555556,
              "#d8576b"
             ],
             [
              0.6666666666666666,
              "#ed7953"
             ],
             [
              0.7777777777777778,
              "#fb9f3a"
             ],
             [
              0.8888888888888888,
              "#fdca26"
             ],
             [
              1,
              "#f0f921"
             ]
            ],
            "type": "histogram2dcontour"
           }
          ],
          "mesh3d": [
           {
            "colorbar": {
             "outlinewidth": 0,
             "ticks": ""
            },
            "type": "mesh3d"
           }
          ],
          "parcoords": [
           {
            "line": {
             "colorbar": {
              "outlinewidth": 0,
              "ticks": ""
             }
            },
            "type": "parcoords"
           }
          ],
          "pie": [
           {
            "automargin": true,
            "type": "pie"
           }
          ],
          "scatter": [
           {
            "fillpattern": {
             "fillmode": "overlay",
             "size": 10,
             "solidity": 0.2
            },
            "type": "scatter"
           }
          ],
          "scatter3d": [
           {
            "line": {
             "colorbar": {
              "outlinewidth": 0,
              "ticks": ""
             }
            },
            "marker": {
             "colorbar": {
              "outlinewidth": 0,
              "ticks": ""
             }
            },
            "type": "scatter3d"
           }
          ],
          "scattercarpet": [
           {
            "marker": {
             "colorbar": {
              "outlinewidth": 0,
              "ticks": ""
             }
            },
            "type": "scattercarpet"
           }
          ],
          "scattergeo": [
           {
            "marker": {
             "colorbar": {
              "outlinewidth": 0,
              "ticks": ""
             }
            },
            "type": "scattergeo"
           }
          ],
          "scattergl": [
           {
            "marker": {
             "colorbar": {
              "outlinewidth": 0,
              "ticks": ""
             }
            },
            "type": "scattergl"
           }
          ],
          "scattermapbox": [
           {
            "marker": {
             "colorbar": {
              "outlinewidth": 0,
              "ticks": ""
             }
            },
            "type": "scattermapbox"
           }
          ],
          "scatterpolar": [
           {
            "marker": {
             "colorbar": {
              "outlinewidth": 0,
              "ticks": ""
             }
            },
            "type": "scatterpolar"
           }
          ],
          "scatterpolargl": [
           {
            "marker": {
             "colorbar": {
              "outlinewidth": 0,
              "ticks": ""
             }
            },
            "type": "scatterpolargl"
           }
          ],
          "scatterternary": [
           {
            "marker": {
             "colorbar": {
              "outlinewidth": 0,
              "ticks": ""
             }
            },
            "type": "scatterternary"
           }
          ],
          "surface": [
           {
            "colorbar": {
             "outlinewidth": 0,
             "ticks": ""
            },
            "colorscale": [
             [
              0,
              "#0d0887"
             ],
             [
              0.1111111111111111,
              "#46039f"
             ],
             [
              0.2222222222222222,
              "#7201a8"
             ],
             [
              0.3333333333333333,
              "#9c179e"
             ],
             [
              0.4444444444444444,
              "#bd3786"
             ],
             [
              0.5555555555555556,
              "#d8576b"
             ],
             [
              0.6666666666666666,
              "#ed7953"
             ],
             [
              0.7777777777777778,
              "#fb9f3a"
             ],
             [
              0.8888888888888888,
              "#fdca26"
             ],
             [
              1,
              "#f0f921"
             ]
            ],
            "type": "surface"
           }
          ],
          "table": [
           {
            "cells": {
             "fill": {
              "color": "#EBF0F8"
             },
             "line": {
              "color": "white"
             }
            },
            "header": {
             "fill": {
              "color": "#C8D4E3"
             },
             "line": {
              "color": "white"
             }
            },
            "type": "table"
           }
          ]
         },
         "layout": {
          "annotationdefaults": {
           "arrowcolor": "#2a3f5f",
           "arrowhead": 0,
           "arrowwidth": 1
          },
          "autotypenumbers": "strict",
          "coloraxis": {
           "colorbar": {
            "outlinewidth": 0,
            "ticks": ""
           }
          },
          "colorscale": {
           "diverging": [
            [
             0,
             "#8e0152"
            ],
            [
             0.1,
             "#c51b7d"
            ],
            [
             0.2,
             "#de77ae"
            ],
            [
             0.3,
             "#f1b6da"
            ],
            [
             0.4,
             "#fde0ef"
            ],
            [
             0.5,
             "#f7f7f7"
            ],
            [
             0.6,
             "#e6f5d0"
            ],
            [
             0.7,
             "#b8e186"
            ],
            [
             0.8,
             "#7fbc41"
            ],
            [
             0.9,
             "#4d9221"
            ],
            [
             1,
             "#276419"
            ]
           ],
           "sequential": [
            [
             0,
             "#0d0887"
            ],
            [
             0.1111111111111111,
             "#46039f"
            ],
            [
             0.2222222222222222,
             "#7201a8"
            ],
            [
             0.3333333333333333,
             "#9c179e"
            ],
            [
             0.4444444444444444,
             "#bd3786"
            ],
            [
             0.5555555555555556,
             "#d8576b"
            ],
            [
             0.6666666666666666,
             "#ed7953"
            ],
            [
             0.7777777777777778,
             "#fb9f3a"
            ],
            [
             0.8888888888888888,
             "#fdca26"
            ],
            [
             1,
             "#f0f921"
            ]
           ],
           "sequentialminus": [
            [
             0,
             "#0d0887"
            ],
            [
             0.1111111111111111,
             "#46039f"
            ],
            [
             0.2222222222222222,
             "#7201a8"
            ],
            [
             0.3333333333333333,
             "#9c179e"
            ],
            [
             0.4444444444444444,
             "#bd3786"
            ],
            [
             0.5555555555555556,
             "#d8576b"
            ],
            [
             0.6666666666666666,
             "#ed7953"
            ],
            [
             0.7777777777777778,
             "#fb9f3a"
            ],
            [
             0.8888888888888888,
             "#fdca26"
            ],
            [
             1,
             "#f0f921"
            ]
           ]
          },
          "colorway": [
           "#636efa",
           "#EF553B",
           "#00cc96",
           "#ab63fa",
           "#FFA15A",
           "#19d3f3",
           "#FF6692",
           "#B6E880",
           "#FF97FF",
           "#FECB52"
          ],
          "font": {
           "color": "#2a3f5f"
          },
          "geo": {
           "bgcolor": "white",
           "lakecolor": "white",
           "landcolor": "#E5ECF6",
           "showlakes": true,
           "showland": true,
           "subunitcolor": "white"
          },
          "hoverlabel": {
           "align": "left"
          },
          "hovermode": "closest",
          "mapbox": {
           "style": "light"
          },
          "paper_bgcolor": "white",
          "plot_bgcolor": "#E5ECF6",
          "polar": {
           "angularaxis": {
            "gridcolor": "white",
            "linecolor": "white",
            "ticks": ""
           },
           "bgcolor": "#E5ECF6",
           "radialaxis": {
            "gridcolor": "white",
            "linecolor": "white",
            "ticks": ""
           }
          },
          "scene": {
           "xaxis": {
            "backgroundcolor": "#E5ECF6",
            "gridcolor": "white",
            "gridwidth": 2,
            "linecolor": "white",
            "showbackground": true,
            "ticks": "",
            "zerolinecolor": "white"
           },
           "yaxis": {
            "backgroundcolor": "#E5ECF6",
            "gridcolor": "white",
            "gridwidth": 2,
            "linecolor": "white",
            "showbackground": true,
            "ticks": "",
            "zerolinecolor": "white"
           },
           "zaxis": {
            "backgroundcolor": "#E5ECF6",
            "gridcolor": "white",
            "gridwidth": 2,
            "linecolor": "white",
            "showbackground": true,
            "ticks": "",
            "zerolinecolor": "white"
           }
          },
          "shapedefaults": {
           "line": {
            "color": "#2a3f5f"
           }
          },
          "ternary": {
           "aaxis": {
            "gridcolor": "white",
            "linecolor": "white",
            "ticks": ""
           },
           "baxis": {
            "gridcolor": "white",
            "linecolor": "white",
            "ticks": ""
           },
           "bgcolor": "#E5ECF6",
           "caxis": {
            "gridcolor": "white",
            "linecolor": "white",
            "ticks": ""
           }
          },
          "title": {
           "x": 0.05
          },
          "xaxis": {
           "automargin": true,
           "gridcolor": "white",
           "linecolor": "white",
           "ticks": "",
           "title": {
            "standoff": 15
           },
           "zerolinecolor": "white",
           "zerolinewidth": 2
          },
          "yaxis": {
           "automargin": true,
           "gridcolor": "white",
           "linecolor": "white",
           "ticks": "",
           "title": {
            "standoff": 15
           },
           "zerolinecolor": "white",
           "zerolinewidth": 2
          }
         }
        },
        "title": {
         "text": "Web Traffic Across Different Series - Incentive"
        },
        "xaxis": {
         "anchor": "y",
         "domain": [
          0,
          1
         ],
         "title": {
          "text": "date"
         }
        },
        "yaxis": {
         "anchor": "x",
         "domain": [
          0,
          1
         ],
         "title": {
          "text": "web_traffic"
         }
        }
       }
      }
     },
     "metadata": {},
     "output_type": "display_data"
    },
    {
     "name": "stdout",
     "output_type": "stream",
     "text": [
      "banc sabadell * avg\n"
     ]
    },
    {
     "data": {
      "application/vnd.plotly.v1+json": {
       "config": {
        "plotlyServerURL": "https://plot.ly"
       },
       "data": [
        {
         "hovertemplate": "type=bank_of_interest_event<br>date=%{x}<br>web_traffic=%{y}<extra></extra>",
         "legendgroup": "bank_of_interest_event",
         "line": {
          "color": "#636efa",
          "dash": "solid"
         },
         "marker": {
          "symbol": "circle"
         },
         "mode": "lines",
         "name": "bank_of_interest_event",
         "orientation": "v",
         "showlegend": true,
         "type": "scatter",
         "x": [
          "2022-06-01T00:00:00",
          "2022-07-01T00:00:00",
          "2022-08-01T00:00:00",
          "2022-09-01T00:00:00",
          "2022-10-01T00:00:00"
         ],
         "xaxis": "x",
         "y": [
          0.6234339413496578,
          0.8377379116257992,
          0.9247258656521951,
          1.0332427883980129,
          0.1504372296727863
         ],
         "yaxis": "y"
        },
        {
         "hovertemplate": "type=control_bank_event<br>date=%{x}<br>web_traffic=%{y}<extra></extra>",
         "legendgroup": "control_bank_event",
         "line": {
          "color": "#EF553B",
          "dash": "solid"
         },
         "marker": {
          "symbol": "circle"
         },
         "mode": "lines",
         "name": "control_bank_event",
         "orientation": "v",
         "showlegend": true,
         "type": "scatter",
         "x": [
          "2022-06-01T00:00:00",
          "2022-07-01T00:00:00",
          "2022-08-01T00:00:00",
          "2022-09-01T00:00:00",
          "2022-10-01T00:00:00"
         ],
         "xaxis": "x",
         "y": [
          -0.22146917238658678,
          -0.11222332242866066,
          0.06429489558069461,
          0.1539863914603913,
          0.11498797761856018
         ],
         "yaxis": "y"
        },
        {
         "hovertemplate": "type=bank_of_interest_non_event<br>date=%{x}<br>web_traffic=%{y}<extra></extra>",
         "legendgroup": "bank_of_interest_non_event",
         "line": {
          "color": "#00cc96",
          "dash": "solid"
         },
         "marker": {
          "symbol": "circle"
         },
         "mode": "lines",
         "name": "bank_of_interest_non_event",
         "orientation": "v",
         "showlegend": true,
         "type": "scatter",
         "x": [
          "2021-12-01T00:00:00",
          "2022-01-01T00:00:00",
          "2022-02-01T00:00:00",
          "2022-03-01T00:00:00",
          "2022-04-01T00:00:00"
         ],
         "xaxis": "x",
         "y": [
          0.2586299746653119,
          0.2586299746653119,
          0.2586299746653119,
          0.2586299746653119,
          0.2586299746653119
         ],
         "yaxis": "y"
        },
        {
         "hovertemplate": "type=control_bank_non_event<br>date=%{x}<br>web_traffic=%{y}<extra></extra>",
         "legendgroup": "control_bank_non_event",
         "line": {
          "color": "#ab63fa",
          "dash": "solid"
         },
         "marker": {
          "symbol": "circle"
         },
         "mode": "lines",
         "name": "control_bank_non_event",
         "orientation": "v",
         "showlegend": true,
         "type": "scatter",
         "x": [
          "2021-12-01T00:00:00",
          "2022-01-01T00:00:00",
          "2022-02-01T00:00:00",
          "2022-03-01T00:00:00",
          "2022-04-01T00:00:00"
         ],
         "xaxis": "x",
         "y": [
          0.09945777601982515,
          -0.0540576133163716,
          -0.01640826573007126,
          0.008081259338711575,
          0.044579133772994474
         ],
         "yaxis": "y"
        }
       ],
       "layout": {
        "legend": {
         "title": {
          "text": "Series"
         },
         "tracegroupgap": 0
        },
        "template": {
         "data": {
          "bar": [
           {
            "error_x": {
             "color": "#2a3f5f"
            },
            "error_y": {
             "color": "#2a3f5f"
            },
            "marker": {
             "line": {
              "color": "#E5ECF6",
              "width": 0.5
             },
             "pattern": {
              "fillmode": "overlay",
              "size": 10,
              "solidity": 0.2
             }
            },
            "type": "bar"
           }
          ],
          "barpolar": [
           {
            "marker": {
             "line": {
              "color": "#E5ECF6",
              "width": 0.5
             },
             "pattern": {
              "fillmode": "overlay",
              "size": 10,
              "solidity": 0.2
             }
            },
            "type": "barpolar"
           }
          ],
          "carpet": [
           {
            "aaxis": {
             "endlinecolor": "#2a3f5f",
             "gridcolor": "white",
             "linecolor": "white",
             "minorgridcolor": "white",
             "startlinecolor": "#2a3f5f"
            },
            "baxis": {
             "endlinecolor": "#2a3f5f",
             "gridcolor": "white",
             "linecolor": "white",
             "minorgridcolor": "white",
             "startlinecolor": "#2a3f5f"
            },
            "type": "carpet"
           }
          ],
          "choropleth": [
           {
            "colorbar": {
             "outlinewidth": 0,
             "ticks": ""
            },
            "type": "choropleth"
           }
          ],
          "contour": [
           {
            "colorbar": {
             "outlinewidth": 0,
             "ticks": ""
            },
            "colorscale": [
             [
              0,
              "#0d0887"
             ],
             [
              0.1111111111111111,
              "#46039f"
             ],
             [
              0.2222222222222222,
              "#7201a8"
             ],
             [
              0.3333333333333333,
              "#9c179e"
             ],
             [
              0.4444444444444444,
              "#bd3786"
             ],
             [
              0.5555555555555556,
              "#d8576b"
             ],
             [
              0.6666666666666666,
              "#ed7953"
             ],
             [
              0.7777777777777778,
              "#fb9f3a"
             ],
             [
              0.8888888888888888,
              "#fdca26"
             ],
             [
              1,
              "#f0f921"
             ]
            ],
            "type": "contour"
           }
          ],
          "contourcarpet": [
           {
            "colorbar": {
             "outlinewidth": 0,
             "ticks": ""
            },
            "type": "contourcarpet"
           }
          ],
          "heatmap": [
           {
            "colorbar": {
             "outlinewidth": 0,
             "ticks": ""
            },
            "colorscale": [
             [
              0,
              "#0d0887"
             ],
             [
              0.1111111111111111,
              "#46039f"
             ],
             [
              0.2222222222222222,
              "#7201a8"
             ],
             [
              0.3333333333333333,
              "#9c179e"
             ],
             [
              0.4444444444444444,
              "#bd3786"
             ],
             [
              0.5555555555555556,
              "#d8576b"
             ],
             [
              0.6666666666666666,
              "#ed7953"
             ],
             [
              0.7777777777777778,
              "#fb9f3a"
             ],
             [
              0.8888888888888888,
              "#fdca26"
             ],
             [
              1,
              "#f0f921"
             ]
            ],
            "type": "heatmap"
           }
          ],
          "heatmapgl": [
           {
            "colorbar": {
             "outlinewidth": 0,
             "ticks": ""
            },
            "colorscale": [
             [
              0,
              "#0d0887"
             ],
             [
              0.1111111111111111,
              "#46039f"
             ],
             [
              0.2222222222222222,
              "#7201a8"
             ],
             [
              0.3333333333333333,
              "#9c179e"
             ],
             [
              0.4444444444444444,
              "#bd3786"
             ],
             [
              0.5555555555555556,
              "#d8576b"
             ],
             [
              0.6666666666666666,
              "#ed7953"
             ],
             [
              0.7777777777777778,
              "#fb9f3a"
             ],
             [
              0.8888888888888888,
              "#fdca26"
             ],
             [
              1,
              "#f0f921"
             ]
            ],
            "type": "heatmapgl"
           }
          ],
          "histogram": [
           {
            "marker": {
             "pattern": {
              "fillmode": "overlay",
              "size": 10,
              "solidity": 0.2
             }
            },
            "type": "histogram"
           }
          ],
          "histogram2d": [
           {
            "colorbar": {
             "outlinewidth": 0,
             "ticks": ""
            },
            "colorscale": [
             [
              0,
              "#0d0887"
             ],
             [
              0.1111111111111111,
              "#46039f"
             ],
             [
              0.2222222222222222,
              "#7201a8"
             ],
             [
              0.3333333333333333,
              "#9c179e"
             ],
             [
              0.4444444444444444,
              "#bd3786"
             ],
             [
              0.5555555555555556,
              "#d8576b"
             ],
             [
              0.6666666666666666,
              "#ed7953"
             ],
             [
              0.7777777777777778,
              "#fb9f3a"
             ],
             [
              0.8888888888888888,
              "#fdca26"
             ],
             [
              1,
              "#f0f921"
             ]
            ],
            "type": "histogram2d"
           }
          ],
          "histogram2dcontour": [
           {
            "colorbar": {
             "outlinewidth": 0,
             "ticks": ""
            },
            "colorscale": [
             [
              0,
              "#0d0887"
             ],
             [
              0.1111111111111111,
              "#46039f"
             ],
             [
              0.2222222222222222,
              "#7201a8"
             ],
             [
              0.3333333333333333,
              "#9c179e"
             ],
             [
              0.4444444444444444,
              "#bd3786"
             ],
             [
              0.5555555555555556,
              "#d8576b"
             ],
             [
              0.6666666666666666,
              "#ed7953"
             ],
             [
              0.7777777777777778,
              "#fb9f3a"
             ],
             [
              0.8888888888888888,
              "#fdca26"
             ],
             [
              1,
              "#f0f921"
             ]
            ],
            "type": "histogram2dcontour"
           }
          ],
          "mesh3d": [
           {
            "colorbar": {
             "outlinewidth": 0,
             "ticks": ""
            },
            "type": "mesh3d"
           }
          ],
          "parcoords": [
           {
            "line": {
             "colorbar": {
              "outlinewidth": 0,
              "ticks": ""
             }
            },
            "type": "parcoords"
           }
          ],
          "pie": [
           {
            "automargin": true,
            "type": "pie"
           }
          ],
          "scatter": [
           {
            "fillpattern": {
             "fillmode": "overlay",
             "size": 10,
             "solidity": 0.2
            },
            "type": "scatter"
           }
          ],
          "scatter3d": [
           {
            "line": {
             "colorbar": {
              "outlinewidth": 0,
              "ticks": ""
             }
            },
            "marker": {
             "colorbar": {
              "outlinewidth": 0,
              "ticks": ""
             }
            },
            "type": "scatter3d"
           }
          ],
          "scattercarpet": [
           {
            "marker": {
             "colorbar": {
              "outlinewidth": 0,
              "ticks": ""
             }
            },
            "type": "scattercarpet"
           }
          ],
          "scattergeo": [
           {
            "marker": {
             "colorbar": {
              "outlinewidth": 0,
              "ticks": ""
             }
            },
            "type": "scattergeo"
           }
          ],
          "scattergl": [
           {
            "marker": {
             "colorbar": {
              "outlinewidth": 0,
              "ticks": ""
             }
            },
            "type": "scattergl"
           }
          ],
          "scattermapbox": [
           {
            "marker": {
             "colorbar": {
              "outlinewidth": 0,
              "ticks": ""
             }
            },
            "type": "scattermapbox"
           }
          ],
          "scatterpolar": [
           {
            "marker": {
             "colorbar": {
              "outlinewidth": 0,
              "ticks": ""
             }
            },
            "type": "scatterpolar"
           }
          ],
          "scatterpolargl": [
           {
            "marker": {
             "colorbar": {
              "outlinewidth": 0,
              "ticks": ""
             }
            },
            "type": "scatterpolargl"
           }
          ],
          "scatterternary": [
           {
            "marker": {
             "colorbar": {
              "outlinewidth": 0,
              "ticks": ""
             }
            },
            "type": "scatterternary"
           }
          ],
          "surface": [
           {
            "colorbar": {
             "outlinewidth": 0,
             "ticks": ""
            },
            "colorscale": [
             [
              0,
              "#0d0887"
             ],
             [
              0.1111111111111111,
              "#46039f"
             ],
             [
              0.2222222222222222,
              "#7201a8"
             ],
             [
              0.3333333333333333,
              "#9c179e"
             ],
             [
              0.4444444444444444,
              "#bd3786"
             ],
             [
              0.5555555555555556,
              "#d8576b"
             ],
             [
              0.6666666666666666,
              "#ed7953"
             ],
             [
              0.7777777777777778,
              "#fb9f3a"
             ],
             [
              0.8888888888888888,
              "#fdca26"
             ],
             [
              1,
              "#f0f921"
             ]
            ],
            "type": "surface"
           }
          ],
          "table": [
           {
            "cells": {
             "fill": {
              "color": "#EBF0F8"
             },
             "line": {
              "color": "white"
             }
            },
            "header": {
             "fill": {
              "color": "#C8D4E3"
             },
             "line": {
              "color": "white"
             }
            },
            "type": "table"
           }
          ]
         },
         "layout": {
          "annotationdefaults": {
           "arrowcolor": "#2a3f5f",
           "arrowhead": 0,
           "arrowwidth": 1
          },
          "autotypenumbers": "strict",
          "coloraxis": {
           "colorbar": {
            "outlinewidth": 0,
            "ticks": ""
           }
          },
          "colorscale": {
           "diverging": [
            [
             0,
             "#8e0152"
            ],
            [
             0.1,
             "#c51b7d"
            ],
            [
             0.2,
             "#de77ae"
            ],
            [
             0.3,
             "#f1b6da"
            ],
            [
             0.4,
             "#fde0ef"
            ],
            [
             0.5,
             "#f7f7f7"
            ],
            [
             0.6,
             "#e6f5d0"
            ],
            [
             0.7,
             "#b8e186"
            ],
            [
             0.8,
             "#7fbc41"
            ],
            [
             0.9,
             "#4d9221"
            ],
            [
             1,
             "#276419"
            ]
           ],
           "sequential": [
            [
             0,
             "#0d0887"
            ],
            [
             0.1111111111111111,
             "#46039f"
            ],
            [
             0.2222222222222222,
             "#7201a8"
            ],
            [
             0.3333333333333333,
             "#9c179e"
            ],
            [
             0.4444444444444444,
             "#bd3786"
            ],
            [
             0.5555555555555556,
             "#d8576b"
            ],
            [
             0.6666666666666666,
             "#ed7953"
            ],
            [
             0.7777777777777778,
             "#fb9f3a"
            ],
            [
             0.8888888888888888,
             "#fdca26"
            ],
            [
             1,
             "#f0f921"
            ]
           ],
           "sequentialminus": [
            [
             0,
             "#0d0887"
            ],
            [
             0.1111111111111111,
             "#46039f"
            ],
            [
             0.2222222222222222,
             "#7201a8"
            ],
            [
             0.3333333333333333,
             "#9c179e"
            ],
            [
             0.4444444444444444,
             "#bd3786"
            ],
            [
             0.5555555555555556,
             "#d8576b"
            ],
            [
             0.6666666666666666,
             "#ed7953"
            ],
            [
             0.7777777777777778,
             "#fb9f3a"
            ],
            [
             0.8888888888888888,
             "#fdca26"
            ],
            [
             1,
             "#f0f921"
            ]
           ]
          },
          "colorway": [
           "#636efa",
           "#EF553B",
           "#00cc96",
           "#ab63fa",
           "#FFA15A",
           "#19d3f3",
           "#FF6692",
           "#B6E880",
           "#FF97FF",
           "#FECB52"
          ],
          "font": {
           "color": "#2a3f5f"
          },
          "geo": {
           "bgcolor": "white",
           "lakecolor": "white",
           "landcolor": "#E5ECF6",
           "showlakes": true,
           "showland": true,
           "subunitcolor": "white"
          },
          "hoverlabel": {
           "align": "left"
          },
          "hovermode": "closest",
          "mapbox": {
           "style": "light"
          },
          "paper_bgcolor": "white",
          "plot_bgcolor": "#E5ECF6",
          "polar": {
           "angularaxis": {
            "gridcolor": "white",
            "linecolor": "white",
            "ticks": ""
           },
           "bgcolor": "#E5ECF6",
           "radialaxis": {
            "gridcolor": "white",
            "linecolor": "white",
            "ticks": ""
           }
          },
          "scene": {
           "xaxis": {
            "backgroundcolor": "#E5ECF6",
            "gridcolor": "white",
            "gridwidth": 2,
            "linecolor": "white",
            "showbackground": true,
            "ticks": "",
            "zerolinecolor": "white"
           },
           "yaxis": {
            "backgroundcolor": "#E5ECF6",
            "gridcolor": "white",
            "gridwidth": 2,
            "linecolor": "white",
            "showbackground": true,
            "ticks": "",
            "zerolinecolor": "white"
           },
           "zaxis": {
            "backgroundcolor": "#E5ECF6",
            "gridcolor": "white",
            "gridwidth": 2,
            "linecolor": "white",
            "showbackground": true,
            "ticks": "",
            "zerolinecolor": "white"
           }
          },
          "shapedefaults": {
           "line": {
            "color": "#2a3f5f"
           }
          },
          "ternary": {
           "aaxis": {
            "gridcolor": "white",
            "linecolor": "white",
            "ticks": ""
           },
           "baxis": {
            "gridcolor": "white",
            "linecolor": "white",
            "ticks": ""
           },
           "bgcolor": "#E5ECF6",
           "caxis": {
            "gridcolor": "white",
            "linecolor": "white",
            "ticks": ""
           }
          },
          "title": {
           "x": 0.05
          },
          "xaxis": {
           "automargin": true,
           "gridcolor": "white",
           "linecolor": "white",
           "ticks": "",
           "title": {
            "standoff": 15
           },
           "zerolinecolor": "white",
           "zerolinewidth": 2
          },
          "yaxis": {
           "automargin": true,
           "gridcolor": "white",
           "linecolor": "white",
           "ticks": "",
           "title": {
            "standoff": 15
           },
           "zerolinecolor": "white",
           "zerolinewidth": 2
          }
         }
        },
        "title": {
         "text": "Web Traffic Across Different Series - Incentive"
        },
        "xaxis": {
         "anchor": "y",
         "domain": [
          0,
          1
         ],
         "title": {
          "text": "date"
         }
        },
        "yaxis": {
         "anchor": "x",
         "domain": [
          0,
          1
         ],
         "title": {
          "text": "web_traffic"
         }
        }
       }
      }
     },
     "metadata": {},
     "output_type": "display_data"
    },
    {
     "name": "stdout",
     "output_type": "stream",
     "text": [
      "banc sabadell * avg\n"
     ]
    },
    {
     "data": {
      "application/vnd.plotly.v1+json": {
       "config": {
        "plotlyServerURL": "https://plot.ly"
       },
       "data": [
        {
         "hovertemplate": "type=bank_of_interest_event<br>date=%{x}<br>web_traffic=%{y}<extra></extra>",
         "legendgroup": "bank_of_interest_event",
         "line": {
          "color": "#636efa",
          "dash": "solid"
         },
         "marker": {
          "symbol": "circle"
         },
         "mode": "lines",
         "name": "bank_of_interest_event",
         "orientation": "v",
         "showlegend": true,
         "type": "scatter",
         "x": [
          "2023-03-01T00:00:00",
          "2023-04-01T00:00:00",
          "2023-05-01T00:00:00",
          "2023-06-01T00:00:00",
          "2023-07-01T00:00:00"
         ],
         "xaxis": "x",
         "y": [
          1.1660643160835302,
          0.7678072022202916,
          1.0401871119711499,
          0.8978142666073082,
          0.3295779248395598
         ],
         "yaxis": "y"
        },
        {
         "hovertemplate": "type=control_bank_event<br>date=%{x}<br>web_traffic=%{y}<extra></extra>",
         "legendgroup": "control_bank_event",
         "line": {
          "color": "#EF553B",
          "dash": "solid"
         },
         "marker": {
          "symbol": "circle"
         },
         "mode": "lines",
         "name": "control_bank_event",
         "orientation": "v",
         "showlegend": true,
         "type": "scatter",
         "x": [
          "2023-03-01T00:00:00",
          "2023-04-01T00:00:00",
          "2023-05-01T00:00:00",
          "2023-06-01T00:00:00",
          "2023-07-01T00:00:00"
         ],
         "xaxis": "x",
         "y": [
          -0.39220818959631304,
          -0.887260276309192,
          -0.41993470628185564,
          -0.6852550968733458,
          0.012542310808972163
         ],
         "yaxis": "y"
        },
        {
         "hovertemplate": "type=bank_of_interest_non_event<br>date=%{x}<br>web_traffic=%{y}<extra></extra>",
         "legendgroup": "bank_of_interest_non_event",
         "line": {
          "color": "#00cc96",
          "dash": "solid"
         },
         "marker": {
          "symbol": "circle"
         },
         "mode": "lines",
         "name": "bank_of_interest_non_event",
         "orientation": "v",
         "showlegend": true,
         "type": "scatter",
         "x": [
          "2021-12-01T00:00:00",
          "2022-01-01T00:00:00",
          "2022-02-01T00:00:00",
          "2022-03-01T00:00:00",
          "2022-04-01T00:00:00"
         ],
         "xaxis": "x",
         "y": [
          0.2586299746653119,
          0.2586299746653119,
          0.2586299746653119,
          0.2586299746653119,
          0.2586299746653119
         ],
         "yaxis": "y"
        },
        {
         "hovertemplate": "type=control_bank_non_event<br>date=%{x}<br>web_traffic=%{y}<extra></extra>",
         "legendgroup": "control_bank_non_event",
         "line": {
          "color": "#ab63fa",
          "dash": "solid"
         },
         "marker": {
          "symbol": "circle"
         },
         "mode": "lines",
         "name": "control_bank_non_event",
         "orientation": "v",
         "showlegend": true,
         "type": "scatter",
         "x": [
          "2021-12-01T00:00:00",
          "2022-01-01T00:00:00",
          "2022-02-01T00:00:00",
          "2022-03-01T00:00:00",
          "2022-04-01T00:00:00"
         ],
         "xaxis": "x",
         "y": [
          0.09945777601982515,
          -0.0540576133163716,
          -0.01640826573007126,
          0.008081259338711575,
          0.044579133772994474
         ],
         "yaxis": "y"
        }
       ],
       "layout": {
        "legend": {
         "title": {
          "text": "Series"
         },
         "tracegroupgap": 0
        },
        "template": {
         "data": {
          "bar": [
           {
            "error_x": {
             "color": "#2a3f5f"
            },
            "error_y": {
             "color": "#2a3f5f"
            },
            "marker": {
             "line": {
              "color": "#E5ECF6",
              "width": 0.5
             },
             "pattern": {
              "fillmode": "overlay",
              "size": 10,
              "solidity": 0.2
             }
            },
            "type": "bar"
           }
          ],
          "barpolar": [
           {
            "marker": {
             "line": {
              "color": "#E5ECF6",
              "width": 0.5
             },
             "pattern": {
              "fillmode": "overlay",
              "size": 10,
              "solidity": 0.2
             }
            },
            "type": "barpolar"
           }
          ],
          "carpet": [
           {
            "aaxis": {
             "endlinecolor": "#2a3f5f",
             "gridcolor": "white",
             "linecolor": "white",
             "minorgridcolor": "white",
             "startlinecolor": "#2a3f5f"
            },
            "baxis": {
             "endlinecolor": "#2a3f5f",
             "gridcolor": "white",
             "linecolor": "white",
             "minorgridcolor": "white",
             "startlinecolor": "#2a3f5f"
            },
            "type": "carpet"
           }
          ],
          "choropleth": [
           {
            "colorbar": {
             "outlinewidth": 0,
             "ticks": ""
            },
            "type": "choropleth"
           }
          ],
          "contour": [
           {
            "colorbar": {
             "outlinewidth": 0,
             "ticks": ""
            },
            "colorscale": [
             [
              0,
              "#0d0887"
             ],
             [
              0.1111111111111111,
              "#46039f"
             ],
             [
              0.2222222222222222,
              "#7201a8"
             ],
             [
              0.3333333333333333,
              "#9c179e"
             ],
             [
              0.4444444444444444,
              "#bd3786"
             ],
             [
              0.5555555555555556,
              "#d8576b"
             ],
             [
              0.6666666666666666,
              "#ed7953"
             ],
             [
              0.7777777777777778,
              "#fb9f3a"
             ],
             [
              0.8888888888888888,
              "#fdca26"
             ],
             [
              1,
              "#f0f921"
             ]
            ],
            "type": "contour"
           }
          ],
          "contourcarpet": [
           {
            "colorbar": {
             "outlinewidth": 0,
             "ticks": ""
            },
            "type": "contourcarpet"
           }
          ],
          "heatmap": [
           {
            "colorbar": {
             "outlinewidth": 0,
             "ticks": ""
            },
            "colorscale": [
             [
              0,
              "#0d0887"
             ],
             [
              0.1111111111111111,
              "#46039f"
             ],
             [
              0.2222222222222222,
              "#7201a8"
             ],
             [
              0.3333333333333333,
              "#9c179e"
             ],
             [
              0.4444444444444444,
              "#bd3786"
             ],
             [
              0.5555555555555556,
              "#d8576b"
             ],
             [
              0.6666666666666666,
              "#ed7953"
             ],
             [
              0.7777777777777778,
              "#fb9f3a"
             ],
             [
              0.8888888888888888,
              "#fdca26"
             ],
             [
              1,
              "#f0f921"
             ]
            ],
            "type": "heatmap"
           }
          ],
          "heatmapgl": [
           {
            "colorbar": {
             "outlinewidth": 0,
             "ticks": ""
            },
            "colorscale": [
             [
              0,
              "#0d0887"
             ],
             [
              0.1111111111111111,
              "#46039f"
             ],
             [
              0.2222222222222222,
              "#7201a8"
             ],
             [
              0.3333333333333333,
              "#9c179e"
             ],
             [
              0.4444444444444444,
              "#bd3786"
             ],
             [
              0.5555555555555556,
              "#d8576b"
             ],
             [
              0.6666666666666666,
              "#ed7953"
             ],
             [
              0.7777777777777778,
              "#fb9f3a"
             ],
             [
              0.8888888888888888,
              "#fdca26"
             ],
             [
              1,
              "#f0f921"
             ]
            ],
            "type": "heatmapgl"
           }
          ],
          "histogram": [
           {
            "marker": {
             "pattern": {
              "fillmode": "overlay",
              "size": 10,
              "solidity": 0.2
             }
            },
            "type": "histogram"
           }
          ],
          "histogram2d": [
           {
            "colorbar": {
             "outlinewidth": 0,
             "ticks": ""
            },
            "colorscale": [
             [
              0,
              "#0d0887"
             ],
             [
              0.1111111111111111,
              "#46039f"
             ],
             [
              0.2222222222222222,
              "#7201a8"
             ],
             [
              0.3333333333333333,
              "#9c179e"
             ],
             [
              0.4444444444444444,
              "#bd3786"
             ],
             [
              0.5555555555555556,
              "#d8576b"
             ],
             [
              0.6666666666666666,
              "#ed7953"
             ],
             [
              0.7777777777777778,
              "#fb9f3a"
             ],
             [
              0.8888888888888888,
              "#fdca26"
             ],
             [
              1,
              "#f0f921"
             ]
            ],
            "type": "histogram2d"
           }
          ],
          "histogram2dcontour": [
           {
            "colorbar": {
             "outlinewidth": 0,
             "ticks": ""
            },
            "colorscale": [
             [
              0,
              "#0d0887"
             ],
             [
              0.1111111111111111,
              "#46039f"
             ],
             [
              0.2222222222222222,
              "#7201a8"
             ],
             [
              0.3333333333333333,
              "#9c179e"
             ],
             [
              0.4444444444444444,
              "#bd3786"
             ],
             [
              0.5555555555555556,
              "#d8576b"
             ],
             [
              0.6666666666666666,
              "#ed7953"
             ],
             [
              0.7777777777777778,
              "#fb9f3a"
             ],
             [
              0.8888888888888888,
              "#fdca26"
             ],
             [
              1,
              "#f0f921"
             ]
            ],
            "type": "histogram2dcontour"
           }
          ],
          "mesh3d": [
           {
            "colorbar": {
             "outlinewidth": 0,
             "ticks": ""
            },
            "type": "mesh3d"
           }
          ],
          "parcoords": [
           {
            "line": {
             "colorbar": {
              "outlinewidth": 0,
              "ticks": ""
             }
            },
            "type": "parcoords"
           }
          ],
          "pie": [
           {
            "automargin": true,
            "type": "pie"
           }
          ],
          "scatter": [
           {
            "fillpattern": {
             "fillmode": "overlay",
             "size": 10,
             "solidity": 0.2
            },
            "type": "scatter"
           }
          ],
          "scatter3d": [
           {
            "line": {
             "colorbar": {
              "outlinewidth": 0,
              "ticks": ""
             }
            },
            "marker": {
             "colorbar": {
              "outlinewidth": 0,
              "ticks": ""
             }
            },
            "type": "scatter3d"
           }
          ],
          "scattercarpet": [
           {
            "marker": {
             "colorbar": {
              "outlinewidth": 0,
              "ticks": ""
             }
            },
            "type": "scattercarpet"
           }
          ],
          "scattergeo": [
           {
            "marker": {
             "colorbar": {
              "outlinewidth": 0,
              "ticks": ""
             }
            },
            "type": "scattergeo"
           }
          ],
          "scattergl": [
           {
            "marker": {
             "colorbar": {
              "outlinewidth": 0,
              "ticks": ""
             }
            },
            "type": "scattergl"
           }
          ],
          "scattermapbox": [
           {
            "marker": {
             "colorbar": {
              "outlinewidth": 0,
              "ticks": ""
             }
            },
            "type": "scattermapbox"
           }
          ],
          "scatterpolar": [
           {
            "marker": {
             "colorbar": {
              "outlinewidth": 0,
              "ticks": ""
             }
            },
            "type": "scatterpolar"
           }
          ],
          "scatterpolargl": [
           {
            "marker": {
             "colorbar": {
              "outlinewidth": 0,
              "ticks": ""
             }
            },
            "type": "scatterpolargl"
           }
          ],
          "scatterternary": [
           {
            "marker": {
             "colorbar": {
              "outlinewidth": 0,
              "ticks": ""
             }
            },
            "type": "scatterternary"
           }
          ],
          "surface": [
           {
            "colorbar": {
             "outlinewidth": 0,
             "ticks": ""
            },
            "colorscale": [
             [
              0,
              "#0d0887"
             ],
             [
              0.1111111111111111,
              "#46039f"
             ],
             [
              0.2222222222222222,
              "#7201a8"
             ],
             [
              0.3333333333333333,
              "#9c179e"
             ],
             [
              0.4444444444444444,
              "#bd3786"
             ],
             [
              0.5555555555555556,
              "#d8576b"
             ],
             [
              0.6666666666666666,
              "#ed7953"
             ],
             [
              0.7777777777777778,
              "#fb9f3a"
             ],
             [
              0.8888888888888888,
              "#fdca26"
             ],
             [
              1,
              "#f0f921"
             ]
            ],
            "type": "surface"
           }
          ],
          "table": [
           {
            "cells": {
             "fill": {
              "color": "#EBF0F8"
             },
             "line": {
              "color": "white"
             }
            },
            "header": {
             "fill": {
              "color": "#C8D4E3"
             },
             "line": {
              "color": "white"
             }
            },
            "type": "table"
           }
          ]
         },
         "layout": {
          "annotationdefaults": {
           "arrowcolor": "#2a3f5f",
           "arrowhead": 0,
           "arrowwidth": 1
          },
          "autotypenumbers": "strict",
          "coloraxis": {
           "colorbar": {
            "outlinewidth": 0,
            "ticks": ""
           }
          },
          "colorscale": {
           "diverging": [
            [
             0,
             "#8e0152"
            ],
            [
             0.1,
             "#c51b7d"
            ],
            [
             0.2,
             "#de77ae"
            ],
            [
             0.3,
             "#f1b6da"
            ],
            [
             0.4,
             "#fde0ef"
            ],
            [
             0.5,
             "#f7f7f7"
            ],
            [
             0.6,
             "#e6f5d0"
            ],
            [
             0.7,
             "#b8e186"
            ],
            [
             0.8,
             "#7fbc41"
            ],
            [
             0.9,
             "#4d9221"
            ],
            [
             1,
             "#276419"
            ]
           ],
           "sequential": [
            [
             0,
             "#0d0887"
            ],
            [
             0.1111111111111111,
             "#46039f"
            ],
            [
             0.2222222222222222,
             "#7201a8"
            ],
            [
             0.3333333333333333,
             "#9c179e"
            ],
            [
             0.4444444444444444,
             "#bd3786"
            ],
            [
             0.5555555555555556,
             "#d8576b"
            ],
            [
             0.6666666666666666,
             "#ed7953"
            ],
            [
             0.7777777777777778,
             "#fb9f3a"
            ],
            [
             0.8888888888888888,
             "#fdca26"
            ],
            [
             1,
             "#f0f921"
            ]
           ],
           "sequentialminus": [
            [
             0,
             "#0d0887"
            ],
            [
             0.1111111111111111,
             "#46039f"
            ],
            [
             0.2222222222222222,
             "#7201a8"
            ],
            [
             0.3333333333333333,
             "#9c179e"
            ],
            [
             0.4444444444444444,
             "#bd3786"
            ],
            [
             0.5555555555555556,
             "#d8576b"
            ],
            [
             0.6666666666666666,
             "#ed7953"
            ],
            [
             0.7777777777777778,
             "#fb9f3a"
            ],
            [
             0.8888888888888888,
             "#fdca26"
            ],
            [
             1,
             "#f0f921"
            ]
           ]
          },
          "colorway": [
           "#636efa",
           "#EF553B",
           "#00cc96",
           "#ab63fa",
           "#FFA15A",
           "#19d3f3",
           "#FF6692",
           "#B6E880",
           "#FF97FF",
           "#FECB52"
          ],
          "font": {
           "color": "#2a3f5f"
          },
          "geo": {
           "bgcolor": "white",
           "lakecolor": "white",
           "landcolor": "#E5ECF6",
           "showlakes": true,
           "showland": true,
           "subunitcolor": "white"
          },
          "hoverlabel": {
           "align": "left"
          },
          "hovermode": "closest",
          "mapbox": {
           "style": "light"
          },
          "paper_bgcolor": "white",
          "plot_bgcolor": "#E5ECF6",
          "polar": {
           "angularaxis": {
            "gridcolor": "white",
            "linecolor": "white",
            "ticks": ""
           },
           "bgcolor": "#E5ECF6",
           "radialaxis": {
            "gridcolor": "white",
            "linecolor": "white",
            "ticks": ""
           }
          },
          "scene": {
           "xaxis": {
            "backgroundcolor": "#E5ECF6",
            "gridcolor": "white",
            "gridwidth": 2,
            "linecolor": "white",
            "showbackground": true,
            "ticks": "",
            "zerolinecolor": "white"
           },
           "yaxis": {
            "backgroundcolor": "#E5ECF6",
            "gridcolor": "white",
            "gridwidth": 2,
            "linecolor": "white",
            "showbackground": true,
            "ticks": "",
            "zerolinecolor": "white"
           },
           "zaxis": {
            "backgroundcolor": "#E5ECF6",
            "gridcolor": "white",
            "gridwidth": 2,
            "linecolor": "white",
            "showbackground": true,
            "ticks": "",
            "zerolinecolor": "white"
           }
          },
          "shapedefaults": {
           "line": {
            "color": "#2a3f5f"
           }
          },
          "ternary": {
           "aaxis": {
            "gridcolor": "white",
            "linecolor": "white",
            "ticks": ""
           },
           "baxis": {
            "gridcolor": "white",
            "linecolor": "white",
            "ticks": ""
           },
           "bgcolor": "#E5ECF6",
           "caxis": {
            "gridcolor": "white",
            "linecolor": "white",
            "ticks": ""
           }
          },
          "title": {
           "x": 0.05
          },
          "xaxis": {
           "automargin": true,
           "gridcolor": "white",
           "linecolor": "white",
           "ticks": "",
           "title": {
            "standoff": 15
           },
           "zerolinecolor": "white",
           "zerolinewidth": 2
          },
          "yaxis": {
           "automargin": true,
           "gridcolor": "white",
           "linecolor": "white",
           "ticks": "",
           "title": {
            "standoff": 15
           },
           "zerolinecolor": "white",
           "zerolinewidth": 2
          }
         }
        },
        "title": {
         "text": "Web Traffic Across Different Series - Incentive"
        },
        "xaxis": {
         "anchor": "y",
         "domain": [
          0,
          1
         ],
         "title": {
          "text": "date"
         }
        },
        "yaxis": {
         "anchor": "x",
         "domain": [
          0,
          1
         ],
         "title": {
          "text": "web_traffic"
         }
        }
       }
      }
     },
     "metadata": {},
     "output_type": "display_data"
    },
    {
     "name": "stdout",
     "output_type": "stream",
     "text": [
      "openbank * avg\n"
     ]
    },
    {
     "data": {
      "application/vnd.plotly.v1+json": {
       "config": {
        "plotlyServerURL": "https://plot.ly"
       },
       "data": [
        {
         "hovertemplate": "type=bank_of_interest_event<br>date=%{x}<br>web_traffic=%{y}<extra></extra>",
         "legendgroup": "bank_of_interest_event",
         "line": {
          "color": "#636efa",
          "dash": "solid"
         },
         "marker": {
          "symbol": "circle"
         },
         "mode": "lines",
         "name": "bank_of_interest_event",
         "orientation": "v",
         "showlegend": true,
         "type": "scatter",
         "x": [
          "2022-02-01T00:00:00",
          "2022-03-01T00:00:00",
          "2022-04-01T00:00:00",
          "2022-05-01T00:00:00",
          "2022-06-01T00:00:00"
         ],
         "xaxis": "x",
         "y": [
          0.11538720064326276,
          0.11538720064326276,
          0.11538720064326276,
          -0.15650148389751706,
          0.27724538165786516
         ],
         "yaxis": "y"
        },
        {
         "hovertemplate": "type=control_bank_event<br>date=%{x}<br>web_traffic=%{y}<extra></extra>",
         "legendgroup": "control_bank_event",
         "line": {
          "color": "#EF553B",
          "dash": "solid"
         },
         "marker": {
          "symbol": "circle"
         },
         "mode": "lines",
         "name": "control_bank_event",
         "orientation": "v",
         "showlegend": true,
         "type": "scatter",
         "x": [
          "2022-02-01T00:00:00",
          "2022-03-01T00:00:00",
          "2022-04-01T00:00:00",
          "2022-05-01T00:00:00",
          "2022-06-01T00:00:00"
         ],
         "xaxis": "x",
         "y": [
          -0.35039542630991993,
          -0.33202828250833283,
          -0.3046548766826206,
          -0.13324237315290507,
          -0.2842299961876826
         ],
         "yaxis": "y"
        },
        {
         "hovertemplate": "type=bank_of_interest_non_event<br>date=%{x}<br>web_traffic=%{y}<extra></extra>",
         "legendgroup": "bank_of_interest_non_event",
         "line": {
          "color": "#00cc96",
          "dash": "solid"
         },
         "marker": {
          "symbol": "circle"
         },
         "mode": "lines",
         "name": "bank_of_interest_non_event",
         "orientation": "v",
         "showlegend": true,
         "type": "scatter",
         "x": [
          "2022-05-01T00:00:00",
          "2022-06-01T00:00:00",
          "2022-07-01T00:00:00",
          "2022-08-01T00:00:00",
          "2022-09-01T00:00:00"
         ],
         "xaxis": "x",
         "y": [
          -0.15650148389751706,
          0.27724538165786516,
          0.23147748286817824,
          0.25900050318019124,
          0.25900050318019124
         ],
         "yaxis": "y"
        },
        {
         "hovertemplate": "type=control_bank_non_event<br>date=%{x}<br>web_traffic=%{y}<extra></extra>",
         "legendgroup": "control_bank_non_event",
         "line": {
          "color": "#ab63fa",
          "dash": "solid"
         },
         "marker": {
          "symbol": "circle"
         },
         "mode": "lines",
         "name": "control_bank_non_event",
         "orientation": "v",
         "showlegend": true,
         "type": "scatter",
         "x": [
          "2022-05-01T00:00:00",
          "2022-06-01T00:00:00",
          "2022-07-01T00:00:00",
          "2022-08-01T00:00:00",
          "2022-09-01T00:00:00"
         ],
         "xaxis": "x",
         "y": [
          -0.13324237315290507,
          -0.2842299961876826,
          -0.12842998733177854,
          0.028656684972887626,
          0.12366534230849777
         ],
         "yaxis": "y"
        }
       ],
       "layout": {
        "legend": {
         "title": {
          "text": "Series"
         },
         "tracegroupgap": 0
        },
        "template": {
         "data": {
          "bar": [
           {
            "error_x": {
             "color": "#2a3f5f"
            },
            "error_y": {
             "color": "#2a3f5f"
            },
            "marker": {
             "line": {
              "color": "#E5ECF6",
              "width": 0.5
             },
             "pattern": {
              "fillmode": "overlay",
              "size": 10,
              "solidity": 0.2
             }
            },
            "type": "bar"
           }
          ],
          "barpolar": [
           {
            "marker": {
             "line": {
              "color": "#E5ECF6",
              "width": 0.5
             },
             "pattern": {
              "fillmode": "overlay",
              "size": 10,
              "solidity": 0.2
             }
            },
            "type": "barpolar"
           }
          ],
          "carpet": [
           {
            "aaxis": {
             "endlinecolor": "#2a3f5f",
             "gridcolor": "white",
             "linecolor": "white",
             "minorgridcolor": "white",
             "startlinecolor": "#2a3f5f"
            },
            "baxis": {
             "endlinecolor": "#2a3f5f",
             "gridcolor": "white",
             "linecolor": "white",
             "minorgridcolor": "white",
             "startlinecolor": "#2a3f5f"
            },
            "type": "carpet"
           }
          ],
          "choropleth": [
           {
            "colorbar": {
             "outlinewidth": 0,
             "ticks": ""
            },
            "type": "choropleth"
           }
          ],
          "contour": [
           {
            "colorbar": {
             "outlinewidth": 0,
             "ticks": ""
            },
            "colorscale": [
             [
              0,
              "#0d0887"
             ],
             [
              0.1111111111111111,
              "#46039f"
             ],
             [
              0.2222222222222222,
              "#7201a8"
             ],
             [
              0.3333333333333333,
              "#9c179e"
             ],
             [
              0.4444444444444444,
              "#bd3786"
             ],
             [
              0.5555555555555556,
              "#d8576b"
             ],
             [
              0.6666666666666666,
              "#ed7953"
             ],
             [
              0.7777777777777778,
              "#fb9f3a"
             ],
             [
              0.8888888888888888,
              "#fdca26"
             ],
             [
              1,
              "#f0f921"
             ]
            ],
            "type": "contour"
           }
          ],
          "contourcarpet": [
           {
            "colorbar": {
             "outlinewidth": 0,
             "ticks": ""
            },
            "type": "contourcarpet"
           }
          ],
          "heatmap": [
           {
            "colorbar": {
             "outlinewidth": 0,
             "ticks": ""
            },
            "colorscale": [
             [
              0,
              "#0d0887"
             ],
             [
              0.1111111111111111,
              "#46039f"
             ],
             [
              0.2222222222222222,
              "#7201a8"
             ],
             [
              0.3333333333333333,
              "#9c179e"
             ],
             [
              0.4444444444444444,
              "#bd3786"
             ],
             [
              0.5555555555555556,
              "#d8576b"
             ],
             [
              0.6666666666666666,
              "#ed7953"
             ],
             [
              0.7777777777777778,
              "#fb9f3a"
             ],
             [
              0.8888888888888888,
              "#fdca26"
             ],
             [
              1,
              "#f0f921"
             ]
            ],
            "type": "heatmap"
           }
          ],
          "heatmapgl": [
           {
            "colorbar": {
             "outlinewidth": 0,
             "ticks": ""
            },
            "colorscale": [
             [
              0,
              "#0d0887"
             ],
             [
              0.1111111111111111,
              "#46039f"
             ],
             [
              0.2222222222222222,
              "#7201a8"
             ],
             [
              0.3333333333333333,
              "#9c179e"
             ],
             [
              0.4444444444444444,
              "#bd3786"
             ],
             [
              0.5555555555555556,
              "#d8576b"
             ],
             [
              0.6666666666666666,
              "#ed7953"
             ],
             [
              0.7777777777777778,
              "#fb9f3a"
             ],
             [
              0.8888888888888888,
              "#fdca26"
             ],
             [
              1,
              "#f0f921"
             ]
            ],
            "type": "heatmapgl"
           }
          ],
          "histogram": [
           {
            "marker": {
             "pattern": {
              "fillmode": "overlay",
              "size": 10,
              "solidity": 0.2
             }
            },
            "type": "histogram"
           }
          ],
          "histogram2d": [
           {
            "colorbar": {
             "outlinewidth": 0,
             "ticks": ""
            },
            "colorscale": [
             [
              0,
              "#0d0887"
             ],
             [
              0.1111111111111111,
              "#46039f"
             ],
             [
              0.2222222222222222,
              "#7201a8"
             ],
             [
              0.3333333333333333,
              "#9c179e"
             ],
             [
              0.4444444444444444,
              "#bd3786"
             ],
             [
              0.5555555555555556,
              "#d8576b"
             ],
             [
              0.6666666666666666,
              "#ed7953"
             ],
             [
              0.7777777777777778,
              "#fb9f3a"
             ],
             [
              0.8888888888888888,
              "#fdca26"
             ],
             [
              1,
              "#f0f921"
             ]
            ],
            "type": "histogram2d"
           }
          ],
          "histogram2dcontour": [
           {
            "colorbar": {
             "outlinewidth": 0,
             "ticks": ""
            },
            "colorscale": [
             [
              0,
              "#0d0887"
             ],
             [
              0.1111111111111111,
              "#46039f"
             ],
             [
              0.2222222222222222,
              "#7201a8"
             ],
             [
              0.3333333333333333,
              "#9c179e"
             ],
             [
              0.4444444444444444,
              "#bd3786"
             ],
             [
              0.5555555555555556,
              "#d8576b"
             ],
             [
              0.6666666666666666,
              "#ed7953"
             ],
             [
              0.7777777777777778,
              "#fb9f3a"
             ],
             [
              0.8888888888888888,
              "#fdca26"
             ],
             [
              1,
              "#f0f921"
             ]
            ],
            "type": "histogram2dcontour"
           }
          ],
          "mesh3d": [
           {
            "colorbar": {
             "outlinewidth": 0,
             "ticks": ""
            },
            "type": "mesh3d"
           }
          ],
          "parcoords": [
           {
            "line": {
             "colorbar": {
              "outlinewidth": 0,
              "ticks": ""
             }
            },
            "type": "parcoords"
           }
          ],
          "pie": [
           {
            "automargin": true,
            "type": "pie"
           }
          ],
          "scatter": [
           {
            "fillpattern": {
             "fillmode": "overlay",
             "size": 10,
             "solidity": 0.2
            },
            "type": "scatter"
           }
          ],
          "scatter3d": [
           {
            "line": {
             "colorbar": {
              "outlinewidth": 0,
              "ticks": ""
             }
            },
            "marker": {
             "colorbar": {
              "outlinewidth": 0,
              "ticks": ""
             }
            },
            "type": "scatter3d"
           }
          ],
          "scattercarpet": [
           {
            "marker": {
             "colorbar": {
              "outlinewidth": 0,
              "ticks": ""
             }
            },
            "type": "scattercarpet"
           }
          ],
          "scattergeo": [
           {
            "marker": {
             "colorbar": {
              "outlinewidth": 0,
              "ticks": ""
             }
            },
            "type": "scattergeo"
           }
          ],
          "scattergl": [
           {
            "marker": {
             "colorbar": {
              "outlinewidth": 0,
              "ticks": ""
             }
            },
            "type": "scattergl"
           }
          ],
          "scattermapbox": [
           {
            "marker": {
             "colorbar": {
              "outlinewidth": 0,
              "ticks": ""
             }
            },
            "type": "scattermapbox"
           }
          ],
          "scatterpolar": [
           {
            "marker": {
             "colorbar": {
              "outlinewidth": 0,
              "ticks": ""
             }
            },
            "type": "scatterpolar"
           }
          ],
          "scatterpolargl": [
           {
            "marker": {
             "colorbar": {
              "outlinewidth": 0,
              "ticks": ""
             }
            },
            "type": "scatterpolargl"
           }
          ],
          "scatterternary": [
           {
            "marker": {
             "colorbar": {
              "outlinewidth": 0,
              "ticks": ""
             }
            },
            "type": "scatterternary"
           }
          ],
          "surface": [
           {
            "colorbar": {
             "outlinewidth": 0,
             "ticks": ""
            },
            "colorscale": [
             [
              0,
              "#0d0887"
             ],
             [
              0.1111111111111111,
              "#46039f"
             ],
             [
              0.2222222222222222,
              "#7201a8"
             ],
             [
              0.3333333333333333,
              "#9c179e"
             ],
             [
              0.4444444444444444,
              "#bd3786"
             ],
             [
              0.5555555555555556,
              "#d8576b"
             ],
             [
              0.6666666666666666,
              "#ed7953"
             ],
             [
              0.7777777777777778,
              "#fb9f3a"
             ],
             [
              0.8888888888888888,
              "#fdca26"
             ],
             [
              1,
              "#f0f921"
             ]
            ],
            "type": "surface"
           }
          ],
          "table": [
           {
            "cells": {
             "fill": {
              "color": "#EBF0F8"
             },
             "line": {
              "color": "white"
             }
            },
            "header": {
             "fill": {
              "color": "#C8D4E3"
             },
             "line": {
              "color": "white"
             }
            },
            "type": "table"
           }
          ]
         },
         "layout": {
          "annotationdefaults": {
           "arrowcolor": "#2a3f5f",
           "arrowhead": 0,
           "arrowwidth": 1
          },
          "autotypenumbers": "strict",
          "coloraxis": {
           "colorbar": {
            "outlinewidth": 0,
            "ticks": ""
           }
          },
          "colorscale": {
           "diverging": [
            [
             0,
             "#8e0152"
            ],
            [
             0.1,
             "#c51b7d"
            ],
            [
             0.2,
             "#de77ae"
            ],
            [
             0.3,
             "#f1b6da"
            ],
            [
             0.4,
             "#fde0ef"
            ],
            [
             0.5,
             "#f7f7f7"
            ],
            [
             0.6,
             "#e6f5d0"
            ],
            [
             0.7,
             "#b8e186"
            ],
            [
             0.8,
             "#7fbc41"
            ],
            [
             0.9,
             "#4d9221"
            ],
            [
             1,
             "#276419"
            ]
           ],
           "sequential": [
            [
             0,
             "#0d0887"
            ],
            [
             0.1111111111111111,
             "#46039f"
            ],
            [
             0.2222222222222222,
             "#7201a8"
            ],
            [
             0.3333333333333333,
             "#9c179e"
            ],
            [
             0.4444444444444444,
             "#bd3786"
            ],
            [
             0.5555555555555556,
             "#d8576b"
            ],
            [
             0.6666666666666666,
             "#ed7953"
            ],
            [
             0.7777777777777778,
             "#fb9f3a"
            ],
            [
             0.8888888888888888,
             "#fdca26"
            ],
            [
             1,
             "#f0f921"
            ]
           ],
           "sequentialminus": [
            [
             0,
             "#0d0887"
            ],
            [
             0.1111111111111111,
             "#46039f"
            ],
            [
             0.2222222222222222,
             "#7201a8"
            ],
            [
             0.3333333333333333,
             "#9c179e"
            ],
            [
             0.4444444444444444,
             "#bd3786"
            ],
            [
             0.5555555555555556,
             "#d8576b"
            ],
            [
             0.6666666666666666,
             "#ed7953"
            ],
            [
             0.7777777777777778,
             "#fb9f3a"
            ],
            [
             0.8888888888888888,
             "#fdca26"
            ],
            [
             1,
             "#f0f921"
            ]
           ]
          },
          "colorway": [
           "#636efa",
           "#EF553B",
           "#00cc96",
           "#ab63fa",
           "#FFA15A",
           "#19d3f3",
           "#FF6692",
           "#B6E880",
           "#FF97FF",
           "#FECB52"
          ],
          "font": {
           "color": "#2a3f5f"
          },
          "geo": {
           "bgcolor": "white",
           "lakecolor": "white",
           "landcolor": "#E5ECF6",
           "showlakes": true,
           "showland": true,
           "subunitcolor": "white"
          },
          "hoverlabel": {
           "align": "left"
          },
          "hovermode": "closest",
          "mapbox": {
           "style": "light"
          },
          "paper_bgcolor": "white",
          "plot_bgcolor": "#E5ECF6",
          "polar": {
           "angularaxis": {
            "gridcolor": "white",
            "linecolor": "white",
            "ticks": ""
           },
           "bgcolor": "#E5ECF6",
           "radialaxis": {
            "gridcolor": "white",
            "linecolor": "white",
            "ticks": ""
           }
          },
          "scene": {
           "xaxis": {
            "backgroundcolor": "#E5ECF6",
            "gridcolor": "white",
            "gridwidth": 2,
            "linecolor": "white",
            "showbackground": true,
            "ticks": "",
            "zerolinecolor": "white"
           },
           "yaxis": {
            "backgroundcolor": "#E5ECF6",
            "gridcolor": "white",
            "gridwidth": 2,
            "linecolor": "white",
            "showbackground": true,
            "ticks": "",
            "zerolinecolor": "white"
           },
           "zaxis": {
            "backgroundcolor": "#E5ECF6",
            "gridcolor": "white",
            "gridwidth": 2,
            "linecolor": "white",
            "showbackground": true,
            "ticks": "",
            "zerolinecolor": "white"
           }
          },
          "shapedefaults": {
           "line": {
            "color": "#2a3f5f"
           }
          },
          "ternary": {
           "aaxis": {
            "gridcolor": "white",
            "linecolor": "white",
            "ticks": ""
           },
           "baxis": {
            "gridcolor": "white",
            "linecolor": "white",
            "ticks": ""
           },
           "bgcolor": "#E5ECF6",
           "caxis": {
            "gridcolor": "white",
            "linecolor": "white",
            "ticks": ""
           }
          },
          "title": {
           "x": 0.05
          },
          "xaxis": {
           "automargin": true,
           "gridcolor": "white",
           "linecolor": "white",
           "ticks": "",
           "title": {
            "standoff": 15
           },
           "zerolinecolor": "white",
           "zerolinewidth": 2
          },
          "yaxis": {
           "automargin": true,
           "gridcolor": "white",
           "linecolor": "white",
           "ticks": "",
           "title": {
            "standoff": 15
           },
           "zerolinecolor": "white",
           "zerolinewidth": 2
          }
         }
        },
        "title": {
         "text": "Web Traffic Across Different Series - Incentive"
        },
        "xaxis": {
         "anchor": "y",
         "domain": [
          0,
          1
         ],
         "title": {
          "text": "date"
         }
        },
        "yaxis": {
         "anchor": "x",
         "domain": [
          0,
          1
         ],
         "title": {
          "text": "web_traffic"
         }
        }
       }
      }
     },
     "metadata": {},
     "output_type": "display_data"
    },
    {
     "name": "stdout",
     "output_type": "stream",
     "text": [
      "openbank * avg\n"
     ]
    },
    {
     "data": {
      "application/vnd.plotly.v1+json": {
       "config": {
        "plotlyServerURL": "https://plot.ly"
       },
       "data": [
        {
         "hovertemplate": "type=bank_of_interest_event<br>date=%{x}<br>web_traffic=%{y}<extra></extra>",
         "legendgroup": "bank_of_interest_event",
         "line": {
          "color": "#636efa",
          "dash": "solid"
         },
         "marker": {
          "symbol": "circle"
         },
         "mode": "lines",
         "name": "bank_of_interest_event",
         "orientation": "v",
         "showlegend": true,
         "type": "scatter",
         "x": [
          "2023-02-01T00:00:00",
          "2023-03-01T00:00:00",
          "2023-04-01T00:00:00",
          "2023-05-01T00:00:00",
          "2023-06-01T00:00:00"
         ],
         "xaxis": "x",
         "y": [
          -0.94355773029942,
          0.3875599759905025,
          0.01281358776048339,
          0.2933047796203221,
          0.07883554421308464
         ],
         "yaxis": "y"
        },
        {
         "hovertemplate": "type=control_bank_event<br>date=%{x}<br>web_traffic=%{y}<extra></extra>",
         "legendgroup": "control_bank_event",
         "line": {
          "color": "#EF553B",
          "dash": "solid"
         },
         "marker": {
          "symbol": "circle"
         },
         "mode": "lines",
         "name": "control_bank_event",
         "orientation": "v",
         "showlegend": true,
         "type": "scatter",
         "x": [
          "2023-02-01T00:00:00",
          "2023-03-01T00:00:00",
          "2023-04-01T00:00:00",
          "2023-05-01T00:00:00",
          "2023-06-01T00:00:00"
         ],
         "xaxis": "x",
         "y": [
          -0.17129802597679838,
          -0.25574758069762726,
          -0.7314993612633027,
          -0.30510087662955937,
          -0.5408893381877345
         ],
         "yaxis": "y"
        },
        {
         "hovertemplate": "type=bank_of_interest_non_event<br>date=%{x}<br>web_traffic=%{y}<extra></extra>",
         "legendgroup": "bank_of_interest_non_event",
         "line": {
          "color": "#00cc96",
          "dash": "solid"
         },
         "marker": {
          "symbol": "circle"
         },
         "mode": "lines",
         "name": "bank_of_interest_non_event",
         "orientation": "v",
         "showlegend": true,
         "type": "scatter",
         "x": [
          "2022-05-01T00:00:00",
          "2022-06-01T00:00:00",
          "2022-07-01T00:00:00",
          "2022-08-01T00:00:00",
          "2022-09-01T00:00:00"
         ],
         "xaxis": "x",
         "y": [
          -0.15650148389751706,
          0.27724538165786516,
          0.23147748286817824,
          0.25900050318019124,
          0.25900050318019124
         ],
         "yaxis": "y"
        },
        {
         "hovertemplate": "type=control_bank_non_event<br>date=%{x}<br>web_traffic=%{y}<extra></extra>",
         "legendgroup": "control_bank_non_event",
         "line": {
          "color": "#ab63fa",
          "dash": "solid"
         },
         "marker": {
          "symbol": "circle"
         },
         "mode": "lines",
         "name": "control_bank_non_event",
         "orientation": "v",
         "showlegend": true,
         "type": "scatter",
         "x": [
          "2022-05-01T00:00:00",
          "2022-06-01T00:00:00",
          "2022-07-01T00:00:00",
          "2022-08-01T00:00:00",
          "2022-09-01T00:00:00"
         ],
         "xaxis": "x",
         "y": [
          -0.13324237315290507,
          -0.2842299961876826,
          -0.12842998733177854,
          0.028656684972887626,
          0.12366534230849777
         ],
         "yaxis": "y"
        }
       ],
       "layout": {
        "legend": {
         "title": {
          "text": "Series"
         },
         "tracegroupgap": 0
        },
        "template": {
         "data": {
          "bar": [
           {
            "error_x": {
             "color": "#2a3f5f"
            },
            "error_y": {
             "color": "#2a3f5f"
            },
            "marker": {
             "line": {
              "color": "#E5ECF6",
              "width": 0.5
             },
             "pattern": {
              "fillmode": "overlay",
              "size": 10,
              "solidity": 0.2
             }
            },
            "type": "bar"
           }
          ],
          "barpolar": [
           {
            "marker": {
             "line": {
              "color": "#E5ECF6",
              "width": 0.5
             },
             "pattern": {
              "fillmode": "overlay",
              "size": 10,
              "solidity": 0.2
             }
            },
            "type": "barpolar"
           }
          ],
          "carpet": [
           {
            "aaxis": {
             "endlinecolor": "#2a3f5f",
             "gridcolor": "white",
             "linecolor": "white",
             "minorgridcolor": "white",
             "startlinecolor": "#2a3f5f"
            },
            "baxis": {
             "endlinecolor": "#2a3f5f",
             "gridcolor": "white",
             "linecolor": "white",
             "minorgridcolor": "white",
             "startlinecolor": "#2a3f5f"
            },
            "type": "carpet"
           }
          ],
          "choropleth": [
           {
            "colorbar": {
             "outlinewidth": 0,
             "ticks": ""
            },
            "type": "choropleth"
           }
          ],
          "contour": [
           {
            "colorbar": {
             "outlinewidth": 0,
             "ticks": ""
            },
            "colorscale": [
             [
              0,
              "#0d0887"
             ],
             [
              0.1111111111111111,
              "#46039f"
             ],
             [
              0.2222222222222222,
              "#7201a8"
             ],
             [
              0.3333333333333333,
              "#9c179e"
             ],
             [
              0.4444444444444444,
              "#bd3786"
             ],
             [
              0.5555555555555556,
              "#d8576b"
             ],
             [
              0.6666666666666666,
              "#ed7953"
             ],
             [
              0.7777777777777778,
              "#fb9f3a"
             ],
             [
              0.8888888888888888,
              "#fdca26"
             ],
             [
              1,
              "#f0f921"
             ]
            ],
            "type": "contour"
           }
          ],
          "contourcarpet": [
           {
            "colorbar": {
             "outlinewidth": 0,
             "ticks": ""
            },
            "type": "contourcarpet"
           }
          ],
          "heatmap": [
           {
            "colorbar": {
             "outlinewidth": 0,
             "ticks": ""
            },
            "colorscale": [
             [
              0,
              "#0d0887"
             ],
             [
              0.1111111111111111,
              "#46039f"
             ],
             [
              0.2222222222222222,
              "#7201a8"
             ],
             [
              0.3333333333333333,
              "#9c179e"
             ],
             [
              0.4444444444444444,
              "#bd3786"
             ],
             [
              0.5555555555555556,
              "#d8576b"
             ],
             [
              0.6666666666666666,
              "#ed7953"
             ],
             [
              0.7777777777777778,
              "#fb9f3a"
             ],
             [
              0.8888888888888888,
              "#fdca26"
             ],
             [
              1,
              "#f0f921"
             ]
            ],
            "type": "heatmap"
           }
          ],
          "heatmapgl": [
           {
            "colorbar": {
             "outlinewidth": 0,
             "ticks": ""
            },
            "colorscale": [
             [
              0,
              "#0d0887"
             ],
             [
              0.1111111111111111,
              "#46039f"
             ],
             [
              0.2222222222222222,
              "#7201a8"
             ],
             [
              0.3333333333333333,
              "#9c179e"
             ],
             [
              0.4444444444444444,
              "#bd3786"
             ],
             [
              0.5555555555555556,
              "#d8576b"
             ],
             [
              0.6666666666666666,
              "#ed7953"
             ],
             [
              0.7777777777777778,
              "#fb9f3a"
             ],
             [
              0.8888888888888888,
              "#fdca26"
             ],
             [
              1,
              "#f0f921"
             ]
            ],
            "type": "heatmapgl"
           }
          ],
          "histogram": [
           {
            "marker": {
             "pattern": {
              "fillmode": "overlay",
              "size": 10,
              "solidity": 0.2
             }
            },
            "type": "histogram"
           }
          ],
          "histogram2d": [
           {
            "colorbar": {
             "outlinewidth": 0,
             "ticks": ""
            },
            "colorscale": [
             [
              0,
              "#0d0887"
             ],
             [
              0.1111111111111111,
              "#46039f"
             ],
             [
              0.2222222222222222,
              "#7201a8"
             ],
             [
              0.3333333333333333,
              "#9c179e"
             ],
             [
              0.4444444444444444,
              "#bd3786"
             ],
             [
              0.5555555555555556,
              "#d8576b"
             ],
             [
              0.6666666666666666,
              "#ed7953"
             ],
             [
              0.7777777777777778,
              "#fb9f3a"
             ],
             [
              0.8888888888888888,
              "#fdca26"
             ],
             [
              1,
              "#f0f921"
             ]
            ],
            "type": "histogram2d"
           }
          ],
          "histogram2dcontour": [
           {
            "colorbar": {
             "outlinewidth": 0,
             "ticks": ""
            },
            "colorscale": [
             [
              0,
              "#0d0887"
             ],
             [
              0.1111111111111111,
              "#46039f"
             ],
             [
              0.2222222222222222,
              "#7201a8"
             ],
             [
              0.3333333333333333,
              "#9c179e"
             ],
             [
              0.4444444444444444,
              "#bd3786"
             ],
             [
              0.5555555555555556,
              "#d8576b"
             ],
             [
              0.6666666666666666,
              "#ed7953"
             ],
             [
              0.7777777777777778,
              "#fb9f3a"
             ],
             [
              0.8888888888888888,
              "#fdca26"
             ],
             [
              1,
              "#f0f921"
             ]
            ],
            "type": "histogram2dcontour"
           }
          ],
          "mesh3d": [
           {
            "colorbar": {
             "outlinewidth": 0,
             "ticks": ""
            },
            "type": "mesh3d"
           }
          ],
          "parcoords": [
           {
            "line": {
             "colorbar": {
              "outlinewidth": 0,
              "ticks": ""
             }
            },
            "type": "parcoords"
           }
          ],
          "pie": [
           {
            "automargin": true,
            "type": "pie"
           }
          ],
          "scatter": [
           {
            "fillpattern": {
             "fillmode": "overlay",
             "size": 10,
             "solidity": 0.2
            },
            "type": "scatter"
           }
          ],
          "scatter3d": [
           {
            "line": {
             "colorbar": {
              "outlinewidth": 0,
              "ticks": ""
             }
            },
            "marker": {
             "colorbar": {
              "outlinewidth": 0,
              "ticks": ""
             }
            },
            "type": "scatter3d"
           }
          ],
          "scattercarpet": [
           {
            "marker": {
             "colorbar": {
              "outlinewidth": 0,
              "ticks": ""
             }
            },
            "type": "scattercarpet"
           }
          ],
          "scattergeo": [
           {
            "marker": {
             "colorbar": {
              "outlinewidth": 0,
              "ticks": ""
             }
            },
            "type": "scattergeo"
           }
          ],
          "scattergl": [
           {
            "marker": {
             "colorbar": {
              "outlinewidth": 0,
              "ticks": ""
             }
            },
            "type": "scattergl"
           }
          ],
          "scattermapbox": [
           {
            "marker": {
             "colorbar": {
              "outlinewidth": 0,
              "ticks": ""
             }
            },
            "type": "scattermapbox"
           }
          ],
          "scatterpolar": [
           {
            "marker": {
             "colorbar": {
              "outlinewidth": 0,
              "ticks": ""
             }
            },
            "type": "scatterpolar"
           }
          ],
          "scatterpolargl": [
           {
            "marker": {
             "colorbar": {
              "outlinewidth": 0,
              "ticks": ""
             }
            },
            "type": "scatterpolargl"
           }
          ],
          "scatterternary": [
           {
            "marker": {
             "colorbar": {
              "outlinewidth": 0,
              "ticks": ""
             }
            },
            "type": "scatterternary"
           }
          ],
          "surface": [
           {
            "colorbar": {
             "outlinewidth": 0,
             "ticks": ""
            },
            "colorscale": [
             [
              0,
              "#0d0887"
             ],
             [
              0.1111111111111111,
              "#46039f"
             ],
             [
              0.2222222222222222,
              "#7201a8"
             ],
             [
              0.3333333333333333,
              "#9c179e"
             ],
             [
              0.4444444444444444,
              "#bd3786"
             ],
             [
              0.5555555555555556,
              "#d8576b"
             ],
             [
              0.6666666666666666,
              "#ed7953"
             ],
             [
              0.7777777777777778,
              "#fb9f3a"
             ],
             [
              0.8888888888888888,
              "#fdca26"
             ],
             [
              1,
              "#f0f921"
             ]
            ],
            "type": "surface"
           }
          ],
          "table": [
           {
            "cells": {
             "fill": {
              "color": "#EBF0F8"
             },
             "line": {
              "color": "white"
             }
            },
            "header": {
             "fill": {
              "color": "#C8D4E3"
             },
             "line": {
              "color": "white"
             }
            },
            "type": "table"
           }
          ]
         },
         "layout": {
          "annotationdefaults": {
           "arrowcolor": "#2a3f5f",
           "arrowhead": 0,
           "arrowwidth": 1
          },
          "autotypenumbers": "strict",
          "coloraxis": {
           "colorbar": {
            "outlinewidth": 0,
            "ticks": ""
           }
          },
          "colorscale": {
           "diverging": [
            [
             0,
             "#8e0152"
            ],
            [
             0.1,
             "#c51b7d"
            ],
            [
             0.2,
             "#de77ae"
            ],
            [
             0.3,
             "#f1b6da"
            ],
            [
             0.4,
             "#fde0ef"
            ],
            [
             0.5,
             "#f7f7f7"
            ],
            [
             0.6,
             "#e6f5d0"
            ],
            [
             0.7,
             "#b8e186"
            ],
            [
             0.8,
             "#7fbc41"
            ],
            [
             0.9,
             "#4d9221"
            ],
            [
             1,
             "#276419"
            ]
           ],
           "sequential": [
            [
             0,
             "#0d0887"
            ],
            [
             0.1111111111111111,
             "#46039f"
            ],
            [
             0.2222222222222222,
             "#7201a8"
            ],
            [
             0.3333333333333333,
             "#9c179e"
            ],
            [
             0.4444444444444444,
             "#bd3786"
            ],
            [
             0.5555555555555556,
             "#d8576b"
            ],
            [
             0.6666666666666666,
             "#ed7953"
            ],
            [
             0.7777777777777778,
             "#fb9f3a"
            ],
            [
             0.8888888888888888,
             "#fdca26"
            ],
            [
             1,
             "#f0f921"
            ]
           ],
           "sequentialminus": [
            [
             0,
             "#0d0887"
            ],
            [
             0.1111111111111111,
             "#46039f"
            ],
            [
             0.2222222222222222,
             "#7201a8"
            ],
            [
             0.3333333333333333,
             "#9c179e"
            ],
            [
             0.4444444444444444,
             "#bd3786"
            ],
            [
             0.5555555555555556,
             "#d8576b"
            ],
            [
             0.6666666666666666,
             "#ed7953"
            ],
            [
             0.7777777777777778,
             "#fb9f3a"
            ],
            [
             0.8888888888888888,
             "#fdca26"
            ],
            [
             1,
             "#f0f921"
            ]
           ]
          },
          "colorway": [
           "#636efa",
           "#EF553B",
           "#00cc96",
           "#ab63fa",
           "#FFA15A",
           "#19d3f3",
           "#FF6692",
           "#B6E880",
           "#FF97FF",
           "#FECB52"
          ],
          "font": {
           "color": "#2a3f5f"
          },
          "geo": {
           "bgcolor": "white",
           "lakecolor": "white",
           "landcolor": "#E5ECF6",
           "showlakes": true,
           "showland": true,
           "subunitcolor": "white"
          },
          "hoverlabel": {
           "align": "left"
          },
          "hovermode": "closest",
          "mapbox": {
           "style": "light"
          },
          "paper_bgcolor": "white",
          "plot_bgcolor": "#E5ECF6",
          "polar": {
           "angularaxis": {
            "gridcolor": "white",
            "linecolor": "white",
            "ticks": ""
           },
           "bgcolor": "#E5ECF6",
           "radialaxis": {
            "gridcolor": "white",
            "linecolor": "white",
            "ticks": ""
           }
          },
          "scene": {
           "xaxis": {
            "backgroundcolor": "#E5ECF6",
            "gridcolor": "white",
            "gridwidth": 2,
            "linecolor": "white",
            "showbackground": true,
            "ticks": "",
            "zerolinecolor": "white"
           },
           "yaxis": {
            "backgroundcolor": "#E5ECF6",
            "gridcolor": "white",
            "gridwidth": 2,
            "linecolor": "white",
            "showbackground": true,
            "ticks": "",
            "zerolinecolor": "white"
           },
           "zaxis": {
            "backgroundcolor": "#E5ECF6",
            "gridcolor": "white",
            "gridwidth": 2,
            "linecolor": "white",
            "showbackground": true,
            "ticks": "",
            "zerolinecolor": "white"
           }
          },
          "shapedefaults": {
           "line": {
            "color": "#2a3f5f"
           }
          },
          "ternary": {
           "aaxis": {
            "gridcolor": "white",
            "linecolor": "white",
            "ticks": ""
           },
           "baxis": {
            "gridcolor": "white",
            "linecolor": "white",
            "ticks": ""
           },
           "bgcolor": "#E5ECF6",
           "caxis": {
            "gridcolor": "white",
            "linecolor": "white",
            "ticks": ""
           }
          },
          "title": {
           "x": 0.05
          },
          "xaxis": {
           "automargin": true,
           "gridcolor": "white",
           "linecolor": "white",
           "ticks": "",
           "title": {
            "standoff": 15
           },
           "zerolinecolor": "white",
           "zerolinewidth": 2
          },
          "yaxis": {
           "automargin": true,
           "gridcolor": "white",
           "linecolor": "white",
           "ticks": "",
           "title": {
            "standoff": 15
           },
           "zerolinecolor": "white",
           "zerolinewidth": 2
          }
         }
        },
        "title": {
         "text": "Web Traffic Across Different Series - Incentive"
        },
        "xaxis": {
         "anchor": "y",
         "domain": [
          0,
          1
         ],
         "title": {
          "text": "date"
         }
        },
        "yaxis": {
         "anchor": "x",
         "domain": [
          0,
          1
         ],
         "title": {
          "text": "web_traffic"
         }
        }
       }
      }
     },
     "metadata": {},
     "output_type": "display_data"
    },
    {
     "name": "stdout",
     "output_type": "stream",
     "text": [
      "openbank * avg\n"
     ]
    },
    {
     "data": {
      "application/vnd.plotly.v1+json": {
       "config": {
        "plotlyServerURL": "https://plot.ly"
       },
       "data": [
        {
         "hovertemplate": "type=bank_of_interest_event<br>date=%{x}<br>web_traffic=%{y}<extra></extra>",
         "legendgroup": "bank_of_interest_event",
         "line": {
          "color": "#636efa",
          "dash": "solid"
         },
         "marker": {
          "symbol": "circle"
         },
         "mode": "lines",
         "name": "bank_of_interest_event",
         "orientation": "v",
         "showlegend": true,
         "type": "scatter",
         "x": [
          "2023-08-01T00:00:00",
          "2023-09-01T00:00:00",
          "2023-10-01T00:00:00",
          "2023-11-01T00:00:00",
          "2023-12-01T00:00:00"
         ],
         "xaxis": "x",
         "y": [
          -0.35087612708286847,
          -0.6825613343405568,
          -0.3715206968891064,
          -0.4548785661748077,
          0.49082210418332817
         ],
         "yaxis": "y"
        },
        {
         "hovertemplate": "type=control_bank_event<br>date=%{x}<br>web_traffic=%{y}<extra></extra>",
         "legendgroup": "control_bank_event",
         "line": {
          "color": "#EF553B",
          "dash": "solid"
         },
         "marker": {
          "symbol": "circle"
         },
         "mode": "lines",
         "name": "control_bank_event",
         "orientation": "v",
         "showlegend": true,
         "type": "scatter",
         "x": [
          "2023-08-01T00:00:00",
          "2023-09-01T00:00:00",
          "2023-10-01T00:00:00",
          "2023-11-01T00:00:00",
          "2023-12-01T00:00:00"
         ],
         "xaxis": "x",
         "y": [
          -0.814804415440892,
          -0.007246579520921337,
          -1.8468506408730458,
          -0.3284665006864626,
          -0.0626479334700136
         ],
         "yaxis": "y"
        },
        {
         "hovertemplate": "type=bank_of_interest_non_event<br>date=%{x}<br>web_traffic=%{y}<extra></extra>",
         "legendgroup": "bank_of_interest_non_event",
         "line": {
          "color": "#00cc96",
          "dash": "solid"
         },
         "marker": {
          "symbol": "circle"
         },
         "mode": "lines",
         "name": "bank_of_interest_non_event",
         "orientation": "v",
         "showlegend": true,
         "type": "scatter",
         "x": [
          "2022-05-01T00:00:00",
          "2022-06-01T00:00:00",
          "2022-07-01T00:00:00",
          "2022-08-01T00:00:00",
          "2022-09-01T00:00:00"
         ],
         "xaxis": "x",
         "y": [
          -0.15650148389751706,
          0.27724538165786516,
          0.23147748286817824,
          0.25900050318019124,
          0.25900050318019124
         ],
         "yaxis": "y"
        },
        {
         "hovertemplate": "type=control_bank_non_event<br>date=%{x}<br>web_traffic=%{y}<extra></extra>",
         "legendgroup": "control_bank_non_event",
         "line": {
          "color": "#ab63fa",
          "dash": "solid"
         },
         "marker": {
          "symbol": "circle"
         },
         "mode": "lines",
         "name": "control_bank_non_event",
         "orientation": "v",
         "showlegend": true,
         "type": "scatter",
         "x": [
          "2022-05-01T00:00:00",
          "2022-06-01T00:00:00",
          "2022-07-01T00:00:00",
          "2022-08-01T00:00:00",
          "2022-09-01T00:00:00"
         ],
         "xaxis": "x",
         "y": [
          -0.13324237315290507,
          -0.2842299961876826,
          -0.12842998733177854,
          0.028656684972887626,
          0.12366534230849777
         ],
         "yaxis": "y"
        }
       ],
       "layout": {
        "legend": {
         "title": {
          "text": "Series"
         },
         "tracegroupgap": 0
        },
        "template": {
         "data": {
          "bar": [
           {
            "error_x": {
             "color": "#2a3f5f"
            },
            "error_y": {
             "color": "#2a3f5f"
            },
            "marker": {
             "line": {
              "color": "#E5ECF6",
              "width": 0.5
             },
             "pattern": {
              "fillmode": "overlay",
              "size": 10,
              "solidity": 0.2
             }
            },
            "type": "bar"
           }
          ],
          "barpolar": [
           {
            "marker": {
             "line": {
              "color": "#E5ECF6",
              "width": 0.5
             },
             "pattern": {
              "fillmode": "overlay",
              "size": 10,
              "solidity": 0.2
             }
            },
            "type": "barpolar"
           }
          ],
          "carpet": [
           {
            "aaxis": {
             "endlinecolor": "#2a3f5f",
             "gridcolor": "white",
             "linecolor": "white",
             "minorgridcolor": "white",
             "startlinecolor": "#2a3f5f"
            },
            "baxis": {
             "endlinecolor": "#2a3f5f",
             "gridcolor": "white",
             "linecolor": "white",
             "minorgridcolor": "white",
             "startlinecolor": "#2a3f5f"
            },
            "type": "carpet"
           }
          ],
          "choropleth": [
           {
            "colorbar": {
             "outlinewidth": 0,
             "ticks": ""
            },
            "type": "choropleth"
           }
          ],
          "contour": [
           {
            "colorbar": {
             "outlinewidth": 0,
             "ticks": ""
            },
            "colorscale": [
             [
              0,
              "#0d0887"
             ],
             [
              0.1111111111111111,
              "#46039f"
             ],
             [
              0.2222222222222222,
              "#7201a8"
             ],
             [
              0.3333333333333333,
              "#9c179e"
             ],
             [
              0.4444444444444444,
              "#bd3786"
             ],
             [
              0.5555555555555556,
              "#d8576b"
             ],
             [
              0.6666666666666666,
              "#ed7953"
             ],
             [
              0.7777777777777778,
              "#fb9f3a"
             ],
             [
              0.8888888888888888,
              "#fdca26"
             ],
             [
              1,
              "#f0f921"
             ]
            ],
            "type": "contour"
           }
          ],
          "contourcarpet": [
           {
            "colorbar": {
             "outlinewidth": 0,
             "ticks": ""
            },
            "type": "contourcarpet"
           }
          ],
          "heatmap": [
           {
            "colorbar": {
             "outlinewidth": 0,
             "ticks": ""
            },
            "colorscale": [
             [
              0,
              "#0d0887"
             ],
             [
              0.1111111111111111,
              "#46039f"
             ],
             [
              0.2222222222222222,
              "#7201a8"
             ],
             [
              0.3333333333333333,
              "#9c179e"
             ],
             [
              0.4444444444444444,
              "#bd3786"
             ],
             [
              0.5555555555555556,
              "#d8576b"
             ],
             [
              0.6666666666666666,
              "#ed7953"
             ],
             [
              0.7777777777777778,
              "#fb9f3a"
             ],
             [
              0.8888888888888888,
              "#fdca26"
             ],
             [
              1,
              "#f0f921"
             ]
            ],
            "type": "heatmap"
           }
          ],
          "heatmapgl": [
           {
            "colorbar": {
             "outlinewidth": 0,
             "ticks": ""
            },
            "colorscale": [
             [
              0,
              "#0d0887"
             ],
             [
              0.1111111111111111,
              "#46039f"
             ],
             [
              0.2222222222222222,
              "#7201a8"
             ],
             [
              0.3333333333333333,
              "#9c179e"
             ],
             [
              0.4444444444444444,
              "#bd3786"
             ],
             [
              0.5555555555555556,
              "#d8576b"
             ],
             [
              0.6666666666666666,
              "#ed7953"
             ],
             [
              0.7777777777777778,
              "#fb9f3a"
             ],
             [
              0.8888888888888888,
              "#fdca26"
             ],
             [
              1,
              "#f0f921"
             ]
            ],
            "type": "heatmapgl"
           }
          ],
          "histogram": [
           {
            "marker": {
             "pattern": {
              "fillmode": "overlay",
              "size": 10,
              "solidity": 0.2
             }
            },
            "type": "histogram"
           }
          ],
          "histogram2d": [
           {
            "colorbar": {
             "outlinewidth": 0,
             "ticks": ""
            },
            "colorscale": [
             [
              0,
              "#0d0887"
             ],
             [
              0.1111111111111111,
              "#46039f"
             ],
             [
              0.2222222222222222,
              "#7201a8"
             ],
             [
              0.3333333333333333,
              "#9c179e"
             ],
             [
              0.4444444444444444,
              "#bd3786"
             ],
             [
              0.5555555555555556,
              "#d8576b"
             ],
             [
              0.6666666666666666,
              "#ed7953"
             ],
             [
              0.7777777777777778,
              "#fb9f3a"
             ],
             [
              0.8888888888888888,
              "#fdca26"
             ],
             [
              1,
              "#f0f921"
             ]
            ],
            "type": "histogram2d"
           }
          ],
          "histogram2dcontour": [
           {
            "colorbar": {
             "outlinewidth": 0,
             "ticks": ""
            },
            "colorscale": [
             [
              0,
              "#0d0887"
             ],
             [
              0.1111111111111111,
              "#46039f"
             ],
             [
              0.2222222222222222,
              "#7201a8"
             ],
             [
              0.3333333333333333,
              "#9c179e"
             ],
             [
              0.4444444444444444,
              "#bd3786"
             ],
             [
              0.5555555555555556,
              "#d8576b"
             ],
             [
              0.6666666666666666,
              "#ed7953"
             ],
             [
              0.7777777777777778,
              "#fb9f3a"
             ],
             [
              0.8888888888888888,
              "#fdca26"
             ],
             [
              1,
              "#f0f921"
             ]
            ],
            "type": "histogram2dcontour"
           }
          ],
          "mesh3d": [
           {
            "colorbar": {
             "outlinewidth": 0,
             "ticks": ""
            },
            "type": "mesh3d"
           }
          ],
          "parcoords": [
           {
            "line": {
             "colorbar": {
              "outlinewidth": 0,
              "ticks": ""
             }
            },
            "type": "parcoords"
           }
          ],
          "pie": [
           {
            "automargin": true,
            "type": "pie"
           }
          ],
          "scatter": [
           {
            "fillpattern": {
             "fillmode": "overlay",
             "size": 10,
             "solidity": 0.2
            },
            "type": "scatter"
           }
          ],
          "scatter3d": [
           {
            "line": {
             "colorbar": {
              "outlinewidth": 0,
              "ticks": ""
             }
            },
            "marker": {
             "colorbar": {
              "outlinewidth": 0,
              "ticks": ""
             }
            },
            "type": "scatter3d"
           }
          ],
          "scattercarpet": [
           {
            "marker": {
             "colorbar": {
              "outlinewidth": 0,
              "ticks": ""
             }
            },
            "type": "scattercarpet"
           }
          ],
          "scattergeo": [
           {
            "marker": {
             "colorbar": {
              "outlinewidth": 0,
              "ticks": ""
             }
            },
            "type": "scattergeo"
           }
          ],
          "scattergl": [
           {
            "marker": {
             "colorbar": {
              "outlinewidth": 0,
              "ticks": ""
             }
            },
            "type": "scattergl"
           }
          ],
          "scattermapbox": [
           {
            "marker": {
             "colorbar": {
              "outlinewidth": 0,
              "ticks": ""
             }
            },
            "type": "scattermapbox"
           }
          ],
          "scatterpolar": [
           {
            "marker": {
             "colorbar": {
              "outlinewidth": 0,
              "ticks": ""
             }
            },
            "type": "scatterpolar"
           }
          ],
          "scatterpolargl": [
           {
            "marker": {
             "colorbar": {
              "outlinewidth": 0,
              "ticks": ""
             }
            },
            "type": "scatterpolargl"
           }
          ],
          "scatterternary": [
           {
            "marker": {
             "colorbar": {
              "outlinewidth": 0,
              "ticks": ""
             }
            },
            "type": "scatterternary"
           }
          ],
          "surface": [
           {
            "colorbar": {
             "outlinewidth": 0,
             "ticks": ""
            },
            "colorscale": [
             [
              0,
              "#0d0887"
             ],
             [
              0.1111111111111111,
              "#46039f"
             ],
             [
              0.2222222222222222,
              "#7201a8"
             ],
             [
              0.3333333333333333,
              "#9c179e"
             ],
             [
              0.4444444444444444,
              "#bd3786"
             ],
             [
              0.5555555555555556,
              "#d8576b"
             ],
             [
              0.6666666666666666,
              "#ed7953"
             ],
             [
              0.7777777777777778,
              "#fb9f3a"
             ],
             [
              0.8888888888888888,
              "#fdca26"
             ],
             [
              1,
              "#f0f921"
             ]
            ],
            "type": "surface"
           }
          ],
          "table": [
           {
            "cells": {
             "fill": {
              "color": "#EBF0F8"
             },
             "line": {
              "color": "white"
             }
            },
            "header": {
             "fill": {
              "color": "#C8D4E3"
             },
             "line": {
              "color": "white"
             }
            },
            "type": "table"
           }
          ]
         },
         "layout": {
          "annotationdefaults": {
           "arrowcolor": "#2a3f5f",
           "arrowhead": 0,
           "arrowwidth": 1
          },
          "autotypenumbers": "strict",
          "coloraxis": {
           "colorbar": {
            "outlinewidth": 0,
            "ticks": ""
           }
          },
          "colorscale": {
           "diverging": [
            [
             0,
             "#8e0152"
            ],
            [
             0.1,
             "#c51b7d"
            ],
            [
             0.2,
             "#de77ae"
            ],
            [
             0.3,
             "#f1b6da"
            ],
            [
             0.4,
             "#fde0ef"
            ],
            [
             0.5,
             "#f7f7f7"
            ],
            [
             0.6,
             "#e6f5d0"
            ],
            [
             0.7,
             "#b8e186"
            ],
            [
             0.8,
             "#7fbc41"
            ],
            [
             0.9,
             "#4d9221"
            ],
            [
             1,
             "#276419"
            ]
           ],
           "sequential": [
            [
             0,
             "#0d0887"
            ],
            [
             0.1111111111111111,
             "#46039f"
            ],
            [
             0.2222222222222222,
             "#7201a8"
            ],
            [
             0.3333333333333333,
             "#9c179e"
            ],
            [
             0.4444444444444444,
             "#bd3786"
            ],
            [
             0.5555555555555556,
             "#d8576b"
            ],
            [
             0.6666666666666666,
             "#ed7953"
            ],
            [
             0.7777777777777778,
             "#fb9f3a"
            ],
            [
             0.8888888888888888,
             "#fdca26"
            ],
            [
             1,
             "#f0f921"
            ]
           ],
           "sequentialminus": [
            [
             0,
             "#0d0887"
            ],
            [
             0.1111111111111111,
             "#46039f"
            ],
            [
             0.2222222222222222,
             "#7201a8"
            ],
            [
             0.3333333333333333,
             "#9c179e"
            ],
            [
             0.4444444444444444,
             "#bd3786"
            ],
            [
             0.5555555555555556,
             "#d8576b"
            ],
            [
             0.6666666666666666,
             "#ed7953"
            ],
            [
             0.7777777777777778,
             "#fb9f3a"
            ],
            [
             0.8888888888888888,
             "#fdca26"
            ],
            [
             1,
             "#f0f921"
            ]
           ]
          },
          "colorway": [
           "#636efa",
           "#EF553B",
           "#00cc96",
           "#ab63fa",
           "#FFA15A",
           "#19d3f3",
           "#FF6692",
           "#B6E880",
           "#FF97FF",
           "#FECB52"
          ],
          "font": {
           "color": "#2a3f5f"
          },
          "geo": {
           "bgcolor": "white",
           "lakecolor": "white",
           "landcolor": "#E5ECF6",
           "showlakes": true,
           "showland": true,
           "subunitcolor": "white"
          },
          "hoverlabel": {
           "align": "left"
          },
          "hovermode": "closest",
          "mapbox": {
           "style": "light"
          },
          "paper_bgcolor": "white",
          "plot_bgcolor": "#E5ECF6",
          "polar": {
           "angularaxis": {
            "gridcolor": "white",
            "linecolor": "white",
            "ticks": ""
           },
           "bgcolor": "#E5ECF6",
           "radialaxis": {
            "gridcolor": "white",
            "linecolor": "white",
            "ticks": ""
           }
          },
          "scene": {
           "xaxis": {
            "backgroundcolor": "#E5ECF6",
            "gridcolor": "white",
            "gridwidth": 2,
            "linecolor": "white",
            "showbackground": true,
            "ticks": "",
            "zerolinecolor": "white"
           },
           "yaxis": {
            "backgroundcolor": "#E5ECF6",
            "gridcolor": "white",
            "gridwidth": 2,
            "linecolor": "white",
            "showbackground": true,
            "ticks": "",
            "zerolinecolor": "white"
           },
           "zaxis": {
            "backgroundcolor": "#E5ECF6",
            "gridcolor": "white",
            "gridwidth": 2,
            "linecolor": "white",
            "showbackground": true,
            "ticks": "",
            "zerolinecolor": "white"
           }
          },
          "shapedefaults": {
           "line": {
            "color": "#2a3f5f"
           }
          },
          "ternary": {
           "aaxis": {
            "gridcolor": "white",
            "linecolor": "white",
            "ticks": ""
           },
           "baxis": {
            "gridcolor": "white",
            "linecolor": "white",
            "ticks": ""
           },
           "bgcolor": "#E5ECF6",
           "caxis": {
            "gridcolor": "white",
            "linecolor": "white",
            "ticks": ""
           }
          },
          "title": {
           "x": 0.05
          },
          "xaxis": {
           "automargin": true,
           "gridcolor": "white",
           "linecolor": "white",
           "ticks": "",
           "title": {
            "standoff": 15
           },
           "zerolinecolor": "white",
           "zerolinewidth": 2
          },
          "yaxis": {
           "automargin": true,
           "gridcolor": "white",
           "linecolor": "white",
           "ticks": "",
           "title": {
            "standoff": 15
           },
           "zerolinecolor": "white",
           "zerolinewidth": 2
          }
         }
        },
        "title": {
         "text": "Web Traffic Across Different Series - Incentive"
        },
        "xaxis": {
         "anchor": "y",
         "domain": [
          0,
          1
         ],
         "title": {
          "text": "date"
         }
        },
        "yaxis": {
         "anchor": "x",
         "domain": [
          0,
          1
         ],
         "title": {
          "text": "web_traffic"
         }
        }
       }
      }
     },
     "metadata": {},
     "output_type": "display_data"
    },
    {
     "name": "stdout",
     "output_type": "stream",
     "text": [
      "myinvestor * avg\n"
     ]
    },
    {
     "data": {
      "application/vnd.plotly.v1+json": {
       "config": {
        "plotlyServerURL": "https://plot.ly"
       },
       "data": [
        {
         "hovertemplate": "type=bank_of_interest_event<br>date=%{x}<br>web_traffic=%{y}<extra></extra>",
         "legendgroup": "bank_of_interest_event",
         "line": {
          "color": "#636efa",
          "dash": "solid"
         },
         "marker": {
          "symbol": "circle"
         },
         "mode": "lines",
         "name": "bank_of_interest_event",
         "orientation": "v",
         "showlegend": true,
         "type": "scatter",
         "x": [
          "2022-11-01T00:00:00",
          "2022-12-01T00:00:00",
          "2023-01-01T00:00:00",
          "2023-02-01T00:00:00",
          "2023-03-01T00:00:00"
         ],
         "xaxis": "x",
         "y": [
          -1.0286506352791687,
          -0.8651410278104253,
          -0.6657513656105615,
          0.2528349274090857,
          0.1006024184737967
         ],
         "yaxis": "y"
        },
        {
         "hovertemplate": "type=control_bank_event<br>date=%{x}<br>web_traffic=%{y}<extra></extra>",
         "legendgroup": "control_bank_event",
         "line": {
          "color": "#EF553B",
          "dash": "solid"
         },
         "marker": {
          "symbol": "circle"
         },
         "mode": "lines",
         "name": "control_bank_event",
         "orientation": "v",
         "showlegend": true,
         "type": "scatter",
         "x": [
          "2022-11-01T00:00:00",
          "2022-12-01T00:00:00",
          "2023-01-01T00:00:00",
          "2023-02-01T00:00:00",
          "2023-03-01T00:00:00"
         ],
         "xaxis": "x",
         "y": [
          -0.1478943780992098,
          0.05693514495607947,
          0.08668810515349595,
          -0.17129802597679838,
          -0.25574758069762726
         ],
         "yaxis": "y"
        },
        {
         "hovertemplate": "type=bank_of_interest_non_event<br>date=%{x}<br>web_traffic=%{y}<extra></extra>",
         "legendgroup": "bank_of_interest_non_event",
         "line": {
          "color": "#00cc96",
          "dash": "solid"
         },
         "marker": {
          "symbol": "circle"
         },
         "mode": "lines",
         "name": "bank_of_interest_non_event",
         "orientation": "v",
         "showlegend": true,
         "type": "scatter",
         "x": [
          "2021-12-01T00:00:00",
          "2022-01-01T00:00:00",
          "2022-02-01T00:00:00",
          "2022-03-01T00:00:00",
          "2022-04-01T00:00:00"
         ],
         "xaxis": "x",
         "y": [
          -1.2185919100649663,
          -0.9819210105298183,
          -1.527608842095222,
          -1.3008940186596658,
          -1.12707925725
         ],
         "yaxis": "y"
        },
        {
         "hovertemplate": "type=control_bank_non_event<br>date=%{x}<br>web_traffic=%{y}<extra></extra>",
         "legendgroup": "control_bank_non_event",
         "line": {
          "color": "#ab63fa",
          "dash": "solid"
         },
         "marker": {
          "symbol": "circle"
         },
         "mode": "lines",
         "name": "control_bank_non_event",
         "orientation": "v",
         "showlegend": true,
         "type": "scatter",
         "x": [
          "2021-12-01T00:00:00",
          "2022-01-01T00:00:00",
          "2022-02-01T00:00:00",
          "2022-03-01T00:00:00",
          "2022-04-01T00:00:00"
         ],
         "xaxis": "x",
         "y": [
          -0.38448045200327186,
          -0.37863243699964516,
          -0.35039542630991993,
          -0.33202828250833283,
          -0.3046548766826206
         ],
         "yaxis": "y"
        }
       ],
       "layout": {
        "legend": {
         "title": {
          "text": "Series"
         },
         "tracegroupgap": 0
        },
        "template": {
         "data": {
          "bar": [
           {
            "error_x": {
             "color": "#2a3f5f"
            },
            "error_y": {
             "color": "#2a3f5f"
            },
            "marker": {
             "line": {
              "color": "#E5ECF6",
              "width": 0.5
             },
             "pattern": {
              "fillmode": "overlay",
              "size": 10,
              "solidity": 0.2
             }
            },
            "type": "bar"
           }
          ],
          "barpolar": [
           {
            "marker": {
             "line": {
              "color": "#E5ECF6",
              "width": 0.5
             },
             "pattern": {
              "fillmode": "overlay",
              "size": 10,
              "solidity": 0.2
             }
            },
            "type": "barpolar"
           }
          ],
          "carpet": [
           {
            "aaxis": {
             "endlinecolor": "#2a3f5f",
             "gridcolor": "white",
             "linecolor": "white",
             "minorgridcolor": "white",
             "startlinecolor": "#2a3f5f"
            },
            "baxis": {
             "endlinecolor": "#2a3f5f",
             "gridcolor": "white",
             "linecolor": "white",
             "minorgridcolor": "white",
             "startlinecolor": "#2a3f5f"
            },
            "type": "carpet"
           }
          ],
          "choropleth": [
           {
            "colorbar": {
             "outlinewidth": 0,
             "ticks": ""
            },
            "type": "choropleth"
           }
          ],
          "contour": [
           {
            "colorbar": {
             "outlinewidth": 0,
             "ticks": ""
            },
            "colorscale": [
             [
              0,
              "#0d0887"
             ],
             [
              0.1111111111111111,
              "#46039f"
             ],
             [
              0.2222222222222222,
              "#7201a8"
             ],
             [
              0.3333333333333333,
              "#9c179e"
             ],
             [
              0.4444444444444444,
              "#bd3786"
             ],
             [
              0.5555555555555556,
              "#d8576b"
             ],
             [
              0.6666666666666666,
              "#ed7953"
             ],
             [
              0.7777777777777778,
              "#fb9f3a"
             ],
             [
              0.8888888888888888,
              "#fdca26"
             ],
             [
              1,
              "#f0f921"
             ]
            ],
            "type": "contour"
           }
          ],
          "contourcarpet": [
           {
            "colorbar": {
             "outlinewidth": 0,
             "ticks": ""
            },
            "type": "contourcarpet"
           }
          ],
          "heatmap": [
           {
            "colorbar": {
             "outlinewidth": 0,
             "ticks": ""
            },
            "colorscale": [
             [
              0,
              "#0d0887"
             ],
             [
              0.1111111111111111,
              "#46039f"
             ],
             [
              0.2222222222222222,
              "#7201a8"
             ],
             [
              0.3333333333333333,
              "#9c179e"
             ],
             [
              0.4444444444444444,
              "#bd3786"
             ],
             [
              0.5555555555555556,
              "#d8576b"
             ],
             [
              0.6666666666666666,
              "#ed7953"
             ],
             [
              0.7777777777777778,
              "#fb9f3a"
             ],
             [
              0.8888888888888888,
              "#fdca26"
             ],
             [
              1,
              "#f0f921"
             ]
            ],
            "type": "heatmap"
           }
          ],
          "heatmapgl": [
           {
            "colorbar": {
             "outlinewidth": 0,
             "ticks": ""
            },
            "colorscale": [
             [
              0,
              "#0d0887"
             ],
             [
              0.1111111111111111,
              "#46039f"
             ],
             [
              0.2222222222222222,
              "#7201a8"
             ],
             [
              0.3333333333333333,
              "#9c179e"
             ],
             [
              0.4444444444444444,
              "#bd3786"
             ],
             [
              0.5555555555555556,
              "#d8576b"
             ],
             [
              0.6666666666666666,
              "#ed7953"
             ],
             [
              0.7777777777777778,
              "#fb9f3a"
             ],
             [
              0.8888888888888888,
              "#fdca26"
             ],
             [
              1,
              "#f0f921"
             ]
            ],
            "type": "heatmapgl"
           }
          ],
          "histogram": [
           {
            "marker": {
             "pattern": {
              "fillmode": "overlay",
              "size": 10,
              "solidity": 0.2
             }
            },
            "type": "histogram"
           }
          ],
          "histogram2d": [
           {
            "colorbar": {
             "outlinewidth": 0,
             "ticks": ""
            },
            "colorscale": [
             [
              0,
              "#0d0887"
             ],
             [
              0.1111111111111111,
              "#46039f"
             ],
             [
              0.2222222222222222,
              "#7201a8"
             ],
             [
              0.3333333333333333,
              "#9c179e"
             ],
             [
              0.4444444444444444,
              "#bd3786"
             ],
             [
              0.5555555555555556,
              "#d8576b"
             ],
             [
              0.6666666666666666,
              "#ed7953"
             ],
             [
              0.7777777777777778,
              "#fb9f3a"
             ],
             [
              0.8888888888888888,
              "#fdca26"
             ],
             [
              1,
              "#f0f921"
             ]
            ],
            "type": "histogram2d"
           }
          ],
          "histogram2dcontour": [
           {
            "colorbar": {
             "outlinewidth": 0,
             "ticks": ""
            },
            "colorscale": [
             [
              0,
              "#0d0887"
             ],
             [
              0.1111111111111111,
              "#46039f"
             ],
             [
              0.2222222222222222,
              "#7201a8"
             ],
             [
              0.3333333333333333,
              "#9c179e"
             ],
             [
              0.4444444444444444,
              "#bd3786"
             ],
             [
              0.5555555555555556,
              "#d8576b"
             ],
             [
              0.6666666666666666,
              "#ed7953"
             ],
             [
              0.7777777777777778,
              "#fb9f3a"
             ],
             [
              0.8888888888888888,
              "#fdca26"
             ],
             [
              1,
              "#f0f921"
             ]
            ],
            "type": "histogram2dcontour"
           }
          ],
          "mesh3d": [
           {
            "colorbar": {
             "outlinewidth": 0,
             "ticks": ""
            },
            "type": "mesh3d"
           }
          ],
          "parcoords": [
           {
            "line": {
             "colorbar": {
              "outlinewidth": 0,
              "ticks": ""
             }
            },
            "type": "parcoords"
           }
          ],
          "pie": [
           {
            "automargin": true,
            "type": "pie"
           }
          ],
          "scatter": [
           {
            "fillpattern": {
             "fillmode": "overlay",
             "size": 10,
             "solidity": 0.2
            },
            "type": "scatter"
           }
          ],
          "scatter3d": [
           {
            "line": {
             "colorbar": {
              "outlinewidth": 0,
              "ticks": ""
             }
            },
            "marker": {
             "colorbar": {
              "outlinewidth": 0,
              "ticks": ""
             }
            },
            "type": "scatter3d"
           }
          ],
          "scattercarpet": [
           {
            "marker": {
             "colorbar": {
              "outlinewidth": 0,
              "ticks": ""
             }
            },
            "type": "scattercarpet"
           }
          ],
          "scattergeo": [
           {
            "marker": {
             "colorbar": {
              "outlinewidth": 0,
              "ticks": ""
             }
            },
            "type": "scattergeo"
           }
          ],
          "scattergl": [
           {
            "marker": {
             "colorbar": {
              "outlinewidth": 0,
              "ticks": ""
             }
            },
            "type": "scattergl"
           }
          ],
          "scattermapbox": [
           {
            "marker": {
             "colorbar": {
              "outlinewidth": 0,
              "ticks": ""
             }
            },
            "type": "scattermapbox"
           }
          ],
          "scatterpolar": [
           {
            "marker": {
             "colorbar": {
              "outlinewidth": 0,
              "ticks": ""
             }
            },
            "type": "scatterpolar"
           }
          ],
          "scatterpolargl": [
           {
            "marker": {
             "colorbar": {
              "outlinewidth": 0,
              "ticks": ""
             }
            },
            "type": "scatterpolargl"
           }
          ],
          "scatterternary": [
           {
            "marker": {
             "colorbar": {
              "outlinewidth": 0,
              "ticks": ""
             }
            },
            "type": "scatterternary"
           }
          ],
          "surface": [
           {
            "colorbar": {
             "outlinewidth": 0,
             "ticks": ""
            },
            "colorscale": [
             [
              0,
              "#0d0887"
             ],
             [
              0.1111111111111111,
              "#46039f"
             ],
             [
              0.2222222222222222,
              "#7201a8"
             ],
             [
              0.3333333333333333,
              "#9c179e"
             ],
             [
              0.4444444444444444,
              "#bd3786"
             ],
             [
              0.5555555555555556,
              "#d8576b"
             ],
             [
              0.6666666666666666,
              "#ed7953"
             ],
             [
              0.7777777777777778,
              "#fb9f3a"
             ],
             [
              0.8888888888888888,
              "#fdca26"
             ],
             [
              1,
              "#f0f921"
             ]
            ],
            "type": "surface"
           }
          ],
          "table": [
           {
            "cells": {
             "fill": {
              "color": "#EBF0F8"
             },
             "line": {
              "color": "white"
             }
            },
            "header": {
             "fill": {
              "color": "#C8D4E3"
             },
             "line": {
              "color": "white"
             }
            },
            "type": "table"
           }
          ]
         },
         "layout": {
          "annotationdefaults": {
           "arrowcolor": "#2a3f5f",
           "arrowhead": 0,
           "arrowwidth": 1
          },
          "autotypenumbers": "strict",
          "coloraxis": {
           "colorbar": {
            "outlinewidth": 0,
            "ticks": ""
           }
          },
          "colorscale": {
           "diverging": [
            [
             0,
             "#8e0152"
            ],
            [
             0.1,
             "#c51b7d"
            ],
            [
             0.2,
             "#de77ae"
            ],
            [
             0.3,
             "#f1b6da"
            ],
            [
             0.4,
             "#fde0ef"
            ],
            [
             0.5,
             "#f7f7f7"
            ],
            [
             0.6,
             "#e6f5d0"
            ],
            [
             0.7,
             "#b8e186"
            ],
            [
             0.8,
             "#7fbc41"
            ],
            [
             0.9,
             "#4d9221"
            ],
            [
             1,
             "#276419"
            ]
           ],
           "sequential": [
            [
             0,
             "#0d0887"
            ],
            [
             0.1111111111111111,
             "#46039f"
            ],
            [
             0.2222222222222222,
             "#7201a8"
            ],
            [
             0.3333333333333333,
             "#9c179e"
            ],
            [
             0.4444444444444444,
             "#bd3786"
            ],
            [
             0.5555555555555556,
             "#d8576b"
            ],
            [
             0.6666666666666666,
             "#ed7953"
            ],
            [
             0.7777777777777778,
             "#fb9f3a"
            ],
            [
             0.8888888888888888,
             "#fdca26"
            ],
            [
             1,
             "#f0f921"
            ]
           ],
           "sequentialminus": [
            [
             0,
             "#0d0887"
            ],
            [
             0.1111111111111111,
             "#46039f"
            ],
            [
             0.2222222222222222,
             "#7201a8"
            ],
            [
             0.3333333333333333,
             "#9c179e"
            ],
            [
             0.4444444444444444,
             "#bd3786"
            ],
            [
             0.5555555555555556,
             "#d8576b"
            ],
            [
             0.6666666666666666,
             "#ed7953"
            ],
            [
             0.7777777777777778,
             "#fb9f3a"
            ],
            [
             0.8888888888888888,
             "#fdca26"
            ],
            [
             1,
             "#f0f921"
            ]
           ]
          },
          "colorway": [
           "#636efa",
           "#EF553B",
           "#00cc96",
           "#ab63fa",
           "#FFA15A",
           "#19d3f3",
           "#FF6692",
           "#B6E880",
           "#FF97FF",
           "#FECB52"
          ],
          "font": {
           "color": "#2a3f5f"
          },
          "geo": {
           "bgcolor": "white",
           "lakecolor": "white",
           "landcolor": "#E5ECF6",
           "showlakes": true,
           "showland": true,
           "subunitcolor": "white"
          },
          "hoverlabel": {
           "align": "left"
          },
          "hovermode": "closest",
          "mapbox": {
           "style": "light"
          },
          "paper_bgcolor": "white",
          "plot_bgcolor": "#E5ECF6",
          "polar": {
           "angularaxis": {
            "gridcolor": "white",
            "linecolor": "white",
            "ticks": ""
           },
           "bgcolor": "#E5ECF6",
           "radialaxis": {
            "gridcolor": "white",
            "linecolor": "white",
            "ticks": ""
           }
          },
          "scene": {
           "xaxis": {
            "backgroundcolor": "#E5ECF6",
            "gridcolor": "white",
            "gridwidth": 2,
            "linecolor": "white",
            "showbackground": true,
            "ticks": "",
            "zerolinecolor": "white"
           },
           "yaxis": {
            "backgroundcolor": "#E5ECF6",
            "gridcolor": "white",
            "gridwidth": 2,
            "linecolor": "white",
            "showbackground": true,
            "ticks": "",
            "zerolinecolor": "white"
           },
           "zaxis": {
            "backgroundcolor": "#E5ECF6",
            "gridcolor": "white",
            "gridwidth": 2,
            "linecolor": "white",
            "showbackground": true,
            "ticks": "",
            "zerolinecolor": "white"
           }
          },
          "shapedefaults": {
           "line": {
            "color": "#2a3f5f"
           }
          },
          "ternary": {
           "aaxis": {
            "gridcolor": "white",
            "linecolor": "white",
            "ticks": ""
           },
           "baxis": {
            "gridcolor": "white",
            "linecolor": "white",
            "ticks": ""
           },
           "bgcolor": "#E5ECF6",
           "caxis": {
            "gridcolor": "white",
            "linecolor": "white",
            "ticks": ""
           }
          },
          "title": {
           "x": 0.05
          },
          "xaxis": {
           "automargin": true,
           "gridcolor": "white",
           "linecolor": "white",
           "ticks": "",
           "title": {
            "standoff": 15
           },
           "zerolinecolor": "white",
           "zerolinewidth": 2
          },
          "yaxis": {
           "automargin": true,
           "gridcolor": "white",
           "linecolor": "white",
           "ticks": "",
           "title": {
            "standoff": 15
           },
           "zerolinecolor": "white",
           "zerolinewidth": 2
          }
         }
        },
        "title": {
         "text": "Web Traffic Across Different Series - Incentive"
        },
        "xaxis": {
         "anchor": "y",
         "domain": [
          0,
          1
         ],
         "title": {
          "text": "date"
         }
        },
        "yaxis": {
         "anchor": "x",
         "domain": [
          0,
          1
         ],
         "title": {
          "text": "web_traffic"
         }
        }
       }
      }
     },
     "metadata": {},
     "output_type": "display_data"
    },
    {
     "name": "stdout",
     "output_type": "stream",
     "text": [
      "evobanco * avg\n"
     ]
    },
    {
     "data": {
      "application/vnd.plotly.v1+json": {
       "config": {
        "plotlyServerURL": "https://plot.ly"
       },
       "data": [
        {
         "hovertemplate": "type=bank_of_interest_event<br>date=%{x}<br>web_traffic=%{y}<extra></extra>",
         "legendgroup": "bank_of_interest_event",
         "line": {
          "color": "#636efa",
          "dash": "solid"
         },
         "marker": {
          "symbol": "circle"
         },
         "mode": "lines",
         "name": "bank_of_interest_event",
         "orientation": "v",
         "showlegend": true,
         "type": "scatter",
         "x": [
          "2022-09-01T00:00:00",
          "2022-10-01T00:00:00",
          "2022-11-01T00:00:00",
          "2022-12-01T00:00:00",
          "2023-01-01T00:00:00"
         ],
         "xaxis": "x",
         "y": [
          -1.4457510632081658,
          -1.5136739396794139,
          -1.0758737942420287,
          -1.531063846940386,
          -1.4498555119496956
         ],
         "yaxis": "y"
        },
        {
         "hovertemplate": "type=control_bank_event<br>date=%{x}<br>web_traffic=%{y}<extra></extra>",
         "legendgroup": "control_bank_event",
         "line": {
          "color": "#EF553B",
          "dash": "solid"
         },
         "marker": {
          "symbol": "circle"
         },
         "mode": "lines",
         "name": "control_bank_event",
         "orientation": "v",
         "showlegend": true,
         "type": "scatter",
         "x": [
          "2022-09-01T00:00:00",
          "2022-10-01T00:00:00",
          "2022-11-01T00:00:00",
          "2022-12-01T00:00:00",
          "2023-01-01T00:00:00"
         ],
         "xaxis": "x",
         "y": [
          0.12366534230849777,
          -0.3873113568812822,
          -0.1478943780992098,
          0.05693514495607947,
          0.08668810515349595
         ],
         "yaxis": "y"
        },
        {
         "hovertemplate": "type=bank_of_interest_non_event<br>date=%{x}<br>web_traffic=%{y}<extra></extra>",
         "legendgroup": "bank_of_interest_non_event",
         "line": {
          "color": "#00cc96",
          "dash": "solid"
         },
         "marker": {
          "symbol": "circle"
         },
         "mode": "lines",
         "name": "bank_of_interest_non_event",
         "orientation": "v",
         "showlegend": true,
         "type": "scatter",
         "x": [
          "2021-12-01T00:00:00",
          "2022-01-01T00:00:00",
          "2022-02-01T00:00:00",
          "2022-03-01T00:00:00",
          "2022-04-01T00:00:00"
         ],
         "xaxis": "x",
         "y": [
          -1.2753489059797554,
          -1.395491972163825,
          -1.0752697028452483,
          -0.5345234970330494,
          -1.2813862818481085
         ],
         "yaxis": "y"
        },
        {
         "hovertemplate": "type=control_bank_non_event<br>date=%{x}<br>web_traffic=%{y}<extra></extra>",
         "legendgroup": "control_bank_non_event",
         "line": {
          "color": "#ab63fa",
          "dash": "solid"
         },
         "marker": {
          "symbol": "circle"
         },
         "mode": "lines",
         "name": "control_bank_non_event",
         "orientation": "v",
         "showlegend": true,
         "type": "scatter",
         "x": [
          "2021-12-01T00:00:00",
          "2022-01-01T00:00:00",
          "2022-02-01T00:00:00",
          "2022-03-01T00:00:00",
          "2022-04-01T00:00:00"
         ],
         "xaxis": "x",
         "y": [
          -0.38448045200327186,
          -0.37863243699964516,
          -0.35039542630991993,
          -0.33202828250833283,
          -0.3046548766826206
         ],
         "yaxis": "y"
        }
       ],
       "layout": {
        "legend": {
         "title": {
          "text": "Series"
         },
         "tracegroupgap": 0
        },
        "template": {
         "data": {
          "bar": [
           {
            "error_x": {
             "color": "#2a3f5f"
            },
            "error_y": {
             "color": "#2a3f5f"
            },
            "marker": {
             "line": {
              "color": "#E5ECF6",
              "width": 0.5
             },
             "pattern": {
              "fillmode": "overlay",
              "size": 10,
              "solidity": 0.2
             }
            },
            "type": "bar"
           }
          ],
          "barpolar": [
           {
            "marker": {
             "line": {
              "color": "#E5ECF6",
              "width": 0.5
             },
             "pattern": {
              "fillmode": "overlay",
              "size": 10,
              "solidity": 0.2
             }
            },
            "type": "barpolar"
           }
          ],
          "carpet": [
           {
            "aaxis": {
             "endlinecolor": "#2a3f5f",
             "gridcolor": "white",
             "linecolor": "white",
             "minorgridcolor": "white",
             "startlinecolor": "#2a3f5f"
            },
            "baxis": {
             "endlinecolor": "#2a3f5f",
             "gridcolor": "white",
             "linecolor": "white",
             "minorgridcolor": "white",
             "startlinecolor": "#2a3f5f"
            },
            "type": "carpet"
           }
          ],
          "choropleth": [
           {
            "colorbar": {
             "outlinewidth": 0,
             "ticks": ""
            },
            "type": "choropleth"
           }
          ],
          "contour": [
           {
            "colorbar": {
             "outlinewidth": 0,
             "ticks": ""
            },
            "colorscale": [
             [
              0,
              "#0d0887"
             ],
             [
              0.1111111111111111,
              "#46039f"
             ],
             [
              0.2222222222222222,
              "#7201a8"
             ],
             [
              0.3333333333333333,
              "#9c179e"
             ],
             [
              0.4444444444444444,
              "#bd3786"
             ],
             [
              0.5555555555555556,
              "#d8576b"
             ],
             [
              0.6666666666666666,
              "#ed7953"
             ],
             [
              0.7777777777777778,
              "#fb9f3a"
             ],
             [
              0.8888888888888888,
              "#fdca26"
             ],
             [
              1,
              "#f0f921"
             ]
            ],
            "type": "contour"
           }
          ],
          "contourcarpet": [
           {
            "colorbar": {
             "outlinewidth": 0,
             "ticks": ""
            },
            "type": "contourcarpet"
           }
          ],
          "heatmap": [
           {
            "colorbar": {
             "outlinewidth": 0,
             "ticks": ""
            },
            "colorscale": [
             [
              0,
              "#0d0887"
             ],
             [
              0.1111111111111111,
              "#46039f"
             ],
             [
              0.2222222222222222,
              "#7201a8"
             ],
             [
              0.3333333333333333,
              "#9c179e"
             ],
             [
              0.4444444444444444,
              "#bd3786"
             ],
             [
              0.5555555555555556,
              "#d8576b"
             ],
             [
              0.6666666666666666,
              "#ed7953"
             ],
             [
              0.7777777777777778,
              "#fb9f3a"
             ],
             [
              0.8888888888888888,
              "#fdca26"
             ],
             [
              1,
              "#f0f921"
             ]
            ],
            "type": "heatmap"
           }
          ],
          "heatmapgl": [
           {
            "colorbar": {
             "outlinewidth": 0,
             "ticks": ""
            },
            "colorscale": [
             [
              0,
              "#0d0887"
             ],
             [
              0.1111111111111111,
              "#46039f"
             ],
             [
              0.2222222222222222,
              "#7201a8"
             ],
             [
              0.3333333333333333,
              "#9c179e"
             ],
             [
              0.4444444444444444,
              "#bd3786"
             ],
             [
              0.5555555555555556,
              "#d8576b"
             ],
             [
              0.6666666666666666,
              "#ed7953"
             ],
             [
              0.7777777777777778,
              "#fb9f3a"
             ],
             [
              0.8888888888888888,
              "#fdca26"
             ],
             [
              1,
              "#f0f921"
             ]
            ],
            "type": "heatmapgl"
           }
          ],
          "histogram": [
           {
            "marker": {
             "pattern": {
              "fillmode": "overlay",
              "size": 10,
              "solidity": 0.2
             }
            },
            "type": "histogram"
           }
          ],
          "histogram2d": [
           {
            "colorbar": {
             "outlinewidth": 0,
             "ticks": ""
            },
            "colorscale": [
             [
              0,
              "#0d0887"
             ],
             [
              0.1111111111111111,
              "#46039f"
             ],
             [
              0.2222222222222222,
              "#7201a8"
             ],
             [
              0.3333333333333333,
              "#9c179e"
             ],
             [
              0.4444444444444444,
              "#bd3786"
             ],
             [
              0.5555555555555556,
              "#d8576b"
             ],
             [
              0.6666666666666666,
              "#ed7953"
             ],
             [
              0.7777777777777778,
              "#fb9f3a"
             ],
             [
              0.8888888888888888,
              "#fdca26"
             ],
             [
              1,
              "#f0f921"
             ]
            ],
            "type": "histogram2d"
           }
          ],
          "histogram2dcontour": [
           {
            "colorbar": {
             "outlinewidth": 0,
             "ticks": ""
            },
            "colorscale": [
             [
              0,
              "#0d0887"
             ],
             [
              0.1111111111111111,
              "#46039f"
             ],
             [
              0.2222222222222222,
              "#7201a8"
             ],
             [
              0.3333333333333333,
              "#9c179e"
             ],
             [
              0.4444444444444444,
              "#bd3786"
             ],
             [
              0.5555555555555556,
              "#d8576b"
             ],
             [
              0.6666666666666666,
              "#ed7953"
             ],
             [
              0.7777777777777778,
              "#fb9f3a"
             ],
             [
              0.8888888888888888,
              "#fdca26"
             ],
             [
              1,
              "#f0f921"
             ]
            ],
            "type": "histogram2dcontour"
           }
          ],
          "mesh3d": [
           {
            "colorbar": {
             "outlinewidth": 0,
             "ticks": ""
            },
            "type": "mesh3d"
           }
          ],
          "parcoords": [
           {
            "line": {
             "colorbar": {
              "outlinewidth": 0,
              "ticks": ""
             }
            },
            "type": "parcoords"
           }
          ],
          "pie": [
           {
            "automargin": true,
            "type": "pie"
           }
          ],
          "scatter": [
           {
            "fillpattern": {
             "fillmode": "overlay",
             "size": 10,
             "solidity": 0.2
            },
            "type": "scatter"
           }
          ],
          "scatter3d": [
           {
            "line": {
             "colorbar": {
              "outlinewidth": 0,
              "ticks": ""
             }
            },
            "marker": {
             "colorbar": {
              "outlinewidth": 0,
              "ticks": ""
             }
            },
            "type": "scatter3d"
           }
          ],
          "scattercarpet": [
           {
            "marker": {
             "colorbar": {
              "outlinewidth": 0,
              "ticks": ""
             }
            },
            "type": "scattercarpet"
           }
          ],
          "scattergeo": [
           {
            "marker": {
             "colorbar": {
              "outlinewidth": 0,
              "ticks": ""
             }
            },
            "type": "scattergeo"
           }
          ],
          "scattergl": [
           {
            "marker": {
             "colorbar": {
              "outlinewidth": 0,
              "ticks": ""
             }
            },
            "type": "scattergl"
           }
          ],
          "scattermapbox": [
           {
            "marker": {
             "colorbar": {
              "outlinewidth": 0,
              "ticks": ""
             }
            },
            "type": "scattermapbox"
           }
          ],
          "scatterpolar": [
           {
            "marker": {
             "colorbar": {
              "outlinewidth": 0,
              "ticks": ""
             }
            },
            "type": "scatterpolar"
           }
          ],
          "scatterpolargl": [
           {
            "marker": {
             "colorbar": {
              "outlinewidth": 0,
              "ticks": ""
             }
            },
            "type": "scatterpolargl"
           }
          ],
          "scatterternary": [
           {
            "marker": {
             "colorbar": {
              "outlinewidth": 0,
              "ticks": ""
             }
            },
            "type": "scatterternary"
           }
          ],
          "surface": [
           {
            "colorbar": {
             "outlinewidth": 0,
             "ticks": ""
            },
            "colorscale": [
             [
              0,
              "#0d0887"
             ],
             [
              0.1111111111111111,
              "#46039f"
             ],
             [
              0.2222222222222222,
              "#7201a8"
             ],
             [
              0.3333333333333333,
              "#9c179e"
             ],
             [
              0.4444444444444444,
              "#bd3786"
             ],
             [
              0.5555555555555556,
              "#d8576b"
             ],
             [
              0.6666666666666666,
              "#ed7953"
             ],
             [
              0.7777777777777778,
              "#fb9f3a"
             ],
             [
              0.8888888888888888,
              "#fdca26"
             ],
             [
              1,
              "#f0f921"
             ]
            ],
            "type": "surface"
           }
          ],
          "table": [
           {
            "cells": {
             "fill": {
              "color": "#EBF0F8"
             },
             "line": {
              "color": "white"
             }
            },
            "header": {
             "fill": {
              "color": "#C8D4E3"
             },
             "line": {
              "color": "white"
             }
            },
            "type": "table"
           }
          ]
         },
         "layout": {
          "annotationdefaults": {
           "arrowcolor": "#2a3f5f",
           "arrowhead": 0,
           "arrowwidth": 1
          },
          "autotypenumbers": "strict",
          "coloraxis": {
           "colorbar": {
            "outlinewidth": 0,
            "ticks": ""
           }
          },
          "colorscale": {
           "diverging": [
            [
             0,
             "#8e0152"
            ],
            [
             0.1,
             "#c51b7d"
            ],
            [
             0.2,
             "#de77ae"
            ],
            [
             0.3,
             "#f1b6da"
            ],
            [
             0.4,
             "#fde0ef"
            ],
            [
             0.5,
             "#f7f7f7"
            ],
            [
             0.6,
             "#e6f5d0"
            ],
            [
             0.7,
             "#b8e186"
            ],
            [
             0.8,
             "#7fbc41"
            ],
            [
             0.9,
             "#4d9221"
            ],
            [
             1,
             "#276419"
            ]
           ],
           "sequential": [
            [
             0,
             "#0d0887"
            ],
            [
             0.1111111111111111,
             "#46039f"
            ],
            [
             0.2222222222222222,
             "#7201a8"
            ],
            [
             0.3333333333333333,
             "#9c179e"
            ],
            [
             0.4444444444444444,
             "#bd3786"
            ],
            [
             0.5555555555555556,
             "#d8576b"
            ],
            [
             0.6666666666666666,
             "#ed7953"
            ],
            [
             0.7777777777777778,
             "#fb9f3a"
            ],
            [
             0.8888888888888888,
             "#fdca26"
            ],
            [
             1,
             "#f0f921"
            ]
           ],
           "sequentialminus": [
            [
             0,
             "#0d0887"
            ],
            [
             0.1111111111111111,
             "#46039f"
            ],
            [
             0.2222222222222222,
             "#7201a8"
            ],
            [
             0.3333333333333333,
             "#9c179e"
            ],
            [
             0.4444444444444444,
             "#bd3786"
            ],
            [
             0.5555555555555556,
             "#d8576b"
            ],
            [
             0.6666666666666666,
             "#ed7953"
            ],
            [
             0.7777777777777778,
             "#fb9f3a"
            ],
            [
             0.8888888888888888,
             "#fdca26"
            ],
            [
             1,
             "#f0f921"
            ]
           ]
          },
          "colorway": [
           "#636efa",
           "#EF553B",
           "#00cc96",
           "#ab63fa",
           "#FFA15A",
           "#19d3f3",
           "#FF6692",
           "#B6E880",
           "#FF97FF",
           "#FECB52"
          ],
          "font": {
           "color": "#2a3f5f"
          },
          "geo": {
           "bgcolor": "white",
           "lakecolor": "white",
           "landcolor": "#E5ECF6",
           "showlakes": true,
           "showland": true,
           "subunitcolor": "white"
          },
          "hoverlabel": {
           "align": "left"
          },
          "hovermode": "closest",
          "mapbox": {
           "style": "light"
          },
          "paper_bgcolor": "white",
          "plot_bgcolor": "#E5ECF6",
          "polar": {
           "angularaxis": {
            "gridcolor": "white",
            "linecolor": "white",
            "ticks": ""
           },
           "bgcolor": "#E5ECF6",
           "radialaxis": {
            "gridcolor": "white",
            "linecolor": "white",
            "ticks": ""
           }
          },
          "scene": {
           "xaxis": {
            "backgroundcolor": "#E5ECF6",
            "gridcolor": "white",
            "gridwidth": 2,
            "linecolor": "white",
            "showbackground": true,
            "ticks": "",
            "zerolinecolor": "white"
           },
           "yaxis": {
            "backgroundcolor": "#E5ECF6",
            "gridcolor": "white",
            "gridwidth": 2,
            "linecolor": "white",
            "showbackground": true,
            "ticks": "",
            "zerolinecolor": "white"
           },
           "zaxis": {
            "backgroundcolor": "#E5ECF6",
            "gridcolor": "white",
            "gridwidth": 2,
            "linecolor": "white",
            "showbackground": true,
            "ticks": "",
            "zerolinecolor": "white"
           }
          },
          "shapedefaults": {
           "line": {
            "color": "#2a3f5f"
           }
          },
          "ternary": {
           "aaxis": {
            "gridcolor": "white",
            "linecolor": "white",
            "ticks": ""
           },
           "baxis": {
            "gridcolor": "white",
            "linecolor": "white",
            "ticks": ""
           },
           "bgcolor": "#E5ECF6",
           "caxis": {
            "gridcolor": "white",
            "linecolor": "white",
            "ticks": ""
           }
          },
          "title": {
           "x": 0.05
          },
          "xaxis": {
           "automargin": true,
           "gridcolor": "white",
           "linecolor": "white",
           "ticks": "",
           "title": {
            "standoff": 15
           },
           "zerolinecolor": "white",
           "zerolinewidth": 2
          },
          "yaxis": {
           "automargin": true,
           "gridcolor": "white",
           "linecolor": "white",
           "ticks": "",
           "title": {
            "standoff": 15
           },
           "zerolinecolor": "white",
           "zerolinewidth": 2
          }
         }
        },
        "title": {
         "text": "Web Traffic Across Different Series - Incentive"
        },
        "xaxis": {
         "anchor": "y",
         "domain": [
          0,
          1
         ],
         "title": {
          "text": "date"
         }
        },
        "yaxis": {
         "anchor": "x",
         "domain": [
          0,
          1
         ],
         "title": {
          "text": "web_traffic"
         }
        }
       }
      }
     },
     "metadata": {},
     "output_type": "display_data"
    },
    {
     "name": "stdout",
     "output_type": "stream",
     "text": [
      "evobanco * avg\n"
     ]
    },
    {
     "data": {
      "application/vnd.plotly.v1+json": {
       "config": {
        "plotlyServerURL": "https://plot.ly"
       },
       "data": [
        {
         "hovertemplate": "type=bank_of_interest_event<br>date=%{x}<br>web_traffic=%{y}<extra></extra>",
         "legendgroup": "bank_of_interest_event",
         "line": {
          "color": "#636efa",
          "dash": "solid"
         },
         "marker": {
          "symbol": "circle"
         },
         "mode": "lines",
         "name": "bank_of_interest_event",
         "orientation": "v",
         "showlegend": true,
         "type": "scatter",
         "x": [
          "2023-02-01T00:00:00",
          "2023-03-01T00:00:00",
          "2023-04-01T00:00:00",
          "2023-05-01T00:00:00",
          "2023-06-01T00:00:00"
         ],
         "xaxis": "x",
         "y": [
          -0.9769392764768299,
          -1.475834769869688,
          -0.8337932964519055,
          -0.6313377714483502,
          -0.28316021720313983
         ],
         "yaxis": "y"
        },
        {
         "hovertemplate": "type=control_bank_event<br>date=%{x}<br>web_traffic=%{y}<extra></extra>",
         "legendgroup": "control_bank_event",
         "line": {
          "color": "#EF553B",
          "dash": "solid"
         },
         "marker": {
          "symbol": "circle"
         },
         "mode": "lines",
         "name": "control_bank_event",
         "orientation": "v",
         "showlegend": true,
         "type": "scatter",
         "x": [
          "2023-02-01T00:00:00",
          "2023-03-01T00:00:00",
          "2023-04-01T00:00:00",
          "2023-05-01T00:00:00",
          "2023-06-01T00:00:00"
         ],
         "xaxis": "x",
         "y": [
          -0.17129802597679838,
          -0.25574758069762726,
          -0.7314993612633027,
          -0.30510087662955937,
          -0.5408893381877345
         ],
         "yaxis": "y"
        },
        {
         "hovertemplate": "type=bank_of_interest_non_event<br>date=%{x}<br>web_traffic=%{y}<extra></extra>",
         "legendgroup": "bank_of_interest_non_event",
         "line": {
          "color": "#00cc96",
          "dash": "solid"
         },
         "marker": {
          "symbol": "circle"
         },
         "mode": "lines",
         "name": "bank_of_interest_non_event",
         "orientation": "v",
         "showlegend": true,
         "type": "scatter",
         "x": [
          "2021-12-01T00:00:00",
          "2022-01-01T00:00:00",
          "2022-02-01T00:00:00",
          "2022-03-01T00:00:00",
          "2022-04-01T00:00:00"
         ],
         "xaxis": "x",
         "y": [
          -1.2753489059797554,
          -1.395491972163825,
          -1.0752697028452483,
          -0.5345234970330494,
          -1.2813862818481085
         ],
         "yaxis": "y"
        },
        {
         "hovertemplate": "type=control_bank_non_event<br>date=%{x}<br>web_traffic=%{y}<extra></extra>",
         "legendgroup": "control_bank_non_event",
         "line": {
          "color": "#ab63fa",
          "dash": "solid"
         },
         "marker": {
          "symbol": "circle"
         },
         "mode": "lines",
         "name": "control_bank_non_event",
         "orientation": "v",
         "showlegend": true,
         "type": "scatter",
         "x": [
          "2021-12-01T00:00:00",
          "2022-01-01T00:00:00",
          "2022-02-01T00:00:00",
          "2022-03-01T00:00:00",
          "2022-04-01T00:00:00"
         ],
         "xaxis": "x",
         "y": [
          -0.38448045200327186,
          -0.37863243699964516,
          -0.35039542630991993,
          -0.33202828250833283,
          -0.3046548766826206
         ],
         "yaxis": "y"
        }
       ],
       "layout": {
        "legend": {
         "title": {
          "text": "Series"
         },
         "tracegroupgap": 0
        },
        "template": {
         "data": {
          "bar": [
           {
            "error_x": {
             "color": "#2a3f5f"
            },
            "error_y": {
             "color": "#2a3f5f"
            },
            "marker": {
             "line": {
              "color": "#E5ECF6",
              "width": 0.5
             },
             "pattern": {
              "fillmode": "overlay",
              "size": 10,
              "solidity": 0.2
             }
            },
            "type": "bar"
           }
          ],
          "barpolar": [
           {
            "marker": {
             "line": {
              "color": "#E5ECF6",
              "width": 0.5
             },
             "pattern": {
              "fillmode": "overlay",
              "size": 10,
              "solidity": 0.2
             }
            },
            "type": "barpolar"
           }
          ],
          "carpet": [
           {
            "aaxis": {
             "endlinecolor": "#2a3f5f",
             "gridcolor": "white",
             "linecolor": "white",
             "minorgridcolor": "white",
             "startlinecolor": "#2a3f5f"
            },
            "baxis": {
             "endlinecolor": "#2a3f5f",
             "gridcolor": "white",
             "linecolor": "white",
             "minorgridcolor": "white",
             "startlinecolor": "#2a3f5f"
            },
            "type": "carpet"
           }
          ],
          "choropleth": [
           {
            "colorbar": {
             "outlinewidth": 0,
             "ticks": ""
            },
            "type": "choropleth"
           }
          ],
          "contour": [
           {
            "colorbar": {
             "outlinewidth": 0,
             "ticks": ""
            },
            "colorscale": [
             [
              0,
              "#0d0887"
             ],
             [
              0.1111111111111111,
              "#46039f"
             ],
             [
              0.2222222222222222,
              "#7201a8"
             ],
             [
              0.3333333333333333,
              "#9c179e"
             ],
             [
              0.4444444444444444,
              "#bd3786"
             ],
             [
              0.5555555555555556,
              "#d8576b"
             ],
             [
              0.6666666666666666,
              "#ed7953"
             ],
             [
              0.7777777777777778,
              "#fb9f3a"
             ],
             [
              0.8888888888888888,
              "#fdca26"
             ],
             [
              1,
              "#f0f921"
             ]
            ],
            "type": "contour"
           }
          ],
          "contourcarpet": [
           {
            "colorbar": {
             "outlinewidth": 0,
             "ticks": ""
            },
            "type": "contourcarpet"
           }
          ],
          "heatmap": [
           {
            "colorbar": {
             "outlinewidth": 0,
             "ticks": ""
            },
            "colorscale": [
             [
              0,
              "#0d0887"
             ],
             [
              0.1111111111111111,
              "#46039f"
             ],
             [
              0.2222222222222222,
              "#7201a8"
             ],
             [
              0.3333333333333333,
              "#9c179e"
             ],
             [
              0.4444444444444444,
              "#bd3786"
             ],
             [
              0.5555555555555556,
              "#d8576b"
             ],
             [
              0.6666666666666666,
              "#ed7953"
             ],
             [
              0.7777777777777778,
              "#fb9f3a"
             ],
             [
              0.8888888888888888,
              "#fdca26"
             ],
             [
              1,
              "#f0f921"
             ]
            ],
            "type": "heatmap"
           }
          ],
          "heatmapgl": [
           {
            "colorbar": {
             "outlinewidth": 0,
             "ticks": ""
            },
            "colorscale": [
             [
              0,
              "#0d0887"
             ],
             [
              0.1111111111111111,
              "#46039f"
             ],
             [
              0.2222222222222222,
              "#7201a8"
             ],
             [
              0.3333333333333333,
              "#9c179e"
             ],
             [
              0.4444444444444444,
              "#bd3786"
             ],
             [
              0.5555555555555556,
              "#d8576b"
             ],
             [
              0.6666666666666666,
              "#ed7953"
             ],
             [
              0.7777777777777778,
              "#fb9f3a"
             ],
             [
              0.8888888888888888,
              "#fdca26"
             ],
             [
              1,
              "#f0f921"
             ]
            ],
            "type": "heatmapgl"
           }
          ],
          "histogram": [
           {
            "marker": {
             "pattern": {
              "fillmode": "overlay",
              "size": 10,
              "solidity": 0.2
             }
            },
            "type": "histogram"
           }
          ],
          "histogram2d": [
           {
            "colorbar": {
             "outlinewidth": 0,
             "ticks": ""
            },
            "colorscale": [
             [
              0,
              "#0d0887"
             ],
             [
              0.1111111111111111,
              "#46039f"
             ],
             [
              0.2222222222222222,
              "#7201a8"
             ],
             [
              0.3333333333333333,
              "#9c179e"
             ],
             [
              0.4444444444444444,
              "#bd3786"
             ],
             [
              0.5555555555555556,
              "#d8576b"
             ],
             [
              0.6666666666666666,
              "#ed7953"
             ],
             [
              0.7777777777777778,
              "#fb9f3a"
             ],
             [
              0.8888888888888888,
              "#fdca26"
             ],
             [
              1,
              "#f0f921"
             ]
            ],
            "type": "histogram2d"
           }
          ],
          "histogram2dcontour": [
           {
            "colorbar": {
             "outlinewidth": 0,
             "ticks": ""
            },
            "colorscale": [
             [
              0,
              "#0d0887"
             ],
             [
              0.1111111111111111,
              "#46039f"
             ],
             [
              0.2222222222222222,
              "#7201a8"
             ],
             [
              0.3333333333333333,
              "#9c179e"
             ],
             [
              0.4444444444444444,
              "#bd3786"
             ],
             [
              0.5555555555555556,
              "#d8576b"
             ],
             [
              0.6666666666666666,
              "#ed7953"
             ],
             [
              0.7777777777777778,
              "#fb9f3a"
             ],
             [
              0.8888888888888888,
              "#fdca26"
             ],
             [
              1,
              "#f0f921"
             ]
            ],
            "type": "histogram2dcontour"
           }
          ],
          "mesh3d": [
           {
            "colorbar": {
             "outlinewidth": 0,
             "ticks": ""
            },
            "type": "mesh3d"
           }
          ],
          "parcoords": [
           {
            "line": {
             "colorbar": {
              "outlinewidth": 0,
              "ticks": ""
             }
            },
            "type": "parcoords"
           }
          ],
          "pie": [
           {
            "automargin": true,
            "type": "pie"
           }
          ],
          "scatter": [
           {
            "fillpattern": {
             "fillmode": "overlay",
             "size": 10,
             "solidity": 0.2
            },
            "type": "scatter"
           }
          ],
          "scatter3d": [
           {
            "line": {
             "colorbar": {
              "outlinewidth": 0,
              "ticks": ""
             }
            },
            "marker": {
             "colorbar": {
              "outlinewidth": 0,
              "ticks": ""
             }
            },
            "type": "scatter3d"
           }
          ],
          "scattercarpet": [
           {
            "marker": {
             "colorbar": {
              "outlinewidth": 0,
              "ticks": ""
             }
            },
            "type": "scattercarpet"
           }
          ],
          "scattergeo": [
           {
            "marker": {
             "colorbar": {
              "outlinewidth": 0,
              "ticks": ""
             }
            },
            "type": "scattergeo"
           }
          ],
          "scattergl": [
           {
            "marker": {
             "colorbar": {
              "outlinewidth": 0,
              "ticks": ""
             }
            },
            "type": "scattergl"
           }
          ],
          "scattermapbox": [
           {
            "marker": {
             "colorbar": {
              "outlinewidth": 0,
              "ticks": ""
             }
            },
            "type": "scattermapbox"
           }
          ],
          "scatterpolar": [
           {
            "marker": {
             "colorbar": {
              "outlinewidth": 0,
              "ticks": ""
             }
            },
            "type": "scatterpolar"
           }
          ],
          "scatterpolargl": [
           {
            "marker": {
             "colorbar": {
              "outlinewidth": 0,
              "ticks": ""
             }
            },
            "type": "scatterpolargl"
           }
          ],
          "scatterternary": [
           {
            "marker": {
             "colorbar": {
              "outlinewidth": 0,
              "ticks": ""
             }
            },
            "type": "scatterternary"
           }
          ],
          "surface": [
           {
            "colorbar": {
             "outlinewidth": 0,
             "ticks": ""
            },
            "colorscale": [
             [
              0,
              "#0d0887"
             ],
             [
              0.1111111111111111,
              "#46039f"
             ],
             [
              0.2222222222222222,
              "#7201a8"
             ],
             [
              0.3333333333333333,
              "#9c179e"
             ],
             [
              0.4444444444444444,
              "#bd3786"
             ],
             [
              0.5555555555555556,
              "#d8576b"
             ],
             [
              0.6666666666666666,
              "#ed7953"
             ],
             [
              0.7777777777777778,
              "#fb9f3a"
             ],
             [
              0.8888888888888888,
              "#fdca26"
             ],
             [
              1,
              "#f0f921"
             ]
            ],
            "type": "surface"
           }
          ],
          "table": [
           {
            "cells": {
             "fill": {
              "color": "#EBF0F8"
             },
             "line": {
              "color": "white"
             }
            },
            "header": {
             "fill": {
              "color": "#C8D4E3"
             },
             "line": {
              "color": "white"
             }
            },
            "type": "table"
           }
          ]
         },
         "layout": {
          "annotationdefaults": {
           "arrowcolor": "#2a3f5f",
           "arrowhead": 0,
           "arrowwidth": 1
          },
          "autotypenumbers": "strict",
          "coloraxis": {
           "colorbar": {
            "outlinewidth": 0,
            "ticks": ""
           }
          },
          "colorscale": {
           "diverging": [
            [
             0,
             "#8e0152"
            ],
            [
             0.1,
             "#c51b7d"
            ],
            [
             0.2,
             "#de77ae"
            ],
            [
             0.3,
             "#f1b6da"
            ],
            [
             0.4,
             "#fde0ef"
            ],
            [
             0.5,
             "#f7f7f7"
            ],
            [
             0.6,
             "#e6f5d0"
            ],
            [
             0.7,
             "#b8e186"
            ],
            [
             0.8,
             "#7fbc41"
            ],
            [
             0.9,
             "#4d9221"
            ],
            [
             1,
             "#276419"
            ]
           ],
           "sequential": [
            [
             0,
             "#0d0887"
            ],
            [
             0.1111111111111111,
             "#46039f"
            ],
            [
             0.2222222222222222,
             "#7201a8"
            ],
            [
             0.3333333333333333,
             "#9c179e"
            ],
            [
             0.4444444444444444,
             "#bd3786"
            ],
            [
             0.5555555555555556,
             "#d8576b"
            ],
            [
             0.6666666666666666,
             "#ed7953"
            ],
            [
             0.7777777777777778,
             "#fb9f3a"
            ],
            [
             0.8888888888888888,
             "#fdca26"
            ],
            [
             1,
             "#f0f921"
            ]
           ],
           "sequentialminus": [
            [
             0,
             "#0d0887"
            ],
            [
             0.1111111111111111,
             "#46039f"
            ],
            [
             0.2222222222222222,
             "#7201a8"
            ],
            [
             0.3333333333333333,
             "#9c179e"
            ],
            [
             0.4444444444444444,
             "#bd3786"
            ],
            [
             0.5555555555555556,
             "#d8576b"
            ],
            [
             0.6666666666666666,
             "#ed7953"
            ],
            [
             0.7777777777777778,
             "#fb9f3a"
            ],
            [
             0.8888888888888888,
             "#fdca26"
            ],
            [
             1,
             "#f0f921"
            ]
           ]
          },
          "colorway": [
           "#636efa",
           "#EF553B",
           "#00cc96",
           "#ab63fa",
           "#FFA15A",
           "#19d3f3",
           "#FF6692",
           "#B6E880",
           "#FF97FF",
           "#FECB52"
          ],
          "font": {
           "color": "#2a3f5f"
          },
          "geo": {
           "bgcolor": "white",
           "lakecolor": "white",
           "landcolor": "#E5ECF6",
           "showlakes": true,
           "showland": true,
           "subunitcolor": "white"
          },
          "hoverlabel": {
           "align": "left"
          },
          "hovermode": "closest",
          "mapbox": {
           "style": "light"
          },
          "paper_bgcolor": "white",
          "plot_bgcolor": "#E5ECF6",
          "polar": {
           "angularaxis": {
            "gridcolor": "white",
            "linecolor": "white",
            "ticks": ""
           },
           "bgcolor": "#E5ECF6",
           "radialaxis": {
            "gridcolor": "white",
            "linecolor": "white",
            "ticks": ""
           }
          },
          "scene": {
           "xaxis": {
            "backgroundcolor": "#E5ECF6",
            "gridcolor": "white",
            "gridwidth": 2,
            "linecolor": "white",
            "showbackground": true,
            "ticks": "",
            "zerolinecolor": "white"
           },
           "yaxis": {
            "backgroundcolor": "#E5ECF6",
            "gridcolor": "white",
            "gridwidth": 2,
            "linecolor": "white",
            "showbackground": true,
            "ticks": "",
            "zerolinecolor": "white"
           },
           "zaxis": {
            "backgroundcolor": "#E5ECF6",
            "gridcolor": "white",
            "gridwidth": 2,
            "linecolor": "white",
            "showbackground": true,
            "ticks": "",
            "zerolinecolor": "white"
           }
          },
          "shapedefaults": {
           "line": {
            "color": "#2a3f5f"
           }
          },
          "ternary": {
           "aaxis": {
            "gridcolor": "white",
            "linecolor": "white",
            "ticks": ""
           },
           "baxis": {
            "gridcolor": "white",
            "linecolor": "white",
            "ticks": ""
           },
           "bgcolor": "#E5ECF6",
           "caxis": {
            "gridcolor": "white",
            "linecolor": "white",
            "ticks": ""
           }
          },
          "title": {
           "x": 0.05
          },
          "xaxis": {
           "automargin": true,
           "gridcolor": "white",
           "linecolor": "white",
           "ticks": "",
           "title": {
            "standoff": 15
           },
           "zerolinecolor": "white",
           "zerolinewidth": 2
          },
          "yaxis": {
           "automargin": true,
           "gridcolor": "white",
           "linecolor": "white",
           "ticks": "",
           "title": {
            "standoff": 15
           },
           "zerolinecolor": "white",
           "zerolinewidth": 2
          }
         }
        },
        "title": {
         "text": "Web Traffic Across Different Series - Incentive"
        },
        "xaxis": {
         "anchor": "y",
         "domain": [
          0,
          1
         ],
         "title": {
          "text": "date"
         }
        },
        "yaxis": {
         "anchor": "x",
         "domain": [
          0,
          1
         ],
         "title": {
          "text": "web_traffic"
         }
        }
       }
      }
     },
     "metadata": {},
     "output_type": "display_data"
    }
   ],
   "source": [
    "for test_regression in all_regressions_apr['regressions']:\n",
    "    print(test_regression['banks_for_regression'])\n",
    "    bank_of_interest_event_series = test_regression['bank_of_interest_event_series']    \n",
    "    control_bank_event_series = test_regression['control_bank_event_series']\n",
    "    bank_of_interest_non_event_series = test_regression['bank_of_interest_non_event_series']\n",
    "    control_bank_non_event_series = test_regression['control_bank_non_event_series']\n",
    "\n",
    "    bank_of_interest_event_series['series'] = 'Bank of Interest Event'\n",
    "    control_bank_event_series['series'] = 'Control Bank Event'\n",
    "    bank_of_interest_non_event_series['series'] = 'Bank of Interest Non Event'\n",
    "    control_bank_non_event_series['series'] = 'Control Bank Non Event'\n",
    "\n",
    "     # Add a 'type' and 'period' columns to each DataFrame\n",
    "    bank_of_interest_event_series['type'] = 'bank_of_interest_event'\n",
    "    control_bank_event_series['type'] = 'control_bank_event'\n",
    "    bank_of_interest_non_event_series['type'] = 'bank_of_interest_non_event'\n",
    "    control_bank_non_event_series['type'] = 'control_bank_non_event'\n",
    "\n",
    "    bank_of_interest_event_series['period'] = 'post'\n",
    "    control_bank_event_series['period'] = 'post'\n",
    "    bank_of_interest_non_event_series['period'] = 'pre'\n",
    "    control_bank_non_event_series['period'] = 'pre'\n",
    "\n",
    "    # Concatenate all dataframes into one\n",
    "    combined_df = pd.concat([\n",
    "        bank_of_interest_event_series,\n",
    "        control_bank_event_series,\n",
    "        bank_of_interest_non_event_series,\n",
    "        control_bank_non_event_series\n",
    "    ])\n",
    "\n",
    "    \n",
    "\n",
    "    # Plot the combined dataframe\n",
    "    fig = px.line(combined_df, x='date', y='web_traffic', color='type', title='Web Traffic Across Different Series - Incentive')\n",
    "\n",
    "    # change legend\n",
    "    fig.update_layout(legend_title_text='Series')\n",
    "    \n",
    "\n",
    "\n",
    "    fig.show()\n"
   ]
  },
  {
   "cell_type": "code",
   "execution_count": 666,
   "metadata": {},
   "outputs": [
    {
     "name": "stdout",
     "output_type": "stream",
     "text": [
      "abanca * avg\n"
     ]
    },
    {
     "data": {
      "application/vnd.plotly.v1+json": {
       "config": {
        "plotlyServerURL": "https://plot.ly"
       },
       "data": [
        {
         "hovertemplate": "type=bank_of_interest_event<br>date=%{x}<br>web_traffic=%{y}<extra></extra>",
         "legendgroup": "bank_of_interest_event",
         "line": {
          "color": "#636efa",
          "dash": "solid"
         },
         "marker": {
          "symbol": "circle"
         },
         "mode": "lines",
         "name": "bank_of_interest_event",
         "orientation": "v",
         "showlegend": true,
         "type": "scatter",
         "x": [
          "2023-05-01T00:00:00",
          "2023-06-01T00:00:00",
          "2023-07-01T00:00:00",
          "2023-08-01T00:00:00",
          "2023-09-01T00:00:00"
         ],
         "xaxis": "x",
         "y": [
          1.4431028423252863,
          1.5652243119695013,
          1.7745131063147477,
          1.9428699907629914,
          1.6395155246128725
         ],
         "yaxis": "y"
        },
        {
         "hovertemplate": "type=control_bank_event<br>date=%{x}<br>web_traffic=%{y}<extra></extra>",
         "legendgroup": "control_bank_event",
         "line": {
          "color": "#EF553B",
          "dash": "solid"
         },
         "marker": {
          "symbol": "circle"
         },
         "mode": "lines",
         "name": "control_bank_event",
         "orientation": "v",
         "showlegend": true,
         "type": "scatter",
         "x": [
          "2023-05-01T00:00:00",
          "2023-06-01T00:00:00",
          "2023-07-01T00:00:00",
          "2023-08-01T00:00:00",
          "2023-09-01T00:00:00"
         ],
         "xaxis": "x",
         "y": [
          -0.529066351191031,
          -0.8705288322680645,
          -0.5486138684559918,
          -1.7883009498022373,
          -0.2580702624673923
         ],
         "yaxis": "y"
        },
        {
         "hovertemplate": "type=bank_of_interest_non_event<br>date=%{x}<br>web_traffic=%{y}<extra></extra>",
         "legendgroup": "bank_of_interest_non_event",
         "line": {
          "color": "#00cc96",
          "dash": "solid"
         },
         "marker": {
          "symbol": "circle"
         },
         "mode": "lines",
         "name": "bank_of_interest_non_event",
         "orientation": "v",
         "showlegend": true,
         "type": "scatter",
         "x": [
          "2022-05-01T00:00:00",
          "2022-06-01T00:00:00",
          "2022-07-01T00:00:00",
          "2022-08-01T00:00:00",
          "2022-09-01T00:00:00"
         ],
         "xaxis": "x",
         "y": [
          0.7019192716703138,
          0.8843203178073472,
          1.518389573507872,
          1.3636751422227615,
          1.301022184570808
         ],
         "yaxis": "y"
        },
        {
         "hovertemplate": "type=control_bank_non_event<br>date=%{x}<br>web_traffic=%{y}<extra></extra>",
         "legendgroup": "control_bank_non_event",
         "line": {
          "color": "#ab63fa",
          "dash": "solid"
         },
         "marker": {
          "symbol": "circle"
         },
         "mode": "lines",
         "name": "control_bank_non_event",
         "orientation": "v",
         "showlegend": true,
         "type": "scatter",
         "x": [
          "2022-05-01T00:00:00",
          "2022-06-01T00:00:00",
          "2022-07-01T00:00:00",
          "2022-08-01T00:00:00",
          "2022-09-01T00:00:00"
         ],
         "xaxis": "x",
         "y": [
          -0.022895120134510144,
          -0.3379946844113209,
          -0.31045674380486615,
          -0.06518554187932414,
          0.0771703726371376
         ],
         "yaxis": "y"
        }
       ],
       "layout": {
        "legend": {
         "title": {
          "text": "Series"
         },
         "tracegroupgap": 0
        },
        "template": {
         "data": {
          "bar": [
           {
            "error_x": {
             "color": "#2a3f5f"
            },
            "error_y": {
             "color": "#2a3f5f"
            },
            "marker": {
             "line": {
              "color": "#E5ECF6",
              "width": 0.5
             },
             "pattern": {
              "fillmode": "overlay",
              "size": 10,
              "solidity": 0.2
             }
            },
            "type": "bar"
           }
          ],
          "barpolar": [
           {
            "marker": {
             "line": {
              "color": "#E5ECF6",
              "width": 0.5
             },
             "pattern": {
              "fillmode": "overlay",
              "size": 10,
              "solidity": 0.2
             }
            },
            "type": "barpolar"
           }
          ],
          "carpet": [
           {
            "aaxis": {
             "endlinecolor": "#2a3f5f",
             "gridcolor": "white",
             "linecolor": "white",
             "minorgridcolor": "white",
             "startlinecolor": "#2a3f5f"
            },
            "baxis": {
             "endlinecolor": "#2a3f5f",
             "gridcolor": "white",
             "linecolor": "white",
             "minorgridcolor": "white",
             "startlinecolor": "#2a3f5f"
            },
            "type": "carpet"
           }
          ],
          "choropleth": [
           {
            "colorbar": {
             "outlinewidth": 0,
             "ticks": ""
            },
            "type": "choropleth"
           }
          ],
          "contour": [
           {
            "colorbar": {
             "outlinewidth": 0,
             "ticks": ""
            },
            "colorscale": [
             [
              0,
              "#0d0887"
             ],
             [
              0.1111111111111111,
              "#46039f"
             ],
             [
              0.2222222222222222,
              "#7201a8"
             ],
             [
              0.3333333333333333,
              "#9c179e"
             ],
             [
              0.4444444444444444,
              "#bd3786"
             ],
             [
              0.5555555555555556,
              "#d8576b"
             ],
             [
              0.6666666666666666,
              "#ed7953"
             ],
             [
              0.7777777777777778,
              "#fb9f3a"
             ],
             [
              0.8888888888888888,
              "#fdca26"
             ],
             [
              1,
              "#f0f921"
             ]
            ],
            "type": "contour"
           }
          ],
          "contourcarpet": [
           {
            "colorbar": {
             "outlinewidth": 0,
             "ticks": ""
            },
            "type": "contourcarpet"
           }
          ],
          "heatmap": [
           {
            "colorbar": {
             "outlinewidth": 0,
             "ticks": ""
            },
            "colorscale": [
             [
              0,
              "#0d0887"
             ],
             [
              0.1111111111111111,
              "#46039f"
             ],
             [
              0.2222222222222222,
              "#7201a8"
             ],
             [
              0.3333333333333333,
              "#9c179e"
             ],
             [
              0.4444444444444444,
              "#bd3786"
             ],
             [
              0.5555555555555556,
              "#d8576b"
             ],
             [
              0.6666666666666666,
              "#ed7953"
             ],
             [
              0.7777777777777778,
              "#fb9f3a"
             ],
             [
              0.8888888888888888,
              "#fdca26"
             ],
             [
              1,
              "#f0f921"
             ]
            ],
            "type": "heatmap"
           }
          ],
          "heatmapgl": [
           {
            "colorbar": {
             "outlinewidth": 0,
             "ticks": ""
            },
            "colorscale": [
             [
              0,
              "#0d0887"
             ],
             [
              0.1111111111111111,
              "#46039f"
             ],
             [
              0.2222222222222222,
              "#7201a8"
             ],
             [
              0.3333333333333333,
              "#9c179e"
             ],
             [
              0.4444444444444444,
              "#bd3786"
             ],
             [
              0.5555555555555556,
              "#d8576b"
             ],
             [
              0.6666666666666666,
              "#ed7953"
             ],
             [
              0.7777777777777778,
              "#fb9f3a"
             ],
             [
              0.8888888888888888,
              "#fdca26"
             ],
             [
              1,
              "#f0f921"
             ]
            ],
            "type": "heatmapgl"
           }
          ],
          "histogram": [
           {
            "marker": {
             "pattern": {
              "fillmode": "overlay",
              "size": 10,
              "solidity": 0.2
             }
            },
            "type": "histogram"
           }
          ],
          "histogram2d": [
           {
            "colorbar": {
             "outlinewidth": 0,
             "ticks": ""
            },
            "colorscale": [
             [
              0,
              "#0d0887"
             ],
             [
              0.1111111111111111,
              "#46039f"
             ],
             [
              0.2222222222222222,
              "#7201a8"
             ],
             [
              0.3333333333333333,
              "#9c179e"
             ],
             [
              0.4444444444444444,
              "#bd3786"
             ],
             [
              0.5555555555555556,
              "#d8576b"
             ],
             [
              0.6666666666666666,
              "#ed7953"
             ],
             [
              0.7777777777777778,
              "#fb9f3a"
             ],
             [
              0.8888888888888888,
              "#fdca26"
             ],
             [
              1,
              "#f0f921"
             ]
            ],
            "type": "histogram2d"
           }
          ],
          "histogram2dcontour": [
           {
            "colorbar": {
             "outlinewidth": 0,
             "ticks": ""
            },
            "colorscale": [
             [
              0,
              "#0d0887"
             ],
             [
              0.1111111111111111,
              "#46039f"
             ],
             [
              0.2222222222222222,
              "#7201a8"
             ],
             [
              0.3333333333333333,
              "#9c179e"
             ],
             [
              0.4444444444444444,
              "#bd3786"
             ],
             [
              0.5555555555555556,
              "#d8576b"
             ],
             [
              0.6666666666666666,
              "#ed7953"
             ],
             [
              0.7777777777777778,
              "#fb9f3a"
             ],
             [
              0.8888888888888888,
              "#fdca26"
             ],
             [
              1,
              "#f0f921"
             ]
            ],
            "type": "histogram2dcontour"
           }
          ],
          "mesh3d": [
           {
            "colorbar": {
             "outlinewidth": 0,
             "ticks": ""
            },
            "type": "mesh3d"
           }
          ],
          "parcoords": [
           {
            "line": {
             "colorbar": {
              "outlinewidth": 0,
              "ticks": ""
             }
            },
            "type": "parcoords"
           }
          ],
          "pie": [
           {
            "automargin": true,
            "type": "pie"
           }
          ],
          "scatter": [
           {
            "fillpattern": {
             "fillmode": "overlay",
             "size": 10,
             "solidity": 0.2
            },
            "type": "scatter"
           }
          ],
          "scatter3d": [
           {
            "line": {
             "colorbar": {
              "outlinewidth": 0,
              "ticks": ""
             }
            },
            "marker": {
             "colorbar": {
              "outlinewidth": 0,
              "ticks": ""
             }
            },
            "type": "scatter3d"
           }
          ],
          "scattercarpet": [
           {
            "marker": {
             "colorbar": {
              "outlinewidth": 0,
              "ticks": ""
             }
            },
            "type": "scattercarpet"
           }
          ],
          "scattergeo": [
           {
            "marker": {
             "colorbar": {
              "outlinewidth": 0,
              "ticks": ""
             }
            },
            "type": "scattergeo"
           }
          ],
          "scattergl": [
           {
            "marker": {
             "colorbar": {
              "outlinewidth": 0,
              "ticks": ""
             }
            },
            "type": "scattergl"
           }
          ],
          "scattermapbox": [
           {
            "marker": {
             "colorbar": {
              "outlinewidth": 0,
              "ticks": ""
             }
            },
            "type": "scattermapbox"
           }
          ],
          "scatterpolar": [
           {
            "marker": {
             "colorbar": {
              "outlinewidth": 0,
              "ticks": ""
             }
            },
            "type": "scatterpolar"
           }
          ],
          "scatterpolargl": [
           {
            "marker": {
             "colorbar": {
              "outlinewidth": 0,
              "ticks": ""
             }
            },
            "type": "scatterpolargl"
           }
          ],
          "scatterternary": [
           {
            "marker": {
             "colorbar": {
              "outlinewidth": 0,
              "ticks": ""
             }
            },
            "type": "scatterternary"
           }
          ],
          "surface": [
           {
            "colorbar": {
             "outlinewidth": 0,
             "ticks": ""
            },
            "colorscale": [
             [
              0,
              "#0d0887"
             ],
             [
              0.1111111111111111,
              "#46039f"
             ],
             [
              0.2222222222222222,
              "#7201a8"
             ],
             [
              0.3333333333333333,
              "#9c179e"
             ],
             [
              0.4444444444444444,
              "#bd3786"
             ],
             [
              0.5555555555555556,
              "#d8576b"
             ],
             [
              0.6666666666666666,
              "#ed7953"
             ],
             [
              0.7777777777777778,
              "#fb9f3a"
             ],
             [
              0.8888888888888888,
              "#fdca26"
             ],
             [
              1,
              "#f0f921"
             ]
            ],
            "type": "surface"
           }
          ],
          "table": [
           {
            "cells": {
             "fill": {
              "color": "#EBF0F8"
             },
             "line": {
              "color": "white"
             }
            },
            "header": {
             "fill": {
              "color": "#C8D4E3"
             },
             "line": {
              "color": "white"
             }
            },
            "type": "table"
           }
          ]
         },
         "layout": {
          "annotationdefaults": {
           "arrowcolor": "#2a3f5f",
           "arrowhead": 0,
           "arrowwidth": 1
          },
          "autotypenumbers": "strict",
          "coloraxis": {
           "colorbar": {
            "outlinewidth": 0,
            "ticks": ""
           }
          },
          "colorscale": {
           "diverging": [
            [
             0,
             "#8e0152"
            ],
            [
             0.1,
             "#c51b7d"
            ],
            [
             0.2,
             "#de77ae"
            ],
            [
             0.3,
             "#f1b6da"
            ],
            [
             0.4,
             "#fde0ef"
            ],
            [
             0.5,
             "#f7f7f7"
            ],
            [
             0.6,
             "#e6f5d0"
            ],
            [
             0.7,
             "#b8e186"
            ],
            [
             0.8,
             "#7fbc41"
            ],
            [
             0.9,
             "#4d9221"
            ],
            [
             1,
             "#276419"
            ]
           ],
           "sequential": [
            [
             0,
             "#0d0887"
            ],
            [
             0.1111111111111111,
             "#46039f"
            ],
            [
             0.2222222222222222,
             "#7201a8"
            ],
            [
             0.3333333333333333,
             "#9c179e"
            ],
            [
             0.4444444444444444,
             "#bd3786"
            ],
            [
             0.5555555555555556,
             "#d8576b"
            ],
            [
             0.6666666666666666,
             "#ed7953"
            ],
            [
             0.7777777777777778,
             "#fb9f3a"
            ],
            [
             0.8888888888888888,
             "#fdca26"
            ],
            [
             1,
             "#f0f921"
            ]
           ],
           "sequentialminus": [
            [
             0,
             "#0d0887"
            ],
            [
             0.1111111111111111,
             "#46039f"
            ],
            [
             0.2222222222222222,
             "#7201a8"
            ],
            [
             0.3333333333333333,
             "#9c179e"
            ],
            [
             0.4444444444444444,
             "#bd3786"
            ],
            [
             0.5555555555555556,
             "#d8576b"
            ],
            [
             0.6666666666666666,
             "#ed7953"
            ],
            [
             0.7777777777777778,
             "#fb9f3a"
            ],
            [
             0.8888888888888888,
             "#fdca26"
            ],
            [
             1,
             "#f0f921"
            ]
           ]
          },
          "colorway": [
           "#636efa",
           "#EF553B",
           "#00cc96",
           "#ab63fa",
           "#FFA15A",
           "#19d3f3",
           "#FF6692",
           "#B6E880",
           "#FF97FF",
           "#FECB52"
          ],
          "font": {
           "color": "#2a3f5f"
          },
          "geo": {
           "bgcolor": "white",
           "lakecolor": "white",
           "landcolor": "#E5ECF6",
           "showlakes": true,
           "showland": true,
           "subunitcolor": "white"
          },
          "hoverlabel": {
           "align": "left"
          },
          "hovermode": "closest",
          "mapbox": {
           "style": "light"
          },
          "paper_bgcolor": "white",
          "plot_bgcolor": "#E5ECF6",
          "polar": {
           "angularaxis": {
            "gridcolor": "white",
            "linecolor": "white",
            "ticks": ""
           },
           "bgcolor": "#E5ECF6",
           "radialaxis": {
            "gridcolor": "white",
            "linecolor": "white",
            "ticks": ""
           }
          },
          "scene": {
           "xaxis": {
            "backgroundcolor": "#E5ECF6",
            "gridcolor": "white",
            "gridwidth": 2,
            "linecolor": "white",
            "showbackground": true,
            "ticks": "",
            "zerolinecolor": "white"
           },
           "yaxis": {
            "backgroundcolor": "#E5ECF6",
            "gridcolor": "white",
            "gridwidth": 2,
            "linecolor": "white",
            "showbackground": true,
            "ticks": "",
            "zerolinecolor": "white"
           },
           "zaxis": {
            "backgroundcolor": "#E5ECF6",
            "gridcolor": "white",
            "gridwidth": 2,
            "linecolor": "white",
            "showbackground": true,
            "ticks": "",
            "zerolinecolor": "white"
           }
          },
          "shapedefaults": {
           "line": {
            "color": "#2a3f5f"
           }
          },
          "ternary": {
           "aaxis": {
            "gridcolor": "white",
            "linecolor": "white",
            "ticks": ""
           },
           "baxis": {
            "gridcolor": "white",
            "linecolor": "white",
            "ticks": ""
           },
           "bgcolor": "#E5ECF6",
           "caxis": {
            "gridcolor": "white",
            "linecolor": "white",
            "ticks": ""
           }
          },
          "title": {
           "x": 0.05
          },
          "xaxis": {
           "automargin": true,
           "gridcolor": "white",
           "linecolor": "white",
           "ticks": "",
           "title": {
            "standoff": 15
           },
           "zerolinecolor": "white",
           "zerolinewidth": 2
          },
          "yaxis": {
           "automargin": true,
           "gridcolor": "white",
           "linecolor": "white",
           "ticks": "",
           "title": {
            "standoff": 15
           },
           "zerolinecolor": "white",
           "zerolinewidth": 2
          }
         }
        },
        "title": {
         "text": "Web Traffic Across Different Series - APR"
        },
        "xaxis": {
         "anchor": "y",
         "domain": [
          0,
          1
         ],
         "title": {
          "text": "date"
         }
        },
        "yaxis": {
         "anchor": "x",
         "domain": [
          0,
          1
         ],
         "title": {
          "text": "web_traffic"
         }
        }
       }
      }
     },
     "metadata": {},
     "output_type": "display_data"
    },
    {
     "name": "stdout",
     "output_type": "stream",
     "text": [
      "n26 * avg\n"
     ]
    },
    {
     "data": {
      "application/vnd.plotly.v1+json": {
       "config": {
        "plotlyServerURL": "https://plot.ly"
       },
       "data": [
        {
         "hovertemplate": "type=bank_of_interest_event<br>date=%{x}<br>web_traffic=%{y}<extra></extra>",
         "legendgroup": "bank_of_interest_event",
         "line": {
          "color": "#636efa",
          "dash": "solid"
         },
         "marker": {
          "symbol": "circle"
         },
         "mode": "lines",
         "name": "bank_of_interest_event",
         "orientation": "v",
         "showlegend": true,
         "type": "scatter",
         "x": [
          "2023-05-01T00:00:00",
          "2023-06-01T00:00:00",
          "2023-07-01T00:00:00",
          "2023-08-01T00:00:00",
          "2023-09-01T00:00:00"
         ],
         "xaxis": "x",
         "y": [
          -1.0856620893104745,
          -0.7787194690803216,
          -0.2323721665027028,
          -0.4823734733341116,
          -0.8858758704677078
         ],
         "yaxis": "y"
        },
        {
         "hovertemplate": "type=control_bank_event<br>date=%{x}<br>web_traffic=%{y}<extra></extra>",
         "legendgroup": "control_bank_event",
         "line": {
          "color": "#EF553B",
          "dash": "solid"
         },
         "marker": {
          "symbol": "circle"
         },
         "mode": "lines",
         "name": "control_bank_event",
         "orientation": "v",
         "showlegend": true,
         "type": "scatter",
         "x": [
          "2023-05-01T00:00:00",
          "2023-06-01T00:00:00",
          "2023-07-01T00:00:00",
          "2023-08-01T00:00:00",
          "2023-09-01T00:00:00"
         ],
         "xaxis": "x",
         "y": [
          -0.30510087662955937,
          -0.5408893381877345,
          -0.26807888159275045,
          -1.297807508530281,
          -0.007246579520921337
         ],
         "yaxis": "y"
        },
        {
         "hovertemplate": "type=bank_of_interest_non_event<br>date=%{x}<br>web_traffic=%{y}<extra></extra>",
         "legendgroup": "bank_of_interest_non_event",
         "line": {
          "color": "#00cc96",
          "dash": "solid"
         },
         "marker": {
          "symbol": "circle"
         },
         "mode": "lines",
         "name": "bank_of_interest_non_event",
         "orientation": "v",
         "showlegend": true,
         "type": "scatter",
         "x": [
          "2021-12-01T00:00:00",
          "2022-01-01T00:00:00",
          "2022-02-01T00:00:00",
          "2022-03-01T00:00:00",
          "2022-04-01T00:00:00"
         ],
         "xaxis": "x",
         "y": [
          -0.6672583026355112,
          -0.7573285480039245,
          -0.7410024496421644,
          -0.7860919208303503,
          -0.7854303469421583
         ],
         "yaxis": "y"
        },
        {
         "hovertemplate": "type=control_bank_non_event<br>date=%{x}<br>web_traffic=%{y}<extra></extra>",
         "legendgroup": "control_bank_non_event",
         "line": {
          "color": "#ab63fa",
          "dash": "solid"
         },
         "marker": {
          "symbol": "circle"
         },
         "mode": "lines",
         "name": "control_bank_non_event",
         "orientation": "v",
         "showlegend": true,
         "type": "scatter",
         "x": [
          "2021-12-01T00:00:00",
          "2022-01-01T00:00:00",
          "2022-02-01T00:00:00",
          "2022-03-01T00:00:00",
          "2022-04-01T00:00:00"
         ],
         "xaxis": "x",
         "y": [
          -0.38448045200327186,
          -0.37863243699964516,
          -0.35039542630991993,
          -0.33202828250833283,
          -0.3046548766826206
         ],
         "yaxis": "y"
        }
       ],
       "layout": {
        "legend": {
         "title": {
          "text": "Series"
         },
         "tracegroupgap": 0
        },
        "template": {
         "data": {
          "bar": [
           {
            "error_x": {
             "color": "#2a3f5f"
            },
            "error_y": {
             "color": "#2a3f5f"
            },
            "marker": {
             "line": {
              "color": "#E5ECF6",
              "width": 0.5
             },
             "pattern": {
              "fillmode": "overlay",
              "size": 10,
              "solidity": 0.2
             }
            },
            "type": "bar"
           }
          ],
          "barpolar": [
           {
            "marker": {
             "line": {
              "color": "#E5ECF6",
              "width": 0.5
             },
             "pattern": {
              "fillmode": "overlay",
              "size": 10,
              "solidity": 0.2
             }
            },
            "type": "barpolar"
           }
          ],
          "carpet": [
           {
            "aaxis": {
             "endlinecolor": "#2a3f5f",
             "gridcolor": "white",
             "linecolor": "white",
             "minorgridcolor": "white",
             "startlinecolor": "#2a3f5f"
            },
            "baxis": {
             "endlinecolor": "#2a3f5f",
             "gridcolor": "white",
             "linecolor": "white",
             "minorgridcolor": "white",
             "startlinecolor": "#2a3f5f"
            },
            "type": "carpet"
           }
          ],
          "choropleth": [
           {
            "colorbar": {
             "outlinewidth": 0,
             "ticks": ""
            },
            "type": "choropleth"
           }
          ],
          "contour": [
           {
            "colorbar": {
             "outlinewidth": 0,
             "ticks": ""
            },
            "colorscale": [
             [
              0,
              "#0d0887"
             ],
             [
              0.1111111111111111,
              "#46039f"
             ],
             [
              0.2222222222222222,
              "#7201a8"
             ],
             [
              0.3333333333333333,
              "#9c179e"
             ],
             [
              0.4444444444444444,
              "#bd3786"
             ],
             [
              0.5555555555555556,
              "#d8576b"
             ],
             [
              0.6666666666666666,
              "#ed7953"
             ],
             [
              0.7777777777777778,
              "#fb9f3a"
             ],
             [
              0.8888888888888888,
              "#fdca26"
             ],
             [
              1,
              "#f0f921"
             ]
            ],
            "type": "contour"
           }
          ],
          "contourcarpet": [
           {
            "colorbar": {
             "outlinewidth": 0,
             "ticks": ""
            },
            "type": "contourcarpet"
           }
          ],
          "heatmap": [
           {
            "colorbar": {
             "outlinewidth": 0,
             "ticks": ""
            },
            "colorscale": [
             [
              0,
              "#0d0887"
             ],
             [
              0.1111111111111111,
              "#46039f"
             ],
             [
              0.2222222222222222,
              "#7201a8"
             ],
             [
              0.3333333333333333,
              "#9c179e"
             ],
             [
              0.4444444444444444,
              "#bd3786"
             ],
             [
              0.5555555555555556,
              "#d8576b"
             ],
             [
              0.6666666666666666,
              "#ed7953"
             ],
             [
              0.7777777777777778,
              "#fb9f3a"
             ],
             [
              0.8888888888888888,
              "#fdca26"
             ],
             [
              1,
              "#f0f921"
             ]
            ],
            "type": "heatmap"
           }
          ],
          "heatmapgl": [
           {
            "colorbar": {
             "outlinewidth": 0,
             "ticks": ""
            },
            "colorscale": [
             [
              0,
              "#0d0887"
             ],
             [
              0.1111111111111111,
              "#46039f"
             ],
             [
              0.2222222222222222,
              "#7201a8"
             ],
             [
              0.3333333333333333,
              "#9c179e"
             ],
             [
              0.4444444444444444,
              "#bd3786"
             ],
             [
              0.5555555555555556,
              "#d8576b"
             ],
             [
              0.6666666666666666,
              "#ed7953"
             ],
             [
              0.7777777777777778,
              "#fb9f3a"
             ],
             [
              0.8888888888888888,
              "#fdca26"
             ],
             [
              1,
              "#f0f921"
             ]
            ],
            "type": "heatmapgl"
           }
          ],
          "histogram": [
           {
            "marker": {
             "pattern": {
              "fillmode": "overlay",
              "size": 10,
              "solidity": 0.2
             }
            },
            "type": "histogram"
           }
          ],
          "histogram2d": [
           {
            "colorbar": {
             "outlinewidth": 0,
             "ticks": ""
            },
            "colorscale": [
             [
              0,
              "#0d0887"
             ],
             [
              0.1111111111111111,
              "#46039f"
             ],
             [
              0.2222222222222222,
              "#7201a8"
             ],
             [
              0.3333333333333333,
              "#9c179e"
             ],
             [
              0.4444444444444444,
              "#bd3786"
             ],
             [
              0.5555555555555556,
              "#d8576b"
             ],
             [
              0.6666666666666666,
              "#ed7953"
             ],
             [
              0.7777777777777778,
              "#fb9f3a"
             ],
             [
              0.8888888888888888,
              "#fdca26"
             ],
             [
              1,
              "#f0f921"
             ]
            ],
            "type": "histogram2d"
           }
          ],
          "histogram2dcontour": [
           {
            "colorbar": {
             "outlinewidth": 0,
             "ticks": ""
            },
            "colorscale": [
             [
              0,
              "#0d0887"
             ],
             [
              0.1111111111111111,
              "#46039f"
             ],
             [
              0.2222222222222222,
              "#7201a8"
             ],
             [
              0.3333333333333333,
              "#9c179e"
             ],
             [
              0.4444444444444444,
              "#bd3786"
             ],
             [
              0.5555555555555556,
              "#d8576b"
             ],
             [
              0.6666666666666666,
              "#ed7953"
             ],
             [
              0.7777777777777778,
              "#fb9f3a"
             ],
             [
              0.8888888888888888,
              "#fdca26"
             ],
             [
              1,
              "#f0f921"
             ]
            ],
            "type": "histogram2dcontour"
           }
          ],
          "mesh3d": [
           {
            "colorbar": {
             "outlinewidth": 0,
             "ticks": ""
            },
            "type": "mesh3d"
           }
          ],
          "parcoords": [
           {
            "line": {
             "colorbar": {
              "outlinewidth": 0,
              "ticks": ""
             }
            },
            "type": "parcoords"
           }
          ],
          "pie": [
           {
            "automargin": true,
            "type": "pie"
           }
          ],
          "scatter": [
           {
            "fillpattern": {
             "fillmode": "overlay",
             "size": 10,
             "solidity": 0.2
            },
            "type": "scatter"
           }
          ],
          "scatter3d": [
           {
            "line": {
             "colorbar": {
              "outlinewidth": 0,
              "ticks": ""
             }
            },
            "marker": {
             "colorbar": {
              "outlinewidth": 0,
              "ticks": ""
             }
            },
            "type": "scatter3d"
           }
          ],
          "scattercarpet": [
           {
            "marker": {
             "colorbar": {
              "outlinewidth": 0,
              "ticks": ""
             }
            },
            "type": "scattercarpet"
           }
          ],
          "scattergeo": [
           {
            "marker": {
             "colorbar": {
              "outlinewidth": 0,
              "ticks": ""
             }
            },
            "type": "scattergeo"
           }
          ],
          "scattergl": [
           {
            "marker": {
             "colorbar": {
              "outlinewidth": 0,
              "ticks": ""
             }
            },
            "type": "scattergl"
           }
          ],
          "scattermapbox": [
           {
            "marker": {
             "colorbar": {
              "outlinewidth": 0,
              "ticks": ""
             }
            },
            "type": "scattermapbox"
           }
          ],
          "scatterpolar": [
           {
            "marker": {
             "colorbar": {
              "outlinewidth": 0,
              "ticks": ""
             }
            },
            "type": "scatterpolar"
           }
          ],
          "scatterpolargl": [
           {
            "marker": {
             "colorbar": {
              "outlinewidth": 0,
              "ticks": ""
             }
            },
            "type": "scatterpolargl"
           }
          ],
          "scatterternary": [
           {
            "marker": {
             "colorbar": {
              "outlinewidth": 0,
              "ticks": ""
             }
            },
            "type": "scatterternary"
           }
          ],
          "surface": [
           {
            "colorbar": {
             "outlinewidth": 0,
             "ticks": ""
            },
            "colorscale": [
             [
              0,
              "#0d0887"
             ],
             [
              0.1111111111111111,
              "#46039f"
             ],
             [
              0.2222222222222222,
              "#7201a8"
             ],
             [
              0.3333333333333333,
              "#9c179e"
             ],
             [
              0.4444444444444444,
              "#bd3786"
             ],
             [
              0.5555555555555556,
              "#d8576b"
             ],
             [
              0.6666666666666666,
              "#ed7953"
             ],
             [
              0.7777777777777778,
              "#fb9f3a"
             ],
             [
              0.8888888888888888,
              "#fdca26"
             ],
             [
              1,
              "#f0f921"
             ]
            ],
            "type": "surface"
           }
          ],
          "table": [
           {
            "cells": {
             "fill": {
              "color": "#EBF0F8"
             },
             "line": {
              "color": "white"
             }
            },
            "header": {
             "fill": {
              "color": "#C8D4E3"
             },
             "line": {
              "color": "white"
             }
            },
            "type": "table"
           }
          ]
         },
         "layout": {
          "annotationdefaults": {
           "arrowcolor": "#2a3f5f",
           "arrowhead": 0,
           "arrowwidth": 1
          },
          "autotypenumbers": "strict",
          "coloraxis": {
           "colorbar": {
            "outlinewidth": 0,
            "ticks": ""
           }
          },
          "colorscale": {
           "diverging": [
            [
             0,
             "#8e0152"
            ],
            [
             0.1,
             "#c51b7d"
            ],
            [
             0.2,
             "#de77ae"
            ],
            [
             0.3,
             "#f1b6da"
            ],
            [
             0.4,
             "#fde0ef"
            ],
            [
             0.5,
             "#f7f7f7"
            ],
            [
             0.6,
             "#e6f5d0"
            ],
            [
             0.7,
             "#b8e186"
            ],
            [
             0.8,
             "#7fbc41"
            ],
            [
             0.9,
             "#4d9221"
            ],
            [
             1,
             "#276419"
            ]
           ],
           "sequential": [
            [
             0,
             "#0d0887"
            ],
            [
             0.1111111111111111,
             "#46039f"
            ],
            [
             0.2222222222222222,
             "#7201a8"
            ],
            [
             0.3333333333333333,
             "#9c179e"
            ],
            [
             0.4444444444444444,
             "#bd3786"
            ],
            [
             0.5555555555555556,
             "#d8576b"
            ],
            [
             0.6666666666666666,
             "#ed7953"
            ],
            [
             0.7777777777777778,
             "#fb9f3a"
            ],
            [
             0.8888888888888888,
             "#fdca26"
            ],
            [
             1,
             "#f0f921"
            ]
           ],
           "sequentialminus": [
            [
             0,
             "#0d0887"
            ],
            [
             0.1111111111111111,
             "#46039f"
            ],
            [
             0.2222222222222222,
             "#7201a8"
            ],
            [
             0.3333333333333333,
             "#9c179e"
            ],
            [
             0.4444444444444444,
             "#bd3786"
            ],
            [
             0.5555555555555556,
             "#d8576b"
            ],
            [
             0.6666666666666666,
             "#ed7953"
            ],
            [
             0.7777777777777778,
             "#fb9f3a"
            ],
            [
             0.8888888888888888,
             "#fdca26"
            ],
            [
             1,
             "#f0f921"
            ]
           ]
          },
          "colorway": [
           "#636efa",
           "#EF553B",
           "#00cc96",
           "#ab63fa",
           "#FFA15A",
           "#19d3f3",
           "#FF6692",
           "#B6E880",
           "#FF97FF",
           "#FECB52"
          ],
          "font": {
           "color": "#2a3f5f"
          },
          "geo": {
           "bgcolor": "white",
           "lakecolor": "white",
           "landcolor": "#E5ECF6",
           "showlakes": true,
           "showland": true,
           "subunitcolor": "white"
          },
          "hoverlabel": {
           "align": "left"
          },
          "hovermode": "closest",
          "mapbox": {
           "style": "light"
          },
          "paper_bgcolor": "white",
          "plot_bgcolor": "#E5ECF6",
          "polar": {
           "angularaxis": {
            "gridcolor": "white",
            "linecolor": "white",
            "ticks": ""
           },
           "bgcolor": "#E5ECF6",
           "radialaxis": {
            "gridcolor": "white",
            "linecolor": "white",
            "ticks": ""
           }
          },
          "scene": {
           "xaxis": {
            "backgroundcolor": "#E5ECF6",
            "gridcolor": "white",
            "gridwidth": 2,
            "linecolor": "white",
            "showbackground": true,
            "ticks": "",
            "zerolinecolor": "white"
           },
           "yaxis": {
            "backgroundcolor": "#E5ECF6",
            "gridcolor": "white",
            "gridwidth": 2,
            "linecolor": "white",
            "showbackground": true,
            "ticks": "",
            "zerolinecolor": "white"
           },
           "zaxis": {
            "backgroundcolor": "#E5ECF6",
            "gridcolor": "white",
            "gridwidth": 2,
            "linecolor": "white",
            "showbackground": true,
            "ticks": "",
            "zerolinecolor": "white"
           }
          },
          "shapedefaults": {
           "line": {
            "color": "#2a3f5f"
           }
          },
          "ternary": {
           "aaxis": {
            "gridcolor": "white",
            "linecolor": "white",
            "ticks": ""
           },
           "baxis": {
            "gridcolor": "white",
            "linecolor": "white",
            "ticks": ""
           },
           "bgcolor": "#E5ECF6",
           "caxis": {
            "gridcolor": "white",
            "linecolor": "white",
            "ticks": ""
           }
          },
          "title": {
           "x": 0.05
          },
          "xaxis": {
           "automargin": true,
           "gridcolor": "white",
           "linecolor": "white",
           "ticks": "",
           "title": {
            "standoff": 15
           },
           "zerolinecolor": "white",
           "zerolinewidth": 2
          },
          "yaxis": {
           "automargin": true,
           "gridcolor": "white",
           "linecolor": "white",
           "ticks": "",
           "title": {
            "standoff": 15
           },
           "zerolinecolor": "white",
           "zerolinewidth": 2
          }
         }
        },
        "title": {
         "text": "Web Traffic Across Different Series - APR"
        },
        "xaxis": {
         "anchor": "y",
         "domain": [
          0,
          1
         ],
         "title": {
          "text": "date"
         }
        },
        "yaxis": {
         "anchor": "x",
         "domain": [
          0,
          1
         ],
         "title": {
          "text": "web_traffic"
         }
        }
       }
      }
     },
     "metadata": {},
     "output_type": "display_data"
    },
    {
     "name": "stdout",
     "output_type": "stream",
     "text": [
      "banc sabadell * avg\n"
     ]
    },
    {
     "data": {
      "application/vnd.plotly.v1+json": {
       "config": {
        "plotlyServerURL": "https://plot.ly"
       },
       "data": [
        {
         "hovertemplate": "type=bank_of_interest_event<br>date=%{x}<br>web_traffic=%{y}<extra></extra>",
         "legendgroup": "bank_of_interest_event",
         "line": {
          "color": "#636efa",
          "dash": "solid"
         },
         "marker": {
          "symbol": "circle"
         },
         "mode": "lines",
         "name": "bank_of_interest_event",
         "orientation": "v",
         "showlegend": true,
         "type": "scatter",
         "x": [
          "2022-06-01T00:00:00",
          "2022-07-01T00:00:00",
          "2022-08-01T00:00:00",
          "2022-09-01T00:00:00",
          "2022-10-01T00:00:00"
         ],
         "xaxis": "x",
         "y": [
          0.6234339413496578,
          0.8377379116257992,
          0.9247258656521951,
          1.0332427883980129,
          0.1504372296727863
         ],
         "yaxis": "y"
        },
        {
         "hovertemplate": "type=control_bank_event<br>date=%{x}<br>web_traffic=%{y}<extra></extra>",
         "legendgroup": "control_bank_event",
         "line": {
          "color": "#EF553B",
          "dash": "solid"
         },
         "marker": {
          "symbol": "circle"
         },
         "mode": "lines",
         "name": "control_bank_event",
         "orientation": "v",
         "showlegend": true,
         "type": "scatter",
         "x": [
          "2022-06-01T00:00:00",
          "2022-07-01T00:00:00",
          "2022-08-01T00:00:00",
          "2022-09-01T00:00:00",
          "2022-10-01T00:00:00"
         ],
         "xaxis": "x",
         "y": [
          -0.22146917238658678,
          -0.11222332242866066,
          0.06429489558069461,
          0.1539863914603913,
          0.11498797761856018
         ],
         "yaxis": "y"
        },
        {
         "hovertemplate": "type=bank_of_interest_non_event<br>date=%{x}<br>web_traffic=%{y}<extra></extra>",
         "legendgroup": "bank_of_interest_non_event",
         "line": {
          "color": "#00cc96",
          "dash": "solid"
         },
         "marker": {
          "symbol": "circle"
         },
         "mode": "lines",
         "name": "bank_of_interest_non_event",
         "orientation": "v",
         "showlegend": true,
         "type": "scatter",
         "x": [
          "2021-12-01T00:00:00",
          "2022-01-01T00:00:00",
          "2022-02-01T00:00:00",
          "2022-03-01T00:00:00",
          "2022-04-01T00:00:00"
         ],
         "xaxis": "x",
         "y": [
          0.2586299746653119,
          0.2586299746653119,
          0.2586299746653119,
          0.2586299746653119,
          0.2586299746653119
         ],
         "yaxis": "y"
        },
        {
         "hovertemplate": "type=control_bank_non_event<br>date=%{x}<br>web_traffic=%{y}<extra></extra>",
         "legendgroup": "control_bank_non_event",
         "line": {
          "color": "#ab63fa",
          "dash": "solid"
         },
         "marker": {
          "symbol": "circle"
         },
         "mode": "lines",
         "name": "control_bank_non_event",
         "orientation": "v",
         "showlegend": true,
         "type": "scatter",
         "x": [
          "2021-12-01T00:00:00",
          "2022-01-01T00:00:00",
          "2022-02-01T00:00:00",
          "2022-03-01T00:00:00",
          "2022-04-01T00:00:00"
         ],
         "xaxis": "x",
         "y": [
          0.09945777601982515,
          -0.0540576133163716,
          -0.01640826573007126,
          0.008081259338711575,
          0.044579133772994474
         ],
         "yaxis": "y"
        }
       ],
       "layout": {
        "legend": {
         "title": {
          "text": "Series"
         },
         "tracegroupgap": 0
        },
        "template": {
         "data": {
          "bar": [
           {
            "error_x": {
             "color": "#2a3f5f"
            },
            "error_y": {
             "color": "#2a3f5f"
            },
            "marker": {
             "line": {
              "color": "#E5ECF6",
              "width": 0.5
             },
             "pattern": {
              "fillmode": "overlay",
              "size": 10,
              "solidity": 0.2
             }
            },
            "type": "bar"
           }
          ],
          "barpolar": [
           {
            "marker": {
             "line": {
              "color": "#E5ECF6",
              "width": 0.5
             },
             "pattern": {
              "fillmode": "overlay",
              "size": 10,
              "solidity": 0.2
             }
            },
            "type": "barpolar"
           }
          ],
          "carpet": [
           {
            "aaxis": {
             "endlinecolor": "#2a3f5f",
             "gridcolor": "white",
             "linecolor": "white",
             "minorgridcolor": "white",
             "startlinecolor": "#2a3f5f"
            },
            "baxis": {
             "endlinecolor": "#2a3f5f",
             "gridcolor": "white",
             "linecolor": "white",
             "minorgridcolor": "white",
             "startlinecolor": "#2a3f5f"
            },
            "type": "carpet"
           }
          ],
          "choropleth": [
           {
            "colorbar": {
             "outlinewidth": 0,
             "ticks": ""
            },
            "type": "choropleth"
           }
          ],
          "contour": [
           {
            "colorbar": {
             "outlinewidth": 0,
             "ticks": ""
            },
            "colorscale": [
             [
              0,
              "#0d0887"
             ],
             [
              0.1111111111111111,
              "#46039f"
             ],
             [
              0.2222222222222222,
              "#7201a8"
             ],
             [
              0.3333333333333333,
              "#9c179e"
             ],
             [
              0.4444444444444444,
              "#bd3786"
             ],
             [
              0.5555555555555556,
              "#d8576b"
             ],
             [
              0.6666666666666666,
              "#ed7953"
             ],
             [
              0.7777777777777778,
              "#fb9f3a"
             ],
             [
              0.8888888888888888,
              "#fdca26"
             ],
             [
              1,
              "#f0f921"
             ]
            ],
            "type": "contour"
           }
          ],
          "contourcarpet": [
           {
            "colorbar": {
             "outlinewidth": 0,
             "ticks": ""
            },
            "type": "contourcarpet"
           }
          ],
          "heatmap": [
           {
            "colorbar": {
             "outlinewidth": 0,
             "ticks": ""
            },
            "colorscale": [
             [
              0,
              "#0d0887"
             ],
             [
              0.1111111111111111,
              "#46039f"
             ],
             [
              0.2222222222222222,
              "#7201a8"
             ],
             [
              0.3333333333333333,
              "#9c179e"
             ],
             [
              0.4444444444444444,
              "#bd3786"
             ],
             [
              0.5555555555555556,
              "#d8576b"
             ],
             [
              0.6666666666666666,
              "#ed7953"
             ],
             [
              0.7777777777777778,
              "#fb9f3a"
             ],
             [
              0.8888888888888888,
              "#fdca26"
             ],
             [
              1,
              "#f0f921"
             ]
            ],
            "type": "heatmap"
           }
          ],
          "heatmapgl": [
           {
            "colorbar": {
             "outlinewidth": 0,
             "ticks": ""
            },
            "colorscale": [
             [
              0,
              "#0d0887"
             ],
             [
              0.1111111111111111,
              "#46039f"
             ],
             [
              0.2222222222222222,
              "#7201a8"
             ],
             [
              0.3333333333333333,
              "#9c179e"
             ],
             [
              0.4444444444444444,
              "#bd3786"
             ],
             [
              0.5555555555555556,
              "#d8576b"
             ],
             [
              0.6666666666666666,
              "#ed7953"
             ],
             [
              0.7777777777777778,
              "#fb9f3a"
             ],
             [
              0.8888888888888888,
              "#fdca26"
             ],
             [
              1,
              "#f0f921"
             ]
            ],
            "type": "heatmapgl"
           }
          ],
          "histogram": [
           {
            "marker": {
             "pattern": {
              "fillmode": "overlay",
              "size": 10,
              "solidity": 0.2
             }
            },
            "type": "histogram"
           }
          ],
          "histogram2d": [
           {
            "colorbar": {
             "outlinewidth": 0,
             "ticks": ""
            },
            "colorscale": [
             [
              0,
              "#0d0887"
             ],
             [
              0.1111111111111111,
              "#46039f"
             ],
             [
              0.2222222222222222,
              "#7201a8"
             ],
             [
              0.3333333333333333,
              "#9c179e"
             ],
             [
              0.4444444444444444,
              "#bd3786"
             ],
             [
              0.5555555555555556,
              "#d8576b"
             ],
             [
              0.6666666666666666,
              "#ed7953"
             ],
             [
              0.7777777777777778,
              "#fb9f3a"
             ],
             [
              0.8888888888888888,
              "#fdca26"
             ],
             [
              1,
              "#f0f921"
             ]
            ],
            "type": "histogram2d"
           }
          ],
          "histogram2dcontour": [
           {
            "colorbar": {
             "outlinewidth": 0,
             "ticks": ""
            },
            "colorscale": [
             [
              0,
              "#0d0887"
             ],
             [
              0.1111111111111111,
              "#46039f"
             ],
             [
              0.2222222222222222,
              "#7201a8"
             ],
             [
              0.3333333333333333,
              "#9c179e"
             ],
             [
              0.4444444444444444,
              "#bd3786"
             ],
             [
              0.5555555555555556,
              "#d8576b"
             ],
             [
              0.6666666666666666,
              "#ed7953"
             ],
             [
              0.7777777777777778,
              "#fb9f3a"
             ],
             [
              0.8888888888888888,
              "#fdca26"
             ],
             [
              1,
              "#f0f921"
             ]
            ],
            "type": "histogram2dcontour"
           }
          ],
          "mesh3d": [
           {
            "colorbar": {
             "outlinewidth": 0,
             "ticks": ""
            },
            "type": "mesh3d"
           }
          ],
          "parcoords": [
           {
            "line": {
             "colorbar": {
              "outlinewidth": 0,
              "ticks": ""
             }
            },
            "type": "parcoords"
           }
          ],
          "pie": [
           {
            "automargin": true,
            "type": "pie"
           }
          ],
          "scatter": [
           {
            "fillpattern": {
             "fillmode": "overlay",
             "size": 10,
             "solidity": 0.2
            },
            "type": "scatter"
           }
          ],
          "scatter3d": [
           {
            "line": {
             "colorbar": {
              "outlinewidth": 0,
              "ticks": ""
             }
            },
            "marker": {
             "colorbar": {
              "outlinewidth": 0,
              "ticks": ""
             }
            },
            "type": "scatter3d"
           }
          ],
          "scattercarpet": [
           {
            "marker": {
             "colorbar": {
              "outlinewidth": 0,
              "ticks": ""
             }
            },
            "type": "scattercarpet"
           }
          ],
          "scattergeo": [
           {
            "marker": {
             "colorbar": {
              "outlinewidth": 0,
              "ticks": ""
             }
            },
            "type": "scattergeo"
           }
          ],
          "scattergl": [
           {
            "marker": {
             "colorbar": {
              "outlinewidth": 0,
              "ticks": ""
             }
            },
            "type": "scattergl"
           }
          ],
          "scattermapbox": [
           {
            "marker": {
             "colorbar": {
              "outlinewidth": 0,
              "ticks": ""
             }
            },
            "type": "scattermapbox"
           }
          ],
          "scatterpolar": [
           {
            "marker": {
             "colorbar": {
              "outlinewidth": 0,
              "ticks": ""
             }
            },
            "type": "scatterpolar"
           }
          ],
          "scatterpolargl": [
           {
            "marker": {
             "colorbar": {
              "outlinewidth": 0,
              "ticks": ""
             }
            },
            "type": "scatterpolargl"
           }
          ],
          "scatterternary": [
           {
            "marker": {
             "colorbar": {
              "outlinewidth": 0,
              "ticks": ""
             }
            },
            "type": "scatterternary"
           }
          ],
          "surface": [
           {
            "colorbar": {
             "outlinewidth": 0,
             "ticks": ""
            },
            "colorscale": [
             [
              0,
              "#0d0887"
             ],
             [
              0.1111111111111111,
              "#46039f"
             ],
             [
              0.2222222222222222,
              "#7201a8"
             ],
             [
              0.3333333333333333,
              "#9c179e"
             ],
             [
              0.4444444444444444,
              "#bd3786"
             ],
             [
              0.5555555555555556,
              "#d8576b"
             ],
             [
              0.6666666666666666,
              "#ed7953"
             ],
             [
              0.7777777777777778,
              "#fb9f3a"
             ],
             [
              0.8888888888888888,
              "#fdca26"
             ],
             [
              1,
              "#f0f921"
             ]
            ],
            "type": "surface"
           }
          ],
          "table": [
           {
            "cells": {
             "fill": {
              "color": "#EBF0F8"
             },
             "line": {
              "color": "white"
             }
            },
            "header": {
             "fill": {
              "color": "#C8D4E3"
             },
             "line": {
              "color": "white"
             }
            },
            "type": "table"
           }
          ]
         },
         "layout": {
          "annotationdefaults": {
           "arrowcolor": "#2a3f5f",
           "arrowhead": 0,
           "arrowwidth": 1
          },
          "autotypenumbers": "strict",
          "coloraxis": {
           "colorbar": {
            "outlinewidth": 0,
            "ticks": ""
           }
          },
          "colorscale": {
           "diverging": [
            [
             0,
             "#8e0152"
            ],
            [
             0.1,
             "#c51b7d"
            ],
            [
             0.2,
             "#de77ae"
            ],
            [
             0.3,
             "#f1b6da"
            ],
            [
             0.4,
             "#fde0ef"
            ],
            [
             0.5,
             "#f7f7f7"
            ],
            [
             0.6,
             "#e6f5d0"
            ],
            [
             0.7,
             "#b8e186"
            ],
            [
             0.8,
             "#7fbc41"
            ],
            [
             0.9,
             "#4d9221"
            ],
            [
             1,
             "#276419"
            ]
           ],
           "sequential": [
            [
             0,
             "#0d0887"
            ],
            [
             0.1111111111111111,
             "#46039f"
            ],
            [
             0.2222222222222222,
             "#7201a8"
            ],
            [
             0.3333333333333333,
             "#9c179e"
            ],
            [
             0.4444444444444444,
             "#bd3786"
            ],
            [
             0.5555555555555556,
             "#d8576b"
            ],
            [
             0.6666666666666666,
             "#ed7953"
            ],
            [
             0.7777777777777778,
             "#fb9f3a"
            ],
            [
             0.8888888888888888,
             "#fdca26"
            ],
            [
             1,
             "#f0f921"
            ]
           ],
           "sequentialminus": [
            [
             0,
             "#0d0887"
            ],
            [
             0.1111111111111111,
             "#46039f"
            ],
            [
             0.2222222222222222,
             "#7201a8"
            ],
            [
             0.3333333333333333,
             "#9c179e"
            ],
            [
             0.4444444444444444,
             "#bd3786"
            ],
            [
             0.5555555555555556,
             "#d8576b"
            ],
            [
             0.6666666666666666,
             "#ed7953"
            ],
            [
             0.7777777777777778,
             "#fb9f3a"
            ],
            [
             0.8888888888888888,
             "#fdca26"
            ],
            [
             1,
             "#f0f921"
            ]
           ]
          },
          "colorway": [
           "#636efa",
           "#EF553B",
           "#00cc96",
           "#ab63fa",
           "#FFA15A",
           "#19d3f3",
           "#FF6692",
           "#B6E880",
           "#FF97FF",
           "#FECB52"
          ],
          "font": {
           "color": "#2a3f5f"
          },
          "geo": {
           "bgcolor": "white",
           "lakecolor": "white",
           "landcolor": "#E5ECF6",
           "showlakes": true,
           "showland": true,
           "subunitcolor": "white"
          },
          "hoverlabel": {
           "align": "left"
          },
          "hovermode": "closest",
          "mapbox": {
           "style": "light"
          },
          "paper_bgcolor": "white",
          "plot_bgcolor": "#E5ECF6",
          "polar": {
           "angularaxis": {
            "gridcolor": "white",
            "linecolor": "white",
            "ticks": ""
           },
           "bgcolor": "#E5ECF6",
           "radialaxis": {
            "gridcolor": "white",
            "linecolor": "white",
            "ticks": ""
           }
          },
          "scene": {
           "xaxis": {
            "backgroundcolor": "#E5ECF6",
            "gridcolor": "white",
            "gridwidth": 2,
            "linecolor": "white",
            "showbackground": true,
            "ticks": "",
            "zerolinecolor": "white"
           },
           "yaxis": {
            "backgroundcolor": "#E5ECF6",
            "gridcolor": "white",
            "gridwidth": 2,
            "linecolor": "white",
            "showbackground": true,
            "ticks": "",
            "zerolinecolor": "white"
           },
           "zaxis": {
            "backgroundcolor": "#E5ECF6",
            "gridcolor": "white",
            "gridwidth": 2,
            "linecolor": "white",
            "showbackground": true,
            "ticks": "",
            "zerolinecolor": "white"
           }
          },
          "shapedefaults": {
           "line": {
            "color": "#2a3f5f"
           }
          },
          "ternary": {
           "aaxis": {
            "gridcolor": "white",
            "linecolor": "white",
            "ticks": ""
           },
           "baxis": {
            "gridcolor": "white",
            "linecolor": "white",
            "ticks": ""
           },
           "bgcolor": "#E5ECF6",
           "caxis": {
            "gridcolor": "white",
            "linecolor": "white",
            "ticks": ""
           }
          },
          "title": {
           "x": 0.05
          },
          "xaxis": {
           "automargin": true,
           "gridcolor": "white",
           "linecolor": "white",
           "ticks": "",
           "title": {
            "standoff": 15
           },
           "zerolinecolor": "white",
           "zerolinewidth": 2
          },
          "yaxis": {
           "automargin": true,
           "gridcolor": "white",
           "linecolor": "white",
           "ticks": "",
           "title": {
            "standoff": 15
           },
           "zerolinecolor": "white",
           "zerolinewidth": 2
          }
         }
        },
        "title": {
         "text": "Web Traffic Across Different Series - APR"
        },
        "xaxis": {
         "anchor": "y",
         "domain": [
          0,
          1
         ],
         "title": {
          "text": "date"
         }
        },
        "yaxis": {
         "anchor": "x",
         "domain": [
          0,
          1
         ],
         "title": {
          "text": "web_traffic"
         }
        }
       }
      }
     },
     "metadata": {},
     "output_type": "display_data"
    },
    {
     "name": "stdout",
     "output_type": "stream",
     "text": [
      "banc sabadell * avg\n"
     ]
    },
    {
     "data": {
      "application/vnd.plotly.v1+json": {
       "config": {
        "plotlyServerURL": "https://plot.ly"
       },
       "data": [
        {
         "hovertemplate": "type=bank_of_interest_event<br>date=%{x}<br>web_traffic=%{y}<extra></extra>",
         "legendgroup": "bank_of_interest_event",
         "line": {
          "color": "#636efa",
          "dash": "solid"
         },
         "marker": {
          "symbol": "circle"
         },
         "mode": "lines",
         "name": "bank_of_interest_event",
         "orientation": "v",
         "showlegend": true,
         "type": "scatter",
         "x": [
          "2023-03-01T00:00:00",
          "2023-04-01T00:00:00",
          "2023-05-01T00:00:00",
          "2023-06-01T00:00:00",
          "2023-07-01T00:00:00"
         ],
         "xaxis": "x",
         "y": [
          1.1660643160835302,
          0.7678072022202916,
          1.0401871119711499,
          0.8978142666073082,
          0.3295779248395598
         ],
         "yaxis": "y"
        },
        {
         "hovertemplate": "type=control_bank_event<br>date=%{x}<br>web_traffic=%{y}<extra></extra>",
         "legendgroup": "control_bank_event",
         "line": {
          "color": "#EF553B",
          "dash": "solid"
         },
         "marker": {
          "symbol": "circle"
         },
         "mode": "lines",
         "name": "control_bank_event",
         "orientation": "v",
         "showlegend": true,
         "type": "scatter",
         "x": [
          "2023-03-01T00:00:00",
          "2023-04-01T00:00:00",
          "2023-05-01T00:00:00",
          "2023-06-01T00:00:00",
          "2023-07-01T00:00:00"
         ],
         "xaxis": "x",
         "y": [
          -0.39220818959631304,
          -0.887260276309192,
          -0.41993470628185564,
          -0.6852550968733458,
          0.012542310808972163
         ],
         "yaxis": "y"
        },
        {
         "hovertemplate": "type=bank_of_interest_non_event<br>date=%{x}<br>web_traffic=%{y}<extra></extra>",
         "legendgroup": "bank_of_interest_non_event",
         "line": {
          "color": "#00cc96",
          "dash": "solid"
         },
         "marker": {
          "symbol": "circle"
         },
         "mode": "lines",
         "name": "bank_of_interest_non_event",
         "orientation": "v",
         "showlegend": true,
         "type": "scatter",
         "x": [
          "2021-12-01T00:00:00",
          "2022-01-01T00:00:00",
          "2022-02-01T00:00:00",
          "2022-03-01T00:00:00",
          "2022-04-01T00:00:00"
         ],
         "xaxis": "x",
         "y": [
          0.2586299746653119,
          0.2586299746653119,
          0.2586299746653119,
          0.2586299746653119,
          0.2586299746653119
         ],
         "yaxis": "y"
        },
        {
         "hovertemplate": "type=control_bank_non_event<br>date=%{x}<br>web_traffic=%{y}<extra></extra>",
         "legendgroup": "control_bank_non_event",
         "line": {
          "color": "#ab63fa",
          "dash": "solid"
         },
         "marker": {
          "symbol": "circle"
         },
         "mode": "lines",
         "name": "control_bank_non_event",
         "orientation": "v",
         "showlegend": true,
         "type": "scatter",
         "x": [
          "2021-12-01T00:00:00",
          "2022-01-01T00:00:00",
          "2022-02-01T00:00:00",
          "2022-03-01T00:00:00",
          "2022-04-01T00:00:00"
         ],
         "xaxis": "x",
         "y": [
          0.09945777601982515,
          -0.0540576133163716,
          -0.01640826573007126,
          0.008081259338711575,
          0.044579133772994474
         ],
         "yaxis": "y"
        }
       ],
       "layout": {
        "legend": {
         "title": {
          "text": "Series"
         },
         "tracegroupgap": 0
        },
        "template": {
         "data": {
          "bar": [
           {
            "error_x": {
             "color": "#2a3f5f"
            },
            "error_y": {
             "color": "#2a3f5f"
            },
            "marker": {
             "line": {
              "color": "#E5ECF6",
              "width": 0.5
             },
             "pattern": {
              "fillmode": "overlay",
              "size": 10,
              "solidity": 0.2
             }
            },
            "type": "bar"
           }
          ],
          "barpolar": [
           {
            "marker": {
             "line": {
              "color": "#E5ECF6",
              "width": 0.5
             },
             "pattern": {
              "fillmode": "overlay",
              "size": 10,
              "solidity": 0.2
             }
            },
            "type": "barpolar"
           }
          ],
          "carpet": [
           {
            "aaxis": {
             "endlinecolor": "#2a3f5f",
             "gridcolor": "white",
             "linecolor": "white",
             "minorgridcolor": "white",
             "startlinecolor": "#2a3f5f"
            },
            "baxis": {
             "endlinecolor": "#2a3f5f",
             "gridcolor": "white",
             "linecolor": "white",
             "minorgridcolor": "white",
             "startlinecolor": "#2a3f5f"
            },
            "type": "carpet"
           }
          ],
          "choropleth": [
           {
            "colorbar": {
             "outlinewidth": 0,
             "ticks": ""
            },
            "type": "choropleth"
           }
          ],
          "contour": [
           {
            "colorbar": {
             "outlinewidth": 0,
             "ticks": ""
            },
            "colorscale": [
             [
              0,
              "#0d0887"
             ],
             [
              0.1111111111111111,
              "#46039f"
             ],
             [
              0.2222222222222222,
              "#7201a8"
             ],
             [
              0.3333333333333333,
              "#9c179e"
             ],
             [
              0.4444444444444444,
              "#bd3786"
             ],
             [
              0.5555555555555556,
              "#d8576b"
             ],
             [
              0.6666666666666666,
              "#ed7953"
             ],
             [
              0.7777777777777778,
              "#fb9f3a"
             ],
             [
              0.8888888888888888,
              "#fdca26"
             ],
             [
              1,
              "#f0f921"
             ]
            ],
            "type": "contour"
           }
          ],
          "contourcarpet": [
           {
            "colorbar": {
             "outlinewidth": 0,
             "ticks": ""
            },
            "type": "contourcarpet"
           }
          ],
          "heatmap": [
           {
            "colorbar": {
             "outlinewidth": 0,
             "ticks": ""
            },
            "colorscale": [
             [
              0,
              "#0d0887"
             ],
             [
              0.1111111111111111,
              "#46039f"
             ],
             [
              0.2222222222222222,
              "#7201a8"
             ],
             [
              0.3333333333333333,
              "#9c179e"
             ],
             [
              0.4444444444444444,
              "#bd3786"
             ],
             [
              0.5555555555555556,
              "#d8576b"
             ],
             [
              0.6666666666666666,
              "#ed7953"
             ],
             [
              0.7777777777777778,
              "#fb9f3a"
             ],
             [
              0.8888888888888888,
              "#fdca26"
             ],
             [
              1,
              "#f0f921"
             ]
            ],
            "type": "heatmap"
           }
          ],
          "heatmapgl": [
           {
            "colorbar": {
             "outlinewidth": 0,
             "ticks": ""
            },
            "colorscale": [
             [
              0,
              "#0d0887"
             ],
             [
              0.1111111111111111,
              "#46039f"
             ],
             [
              0.2222222222222222,
              "#7201a8"
             ],
             [
              0.3333333333333333,
              "#9c179e"
             ],
             [
              0.4444444444444444,
              "#bd3786"
             ],
             [
              0.5555555555555556,
              "#d8576b"
             ],
             [
              0.6666666666666666,
              "#ed7953"
             ],
             [
              0.7777777777777778,
              "#fb9f3a"
             ],
             [
              0.8888888888888888,
              "#fdca26"
             ],
             [
              1,
              "#f0f921"
             ]
            ],
            "type": "heatmapgl"
           }
          ],
          "histogram": [
           {
            "marker": {
             "pattern": {
              "fillmode": "overlay",
              "size": 10,
              "solidity": 0.2
             }
            },
            "type": "histogram"
           }
          ],
          "histogram2d": [
           {
            "colorbar": {
             "outlinewidth": 0,
             "ticks": ""
            },
            "colorscale": [
             [
              0,
              "#0d0887"
             ],
             [
              0.1111111111111111,
              "#46039f"
             ],
             [
              0.2222222222222222,
              "#7201a8"
             ],
             [
              0.3333333333333333,
              "#9c179e"
             ],
             [
              0.4444444444444444,
              "#bd3786"
             ],
             [
              0.5555555555555556,
              "#d8576b"
             ],
             [
              0.6666666666666666,
              "#ed7953"
             ],
             [
              0.7777777777777778,
              "#fb9f3a"
             ],
             [
              0.8888888888888888,
              "#fdca26"
             ],
             [
              1,
              "#f0f921"
             ]
            ],
            "type": "histogram2d"
           }
          ],
          "histogram2dcontour": [
           {
            "colorbar": {
             "outlinewidth": 0,
             "ticks": ""
            },
            "colorscale": [
             [
              0,
              "#0d0887"
             ],
             [
              0.1111111111111111,
              "#46039f"
             ],
             [
              0.2222222222222222,
              "#7201a8"
             ],
             [
              0.3333333333333333,
              "#9c179e"
             ],
             [
              0.4444444444444444,
              "#bd3786"
             ],
             [
              0.5555555555555556,
              "#d8576b"
             ],
             [
              0.6666666666666666,
              "#ed7953"
             ],
             [
              0.7777777777777778,
              "#fb9f3a"
             ],
             [
              0.8888888888888888,
              "#fdca26"
             ],
             [
              1,
              "#f0f921"
             ]
            ],
            "type": "histogram2dcontour"
           }
          ],
          "mesh3d": [
           {
            "colorbar": {
             "outlinewidth": 0,
             "ticks": ""
            },
            "type": "mesh3d"
           }
          ],
          "parcoords": [
           {
            "line": {
             "colorbar": {
              "outlinewidth": 0,
              "ticks": ""
             }
            },
            "type": "parcoords"
           }
          ],
          "pie": [
           {
            "automargin": true,
            "type": "pie"
           }
          ],
          "scatter": [
           {
            "fillpattern": {
             "fillmode": "overlay",
             "size": 10,
             "solidity": 0.2
            },
            "type": "scatter"
           }
          ],
          "scatter3d": [
           {
            "line": {
             "colorbar": {
              "outlinewidth": 0,
              "ticks": ""
             }
            },
            "marker": {
             "colorbar": {
              "outlinewidth": 0,
              "ticks": ""
             }
            },
            "type": "scatter3d"
           }
          ],
          "scattercarpet": [
           {
            "marker": {
             "colorbar": {
              "outlinewidth": 0,
              "ticks": ""
             }
            },
            "type": "scattercarpet"
           }
          ],
          "scattergeo": [
           {
            "marker": {
             "colorbar": {
              "outlinewidth": 0,
              "ticks": ""
             }
            },
            "type": "scattergeo"
           }
          ],
          "scattergl": [
           {
            "marker": {
             "colorbar": {
              "outlinewidth": 0,
              "ticks": ""
             }
            },
            "type": "scattergl"
           }
          ],
          "scattermapbox": [
           {
            "marker": {
             "colorbar": {
              "outlinewidth": 0,
              "ticks": ""
             }
            },
            "type": "scattermapbox"
           }
          ],
          "scatterpolar": [
           {
            "marker": {
             "colorbar": {
              "outlinewidth": 0,
              "ticks": ""
             }
            },
            "type": "scatterpolar"
           }
          ],
          "scatterpolargl": [
           {
            "marker": {
             "colorbar": {
              "outlinewidth": 0,
              "ticks": ""
             }
            },
            "type": "scatterpolargl"
           }
          ],
          "scatterternary": [
           {
            "marker": {
             "colorbar": {
              "outlinewidth": 0,
              "ticks": ""
             }
            },
            "type": "scatterternary"
           }
          ],
          "surface": [
           {
            "colorbar": {
             "outlinewidth": 0,
             "ticks": ""
            },
            "colorscale": [
             [
              0,
              "#0d0887"
             ],
             [
              0.1111111111111111,
              "#46039f"
             ],
             [
              0.2222222222222222,
              "#7201a8"
             ],
             [
              0.3333333333333333,
              "#9c179e"
             ],
             [
              0.4444444444444444,
              "#bd3786"
             ],
             [
              0.5555555555555556,
              "#d8576b"
             ],
             [
              0.6666666666666666,
              "#ed7953"
             ],
             [
              0.7777777777777778,
              "#fb9f3a"
             ],
             [
              0.8888888888888888,
              "#fdca26"
             ],
             [
              1,
              "#f0f921"
             ]
            ],
            "type": "surface"
           }
          ],
          "table": [
           {
            "cells": {
             "fill": {
              "color": "#EBF0F8"
             },
             "line": {
              "color": "white"
             }
            },
            "header": {
             "fill": {
              "color": "#C8D4E3"
             },
             "line": {
              "color": "white"
             }
            },
            "type": "table"
           }
          ]
         },
         "layout": {
          "annotationdefaults": {
           "arrowcolor": "#2a3f5f",
           "arrowhead": 0,
           "arrowwidth": 1
          },
          "autotypenumbers": "strict",
          "coloraxis": {
           "colorbar": {
            "outlinewidth": 0,
            "ticks": ""
           }
          },
          "colorscale": {
           "diverging": [
            [
             0,
             "#8e0152"
            ],
            [
             0.1,
             "#c51b7d"
            ],
            [
             0.2,
             "#de77ae"
            ],
            [
             0.3,
             "#f1b6da"
            ],
            [
             0.4,
             "#fde0ef"
            ],
            [
             0.5,
             "#f7f7f7"
            ],
            [
             0.6,
             "#e6f5d0"
            ],
            [
             0.7,
             "#b8e186"
            ],
            [
             0.8,
             "#7fbc41"
            ],
            [
             0.9,
             "#4d9221"
            ],
            [
             1,
             "#276419"
            ]
           ],
           "sequential": [
            [
             0,
             "#0d0887"
            ],
            [
             0.1111111111111111,
             "#46039f"
            ],
            [
             0.2222222222222222,
             "#7201a8"
            ],
            [
             0.3333333333333333,
             "#9c179e"
            ],
            [
             0.4444444444444444,
             "#bd3786"
            ],
            [
             0.5555555555555556,
             "#d8576b"
            ],
            [
             0.6666666666666666,
             "#ed7953"
            ],
            [
             0.7777777777777778,
             "#fb9f3a"
            ],
            [
             0.8888888888888888,
             "#fdca26"
            ],
            [
             1,
             "#f0f921"
            ]
           ],
           "sequentialminus": [
            [
             0,
             "#0d0887"
            ],
            [
             0.1111111111111111,
             "#46039f"
            ],
            [
             0.2222222222222222,
             "#7201a8"
            ],
            [
             0.3333333333333333,
             "#9c179e"
            ],
            [
             0.4444444444444444,
             "#bd3786"
            ],
            [
             0.5555555555555556,
             "#d8576b"
            ],
            [
             0.6666666666666666,
             "#ed7953"
            ],
            [
             0.7777777777777778,
             "#fb9f3a"
            ],
            [
             0.8888888888888888,
             "#fdca26"
            ],
            [
             1,
             "#f0f921"
            ]
           ]
          },
          "colorway": [
           "#636efa",
           "#EF553B",
           "#00cc96",
           "#ab63fa",
           "#FFA15A",
           "#19d3f3",
           "#FF6692",
           "#B6E880",
           "#FF97FF",
           "#FECB52"
          ],
          "font": {
           "color": "#2a3f5f"
          },
          "geo": {
           "bgcolor": "white",
           "lakecolor": "white",
           "landcolor": "#E5ECF6",
           "showlakes": true,
           "showland": true,
           "subunitcolor": "white"
          },
          "hoverlabel": {
           "align": "left"
          },
          "hovermode": "closest",
          "mapbox": {
           "style": "light"
          },
          "paper_bgcolor": "white",
          "plot_bgcolor": "#E5ECF6",
          "polar": {
           "angularaxis": {
            "gridcolor": "white",
            "linecolor": "white",
            "ticks": ""
           },
           "bgcolor": "#E5ECF6",
           "radialaxis": {
            "gridcolor": "white",
            "linecolor": "white",
            "ticks": ""
           }
          },
          "scene": {
           "xaxis": {
            "backgroundcolor": "#E5ECF6",
            "gridcolor": "white",
            "gridwidth": 2,
            "linecolor": "white",
            "showbackground": true,
            "ticks": "",
            "zerolinecolor": "white"
           },
           "yaxis": {
            "backgroundcolor": "#E5ECF6",
            "gridcolor": "white",
            "gridwidth": 2,
            "linecolor": "white",
            "showbackground": true,
            "ticks": "",
            "zerolinecolor": "white"
           },
           "zaxis": {
            "backgroundcolor": "#E5ECF6",
            "gridcolor": "white",
            "gridwidth": 2,
            "linecolor": "white",
            "showbackground": true,
            "ticks": "",
            "zerolinecolor": "white"
           }
          },
          "shapedefaults": {
           "line": {
            "color": "#2a3f5f"
           }
          },
          "ternary": {
           "aaxis": {
            "gridcolor": "white",
            "linecolor": "white",
            "ticks": ""
           },
           "baxis": {
            "gridcolor": "white",
            "linecolor": "white",
            "ticks": ""
           },
           "bgcolor": "#E5ECF6",
           "caxis": {
            "gridcolor": "white",
            "linecolor": "white",
            "ticks": ""
           }
          },
          "title": {
           "x": 0.05
          },
          "xaxis": {
           "automargin": true,
           "gridcolor": "white",
           "linecolor": "white",
           "ticks": "",
           "title": {
            "standoff": 15
           },
           "zerolinecolor": "white",
           "zerolinewidth": 2
          },
          "yaxis": {
           "automargin": true,
           "gridcolor": "white",
           "linecolor": "white",
           "ticks": "",
           "title": {
            "standoff": 15
           },
           "zerolinecolor": "white",
           "zerolinewidth": 2
          }
         }
        },
        "title": {
         "text": "Web Traffic Across Different Series - APR"
        },
        "xaxis": {
         "anchor": "y",
         "domain": [
          0,
          1
         ],
         "title": {
          "text": "date"
         }
        },
        "yaxis": {
         "anchor": "x",
         "domain": [
          0,
          1
         ],
         "title": {
          "text": "web_traffic"
         }
        }
       }
      }
     },
     "metadata": {},
     "output_type": "display_data"
    },
    {
     "name": "stdout",
     "output_type": "stream",
     "text": [
      "openbank * avg\n"
     ]
    },
    {
     "data": {
      "application/vnd.plotly.v1+json": {
       "config": {
        "plotlyServerURL": "https://plot.ly"
       },
       "data": [
        {
         "hovertemplate": "type=bank_of_interest_event<br>date=%{x}<br>web_traffic=%{y}<extra></extra>",
         "legendgroup": "bank_of_interest_event",
         "line": {
          "color": "#636efa",
          "dash": "solid"
         },
         "marker": {
          "symbol": "circle"
         },
         "mode": "lines",
         "name": "bank_of_interest_event",
         "orientation": "v",
         "showlegend": true,
         "type": "scatter",
         "x": [
          "2022-02-01T00:00:00",
          "2022-03-01T00:00:00",
          "2022-04-01T00:00:00",
          "2022-05-01T00:00:00",
          "2022-06-01T00:00:00"
         ],
         "xaxis": "x",
         "y": [
          0.11538720064326276,
          0.11538720064326276,
          0.11538720064326276,
          -0.15650148389751706,
          0.27724538165786516
         ],
         "yaxis": "y"
        },
        {
         "hovertemplate": "type=control_bank_event<br>date=%{x}<br>web_traffic=%{y}<extra></extra>",
         "legendgroup": "control_bank_event",
         "line": {
          "color": "#EF553B",
          "dash": "solid"
         },
         "marker": {
          "symbol": "circle"
         },
         "mode": "lines",
         "name": "control_bank_event",
         "orientation": "v",
         "showlegend": true,
         "type": "scatter",
         "x": [
          "2022-02-01T00:00:00",
          "2022-03-01T00:00:00",
          "2022-04-01T00:00:00",
          "2022-05-01T00:00:00",
          "2022-06-01T00:00:00"
         ],
         "xaxis": "x",
         "y": [
          -0.35039542630991993,
          -0.33202828250833283,
          -0.3046548766826206,
          -0.13324237315290507,
          -0.2842299961876826
         ],
         "yaxis": "y"
        },
        {
         "hovertemplate": "type=bank_of_interest_non_event<br>date=%{x}<br>web_traffic=%{y}<extra></extra>",
         "legendgroup": "bank_of_interest_non_event",
         "line": {
          "color": "#00cc96",
          "dash": "solid"
         },
         "marker": {
          "symbol": "circle"
         },
         "mode": "lines",
         "name": "bank_of_interest_non_event",
         "orientation": "v",
         "showlegend": true,
         "type": "scatter",
         "x": [
          "2022-05-01T00:00:00",
          "2022-06-01T00:00:00",
          "2022-07-01T00:00:00",
          "2022-08-01T00:00:00",
          "2022-09-01T00:00:00"
         ],
         "xaxis": "x",
         "y": [
          -0.15650148389751706,
          0.27724538165786516,
          0.23147748286817824,
          0.25900050318019124,
          0.25900050318019124
         ],
         "yaxis": "y"
        },
        {
         "hovertemplate": "type=control_bank_non_event<br>date=%{x}<br>web_traffic=%{y}<extra></extra>",
         "legendgroup": "control_bank_non_event",
         "line": {
          "color": "#ab63fa",
          "dash": "solid"
         },
         "marker": {
          "symbol": "circle"
         },
         "mode": "lines",
         "name": "control_bank_non_event",
         "orientation": "v",
         "showlegend": true,
         "type": "scatter",
         "x": [
          "2022-05-01T00:00:00",
          "2022-06-01T00:00:00",
          "2022-07-01T00:00:00",
          "2022-08-01T00:00:00",
          "2022-09-01T00:00:00"
         ],
         "xaxis": "x",
         "y": [
          -0.13324237315290507,
          -0.2842299961876826,
          -0.12842998733177854,
          0.028656684972887626,
          0.12366534230849777
         ],
         "yaxis": "y"
        }
       ],
       "layout": {
        "legend": {
         "title": {
          "text": "Series"
         },
         "tracegroupgap": 0
        },
        "template": {
         "data": {
          "bar": [
           {
            "error_x": {
             "color": "#2a3f5f"
            },
            "error_y": {
             "color": "#2a3f5f"
            },
            "marker": {
             "line": {
              "color": "#E5ECF6",
              "width": 0.5
             },
             "pattern": {
              "fillmode": "overlay",
              "size": 10,
              "solidity": 0.2
             }
            },
            "type": "bar"
           }
          ],
          "barpolar": [
           {
            "marker": {
             "line": {
              "color": "#E5ECF6",
              "width": 0.5
             },
             "pattern": {
              "fillmode": "overlay",
              "size": 10,
              "solidity": 0.2
             }
            },
            "type": "barpolar"
           }
          ],
          "carpet": [
           {
            "aaxis": {
             "endlinecolor": "#2a3f5f",
             "gridcolor": "white",
             "linecolor": "white",
             "minorgridcolor": "white",
             "startlinecolor": "#2a3f5f"
            },
            "baxis": {
             "endlinecolor": "#2a3f5f",
             "gridcolor": "white",
             "linecolor": "white",
             "minorgridcolor": "white",
             "startlinecolor": "#2a3f5f"
            },
            "type": "carpet"
           }
          ],
          "choropleth": [
           {
            "colorbar": {
             "outlinewidth": 0,
             "ticks": ""
            },
            "type": "choropleth"
           }
          ],
          "contour": [
           {
            "colorbar": {
             "outlinewidth": 0,
             "ticks": ""
            },
            "colorscale": [
             [
              0,
              "#0d0887"
             ],
             [
              0.1111111111111111,
              "#46039f"
             ],
             [
              0.2222222222222222,
              "#7201a8"
             ],
             [
              0.3333333333333333,
              "#9c179e"
             ],
             [
              0.4444444444444444,
              "#bd3786"
             ],
             [
              0.5555555555555556,
              "#d8576b"
             ],
             [
              0.6666666666666666,
              "#ed7953"
             ],
             [
              0.7777777777777778,
              "#fb9f3a"
             ],
             [
              0.8888888888888888,
              "#fdca26"
             ],
             [
              1,
              "#f0f921"
             ]
            ],
            "type": "contour"
           }
          ],
          "contourcarpet": [
           {
            "colorbar": {
             "outlinewidth": 0,
             "ticks": ""
            },
            "type": "contourcarpet"
           }
          ],
          "heatmap": [
           {
            "colorbar": {
             "outlinewidth": 0,
             "ticks": ""
            },
            "colorscale": [
             [
              0,
              "#0d0887"
             ],
             [
              0.1111111111111111,
              "#46039f"
             ],
             [
              0.2222222222222222,
              "#7201a8"
             ],
             [
              0.3333333333333333,
              "#9c179e"
             ],
             [
              0.4444444444444444,
              "#bd3786"
             ],
             [
              0.5555555555555556,
              "#d8576b"
             ],
             [
              0.6666666666666666,
              "#ed7953"
             ],
             [
              0.7777777777777778,
              "#fb9f3a"
             ],
             [
              0.8888888888888888,
              "#fdca26"
             ],
             [
              1,
              "#f0f921"
             ]
            ],
            "type": "heatmap"
           }
          ],
          "heatmapgl": [
           {
            "colorbar": {
             "outlinewidth": 0,
             "ticks": ""
            },
            "colorscale": [
             [
              0,
              "#0d0887"
             ],
             [
              0.1111111111111111,
              "#46039f"
             ],
             [
              0.2222222222222222,
              "#7201a8"
             ],
             [
              0.3333333333333333,
              "#9c179e"
             ],
             [
              0.4444444444444444,
              "#bd3786"
             ],
             [
              0.5555555555555556,
              "#d8576b"
             ],
             [
              0.6666666666666666,
              "#ed7953"
             ],
             [
              0.7777777777777778,
              "#fb9f3a"
             ],
             [
              0.8888888888888888,
              "#fdca26"
             ],
             [
              1,
              "#f0f921"
             ]
            ],
            "type": "heatmapgl"
           }
          ],
          "histogram": [
           {
            "marker": {
             "pattern": {
              "fillmode": "overlay",
              "size": 10,
              "solidity": 0.2
             }
            },
            "type": "histogram"
           }
          ],
          "histogram2d": [
           {
            "colorbar": {
             "outlinewidth": 0,
             "ticks": ""
            },
            "colorscale": [
             [
              0,
              "#0d0887"
             ],
             [
              0.1111111111111111,
              "#46039f"
             ],
             [
              0.2222222222222222,
              "#7201a8"
             ],
             [
              0.3333333333333333,
              "#9c179e"
             ],
             [
              0.4444444444444444,
              "#bd3786"
             ],
             [
              0.5555555555555556,
              "#d8576b"
             ],
             [
              0.6666666666666666,
              "#ed7953"
             ],
             [
              0.7777777777777778,
              "#fb9f3a"
             ],
             [
              0.8888888888888888,
              "#fdca26"
             ],
             [
              1,
              "#f0f921"
             ]
            ],
            "type": "histogram2d"
           }
          ],
          "histogram2dcontour": [
           {
            "colorbar": {
             "outlinewidth": 0,
             "ticks": ""
            },
            "colorscale": [
             [
              0,
              "#0d0887"
             ],
             [
              0.1111111111111111,
              "#46039f"
             ],
             [
              0.2222222222222222,
              "#7201a8"
             ],
             [
              0.3333333333333333,
              "#9c179e"
             ],
             [
              0.4444444444444444,
              "#bd3786"
             ],
             [
              0.5555555555555556,
              "#d8576b"
             ],
             [
              0.6666666666666666,
              "#ed7953"
             ],
             [
              0.7777777777777778,
              "#fb9f3a"
             ],
             [
              0.8888888888888888,
              "#fdca26"
             ],
             [
              1,
              "#f0f921"
             ]
            ],
            "type": "histogram2dcontour"
           }
          ],
          "mesh3d": [
           {
            "colorbar": {
             "outlinewidth": 0,
             "ticks": ""
            },
            "type": "mesh3d"
           }
          ],
          "parcoords": [
           {
            "line": {
             "colorbar": {
              "outlinewidth": 0,
              "ticks": ""
             }
            },
            "type": "parcoords"
           }
          ],
          "pie": [
           {
            "automargin": true,
            "type": "pie"
           }
          ],
          "scatter": [
           {
            "fillpattern": {
             "fillmode": "overlay",
             "size": 10,
             "solidity": 0.2
            },
            "type": "scatter"
           }
          ],
          "scatter3d": [
           {
            "line": {
             "colorbar": {
              "outlinewidth": 0,
              "ticks": ""
             }
            },
            "marker": {
             "colorbar": {
              "outlinewidth": 0,
              "ticks": ""
             }
            },
            "type": "scatter3d"
           }
          ],
          "scattercarpet": [
           {
            "marker": {
             "colorbar": {
              "outlinewidth": 0,
              "ticks": ""
             }
            },
            "type": "scattercarpet"
           }
          ],
          "scattergeo": [
           {
            "marker": {
             "colorbar": {
              "outlinewidth": 0,
              "ticks": ""
             }
            },
            "type": "scattergeo"
           }
          ],
          "scattergl": [
           {
            "marker": {
             "colorbar": {
              "outlinewidth": 0,
              "ticks": ""
             }
            },
            "type": "scattergl"
           }
          ],
          "scattermapbox": [
           {
            "marker": {
             "colorbar": {
              "outlinewidth": 0,
              "ticks": ""
             }
            },
            "type": "scattermapbox"
           }
          ],
          "scatterpolar": [
           {
            "marker": {
             "colorbar": {
              "outlinewidth": 0,
              "ticks": ""
             }
            },
            "type": "scatterpolar"
           }
          ],
          "scatterpolargl": [
           {
            "marker": {
             "colorbar": {
              "outlinewidth": 0,
              "ticks": ""
             }
            },
            "type": "scatterpolargl"
           }
          ],
          "scatterternary": [
           {
            "marker": {
             "colorbar": {
              "outlinewidth": 0,
              "ticks": ""
             }
            },
            "type": "scatterternary"
           }
          ],
          "surface": [
           {
            "colorbar": {
             "outlinewidth": 0,
             "ticks": ""
            },
            "colorscale": [
             [
              0,
              "#0d0887"
             ],
             [
              0.1111111111111111,
              "#46039f"
             ],
             [
              0.2222222222222222,
              "#7201a8"
             ],
             [
              0.3333333333333333,
              "#9c179e"
             ],
             [
              0.4444444444444444,
              "#bd3786"
             ],
             [
              0.5555555555555556,
              "#d8576b"
             ],
             [
              0.6666666666666666,
              "#ed7953"
             ],
             [
              0.7777777777777778,
              "#fb9f3a"
             ],
             [
              0.8888888888888888,
              "#fdca26"
             ],
             [
              1,
              "#f0f921"
             ]
            ],
            "type": "surface"
           }
          ],
          "table": [
           {
            "cells": {
             "fill": {
              "color": "#EBF0F8"
             },
             "line": {
              "color": "white"
             }
            },
            "header": {
             "fill": {
              "color": "#C8D4E3"
             },
             "line": {
              "color": "white"
             }
            },
            "type": "table"
           }
          ]
         },
         "layout": {
          "annotationdefaults": {
           "arrowcolor": "#2a3f5f",
           "arrowhead": 0,
           "arrowwidth": 1
          },
          "autotypenumbers": "strict",
          "coloraxis": {
           "colorbar": {
            "outlinewidth": 0,
            "ticks": ""
           }
          },
          "colorscale": {
           "diverging": [
            [
             0,
             "#8e0152"
            ],
            [
             0.1,
             "#c51b7d"
            ],
            [
             0.2,
             "#de77ae"
            ],
            [
             0.3,
             "#f1b6da"
            ],
            [
             0.4,
             "#fde0ef"
            ],
            [
             0.5,
             "#f7f7f7"
            ],
            [
             0.6,
             "#e6f5d0"
            ],
            [
             0.7,
             "#b8e186"
            ],
            [
             0.8,
             "#7fbc41"
            ],
            [
             0.9,
             "#4d9221"
            ],
            [
             1,
             "#276419"
            ]
           ],
           "sequential": [
            [
             0,
             "#0d0887"
            ],
            [
             0.1111111111111111,
             "#46039f"
            ],
            [
             0.2222222222222222,
             "#7201a8"
            ],
            [
             0.3333333333333333,
             "#9c179e"
            ],
            [
             0.4444444444444444,
             "#bd3786"
            ],
            [
             0.5555555555555556,
             "#d8576b"
            ],
            [
             0.6666666666666666,
             "#ed7953"
            ],
            [
             0.7777777777777778,
             "#fb9f3a"
            ],
            [
             0.8888888888888888,
             "#fdca26"
            ],
            [
             1,
             "#f0f921"
            ]
           ],
           "sequentialminus": [
            [
             0,
             "#0d0887"
            ],
            [
             0.1111111111111111,
             "#46039f"
            ],
            [
             0.2222222222222222,
             "#7201a8"
            ],
            [
             0.3333333333333333,
             "#9c179e"
            ],
            [
             0.4444444444444444,
             "#bd3786"
            ],
            [
             0.5555555555555556,
             "#d8576b"
            ],
            [
             0.6666666666666666,
             "#ed7953"
            ],
            [
             0.7777777777777778,
             "#fb9f3a"
            ],
            [
             0.8888888888888888,
             "#fdca26"
            ],
            [
             1,
             "#f0f921"
            ]
           ]
          },
          "colorway": [
           "#636efa",
           "#EF553B",
           "#00cc96",
           "#ab63fa",
           "#FFA15A",
           "#19d3f3",
           "#FF6692",
           "#B6E880",
           "#FF97FF",
           "#FECB52"
          ],
          "font": {
           "color": "#2a3f5f"
          },
          "geo": {
           "bgcolor": "white",
           "lakecolor": "white",
           "landcolor": "#E5ECF6",
           "showlakes": true,
           "showland": true,
           "subunitcolor": "white"
          },
          "hoverlabel": {
           "align": "left"
          },
          "hovermode": "closest",
          "mapbox": {
           "style": "light"
          },
          "paper_bgcolor": "white",
          "plot_bgcolor": "#E5ECF6",
          "polar": {
           "angularaxis": {
            "gridcolor": "white",
            "linecolor": "white",
            "ticks": ""
           },
           "bgcolor": "#E5ECF6",
           "radialaxis": {
            "gridcolor": "white",
            "linecolor": "white",
            "ticks": ""
           }
          },
          "scene": {
           "xaxis": {
            "backgroundcolor": "#E5ECF6",
            "gridcolor": "white",
            "gridwidth": 2,
            "linecolor": "white",
            "showbackground": true,
            "ticks": "",
            "zerolinecolor": "white"
           },
           "yaxis": {
            "backgroundcolor": "#E5ECF6",
            "gridcolor": "white",
            "gridwidth": 2,
            "linecolor": "white",
            "showbackground": true,
            "ticks": "",
            "zerolinecolor": "white"
           },
           "zaxis": {
            "backgroundcolor": "#E5ECF6",
            "gridcolor": "white",
            "gridwidth": 2,
            "linecolor": "white",
            "showbackground": true,
            "ticks": "",
            "zerolinecolor": "white"
           }
          },
          "shapedefaults": {
           "line": {
            "color": "#2a3f5f"
           }
          },
          "ternary": {
           "aaxis": {
            "gridcolor": "white",
            "linecolor": "white",
            "ticks": ""
           },
           "baxis": {
            "gridcolor": "white",
            "linecolor": "white",
            "ticks": ""
           },
           "bgcolor": "#E5ECF6",
           "caxis": {
            "gridcolor": "white",
            "linecolor": "white",
            "ticks": ""
           }
          },
          "title": {
           "x": 0.05
          },
          "xaxis": {
           "automargin": true,
           "gridcolor": "white",
           "linecolor": "white",
           "ticks": "",
           "title": {
            "standoff": 15
           },
           "zerolinecolor": "white",
           "zerolinewidth": 2
          },
          "yaxis": {
           "automargin": true,
           "gridcolor": "white",
           "linecolor": "white",
           "ticks": "",
           "title": {
            "standoff": 15
           },
           "zerolinecolor": "white",
           "zerolinewidth": 2
          }
         }
        },
        "title": {
         "text": "Web Traffic Across Different Series - APR"
        },
        "xaxis": {
         "anchor": "y",
         "domain": [
          0,
          1
         ],
         "title": {
          "text": "date"
         }
        },
        "yaxis": {
         "anchor": "x",
         "domain": [
          0,
          1
         ],
         "title": {
          "text": "web_traffic"
         }
        }
       }
      }
     },
     "metadata": {},
     "output_type": "display_data"
    },
    {
     "name": "stdout",
     "output_type": "stream",
     "text": [
      "openbank * avg\n"
     ]
    },
    {
     "data": {
      "application/vnd.plotly.v1+json": {
       "config": {
        "plotlyServerURL": "https://plot.ly"
       },
       "data": [
        {
         "hovertemplate": "type=bank_of_interest_event<br>date=%{x}<br>web_traffic=%{y}<extra></extra>",
         "legendgroup": "bank_of_interest_event",
         "line": {
          "color": "#636efa",
          "dash": "solid"
         },
         "marker": {
          "symbol": "circle"
         },
         "mode": "lines",
         "name": "bank_of_interest_event",
         "orientation": "v",
         "showlegend": true,
         "type": "scatter",
         "x": [
          "2023-02-01T00:00:00",
          "2023-03-01T00:00:00",
          "2023-04-01T00:00:00",
          "2023-05-01T00:00:00",
          "2023-06-01T00:00:00"
         ],
         "xaxis": "x",
         "y": [
          -0.94355773029942,
          0.3875599759905025,
          0.01281358776048339,
          0.2933047796203221,
          0.07883554421308464
         ],
         "yaxis": "y"
        },
        {
         "hovertemplate": "type=control_bank_event<br>date=%{x}<br>web_traffic=%{y}<extra></extra>",
         "legendgroup": "control_bank_event",
         "line": {
          "color": "#EF553B",
          "dash": "solid"
         },
         "marker": {
          "symbol": "circle"
         },
         "mode": "lines",
         "name": "control_bank_event",
         "orientation": "v",
         "showlegend": true,
         "type": "scatter",
         "x": [
          "2023-02-01T00:00:00",
          "2023-03-01T00:00:00",
          "2023-04-01T00:00:00",
          "2023-05-01T00:00:00",
          "2023-06-01T00:00:00"
         ],
         "xaxis": "x",
         "y": [
          -0.17129802597679838,
          -0.25574758069762726,
          -0.7314993612633027,
          -0.30510087662955937,
          -0.5408893381877345
         ],
         "yaxis": "y"
        },
        {
         "hovertemplate": "type=bank_of_interest_non_event<br>date=%{x}<br>web_traffic=%{y}<extra></extra>",
         "legendgroup": "bank_of_interest_non_event",
         "line": {
          "color": "#00cc96",
          "dash": "solid"
         },
         "marker": {
          "symbol": "circle"
         },
         "mode": "lines",
         "name": "bank_of_interest_non_event",
         "orientation": "v",
         "showlegend": true,
         "type": "scatter",
         "x": [
          "2022-05-01T00:00:00",
          "2022-06-01T00:00:00",
          "2022-07-01T00:00:00",
          "2022-08-01T00:00:00",
          "2022-09-01T00:00:00"
         ],
         "xaxis": "x",
         "y": [
          -0.15650148389751706,
          0.27724538165786516,
          0.23147748286817824,
          0.25900050318019124,
          0.25900050318019124
         ],
         "yaxis": "y"
        },
        {
         "hovertemplate": "type=control_bank_non_event<br>date=%{x}<br>web_traffic=%{y}<extra></extra>",
         "legendgroup": "control_bank_non_event",
         "line": {
          "color": "#ab63fa",
          "dash": "solid"
         },
         "marker": {
          "symbol": "circle"
         },
         "mode": "lines",
         "name": "control_bank_non_event",
         "orientation": "v",
         "showlegend": true,
         "type": "scatter",
         "x": [
          "2022-05-01T00:00:00",
          "2022-06-01T00:00:00",
          "2022-07-01T00:00:00",
          "2022-08-01T00:00:00",
          "2022-09-01T00:00:00"
         ],
         "xaxis": "x",
         "y": [
          -0.13324237315290507,
          -0.2842299961876826,
          -0.12842998733177854,
          0.028656684972887626,
          0.12366534230849777
         ],
         "yaxis": "y"
        }
       ],
       "layout": {
        "legend": {
         "title": {
          "text": "Series"
         },
         "tracegroupgap": 0
        },
        "template": {
         "data": {
          "bar": [
           {
            "error_x": {
             "color": "#2a3f5f"
            },
            "error_y": {
             "color": "#2a3f5f"
            },
            "marker": {
             "line": {
              "color": "#E5ECF6",
              "width": 0.5
             },
             "pattern": {
              "fillmode": "overlay",
              "size": 10,
              "solidity": 0.2
             }
            },
            "type": "bar"
           }
          ],
          "barpolar": [
           {
            "marker": {
             "line": {
              "color": "#E5ECF6",
              "width": 0.5
             },
             "pattern": {
              "fillmode": "overlay",
              "size": 10,
              "solidity": 0.2
             }
            },
            "type": "barpolar"
           }
          ],
          "carpet": [
           {
            "aaxis": {
             "endlinecolor": "#2a3f5f",
             "gridcolor": "white",
             "linecolor": "white",
             "minorgridcolor": "white",
             "startlinecolor": "#2a3f5f"
            },
            "baxis": {
             "endlinecolor": "#2a3f5f",
             "gridcolor": "white",
             "linecolor": "white",
             "minorgridcolor": "white",
             "startlinecolor": "#2a3f5f"
            },
            "type": "carpet"
           }
          ],
          "choropleth": [
           {
            "colorbar": {
             "outlinewidth": 0,
             "ticks": ""
            },
            "type": "choropleth"
           }
          ],
          "contour": [
           {
            "colorbar": {
             "outlinewidth": 0,
             "ticks": ""
            },
            "colorscale": [
             [
              0,
              "#0d0887"
             ],
             [
              0.1111111111111111,
              "#46039f"
             ],
             [
              0.2222222222222222,
              "#7201a8"
             ],
             [
              0.3333333333333333,
              "#9c179e"
             ],
             [
              0.4444444444444444,
              "#bd3786"
             ],
             [
              0.5555555555555556,
              "#d8576b"
             ],
             [
              0.6666666666666666,
              "#ed7953"
             ],
             [
              0.7777777777777778,
              "#fb9f3a"
             ],
             [
              0.8888888888888888,
              "#fdca26"
             ],
             [
              1,
              "#f0f921"
             ]
            ],
            "type": "contour"
           }
          ],
          "contourcarpet": [
           {
            "colorbar": {
             "outlinewidth": 0,
             "ticks": ""
            },
            "type": "contourcarpet"
           }
          ],
          "heatmap": [
           {
            "colorbar": {
             "outlinewidth": 0,
             "ticks": ""
            },
            "colorscale": [
             [
              0,
              "#0d0887"
             ],
             [
              0.1111111111111111,
              "#46039f"
             ],
             [
              0.2222222222222222,
              "#7201a8"
             ],
             [
              0.3333333333333333,
              "#9c179e"
             ],
             [
              0.4444444444444444,
              "#bd3786"
             ],
             [
              0.5555555555555556,
              "#d8576b"
             ],
             [
              0.6666666666666666,
              "#ed7953"
             ],
             [
              0.7777777777777778,
              "#fb9f3a"
             ],
             [
              0.8888888888888888,
              "#fdca26"
             ],
             [
              1,
              "#f0f921"
             ]
            ],
            "type": "heatmap"
           }
          ],
          "heatmapgl": [
           {
            "colorbar": {
             "outlinewidth": 0,
             "ticks": ""
            },
            "colorscale": [
             [
              0,
              "#0d0887"
             ],
             [
              0.1111111111111111,
              "#46039f"
             ],
             [
              0.2222222222222222,
              "#7201a8"
             ],
             [
              0.3333333333333333,
              "#9c179e"
             ],
             [
              0.4444444444444444,
              "#bd3786"
             ],
             [
              0.5555555555555556,
              "#d8576b"
             ],
             [
              0.6666666666666666,
              "#ed7953"
             ],
             [
              0.7777777777777778,
              "#fb9f3a"
             ],
             [
              0.8888888888888888,
              "#fdca26"
             ],
             [
              1,
              "#f0f921"
             ]
            ],
            "type": "heatmapgl"
           }
          ],
          "histogram": [
           {
            "marker": {
             "pattern": {
              "fillmode": "overlay",
              "size": 10,
              "solidity": 0.2
             }
            },
            "type": "histogram"
           }
          ],
          "histogram2d": [
           {
            "colorbar": {
             "outlinewidth": 0,
             "ticks": ""
            },
            "colorscale": [
             [
              0,
              "#0d0887"
             ],
             [
              0.1111111111111111,
              "#46039f"
             ],
             [
              0.2222222222222222,
              "#7201a8"
             ],
             [
              0.3333333333333333,
              "#9c179e"
             ],
             [
              0.4444444444444444,
              "#bd3786"
             ],
             [
              0.5555555555555556,
              "#d8576b"
             ],
             [
              0.6666666666666666,
              "#ed7953"
             ],
             [
              0.7777777777777778,
              "#fb9f3a"
             ],
             [
              0.8888888888888888,
              "#fdca26"
             ],
             [
              1,
              "#f0f921"
             ]
            ],
            "type": "histogram2d"
           }
          ],
          "histogram2dcontour": [
           {
            "colorbar": {
             "outlinewidth": 0,
             "ticks": ""
            },
            "colorscale": [
             [
              0,
              "#0d0887"
             ],
             [
              0.1111111111111111,
              "#46039f"
             ],
             [
              0.2222222222222222,
              "#7201a8"
             ],
             [
              0.3333333333333333,
              "#9c179e"
             ],
             [
              0.4444444444444444,
              "#bd3786"
             ],
             [
              0.5555555555555556,
              "#d8576b"
             ],
             [
              0.6666666666666666,
              "#ed7953"
             ],
             [
              0.7777777777777778,
              "#fb9f3a"
             ],
             [
              0.8888888888888888,
              "#fdca26"
             ],
             [
              1,
              "#f0f921"
             ]
            ],
            "type": "histogram2dcontour"
           }
          ],
          "mesh3d": [
           {
            "colorbar": {
             "outlinewidth": 0,
             "ticks": ""
            },
            "type": "mesh3d"
           }
          ],
          "parcoords": [
           {
            "line": {
             "colorbar": {
              "outlinewidth": 0,
              "ticks": ""
             }
            },
            "type": "parcoords"
           }
          ],
          "pie": [
           {
            "automargin": true,
            "type": "pie"
           }
          ],
          "scatter": [
           {
            "fillpattern": {
             "fillmode": "overlay",
             "size": 10,
             "solidity": 0.2
            },
            "type": "scatter"
           }
          ],
          "scatter3d": [
           {
            "line": {
             "colorbar": {
              "outlinewidth": 0,
              "ticks": ""
             }
            },
            "marker": {
             "colorbar": {
              "outlinewidth": 0,
              "ticks": ""
             }
            },
            "type": "scatter3d"
           }
          ],
          "scattercarpet": [
           {
            "marker": {
             "colorbar": {
              "outlinewidth": 0,
              "ticks": ""
             }
            },
            "type": "scattercarpet"
           }
          ],
          "scattergeo": [
           {
            "marker": {
             "colorbar": {
              "outlinewidth": 0,
              "ticks": ""
             }
            },
            "type": "scattergeo"
           }
          ],
          "scattergl": [
           {
            "marker": {
             "colorbar": {
              "outlinewidth": 0,
              "ticks": ""
             }
            },
            "type": "scattergl"
           }
          ],
          "scattermapbox": [
           {
            "marker": {
             "colorbar": {
              "outlinewidth": 0,
              "ticks": ""
             }
            },
            "type": "scattermapbox"
           }
          ],
          "scatterpolar": [
           {
            "marker": {
             "colorbar": {
              "outlinewidth": 0,
              "ticks": ""
             }
            },
            "type": "scatterpolar"
           }
          ],
          "scatterpolargl": [
           {
            "marker": {
             "colorbar": {
              "outlinewidth": 0,
              "ticks": ""
             }
            },
            "type": "scatterpolargl"
           }
          ],
          "scatterternary": [
           {
            "marker": {
             "colorbar": {
              "outlinewidth": 0,
              "ticks": ""
             }
            },
            "type": "scatterternary"
           }
          ],
          "surface": [
           {
            "colorbar": {
             "outlinewidth": 0,
             "ticks": ""
            },
            "colorscale": [
             [
              0,
              "#0d0887"
             ],
             [
              0.1111111111111111,
              "#46039f"
             ],
             [
              0.2222222222222222,
              "#7201a8"
             ],
             [
              0.3333333333333333,
              "#9c179e"
             ],
             [
              0.4444444444444444,
              "#bd3786"
             ],
             [
              0.5555555555555556,
              "#d8576b"
             ],
             [
              0.6666666666666666,
              "#ed7953"
             ],
             [
              0.7777777777777778,
              "#fb9f3a"
             ],
             [
              0.8888888888888888,
              "#fdca26"
             ],
             [
              1,
              "#f0f921"
             ]
            ],
            "type": "surface"
           }
          ],
          "table": [
           {
            "cells": {
             "fill": {
              "color": "#EBF0F8"
             },
             "line": {
              "color": "white"
             }
            },
            "header": {
             "fill": {
              "color": "#C8D4E3"
             },
             "line": {
              "color": "white"
             }
            },
            "type": "table"
           }
          ]
         },
         "layout": {
          "annotationdefaults": {
           "arrowcolor": "#2a3f5f",
           "arrowhead": 0,
           "arrowwidth": 1
          },
          "autotypenumbers": "strict",
          "coloraxis": {
           "colorbar": {
            "outlinewidth": 0,
            "ticks": ""
           }
          },
          "colorscale": {
           "diverging": [
            [
             0,
             "#8e0152"
            ],
            [
             0.1,
             "#c51b7d"
            ],
            [
             0.2,
             "#de77ae"
            ],
            [
             0.3,
             "#f1b6da"
            ],
            [
             0.4,
             "#fde0ef"
            ],
            [
             0.5,
             "#f7f7f7"
            ],
            [
             0.6,
             "#e6f5d0"
            ],
            [
             0.7,
             "#b8e186"
            ],
            [
             0.8,
             "#7fbc41"
            ],
            [
             0.9,
             "#4d9221"
            ],
            [
             1,
             "#276419"
            ]
           ],
           "sequential": [
            [
             0,
             "#0d0887"
            ],
            [
             0.1111111111111111,
             "#46039f"
            ],
            [
             0.2222222222222222,
             "#7201a8"
            ],
            [
             0.3333333333333333,
             "#9c179e"
            ],
            [
             0.4444444444444444,
             "#bd3786"
            ],
            [
             0.5555555555555556,
             "#d8576b"
            ],
            [
             0.6666666666666666,
             "#ed7953"
            ],
            [
             0.7777777777777778,
             "#fb9f3a"
            ],
            [
             0.8888888888888888,
             "#fdca26"
            ],
            [
             1,
             "#f0f921"
            ]
           ],
           "sequentialminus": [
            [
             0,
             "#0d0887"
            ],
            [
             0.1111111111111111,
             "#46039f"
            ],
            [
             0.2222222222222222,
             "#7201a8"
            ],
            [
             0.3333333333333333,
             "#9c179e"
            ],
            [
             0.4444444444444444,
             "#bd3786"
            ],
            [
             0.5555555555555556,
             "#d8576b"
            ],
            [
             0.6666666666666666,
             "#ed7953"
            ],
            [
             0.7777777777777778,
             "#fb9f3a"
            ],
            [
             0.8888888888888888,
             "#fdca26"
            ],
            [
             1,
             "#f0f921"
            ]
           ]
          },
          "colorway": [
           "#636efa",
           "#EF553B",
           "#00cc96",
           "#ab63fa",
           "#FFA15A",
           "#19d3f3",
           "#FF6692",
           "#B6E880",
           "#FF97FF",
           "#FECB52"
          ],
          "font": {
           "color": "#2a3f5f"
          },
          "geo": {
           "bgcolor": "white",
           "lakecolor": "white",
           "landcolor": "#E5ECF6",
           "showlakes": true,
           "showland": true,
           "subunitcolor": "white"
          },
          "hoverlabel": {
           "align": "left"
          },
          "hovermode": "closest",
          "mapbox": {
           "style": "light"
          },
          "paper_bgcolor": "white",
          "plot_bgcolor": "#E5ECF6",
          "polar": {
           "angularaxis": {
            "gridcolor": "white",
            "linecolor": "white",
            "ticks": ""
           },
           "bgcolor": "#E5ECF6",
           "radialaxis": {
            "gridcolor": "white",
            "linecolor": "white",
            "ticks": ""
           }
          },
          "scene": {
           "xaxis": {
            "backgroundcolor": "#E5ECF6",
            "gridcolor": "white",
            "gridwidth": 2,
            "linecolor": "white",
            "showbackground": true,
            "ticks": "",
            "zerolinecolor": "white"
           },
           "yaxis": {
            "backgroundcolor": "#E5ECF6",
            "gridcolor": "white",
            "gridwidth": 2,
            "linecolor": "white",
            "showbackground": true,
            "ticks": "",
            "zerolinecolor": "white"
           },
           "zaxis": {
            "backgroundcolor": "#E5ECF6",
            "gridcolor": "white",
            "gridwidth": 2,
            "linecolor": "white",
            "showbackground": true,
            "ticks": "",
            "zerolinecolor": "white"
           }
          },
          "shapedefaults": {
           "line": {
            "color": "#2a3f5f"
           }
          },
          "ternary": {
           "aaxis": {
            "gridcolor": "white",
            "linecolor": "white",
            "ticks": ""
           },
           "baxis": {
            "gridcolor": "white",
            "linecolor": "white",
            "ticks": ""
           },
           "bgcolor": "#E5ECF6",
           "caxis": {
            "gridcolor": "white",
            "linecolor": "white",
            "ticks": ""
           }
          },
          "title": {
           "x": 0.05
          },
          "xaxis": {
           "automargin": true,
           "gridcolor": "white",
           "linecolor": "white",
           "ticks": "",
           "title": {
            "standoff": 15
           },
           "zerolinecolor": "white",
           "zerolinewidth": 2
          },
          "yaxis": {
           "automargin": true,
           "gridcolor": "white",
           "linecolor": "white",
           "ticks": "",
           "title": {
            "standoff": 15
           },
           "zerolinecolor": "white",
           "zerolinewidth": 2
          }
         }
        },
        "title": {
         "text": "Web Traffic Across Different Series - APR"
        },
        "xaxis": {
         "anchor": "y",
         "domain": [
          0,
          1
         ],
         "title": {
          "text": "date"
         }
        },
        "yaxis": {
         "anchor": "x",
         "domain": [
          0,
          1
         ],
         "title": {
          "text": "web_traffic"
         }
        }
       }
      }
     },
     "metadata": {},
     "output_type": "display_data"
    },
    {
     "name": "stdout",
     "output_type": "stream",
     "text": [
      "openbank * avg\n"
     ]
    },
    {
     "data": {
      "application/vnd.plotly.v1+json": {
       "config": {
        "plotlyServerURL": "https://plot.ly"
       },
       "data": [
        {
         "hovertemplate": "type=bank_of_interest_event<br>date=%{x}<br>web_traffic=%{y}<extra></extra>",
         "legendgroup": "bank_of_interest_event",
         "line": {
          "color": "#636efa",
          "dash": "solid"
         },
         "marker": {
          "symbol": "circle"
         },
         "mode": "lines",
         "name": "bank_of_interest_event",
         "orientation": "v",
         "showlegend": true,
         "type": "scatter",
         "x": [
          "2023-08-01T00:00:00",
          "2023-09-01T00:00:00",
          "2023-10-01T00:00:00",
          "2023-11-01T00:00:00",
          "2023-12-01T00:00:00"
         ],
         "xaxis": "x",
         "y": [
          -0.35087612708286847,
          -0.6825613343405568,
          -0.3715206968891064,
          -0.4548785661748077,
          0.49082210418332817
         ],
         "yaxis": "y"
        },
        {
         "hovertemplate": "type=control_bank_event<br>date=%{x}<br>web_traffic=%{y}<extra></extra>",
         "legendgroup": "control_bank_event",
         "line": {
          "color": "#EF553B",
          "dash": "solid"
         },
         "marker": {
          "symbol": "circle"
         },
         "mode": "lines",
         "name": "control_bank_event",
         "orientation": "v",
         "showlegend": true,
         "type": "scatter",
         "x": [
          "2023-08-01T00:00:00",
          "2023-09-01T00:00:00",
          "2023-10-01T00:00:00",
          "2023-11-01T00:00:00",
          "2023-12-01T00:00:00"
         ],
         "xaxis": "x",
         "y": [
          -0.814804415440892,
          -0.007246579520921337,
          -1.8468506408730458,
          -0.3284665006864626,
          -0.0626479334700136
         ],
         "yaxis": "y"
        },
        {
         "hovertemplate": "type=bank_of_interest_non_event<br>date=%{x}<br>web_traffic=%{y}<extra></extra>",
         "legendgroup": "bank_of_interest_non_event",
         "line": {
          "color": "#00cc96",
          "dash": "solid"
         },
         "marker": {
          "symbol": "circle"
         },
         "mode": "lines",
         "name": "bank_of_interest_non_event",
         "orientation": "v",
         "showlegend": true,
         "type": "scatter",
         "x": [
          "2022-05-01T00:00:00",
          "2022-06-01T00:00:00",
          "2022-07-01T00:00:00",
          "2022-08-01T00:00:00",
          "2022-09-01T00:00:00"
         ],
         "xaxis": "x",
         "y": [
          -0.15650148389751706,
          0.27724538165786516,
          0.23147748286817824,
          0.25900050318019124,
          0.25900050318019124
         ],
         "yaxis": "y"
        },
        {
         "hovertemplate": "type=control_bank_non_event<br>date=%{x}<br>web_traffic=%{y}<extra></extra>",
         "legendgroup": "control_bank_non_event",
         "line": {
          "color": "#ab63fa",
          "dash": "solid"
         },
         "marker": {
          "symbol": "circle"
         },
         "mode": "lines",
         "name": "control_bank_non_event",
         "orientation": "v",
         "showlegend": true,
         "type": "scatter",
         "x": [
          "2022-05-01T00:00:00",
          "2022-06-01T00:00:00",
          "2022-07-01T00:00:00",
          "2022-08-01T00:00:00",
          "2022-09-01T00:00:00"
         ],
         "xaxis": "x",
         "y": [
          -0.13324237315290507,
          -0.2842299961876826,
          -0.12842998733177854,
          0.028656684972887626,
          0.12366534230849777
         ],
         "yaxis": "y"
        }
       ],
       "layout": {
        "legend": {
         "title": {
          "text": "Series"
         },
         "tracegroupgap": 0
        },
        "template": {
         "data": {
          "bar": [
           {
            "error_x": {
             "color": "#2a3f5f"
            },
            "error_y": {
             "color": "#2a3f5f"
            },
            "marker": {
             "line": {
              "color": "#E5ECF6",
              "width": 0.5
             },
             "pattern": {
              "fillmode": "overlay",
              "size": 10,
              "solidity": 0.2
             }
            },
            "type": "bar"
           }
          ],
          "barpolar": [
           {
            "marker": {
             "line": {
              "color": "#E5ECF6",
              "width": 0.5
             },
             "pattern": {
              "fillmode": "overlay",
              "size": 10,
              "solidity": 0.2
             }
            },
            "type": "barpolar"
           }
          ],
          "carpet": [
           {
            "aaxis": {
             "endlinecolor": "#2a3f5f",
             "gridcolor": "white",
             "linecolor": "white",
             "minorgridcolor": "white",
             "startlinecolor": "#2a3f5f"
            },
            "baxis": {
             "endlinecolor": "#2a3f5f",
             "gridcolor": "white",
             "linecolor": "white",
             "minorgridcolor": "white",
             "startlinecolor": "#2a3f5f"
            },
            "type": "carpet"
           }
          ],
          "choropleth": [
           {
            "colorbar": {
             "outlinewidth": 0,
             "ticks": ""
            },
            "type": "choropleth"
           }
          ],
          "contour": [
           {
            "colorbar": {
             "outlinewidth": 0,
             "ticks": ""
            },
            "colorscale": [
             [
              0,
              "#0d0887"
             ],
             [
              0.1111111111111111,
              "#46039f"
             ],
             [
              0.2222222222222222,
              "#7201a8"
             ],
             [
              0.3333333333333333,
              "#9c179e"
             ],
             [
              0.4444444444444444,
              "#bd3786"
             ],
             [
              0.5555555555555556,
              "#d8576b"
             ],
             [
              0.6666666666666666,
              "#ed7953"
             ],
             [
              0.7777777777777778,
              "#fb9f3a"
             ],
             [
              0.8888888888888888,
              "#fdca26"
             ],
             [
              1,
              "#f0f921"
             ]
            ],
            "type": "contour"
           }
          ],
          "contourcarpet": [
           {
            "colorbar": {
             "outlinewidth": 0,
             "ticks": ""
            },
            "type": "contourcarpet"
           }
          ],
          "heatmap": [
           {
            "colorbar": {
             "outlinewidth": 0,
             "ticks": ""
            },
            "colorscale": [
             [
              0,
              "#0d0887"
             ],
             [
              0.1111111111111111,
              "#46039f"
             ],
             [
              0.2222222222222222,
              "#7201a8"
             ],
             [
              0.3333333333333333,
              "#9c179e"
             ],
             [
              0.4444444444444444,
              "#bd3786"
             ],
             [
              0.5555555555555556,
              "#d8576b"
             ],
             [
              0.6666666666666666,
              "#ed7953"
             ],
             [
              0.7777777777777778,
              "#fb9f3a"
             ],
             [
              0.8888888888888888,
              "#fdca26"
             ],
             [
              1,
              "#f0f921"
             ]
            ],
            "type": "heatmap"
           }
          ],
          "heatmapgl": [
           {
            "colorbar": {
             "outlinewidth": 0,
             "ticks": ""
            },
            "colorscale": [
             [
              0,
              "#0d0887"
             ],
             [
              0.1111111111111111,
              "#46039f"
             ],
             [
              0.2222222222222222,
              "#7201a8"
             ],
             [
              0.3333333333333333,
              "#9c179e"
             ],
             [
              0.4444444444444444,
              "#bd3786"
             ],
             [
              0.5555555555555556,
              "#d8576b"
             ],
             [
              0.6666666666666666,
              "#ed7953"
             ],
             [
              0.7777777777777778,
              "#fb9f3a"
             ],
             [
              0.8888888888888888,
              "#fdca26"
             ],
             [
              1,
              "#f0f921"
             ]
            ],
            "type": "heatmapgl"
           }
          ],
          "histogram": [
           {
            "marker": {
             "pattern": {
              "fillmode": "overlay",
              "size": 10,
              "solidity": 0.2
             }
            },
            "type": "histogram"
           }
          ],
          "histogram2d": [
           {
            "colorbar": {
             "outlinewidth": 0,
             "ticks": ""
            },
            "colorscale": [
             [
              0,
              "#0d0887"
             ],
             [
              0.1111111111111111,
              "#46039f"
             ],
             [
              0.2222222222222222,
              "#7201a8"
             ],
             [
              0.3333333333333333,
              "#9c179e"
             ],
             [
              0.4444444444444444,
              "#bd3786"
             ],
             [
              0.5555555555555556,
              "#d8576b"
             ],
             [
              0.6666666666666666,
              "#ed7953"
             ],
             [
              0.7777777777777778,
              "#fb9f3a"
             ],
             [
              0.8888888888888888,
              "#fdca26"
             ],
             [
              1,
              "#f0f921"
             ]
            ],
            "type": "histogram2d"
           }
          ],
          "histogram2dcontour": [
           {
            "colorbar": {
             "outlinewidth": 0,
             "ticks": ""
            },
            "colorscale": [
             [
              0,
              "#0d0887"
             ],
             [
              0.1111111111111111,
              "#46039f"
             ],
             [
              0.2222222222222222,
              "#7201a8"
             ],
             [
              0.3333333333333333,
              "#9c179e"
             ],
             [
              0.4444444444444444,
              "#bd3786"
             ],
             [
              0.5555555555555556,
              "#d8576b"
             ],
             [
              0.6666666666666666,
              "#ed7953"
             ],
             [
              0.7777777777777778,
              "#fb9f3a"
             ],
             [
              0.8888888888888888,
              "#fdca26"
             ],
             [
              1,
              "#f0f921"
             ]
            ],
            "type": "histogram2dcontour"
           }
          ],
          "mesh3d": [
           {
            "colorbar": {
             "outlinewidth": 0,
             "ticks": ""
            },
            "type": "mesh3d"
           }
          ],
          "parcoords": [
           {
            "line": {
             "colorbar": {
              "outlinewidth": 0,
              "ticks": ""
             }
            },
            "type": "parcoords"
           }
          ],
          "pie": [
           {
            "automargin": true,
            "type": "pie"
           }
          ],
          "scatter": [
           {
            "fillpattern": {
             "fillmode": "overlay",
             "size": 10,
             "solidity": 0.2
            },
            "type": "scatter"
           }
          ],
          "scatter3d": [
           {
            "line": {
             "colorbar": {
              "outlinewidth": 0,
              "ticks": ""
             }
            },
            "marker": {
             "colorbar": {
              "outlinewidth": 0,
              "ticks": ""
             }
            },
            "type": "scatter3d"
           }
          ],
          "scattercarpet": [
           {
            "marker": {
             "colorbar": {
              "outlinewidth": 0,
              "ticks": ""
             }
            },
            "type": "scattercarpet"
           }
          ],
          "scattergeo": [
           {
            "marker": {
             "colorbar": {
              "outlinewidth": 0,
              "ticks": ""
             }
            },
            "type": "scattergeo"
           }
          ],
          "scattergl": [
           {
            "marker": {
             "colorbar": {
              "outlinewidth": 0,
              "ticks": ""
             }
            },
            "type": "scattergl"
           }
          ],
          "scattermapbox": [
           {
            "marker": {
             "colorbar": {
              "outlinewidth": 0,
              "ticks": ""
             }
            },
            "type": "scattermapbox"
           }
          ],
          "scatterpolar": [
           {
            "marker": {
             "colorbar": {
              "outlinewidth": 0,
              "ticks": ""
             }
            },
            "type": "scatterpolar"
           }
          ],
          "scatterpolargl": [
           {
            "marker": {
             "colorbar": {
              "outlinewidth": 0,
              "ticks": ""
             }
            },
            "type": "scatterpolargl"
           }
          ],
          "scatterternary": [
           {
            "marker": {
             "colorbar": {
              "outlinewidth": 0,
              "ticks": ""
             }
            },
            "type": "scatterternary"
           }
          ],
          "surface": [
           {
            "colorbar": {
             "outlinewidth": 0,
             "ticks": ""
            },
            "colorscale": [
             [
              0,
              "#0d0887"
             ],
             [
              0.1111111111111111,
              "#46039f"
             ],
             [
              0.2222222222222222,
              "#7201a8"
             ],
             [
              0.3333333333333333,
              "#9c179e"
             ],
             [
              0.4444444444444444,
              "#bd3786"
             ],
             [
              0.5555555555555556,
              "#d8576b"
             ],
             [
              0.6666666666666666,
              "#ed7953"
             ],
             [
              0.7777777777777778,
              "#fb9f3a"
             ],
             [
              0.8888888888888888,
              "#fdca26"
             ],
             [
              1,
              "#f0f921"
             ]
            ],
            "type": "surface"
           }
          ],
          "table": [
           {
            "cells": {
             "fill": {
              "color": "#EBF0F8"
             },
             "line": {
              "color": "white"
             }
            },
            "header": {
             "fill": {
              "color": "#C8D4E3"
             },
             "line": {
              "color": "white"
             }
            },
            "type": "table"
           }
          ]
         },
         "layout": {
          "annotationdefaults": {
           "arrowcolor": "#2a3f5f",
           "arrowhead": 0,
           "arrowwidth": 1
          },
          "autotypenumbers": "strict",
          "coloraxis": {
           "colorbar": {
            "outlinewidth": 0,
            "ticks": ""
           }
          },
          "colorscale": {
           "diverging": [
            [
             0,
             "#8e0152"
            ],
            [
             0.1,
             "#c51b7d"
            ],
            [
             0.2,
             "#de77ae"
            ],
            [
             0.3,
             "#f1b6da"
            ],
            [
             0.4,
             "#fde0ef"
            ],
            [
             0.5,
             "#f7f7f7"
            ],
            [
             0.6,
             "#e6f5d0"
            ],
            [
             0.7,
             "#b8e186"
            ],
            [
             0.8,
             "#7fbc41"
            ],
            [
             0.9,
             "#4d9221"
            ],
            [
             1,
             "#276419"
            ]
           ],
           "sequential": [
            [
             0,
             "#0d0887"
            ],
            [
             0.1111111111111111,
             "#46039f"
            ],
            [
             0.2222222222222222,
             "#7201a8"
            ],
            [
             0.3333333333333333,
             "#9c179e"
            ],
            [
             0.4444444444444444,
             "#bd3786"
            ],
            [
             0.5555555555555556,
             "#d8576b"
            ],
            [
             0.6666666666666666,
             "#ed7953"
            ],
            [
             0.7777777777777778,
             "#fb9f3a"
            ],
            [
             0.8888888888888888,
             "#fdca26"
            ],
            [
             1,
             "#f0f921"
            ]
           ],
           "sequentialminus": [
            [
             0,
             "#0d0887"
            ],
            [
             0.1111111111111111,
             "#46039f"
            ],
            [
             0.2222222222222222,
             "#7201a8"
            ],
            [
             0.3333333333333333,
             "#9c179e"
            ],
            [
             0.4444444444444444,
             "#bd3786"
            ],
            [
             0.5555555555555556,
             "#d8576b"
            ],
            [
             0.6666666666666666,
             "#ed7953"
            ],
            [
             0.7777777777777778,
             "#fb9f3a"
            ],
            [
             0.8888888888888888,
             "#fdca26"
            ],
            [
             1,
             "#f0f921"
            ]
           ]
          },
          "colorway": [
           "#636efa",
           "#EF553B",
           "#00cc96",
           "#ab63fa",
           "#FFA15A",
           "#19d3f3",
           "#FF6692",
           "#B6E880",
           "#FF97FF",
           "#FECB52"
          ],
          "font": {
           "color": "#2a3f5f"
          },
          "geo": {
           "bgcolor": "white",
           "lakecolor": "white",
           "landcolor": "#E5ECF6",
           "showlakes": true,
           "showland": true,
           "subunitcolor": "white"
          },
          "hoverlabel": {
           "align": "left"
          },
          "hovermode": "closest",
          "mapbox": {
           "style": "light"
          },
          "paper_bgcolor": "white",
          "plot_bgcolor": "#E5ECF6",
          "polar": {
           "angularaxis": {
            "gridcolor": "white",
            "linecolor": "white",
            "ticks": ""
           },
           "bgcolor": "#E5ECF6",
           "radialaxis": {
            "gridcolor": "white",
            "linecolor": "white",
            "ticks": ""
           }
          },
          "scene": {
           "xaxis": {
            "backgroundcolor": "#E5ECF6",
            "gridcolor": "white",
            "gridwidth": 2,
            "linecolor": "white",
            "showbackground": true,
            "ticks": "",
            "zerolinecolor": "white"
           },
           "yaxis": {
            "backgroundcolor": "#E5ECF6",
            "gridcolor": "white",
            "gridwidth": 2,
            "linecolor": "white",
            "showbackground": true,
            "ticks": "",
            "zerolinecolor": "white"
           },
           "zaxis": {
            "backgroundcolor": "#E5ECF6",
            "gridcolor": "white",
            "gridwidth": 2,
            "linecolor": "white",
            "showbackground": true,
            "ticks": "",
            "zerolinecolor": "white"
           }
          },
          "shapedefaults": {
           "line": {
            "color": "#2a3f5f"
           }
          },
          "ternary": {
           "aaxis": {
            "gridcolor": "white",
            "linecolor": "white",
            "ticks": ""
           },
           "baxis": {
            "gridcolor": "white",
            "linecolor": "white",
            "ticks": ""
           },
           "bgcolor": "#E5ECF6",
           "caxis": {
            "gridcolor": "white",
            "linecolor": "white",
            "ticks": ""
           }
          },
          "title": {
           "x": 0.05
          },
          "xaxis": {
           "automargin": true,
           "gridcolor": "white",
           "linecolor": "white",
           "ticks": "",
           "title": {
            "standoff": 15
           },
           "zerolinecolor": "white",
           "zerolinewidth": 2
          },
          "yaxis": {
           "automargin": true,
           "gridcolor": "white",
           "linecolor": "white",
           "ticks": "",
           "title": {
            "standoff": 15
           },
           "zerolinecolor": "white",
           "zerolinewidth": 2
          }
         }
        },
        "title": {
         "text": "Web Traffic Across Different Series - APR"
        },
        "xaxis": {
         "anchor": "y",
         "domain": [
          0,
          1
         ],
         "title": {
          "text": "date"
         }
        },
        "yaxis": {
         "anchor": "x",
         "domain": [
          0,
          1
         ],
         "title": {
          "text": "web_traffic"
         }
        }
       }
      }
     },
     "metadata": {},
     "output_type": "display_data"
    },
    {
     "name": "stdout",
     "output_type": "stream",
     "text": [
      "myinvestor * avg\n"
     ]
    },
    {
     "data": {
      "application/vnd.plotly.v1+json": {
       "config": {
        "plotlyServerURL": "https://plot.ly"
       },
       "data": [
        {
         "hovertemplate": "type=bank_of_interest_event<br>date=%{x}<br>web_traffic=%{y}<extra></extra>",
         "legendgroup": "bank_of_interest_event",
         "line": {
          "color": "#636efa",
          "dash": "solid"
         },
         "marker": {
          "symbol": "circle"
         },
         "mode": "lines",
         "name": "bank_of_interest_event",
         "orientation": "v",
         "showlegend": true,
         "type": "scatter",
         "x": [
          "2022-11-01T00:00:00",
          "2022-12-01T00:00:00",
          "2023-01-01T00:00:00",
          "2023-02-01T00:00:00",
          "2023-03-01T00:00:00"
         ],
         "xaxis": "x",
         "y": [
          -1.0286506352791687,
          -0.8651410278104253,
          -0.6657513656105615,
          0.2528349274090857,
          0.1006024184737967
         ],
         "yaxis": "y"
        },
        {
         "hovertemplate": "type=control_bank_event<br>date=%{x}<br>web_traffic=%{y}<extra></extra>",
         "legendgroup": "control_bank_event",
         "line": {
          "color": "#EF553B",
          "dash": "solid"
         },
         "marker": {
          "symbol": "circle"
         },
         "mode": "lines",
         "name": "control_bank_event",
         "orientation": "v",
         "showlegend": true,
         "type": "scatter",
         "x": [
          "2022-11-01T00:00:00",
          "2022-12-01T00:00:00",
          "2023-01-01T00:00:00",
          "2023-02-01T00:00:00",
          "2023-03-01T00:00:00"
         ],
         "xaxis": "x",
         "y": [
          -0.1478943780992098,
          0.05693514495607947,
          0.08668810515349595,
          -0.17129802597679838,
          -0.25574758069762726
         ],
         "yaxis": "y"
        },
        {
         "hovertemplate": "type=bank_of_interest_non_event<br>date=%{x}<br>web_traffic=%{y}<extra></extra>",
         "legendgroup": "bank_of_interest_non_event",
         "line": {
          "color": "#00cc96",
          "dash": "solid"
         },
         "marker": {
          "symbol": "circle"
         },
         "mode": "lines",
         "name": "bank_of_interest_non_event",
         "orientation": "v",
         "showlegend": true,
         "type": "scatter",
         "x": [
          "2021-12-01T00:00:00",
          "2022-01-01T00:00:00",
          "2022-02-01T00:00:00",
          "2022-03-01T00:00:00",
          "2022-04-01T00:00:00"
         ],
         "xaxis": "x",
         "y": [
          -1.2185919100649663,
          -0.9819210105298183,
          -1.527608842095222,
          -1.3008940186596658,
          -1.12707925725
         ],
         "yaxis": "y"
        },
        {
         "hovertemplate": "type=control_bank_non_event<br>date=%{x}<br>web_traffic=%{y}<extra></extra>",
         "legendgroup": "control_bank_non_event",
         "line": {
          "color": "#ab63fa",
          "dash": "solid"
         },
         "marker": {
          "symbol": "circle"
         },
         "mode": "lines",
         "name": "control_bank_non_event",
         "orientation": "v",
         "showlegend": true,
         "type": "scatter",
         "x": [
          "2021-12-01T00:00:00",
          "2022-01-01T00:00:00",
          "2022-02-01T00:00:00",
          "2022-03-01T00:00:00",
          "2022-04-01T00:00:00"
         ],
         "xaxis": "x",
         "y": [
          -0.38448045200327186,
          -0.37863243699964516,
          -0.35039542630991993,
          -0.33202828250833283,
          -0.3046548766826206
         ],
         "yaxis": "y"
        }
       ],
       "layout": {
        "legend": {
         "title": {
          "text": "Series"
         },
         "tracegroupgap": 0
        },
        "template": {
         "data": {
          "bar": [
           {
            "error_x": {
             "color": "#2a3f5f"
            },
            "error_y": {
             "color": "#2a3f5f"
            },
            "marker": {
             "line": {
              "color": "#E5ECF6",
              "width": 0.5
             },
             "pattern": {
              "fillmode": "overlay",
              "size": 10,
              "solidity": 0.2
             }
            },
            "type": "bar"
           }
          ],
          "barpolar": [
           {
            "marker": {
             "line": {
              "color": "#E5ECF6",
              "width": 0.5
             },
             "pattern": {
              "fillmode": "overlay",
              "size": 10,
              "solidity": 0.2
             }
            },
            "type": "barpolar"
           }
          ],
          "carpet": [
           {
            "aaxis": {
             "endlinecolor": "#2a3f5f",
             "gridcolor": "white",
             "linecolor": "white",
             "minorgridcolor": "white",
             "startlinecolor": "#2a3f5f"
            },
            "baxis": {
             "endlinecolor": "#2a3f5f",
             "gridcolor": "white",
             "linecolor": "white",
             "minorgridcolor": "white",
             "startlinecolor": "#2a3f5f"
            },
            "type": "carpet"
           }
          ],
          "choropleth": [
           {
            "colorbar": {
             "outlinewidth": 0,
             "ticks": ""
            },
            "type": "choropleth"
           }
          ],
          "contour": [
           {
            "colorbar": {
             "outlinewidth": 0,
             "ticks": ""
            },
            "colorscale": [
             [
              0,
              "#0d0887"
             ],
             [
              0.1111111111111111,
              "#46039f"
             ],
             [
              0.2222222222222222,
              "#7201a8"
             ],
             [
              0.3333333333333333,
              "#9c179e"
             ],
             [
              0.4444444444444444,
              "#bd3786"
             ],
             [
              0.5555555555555556,
              "#d8576b"
             ],
             [
              0.6666666666666666,
              "#ed7953"
             ],
             [
              0.7777777777777778,
              "#fb9f3a"
             ],
             [
              0.8888888888888888,
              "#fdca26"
             ],
             [
              1,
              "#f0f921"
             ]
            ],
            "type": "contour"
           }
          ],
          "contourcarpet": [
           {
            "colorbar": {
             "outlinewidth": 0,
             "ticks": ""
            },
            "type": "contourcarpet"
           }
          ],
          "heatmap": [
           {
            "colorbar": {
             "outlinewidth": 0,
             "ticks": ""
            },
            "colorscale": [
             [
              0,
              "#0d0887"
             ],
             [
              0.1111111111111111,
              "#46039f"
             ],
             [
              0.2222222222222222,
              "#7201a8"
             ],
             [
              0.3333333333333333,
              "#9c179e"
             ],
             [
              0.4444444444444444,
              "#bd3786"
             ],
             [
              0.5555555555555556,
              "#d8576b"
             ],
             [
              0.6666666666666666,
              "#ed7953"
             ],
             [
              0.7777777777777778,
              "#fb9f3a"
             ],
             [
              0.8888888888888888,
              "#fdca26"
             ],
             [
              1,
              "#f0f921"
             ]
            ],
            "type": "heatmap"
           }
          ],
          "heatmapgl": [
           {
            "colorbar": {
             "outlinewidth": 0,
             "ticks": ""
            },
            "colorscale": [
             [
              0,
              "#0d0887"
             ],
             [
              0.1111111111111111,
              "#46039f"
             ],
             [
              0.2222222222222222,
              "#7201a8"
             ],
             [
              0.3333333333333333,
              "#9c179e"
             ],
             [
              0.4444444444444444,
              "#bd3786"
             ],
             [
              0.5555555555555556,
              "#d8576b"
             ],
             [
              0.6666666666666666,
              "#ed7953"
             ],
             [
              0.7777777777777778,
              "#fb9f3a"
             ],
             [
              0.8888888888888888,
              "#fdca26"
             ],
             [
              1,
              "#f0f921"
             ]
            ],
            "type": "heatmapgl"
           }
          ],
          "histogram": [
           {
            "marker": {
             "pattern": {
              "fillmode": "overlay",
              "size": 10,
              "solidity": 0.2
             }
            },
            "type": "histogram"
           }
          ],
          "histogram2d": [
           {
            "colorbar": {
             "outlinewidth": 0,
             "ticks": ""
            },
            "colorscale": [
             [
              0,
              "#0d0887"
             ],
             [
              0.1111111111111111,
              "#46039f"
             ],
             [
              0.2222222222222222,
              "#7201a8"
             ],
             [
              0.3333333333333333,
              "#9c179e"
             ],
             [
              0.4444444444444444,
              "#bd3786"
             ],
             [
              0.5555555555555556,
              "#d8576b"
             ],
             [
              0.6666666666666666,
              "#ed7953"
             ],
             [
              0.7777777777777778,
              "#fb9f3a"
             ],
             [
              0.8888888888888888,
              "#fdca26"
             ],
             [
              1,
              "#f0f921"
             ]
            ],
            "type": "histogram2d"
           }
          ],
          "histogram2dcontour": [
           {
            "colorbar": {
             "outlinewidth": 0,
             "ticks": ""
            },
            "colorscale": [
             [
              0,
              "#0d0887"
             ],
             [
              0.1111111111111111,
              "#46039f"
             ],
             [
              0.2222222222222222,
              "#7201a8"
             ],
             [
              0.3333333333333333,
              "#9c179e"
             ],
             [
              0.4444444444444444,
              "#bd3786"
             ],
             [
              0.5555555555555556,
              "#d8576b"
             ],
             [
              0.6666666666666666,
              "#ed7953"
             ],
             [
              0.7777777777777778,
              "#fb9f3a"
             ],
             [
              0.8888888888888888,
              "#fdca26"
             ],
             [
              1,
              "#f0f921"
             ]
            ],
            "type": "histogram2dcontour"
           }
          ],
          "mesh3d": [
           {
            "colorbar": {
             "outlinewidth": 0,
             "ticks": ""
            },
            "type": "mesh3d"
           }
          ],
          "parcoords": [
           {
            "line": {
             "colorbar": {
              "outlinewidth": 0,
              "ticks": ""
             }
            },
            "type": "parcoords"
           }
          ],
          "pie": [
           {
            "automargin": true,
            "type": "pie"
           }
          ],
          "scatter": [
           {
            "fillpattern": {
             "fillmode": "overlay",
             "size": 10,
             "solidity": 0.2
            },
            "type": "scatter"
           }
          ],
          "scatter3d": [
           {
            "line": {
             "colorbar": {
              "outlinewidth": 0,
              "ticks": ""
             }
            },
            "marker": {
             "colorbar": {
              "outlinewidth": 0,
              "ticks": ""
             }
            },
            "type": "scatter3d"
           }
          ],
          "scattercarpet": [
           {
            "marker": {
             "colorbar": {
              "outlinewidth": 0,
              "ticks": ""
             }
            },
            "type": "scattercarpet"
           }
          ],
          "scattergeo": [
           {
            "marker": {
             "colorbar": {
              "outlinewidth": 0,
              "ticks": ""
             }
            },
            "type": "scattergeo"
           }
          ],
          "scattergl": [
           {
            "marker": {
             "colorbar": {
              "outlinewidth": 0,
              "ticks": ""
             }
            },
            "type": "scattergl"
           }
          ],
          "scattermapbox": [
           {
            "marker": {
             "colorbar": {
              "outlinewidth": 0,
              "ticks": ""
             }
            },
            "type": "scattermapbox"
           }
          ],
          "scatterpolar": [
           {
            "marker": {
             "colorbar": {
              "outlinewidth": 0,
              "ticks": ""
             }
            },
            "type": "scatterpolar"
           }
          ],
          "scatterpolargl": [
           {
            "marker": {
             "colorbar": {
              "outlinewidth": 0,
              "ticks": ""
             }
            },
            "type": "scatterpolargl"
           }
          ],
          "scatterternary": [
           {
            "marker": {
             "colorbar": {
              "outlinewidth": 0,
              "ticks": ""
             }
            },
            "type": "scatterternary"
           }
          ],
          "surface": [
           {
            "colorbar": {
             "outlinewidth": 0,
             "ticks": ""
            },
            "colorscale": [
             [
              0,
              "#0d0887"
             ],
             [
              0.1111111111111111,
              "#46039f"
             ],
             [
              0.2222222222222222,
              "#7201a8"
             ],
             [
              0.3333333333333333,
              "#9c179e"
             ],
             [
              0.4444444444444444,
              "#bd3786"
             ],
             [
              0.5555555555555556,
              "#d8576b"
             ],
             [
              0.6666666666666666,
              "#ed7953"
             ],
             [
              0.7777777777777778,
              "#fb9f3a"
             ],
             [
              0.8888888888888888,
              "#fdca26"
             ],
             [
              1,
              "#f0f921"
             ]
            ],
            "type": "surface"
           }
          ],
          "table": [
           {
            "cells": {
             "fill": {
              "color": "#EBF0F8"
             },
             "line": {
              "color": "white"
             }
            },
            "header": {
             "fill": {
              "color": "#C8D4E3"
             },
             "line": {
              "color": "white"
             }
            },
            "type": "table"
           }
          ]
         },
         "layout": {
          "annotationdefaults": {
           "arrowcolor": "#2a3f5f",
           "arrowhead": 0,
           "arrowwidth": 1
          },
          "autotypenumbers": "strict",
          "coloraxis": {
           "colorbar": {
            "outlinewidth": 0,
            "ticks": ""
           }
          },
          "colorscale": {
           "diverging": [
            [
             0,
             "#8e0152"
            ],
            [
             0.1,
             "#c51b7d"
            ],
            [
             0.2,
             "#de77ae"
            ],
            [
             0.3,
             "#f1b6da"
            ],
            [
             0.4,
             "#fde0ef"
            ],
            [
             0.5,
             "#f7f7f7"
            ],
            [
             0.6,
             "#e6f5d0"
            ],
            [
             0.7,
             "#b8e186"
            ],
            [
             0.8,
             "#7fbc41"
            ],
            [
             0.9,
             "#4d9221"
            ],
            [
             1,
             "#276419"
            ]
           ],
           "sequential": [
            [
             0,
             "#0d0887"
            ],
            [
             0.1111111111111111,
             "#46039f"
            ],
            [
             0.2222222222222222,
             "#7201a8"
            ],
            [
             0.3333333333333333,
             "#9c179e"
            ],
            [
             0.4444444444444444,
             "#bd3786"
            ],
            [
             0.5555555555555556,
             "#d8576b"
            ],
            [
             0.6666666666666666,
             "#ed7953"
            ],
            [
             0.7777777777777778,
             "#fb9f3a"
            ],
            [
             0.8888888888888888,
             "#fdca26"
            ],
            [
             1,
             "#f0f921"
            ]
           ],
           "sequentialminus": [
            [
             0,
             "#0d0887"
            ],
            [
             0.1111111111111111,
             "#46039f"
            ],
            [
             0.2222222222222222,
             "#7201a8"
            ],
            [
             0.3333333333333333,
             "#9c179e"
            ],
            [
             0.4444444444444444,
             "#bd3786"
            ],
            [
             0.5555555555555556,
             "#d8576b"
            ],
            [
             0.6666666666666666,
             "#ed7953"
            ],
            [
             0.7777777777777778,
             "#fb9f3a"
            ],
            [
             0.8888888888888888,
             "#fdca26"
            ],
            [
             1,
             "#f0f921"
            ]
           ]
          },
          "colorway": [
           "#636efa",
           "#EF553B",
           "#00cc96",
           "#ab63fa",
           "#FFA15A",
           "#19d3f3",
           "#FF6692",
           "#B6E880",
           "#FF97FF",
           "#FECB52"
          ],
          "font": {
           "color": "#2a3f5f"
          },
          "geo": {
           "bgcolor": "white",
           "lakecolor": "white",
           "landcolor": "#E5ECF6",
           "showlakes": true,
           "showland": true,
           "subunitcolor": "white"
          },
          "hoverlabel": {
           "align": "left"
          },
          "hovermode": "closest",
          "mapbox": {
           "style": "light"
          },
          "paper_bgcolor": "white",
          "plot_bgcolor": "#E5ECF6",
          "polar": {
           "angularaxis": {
            "gridcolor": "white",
            "linecolor": "white",
            "ticks": ""
           },
           "bgcolor": "#E5ECF6",
           "radialaxis": {
            "gridcolor": "white",
            "linecolor": "white",
            "ticks": ""
           }
          },
          "scene": {
           "xaxis": {
            "backgroundcolor": "#E5ECF6",
            "gridcolor": "white",
            "gridwidth": 2,
            "linecolor": "white",
            "showbackground": true,
            "ticks": "",
            "zerolinecolor": "white"
           },
           "yaxis": {
            "backgroundcolor": "#E5ECF6",
            "gridcolor": "white",
            "gridwidth": 2,
            "linecolor": "white",
            "showbackground": true,
            "ticks": "",
            "zerolinecolor": "white"
           },
           "zaxis": {
            "backgroundcolor": "#E5ECF6",
            "gridcolor": "white",
            "gridwidth": 2,
            "linecolor": "white",
            "showbackground": true,
            "ticks": "",
            "zerolinecolor": "white"
           }
          },
          "shapedefaults": {
           "line": {
            "color": "#2a3f5f"
           }
          },
          "ternary": {
           "aaxis": {
            "gridcolor": "white",
            "linecolor": "white",
            "ticks": ""
           },
           "baxis": {
            "gridcolor": "white",
            "linecolor": "white",
            "ticks": ""
           },
           "bgcolor": "#E5ECF6",
           "caxis": {
            "gridcolor": "white",
            "linecolor": "white",
            "ticks": ""
           }
          },
          "title": {
           "x": 0.05
          },
          "xaxis": {
           "automargin": true,
           "gridcolor": "white",
           "linecolor": "white",
           "ticks": "",
           "title": {
            "standoff": 15
           },
           "zerolinecolor": "white",
           "zerolinewidth": 2
          },
          "yaxis": {
           "automargin": true,
           "gridcolor": "white",
           "linecolor": "white",
           "ticks": "",
           "title": {
            "standoff": 15
           },
           "zerolinecolor": "white",
           "zerolinewidth": 2
          }
         }
        },
        "title": {
         "text": "Web Traffic Across Different Series - APR"
        },
        "xaxis": {
         "anchor": "y",
         "domain": [
          0,
          1
         ],
         "title": {
          "text": "date"
         }
        },
        "yaxis": {
         "anchor": "x",
         "domain": [
          0,
          1
         ],
         "title": {
          "text": "web_traffic"
         }
        }
       }
      }
     },
     "metadata": {},
     "output_type": "display_data"
    },
    {
     "name": "stdout",
     "output_type": "stream",
     "text": [
      "evobanco * avg\n"
     ]
    },
    {
     "data": {
      "application/vnd.plotly.v1+json": {
       "config": {
        "plotlyServerURL": "https://plot.ly"
       },
       "data": [
        {
         "hovertemplate": "type=bank_of_interest_event<br>date=%{x}<br>web_traffic=%{y}<extra></extra>",
         "legendgroup": "bank_of_interest_event",
         "line": {
          "color": "#636efa",
          "dash": "solid"
         },
         "marker": {
          "symbol": "circle"
         },
         "mode": "lines",
         "name": "bank_of_interest_event",
         "orientation": "v",
         "showlegend": true,
         "type": "scatter",
         "x": [
          "2022-09-01T00:00:00",
          "2022-10-01T00:00:00",
          "2022-11-01T00:00:00",
          "2022-12-01T00:00:00",
          "2023-01-01T00:00:00"
         ],
         "xaxis": "x",
         "y": [
          -1.4457510632081658,
          -1.5136739396794139,
          -1.0758737942420287,
          -1.531063846940386,
          -1.4498555119496956
         ],
         "yaxis": "y"
        },
        {
         "hovertemplate": "type=control_bank_event<br>date=%{x}<br>web_traffic=%{y}<extra></extra>",
         "legendgroup": "control_bank_event",
         "line": {
          "color": "#EF553B",
          "dash": "solid"
         },
         "marker": {
          "symbol": "circle"
         },
         "mode": "lines",
         "name": "control_bank_event",
         "orientation": "v",
         "showlegend": true,
         "type": "scatter",
         "x": [
          "2022-09-01T00:00:00",
          "2022-10-01T00:00:00",
          "2022-11-01T00:00:00",
          "2022-12-01T00:00:00",
          "2023-01-01T00:00:00"
         ],
         "xaxis": "x",
         "y": [
          0.12366534230849777,
          -0.3873113568812822,
          -0.1478943780992098,
          0.05693514495607947,
          0.08668810515349595
         ],
         "yaxis": "y"
        },
        {
         "hovertemplate": "type=bank_of_interest_non_event<br>date=%{x}<br>web_traffic=%{y}<extra></extra>",
         "legendgroup": "bank_of_interest_non_event",
         "line": {
          "color": "#00cc96",
          "dash": "solid"
         },
         "marker": {
          "symbol": "circle"
         },
         "mode": "lines",
         "name": "bank_of_interest_non_event",
         "orientation": "v",
         "showlegend": true,
         "type": "scatter",
         "x": [
          "2021-12-01T00:00:00",
          "2022-01-01T00:00:00",
          "2022-02-01T00:00:00",
          "2022-03-01T00:00:00",
          "2022-04-01T00:00:00"
         ],
         "xaxis": "x",
         "y": [
          -1.2753489059797554,
          -1.395491972163825,
          -1.0752697028452483,
          -0.5345234970330494,
          -1.2813862818481085
         ],
         "yaxis": "y"
        },
        {
         "hovertemplate": "type=control_bank_non_event<br>date=%{x}<br>web_traffic=%{y}<extra></extra>",
         "legendgroup": "control_bank_non_event",
         "line": {
          "color": "#ab63fa",
          "dash": "solid"
         },
         "marker": {
          "symbol": "circle"
         },
         "mode": "lines",
         "name": "control_bank_non_event",
         "orientation": "v",
         "showlegend": true,
         "type": "scatter",
         "x": [
          "2021-12-01T00:00:00",
          "2022-01-01T00:00:00",
          "2022-02-01T00:00:00",
          "2022-03-01T00:00:00",
          "2022-04-01T00:00:00"
         ],
         "xaxis": "x",
         "y": [
          -0.38448045200327186,
          -0.37863243699964516,
          -0.35039542630991993,
          -0.33202828250833283,
          -0.3046548766826206
         ],
         "yaxis": "y"
        }
       ],
       "layout": {
        "legend": {
         "title": {
          "text": "Series"
         },
         "tracegroupgap": 0
        },
        "template": {
         "data": {
          "bar": [
           {
            "error_x": {
             "color": "#2a3f5f"
            },
            "error_y": {
             "color": "#2a3f5f"
            },
            "marker": {
             "line": {
              "color": "#E5ECF6",
              "width": 0.5
             },
             "pattern": {
              "fillmode": "overlay",
              "size": 10,
              "solidity": 0.2
             }
            },
            "type": "bar"
           }
          ],
          "barpolar": [
           {
            "marker": {
             "line": {
              "color": "#E5ECF6",
              "width": 0.5
             },
             "pattern": {
              "fillmode": "overlay",
              "size": 10,
              "solidity": 0.2
             }
            },
            "type": "barpolar"
           }
          ],
          "carpet": [
           {
            "aaxis": {
             "endlinecolor": "#2a3f5f",
             "gridcolor": "white",
             "linecolor": "white",
             "minorgridcolor": "white",
             "startlinecolor": "#2a3f5f"
            },
            "baxis": {
             "endlinecolor": "#2a3f5f",
             "gridcolor": "white",
             "linecolor": "white",
             "minorgridcolor": "white",
             "startlinecolor": "#2a3f5f"
            },
            "type": "carpet"
           }
          ],
          "choropleth": [
           {
            "colorbar": {
             "outlinewidth": 0,
             "ticks": ""
            },
            "type": "choropleth"
           }
          ],
          "contour": [
           {
            "colorbar": {
             "outlinewidth": 0,
             "ticks": ""
            },
            "colorscale": [
             [
              0,
              "#0d0887"
             ],
             [
              0.1111111111111111,
              "#46039f"
             ],
             [
              0.2222222222222222,
              "#7201a8"
             ],
             [
              0.3333333333333333,
              "#9c179e"
             ],
             [
              0.4444444444444444,
              "#bd3786"
             ],
             [
              0.5555555555555556,
              "#d8576b"
             ],
             [
              0.6666666666666666,
              "#ed7953"
             ],
             [
              0.7777777777777778,
              "#fb9f3a"
             ],
             [
              0.8888888888888888,
              "#fdca26"
             ],
             [
              1,
              "#f0f921"
             ]
            ],
            "type": "contour"
           }
          ],
          "contourcarpet": [
           {
            "colorbar": {
             "outlinewidth": 0,
             "ticks": ""
            },
            "type": "contourcarpet"
           }
          ],
          "heatmap": [
           {
            "colorbar": {
             "outlinewidth": 0,
             "ticks": ""
            },
            "colorscale": [
             [
              0,
              "#0d0887"
             ],
             [
              0.1111111111111111,
              "#46039f"
             ],
             [
              0.2222222222222222,
              "#7201a8"
             ],
             [
              0.3333333333333333,
              "#9c179e"
             ],
             [
              0.4444444444444444,
              "#bd3786"
             ],
             [
              0.5555555555555556,
              "#d8576b"
             ],
             [
              0.6666666666666666,
              "#ed7953"
             ],
             [
              0.7777777777777778,
              "#fb9f3a"
             ],
             [
              0.8888888888888888,
              "#fdca26"
             ],
             [
              1,
              "#f0f921"
             ]
            ],
            "type": "heatmap"
           }
          ],
          "heatmapgl": [
           {
            "colorbar": {
             "outlinewidth": 0,
             "ticks": ""
            },
            "colorscale": [
             [
              0,
              "#0d0887"
             ],
             [
              0.1111111111111111,
              "#46039f"
             ],
             [
              0.2222222222222222,
              "#7201a8"
             ],
             [
              0.3333333333333333,
              "#9c179e"
             ],
             [
              0.4444444444444444,
              "#bd3786"
             ],
             [
              0.5555555555555556,
              "#d8576b"
             ],
             [
              0.6666666666666666,
              "#ed7953"
             ],
             [
              0.7777777777777778,
              "#fb9f3a"
             ],
             [
              0.8888888888888888,
              "#fdca26"
             ],
             [
              1,
              "#f0f921"
             ]
            ],
            "type": "heatmapgl"
           }
          ],
          "histogram": [
           {
            "marker": {
             "pattern": {
              "fillmode": "overlay",
              "size": 10,
              "solidity": 0.2
             }
            },
            "type": "histogram"
           }
          ],
          "histogram2d": [
           {
            "colorbar": {
             "outlinewidth": 0,
             "ticks": ""
            },
            "colorscale": [
             [
              0,
              "#0d0887"
             ],
             [
              0.1111111111111111,
              "#46039f"
             ],
             [
              0.2222222222222222,
              "#7201a8"
             ],
             [
              0.3333333333333333,
              "#9c179e"
             ],
             [
              0.4444444444444444,
              "#bd3786"
             ],
             [
              0.5555555555555556,
              "#d8576b"
             ],
             [
              0.6666666666666666,
              "#ed7953"
             ],
             [
              0.7777777777777778,
              "#fb9f3a"
             ],
             [
              0.8888888888888888,
              "#fdca26"
             ],
             [
              1,
              "#f0f921"
             ]
            ],
            "type": "histogram2d"
           }
          ],
          "histogram2dcontour": [
           {
            "colorbar": {
             "outlinewidth": 0,
             "ticks": ""
            },
            "colorscale": [
             [
              0,
              "#0d0887"
             ],
             [
              0.1111111111111111,
              "#46039f"
             ],
             [
              0.2222222222222222,
              "#7201a8"
             ],
             [
              0.3333333333333333,
              "#9c179e"
             ],
             [
              0.4444444444444444,
              "#bd3786"
             ],
             [
              0.5555555555555556,
              "#d8576b"
             ],
             [
              0.6666666666666666,
              "#ed7953"
             ],
             [
              0.7777777777777778,
              "#fb9f3a"
             ],
             [
              0.8888888888888888,
              "#fdca26"
             ],
             [
              1,
              "#f0f921"
             ]
            ],
            "type": "histogram2dcontour"
           }
          ],
          "mesh3d": [
           {
            "colorbar": {
             "outlinewidth": 0,
             "ticks": ""
            },
            "type": "mesh3d"
           }
          ],
          "parcoords": [
           {
            "line": {
             "colorbar": {
              "outlinewidth": 0,
              "ticks": ""
             }
            },
            "type": "parcoords"
           }
          ],
          "pie": [
           {
            "automargin": true,
            "type": "pie"
           }
          ],
          "scatter": [
           {
            "fillpattern": {
             "fillmode": "overlay",
             "size": 10,
             "solidity": 0.2
            },
            "type": "scatter"
           }
          ],
          "scatter3d": [
           {
            "line": {
             "colorbar": {
              "outlinewidth": 0,
              "ticks": ""
             }
            },
            "marker": {
             "colorbar": {
              "outlinewidth": 0,
              "ticks": ""
             }
            },
            "type": "scatter3d"
           }
          ],
          "scattercarpet": [
           {
            "marker": {
             "colorbar": {
              "outlinewidth": 0,
              "ticks": ""
             }
            },
            "type": "scattercarpet"
           }
          ],
          "scattergeo": [
           {
            "marker": {
             "colorbar": {
              "outlinewidth": 0,
              "ticks": ""
             }
            },
            "type": "scattergeo"
           }
          ],
          "scattergl": [
           {
            "marker": {
             "colorbar": {
              "outlinewidth": 0,
              "ticks": ""
             }
            },
            "type": "scattergl"
           }
          ],
          "scattermapbox": [
           {
            "marker": {
             "colorbar": {
              "outlinewidth": 0,
              "ticks": ""
             }
            },
            "type": "scattermapbox"
           }
          ],
          "scatterpolar": [
           {
            "marker": {
             "colorbar": {
              "outlinewidth": 0,
              "ticks": ""
             }
            },
            "type": "scatterpolar"
           }
          ],
          "scatterpolargl": [
           {
            "marker": {
             "colorbar": {
              "outlinewidth": 0,
              "ticks": ""
             }
            },
            "type": "scatterpolargl"
           }
          ],
          "scatterternary": [
           {
            "marker": {
             "colorbar": {
              "outlinewidth": 0,
              "ticks": ""
             }
            },
            "type": "scatterternary"
           }
          ],
          "surface": [
           {
            "colorbar": {
             "outlinewidth": 0,
             "ticks": ""
            },
            "colorscale": [
             [
              0,
              "#0d0887"
             ],
             [
              0.1111111111111111,
              "#46039f"
             ],
             [
              0.2222222222222222,
              "#7201a8"
             ],
             [
              0.3333333333333333,
              "#9c179e"
             ],
             [
              0.4444444444444444,
              "#bd3786"
             ],
             [
              0.5555555555555556,
              "#d8576b"
             ],
             [
              0.6666666666666666,
              "#ed7953"
             ],
             [
              0.7777777777777778,
              "#fb9f3a"
             ],
             [
              0.8888888888888888,
              "#fdca26"
             ],
             [
              1,
              "#f0f921"
             ]
            ],
            "type": "surface"
           }
          ],
          "table": [
           {
            "cells": {
             "fill": {
              "color": "#EBF0F8"
             },
             "line": {
              "color": "white"
             }
            },
            "header": {
             "fill": {
              "color": "#C8D4E3"
             },
             "line": {
              "color": "white"
             }
            },
            "type": "table"
           }
          ]
         },
         "layout": {
          "annotationdefaults": {
           "arrowcolor": "#2a3f5f",
           "arrowhead": 0,
           "arrowwidth": 1
          },
          "autotypenumbers": "strict",
          "coloraxis": {
           "colorbar": {
            "outlinewidth": 0,
            "ticks": ""
           }
          },
          "colorscale": {
           "diverging": [
            [
             0,
             "#8e0152"
            ],
            [
             0.1,
             "#c51b7d"
            ],
            [
             0.2,
             "#de77ae"
            ],
            [
             0.3,
             "#f1b6da"
            ],
            [
             0.4,
             "#fde0ef"
            ],
            [
             0.5,
             "#f7f7f7"
            ],
            [
             0.6,
             "#e6f5d0"
            ],
            [
             0.7,
             "#b8e186"
            ],
            [
             0.8,
             "#7fbc41"
            ],
            [
             0.9,
             "#4d9221"
            ],
            [
             1,
             "#276419"
            ]
           ],
           "sequential": [
            [
             0,
             "#0d0887"
            ],
            [
             0.1111111111111111,
             "#46039f"
            ],
            [
             0.2222222222222222,
             "#7201a8"
            ],
            [
             0.3333333333333333,
             "#9c179e"
            ],
            [
             0.4444444444444444,
             "#bd3786"
            ],
            [
             0.5555555555555556,
             "#d8576b"
            ],
            [
             0.6666666666666666,
             "#ed7953"
            ],
            [
             0.7777777777777778,
             "#fb9f3a"
            ],
            [
             0.8888888888888888,
             "#fdca26"
            ],
            [
             1,
             "#f0f921"
            ]
           ],
           "sequentialminus": [
            [
             0,
             "#0d0887"
            ],
            [
             0.1111111111111111,
             "#46039f"
            ],
            [
             0.2222222222222222,
             "#7201a8"
            ],
            [
             0.3333333333333333,
             "#9c179e"
            ],
            [
             0.4444444444444444,
             "#bd3786"
            ],
            [
             0.5555555555555556,
             "#d8576b"
            ],
            [
             0.6666666666666666,
             "#ed7953"
            ],
            [
             0.7777777777777778,
             "#fb9f3a"
            ],
            [
             0.8888888888888888,
             "#fdca26"
            ],
            [
             1,
             "#f0f921"
            ]
           ]
          },
          "colorway": [
           "#636efa",
           "#EF553B",
           "#00cc96",
           "#ab63fa",
           "#FFA15A",
           "#19d3f3",
           "#FF6692",
           "#B6E880",
           "#FF97FF",
           "#FECB52"
          ],
          "font": {
           "color": "#2a3f5f"
          },
          "geo": {
           "bgcolor": "white",
           "lakecolor": "white",
           "landcolor": "#E5ECF6",
           "showlakes": true,
           "showland": true,
           "subunitcolor": "white"
          },
          "hoverlabel": {
           "align": "left"
          },
          "hovermode": "closest",
          "mapbox": {
           "style": "light"
          },
          "paper_bgcolor": "white",
          "plot_bgcolor": "#E5ECF6",
          "polar": {
           "angularaxis": {
            "gridcolor": "white",
            "linecolor": "white",
            "ticks": ""
           },
           "bgcolor": "#E5ECF6",
           "radialaxis": {
            "gridcolor": "white",
            "linecolor": "white",
            "ticks": ""
           }
          },
          "scene": {
           "xaxis": {
            "backgroundcolor": "#E5ECF6",
            "gridcolor": "white",
            "gridwidth": 2,
            "linecolor": "white",
            "showbackground": true,
            "ticks": "",
            "zerolinecolor": "white"
           },
           "yaxis": {
            "backgroundcolor": "#E5ECF6",
            "gridcolor": "white",
            "gridwidth": 2,
            "linecolor": "white",
            "showbackground": true,
            "ticks": "",
            "zerolinecolor": "white"
           },
           "zaxis": {
            "backgroundcolor": "#E5ECF6",
            "gridcolor": "white",
            "gridwidth": 2,
            "linecolor": "white",
            "showbackground": true,
            "ticks": "",
            "zerolinecolor": "white"
           }
          },
          "shapedefaults": {
           "line": {
            "color": "#2a3f5f"
           }
          },
          "ternary": {
           "aaxis": {
            "gridcolor": "white",
            "linecolor": "white",
            "ticks": ""
           },
           "baxis": {
            "gridcolor": "white",
            "linecolor": "white",
            "ticks": ""
           },
           "bgcolor": "#E5ECF6",
           "caxis": {
            "gridcolor": "white",
            "linecolor": "white",
            "ticks": ""
           }
          },
          "title": {
           "x": 0.05
          },
          "xaxis": {
           "automargin": true,
           "gridcolor": "white",
           "linecolor": "white",
           "ticks": "",
           "title": {
            "standoff": 15
           },
           "zerolinecolor": "white",
           "zerolinewidth": 2
          },
          "yaxis": {
           "automargin": true,
           "gridcolor": "white",
           "linecolor": "white",
           "ticks": "",
           "title": {
            "standoff": 15
           },
           "zerolinecolor": "white",
           "zerolinewidth": 2
          }
         }
        },
        "title": {
         "text": "Web Traffic Across Different Series - APR"
        },
        "xaxis": {
         "anchor": "y",
         "domain": [
          0,
          1
         ],
         "title": {
          "text": "date"
         }
        },
        "yaxis": {
         "anchor": "x",
         "domain": [
          0,
          1
         ],
         "title": {
          "text": "web_traffic"
         }
        }
       }
      }
     },
     "metadata": {},
     "output_type": "display_data"
    },
    {
     "name": "stdout",
     "output_type": "stream",
     "text": [
      "evobanco * avg\n"
     ]
    },
    {
     "data": {
      "application/vnd.plotly.v1+json": {
       "config": {
        "plotlyServerURL": "https://plot.ly"
       },
       "data": [
        {
         "hovertemplate": "type=bank_of_interest_event<br>date=%{x}<br>web_traffic=%{y}<extra></extra>",
         "legendgroup": "bank_of_interest_event",
         "line": {
          "color": "#636efa",
          "dash": "solid"
         },
         "marker": {
          "symbol": "circle"
         },
         "mode": "lines",
         "name": "bank_of_interest_event",
         "orientation": "v",
         "showlegend": true,
         "type": "scatter",
         "x": [
          "2023-02-01T00:00:00",
          "2023-03-01T00:00:00",
          "2023-04-01T00:00:00",
          "2023-05-01T00:00:00",
          "2023-06-01T00:00:00"
         ],
         "xaxis": "x",
         "y": [
          -0.9769392764768299,
          -1.475834769869688,
          -0.8337932964519055,
          -0.6313377714483502,
          -0.28316021720313983
         ],
         "yaxis": "y"
        },
        {
         "hovertemplate": "type=control_bank_event<br>date=%{x}<br>web_traffic=%{y}<extra></extra>",
         "legendgroup": "control_bank_event",
         "line": {
          "color": "#EF553B",
          "dash": "solid"
         },
         "marker": {
          "symbol": "circle"
         },
         "mode": "lines",
         "name": "control_bank_event",
         "orientation": "v",
         "showlegend": true,
         "type": "scatter",
         "x": [
          "2023-02-01T00:00:00",
          "2023-03-01T00:00:00",
          "2023-04-01T00:00:00",
          "2023-05-01T00:00:00",
          "2023-06-01T00:00:00"
         ],
         "xaxis": "x",
         "y": [
          -0.17129802597679838,
          -0.25574758069762726,
          -0.7314993612633027,
          -0.30510087662955937,
          -0.5408893381877345
         ],
         "yaxis": "y"
        },
        {
         "hovertemplate": "type=bank_of_interest_non_event<br>date=%{x}<br>web_traffic=%{y}<extra></extra>",
         "legendgroup": "bank_of_interest_non_event",
         "line": {
          "color": "#00cc96",
          "dash": "solid"
         },
         "marker": {
          "symbol": "circle"
         },
         "mode": "lines",
         "name": "bank_of_interest_non_event",
         "orientation": "v",
         "showlegend": true,
         "type": "scatter",
         "x": [
          "2021-12-01T00:00:00",
          "2022-01-01T00:00:00",
          "2022-02-01T00:00:00",
          "2022-03-01T00:00:00",
          "2022-04-01T00:00:00"
         ],
         "xaxis": "x",
         "y": [
          -1.2753489059797554,
          -1.395491972163825,
          -1.0752697028452483,
          -0.5345234970330494,
          -1.2813862818481085
         ],
         "yaxis": "y"
        },
        {
         "hovertemplate": "type=control_bank_non_event<br>date=%{x}<br>web_traffic=%{y}<extra></extra>",
         "legendgroup": "control_bank_non_event",
         "line": {
          "color": "#ab63fa",
          "dash": "solid"
         },
         "marker": {
          "symbol": "circle"
         },
         "mode": "lines",
         "name": "control_bank_non_event",
         "orientation": "v",
         "showlegend": true,
         "type": "scatter",
         "x": [
          "2021-12-01T00:00:00",
          "2022-01-01T00:00:00",
          "2022-02-01T00:00:00",
          "2022-03-01T00:00:00",
          "2022-04-01T00:00:00"
         ],
         "xaxis": "x",
         "y": [
          -0.38448045200327186,
          -0.37863243699964516,
          -0.35039542630991993,
          -0.33202828250833283,
          -0.3046548766826206
         ],
         "yaxis": "y"
        }
       ],
       "layout": {
        "legend": {
         "title": {
          "text": "Series"
         },
         "tracegroupgap": 0
        },
        "template": {
         "data": {
          "bar": [
           {
            "error_x": {
             "color": "#2a3f5f"
            },
            "error_y": {
             "color": "#2a3f5f"
            },
            "marker": {
             "line": {
              "color": "#E5ECF6",
              "width": 0.5
             },
             "pattern": {
              "fillmode": "overlay",
              "size": 10,
              "solidity": 0.2
             }
            },
            "type": "bar"
           }
          ],
          "barpolar": [
           {
            "marker": {
             "line": {
              "color": "#E5ECF6",
              "width": 0.5
             },
             "pattern": {
              "fillmode": "overlay",
              "size": 10,
              "solidity": 0.2
             }
            },
            "type": "barpolar"
           }
          ],
          "carpet": [
           {
            "aaxis": {
             "endlinecolor": "#2a3f5f",
             "gridcolor": "white",
             "linecolor": "white",
             "minorgridcolor": "white",
             "startlinecolor": "#2a3f5f"
            },
            "baxis": {
             "endlinecolor": "#2a3f5f",
             "gridcolor": "white",
             "linecolor": "white",
             "minorgridcolor": "white",
             "startlinecolor": "#2a3f5f"
            },
            "type": "carpet"
           }
          ],
          "choropleth": [
           {
            "colorbar": {
             "outlinewidth": 0,
             "ticks": ""
            },
            "type": "choropleth"
           }
          ],
          "contour": [
           {
            "colorbar": {
             "outlinewidth": 0,
             "ticks": ""
            },
            "colorscale": [
             [
              0,
              "#0d0887"
             ],
             [
              0.1111111111111111,
              "#46039f"
             ],
             [
              0.2222222222222222,
              "#7201a8"
             ],
             [
              0.3333333333333333,
              "#9c179e"
             ],
             [
              0.4444444444444444,
              "#bd3786"
             ],
             [
              0.5555555555555556,
              "#d8576b"
             ],
             [
              0.6666666666666666,
              "#ed7953"
             ],
             [
              0.7777777777777778,
              "#fb9f3a"
             ],
             [
              0.8888888888888888,
              "#fdca26"
             ],
             [
              1,
              "#f0f921"
             ]
            ],
            "type": "contour"
           }
          ],
          "contourcarpet": [
           {
            "colorbar": {
             "outlinewidth": 0,
             "ticks": ""
            },
            "type": "contourcarpet"
           }
          ],
          "heatmap": [
           {
            "colorbar": {
             "outlinewidth": 0,
             "ticks": ""
            },
            "colorscale": [
             [
              0,
              "#0d0887"
             ],
             [
              0.1111111111111111,
              "#46039f"
             ],
             [
              0.2222222222222222,
              "#7201a8"
             ],
             [
              0.3333333333333333,
              "#9c179e"
             ],
             [
              0.4444444444444444,
              "#bd3786"
             ],
             [
              0.5555555555555556,
              "#d8576b"
             ],
             [
              0.6666666666666666,
              "#ed7953"
             ],
             [
              0.7777777777777778,
              "#fb9f3a"
             ],
             [
              0.8888888888888888,
              "#fdca26"
             ],
             [
              1,
              "#f0f921"
             ]
            ],
            "type": "heatmap"
           }
          ],
          "heatmapgl": [
           {
            "colorbar": {
             "outlinewidth": 0,
             "ticks": ""
            },
            "colorscale": [
             [
              0,
              "#0d0887"
             ],
             [
              0.1111111111111111,
              "#46039f"
             ],
             [
              0.2222222222222222,
              "#7201a8"
             ],
             [
              0.3333333333333333,
              "#9c179e"
             ],
             [
              0.4444444444444444,
              "#bd3786"
             ],
             [
              0.5555555555555556,
              "#d8576b"
             ],
             [
              0.6666666666666666,
              "#ed7953"
             ],
             [
              0.7777777777777778,
              "#fb9f3a"
             ],
             [
              0.8888888888888888,
              "#fdca26"
             ],
             [
              1,
              "#f0f921"
             ]
            ],
            "type": "heatmapgl"
           }
          ],
          "histogram": [
           {
            "marker": {
             "pattern": {
              "fillmode": "overlay",
              "size": 10,
              "solidity": 0.2
             }
            },
            "type": "histogram"
           }
          ],
          "histogram2d": [
           {
            "colorbar": {
             "outlinewidth": 0,
             "ticks": ""
            },
            "colorscale": [
             [
              0,
              "#0d0887"
             ],
             [
              0.1111111111111111,
              "#46039f"
             ],
             [
              0.2222222222222222,
              "#7201a8"
             ],
             [
              0.3333333333333333,
              "#9c179e"
             ],
             [
              0.4444444444444444,
              "#bd3786"
             ],
             [
              0.5555555555555556,
              "#d8576b"
             ],
             [
              0.6666666666666666,
              "#ed7953"
             ],
             [
              0.7777777777777778,
              "#fb9f3a"
             ],
             [
              0.8888888888888888,
              "#fdca26"
             ],
             [
              1,
              "#f0f921"
             ]
            ],
            "type": "histogram2d"
           }
          ],
          "histogram2dcontour": [
           {
            "colorbar": {
             "outlinewidth": 0,
             "ticks": ""
            },
            "colorscale": [
             [
              0,
              "#0d0887"
             ],
             [
              0.1111111111111111,
              "#46039f"
             ],
             [
              0.2222222222222222,
              "#7201a8"
             ],
             [
              0.3333333333333333,
              "#9c179e"
             ],
             [
              0.4444444444444444,
              "#bd3786"
             ],
             [
              0.5555555555555556,
              "#d8576b"
             ],
             [
              0.6666666666666666,
              "#ed7953"
             ],
             [
              0.7777777777777778,
              "#fb9f3a"
             ],
             [
              0.8888888888888888,
              "#fdca26"
             ],
             [
              1,
              "#f0f921"
             ]
            ],
            "type": "histogram2dcontour"
           }
          ],
          "mesh3d": [
           {
            "colorbar": {
             "outlinewidth": 0,
             "ticks": ""
            },
            "type": "mesh3d"
           }
          ],
          "parcoords": [
           {
            "line": {
             "colorbar": {
              "outlinewidth": 0,
              "ticks": ""
             }
            },
            "type": "parcoords"
           }
          ],
          "pie": [
           {
            "automargin": true,
            "type": "pie"
           }
          ],
          "scatter": [
           {
            "fillpattern": {
             "fillmode": "overlay",
             "size": 10,
             "solidity": 0.2
            },
            "type": "scatter"
           }
          ],
          "scatter3d": [
           {
            "line": {
             "colorbar": {
              "outlinewidth": 0,
              "ticks": ""
             }
            },
            "marker": {
             "colorbar": {
              "outlinewidth": 0,
              "ticks": ""
             }
            },
            "type": "scatter3d"
           }
          ],
          "scattercarpet": [
           {
            "marker": {
             "colorbar": {
              "outlinewidth": 0,
              "ticks": ""
             }
            },
            "type": "scattercarpet"
           }
          ],
          "scattergeo": [
           {
            "marker": {
             "colorbar": {
              "outlinewidth": 0,
              "ticks": ""
             }
            },
            "type": "scattergeo"
           }
          ],
          "scattergl": [
           {
            "marker": {
             "colorbar": {
              "outlinewidth": 0,
              "ticks": ""
             }
            },
            "type": "scattergl"
           }
          ],
          "scattermapbox": [
           {
            "marker": {
             "colorbar": {
              "outlinewidth": 0,
              "ticks": ""
             }
            },
            "type": "scattermapbox"
           }
          ],
          "scatterpolar": [
           {
            "marker": {
             "colorbar": {
              "outlinewidth": 0,
              "ticks": ""
             }
            },
            "type": "scatterpolar"
           }
          ],
          "scatterpolargl": [
           {
            "marker": {
             "colorbar": {
              "outlinewidth": 0,
              "ticks": ""
             }
            },
            "type": "scatterpolargl"
           }
          ],
          "scatterternary": [
           {
            "marker": {
             "colorbar": {
              "outlinewidth": 0,
              "ticks": ""
             }
            },
            "type": "scatterternary"
           }
          ],
          "surface": [
           {
            "colorbar": {
             "outlinewidth": 0,
             "ticks": ""
            },
            "colorscale": [
             [
              0,
              "#0d0887"
             ],
             [
              0.1111111111111111,
              "#46039f"
             ],
             [
              0.2222222222222222,
              "#7201a8"
             ],
             [
              0.3333333333333333,
              "#9c179e"
             ],
             [
              0.4444444444444444,
              "#bd3786"
             ],
             [
              0.5555555555555556,
              "#d8576b"
             ],
             [
              0.6666666666666666,
              "#ed7953"
             ],
             [
              0.7777777777777778,
              "#fb9f3a"
             ],
             [
              0.8888888888888888,
              "#fdca26"
             ],
             [
              1,
              "#f0f921"
             ]
            ],
            "type": "surface"
           }
          ],
          "table": [
           {
            "cells": {
             "fill": {
              "color": "#EBF0F8"
             },
             "line": {
              "color": "white"
             }
            },
            "header": {
             "fill": {
              "color": "#C8D4E3"
             },
             "line": {
              "color": "white"
             }
            },
            "type": "table"
           }
          ]
         },
         "layout": {
          "annotationdefaults": {
           "arrowcolor": "#2a3f5f",
           "arrowhead": 0,
           "arrowwidth": 1
          },
          "autotypenumbers": "strict",
          "coloraxis": {
           "colorbar": {
            "outlinewidth": 0,
            "ticks": ""
           }
          },
          "colorscale": {
           "diverging": [
            [
             0,
             "#8e0152"
            ],
            [
             0.1,
             "#c51b7d"
            ],
            [
             0.2,
             "#de77ae"
            ],
            [
             0.3,
             "#f1b6da"
            ],
            [
             0.4,
             "#fde0ef"
            ],
            [
             0.5,
             "#f7f7f7"
            ],
            [
             0.6,
             "#e6f5d0"
            ],
            [
             0.7,
             "#b8e186"
            ],
            [
             0.8,
             "#7fbc41"
            ],
            [
             0.9,
             "#4d9221"
            ],
            [
             1,
             "#276419"
            ]
           ],
           "sequential": [
            [
             0,
             "#0d0887"
            ],
            [
             0.1111111111111111,
             "#46039f"
            ],
            [
             0.2222222222222222,
             "#7201a8"
            ],
            [
             0.3333333333333333,
             "#9c179e"
            ],
            [
             0.4444444444444444,
             "#bd3786"
            ],
            [
             0.5555555555555556,
             "#d8576b"
            ],
            [
             0.6666666666666666,
             "#ed7953"
            ],
            [
             0.7777777777777778,
             "#fb9f3a"
            ],
            [
             0.8888888888888888,
             "#fdca26"
            ],
            [
             1,
             "#f0f921"
            ]
           ],
           "sequentialminus": [
            [
             0,
             "#0d0887"
            ],
            [
             0.1111111111111111,
             "#46039f"
            ],
            [
             0.2222222222222222,
             "#7201a8"
            ],
            [
             0.3333333333333333,
             "#9c179e"
            ],
            [
             0.4444444444444444,
             "#bd3786"
            ],
            [
             0.5555555555555556,
             "#d8576b"
            ],
            [
             0.6666666666666666,
             "#ed7953"
            ],
            [
             0.7777777777777778,
             "#fb9f3a"
            ],
            [
             0.8888888888888888,
             "#fdca26"
            ],
            [
             1,
             "#f0f921"
            ]
           ]
          },
          "colorway": [
           "#636efa",
           "#EF553B",
           "#00cc96",
           "#ab63fa",
           "#FFA15A",
           "#19d3f3",
           "#FF6692",
           "#B6E880",
           "#FF97FF",
           "#FECB52"
          ],
          "font": {
           "color": "#2a3f5f"
          },
          "geo": {
           "bgcolor": "white",
           "lakecolor": "white",
           "landcolor": "#E5ECF6",
           "showlakes": true,
           "showland": true,
           "subunitcolor": "white"
          },
          "hoverlabel": {
           "align": "left"
          },
          "hovermode": "closest",
          "mapbox": {
           "style": "light"
          },
          "paper_bgcolor": "white",
          "plot_bgcolor": "#E5ECF6",
          "polar": {
           "angularaxis": {
            "gridcolor": "white",
            "linecolor": "white",
            "ticks": ""
           },
           "bgcolor": "#E5ECF6",
           "radialaxis": {
            "gridcolor": "white",
            "linecolor": "white",
            "ticks": ""
           }
          },
          "scene": {
           "xaxis": {
            "backgroundcolor": "#E5ECF6",
            "gridcolor": "white",
            "gridwidth": 2,
            "linecolor": "white",
            "showbackground": true,
            "ticks": "",
            "zerolinecolor": "white"
           },
           "yaxis": {
            "backgroundcolor": "#E5ECF6",
            "gridcolor": "white",
            "gridwidth": 2,
            "linecolor": "white",
            "showbackground": true,
            "ticks": "",
            "zerolinecolor": "white"
           },
           "zaxis": {
            "backgroundcolor": "#E5ECF6",
            "gridcolor": "white",
            "gridwidth": 2,
            "linecolor": "white",
            "showbackground": true,
            "ticks": "",
            "zerolinecolor": "white"
           }
          },
          "shapedefaults": {
           "line": {
            "color": "#2a3f5f"
           }
          },
          "ternary": {
           "aaxis": {
            "gridcolor": "white",
            "linecolor": "white",
            "ticks": ""
           },
           "baxis": {
            "gridcolor": "white",
            "linecolor": "white",
            "ticks": ""
           },
           "bgcolor": "#E5ECF6",
           "caxis": {
            "gridcolor": "white",
            "linecolor": "white",
            "ticks": ""
           }
          },
          "title": {
           "x": 0.05
          },
          "xaxis": {
           "automargin": true,
           "gridcolor": "white",
           "linecolor": "white",
           "ticks": "",
           "title": {
            "standoff": 15
           },
           "zerolinecolor": "white",
           "zerolinewidth": 2
          },
          "yaxis": {
           "automargin": true,
           "gridcolor": "white",
           "linecolor": "white",
           "ticks": "",
           "title": {
            "standoff": 15
           },
           "zerolinecolor": "white",
           "zerolinewidth": 2
          }
         }
        },
        "title": {
         "text": "Web Traffic Across Different Series - APR"
        },
        "xaxis": {
         "anchor": "y",
         "domain": [
          0,
          1
         ],
         "title": {
          "text": "date"
         }
        },
        "yaxis": {
         "anchor": "x",
         "domain": [
          0,
          1
         ],
         "title": {
          "text": "web_traffic"
         }
        }
       }
      }
     },
     "metadata": {},
     "output_type": "display_data"
    }
   ],
   "source": [
    "for test_regression in all_regressions_apr['regressions']:\n",
    "    print(test_regression['banks_for_regression'])\n",
    "    bank_of_interest_event_series = test_regression['bank_of_interest_event_series']    \n",
    "    control_bank_event_series = test_regression['control_bank_event_series']\n",
    "    bank_of_interest_non_event_series = test_regression['bank_of_interest_non_event_series']\n",
    "    control_bank_non_event_series = test_regression['control_bank_non_event_series']\n",
    "\n",
    "    bank_of_interest_event_series['series'] = 'Bank of Interest Event'\n",
    "    control_bank_event_series['series'] = 'Control Bank Event'\n",
    "    bank_of_interest_non_event_series['series'] = 'Bank of Interest Non Event'\n",
    "    control_bank_non_event_series['series'] = 'Control Bank Non Event'\n",
    "\n",
    "     # Add a 'type' and 'period' columns to each DataFrame\n",
    "    bank_of_interest_event_series['type'] = 'bank_of_interest_event'\n",
    "    control_bank_event_series['type'] = 'control_bank_event'\n",
    "    bank_of_interest_non_event_series['type'] = 'bank_of_interest_non_event'\n",
    "    control_bank_non_event_series['type'] = 'control_bank_non_event'\n",
    "\n",
    "    bank_of_interest_event_series['period'] = 'post'\n",
    "    control_bank_event_series['period'] = 'post'\n",
    "    bank_of_interest_non_event_series['period'] = 'pre'\n",
    "    control_bank_non_event_series['period'] = 'pre'\n",
    "\n",
    "    # Concatenate all dataframes into one\n",
    "    combined_df = pd.concat([\n",
    "        bank_of_interest_event_series,\n",
    "        control_bank_event_series,\n",
    "        bank_of_interest_non_event_series,\n",
    "        control_bank_non_event_series\n",
    "    ])\n",
    "\n",
    "    \n",
    "\n",
    "    # Plot the combined dataframe\n",
    "    fig = px.line(combined_df, x='date', y='web_traffic', color='type', title='Web Traffic Across Different Series - APR')\n",
    "\n",
    "    # change legend\n",
    "    fig.update_layout(legend_title_text='Series')\n",
    "    \n",
    "\n",
    "\n",
    "    fig.show()\n"
   ]
  },
  {
   "cell_type": "code",
   "execution_count": null,
   "metadata": {},
   "outputs": [],
   "source": []
  },
  {
   "cell_type": "code",
   "execution_count": null,
   "metadata": {},
   "outputs": [],
   "source": []
  }
 ],
 "metadata": {
  "kernelspec": {
   "display_name": "Python 3",
   "language": "python",
   "name": "python3"
  },
  "language_info": {
   "codemirror_mode": {
    "name": "ipython",
    "version": 3
   },
   "file_extension": ".py",
   "mimetype": "text/x-python",
   "name": "python",
   "nbconvert_exporter": "python",
   "pygments_lexer": "ipython3",
   "version": "3.9.6"
  },
  "orig_nbformat": 4
 },
 "nbformat": 4,
 "nbformat_minor": 2
}
