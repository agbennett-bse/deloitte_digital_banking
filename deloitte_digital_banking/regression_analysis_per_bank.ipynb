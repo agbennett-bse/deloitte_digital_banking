{
 "cells": [
  {
   "cell_type": "code",
   "execution_count": 30,
   "metadata": {},
   "outputs": [],
   "source": [
    "import pandas as pd \n",
    "import numpy as np\n",
    "import matplotlib.pyplot as plt\n",
    "import plotly.express as px\n",
    "import plotly.graph_objects as go\n",
    "import statsmodels.api as sm\n",
    "import pandas as pd\n",
    "import plotly.express as px\n",
    "from scipy.signal import savgol_filter\n",
    "from sklearn.preprocessing import StandardScaler\n"
   ]
  },
  {
   "cell_type": "code",
   "execution_count": 31,
   "metadata": {},
   "outputs": [
    {
     "data": {
      "text/html": [
       "<div>\n",
       "<style scoped>\n",
       "    .dataframe tbody tr th:only-of-type {\n",
       "        vertical-align: middle;\n",
       "    }\n",
       "\n",
       "    .dataframe tbody tr th {\n",
       "        vertical-align: top;\n",
       "    }\n",
       "\n",
       "    .dataframe thead th {\n",
       "        text-align: right;\n",
       "    }\n",
       "</style>\n",
       "<table border=\"1\" class=\"dataframe\">\n",
       "  <thead>\n",
       "    <tr style=\"text-align: right;\">\n",
       "      <th></th>\n",
       "      <th>bank</th>\n",
       "      <th>date</th>\n",
       "      <th>web_traffic</th>\n",
       "      <th>cross_visitation</th>\n",
       "      <th>search_interest</th>\n",
       "      <th>rank</th>\n",
       "      <th>incentive</th>\n",
       "      <th>apr</th>\n",
       "      <th>mentions</th>\n",
       "      <th>app_installs</th>\n",
       "      <th>ppc_spend</th>\n",
       "    </tr>\n",
       "  </thead>\n",
       "  <tbody>\n",
       "    <tr>\n",
       "      <th>0</th>\n",
       "      <td>abanca</td>\n",
       "      <td>2021-12-01</td>\n",
       "      <td>15202.983835</td>\n",
       "      <td>0.077994</td>\n",
       "      <td>7.75</td>\n",
       "      <td>4.0</td>\n",
       "      <td>150.0</td>\n",
       "      <td>0.0</td>\n",
       "      <td>1.0</td>\n",
       "      <td>43605.699637</td>\n",
       "      <td>1506.110026</td>\n",
       "    </tr>\n",
       "    <tr>\n",
       "      <th>1</th>\n",
       "      <td>abanca</td>\n",
       "      <td>2022-01-01</td>\n",
       "      <td>42183.913207</td>\n",
       "      <td>0.062500</td>\n",
       "      <td>7.80</td>\n",
       "      <td>4.0</td>\n",
       "      <td>150.0</td>\n",
       "      <td>0.0</td>\n",
       "      <td>1.0</td>\n",
       "      <td>43605.699637</td>\n",
       "      <td>1506.110026</td>\n",
       "    </tr>\n",
       "    <tr>\n",
       "      <th>2</th>\n",
       "      <td>abanca</td>\n",
       "      <td>2022-02-01</td>\n",
       "      <td>34498.153115</td>\n",
       "      <td>0.052288</td>\n",
       "      <td>7.25</td>\n",
       "      <td>4.0</td>\n",
       "      <td>150.0</td>\n",
       "      <td>0.0</td>\n",
       "      <td>2.0</td>\n",
       "      <td>48647.434439</td>\n",
       "      <td>32750.639361</td>\n",
       "    </tr>\n",
       "    <tr>\n",
       "      <th>3</th>\n",
       "      <td>abanca</td>\n",
       "      <td>2022-03-01</td>\n",
       "      <td>34546.319021</td>\n",
       "      <td>0.061503</td>\n",
       "      <td>6.75</td>\n",
       "      <td>4.0</td>\n",
       "      <td>150.0</td>\n",
       "      <td>0.0</td>\n",
       "      <td>2.0</td>\n",
       "      <td>26687.227413</td>\n",
       "      <td>15754.216964</td>\n",
       "    </tr>\n",
       "    <tr>\n",
       "      <th>4</th>\n",
       "      <td>abanca</td>\n",
       "      <td>2022-04-01</td>\n",
       "      <td>40508.288420</td>\n",
       "      <td>0.050222</td>\n",
       "      <td>6.75</td>\n",
       "      <td>4.0</td>\n",
       "      <td>300.0</td>\n",
       "      <td>0.0</td>\n",
       "      <td>2.0</td>\n",
       "      <td>4254.184995</td>\n",
       "      <td>6542.970638</td>\n",
       "    </tr>\n",
       "  </tbody>\n",
       "</table>\n",
       "</div>"
      ],
      "text/plain": [
       "     bank        date   web_traffic  cross_visitation  search_interest  rank  \\\n",
       "0  abanca  2021-12-01  15202.983835          0.077994             7.75   4.0   \n",
       "1  abanca  2022-01-01  42183.913207          0.062500             7.80   4.0   \n",
       "2  abanca  2022-02-01  34498.153115          0.052288             7.25   4.0   \n",
       "3  abanca  2022-03-01  34546.319021          0.061503             6.75   4.0   \n",
       "4  abanca  2022-04-01  40508.288420          0.050222             6.75   4.0   \n",
       "\n",
       "   incentive  apr  mentions  app_installs     ppc_spend  \n",
       "0      150.0  0.0       1.0  43605.699637   1506.110026  \n",
       "1      150.0  0.0       1.0  43605.699637   1506.110026  \n",
       "2      150.0  0.0       2.0  48647.434439  32750.639361  \n",
       "3      150.0  0.0       2.0  26687.227413  15754.216964  \n",
       "4      300.0  0.0       2.0   4254.184995   6542.970638  "
      ]
     },
     "execution_count": 31,
     "metadata": {},
     "output_type": "execute_result"
    }
   ],
   "source": [
    "data = pd.read_csv('data/regression_clean_data_final_1.csv')\n",
    "data.head()"
   ]
  },
  {
   "cell_type": "code",
   "execution_count": 32,
   "metadata": {},
   "outputs": [],
   "source": [
    "# log incentive, ppc, app install \n",
    "epsilon = 1e-6\n",
    "data['incentive'] = data['incentive'] + epsilon\n",
    "data['log_incentive'] = np.log(data['incentive'])\n",
    "data['log_ppc'] = np.log(data['ppc_spend'])\n",
    "data['log_app_installs'] = np.log(data['app_installs'])\n",
    "data['log_web_traffic'] = np.log(data['web_traffic'])"
   ]
  },
  {
   "cell_type": "code",
   "execution_count": 33,
   "metadata": {},
   "outputs": [],
   "source": [
    "data['date'] = pd.to_datetime(data['date'])\n",
    "\n",
    "# create a dummy column for january \n",
    "data['month_1'] = np.where(data['date'].dt.month == 1, 1, 0)\n",
    "\n",
    "data['log_web_traffic_lag'] = data['log_web_traffic'].shift(1)\n"
   ]
  },
  {
   "cell_type": "code",
   "execution_count": 34,
   "metadata": {},
   "outputs": [],
   "source": [
    "# scale all of the variables with standard scaler\n",
    "\n",
    "scaler = StandardScaler()\n",
    "data[['month_1','cross_visitation', 'search_interest', 'apr', 'mentions', 'log_web_traffic_lag', 'log_web_traffic','log_incentive', 'log_ppc']] = scaler.fit_transform(data[['month_1','cross_visitation', 'search_interest', 'apr', 'mentions', 'log_web_traffic_lag', 'log_web_traffic', 'log_incentive', 'log_ppc' ]])\n"
   ]
  },
  {
   "cell_type": "code",
   "execution_count": 35,
   "metadata": {},
   "outputs": [],
   "source": [
    "data.log_web_traffic_lag = data.log_web_traffic_lag.bfill()"
   ]
  },
  {
   "cell_type": "code",
   "execution_count": 42,
   "metadata": {},
   "outputs": [
    {
     "name": "stdout",
     "output_type": "stream",
     "text": [
      "                            OLS Regression Results                            \n",
      "==============================================================================\n",
      "Dep. Variable:        log_web_traffic   R-squared:                       0.756\n",
      "Model:                            OLS   Adj. R-squared:                  0.634\n",
      "Method:                 Least Squares   F-statistic:                     6.193\n",
      "Date:                Sun, 30 Jun 2024   Prob (F-statistic):            0.00100\n",
      "Time:                        18:39:05   Log-Likelihood:                 4.2663\n",
      "No. Observations:                  25   AIC:                             9.467\n",
      "Df Residuals:                      16   BIC:                             20.44\n",
      "Df Model:                           8                                         \n",
      "Covariance Type:            nonrobust                                         \n",
      "=======================================================================================\n",
      "                          coef    std err          t      P>|t|      [0.025      0.975]\n",
      "---------------------------------------------------------------------------------------\n",
      "const                  -5.6512      4.907     -1.152      0.266     -16.054       4.752\n",
      "log_web_traffic_lag     0.3058      0.277      1.105      0.285      -0.281       0.892\n",
      "cross_visitation       -0.0690      0.280     -0.246      0.809      -0.662       0.524\n",
      "search_interest        -1.0010      3.258     -0.307      0.763      -7.907       5.905\n",
      "apr                     0.2628      0.166      1.586      0.132      -0.088       0.614\n",
      "mentions                0.0130      0.168      0.077      0.939      -0.344       0.370\n",
      "log_incentive           4.7445      3.068      1.547      0.142      -1.759      11.247\n",
      "log_ppc                 0.1302      0.165      0.789      0.442      -0.220       0.480\n",
      "month_1                 0.1634      0.065      2.515      0.023       0.026       0.301\n",
      "==============================================================================\n",
      "Omnibus:                        2.343   Durbin-Watson:                   2.012\n",
      "Prob(Omnibus):                  0.310   Jarque-Bera (JB):                1.132\n",
      "Skew:                          -0.479   Prob(JB):                        0.568\n",
      "Kurtosis:                       3.411   Cond. No.                         293.\n",
      "==============================================================================\n",
      "\n",
      "Notes:\n",
      "[1] Standard Errors assume that the covariance matrix of the errors is correctly specified.\n",
      "                            OLS Regression Results                            \n",
      "==============================================================================\n",
      "Dep. Variable:        log_web_traffic   R-squared:                       0.518\n",
      "Model:                            OLS   Adj. R-squared:                  0.357\n",
      "Method:                 Least Squares   F-statistic:                     3.225\n",
      "Date:                Sun, 30 Jun 2024   Prob (F-statistic):             0.0249\n",
      "Time:                        18:39:05   Log-Likelihood:                 18.418\n",
      "No. Observations:                  25   AIC:                            -22.84\n",
      "Df Residuals:                      18   BIC:                            -14.30\n",
      "Df Model:                           6                                         \n",
      "Covariance Type:            nonrobust                                         \n",
      "=======================================================================================\n",
      "                          coef    std err          t      P>|t|      [0.025      0.975]\n",
      "---------------------------------------------------------------------------------------\n",
      "log_web_traffic_lag     0.0399      0.061      0.652      0.523      -0.089       0.169\n",
      "cross_visitation        0.2548      0.108      2.366      0.029       0.029       0.481\n",
      "search_interest         1.1845      3.022      0.392      0.700      -5.164       7.533\n",
      "apr                     0.1060      0.464      0.228      0.822      -0.869       1.081\n",
      "mentions               -0.0988      0.048     -2.051      0.055      -0.200       0.002\n",
      "log_incentive           0.5090      2.228      0.228      0.822      -4.171       5.189\n",
      "log_ppc                 0.0046      0.036      0.130      0.898      -0.070       0.080\n",
      "month_1                -0.0371      0.031     -1.187      0.251      -0.103       0.029\n",
      "==============================================================================\n",
      "Omnibus:                        0.696   Durbin-Watson:                   1.597\n",
      "Prob(Omnibus):                  0.706   Jarque-Bera (JB):                0.064\n",
      "Skew:                           0.049   Prob(JB):                        0.969\n",
      "Kurtosis:                       3.227   Cond. No.                     4.52e+16\n",
      "==============================================================================\n",
      "\n",
      "Notes:\n",
      "[1] Standard Errors assume that the covariance matrix of the errors is correctly specified.\n",
      "[2] The smallest eigenvalue is 8.96e-32. This might indicate that there are\n",
      "strong multicollinearity problems or that the design matrix is singular.\n",
      "                            OLS Regression Results                            \n",
      "==============================================================================\n",
      "Dep. Variable:        log_web_traffic   R-squared:                       0.603\n",
      "Model:                            OLS   Adj. R-squared:                  0.439\n",
      "Method:                 Least Squares   F-statistic:                     3.685\n",
      "Date:                Sun, 30 Jun 2024   Prob (F-statistic):             0.0132\n",
      "Time:                        18:39:05   Log-Likelihood:                -5.3120\n",
      "No. Observations:                  25   AIC:                             26.62\n",
      "Df Residuals:                      17   BIC:                             36.38\n",
      "Df Model:                           7                                         \n",
      "Covariance Type:            nonrobust                                         \n",
      "=======================================================================================\n",
      "                          coef    std err          t      P>|t|      [0.025      0.975]\n",
      "---------------------------------------------------------------------------------------\n",
      "log_web_traffic_lag     0.3425      0.163      2.100      0.051      -0.002       0.687\n",
      "cross_visitation        0.2127      0.245      0.870      0.397      -0.303       0.729\n",
      "search_interest         1.4877      0.789      1.887      0.076      -0.176       3.151\n",
      "apr                    -0.3374      0.409     -0.824      0.421      -1.201       0.526\n",
      "mentions                0.2249      0.275      0.819      0.424      -0.354       0.804\n",
      "log_incentive           0.2319      0.194      1.196      0.248      -0.177       0.641\n",
      "log_ppc                 0.2572      0.128      2.003      0.061      -0.014       0.528\n",
      "month_1                 0.0302      0.086      0.352      0.729      -0.151       0.211\n",
      "==============================================================================\n",
      "Omnibus:                        1.481   Durbin-Watson:                   2.080\n",
      "Prob(Omnibus):                  0.477   Jarque-Bera (JB):                1.239\n",
      "Skew:                          -0.513   Prob(JB):                        0.538\n",
      "Kurtosis:                       2.631   Cond. No.                         16.8\n",
      "==============================================================================\n",
      "\n",
      "Notes:\n",
      "[1] Standard Errors assume that the covariance matrix of the errors is correctly specified.\n",
      "                            OLS Regression Results                            \n",
      "==============================================================================\n",
      "Dep. Variable:        log_web_traffic   R-squared:                       0.637\n",
      "Model:                            OLS   Adj. R-squared:                  0.516\n",
      "Method:                 Least Squares   F-statistic:                     5.272\n",
      "Date:                Sun, 30 Jun 2024   Prob (F-statistic):            0.00271\n",
      "Time:                        18:39:05   Log-Likelihood:                 1.8173\n",
      "No. Observations:                  25   AIC:                             10.37\n",
      "Df Residuals:                      18   BIC:                             18.90\n",
      "Df Model:                           6                                         \n",
      "Covariance Type:            nonrobust                                         \n",
      "=======================================================================================\n",
      "                          coef    std err          t      P>|t|      [0.025      0.975]\n",
      "---------------------------------------------------------------------------------------\n",
      "log_web_traffic_lag     0.5035      0.235      2.145      0.046       0.010       0.997\n",
      "cross_visitation       -0.1648      0.103     -1.594      0.128      -0.382       0.052\n",
      "search_interest         0.0336      0.070      0.481      0.636      -0.113       0.180\n",
      "apr                     0.1690      0.083      2.029      0.058      -0.006       0.344\n",
      "mentions                0.0577      0.062      0.926      0.367      -0.073       0.189\n",
      "log_incentive           0.3918      0.193      2.029      0.058      -0.014       0.798\n",
      "log_ppc                -0.4721      0.228     -2.071      0.053      -0.951       0.007\n",
      "month_1                -0.0275      0.055     -0.503      0.621      -0.142       0.087\n",
      "==============================================================================\n",
      "Omnibus:                        0.404   Durbin-Watson:                   2.260\n",
      "Prob(Omnibus):                  0.817   Jarque-Bera (JB):                0.474\n",
      "Skew:                           0.260   Prob(JB):                        0.789\n",
      "Kurtosis:                       2.571   Cond. No.                     2.36e+16\n",
      "==============================================================================\n",
      "\n",
      "Notes:\n",
      "[1] Standard Errors assume that the covariance matrix of the errors is correctly specified.\n",
      "[2] The smallest eigenvalue is 3.46e-31. This might indicate that there are\n",
      "strong multicollinearity problems or that the design matrix is singular.\n",
      "                            OLS Regression Results                            \n",
      "==============================================================================\n",
      "Dep. Variable:        log_web_traffic   R-squared:                       0.159\n",
      "Model:                            OLS   Adj. R-squared:                 -0.187\n",
      "Method:                 Least Squares   F-statistic:                    0.4605\n",
      "Date:                Sun, 30 Jun 2024   Prob (F-statistic):              0.850\n",
      "Time:                        18:39:05   Log-Likelihood:                -3.6028\n",
      "No. Observations:                  25   AIC:                             23.21\n",
      "Df Residuals:                      17   BIC:                             32.96\n",
      "Df Model:                           7                                         \n",
      "Covariance Type:            nonrobust                                         \n",
      "=======================================================================================\n",
      "                          coef    std err          t      P>|t|      [0.025      0.975]\n",
      "---------------------------------------------------------------------------------------\n",
      "log_web_traffic_lag    -0.1446      0.189     -0.764      0.455      -0.544       0.255\n",
      "cross_visitation        0.2335      0.239      0.978      0.342      -0.270       0.737\n",
      "search_interest        -0.0030      0.376     -0.008      0.994      -0.797       0.791\n",
      "apr                    -0.2933      0.250     -1.173      0.257      -0.821       0.234\n",
      "mentions                0.0621      0.111      0.559      0.584      -0.172       0.297\n",
      "log_incentive          -0.5327      0.921     -0.578      0.571      -2.477       1.411\n",
      "log_ppc                -0.0197      0.193     -0.102      0.920      -0.427       0.388\n",
      "month_1                -0.0030      0.094     -0.032      0.975      -0.202       0.196\n",
      "==============================================================================\n",
      "Omnibus:                       18.730   Durbin-Watson:                   2.037\n",
      "Prob(Omnibus):                  0.000   Jarque-Bera (JB):               25.899\n",
      "Skew:                           1.552   Prob(JB):                     2.38e-06\n",
      "Kurtosis:                       6.902   Cond. No.                         42.4\n",
      "==============================================================================\n",
      "\n",
      "Notes:\n",
      "[1] Standard Errors assume that the covariance matrix of the errors is correctly specified.\n",
      "                            OLS Regression Results                            \n",
      "==============================================================================\n",
      "Dep. Variable:        log_web_traffic   R-squared:                       0.755\n",
      "Model:                            OLS   Adj. R-squared:                  0.673\n",
      "Method:                 Least Squares   F-statistic:                     9.220\n",
      "Date:                Sun, 30 Jun 2024   Prob (F-statistic):           0.000108\n",
      "Time:                        18:39:05   Log-Likelihood:                -16.089\n",
      "No. Observations:                  25   AIC:                             46.18\n",
      "Df Residuals:                      18   BIC:                             54.71\n",
      "Df Model:                           6                                         \n",
      "Covariance Type:            nonrobust                                         \n",
      "=======================================================================================\n",
      "                          coef    std err          t      P>|t|      [0.025      0.975]\n",
      "---------------------------------------------------------------------------------------\n",
      "log_web_traffic_lag     0.4135      0.130      3.173      0.005       0.140       0.687\n",
      "cross_visitation        1.0733      0.412      2.606      0.018       0.208       1.939\n",
      "search_interest         0.4425      0.313      1.414      0.174      -0.215       1.100\n",
      "apr                    -0.4141      0.309     -1.341      0.196      -1.063       0.234\n",
      "mentions                1.3517      0.586      2.308      0.033       0.121       2.582\n",
      "log_incentive          -0.4251      0.317     -1.341      0.196      -1.091       0.241\n",
      "log_ppc                -0.5024      0.150     -3.349      0.004      -0.818      -0.187\n",
      "month_1                 0.2468      0.120      2.052      0.055      -0.006       0.500\n",
      "==============================================================================\n",
      "Omnibus:                        1.292   Durbin-Watson:                   2.106\n",
      "Prob(Omnibus):                  0.524   Jarque-Bera (JB):                0.958\n",
      "Skew:                          -0.466   Prob(JB):                        0.619\n",
      "Kurtosis:                       2.775   Cond. No.                     3.37e+16\n",
      "==============================================================================\n",
      "\n",
      "Notes:\n",
      "[1] Standard Errors assume that the covariance matrix of the errors is correctly specified.\n",
      "[2] The smallest eigenvalue is 1.19e-31. This might indicate that there are\n",
      "strong multicollinearity problems or that the design matrix is singular.\n",
      "                            OLS Regression Results                            \n",
      "==============================================================================\n",
      "Dep. Variable:        log_web_traffic   R-squared:                       0.081\n",
      "Model:                            OLS   Adj. R-squared:                 -0.225\n",
      "Method:                 Least Squares   F-statistic:                    0.2646\n",
      "Date:                Sun, 30 Jun 2024   Prob (F-statistic):              0.946\n",
      "Time:                        18:39:05   Log-Likelihood:                -11.082\n",
      "No. Observations:                  25   AIC:                             36.16\n",
      "Df Residuals:                      18   BIC:                             44.70\n",
      "Df Model:                           6                                         \n",
      "Covariance Type:            nonrobust                                         \n",
      "=======================================================================================\n",
      "                          coef    std err          t      P>|t|      [0.025      0.975]\n",
      "---------------------------------------------------------------------------------------\n",
      "log_web_traffic_lag    -0.1742      0.305     -0.570      0.575      -0.816       0.468\n",
      "cross_visitation        0.1161      0.274      0.424      0.676      -0.459       0.691\n",
      "search_interest         0.0417      6.085      0.007      0.995     -12.743      12.827\n",
      "apr                    -0.0458      3.136     -0.015      0.989      -6.635       6.544\n",
      "mentions               -0.0706      0.137     -0.517      0.612      -0.358       0.217\n",
      "log_incentive          -0.0470      3.220     -0.015      0.989      -6.812       6.718\n",
      "log_ppc                -0.0720      0.298     -0.242      0.812      -0.698       0.554\n",
      "month_1                 0.0874      0.104      0.841      0.411      -0.131       0.306\n",
      "==============================================================================\n",
      "Omnibus:                        2.147   Durbin-Watson:                   1.830\n",
      "Prob(Omnibus):                  0.342   Jarque-Bera (JB):                1.861\n",
      "Skew:                          -0.577   Prob(JB):                        0.394\n",
      "Kurtosis:                       2.324   Cond. No.                     1.72e+16\n",
      "==============================================================================\n",
      "\n",
      "Notes:\n",
      "[1] Standard Errors assume that the covariance matrix of the errors is correctly specified.\n",
      "[2] The smallest eigenvalue is 3.02e-31. This might indicate that there are\n",
      "strong multicollinearity problems or that the design matrix is singular.\n",
      "                            OLS Regression Results                            \n",
      "==============================================================================\n",
      "Dep. Variable:        log_web_traffic   R-squared:                       0.590\n",
      "Model:                            OLS   Adj. R-squared:                  0.454\n",
      "Method:                 Least Squares   F-statistic:                     4.320\n",
      "Date:                Sun, 30 Jun 2024   Prob (F-statistic):            0.00717\n",
      "Time:                        18:39:05   Log-Likelihood:                -6.9594\n",
      "No. Observations:                  25   AIC:                             27.92\n",
      "Df Residuals:                      18   BIC:                             36.45\n",
      "Df Model:                           6                                         \n",
      "Covariance Type:            nonrobust                                         \n",
      "=======================================================================================\n",
      "                          coef    std err          t      P>|t|      [0.025      0.975]\n",
      "---------------------------------------------------------------------------------------\n",
      "log_web_traffic_lag     0.4071      0.148      2.751      0.013       0.096       0.718\n",
      "cross_visitation        0.6813      0.291      2.338      0.031       0.069       1.293\n",
      "search_interest         0.0728      0.132      0.553      0.587      -0.204       0.349\n",
      "apr                     0.0240      0.155      0.154      0.879      -0.302       0.350\n",
      "mentions                0.1495      0.111      1.348      0.194      -0.083       0.382\n",
      "log_incentive           0.0246      0.159      0.154      0.879      -0.310       0.360\n",
      "log_ppc                -0.1140      0.118     -0.962      0.349      -0.363       0.135\n",
      "month_1                 0.0714      0.080      0.888      0.386      -0.097       0.240\n",
      "==============================================================================\n",
      "Omnibus:                        0.533   Durbin-Watson:                   1.276\n",
      "Prob(Omnibus):                  0.766   Jarque-Bera (JB):                0.224\n",
      "Skew:                          -0.230   Prob(JB):                        0.894\n",
      "Kurtosis:                       2.938   Cond. No.                     2.69e+16\n",
      "==============================================================================\n",
      "\n",
      "Notes:\n",
      "[1] Standard Errors assume that the covariance matrix of the errors is correctly specified.\n",
      "[2] The smallest eigenvalue is 1.63e-31. This might indicate that there are\n",
      "strong multicollinearity problems or that the design matrix is singular.\n",
      "                            OLS Regression Results                            \n",
      "==============================================================================\n",
      "Dep. Variable:        log_web_traffic   R-squared:                       0.301\n",
      "Model:                            OLS   Adj. R-squared:                  0.068\n",
      "Method:                 Least Squares   F-statistic:                     1.291\n",
      "Date:                Sun, 30 Jun 2024   Prob (F-statistic):              0.311\n",
      "Time:                        18:39:05   Log-Likelihood:                -7.8719\n",
      "No. Observations:                  25   AIC:                             29.74\n",
      "Df Residuals:                      18   BIC:                             38.28\n",
      "Df Model:                           6                                         \n",
      "Covariance Type:            nonrobust                                         \n",
      "=======================================================================================\n",
      "                          coef    std err          t      P>|t|      [0.025      0.975]\n",
      "---------------------------------------------------------------------------------------\n",
      "log_web_traffic_lag     0.5258      0.224      2.352      0.030       0.056       0.996\n",
      "cross_visitation       -0.6074      0.365     -1.665      0.113      -1.374       0.159\n",
      "search_interest         1.8346      3.071      0.597      0.558      -4.618       8.287\n",
      "apr                     0.3320      0.781      0.425      0.676      -1.308       1.972\n",
      "mentions               -0.3439      0.248     -1.386      0.183      -0.865       0.177\n",
      "log_incentive          -0.1461      0.343     -0.425      0.676      -0.868       0.576\n",
      "log_ppc                -0.0547      0.190     -0.287      0.777      -0.454       0.345\n",
      "month_1                -0.0083      0.107     -0.077      0.940      -0.234       0.217\n",
      "==============================================================================\n",
      "Omnibus:                        0.245   Durbin-Watson:                   2.527\n",
      "Prob(Omnibus):                  0.885   Jarque-Bera (JB):                0.062\n",
      "Skew:                           0.110   Prob(JB):                        0.970\n",
      "Kurtosis:                       2.896   Cond. No.                     2.42e+16\n",
      "==============================================================================\n",
      "\n",
      "Notes:\n",
      "[1] Standard Errors assume that the covariance matrix of the errors is correctly specified.\n",
      "[2] The smallest eigenvalue is 2.03e-31. This might indicate that there are\n",
      "strong multicollinearity problems or that the design matrix is singular.\n",
      "                            OLS Regression Results                            \n",
      "==============================================================================\n",
      "Dep. Variable:        log_web_traffic   R-squared:                       0.379\n",
      "Model:                            OLS   Adj. R-squared:                  0.173\n",
      "Method:                 Least Squares   F-statistic:                     1.834\n",
      "Date:                Sun, 30 Jun 2024   Prob (F-statistic):              0.149\n",
      "Time:                        18:39:05   Log-Likelihood:                -7.7408\n",
      "No. Observations:                  25   AIC:                             29.48\n",
      "Df Residuals:                      18   BIC:                             38.01\n",
      "Df Model:                           6                                         \n",
      "Covariance Type:            nonrobust                                         \n",
      "=======================================================================================\n",
      "                          coef    std err          t      P>|t|      [0.025      0.975]\n",
      "---------------------------------------------------------------------------------------\n",
      "log_web_traffic_lag     0.2037      0.237      0.859      0.402      -0.294       0.702\n",
      "cross_visitation        0.7684      0.439      1.750      0.097      -0.154       1.691\n",
      "search_interest        -5.9213      6.252     -0.947      0.356     -19.057       7.214\n",
      "apr                    -2.5798      2.610     -0.988      0.336      -8.064       2.904\n",
      "mentions                0.1855      0.126      1.467      0.160      -0.080       0.451\n",
      "log_incentive           1.1350      1.148      0.988      0.336      -1.278       3.548\n",
      "log_ppc                 0.0673      0.117      0.578      0.571      -0.178       0.312\n",
      "month_1                 0.0060      0.091      0.065      0.949      -0.186       0.198\n",
      "==============================================================================\n",
      "Omnibus:                        4.241   Durbin-Watson:                   1.949\n",
      "Prob(Omnibus):                  0.120   Jarque-Bera (JB):                2.854\n",
      "Skew:                          -0.816   Prob(JB):                        0.240\n",
      "Kurtosis:                       3.279   Cond. No.                     5.42e+16\n",
      "==============================================================================\n",
      "\n",
      "Notes:\n",
      "[1] Standard Errors assume that the covariance matrix of the errors is correctly specified.\n",
      "[2] The smallest eigenvalue is 5.62e-32. This might indicate that there are\n",
      "strong multicollinearity problems or that the design matrix is singular.\n",
      "                            OLS Regression Results                            \n",
      "==============================================================================\n",
      "Dep. Variable:        log_web_traffic   R-squared:                       0.614\n",
      "Model:                            OLS   Adj. R-squared:                  0.455\n",
      "Method:                 Least Squares   F-statistic:                     3.859\n",
      "Date:                Sun, 30 Jun 2024   Prob (F-statistic):             0.0108\n",
      "Time:                        18:39:05   Log-Likelihood:                 4.2385\n",
      "No. Observations:                  25   AIC:                             7.523\n",
      "Df Residuals:                      17   BIC:                             17.27\n",
      "Df Model:                           7                                         \n",
      "Covariance Type:            nonrobust                                         \n",
      "=======================================================================================\n",
      "                          coef    std err          t      P>|t|      [0.025      0.975]\n",
      "---------------------------------------------------------------------------------------\n",
      "log_web_traffic_lag     0.3347      0.176      1.900      0.075      -0.037       0.706\n",
      "cross_visitation       -0.0556      0.187     -0.297      0.770      -0.450       0.339\n",
      "search_interest         0.2762      0.302      0.915      0.373      -0.360       0.913\n",
      "apr                    -0.0370      0.788     -0.047      0.963      -1.699       1.625\n",
      "mentions                0.0220      0.091      0.242      0.811      -0.170       0.214\n",
      "log_incentive           0.2080      0.088      2.369      0.030       0.023       0.393\n",
      "log_ppc                -0.0085      0.269     -0.032      0.975      -0.577       0.560\n",
      "month_1                 0.0820      0.057      1.437      0.169      -0.038       0.203\n",
      "==============================================================================\n",
      "Omnibus:                        0.222   Durbin-Watson:                   1.715\n",
      "Prob(Omnibus):                  0.895   Jarque-Bera (JB):                0.238\n",
      "Skew:                           0.186   Prob(JB):                        0.888\n",
      "Kurtosis:                       2.701   Cond. No.                         42.3\n",
      "==============================================================================\n",
      "\n",
      "Notes:\n",
      "[1] Standard Errors assume that the covariance matrix of the errors is correctly specified.\n"
     ]
    },
    {
     "data": {
      "text/html": [
       "<div>\n",
       "<style scoped>\n",
       "    .dataframe tbody tr th:only-of-type {\n",
       "        vertical-align: middle;\n",
       "    }\n",
       "\n",
       "    .dataframe tbody tr th {\n",
       "        vertical-align: top;\n",
       "    }\n",
       "\n",
       "    .dataframe thead th {\n",
       "        text-align: right;\n",
       "    }\n",
       "</style>\n",
       "<table border=\"1\" class=\"dataframe\">\n",
       "  <thead>\n",
       "    <tr style=\"text-align: right;\">\n",
       "      <th></th>\n",
       "      <th>const</th>\n",
       "      <th>log_web_traffic_lag</th>\n",
       "      <th>cross_visitation</th>\n",
       "      <th>search_interest</th>\n",
       "      <th>apr</th>\n",
       "      <th>mentions</th>\n",
       "      <th>log_incentive</th>\n",
       "      <th>log_ppc</th>\n",
       "      <th>month_1</th>\n",
       "      <th>bank_name</th>\n",
       "    </tr>\n",
       "  </thead>\n",
       "  <tbody>\n",
       "    <tr>\n",
       "      <th>0</th>\n",
       "      <td>-5.651167</td>\n",
       "      <td>0.305758</td>\n",
       "      <td>-0.068958</td>\n",
       "      <td>-1.001011</td>\n",
       "      <td>0.262801</td>\n",
       "      <td>0.012985</td>\n",
       "      <td>4.744462</td>\n",
       "      <td>0.130225</td>\n",
       "      <td>0.163449</td>\n",
       "      <td>abanca</td>\n",
       "    </tr>\n",
       "    <tr>\n",
       "      <th>1</th>\n",
       "      <td>NaN</td>\n",
       "      <td>0.039918</td>\n",
       "      <td>0.254753</td>\n",
       "      <td>1.184493</td>\n",
       "      <td>0.105996</td>\n",
       "      <td>-0.098819</td>\n",
       "      <td>0.509005</td>\n",
       "      <td>0.004647</td>\n",
       "      <td>-0.037117</td>\n",
       "      <td>n26</td>\n",
       "    </tr>\n",
       "    <tr>\n",
       "      <th>2</th>\n",
       "      <td>NaN</td>\n",
       "      <td>0.342462</td>\n",
       "      <td>0.212654</td>\n",
       "      <td>1.487692</td>\n",
       "      <td>-0.337362</td>\n",
       "      <td>0.224902</td>\n",
       "      <td>0.231866</td>\n",
       "      <td>0.257220</td>\n",
       "      <td>0.030180</td>\n",
       "      <td>banc sabadell</td>\n",
       "    </tr>\n",
       "    <tr>\n",
       "      <th>3</th>\n",
       "      <td>NaN</td>\n",
       "      <td>0.503491</td>\n",
       "      <td>-0.164822</td>\n",
       "      <td>0.033586</td>\n",
       "      <td>0.168958</td>\n",
       "      <td>0.057741</td>\n",
       "      <td>0.391846</td>\n",
       "      <td>-0.472107</td>\n",
       "      <td>-0.027522</td>\n",
       "      <td>ing</td>\n",
       "    </tr>\n",
       "    <tr>\n",
       "      <th>4</th>\n",
       "      <td>NaN</td>\n",
       "      <td>-0.144553</td>\n",
       "      <td>0.233489</td>\n",
       "      <td>-0.002974</td>\n",
       "      <td>-0.293252</td>\n",
       "      <td>0.062135</td>\n",
       "      <td>-0.532714</td>\n",
       "      <td>-0.019650</td>\n",
       "      <td>-0.003009</td>\n",
       "      <td>bbva</td>\n",
       "    </tr>\n",
       "    <tr>\n",
       "      <th>5</th>\n",
       "      <td>NaN</td>\n",
       "      <td>0.413460</td>\n",
       "      <td>1.073306</td>\n",
       "      <td>0.442520</td>\n",
       "      <td>-0.414061</td>\n",
       "      <td>1.351691</td>\n",
       "      <td>-0.425058</td>\n",
       "      <td>-0.502437</td>\n",
       "      <td>0.246849</td>\n",
       "      <td>revolut</td>\n",
       "    </tr>\n",
       "    <tr>\n",
       "      <th>6</th>\n",
       "      <td>NaN</td>\n",
       "      <td>-0.174240</td>\n",
       "      <td>0.116085</td>\n",
       "      <td>0.041682</td>\n",
       "      <td>-0.045788</td>\n",
       "      <td>-0.070645</td>\n",
       "      <td>-0.047004</td>\n",
       "      <td>-0.072015</td>\n",
       "      <td>0.087435</td>\n",
       "      <td>openbank</td>\n",
       "    </tr>\n",
       "    <tr>\n",
       "      <th>7</th>\n",
       "      <td>NaN</td>\n",
       "      <td>0.407146</td>\n",
       "      <td>0.681275</td>\n",
       "      <td>0.072803</td>\n",
       "      <td>0.023966</td>\n",
       "      <td>0.149477</td>\n",
       "      <td>0.024602</td>\n",
       "      <td>-0.113964</td>\n",
       "      <td>0.071410</td>\n",
       "      <td>myinvestor</td>\n",
       "    </tr>\n",
       "    <tr>\n",
       "      <th>8</th>\n",
       "      <td>NaN</td>\n",
       "      <td>0.525848</td>\n",
       "      <td>-0.607411</td>\n",
       "      <td>1.834646</td>\n",
       "      <td>0.331976</td>\n",
       "      <td>-0.343933</td>\n",
       "      <td>-0.146054</td>\n",
       "      <td>-0.054657</td>\n",
       "      <td>-0.008250</td>\n",
       "      <td>bankinter</td>\n",
       "    </tr>\n",
       "    <tr>\n",
       "      <th>9</th>\n",
       "      <td>NaN</td>\n",
       "      <td>0.203701</td>\n",
       "      <td>0.768419</td>\n",
       "      <td>-5.921268</td>\n",
       "      <td>-2.579818</td>\n",
       "      <td>0.185493</td>\n",
       "      <td>1.135001</td>\n",
       "      <td>0.067348</td>\n",
       "      <td>0.005958</td>\n",
       "      <td>evobanco</td>\n",
       "    </tr>\n",
       "    <tr>\n",
       "      <th>10</th>\n",
       "      <td>NaN</td>\n",
       "      <td>0.334703</td>\n",
       "      <td>-0.055631</td>\n",
       "      <td>0.276192</td>\n",
       "      <td>-0.037020</td>\n",
       "      <td>0.022003</td>\n",
       "      <td>0.207967</td>\n",
       "      <td>-0.008523</td>\n",
       "      <td>0.082049</td>\n",
       "      <td>santander</td>\n",
       "    </tr>\n",
       "  </tbody>\n",
       "</table>\n",
       "</div>"
      ],
      "text/plain": [
       "       const  log_web_traffic_lag  cross_visitation  search_interest  \\\n",
       "0  -5.651167             0.305758         -0.068958        -1.001011   \n",
       "1        NaN             0.039918          0.254753         1.184493   \n",
       "2        NaN             0.342462          0.212654         1.487692   \n",
       "3        NaN             0.503491         -0.164822         0.033586   \n",
       "4        NaN            -0.144553          0.233489        -0.002974   \n",
       "5        NaN             0.413460          1.073306         0.442520   \n",
       "6        NaN            -0.174240          0.116085         0.041682   \n",
       "7        NaN             0.407146          0.681275         0.072803   \n",
       "8        NaN             0.525848         -0.607411         1.834646   \n",
       "9        NaN             0.203701          0.768419        -5.921268   \n",
       "10       NaN             0.334703         -0.055631         0.276192   \n",
       "\n",
       "         apr  mentions  log_incentive   log_ppc   month_1      bank_name  \n",
       "0   0.262801  0.012985       4.744462  0.130225  0.163449         abanca  \n",
       "1   0.105996 -0.098819       0.509005  0.004647 -0.037117            n26  \n",
       "2  -0.337362  0.224902       0.231866  0.257220  0.030180  banc sabadell  \n",
       "3   0.168958  0.057741       0.391846 -0.472107 -0.027522            ing  \n",
       "4  -0.293252  0.062135      -0.532714 -0.019650 -0.003009           bbva  \n",
       "5  -0.414061  1.351691      -0.425058 -0.502437  0.246849        revolut  \n",
       "6  -0.045788 -0.070645      -0.047004 -0.072015  0.087435       openbank  \n",
       "7   0.023966  0.149477       0.024602 -0.113964  0.071410     myinvestor  \n",
       "8   0.331976 -0.343933      -0.146054 -0.054657 -0.008250      bankinter  \n",
       "9  -2.579818  0.185493       1.135001  0.067348  0.005958       evobanco  \n",
       "10 -0.037020  0.022003       0.207967 -0.008523  0.082049      santander  "
      ]
     },
     "execution_count": 42,
     "metadata": {},
     "output_type": "execute_result"
    }
   ],
   "source": [
    "\n",
    "all_banks = []\n",
    "\n",
    "for bank in data['bank'].unique():\n",
    "\n",
    "    data_bank = data[data['bank'] == bank]\n",
    "\n",
    "    y = data_bank['log_web_traffic']\n",
    "\n",
    "    ind_vars = ['log_web_traffic_lag', 'cross_visitation', 'search_interest', 'apr', 'mentions', 'log_incentive', 'log_ppc', 'month_1']\n",
    "\n",
    "    X = data_bank[ind_vars]\n",
    "\n",
    "    X = sm.add_constant(X)\n",
    "\n",
    "    # Create and fit the fixed effects model\n",
    "    model = sm.OLS(y, X).fit()\n",
    "    pooled_regression_summary = model.summary()\n",
    "    print(pooled_regression_summary)\n",
    "\n",
    "    # for each bank, get all of the coefficients and the variable names \n",
    "    coefficients = model.params\n",
    "    coefficient_names = coefficients.index\n",
    "    p_values = model.pvalues\n",
    "\n",
    "    # create a dictionary with the coefficients and the variable names\n",
    "    coefficient_dict = dict(zip(coefficient_names, coefficients))\n",
    "\n",
    "    coefficient_dict['bank_name'] = bank\n",
    "    \n",
    "\n",
    "    all_banks.append(coefficient_dict)\n",
    "\n",
    "# create a df from the dictionary\n",
    "    \n",
    "df = pd.DataFrame(all_banks)\n",
    "\n",
    "df"
   ]
  },
  {
   "cell_type": "code",
   "execution_count": 37,
   "metadata": {},
   "outputs": [
    {
     "data": {
      "text/plain": [
       "const                  float64\n",
       "log_web_traffic_lag    float64\n",
       "cross_visitation       float64\n",
       "search_interest        float64\n",
       "apr                    float64\n",
       "mentions               float64\n",
       "log_incentive          float64\n",
       "log_ppc                float64\n",
       "month_1                float64\n",
       "bank_name               object\n",
       "dtype: object"
      ]
     },
     "execution_count": 37,
     "metadata": {},
     "output_type": "execute_result"
    }
   ],
   "source": [
    "df.dtypes"
   ]
  },
  {
   "cell_type": "code",
   "execution_count": 38,
   "metadata": {},
   "outputs": [],
   "source": [
    "# drop const col \n",
    "df = df.drop(columns=['const'])\n",
    "\n",
    "# get all columns not bank_name\n",
    "cols = df.columns.tolist()\n",
    "cols.remove('bank_name')\n",
    "\n",
    "# normalize the coefficients to 0-1\n",
    "df[cols] = df[cols].apply(lambda x: (x - x.min()) / (x.max() - x.min()))"
   ]
  },
  {
   "cell_type": "code",
   "execution_count": 40,
   "metadata": {},
   "outputs": [
    {
     "data": {
      "application/vnd.plotly.v1+json": {
       "config": {
        "plotlyServerURL": "https://plot.ly"
       },
       "data": [
        {
         "name": "cross_visitation",
         "type": "bar",
         "x": [
          "abanca",
          "n26",
          "banc sabadell",
          "ing",
          "bbva",
          "revolut",
          "openbank",
          "myinvestor",
          "bankinter",
          "evobanco",
          "santander"
         ],
         "y": [
          0.32037140859311625,
          0.5129740456367013,
          0.4879255577358839,
          0.26333382715387427,
          0.5003222104744429,
          1,
          0.4304688496695301,
          0.766748076766976,
          0,
          0.8185969688856921,
          0.3283002731725873
         ]
        },
        {
         "name": "search_interest",
         "type": "bar",
         "x": [
          "abanca",
          "n26",
          "banc sabadell",
          "ing",
          "bbva",
          "revolut",
          "openbank",
          "myinvestor",
          "bankinter",
          "evobanco",
          "santander"
         ],
         "y": [
          0.6343878093610097,
          0.9161733280496259,
          0.9552659411703174,
          0.7677823470817932,
          0.7630685830256757,
          0.8205078566919355,
          0.7688262830274989,
          0.7728388097698646,
          1,
          0,
          0.7990625003202407
         ]
        },
        {
         "name": "apr",
         "type": "bar",
         "x": [
          "abanca",
          "n26",
          "banc sabadell",
          "ing",
          "bbva",
          "revolut",
          "openbank",
          "myinvestor",
          "bankinter",
          "evobanco",
          "santander"
         ],
         "y": [
          0.9762433406338875,
          0.922391498550854,
          0.7701288477007381,
          0.9440145429290954,
          0.785277529247198,
          0.7437879566220332,
          0.8702641045453654,
          0.8942198006353641,
          1,
          0,
          0.8732753211006765
         ]
        },
        {
         "name": "mentions",
         "type": "bar",
         "x": [
          "abanca",
          "n26",
          "banc sabadell",
          "ing",
          "bbva",
          "revolut",
          "openbank",
          "myinvestor",
          "bankinter",
          "evobanco",
          "santander"
         ],
         "y": [
          0.21049379456968498,
          0.1445571254682624,
          0.3354723646200167,
          0.23688854871402557,
          0.23948007348745673,
          1,
          0.16117256554853265,
          0.29099040558981104,
          0,
          0.3122308439963973,
          0.21581201057254673
         ]
        },
        {
         "name": "log_incentive",
         "type": "bar",
         "x": [
          "abanca",
          "n26",
          "banc sabadell",
          "ing",
          "bbva",
          "revolut",
          "openbank",
          "myinvestor",
          "bankinter",
          "evobanco",
          "santander"
         ],
         "y": [
          1,
          0.1974008462166008,
          0.1448843665739872,
          0.17519984321077445,
          0,
          0.020400396720710312,
          0.09203977030630729,
          0.10560889847689929,
          0.0732703081455447,
          0.3160242912772378,
          0.14035569184515942
         ]
        },
        {
         "name": "log_ppc",
         "type": "bar",
         "x": [
          "abanca",
          "n26",
          "banc sabadell",
          "ing",
          "bbva",
          "revolut",
          "openbank",
          "myinvestor",
          "bankinter",
          "evobanco",
          "santander"
         ],
         "y": [
          0.8328259983900742,
          0.6675165585188141,
          1,
          0.03992479714761085,
          0.6355325447480834,
          0,
          0.5666003554787123,
          0.5113789543216225,
          0.5894498228255665,
          0.7500555496570579,
          0.6501794867476013
         ]
        }
       ],
       "layout": {
        "barmode": "stack",
        "template": {
         "data": {
          "bar": [
           {
            "error_x": {
             "color": "#2a3f5f"
            },
            "error_y": {
             "color": "#2a3f5f"
            },
            "marker": {
             "line": {
              "color": "#E5ECF6",
              "width": 0.5
             },
             "pattern": {
              "fillmode": "overlay",
              "size": 10,
              "solidity": 0.2
             }
            },
            "type": "bar"
           }
          ],
          "barpolar": [
           {
            "marker": {
             "line": {
              "color": "#E5ECF6",
              "width": 0.5
             },
             "pattern": {
              "fillmode": "overlay",
              "size": 10,
              "solidity": 0.2
             }
            },
            "type": "barpolar"
           }
          ],
          "carpet": [
           {
            "aaxis": {
             "endlinecolor": "#2a3f5f",
             "gridcolor": "white",
             "linecolor": "white",
             "minorgridcolor": "white",
             "startlinecolor": "#2a3f5f"
            },
            "baxis": {
             "endlinecolor": "#2a3f5f",
             "gridcolor": "white",
             "linecolor": "white",
             "minorgridcolor": "white",
             "startlinecolor": "#2a3f5f"
            },
            "type": "carpet"
           }
          ],
          "choropleth": [
           {
            "colorbar": {
             "outlinewidth": 0,
             "ticks": ""
            },
            "type": "choropleth"
           }
          ],
          "contour": [
           {
            "colorbar": {
             "outlinewidth": 0,
             "ticks": ""
            },
            "colorscale": [
             [
              0,
              "#0d0887"
             ],
             [
              0.1111111111111111,
              "#46039f"
             ],
             [
              0.2222222222222222,
              "#7201a8"
             ],
             [
              0.3333333333333333,
              "#9c179e"
             ],
             [
              0.4444444444444444,
              "#bd3786"
             ],
             [
              0.5555555555555556,
              "#d8576b"
             ],
             [
              0.6666666666666666,
              "#ed7953"
             ],
             [
              0.7777777777777778,
              "#fb9f3a"
             ],
             [
              0.8888888888888888,
              "#fdca26"
             ],
             [
              1,
              "#f0f921"
             ]
            ],
            "type": "contour"
           }
          ],
          "contourcarpet": [
           {
            "colorbar": {
             "outlinewidth": 0,
             "ticks": ""
            },
            "type": "contourcarpet"
           }
          ],
          "heatmap": [
           {
            "colorbar": {
             "outlinewidth": 0,
             "ticks": ""
            },
            "colorscale": [
             [
              0,
              "#0d0887"
             ],
             [
              0.1111111111111111,
              "#46039f"
             ],
             [
              0.2222222222222222,
              "#7201a8"
             ],
             [
              0.3333333333333333,
              "#9c179e"
             ],
             [
              0.4444444444444444,
              "#bd3786"
             ],
             [
              0.5555555555555556,
              "#d8576b"
             ],
             [
              0.6666666666666666,
              "#ed7953"
             ],
             [
              0.7777777777777778,
              "#fb9f3a"
             ],
             [
              0.8888888888888888,
              "#fdca26"
             ],
             [
              1,
              "#f0f921"
             ]
            ],
            "type": "heatmap"
           }
          ],
          "heatmapgl": [
           {
            "colorbar": {
             "outlinewidth": 0,
             "ticks": ""
            },
            "colorscale": [
             [
              0,
              "#0d0887"
             ],
             [
              0.1111111111111111,
              "#46039f"
             ],
             [
              0.2222222222222222,
              "#7201a8"
             ],
             [
              0.3333333333333333,
              "#9c179e"
             ],
             [
              0.4444444444444444,
              "#bd3786"
             ],
             [
              0.5555555555555556,
              "#d8576b"
             ],
             [
              0.6666666666666666,
              "#ed7953"
             ],
             [
              0.7777777777777778,
              "#fb9f3a"
             ],
             [
              0.8888888888888888,
              "#fdca26"
             ],
             [
              1,
              "#f0f921"
             ]
            ],
            "type": "heatmapgl"
           }
          ],
          "histogram": [
           {
            "marker": {
             "pattern": {
              "fillmode": "overlay",
              "size": 10,
              "solidity": 0.2
             }
            },
            "type": "histogram"
           }
          ],
          "histogram2d": [
           {
            "colorbar": {
             "outlinewidth": 0,
             "ticks": ""
            },
            "colorscale": [
             [
              0,
              "#0d0887"
             ],
             [
              0.1111111111111111,
              "#46039f"
             ],
             [
              0.2222222222222222,
              "#7201a8"
             ],
             [
              0.3333333333333333,
              "#9c179e"
             ],
             [
              0.4444444444444444,
              "#bd3786"
             ],
             [
              0.5555555555555556,
              "#d8576b"
             ],
             [
              0.6666666666666666,
              "#ed7953"
             ],
             [
              0.7777777777777778,
              "#fb9f3a"
             ],
             [
              0.8888888888888888,
              "#fdca26"
             ],
             [
              1,
              "#f0f921"
             ]
            ],
            "type": "histogram2d"
           }
          ],
          "histogram2dcontour": [
           {
            "colorbar": {
             "outlinewidth": 0,
             "ticks": ""
            },
            "colorscale": [
             [
              0,
              "#0d0887"
             ],
             [
              0.1111111111111111,
              "#46039f"
             ],
             [
              0.2222222222222222,
              "#7201a8"
             ],
             [
              0.3333333333333333,
              "#9c179e"
             ],
             [
              0.4444444444444444,
              "#bd3786"
             ],
             [
              0.5555555555555556,
              "#d8576b"
             ],
             [
              0.6666666666666666,
              "#ed7953"
             ],
             [
              0.7777777777777778,
              "#fb9f3a"
             ],
             [
              0.8888888888888888,
              "#fdca26"
             ],
             [
              1,
              "#f0f921"
             ]
            ],
            "type": "histogram2dcontour"
           }
          ],
          "mesh3d": [
           {
            "colorbar": {
             "outlinewidth": 0,
             "ticks": ""
            },
            "type": "mesh3d"
           }
          ],
          "parcoords": [
           {
            "line": {
             "colorbar": {
              "outlinewidth": 0,
              "ticks": ""
             }
            },
            "type": "parcoords"
           }
          ],
          "pie": [
           {
            "automargin": true,
            "type": "pie"
           }
          ],
          "scatter": [
           {
            "fillpattern": {
             "fillmode": "overlay",
             "size": 10,
             "solidity": 0.2
            },
            "type": "scatter"
           }
          ],
          "scatter3d": [
           {
            "line": {
             "colorbar": {
              "outlinewidth": 0,
              "ticks": ""
             }
            },
            "marker": {
             "colorbar": {
              "outlinewidth": 0,
              "ticks": ""
             }
            },
            "type": "scatter3d"
           }
          ],
          "scattercarpet": [
           {
            "marker": {
             "colorbar": {
              "outlinewidth": 0,
              "ticks": ""
             }
            },
            "type": "scattercarpet"
           }
          ],
          "scattergeo": [
           {
            "marker": {
             "colorbar": {
              "outlinewidth": 0,
              "ticks": ""
             }
            },
            "type": "scattergeo"
           }
          ],
          "scattergl": [
           {
            "marker": {
             "colorbar": {
              "outlinewidth": 0,
              "ticks": ""
             }
            },
            "type": "scattergl"
           }
          ],
          "scattermapbox": [
           {
            "marker": {
             "colorbar": {
              "outlinewidth": 0,
              "ticks": ""
             }
            },
            "type": "scattermapbox"
           }
          ],
          "scatterpolar": [
           {
            "marker": {
             "colorbar": {
              "outlinewidth": 0,
              "ticks": ""
             }
            },
            "type": "scatterpolar"
           }
          ],
          "scatterpolargl": [
           {
            "marker": {
             "colorbar": {
              "outlinewidth": 0,
              "ticks": ""
             }
            },
            "type": "scatterpolargl"
           }
          ],
          "scatterternary": [
           {
            "marker": {
             "colorbar": {
              "outlinewidth": 0,
              "ticks": ""
             }
            },
            "type": "scatterternary"
           }
          ],
          "surface": [
           {
            "colorbar": {
             "outlinewidth": 0,
             "ticks": ""
            },
            "colorscale": [
             [
              0,
              "#0d0887"
             ],
             [
              0.1111111111111111,
              "#46039f"
             ],
             [
              0.2222222222222222,
              "#7201a8"
             ],
             [
              0.3333333333333333,
              "#9c179e"
             ],
             [
              0.4444444444444444,
              "#bd3786"
             ],
             [
              0.5555555555555556,
              "#d8576b"
             ],
             [
              0.6666666666666666,
              "#ed7953"
             ],
             [
              0.7777777777777778,
              "#fb9f3a"
             ],
             [
              0.8888888888888888,
              "#fdca26"
             ],
             [
              1,
              "#f0f921"
             ]
            ],
            "type": "surface"
           }
          ],
          "table": [
           {
            "cells": {
             "fill": {
              "color": "#EBF0F8"
             },
             "line": {
              "color": "white"
             }
            },
            "header": {
             "fill": {
              "color": "#C8D4E3"
             },
             "line": {
              "color": "white"
             }
            },
            "type": "table"
           }
          ]
         },
         "layout": {
          "annotationdefaults": {
           "arrowcolor": "#2a3f5f",
           "arrowhead": 0,
           "arrowwidth": 1
          },
          "autotypenumbers": "strict",
          "coloraxis": {
           "colorbar": {
            "outlinewidth": 0,
            "ticks": ""
           }
          },
          "colorscale": {
           "diverging": [
            [
             0,
             "#8e0152"
            ],
            [
             0.1,
             "#c51b7d"
            ],
            [
             0.2,
             "#de77ae"
            ],
            [
             0.3,
             "#f1b6da"
            ],
            [
             0.4,
             "#fde0ef"
            ],
            [
             0.5,
             "#f7f7f7"
            ],
            [
             0.6,
             "#e6f5d0"
            ],
            [
             0.7,
             "#b8e186"
            ],
            [
             0.8,
             "#7fbc41"
            ],
            [
             0.9,
             "#4d9221"
            ],
            [
             1,
             "#276419"
            ]
           ],
           "sequential": [
            [
             0,
             "#0d0887"
            ],
            [
             0.1111111111111111,
             "#46039f"
            ],
            [
             0.2222222222222222,
             "#7201a8"
            ],
            [
             0.3333333333333333,
             "#9c179e"
            ],
            [
             0.4444444444444444,
             "#bd3786"
            ],
            [
             0.5555555555555556,
             "#d8576b"
            ],
            [
             0.6666666666666666,
             "#ed7953"
            ],
            [
             0.7777777777777778,
             "#fb9f3a"
            ],
            [
             0.8888888888888888,
             "#fdca26"
            ],
            [
             1,
             "#f0f921"
            ]
           ],
           "sequentialminus": [
            [
             0,
             "#0d0887"
            ],
            [
             0.1111111111111111,
             "#46039f"
            ],
            [
             0.2222222222222222,
             "#7201a8"
            ],
            [
             0.3333333333333333,
             "#9c179e"
            ],
            [
             0.4444444444444444,
             "#bd3786"
            ],
            [
             0.5555555555555556,
             "#d8576b"
            ],
            [
             0.6666666666666666,
             "#ed7953"
            ],
            [
             0.7777777777777778,
             "#fb9f3a"
            ],
            [
             0.8888888888888888,
             "#fdca26"
            ],
            [
             1,
             "#f0f921"
            ]
           ]
          },
          "colorway": [
           "#636efa",
           "#EF553B",
           "#00cc96",
           "#ab63fa",
           "#FFA15A",
           "#19d3f3",
           "#FF6692",
           "#B6E880",
           "#FF97FF",
           "#FECB52"
          ],
          "font": {
           "color": "#2a3f5f"
          },
          "geo": {
           "bgcolor": "white",
           "lakecolor": "white",
           "landcolor": "#E5ECF6",
           "showlakes": true,
           "showland": true,
           "subunitcolor": "white"
          },
          "hoverlabel": {
           "align": "left"
          },
          "hovermode": "closest",
          "mapbox": {
           "style": "light"
          },
          "paper_bgcolor": "white",
          "plot_bgcolor": "#E5ECF6",
          "polar": {
           "angularaxis": {
            "gridcolor": "white",
            "linecolor": "white",
            "ticks": ""
           },
           "bgcolor": "#E5ECF6",
           "radialaxis": {
            "gridcolor": "white",
            "linecolor": "white",
            "ticks": ""
           }
          },
          "scene": {
           "xaxis": {
            "backgroundcolor": "#E5ECF6",
            "gridcolor": "white",
            "gridwidth": 2,
            "linecolor": "white",
            "showbackground": true,
            "ticks": "",
            "zerolinecolor": "white"
           },
           "yaxis": {
            "backgroundcolor": "#E5ECF6",
            "gridcolor": "white",
            "gridwidth": 2,
            "linecolor": "white",
            "showbackground": true,
            "ticks": "",
            "zerolinecolor": "white"
           },
           "zaxis": {
            "backgroundcolor": "#E5ECF6",
            "gridcolor": "white",
            "gridwidth": 2,
            "linecolor": "white",
            "showbackground": true,
            "ticks": "",
            "zerolinecolor": "white"
           }
          },
          "shapedefaults": {
           "line": {
            "color": "#2a3f5f"
           }
          },
          "ternary": {
           "aaxis": {
            "gridcolor": "white",
            "linecolor": "white",
            "ticks": ""
           },
           "baxis": {
            "gridcolor": "white",
            "linecolor": "white",
            "ticks": ""
           },
           "bgcolor": "#E5ECF6",
           "caxis": {
            "gridcolor": "white",
            "linecolor": "white",
            "ticks": ""
           }
          },
          "title": {
           "x": 0.05
          },
          "xaxis": {
           "automargin": true,
           "gridcolor": "white",
           "linecolor": "white",
           "ticks": "",
           "title": {
            "standoff": 15
           },
           "zerolinecolor": "white",
           "zerolinewidth": 2
          },
          "yaxis": {
           "automargin": true,
           "gridcolor": "white",
           "linecolor": "white",
           "ticks": "",
           "title": {
            "standoff": 15
           },
           "zerolinecolor": "white",
           "zerolinewidth": 2
          }
         }
        },
        "title": {
         "text": "Coefficients Weights for each Bank"
        }
       }
      }
     },
     "metadata": {},
     "output_type": "display_data"
    }
   ],
   "source": [
    "\n",
    "\n",
    "# plot each bank as a bar with coefficients stacked on top of each other\n",
    "fig = go.Figure()\n",
    "for col in df.columns:\n",
    "    if col not in ['bank_name','month_1', 'log_web_traffic_lag']:\n",
    "        fig.add_trace(go.Bar(x=df['bank_name'], y=df[col], name=col))\n",
    "# add a title\n",
    "fig.update_layout(title='Coefficients Weights for each Bank')\n",
    "fig.update_layout(barmode='stack')\n",
    "fig.show()"
   ]
  },
  {
   "cell_type": "code",
   "execution_count": null,
   "metadata": {},
   "outputs": [],
   "source": []
  },
  {
   "cell_type": "code",
   "execution_count": null,
   "metadata": {},
   "outputs": [],
   "source": []
  }
 ],
 "metadata": {
  "kernelspec": {
   "display_name": "Python 3",
   "language": "python",
   "name": "python3"
  },
  "language_info": {
   "codemirror_mode": {
    "name": "ipython",
    "version": 3
   },
   "file_extension": ".py",
   "mimetype": "text/x-python",
   "name": "python",
   "nbconvert_exporter": "python",
   "pygments_lexer": "ipython3",
   "version": "3.9.6"
  },
  "orig_nbformat": 4
 },
 "nbformat": 4,
 "nbformat_minor": 2
}
