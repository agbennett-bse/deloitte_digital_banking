{
 "cells": [
  {
   "cell_type": "code",
   "execution_count": 717,
   "metadata": {},
   "outputs": [],
   "source": [
    "import pandas as pd \n",
    "import numpy as np\n",
    "import matplotlib.pyplot as plt\n",
    "import plotly.express as px\n",
    "import plotly.graph_objects as go\n",
    "import statsmodels.api as sm\n",
    "import pandas as pd\n",
    "import plotly.express as px\n",
    "from scipy.signal import savgol_filter\n",
    "from statsmodels.stats.outliers_influence import variance_inflation_factor\n",
    "from linearmodels.panel import PanelOLS\n",
    "\n",
    "from statsmodels.stats.outliers_influence import variance_inflation_factor\n",
    "from statsmodels.stats.diagnostic import het_breuschpagan\n",
    "from statsmodels.stats.stattools import durbin_watson\n",
    "from statsmodels.stats.diagnostic import linear_reset\n",
    "from sklearn.linear_model import TheilSenRegressor\n",
    "from statsmodels.stats.diagnostic import acorr_breusch_godfrey\n",
    "from sklearn.covariance import MinCovDet\n",
    "from statsmodels.tsa.ar_model import AutoReg\n",
    "from statsmodels.stats.diagnostic import acorr_ljungbox, het_breuschpagan\n",
    "from statsmodels.stats.stattools import jarque_bera\n",
    "import statsmodels.formula.api as smf\n",
    "from statsmodels.graphics.gofplots import qqplot\n",
    "from statsmodels.stats.outliers_influence import reset_ramsey\n",
    "\n",
    "\n",
    "from scipy.stats import boxcox\n",
    "from scipy.special import inv_boxcox\n",
    "import scipy.stats as stats\n",
    "import statsmodels.api as sm\n",
    "import matplotlib.pyplot as plt\n"
   ]
  },
  {
   "cell_type": "code",
   "execution_count": 718,
   "metadata": {},
   "outputs": [],
   "source": [
    "bank_names_mapping = mapping_dict = {\n",
    "    'banco': 'banc sabadell',\n",
    "    'my': 'myinvestor',\n",
    "    'evo': 'evobanco',\n",
    "    'caixa': 'caixabank',\n",
    "    'abanca': 'abanca',\n",
    "    'banc sabadell': 'banc sabadell',\n",
    "    'bancosabadell': 'banc sabadell',\n",
    "    'bancosantander': 'santander',\n",
    "    'bancsabadell': 'banc sabadell',\n",
    "    'sabadell': 'banc sabadell',\n",
    "    'bank': 'bank',\n",
    "    'bankinter': 'bankinter',\n",
    "    'bbva': 'bbva',\n",
    "    'caixabank': 'caixabank',\n",
    "    'caixa_bank': 'caixabank',\n",
    "    'date': 'date',\n",
    "    'evobanco': 'evobanco',\n",
    "    'evo_banco': 'evobanco',\n",
    "    'imagin': 'imagin',\n",
    "    'ing': 'ing',\n",
    "    'ing-bank': 'ing',\n",
    "    'ing_bank': 'ing',\n",
    "    'kutxabank': 'kutxabank',\n",
    "    'liberbank': 'liberbank',\n",
    "    'myinvestor': 'myinvestor',\n",
    "    'n26': 'n26',\n",
    "    'n26.com': 'n26',\n",
    "    None: None,  # handling nan (not a number)\n",
    "    'openbank': 'openbank',\n",
    "    'orangebank': 'orangebank',\n",
    "    'pibank': 'pibank',\n",
    "    'renaultbank': 'renaultbank',\n",
    "    'revolut': 'revolut',\n",
    "    'santander': 'santander',\n",
    "    'value': 'value'\n",
    "}"
   ]
  },
  {
   "cell_type": "code",
   "execution_count": 719,
   "metadata": {},
   "outputs": [
    {
     "data": {
      "text/html": [
       "<div>\n",
       "<style scoped>\n",
       "    .dataframe tbody tr th:only-of-type {\n",
       "        vertical-align: middle;\n",
       "    }\n",
       "\n",
       "    .dataframe tbody tr th {\n",
       "        vertical-align: top;\n",
       "    }\n",
       "\n",
       "    .dataframe thead th {\n",
       "        text-align: right;\n",
       "    }\n",
       "</style>\n",
       "<table border=\"1\" class=\"dataframe\">\n",
       "  <thead>\n",
       "    <tr style=\"text-align: right;\">\n",
       "      <th></th>\n",
       "      <th>bank</th>\n",
       "      <th>number_of_employee</th>\n",
       "      <th>assets_under_management</th>\n",
       "      <th>number_of_branches</th>\n",
       "      <th>age</th>\n",
       "      <th>has_stores</th>\n",
       "      <th>founded_before_2000</th>\n",
       "      <th>web_traffic</th>\n",
       "      <th>big_employees</th>\n",
       "      <th>big_assets</th>\n",
       "    </tr>\n",
       "  </thead>\n",
       "  <tbody>\n",
       "    <tr>\n",
       "      <th>0</th>\n",
       "      <td>abanca</td>\n",
       "      <td>5946</td>\n",
       "      <td>72148000000</td>\n",
       "      <td>690</td>\n",
       "      <td>13</td>\n",
       "      <td>1</td>\n",
       "      <td>0</td>\n",
       "      <td>1.357941e+06</td>\n",
       "      <td>0</td>\n",
       "      <td>0</td>\n",
       "    </tr>\n",
       "    <tr>\n",
       "      <th>1</th>\n",
       "      <td>santander</td>\n",
       "      <td>212764</td>\n",
       "      <td>226000000000</td>\n",
       "      <td>8518</td>\n",
       "      <td>167</td>\n",
       "      <td>1</td>\n",
       "      <td>1</td>\n",
       "      <td>NaN</td>\n",
       "      <td>1</td>\n",
       "      <td>1</td>\n",
       "    </tr>\n",
       "    <tr>\n",
       "      <th>2</th>\n",
       "      <td>banc sabadell</td>\n",
       "      <td>19316</td>\n",
       "      <td>201449000000</td>\n",
       "      <td>1594</td>\n",
       "      <td>143</td>\n",
       "      <td>1</td>\n",
       "      <td>1</td>\n",
       "      <td>NaN</td>\n",
       "      <td>1</td>\n",
       "      <td>1</td>\n",
       "    </tr>\n",
       "    <tr>\n",
       "      <th>3</th>\n",
       "      <td>bankinter</td>\n",
       "      <td>6138</td>\n",
       "      <td>83300000000</td>\n",
       "      <td>523</td>\n",
       "      <td>59</td>\n",
       "      <td>1</td>\n",
       "      <td>1</td>\n",
       "      <td>2.755435e+05</td>\n",
       "      <td>1</td>\n",
       "      <td>1</td>\n",
       "    </tr>\n",
       "    <tr>\n",
       "      <th>4</th>\n",
       "      <td>bbva</td>\n",
       "      <td>121486</td>\n",
       "      <td>110000000000</td>\n",
       "      <td>1800</td>\n",
       "      <td>167</td>\n",
       "      <td>1</td>\n",
       "      <td>1</td>\n",
       "      <td>9.920828e+05</td>\n",
       "      <td>1</td>\n",
       "      <td>1</td>\n",
       "    </tr>\n",
       "    <tr>\n",
       "      <th>5</th>\n",
       "      <td>caixabank</td>\n",
       "      <td>44863</td>\n",
       "      <td>81890000000</td>\n",
       "      <td>3922</td>\n",
       "      <td>120</td>\n",
       "      <td>1</td>\n",
       "      <td>1</td>\n",
       "      <td>NaN</td>\n",
       "      <td>1</td>\n",
       "      <td>1</td>\n",
       "    </tr>\n",
       "    <tr>\n",
       "      <th>6</th>\n",
       "      <td>evobanco</td>\n",
       "      <td>200</td>\n",
       "      <td>7350000000</td>\n",
       "      <td>80</td>\n",
       "      <td>12</td>\n",
       "      <td>0</td>\n",
       "      <td>0</td>\n",
       "      <td>1.696284e+05</td>\n",
       "      <td>0</td>\n",
       "      <td>0</td>\n",
       "    </tr>\n",
       "    <tr>\n",
       "      <th>7</th>\n",
       "      <td>imagin</td>\n",
       "      <td>118</td>\n",
       "      <td>81890000000</td>\n",
       "      <td>0</td>\n",
       "      <td>8</td>\n",
       "      <td>0</td>\n",
       "      <td>0</td>\n",
       "      <td>NaN</td>\n",
       "      <td>0</td>\n",
       "      <td>1</td>\n",
       "    </tr>\n",
       "    <tr>\n",
       "      <th>8</th>\n",
       "      <td>ing</td>\n",
       "      <td>60778</td>\n",
       "      <td>268000000000</td>\n",
       "      <td>1660</td>\n",
       "      <td>33</td>\n",
       "      <td>1</td>\n",
       "      <td>1</td>\n",
       "      <td>7.016930e+05</td>\n",
       "      <td>1</td>\n",
       "      <td>1</td>\n",
       "    </tr>\n",
       "    <tr>\n",
       "      <th>9</th>\n",
       "      <td>kutxabank</td>\n",
       "      <td>5343</td>\n",
       "      <td>25000000000</td>\n",
       "      <td>737</td>\n",
       "      <td>12</td>\n",
       "      <td>1</td>\n",
       "      <td>0</td>\n",
       "      <td>NaN</td>\n",
       "      <td>0</td>\n",
       "      <td>0</td>\n",
       "    </tr>\n",
       "    <tr>\n",
       "      <th>10</th>\n",
       "      <td>myinvestor</td>\n",
       "      <td>60</td>\n",
       "      <td>4000000000</td>\n",
       "      <td>0</td>\n",
       "      <td>7</td>\n",
       "      <td>0</td>\n",
       "      <td>0</td>\n",
       "      <td>2.294361e+05</td>\n",
       "      <td>0</td>\n",
       "      <td>0</td>\n",
       "    </tr>\n",
       "    <tr>\n",
       "      <th>11</th>\n",
       "      <td>n26</td>\n",
       "      <td>1500</td>\n",
       "      <td>8000000000</td>\n",
       "      <td>0</td>\n",
       "      <td>11</td>\n",
       "      <td>0</td>\n",
       "      <td>0</td>\n",
       "      <td>2.031008e+05</td>\n",
       "      <td>0</td>\n",
       "      <td>0</td>\n",
       "    </tr>\n",
       "    <tr>\n",
       "      <th>12</th>\n",
       "      <td>openbank</td>\n",
       "      <td>1100</td>\n",
       "      <td>1815792000</td>\n",
       "      <td>0</td>\n",
       "      <td>28</td>\n",
       "      <td>0</td>\n",
       "      <td>1</td>\n",
       "      <td>4.243919e+05</td>\n",
       "      <td>0</td>\n",
       "      <td>0</td>\n",
       "    </tr>\n",
       "    <tr>\n",
       "      <th>13</th>\n",
       "      <td>pibank</td>\n",
       "      <td>65</td>\n",
       "      <td>15500000000</td>\n",
       "      <td>0</td>\n",
       "      <td>6</td>\n",
       "      <td>0</td>\n",
       "      <td>0</td>\n",
       "      <td>NaN</td>\n",
       "      <td>0</td>\n",
       "      <td>0</td>\n",
       "    </tr>\n",
       "    <tr>\n",
       "      <th>14</th>\n",
       "      <td>revolut</td>\n",
       "      <td>7500</td>\n",
       "      <td>14000000000</td>\n",
       "      <td>0</td>\n",
       "      <td>9</td>\n",
       "      <td>0</td>\n",
       "      <td>0</td>\n",
       "      <td>1.469593e+05</td>\n",
       "      <td>1</td>\n",
       "      <td>0</td>\n",
       "    </tr>\n",
       "  </tbody>\n",
       "</table>\n",
       "</div>"
      ],
      "text/plain": [
       "             bank  number_of_employee  assets_under_management  \\\n",
       "0          abanca                5946              72148000000   \n",
       "1       santander              212764             226000000000   \n",
       "2   banc sabadell               19316             201449000000   \n",
       "3       bankinter                6138              83300000000   \n",
       "4            bbva              121486             110000000000   \n",
       "5       caixabank               44863              81890000000   \n",
       "6        evobanco                 200               7350000000   \n",
       "7          imagin                 118              81890000000   \n",
       "8             ing               60778             268000000000   \n",
       "9       kutxabank                5343              25000000000   \n",
       "10     myinvestor                  60               4000000000   \n",
       "11            n26                1500               8000000000   \n",
       "12       openbank                1100               1815792000   \n",
       "13         pibank                  65              15500000000   \n",
       "14        revolut                7500              14000000000   \n",
       "\n",
       "    number_of_branches  age  has_stores  founded_before_2000   web_traffic  \\\n",
       "0                  690   13           1                    0  1.357941e+06   \n",
       "1                 8518  167           1                    1           NaN   \n",
       "2                 1594  143           1                    1           NaN   \n",
       "3                  523   59           1                    1  2.755435e+05   \n",
       "4                 1800  167           1                    1  9.920828e+05   \n",
       "5                 3922  120           1                    1           NaN   \n",
       "6                   80   12           0                    0  1.696284e+05   \n",
       "7                    0    8           0                    0           NaN   \n",
       "8                 1660   33           1                    1  7.016930e+05   \n",
       "9                  737   12           1                    0           NaN   \n",
       "10                   0    7           0                    0  2.294361e+05   \n",
       "11                   0   11           0                    0  2.031008e+05   \n",
       "12                   0   28           0                    1  4.243919e+05   \n",
       "13                   0    6           0                    0           NaN   \n",
       "14                   0    9           0                    0  1.469593e+05   \n",
       "\n",
       "    big_employees  big_assets  \n",
       "0               0           0  \n",
       "1               1           1  \n",
       "2               1           1  \n",
       "3               1           1  \n",
       "4               1           1  \n",
       "5               1           1  \n",
       "6               0           0  \n",
       "7               0           1  \n",
       "8               1           1  \n",
       "9               0           0  \n",
       "10              0           0  \n",
       "11              0           0  \n",
       "12              0           0  \n",
       "13              0           0  \n",
       "14              1           0  "
      ]
     },
     "execution_count": 719,
     "metadata": {},
     "output_type": "execute_result"
    }
   ],
   "source": [
    "# categorical data \n",
    "\n",
    "cat_data = pd.read_csv('data/bank_comps.csv')\n",
    "\n",
    "# create 2 groups based on the number of employees, assets\n",
    "\n",
    "# Calculate median values\n",
    "median_employee = cat_data['number_of_employee'].median()\n",
    "median_assets = cat_data['assets_under_management'].median()\n",
    "\n",
    "# Create new columns based on median comparison\n",
    "cat_data['big_employees'] = np.where(cat_data['number_of_employee'] > median_employee, 1, 0)\n",
    "cat_data['big_assets'] = np.where(cat_data['assets_under_management'] > median_assets, 1, 0)\n",
    "\n",
    "\n",
    "# map bank names\n",
    "cat_data['bank'] = cat_data['bank'].map(bank_names_mapping)\n",
    "\n",
    "cat_data"
   ]
  },
  {
   "cell_type": "code",
   "execution_count": 720,
   "metadata": {},
   "outputs": [
    {
     "data": {
      "text/html": [
       "<div>\n",
       "<style scoped>\n",
       "    .dataframe tbody tr th:only-of-type {\n",
       "        vertical-align: middle;\n",
       "    }\n",
       "\n",
       "    .dataframe tbody tr th {\n",
       "        vertical-align: top;\n",
       "    }\n",
       "\n",
       "    .dataframe thead th {\n",
       "        text-align: right;\n",
       "    }\n",
       "</style>\n",
       "<table border=\"1\" class=\"dataframe\">\n",
       "  <thead>\n",
       "    <tr style=\"text-align: right;\">\n",
       "      <th></th>\n",
       "      <th>bank</th>\n",
       "      <th>date</th>\n",
       "      <th>web_traffic</th>\n",
       "      <th>cross_visitation</th>\n",
       "      <th>search_interest</th>\n",
       "      <th>rank</th>\n",
       "      <th>incentive</th>\n",
       "      <th>apr</th>\n",
       "      <th>mentions</th>\n",
       "      <th>app_installs</th>\n",
       "      <th>ppc_spend</th>\n",
       "    </tr>\n",
       "  </thead>\n",
       "  <tbody>\n",
       "    <tr>\n",
       "      <th>0</th>\n",
       "      <td>abanca</td>\n",
       "      <td>2021-12-01</td>\n",
       "      <td>15202.983835</td>\n",
       "      <td>0.077994</td>\n",
       "      <td>7.75</td>\n",
       "      <td>4.0</td>\n",
       "      <td>150.0</td>\n",
       "      <td>0.0</td>\n",
       "      <td>1.0</td>\n",
       "      <td>43605.699637</td>\n",
       "      <td>1506.110026</td>\n",
       "    </tr>\n",
       "    <tr>\n",
       "      <th>1</th>\n",
       "      <td>abanca</td>\n",
       "      <td>2022-01-01</td>\n",
       "      <td>42183.913207</td>\n",
       "      <td>0.062500</td>\n",
       "      <td>7.80</td>\n",
       "      <td>4.0</td>\n",
       "      <td>150.0</td>\n",
       "      <td>0.0</td>\n",
       "      <td>1.0</td>\n",
       "      <td>43605.699637</td>\n",
       "      <td>1506.110026</td>\n",
       "    </tr>\n",
       "    <tr>\n",
       "      <th>2</th>\n",
       "      <td>abanca</td>\n",
       "      <td>2022-02-01</td>\n",
       "      <td>34498.153115</td>\n",
       "      <td>0.052288</td>\n",
       "      <td>7.25</td>\n",
       "      <td>4.0</td>\n",
       "      <td>150.0</td>\n",
       "      <td>0.0</td>\n",
       "      <td>2.0</td>\n",
       "      <td>48647.434439</td>\n",
       "      <td>32750.639361</td>\n",
       "    </tr>\n",
       "    <tr>\n",
       "      <th>3</th>\n",
       "      <td>abanca</td>\n",
       "      <td>2022-03-01</td>\n",
       "      <td>34546.319021</td>\n",
       "      <td>0.061503</td>\n",
       "      <td>6.75</td>\n",
       "      <td>4.0</td>\n",
       "      <td>150.0</td>\n",
       "      <td>0.0</td>\n",
       "      <td>2.0</td>\n",
       "      <td>26687.227413</td>\n",
       "      <td>15754.216964</td>\n",
       "    </tr>\n",
       "    <tr>\n",
       "      <th>4</th>\n",
       "      <td>abanca</td>\n",
       "      <td>2022-04-01</td>\n",
       "      <td>40508.288420</td>\n",
       "      <td>0.050222</td>\n",
       "      <td>6.75</td>\n",
       "      <td>4.0</td>\n",
       "      <td>300.0</td>\n",
       "      <td>0.0</td>\n",
       "      <td>2.0</td>\n",
       "      <td>4254.184995</td>\n",
       "      <td>6542.970638</td>\n",
       "    </tr>\n",
       "  </tbody>\n",
       "</table>\n",
       "</div>"
      ],
      "text/plain": [
       "     bank        date   web_traffic  cross_visitation  search_interest  rank  \\\n",
       "0  abanca  2021-12-01  15202.983835          0.077994             7.75   4.0   \n",
       "1  abanca  2022-01-01  42183.913207          0.062500             7.80   4.0   \n",
       "2  abanca  2022-02-01  34498.153115          0.052288             7.25   4.0   \n",
       "3  abanca  2022-03-01  34546.319021          0.061503             6.75   4.0   \n",
       "4  abanca  2022-04-01  40508.288420          0.050222             6.75   4.0   \n",
       "\n",
       "   incentive  apr  mentions  app_installs     ppc_spend  \n",
       "0      150.0  0.0       1.0  43605.699637   1506.110026  \n",
       "1      150.0  0.0       1.0  43605.699637   1506.110026  \n",
       "2      150.0  0.0       2.0  48647.434439  32750.639361  \n",
       "3      150.0  0.0       2.0  26687.227413  15754.216964  \n",
       "4      300.0  0.0       2.0   4254.184995   6542.970638  "
      ]
     },
     "execution_count": 720,
     "metadata": {},
     "output_type": "execute_result"
    }
   ],
   "source": [
    "data = pd.read_csv('data/regression_clean_data_final_1.csv')\n",
    "data.head()"
   ]
  },
  {
   "cell_type": "code",
   "execution_count": 721,
   "metadata": {},
   "outputs": [
    {
     "data": {
      "text/html": [
       "<div>\n",
       "<style scoped>\n",
       "    .dataframe tbody tr th:only-of-type {\n",
       "        vertical-align: middle;\n",
       "    }\n",
       "\n",
       "    .dataframe tbody tr th {\n",
       "        vertical-align: top;\n",
       "    }\n",
       "\n",
       "    .dataframe thead th {\n",
       "        text-align: right;\n",
       "    }\n",
       "</style>\n",
       "<table border=\"1\" class=\"dataframe\">\n",
       "  <thead>\n",
       "    <tr style=\"text-align: right;\">\n",
       "      <th></th>\n",
       "      <th>bank</th>\n",
       "      <th>date</th>\n",
       "      <th>web_traffic</th>\n",
       "      <th>cross_visitation</th>\n",
       "      <th>search_interest</th>\n",
       "      <th>rank</th>\n",
       "      <th>incentive</th>\n",
       "      <th>apr</th>\n",
       "      <th>mentions</th>\n",
       "      <th>app_installs</th>\n",
       "      <th>ppc_spend</th>\n",
       "      <th>has_stores</th>\n",
       "      <th>founded_before_2000</th>\n",
       "      <th>big_employees</th>\n",
       "      <th>big_assets</th>\n",
       "    </tr>\n",
       "  </thead>\n",
       "  <tbody>\n",
       "    <tr>\n",
       "      <th>0</th>\n",
       "      <td>abanca</td>\n",
       "      <td>2021-12-01</td>\n",
       "      <td>15202.983835</td>\n",
       "      <td>0.077994</td>\n",
       "      <td>7.75</td>\n",
       "      <td>4.000000</td>\n",
       "      <td>150.0</td>\n",
       "      <td>0.0</td>\n",
       "      <td>1.0</td>\n",
       "      <td>43605.699637</td>\n",
       "      <td>1506.110026</td>\n",
       "      <td>1</td>\n",
       "      <td>0</td>\n",
       "      <td>0</td>\n",
       "      <td>0</td>\n",
       "    </tr>\n",
       "    <tr>\n",
       "      <th>1</th>\n",
       "      <td>abanca</td>\n",
       "      <td>2022-01-01</td>\n",
       "      <td>42183.913207</td>\n",
       "      <td>0.062500</td>\n",
       "      <td>7.80</td>\n",
       "      <td>4.000000</td>\n",
       "      <td>150.0</td>\n",
       "      <td>0.0</td>\n",
       "      <td>1.0</td>\n",
       "      <td>43605.699637</td>\n",
       "      <td>1506.110026</td>\n",
       "      <td>1</td>\n",
       "      <td>0</td>\n",
       "      <td>0</td>\n",
       "      <td>0</td>\n",
       "    </tr>\n",
       "    <tr>\n",
       "      <th>2</th>\n",
       "      <td>abanca</td>\n",
       "      <td>2022-02-01</td>\n",
       "      <td>34498.153115</td>\n",
       "      <td>0.052288</td>\n",
       "      <td>7.25</td>\n",
       "      <td>4.000000</td>\n",
       "      <td>150.0</td>\n",
       "      <td>0.0</td>\n",
       "      <td>2.0</td>\n",
       "      <td>48647.434439</td>\n",
       "      <td>32750.639361</td>\n",
       "      <td>1</td>\n",
       "      <td>0</td>\n",
       "      <td>0</td>\n",
       "      <td>0</td>\n",
       "    </tr>\n",
       "    <tr>\n",
       "      <th>3</th>\n",
       "      <td>abanca</td>\n",
       "      <td>2022-03-01</td>\n",
       "      <td>34546.319021</td>\n",
       "      <td>0.061503</td>\n",
       "      <td>6.75</td>\n",
       "      <td>4.000000</td>\n",
       "      <td>150.0</td>\n",
       "      <td>0.0</td>\n",
       "      <td>2.0</td>\n",
       "      <td>26687.227413</td>\n",
       "      <td>15754.216964</td>\n",
       "      <td>1</td>\n",
       "      <td>0</td>\n",
       "      <td>0</td>\n",
       "      <td>0</td>\n",
       "    </tr>\n",
       "    <tr>\n",
       "      <th>4</th>\n",
       "      <td>abanca</td>\n",
       "      <td>2022-04-01</td>\n",
       "      <td>40508.288420</td>\n",
       "      <td>0.050222</td>\n",
       "      <td>6.75</td>\n",
       "      <td>4.000000</td>\n",
       "      <td>300.0</td>\n",
       "      <td>0.0</td>\n",
       "      <td>2.0</td>\n",
       "      <td>4254.184995</td>\n",
       "      <td>6542.970638</td>\n",
       "      <td>1</td>\n",
       "      <td>0</td>\n",
       "      <td>0</td>\n",
       "      <td>0</td>\n",
       "    </tr>\n",
       "    <tr>\n",
       "      <th>...</th>\n",
       "      <td>...</td>\n",
       "      <td>...</td>\n",
       "      <td>...</td>\n",
       "      <td>...</td>\n",
       "      <td>...</td>\n",
       "      <td>...</td>\n",
       "      <td>...</td>\n",
       "      <td>...</td>\n",
       "      <td>...</td>\n",
       "      <td>...</td>\n",
       "      <td>...</td>\n",
       "      <td>...</td>\n",
       "      <td>...</td>\n",
       "      <td>...</td>\n",
       "      <td>...</td>\n",
       "    </tr>\n",
       "    <tr>\n",
       "      <th>270</th>\n",
       "      <td>santander</td>\n",
       "      <td>2023-08-01</td>\n",
       "      <td>34290.160425</td>\n",
       "      <td>0.118914</td>\n",
       "      <td>50.50</td>\n",
       "      <td>3.500000</td>\n",
       "      <td>150.0</td>\n",
       "      <td>0.0</td>\n",
       "      <td>1.0</td>\n",
       "      <td>94258.470775</td>\n",
       "      <td>23196.742521</td>\n",
       "      <td>1</td>\n",
       "      <td>1</td>\n",
       "      <td>1</td>\n",
       "      <td>1</td>\n",
       "    </tr>\n",
       "    <tr>\n",
       "      <th>271</th>\n",
       "      <td>santander</td>\n",
       "      <td>2023-09-01</td>\n",
       "      <td>40388.737821</td>\n",
       "      <td>0.125496</td>\n",
       "      <td>56.25</td>\n",
       "      <td>3.500000</td>\n",
       "      <td>400.0</td>\n",
       "      <td>0.0</td>\n",
       "      <td>3.0</td>\n",
       "      <td>115545.874406</td>\n",
       "      <td>18453.991325</td>\n",
       "      <td>1</td>\n",
       "      <td>1</td>\n",
       "      <td>1</td>\n",
       "      <td>1</td>\n",
       "    </tr>\n",
       "    <tr>\n",
       "      <th>272</th>\n",
       "      <td>santander</td>\n",
       "      <td>2023-10-01</td>\n",
       "      <td>36636.706633</td>\n",
       "      <td>0.126347</td>\n",
       "      <td>58.60</td>\n",
       "      <td>3.500000</td>\n",
       "      <td>400.0</td>\n",
       "      <td>0.0</td>\n",
       "      <td>4.0</td>\n",
       "      <td>105536.783263</td>\n",
       "      <td>18587.526350</td>\n",
       "      <td>1</td>\n",
       "      <td>1</td>\n",
       "      <td>1</td>\n",
       "      <td>1</td>\n",
       "    </tr>\n",
       "    <tr>\n",
       "      <th>273</th>\n",
       "      <td>santander</td>\n",
       "      <td>2023-11-01</td>\n",
       "      <td>35387.630139</td>\n",
       "      <td>0.121212</td>\n",
       "      <td>59.75</td>\n",
       "      <td>1.500000</td>\n",
       "      <td>400.0</td>\n",
       "      <td>0.0</td>\n",
       "      <td>3.0</td>\n",
       "      <td>87875.847509</td>\n",
       "      <td>30037.515265</td>\n",
       "      <td>1</td>\n",
       "      <td>1</td>\n",
       "      <td>1</td>\n",
       "      <td>1</td>\n",
       "    </tr>\n",
       "    <tr>\n",
       "      <th>274</th>\n",
       "      <td>santander</td>\n",
       "      <td>2023-12-01</td>\n",
       "      <td>29101.697517</td>\n",
       "      <td>0.159196</td>\n",
       "      <td>62.80</td>\n",
       "      <td>1.806452</td>\n",
       "      <td>400.0</td>\n",
       "      <td>0.0</td>\n",
       "      <td>2.0</td>\n",
       "      <td>77851.148389</td>\n",
       "      <td>18659.921880</td>\n",
       "      <td>1</td>\n",
       "      <td>1</td>\n",
       "      <td>1</td>\n",
       "      <td>1</td>\n",
       "    </tr>\n",
       "  </tbody>\n",
       "</table>\n",
       "<p>275 rows × 15 columns</p>\n",
       "</div>"
      ],
      "text/plain": [
       "          bank        date   web_traffic  cross_visitation  search_interest  \\\n",
       "0       abanca  2021-12-01  15202.983835          0.077994             7.75   \n",
       "1       abanca  2022-01-01  42183.913207          0.062500             7.80   \n",
       "2       abanca  2022-02-01  34498.153115          0.052288             7.25   \n",
       "3       abanca  2022-03-01  34546.319021          0.061503             6.75   \n",
       "4       abanca  2022-04-01  40508.288420          0.050222             6.75   \n",
       "..         ...         ...           ...               ...              ...   \n",
       "270  santander  2023-08-01  34290.160425          0.118914            50.50   \n",
       "271  santander  2023-09-01  40388.737821          0.125496            56.25   \n",
       "272  santander  2023-10-01  36636.706633          0.126347            58.60   \n",
       "273  santander  2023-11-01  35387.630139          0.121212            59.75   \n",
       "274  santander  2023-12-01  29101.697517          0.159196            62.80   \n",
       "\n",
       "         rank  incentive  apr  mentions   app_installs     ppc_spend  \\\n",
       "0    4.000000      150.0  0.0       1.0   43605.699637   1506.110026   \n",
       "1    4.000000      150.0  0.0       1.0   43605.699637   1506.110026   \n",
       "2    4.000000      150.0  0.0       2.0   48647.434439  32750.639361   \n",
       "3    4.000000      150.0  0.0       2.0   26687.227413  15754.216964   \n",
       "4    4.000000      300.0  0.0       2.0    4254.184995   6542.970638   \n",
       "..        ...        ...  ...       ...            ...           ...   \n",
       "270  3.500000      150.0  0.0       1.0   94258.470775  23196.742521   \n",
       "271  3.500000      400.0  0.0       3.0  115545.874406  18453.991325   \n",
       "272  3.500000      400.0  0.0       4.0  105536.783263  18587.526350   \n",
       "273  1.500000      400.0  0.0       3.0   87875.847509  30037.515265   \n",
       "274  1.806452      400.0  0.0       2.0   77851.148389  18659.921880   \n",
       "\n",
       "     has_stores  founded_before_2000  big_employees  big_assets  \n",
       "0             1                    0              0           0  \n",
       "1             1                    0              0           0  \n",
       "2             1                    0              0           0  \n",
       "3             1                    0              0           0  \n",
       "4             1                    0              0           0  \n",
       "..          ...                  ...            ...         ...  \n",
       "270           1                    1              1           1  \n",
       "271           1                    1              1           1  \n",
       "272           1                    1              1           1  \n",
       "273           1                    1              1           1  \n",
       "274           1                    1              1           1  \n",
       "\n",
       "[275 rows x 15 columns]"
      ]
     },
     "execution_count": 721,
     "metadata": {},
     "output_type": "execute_result"
    }
   ],
   "source": [
    "# left join ['has_stores', 'founded_before_2000', 'big_employees', 'big_assets'] to data\n",
    "data = data.merge(cat_data[['bank', 'has_stores', 'founded_before_2000', 'big_employees', 'big_assets']], on='bank', how='left')\n",
    "data\n"
   ]
  },
  {
   "cell_type": "code",
   "execution_count": 722,
   "metadata": {},
   "outputs": [],
   "source": [
    "# log scale web traffic\n",
    "data['log_web_traffic'] = np.log(data['web_traffic'])"
   ]
  },
  {
   "cell_type": "code",
   "execution_count": 723,
   "metadata": {},
   "outputs": [],
   "source": [
    "# log incentive, ppc, app install \n",
    "epsilon = 1e-6\n",
    "data['incentive'] = data['incentive'] + epsilon\n",
    "data['log_incentive'] = np.log(data['incentive'])\n",
    "data['log_ppc'] = np.log(data['ppc_spend'])\n",
    "data['log_app_installs'] = np.log(data['app_installs'])"
   ]
  },
  {
   "cell_type": "markdown",
   "metadata": {},
   "source": [
    "### Pooled Data Regression"
   ]
  },
  {
   "cell_type": "markdown",
   "metadata": {},
   "source": [
    "dummy cols casted"
   ]
  },
  {
   "cell_type": "code",
   "execution_count": 724,
   "metadata": {},
   "outputs": [],
   "source": [
    "pooled_data = pd.get_dummies(data, columns=['bank'], drop_first=True)\n",
    "\n",
    "\n",
    "# cast the dummy columns to int \n",
    "pooled_data[[ 'bank_banc sabadell', 'bank_bankinter',\n",
    "       'bank_bbva', 'bank_evobanco', 'bank_ing', 'bank_myinvestor', 'bank_n26',\n",
    "       'bank_openbank', 'bank_revolut', 'bank_santander','has_stores','founded_before_2000', 'big_employees', 'big_assets']] = pooled_data[[ 'bank_banc sabadell', 'bank_bankinter',\n",
    "       'bank_bbva', 'bank_evobanco', 'bank_ing', 'bank_myinvestor', 'bank_n26',\n",
    "       'bank_openbank', 'bank_revolut', 'bank_santander','has_stores','founded_before_2000', 'big_employees', 'big_assets']].astype(int)"
   ]
  },
  {
   "cell_type": "code",
   "execution_count": 725,
   "metadata": {},
   "outputs": [],
   "source": [
    "pooled_data['date'] = pd.to_datetime(pooled_data['date'])\n",
    "\n",
    "# create a dummy column for january \n",
    "pooled_data['month_1'] = np.where(pooled_data['date'].dt.month == 1, 1, 0)"
   ]
  },
  {
   "cell_type": "code",
   "execution_count": 726,
   "metadata": {},
   "outputs": [],
   "source": [
    "# create a web traffic lag variable\n",
    "pooled_data['log_web_traffic_lag'] = pooled_data['log_web_traffic'].shift(1)\n",
    "pooled_data['log_web_traffic_lag_2'] = pooled_data['log_web_traffic'].shift(2)\n",
    "pooled_data['log_web_traffic_lag_3'] = pooled_data['log_web_traffic'].shift(3)\n",
    "pooled_data['log_web_traffic_lag_4'] = pooled_data['log_web_traffic'].shift(4)\n"
   ]
  },
  {
   "cell_type": "code",
   "execution_count": 727,
   "metadata": {},
   "outputs": [],
   "source": [
    "# scale all of the variables with standard scaler\n",
    "from sklearn.preprocessing import StandardScaler\n",
    "\n",
    "scaler = StandardScaler()\n",
    "pooled_data[['month_1','cross_visitation', 'search_interest', 'apr', 'mentions', 'log_web_traffic_lag', 'log_web_traffic','log_incentive', 'log_app_installs', 'log_ppc']] = scaler.fit_transform(pooled_data[['month_1','cross_visitation', 'search_interest', 'apr', 'mentions', 'log_web_traffic_lag', 'log_web_traffic', 'log_incentive', 'log_app_installs', 'log_ppc' ]])\n"
   ]
  },
  {
   "cell_type": "code",
   "execution_count": 728,
   "metadata": {},
   "outputs": [],
   "source": [
    "pooled_data.log_web_traffic_lag = pooled_data.log_web_traffic_lag.bfill()"
   ]
  },
  {
   "cell_type": "code",
   "execution_count": 729,
   "metadata": {},
   "outputs": [
    {
     "name": "stdout",
     "output_type": "stream",
     "text": [
      "                            OLS Regression Results                            \n",
      "==============================================================================\n",
      "Dep. Variable:        log_web_traffic   R-squared:                       0.799\n",
      "Model:                            OLS   Adj. R-squared:                  0.793\n",
      "Method:                 Least Squares   F-statistic:                     132.1\n",
      "Date:                Mon, 01 Jul 2024   Prob (F-statistic):           4.85e-88\n",
      "Time:                        16:10:26   Log-Likelihood:                -169.69\n",
      "No. Observations:                 275   AIC:                             357.4\n",
      "Df Residuals:                     266   BIC:                             389.9\n",
      "Df Model:                           8                                         \n",
      "Covariance Type:            nonrobust                                         \n",
      "=======================================================================================\n",
      "                          coef    std err          t      P>|t|      [0.025      0.975]\n",
      "---------------------------------------------------------------------------------------\n",
      "const                   0.0001      0.027      0.004      0.996      -0.054       0.054\n",
      "log_web_traffic_lag     0.7322      0.042     17.569      0.000       0.650       0.814\n",
      "cross_visitation        0.0831      0.040      2.055      0.041       0.003       0.163\n",
      "search_interest         0.0600      0.036      1.679      0.094      -0.010       0.130\n",
      "apr                    -0.0484      0.030     -1.591      0.113      -0.108       0.011\n",
      "mentions                0.0021      0.030      0.071      0.943      -0.056       0.061\n",
      "log_incentive           0.1145      0.035      3.314      0.001       0.046       0.182\n",
      "log_ppc                 0.0607      0.035      1.747      0.082      -0.008       0.129\n",
      "month_1                 0.0435      0.028      1.561      0.120      -0.011       0.098\n",
      "==============================================================================\n",
      "Omnibus:                      110.088   Durbin-Watson:                   2.107\n",
      "Prob(Omnibus):                  0.000   Jarque-Bera (JB):              954.914\n",
      "Skew:                          -1.360   Prob(JB):                    4.40e-208\n",
      "Kurtosis:                      11.714   Cond. No.                         3.12\n",
      "==============================================================================\n",
      "\n",
      "Notes:\n",
      "[1] Standard Errors assume that the covariance matrix of the errors is correctly specified.\n"
     ]
    }
   ],
   "source": [
    "y = pooled_data['log_web_traffic']\n",
    "\n",
    "ind_vars = ['log_web_traffic_lag', 'cross_visitation', 'search_interest', 'apr', 'mentions', 'log_incentive', 'log_ppc', 'month_1']\n",
    "\n",
    "X = pooled_data[ind_vars]\n",
    "\n",
    "X = sm.add_constant(X)\n",
    "\n",
    "# Create and fit the fixed effects model\n",
    "model = sm.OLS(y, X).fit(covariance_type='HC3')\n",
    "pooled_regression_summary = model.summary()\n",
    "print(pooled_regression_summary)"
   ]
  },
  {
   "cell_type": "code",
   "execution_count": 730,
   "metadata": {},
   "outputs": [
    {
     "name": "stdout",
     "output_type": "stream",
     "text": [
      "                            OLS Regression Results                            \n",
      "==============================================================================\n",
      "Dep. Variable:        log_web_traffic   R-squared:                       0.799\n",
      "Model:                            OLS   Adj. R-squared:                  0.793\n",
      "Method:                 Least Squares   F-statistic:                     155.0\n",
      "Date:                Mon, 01 Jul 2024   Prob (F-statistic):           1.64e-95\n",
      "Time:                        16:10:26   Log-Likelihood:                -169.69\n",
      "No. Observations:                 275   AIC:                             357.4\n",
      "Df Residuals:                     266   BIC:                             389.9\n",
      "Df Model:                           8                                         \n",
      "Covariance Type:                  HC3                                         \n",
      "=======================================================================================\n",
      "                          coef    std err          t      P>|t|      [0.025      0.975]\n",
      "---------------------------------------------------------------------------------------\n",
      "const                   0.0001      0.028      0.004      0.997      -0.055       0.055\n",
      "log_web_traffic_lag     0.7322      0.058     12.540      0.000       0.617       0.847\n",
      "cross_visitation        0.0831      0.044      1.877      0.062      -0.004       0.170\n",
      "search_interest         0.0600      0.036      1.650      0.100      -0.012       0.132\n",
      "apr                    -0.0484      0.032     -1.523      0.129      -0.111       0.014\n",
      "mentions                0.0021      0.032      0.067      0.947      -0.060       0.064\n",
      "log_incentive           0.1145      0.038      3.004      0.003       0.039       0.189\n",
      "log_ppc                 0.0607      0.040      1.515      0.131      -0.018       0.140\n",
      "month_1                 0.0435      0.023      1.854      0.065      -0.003       0.090\n",
      "==============================================================================\n",
      "Omnibus:                      110.088   Durbin-Watson:                   2.107\n",
      "Prob(Omnibus):                  0.000   Jarque-Bera (JB):              954.914\n",
      "Skew:                          -1.360   Prob(JB):                    4.40e-208\n",
      "Kurtosis:                      11.714   Cond. No.                         3.12\n",
      "==============================================================================\n",
      "\n",
      "Notes:\n",
      "[1] Standard Errors are heteroscedasticity robust (HC3)\n"
     ]
    }
   ],
   "source": [
    "robust_cov = model.get_robustcov_results(cov_type='HC3')\n",
    "print(robust_cov.summary())"
   ]
  },
  {
   "cell_type": "markdown",
   "metadata": {},
   "source": [
    "#### Multicollinearity check"
   ]
  },
  {
   "cell_type": "code",
   "execution_count": 731,
   "metadata": {},
   "outputs": [
    {
     "name": "stdout",
     "output_type": "stream",
     "text": [
      "               feature       VIF\n",
      "0                const  1.000000\n",
      "1  log_web_traffic_lag  2.288651\n",
      "2     cross_visitation  2.162500\n",
      "3      search_interest  1.690133\n",
      "4                  apr  1.222446\n",
      "5             mentions  1.171795\n",
      "6        log_incentive  1.577389\n",
      "7              log_ppc  1.597152\n",
      "8              month_1  1.025790\n"
     ]
    }
   ],
   "source": [
    "\n",
    "# Assuming df is your DataFrame and it contains the independent variables\n",
    "vif_data = pd.DataFrame()\n",
    "vif_data['feature'] = X.columns\n",
    "vif_data['VIF'] = [variance_inflation_factor(X.values, i) for i in range(len(X.columns))]\n",
    "\n",
    "print(vif_data)"
   ]
  },
  {
   "cell_type": "markdown",
   "metadata": {},
   "source": [
    "Variance inflation factor is used to check multicollinearity. It does this by checking how much the variance of a coefficient increases when your predictors are correlated. It does this by regressing each coefficient as the dependent variable and is a measure of each subsequent regression's R^2. If the VIF is greater than 10, you have high multicollinearity. All VIF are less than 10 and the highest is 2.5, indicating no multicollinearity."
   ]
  },
  {
   "cell_type": "markdown",
   "metadata": {},
   "source": [
    "#### Heteroskedasticity check"
   ]
  },
  {
   "cell_type": "code",
   "execution_count": 732,
   "metadata": {},
   "outputs": [
    {
     "name": "stdout",
     "output_type": "stream",
     "text": [
      "Breusch-Pagan p-value: 0.28454623684502794\n",
      "Breusch-Pagan F-statistic p-value: 0.2875555327783149\n"
     ]
    }
   ],
   "source": [
    "_, pval, _, f_pval = het_breuschpagan(model.resid, model.model.exog)\n",
    "print('Breusch-Pagan p-value:', pval)\n",
    "print('Breusch-Pagan F-statistic p-value:', f_pval)"
   ]
  },
  {
   "cell_type": "markdown",
   "metadata": {},
   "source": [
    "Breusch-Pagan Test Interpretation\n",
    "\n",
    "Breusch-Pagan p-value: 0.28454623684502794\n",
    "Breusch-Pagan F-statistic p-value: 0.2875555327783149\n",
    "\n",
    "Null Hypothesis (H0): The null hypothesis for the Breusch-Pagan test is that there is homoscedasticity, meaning the variance of the errors is constant across observations.\n",
    "\n",
    "Alternative Hypothesis (H1): The alternative hypothesis is that there is heteroscedasticity, meaning the variance of the errors varies across observations.\n",
    "\n",
    "Both p-values are greater than 0.05. Meaning we fail to reject the null hypothesis of homoscedasticity. There is no significant evidence of heteroscedasticity in the regression model based on these p-values.\n",
    "\n",
    "Breush-pagan is calculated as a measure of the squared residuals and a regression of the independent variables. "
   ]
  },
  {
   "cell_type": "markdown",
   "metadata": {},
   "source": [
    "#### Autocorrelation Check"
   ]
  },
  {
   "cell_type": "code",
   "execution_count": 733,
   "metadata": {},
   "outputs": [
    {
     "name": "stdout",
     "output_type": "stream",
     "text": [
      "Durbin-Watson statistic: 2.1072459723346864\n"
     ]
    }
   ],
   "source": [
    "\n",
    "dw_stat = durbin_watson(model.resid)\n",
    "print('Durbin-Watson statistic:', dw_stat)\n"
   ]
  },
  {
   "cell_type": "markdown",
   "metadata": {},
   "source": [
    "The Durbin-Watson statistic ranges from 0 to 4. A value of 2 means that there is no autocorrelation detected in the sample. Values from 0 to less than 2 indicate positive autocorrelation and values from 2 to 4 indicate negative autocorrelation. The Durbin-Watson statistic is 2.1, indicating no autocorrelation. \n",
    "\n",
    "The Durbin-Watson statistic is calculated as the sum of the squared differences between consecutive residuals divided by the sum of the squared residuals. This gives an indication of the correlation between residuals."
   ]
  },
  {
   "cell_type": "markdown",
   "metadata": {},
   "source": [
    "#### Model Specification Check"
   ]
  },
  {
   "cell_type": "code",
   "execution_count": 734,
   "metadata": {},
   "outputs": [
    {
     "name": "stdout",
     "output_type": "stream",
     "text": [
      "Ramsey RESET test p-value: 0.051228014188020615\n"
     ]
    }
   ],
   "source": [
    "\n",
    "reset_test = linear_reset(model, use_f=True)\n",
    "print('Ramsey RESET test p-value:', reset_test.pvalue)"
   ]
  },
  {
   "cell_type": "markdown",
   "metadata": {},
   "source": [
    "The p-value of the Ramsey RESET test is a measure of the probability that the observed test statistic would occur under the null hypothesis, which states that there are no omitted variables or incorrect functional forms.\n",
    "\n",
    "Key Points:\n",
    "Null Hypothesis (H0): The model has no specification error (i.e., it is correctly specified).\n",
    "Alternative Hypothesis (H1): The model has specification errors (i.e., it is misspecified).\n",
    "\n",
    "The Ramsey RESET test introduces higher-order terms of the fitted values (i.e., predictions from the original model) into the regression equation to detect misspecification errors such as omitted variables or incorrect functional forms."
   ]
  },
  {
   "cell_type": "code",
   "execution_count": 735,
   "metadata": {},
   "outputs": [
    {
     "data": {
      "image/png": "[encoded data removed]",
      "text/plain": [
       "<Figure size 640x480 with 1 Axes>"
      ]
     },
     "metadata": {},
     "output_type": "display_data"
    },
    {
     "data": {
      "image/png": "[encoded data removed]",
      "text/plain": [
       "<Figure size 640x480 with 1 Axes>"
      ]
     },
     "metadata": {},
     "output_type": "display_data"
    },
    {
     "data": {
      "image/png": "[encoded data removed]",
      "text/plain": [
       "<Figure size 640x480 with 1 Axes>"
      ]
     },
     "metadata": {},
     "output_type": "display_data"
    }
   ],
   "source": [
    "# Plot residuals to check if assumptions are better met\n",
    "plt.scatter(model.fittedvalues, model.resid)\n",
    "plt.xlabel('Fitted values')\n",
    "plt.ylabel('Residuals')\n",
    "plt.title('Residuals vs Fitted values')\n",
    "plt.show()\n",
    "\n",
    "# Histogram of residuals\n",
    "plt.hist(model.resid, bins=30)\n",
    "plt.xlabel('Residuals')\n",
    "plt.ylabel('Frequency')\n",
    "plt.title('Histogram of Residuals')\n",
    "plt.show()\n",
    "\n",
    "# QQ plot of residuals\n",
    "sm.qqplot(model.resid, line='45')\n",
    "plt.title('QQ Plot of Residuals')\n",
    "plt.show()"
   ]
  },
  {
   "cell_type": "code",
   "execution_count": 736,
   "metadata": {},
   "outputs": [
    {
     "data": {
      "image/png": "[encoded data removed]",
      "text/plain": [
       "<Figure size 1000x600 with 1 Axes>"
      ]
     },
     "metadata": {},
     "output_type": "display_data"
    }
   ],
   "source": [
    "\n",
    "influence = model.get_influence()\n",
    "(c, p) = influence.cooks_distance\n",
    "\n",
    "# Plot Cook's distance\n",
    "import matplotlib.pyplot as plt\n",
    "plt.figure(figsize=(10, 6))\n",
    "plt.stem(np.arange(len(c)), c, markerfmt=\",\")\n",
    "plt.title('Cook\\'s Distance')\n",
    "plt.xlabel('Observation Index')\n",
    "plt.ylabel('Cook\\'s Distance')\n",
    "plt.show()"
   ]
  },
  {
   "cell_type": "markdown",
   "metadata": {},
   "source": [
    "### Box Cox Transformation"
   ]
  },
  {
   "cell_type": "code",
   "execution_count": 737,
   "metadata": {},
   "outputs": [],
   "source": [
    "y_positive = y + 1 - y.min()  # Adjusting y to be strictly positive\n",
    "box_cox_lambda = stats.boxcox_normmax(y_positive, method='mle')"
   ]
  },
  {
   "cell_type": "code",
   "execution_count": 738,
   "metadata": {},
   "outputs": [
    {
     "name": "stdout",
     "output_type": "stream",
     "text": [
      "                            OLS Regression Results                            \n",
      "==============================================================================\n",
      "Dep. Variable:                      y   R-squared:                       0.805\n",
      "Model:                            OLS   Adj. R-squared:                  0.799\n",
      "Method:                 Least Squares   F-statistic:                     137.0\n",
      "Date:                Mon, 01 Jul 2024   Prob (F-statistic):           9.58e-90\n",
      "Time:                        16:10:26   Log-Likelihood:                -328.00\n",
      "No. Observations:                 275   AIC:                             674.0\n",
      "Df Residuals:                     266   BIC:                             706.5\n",
      "Df Model:                           8                                         \n",
      "Covariance Type:            nonrobust                                         \n",
      "=======================================================================================\n",
      "                          coef    std err          t      P>|t|      [0.025      0.975]\n",
      "---------------------------------------------------------------------------------------\n",
      "const                   4.6321      0.049     94.726      0.000       4.536       4.728\n",
      "log_web_traffic_lag     1.2766      0.074     17.225      0.000       1.131       1.423\n",
      "cross_visitation        0.1260      0.072      1.752      0.081      -0.016       0.268\n",
      "search_interest         0.1397      0.064      2.197      0.029       0.014       0.265\n",
      "apr                    -0.1210      0.054     -2.239      0.026      -0.227      -0.015\n",
      "mentions               -0.0390      0.053     -0.736      0.462      -0.143       0.065\n",
      "log_incentive           0.2446      0.061      3.983      0.000       0.124       0.366\n",
      "log_ppc                 0.1603      0.062      2.595      0.010       0.039       0.282\n",
      "month_1                 0.0845      0.050      1.705      0.089      -0.013       0.182\n",
      "==============================================================================\n",
      "Omnibus:                       72.810   Durbin-Watson:                   2.132\n",
      "Prob(Omnibus):                  0.000   Jarque-Bera (JB):              450.099\n",
      "Skew:                          -0.892   Prob(JB):                     1.83e-98\n",
      "Kurtosis:                       9.008   Cond. No.                         3.12\n",
      "==============================================================================\n",
      "\n",
      "Notes:\n",
      "[1] Standard Errors assume that the covariance matrix of the errors is correctly specified.\n"
     ]
    }
   ],
   "source": [
    "\n",
    "# Apply the Box-Cox transformation using the optimal lambda\n",
    "y_box_cox = stats.boxcox(y_positive, lmbda=box_cox_lambda)\n",
    "\n",
    "# Update the DataFrame with the transformed variable\n",
    "pooled_data['log_web_traffic_transformed'] = y_box_cox\n",
    "\n",
    "# Fit the model using the transformed dependent variable\n",
    "box_cox_model = sm.OLS(y_box_cox, X).fit()\n",
    "\n",
    "# Check the summary of the model\n",
    "print(box_cox_model.summary())"
   ]
  },
  {
   "cell_type": "code",
   "execution_count": 739,
   "metadata": {},
   "outputs": [
    {
     "name": "stdout",
     "output_type": "stream",
     "text": [
      "                            OLS Regression Results                            \n",
      "==============================================================================\n",
      "Dep. Variable:                      y   R-squared:                       0.805\n",
      "Model:                            OLS   Adj. R-squared:                  0.799\n",
      "Method:                 Least Squares   F-statistic:                     171.3\n",
      "Date:                Mon, 01 Jul 2024   Prob (F-statistic):          2.78e-100\n",
      "Time:                        16:10:26   Log-Likelihood:                -328.00\n",
      "No. Observations:                 275   AIC:                             674.0\n",
      "Df Residuals:                     266   BIC:                             706.5\n",
      "Df Model:                           8                                         \n",
      "Covariance Type:                  HC3                                         \n",
      "=======================================================================================\n",
      "                          coef    std err          t      P>|t|      [0.025      0.975]\n",
      "---------------------------------------------------------------------------------------\n",
      "const                   4.6321      0.050     93.012      0.000       4.534       4.730\n",
      "log_web_traffic_lag     1.2766      0.095     13.493      0.000       1.090       1.463\n",
      "cross_visitation        0.1260      0.081      1.547      0.123      -0.034       0.286\n",
      "search_interest         0.1397      0.065      2.153      0.032       0.012       0.267\n",
      "apr                    -0.1210      0.054     -2.236      0.026      -0.228      -0.014\n",
      "mentions               -0.0390      0.057     -0.684      0.494      -0.151       0.073\n",
      "log_incentive           0.2446      0.066      3.711      0.000       0.115       0.374\n",
      "log_ppc                 0.1603      0.068      2.366      0.019       0.027       0.294\n",
      "month_1                 0.0845      0.042      2.030      0.043       0.003       0.166\n",
      "==============================================================================\n",
      "Omnibus:                       72.810   Durbin-Watson:                   2.132\n",
      "Prob(Omnibus):                  0.000   Jarque-Bera (JB):              450.099\n",
      "Skew:                          -0.892   Prob(JB):                     1.83e-98\n",
      "Kurtosis:                       9.008   Cond. No.                         3.12\n",
      "==============================================================================\n",
      "\n",
      "Notes:\n",
      "[1] Standard Errors are heteroscedasticity robust (HC3)\n"
     ]
    }
   ],
   "source": [
    "robust_cov = box_cox_model.get_robustcov_results(cov_type='HC3')\n",
    "print(robust_cov.summary())"
   ]
  },
  {
   "cell_type": "code",
   "execution_count": 740,
   "metadata": {},
   "outputs": [
    {
     "data": {
      "image/png": "[encoded data removed]",
      "text/plain": [
       "<Figure size 640x480 with 1 Axes>"
      ]
     },
     "metadata": {},
     "output_type": "display_data"
    },
    {
     "data": {
      "image/png": "[encoded data removed]",
      "text/plain": [
       "<Figure size 640x480 with 1 Axes>"
      ]
     },
     "metadata": {},
     "output_type": "display_data"
    },
    {
     "data": {
      "image/png": "[encoded data removed]",
      "text/plain": [
       "<Figure size 640x480 with 1 Axes>"
      ]
     },
     "metadata": {},
     "output_type": "display_data"
    }
   ],
   "source": [
    "# Plot residuals to check if assumptions are better met\n",
    "plt.scatter(box_cox_model.fittedvalues, model.resid)\n",
    "plt.xlabel('Fitted values')\n",
    "plt.ylabel('Residuals')\n",
    "plt.title('Residuals vs Fitted values')\n",
    "plt.show()\n",
    "\n",
    "# Histogram of residuals\n",
    "plt.hist(box_cox_model.resid, bins=30)\n",
    "plt.xlabel('Residuals')\n",
    "plt.ylabel('Frequency')\n",
    "plt.title('Histogram of Residuals')\n",
    "plt.show()\n",
    "\n",
    "# QQ plot of residuals\n",
    "sm.qqplot(box_cox_model.resid, line='45')\n",
    "plt.title('QQ Plot of Residuals')\n",
    "plt.show()"
   ]
  },
  {
   "cell_type": "code",
   "execution_count": 741,
   "metadata": {},
   "outputs": [
    {
     "data": {
      "image/png": "[encoded data removed]",
      "text/plain": [
       "<Figure size 640x480 with 1 Axes>"
      ]
     },
     "metadata": {},
     "output_type": "display_data"
    },
    {
     "name": "stdout",
     "output_type": "stream",
     "text": [
      "Influential points (index): [  1  25 100 121 122 125 134 164 165 175 182 189]\n"
     ]
    }
   ],
   "source": [
    "# Calculate Cook's Distance\n",
    "influence = box_cox_model.get_influence()\n",
    "cooks_d = influence.cooks_distance[0]\n",
    "\n",
    "# Plot Cook's Distance\n",
    "plt.stem(np.arange(len(cooks_d)), cooks_d, markerfmt=\",\")\n",
    "plt.xlabel('Observation Index')\n",
    "plt.ylabel(\"Cook's Distance\")\n",
    "plt.title(\"Cook's Distance for Each Observation\")\n",
    "plt.show()\n",
    "\n",
    "# Identify influential points\n",
    "threshold = 4 / len(X)\n",
    "influential_points = np.where(cooks_d > threshold)[0]\n",
    "print(f\"Influential points (index): {influential_points}\")"
   ]
  },
  {
   "cell_type": "code",
   "execution_count": 742,
   "metadata": {},
   "outputs": [
    {
     "name": "stdout",
     "output_type": "stream",
     "text": [
      "                    Results: Robust linear model\n",
      "====================================================================\n",
      "Model:                  RLM                 Df Residuals:    266    \n",
      "Dependent Variable:     y                   Norm:            HuberT \n",
      "Date:                   2024-07-01 16:10    Scale Est.:      mad    \n",
      "No. Observations:       275                 Cov. Type:       H1     \n",
      "Df Model:               8                   Scale:           0.67997\n",
      "--------------------------------------------------------------------\n",
      "                     Coef.  Std.Err.    z     P>|z|   [0.025  0.975]\n",
      "--------------------------------------------------------------------\n",
      "const                4.6420   0.0412 112.7045 0.0000  4.5612  4.7227\n",
      "log_web_traffic_lag  1.3966   0.0624  22.3739 0.0000  1.2743  1.5190\n",
      "cross_visitation     0.0622   0.0606   1.0272 0.3043 -0.0565  0.1809\n",
      "search_interest      0.1081   0.0535   2.0196 0.0434  0.0032  0.2131\n",
      "apr                 -0.1097   0.0455  -2.4091 0.0160 -0.1990 -0.0205\n",
      "mentions            -0.0575   0.0446  -1.2895 0.1972 -0.1449  0.0299\n",
      "log_incentive        0.1904   0.0517   3.6803 0.0002  0.0890  0.2918\n",
      "log_ppc              0.1578   0.0521   3.0319 0.0024  0.0558  0.2598\n",
      "month_1              0.0688   0.0417   1.6500 0.0989 -0.0129  0.1506\n",
      "====================================================================\n",
      "\n",
      "R-squared: <bound method RLM.score of <statsmodels.robust.robust_linear_model.RLM object at 0x29fec0e20>>\n"
     ]
    }
   ],
   "source": [
    "robust_model = sm.RLM(y_box_cox, X, M=sm.robust.norms.HuberT())\n",
    "robust_results = robust_model.fit()\n",
    "\n",
    "print(robust_results.summary2())\n",
    "\n",
    "# print r squared\n",
    "print('R-squared:', robust_model.score)\n",
    "\n",
    "\n",
    "\n",
    "# Fit M-estimator (Theil-Sen) robust regression\n",
    "# theil_sen = TheilSenRegressor(random_state=42)\n",
    "# theil_sen.fit(X, y)\n",
    "# print(\"Coefficients:\", theil_sen.coef_)\n"
   ]
  },
  {
   "cell_type": "code",
   "execution_count": 743,
   "metadata": {},
   "outputs": [
    {
     "name": "stdout",
     "output_type": "stream",
     "text": [
      "R-squared: 0.8018133350859051\n",
      "Adjusted R-squared: 0.7950824672208981\n"
     ]
    }
   ],
   "source": [
    "# Get the predicted values\n",
    "y_pred = robust_results.predict(X)\n",
    "\n",
    "# Calculate residuals\n",
    "residuals = y_box_cox - y_pred\n",
    "\n",
    "# Calculate total sum of squares (TSS) and residual sum of squares (RSS)\n",
    "TSS = np.sum((y_box_cox - np.mean(y_box_cox))**2)\n",
    "RSS = np.sum(residuals**2)\n",
    "\n",
    "# Number of observations and predictors\n",
    "n = len(y_box_cox)\n",
    "p = X.shape[1]\n",
    "\n",
    "# Calculate Adjusted R-squared\n",
    "R2 = 1 - (RSS / TSS)\n",
    "adj_R2 = 1 - (RSS / (n - p - 1) / (TSS / (n - 1)))\n",
    "\n",
    "print(\"R-squared:\", R2)\n",
    "print(\"Adjusted R-squared:\", adj_R2)"
   ]
  },
  {
   "cell_type": "code",
   "execution_count": 744,
   "metadata": {},
   "outputs": [
    {
     "data": {
      "image/png": "[encoded data removed]",
      "text/plain": [
       "<Figure size 640x480 with 1 Axes>"
      ]
     },
     "metadata": {},
     "output_type": "display_data"
    }
   ],
   "source": [
    "\n",
    "# Plotting the results\n",
    "plt.scatter(X.iloc[:, 1], y_box_cox, label='Data')\n",
    "plt.plot(X.iloc[:, 1], box_cox_model.fittedvalues, 'r--', label='OLS Fit')\n",
    "plt.plot(X.iloc[:, 1], robust_results.fittedvalues, 'g-', label='Robust Fit')\n",
    "plt.xlabel('X')\n",
    "plt.ylabel('y')\n",
    "plt.legend()\n",
    "plt.show()"
   ]
  },
  {
   "cell_type": "code",
   "execution_count": 745,
   "metadata": {},
   "outputs": [
    {
     "data": {
      "image/png": "[encoded data removed]",
      "text/plain": [
       "<Figure size 640x480 with 1 Axes>"
      ]
     },
     "metadata": {},
     "output_type": "display_data"
    },
    {
     "data": {
      "image/png": "[encoded data removed]",
      "text/plain": [
       "<Figure size 640x480 with 1 Axes>"
      ]
     },
     "metadata": {},
     "output_type": "display_data"
    },
    {
     "data": {
      "image/png": "[encoded data removed]",
      "text/plain": [
       "<Figure size 640x480 with 1 Axes>"
      ]
     },
     "metadata": {},
     "output_type": "display_data"
    }
   ],
   "source": [
    "# Plot residuals to check if assumptions are better met\n",
    "plt.scatter(robust_results.fittedvalues, robust_results.resid)\n",
    "plt.xlabel('Fitted values')\n",
    "plt.ylabel('Residuals')\n",
    "plt.title('Residuals vs Fitted values')\n",
    "plt.show()\n",
    "\n",
    "# Histogram of residuals\n",
    "plt.hist(robust_results.resid, bins=30)\n",
    "plt.xlabel('Residuals')\n",
    "plt.ylabel('Frequency')\n",
    "plt.title('Histogram of Residuals')\n",
    "plt.show()\n",
    "\n",
    "# QQ plot of residuals\n",
    "sm.qqplot(robust_results.resid, line='45')\n",
    "plt.title('QQ Plot of Residuals')\n",
    "plt.show()"
   ]
  },
  {
   "cell_type": "code",
   "execution_count": 746,
   "metadata": {},
   "outputs": [
    {
     "data": {
      "text/plain": [
       "25    -3.007498\n",
       "121    2.567543\n",
       "125   -5.238796\n",
       "175   -2.739763\n",
       "dtype: float64"
      ]
     },
     "execution_count": 746,
     "metadata": {},
     "output_type": "execute_result"
    }
   ],
   "source": [
    "# Perform outlier test\n",
    "residuals = robust_results.resid\n",
    "\n",
    "std_deviation = residuals.std()\n",
    "outliers = residuals[abs(residuals) > 3 * std_deviation]  # Adjust as needed\n",
    "outliers\n"
   ]
  },
  {
   "cell_type": "code",
   "execution_count": 747,
   "metadata": {},
   "outputs": [],
   "source": [
    "# get fitted values \n",
    "pooled_data['fitted_values_robust'] = robust_results.fittedvalues\n",
    "\n",
    "pooled_data['fitted_values_box_cox'] = box_cox_model.fittedvalues\n"
   ]
  },
  {
   "cell_type": "code",
   "execution_count": 748,
   "metadata": {},
   "outputs": [
    {
     "data": {
      "text/html": [
       "<div>\n",
       "<style scoped>\n",
       "    .dataframe tbody tr th:only-of-type {\n",
       "        vertical-align: middle;\n",
       "    }\n",
       "\n",
       "    .dataframe tbody tr th {\n",
       "        vertical-align: top;\n",
       "    }\n",
       "\n",
       "    .dataframe thead th {\n",
       "        text-align: right;\n",
       "    }\n",
       "</style>\n",
       "<table border=\"1\" class=\"dataframe\">\n",
       "  <thead>\n",
       "    <tr style=\"text-align: right;\">\n",
       "      <th></th>\n",
       "      <th>bank</th>\n",
       "      <th>date</th>\n",
       "      <th>web_traffic</th>\n",
       "      <th>cross_visitation</th>\n",
       "      <th>search_interest</th>\n",
       "      <th>rank</th>\n",
       "      <th>incentive</th>\n",
       "      <th>apr</th>\n",
       "      <th>mentions</th>\n",
       "      <th>app_installs</th>\n",
       "      <th>ppc_spend</th>\n",
       "      <th>has_stores</th>\n",
       "      <th>founded_before_2000</th>\n",
       "      <th>big_employees</th>\n",
       "      <th>big_assets</th>\n",
       "      <th>log_web_traffic</th>\n",
       "      <th>log_incentive</th>\n",
       "      <th>log_ppc</th>\n",
       "      <th>log_app_installs</th>\n",
       "    </tr>\n",
       "  </thead>\n",
       "  <tbody>\n",
       "    <tr>\n",
       "      <th>25</th>\n",
       "      <td>n26</td>\n",
       "      <td>2021-12-01</td>\n",
       "      <td>8723.148705</td>\n",
       "      <td>0.067204</td>\n",
       "      <td>1.00</td>\n",
       "      <td>7.000000</td>\n",
       "      <td>300.000001</td>\n",
       "      <td>2.0</td>\n",
       "      <td>2.0</td>\n",
       "      <td>7939.828992</td>\n",
       "      <td>781.026447</td>\n",
       "      <td>0</td>\n",
       "      <td>0</td>\n",
       "      <td>0</td>\n",
       "      <td>0</td>\n",
       "      <td>9.073736</td>\n",
       "      <td>5.703782</td>\n",
       "      <td>6.660609</td>\n",
       "      <td>8.979647</td>\n",
       "    </tr>\n",
       "    <tr>\n",
       "      <th>121</th>\n",
       "      <td>bbva</td>\n",
       "      <td>2023-09-01</td>\n",
       "      <td>102540.477521</td>\n",
       "      <td>0.192308</td>\n",
       "      <td>56.75</td>\n",
       "      <td>5.000000</td>\n",
       "      <td>0.000001</td>\n",
       "      <td>0.0</td>\n",
       "      <td>2.0</td>\n",
       "      <td>104802.543011</td>\n",
       "      <td>57026.449019</td>\n",
       "      <td>1</td>\n",
       "      <td>1</td>\n",
       "      <td>1</td>\n",
       "      <td>1</td>\n",
       "      <td>11.538013</td>\n",
       "      <td>-13.815511</td>\n",
       "      <td>10.951270</td>\n",
       "      <td>11.559833</td>\n",
       "    </tr>\n",
       "    <tr>\n",
       "      <th>125</th>\n",
       "      <td>revolut</td>\n",
       "      <td>2021-12-01</td>\n",
       "      <td>1343.418328</td>\n",
       "      <td>0.071006</td>\n",
       "      <td>7.75</td>\n",
       "      <td>3.596774</td>\n",
       "      <td>0.000001</td>\n",
       "      <td>0.0</td>\n",
       "      <td>0.0</td>\n",
       "      <td>118468.753881</td>\n",
       "      <td>33013.718587</td>\n",
       "      <td>0</td>\n",
       "      <td>0</td>\n",
       "      <td>1</td>\n",
       "      <td>0</td>\n",
       "      <td>7.202973</td>\n",
       "      <td>-13.815511</td>\n",
       "      <td>10.404678</td>\n",
       "      <td>11.682405</td>\n",
       "    </tr>\n",
       "    <tr>\n",
       "      <th>175</th>\n",
       "      <td>myinvestor</td>\n",
       "      <td>2021-12-01</td>\n",
       "      <td>5319.608623</td>\n",
       "      <td>0.068323</td>\n",
       "      <td>7.00</td>\n",
       "      <td>5.000000</td>\n",
       "      <td>0.000001</td>\n",
       "      <td>0.0</td>\n",
       "      <td>2.0</td>\n",
       "      <td>21063.783047</td>\n",
       "      <td>21353.566383</td>\n",
       "      <td>0</td>\n",
       "      <td>0</td>\n",
       "      <td>0</td>\n",
       "      <td>0</td>\n",
       "      <td>8.579155</td>\n",
       "      <td>-13.815511</td>\n",
       "      <td>9.968974</td>\n",
       "      <td>9.955310</td>\n",
       "    </tr>\n",
       "  </tbody>\n",
       "</table>\n",
       "</div>"
      ],
      "text/plain": [
       "           bank        date    web_traffic  cross_visitation  search_interest  \\\n",
       "25          n26  2021-12-01    8723.148705          0.067204             1.00   \n",
       "121        bbva  2023-09-01  102540.477521          0.192308            56.75   \n",
       "125     revolut  2021-12-01    1343.418328          0.071006             7.75   \n",
       "175  myinvestor  2021-12-01    5319.608623          0.068323             7.00   \n",
       "\n",
       "         rank   incentive  apr  mentions   app_installs     ppc_spend  \\\n",
       "25   7.000000  300.000001  2.0       2.0    7939.828992    781.026447   \n",
       "121  5.000000    0.000001  0.0       2.0  104802.543011  57026.449019   \n",
       "125  3.596774    0.000001  0.0       0.0  118468.753881  33013.718587   \n",
       "175  5.000000    0.000001  0.0       2.0   21063.783047  21353.566383   \n",
       "\n",
       "     has_stores  founded_before_2000  big_employees  big_assets  \\\n",
       "25            0                    0              0           0   \n",
       "121           1                    1              1           1   \n",
       "125           0                    0              1           0   \n",
       "175           0                    0              0           0   \n",
       "\n",
       "     log_web_traffic  log_incentive    log_ppc  log_app_installs  \n",
       "25          9.073736       5.703782   6.660609          8.979647  \n",
       "121        11.538013     -13.815511  10.951270         11.559833  \n",
       "125         7.202973     -13.815511  10.404678         11.682405  \n",
       "175         8.579155     -13.815511   9.968974          9.955310  "
      ]
     },
     "execution_count": 748,
     "metadata": {},
     "output_type": "execute_result"
    }
   ],
   "source": [
    "data.loc[[25, 121, 125, 175]]"
   ]
  },
  {
   "cell_type": "code",
   "execution_count": 749,
   "metadata": {},
   "outputs": [
    {
     "data": {
      "application/vnd.plotly.v1+json": {
       "config": {
        "plotlyServerURL": "https://plot.ly"
       },
       "data": [
        {
         "mode": "lines",
         "name": "Actual - n26",
         "type": "scatter",
         "x": [
          "2021-12-01",
          "2022-01-01",
          "2022-02-01",
          "2022-03-01",
          "2022-04-01",
          "2022-05-01",
          "2022-06-01",
          "2022-07-01",
          "2022-08-01",
          "2022-09-01",
          "2022-10-01",
          "2022-11-01",
          "2022-12-01",
          "2023-01-01",
          "2023-02-01",
          "2023-03-01",
          "2023-04-01",
          "2023-05-01",
          "2023-06-01",
          "2023-07-01",
          "2023-08-01",
          "2023-09-01",
          "2023-10-01",
          "2023-11-01",
          "2023-12-01"
         ],
         "y": [
          9.073735541772841,
          8.992936930861843,
          9.007582456294031,
          8.967134396850923,
          8.967727869767115,
          9.072302613950837,
          9.11408890029264,
          9.101379388717598,
          9.020524104632946,
          8.923643428605418,
          8.966024986026278,
          9.056351824191392,
          8.941809047165298,
          8.811717117205928,
          8.85934225415027,
          8.827262291493224,
          8.86885985771947,
          8.69840132762742,
          8.973747944510022,
          9.46385544829976,
          9.239588730303277,
          8.87762198918584,
          8.930322385231321,
          8.893347250363634,
          9.119759486945485
         ]
        },
        {
         "mode": "lines",
         "name": "Robust Fitted - n26",
         "type": "scatter",
         "x": [
          "2021-12-01",
          "2022-01-01",
          "2022-02-01",
          "2022-03-01",
          "2022-04-01",
          "2022-05-01",
          "2022-06-01",
          "2022-07-01",
          "2022-08-01",
          "2022-09-01",
          "2022-10-01",
          "2022-11-01",
          "2022-12-01",
          "2023-01-01",
          "2023-02-01",
          "2023-03-01",
          "2023-04-01",
          "2023-05-01",
          "2023-06-01",
          "2023-07-01",
          "2023-08-01",
          "2023-09-01",
          "2023-10-01",
          "2023-11-01",
          "2023-12-01"
         ],
         "y": [
          6.344949173268699,
          3.678914008737275,
          3.262914828979537,
          3.353637266195644,
          3.3636285437207873,
          3.226424376225201,
          3.071277654040261,
          3.678940263496942,
          3.7619535013556034,
          3.5810528486020594,
          3.2042588720301963,
          3.262159013561917,
          3.3439006394711783,
          3.404878390379902,
          2.956769731925855,
          3.0861208425635724,
          3.006387075771748,
          2.9904939742258643,
          2.8385250025321387,
          3.5772301884637194,
          4.297711709682965,
          3.9023228333249014,
          3.231251353497897,
          3.3636492859581337,
          3.411861771789127
         ],
         "yaxis": "y2"
        },
        {
         "mode": "lines",
         "name": "Box Cox Fitted - n26",
         "type": "scatter",
         "x": [
          "2021-12-01",
          "2022-01-01",
          "2022-02-01",
          "2022-03-01",
          "2022-04-01",
          "2022-05-01",
          "2022-06-01",
          "2022-07-01",
          "2022-08-01",
          "2022-09-01",
          "2022-10-01",
          "2022-11-01",
          "2022-12-01",
          "2023-01-01",
          "2023-02-01",
          "2023-03-01",
          "2023-04-01",
          "2023-05-01",
          "2023-06-01",
          "2023-07-01",
          "2023-08-01",
          "2023-09-01",
          "2023-10-01",
          "2023-11-01",
          "2023-12-01"
         ],
         "y": [
          6.140103844354611,
          3.8027381386770642,
          3.3023957691452503,
          3.385665039284139,
          3.395405897995456,
          3.2679595762769225,
          3.078647920653222,
          3.672858943699386,
          3.774007171821716,
          3.637286362750313,
          3.224870749154428,
          3.2932856219738755,
          3.3903034970799113,
          3.5235414053589027,
          2.9998263068268956,
          3.1139331950074505,
          3.046873450050917,
          3.052160088725854,
          2.9232674210739718,
          3.662342597823603,
          4.293861225270229,
          3.8940393262189796,
          3.3194489391077857,
          3.447688011254033,
          3.5202735480674807
         ],
         "yaxis": "y2"
        }
       ],
       "layout": {
        "template": {
         "data": {
          "bar": [
           {
            "error_x": {
             "color": "#2a3f5f"
            },
            "error_y": {
             "color": "#2a3f5f"
            },
            "marker": {
             "line": {
              "color": "#E5ECF6",
              "width": 0.5
             },
             "pattern": {
              "fillmode": "overlay",
              "size": 10,
              "solidity": 0.2
             }
            },
            "type": "bar"
           }
          ],
          "barpolar": [
           {
            "marker": {
             "line": {
              "color": "#E5ECF6",
              "width": 0.5
             },
             "pattern": {
              "fillmode": "overlay",
              "size": 10,
              "solidity": 0.2
             }
            },
            "type": "barpolar"
           }
          ],
          "carpet": [
           {
            "aaxis": {
             "endlinecolor": "#2a3f5f",
             "gridcolor": "white",
             "linecolor": "white",
             "minorgridcolor": "white",
             "startlinecolor": "#2a3f5f"
            },
            "baxis": {
             "endlinecolor": "#2a3f5f",
             "gridcolor": "white",
             "linecolor": "white",
             "minorgridcolor": "white",
             "startlinecolor": "#2a3f5f"
            },
            "type": "carpet"
           }
          ],
          "choropleth": [
           {
            "colorbar": {
             "outlinewidth": 0,
             "ticks": ""
            },
            "type": "choropleth"
           }
          ],
          "contour": [
           {
            "colorbar": {
             "outlinewidth": 0,
             "ticks": ""
            },
            "colorscale": [
             [
              0,
              "#0d0887"
             ],
             [
              0.1111111111111111,
              "#46039f"
             ],
             [
              0.2222222222222222,
              "#7201a8"
             ],
             [
              0.3333333333333333,
              "#9c179e"
             ],
             [
              0.4444444444444444,
              "#bd3786"
             ],
             [
              0.5555555555555556,
              "#d8576b"
             ],
             [
              0.6666666666666666,
              "#ed7953"
             ],
             [
              0.7777777777777778,
              "#fb9f3a"
             ],
             [
              0.8888888888888888,
              "#fdca26"
             ],
             [
              1,
              "#f0f921"
             ]
            ],
            "type": "contour"
           }
          ],
          "contourcarpet": [
           {
            "colorbar": {
             "outlinewidth": 0,
             "ticks": ""
            },
            "type": "contourcarpet"
           }
          ],
          "heatmap": [
           {
            "colorbar": {
             "outlinewidth": 0,
             "ticks": ""
            },
            "colorscale": [
             [
              0,
              "#0d0887"
             ],
             [
              0.1111111111111111,
              "#46039f"
             ],
             [
              0.2222222222222222,
              "#7201a8"
             ],
             [
              0.3333333333333333,
              "#9c179e"
             ],
             [
              0.4444444444444444,
              "#bd3786"
             ],
             [
              0.5555555555555556,
              "#d8576b"
             ],
             [
              0.6666666666666666,
              "#ed7953"
             ],
             [
              0.7777777777777778,
              "#fb9f3a"
             ],
             [
              0.8888888888888888,
              "#fdca26"
             ],
             [
              1,
              "#f0f921"
             ]
            ],
            "type": "heatmap"
           }
          ],
          "heatmapgl": [
           {
            "colorbar": {
             "outlinewidth": 0,
             "ticks": ""
            },
            "colorscale": [
             [
              0,
              "#0d0887"
             ],
             [
              0.1111111111111111,
              "#46039f"
             ],
             [
              0.2222222222222222,
              "#7201a8"
             ],
             [
              0.3333333333333333,
              "#9c179e"
             ],
             [
              0.4444444444444444,
              "#bd3786"
             ],
             [
              0.5555555555555556,
              "#d8576b"
             ],
             [
              0.6666666666666666,
              "#ed7953"
             ],
             [
              0.7777777777777778,
              "#fb9f3a"
             ],
             [
              0.8888888888888888,
              "#fdca26"
             ],
             [
              1,
              "#f0f921"
             ]
            ],
            "type": "heatmapgl"
           }
          ],
          "histogram": [
           {
            "marker": {
             "pattern": {
              "fillmode": "overlay",
              "size": 10,
              "solidity": 0.2
             }
            },
            "type": "histogram"
           }
          ],
          "histogram2d": [
           {
            "colorbar": {
             "outlinewidth": 0,
             "ticks": ""
            },
            "colorscale": [
             [
              0,
              "#0d0887"
             ],
             [
              0.1111111111111111,
              "#46039f"
             ],
             [
              0.2222222222222222,
              "#7201a8"
             ],
             [
              0.3333333333333333,
              "#9c179e"
             ],
             [
              0.4444444444444444,
              "#bd3786"
             ],
             [
              0.5555555555555556,
              "#d8576b"
             ],
             [
              0.6666666666666666,
              "#ed7953"
             ],
             [
              0.7777777777777778,
              "#fb9f3a"
             ],
             [
              0.8888888888888888,
              "#fdca26"
             ],
             [
              1,
              "#f0f921"
             ]
            ],
            "type": "histogram2d"
           }
          ],
          "histogram2dcontour": [
           {
            "colorbar": {
             "outlinewidth": 0,
             "ticks": ""
            },
            "colorscale": [
             [
              0,
              "#0d0887"
             ],
             [
              0.1111111111111111,
              "#46039f"
             ],
             [
              0.2222222222222222,
              "#7201a8"
             ],
             [
              0.3333333333333333,
              "#9c179e"
             ],
             [
              0.4444444444444444,
              "#bd3786"
             ],
             [
              0.5555555555555556,
              "#d8576b"
             ],
             [
              0.6666666666666666,
              "#ed7953"
             ],
             [
              0.7777777777777778,
              "#fb9f3a"
             ],
             [
              0.8888888888888888,
              "#fdca26"
             ],
             [
              1,
              "#f0f921"
             ]
            ],
            "type": "histogram2dcontour"
           }
          ],
          "mesh3d": [
           {
            "colorbar": {
             "outlinewidth": 0,
             "ticks": ""
            },
            "type": "mesh3d"
           }
          ],
          "parcoords": [
           {
            "line": {
             "colorbar": {
              "outlinewidth": 0,
              "ticks": ""
             }
            },
            "type": "parcoords"
           }
          ],
          "pie": [
           {
            "automargin": true,
            "type": "pie"
           }
          ],
          "scatter": [
           {
            "fillpattern": {
             "fillmode": "overlay",
             "size": 10,
             "solidity": 0.2
            },
            "type": "scatter"
           }
          ],
          "scatter3d": [
           {
            "line": {
             "colorbar": {
              "outlinewidth": 0,
              "ticks": ""
             }
            },
            "marker": {
             "colorbar": {
              "outlinewidth": 0,
              "ticks": ""
             }
            },
            "type": "scatter3d"
           }
          ],
          "scattercarpet": [
           {
            "marker": {
             "colorbar": {
              "outlinewidth": 0,
              "ticks": ""
             }
            },
            "type": "scattercarpet"
           }
          ],
          "scattergeo": [
           {
            "marker": {
             "colorbar": {
              "outlinewidth": 0,
              "ticks": ""
             }
            },
            "type": "scattergeo"
           }
          ],
          "scattergl": [
           {
            "marker": {
             "colorbar": {
              "outlinewidth": 0,
              "ticks": ""
             }
            },
            "type": "scattergl"
           }
          ],
          "scattermapbox": [
           {
            "marker": {
             "colorbar": {
              "outlinewidth": 0,
              "ticks": ""
             }
            },
            "type": "scattermapbox"
           }
          ],
          "scatterpolar": [
           {
            "marker": {
             "colorbar": {
              "outlinewidth": 0,
              "ticks": ""
             }
            },
            "type": "scatterpolar"
           }
          ],
          "scatterpolargl": [
           {
            "marker": {
             "colorbar": {
              "outlinewidth": 0,
              "ticks": ""
             }
            },
            "type": "scatterpolargl"
           }
          ],
          "scatterternary": [
           {
            "marker": {
             "colorbar": {
              "outlinewidth": 0,
              "ticks": ""
             }
            },
            "type": "scatterternary"
           }
          ],
          "surface": [
           {
            "colorbar": {
             "outlinewidth": 0,
             "ticks": ""
            },
            "colorscale": [
             [
              0,
              "#0d0887"
             ],
             [
              0.1111111111111111,
              "#46039f"
             ],
             [
              0.2222222222222222,
              "#7201a8"
             ],
             [
              0.3333333333333333,
              "#9c179e"
             ],
             [
              0.4444444444444444,
              "#bd3786"
             ],
             [
              0.5555555555555556,
              "#d8576b"
             ],
             [
              0.6666666666666666,
              "#ed7953"
             ],
             [
              0.7777777777777778,
              "#fb9f3a"
             ],
             [
              0.8888888888888888,
              "#fdca26"
             ],
             [
              1,
              "#f0f921"
             ]
            ],
            "type": "surface"
           }
          ],
          "table": [
           {
            "cells": {
             "fill": {
              "color": "#EBF0F8"
             },
             "line": {
              "color": "white"
             }
            },
            "header": {
             "fill": {
              "color": "#C8D4E3"
             },
             "line": {
              "color": "white"
             }
            },
            "type": "table"
           }
          ]
         },
         "layout": {
          "annotationdefaults": {
           "arrowcolor": "#2a3f5f",
           "arrowhead": 0,
           "arrowwidth": 1
          },
          "autotypenumbers": "strict",
          "coloraxis": {
           "colorbar": {
            "outlinewidth": 0,
            "ticks": ""
           }
          },
          "colorscale": {
           "diverging": [
            [
             0,
             "#8e0152"
            ],
            [
             0.1,
             "#c51b7d"
            ],
            [
             0.2,
             "#de77ae"
            ],
            [
             0.3,
             "#f1b6da"
            ],
            [
             0.4,
             "#fde0ef"
            ],
            [
             0.5,
             "#f7f7f7"
            ],
            [
             0.6,
             "#e6f5d0"
            ],
            [
             0.7,
             "#b8e186"
            ],
            [
             0.8,
             "#7fbc41"
            ],
            [
             0.9,
             "#4d9221"
            ],
            [
             1,
             "#276419"
            ]
           ],
           "sequential": [
            [
             0,
             "#0d0887"
            ],
            [
             0.1111111111111111,
             "#46039f"
            ],
            [
             0.2222222222222222,
             "#7201a8"
            ],
            [
             0.3333333333333333,
             "#9c179e"
            ],
            [
             0.4444444444444444,
             "#bd3786"
            ],
            [
             0.5555555555555556,
             "#d8576b"
            ],
            [
             0.6666666666666666,
             "#ed7953"
            ],
            [
             0.7777777777777778,
             "#fb9f3a"
            ],
            [
             0.8888888888888888,
             "#fdca26"
            ],
            [
             1,
             "#f0f921"
            ]
           ],
           "sequentialminus": [
            [
             0,
             "#0d0887"
            ],
            [
             0.1111111111111111,
             "#46039f"
            ],
            [
             0.2222222222222222,
             "#7201a8"
            ],
            [
             0.3333333333333333,
             "#9c179e"
            ],
            [
             0.4444444444444444,
             "#bd3786"
            ],
            [
             0.5555555555555556,
             "#d8576b"
            ],
            [
             0.6666666666666666,
             "#ed7953"
            ],
            [
             0.7777777777777778,
             "#fb9f3a"
            ],
            [
             0.8888888888888888,
             "#fdca26"
            ],
            [
             1,
             "#f0f921"
            ]
           ]
          },
          "colorway": [
           "#636efa",
           "#EF553B",
           "#00cc96",
           "#ab63fa",
           "#FFA15A",
           "#19d3f3",
           "#FF6692",
           "#B6E880",
           "#FF97FF",
           "#FECB52"
          ],
          "font": {
           "color": "#2a3f5f"
          },
          "geo": {
           "bgcolor": "white",
           "lakecolor": "white",
           "landcolor": "#E5ECF6",
           "showlakes": true,
           "showland": true,
           "subunitcolor": "white"
          },
          "hoverlabel": {
           "align": "left"
          },
          "hovermode": "closest",
          "mapbox": {
           "style": "light"
          },
          "paper_bgcolor": "white",
          "plot_bgcolor": "#E5ECF6",
          "polar": {
           "angularaxis": {
            "gridcolor": "white",
            "linecolor": "white",
            "ticks": ""
           },
           "bgcolor": "#E5ECF6",
           "radialaxis": {
            "gridcolor": "white",
            "linecolor": "white",
            "ticks": ""
           }
          },
          "scene": {
           "xaxis": {
            "backgroundcolor": "#E5ECF6",
            "gridcolor": "white",
            "gridwidth": 2,
            "linecolor": "white",
            "showbackground": true,
            "ticks": "",
            "zerolinecolor": "white"
           },
           "yaxis": {
            "backgroundcolor": "#E5ECF6",
            "gridcolor": "white",
            "gridwidth": 2,
            "linecolor": "white",
            "showbackground": true,
            "ticks": "",
            "zerolinecolor": "white"
           },
           "zaxis": {
            "backgroundcolor": "#E5ECF6",
            "gridcolor": "white",
            "gridwidth": 2,
            "linecolor": "white",
            "showbackground": true,
            "ticks": "",
            "zerolinecolor": "white"
           }
          },
          "shapedefaults": {
           "line": {
            "color": "#2a3f5f"
           }
          },
          "ternary": {
           "aaxis": {
            "gridcolor": "white",
            "linecolor": "white",
            "ticks": ""
           },
           "baxis": {
            "gridcolor": "white",
            "linecolor": "white",
            "ticks": ""
           },
           "bgcolor": "#E5ECF6",
           "caxis": {
            "gridcolor": "white",
            "linecolor": "white",
            "ticks": ""
           }
          },
          "title": {
           "x": 0.05
          },
          "xaxis": {
           "automargin": true,
           "gridcolor": "white",
           "linecolor": "white",
           "ticks": "",
           "title": {
            "standoff": 15
           },
           "zerolinecolor": "white",
           "zerolinewidth": 2
          },
          "yaxis": {
           "automargin": true,
           "gridcolor": "white",
           "linecolor": "white",
           "ticks": "",
           "title": {
            "standoff": 15
           },
           "zerolinecolor": "white",
           "zerolinewidth": 2
          }
         }
        },
        "title": {
         "text": "Actual vs Fitted Values - n26"
        },
        "yaxis": {
         "showgrid": false,
         "side": "left",
         "title": {
          "text": "Actual Values"
         }
        },
        "yaxis2": {
         "overlaying": "y",
         "showgrid": false,
         "side": "right",
         "title": {
          "text": "Fitted Values"
         }
        }
       }
      }
     },
     "metadata": {},
     "output_type": "display_data"
    },
    {
     "data": {
      "application/vnd.plotly.v1+json": {
       "config": {
        "plotlyServerURL": "https://plot.ly"
       },
       "data": [
        {
         "mode": "lines",
         "name": "Actual - bbva",
         "type": "scatter",
         "x": [
          "2021-12-01",
          "2022-01-01",
          "2022-02-01",
          "2022-03-01",
          "2022-04-01",
          "2022-05-01",
          "2022-06-01",
          "2022-07-01",
          "2022-08-01",
          "2022-09-01",
          "2022-10-01",
          "2022-11-01",
          "2022-12-01",
          "2023-01-01",
          "2023-02-01",
          "2023-03-01",
          "2023-04-01",
          "2023-05-01",
          "2023-06-01",
          "2023-07-01",
          "2023-08-01",
          "2023-09-01",
          "2023-10-01",
          "2023-11-01",
          "2023-12-01"
         ],
         "y": [
          10.724356807716113,
          10.553373959425862,
          10.620798567407247,
          10.691275271179885,
          10.616007168767494,
          10.701889366513353,
          10.28737859294603,
          10.801925122609035,
          10.799680029267066,
          10.516580616239894,
          10.710596536313409,
          10.505111145930174,
          10.636144559968152,
          10.469397587650906,
          10.227814406551849,
          10.293947932482357,
          10.195281052993804,
          10.414137911249158,
          10.407365245996319,
          10.596759068770806,
          10.424900666304309,
          11.538012902249928,
          10.182087625295473,
          10.399683673111777,
          10.297552917683003
         ]
        },
        {
         "mode": "lines",
         "name": "Robust Fitted - bbva",
         "type": "scatter",
         "x": [
          "2021-12-01",
          "2022-01-01",
          "2022-02-01",
          "2022-03-01",
          "2022-04-01",
          "2022-05-01",
          "2022-06-01",
          "2022-07-01",
          "2022-08-01",
          "2022-09-01",
          "2022-10-01",
          "2022-11-01",
          "2022-12-01",
          "2023-01-01",
          "2023-02-01",
          "2023-03-01",
          "2023-04-01",
          "2023-05-01",
          "2023-06-01",
          "2023-07-01",
          "2023-08-01",
          "2023-09-01",
          "2023-10-01",
          "2023-11-01",
          "2023-12-01"
         ],
         "y": [
          4.679298264701277,
          6.572977619290562,
          6.101183057784753,
          6.308080413643553,
          6.5455538466371355,
          6.388198897507628,
          6.613029390425548,
          5.949528456193523,
          6.681861788739782,
          6.720594756371106,
          6.2573784622493855,
          6.610009104374319,
          6.322202752327589,
          6.794855610120349,
          6.269296857431343,
          5.8854734077081785,
          5.866434120606586,
          5.805092223689913,
          6.1491045200254035,
          6.220733009652617,
          6.442596576071533,
          6.215042264891761,
          7.918846394625453,
          5.6743095730159405,
          6.028410644163877
         ],
         "yaxis": "y2"
        },
        {
         "mode": "lines",
         "name": "Box Cox Fitted - bbva",
         "type": "scatter",
         "x": [
          "2021-12-01",
          "2022-01-01",
          "2022-02-01",
          "2022-03-01",
          "2022-04-01",
          "2022-05-01",
          "2022-06-01",
          "2022-07-01",
          "2022-08-01",
          "2022-09-01",
          "2022-10-01",
          "2022-11-01",
          "2022-12-01",
          "2023-01-01",
          "2023-02-01",
          "2023-03-01",
          "2023-04-01",
          "2023-05-01",
          "2023-06-01",
          "2023-07-01",
          "2023-08-01",
          "2023-09-01",
          "2023-10-01",
          "2023-11-01",
          "2023-12-01"
         ],
         "y": [
          4.860582054202692,
          6.578889211030936,
          6.166918051593809,
          6.307716186887314,
          6.522680708926279,
          6.370095823119008,
          6.578354583836497,
          5.982734803544918,
          6.6399877390893405,
          6.683661623512043,
          6.238242321691704,
          6.5732480570650615,
          6.340014908594424,
          6.8482923204052435,
          6.290809865489695,
          5.910362055603606,
          5.881073541292065,
          5.873018914242166,
          6.15884115188303,
          6.258523928109613,
          6.416409764186095,
          6.273255228822133,
          7.83167939008572,
          5.746229806593751,
          6.037518503261824
         ],
         "yaxis": "y2"
        }
       ],
       "layout": {
        "template": {
         "data": {
          "bar": [
           {
            "error_x": {
             "color": "#2a3f5f"
            },
            "error_y": {
             "color": "#2a3f5f"
            },
            "marker": {
             "line": {
              "color": "#E5ECF6",
              "width": 0.5
             },
             "pattern": {
              "fillmode": "overlay",
              "size": 10,
              "solidity": 0.2
             }
            },
            "type": "bar"
           }
          ],
          "barpolar": [
           {
            "marker": {
             "line": {
              "color": "#E5ECF6",
              "width": 0.5
             },
             "pattern": {
              "fillmode": "overlay",
              "size": 10,
              "solidity": 0.2
             }
            },
            "type": "barpolar"
           }
          ],
          "carpet": [
           {
            "aaxis": {
             "endlinecolor": "#2a3f5f",
             "gridcolor": "white",
             "linecolor": "white",
             "minorgridcolor": "white",
             "startlinecolor": "#2a3f5f"
            },
            "baxis": {
             "endlinecolor": "#2a3f5f",
             "gridcolor": "white",
             "linecolor": "white",
             "minorgridcolor": "white",
             "startlinecolor": "#2a3f5f"
            },
            "type": "carpet"
           }
          ],
          "choropleth": [
           {
            "colorbar": {
             "outlinewidth": 0,
             "ticks": ""
            },
            "type": "choropleth"
           }
          ],
          "contour": [
           {
            "colorbar": {
             "outlinewidth": 0,
             "ticks": ""
            },
            "colorscale": [
             [
              0,
              "#0d0887"
             ],
             [
              0.1111111111111111,
              "#46039f"
             ],
             [
              0.2222222222222222,
              "#7201a8"
             ],
             [
              0.3333333333333333,
              "#9c179e"
             ],
             [
              0.4444444444444444,
              "#bd3786"
             ],
             [
              0.5555555555555556,
              "#d8576b"
             ],
             [
              0.6666666666666666,
              "#ed7953"
             ],
             [
              0.7777777777777778,
              "#fb9f3a"
             ],
             [
              0.8888888888888888,
              "#fdca26"
             ],
             [
              1,
              "#f0f921"
             ]
            ],
            "type": "contour"
           }
          ],
          "contourcarpet": [
           {
            "colorbar": {
             "outlinewidth": 0,
             "ticks": ""
            },
            "type": "contourcarpet"
           }
          ],
          "heatmap": [
           {
            "colorbar": {
             "outlinewidth": 0,
             "ticks": ""
            },
            "colorscale": [
             [
              0,
              "#0d0887"
             ],
             [
              0.1111111111111111,
              "#46039f"
             ],
             [
              0.2222222222222222,
              "#7201a8"
             ],
             [
              0.3333333333333333,
              "#9c179e"
             ],
             [
              0.4444444444444444,
              "#bd3786"
             ],
             [
              0.5555555555555556,
              "#d8576b"
             ],
             [
              0.6666666666666666,
              "#ed7953"
             ],
             [
              0.7777777777777778,
              "#fb9f3a"
             ],
             [
              0.8888888888888888,
              "#fdca26"
             ],
             [
              1,
              "#f0f921"
             ]
            ],
            "type": "heatmap"
           }
          ],
          "heatmapgl": [
           {
            "colorbar": {
             "outlinewidth": 0,
             "ticks": ""
            },
            "colorscale": [
             [
              0,
              "#0d0887"
             ],
             [
              0.1111111111111111,
              "#46039f"
             ],
             [
              0.2222222222222222,
              "#7201a8"
             ],
             [
              0.3333333333333333,
              "#9c179e"
             ],
             [
              0.4444444444444444,
              "#bd3786"
             ],
             [
              0.5555555555555556,
              "#d8576b"
             ],
             [
              0.6666666666666666,
              "#ed7953"
             ],
             [
              0.7777777777777778,
              "#fb9f3a"
             ],
             [
              0.8888888888888888,
              "#fdca26"
             ],
             [
              1,
              "#f0f921"
             ]
            ],
            "type": "heatmapgl"
           }
          ],
          "histogram": [
           {
            "marker": {
             "pattern": {
              "fillmode": "overlay",
              "size": 10,
              "solidity": 0.2
             }
            },
            "type": "histogram"
           }
          ],
          "histogram2d": [
           {
            "colorbar": {
             "outlinewidth": 0,
             "ticks": ""
            },
            "colorscale": [
             [
              0,
              "#0d0887"
             ],
             [
              0.1111111111111111,
              "#46039f"
             ],
             [
              0.2222222222222222,
              "#7201a8"
             ],
             [
              0.3333333333333333,
              "#9c179e"
             ],
             [
              0.4444444444444444,
              "#bd3786"
             ],
             [
              0.5555555555555556,
              "#d8576b"
             ],
             [
              0.6666666666666666,
              "#ed7953"
             ],
             [
              0.7777777777777778,
              "#fb9f3a"
             ],
             [
              0.8888888888888888,
              "#fdca26"
             ],
             [
              1,
              "#f0f921"
             ]
            ],
            "type": "histogram2d"
           }
          ],
          "histogram2dcontour": [
           {
            "colorbar": {
             "outlinewidth": 0,
             "ticks": ""
            },
            "colorscale": [
             [
              0,
              "#0d0887"
             ],
             [
              0.1111111111111111,
              "#46039f"
             ],
             [
              0.2222222222222222,
              "#7201a8"
             ],
             [
              0.3333333333333333,
              "#9c179e"
             ],
             [
              0.4444444444444444,
              "#bd3786"
             ],
             [
              0.5555555555555556,
              "#d8576b"
             ],
             [
              0.6666666666666666,
              "#ed7953"
             ],
             [
              0.7777777777777778,
              "#fb9f3a"
             ],
             [
              0.8888888888888888,
              "#fdca26"
             ],
             [
              1,
              "#f0f921"
             ]
            ],
            "type": "histogram2dcontour"
           }
          ],
          "mesh3d": [
           {
            "colorbar": {
             "outlinewidth": 0,
             "ticks": ""
            },
            "type": "mesh3d"
           }
          ],
          "parcoords": [
           {
            "line": {
             "colorbar": {
              "outlinewidth": 0,
              "ticks": ""
             }
            },
            "type": "parcoords"
           }
          ],
          "pie": [
           {
            "automargin": true,
            "type": "pie"
           }
          ],
          "scatter": [
           {
            "fillpattern": {
             "fillmode": "overlay",
             "size": 10,
             "solidity": 0.2
            },
            "type": "scatter"
           }
          ],
          "scatter3d": [
           {
            "line": {
             "colorbar": {
              "outlinewidth": 0,
              "ticks": ""
             }
            },
            "marker": {
             "colorbar": {
              "outlinewidth": 0,
              "ticks": ""
             }
            },
            "type": "scatter3d"
           }
          ],
          "scattercarpet": [
           {
            "marker": {
             "colorbar": {
              "outlinewidth": 0,
              "ticks": ""
             }
            },
            "type": "scattercarpet"
           }
          ],
          "scattergeo": [
           {
            "marker": {
             "colorbar": {
              "outlinewidth": 0,
              "ticks": ""
             }
            },
            "type": "scattergeo"
           }
          ],
          "scattergl": [
           {
            "marker": {
             "colorbar": {
              "outlinewidth": 0,
              "ticks": ""
             }
            },
            "type": "scattergl"
           }
          ],
          "scattermapbox": [
           {
            "marker": {
             "colorbar": {
              "outlinewidth": 0,
              "ticks": ""
             }
            },
            "type": "scattermapbox"
           }
          ],
          "scatterpolar": [
           {
            "marker": {
             "colorbar": {
              "outlinewidth": 0,
              "ticks": ""
             }
            },
            "type": "scatterpolar"
           }
          ],
          "scatterpolargl": [
           {
            "marker": {
             "colorbar": {
              "outlinewidth": 0,
              "ticks": ""
             }
            },
            "type": "scatterpolargl"
           }
          ],
          "scatterternary": [
           {
            "marker": {
             "colorbar": {
              "outlinewidth": 0,
              "ticks": ""
             }
            },
            "type": "scatterternary"
           }
          ],
          "surface": [
           {
            "colorbar": {
             "outlinewidth": 0,
             "ticks": ""
            },
            "colorscale": [
             [
              0,
              "#0d0887"
             ],
             [
              0.1111111111111111,
              "#46039f"
             ],
             [
              0.2222222222222222,
              "#7201a8"
             ],
             [
              0.3333333333333333,
              "#9c179e"
             ],
             [
              0.4444444444444444,
              "#bd3786"
             ],
             [
              0.5555555555555556,
              "#d8576b"
             ],
             [
              0.6666666666666666,
              "#ed7953"
             ],
             [
              0.7777777777777778,
              "#fb9f3a"
             ],
             [
              0.8888888888888888,
              "#fdca26"
             ],
             [
              1,
              "#f0f921"
             ]
            ],
            "type": "surface"
           }
          ],
          "table": [
           {
            "cells": {
             "fill": {
              "color": "#EBF0F8"
             },
             "line": {
              "color": "white"
             }
            },
            "header": {
             "fill": {
              "color": "#C8D4E3"
             },
             "line": {
              "color": "white"
             }
            },
            "type": "table"
           }
          ]
         },
         "layout": {
          "annotationdefaults": {
           "arrowcolor": "#2a3f5f",
           "arrowhead": 0,
           "arrowwidth": 1
          },
          "autotypenumbers": "strict",
          "coloraxis": {
           "colorbar": {
            "outlinewidth": 0,
            "ticks": ""
           }
          },
          "colorscale": {
           "diverging": [
            [
             0,
             "#8e0152"
            ],
            [
             0.1,
             "#c51b7d"
            ],
            [
             0.2,
             "#de77ae"
            ],
            [
             0.3,
             "#f1b6da"
            ],
            [
             0.4,
             "#fde0ef"
            ],
            [
             0.5,
             "#f7f7f7"
            ],
            [
             0.6,
             "#e6f5d0"
            ],
            [
             0.7,
             "#b8e186"
            ],
            [
             0.8,
             "#7fbc41"
            ],
            [
             0.9,
             "#4d9221"
            ],
            [
             1,
             "#276419"
            ]
           ],
           "sequential": [
            [
             0,
             "#0d0887"
            ],
            [
             0.1111111111111111,
             "#46039f"
            ],
            [
             0.2222222222222222,
             "#7201a8"
            ],
            [
             0.3333333333333333,
             "#9c179e"
            ],
            [
             0.4444444444444444,
             "#bd3786"
            ],
            [
             0.5555555555555556,
             "#d8576b"
            ],
            [
             0.6666666666666666,
             "#ed7953"
            ],
            [
             0.7777777777777778,
             "#fb9f3a"
            ],
            [
             0.8888888888888888,
             "#fdca26"
            ],
            [
             1,
             "#f0f921"
            ]
           ],
           "sequentialminus": [
            [
             0,
             "#0d0887"
            ],
            [
             0.1111111111111111,
             "#46039f"
            ],
            [
             0.2222222222222222,
             "#7201a8"
            ],
            [
             0.3333333333333333,
             "#9c179e"
            ],
            [
             0.4444444444444444,
             "#bd3786"
            ],
            [
             0.5555555555555556,
             "#d8576b"
            ],
            [
             0.6666666666666666,
             "#ed7953"
            ],
            [
             0.7777777777777778,
             "#fb9f3a"
            ],
            [
             0.8888888888888888,
             "#fdca26"
            ],
            [
             1,
             "#f0f921"
            ]
           ]
          },
          "colorway": [
           "#636efa",
           "#EF553B",
           "#00cc96",
           "#ab63fa",
           "#FFA15A",
           "#19d3f3",
           "#FF6692",
           "#B6E880",
           "#FF97FF",
           "#FECB52"
          ],
          "font": {
           "color": "#2a3f5f"
          },
          "geo": {
           "bgcolor": "white",
           "lakecolor": "white",
           "landcolor": "#E5ECF6",
           "showlakes": true,
           "showland": true,
           "subunitcolor": "white"
          },
          "hoverlabel": {
           "align": "left"
          },
          "hovermode": "closest",
          "mapbox": {
           "style": "light"
          },
          "paper_bgcolor": "white",
          "plot_bgcolor": "#E5ECF6",
          "polar": {
           "angularaxis": {
            "gridcolor": "white",
            "linecolor": "white",
            "ticks": ""
           },
           "bgcolor": "#E5ECF6",
           "radialaxis": {
            "gridcolor": "white",
            "linecolor": "white",
            "ticks": ""
           }
          },
          "scene": {
           "xaxis": {
            "backgroundcolor": "#E5ECF6",
            "gridcolor": "white",
            "gridwidth": 2,
            "linecolor": "white",
            "showbackground": true,
            "ticks": "",
            "zerolinecolor": "white"
           },
           "yaxis": {
            "backgroundcolor": "#E5ECF6",
            "gridcolor": "white",
            "gridwidth": 2,
            "linecolor": "white",
            "showbackground": true,
            "ticks": "",
            "zerolinecolor": "white"
           },
           "zaxis": {
            "backgroundcolor": "#E5ECF6",
            "gridcolor": "white",
            "gridwidth": 2,
            "linecolor": "white",
            "showbackground": true,
            "ticks": "",
            "zerolinecolor": "white"
           }
          },
          "shapedefaults": {
           "line": {
            "color": "#2a3f5f"
           }
          },
          "ternary": {
           "aaxis": {
            "gridcolor": "white",
            "linecolor": "white",
            "ticks": ""
           },
           "baxis": {
            "gridcolor": "white",
            "linecolor": "white",
            "ticks": ""
           },
           "bgcolor": "#E5ECF6",
           "caxis": {
            "gridcolor": "white",
            "linecolor": "white",
            "ticks": ""
           }
          },
          "title": {
           "x": 0.05
          },
          "xaxis": {
           "automargin": true,
           "gridcolor": "white",
           "linecolor": "white",
           "ticks": "",
           "title": {
            "standoff": 15
           },
           "zerolinecolor": "white",
           "zerolinewidth": 2
          },
          "yaxis": {
           "automargin": true,
           "gridcolor": "white",
           "linecolor": "white",
           "ticks": "",
           "title": {
            "standoff": 15
           },
           "zerolinecolor": "white",
           "zerolinewidth": 2
          }
         }
        },
        "title": {
         "text": "Actual vs Fitted Values - bbva"
        },
        "yaxis": {
         "showgrid": false,
         "side": "left",
         "title": {
          "text": "Actual Values"
         }
        },
        "yaxis2": {
         "overlaying": "y",
         "showgrid": false,
         "side": "right",
         "title": {
          "text": "Fitted Values"
         }
        }
       }
      }
     },
     "metadata": {},
     "output_type": "display_data"
    },
    {
     "data": {
      "application/vnd.plotly.v1+json": {
       "config": {
        "plotlyServerURL": "https://plot.ly"
       },
       "data": [
        {
         "mode": "lines",
         "name": "Actual - revolut",
         "type": "scatter",
         "x": [
          "2021-12-01",
          "2022-01-01",
          "2022-02-01",
          "2022-03-01",
          "2022-04-01",
          "2022-05-01",
          "2022-06-01",
          "2022-07-01",
          "2022-08-01",
          "2022-09-01",
          "2022-10-01",
          "2022-11-01",
          "2022-12-01",
          "2023-01-01",
          "2023-02-01",
          "2023-03-01",
          "2023-04-01",
          "2023-05-01",
          "2023-06-01",
          "2023-07-01",
          "2023-08-01",
          "2023-09-01",
          "2023-10-01",
          "2023-11-01",
          "2023-12-01"
         ],
         "y": [
          7.202972635364434,
          7.333687369228444,
          7.173645057665085,
          7.007764017265729,
          6.9285071743576925,
          7.40745202511479,
          7.1398057675078475,
          7.898254917634676,
          8.434329092925395,
          9.108617290361567,
          8.773868085634387,
          9.039462897013266,
          8.645837304750083,
          8.979109720723038,
          8.946587434433571,
          8.80025214963093,
          8.409878995051228,
          8.853585822013503,
          8.631995893264651,
          9.206843949523979,
          9.707799659599154,
          9.15092449460319,
          9.115461818024134,
          8.9691783963518,
          9.071137558039183
         ]
        },
        {
         "mode": "lines",
         "name": "Robust Fitted - revolut",
         "type": "scatter",
         "x": [
          "2021-12-01",
          "2022-01-01",
          "2022-02-01",
          "2022-03-01",
          "2022-04-01",
          "2022-05-01",
          "2022-06-01",
          "2022-07-01",
          "2022-08-01",
          "2022-09-01",
          "2022-10-01",
          "2022-11-01",
          "2022-12-01",
          "2023-01-01",
          "2023-02-01",
          "2023-03-01",
          "2023-04-01",
          "2023-05-01",
          "2023-06-01",
          "2023-07-01",
          "2023-08-01",
          "2023-09-01",
          "2023-10-01",
          "2023-11-01",
          "2023-12-01"
         ],
         "y": [
          5.564317854326739,
          0.9761483240962595,
          0.8814955690239547,
          0.6358110047815697,
          0.2296928712051595,
          0.17464684766394042,
          1.0255032737708807,
          0.6253334822534421,
          1.6188052234287025,
          2.058451193033932,
          3.489189213260091,
          2.9472081883729184,
          3.3184172530655305,
          3.054674099991491,
          3.333568135910168,
          3.3076086995750162,
          2.8844528886411425,
          2.3069246614046537,
          2.9737187158002585,
          2.800525472796842,
          3.733695743934941,
          4.389328252636423,
          3.5844169230369203,
          3.828741242785106,
          3.480548548077295
         ],
         "yaxis": "y2"
        },
        {
         "mode": "lines",
         "name": "Box Cox Fitted - revolut",
         "type": "scatter",
         "x": [
          "2021-12-01",
          "2022-01-01",
          "2022-02-01",
          "2022-03-01",
          "2022-04-01",
          "2022-05-01",
          "2022-06-01",
          "2022-07-01",
          "2022-08-01",
          "2022-09-01",
          "2022-10-01",
          "2022-11-01",
          "2022-12-01",
          "2023-01-01",
          "2023-02-01",
          "2023-03-01",
          "2023-04-01",
          "2023-05-01",
          "2023-06-01",
          "2023-07-01",
          "2023-08-01",
          "2023-09-01",
          "2023-10-01",
          "2023-11-01",
          "2023-12-01"
         ],
         "y": [
          5.355222810551257,
          1.2088600325701917,
          1.0407497437454345,
          0.8197765622795393,
          0.45153173209980274,
          0.40975567494455983,
          1.2157547426585211,
          0.8591506524031961,
          1.7709520838341983,
          2.066095949265588,
          3.431302520513125,
          2.956048900463176,
          3.2715254868328807,
          3.114661414301474,
          3.33349836250874,
          3.2807259339342205,
          2.848343715403528,
          2.325231632066178,
          2.9471816767099375,
          2.822390917853302,
          3.6950383747918383,
          4.251350521184804,
          3.5513605412847284,
          3.82243780667524,
          3.509862337932538
         ],
         "yaxis": "y2"
        }
       ],
       "layout": {
        "template": {
         "data": {
          "bar": [
           {
            "error_x": {
             "color": "#2a3f5f"
            },
            "error_y": {
             "color": "#2a3f5f"
            },
            "marker": {
             "line": {
              "color": "#E5ECF6",
              "width": 0.5
             },
             "pattern": {
              "fillmode": "overlay",
              "size": 10,
              "solidity": 0.2
             }
            },
            "type": "bar"
           }
          ],
          "barpolar": [
           {
            "marker": {
             "line": {
              "color": "#E5ECF6",
              "width": 0.5
             },
             "pattern": {
              "fillmode": "overlay",
              "size": 10,
              "solidity": 0.2
             }
            },
            "type": "barpolar"
           }
          ],
          "carpet": [
           {
            "aaxis": {
             "endlinecolor": "#2a3f5f",
             "gridcolor": "white",
             "linecolor": "white",
             "minorgridcolor": "white",
             "startlinecolor": "#2a3f5f"
            },
            "baxis": {
             "endlinecolor": "#2a3f5f",
             "gridcolor": "white",
             "linecolor": "white",
             "minorgridcolor": "white",
             "startlinecolor": "#2a3f5f"
            },
            "type": "carpet"
           }
          ],
          "choropleth": [
           {
            "colorbar": {
             "outlinewidth": 0,
             "ticks": ""
            },
            "type": "choropleth"
           }
          ],
          "contour": [
           {
            "colorbar": {
             "outlinewidth": 0,
             "ticks": ""
            },
            "colorscale": [
             [
              0,
              "#0d0887"
             ],
             [
              0.1111111111111111,
              "#46039f"
             ],
             [
              0.2222222222222222,
              "#7201a8"
             ],
             [
              0.3333333333333333,
              "#9c179e"
             ],
             [
              0.4444444444444444,
              "#bd3786"
             ],
             [
              0.5555555555555556,
              "#d8576b"
             ],
             [
              0.6666666666666666,
              "#ed7953"
             ],
             [
              0.7777777777777778,
              "#fb9f3a"
             ],
             [
              0.8888888888888888,
              "#fdca26"
             ],
             [
              1,
              "#f0f921"
             ]
            ],
            "type": "contour"
           }
          ],
          "contourcarpet": [
           {
            "colorbar": {
             "outlinewidth": 0,
             "ticks": ""
            },
            "type": "contourcarpet"
           }
          ],
          "heatmap": [
           {
            "colorbar": {
             "outlinewidth": 0,
             "ticks": ""
            },
            "colorscale": [
             [
              0,
              "#0d0887"
             ],
             [
              0.1111111111111111,
              "#46039f"
             ],
             [
              0.2222222222222222,
              "#7201a8"
             ],
             [
              0.3333333333333333,
              "#9c179e"
             ],
             [
              0.4444444444444444,
              "#bd3786"
             ],
             [
              0.5555555555555556,
              "#d8576b"
             ],
             [
              0.6666666666666666,
              "#ed7953"
             ],
             [
              0.7777777777777778,
              "#fb9f3a"
             ],
             [
              0.8888888888888888,
              "#fdca26"
             ],
             [
              1,
              "#f0f921"
             ]
            ],
            "type": "heatmap"
           }
          ],
          "heatmapgl": [
           {
            "colorbar": {
             "outlinewidth": 0,
             "ticks": ""
            },
            "colorscale": [
             [
              0,
              "#0d0887"
             ],
             [
              0.1111111111111111,
              "#46039f"
             ],
             [
              0.2222222222222222,
              "#7201a8"
             ],
             [
              0.3333333333333333,
              "#9c179e"
             ],
             [
              0.4444444444444444,
              "#bd3786"
             ],
             [
              0.5555555555555556,
              "#d8576b"
             ],
             [
              0.6666666666666666,
              "#ed7953"
             ],
             [
              0.7777777777777778,
              "#fb9f3a"
             ],
             [
              0.8888888888888888,
              "#fdca26"
             ],
             [
              1,
              "#f0f921"
             ]
            ],
            "type": "heatmapgl"
           }
          ],
          "histogram": [
           {
            "marker": {
             "pattern": {
              "fillmode": "overlay",
              "size": 10,
              "solidity": 0.2
             }
            },
            "type": "histogram"
           }
          ],
          "histogram2d": [
           {
            "colorbar": {
             "outlinewidth": 0,
             "ticks": ""
            },
            "colorscale": [
             [
              0,
              "#0d0887"
             ],
             [
              0.1111111111111111,
              "#46039f"
             ],
             [
              0.2222222222222222,
              "#7201a8"
             ],
             [
              0.3333333333333333,
              "#9c179e"
             ],
             [
              0.4444444444444444,
              "#bd3786"
             ],
             [
              0.5555555555555556,
              "#d8576b"
             ],
             [
              0.6666666666666666,
              "#ed7953"
             ],
             [
              0.7777777777777778,
              "#fb9f3a"
             ],
             [
              0.8888888888888888,
              "#fdca26"
             ],
             [
              1,
              "#f0f921"
             ]
            ],
            "type": "histogram2d"
           }
          ],
          "histogram2dcontour": [
           {
            "colorbar": {
             "outlinewidth": 0,
             "ticks": ""
            },
            "colorscale": [
             [
              0,
              "#0d0887"
             ],
             [
              0.1111111111111111,
              "#46039f"
             ],
             [
              0.2222222222222222,
              "#7201a8"
             ],
             [
              0.3333333333333333,
              "#9c179e"
             ],
             [
              0.4444444444444444,
              "#bd3786"
             ],
             [
              0.5555555555555556,
              "#d8576b"
             ],
             [
              0.6666666666666666,
              "#ed7953"
             ],
             [
              0.7777777777777778,
              "#fb9f3a"
             ],
             [
              0.8888888888888888,
              "#fdca26"
             ],
             [
              1,
              "#f0f921"
             ]
            ],
            "type": "histogram2dcontour"
           }
          ],
          "mesh3d": [
           {
            "colorbar": {
             "outlinewidth": 0,
             "ticks": ""
            },
            "type": "mesh3d"
           }
          ],
          "parcoords": [
           {
            "line": {
             "colorbar": {
              "outlinewidth": 0,
              "ticks": ""
             }
            },
            "type": "parcoords"
           }
          ],
          "pie": [
           {
            "automargin": true,
            "type": "pie"
           }
          ],
          "scatter": [
           {
            "fillpattern": {
             "fillmode": "overlay",
             "size": 10,
             "solidity": 0.2
            },
            "type": "scatter"
           }
          ],
          "scatter3d": [
           {
            "line": {
             "colorbar": {
              "outlinewidth": 0,
              "ticks": ""
             }
            },
            "marker": {
             "colorbar": {
              "outlinewidth": 0,
              "ticks": ""
             }
            },
            "type": "scatter3d"
           }
          ],
          "scattercarpet": [
           {
            "marker": {
             "colorbar": {
              "outlinewidth": 0,
              "ticks": ""
             }
            },
            "type": "scattercarpet"
           }
          ],
          "scattergeo": [
           {
            "marker": {
             "colorbar": {
              "outlinewidth": 0,
              "ticks": ""
             }
            },
            "type": "scattergeo"
           }
          ],
          "scattergl": [
           {
            "marker": {
             "colorbar": {
              "outlinewidth": 0,
              "ticks": ""
             }
            },
            "type": "scattergl"
           }
          ],
          "scattermapbox": [
           {
            "marker": {
             "colorbar": {
              "outlinewidth": 0,
              "ticks": ""
             }
            },
            "type": "scattermapbox"
           }
          ],
          "scatterpolar": [
           {
            "marker": {
             "colorbar": {
              "outlinewidth": 0,
              "ticks": ""
             }
            },
            "type": "scatterpolar"
           }
          ],
          "scatterpolargl": [
           {
            "marker": {
             "colorbar": {
              "outlinewidth": 0,
              "ticks": ""
             }
            },
            "type": "scatterpolargl"
           }
          ],
          "scatterternary": [
           {
            "marker": {
             "colorbar": {
              "outlinewidth": 0,
              "ticks": ""
             }
            },
            "type": "scatterternary"
           }
          ],
          "surface": [
           {
            "colorbar": {
             "outlinewidth": 0,
             "ticks": ""
            },
            "colorscale": [
             [
              0,
              "#0d0887"
             ],
             [
              0.1111111111111111,
              "#46039f"
             ],
             [
              0.2222222222222222,
              "#7201a8"
             ],
             [
              0.3333333333333333,
              "#9c179e"
             ],
             [
              0.4444444444444444,
              "#bd3786"
             ],
             [
              0.5555555555555556,
              "#d8576b"
             ],
             [
              0.6666666666666666,
              "#ed7953"
             ],
             [
              0.7777777777777778,
              "#fb9f3a"
             ],
             [
              0.8888888888888888,
              "#fdca26"
             ],
             [
              1,
              "#f0f921"
             ]
            ],
            "type": "surface"
           }
          ],
          "table": [
           {
            "cells": {
             "fill": {
              "color": "#EBF0F8"
             },
             "line": {
              "color": "white"
             }
            },
            "header": {
             "fill": {
              "color": "#C8D4E3"
             },
             "line": {
              "color": "white"
             }
            },
            "type": "table"
           }
          ]
         },
         "layout": {
          "annotationdefaults": {
           "arrowcolor": "#2a3f5f",
           "arrowhead": 0,
           "arrowwidth": 1
          },
          "autotypenumbers": "strict",
          "coloraxis": {
           "colorbar": {
            "outlinewidth": 0,
            "ticks": ""
           }
          },
          "colorscale": {
           "diverging": [
            [
             0,
             "#8e0152"
            ],
            [
             0.1,
             "#c51b7d"
            ],
            [
             0.2,
             "#de77ae"
            ],
            [
             0.3,
             "#f1b6da"
            ],
            [
             0.4,
             "#fde0ef"
            ],
            [
             0.5,
             "#f7f7f7"
            ],
            [
             0.6,
             "#e6f5d0"
            ],
            [
             0.7,
             "#b8e186"
            ],
            [
             0.8,
             "#7fbc41"
            ],
            [
             0.9,
             "#4d9221"
            ],
            [
             1,
             "#276419"
            ]
           ],
           "sequential": [
            [
             0,
             "#0d0887"
            ],
            [
             0.1111111111111111,
             "#46039f"
            ],
            [
             0.2222222222222222,
             "#7201a8"
            ],
            [
             0.3333333333333333,
             "#9c179e"
            ],
            [
             0.4444444444444444,
             "#bd3786"
            ],
            [
             0.5555555555555556,
             "#d8576b"
            ],
            [
             0.6666666666666666,
             "#ed7953"
            ],
            [
             0.7777777777777778,
             "#fb9f3a"
            ],
            [
             0.8888888888888888,
             "#fdca26"
            ],
            [
             1,
             "#f0f921"
            ]
           ],
           "sequentialminus": [
            [
             0,
             "#0d0887"
            ],
            [
             0.1111111111111111,
             "#46039f"
            ],
            [
             0.2222222222222222,
             "#7201a8"
            ],
            [
             0.3333333333333333,
             "#9c179e"
            ],
            [
             0.4444444444444444,
             "#bd3786"
            ],
            [
             0.5555555555555556,
             "#d8576b"
            ],
            [
             0.6666666666666666,
             "#ed7953"
            ],
            [
             0.7777777777777778,
             "#fb9f3a"
            ],
            [
             0.8888888888888888,
             "#fdca26"
            ],
            [
             1,
             "#f0f921"
            ]
           ]
          },
          "colorway": [
           "#636efa",
           "#EF553B",
           "#00cc96",
           "#ab63fa",
           "#FFA15A",
           "#19d3f3",
           "#FF6692",
           "#B6E880",
           "#FF97FF",
           "#FECB52"
          ],
          "font": {
           "color": "#2a3f5f"
          },
          "geo": {
           "bgcolor": "white",
           "lakecolor": "white",
           "landcolor": "#E5ECF6",
           "showlakes": true,
           "showland": true,
           "subunitcolor": "white"
          },
          "hoverlabel": {
           "align": "left"
          },
          "hovermode": "closest",
          "mapbox": {
           "style": "light"
          },
          "paper_bgcolor": "white",
          "plot_bgcolor": "#E5ECF6",
          "polar": {
           "angularaxis": {
            "gridcolor": "white",
            "linecolor": "white",
            "ticks": ""
           },
           "bgcolor": "#E5ECF6",
           "radialaxis": {
            "gridcolor": "white",
            "linecolor": "white",
            "ticks": ""
           }
          },
          "scene": {
           "xaxis": {
            "backgroundcolor": "#E5ECF6",
            "gridcolor": "white",
            "gridwidth": 2,
            "linecolor": "white",
            "showbackground": true,
            "ticks": "",
            "zerolinecolor": "white"
           },
           "yaxis": {
            "backgroundcolor": "#E5ECF6",
            "gridcolor": "white",
            "gridwidth": 2,
            "linecolor": "white",
            "showbackground": true,
            "ticks": "",
            "zerolinecolor": "white"
           },
           "zaxis": {
            "backgroundcolor": "#E5ECF6",
            "gridcolor": "white",
            "gridwidth": 2,
            "linecolor": "white",
            "showbackground": true,
            "ticks": "",
            "zerolinecolor": "white"
           }
          },
          "shapedefaults": {
           "line": {
            "color": "#2a3f5f"
           }
          },
          "ternary": {
           "aaxis": {
            "gridcolor": "white",
            "linecolor": "white",
            "ticks": ""
           },
           "baxis": {
            "gridcolor": "white",
            "linecolor": "white",
            "ticks": ""
           },
           "bgcolor": "#E5ECF6",
           "caxis": {
            "gridcolor": "white",
            "linecolor": "white",
            "ticks": ""
           }
          },
          "title": {
           "x": 0.05
          },
          "xaxis": {
           "automargin": true,
           "gridcolor": "white",
           "linecolor": "white",
           "ticks": "",
           "title": {
            "standoff": 15
           },
           "zerolinecolor": "white",
           "zerolinewidth": 2
          },
          "yaxis": {
           "automargin": true,
           "gridcolor": "white",
           "linecolor": "white",
           "ticks": "",
           "title": {
            "standoff": 15
           },
           "zerolinecolor": "white",
           "zerolinewidth": 2
          }
         }
        },
        "title": {
         "text": "Actual vs Fitted Values - revolut"
        },
        "yaxis": {
         "showgrid": false,
         "side": "left",
         "title": {
          "text": "Actual Values"
         }
        },
        "yaxis2": {
         "overlaying": "y",
         "showgrid": false,
         "side": "right",
         "title": {
          "text": "Fitted Values"
         }
        }
       }
      }
     },
     "metadata": {},
     "output_type": "display_data"
    },
    {
     "data": {
      "application/vnd.plotly.v1+json": {
       "config": {
        "plotlyServerURL": "https://plot.ly"
       },
       "data": [
        {
         "mode": "lines",
         "name": "Actual - myinvestor",
         "type": "scatter",
         "x": [
          "2021-12-01",
          "2022-01-01",
          "2022-02-01",
          "2022-03-01",
          "2022-04-01",
          "2022-05-01",
          "2022-06-01",
          "2022-07-01",
          "2022-08-01",
          "2022-09-01",
          "2022-10-01",
          "2022-11-01",
          "2022-12-01",
          "2023-01-01",
          "2023-02-01",
          "2023-03-01",
          "2023-04-01",
          "2023-05-01",
          "2023-06-01",
          "2023-07-01",
          "2023-08-01",
          "2023-09-01",
          "2023-10-01",
          "2023-11-01",
          "2023-12-01"
         ],
         "y": [
          8.579155012468858,
          8.791463526199214,
          8.301947608915153,
          8.505324903287987,
          8.661247552552275,
          8.455674352196157,
          8.227829125728299,
          9.092404672403962,
          8.747584129924995,
          8.786736277973242,
          8.877316597967713,
          8.749544147022483,
          8.896222432398956,
          9.075087357989709,
          9.899116383049952,
          9.762554356298985,
          9.350415178358762,
          8.995129617984169,
          9.366923371207106,
          9.128646102430725,
          9.229811025199153,
          9.637256692319214,
          9.54192678345105,
          9.417429409610206,
          9.51673200093652
         ]
        },
        {
         "mode": "lines",
         "name": "Robust Fitted - myinvestor",
         "type": "scatter",
         "x": [
          "2021-12-01",
          "2022-01-01",
          "2022-02-01",
          "2022-03-01",
          "2022-04-01",
          "2022-05-01",
          "2022-06-01",
          "2022-07-01",
          "2022-08-01",
          "2022-09-01",
          "2022-10-01",
          "2022-11-01",
          "2022-12-01",
          "2023-01-01",
          "2023-02-01",
          "2023-03-01",
          "2023-04-01",
          "2023-05-01",
          "2023-06-01",
          "2023-07-01",
          "2023-08-01",
          "2023-09-01",
          "2023-10-01",
          "2023-11-01",
          "2023-12-01"
         ],
         "y": [
          5.168004236266172,
          3.034737401520263,
          3.0838745359321313,
          2.337188540855217,
          2.474377467311761,
          2.778559482227298,
          2.270531728728788,
          1.9831531056851242,
          3.247941460839179,
          2.8469026780109252,
          3.0345680379029183,
          2.938656821670819,
          2.953433269077649,
          3.225454080589018,
          3.3060665771730093,
          4.567101303640621,
          4.459398502621138,
          3.9431856493299167,
          3.434729447968355,
          4.104272549879024,
          3.6506270601999438,
          3.863344698893101,
          4.340246114439874,
          4.204140701287839,
          4.059026316680452
         ],
         "yaxis": "y2"
        },
        {
         "mode": "lines",
         "name": "Box Cox Fitted - myinvestor",
         "type": "scatter",
         "x": [
          "2021-12-01",
          "2022-01-01",
          "2022-02-01",
          "2022-03-01",
          "2022-04-01",
          "2022-05-01",
          "2022-06-01",
          "2022-07-01",
          "2022-08-01",
          "2022-09-01",
          "2022-10-01",
          "2022-11-01",
          "2022-12-01",
          "2023-01-01",
          "2023-02-01",
          "2023-03-01",
          "2023-04-01",
          "2023-05-01",
          "2023-06-01",
          "2023-07-01",
          "2023-08-01",
          "2023-09-01",
          "2023-10-01",
          "2023-11-01",
          "2023-12-01"
         ],
         "y": [
          4.993162260267734,
          3.120501117713523,
          3.0556005346233746,
          2.389399578778301,
          2.482293443549134,
          2.7848142929539588,
          2.263218445410452,
          2.128026581098433,
          3.2452623221376693,
          2.8837225402679385,
          3.120951815882974,
          2.9276124004257924,
          3.039039028025986,
          3.239520466748045,
          3.4057790034152235,
          4.441369647360483,
          4.419396837867577,
          3.9496346691018753,
          3.502311422558046,
          4.093670741704175,
          3.617894806238381,
          3.8697470469781945,
          4.229256312680887,
          4.087729367373273,
          4.020903344076806
         ],
         "yaxis": "y2"
        }
       ],
       "layout": {
        "template": {
         "data": {
          "bar": [
           {
            "error_x": {
             "color": "#2a3f5f"
            },
            "error_y": {
             "color": "#2a3f5f"
            },
            "marker": {
             "line": {
              "color": "#E5ECF6",
              "width": 0.5
             },
             "pattern": {
              "fillmode": "overlay",
              "size": 10,
              "solidity": 0.2
             }
            },
            "type": "bar"
           }
          ],
          "barpolar": [
           {
            "marker": {
             "line": {
              "color": "#E5ECF6",
              "width": 0.5
             },
             "pattern": {
              "fillmode": "overlay",
              "size": 10,
              "solidity": 0.2
             }
            },
            "type": "barpolar"
           }
          ],
          "carpet": [
           {
            "aaxis": {
             "endlinecolor": "#2a3f5f",
             "gridcolor": "white",
             "linecolor": "white",
             "minorgridcolor": "white",
             "startlinecolor": "#2a3f5f"
            },
            "baxis": {
             "endlinecolor": "#2a3f5f",
             "gridcolor": "white",
             "linecolor": "white",
             "minorgridcolor": "white",
             "startlinecolor": "#2a3f5f"
            },
            "type": "carpet"
           }
          ],
          "choropleth": [
           {
            "colorbar": {
             "outlinewidth": 0,
             "ticks": ""
            },
            "type": "choropleth"
           }
          ],
          "contour": [
           {
            "colorbar": {
             "outlinewidth": 0,
             "ticks": ""
            },
            "colorscale": [
             [
              0,
              "#0d0887"
             ],
             [
              0.1111111111111111,
              "#46039f"
             ],
             [
              0.2222222222222222,
              "#7201a8"
             ],
             [
              0.3333333333333333,
              "#9c179e"
             ],
             [
              0.4444444444444444,
              "#bd3786"
             ],
             [
              0.5555555555555556,
              "#d8576b"
             ],
             [
              0.6666666666666666,
              "#ed7953"
             ],
             [
              0.7777777777777778,
              "#fb9f3a"
             ],
             [
              0.8888888888888888,
              "#fdca26"
             ],
             [
              1,
              "#f0f921"
             ]
            ],
            "type": "contour"
           }
          ],
          "contourcarpet": [
           {
            "colorbar": {
             "outlinewidth": 0,
             "ticks": ""
            },
            "type": "contourcarpet"
           }
          ],
          "heatmap": [
           {
            "colorbar": {
             "outlinewidth": 0,
             "ticks": ""
            },
            "colorscale": [
             [
              0,
              "#0d0887"
             ],
             [
              0.1111111111111111,
              "#46039f"
             ],
             [
              0.2222222222222222,
              "#7201a8"
             ],
             [
              0.3333333333333333,
              "#9c179e"
             ],
             [
              0.4444444444444444,
              "#bd3786"
             ],
             [
              0.5555555555555556,
              "#d8576b"
             ],
             [
              0.6666666666666666,
              "#ed7953"
             ],
             [
              0.7777777777777778,
              "#fb9f3a"
             ],
             [
              0.8888888888888888,
              "#fdca26"
             ],
             [
              1,
              "#f0f921"
             ]
            ],
            "type": "heatmap"
           }
          ],
          "heatmapgl": [
           {
            "colorbar": {
             "outlinewidth": 0,
             "ticks": ""
            },
            "colorscale": [
             [
              0,
              "#0d0887"
             ],
             [
              0.1111111111111111,
              "#46039f"
             ],
             [
              0.2222222222222222,
              "#7201a8"
             ],
             [
              0.3333333333333333,
              "#9c179e"
             ],
             [
              0.4444444444444444,
              "#bd3786"
             ],
             [
              0.5555555555555556,
              "#d8576b"
             ],
             [
              0.6666666666666666,
              "#ed7953"
             ],
             [
              0.7777777777777778,
              "#fb9f3a"
             ],
             [
              0.8888888888888888,
              "#fdca26"
             ],
             [
              1,
              "#f0f921"
             ]
            ],
            "type": "heatmapgl"
           }
          ],
          "histogram": [
           {
            "marker": {
             "pattern": {
              "fillmode": "overlay",
              "size": 10,
              "solidity": 0.2
             }
            },
            "type": "histogram"
           }
          ],
          "histogram2d": [
           {
            "colorbar": {
             "outlinewidth": 0,
             "ticks": ""
            },
            "colorscale": [
             [
              0,
              "#0d0887"
             ],
             [
              0.1111111111111111,
              "#46039f"
             ],
             [
              0.2222222222222222,
              "#7201a8"
             ],
             [
              0.3333333333333333,
              "#9c179e"
             ],
             [
              0.4444444444444444,
              "#bd3786"
             ],
             [
              0.5555555555555556,
              "#d8576b"
             ],
             [
              0.6666666666666666,
              "#ed7953"
             ],
             [
              0.7777777777777778,
              "#fb9f3a"
             ],
             [
              0.8888888888888888,
              "#fdca26"
             ],
             [
              1,
              "#f0f921"
             ]
            ],
            "type": "histogram2d"
           }
          ],
          "histogram2dcontour": [
           {
            "colorbar": {
             "outlinewidth": 0,
             "ticks": ""
            },
            "colorscale": [
             [
              0,
              "#0d0887"
             ],
             [
              0.1111111111111111,
              "#46039f"
             ],
             [
              0.2222222222222222,
              "#7201a8"
             ],
             [
              0.3333333333333333,
              "#9c179e"
             ],
             [
              0.4444444444444444,
              "#bd3786"
             ],
             [
              0.5555555555555556,
              "#d8576b"
             ],
             [
              0.6666666666666666,
              "#ed7953"
             ],
             [
              0.7777777777777778,
              "#fb9f3a"
             ],
             [
              0.8888888888888888,
              "#fdca26"
             ],
             [
              1,
              "#f0f921"
             ]
            ],
            "type": "histogram2dcontour"
           }
          ],
          "mesh3d": [
           {
            "colorbar": {
             "outlinewidth": 0,
             "ticks": ""
            },
            "type": "mesh3d"
           }
          ],
          "parcoords": [
           {
            "line": {
             "colorbar": {
              "outlinewidth": 0,
              "ticks": ""
             }
            },
            "type": "parcoords"
           }
          ],
          "pie": [
           {
            "automargin": true,
            "type": "pie"
           }
          ],
          "scatter": [
           {
            "fillpattern": {
             "fillmode": "overlay",
             "size": 10,
             "solidity": 0.2
            },
            "type": "scatter"
           }
          ],
          "scatter3d": [
           {
            "line": {
             "colorbar": {
              "outlinewidth": 0,
              "ticks": ""
             }
            },
            "marker": {
             "colorbar": {
              "outlinewidth": 0,
              "ticks": ""
             }
            },
            "type": "scatter3d"
           }
          ],
          "scattercarpet": [
           {
            "marker": {
             "colorbar": {
              "outlinewidth": 0,
              "ticks": ""
             }
            },
            "type": "scattercarpet"
           }
          ],
          "scattergeo": [
           {
            "marker": {
             "colorbar": {
              "outlinewidth": 0,
              "ticks": ""
             }
            },
            "type": "scattergeo"
           }
          ],
          "scattergl": [
           {
            "marker": {
             "colorbar": {
              "outlinewidth": 0,
              "ticks": ""
             }
            },
            "type": "scattergl"
           }
          ],
          "scattermapbox": [
           {
            "marker": {
             "colorbar": {
              "outlinewidth": 0,
              "ticks": ""
             }
            },
            "type": "scattermapbox"
           }
          ],
          "scatterpolar": [
           {
            "marker": {
             "colorbar": {
              "outlinewidth": 0,
              "ticks": ""
             }
            },
            "type": "scatterpolar"
           }
          ],
          "scatterpolargl": [
           {
            "marker": {
             "colorbar": {
              "outlinewidth": 0,
              "ticks": ""
             }
            },
            "type": "scatterpolargl"
           }
          ],
          "scatterternary": [
           {
            "marker": {
             "colorbar": {
              "outlinewidth": 0,
              "ticks": ""
             }
            },
            "type": "scatterternary"
           }
          ],
          "surface": [
           {
            "colorbar": {
             "outlinewidth": 0,
             "ticks": ""
            },
            "colorscale": [
             [
              0,
              "#0d0887"
             ],
             [
              0.1111111111111111,
              "#46039f"
             ],
             [
              0.2222222222222222,
              "#7201a8"
             ],
             [
              0.3333333333333333,
              "#9c179e"
             ],
             [
              0.4444444444444444,
              "#bd3786"
             ],
             [
              0.5555555555555556,
              "#d8576b"
             ],
             [
              0.6666666666666666,
              "#ed7953"
             ],
             [
              0.7777777777777778,
              "#fb9f3a"
             ],
             [
              0.8888888888888888,
              "#fdca26"
             ],
             [
              1,
              "#f0f921"
             ]
            ],
            "type": "surface"
           }
          ],
          "table": [
           {
            "cells": {
             "fill": {
              "color": "#EBF0F8"
             },
             "line": {
              "color": "white"
             }
            },
            "header": {
             "fill": {
              "color": "#C8D4E3"
             },
             "line": {
              "color": "white"
             }
            },
            "type": "table"
           }
          ]
         },
         "layout": {
          "annotationdefaults": {
           "arrowcolor": "#2a3f5f",
           "arrowhead": 0,
           "arrowwidth": 1
          },
          "autotypenumbers": "strict",
          "coloraxis": {
           "colorbar": {
            "outlinewidth": 0,
            "ticks": ""
           }
          },
          "colorscale": {
           "diverging": [
            [
             0,
             "#8e0152"
            ],
            [
             0.1,
             "#c51b7d"
            ],
            [
             0.2,
             "#de77ae"
            ],
            [
             0.3,
             "#f1b6da"
            ],
            [
             0.4,
             "#fde0ef"
            ],
            [
             0.5,
             "#f7f7f7"
            ],
            [
             0.6,
             "#e6f5d0"
            ],
            [
             0.7,
             "#b8e186"
            ],
            [
             0.8,
             "#7fbc41"
            ],
            [
             0.9,
             "#4d9221"
            ],
            [
             1,
             "#276419"
            ]
           ],
           "sequential": [
            [
             0,
             "#0d0887"
            ],
            [
             0.1111111111111111,
             "#46039f"
            ],
            [
             0.2222222222222222,
             "#7201a8"
            ],
            [
             0.3333333333333333,
             "#9c179e"
            ],
            [
             0.4444444444444444,
             "#bd3786"
            ],
            [
             0.5555555555555556,
             "#d8576b"
            ],
            [
             0.6666666666666666,
             "#ed7953"
            ],
            [
             0.7777777777777778,
             "#fb9f3a"
            ],
            [
             0.8888888888888888,
             "#fdca26"
            ],
            [
             1,
             "#f0f921"
            ]
           ],
           "sequentialminus": [
            [
             0,
             "#0d0887"
            ],
            [
             0.1111111111111111,
             "#46039f"
            ],
            [
             0.2222222222222222,
             "#7201a8"
            ],
            [
             0.3333333333333333,
             "#9c179e"
            ],
            [
             0.4444444444444444,
             "#bd3786"
            ],
            [
             0.5555555555555556,
             "#d8576b"
            ],
            [
             0.6666666666666666,
             "#ed7953"
            ],
            [
             0.7777777777777778,
             "#fb9f3a"
            ],
            [
             0.8888888888888888,
             "#fdca26"
            ],
            [
             1,
             "#f0f921"
            ]
           ]
          },
          "colorway": [
           "#636efa",
           "#EF553B",
           "#00cc96",
           "#ab63fa",
           "#FFA15A",
           "#19d3f3",
           "#FF6692",
           "#B6E880",
           "#FF97FF",
           "#FECB52"
          ],
          "font": {
           "color": "#2a3f5f"
          },
          "geo": {
           "bgcolor": "white",
           "lakecolor": "white",
           "landcolor": "#E5ECF6",
           "showlakes": true,
           "showland": true,
           "subunitcolor": "white"
          },
          "hoverlabel": {
           "align": "left"
          },
          "hovermode": "closest",
          "mapbox": {
           "style": "light"
          },
          "paper_bgcolor": "white",
          "plot_bgcolor": "#E5ECF6",
          "polar": {
           "angularaxis": {
            "gridcolor": "white",
            "linecolor": "white",
            "ticks": ""
           },
           "bgcolor": "#E5ECF6",
           "radialaxis": {
            "gridcolor": "white",
            "linecolor": "white",
            "ticks": ""
           }
          },
          "scene": {
           "xaxis": {
            "backgroundcolor": "#E5ECF6",
            "gridcolor": "white",
            "gridwidth": 2,
            "linecolor": "white",
            "showbackground": true,
            "ticks": "",
            "zerolinecolor": "white"
           },
           "yaxis": {
            "backgroundcolor": "#E5ECF6",
            "gridcolor": "white",
            "gridwidth": 2,
            "linecolor": "white",
            "showbackground": true,
            "ticks": "",
            "zerolinecolor": "white"
           },
           "zaxis": {
            "backgroundcolor": "#E5ECF6",
            "gridcolor": "white",
            "gridwidth": 2,
            "linecolor": "white",
            "showbackground": true,
            "ticks": "",
            "zerolinecolor": "white"
           }
          },
          "shapedefaults": {
           "line": {
            "color": "#2a3f5f"
           }
          },
          "ternary": {
           "aaxis": {
            "gridcolor": "white",
            "linecolor": "white",
            "ticks": ""
           },
           "baxis": {
            "gridcolor": "white",
            "linecolor": "white",
            "ticks": ""
           },
           "bgcolor": "#E5ECF6",
           "caxis": {
            "gridcolor": "white",
            "linecolor": "white",
            "ticks": ""
           }
          },
          "title": {
           "x": 0.05
          },
          "xaxis": {
           "automargin": true,
           "gridcolor": "white",
           "linecolor": "white",
           "ticks": "",
           "title": {
            "standoff": 15
           },
           "zerolinecolor": "white",
           "zerolinewidth": 2
          },
          "yaxis": {
           "automargin": true,
           "gridcolor": "white",
           "linecolor": "white",
           "ticks": "",
           "title": {
            "standoff": 15
           },
           "zerolinecolor": "white",
           "zerolinewidth": 2
          }
         }
        },
        "title": {
         "text": "Actual vs Fitted Values - myinvestor"
        },
        "yaxis": {
         "showgrid": false,
         "side": "left",
         "title": {
          "text": "Actual Values"
         }
        },
        "yaxis2": {
         "overlaying": "y",
         "showgrid": false,
         "side": "right",
         "title": {
          "text": "Fitted Values"
         }
        }
       }
      }
     },
     "metadata": {},
     "output_type": "display_data"
    }
   ],
   "source": [
    "banks_to_plot = data.loc[[25, 121, 125, 175]]['bank']\n",
    "\n",
    "# for each bank, plot the fitted values \n",
    "\n",
    "\n",
    "# Loop through each bank\n",
    "for bank in banks_to_plot:\n",
    "    # Filter data for the current bank\n",
    "    bank_data = data[data['bank'] == bank]\n",
    "    \n",
    "    # Extract actual and fitted values\n",
    "    bank_web_traffic = bank_data['log_web_traffic']\n",
    "    bank_fitted_values = pooled_data.loc[bank_web_traffic.index, 'fitted_values_robust']  # Replace with actual column name\n",
    "    bank_fitted_value_2 = pooled_data.loc[bank_web_traffic.index, 'fitted_values_box_cox']\n",
    "    \n",
    "    fig = go.Figure()\n",
    "\n",
    "    # Add actual values trace to the figure\n",
    "    fig.add_trace(go.Scatter(x=bank_data['date'], y=bank_web_traffic, mode='lines', name=f'Actual - {bank}'))\n",
    "    \n",
    "    # Add fitted values trace to the figure with secondary y-axis\n",
    "    fig.add_trace(go.Scatter(x=bank_data['date'], y=bank_fitted_values, mode='lines', name=f'Robust Fitted - {bank}', yaxis='y2'))\n",
    "\n",
    "    fig.add_trace(go.Scatter(x=bank_data['date'], y=bank_fitted_value_2, mode='lines', name=f'Box Cox Fitted - {bank}', yaxis='y2'))\n",
    "    \n",
    "    # Update layout for the primary and secondary y-axes\n",
    "    fig.update_layout(\n",
    "        yaxis=dict(title='Actual Values', side='left', showgrid=False),\n",
    "        yaxis2=dict(title='Fitted Values', overlaying='y', side='right', showgrid=False)\n",
    "    )\n",
    "    \n",
    "    # Update figure title\n",
    "    fig.update_layout(title='Actual vs Fitted Values - ' + bank)\n",
    "    \n",
    "    # Show the figure\n",
    "    fig.show()"
   ]
  },
  {
   "cell_type": "markdown",
   "metadata": {},
   "source": []
  },
  {
   "cell_type": "markdown",
   "metadata": {},
   "source": [
    "### Splitting banks by relevant feature"
   ]
  },
  {
   "cell_type": "markdown",
   "metadata": {},
   "source": [
    "big banks only"
   ]
  },
  {
   "cell_type": "code",
   "execution_count": 750,
   "metadata": {},
   "outputs": [],
   "source": [
    "def get_model_stats(model): \n",
    "    # Assuming df is your DataFrame and it contains the independent variables\n",
    "    vif_data = pd.DataFrame()\n",
    "    vif_data['feature'] = X.columns\n",
    "    vif_data['VIF'] = [variance_inflation_factor(X.values, i) for i in range(len(X.columns))]\n",
    "\n",
    "    print('VIF Multicollinearity indicators: ')\n",
    "    print(vif_data)\n",
    "\n",
    "    _, pval, _, f_pval = het_breuschpagan(model.resid, model.model.exog)\n",
    "    print('Breusch-Pagan p-value:', pval)\n",
    "    print('Breusch-Pagan F-statistic p-value:', f_pval)\n",
    "    # print interpretation of the p-value\n",
    "    if pval < 0.05:\n",
    "        print('heteroskedasticity is present. Model is not appropriate for the data.')\n",
    "    else:  \n",
    "        print('Fheteroskedasticity is not present. Model is appropriate for the data.')\n",
    "\n",
    "    dw_stat = durbin_watson(model.resid)\n",
    "    print('Durbin-Watson statistic:', dw_stat)\n",
    "    # print interpretation of the durbin watson statistic\n",
    "    if dw_stat < 1:\n",
    "        print('Positive autocorrelation is present. Model is not appropriate for the data.')\n",
    "    elif dw_stat > 3:\n",
    "        print('Negative autocorrelation is present. Model is not appropriate for the data.')\n",
    "    else:\n",
    "        print('No autocorrelation is present. Model is appropriate for the data.')\n",
    "\n",
    "    reset_test = linear_reset(model, use_f=True)\n",
    "    print('Ramsey RESET test p-value:', reset_test.pvalue)\n",
    "    # print interpretation of the p-value\n",
    "\n",
    "    if reset_test.pvalue < 0.05:\n",
    "        print('The model is not correctly specified. Model is not appropriate for the data.')\n",
    "    else:\n",
    "        print('The model is correctly specified. Model is appropriate for the data.')\n",
    "        \n",
    "    # Perform the Breusch-Godfrey test\n",
    "    bg_test = acorr_breusch_godfrey(model, nlags=4)  # Test for up to 4 lags\n",
    "\n",
    "    # Display the results\n",
    "    print('Breusch-Godfrey test statistic:', bg_test[0])\n",
    "    print('p-value:', bg_test[1])\n",
    "    print('F-statistic:', bg_test[2])\n",
    "    print('F p-value:', bg_test[3])\n",
    "    # print interpretation of the p-value\n",
    "    if bg_test[1] < 0.05:\n",
    "        print('The model is not correctly specified. Model is not appropriate for the data.')\n",
    "    else:\n",
    "        print('The model is correctly specified. Model is appropriate for the data.')\n",
    "\n",
    "def get_model_stats_robust(robust_cov):\n",
    "    _, pval, _, f_pval = het_breuschpagan(robust_cov.resid, robust_cov.model.exog)\n",
    "\n",
    "    print('Breusch-Pagan p-value:', pval)\n",
    "    print('Breusch-Pagan F-statistic p-value:', f_pval)\n",
    "\n",
    "    if pval < 0.05:\n",
    "        print('Heteroskedasticity is present. Model is not appropriate for the data.')\n",
    "    else:\n",
    "        print('Heteroskedasticity is not present. Model is appropriate for the data.')\n",
    "\n",
    "    # Perform Durbin-Watson Test for Autocorrelation\n",
    "    dw_stat = durbin_watson(robust_cov.resid)\n",
    "\n",
    "    print('Durbin-Watson statistic:', dw_stat)\n",
    "\n",
    "    if dw_stat < 1:\n",
    "        print('Positive autocorrelation is present. Model is not appropriate for the data.')\n",
    "    elif dw_stat > 3:\n",
    "        print('Negative autocorrelation is present. Model is not appropriate for the data.')\n",
    "    else:\n",
    "        print('No autocorrelation is present. Model is appropriate for the data.')\n",
    "\n",
    "    # Perform Ramsey RESET Test for Specification Error\n",
    "    reset_test = reset_ramsey(robust_cov)\n",
    "\n",
    "    print('Ramsey RESET test p-value:', reset_test.pvalue)\n",
    "\n",
    "    if reset_test.pvalue < 0.05:\n",
    "        print('The model is not correctly specified. Model is not appropriate for the data.')\n",
    "    else:\n",
    "        print('The model is correctly specified. Model is appropriate for the data.')\n",
    "\n",
    "    # Perform Breusch-Godfrey Test for Serial Correlation\n",
    "    bg_test = acorr_breusch_godfrey(robust_cov, nlags=4)  # Test for up to 4 lags\n",
    "\n",
    "    print('Breusch-Godfrey test statistic:', bg_test[0])\n",
    "    print('p-value:', bg_test[1])\n",
    "    print('F-statistic:', bg_test[2])\n",
    "    print('F p-value:', bg_test[3])\n",
    "\n",
    "    if bg_test[1] < 0.05:\n",
    "        print('The model is not correctly specified. Model is not appropriate for the data.')\n",
    "    else:\n",
    "        print('The model is correctly specified. Model is appropriate for the data.')\n",
    "\n",
    "\n",
    "def get_model_graphs(model):\n",
    "    # Plot residuals to check if assumptions are better met\n",
    "    plt.scatter(model.fittedvalues, model.resid)\n",
    "    plt.xlabel('Fitted values')\n",
    "    plt.ylabel('Residuals')\n",
    "    plt.title('Residuals vs Fitted values')\n",
    "    plt.show()\n",
    "\n",
    "    # Histogram of residuals\n",
    "    plt.hist(model.resid, bins=30)\n",
    "    plt.xlabel('Residuals')\n",
    "    plt.ylabel('Frequency')\n",
    "    plt.title('Histogram of Residuals')\n",
    "    plt.show()\n",
    "\n",
    "    # QQ plot of residuals\n",
    "    sm.qqplot(model.resid, line='45')\n",
    "    plt.title('QQ Plot of Residuals')\n",
    "    plt.show()\n",
    "\n",
    "\n",
    "    influence = model.get_influence()\n",
    "    (c, p) = influence.cooks_distance\n",
    "\n",
    "    plt.figure(figsize=(10, 6))\n",
    "    plt.stem(np.arange(len(c)), c, markerfmt=\",\")\n",
    "    plt.title('Cook\\'s Distance')\n",
    "    plt.xlabel('Observation Index')\n",
    "    plt.ylabel('Cook\\'s Distance')\n",
    "    plt.show()"
   ]
  },
  {
   "cell_type": "markdown",
   "metadata": {},
   "source": [
    "# set up all of the interaction terms for further analysis"
   ]
  },
  {
   "cell_type": "code",
   "execution_count": 751,
   "metadata": {},
   "outputs": [],
   "source": [
    "ind_vars = ['log_web_traffic_lag',\n",
    " 'cross_visitation',\n",
    " 'search_interest',\n",
    " 'apr',\n",
    " 'mentions',\n",
    " 'log_incentive',\n",
    " 'log_ppc',\n",
    " 'month_1']"
   ]
  },
  {
   "cell_type": "code",
   "execution_count": 752,
   "metadata": {},
   "outputs": [],
   "source": [
    "\n",
    "big_v_small_cols =  ['has_stores','founded_before_2000', 'big_employees', 'big_assets']\n",
    "interaction_terms = []\n",
    "\n",
    "for col1 in big_v_small_cols: \n",
    "       reg = []\n",
    "       for col2 in ind_vars:\n",
    "              pooled_data[col1 + ' x ' + col2] = pooled_data[col1] * pooled_data[col2]\n",
    "              reg.append(col1 + ' x ' + col2)\n",
    "       interaction_terms.append(reg)\n",
    "\n",
    "pooled_data = pooled_data.fillna(0)"
   ]
  },
  {
   "cell_type": "code",
   "execution_count": 753,
   "metadata": {},
   "outputs": [
    {
     "data": {
      "text/plain": [
       "'has_stores'"
      ]
     },
     "execution_count": 753,
     "metadata": {},
     "output_type": "execute_result"
    }
   ],
   "source": [
    "big_v_small_cols[0]"
   ]
  },
  {
   "cell_type": "code",
   "execution_count": 754,
   "metadata": {},
   "outputs": [
    {
     "name": "stdout",
     "output_type": "stream",
     "text": [
      "                                 OLS Regression Results                                \n",
      "=======================================================================================\n",
      "Dep. Variable:     log_web_traffic_transformed   R-squared:                       0.604\n",
      "Model:                                     OLS   Adj. R-squared:                  0.592\n",
      "Method:                          Least Squares   F-statistic:                     57.66\n",
      "Date:                         Mon, 01 Jul 2024   Prob (F-statistic):           8.53e-54\n",
      "Time:                                 16:10:27   Log-Likelihood:                -425.39\n",
      "No. Observations:                          275   AIC:                             868.8\n",
      "Df Residuals:                              266   BIC:                             901.3\n",
      "Df Model:                                    8                                         \n",
      "Covariance Type:                           HC3                                         \n",
      "====================================================================================================\n",
      "                                       coef    std err          t      P>|t|      [0.025      0.975]\n",
      "----------------------------------------------------------------------------------------------------\n",
      "const                                3.7258      0.112     33.383      0.000       3.506       3.946\n",
      "has_stores x log_web_traffic_lag     2.1586      0.208     10.361      0.000       1.748       2.569\n",
      "has_stores x cross_visitation        0.0414      0.148      0.280      0.780      -0.250       0.333\n",
      "has_stores x search_interest         0.3393      0.133      2.549      0.011       0.077       0.601\n",
      "has_stores x apr                     0.3352      0.145      2.310      0.022       0.050       0.621\n",
      "has_stores x mentions               -0.2006      0.086     -2.319      0.021      -0.371      -0.030\n",
      "has_stores x log_incentive           0.1559      0.129      1.205      0.229      -0.099       0.411\n",
      "has_stores x log_ppc                 0.2001      0.181      1.103      0.271      -0.157       0.557\n",
      "has_stores x month_1                 0.1504      0.100      1.502      0.134      -0.047       0.348\n",
      "==============================================================================\n",
      "Omnibus:                       15.313   Durbin-Watson:                   1.076\n",
      "Prob(Omnibus):                  0.000   Jarque-Bera (JB):               24.548\n",
      "Skew:                          -0.352   Prob(JB):                     4.67e-06\n",
      "Kurtosis:                       4.283   Cond. No.                         4.59\n",
      "==============================================================================\n",
      "\n",
      "Notes:\n",
      "[1] Standard Errors are heteroscedasticity robust (HC3)\n",
      "                                 OLS Regression Results                                \n",
      "=======================================================================================\n",
      "Dep. Variable:     log_web_traffic_transformed   R-squared:                       0.331\n",
      "Model:                                     OLS   Adj. R-squared:                  0.310\n",
      "Method:                          Least Squares   F-statistic:                     35.02\n",
      "Date:                         Mon, 01 Jul 2024   Prob (F-statistic):           1.59e-37\n",
      "Time:                                 16:10:27   Log-Likelihood:                -497.41\n",
      "No. Observations:                          275   AIC:                             1013.\n",
      "Df Residuals:                              266   BIC:                             1045.\n",
      "Df Model:                                    8                                         \n",
      "Covariance Type:                           HC3                                         \n",
      "=============================================================================================================\n",
      "                                                coef    std err          t      P>|t|      [0.025      0.975]\n",
      "-------------------------------------------------------------------------------------------------------------\n",
      "const                                         4.0819      0.132     31.011      0.000       3.823       4.341\n",
      "founded_before_2000 x log_web_traffic_lag     1.0735      0.223      4.809      0.000       0.634       1.513\n",
      "founded_before_2000 x cross_visitation        0.2908      0.114      2.556      0.011       0.067       0.515\n",
      "founded_before_2000 x search_interest         0.3873      0.103      3.747      0.000       0.184       0.591\n",
      "founded_before_2000 x apr                     0.0650      0.109      0.596      0.552      -0.150       0.280\n",
      "founded_before_2000 x mentions               -0.1200      0.082     -1.471      0.142      -0.281       0.041\n",
      "founded_before_2000 x log_incentive           0.0767      0.103      0.747      0.456      -0.126       0.279\n",
      "founded_before_2000 x log_ppc                 0.4844      0.149      3.259      0.001       0.192       0.777\n",
      "founded_before_2000 x month_1                 0.1139      0.068      1.674      0.095      -0.020       0.248\n",
      "==============================================================================\n",
      "Omnibus:                       12.503   Durbin-Watson:                   0.483\n",
      "Prob(Omnibus):                  0.002   Jarque-Bera (JB):               16.063\n",
      "Skew:                           0.368   Prob(JB):                     0.000325\n",
      "Kurtosis:                       3.928   Cond. No.                         4.97\n",
      "==============================================================================\n",
      "\n",
      "Notes:\n",
      "[1] Standard Errors are heteroscedasticity robust (HC3)\n",
      "                                 OLS Regression Results                                \n",
      "=======================================================================================\n",
      "Dep. Variable:     log_web_traffic_transformed   R-squared:                       0.467\n",
      "Model:                                     OLS   Adj. R-squared:                  0.451\n",
      "Method:                          Least Squares   F-statistic:                     93.69\n",
      "Date:                         Mon, 01 Jul 2024   Prob (F-statistic):           6.94e-73\n",
      "Time:                                 16:10:27   Log-Likelihood:                -466.19\n",
      "No. Observations:                          275   AIC:                             950.4\n",
      "Df Residuals:                              266   BIC:                             982.9\n",
      "Df Model:                                    8                                         \n",
      "Covariance Type:                           HC3                                         \n",
      "=======================================================================================================\n",
      "                                          coef    std err          t      P>|t|      [0.025      0.975]\n",
      "-------------------------------------------------------------------------------------------------------\n",
      "const                                   4.3184      0.105     41.213      0.000       4.112       4.525\n",
      "big_employees x log_web_traffic_lag     1.1233      0.127      8.838      0.000       0.873       1.374\n",
      "big_employees x cross_visitation        0.2656      0.126      2.115      0.035       0.018       0.513\n",
      "big_employees x search_interest         0.4307      0.126      3.427      0.001       0.183       0.678\n",
      "big_employees x apr                     0.0811      0.098      0.830      0.407      -0.111       0.273\n",
      "big_employees x mentions               -0.1494      0.065     -2.294      0.023      -0.278      -0.021\n",
      "big_employees x log_incentive           0.1697      0.100      1.694      0.092      -0.028       0.367\n",
      "big_employees x log_ppc                 0.0496      0.127      0.391      0.696      -0.200       0.299\n",
      "big_employees x month_1                 0.0713      0.051      1.400      0.163      -0.029       0.172\n",
      "==============================================================================\n",
      "Omnibus:                       22.424   Durbin-Watson:                   0.614\n",
      "Prob(Omnibus):                  0.000   Jarque-Bera (JB):               28.037\n",
      "Skew:                           0.615   Prob(JB):                     8.16e-07\n",
      "Kurtosis:                       3.967   Cond. No.                         4.03\n",
      "==============================================================================\n",
      "\n",
      "Notes:\n",
      "[1] Standard Errors are heteroscedasticity robust (HC3)\n",
      "                                 OLS Regression Results                                \n",
      "=======================================================================================\n",
      "Dep. Variable:     log_web_traffic_transformed   R-squared:                       0.345\n",
      "Model:                                     OLS   Adj. R-squared:                  0.326\n",
      "Method:                          Least Squares   F-statistic:                     45.07\n",
      "Date:                         Mon, 01 Jul 2024   Prob (F-statistic):           2.57e-45\n",
      "Time:                                 16:10:27   Log-Likelihood:                -494.36\n",
      "No. Observations:                          275   AIC:                             1007.\n",
      "Df Residuals:                              266   BIC:                             1039.\n",
      "Df Model:                                    8                                         \n",
      "Covariance Type:                           HC3                                         \n",
      "====================================================================================================\n",
      "                                       coef    std err          t      P>|t|      [0.025      0.975]\n",
      "----------------------------------------------------------------------------------------------------\n",
      "const                                4.0241      0.135     29.747      0.000       3.758       4.290\n",
      "big_assets x log_web_traffic_lag     1.2501      0.238      5.247      0.000       0.781       1.719\n",
      "big_assets x cross_visitation        0.1825      0.124      1.474      0.142      -0.061       0.426\n",
      "big_assets x search_interest         0.6498      0.151      4.305      0.000       0.353       0.947\n",
      "big_assets x apr                     0.2998      0.133      2.258      0.025       0.038       0.561\n",
      "big_assets x mentions               -0.2338      0.081     -2.886      0.004      -0.393      -0.074\n",
      "big_assets x log_incentive           0.0945      0.105      0.904      0.367      -0.111       0.300\n",
      "big_assets x log_ppc                 0.2801      0.142      1.978      0.049       0.001       0.559\n",
      "big_assets x month_1                 0.0889      0.066      1.345      0.180      -0.041       0.219\n",
      "==============================================================================\n",
      "Omnibus:                       17.454   Durbin-Watson:                   0.480\n",
      "Prob(Omnibus):                  0.000   Jarque-Bera (JB):               24.115\n",
      "Skew:                           0.459   Prob(JB):                     5.80e-06\n",
      "Kurtosis:                       4.124   Cond. No.                         5.28\n",
      "==============================================================================\n",
      "\n",
      "Notes:\n",
      "[1] Standard Errors are heteroscedasticity robust (HC3)\n"
     ]
    }
   ],
   "source": [
    "\n",
    "all_values = {}\n",
    "\n",
    "index = 0\n",
    "for term in interaction_terms:\n",
    "    # Define the dependent and independent variables\n",
    "    y = pooled_data['log_web_traffic_transformed']\n",
    "\n",
    "    X = pooled_data[term]\n",
    "\n",
    "    X = sm.add_constant(X)\n",
    "\n",
    "    # Create and fit the fixed effects model\n",
    "    model = sm.OLS(y, X).fit()\n",
    "    pooled_regression_summary = model.summary()\n",
    "    # print(pooled_regression_summary)\n",
    "    robust_cov = model.get_robustcov_results(cov_type='HC3')\n",
    "    print(robust_cov.summary())\n",
    "\n",
    "    # create a dictionary of p values and variable names \n",
    "    all_values[big_v_small_cols[index]] = robust_cov.pvalues\n",
    "\n",
    "    index += 1\n",
    "\n"
   ]
  },
  {
   "cell_type": "markdown",
   "metadata": {},
   "source": [
    "errors are not normally distributed which indicates poor model fit"
   ]
  },
  {
   "cell_type": "markdown",
   "metadata": {},
   "source": [
    "has stores\n",
    "    apr\n",
    "    lag\n",
    "\n",
    "before 2000\n",
    "    price per customer\n",
    "\n",
    "big employees\n",
    "    search interest\n",
    "\n",
    "big assets\n",
    "    apr\n",
    "    ppc\n",
    "    incentives\n"
   ]
  },
  {
   "cell_type": "markdown",
   "metadata": {},
   "source": [
    "small banks now"
   ]
  },
  {
   "cell_type": "code",
   "execution_count": 755,
   "metadata": {},
   "outputs": [],
   "source": [
    "\n",
    "big_v_small_cols =  ['has_stores','founded_before_2000', 'big_employees', 'big_assets']\n",
    "big_v_small_cols_invert =  ['no_stores','founded_after_2000', 'small_employees', 'small_assets']\n",
    "pooled_data_inverted = pooled_data.copy()\n",
    "interaction_terms_invert = []\n",
    "\n",
    "index = 0\n",
    "for col1 in big_v_small_cols: \n",
    "       reg = []\n",
    "       # invert 0 to 1 and 1 to 0 in col1 \n",
    "       pooled_data_inverted[col1] = pooled_data_inverted[col1].apply(lambda x: 1 if x == 0 else 0)\n",
    "       for col2 in ind_vars:\n",
    "              pooled_data_inverted[big_v_small_cols_invert[index] + ' x ' + col2] = pooled_data_inverted[col1] * pooled_data_inverted[col2]\n",
    "              reg.append(big_v_small_cols_invert[index] + ' x ' + col2)\n",
    "       interaction_terms_invert.append(reg)\n",
    "       index += 1\n",
    "\n",
    "pooled_data_inverted = pooled_data_inverted.fillna(0)"
   ]
  },
  {
   "cell_type": "code",
   "execution_count": 756,
   "metadata": {},
   "outputs": [
    {
     "name": "stdout",
     "output_type": "stream",
     "text": [
      "                            OLS Regression Results                            \n",
      "==============================================================================\n",
      "Dep. Variable:                      y   R-squared:                       0.596\n",
      "Model:                            OLS   Adj. R-squared:                  0.583\n",
      "Method:                 Least Squares   F-statistic:                     70.81\n",
      "Date:                Mon, 01 Jul 2024   Prob (F-statistic):           1.64e-61\n",
      "Time:                        16:10:27   Log-Likelihood:                -428.10\n",
      "No. Observations:                 275   AIC:                             874.2\n",
      "Df Residuals:                     266   BIC:                             906.7\n",
      "Df Model:                           8                                         \n",
      "Covariance Type:                  HC3                                         \n",
      "===================================================================================================\n",
      "                                      coef    std err          t      P>|t|      [0.025      0.975]\n",
      "---------------------------------------------------------------------------------------------------\n",
      "const                               5.6534      0.102     55.392      0.000       5.452       5.854\n",
      "no_stores x log_web_traffic_lag     0.9003      0.202      4.451      0.000       0.502       1.298\n",
      "no_stores x cross_visitation        1.4028      0.284      4.940      0.000       0.844       1.962\n",
      "no_stores x search_interest         0.9922      0.138      7.183      0.000       0.720       1.264\n",
      "no_stores x apr                     0.2543      0.092      2.769      0.006       0.073       0.435\n",
      "no_stores x mentions               -0.0116      0.105     -0.110      0.912      -0.219       0.196\n",
      "no_stores x log_incentive           0.6427      0.123      5.210      0.000       0.400       0.886\n",
      "no_stores x log_ppc                 0.0321      0.134      0.239      0.811      -0.232       0.296\n",
      "no_stores x month_1                 0.0683      0.079      0.866      0.387      -0.087       0.224\n",
      "==============================================================================\n",
      "Omnibus:                        6.233   Durbin-Watson:                   0.741\n",
      "Prob(Omnibus):                  0.044   Jarque-Bera (JB):                5.955\n",
      "Skew:                          -0.333   Prob(JB):                       0.0509\n",
      "Kurtosis:                       3.276   Cond. No.                         5.04\n",
      "==============================================================================\n",
      "\n",
      "Notes:\n",
      "[1] Standard Errors are heteroscedasticity robust (HC3)\n",
      "                            OLS Regression Results                            \n",
      "==============================================================================\n",
      "Dep. Variable:                      y   R-squared:                       0.652\n",
      "Model:                            OLS   Adj. R-squared:                  0.642\n",
      "Method:                 Least Squares   F-statistic:                     113.3\n",
      "Date:                Mon, 01 Jul 2024   Prob (F-statistic):           3.84e-81\n",
      "Time:                        16:10:27   Log-Likelihood:                -407.45\n",
      "No. Observations:                 275   AIC:                             832.9\n",
      "Df Residuals:                     266   BIC:                             865.4\n",
      "Df Model:                           8                                         \n",
      "Covariance Type:                  HC3                                         \n",
      "============================================================================================================\n",
      "                                               coef    std err          t      P>|t|      [0.025      0.975]\n",
      "------------------------------------------------------------------------------------------------------------\n",
      "const                                        5.3686      0.095     56.626      0.000       5.182       5.555\n",
      "founded_after_2000 x log_web_traffic_lag     1.2374      0.141      8.781      0.000       0.960       1.515\n",
      "founded_after_2000 x cross_visitation        0.7574      0.147      5.146      0.000       0.468       1.047\n",
      "founded_after_2000 x search_interest         0.4893      0.161      3.046      0.003       0.173       0.806\n",
      "founded_after_2000 x apr                    -0.0496      0.093     -0.531      0.596      -0.234       0.134\n",
      "founded_after_2000 x mentions                0.0449      0.106      0.422      0.673      -0.164       0.254\n",
      "founded_after_2000 x log_incentive           0.5816      0.170      3.420      0.001       0.247       0.916\n",
      "founded_after_2000 x log_ppc                 0.2457      0.110      2.226      0.027       0.028       0.463\n",
      "founded_after_2000 x month_1                 0.1232      0.077      1.601      0.111      -0.028       0.275\n",
      "==============================================================================\n",
      "Omnibus:                       24.333   Durbin-Watson:                   0.830\n",
      "Prob(Omnibus):                  0.000   Jarque-Bera (JB):               36.296\n",
      "Skew:                          -0.576   Prob(JB):                     1.31e-08\n",
      "Kurtosis:                       4.357   Cond. No.                         4.76\n",
      "==============================================================================\n",
      "\n",
      "Notes:\n",
      "[1] Standard Errors are heteroscedasticity robust (HC3)\n",
      "                            OLS Regression Results                            \n",
      "==============================================================================\n",
      "Dep. Variable:                      y   R-squared:                       0.399\n",
      "Model:                            OLS   Adj. R-squared:                  0.381\n",
      "Method:                 Least Squares   F-statistic:                     88.57\n",
      "Date:                Mon, 01 Jul 2024   Prob (F-statistic):           1.57e-70\n",
      "Time:                        16:10:27   Log-Likelihood:                -482.61\n",
      "No. Observations:                 275   AIC:                             983.2\n",
      "Df Residuals:                     266   BIC:                             1016.\n",
      "Df Model:                           8                                         \n",
      "Covariance Type:                  HC3                                         \n",
      "=========================================================================================================\n",
      "                                            coef    std err          t      P>|t|      [0.025      0.975]\n",
      "---------------------------------------------------------------------------------------------------------\n",
      "const                                     5.0018      0.130     38.340      0.000       4.745       5.259\n",
      "small_employees x log_web_traffic_lag     1.1885      0.188      6.319      0.000       0.818       1.559\n",
      "small_employees x cross_visitation        0.2749      0.146      1.889      0.060      -0.012       0.561\n",
      "small_employees x search_interest         0.4973      0.169      2.935      0.004       0.164       0.831\n",
      "small_employees x apr                    -0.0503      0.095     -0.528      0.598      -0.238       0.137\n",
      "small_employees x mentions                0.0306      0.137      0.224      0.823      -0.238       0.300\n",
      "small_employees x log_incentive           0.6155      0.145      4.258      0.000       0.331       0.900\n",
      "small_employees x log_ppc                 0.3784      0.142      2.657      0.008       0.098       0.659\n",
      "small_employees x month_1                 0.1157      0.075      1.545      0.124      -0.032       0.263\n",
      "==============================================================================\n",
      "Omnibus:                       48.792   Durbin-Watson:                   0.497\n",
      "Prob(Omnibus):                  0.000   Jarque-Bera (JB):               83.001\n",
      "Skew:                          -0.985   Prob(JB):                     9.48e-19\n",
      "Kurtosis:                       4.835   Cond. No.                         4.24\n",
      "==============================================================================\n",
      "\n",
      "Notes:\n",
      "[1] Standard Errors are heteroscedasticity robust (HC3)\n",
      "                            OLS Regression Results                            \n",
      "==============================================================================\n",
      "Dep. Variable:                      y   R-squared:                       0.661\n",
      "Model:                            OLS   Adj. R-squared:                  0.650\n",
      "Method:                 Least Squares   F-statistic:                     108.4\n",
      "Date:                Mon, 01 Jul 2024   Prob (F-statistic):           3.62e-79\n",
      "Time:                        16:10:27   Log-Likelihood:                -404.00\n",
      "No. Observations:                 275   AIC:                             826.0\n",
      "Df Residuals:                     266   BIC:                             858.5\n",
      "Df Model:                           8                                         \n",
      "Covariance Type:                  HC3                                         \n",
      "======================================================================================================\n",
      "                                         coef    std err          t      P>|t|      [0.025      0.975]\n",
      "------------------------------------------------------------------------------------------------------\n",
      "const                                  5.4573      0.098     55.614      0.000       5.264       5.650\n",
      "small_assets x log_web_traffic_lag     1.1758      0.130      9.035      0.000       0.920       1.432\n",
      "small_assets x cross_visitation        0.7042      0.146      4.827      0.000       0.417       0.991\n",
      "small_assets x search_interest         0.7621      0.134      5.708      0.000       0.499       1.025\n",
      "small_assets x apr                     0.0707      0.074      0.957      0.340      -0.075       0.216\n",
      "small_assets x mentions               -0.0009      0.110     -0.008      0.994      -0.217       0.215\n",
      "small_assets x log_incentive           0.7408      0.144      5.127      0.000       0.456       1.025\n",
      "small_assets x log_ppc                 0.2628      0.109      2.407      0.017       0.048       0.478\n",
      "small_assets x month_1                 0.1097      0.071      1.553      0.122      -0.029       0.249\n",
      "==============================================================================\n",
      "Omnibus:                       23.596   Durbin-Watson:                   0.937\n",
      "Prob(Omnibus):                  0.000   Jarque-Bera (JB):               32.622\n",
      "Skew:                          -0.592   Prob(JB):                     8.25e-08\n",
      "Kurtosis:                       4.202   Cond. No.                         3.61\n",
      "==============================================================================\n",
      "\n",
      "Notes:\n",
      "[1] Standard Errors are heteroscedasticity robust (HC3)\n"
     ]
    }
   ],
   "source": [
    "\n",
    "for index in range(0, len(interaction_terms_invert)): \n",
    "    # Define the dependent and independent variables\n",
    "    y = pooled_data['log_web_traffic_transformed']\n",
    "\n",
    "    X = pooled_data_inverted[interaction_terms_invert[index]]\n",
    "\n",
    "    X = sm.add_constant(X)\n",
    "\n",
    "    # Create and fit the fixed effects model\n",
    "    model = sm.OLS(y_box_cox, X).fit()\n",
    "    pooled_regression_summary = model.summary()\n",
    "\n",
    "    robust_cov = model.get_robustcov_results(cov_type='HC3')\n",
    "    print(robust_cov.summary())\n",
    "\n",
    "\n",
    "    all_values[big_v_small_cols_invert[index]] = robust_cov.pvalues\n",
    "\n"
   ]
  },
  {
   "cell_type": "code",
   "execution_count": 757,
   "metadata": {},
   "outputs": [
    {
     "data": {
      "application/vnd.plotly.v1+json": {
       "config": {
        "plotlyServerURL": "https://plot.ly"
       },
       "data": [
        {
         "coloraxis": "coloraxis",
         "hovertemplate": "Interaction Terms: %{x}<br>Independent Variables: %{y}<br>Significance: %{z}<extra></extra>",
         "name": "0",
         "type": "heatmap",
         "x": [
          "has_stores",
          "founded_before_2000",
          "big_employees",
          "big_assets",
          "no_stores",
          "founded_after_2000",
          "small_employees",
          "small_assets"
         ],
         "xaxis": "x",
         "y": [
          "const",
          "log_web_traffic_lag",
          "cross_visitation",
          "search_interest",
          "apr",
          "mentions",
          "log_incentive",
          "log_ppc",
          "month_1"
         ],
         "yaxis": "y",
         "z": [
          [
           1,
           1,
           1,
           1,
           1,
           1,
           1,
           1
          ],
          [
           1,
           1,
           1,
           1,
           1,
           1,
           1,
           1
          ],
          [
           0,
           1,
           1,
           0,
           1,
           1,
           0,
           1
          ],
          [
           1,
           1,
           1,
           1,
           1,
           1,
           1,
           1
          ],
          [
           1,
           0,
           0,
           1,
           1,
           0,
           0,
           0
          ],
          [
           1,
           0,
           1,
           1,
           0,
           0,
           0,
           0
          ],
          [
           0,
           0,
           0,
           0,
           1,
           1,
           1,
           1
          ],
          [
           0,
           1,
           0,
           1,
           0,
           1,
           1,
           1
          ],
          [
           0,
           0,
           0,
           0,
           0,
           0,
           0,
           0
          ]
         ]
        }
       ],
       "layout": {
        "autosize": false,
        "coloraxis": {
         "colorbar": {
          "len": 0.5,
          "lenmode": "fraction",
          "ticktext": [
           "Not Significant",
           "Significant"
          ],
          "tickvals": [
           0,
           1
          ],
          "title": {
           "text": ""
          }
         },
         "colorscale": [
          [
           0,
           "lightblue"
          ],
          [
           1,
           "lightcoral"
          ]
         ]
        },
        "height": 600,
        "template": {
         "data": {
          "bar": [
           {
            "error_x": {
             "color": "#2a3f5f"
            },
            "error_y": {
             "color": "#2a3f5f"
            },
            "marker": {
             "line": {
              "color": "#E5ECF6",
              "width": 0.5
             },
             "pattern": {
              "fillmode": "overlay",
              "size": 10,
              "solidity": 0.2
             }
            },
            "type": "bar"
           }
          ],
          "barpolar": [
           {
            "marker": {
             "line": {
              "color": "#E5ECF6",
              "width": 0.5
             },
             "pattern": {
              "fillmode": "overlay",
              "size": 10,
              "solidity": 0.2
             }
            },
            "type": "barpolar"
           }
          ],
          "carpet": [
           {
            "aaxis": {
             "endlinecolor": "#2a3f5f",
             "gridcolor": "white",
             "linecolor": "white",
             "minorgridcolor": "white",
             "startlinecolor": "#2a3f5f"
            },
            "baxis": {
             "endlinecolor": "#2a3f5f",
             "gridcolor": "white",
             "linecolor": "white",
             "minorgridcolor": "white",
             "startlinecolor": "#2a3f5f"
            },
            "type": "carpet"
           }
          ],
          "choropleth": [
           {
            "colorbar": {
             "outlinewidth": 0,
             "ticks": ""
            },
            "type": "choropleth"
           }
          ],
          "contour": [
           {
            "colorbar": {
             "outlinewidth": 0,
             "ticks": ""
            },
            "colorscale": [
             [
              0,
              "#0d0887"
             ],
             [
              0.1111111111111111,
              "#46039f"
             ],
             [
              0.2222222222222222,
              "#7201a8"
             ],
             [
              0.3333333333333333,
              "#9c179e"
             ],
             [
              0.4444444444444444,
              "#bd3786"
             ],
             [
              0.5555555555555556,
              "#d8576b"
             ],
             [
              0.6666666666666666,
              "#ed7953"
             ],
             [
              0.7777777777777778,
              "#fb9f3a"
             ],
             [
              0.8888888888888888,
              "#fdca26"
             ],
             [
              1,
              "#f0f921"
             ]
            ],
            "type": "contour"
           }
          ],
          "contourcarpet": [
           {
            "colorbar": {
             "outlinewidth": 0,
             "ticks": ""
            },
            "type": "contourcarpet"
           }
          ],
          "heatmap": [
           {
            "colorbar": {
             "outlinewidth": 0,
             "ticks": ""
            },
            "colorscale": [
             [
              0,
              "#0d0887"
             ],
             [
              0.1111111111111111,
              "#46039f"
             ],
             [
              0.2222222222222222,
              "#7201a8"
             ],
             [
              0.3333333333333333,
              "#9c179e"
             ],
             [
              0.4444444444444444,
              "#bd3786"
             ],
             [
              0.5555555555555556,
              "#d8576b"
             ],
             [
              0.6666666666666666,
              "#ed7953"
             ],
             [
              0.7777777777777778,
              "#fb9f3a"
             ],
             [
              0.8888888888888888,
              "#fdca26"
             ],
             [
              1,
              "#f0f921"
             ]
            ],
            "type": "heatmap"
           }
          ],
          "heatmapgl": [
           {
            "colorbar": {
             "outlinewidth": 0,
             "ticks": ""
            },
            "colorscale": [
             [
              0,
              "#0d0887"
             ],
             [
              0.1111111111111111,
              "#46039f"
             ],
             [
              0.2222222222222222,
              "#7201a8"
             ],
             [
              0.3333333333333333,
              "#9c179e"
             ],
             [
              0.4444444444444444,
              "#bd3786"
             ],
             [
              0.5555555555555556,
              "#d8576b"
             ],
             [
              0.6666666666666666,
              "#ed7953"
             ],
             [
              0.7777777777777778,
              "#fb9f3a"
             ],
             [
              0.8888888888888888,
              "#fdca26"
             ],
             [
              1,
              "#f0f921"
             ]
            ],
            "type": "heatmapgl"
           }
          ],
          "histogram": [
           {
            "marker": {
             "pattern": {
              "fillmode": "overlay",
              "size": 10,
              "solidity": 0.2
             }
            },
            "type": "histogram"
           }
          ],
          "histogram2d": [
           {
            "colorbar": {
             "outlinewidth": 0,
             "ticks": ""
            },
            "colorscale": [
             [
              0,
              "#0d0887"
             ],
             [
              0.1111111111111111,
              "#46039f"
             ],
             [
              0.2222222222222222,
              "#7201a8"
             ],
             [
              0.3333333333333333,
              "#9c179e"
             ],
             [
              0.4444444444444444,
              "#bd3786"
             ],
             [
              0.5555555555555556,
              "#d8576b"
             ],
             [
              0.6666666666666666,
              "#ed7953"
             ],
             [
              0.7777777777777778,
              "#fb9f3a"
             ],
             [
              0.8888888888888888,
              "#fdca26"
             ],
             [
              1,
              "#f0f921"
             ]
            ],
            "type": "histogram2d"
           }
          ],
          "histogram2dcontour": [
           {
            "colorbar": {
             "outlinewidth": 0,
             "ticks": ""
            },
            "colorscale": [
             [
              0,
              "#0d0887"
             ],
             [
              0.1111111111111111,
              "#46039f"
             ],
             [
              0.2222222222222222,
              "#7201a8"
             ],
             [
              0.3333333333333333,
              "#9c179e"
             ],
             [
              0.4444444444444444,
              "#bd3786"
             ],
             [
              0.5555555555555556,
              "#d8576b"
             ],
             [
              0.6666666666666666,
              "#ed7953"
             ],
             [
              0.7777777777777778,
              "#fb9f3a"
             ],
             [
              0.8888888888888888,
              "#fdca26"
             ],
             [
              1,
              "#f0f921"
             ]
            ],
            "type": "histogram2dcontour"
           }
          ],
          "mesh3d": [
           {
            "colorbar": {
             "outlinewidth": 0,
             "ticks": ""
            },
            "type": "mesh3d"
           }
          ],
          "parcoords": [
           {
            "line": {
             "colorbar": {
              "outlinewidth": 0,
              "ticks": ""
             }
            },
            "type": "parcoords"
           }
          ],
          "pie": [
           {
            "automargin": true,
            "type": "pie"
           }
          ],
          "scatter": [
           {
            "fillpattern": {
             "fillmode": "overlay",
             "size": 10,
             "solidity": 0.2
            },
            "type": "scatter"
           }
          ],
          "scatter3d": [
           {
            "line": {
             "colorbar": {
              "outlinewidth": 0,
              "ticks": ""
             }
            },
            "marker": {
             "colorbar": {
              "outlinewidth": 0,
              "ticks": ""
             }
            },
            "type": "scatter3d"
           }
          ],
          "scattercarpet": [
           {
            "marker": {
             "colorbar": {
              "outlinewidth": 0,
              "ticks": ""
             }
            },
            "type": "scattercarpet"
           }
          ],
          "scattergeo": [
           {
            "marker": {
             "colorbar": {
              "outlinewidth": 0,
              "ticks": ""
             }
            },
            "type": "scattergeo"
           }
          ],
          "scattergl": [
           {
            "marker": {
             "colorbar": {
              "outlinewidth": 0,
              "ticks": ""
             }
            },
            "type": "scattergl"
           }
          ],
          "scattermapbox": [
           {
            "marker": {
             "colorbar": {
              "outlinewidth": 0,
              "ticks": ""
             }
            },
            "type": "scattermapbox"
           }
          ],
          "scatterpolar": [
           {
            "marker": {
             "colorbar": {
              "outlinewidth": 0,
              "ticks": ""
             }
            },
            "type": "scatterpolar"
           }
          ],
          "scatterpolargl": [
           {
            "marker": {
             "colorbar": {
              "outlinewidth": 0,
              "ticks": ""
             }
            },
            "type": "scatterpolargl"
           }
          ],
          "scatterternary": [
           {
            "marker": {
             "colorbar": {
              "outlinewidth": 0,
              "ticks": ""
             }
            },
            "type": "scatterternary"
           }
          ],
          "surface": [
           {
            "colorbar": {
             "outlinewidth": 0,
             "ticks": ""
            },
            "colorscale": [
             [
              0,
              "#0d0887"
             ],
             [
              0.1111111111111111,
              "#46039f"
             ],
             [
              0.2222222222222222,
              "#7201a8"
             ],
             [
              0.3333333333333333,
              "#9c179e"
             ],
             [
              0.4444444444444444,
              "#bd3786"
             ],
             [
              0.5555555555555556,
              "#d8576b"
             ],
             [
              0.6666666666666666,
              "#ed7953"
             ],
             [
              0.7777777777777778,
              "#fb9f3a"
             ],
             [
              0.8888888888888888,
              "#fdca26"
             ],
             [
              1,
              "#f0f921"
             ]
            ],
            "type": "surface"
           }
          ],
          "table": [
           {
            "cells": {
             "fill": {
              "color": "#EBF0F8"
             },
             "line": {
              "color": "white"
             }
            },
            "header": {
             "fill": {
              "color": "#C8D4E3"
             },
             "line": {
              "color": "white"
             }
            },
            "type": "table"
           }
          ]
         },
         "layout": {
          "annotationdefaults": {
           "arrowcolor": "#2a3f5f",
           "arrowhead": 0,
           "arrowwidth": 1
          },
          "autotypenumbers": "strict",
          "coloraxis": {
           "colorbar": {
            "outlinewidth": 0,
            "ticks": ""
           }
          },
          "colorscale": {
           "diverging": [
            [
             0,
             "#8e0152"
            ],
            [
             0.1,
             "#c51b7d"
            ],
            [
             0.2,
             "#de77ae"
            ],
            [
             0.3,
             "#f1b6da"
            ],
            [
             0.4,
             "#fde0ef"
            ],
            [
             0.5,
             "#f7f7f7"
            ],
            [
             0.6,
             "#e6f5d0"
            ],
            [
             0.7,
             "#b8e186"
            ],
            [
             0.8,
             "#7fbc41"
            ],
            [
             0.9,
             "#4d9221"
            ],
            [
             1,
             "#276419"
            ]
           ],
           "sequential": [
            [
             0,
             "#0d0887"
            ],
            [
             0.1111111111111111,
             "#46039f"
            ],
            [
             0.2222222222222222,
             "#7201a8"
            ],
            [
             0.3333333333333333,
             "#9c179e"
            ],
            [
             0.4444444444444444,
             "#bd3786"
            ],
            [
             0.5555555555555556,
             "#d8576b"
            ],
            [
             0.6666666666666666,
             "#ed7953"
            ],
            [
             0.7777777777777778,
             "#fb9f3a"
            ],
            [
             0.8888888888888888,
             "#fdca26"
            ],
            [
             1,
             "#f0f921"
            ]
           ],
           "sequentialminus": [
            [
             0,
             "#0d0887"
            ],
            [
             0.1111111111111111,
             "#46039f"
            ],
            [
             0.2222222222222222,
             "#7201a8"
            ],
            [
             0.3333333333333333,
             "#9c179e"
            ],
            [
             0.4444444444444444,
             "#bd3786"
            ],
            [
             0.5555555555555556,
             "#d8576b"
            ],
            [
             0.6666666666666666,
             "#ed7953"
            ],
            [
             0.7777777777777778,
             "#fb9f3a"
            ],
            [
             0.8888888888888888,
             "#fdca26"
            ],
            [
             1,
             "#f0f921"
            ]
           ]
          },
          "colorway": [
           "#636efa",
           "#EF553B",
           "#00cc96",
           "#ab63fa",
           "#FFA15A",
           "#19d3f3",
           "#FF6692",
           "#B6E880",
           "#FF97FF",
           "#FECB52"
          ],
          "font": {
           "color": "#2a3f5f"
          },
          "geo": {
           "bgcolor": "white",
           "lakecolor": "white",
           "landcolor": "#E5ECF6",
           "showlakes": true,
           "showland": true,
           "subunitcolor": "white"
          },
          "hoverlabel": {
           "align": "left"
          },
          "hovermode": "closest",
          "mapbox": {
           "style": "light"
          },
          "paper_bgcolor": "white",
          "plot_bgcolor": "#E5ECF6",
          "polar": {
           "angularaxis": {
            "gridcolor": "white",
            "linecolor": "white",
            "ticks": ""
           },
           "bgcolor": "#E5ECF6",
           "radialaxis": {
            "gridcolor": "white",
            "linecolor": "white",
            "ticks": ""
           }
          },
          "scene": {
           "xaxis": {
            "backgroundcolor": "#E5ECF6",
            "gridcolor": "white",
            "gridwidth": 2,
            "linecolor": "white",
            "showbackground": true,
            "ticks": "",
            "zerolinecolor": "white"
           },
           "yaxis": {
            "backgroundcolor": "#E5ECF6",
            "gridcolor": "white",
            "gridwidth": 2,
            "linecolor": "white",
            "showbackground": true,
            "ticks": "",
            "zerolinecolor": "white"
           },
           "zaxis": {
            "backgroundcolor": "#E5ECF6",
            "gridcolor": "white",
            "gridwidth": 2,
            "linecolor": "white",
            "showbackground": true,
            "ticks": "",
            "zerolinecolor": "white"
           }
          },
          "shapedefaults": {
           "line": {
            "color": "#2a3f5f"
           }
          },
          "ternary": {
           "aaxis": {
            "gridcolor": "white",
            "linecolor": "white",
            "ticks": ""
           },
           "baxis": {
            "gridcolor": "white",
            "linecolor": "white",
            "ticks": ""
           },
           "bgcolor": "#E5ECF6",
           "caxis": {
            "gridcolor": "white",
            "linecolor": "white",
            "ticks": ""
           }
          },
          "title": {
           "x": 0.05
          },
          "xaxis": {
           "automargin": true,
           "gridcolor": "white",
           "linecolor": "white",
           "ticks": "",
           "title": {
            "standoff": 15
           },
           "zerolinecolor": "white",
           "zerolinewidth": 2
          },
          "yaxis": {
           "automargin": true,
           "gridcolor": "white",
           "linecolor": "white",
           "ticks": "",
           "title": {
            "standoff": 15
           },
           "zerolinecolor": "white",
           "zerolinewidth": 2
          }
         }
        },
        "title": {
         "text": "Significance of Interaction Terms",
         "x": 0.5
        },
        "width": 600,
        "xaxis": {
         "anchor": "y",
         "constrain": "domain",
         "domain": [
          0,
          1
         ],
         "scaleanchor": "y",
         "title": {
          "text": "Interaction Terms"
         }
        },
        "yaxis": {
         "anchor": "x",
         "autorange": "reversed",
         "constrain": "domain",
         "domain": [
          0,
          1
         ],
         "title": {
          "text": "Independent Variables"
         }
        }
       }
      }
     },
     "metadata": {},
     "output_type": "display_data"
    }
   ],
   "source": [
    "all_values = pd.DataFrame(all_values)\n",
    "\n",
    "all_values.index = ['const'] + ind_vars\n",
    "\n",
    "# turn each into a boolean 1 if greater than 0.05 and otherwise 0\n",
    "all_values = all_values.apply(lambda x: x < 0.05)\n",
    "\n",
    "all_values = all_values.astype(int)\n",
    "\n",
    "#all_values = all_values[['has_stores', 'no_stores', 'founded_before_2000', 'founded_after_2000', 'big_employees', 'small_employees',  'big_assets', 'small_assets']]\n",
    "\n",
    "# Define a custom colormap with white for False and light blue for True\n",
    "colorscale = [[0, 'lightblue'], [1, 'lightcoral']]\n",
    "\n",
    "# Create the heatmap\n",
    "fig = px.imshow(\n",
    "    all_values,\n",
    "    labels=dict(x=\"Interaction Terms\", y=\"Independent Variables\", color=\"Significance\"),\n",
    "    title='Significance of Interaction Terms',\n",
    "    color_continuous_scale=colorscale\n",
    ")\n",
    "\n",
    "# Update the layout to show a boolean legend\n",
    "fig.update_layout(\n",
    "    coloraxis_colorbar=dict(\n",
    "        title='',\n",
    "        tickvals=[0, 1],\n",
    "        ticktext=['Not Significant', 'Significant'],\n",
    "        lenmode='fraction',\n",
    "        len=0.5\n",
    "    )\n",
    ")\n",
    "\n",
    "# Update the figure size\n",
    "fig.update_layout(\n",
    "    autosize=False,\n",
    "    width=600,\n",
    "    height=600\n",
    ")\n",
    "\n",
    "# Center the title \n",
    "fig.update_layout(title_x=0.5)\n",
    "\n",
    "fig.show()"
   ]
  },
  {
   "cell_type": "markdown",
   "metadata": {},
   "source": []
  },
  {
   "cell_type": "markdown",
   "metadata": {},
   "source": [
    "has stores\n",
    "    apr\n",
    "    lag\n",
    "\n",
    "no stores\n",
    "    cross vistiation\n",
    "    apr\n",
    "    lag\n",
    "    incentives\n",
    "\n",
    "before 2000\n",
    "    price per customer\n",
    "\n",
    "after 2000\n",
    "    cross vistation\n",
    "    search interest\n",
    "    incentive\n",
    "\n",
    "big employees\n",
    "    search interest\n",
    "\n",
    "small employees\n",
    "    search interest\n",
    "    incentives\n",
    "\n",
    "big assets\n",
    "    apr\n",
    "    ppc\n",
    "    incentives\n",
    "\n",
    "small asset\n",
    "    cross visitation\n",
    "    search interest\n",
    "    incentives\n",
    "    ppc\n",
    "\n"
   ]
  },
  {
   "cell_type": "markdown",
   "metadata": {},
   "source": [
    "has stores\n",
    "    apr\n",
    "    lag\n",
    "\n",
    "no stores\n",
    "    cross visitation\n",
    "        rank\n",
    "        incentive \n",
    "        apr\n",
    "\n",
    "before 2000\n",
    "    price per customer\n",
    "\n",
    "big employees\n",
    "    search interest\n",
    "\n",
    "big assets\n",
    "    apr\n",
    "    ppc\n",
    "    incentives\n"
   ]
  },
  {
   "cell_type": "markdown",
   "metadata": {},
   "source": [
    "\n",
    "\n",
    "\n",
    "with stores: \n",
    "    search interest\n",
    "    apr \n",
    "wo stores: \n",
    "    search interest\n",
    "    incentive\n",
    "    apr\n",
    "    rank\n",
    "\n",
    "\n",
    "before 2000\n",
    "    search interest \n",
    "    rank \n",
    "after 2000 \n",
    "    cross visitation \n",
    "    search interst \n",
    "    incentive\n",
    "\n",
    "\n",
    "\n",
    "\n",
    "\n",
    "large employee count \n",
    "    search interest\n",
    "small employee count \n",
    "    search interst \n",
    "    incentive \n",
    "\n",
    "\n",
    "\n",
    "large assets\n",
    "    search interest\n",
    "    rank\n",
    "small assets\n",
    "    cross visitation\n",
    "    search interest\n",
    "    incentive\n",
    "\n",
    "\n",
    "apr has interesting significance in neobanks without a physical presence contributing a majority to the model\n"
   ]
  },
  {
   "cell_type": "markdown",
   "metadata": {},
   "source": [
    "cross visitation search interest all significant for big asset banks\n",
    "\n",
    "search interest and rank significant for large employee banks \n",
    "\n",
    "cross visitation incentive and apr are significant for old banks \n",
    "\n",
    "cross visitation incentive apr significant for brick and mortar banks\n"
   ]
  },
  {
   "cell_type": "markdown",
   "metadata": {},
   "source": [
    "cross visitation and rank significant for small asset banks\n",
    "\n",
    "rank and apr significant for small employee banks \n",
    "\n",
    "cross visitation and rank significant for new banks \n",
    "\n",
    "cross visitation search interest rank significant for neo banks"
   ]
  },
  {
   "cell_type": "markdown",
   "metadata": {},
   "source": [
    "incentive and apr are more significant for older banks with a brick and mortar presence while newer banks with no physical presence are more affected by search interest and rank. \n",
    "This is interesting because is means the newer banks are relying on digital advertising and search engine optimization to drive traffic to their websites."
   ]
  },
  {
   "cell_type": "markdown",
   "metadata": {},
   "source": [
    "rank and cross visitation are significant across most model specifications which means that all of the banks still rely on digital advertising to drive traffic to their websites."
   ]
  },
  {
   "cell_type": "code",
   "execution_count": 758,
   "metadata": {},
   "outputs": [
    {
     "name": "stdout",
     "output_type": "stream",
     "text": [
      "                             Variable       VIF\n",
      "0                               const  1.832707\n",
      "1  small_assets x log_web_traffic_lag  2.207437\n",
      "2     small_assets x cross_visitation  1.696682\n",
      "3      small_assets x search_interest  1.328713\n",
      "4                  small_assets x apr  1.156823\n",
      "5             small_assets x mentions  1.221388\n",
      "6        small_assets x log_incentive  2.206878\n",
      "7              small_assets x log_ppc  2.008744\n",
      "8              small_assets x month_1  1.030006\n"
     ]
    }
   ],
   "source": [
    "X.fillna(0, inplace=True)\n",
    "\n",
    "vif = pd.DataFrame()\n",
    "vif[\"Variable\"] = X.columns\n",
    "vif[\"VIF\"] = [variance_inflation_factor(X.values, i) for i in range(X.shape[1])]\n",
    "\n",
    "print(vif)"
   ]
  },
  {
   "cell_type": "code",
   "execution_count": 759,
   "metadata": {},
   "outputs": [
    {
     "data": {
      "text/plain": [
       "Index(['bank', 'date', 'web_traffic', 'cross_visitation', 'search_interest',\n",
       "       'rank', 'incentive', 'apr', 'mentions', 'app_installs', 'ppc_spend',\n",
       "       'has_stores', 'founded_before_2000', 'big_employees', 'big_assets',\n",
       "       'log_web_traffic', 'log_incentive', 'log_ppc', 'log_app_installs'],\n",
       "      dtype='object')"
      ]
     },
     "execution_count": 759,
     "metadata": {},
     "output_type": "execute_result"
    }
   ],
   "source": [
    "data.columns"
   ]
  },
  {
   "cell_type": "code",
   "execution_count": 762,
   "metadata": {},
   "outputs": [
    {
     "data": {
      "application/vnd.plotly.v1+json": {
       "config": {
        "plotlyServerURL": "https://plot.ly"
       },
       "data": [
        {
         "colorscale": [
          [
           0,
           "lightblue"
          ],
          [
           1,
           "lightcoral"
          ]
         ],
         "showscale": false,
         "type": "heatmap",
         "x": [
          "Is Brick and Mortar",
          "Founded before 2000",
          "Large Employee Count",
          "Large AUM"
         ],
         "y": [
          "abanca",
          "abanca",
          "abanca",
          "abanca",
          "abanca",
          "abanca",
          "abanca",
          "abanca",
          "abanca",
          "abanca",
          "abanca",
          "abanca",
          "abanca",
          "abanca",
          "abanca",
          "abanca",
          "abanca",
          "abanca",
          "abanca",
          "abanca",
          "abanca",
          "abanca",
          "abanca",
          "abanca",
          "abanca",
          "n26",
          "n26",
          "n26",
          "n26",
          "n26",
          "n26",
          "n26",
          "n26",
          "n26",
          "n26",
          "n26",
          "n26",
          "n26",
          "n26",
          "n26",
          "n26",
          "n26",
          "n26",
          "n26",
          "n26",
          "n26",
          "n26",
          "n26",
          "n26",
          "n26",
          "banc sabadell",
          "banc sabadell",
          "banc sabadell",
          "banc sabadell",
          "banc sabadell",
          "banc sabadell",
          "banc sabadell",
          "banc sabadell",
          "banc sabadell",
          "banc sabadell",
          "banc sabadell",
          "banc sabadell",
          "banc sabadell",
          "banc sabadell",
          "banc sabadell",
          "banc sabadell",
          "banc sabadell",
          "banc sabadell",
          "banc sabadell",
          "banc sabadell",
          "banc sabadell",
          "banc sabadell",
          "banc sabadell",
          "banc sabadell",
          "banc sabadell",
          "ing",
          "ing",
          "ing",
          "ing",
          "ing",
          "ing",
          "ing",
          "ing",
          "ing",
          "ing",
          "ing",
          "ing",
          "ing",
          "ing",
          "ing",
          "ing",
          "ing",
          "ing",
          "ing",
          "ing",
          "ing",
          "ing",
          "ing",
          "ing",
          "ing",
          "bbva",
          "bbva",
          "bbva",
          "bbva",
          "bbva",
          "bbva",
          "bbva",
          "bbva",
          "bbva",
          "bbva",
          "bbva",
          "bbva",
          "bbva",
          "bbva",
          "bbva",
          "bbva",
          "bbva",
          "bbva",
          "bbva",
          "bbva",
          "bbva",
          "bbva",
          "bbva",
          "bbva",
          "bbva",
          "revolut",
          "revolut",
          "revolut",
          "revolut",
          "revolut",
          "revolut",
          "revolut",
          "revolut",
          "revolut",
          "revolut",
          "revolut",
          "revolut",
          "revolut",
          "revolut",
          "revolut",
          "revolut",
          "revolut",
          "revolut",
          "revolut",
          "revolut",
          "revolut",
          "revolut",
          "revolut",
          "revolut",
          "revolut",
          "openbank",
          "openbank",
          "openbank",
          "openbank",
          "openbank",
          "openbank",
          "openbank",
          "openbank",
          "openbank",
          "openbank",
          "openbank",
          "openbank",
          "openbank",
          "openbank",
          "openbank",
          "openbank",
          "openbank",
          "openbank",
          "openbank",
          "openbank",
          "openbank",
          "openbank",
          "openbank",
          "openbank",
          "openbank",
          "myinvestor",
          "myinvestor",
          "myinvestor",
          "myinvestor",
          "myinvestor",
          "myinvestor",
          "myinvestor",
          "myinvestor",
          "myinvestor",
          "myinvestor",
          "myinvestor",
          "myinvestor",
          "myinvestor",
          "myinvestor",
          "myinvestor",
          "myinvestor",
          "myinvestor",
          "myinvestor",
          "myinvestor",
          "myinvestor",
          "myinvestor",
          "myinvestor",
          "myinvestor",
          "myinvestor",
          "myinvestor",
          "bankinter",
          "bankinter",
          "bankinter",
          "bankinter",
          "bankinter",
          "bankinter",
          "bankinter",
          "bankinter",
          "bankinter",
          "bankinter",
          "bankinter",
          "bankinter",
          "bankinter",
          "bankinter",
          "bankinter",
          "bankinter",
          "bankinter",
          "bankinter",
          "bankinter",
          "bankinter",
          "bankinter",
          "bankinter",
          "bankinter",
          "bankinter",
          "bankinter",
          "evobanco",
          "evobanco",
          "evobanco",
          "evobanco",
          "evobanco",
          "evobanco",
          "evobanco",
          "evobanco",
          "evobanco",
          "evobanco",
          "evobanco",
          "evobanco",
          "evobanco",
          "evobanco",
          "evobanco",
          "evobanco",
          "evobanco",
          "evobanco",
          "evobanco",
          "evobanco",
          "evobanco",
          "evobanco",
          "evobanco",
          "evobanco",
          "evobanco",
          "santander",
          "santander",
          "santander",
          "santander",
          "santander",
          "santander",
          "santander",
          "santander",
          "santander",
          "santander",
          "santander",
          "santander",
          "santander",
          "santander",
          "santander",
          "santander",
          "santander",
          "santander",
          "santander",
          "santander",
          "santander",
          "santander",
          "santander",
          "santander",
          "santander"
         ],
         "z": [
          [
           1,
           0,
           0,
           0
          ],
          [
           1,
           0,
           0,
           0
          ],
          [
           1,
           0,
           0,
           0
          ],
          [
           1,
           0,
           0,
           0
          ],
          [
           1,
           0,
           0,
           0
          ],
          [
           1,
           0,
           0,
           0
          ],
          [
           1,
           0,
           0,
           0
          ],
          [
           1,
           0,
           0,
           0
          ],
          [
           1,
           0,
           0,
           0
          ],
          [
           1,
           0,
           0,
           0
          ],
          [
           1,
           0,
           0,
           0
          ],
          [
           1,
           0,
           0,
           0
          ],
          [
           1,
           0,
           0,
           0
          ],
          [
           1,
           0,
           0,
           0
          ],
          [
           1,
           0,
           0,
           0
          ],
          [
           1,
           0,
           0,
           0
          ],
          [
           1,
           0,
           0,
           0
          ],
          [
           1,
           0,
           0,
           0
          ],
          [
           1,
           0,
           0,
           0
          ],
          [
           1,
           0,
           0,
           0
          ],
          [
           1,
           0,
           0,
           0
          ],
          [
           1,
           0,
           0,
           0
          ],
          [
           1,
           0,
           0,
           0
          ],
          [
           1,
           0,
           0,
           0
          ],
          [
           1,
           0,
           0,
           0
          ],
          [
           0,
           0,
           0,
           0
          ],
          [
           0,
           0,
           0,
           0
          ],
          [
           0,
           0,
           0,
           0
          ],
          [
           0,
           0,
           0,
           0
          ],
          [
           0,
           0,
           0,
           0
          ],
          [
           0,
           0,
           0,
           0
          ],
          [
           0,
           0,
           0,
           0
          ],
          [
           0,
           0,
           0,
           0
          ],
          [
           0,
           0,
           0,
           0
          ],
          [
           0,
           0,
           0,
           0
          ],
          [
           0,
           0,
           0,
           0
          ],
          [
           0,
           0,
           0,
           0
          ],
          [
           0,
           0,
           0,
           0
          ],
          [
           0,
           0,
           0,
           0
          ],
          [
           0,
           0,
           0,
           0
          ],
          [
           0,
           0,
           0,
           0
          ],
          [
           0,
           0,
           0,
           0
          ],
          [
           0,
           0,
           0,
           0
          ],
          [
           0,
           0,
           0,
           0
          ],
          [
           0,
           0,
           0,
           0
          ],
          [
           0,
           0,
           0,
           0
          ],
          [
           0,
           0,
           0,
           0
          ],
          [
           0,
           0,
           0,
           0
          ],
          [
           0,
           0,
           0,
           0
          ],
          [
           0,
           0,
           0,
           0
          ],
          [
           1,
           1,
           1,
           1
          ],
          [
           1,
           1,
           1,
           1
          ],
          [
           1,
           1,
           1,
           1
          ],
          [
           1,
           1,
           1,
           1
          ],
          [
           1,
           1,
           1,
           1
          ],
          [
           1,
           1,
           1,
           1
          ],
          [
           1,
           1,
           1,
           1
          ],
          [
           1,
           1,
           1,
           1
          ],
          [
           1,
           1,
           1,
           1
          ],
          [
           1,
           1,
           1,
           1
          ],
          [
           1,
           1,
           1,
           1
          ],
          [
           1,
           1,
           1,
           1
          ],
          [
           1,
           1,
           1,
           1
          ],
          [
           1,
           1,
           1,
           1
          ],
          [
           1,
           1,
           1,
           1
          ],
          [
           1,
           1,
           1,
           1
          ],
          [
           1,
           1,
           1,
           1
          ],
          [
           1,
           1,
           1,
           1
          ],
          [
           1,
           1,
           1,
           1
          ],
          [
           1,
           1,
           1,
           1
          ],
          [
           1,
           1,
           1,
           1
          ],
          [
           1,
           1,
           1,
           1
          ],
          [
           1,
           1,
           1,
           1
          ],
          [
           1,
           1,
           1,
           1
          ],
          [
           1,
           1,
           1,
           1
          ],
          [
           1,
           1,
           1,
           1
          ],
          [
           1,
           1,
           1,
           1
          ],
          [
           1,
           1,
           1,
           1
          ],
          [
           1,
           1,
           1,
           1
          ],
          [
           1,
           1,
           1,
           1
          ],
          [
           1,
           1,
           1,
           1
          ],
          [
           1,
           1,
           1,
           1
          ],
          [
           1,
           1,
           1,
           1
          ],
          [
           1,
           1,
           1,
           1
          ],
          [
           1,
           1,
           1,
           1
          ],
          [
           1,
           1,
           1,
           1
          ],
          [
           1,
           1,
           1,
           1
          ],
          [
           1,
           1,
           1,
           1
          ],
          [
           1,
           1,
           1,
           1
          ],
          [
           1,
           1,
           1,
           1
          ],
          [
           1,
           1,
           1,
           1
          ],
          [
           1,
           1,
           1,
           1
          ],
          [
           1,
           1,
           1,
           1
          ],
          [
           1,
           1,
           1,
           1
          ],
          [
           1,
           1,
           1,
           1
          ],
          [
           1,
           1,
           1,
           1
          ],
          [
           1,
           1,
           1,
           1
          ],
          [
           1,
           1,
           1,
           1
          ],
          [
           1,
           1,
           1,
           1
          ],
          [
           1,
           1,
           1,
           1
          ],
          [
           1,
           1,
           1,
           1
          ],
          [
           1,
           1,
           1,
           1
          ],
          [
           1,
           1,
           1,
           1
          ],
          [
           1,
           1,
           1,
           1
          ],
          [
           1,
           1,
           1,
           1
          ],
          [
           1,
           1,
           1,
           1
          ],
          [
           1,
           1,
           1,
           1
          ],
          [
           1,
           1,
           1,
           1
          ],
          [
           1,
           1,
           1,
           1
          ],
          [
           1,
           1,
           1,
           1
          ],
          [
           1,
           1,
           1,
           1
          ],
          [
           1,
           1,
           1,
           1
          ],
          [
           1,
           1,
           1,
           1
          ],
          [
           1,
           1,
           1,
           1
          ],
          [
           1,
           1,
           1,
           1
          ],
          [
           1,
           1,
           1,
           1
          ],
          [
           1,
           1,
           1,
           1
          ],
          [
           1,
           1,
           1,
           1
          ],
          [
           1,
           1,
           1,
           1
          ],
          [
           1,
           1,
           1,
           1
          ],
          [
           1,
           1,
           1,
           1
          ],
          [
           1,
           1,
           1,
           1
          ],
          [
           1,
           1,
           1,
           1
          ],
          [
           1,
           1,
           1,
           1
          ],
          [
           1,
           1,
           1,
           1
          ],
          [
           0,
           0,
           1,
           0
          ],
          [
           0,
           0,
           1,
           0
          ],
          [
           0,
           0,
           1,
           0
          ],
          [
           0,
           0,
           1,
           0
          ],
          [
           0,
           0,
           1,
           0
          ],
          [
           0,
           0,
           1,
           0
          ],
          [
           0,
           0,
           1,
           0
          ],
          [
           0,
           0,
           1,
           0
          ],
          [
           0,
           0,
           1,
           0
          ],
          [
           0,
           0,
           1,
           0
          ],
          [
           0,
           0,
           1,
           0
          ],
          [
           0,
           0,
           1,
           0
          ],
          [
           0,
           0,
           1,
           0
          ],
          [
           0,
           0,
           1,
           0
          ],
          [
           0,
           0,
           1,
           0
          ],
          [
           0,
           0,
           1,
           0
          ],
          [
           0,
           0,
           1,
           0
          ],
          [
           0,
           0,
           1,
           0
          ],
          [
           0,
           0,
           1,
           0
          ],
          [
           0,
           0,
           1,
           0
          ],
          [
           0,
           0,
           1,
           0
          ],
          [
           0,
           0,
           1,
           0
          ],
          [
           0,
           0,
           1,
           0
          ],
          [
           0,
           0,
           1,
           0
          ],
          [
           0,
           0,
           1,
           0
          ],
          [
           0,
           1,
           0,
           0
          ],
          [
           0,
           1,
           0,
           0
          ],
          [
           0,
           1,
           0,
           0
          ],
          [
           0,
           1,
           0,
           0
          ],
          [
           0,
           1,
           0,
           0
          ],
          [
           0,
           1,
           0,
           0
          ],
          [
           0,
           1,
           0,
           0
          ],
          [
           0,
           1,
           0,
           0
          ],
          [
           0,
           1,
           0,
           0
          ],
          [
           0,
           1,
           0,
           0
          ],
          [
           0,
           1,
           0,
           0
          ],
          [
           0,
           1,
           0,
           0
          ],
          [
           0,
           1,
           0,
           0
          ],
          [
           0,
           1,
           0,
           0
          ],
          [
           0,
           1,
           0,
           0
          ],
          [
           0,
           1,
           0,
           0
          ],
          [
           0,
           1,
           0,
           0
          ],
          [
           0,
           1,
           0,
           0
          ],
          [
           0,
           1,
           0,
           0
          ],
          [
           0,
           1,
           0,
           0
          ],
          [
           0,
           1,
           0,
           0
          ],
          [
           0,
           1,
           0,
           0
          ],
          [
           0,
           1,
           0,
           0
          ],
          [
           0,
           1,
           0,
           0
          ],
          [
           0,
           1,
           0,
           0
          ],
          [
           0,
           0,
           0,
           0
          ],
          [
           0,
           0,
           0,
           0
          ],
          [
           0,
           0,
           0,
           0
          ],
          [
           0,
           0,
           0,
           0
          ],
          [
           0,
           0,
           0,
           0
          ],
          [
           0,
           0,
           0,
           0
          ],
          [
           0,
           0,
           0,
           0
          ],
          [
           0,
           0,
           0,
           0
          ],
          [
           0,
           0,
           0,
           0
          ],
          [
           0,
           0,
           0,
           0
          ],
          [
           0,
           0,
           0,
           0
          ],
          [
           0,
           0,
           0,
           0
          ],
          [
           0,
           0,
           0,
           0
          ],
          [
           0,
           0,
           0,
           0
          ],
          [
           0,
           0,
           0,
           0
          ],
          [
           0,
           0,
           0,
           0
          ],
          [
           0,
           0,
           0,
           0
          ],
          [
           0,
           0,
           0,
           0
          ],
          [
           0,
           0,
           0,
           0
          ],
          [
           0,
           0,
           0,
           0
          ],
          [
           0,
           0,
           0,
           0
          ],
          [
           0,
           0,
           0,
           0
          ],
          [
           0,
           0,
           0,
           0
          ],
          [
           0,
           0,
           0,
           0
          ],
          [
           0,
           0,
           0,
           0
          ],
          [
           1,
           1,
           1,
           1
          ],
          [
           1,
           1,
           1,
           1
          ],
          [
           1,
           1,
           1,
           1
          ],
          [
           1,
           1,
           1,
           1
          ],
          [
           1,
           1,
           1,
           1
          ],
          [
           1,
           1,
           1,
           1
          ],
          [
           1,
           1,
           1,
           1
          ],
          [
           1,
           1,
           1,
           1
          ],
          [
           1,
           1,
           1,
           1
          ],
          [
           1,
           1,
           1,
           1
          ],
          [
           1,
           1,
           1,
           1
          ],
          [
           1,
           1,
           1,
           1
          ],
          [
           1,
           1,
           1,
           1
          ],
          [
           1,
           1,
           1,
           1
          ],
          [
           1,
           1,
           1,
           1
          ],
          [
           1,
           1,
           1,
           1
          ],
          [
           1,
           1,
           1,
           1
          ],
          [
           1,
           1,
           1,
           1
          ],
          [
           1,
           1,
           1,
           1
          ],
          [
           1,
           1,
           1,
           1
          ],
          [
           1,
           1,
           1,
           1
          ],
          [
           1,
           1,
           1,
           1
          ],
          [
           1,
           1,
           1,
           1
          ],
          [
           1,
           1,
           1,
           1
          ],
          [
           1,
           1,
           1,
           1
          ],
          [
           0,
           0,
           0,
           0
          ],
          [
           0,
           0,
           0,
           0
          ],
          [
           0,
           0,
           0,
           0
          ],
          [
           0,
           0,
           0,
           0
          ],
          [
           0,
           0,
           0,
           0
          ],
          [
           0,
           0,
           0,
           0
          ],
          [
           0,
           0,
           0,
           0
          ],
          [
           0,
           0,
           0,
           0
          ],
          [
           0,
           0,
           0,
           0
          ],
          [
           0,
           0,
           0,
           0
          ],
          [
           0,
           0,
           0,
           0
          ],
          [
           0,
           0,
           0,
           0
          ],
          [
           0,
           0,
           0,
           0
          ],
          [
           0,
           0,
           0,
           0
          ],
          [
           0,
           0,
           0,
           0
          ],
          [
           0,
           0,
           0,
           0
          ],
          [
           0,
           0,
           0,
           0
          ],
          [
           0,
           0,
           0,
           0
          ],
          [
           0,
           0,
           0,
           0
          ],
          [
           0,
           0,
           0,
           0
          ],
          [
           0,
           0,
           0,
           0
          ],
          [
           0,
           0,
           0,
           0
          ],
          [
           0,
           0,
           0,
           0
          ],
          [
           0,
           0,
           0,
           0
          ],
          [
           0,
           0,
           0,
           0
          ],
          [
           1,
           1,
           1,
           1
          ],
          [
           1,
           1,
           1,
           1
          ],
          [
           1,
           1,
           1,
           1
          ],
          [
           1,
           1,
           1,
           1
          ],
          [
           1,
           1,
           1,
           1
          ],
          [
           1,
           1,
           1,
           1
          ],
          [
           1,
           1,
           1,
           1
          ],
          [
           1,
           1,
           1,
           1
          ],
          [
           1,
           1,
           1,
           1
          ],
          [
           1,
           1,
           1,
           1
          ],
          [
           1,
           1,
           1,
           1
          ],
          [
           1,
           1,
           1,
           1
          ],
          [
           1,
           1,
           1,
           1
          ],
          [
           1,
           1,
           1,
           1
          ],
          [
           1,
           1,
           1,
           1
          ],
          [
           1,
           1,
           1,
           1
          ],
          [
           1,
           1,
           1,
           1
          ],
          [
           1,
           1,
           1,
           1
          ],
          [
           1,
           1,
           1,
           1
          ],
          [
           1,
           1,
           1,
           1
          ],
          [
           1,
           1,
           1,
           1
          ],
          [
           1,
           1,
           1,
           1
          ],
          [
           1,
           1,
           1,
           1
          ],
          [
           1,
           1,
           1,
           1
          ],
          [
           1,
           1,
           1,
           1
          ]
         ]
        },
        {
         "marker": {
          "color": "lightblue",
          "size": 10
         },
         "mode": "markers",
         "name": "False",
         "showlegend": true,
         "type": "scatter",
         "x": [
          null
         ],
         "y": [
          null
         ]
        },
        {
         "marker": {
          "color": "lightcoral",
          "size": 10
         },
         "mode": "markers",
         "name": "True",
         "showlegend": true,
         "type": "scatter",
         "x": [
          null
         ],
         "y": [
          null
         ]
        }
       ],
       "layout": {
        "autosize": false,
        "height": 600,
        "legend": {
         "orientation": "h",
         "title": {
          "text": "Legend"
         },
         "x": 1,
         "xanchor": "right",
         "y": 1.02,
         "yanchor": "bottom"
        },
        "template": {
         "data": {
          "bar": [
           {
            "error_x": {
             "color": "#2a3f5f"
            },
            "error_y": {
             "color": "#2a3f5f"
            },
            "marker": {
             "line": {
              "color": "#E5ECF6",
              "width": 0.5
             },
             "pattern": {
              "fillmode": "overlay",
              "size": 10,
              "solidity": 0.2
             }
            },
            "type": "bar"
           }
          ],
          "barpolar": [
           {
            "marker": {
             "line": {
              "color": "#E5ECF6",
              "width": 0.5
             },
             "pattern": {
              "fillmode": "overlay",
              "size": 10,
              "solidity": 0.2
             }
            },
            "type": "barpolar"
           }
          ],
          "carpet": [
           {
            "aaxis": {
             "endlinecolor": "#2a3f5f",
             "gridcolor": "white",
             "linecolor": "white",
             "minorgridcolor": "white",
             "startlinecolor": "#2a3f5f"
            },
            "baxis": {
             "endlinecolor": "#2a3f5f",
             "gridcolor": "white",
             "linecolor": "white",
             "minorgridcolor": "white",
             "startlinecolor": "#2a3f5f"
            },
            "type": "carpet"
           }
          ],
          "choropleth": [
           {
            "colorbar": {
             "outlinewidth": 0,
             "ticks": ""
            },
            "type": "choropleth"
           }
          ],
          "contour": [
           {
            "colorbar": {
             "outlinewidth": 0,
             "ticks": ""
            },
            "colorscale": [
             [
              0,
              "#0d0887"
             ],
             [
              0.1111111111111111,
              "#46039f"
             ],
             [
              0.2222222222222222,
              "#7201a8"
             ],
             [
              0.3333333333333333,
              "#9c179e"
             ],
             [
              0.4444444444444444,
              "#bd3786"
             ],
             [
              0.5555555555555556,
              "#d8576b"
             ],
             [
              0.6666666666666666,
              "#ed7953"
             ],
             [
              0.7777777777777778,
              "#fb9f3a"
             ],
             [
              0.8888888888888888,
              "#fdca26"
             ],
             [
              1,
              "#f0f921"
             ]
            ],
            "type": "contour"
           }
          ],
          "contourcarpet": [
           {
            "colorbar": {
             "outlinewidth": 0,
             "ticks": ""
            },
            "type": "contourcarpet"
           }
          ],
          "heatmap": [
           {
            "colorbar": {
             "outlinewidth": 0,
             "ticks": ""
            },
            "colorscale": [
             [
              0,
              "#0d0887"
             ],
             [
              0.1111111111111111,
              "#46039f"
             ],
             [
              0.2222222222222222,
              "#7201a8"
             ],
             [
              0.3333333333333333,
              "#9c179e"
             ],
             [
              0.4444444444444444,
              "#bd3786"
             ],
             [
              0.5555555555555556,
              "#d8576b"
             ],
             [
              0.6666666666666666,
              "#ed7953"
             ],
             [
              0.7777777777777778,
              "#fb9f3a"
             ],
             [
              0.8888888888888888,
              "#fdca26"
             ],
             [
              1,
              "#f0f921"
             ]
            ],
            "type": "heatmap"
           }
          ],
          "heatmapgl": [
           {
            "colorbar": {
             "outlinewidth": 0,
             "ticks": ""
            },
            "colorscale": [
             [
              0,
              "#0d0887"
             ],
             [
              0.1111111111111111,
              "#46039f"
             ],
             [
              0.2222222222222222,
              "#7201a8"
             ],
             [
              0.3333333333333333,
              "#9c179e"
             ],
             [
              0.4444444444444444,
              "#bd3786"
             ],
             [
              0.5555555555555556,
              "#d8576b"
             ],
             [
              0.6666666666666666,
              "#ed7953"
             ],
             [
              0.7777777777777778,
              "#fb9f3a"
             ],
             [
              0.8888888888888888,
              "#fdca26"
             ],
             [
              1,
              "#f0f921"
             ]
            ],
            "type": "heatmapgl"
           }
          ],
          "histogram": [
           {
            "marker": {
             "pattern": {
              "fillmode": "overlay",
              "size": 10,
              "solidity": 0.2
             }
            },
            "type": "histogram"
           }
          ],
          "histogram2d": [
           {
            "colorbar": {
             "outlinewidth": 0,
             "ticks": ""
            },
            "colorscale": [
             [
              0,
              "#0d0887"
             ],
             [
              0.1111111111111111,
              "#46039f"
             ],
             [
              0.2222222222222222,
              "#7201a8"
             ],
             [
              0.3333333333333333,
              "#9c179e"
             ],
             [
              0.4444444444444444,
              "#bd3786"
             ],
             [
              0.5555555555555556,
              "#d8576b"
             ],
             [
              0.6666666666666666,
              "#ed7953"
             ],
             [
              0.7777777777777778,
              "#fb9f3a"
             ],
             [
              0.8888888888888888,
              "#fdca26"
             ],
             [
              1,
              "#f0f921"
             ]
            ],
            "type": "histogram2d"
           }
          ],
          "histogram2dcontour": [
           {
            "colorbar": {
             "outlinewidth": 0,
             "ticks": ""
            },
            "colorscale": [
             [
              0,
              "#0d0887"
             ],
             [
              0.1111111111111111,
              "#46039f"
             ],
             [
              0.2222222222222222,
              "#7201a8"
             ],
             [
              0.3333333333333333,
              "#9c179e"
             ],
             [
              0.4444444444444444,
              "#bd3786"
             ],
             [
              0.5555555555555556,
              "#d8576b"
             ],
             [
              0.6666666666666666,
              "#ed7953"
             ],
             [
              0.7777777777777778,
              "#fb9f3a"
             ],
             [
              0.8888888888888888,
              "#fdca26"
             ],
             [
              1,
              "#f0f921"
             ]
            ],
            "type": "histogram2dcontour"
           }
          ],
          "mesh3d": [
           {
            "colorbar": {
             "outlinewidth": 0,
             "ticks": ""
            },
            "type": "mesh3d"
           }
          ],
          "parcoords": [
           {
            "line": {
             "colorbar": {
              "outlinewidth": 0,
              "ticks": ""
             }
            },
            "type": "parcoords"
           }
          ],
          "pie": [
           {
            "automargin": true,
            "type": "pie"
           }
          ],
          "scatter": [
           {
            "fillpattern": {
             "fillmode": "overlay",
             "size": 10,
             "solidity": 0.2
            },
            "type": "scatter"
           }
          ],
          "scatter3d": [
           {
            "line": {
             "colorbar": {
              "outlinewidth": 0,
              "ticks": ""
             }
            },
            "marker": {
             "colorbar": {
              "outlinewidth": 0,
              "ticks": ""
             }
            },
            "type": "scatter3d"
           }
          ],
          "scattercarpet": [
           {
            "marker": {
             "colorbar": {
              "outlinewidth": 0,
              "ticks": ""
             }
            },
            "type": "scattercarpet"
           }
          ],
          "scattergeo": [
           {
            "marker": {
             "colorbar": {
              "outlinewidth": 0,
              "ticks": ""
             }
            },
            "type": "scattergeo"
           }
          ],
          "scattergl": [
           {
            "marker": {
             "colorbar": {
              "outlinewidth": 0,
              "ticks": ""
             }
            },
            "type": "scattergl"
           }
          ],
          "scattermapbox": [
           {
            "marker": {
             "colorbar": {
              "outlinewidth": 0,
              "ticks": ""
             }
            },
            "type": "scattermapbox"
           }
          ],
          "scatterpolar": [
           {
            "marker": {
             "colorbar": {
              "outlinewidth": 0,
              "ticks": ""
             }
            },
            "type": "scatterpolar"
           }
          ],
          "scatterpolargl": [
           {
            "marker": {
             "colorbar": {
              "outlinewidth": 0,
              "ticks": ""
             }
            },
            "type": "scatterpolargl"
           }
          ],
          "scatterternary": [
           {
            "marker": {
             "colorbar": {
              "outlinewidth": 0,
              "ticks": ""
             }
            },
            "type": "scatterternary"
           }
          ],
          "surface": [
           {
            "colorbar": {
             "outlinewidth": 0,
             "ticks": ""
            },
            "colorscale": [
             [
              0,
              "#0d0887"
             ],
             [
              0.1111111111111111,
              "#46039f"
             ],
             [
              0.2222222222222222,
              "#7201a8"
             ],
             [
              0.3333333333333333,
              "#9c179e"
             ],
             [
              0.4444444444444444,
              "#bd3786"
             ],
             [
              0.5555555555555556,
              "#d8576b"
             ],
             [
              0.6666666666666666,
              "#ed7953"
             ],
             [
              0.7777777777777778,
              "#fb9f3a"
             ],
             [
              0.8888888888888888,
              "#fdca26"
             ],
             [
              1,
              "#f0f921"
             ]
            ],
            "type": "surface"
           }
          ],
          "table": [
           {
            "cells": {
             "fill": {
              "color": "#EBF0F8"
             },
             "line": {
              "color": "white"
             }
            },
            "header": {
             "fill": {
              "color": "#C8D4E3"
             },
             "line": {
              "color": "white"
             }
            },
            "type": "table"
           }
          ]
         },
         "layout": {
          "annotationdefaults": {
           "arrowcolor": "#2a3f5f",
           "arrowhead": 0,
           "arrowwidth": 1
          },
          "autotypenumbers": "strict",
          "coloraxis": {
           "colorbar": {
            "outlinewidth": 0,
            "ticks": ""
           }
          },
          "colorscale": {
           "diverging": [
            [
             0,
             "#8e0152"
            ],
            [
             0.1,
             "#c51b7d"
            ],
            [
             0.2,
             "#de77ae"
            ],
            [
             0.3,
             "#f1b6da"
            ],
            [
             0.4,
             "#fde0ef"
            ],
            [
             0.5,
             "#f7f7f7"
            ],
            [
             0.6,
             "#e6f5d0"
            ],
            [
             0.7,
             "#b8e186"
            ],
            [
             0.8,
             "#7fbc41"
            ],
            [
             0.9,
             "#4d9221"
            ],
            [
             1,
             "#276419"
            ]
           ],
           "sequential": [
            [
             0,
             "#0d0887"
            ],
            [
             0.1111111111111111,
             "#46039f"
            ],
            [
             0.2222222222222222,
             "#7201a8"
            ],
            [
             0.3333333333333333,
             "#9c179e"
            ],
            [
             0.4444444444444444,
             "#bd3786"
            ],
            [
             0.5555555555555556,
             "#d8576b"
            ],
            [
             0.6666666666666666,
             "#ed7953"
            ],
            [
             0.7777777777777778,
             "#fb9f3a"
            ],
            [
             0.8888888888888888,
             "#fdca26"
            ],
            [
             1,
             "#f0f921"
            ]
           ],
           "sequentialminus": [
            [
             0,
             "#0d0887"
            ],
            [
             0.1111111111111111,
             "#46039f"
            ],
            [
             0.2222222222222222,
             "#7201a8"
            ],
            [
             0.3333333333333333,
             "#9c179e"
            ],
            [
             0.4444444444444444,
             "#bd3786"
            ],
            [
             0.5555555555555556,
             "#d8576b"
            ],
            [
             0.6666666666666666,
             "#ed7953"
            ],
            [
             0.7777777777777778,
             "#fb9f3a"
            ],
            [
             0.8888888888888888,
             "#fdca26"
            ],
            [
             1,
             "#f0f921"
            ]
           ]
          },
          "colorway": [
           "#636efa",
           "#EF553B",
           "#00cc96",
           "#ab63fa",
           "#FFA15A",
           "#19d3f3",
           "#FF6692",
           "#B6E880",
           "#FF97FF",
           "#FECB52"
          ],
          "font": {
           "color": "#2a3f5f"
          },
          "geo": {
           "bgcolor": "white",
           "lakecolor": "white",
           "landcolor": "#E5ECF6",
           "showlakes": true,
           "showland": true,
           "subunitcolor": "white"
          },
          "hoverlabel": {
           "align": "left"
          },
          "hovermode": "closest",
          "mapbox": {
           "style": "light"
          },
          "paper_bgcolor": "white",
          "plot_bgcolor": "#E5ECF6",
          "polar": {
           "angularaxis": {
            "gridcolor": "white",
            "linecolor": "white",
            "ticks": ""
           },
           "bgcolor": "#E5ECF6",
           "radialaxis": {
            "gridcolor": "white",
            "linecolor": "white",
            "ticks": ""
           }
          },
          "scene": {
           "xaxis": {
            "backgroundcolor": "#E5ECF6",
            "gridcolor": "white",
            "gridwidth": 2,
            "linecolor": "white",
            "showbackground": true,
            "ticks": "",
            "zerolinecolor": "white"
           },
           "yaxis": {
            "backgroundcolor": "#E5ECF6",
            "gridcolor": "white",
            "gridwidth": 2,
            "linecolor": "white",
            "showbackground": true,
            "ticks": "",
            "zerolinecolor": "white"
           },
           "zaxis": {
            "backgroundcolor": "#E5ECF6",
            "gridcolor": "white",
            "gridwidth": 2,
            "linecolor": "white",
            "showbackground": true,
            "ticks": "",
            "zerolinecolor": "white"
           }
          },
          "shapedefaults": {
           "line": {
            "color": "#2a3f5f"
           }
          },
          "ternary": {
           "aaxis": {
            "gridcolor": "white",
            "linecolor": "white",
            "ticks": ""
           },
           "baxis": {
            "gridcolor": "white",
            "linecolor": "white",
            "ticks": ""
           },
           "bgcolor": "#E5ECF6",
           "caxis": {
            "gridcolor": "white",
            "linecolor": "white",
            "ticks": ""
           }
          },
          "title": {
           "x": 0.05
          },
          "xaxis": {
           "automargin": true,
           "gridcolor": "white",
           "linecolor": "white",
           "ticks": "",
           "title": {
            "standoff": 15
           },
           "zerolinecolor": "white",
           "zerolinewidth": 2
          },
          "yaxis": {
           "automargin": true,
           "gridcolor": "white",
           "linecolor": "white",
           "ticks": "",
           "title": {
            "standoff": 15
           },
           "zerolinecolor": "white",
           "zerolinewidth": 2
          }
         }
        },
        "title": {
         "text": "Heatmap of Categorical Data for Banks",
         "x": 0.5
        },
        "width": 600,
        "xaxis": {
         "title": {
          "text": "Variable"
         }
        },
        "yaxis": {
         "title": {
          "text": "Bank"
         }
        }
       }
      }
     },
     "metadata": {},
     "output_type": "display_data"
    }
   ],
   "source": [
    "# Define a custom color scale for binary values with soft colors\n",
    "colorscale = [[0, 'lightblue'], [1, 'lightcoral']]\n",
    "\n",
    "# Create heatmap\n",
    "fig = go.Figure(data=go.Heatmap(\n",
    "    z=data.loc[:, ['has_stores', 'founded_before_2000', 'big_employees', 'big_assets']].values,  # Values for the heatmap\n",
    "    x=['Is Brick and Mortar', 'Founded before 2000', 'Large Employee Count', 'Large AUM'],     # Variable names\n",
    "    y=data['bank'],             # Bank names\n",
    "    colorscale=colorscale,    # Custom color scale\n",
    "    showscale=False           # Hide color scale\n",
    "))\n",
    "\n",
    "# Add custom legend\n",
    "fig.add_trace(go.Scatter(\n",
    "    x=[None],\n",
    "    y=[None],\n",
    "    mode='markers',\n",
    "    marker=dict(size=10, color='lightblue'),\n",
    "    showlegend=True,\n",
    "    name='False'\n",
    "))\n",
    "\n",
    "fig.add_trace(go.Scatter(\n",
    "    x=[None],\n",
    "    y=[None],\n",
    "    mode='markers',\n",
    "    marker=dict(size=10, color='lightcoral'),\n",
    "    showlegend=True,\n",
    "    name='True'\n",
    "))\n",
    "\n",
    "# Update layout\n",
    "fig.update_layout(\n",
    "    title='Heatmap of Categorical Data for Banks',\n",
    "    xaxis_title='Variable',\n",
    "    yaxis_title='Bank',\n",
    "    legend=dict(\n",
    "        title='Legend',\n",
    "        orientation='h',\n",
    "        yanchor='bottom',\n",
    "        y=1.02,\n",
    "        xanchor='right',\n",
    "        x=1\n",
    "    )\n",
    ")\n",
    "\n",
    "# change figure size\n",
    "fig.update_layout(\n",
    "    autosize=False,\n",
    "    width=600,\n",
    "    height=600\n",
    ")\n",
    "# center the title\n",
    "fig.update_layout(title_x=0.5)\n",
    "\n",
    "fig.show()"
   ]
  },
  {
   "cell_type": "code",
   "execution_count": 476,
   "metadata": {},
   "outputs": [
    {
     "data": {
      "text/html": [
       "<div>\n",
       "<style scoped>\n",
       "    .dataframe tbody tr th:only-of-type {\n",
       "        vertical-align: middle;\n",
       "    }\n",
       "\n",
       "    .dataframe tbody tr th {\n",
       "        vertical-align: top;\n",
       "    }\n",
       "\n",
       "    .dataframe thead th {\n",
       "        text-align: right;\n",
       "    }\n",
       "</style>\n",
       "<table border=\"1\" class=\"dataframe\">\n",
       "  <thead>\n",
       "    <tr style=\"text-align: right;\">\n",
       "      <th></th>\n",
       "      <th>bank</th>\n",
       "      <th>number_of_employee</th>\n",
       "      <th>assets_under_management</th>\n",
       "      <th>number_of_branches</th>\n",
       "      <th>age</th>\n",
       "      <th>has_stores</th>\n",
       "      <th>founded_before_2000</th>\n",
       "      <th>web_traffic</th>\n",
       "      <th>big_employees</th>\n",
       "      <th>big_assets</th>\n",
       "    </tr>\n",
       "  </thead>\n",
       "  <tbody>\n",
       "    <tr>\n",
       "      <th>0</th>\n",
       "      <td>abanca</td>\n",
       "      <td>5946</td>\n",
       "      <td>72148000000</td>\n",
       "      <td>690</td>\n",
       "      <td>13</td>\n",
       "      <td>1</td>\n",
       "      <td>0</td>\n",
       "      <td>1.357941e+06</td>\n",
       "      <td>0</td>\n",
       "      <td>0</td>\n",
       "    </tr>\n",
       "    <tr>\n",
       "      <th>1</th>\n",
       "      <td>santander</td>\n",
       "      <td>212764</td>\n",
       "      <td>226000000000</td>\n",
       "      <td>8518</td>\n",
       "      <td>167</td>\n",
       "      <td>1</td>\n",
       "      <td>1</td>\n",
       "      <td>NaN</td>\n",
       "      <td>1</td>\n",
       "      <td>1</td>\n",
       "    </tr>\n",
       "    <tr>\n",
       "      <th>2</th>\n",
       "      <td>banc sabadell</td>\n",
       "      <td>19316</td>\n",
       "      <td>201449000000</td>\n",
       "      <td>1594</td>\n",
       "      <td>143</td>\n",
       "      <td>1</td>\n",
       "      <td>1</td>\n",
       "      <td>NaN</td>\n",
       "      <td>1</td>\n",
       "      <td>1</td>\n",
       "    </tr>\n",
       "    <tr>\n",
       "      <th>3</th>\n",
       "      <td>bankinter</td>\n",
       "      <td>6138</td>\n",
       "      <td>83300000000</td>\n",
       "      <td>523</td>\n",
       "      <td>59</td>\n",
       "      <td>1</td>\n",
       "      <td>1</td>\n",
       "      <td>2.755435e+05</td>\n",
       "      <td>1</td>\n",
       "      <td>1</td>\n",
       "    </tr>\n",
       "    <tr>\n",
       "      <th>4</th>\n",
       "      <td>bbva</td>\n",
       "      <td>121486</td>\n",
       "      <td>110000000000</td>\n",
       "      <td>1800</td>\n",
       "      <td>167</td>\n",
       "      <td>1</td>\n",
       "      <td>1</td>\n",
       "      <td>9.920828e+05</td>\n",
       "      <td>1</td>\n",
       "      <td>1</td>\n",
       "    </tr>\n",
       "    <tr>\n",
       "      <th>5</th>\n",
       "      <td>caixabank</td>\n",
       "      <td>44863</td>\n",
       "      <td>81890000000</td>\n",
       "      <td>3922</td>\n",
       "      <td>120</td>\n",
       "      <td>1</td>\n",
       "      <td>1</td>\n",
       "      <td>NaN</td>\n",
       "      <td>1</td>\n",
       "      <td>1</td>\n",
       "    </tr>\n",
       "    <tr>\n",
       "      <th>6</th>\n",
       "      <td>evobanco</td>\n",
       "      <td>200</td>\n",
       "      <td>7350000000</td>\n",
       "      <td>80</td>\n",
       "      <td>12</td>\n",
       "      <td>1</td>\n",
       "      <td>0</td>\n",
       "      <td>1.696284e+05</td>\n",
       "      <td>0</td>\n",
       "      <td>0</td>\n",
       "    </tr>\n",
       "    <tr>\n",
       "      <th>7</th>\n",
       "      <td>imagin</td>\n",
       "      <td>118</td>\n",
       "      <td>81890000000</td>\n",
       "      <td>0</td>\n",
       "      <td>8</td>\n",
       "      <td>0</td>\n",
       "      <td>0</td>\n",
       "      <td>NaN</td>\n",
       "      <td>0</td>\n",
       "      <td>1</td>\n",
       "    </tr>\n",
       "    <tr>\n",
       "      <th>8</th>\n",
       "      <td>ing</td>\n",
       "      <td>60778</td>\n",
       "      <td>268000000000</td>\n",
       "      <td>1660</td>\n",
       "      <td>33</td>\n",
       "      <td>1</td>\n",
       "      <td>1</td>\n",
       "      <td>7.016930e+05</td>\n",
       "      <td>1</td>\n",
       "      <td>1</td>\n",
       "    </tr>\n",
       "    <tr>\n",
       "      <th>9</th>\n",
       "      <td>kutxabank</td>\n",
       "      <td>5343</td>\n",
       "      <td>25000000000</td>\n",
       "      <td>737</td>\n",
       "      <td>12</td>\n",
       "      <td>1</td>\n",
       "      <td>0</td>\n",
       "      <td>NaN</td>\n",
       "      <td>0</td>\n",
       "      <td>0</td>\n",
       "    </tr>\n",
       "    <tr>\n",
       "      <th>10</th>\n",
       "      <td>myinvestor</td>\n",
       "      <td>60</td>\n",
       "      <td>4000000000</td>\n",
       "      <td>0</td>\n",
       "      <td>7</td>\n",
       "      <td>0</td>\n",
       "      <td>0</td>\n",
       "      <td>2.294361e+05</td>\n",
       "      <td>0</td>\n",
       "      <td>0</td>\n",
       "    </tr>\n",
       "    <tr>\n",
       "      <th>11</th>\n",
       "      <td>n26</td>\n",
       "      <td>1500</td>\n",
       "      <td>8000000000</td>\n",
       "      <td>0</td>\n",
       "      <td>11</td>\n",
       "      <td>0</td>\n",
       "      <td>0</td>\n",
       "      <td>2.031008e+05</td>\n",
       "      <td>0</td>\n",
       "      <td>0</td>\n",
       "    </tr>\n",
       "    <tr>\n",
       "      <th>12</th>\n",
       "      <td>openbank</td>\n",
       "      <td>1100</td>\n",
       "      <td>1815792000</td>\n",
       "      <td>0</td>\n",
       "      <td>28</td>\n",
       "      <td>0</td>\n",
       "      <td>1</td>\n",
       "      <td>4.243919e+05</td>\n",
       "      <td>0</td>\n",
       "      <td>0</td>\n",
       "    </tr>\n",
       "    <tr>\n",
       "      <th>13</th>\n",
       "      <td>pibank</td>\n",
       "      <td>65</td>\n",
       "      <td>15500000000</td>\n",
       "      <td>0</td>\n",
       "      <td>6</td>\n",
       "      <td>0</td>\n",
       "      <td>0</td>\n",
       "      <td>NaN</td>\n",
       "      <td>0</td>\n",
       "      <td>0</td>\n",
       "    </tr>\n",
       "    <tr>\n",
       "      <th>14</th>\n",
       "      <td>revolut</td>\n",
       "      <td>7500</td>\n",
       "      <td>14000000000</td>\n",
       "      <td>0</td>\n",
       "      <td>9</td>\n",
       "      <td>0</td>\n",
       "      <td>0</td>\n",
       "      <td>1.469593e+05</td>\n",
       "      <td>1</td>\n",
       "      <td>0</td>\n",
       "    </tr>\n",
       "  </tbody>\n",
       "</table>\n",
       "</div>"
      ],
      "text/plain": [
       "             bank  number_of_employee  assets_under_management  \\\n",
       "0          abanca                5946              72148000000   \n",
       "1       santander              212764             226000000000   \n",
       "2   banc sabadell               19316             201449000000   \n",
       "3       bankinter                6138              83300000000   \n",
       "4            bbva              121486             110000000000   \n",
       "5       caixabank               44863              81890000000   \n",
       "6        evobanco                 200               7350000000   \n",
       "7          imagin                 118              81890000000   \n",
       "8             ing               60778             268000000000   \n",
       "9       kutxabank                5343              25000000000   \n",
       "10     myinvestor                  60               4000000000   \n",
       "11            n26                1500               8000000000   \n",
       "12       openbank                1100               1815792000   \n",
       "13         pibank                  65              15500000000   \n",
       "14        revolut                7500              14000000000   \n",
       "\n",
       "    number_of_branches  age  has_stores  founded_before_2000   web_traffic  \\\n",
       "0                  690   13           1                    0  1.357941e+06   \n",
       "1                 8518  167           1                    1           NaN   \n",
       "2                 1594  143           1                    1           NaN   \n",
       "3                  523   59           1                    1  2.755435e+05   \n",
       "4                 1800  167           1                    1  9.920828e+05   \n",
       "5                 3922  120           1                    1           NaN   \n",
       "6                   80   12           1                    0  1.696284e+05   \n",
       "7                    0    8           0                    0           NaN   \n",
       "8                 1660   33           1                    1  7.016930e+05   \n",
       "9                  737   12           1                    0           NaN   \n",
       "10                   0    7           0                    0  2.294361e+05   \n",
       "11                   0   11           0                    0  2.031008e+05   \n",
       "12                   0   28           0                    1  4.243919e+05   \n",
       "13                   0    6           0                    0           NaN   \n",
       "14                   0    9           0                    0  1.469593e+05   \n",
       "\n",
       "    big_employees  big_assets  \n",
       "0               0           0  \n",
       "1               1           1  \n",
       "2               1           1  \n",
       "3               1           1  \n",
       "4               1           1  \n",
       "5               1           1  \n",
       "6               0           0  \n",
       "7               0           1  \n",
       "8               1           1  \n",
       "9               0           0  \n",
       "10              0           0  \n",
       "11              0           0  \n",
       "12              0           0  \n",
       "13              0           0  \n",
       "14              1           0  "
      ]
     },
     "execution_count": 476,
     "metadata": {},
     "output_type": "execute_result"
    }
   ],
   "source": [
    "cat_data"
   ]
  },
  {
   "cell_type": "code",
   "execution_count": 477,
   "metadata": {},
   "outputs": [
    {
     "data": {
      "application/vnd.plotly.v1+json": {
       "config": {
        "plotlyServerURL": "https://plot.ly"
       },
       "data": [
        {
         "alignmentgroup": "True",
         "hovertemplate": "bank=%{x}<br>assets_under_management=%{y}<extra></extra>",
         "legendgroup": "",
         "marker": {
          "color": "#636efa",
          "pattern": {
           "shape": ""
          }
         },
         "name": "",
         "offsetgroup": "",
         "orientation": "v",
         "showlegend": false,
         "textposition": "auto",
         "type": "bar",
         "x": [
          "ing",
          "santander",
          "banc sabadell",
          "bbva",
          "bankinter",
          "caixabank",
          "imagin",
          "abanca",
          "kutxabank",
          "pibank",
          "revolut",
          "n26",
          "evobanco",
          "myinvestor",
          "openbank"
         ],
         "xaxis": "x",
         "y": [
          268000000000,
          226000000000,
          201449000000,
          110000000000,
          83300000000,
          81890000000,
          81890000000,
          72148000000,
          25000000000,
          15500000000,
          14000000000,
          8000000000,
          7350000000,
          4000000000,
          1815792000
         ],
         "yaxis": "y"
        }
       ],
       "layout": {
        "barmode": "relative",
        "legend": {
         "tracegroupgap": 0
        },
        "template": {
         "data": {
          "bar": [
           {
            "error_x": {
             "color": "#2a3f5f"
            },
            "error_y": {
             "color": "#2a3f5f"
            },
            "marker": {
             "line": {
              "color": "#E5ECF6",
              "width": 0.5
             },
             "pattern": {
              "fillmode": "overlay",
              "size": 10,
              "solidity": 0.2
             }
            },
            "type": "bar"
           }
          ],
          "barpolar": [
           {
            "marker": {
             "line": {
              "color": "#E5ECF6",
              "width": 0.5
             },
             "pattern": {
              "fillmode": "overlay",
              "size": 10,
              "solidity": 0.2
             }
            },
            "type": "barpolar"
           }
          ],
          "carpet": [
           {
            "aaxis": {
             "endlinecolor": "#2a3f5f",
             "gridcolor": "white",
             "linecolor": "white",
             "minorgridcolor": "white",
             "startlinecolor": "#2a3f5f"
            },
            "baxis": {
             "endlinecolor": "#2a3f5f",
             "gridcolor": "white",
             "linecolor": "white",
             "minorgridcolor": "white",
             "startlinecolor": "#2a3f5f"
            },
            "type": "carpet"
           }
          ],
          "choropleth": [
           {
            "colorbar": {
             "outlinewidth": 0,
             "ticks": ""
            },
            "type": "choropleth"
           }
          ],
          "contour": [
           {
            "colorbar": {
             "outlinewidth": 0,
             "ticks": ""
            },
            "colorscale": [
             [
              0,
              "#0d0887"
             ],
             [
              0.1111111111111111,
              "#46039f"
             ],
             [
              0.2222222222222222,
              "#7201a8"
             ],
             [
              0.3333333333333333,
              "#9c179e"
             ],
             [
              0.4444444444444444,
              "#bd3786"
             ],
             [
              0.5555555555555556,
              "#d8576b"
             ],
             [
              0.6666666666666666,
              "#ed7953"
             ],
             [
              0.7777777777777778,
              "#fb9f3a"
             ],
             [
              0.8888888888888888,
              "#fdca26"
             ],
             [
              1,
              "#f0f921"
             ]
            ],
            "type": "contour"
           }
          ],
          "contourcarpet": [
           {
            "colorbar": {
             "outlinewidth": 0,
             "ticks": ""
            },
            "type": "contourcarpet"
           }
          ],
          "heatmap": [
           {
            "colorbar": {
             "outlinewidth": 0,
             "ticks": ""
            },
            "colorscale": [
             [
              0,
              "#0d0887"
             ],
             [
              0.1111111111111111,
              "#46039f"
             ],
             [
              0.2222222222222222,
              "#7201a8"
             ],
             [
              0.3333333333333333,
              "#9c179e"
             ],
             [
              0.4444444444444444,
              "#bd3786"
             ],
             [
              0.5555555555555556,
              "#d8576b"
             ],
             [
              0.6666666666666666,
              "#ed7953"
             ],
             [
              0.7777777777777778,
              "#fb9f3a"
             ],
             [
              0.8888888888888888,
              "#fdca26"
             ],
             [
              1,
              "#f0f921"
             ]
            ],
            "type": "heatmap"
           }
          ],
          "heatmapgl": [
           {
            "colorbar": {
             "outlinewidth": 0,
             "ticks": ""
            },
            "colorscale": [
             [
              0,
              "#0d0887"
             ],
             [
              0.1111111111111111,
              "#46039f"
             ],
             [
              0.2222222222222222,
              "#7201a8"
             ],
             [
              0.3333333333333333,
              "#9c179e"
             ],
             [
              0.4444444444444444,
              "#bd3786"
             ],
             [
              0.5555555555555556,
              "#d8576b"
             ],
             [
              0.6666666666666666,
              "#ed7953"
             ],
             [
              0.7777777777777778,
              "#fb9f3a"
             ],
             [
              0.8888888888888888,
              "#fdca26"
             ],
             [
              1,
              "#f0f921"
             ]
            ],
            "type": "heatmapgl"
           }
          ],
          "histogram": [
           {
            "marker": {
             "pattern": {
              "fillmode": "overlay",
              "size": 10,
              "solidity": 0.2
             }
            },
            "type": "histogram"
           }
          ],
          "histogram2d": [
           {
            "colorbar": {
             "outlinewidth": 0,
             "ticks": ""
            },
            "colorscale": [
             [
              0,
              "#0d0887"
             ],
             [
              0.1111111111111111,
              "#46039f"
             ],
             [
              0.2222222222222222,
              "#7201a8"
             ],
             [
              0.3333333333333333,
              "#9c179e"
             ],
             [
              0.4444444444444444,
              "#bd3786"
             ],
             [
              0.5555555555555556,
              "#d8576b"
             ],
             [
              0.6666666666666666,
              "#ed7953"
             ],
             [
              0.7777777777777778,
              "#fb9f3a"
             ],
             [
              0.8888888888888888,
              "#fdca26"
             ],
             [
              1,
              "#f0f921"
             ]
            ],
            "type": "histogram2d"
           }
          ],
          "histogram2dcontour": [
           {
            "colorbar": {
             "outlinewidth": 0,
             "ticks": ""
            },
            "colorscale": [
             [
              0,
              "#0d0887"
             ],
             [
              0.1111111111111111,
              "#46039f"
             ],
             [
              0.2222222222222222,
              "#7201a8"
             ],
             [
              0.3333333333333333,
              "#9c179e"
             ],
             [
              0.4444444444444444,
              "#bd3786"
             ],
             [
              0.5555555555555556,
              "#d8576b"
             ],
             [
              0.6666666666666666,
              "#ed7953"
             ],
             [
              0.7777777777777778,
              "#fb9f3a"
             ],
             [
              0.8888888888888888,
              "#fdca26"
             ],
             [
              1,
              "#f0f921"
             ]
            ],
            "type": "histogram2dcontour"
           }
          ],
          "mesh3d": [
           {
            "colorbar": {
             "outlinewidth": 0,
             "ticks": ""
            },
            "type": "mesh3d"
           }
          ],
          "parcoords": [
           {
            "line": {
             "colorbar": {
              "outlinewidth": 0,
              "ticks": ""
             }
            },
            "type": "parcoords"
           }
          ],
          "pie": [
           {
            "automargin": true,
            "type": "pie"
           }
          ],
          "scatter": [
           {
            "fillpattern": {
             "fillmode": "overlay",
             "size": 10,
             "solidity": 0.2
            },
            "type": "scatter"
           }
          ],
          "scatter3d": [
           {
            "line": {
             "colorbar": {
              "outlinewidth": 0,
              "ticks": ""
             }
            },
            "marker": {
             "colorbar": {
              "outlinewidth": 0,
              "ticks": ""
             }
            },
            "type": "scatter3d"
           }
          ],
          "scattercarpet": [
           {
            "marker": {
             "colorbar": {
              "outlinewidth": 0,
              "ticks": ""
             }
            },
            "type": "scattercarpet"
           }
          ],
          "scattergeo": [
           {
            "marker": {
             "colorbar": {
              "outlinewidth": 0,
              "ticks": ""
             }
            },
            "type": "scattergeo"
           }
          ],
          "scattergl": [
           {
            "marker": {
             "colorbar": {
              "outlinewidth": 0,
              "ticks": ""
             }
            },
            "type": "scattergl"
           }
          ],
          "scattermapbox": [
           {
            "marker": {
             "colorbar": {
              "outlinewidth": 0,
              "ticks": ""
             }
            },
            "type": "scattermapbox"
           }
          ],
          "scatterpolar": [
           {
            "marker": {
             "colorbar": {
              "outlinewidth": 0,
              "ticks": ""
             }
            },
            "type": "scatterpolar"
           }
          ],
          "scatterpolargl": [
           {
            "marker": {
             "colorbar": {
              "outlinewidth": 0,
              "ticks": ""
             }
            },
            "type": "scatterpolargl"
           }
          ],
          "scatterternary": [
           {
            "marker": {
             "colorbar": {
              "outlinewidth": 0,
              "ticks": ""
             }
            },
            "type": "scatterternary"
           }
          ],
          "surface": [
           {
            "colorbar": {
             "outlinewidth": 0,
             "ticks": ""
            },
            "colorscale": [
             [
              0,
              "#0d0887"
             ],
             [
              0.1111111111111111,
              "#46039f"
             ],
             [
              0.2222222222222222,
              "#7201a8"
             ],
             [
              0.3333333333333333,
              "#9c179e"
             ],
             [
              0.4444444444444444,
              "#bd3786"
             ],
             [
              0.5555555555555556,
              "#d8576b"
             ],
             [
              0.6666666666666666,
              "#ed7953"
             ],
             [
              0.7777777777777778,
              "#fb9f3a"
             ],
             [
              0.8888888888888888,
              "#fdca26"
             ],
             [
              1,
              "#f0f921"
             ]
            ],
            "type": "surface"
           }
          ],
          "table": [
           {
            "cells": {
             "fill": {
              "color": "#EBF0F8"
             },
             "line": {
              "color": "white"
             }
            },
            "header": {
             "fill": {
              "color": "#C8D4E3"
             },
             "line": {
              "color": "white"
             }
            },
            "type": "table"
           }
          ]
         },
         "layout": {
          "annotationdefaults": {
           "arrowcolor": "#2a3f5f",
           "arrowhead": 0,
           "arrowwidth": 1
          },
          "autotypenumbers": "strict",
          "coloraxis": {
           "colorbar": {
            "outlinewidth": 0,
            "ticks": ""
           }
          },
          "colorscale": {
           "diverging": [
            [
             0,
             "#8e0152"
            ],
            [
             0.1,
             "#c51b7d"
            ],
            [
             0.2,
             "#de77ae"
            ],
            [
             0.3,
             "#f1b6da"
            ],
            [
             0.4,
             "#fde0ef"
            ],
            [
             0.5,
             "#f7f7f7"
            ],
            [
             0.6,
             "#e6f5d0"
            ],
            [
             0.7,
             "#b8e186"
            ],
            [
             0.8,
             "#7fbc41"
            ],
            [
             0.9,
             "#4d9221"
            ],
            [
             1,
             "#276419"
            ]
           ],
           "sequential": [
            [
             0,
             "#0d0887"
            ],
            [
             0.1111111111111111,
             "#46039f"
            ],
            [
             0.2222222222222222,
             "#7201a8"
            ],
            [
             0.3333333333333333,
             "#9c179e"
            ],
            [
             0.4444444444444444,
             "#bd3786"
            ],
            [
             0.5555555555555556,
             "#d8576b"
            ],
            [
             0.6666666666666666,
             "#ed7953"
            ],
            [
             0.7777777777777778,
             "#fb9f3a"
            ],
            [
             0.8888888888888888,
             "#fdca26"
            ],
            [
             1,
             "#f0f921"
            ]
           ],
           "sequentialminus": [
            [
             0,
             "#0d0887"
            ],
            [
             0.1111111111111111,
             "#46039f"
            ],
            [
             0.2222222222222222,
             "#7201a8"
            ],
            [
             0.3333333333333333,
             "#9c179e"
            ],
            [
             0.4444444444444444,
             "#bd3786"
            ],
            [
             0.5555555555555556,
             "#d8576b"
            ],
            [
             0.6666666666666666,
             "#ed7953"
            ],
            [
             0.7777777777777778,
             "#fb9f3a"
            ],
            [
             0.8888888888888888,
             "#fdca26"
            ],
            [
             1,
             "#f0f921"
            ]
           ]
          },
          "colorway": [
           "#636efa",
           "#EF553B",
           "#00cc96",
           "#ab63fa",
           "#FFA15A",
           "#19d3f3",
           "#FF6692",
           "#B6E880",
           "#FF97FF",
           "#FECB52"
          ],
          "font": {
           "color": "#2a3f5f"
          },
          "geo": {
           "bgcolor": "white",
           "lakecolor": "white",
           "landcolor": "#E5ECF6",
           "showlakes": true,
           "showland": true,
           "subunitcolor": "white"
          },
          "hoverlabel": {
           "align": "left"
          },
          "hovermode": "closest",
          "mapbox": {
           "style": "light"
          },
          "paper_bgcolor": "white",
          "plot_bgcolor": "#E5ECF6",
          "polar": {
           "angularaxis": {
            "gridcolor": "white",
            "linecolor": "white",
            "ticks": ""
           },
           "bgcolor": "#E5ECF6",
           "radialaxis": {
            "gridcolor": "white",
            "linecolor": "white",
            "ticks": ""
           }
          },
          "scene": {
           "xaxis": {
            "backgroundcolor": "#E5ECF6",
            "gridcolor": "white",
            "gridwidth": 2,
            "linecolor": "white",
            "showbackground": true,
            "ticks": "",
            "zerolinecolor": "white"
           },
           "yaxis": {
            "backgroundcolor": "#E5ECF6",
            "gridcolor": "white",
            "gridwidth": 2,
            "linecolor": "white",
            "showbackground": true,
            "ticks": "",
            "zerolinecolor": "white"
           },
           "zaxis": {
            "backgroundcolor": "#E5ECF6",
            "gridcolor": "white",
            "gridwidth": 2,
            "linecolor": "white",
            "showbackground": true,
            "ticks": "",
            "zerolinecolor": "white"
           }
          },
          "shapedefaults": {
           "line": {
            "color": "#2a3f5f"
           }
          },
          "ternary": {
           "aaxis": {
            "gridcolor": "white",
            "linecolor": "white",
            "ticks": ""
           },
           "baxis": {
            "gridcolor": "white",
            "linecolor": "white",
            "ticks": ""
           },
           "bgcolor": "#E5ECF6",
           "caxis": {
            "gridcolor": "white",
            "linecolor": "white",
            "ticks": ""
           }
          },
          "title": {
           "x": 0.05
          },
          "xaxis": {
           "automargin": true,
           "gridcolor": "white",
           "linecolor": "white",
           "ticks": "",
           "title": {
            "standoff": 15
           },
           "zerolinecolor": "white",
           "zerolinewidth": 2
          },
          "yaxis": {
           "automargin": true,
           "gridcolor": "white",
           "linecolor": "white",
           "ticks": "",
           "title": {
            "standoff": 15
           },
           "zerolinecolor": "white",
           "zerolinewidth": 2
          }
         }
        },
        "title": {
         "text": "Assets Under Management by Bank"
        },
        "xaxis": {
         "anchor": "y",
         "domain": [
          0,
          1
         ],
         "title": {
          "text": "Bank"
         }
        },
        "yaxis": {
         "anchor": "x",
         "domain": [
          0,
          1
         ],
         "title": {
          "text": "Assets Under Management"
         }
        }
       }
      }
     },
     "metadata": {},
     "output_type": "display_data"
    }
   ],
   "source": [
    "# bar chart of banks by assets sorted by assets\n",
    "cat_data = cat_data.sort_values('assets_under_management', ascending=False)\n",
    "# log scale assets\n",
    "fig = px.bar(cat_data, x='bank', y='assets_under_management', title='Assets Under Management by Bank')\n",
    "fig.update_xaxes(title='Bank')\n",
    "fig.update_yaxes(title='Assets Under Management')\n",
    "fig.show()"
   ]
  },
  {
   "cell_type": "code",
   "execution_count": null,
   "metadata": {},
   "outputs": [],
   "source": []
  }
 ],
 "metadata": {
  "kernelspec": {
   "display_name": "Python 3",
   "language": "python",
   "name": "python3"
  },
  "language_info": {
   "codemirror_mode": {
    "name": "ipython",
    "version": 3
   },
   "file_extension": ".py",
   "mimetype": "text/x-python",
   "name": "python",
   "nbconvert_exporter": "python",
   "pygments_lexer": "ipython3",
   "version": "3.9.6"
  },
  "orig_nbformat": 4
 },
 "nbformat": 4,
 "nbformat_minor": 2
}
