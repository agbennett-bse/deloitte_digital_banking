{
 "cells": [
  {
   "cell_type": "code",
   "execution_count": 454,
   "metadata": {},
   "outputs": [],
   "source": [
    "import pandas as pd \n",
    "import numpy as np\n",
    "import matplotlib.pyplot as plt\n",
    "import plotly.express as px\n",
    "import plotly.graph_objects as go\n",
    "import statsmodels.api as sm\n",
    "import pandas as pd\n",
    "import plotly.express as px\n",
    "from scipy.signal import savgol_filter\n",
    "from statsmodels.stats.outliers_influence import variance_inflation_factor\n",
    "from linearmodels.panel import PanelOLS\n",
    "\n",
    "\n"
   ]
  },
  {
   "cell_type": "code",
   "execution_count": 455,
   "metadata": {},
   "outputs": [],
   "source": [
    "bank_names_mapping = mapping_dict = {\n",
    "    'banco': 'banc sabadell',\n",
    "    'my': 'myinvestor',\n",
    "    'evo': 'evobanco',\n",
    "    'caixa': 'caixabank',\n",
    "    'abanca': 'abanca',\n",
    "    'banc sabadell': 'banc sabadell',\n",
    "    'bancosabadell': 'banc sabadell',\n",
    "    'bancosantander': 'santander',\n",
    "    'bancsabadell': 'banc sabadell',\n",
    "    'sabadell': 'banc sabadell',\n",
    "    'bank': 'bank',\n",
    "    'bankinter': 'bankinter',\n",
    "    'bbva': 'bbva',\n",
    "    'caixabank': 'caixabank',\n",
    "    'caixa_bank': 'caixabank',\n",
    "    'date': 'date',\n",
    "    'evobanco': 'evobanco',\n",
    "    'evo_banco': 'evobanco',\n",
    "    'imagin': 'imagin',\n",
    "    'ing': 'ing',\n",
    "    'ing-bank': 'ing',\n",
    "    'ing_bank': 'ing',\n",
    "    'kutxabank': 'kutxabank',\n",
    "    'liberbank': 'liberbank',\n",
    "    'myinvestor': 'myinvestor',\n",
    "    'n26': 'n26',\n",
    "    'n26.com': 'n26',\n",
    "    None: None,  # handling nan (not a number)\n",
    "    'openbank': 'openbank',\n",
    "    'orangebank': 'orangebank',\n",
    "    'pibank': 'pibank',\n",
    "    'renaultbank': 'renaultbank',\n",
    "    'revolut': 'revolut',\n",
    "    'santander': 'santander',\n",
    "    'value': 'value'\n",
    "}"
   ]
  },
  {
   "cell_type": "code",
   "execution_count": 456,
   "metadata": {},
   "outputs": [
    {
     "data": {
      "text/html": [
       "<div>\n",
       "<style scoped>\n",
       "    .dataframe tbody tr th:only-of-type {\n",
       "        vertical-align: middle;\n",
       "    }\n",
       "\n",
       "    .dataframe tbody tr th {\n",
       "        vertical-align: top;\n",
       "    }\n",
       "\n",
       "    .dataframe thead th {\n",
       "        text-align: right;\n",
       "    }\n",
       "</style>\n",
       "<table border=\"1\" class=\"dataframe\">\n",
       "  <thead>\n",
       "    <tr style=\"text-align: right;\">\n",
       "      <th></th>\n",
       "      <th>bank</th>\n",
       "      <th>number_of_employee</th>\n",
       "      <th>assets_under_management</th>\n",
       "      <th>number_of_branches</th>\n",
       "      <th>age</th>\n",
       "      <th>has_stores</th>\n",
       "      <th>founded_before_2000</th>\n",
       "      <th>web_traffic</th>\n",
       "      <th>big_employees</th>\n",
       "      <th>big_assets</th>\n",
       "    </tr>\n",
       "  </thead>\n",
       "  <tbody>\n",
       "    <tr>\n",
       "      <th>0</th>\n",
       "      <td>abanca</td>\n",
       "      <td>5946</td>\n",
       "      <td>72148000000</td>\n",
       "      <td>690</td>\n",
       "      <td>13</td>\n",
       "      <td>1</td>\n",
       "      <td>0</td>\n",
       "      <td>1.357941e+06</td>\n",
       "      <td>0</td>\n",
       "      <td>1</td>\n",
       "    </tr>\n",
       "  </tbody>\n",
       "</table>\n",
       "</div>"
      ],
      "text/plain": [
       "     bank  number_of_employee  assets_under_management  number_of_branches  \\\n",
       "0  abanca                5946              72148000000                 690   \n",
       "\n",
       "   age  has_stores  founded_before_2000   web_traffic  big_employees  \\\n",
       "0   13           1                    0  1.357941e+06              0   \n",
       "\n",
       "   big_assets  \n",
       "0           1  "
      ]
     },
     "execution_count": 456,
     "metadata": {},
     "output_type": "execute_result"
    }
   ],
   "source": [
    "cat_data.loc[cat_data['number_of_employee'] == cat_data['number_of_employee'].median()]"
   ]
  },
  {
   "cell_type": "code",
   "execution_count": 457,
   "metadata": {},
   "outputs": [
    {
     "data": {
      "text/html": [
       "<div>\n",
       "<style scoped>\n",
       "    .dataframe tbody tr th:only-of-type {\n",
       "        vertical-align: middle;\n",
       "    }\n",
       "\n",
       "    .dataframe tbody tr th {\n",
       "        vertical-align: top;\n",
       "    }\n",
       "\n",
       "    .dataframe thead th {\n",
       "        text-align: right;\n",
       "    }\n",
       "</style>\n",
       "<table border=\"1\" class=\"dataframe\">\n",
       "  <thead>\n",
       "    <tr style=\"text-align: right;\">\n",
       "      <th></th>\n",
       "      <th>bank</th>\n",
       "      <th>number_of_employee</th>\n",
       "      <th>assets_under_management</th>\n",
       "      <th>number_of_branches</th>\n",
       "      <th>age</th>\n",
       "      <th>has_stores</th>\n",
       "      <th>founded_before_2000</th>\n",
       "      <th>web_traffic</th>\n",
       "      <th>big_employees</th>\n",
       "      <th>big_assets</th>\n",
       "    </tr>\n",
       "  </thead>\n",
       "  <tbody>\n",
       "    <tr>\n",
       "      <th>13</th>\n",
       "      <td>pibank</td>\n",
       "      <td>65</td>\n",
       "      <td>15500000000</td>\n",
       "      <td>0</td>\n",
       "      <td>6</td>\n",
       "      <td>0</td>\n",
       "      <td>0</td>\n",
       "      <td>NaN</td>\n",
       "      <td>0</td>\n",
       "      <td>0</td>\n",
       "    </tr>\n",
       "  </tbody>\n",
       "</table>\n",
       "</div>"
      ],
      "text/plain": [
       "      bank  number_of_employee  assets_under_management  number_of_branches  \\\n",
       "13  pibank                  65              15500000000                   0   \n",
       "\n",
       "    age  has_stores  founded_before_2000  web_traffic  big_employees  \\\n",
       "13    6           0                    0          NaN              0   \n",
       "\n",
       "    big_assets  \n",
       "13           0  "
      ]
     },
     "execution_count": 457,
     "metadata": {},
     "output_type": "execute_result"
    }
   ],
   "source": [
    "cat_data.loc[cat_data['assets_under_management'] == cat_data['assets_under_management'].median()]"
   ]
  },
  {
   "cell_type": "code",
   "execution_count": 458,
   "metadata": {},
   "outputs": [
    {
     "data": {
      "text/html": [
       "<div>\n",
       "<style scoped>\n",
       "    .dataframe tbody tr th:only-of-type {\n",
       "        vertical-align: middle;\n",
       "    }\n",
       "\n",
       "    .dataframe tbody tr th {\n",
       "        vertical-align: top;\n",
       "    }\n",
       "\n",
       "    .dataframe thead th {\n",
       "        text-align: right;\n",
       "    }\n",
       "</style>\n",
       "<table border=\"1\" class=\"dataframe\">\n",
       "  <thead>\n",
       "    <tr style=\"text-align: right;\">\n",
       "      <th></th>\n",
       "      <th>bank</th>\n",
       "      <th>number_of_employee</th>\n",
       "      <th>assets_under_management</th>\n",
       "      <th>number_of_branches</th>\n",
       "      <th>age</th>\n",
       "      <th>has_stores</th>\n",
       "      <th>founded_before_2000</th>\n",
       "      <th>web_traffic</th>\n",
       "      <th>big_employees</th>\n",
       "      <th>big_assets</th>\n",
       "    </tr>\n",
       "  </thead>\n",
       "  <tbody>\n",
       "    <tr>\n",
       "      <th>0</th>\n",
       "      <td>abanca</td>\n",
       "      <td>5946</td>\n",
       "      <td>72148000000</td>\n",
       "      <td>690</td>\n",
       "      <td>13</td>\n",
       "      <td>1</td>\n",
       "      <td>0</td>\n",
       "      <td>1.357941e+06</td>\n",
       "      <td>0</td>\n",
       "      <td>0</td>\n",
       "    </tr>\n",
       "    <tr>\n",
       "      <th>1</th>\n",
       "      <td>santander</td>\n",
       "      <td>212764</td>\n",
       "      <td>226000000000</td>\n",
       "      <td>8518</td>\n",
       "      <td>167</td>\n",
       "      <td>1</td>\n",
       "      <td>1</td>\n",
       "      <td>NaN</td>\n",
       "      <td>1</td>\n",
       "      <td>1</td>\n",
       "    </tr>\n",
       "    <tr>\n",
       "      <th>2</th>\n",
       "      <td>banc sabadell</td>\n",
       "      <td>19316</td>\n",
       "      <td>201449000000</td>\n",
       "      <td>1594</td>\n",
       "      <td>143</td>\n",
       "      <td>1</td>\n",
       "      <td>1</td>\n",
       "      <td>NaN</td>\n",
       "      <td>1</td>\n",
       "      <td>1</td>\n",
       "    </tr>\n",
       "    <tr>\n",
       "      <th>3</th>\n",
       "      <td>bankinter</td>\n",
       "      <td>6138</td>\n",
       "      <td>83300000000</td>\n",
       "      <td>523</td>\n",
       "      <td>59</td>\n",
       "      <td>1</td>\n",
       "      <td>1</td>\n",
       "      <td>2.755435e+05</td>\n",
       "      <td>1</td>\n",
       "      <td>1</td>\n",
       "    </tr>\n",
       "    <tr>\n",
       "      <th>4</th>\n",
       "      <td>bbva</td>\n",
       "      <td>121486</td>\n",
       "      <td>110000000000</td>\n",
       "      <td>1800</td>\n",
       "      <td>167</td>\n",
       "      <td>1</td>\n",
       "      <td>1</td>\n",
       "      <td>9.920828e+05</td>\n",
       "      <td>1</td>\n",
       "      <td>1</td>\n",
       "    </tr>\n",
       "    <tr>\n",
       "      <th>5</th>\n",
       "      <td>caixabank</td>\n",
       "      <td>44863</td>\n",
       "      <td>81890000000</td>\n",
       "      <td>3922</td>\n",
       "      <td>120</td>\n",
       "      <td>1</td>\n",
       "      <td>1</td>\n",
       "      <td>NaN</td>\n",
       "      <td>1</td>\n",
       "      <td>1</td>\n",
       "    </tr>\n",
       "    <tr>\n",
       "      <th>6</th>\n",
       "      <td>evobanco</td>\n",
       "      <td>200</td>\n",
       "      <td>7350000000</td>\n",
       "      <td>80</td>\n",
       "      <td>12</td>\n",
       "      <td>1</td>\n",
       "      <td>0</td>\n",
       "      <td>1.696284e+05</td>\n",
       "      <td>0</td>\n",
       "      <td>0</td>\n",
       "    </tr>\n",
       "    <tr>\n",
       "      <th>7</th>\n",
       "      <td>imagin</td>\n",
       "      <td>118</td>\n",
       "      <td>81890000000</td>\n",
       "      <td>0</td>\n",
       "      <td>8</td>\n",
       "      <td>0</td>\n",
       "      <td>0</td>\n",
       "      <td>NaN</td>\n",
       "      <td>0</td>\n",
       "      <td>1</td>\n",
       "    </tr>\n",
       "    <tr>\n",
       "      <th>8</th>\n",
       "      <td>ing</td>\n",
       "      <td>60778</td>\n",
       "      <td>268000000000</td>\n",
       "      <td>1660</td>\n",
       "      <td>33</td>\n",
       "      <td>1</td>\n",
       "      <td>1</td>\n",
       "      <td>7.016930e+05</td>\n",
       "      <td>1</td>\n",
       "      <td>1</td>\n",
       "    </tr>\n",
       "    <tr>\n",
       "      <th>9</th>\n",
       "      <td>kutxabank</td>\n",
       "      <td>5343</td>\n",
       "      <td>25000000000</td>\n",
       "      <td>737</td>\n",
       "      <td>12</td>\n",
       "      <td>1</td>\n",
       "      <td>0</td>\n",
       "      <td>NaN</td>\n",
       "      <td>0</td>\n",
       "      <td>0</td>\n",
       "    </tr>\n",
       "    <tr>\n",
       "      <th>10</th>\n",
       "      <td>myinvestor</td>\n",
       "      <td>60</td>\n",
       "      <td>4000000000</td>\n",
       "      <td>0</td>\n",
       "      <td>7</td>\n",
       "      <td>0</td>\n",
       "      <td>0</td>\n",
       "      <td>2.294361e+05</td>\n",
       "      <td>0</td>\n",
       "      <td>0</td>\n",
       "    </tr>\n",
       "    <tr>\n",
       "      <th>11</th>\n",
       "      <td>n26</td>\n",
       "      <td>1500</td>\n",
       "      <td>8000000000</td>\n",
       "      <td>0</td>\n",
       "      <td>11</td>\n",
       "      <td>0</td>\n",
       "      <td>0</td>\n",
       "      <td>2.031008e+05</td>\n",
       "      <td>0</td>\n",
       "      <td>0</td>\n",
       "    </tr>\n",
       "    <tr>\n",
       "      <th>12</th>\n",
       "      <td>openbank</td>\n",
       "      <td>1100</td>\n",
       "      <td>1815792000</td>\n",
       "      <td>0</td>\n",
       "      <td>28</td>\n",
       "      <td>0</td>\n",
       "      <td>1</td>\n",
       "      <td>4.243919e+05</td>\n",
       "      <td>0</td>\n",
       "      <td>0</td>\n",
       "    </tr>\n",
       "    <tr>\n",
       "      <th>13</th>\n",
       "      <td>pibank</td>\n",
       "      <td>65</td>\n",
       "      <td>15500000000</td>\n",
       "      <td>0</td>\n",
       "      <td>6</td>\n",
       "      <td>0</td>\n",
       "      <td>0</td>\n",
       "      <td>NaN</td>\n",
       "      <td>0</td>\n",
       "      <td>0</td>\n",
       "    </tr>\n",
       "    <tr>\n",
       "      <th>14</th>\n",
       "      <td>revolut</td>\n",
       "      <td>7500</td>\n",
       "      <td>14000000000</td>\n",
       "      <td>0</td>\n",
       "      <td>9</td>\n",
       "      <td>0</td>\n",
       "      <td>0</td>\n",
       "      <td>1.469593e+05</td>\n",
       "      <td>1</td>\n",
       "      <td>0</td>\n",
       "    </tr>\n",
       "  </tbody>\n",
       "</table>\n",
       "</div>"
      ],
      "text/plain": [
       "             bank  number_of_employee  assets_under_management  \\\n",
       "0          abanca                5946              72148000000   \n",
       "1       santander              212764             226000000000   \n",
       "2   banc sabadell               19316             201449000000   \n",
       "3       bankinter                6138              83300000000   \n",
       "4            bbva              121486             110000000000   \n",
       "5       caixabank               44863              81890000000   \n",
       "6        evobanco                 200               7350000000   \n",
       "7          imagin                 118              81890000000   \n",
       "8             ing               60778             268000000000   \n",
       "9       kutxabank                5343              25000000000   \n",
       "10     myinvestor                  60               4000000000   \n",
       "11            n26                1500               8000000000   \n",
       "12       openbank                1100               1815792000   \n",
       "13         pibank                  65              15500000000   \n",
       "14        revolut                7500              14000000000   \n",
       "\n",
       "    number_of_branches  age  has_stores  founded_before_2000   web_traffic  \\\n",
       "0                  690   13           1                    0  1.357941e+06   \n",
       "1                 8518  167           1                    1           NaN   \n",
       "2                 1594  143           1                    1           NaN   \n",
       "3                  523   59           1                    1  2.755435e+05   \n",
       "4                 1800  167           1                    1  9.920828e+05   \n",
       "5                 3922  120           1                    1           NaN   \n",
       "6                   80   12           1                    0  1.696284e+05   \n",
       "7                    0    8           0                    0           NaN   \n",
       "8                 1660   33           1                    1  7.016930e+05   \n",
       "9                  737   12           1                    0           NaN   \n",
       "10                   0    7           0                    0  2.294361e+05   \n",
       "11                   0   11           0                    0  2.031008e+05   \n",
       "12                   0   28           0                    1  4.243919e+05   \n",
       "13                   0    6           0                    0           NaN   \n",
       "14                   0    9           0                    0  1.469593e+05   \n",
       "\n",
       "    big_employees  big_assets  \n",
       "0               0           0  \n",
       "1               1           1  \n",
       "2               1           1  \n",
       "3               1           1  \n",
       "4               1           1  \n",
       "5               1           1  \n",
       "6               0           0  \n",
       "7               0           1  \n",
       "8               1           1  \n",
       "9               0           0  \n",
       "10              0           0  \n",
       "11              0           0  \n",
       "12              0           0  \n",
       "13              0           0  \n",
       "14              1           0  "
      ]
     },
     "execution_count": 458,
     "metadata": {},
     "output_type": "execute_result"
    }
   ],
   "source": [
    "# categorical data \n",
    "\n",
    "cat_data = pd.read_csv('data/bank_comps.csv')\n",
    "\n",
    "# create 2 groups based on the number of employees, assets\n",
    "\n",
    "# Calculate median values\n",
    "median_employee = cat_data['number_of_employee'].median()\n",
    "median_assets = cat_data['assets_under_management'].median()\n",
    "\n",
    "# Create new columns based on median comparison\n",
    "cat_data['big_employees'] = np.where(cat_data['number_of_employee'] > median_employee, 1, 0)\n",
    "cat_data['big_assets'] = np.where(cat_data['assets_under_management'] > median_assets, 1, 0)\n",
    "\n",
    "\n",
    "# map bank names\n",
    "cat_data['bank'] = cat_data['bank'].map(bank_names_mapping)\n",
    "\n",
    "cat_data"
   ]
  },
  {
   "cell_type": "code",
   "execution_count": 459,
   "metadata": {},
   "outputs": [
    {
     "data": {
      "text/html": [
       "<div>\n",
       "<style scoped>\n",
       "    .dataframe tbody tr th:only-of-type {\n",
       "        vertical-align: middle;\n",
       "    }\n",
       "\n",
       "    .dataframe tbody tr th {\n",
       "        vertical-align: top;\n",
       "    }\n",
       "\n",
       "    .dataframe thead th {\n",
       "        text-align: right;\n",
       "    }\n",
       "</style>\n",
       "<table border=\"1\" class=\"dataframe\">\n",
       "  <thead>\n",
       "    <tr style=\"text-align: right;\">\n",
       "      <th></th>\n",
       "      <th>bank</th>\n",
       "      <th>date</th>\n",
       "      <th>web_traffic</th>\n",
       "      <th>cross_visitation</th>\n",
       "      <th>search_interest</th>\n",
       "      <th>rank</th>\n",
       "      <th>incentive</th>\n",
       "      <th>apr</th>\n",
       "      <th>mentions</th>\n",
       "      <th>app_installs</th>\n",
       "      <th>ppc_spend</th>\n",
       "    </tr>\n",
       "  </thead>\n",
       "  <tbody>\n",
       "    <tr>\n",
       "      <th>0</th>\n",
       "      <td>abanca</td>\n",
       "      <td>2021-12-01</td>\n",
       "      <td>15202.983835</td>\n",
       "      <td>0.077994</td>\n",
       "      <td>7.75</td>\n",
       "      <td>4.0</td>\n",
       "      <td>150.0</td>\n",
       "      <td>0.0</td>\n",
       "      <td>1.0</td>\n",
       "      <td>43605.699637</td>\n",
       "      <td>1506.110026</td>\n",
       "    </tr>\n",
       "    <tr>\n",
       "      <th>1</th>\n",
       "      <td>abanca</td>\n",
       "      <td>2022-01-01</td>\n",
       "      <td>42183.913207</td>\n",
       "      <td>0.062500</td>\n",
       "      <td>7.80</td>\n",
       "      <td>4.0</td>\n",
       "      <td>150.0</td>\n",
       "      <td>0.0</td>\n",
       "      <td>1.0</td>\n",
       "      <td>43605.699637</td>\n",
       "      <td>1506.110026</td>\n",
       "    </tr>\n",
       "    <tr>\n",
       "      <th>2</th>\n",
       "      <td>abanca</td>\n",
       "      <td>2022-02-01</td>\n",
       "      <td>34498.153115</td>\n",
       "      <td>0.052288</td>\n",
       "      <td>7.25</td>\n",
       "      <td>4.0</td>\n",
       "      <td>150.0</td>\n",
       "      <td>0.0</td>\n",
       "      <td>2.0</td>\n",
       "      <td>48647.434439</td>\n",
       "      <td>32750.639361</td>\n",
       "    </tr>\n",
       "    <tr>\n",
       "      <th>3</th>\n",
       "      <td>abanca</td>\n",
       "      <td>2022-03-01</td>\n",
       "      <td>34546.319021</td>\n",
       "      <td>0.061503</td>\n",
       "      <td>6.75</td>\n",
       "      <td>4.0</td>\n",
       "      <td>150.0</td>\n",
       "      <td>0.0</td>\n",
       "      <td>2.0</td>\n",
       "      <td>26687.227413</td>\n",
       "      <td>15754.216964</td>\n",
       "    </tr>\n",
       "    <tr>\n",
       "      <th>4</th>\n",
       "      <td>abanca</td>\n",
       "      <td>2022-04-01</td>\n",
       "      <td>40508.288420</td>\n",
       "      <td>0.050222</td>\n",
       "      <td>6.75</td>\n",
       "      <td>4.0</td>\n",
       "      <td>300.0</td>\n",
       "      <td>0.0</td>\n",
       "      <td>2.0</td>\n",
       "      <td>4254.184995</td>\n",
       "      <td>6542.970638</td>\n",
       "    </tr>\n",
       "  </tbody>\n",
       "</table>\n",
       "</div>"
      ],
      "text/plain": [
       "     bank        date   web_traffic  cross_visitation  search_interest  rank  \\\n",
       "0  abanca  2021-12-01  15202.983835          0.077994             7.75   4.0   \n",
       "1  abanca  2022-01-01  42183.913207          0.062500             7.80   4.0   \n",
       "2  abanca  2022-02-01  34498.153115          0.052288             7.25   4.0   \n",
       "3  abanca  2022-03-01  34546.319021          0.061503             6.75   4.0   \n",
       "4  abanca  2022-04-01  40508.288420          0.050222             6.75   4.0   \n",
       "\n",
       "   incentive  apr  mentions  app_installs     ppc_spend  \n",
       "0      150.0  0.0       1.0  43605.699637   1506.110026  \n",
       "1      150.0  0.0       1.0  43605.699637   1506.110026  \n",
       "2      150.0  0.0       2.0  48647.434439  32750.639361  \n",
       "3      150.0  0.0       2.0  26687.227413  15754.216964  \n",
       "4      300.0  0.0       2.0   4254.184995   6542.970638  "
      ]
     },
     "execution_count": 459,
     "metadata": {},
     "output_type": "execute_result"
    }
   ],
   "source": [
    "data = pd.read_csv('data/regression_clean_data_final_1.csv')\n",
    "data.head()"
   ]
  },
  {
   "cell_type": "code",
   "execution_count": 460,
   "metadata": {},
   "outputs": [
    {
     "data": {
      "text/html": [
       "<div>\n",
       "<style scoped>\n",
       "    .dataframe tbody tr th:only-of-type {\n",
       "        vertical-align: middle;\n",
       "    }\n",
       "\n",
       "    .dataframe tbody tr th {\n",
       "        vertical-align: top;\n",
       "    }\n",
       "\n",
       "    .dataframe thead th {\n",
       "        text-align: right;\n",
       "    }\n",
       "</style>\n",
       "<table border=\"1\" class=\"dataframe\">\n",
       "  <thead>\n",
       "    <tr style=\"text-align: right;\">\n",
       "      <th></th>\n",
       "      <th>bank</th>\n",
       "      <th>date</th>\n",
       "      <th>web_traffic</th>\n",
       "      <th>cross_visitation</th>\n",
       "      <th>search_interest</th>\n",
       "      <th>rank</th>\n",
       "      <th>incentive</th>\n",
       "      <th>apr</th>\n",
       "      <th>mentions</th>\n",
       "      <th>app_installs</th>\n",
       "      <th>ppc_spend</th>\n",
       "      <th>has_stores</th>\n",
       "      <th>founded_before_2000</th>\n",
       "      <th>big_employees</th>\n",
       "      <th>big_assets</th>\n",
       "    </tr>\n",
       "  </thead>\n",
       "  <tbody>\n",
       "    <tr>\n",
       "      <th>0</th>\n",
       "      <td>abanca</td>\n",
       "      <td>2021-12-01</td>\n",
       "      <td>15202.983835</td>\n",
       "      <td>0.077994</td>\n",
       "      <td>7.75</td>\n",
       "      <td>4.000000</td>\n",
       "      <td>150.0</td>\n",
       "      <td>0.0</td>\n",
       "      <td>1.0</td>\n",
       "      <td>43605.699637</td>\n",
       "      <td>1506.110026</td>\n",
       "      <td>1</td>\n",
       "      <td>0</td>\n",
       "      <td>0</td>\n",
       "      <td>0</td>\n",
       "    </tr>\n",
       "    <tr>\n",
       "      <th>1</th>\n",
       "      <td>abanca</td>\n",
       "      <td>2022-01-01</td>\n",
       "      <td>42183.913207</td>\n",
       "      <td>0.062500</td>\n",
       "      <td>7.80</td>\n",
       "      <td>4.000000</td>\n",
       "      <td>150.0</td>\n",
       "      <td>0.0</td>\n",
       "      <td>1.0</td>\n",
       "      <td>43605.699637</td>\n",
       "      <td>1506.110026</td>\n",
       "      <td>1</td>\n",
       "      <td>0</td>\n",
       "      <td>0</td>\n",
       "      <td>0</td>\n",
       "    </tr>\n",
       "    <tr>\n",
       "      <th>2</th>\n",
       "      <td>abanca</td>\n",
       "      <td>2022-02-01</td>\n",
       "      <td>34498.153115</td>\n",
       "      <td>0.052288</td>\n",
       "      <td>7.25</td>\n",
       "      <td>4.000000</td>\n",
       "      <td>150.0</td>\n",
       "      <td>0.0</td>\n",
       "      <td>2.0</td>\n",
       "      <td>48647.434439</td>\n",
       "      <td>32750.639361</td>\n",
       "      <td>1</td>\n",
       "      <td>0</td>\n",
       "      <td>0</td>\n",
       "      <td>0</td>\n",
       "    </tr>\n",
       "    <tr>\n",
       "      <th>3</th>\n",
       "      <td>abanca</td>\n",
       "      <td>2022-03-01</td>\n",
       "      <td>34546.319021</td>\n",
       "      <td>0.061503</td>\n",
       "      <td>6.75</td>\n",
       "      <td>4.000000</td>\n",
       "      <td>150.0</td>\n",
       "      <td>0.0</td>\n",
       "      <td>2.0</td>\n",
       "      <td>26687.227413</td>\n",
       "      <td>15754.216964</td>\n",
       "      <td>1</td>\n",
       "      <td>0</td>\n",
       "      <td>0</td>\n",
       "      <td>0</td>\n",
       "    </tr>\n",
       "    <tr>\n",
       "      <th>4</th>\n",
       "      <td>abanca</td>\n",
       "      <td>2022-04-01</td>\n",
       "      <td>40508.288420</td>\n",
       "      <td>0.050222</td>\n",
       "      <td>6.75</td>\n",
       "      <td>4.000000</td>\n",
       "      <td>300.0</td>\n",
       "      <td>0.0</td>\n",
       "      <td>2.0</td>\n",
       "      <td>4254.184995</td>\n",
       "      <td>6542.970638</td>\n",
       "      <td>1</td>\n",
       "      <td>0</td>\n",
       "      <td>0</td>\n",
       "      <td>0</td>\n",
       "    </tr>\n",
       "    <tr>\n",
       "      <th>...</th>\n",
       "      <td>...</td>\n",
       "      <td>...</td>\n",
       "      <td>...</td>\n",
       "      <td>...</td>\n",
       "      <td>...</td>\n",
       "      <td>...</td>\n",
       "      <td>...</td>\n",
       "      <td>...</td>\n",
       "      <td>...</td>\n",
       "      <td>...</td>\n",
       "      <td>...</td>\n",
       "      <td>...</td>\n",
       "      <td>...</td>\n",
       "      <td>...</td>\n",
       "      <td>...</td>\n",
       "    </tr>\n",
       "    <tr>\n",
       "      <th>270</th>\n",
       "      <td>santander</td>\n",
       "      <td>2023-08-01</td>\n",
       "      <td>34290.160425</td>\n",
       "      <td>0.118914</td>\n",
       "      <td>50.50</td>\n",
       "      <td>3.500000</td>\n",
       "      <td>150.0</td>\n",
       "      <td>0.0</td>\n",
       "      <td>1.0</td>\n",
       "      <td>94258.470775</td>\n",
       "      <td>23196.742521</td>\n",
       "      <td>1</td>\n",
       "      <td>1</td>\n",
       "      <td>1</td>\n",
       "      <td>1</td>\n",
       "    </tr>\n",
       "    <tr>\n",
       "      <th>271</th>\n",
       "      <td>santander</td>\n",
       "      <td>2023-09-01</td>\n",
       "      <td>40388.737821</td>\n",
       "      <td>0.125496</td>\n",
       "      <td>56.25</td>\n",
       "      <td>3.500000</td>\n",
       "      <td>400.0</td>\n",
       "      <td>0.0</td>\n",
       "      <td>3.0</td>\n",
       "      <td>115545.874406</td>\n",
       "      <td>18453.991325</td>\n",
       "      <td>1</td>\n",
       "      <td>1</td>\n",
       "      <td>1</td>\n",
       "      <td>1</td>\n",
       "    </tr>\n",
       "    <tr>\n",
       "      <th>272</th>\n",
       "      <td>santander</td>\n",
       "      <td>2023-10-01</td>\n",
       "      <td>36636.706633</td>\n",
       "      <td>0.126347</td>\n",
       "      <td>58.60</td>\n",
       "      <td>3.500000</td>\n",
       "      <td>400.0</td>\n",
       "      <td>0.0</td>\n",
       "      <td>4.0</td>\n",
       "      <td>105536.783263</td>\n",
       "      <td>18587.526350</td>\n",
       "      <td>1</td>\n",
       "      <td>1</td>\n",
       "      <td>1</td>\n",
       "      <td>1</td>\n",
       "    </tr>\n",
       "    <tr>\n",
       "      <th>273</th>\n",
       "      <td>santander</td>\n",
       "      <td>2023-11-01</td>\n",
       "      <td>35387.630139</td>\n",
       "      <td>0.121212</td>\n",
       "      <td>59.75</td>\n",
       "      <td>1.500000</td>\n",
       "      <td>400.0</td>\n",
       "      <td>0.0</td>\n",
       "      <td>3.0</td>\n",
       "      <td>87875.847509</td>\n",
       "      <td>30037.515265</td>\n",
       "      <td>1</td>\n",
       "      <td>1</td>\n",
       "      <td>1</td>\n",
       "      <td>1</td>\n",
       "    </tr>\n",
       "    <tr>\n",
       "      <th>274</th>\n",
       "      <td>santander</td>\n",
       "      <td>2023-12-01</td>\n",
       "      <td>29101.697517</td>\n",
       "      <td>0.159196</td>\n",
       "      <td>62.80</td>\n",
       "      <td>1.806452</td>\n",
       "      <td>400.0</td>\n",
       "      <td>0.0</td>\n",
       "      <td>2.0</td>\n",
       "      <td>77851.148389</td>\n",
       "      <td>18659.921880</td>\n",
       "      <td>1</td>\n",
       "      <td>1</td>\n",
       "      <td>1</td>\n",
       "      <td>1</td>\n",
       "    </tr>\n",
       "  </tbody>\n",
       "</table>\n",
       "<p>275 rows × 15 columns</p>\n",
       "</div>"
      ],
      "text/plain": [
       "          bank        date   web_traffic  cross_visitation  search_interest  \\\n",
       "0       abanca  2021-12-01  15202.983835          0.077994             7.75   \n",
       "1       abanca  2022-01-01  42183.913207          0.062500             7.80   \n",
       "2       abanca  2022-02-01  34498.153115          0.052288             7.25   \n",
       "3       abanca  2022-03-01  34546.319021          0.061503             6.75   \n",
       "4       abanca  2022-04-01  40508.288420          0.050222             6.75   \n",
       "..         ...         ...           ...               ...              ...   \n",
       "270  santander  2023-08-01  34290.160425          0.118914            50.50   \n",
       "271  santander  2023-09-01  40388.737821          0.125496            56.25   \n",
       "272  santander  2023-10-01  36636.706633          0.126347            58.60   \n",
       "273  santander  2023-11-01  35387.630139          0.121212            59.75   \n",
       "274  santander  2023-12-01  29101.697517          0.159196            62.80   \n",
       "\n",
       "         rank  incentive  apr  mentions   app_installs     ppc_spend  \\\n",
       "0    4.000000      150.0  0.0       1.0   43605.699637   1506.110026   \n",
       "1    4.000000      150.0  0.0       1.0   43605.699637   1506.110026   \n",
       "2    4.000000      150.0  0.0       2.0   48647.434439  32750.639361   \n",
       "3    4.000000      150.0  0.0       2.0   26687.227413  15754.216964   \n",
       "4    4.000000      300.0  0.0       2.0    4254.184995   6542.970638   \n",
       "..        ...        ...  ...       ...            ...           ...   \n",
       "270  3.500000      150.0  0.0       1.0   94258.470775  23196.742521   \n",
       "271  3.500000      400.0  0.0       3.0  115545.874406  18453.991325   \n",
       "272  3.500000      400.0  0.0       4.0  105536.783263  18587.526350   \n",
       "273  1.500000      400.0  0.0       3.0   87875.847509  30037.515265   \n",
       "274  1.806452      400.0  0.0       2.0   77851.148389  18659.921880   \n",
       "\n",
       "     has_stores  founded_before_2000  big_employees  big_assets  \n",
       "0             1                    0              0           0  \n",
       "1             1                    0              0           0  \n",
       "2             1                    0              0           0  \n",
       "3             1                    0              0           0  \n",
       "4             1                    0              0           0  \n",
       "..          ...                  ...            ...         ...  \n",
       "270           1                    1              1           1  \n",
       "271           1                    1              1           1  \n",
       "272           1                    1              1           1  \n",
       "273           1                    1              1           1  \n",
       "274           1                    1              1           1  \n",
       "\n",
       "[275 rows x 15 columns]"
      ]
     },
     "execution_count": 460,
     "metadata": {},
     "output_type": "execute_result"
    }
   ],
   "source": [
    "# left join ['has_stores', 'founded_before_2000', 'big_employees', 'big_assets'] to data\n",
    "data = data.merge(cat_data[['bank', 'has_stores', 'founded_before_2000', 'big_employees', 'big_assets']], on='bank', how='left')\n",
    "data\n"
   ]
  },
  {
   "cell_type": "code",
   "execution_count": 461,
   "metadata": {},
   "outputs": [],
   "source": [
    "# log scale web traffic\n",
    "data['log_web_traffic'] = np.log(data['web_traffic'])"
   ]
  },
  {
   "cell_type": "code",
   "execution_count": 462,
   "metadata": {},
   "outputs": [],
   "source": [
    "# log incentive, ppc, app install \n",
    "epsilon = 1e-6\n",
    "data['incentive'] = data['incentive'] + epsilon\n",
    "data['log_incentive'] = np.log(data['incentive'])\n",
    "data['log_ppc'] = np.log(data['ppc_spend'])\n",
    "data['log_app_installs'] = np.log(data['app_installs'])"
   ]
  },
  {
   "cell_type": "markdown",
   "metadata": {},
   "source": [
    "### Pooled Data Regression"
   ]
  },
  {
   "cell_type": "markdown",
   "metadata": {},
   "source": [
    "dummy cols casted"
   ]
  },
  {
   "cell_type": "code",
   "execution_count": 463,
   "metadata": {},
   "outputs": [],
   "source": [
    "pooled_data = pd.get_dummies(data, columns=['bank'], drop_first=True)\n",
    "\n",
    "\n",
    "# cast the dummy columns to int \n",
    "pooled_data[[ 'bank_banc sabadell', 'bank_bankinter',\n",
    "       'bank_bbva', 'bank_evobanco', 'bank_ing', 'bank_myinvestor', 'bank_n26',\n",
    "       'bank_openbank', 'bank_revolut', 'bank_santander','has_stores','founded_before_2000', 'big_employees', 'big_assets']] = pooled_data[[ 'bank_banc sabadell', 'bank_bankinter',\n",
    "       'bank_bbva', 'bank_evobanco', 'bank_ing', 'bank_myinvestor', 'bank_n26',\n",
    "       'bank_openbank', 'bank_revolut', 'bank_santander','has_stores','founded_before_2000', 'big_employees', 'big_assets']].astype(int)"
   ]
  },
  {
   "cell_type": "code",
   "execution_count": 464,
   "metadata": {},
   "outputs": [],
   "source": [
    "pooled_data['date'] = pd.to_datetime(pooled_data['date'])\n",
    "\n",
    "# create a dummy column for january \n",
    "pooled_data['month_1'] = np.where(pooled_data['date'].dt.month == 1, 1, 0)"
   ]
  },
  {
   "cell_type": "code",
   "execution_count": 465,
   "metadata": {},
   "outputs": [],
   "source": [
    "# create a web traffic lag variable\n",
    "pooled_data['log_web_traffic_lag'] = pooled_data['log_web_traffic'].shift(1)\n"
   ]
  },
  {
   "cell_type": "code",
   "execution_count": 466,
   "metadata": {},
   "outputs": [],
   "source": [
    "# scale all of the variables with standard scaler\n",
    "from sklearn.preprocessing import StandardScaler\n",
    "\n",
    "scaler = StandardScaler()\n",
    "pooled_data[['month_1','cross_visitation', 'search_interest', 'apr', 'mentions', 'log_web_traffic_lag', 'log_web_traffic','log_incentive', 'log_app_installs', 'log_ppc']] = scaler.fit_transform(pooled_data[['month_1','cross_visitation', 'search_interest', 'apr', 'mentions', 'log_web_traffic_lag', 'log_web_traffic', 'log_incentive', 'log_app_installs', 'log_ppc' ]])\n"
   ]
  },
  {
   "cell_type": "code",
   "execution_count": 467,
   "metadata": {},
   "outputs": [],
   "source": [
    "pooled_data.log_web_traffic_lag = pooled_data.log_web_traffic_lag.bfill()"
   ]
  },
  {
   "cell_type": "code",
   "execution_count": 468,
   "metadata": {},
   "outputs": [
    {
     "name": "stdout",
     "output_type": "stream",
     "text": [
      "                            OLS Regression Results                            \n",
      "==============================================================================\n",
      "Dep. Variable:        log_web_traffic   R-squared:                       0.799\n",
      "Model:                            OLS   Adj. R-squared:                  0.793\n",
      "Method:                 Least Squares   F-statistic:                     117.3\n",
      "Date:                Sun, 30 Jun 2024   Prob (F-statistic):           4.21e-87\n",
      "Time:                        13:28:13   Log-Likelihood:                -169.36\n",
      "No. Observations:                 275   AIC:                             358.7\n",
      "Df Residuals:                     265   BIC:                             394.9\n",
      "Df Model:                           9                                         \n",
      "Covariance Type:            nonrobust                                         \n",
      "=======================================================================================\n",
      "                          coef    std err          t      P>|t|      [0.025      0.975]\n",
      "---------------------------------------------------------------------------------------\n",
      "const                   0.0001      0.028      0.004      0.997      -0.054       0.054\n",
      "log_web_traffic_lag     0.7294      0.042     17.431      0.000       0.647       0.812\n",
      "cross_visitation        0.0941      0.043      2.201      0.029       0.010       0.178\n",
      "search_interest         0.0676      0.037      1.826      0.069      -0.005       0.141\n",
      "apr                    -0.0558      0.032     -1.753      0.081      -0.118       0.007\n",
      "mentions               -0.0073      0.032     -0.228      0.819      -0.070       0.056\n",
      "log_incentive           0.1234      0.036      3.396      0.001       0.052       0.195\n",
      "log_app_installs       -0.0318      0.040     -0.797      0.426      -0.110       0.047\n",
      "log_ppc                 0.0692      0.036      1.902      0.058      -0.002       0.141\n",
      "month_1                 0.0447      0.028      1.601      0.111      -0.010       0.100\n",
      "==============================================================================\n",
      "Omnibus:                      104.603   Durbin-Watson:                   2.110\n",
      "Prob(Omnibus):                  0.000   Jarque-Bera (JB):              858.584\n",
      "Skew:                          -1.292   Prob(JB):                    3.64e-187\n",
      "Kurtosis:                      11.261   Cond. No.                         3.81\n",
      "==============================================================================\n",
      "\n",
      "Notes:\n",
      "[1] Standard Errors assume that the covariance matrix of the errors is correctly specified.\n"
     ]
    }
   ],
   "source": [
    "y = pooled_data['log_web_traffic']\n",
    "\n",
    "ind_vars = ['log_web_traffic_lag', 'cross_visitation', 'search_interest', 'apr', 'mentions', 'log_incentive', 'log_app_installs', 'log_ppc', 'month_1']\n",
    "\n",
    "X = pooled_data[ind_vars]\n",
    "\n",
    "X = sm.add_constant(X)\n",
    "\n",
    "# Create and fit the fixed effects model\n",
    "model = sm.OLS(y, X).fit()\n",
    "pooled_regression_summary = model.summary()\n",
    "print(pooled_regression_summary)"
   ]
  },
  {
   "cell_type": "markdown",
   "metadata": {},
   "source": [
    "big banks only"
   ]
  },
  {
   "cell_type": "code",
   "execution_count": 469,
   "metadata": {},
   "outputs": [],
   "source": [
    "\n",
    "big_v_small_cols =  ['has_stores','founded_before_2000', 'big_employees', 'big_assets']\n",
    "interaction_terms = []\n",
    "\n",
    "for col1 in big_v_small_cols: \n",
    "       reg = []\n",
    "       for col2 in ind_vars:\n",
    "              pooled_data[col1 + ' x ' + col2] = pooled_data[col1] * pooled_data[col2]\n",
    "              reg.append(col1 + ' x ' + col2)\n",
    "       interaction_terms.append(reg)\n",
    "\n",
    "pooled_data = pooled_data.fillna(0)"
   ]
  },
  {
   "cell_type": "code",
   "execution_count": 470,
   "metadata": {},
   "outputs": [
    {
     "name": "stdout",
     "output_type": "stream",
     "text": [
      "                            OLS Regression Results                            \n",
      "==============================================================================\n",
      "Dep. Variable:        log_web_traffic   R-squared:                       0.587\n",
      "Model:                            OLS   Adj. R-squared:                  0.573\n",
      "Method:                 Least Squares   F-statistic:                     41.77\n",
      "Date:                Sun, 30 Jun 2024   Prob (F-statistic):           5.76e-46\n",
      "Time:                        13:28:13   Log-Likelihood:                -268.77\n",
      "No. Observations:                 275   AIC:                             557.5\n",
      "Df Residuals:                     265   BIC:                             593.7\n",
      "Df Model:                           9                                         \n",
      "Covariance Type:            nonrobust                                         \n",
      "====================================================================================================\n",
      "                                       coef    std err          t      P>|t|      [0.025      0.975]\n",
      "----------------------------------------------------------------------------------------------------\n",
      "const                               -0.3674      0.052     -7.070      0.000      -0.470      -0.265\n",
      "has_stores x log_web_traffic_lag     0.9821      0.098     10.007      0.000       0.789       1.175\n",
      "has_stores x cross_visitation       -0.0315      0.080     -0.393      0.695      -0.190       0.127\n",
      "has_stores x search_interest         0.1285      0.086      1.494      0.136      -0.041       0.298\n",
      "has_stores x apr                     0.2068      0.075      2.774      0.006       0.060       0.354\n",
      "has_stores x mentions               -0.0814      0.059     -1.382      0.168      -0.197       0.035\n",
      "has_stores x log_incentive           0.0585      0.074      0.796      0.427      -0.086       0.203\n",
      "has_stores x log_app_installs        0.1529      0.102      1.506      0.133      -0.047       0.353\n",
      "has_stores x log_ppc                 0.1525      0.083      1.843      0.066      -0.010       0.315\n",
      "has_stores x month_1                 0.0708      0.051      1.376      0.170      -0.031       0.172\n",
      "==============================================================================\n",
      "Omnibus:                       73.758   Durbin-Watson:                   0.948\n",
      "Prob(Omnibus):                  0.000   Jarque-Bera (JB):              220.713\n",
      "Skew:                          -1.169   Prob(JB):                     1.18e-48\n",
      "Kurtosis:                       6.714   Cond. No.                         5.21\n",
      "==============================================================================\n",
      "\n",
      "Notes:\n",
      "[1] Standard Errors assume that the covariance matrix of the errors is correctly specified.\n",
      "                            OLS Regression Results                            \n",
      "==============================================================================\n",
      "Dep. Variable:        log_web_traffic   R-squared:                       0.318\n",
      "Model:                            OLS   Adj. R-squared:                  0.295\n",
      "Method:                 Least Squares   F-statistic:                     13.73\n",
      "Date:                Sun, 30 Jun 2024   Prob (F-statistic):           4.49e-18\n",
      "Time:                        13:28:13   Log-Likelihood:                -337.60\n",
      "No. Observations:                 275   AIC:                             695.2\n",
      "Df Residuals:                     265   BIC:                             731.4\n",
      "Df Model:                           9                                         \n",
      "Covariance Type:            nonrobust                                         \n",
      "=============================================================================================================\n",
      "                                                coef    std err          t      P>|t|      [0.025      0.975]\n",
      "-------------------------------------------------------------------------------------------------------------\n",
      "const                                        -0.3064      0.062     -4.937      0.000      -0.429      -0.184\n",
      "founded_before_2000 x log_web_traffic_lag     0.5731      0.165      3.468      0.001       0.248       0.899\n",
      "founded_before_2000 x cross_visitation        0.1439      0.108      1.336      0.183      -0.068       0.356\n",
      "founded_before_2000 x search_interest         0.1746      0.116      1.506      0.133      -0.054       0.403\n",
      "founded_before_2000 x apr                     0.0601      0.087      0.688      0.492      -0.112       0.232\n",
      "founded_before_2000 x mentions               -0.0467      0.077     -0.609      0.543      -0.198       0.104\n",
      "founded_before_2000 x log_incentive           0.0166      0.098      0.170      0.865      -0.176       0.209\n",
      "founded_before_2000 x log_app_installs        0.0935      0.174      0.538      0.591      -0.249       0.436\n",
      "founded_before_2000 x log_ppc                 0.2661      0.130      2.043      0.042       0.010       0.523\n",
      "founded_before_2000 x month_1                 0.0633      0.070      0.898      0.370      -0.075       0.202\n",
      "==============================================================================\n",
      "Omnibus:                       11.212   Durbin-Watson:                   0.454\n",
      "Prob(Omnibus):                  0.004   Jarque-Bera (JB):               23.491\n",
      "Skew:                          -0.071   Prob(JB):                     7.93e-06\n",
      "Kurtosis:                       4.425   Cond. No.                         5.78\n",
      "==============================================================================\n",
      "\n",
      "Notes:\n",
      "[1] Standard Errors assume that the covariance matrix of the errors is correctly specified.\n",
      "                            OLS Regression Results                            \n",
      "==============================================================================\n",
      "Dep. Variable:        log_web_traffic   R-squared:                       0.486\n",
      "Model:                            OLS   Adj. R-squared:                  0.468\n",
      "Method:                 Least Squares   F-statistic:                     27.83\n",
      "Date:                Sun, 30 Jun 2024   Prob (F-statistic):           1.03e-33\n",
      "Time:                        13:28:13   Log-Likelihood:                -298.71\n",
      "No. Observations:                 275   AIC:                             617.4\n",
      "Df Residuals:                     265   BIC:                             653.6\n",
      "Df Model:                           9                                         \n",
      "Covariance Type:            nonrobust                                         \n",
      "=======================================================================================================\n",
      "                                          coef    std err          t      P>|t|      [0.025      0.975]\n",
      "-------------------------------------------------------------------------------------------------------\n",
      "const                                  -0.1735      0.056     -3.072      0.002      -0.285      -0.062\n",
      "big_employees x log_web_traffic_lag     0.6892      0.092      7.459      0.000       0.507       0.871\n",
      "big_employees x cross_visitation        0.1334      0.093      1.440      0.151      -0.049       0.316\n",
      "big_employees x search_interest         0.2243      0.097      2.315      0.021       0.034       0.415\n",
      "big_employees x apr                     0.0814      0.093      0.877      0.381      -0.101       0.264\n",
      "big_employees x mentions               -0.0630      0.068     -0.931      0.353      -0.196       0.070\n",
      "big_employees x log_incentive           0.0706      0.081      0.869      0.385      -0.089       0.231\n",
      "big_employees x log_app_installs        0.0131      0.123      0.106      0.916      -0.229       0.255\n",
      "big_employees x log_ppc                -0.0119      0.101     -0.117      0.907      -0.211       0.188\n",
      "big_employees x month_1                 0.0359      0.061      0.593      0.553      -0.083       0.155\n",
      "==============================================================================\n",
      "Omnibus:                       13.714   Durbin-Watson:                   0.661\n",
      "Prob(Omnibus):                  0.001   Jarque-Bera (JB):               18.960\n",
      "Skew:                           0.370   Prob(JB):                     7.64e-05\n",
      "Kurtosis:                       4.053   Cond. No.                         5.13\n",
      "==============================================================================\n",
      "\n",
      "Notes:\n",
      "[1] Standard Errors assume that the covariance matrix of the errors is correctly specified.\n",
      "                            OLS Regression Results                            \n",
      "==============================================================================\n",
      "Dep. Variable:        log_web_traffic   R-squared:                       0.333\n",
      "Model:                            OLS   Adj. R-squared:                  0.310\n",
      "Method:                 Least Squares   F-statistic:                     14.67\n",
      "Date:                Sun, 30 Jun 2024   Prob (F-statistic):           2.96e-19\n",
      "Time:                        13:28:13   Log-Likelihood:                -334.61\n",
      "No. Observations:                 275   AIC:                             689.2\n",
      "Df Residuals:                     265   BIC:                             725.4\n",
      "Df Model:                           9                                         \n",
      "Covariance Type:            nonrobust                                         \n",
      "====================================================================================================\n",
      "                                       coef    std err          t      P>|t|      [0.025      0.975]\n",
      "----------------------------------------------------------------------------------------------------\n",
      "const                               -0.3403      0.063     -5.372      0.000      -0.465      -0.216\n",
      "big_assets x log_web_traffic_lag     0.6661      0.176      3.792      0.000       0.320       1.012\n",
      "big_assets x cross_visitation        0.0766      0.112      0.681      0.496      -0.145       0.298\n",
      "big_assets x search_interest         0.3403      0.136      2.503      0.013       0.073       0.608\n",
      "big_assets x apr                     0.2075      0.107      1.944      0.053      -0.003       0.418\n",
      "big_assets x mentions               -0.1108      0.085     -1.300      0.195      -0.279       0.057\n",
      "big_assets x log_incentive           0.0290      0.100      0.291      0.772      -0.167       0.225\n",
      "big_assets x log_app_installs        0.1102      0.203      0.542      0.588      -0.290       0.511\n",
      "big_assets x log_ppc                 0.1227      0.152      0.807      0.420      -0.177       0.422\n",
      "big_assets x month_1                 0.0463      0.077      0.603      0.547      -0.105       0.198\n",
      "==============================================================================\n",
      "Omnibus:                       12.324   Durbin-Watson:                   0.452\n",
      "Prob(Omnibus):                  0.002   Jarque-Bera (JB):               28.258\n",
      "Skew:                           0.015   Prob(JB):                     7.31e-07\n",
      "Kurtosis:                       4.570   Cond. No.                         6.83\n",
      "==============================================================================\n",
      "\n",
      "Notes:\n",
      "[1] Standard Errors assume that the covariance matrix of the errors is correctly specified.\n"
     ]
    }
   ],
   "source": [
    "\n",
    "for index in range(0, len(interaction_terms)): \n",
    "    # Define the dependent and independent variables\n",
    "    y = pooled_data['log_web_traffic']\n",
    "\n",
    "    X = pooled_data[interaction_terms[index]]\n",
    "\n",
    "    X = sm.add_constant(X)\n",
    "\n",
    "    # Create and fit the fixed effects model\n",
    "    model = sm.OLS(y, X).fit()\n",
    "    pooled_regression_summary = model.summary()\n",
    "    print(pooled_regression_summary)\n"
   ]
  },
  {
   "cell_type": "markdown",
   "metadata": {},
   "source": [
    "has stores\n",
    "    apr\n",
    "    lag\n",
    "\n",
    "before 2000\n",
    "    price per customer\n",
    "\n",
    "big employees\n",
    "    search interest\n",
    "\n",
    "big assets\n",
    "    apr\n",
    "    ppc\n",
    "    incentives\n"
   ]
  },
  {
   "cell_type": "markdown",
   "metadata": {},
   "source": [
    "small banks now"
   ]
  },
  {
   "cell_type": "code",
   "execution_count": 471,
   "metadata": {},
   "outputs": [],
   "source": [
    "\n",
    "big_v_small_cols =  ['has_stores','founded_before_2000', 'big_employees', 'big_assets']\n",
    "big_v_small_cols_invert =  ['no_stores','founded_after_2000', 'small_employees', 'small_assets']\n",
    "pooled_data_inverted = pooled_data.copy()\n",
    "interaction_terms_invert = []\n",
    "\n",
    "index = 0\n",
    "for col1 in big_v_small_cols: \n",
    "       reg = []\n",
    "       # invert 0 to 1 and 1 to 0 in col1 \n",
    "       pooled_data_inverted[col1] = pooled_data_inverted[col1].apply(lambda x: 1 if x == 0 else 0)\n",
    "       for col2 in ind_vars:\n",
    "              pooled_data_inverted[big_v_small_cols_invert[index] + ' x ' + col2] = pooled_data_inverted[col1] * pooled_data_inverted[col2]\n",
    "              reg.append(big_v_small_cols_invert[index] + ' x ' + col2)\n",
    "       interaction_terms_invert.append(reg)\n",
    "       index += 1\n",
    "\n",
    "pooled_data_inverted = pooled_data_inverted.fillna(0)"
   ]
  },
  {
   "cell_type": "code",
   "execution_count": 472,
   "metadata": {},
   "outputs": [
    {
     "name": "stdout",
     "output_type": "stream",
     "text": [
      "                            OLS Regression Results                            \n",
      "==============================================================================\n",
      "Dep. Variable:        log_web_traffic   R-squared:                       0.440\n",
      "Model:                            OLS   Adj. R-squared:                  0.420\n",
      "Method:                 Least Squares   F-statistic:                     23.09\n",
      "Date:                Sun, 30 Jun 2024   Prob (F-statistic):           6.90e-29\n",
      "Time:                        13:28:13   Log-Likelihood:                -310.61\n",
      "No. Observations:                 275   AIC:                             641.2\n",
      "Df Residuals:                     265   BIC:                             677.4\n",
      "Df Model:                           9                                         \n",
      "Covariance Type:            nonrobust                                         \n",
      "===================================================================================================\n",
      "                                      coef    std err          t      P>|t|      [0.025      0.975]\n",
      "---------------------------------------------------------------------------------------------------\n",
      "const                               0.4132      0.058      7.167      0.000       0.300       0.527\n",
      "no_stores x log_web_traffic_lag     0.4261      0.118      3.625      0.000       0.195       0.657\n",
      "no_stores x cross_visitation        0.5790      0.186      3.113      0.002       0.213       0.945\n",
      "no_stores x search_interest         0.0196      0.148      0.133      0.894      -0.271       0.311\n",
      "no_stores x apr                     1.7645      0.524      3.365      0.001       0.732       2.797\n",
      "no_stores x mentions                0.1315      0.103      1.275      0.203      -0.072       0.335\n",
      "no_stores x log_incentive          -0.8740      0.364     -2.398      0.017      -1.592      -0.156\n",
      "no_stores x log_app_installs       -0.0949      0.093     -1.023      0.307      -0.277       0.088\n",
      "no_stores x log_ppc                -0.1469      0.110     -1.336      0.183      -0.363       0.070\n",
      "no_stores x month_1                 0.0219      0.077      0.283      0.777      -0.130       0.174\n",
      "==============================================================================\n",
      "Omnibus:                       21.359   Durbin-Watson:                   0.428\n",
      "Prob(Omnibus):                  0.000   Jarque-Bera (JB):               24.175\n",
      "Skew:                          -0.716   Prob(JB):                     5.63e-06\n",
      "Kurtosis:                       3.245   Cond. No.                         17.5\n",
      "==============================================================================\n",
      "\n",
      "Notes:\n",
      "[1] Standard Errors assume that the covariance matrix of the errors is correctly specified.\n",
      "                            OLS Regression Results                            \n",
      "==============================================================================\n",
      "Dep. Variable:        log_web_traffic   R-squared:                       0.670\n",
      "Model:                            OLS   Adj. R-squared:                  0.658\n",
      "Method:                 Least Squares   F-statistic:                     59.68\n",
      "Date:                Sun, 30 Jun 2024   Prob (F-statistic):           1.13e-58\n",
      "Time:                        13:28:13   Log-Likelihood:                -237.93\n",
      "No. Observations:                 275   AIC:                             495.9\n",
      "Df Residuals:                     265   BIC:                             532.0\n",
      "Df Model:                           9                                         \n",
      "Covariance Type:            nonrobust                                         \n",
      "============================================================================================================\n",
      "                                               coef    std err          t      P>|t|      [0.025      0.975]\n",
      "------------------------------------------------------------------------------------------------------------\n",
      "const                                        0.4228      0.046      9.187      0.000       0.332       0.513\n",
      "founded_after_2000 x log_web_traffic_lag     0.7199      0.070     10.356      0.000       0.583       0.857\n",
      "founded_after_2000 x cross_visitation        0.4770      0.110      4.332      0.000       0.260       0.694\n",
      "founded_after_2000 x search_interest         0.2404      0.102      2.365      0.019       0.040       0.441\n",
      "founded_after_2000 x apr                     0.0011      0.071      0.015      0.988      -0.139       0.141\n",
      "founded_after_2000 x mentions                0.0717      0.081      0.884      0.377      -0.088       0.231\n",
      "founded_after_2000 x log_incentive           0.2909      0.079      3.688      0.000       0.136       0.446\n",
      "founded_after_2000 x log_app_installs        0.0062      0.063      0.099      0.921      -0.117       0.130\n",
      "founded_after_2000 x log_ppc                 0.0816      0.061      1.329      0.185      -0.039       0.203\n",
      "founded_after_2000 x month_1                 0.0650      0.053      1.223      0.222      -0.040       0.170\n",
      "==============================================================================\n",
      "Omnibus:                       47.389   Durbin-Watson:                   0.886\n",
      "Prob(Omnibus):                  0.000   Jarque-Bera (JB):               98.280\n",
      "Skew:                          -0.871   Prob(JB):                     4.56e-22\n",
      "Kurtosis:                       5.355   Cond. No.                         5.13\n",
      "==============================================================================\n",
      "\n",
      "Notes:\n",
      "[1] Standard Errors assume that the covariance matrix of the errors is correctly specified.\n",
      "                            OLS Regression Results                            \n",
      "==============================================================================\n",
      "Dep. Variable:        log_web_traffic   R-squared:                       0.371\n",
      "Model:                            OLS   Adj. R-squared:                  0.350\n",
      "Method:                 Least Squares   F-statistic:                     17.38\n",
      "Date:                Sun, 30 Jun 2024   Prob (F-statistic):           1.60e-22\n",
      "Time:                        13:28:13   Log-Likelihood:                -326.41\n",
      "No. Observations:                 275   AIC:                             672.8\n",
      "Df Residuals:                     265   BIC:                             709.0\n",
      "Df Model:                           9                                         \n",
      "Covariance Type:            nonrobust                                         \n",
      "=========================================================================================================\n",
      "                                            coef    std err          t      P>|t|      [0.025      0.975]\n",
      "---------------------------------------------------------------------------------------------------------\n",
      "const                                     0.2030      0.062      3.248      0.001       0.080       0.326\n",
      "small_employees x log_web_traffic_lag     0.6187      0.128      4.852      0.000       0.368       0.870\n",
      "small_employees x cross_visitation        0.1194      0.143      0.835      0.405      -0.162       0.401\n",
      "small_employees x search_interest         0.2339      0.112      2.082      0.038       0.013       0.455\n",
      "small_employees x apr                    -0.0466      0.090     -0.516      0.606      -0.224       0.131\n",
      "small_employees x mentions                0.0384      0.104      0.371      0.711      -0.166       0.242\n",
      "small_employees x log_incentive           0.2847      0.130      2.195      0.029       0.029       0.540\n",
      "small_employees x log_app_installs        0.0823      0.111      0.743      0.458      -0.136       0.300\n",
      "small_employees x log_ppc                 0.1738      0.100      1.730      0.085      -0.024       0.372\n",
      "small_employees x month_1                 0.0474      0.075      0.629      0.530      -0.101       0.196\n",
      "==============================================================================\n",
      "Omnibus:                       86.782   Durbin-Watson:                   0.462\n",
      "Prob(Omnibus):                  0.000   Jarque-Bera (JB):              236.016\n",
      "Skew:                          -1.436   Prob(JB):                     5.62e-52\n",
      "Kurtosis:                       6.515   Cond. No.                         4.89\n",
      "==============================================================================\n",
      "\n",
      "Notes:\n",
      "[1] Standard Errors assume that the covariance matrix of the errors is correctly specified.\n",
      "                            OLS Regression Results                            \n",
      "==============================================================================\n",
      "Dep. Variable:        log_web_traffic   R-squared:                       0.676\n",
      "Model:                            OLS   Adj. R-squared:                  0.665\n",
      "Method:                 Least Squares   F-statistic:                     61.47\n",
      "Date:                Sun, 30 Jun 2024   Prob (F-statistic):           8.36e-60\n",
      "Time:                        13:28:13   Log-Likelihood:                -235.19\n",
      "No. Observations:                 275   AIC:                             490.4\n",
      "Df Residuals:                     265   BIC:                             526.5\n",
      "Df Model:                           9                                         \n",
      "Covariance Type:            nonrobust                                         \n",
      "======================================================================================================\n",
      "                                         coef    std err          t      P>|t|      [0.025      0.975]\n",
      "------------------------------------------------------------------------------------------------------\n",
      "const                                  0.4704      0.048      9.880      0.000       0.377       0.564\n",
      "small_assets x log_web_traffic_lag     0.6927      0.066     10.519      0.000       0.563       0.822\n",
      "small_assets x cross_visitation        0.4233      0.087      4.840      0.000       0.251       0.596\n",
      "small_assets x search_interest         0.3833      0.072      5.340      0.000       0.242       0.525\n",
      "small_assets x apr                     0.0804      0.055      1.455      0.147      -0.028       0.189\n",
      "small_assets x mentions                0.0607      0.067      0.909      0.364      -0.071       0.192\n",
      "small_assets x log_incentive           0.3648      0.073      4.988      0.000       0.221       0.509\n",
      "small_assets x log_app_installs        0.0510      0.057      0.894      0.372      -0.061       0.163\n",
      "small_assets x log_ppc                 0.0830      0.059      1.400      0.163      -0.034       0.200\n",
      "small_assets x month_1                 0.0549      0.048      1.141      0.255      -0.040       0.150\n",
      "==============================================================================\n",
      "Omnibus:                       48.229   Durbin-Watson:                   0.989\n",
      "Prob(Omnibus):                  0.000   Jarque-Bera (JB):               95.897\n",
      "Skew:                          -0.902   Prob(JB):                     1.50e-21\n",
      "Kurtosis:                       5.261   Cond. No.                         4.02\n",
      "==============================================================================\n",
      "\n",
      "Notes:\n",
      "[1] Standard Errors assume that the covariance matrix of the errors is correctly specified.\n"
     ]
    }
   ],
   "source": [
    "\n",
    "for index in range(0, len(interaction_terms_invert)): \n",
    "    # Define the dependent and independent variables\n",
    "    y = pooled_data_inverted['log_web_traffic']\n",
    "\n",
    "    X = pooled_data_inverted[interaction_terms_invert[index]]\n",
    "\n",
    "    X = sm.add_constant(X)\n",
    "\n",
    "    # Create and fit the fixed effects model\n",
    "    model = sm.OLS(y, X).fit()\n",
    "    pooled_regression_summary = model.summary()\n",
    "    print(pooled_regression_summary)\n"
   ]
  },
  {
   "cell_type": "markdown",
   "metadata": {},
   "source": []
  },
  {
   "cell_type": "markdown",
   "metadata": {},
   "source": [
    "has stores\n",
    "    apr\n",
    "    lag\n",
    "\n",
    "no stores\n",
    "    cross vistiation\n",
    "    apr\n",
    "    lag\n",
    "    incentives\n",
    "\n",
    "before 2000\n",
    "    price per customer\n",
    "\n",
    "after 2000\n",
    "    cross vistation\n",
    "    search interest\n",
    "    incentive\n",
    "\n",
    "big employees\n",
    "    search interest\n",
    "\n",
    "small employees\n",
    "    search interest\n",
    "    incentives\n",
    "\n",
    "big assets\n",
    "    apr\n",
    "    ppc\n",
    "    incentives\n",
    "\n",
    "small asset\n",
    "    cross visitation\n",
    "    search interest\n",
    "    incentives\n",
    "    ppc\n",
    "\n"
   ]
  },
  {
   "cell_type": "markdown",
   "metadata": {},
   "source": [
    "has stores\n",
    "    apr\n",
    "    lag\n",
    "\n",
    "no stores\n",
    "    cross visitation\n",
    "        rank\n",
    "        incentive \n",
    "        apr\n",
    "\n",
    "before 2000\n",
    "    price per customer\n",
    "\n",
    "big employees\n",
    "    search interest\n",
    "\n",
    "big assets\n",
    "    apr\n",
    "    ppc\n",
    "    incentives\n"
   ]
  },
  {
   "cell_type": "markdown",
   "metadata": {},
   "source": [
    "\n",
    "\n",
    "\n",
    "with stores: \n",
    "    search interest\n",
    "    apr \n",
    "wo stores: \n",
    "    search interest\n",
    "    incentive\n",
    "    apr\n",
    "    rank\n",
    "\n",
    "\n",
    "before 2000\n",
    "    search interest \n",
    "    rank \n",
    "after 2000 \n",
    "    cross visitation \n",
    "    search interst \n",
    "    incentive\n",
    "\n",
    "\n",
    "\n",
    "\n",
    "\n",
    "large employee count \n",
    "    search interest\n",
    "small employee count \n",
    "    search interst \n",
    "    incentive \n",
    "\n",
    "\n",
    "\n",
    "large assets\n",
    "    search interest\n",
    "    rank\n",
    "small assets\n",
    "    cross visitation\n",
    "    search interest\n",
    "    incentive\n",
    "\n",
    "\n",
    "apr has interesting significance in neobanks without a physical presence contributing a majority to the model\n"
   ]
  },
  {
   "cell_type": "markdown",
   "metadata": {},
   "source": [
    "cross visitation search interest all significant for big asset banks\n",
    "\n",
    "search interest and rank significant for large employee banks \n",
    "\n",
    "cross visitation incentive and apr are significant for old banks \n",
    "\n",
    "cross visitation incentive apr significant for brick and mortar banks\n"
   ]
  },
  {
   "cell_type": "markdown",
   "metadata": {},
   "source": [
    "cross visitation and rank significant for small asset banks\n",
    "\n",
    "rank and apr significant for small employee banks \n",
    "\n",
    "cross visitation and rank significant for new banks \n",
    "\n",
    "cross visitation search interest rank significant for neo banks"
   ]
  },
  {
   "cell_type": "markdown",
   "metadata": {},
   "source": [
    "incentive and apr are more significant for older banks with a brick and mortar presence while newer banks with no physical presence are more affected by search interest and rank. \n",
    "This is interesting because is means the newer banks are relying on digital advertising and search engine optimization to drive traffic to their websites."
   ]
  },
  {
   "cell_type": "markdown",
   "metadata": {},
   "source": [
    "rank and cross visitation are significant across most model specifications which means that all of the banks still rely on digital advertising to drive traffic to their websites."
   ]
  },
  {
   "cell_type": "code",
   "execution_count": 473,
   "metadata": {},
   "outputs": [
    {
     "name": "stdout",
     "output_type": "stream",
     "text": [
      "                             Variable       VIF\n",
      "0                               const  1.855146\n",
      "1  small_assets x log_web_traffic_lag  2.228825\n",
      "2     small_assets x cross_visitation  1.825574\n",
      "3      small_assets x search_interest  1.345517\n",
      "4                  small_assets x apr  1.309067\n",
      "5             small_assets x mentions  1.452381\n",
      "6        small_assets x log_incentive  2.283200\n",
      "7     small_assets x log_app_installs  1.499573\n",
      "8              small_assets x log_ppc  2.088129\n",
      "9              small_assets x month_1  1.033106\n"
     ]
    }
   ],
   "source": [
    "X.fillna(0, inplace=True)\n",
    "\n",
    "vif = pd.DataFrame()\n",
    "vif[\"Variable\"] = X.columns\n",
    "vif[\"VIF\"] = [variance_inflation_factor(X.values, i) for i in range(X.shape[1])]\n",
    "\n",
    "print(vif)"
   ]
  },
  {
   "cell_type": "code",
   "execution_count": 474,
   "metadata": {},
   "outputs": [
    {
     "data": {
      "text/plain": [
       "Index(['bank', 'date', 'web_traffic', 'cross_visitation', 'search_interest',\n",
       "       'rank', 'incentive', 'apr', 'mentions', 'app_installs', 'ppc_spend',\n",
       "       'has_stores', 'founded_before_2000', 'big_employees', 'big_assets',\n",
       "       'log_web_traffic', 'log_incentive', 'log_ppc', 'log_app_installs'],\n",
       "      dtype='object')"
      ]
     },
     "execution_count": 474,
     "metadata": {},
     "output_type": "execute_result"
    }
   ],
   "source": [
    "data.columns"
   ]
  },
  {
   "cell_type": "code",
   "execution_count": 475,
   "metadata": {},
   "outputs": [
    {
     "data": {
      "application/vnd.plotly.v1+json": {
       "config": {
        "plotlyServerURL": "https://plot.ly"
       },
       "data": [
        {
         "colorscale": [
          [
           0,
           "lightblue"
          ],
          [
           1,
           "lightcoral"
          ]
         ],
         "showscale": false,
         "type": "heatmap",
         "x": [
          "Is Brick and Mortar",
          "Founded before 2000",
          "Large Employee Count",
          "Large AUM"
         ],
         "y": [
          "abanca",
          "abanca",
          "abanca",
          "abanca",
          "abanca",
          "abanca",
          "abanca",
          "abanca",
          "abanca",
          "abanca",
          "abanca",
          "abanca",
          "abanca",
          "abanca",
          "abanca",
          "abanca",
          "abanca",
          "abanca",
          "abanca",
          "abanca",
          "abanca",
          "abanca",
          "abanca",
          "abanca",
          "abanca",
          "n26",
          "n26",
          "n26",
          "n26",
          "n26",
          "n26",
          "n26",
          "n26",
          "n26",
          "n26",
          "n26",
          "n26",
          "n26",
          "n26",
          "n26",
          "n26",
          "n26",
          "n26",
          "n26",
          "n26",
          "n26",
          "n26",
          "n26",
          "n26",
          "n26",
          "banc sabadell",
          "banc sabadell",
          "banc sabadell",
          "banc sabadell",
          "banc sabadell",
          "banc sabadell",
          "banc sabadell",
          "banc sabadell",
          "banc sabadell",
          "banc sabadell",
          "banc sabadell",
          "banc sabadell",
          "banc sabadell",
          "banc sabadell",
          "banc sabadell",
          "banc sabadell",
          "banc sabadell",
          "banc sabadell",
          "banc sabadell",
          "banc sabadell",
          "banc sabadell",
          "banc sabadell",
          "banc sabadell",
          "banc sabadell",
          "banc sabadell",
          "ing",
          "ing",
          "ing",
          "ing",
          "ing",
          "ing",
          "ing",
          "ing",
          "ing",
          "ing",
          "ing",
          "ing",
          "ing",
          "ing",
          "ing",
          "ing",
          "ing",
          "ing",
          "ing",
          "ing",
          "ing",
          "ing",
          "ing",
          "ing",
          "ing",
          "bbva",
          "bbva",
          "bbva",
          "bbva",
          "bbva",
          "bbva",
          "bbva",
          "bbva",
          "bbva",
          "bbva",
          "bbva",
          "bbva",
          "bbva",
          "bbva",
          "bbva",
          "bbva",
          "bbva",
          "bbva",
          "bbva",
          "bbva",
          "bbva",
          "bbva",
          "bbva",
          "bbva",
          "bbva",
          "revolut",
          "revolut",
          "revolut",
          "revolut",
          "revolut",
          "revolut",
          "revolut",
          "revolut",
          "revolut",
          "revolut",
          "revolut",
          "revolut",
          "revolut",
          "revolut",
          "revolut",
          "revolut",
          "revolut",
          "revolut",
          "revolut",
          "revolut",
          "revolut",
          "revolut",
          "revolut",
          "revolut",
          "revolut",
          "openbank",
          "openbank",
          "openbank",
          "openbank",
          "openbank",
          "openbank",
          "openbank",
          "openbank",
          "openbank",
          "openbank",
          "openbank",
          "openbank",
          "openbank",
          "openbank",
          "openbank",
          "openbank",
          "openbank",
          "openbank",
          "openbank",
          "openbank",
          "openbank",
          "openbank",
          "openbank",
          "openbank",
          "openbank",
          "myinvestor",
          "myinvestor",
          "myinvestor",
          "myinvestor",
          "myinvestor",
          "myinvestor",
          "myinvestor",
          "myinvestor",
          "myinvestor",
          "myinvestor",
          "myinvestor",
          "myinvestor",
          "myinvestor",
          "myinvestor",
          "myinvestor",
          "myinvestor",
          "myinvestor",
          "myinvestor",
          "myinvestor",
          "myinvestor",
          "myinvestor",
          "myinvestor",
          "myinvestor",
          "myinvestor",
          "myinvestor",
          "bankinter",
          "bankinter",
          "bankinter",
          "bankinter",
          "bankinter",
          "bankinter",
          "bankinter",
          "bankinter",
          "bankinter",
          "bankinter",
          "bankinter",
          "bankinter",
          "bankinter",
          "bankinter",
          "bankinter",
          "bankinter",
          "bankinter",
          "bankinter",
          "bankinter",
          "bankinter",
          "bankinter",
          "bankinter",
          "bankinter",
          "bankinter",
          "bankinter",
          "evobanco",
          "evobanco",
          "evobanco",
          "evobanco",
          "evobanco",
          "evobanco",
          "evobanco",
          "evobanco",
          "evobanco",
          "evobanco",
          "evobanco",
          "evobanco",
          "evobanco",
          "evobanco",
          "evobanco",
          "evobanco",
          "evobanco",
          "evobanco",
          "evobanco",
          "evobanco",
          "evobanco",
          "evobanco",
          "evobanco",
          "evobanco",
          "evobanco",
          "santander",
          "santander",
          "santander",
          "santander",
          "santander",
          "santander",
          "santander",
          "santander",
          "santander",
          "santander",
          "santander",
          "santander",
          "santander",
          "santander",
          "santander",
          "santander",
          "santander",
          "santander",
          "santander",
          "santander",
          "santander",
          "santander",
          "santander",
          "santander",
          "santander"
         ],
         "z": [
          [
           1,
           0,
           0,
           0
          ],
          [
           1,
           0,
           0,
           0
          ],
          [
           1,
           0,
           0,
           0
          ],
          [
           1,
           0,
           0,
           0
          ],
          [
           1,
           0,
           0,
           0
          ],
          [
           1,
           0,
           0,
           0
          ],
          [
           1,
           0,
           0,
           0
          ],
          [
           1,
           0,
           0,
           0
          ],
          [
           1,
           0,
           0,
           0
          ],
          [
           1,
           0,
           0,
           0
          ],
          [
           1,
           0,
           0,
           0
          ],
          [
           1,
           0,
           0,
           0
          ],
          [
           1,
           0,
           0,
           0
          ],
          [
           1,
           0,
           0,
           0
          ],
          [
           1,
           0,
           0,
           0
          ],
          [
           1,
           0,
           0,
           0
          ],
          [
           1,
           0,
           0,
           0
          ],
          [
           1,
           0,
           0,
           0
          ],
          [
           1,
           0,
           0,
           0
          ],
          [
           1,
           0,
           0,
           0
          ],
          [
           1,
           0,
           0,
           0
          ],
          [
           1,
           0,
           0,
           0
          ],
          [
           1,
           0,
           0,
           0
          ],
          [
           1,
           0,
           0,
           0
          ],
          [
           1,
           0,
           0,
           0
          ],
          [
           0,
           0,
           0,
           0
          ],
          [
           0,
           0,
           0,
           0
          ],
          [
           0,
           0,
           0,
           0
          ],
          [
           0,
           0,
           0,
           0
          ],
          [
           0,
           0,
           0,
           0
          ],
          [
           0,
           0,
           0,
           0
          ],
          [
           0,
           0,
           0,
           0
          ],
          [
           0,
           0,
           0,
           0
          ],
          [
           0,
           0,
           0,
           0
          ],
          [
           0,
           0,
           0,
           0
          ],
          [
           0,
           0,
           0,
           0
          ],
          [
           0,
           0,
           0,
           0
          ],
          [
           0,
           0,
           0,
           0
          ],
          [
           0,
           0,
           0,
           0
          ],
          [
           0,
           0,
           0,
           0
          ],
          [
           0,
           0,
           0,
           0
          ],
          [
           0,
           0,
           0,
           0
          ],
          [
           0,
           0,
           0,
           0
          ],
          [
           0,
           0,
           0,
           0
          ],
          [
           0,
           0,
           0,
           0
          ],
          [
           0,
           0,
           0,
           0
          ],
          [
           0,
           0,
           0,
           0
          ],
          [
           0,
           0,
           0,
           0
          ],
          [
           0,
           0,
           0,
           0
          ],
          [
           0,
           0,
           0,
           0
          ],
          [
           1,
           1,
           1,
           1
          ],
          [
           1,
           1,
           1,
           1
          ],
          [
           1,
           1,
           1,
           1
          ],
          [
           1,
           1,
           1,
           1
          ],
          [
           1,
           1,
           1,
           1
          ],
          [
           1,
           1,
           1,
           1
          ],
          [
           1,
           1,
           1,
           1
          ],
          [
           1,
           1,
           1,
           1
          ],
          [
           1,
           1,
           1,
           1
          ],
          [
           1,
           1,
           1,
           1
          ],
          [
           1,
           1,
           1,
           1
          ],
          [
           1,
           1,
           1,
           1
          ],
          [
           1,
           1,
           1,
           1
          ],
          [
           1,
           1,
           1,
           1
          ],
          [
           1,
           1,
           1,
           1
          ],
          [
           1,
           1,
           1,
           1
          ],
          [
           1,
           1,
           1,
           1
          ],
          [
           1,
           1,
           1,
           1
          ],
          [
           1,
           1,
           1,
           1
          ],
          [
           1,
           1,
           1,
           1
          ],
          [
           1,
           1,
           1,
           1
          ],
          [
           1,
           1,
           1,
           1
          ],
          [
           1,
           1,
           1,
           1
          ],
          [
           1,
           1,
           1,
           1
          ],
          [
           1,
           1,
           1,
           1
          ],
          [
           1,
           1,
           1,
           1
          ],
          [
           1,
           1,
           1,
           1
          ],
          [
           1,
           1,
           1,
           1
          ],
          [
           1,
           1,
           1,
           1
          ],
          [
           1,
           1,
           1,
           1
          ],
          [
           1,
           1,
           1,
           1
          ],
          [
           1,
           1,
           1,
           1
          ],
          [
           1,
           1,
           1,
           1
          ],
          [
           1,
           1,
           1,
           1
          ],
          [
           1,
           1,
           1,
           1
          ],
          [
           1,
           1,
           1,
           1
          ],
          [
           1,
           1,
           1,
           1
          ],
          [
           1,
           1,
           1,
           1
          ],
          [
           1,
           1,
           1,
           1
          ],
          [
           1,
           1,
           1,
           1
          ],
          [
           1,
           1,
           1,
           1
          ],
          [
           1,
           1,
           1,
           1
          ],
          [
           1,
           1,
           1,
           1
          ],
          [
           1,
           1,
           1,
           1
          ],
          [
           1,
           1,
           1,
           1
          ],
          [
           1,
           1,
           1,
           1
          ],
          [
           1,
           1,
           1,
           1
          ],
          [
           1,
           1,
           1,
           1
          ],
          [
           1,
           1,
           1,
           1
          ],
          [
           1,
           1,
           1,
           1
          ],
          [
           1,
           1,
           1,
           1
          ],
          [
           1,
           1,
           1,
           1
          ],
          [
           1,
           1,
           1,
           1
          ],
          [
           1,
           1,
           1,
           1
          ],
          [
           1,
           1,
           1,
           1
          ],
          [
           1,
           1,
           1,
           1
          ],
          [
           1,
           1,
           1,
           1
          ],
          [
           1,
           1,
           1,
           1
          ],
          [
           1,
           1,
           1,
           1
          ],
          [
           1,
           1,
           1,
           1
          ],
          [
           1,
           1,
           1,
           1
          ],
          [
           1,
           1,
           1,
           1
          ],
          [
           1,
           1,
           1,
           1
          ],
          [
           1,
           1,
           1,
           1
          ],
          [
           1,
           1,
           1,
           1
          ],
          [
           1,
           1,
           1,
           1
          ],
          [
           1,
           1,
           1,
           1
          ],
          [
           1,
           1,
           1,
           1
          ],
          [
           1,
           1,
           1,
           1
          ],
          [
           1,
           1,
           1,
           1
          ],
          [
           1,
           1,
           1,
           1
          ],
          [
           1,
           1,
           1,
           1
          ],
          [
           1,
           1,
           1,
           1
          ],
          [
           1,
           1,
           1,
           1
          ],
          [
           1,
           1,
           1,
           1
          ],
          [
           0,
           0,
           1,
           0
          ],
          [
           0,
           0,
           1,
           0
          ],
          [
           0,
           0,
           1,
           0
          ],
          [
           0,
           0,
           1,
           0
          ],
          [
           0,
           0,
           1,
           0
          ],
          [
           0,
           0,
           1,
           0
          ],
          [
           0,
           0,
           1,
           0
          ],
          [
           0,
           0,
           1,
           0
          ],
          [
           0,
           0,
           1,
           0
          ],
          [
           0,
           0,
           1,
           0
          ],
          [
           0,
           0,
           1,
           0
          ],
          [
           0,
           0,
           1,
           0
          ],
          [
           0,
           0,
           1,
           0
          ],
          [
           0,
           0,
           1,
           0
          ],
          [
           0,
           0,
           1,
           0
          ],
          [
           0,
           0,
           1,
           0
          ],
          [
           0,
           0,
           1,
           0
          ],
          [
           0,
           0,
           1,
           0
          ],
          [
           0,
           0,
           1,
           0
          ],
          [
           0,
           0,
           1,
           0
          ],
          [
           0,
           0,
           1,
           0
          ],
          [
           0,
           0,
           1,
           0
          ],
          [
           0,
           0,
           1,
           0
          ],
          [
           0,
           0,
           1,
           0
          ],
          [
           0,
           0,
           1,
           0
          ],
          [
           0,
           1,
           0,
           0
          ],
          [
           0,
           1,
           0,
           0
          ],
          [
           0,
           1,
           0,
           0
          ],
          [
           0,
           1,
           0,
           0
          ],
          [
           0,
           1,
           0,
           0
          ],
          [
           0,
           1,
           0,
           0
          ],
          [
           0,
           1,
           0,
           0
          ],
          [
           0,
           1,
           0,
           0
          ],
          [
           0,
           1,
           0,
           0
          ],
          [
           0,
           1,
           0,
           0
          ],
          [
           0,
           1,
           0,
           0
          ],
          [
           0,
           1,
           0,
           0
          ],
          [
           0,
           1,
           0,
           0
          ],
          [
           0,
           1,
           0,
           0
          ],
          [
           0,
           1,
           0,
           0
          ],
          [
           0,
           1,
           0,
           0
          ],
          [
           0,
           1,
           0,
           0
          ],
          [
           0,
           1,
           0,
           0
          ],
          [
           0,
           1,
           0,
           0
          ],
          [
           0,
           1,
           0,
           0
          ],
          [
           0,
           1,
           0,
           0
          ],
          [
           0,
           1,
           0,
           0
          ],
          [
           0,
           1,
           0,
           0
          ],
          [
           0,
           1,
           0,
           0
          ],
          [
           0,
           1,
           0,
           0
          ],
          [
           0,
           0,
           0,
           0
          ],
          [
           0,
           0,
           0,
           0
          ],
          [
           0,
           0,
           0,
           0
          ],
          [
           0,
           0,
           0,
           0
          ],
          [
           0,
           0,
           0,
           0
          ],
          [
           0,
           0,
           0,
           0
          ],
          [
           0,
           0,
           0,
           0
          ],
          [
           0,
           0,
           0,
           0
          ],
          [
           0,
           0,
           0,
           0
          ],
          [
           0,
           0,
           0,
           0
          ],
          [
           0,
           0,
           0,
           0
          ],
          [
           0,
           0,
           0,
           0
          ],
          [
           0,
           0,
           0,
           0
          ],
          [
           0,
           0,
           0,
           0
          ],
          [
           0,
           0,
           0,
           0
          ],
          [
           0,
           0,
           0,
           0
          ],
          [
           0,
           0,
           0,
           0
          ],
          [
           0,
           0,
           0,
           0
          ],
          [
           0,
           0,
           0,
           0
          ],
          [
           0,
           0,
           0,
           0
          ],
          [
           0,
           0,
           0,
           0
          ],
          [
           0,
           0,
           0,
           0
          ],
          [
           0,
           0,
           0,
           0
          ],
          [
           0,
           0,
           0,
           0
          ],
          [
           0,
           0,
           0,
           0
          ],
          [
           1,
           1,
           1,
           1
          ],
          [
           1,
           1,
           1,
           1
          ],
          [
           1,
           1,
           1,
           1
          ],
          [
           1,
           1,
           1,
           1
          ],
          [
           1,
           1,
           1,
           1
          ],
          [
           1,
           1,
           1,
           1
          ],
          [
           1,
           1,
           1,
           1
          ],
          [
           1,
           1,
           1,
           1
          ],
          [
           1,
           1,
           1,
           1
          ],
          [
           1,
           1,
           1,
           1
          ],
          [
           1,
           1,
           1,
           1
          ],
          [
           1,
           1,
           1,
           1
          ],
          [
           1,
           1,
           1,
           1
          ],
          [
           1,
           1,
           1,
           1
          ],
          [
           1,
           1,
           1,
           1
          ],
          [
           1,
           1,
           1,
           1
          ],
          [
           1,
           1,
           1,
           1
          ],
          [
           1,
           1,
           1,
           1
          ],
          [
           1,
           1,
           1,
           1
          ],
          [
           1,
           1,
           1,
           1
          ],
          [
           1,
           1,
           1,
           1
          ],
          [
           1,
           1,
           1,
           1
          ],
          [
           1,
           1,
           1,
           1
          ],
          [
           1,
           1,
           1,
           1
          ],
          [
           1,
           1,
           1,
           1
          ],
          [
           1,
           0,
           0,
           0
          ],
          [
           1,
           0,
           0,
           0
          ],
          [
           1,
           0,
           0,
           0
          ],
          [
           1,
           0,
           0,
           0
          ],
          [
           1,
           0,
           0,
           0
          ],
          [
           1,
           0,
           0,
           0
          ],
          [
           1,
           0,
           0,
           0
          ],
          [
           1,
           0,
           0,
           0
          ],
          [
           1,
           0,
           0,
           0
          ],
          [
           1,
           0,
           0,
           0
          ],
          [
           1,
           0,
           0,
           0
          ],
          [
           1,
           0,
           0,
           0
          ],
          [
           1,
           0,
           0,
           0
          ],
          [
           1,
           0,
           0,
           0
          ],
          [
           1,
           0,
           0,
           0
          ],
          [
           1,
           0,
           0,
           0
          ],
          [
           1,
           0,
           0,
           0
          ],
          [
           1,
           0,
           0,
           0
          ],
          [
           1,
           0,
           0,
           0
          ],
          [
           1,
           0,
           0,
           0
          ],
          [
           1,
           0,
           0,
           0
          ],
          [
           1,
           0,
           0,
           0
          ],
          [
           1,
           0,
           0,
           0
          ],
          [
           1,
           0,
           0,
           0
          ],
          [
           1,
           0,
           0,
           0
          ],
          [
           1,
           1,
           1,
           1
          ],
          [
           1,
           1,
           1,
           1
          ],
          [
           1,
           1,
           1,
           1
          ],
          [
           1,
           1,
           1,
           1
          ],
          [
           1,
           1,
           1,
           1
          ],
          [
           1,
           1,
           1,
           1
          ],
          [
           1,
           1,
           1,
           1
          ],
          [
           1,
           1,
           1,
           1
          ],
          [
           1,
           1,
           1,
           1
          ],
          [
           1,
           1,
           1,
           1
          ],
          [
           1,
           1,
           1,
           1
          ],
          [
           1,
           1,
           1,
           1
          ],
          [
           1,
           1,
           1,
           1
          ],
          [
           1,
           1,
           1,
           1
          ],
          [
           1,
           1,
           1,
           1
          ],
          [
           1,
           1,
           1,
           1
          ],
          [
           1,
           1,
           1,
           1
          ],
          [
           1,
           1,
           1,
           1
          ],
          [
           1,
           1,
           1,
           1
          ],
          [
           1,
           1,
           1,
           1
          ],
          [
           1,
           1,
           1,
           1
          ],
          [
           1,
           1,
           1,
           1
          ],
          [
           1,
           1,
           1,
           1
          ],
          [
           1,
           1,
           1,
           1
          ],
          [
           1,
           1,
           1,
           1
          ]
         ]
        },
        {
         "marker": {
          "color": "lightblue",
          "size": 10
         },
         "mode": "markers",
         "name": "False",
         "showlegend": true,
         "type": "scatter",
         "x": [
          null
         ],
         "y": [
          null
         ]
        },
        {
         "marker": {
          "color": "lightcoral",
          "size": 10
         },
         "mode": "markers",
         "name": "True",
         "showlegend": true,
         "type": "scatter",
         "x": [
          null
         ],
         "y": [
          null
         ]
        }
       ],
       "layout": {
        "legend": {
         "orientation": "h",
         "title": {
          "text": "Legend"
         },
         "x": 1,
         "xanchor": "right",
         "y": 1.02,
         "yanchor": "bottom"
        },
        "template": {
         "data": {
          "bar": [
           {
            "error_x": {
             "color": "#2a3f5f"
            },
            "error_y": {
             "color": "#2a3f5f"
            },
            "marker": {
             "line": {
              "color": "#E5ECF6",
              "width": 0.5
             },
             "pattern": {
              "fillmode": "overlay",
              "size": 10,
              "solidity": 0.2
             }
            },
            "type": "bar"
           }
          ],
          "barpolar": [
           {
            "marker": {
             "line": {
              "color": "#E5ECF6",
              "width": 0.5
             },
             "pattern": {
              "fillmode": "overlay",
              "size": 10,
              "solidity": 0.2
             }
            },
            "type": "barpolar"
           }
          ],
          "carpet": [
           {
            "aaxis": {
             "endlinecolor": "#2a3f5f",
             "gridcolor": "white",
             "linecolor": "white",
             "minorgridcolor": "white",
             "startlinecolor": "#2a3f5f"
            },
            "baxis": {
             "endlinecolor": "#2a3f5f",
             "gridcolor": "white",
             "linecolor": "white",
             "minorgridcolor": "white",
             "startlinecolor": "#2a3f5f"
            },
            "type": "carpet"
           }
          ],
          "choropleth": [
           {
            "colorbar": {
             "outlinewidth": 0,
             "ticks": ""
            },
            "type": "choropleth"
           }
          ],
          "contour": [
           {
            "colorbar": {
             "outlinewidth": 0,
             "ticks": ""
            },
            "colorscale": [
             [
              0,
              "#0d0887"
             ],
             [
              0.1111111111111111,
              "#46039f"
             ],
             [
              0.2222222222222222,
              "#7201a8"
             ],
             [
              0.3333333333333333,
              "#9c179e"
             ],
             [
              0.4444444444444444,
              "#bd3786"
             ],
             [
              0.5555555555555556,
              "#d8576b"
             ],
             [
              0.6666666666666666,
              "#ed7953"
             ],
             [
              0.7777777777777778,
              "#fb9f3a"
             ],
             [
              0.8888888888888888,
              "#fdca26"
             ],
             [
              1,
              "#f0f921"
             ]
            ],
            "type": "contour"
           }
          ],
          "contourcarpet": [
           {
            "colorbar": {
             "outlinewidth": 0,
             "ticks": ""
            },
            "type": "contourcarpet"
           }
          ],
          "heatmap": [
           {
            "colorbar": {
             "outlinewidth": 0,
             "ticks": ""
            },
            "colorscale": [
             [
              0,
              "#0d0887"
             ],
             [
              0.1111111111111111,
              "#46039f"
             ],
             [
              0.2222222222222222,
              "#7201a8"
             ],
             [
              0.3333333333333333,
              "#9c179e"
             ],
             [
              0.4444444444444444,
              "#bd3786"
             ],
             [
              0.5555555555555556,
              "#d8576b"
             ],
             [
              0.6666666666666666,
              "#ed7953"
             ],
             [
              0.7777777777777778,
              "#fb9f3a"
             ],
             [
              0.8888888888888888,
              "#fdca26"
             ],
             [
              1,
              "#f0f921"
             ]
            ],
            "type": "heatmap"
           }
          ],
          "heatmapgl": [
           {
            "colorbar": {
             "outlinewidth": 0,
             "ticks": ""
            },
            "colorscale": [
             [
              0,
              "#0d0887"
             ],
             [
              0.1111111111111111,
              "#46039f"
             ],
             [
              0.2222222222222222,
              "#7201a8"
             ],
             [
              0.3333333333333333,
              "#9c179e"
             ],
             [
              0.4444444444444444,
              "#bd3786"
             ],
             [
              0.5555555555555556,
              "#d8576b"
             ],
             [
              0.6666666666666666,
              "#ed7953"
             ],
             [
              0.7777777777777778,
              "#fb9f3a"
             ],
             [
              0.8888888888888888,
              "#fdca26"
             ],
             [
              1,
              "#f0f921"
             ]
            ],
            "type": "heatmapgl"
           }
          ],
          "histogram": [
           {
            "marker": {
             "pattern": {
              "fillmode": "overlay",
              "size": 10,
              "solidity": 0.2
             }
            },
            "type": "histogram"
           }
          ],
          "histogram2d": [
           {
            "colorbar": {
             "outlinewidth": 0,
             "ticks": ""
            },
            "colorscale": [
             [
              0,
              "#0d0887"
             ],
             [
              0.1111111111111111,
              "#46039f"
             ],
             [
              0.2222222222222222,
              "#7201a8"
             ],
             [
              0.3333333333333333,
              "#9c179e"
             ],
             [
              0.4444444444444444,
              "#bd3786"
             ],
             [
              0.5555555555555556,
              "#d8576b"
             ],
             [
              0.6666666666666666,
              "#ed7953"
             ],
             [
              0.7777777777777778,
              "#fb9f3a"
             ],
             [
              0.8888888888888888,
              "#fdca26"
             ],
             [
              1,
              "#f0f921"
             ]
            ],
            "type": "histogram2d"
           }
          ],
          "histogram2dcontour": [
           {
            "colorbar": {
             "outlinewidth": 0,
             "ticks": ""
            },
            "colorscale": [
             [
              0,
              "#0d0887"
             ],
             [
              0.1111111111111111,
              "#46039f"
             ],
             [
              0.2222222222222222,
              "#7201a8"
             ],
             [
              0.3333333333333333,
              "#9c179e"
             ],
             [
              0.4444444444444444,
              "#bd3786"
             ],
             [
              0.5555555555555556,
              "#d8576b"
             ],
             [
              0.6666666666666666,
              "#ed7953"
             ],
             [
              0.7777777777777778,
              "#fb9f3a"
             ],
             [
              0.8888888888888888,
              "#fdca26"
             ],
             [
              1,
              "#f0f921"
             ]
            ],
            "type": "histogram2dcontour"
           }
          ],
          "mesh3d": [
           {
            "colorbar": {
             "outlinewidth": 0,
             "ticks": ""
            },
            "type": "mesh3d"
           }
          ],
          "parcoords": [
           {
            "line": {
             "colorbar": {
              "outlinewidth": 0,
              "ticks": ""
             }
            },
            "type": "parcoords"
           }
          ],
          "pie": [
           {
            "automargin": true,
            "type": "pie"
           }
          ],
          "scatter": [
           {
            "fillpattern": {
             "fillmode": "overlay",
             "size": 10,
             "solidity": 0.2
            },
            "type": "scatter"
           }
          ],
          "scatter3d": [
           {
            "line": {
             "colorbar": {
              "outlinewidth": 0,
              "ticks": ""
             }
            },
            "marker": {
             "colorbar": {
              "outlinewidth": 0,
              "ticks": ""
             }
            },
            "type": "scatter3d"
           }
          ],
          "scattercarpet": [
           {
            "marker": {
             "colorbar": {
              "outlinewidth": 0,
              "ticks": ""
             }
            },
            "type": "scattercarpet"
           }
          ],
          "scattergeo": [
           {
            "marker": {
             "colorbar": {
              "outlinewidth": 0,
              "ticks": ""
             }
            },
            "type": "scattergeo"
           }
          ],
          "scattergl": [
           {
            "marker": {
             "colorbar": {
              "outlinewidth": 0,
              "ticks": ""
             }
            },
            "type": "scattergl"
           }
          ],
          "scattermapbox": [
           {
            "marker": {
             "colorbar": {
              "outlinewidth": 0,
              "ticks": ""
             }
            },
            "type": "scattermapbox"
           }
          ],
          "scatterpolar": [
           {
            "marker": {
             "colorbar": {
              "outlinewidth": 0,
              "ticks": ""
             }
            },
            "type": "scatterpolar"
           }
          ],
          "scatterpolargl": [
           {
            "marker": {
             "colorbar": {
              "outlinewidth": 0,
              "ticks": ""
             }
            },
            "type": "scatterpolargl"
           }
          ],
          "scatterternary": [
           {
            "marker": {
             "colorbar": {
              "outlinewidth": 0,
              "ticks": ""
             }
            },
            "type": "scatterternary"
           }
          ],
          "surface": [
           {
            "colorbar": {
             "outlinewidth": 0,
             "ticks": ""
            },
            "colorscale": [
             [
              0,
              "#0d0887"
             ],
             [
              0.1111111111111111,
              "#46039f"
             ],
             [
              0.2222222222222222,
              "#7201a8"
             ],
             [
              0.3333333333333333,
              "#9c179e"
             ],
             [
              0.4444444444444444,
              "#bd3786"
             ],
             [
              0.5555555555555556,
              "#d8576b"
             ],
             [
              0.6666666666666666,
              "#ed7953"
             ],
             [
              0.7777777777777778,
              "#fb9f3a"
             ],
             [
              0.8888888888888888,
              "#fdca26"
             ],
             [
              1,
              "#f0f921"
             ]
            ],
            "type": "surface"
           }
          ],
          "table": [
           {
            "cells": {
             "fill": {
              "color": "#EBF0F8"
             },
             "line": {
              "color": "white"
             }
            },
            "header": {
             "fill": {
              "color": "#C8D4E3"
             },
             "line": {
              "color": "white"
             }
            },
            "type": "table"
           }
          ]
         },
         "layout": {
          "annotationdefaults": {
           "arrowcolor": "#2a3f5f",
           "arrowhead": 0,
           "arrowwidth": 1
          },
          "autotypenumbers": "strict",
          "coloraxis": {
           "colorbar": {
            "outlinewidth": 0,
            "ticks": ""
           }
          },
          "colorscale": {
           "diverging": [
            [
             0,
             "#8e0152"
            ],
            [
             0.1,
             "#c51b7d"
            ],
            [
             0.2,
             "#de77ae"
            ],
            [
             0.3,
             "#f1b6da"
            ],
            [
             0.4,
             "#fde0ef"
            ],
            [
             0.5,
             "#f7f7f7"
            ],
            [
             0.6,
             "#e6f5d0"
            ],
            [
             0.7,
             "#b8e186"
            ],
            [
             0.8,
             "#7fbc41"
            ],
            [
             0.9,
             "#4d9221"
            ],
            [
             1,
             "#276419"
            ]
           ],
           "sequential": [
            [
             0,
             "#0d0887"
            ],
            [
             0.1111111111111111,
             "#46039f"
            ],
            [
             0.2222222222222222,
             "#7201a8"
            ],
            [
             0.3333333333333333,
             "#9c179e"
            ],
            [
             0.4444444444444444,
             "#bd3786"
            ],
            [
             0.5555555555555556,
             "#d8576b"
            ],
            [
             0.6666666666666666,
             "#ed7953"
            ],
            [
             0.7777777777777778,
             "#fb9f3a"
            ],
            [
             0.8888888888888888,
             "#fdca26"
            ],
            [
             1,
             "#f0f921"
            ]
           ],
           "sequentialminus": [
            [
             0,
             "#0d0887"
            ],
            [
             0.1111111111111111,
             "#46039f"
            ],
            [
             0.2222222222222222,
             "#7201a8"
            ],
            [
             0.3333333333333333,
             "#9c179e"
            ],
            [
             0.4444444444444444,
             "#bd3786"
            ],
            [
             0.5555555555555556,
             "#d8576b"
            ],
            [
             0.6666666666666666,
             "#ed7953"
            ],
            [
             0.7777777777777778,
             "#fb9f3a"
            ],
            [
             0.8888888888888888,
             "#fdca26"
            ],
            [
             1,
             "#f0f921"
            ]
           ]
          },
          "colorway": [
           "#636efa",
           "#EF553B",
           "#00cc96",
           "#ab63fa",
           "#FFA15A",
           "#19d3f3",
           "#FF6692",
           "#B6E880",
           "#FF97FF",
           "#FECB52"
          ],
          "font": {
           "color": "#2a3f5f"
          },
          "geo": {
           "bgcolor": "white",
           "lakecolor": "white",
           "landcolor": "#E5ECF6",
           "showlakes": true,
           "showland": true,
           "subunitcolor": "white"
          },
          "hoverlabel": {
           "align": "left"
          },
          "hovermode": "closest",
          "mapbox": {
           "style": "light"
          },
          "paper_bgcolor": "white",
          "plot_bgcolor": "#E5ECF6",
          "polar": {
           "angularaxis": {
            "gridcolor": "white",
            "linecolor": "white",
            "ticks": ""
           },
           "bgcolor": "#E5ECF6",
           "radialaxis": {
            "gridcolor": "white",
            "linecolor": "white",
            "ticks": ""
           }
          },
          "scene": {
           "xaxis": {
            "backgroundcolor": "#E5ECF6",
            "gridcolor": "white",
            "gridwidth": 2,
            "linecolor": "white",
            "showbackground": true,
            "ticks": "",
            "zerolinecolor": "white"
           },
           "yaxis": {
            "backgroundcolor": "#E5ECF6",
            "gridcolor": "white",
            "gridwidth": 2,
            "linecolor": "white",
            "showbackground": true,
            "ticks": "",
            "zerolinecolor": "white"
           },
           "zaxis": {
            "backgroundcolor": "#E5ECF6",
            "gridcolor": "white",
            "gridwidth": 2,
            "linecolor": "white",
            "showbackground": true,
            "ticks": "",
            "zerolinecolor": "white"
           }
          },
          "shapedefaults": {
           "line": {
            "color": "#2a3f5f"
           }
          },
          "ternary": {
           "aaxis": {
            "gridcolor": "white",
            "linecolor": "white",
            "ticks": ""
           },
           "baxis": {
            "gridcolor": "white",
            "linecolor": "white",
            "ticks": ""
           },
           "bgcolor": "#E5ECF6",
           "caxis": {
            "gridcolor": "white",
            "linecolor": "white",
            "ticks": ""
           }
          },
          "title": {
           "x": 0.05
          },
          "xaxis": {
           "automargin": true,
           "gridcolor": "white",
           "linecolor": "white",
           "ticks": "",
           "title": {
            "standoff": 15
           },
           "zerolinecolor": "white",
           "zerolinewidth": 2
          },
          "yaxis": {
           "automargin": true,
           "gridcolor": "white",
           "linecolor": "white",
           "ticks": "",
           "title": {
            "standoff": 15
           },
           "zerolinecolor": "white",
           "zerolinewidth": 2
          }
         }
        },
        "title": {
         "text": "Heatmap of Categorical Data for Banks"
        },
        "xaxis": {
         "title": {
          "text": "Variable"
         }
        },
        "yaxis": {
         "title": {
          "text": "Bank"
         }
        }
       }
      }
     },
     "metadata": {},
     "output_type": "display_data"
    }
   ],
   "source": [
    "# Define a custom color scale for binary values with soft colors\n",
    "colorscale = [[0, 'lightblue'], [1, 'lightcoral']]\n",
    "\n",
    "# Create heatmap\n",
    "fig = go.Figure(data=go.Heatmap(\n",
    "    z=data.loc[:, ['has_stores', 'founded_before_2000', 'big_employees', 'big_assets']].values,  # Values for the heatmap\n",
    "    x=['Is Brick and Mortar', 'Founded before 2000', 'Large Employee Count', 'Large AUM'],     # Variable names\n",
    "    y=data['bank'],             # Bank names\n",
    "    colorscale=colorscale,    # Custom color scale\n",
    "    showscale=False           # Hide color scale\n",
    "))\n",
    "\n",
    "# Add custom legend\n",
    "fig.add_trace(go.Scatter(\n",
    "    x=[None],\n",
    "    y=[None],\n",
    "    mode='markers',\n",
    "    marker=dict(size=10, color='lightblue'),\n",
    "    showlegend=True,\n",
    "    name='False'\n",
    "))\n",
    "\n",
    "fig.add_trace(go.Scatter(\n",
    "    x=[None],\n",
    "    y=[None],\n",
    "    mode='markers',\n",
    "    marker=dict(size=10, color='lightcoral'),\n",
    "    showlegend=True,\n",
    "    name='True'\n",
    "))\n",
    "\n",
    "# Update layout\n",
    "fig.update_layout(\n",
    "    title='Heatmap of Categorical Data for Banks',\n",
    "    xaxis_title='Variable',\n",
    "    yaxis_title='Bank',\n",
    "    legend=dict(\n",
    "        title='Legend',\n",
    "        orientation='h',\n",
    "        yanchor='bottom',\n",
    "        y=1.02,\n",
    "        xanchor='right',\n",
    "        x=1\n",
    "    )\n",
    ")\n",
    "\n",
    "fig.show()"
   ]
  },
  {
   "cell_type": "code",
   "execution_count": 476,
   "metadata": {},
   "outputs": [
    {
     "data": {
      "text/html": [
       "<div>\n",
       "<style scoped>\n",
       "    .dataframe tbody tr th:only-of-type {\n",
       "        vertical-align: middle;\n",
       "    }\n",
       "\n",
       "    .dataframe tbody tr th {\n",
       "        vertical-align: top;\n",
       "    }\n",
       "\n",
       "    .dataframe thead th {\n",
       "        text-align: right;\n",
       "    }\n",
       "</style>\n",
       "<table border=\"1\" class=\"dataframe\">\n",
       "  <thead>\n",
       "    <tr style=\"text-align: right;\">\n",
       "      <th></th>\n",
       "      <th>bank</th>\n",
       "      <th>number_of_employee</th>\n",
       "      <th>assets_under_management</th>\n",
       "      <th>number_of_branches</th>\n",
       "      <th>age</th>\n",
       "      <th>has_stores</th>\n",
       "      <th>founded_before_2000</th>\n",
       "      <th>web_traffic</th>\n",
       "      <th>big_employees</th>\n",
       "      <th>big_assets</th>\n",
       "    </tr>\n",
       "  </thead>\n",
       "  <tbody>\n",
       "    <tr>\n",
       "      <th>0</th>\n",
       "      <td>abanca</td>\n",
       "      <td>5946</td>\n",
       "      <td>72148000000</td>\n",
       "      <td>690</td>\n",
       "      <td>13</td>\n",
       "      <td>1</td>\n",
       "      <td>0</td>\n",
       "      <td>1.357941e+06</td>\n",
       "      <td>0</td>\n",
       "      <td>0</td>\n",
       "    </tr>\n",
       "    <tr>\n",
       "      <th>1</th>\n",
       "      <td>santander</td>\n",
       "      <td>212764</td>\n",
       "      <td>226000000000</td>\n",
       "      <td>8518</td>\n",
       "      <td>167</td>\n",
       "      <td>1</td>\n",
       "      <td>1</td>\n",
       "      <td>NaN</td>\n",
       "      <td>1</td>\n",
       "      <td>1</td>\n",
       "    </tr>\n",
       "    <tr>\n",
       "      <th>2</th>\n",
       "      <td>banc sabadell</td>\n",
       "      <td>19316</td>\n",
       "      <td>201449000000</td>\n",
       "      <td>1594</td>\n",
       "      <td>143</td>\n",
       "      <td>1</td>\n",
       "      <td>1</td>\n",
       "      <td>NaN</td>\n",
       "      <td>1</td>\n",
       "      <td>1</td>\n",
       "    </tr>\n",
       "    <tr>\n",
       "      <th>3</th>\n",
       "      <td>bankinter</td>\n",
       "      <td>6138</td>\n",
       "      <td>83300000000</td>\n",
       "      <td>523</td>\n",
       "      <td>59</td>\n",
       "      <td>1</td>\n",
       "      <td>1</td>\n",
       "      <td>2.755435e+05</td>\n",
       "      <td>1</td>\n",
       "      <td>1</td>\n",
       "    </tr>\n",
       "    <tr>\n",
       "      <th>4</th>\n",
       "      <td>bbva</td>\n",
       "      <td>121486</td>\n",
       "      <td>110000000000</td>\n",
       "      <td>1800</td>\n",
       "      <td>167</td>\n",
       "      <td>1</td>\n",
       "      <td>1</td>\n",
       "      <td>9.920828e+05</td>\n",
       "      <td>1</td>\n",
       "      <td>1</td>\n",
       "    </tr>\n",
       "    <tr>\n",
       "      <th>5</th>\n",
       "      <td>caixabank</td>\n",
       "      <td>44863</td>\n",
       "      <td>81890000000</td>\n",
       "      <td>3922</td>\n",
       "      <td>120</td>\n",
       "      <td>1</td>\n",
       "      <td>1</td>\n",
       "      <td>NaN</td>\n",
       "      <td>1</td>\n",
       "      <td>1</td>\n",
       "    </tr>\n",
       "    <tr>\n",
       "      <th>6</th>\n",
       "      <td>evobanco</td>\n",
       "      <td>200</td>\n",
       "      <td>7350000000</td>\n",
       "      <td>80</td>\n",
       "      <td>12</td>\n",
       "      <td>1</td>\n",
       "      <td>0</td>\n",
       "      <td>1.696284e+05</td>\n",
       "      <td>0</td>\n",
       "      <td>0</td>\n",
       "    </tr>\n",
       "    <tr>\n",
       "      <th>7</th>\n",
       "      <td>imagin</td>\n",
       "      <td>118</td>\n",
       "      <td>81890000000</td>\n",
       "      <td>0</td>\n",
       "      <td>8</td>\n",
       "      <td>0</td>\n",
       "      <td>0</td>\n",
       "      <td>NaN</td>\n",
       "      <td>0</td>\n",
       "      <td>1</td>\n",
       "    </tr>\n",
       "    <tr>\n",
       "      <th>8</th>\n",
       "      <td>ing</td>\n",
       "      <td>60778</td>\n",
       "      <td>268000000000</td>\n",
       "      <td>1660</td>\n",
       "      <td>33</td>\n",
       "      <td>1</td>\n",
       "      <td>1</td>\n",
       "      <td>7.016930e+05</td>\n",
       "      <td>1</td>\n",
       "      <td>1</td>\n",
       "    </tr>\n",
       "    <tr>\n",
       "      <th>9</th>\n",
       "      <td>kutxabank</td>\n",
       "      <td>5343</td>\n",
       "      <td>25000000000</td>\n",
       "      <td>737</td>\n",
       "      <td>12</td>\n",
       "      <td>1</td>\n",
       "      <td>0</td>\n",
       "      <td>NaN</td>\n",
       "      <td>0</td>\n",
       "      <td>0</td>\n",
       "    </tr>\n",
       "    <tr>\n",
       "      <th>10</th>\n",
       "      <td>myinvestor</td>\n",
       "      <td>60</td>\n",
       "      <td>4000000000</td>\n",
       "      <td>0</td>\n",
       "      <td>7</td>\n",
       "      <td>0</td>\n",
       "      <td>0</td>\n",
       "      <td>2.294361e+05</td>\n",
       "      <td>0</td>\n",
       "      <td>0</td>\n",
       "    </tr>\n",
       "    <tr>\n",
       "      <th>11</th>\n",
       "      <td>n26</td>\n",
       "      <td>1500</td>\n",
       "      <td>8000000000</td>\n",
       "      <td>0</td>\n",
       "      <td>11</td>\n",
       "      <td>0</td>\n",
       "      <td>0</td>\n",
       "      <td>2.031008e+05</td>\n",
       "      <td>0</td>\n",
       "      <td>0</td>\n",
       "    </tr>\n",
       "    <tr>\n",
       "      <th>12</th>\n",
       "      <td>openbank</td>\n",
       "      <td>1100</td>\n",
       "      <td>1815792000</td>\n",
       "      <td>0</td>\n",
       "      <td>28</td>\n",
       "      <td>0</td>\n",
       "      <td>1</td>\n",
       "      <td>4.243919e+05</td>\n",
       "      <td>0</td>\n",
       "      <td>0</td>\n",
       "    </tr>\n",
       "    <tr>\n",
       "      <th>13</th>\n",
       "      <td>pibank</td>\n",
       "      <td>65</td>\n",
       "      <td>15500000000</td>\n",
       "      <td>0</td>\n",
       "      <td>6</td>\n",
       "      <td>0</td>\n",
       "      <td>0</td>\n",
       "      <td>NaN</td>\n",
       "      <td>0</td>\n",
       "      <td>0</td>\n",
       "    </tr>\n",
       "    <tr>\n",
       "      <th>14</th>\n",
       "      <td>revolut</td>\n",
       "      <td>7500</td>\n",
       "      <td>14000000000</td>\n",
       "      <td>0</td>\n",
       "      <td>9</td>\n",
       "      <td>0</td>\n",
       "      <td>0</td>\n",
       "      <td>1.469593e+05</td>\n",
       "      <td>1</td>\n",
       "      <td>0</td>\n",
       "    </tr>\n",
       "  </tbody>\n",
       "</table>\n",
       "</div>"
      ],
      "text/plain": [
       "             bank  number_of_employee  assets_under_management  \\\n",
       "0          abanca                5946              72148000000   \n",
       "1       santander              212764             226000000000   \n",
       "2   banc sabadell               19316             201449000000   \n",
       "3       bankinter                6138              83300000000   \n",
       "4            bbva              121486             110000000000   \n",
       "5       caixabank               44863              81890000000   \n",
       "6        evobanco                 200               7350000000   \n",
       "7          imagin                 118              81890000000   \n",
       "8             ing               60778             268000000000   \n",
       "9       kutxabank                5343              25000000000   \n",
       "10     myinvestor                  60               4000000000   \n",
       "11            n26                1500               8000000000   \n",
       "12       openbank                1100               1815792000   \n",
       "13         pibank                  65              15500000000   \n",
       "14        revolut                7500              14000000000   \n",
       "\n",
       "    number_of_branches  age  has_stores  founded_before_2000   web_traffic  \\\n",
       "0                  690   13           1                    0  1.357941e+06   \n",
       "1                 8518  167           1                    1           NaN   \n",
       "2                 1594  143           1                    1           NaN   \n",
       "3                  523   59           1                    1  2.755435e+05   \n",
       "4                 1800  167           1                    1  9.920828e+05   \n",
       "5                 3922  120           1                    1           NaN   \n",
       "6                   80   12           1                    0  1.696284e+05   \n",
       "7                    0    8           0                    0           NaN   \n",
       "8                 1660   33           1                    1  7.016930e+05   \n",
       "9                  737   12           1                    0           NaN   \n",
       "10                   0    7           0                    0  2.294361e+05   \n",
       "11                   0   11           0                    0  2.031008e+05   \n",
       "12                   0   28           0                    1  4.243919e+05   \n",
       "13                   0    6           0                    0           NaN   \n",
       "14                   0    9           0                    0  1.469593e+05   \n",
       "\n",
       "    big_employees  big_assets  \n",
       "0               0           0  \n",
       "1               1           1  \n",
       "2               1           1  \n",
       "3               1           1  \n",
       "4               1           1  \n",
       "5               1           1  \n",
       "6               0           0  \n",
       "7               0           1  \n",
       "8               1           1  \n",
       "9               0           0  \n",
       "10              0           0  \n",
       "11              0           0  \n",
       "12              0           0  \n",
       "13              0           0  \n",
       "14              1           0  "
      ]
     },
     "execution_count": 476,
     "metadata": {},
     "output_type": "execute_result"
    }
   ],
   "source": [
    "cat_data"
   ]
  },
  {
   "cell_type": "code",
   "execution_count": 477,
   "metadata": {},
   "outputs": [
    {
     "data": {
      "application/vnd.plotly.v1+json": {
       "config": {
        "plotlyServerURL": "https://plot.ly"
       },
       "data": [
        {
         "alignmentgroup": "True",
         "hovertemplate": "bank=%{x}<br>assets_under_management=%{y}<extra></extra>",
         "legendgroup": "",
         "marker": {
          "color": "#636efa",
          "pattern": {
           "shape": ""
          }
         },
         "name": "",
         "offsetgroup": "",
         "orientation": "v",
         "showlegend": false,
         "textposition": "auto",
         "type": "bar",
         "x": [
          "ing",
          "santander",
          "banc sabadell",
          "bbva",
          "bankinter",
          "caixabank",
          "imagin",
          "abanca",
          "kutxabank",
          "pibank",
          "revolut",
          "n26",
          "evobanco",
          "myinvestor",
          "openbank"
         ],
         "xaxis": "x",
         "y": [
          268000000000,
          226000000000,
          201449000000,
          110000000000,
          83300000000,
          81890000000,
          81890000000,
          72148000000,
          25000000000,
          15500000000,
          14000000000,
          8000000000,
          7350000000,
          4000000000,
          1815792000
         ],
         "yaxis": "y"
        }
       ],
       "layout": {
        "barmode": "relative",
        "legend": {
         "tracegroupgap": 0
        },
        "template": {
         "data": {
          "bar": [
           {
            "error_x": {
             "color": "#2a3f5f"
            },
            "error_y": {
             "color": "#2a3f5f"
            },
            "marker": {
             "line": {
              "color": "#E5ECF6",
              "width": 0.5
             },
             "pattern": {
              "fillmode": "overlay",
              "size": 10,
              "solidity": 0.2
             }
            },
            "type": "bar"
           }
          ],
          "barpolar": [
           {
            "marker": {
             "line": {
              "color": "#E5ECF6",
              "width": 0.5
             },
             "pattern": {
              "fillmode": "overlay",
              "size": 10,
              "solidity": 0.2
             }
            },
            "type": "barpolar"
           }
          ],
          "carpet": [
           {
            "aaxis": {
             "endlinecolor": "#2a3f5f",
             "gridcolor": "white",
             "linecolor": "white",
             "minorgridcolor": "white",
             "startlinecolor": "#2a3f5f"
            },
            "baxis": {
             "endlinecolor": "#2a3f5f",
             "gridcolor": "white",
             "linecolor": "white",
             "minorgridcolor": "white",
             "startlinecolor": "#2a3f5f"
            },
            "type": "carpet"
           }
          ],
          "choropleth": [
           {
            "colorbar": {
             "outlinewidth": 0,
             "ticks": ""
            },
            "type": "choropleth"
           }
          ],
          "contour": [
           {
            "colorbar": {
             "outlinewidth": 0,
             "ticks": ""
            },
            "colorscale": [
             [
              0,
              "#0d0887"
             ],
             [
              0.1111111111111111,
              "#46039f"
             ],
             [
              0.2222222222222222,
              "#7201a8"
             ],
             [
              0.3333333333333333,
              "#9c179e"
             ],
             [
              0.4444444444444444,
              "#bd3786"
             ],
             [
              0.5555555555555556,
              "#d8576b"
             ],
             [
              0.6666666666666666,
              "#ed7953"
             ],
             [
              0.7777777777777778,
              "#fb9f3a"
             ],
             [
              0.8888888888888888,
              "#fdca26"
             ],
             [
              1,
              "#f0f921"
             ]
            ],
            "type": "contour"
           }
          ],
          "contourcarpet": [
           {
            "colorbar": {
             "outlinewidth": 0,
             "ticks": ""
            },
            "type": "contourcarpet"
           }
          ],
          "heatmap": [
           {
            "colorbar": {
             "outlinewidth": 0,
             "ticks": ""
            },
            "colorscale": [
             [
              0,
              "#0d0887"
             ],
             [
              0.1111111111111111,
              "#46039f"
             ],
             [
              0.2222222222222222,
              "#7201a8"
             ],
             [
              0.3333333333333333,
              "#9c179e"
             ],
             [
              0.4444444444444444,
              "#bd3786"
             ],
             [
              0.5555555555555556,
              "#d8576b"
             ],
             [
              0.6666666666666666,
              "#ed7953"
             ],
             [
              0.7777777777777778,
              "#fb9f3a"
             ],
             [
              0.8888888888888888,
              "#fdca26"
             ],
             [
              1,
              "#f0f921"
             ]
            ],
            "type": "heatmap"
           }
          ],
          "heatmapgl": [
           {
            "colorbar": {
             "outlinewidth": 0,
             "ticks": ""
            },
            "colorscale": [
             [
              0,
              "#0d0887"
             ],
             [
              0.1111111111111111,
              "#46039f"
             ],
             [
              0.2222222222222222,
              "#7201a8"
             ],
             [
              0.3333333333333333,
              "#9c179e"
             ],
             [
              0.4444444444444444,
              "#bd3786"
             ],
             [
              0.5555555555555556,
              "#d8576b"
             ],
             [
              0.6666666666666666,
              "#ed7953"
             ],
             [
              0.7777777777777778,
              "#fb9f3a"
             ],
             [
              0.8888888888888888,
              "#fdca26"
             ],
             [
              1,
              "#f0f921"
             ]
            ],
            "type": "heatmapgl"
           }
          ],
          "histogram": [
           {
            "marker": {
             "pattern": {
              "fillmode": "overlay",
              "size": 10,
              "solidity": 0.2
             }
            },
            "type": "histogram"
           }
          ],
          "histogram2d": [
           {
            "colorbar": {
             "outlinewidth": 0,
             "ticks": ""
            },
            "colorscale": [
             [
              0,
              "#0d0887"
             ],
             [
              0.1111111111111111,
              "#46039f"
             ],
             [
              0.2222222222222222,
              "#7201a8"
             ],
             [
              0.3333333333333333,
              "#9c179e"
             ],
             [
              0.4444444444444444,
              "#bd3786"
             ],
             [
              0.5555555555555556,
              "#d8576b"
             ],
             [
              0.6666666666666666,
              "#ed7953"
             ],
             [
              0.7777777777777778,
              "#fb9f3a"
             ],
             [
              0.8888888888888888,
              "#fdca26"
             ],
             [
              1,
              "#f0f921"
             ]
            ],
            "type": "histogram2d"
           }
          ],
          "histogram2dcontour": [
           {
            "colorbar": {
             "outlinewidth": 0,
             "ticks": ""
            },
            "colorscale": [
             [
              0,
              "#0d0887"
             ],
             [
              0.1111111111111111,
              "#46039f"
             ],
             [
              0.2222222222222222,
              "#7201a8"
             ],
             [
              0.3333333333333333,
              "#9c179e"
             ],
             [
              0.4444444444444444,
              "#bd3786"
             ],
             [
              0.5555555555555556,
              "#d8576b"
             ],
             [
              0.6666666666666666,
              "#ed7953"
             ],
             [
              0.7777777777777778,
              "#fb9f3a"
             ],
             [
              0.8888888888888888,
              "#fdca26"
             ],
             [
              1,
              "#f0f921"
             ]
            ],
            "type": "histogram2dcontour"
           }
          ],
          "mesh3d": [
           {
            "colorbar": {
             "outlinewidth": 0,
             "ticks": ""
            },
            "type": "mesh3d"
           }
          ],
          "parcoords": [
           {
            "line": {
             "colorbar": {
              "outlinewidth": 0,
              "ticks": ""
             }
            },
            "type": "parcoords"
           }
          ],
          "pie": [
           {
            "automargin": true,
            "type": "pie"
           }
          ],
          "scatter": [
           {
            "fillpattern": {
             "fillmode": "overlay",
             "size": 10,
             "solidity": 0.2
            },
            "type": "scatter"
           }
          ],
          "scatter3d": [
           {
            "line": {
             "colorbar": {
              "outlinewidth": 0,
              "ticks": ""
             }
            },
            "marker": {
             "colorbar": {
              "outlinewidth": 0,
              "ticks": ""
             }
            },
            "type": "scatter3d"
           }
          ],
          "scattercarpet": [
           {
            "marker": {
             "colorbar": {
              "outlinewidth": 0,
              "ticks": ""
             }
            },
            "type": "scattercarpet"
           }
          ],
          "scattergeo": [
           {
            "marker": {
             "colorbar": {
              "outlinewidth": 0,
              "ticks": ""
             }
            },
            "type": "scattergeo"
           }
          ],
          "scattergl": [
           {
            "marker": {
             "colorbar": {
              "outlinewidth": 0,
              "ticks": ""
             }
            },
            "type": "scattergl"
           }
          ],
          "scattermapbox": [
           {
            "marker": {
             "colorbar": {
              "outlinewidth": 0,
              "ticks": ""
             }
            },
            "type": "scattermapbox"
           }
          ],
          "scatterpolar": [
           {
            "marker": {
             "colorbar": {
              "outlinewidth": 0,
              "ticks": ""
             }
            },
            "type": "scatterpolar"
           }
          ],
          "scatterpolargl": [
           {
            "marker": {
             "colorbar": {
              "outlinewidth": 0,
              "ticks": ""
             }
            },
            "type": "scatterpolargl"
           }
          ],
          "scatterternary": [
           {
            "marker": {
             "colorbar": {
              "outlinewidth": 0,
              "ticks": ""
             }
            },
            "type": "scatterternary"
           }
          ],
          "surface": [
           {
            "colorbar": {
             "outlinewidth": 0,
             "ticks": ""
            },
            "colorscale": [
             [
              0,
              "#0d0887"
             ],
             [
              0.1111111111111111,
              "#46039f"
             ],
             [
              0.2222222222222222,
              "#7201a8"
             ],
             [
              0.3333333333333333,
              "#9c179e"
             ],
             [
              0.4444444444444444,
              "#bd3786"
             ],
             [
              0.5555555555555556,
              "#d8576b"
             ],
             [
              0.6666666666666666,
              "#ed7953"
             ],
             [
              0.7777777777777778,
              "#fb9f3a"
             ],
             [
              0.8888888888888888,
              "#fdca26"
             ],
             [
              1,
              "#f0f921"
             ]
            ],
            "type": "surface"
           }
          ],
          "table": [
           {
            "cells": {
             "fill": {
              "color": "#EBF0F8"
             },
             "line": {
              "color": "white"
             }
            },
            "header": {
             "fill": {
              "color": "#C8D4E3"
             },
             "line": {
              "color": "white"
             }
            },
            "type": "table"
           }
          ]
         },
         "layout": {
          "annotationdefaults": {
           "arrowcolor": "#2a3f5f",
           "arrowhead": 0,
           "arrowwidth": 1
          },
          "autotypenumbers": "strict",
          "coloraxis": {
           "colorbar": {
            "outlinewidth": 0,
            "ticks": ""
           }
          },
          "colorscale": {
           "diverging": [
            [
             0,
             "#8e0152"
            ],
            [
             0.1,
             "#c51b7d"
            ],
            [
             0.2,
             "#de77ae"
            ],
            [
             0.3,
             "#f1b6da"
            ],
            [
             0.4,
             "#fde0ef"
            ],
            [
             0.5,
             "#f7f7f7"
            ],
            [
             0.6,
             "#e6f5d0"
            ],
            [
             0.7,
             "#b8e186"
            ],
            [
             0.8,
             "#7fbc41"
            ],
            [
             0.9,
             "#4d9221"
            ],
            [
             1,
             "#276419"
            ]
           ],
           "sequential": [
            [
             0,
             "#0d0887"
            ],
            [
             0.1111111111111111,
             "#46039f"
            ],
            [
             0.2222222222222222,
             "#7201a8"
            ],
            [
             0.3333333333333333,
             "#9c179e"
            ],
            [
             0.4444444444444444,
             "#bd3786"
            ],
            [
             0.5555555555555556,
             "#d8576b"
            ],
            [
             0.6666666666666666,
             "#ed7953"
            ],
            [
             0.7777777777777778,
             "#fb9f3a"
            ],
            [
             0.8888888888888888,
             "#fdca26"
            ],
            [
             1,
             "#f0f921"
            ]
           ],
           "sequentialminus": [
            [
             0,
             "#0d0887"
            ],
            [
             0.1111111111111111,
             "#46039f"
            ],
            [
             0.2222222222222222,
             "#7201a8"
            ],
            [
             0.3333333333333333,
             "#9c179e"
            ],
            [
             0.4444444444444444,
             "#bd3786"
            ],
            [
             0.5555555555555556,
             "#d8576b"
            ],
            [
             0.6666666666666666,
             "#ed7953"
            ],
            [
             0.7777777777777778,
             "#fb9f3a"
            ],
            [
             0.8888888888888888,
             "#fdca26"
            ],
            [
             1,
             "#f0f921"
            ]
           ]
          },
          "colorway": [
           "#636efa",
           "#EF553B",
           "#00cc96",
           "#ab63fa",
           "#FFA15A",
           "#19d3f3",
           "#FF6692",
           "#B6E880",
           "#FF97FF",
           "#FECB52"
          ],
          "font": {
           "color": "#2a3f5f"
          },
          "geo": {
           "bgcolor": "white",
           "lakecolor": "white",
           "landcolor": "#E5ECF6",
           "showlakes": true,
           "showland": true,
           "subunitcolor": "white"
          },
          "hoverlabel": {
           "align": "left"
          },
          "hovermode": "closest",
          "mapbox": {
           "style": "light"
          },
          "paper_bgcolor": "white",
          "plot_bgcolor": "#E5ECF6",
          "polar": {
           "angularaxis": {
            "gridcolor": "white",
            "linecolor": "white",
            "ticks": ""
           },
           "bgcolor": "#E5ECF6",
           "radialaxis": {
            "gridcolor": "white",
            "linecolor": "white",
            "ticks": ""
           }
          },
          "scene": {
           "xaxis": {
            "backgroundcolor": "#E5ECF6",
            "gridcolor": "white",
            "gridwidth": 2,
            "linecolor": "white",
            "showbackground": true,
            "ticks": "",
            "zerolinecolor": "white"
           },
           "yaxis": {
            "backgroundcolor": "#E5ECF6",
            "gridcolor": "white",
            "gridwidth": 2,
            "linecolor": "white",
            "showbackground": true,
            "ticks": "",
            "zerolinecolor": "white"
           },
           "zaxis": {
            "backgroundcolor": "#E5ECF6",
            "gridcolor": "white",
            "gridwidth": 2,
            "linecolor": "white",
            "showbackground": true,
            "ticks": "",
            "zerolinecolor": "white"
           }
          },
          "shapedefaults": {
           "line": {
            "color": "#2a3f5f"
           }
          },
          "ternary": {
           "aaxis": {
            "gridcolor": "white",
            "linecolor": "white",
            "ticks": ""
           },
           "baxis": {
            "gridcolor": "white",
            "linecolor": "white",
            "ticks": ""
           },
           "bgcolor": "#E5ECF6",
           "caxis": {
            "gridcolor": "white",
            "linecolor": "white",
            "ticks": ""
           }
          },
          "title": {
           "x": 0.05
          },
          "xaxis": {
           "automargin": true,
           "gridcolor": "white",
           "linecolor": "white",
           "ticks": "",
           "title": {
            "standoff": 15
           },
           "zerolinecolor": "white",
           "zerolinewidth": 2
          },
          "yaxis": {
           "automargin": true,
           "gridcolor": "white",
           "linecolor": "white",
           "ticks": "",
           "title": {
            "standoff": 15
           },
           "zerolinecolor": "white",
           "zerolinewidth": 2
          }
         }
        },
        "title": {
         "text": "Assets Under Management by Bank"
        },
        "xaxis": {
         "anchor": "y",
         "domain": [
          0,
          1
         ],
         "title": {
          "text": "Bank"
         }
        },
        "yaxis": {
         "anchor": "x",
         "domain": [
          0,
          1
         ],
         "title": {
          "text": "Assets Under Management"
         }
        }
       }
      }
     },
     "metadata": {},
     "output_type": "display_data"
    }
   ],
   "source": [
    "# bar chart of banks by assets sorted by assets\n",
    "cat_data = cat_data.sort_values('assets_under_management', ascending=False)\n",
    "# log scale assets\n",
    "fig = px.bar(cat_data, x='bank', y='assets_under_management', title='Assets Under Management by Bank')\n",
    "fig.update_xaxes(title='Bank')\n",
    "fig.update_yaxes(title='Assets Under Management')\n",
    "fig.show()"
   ]
  },
  {
   "cell_type": "code",
   "execution_count": null,
   "metadata": {},
   "outputs": [],
   "source": []
  }
 ],
 "metadata": {
  "kernelspec": {
   "display_name": "Python 3",
   "language": "python",
   "name": "python3"
  },
  "language_info": {
   "codemirror_mode": {
    "name": "ipython",
    "version": 3
   },
   "file_extension": ".py",
   "mimetype": "text/x-python",
   "name": "python",
   "nbconvert_exporter": "python",
   "pygments_lexer": "ipython3",
   "version": "3.9.6"
  },
  "orig_nbformat": 4
 },
 "nbformat": 4,
 "nbformat_minor": 2
}
