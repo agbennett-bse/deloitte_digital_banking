{
 "cells": [
  {
   "cell_type": "code",
   "execution_count": 48,
   "metadata": {},
   "outputs": [],
   "source": [
    "import pandas as pd \n",
    "import numpy as np\n",
    "import matplotlib.pyplot as plt\n",
    "import plotly.express as px\n",
    "import plotly.graph_objects as go\n",
    "import statsmodels.api as sm"
   ]
  },
  {
   "cell_type": "code",
   "execution_count": 49,
   "metadata": {},
   "outputs": [
    {
     "data": {
      "text/html": [
       "<div>\n",
       "<style scoped>\n",
       "    .dataframe tbody tr th:only-of-type {\n",
       "        vertical-align: middle;\n",
       "    }\n",
       "\n",
       "    .dataframe tbody tr th {\n",
       "        vertical-align: top;\n",
       "    }\n",
       "\n",
       "    .dataframe thead th {\n",
       "        text-align: right;\n",
       "    }\n",
       "</style>\n",
       "<table border=\"1\" class=\"dataframe\">\n",
       "  <thead>\n",
       "    <tr style=\"text-align: right;\">\n",
       "      <th></th>\n",
       "      <th>bank</th>\n",
       "      <th>date</th>\n",
       "      <th>web_traffic</th>\n",
       "      <th>number_of_employee</th>\n",
       "      <th>assets_under_management</th>\n",
       "      <th>number_of_branches</th>\n",
       "      <th>age</th>\n",
       "      <th>has_stores</th>\n",
       "      <th>founded_before_2000</th>\n",
       "      <th>cross_visitation</th>\n",
       "      <th>rank</th>\n",
       "      <th>category_best_salary_accounts_helmycash</th>\n",
       "      <th>category_best_savings_accounts_helpmycash</th>\n",
       "      <th>incentive</th>\n",
       "      <th>apr</th>\n",
       "      <th>mentions</th>\n",
       "    </tr>\n",
       "  </thead>\n",
       "  <tbody>\n",
       "    <tr>\n",
       "      <th>0</th>\n",
       "      <td>abanca</td>\n",
       "      <td>2021-12-01</td>\n",
       "      <td>15202.983835</td>\n",
       "      <td>5946</td>\n",
       "      <td>72148000000</td>\n",
       "      <td>690</td>\n",
       "      <td>13</td>\n",
       "      <td>1</td>\n",
       "      <td>0</td>\n",
       "      <td>0.077994</td>\n",
       "      <td>4.0</td>\n",
       "      <td>0</td>\n",
       "      <td>0</td>\n",
       "      <td>300€</td>\n",
       "      <td>0%</td>\n",
       "      <td>1</td>\n",
       "    </tr>\n",
       "    <tr>\n",
       "      <th>1</th>\n",
       "      <td>abanca</td>\n",
       "      <td>2021-12-01</td>\n",
       "      <td>15202.983835</td>\n",
       "      <td>5946</td>\n",
       "      <td>72148000000</td>\n",
       "      <td>690</td>\n",
       "      <td>13</td>\n",
       "      <td>1</td>\n",
       "      <td>0</td>\n",
       "      <td>0.077994</td>\n",
       "      <td>4.0</td>\n",
       "      <td>1</td>\n",
       "      <td>0</td>\n",
       "      <td>300€</td>\n",
       "      <td>0%</td>\n",
       "      <td>1</td>\n",
       "    </tr>\n",
       "    <tr>\n",
       "      <th>2</th>\n",
       "      <td>abanca</td>\n",
       "      <td>2021-12-01</td>\n",
       "      <td>15202.983835</td>\n",
       "      <td>5946</td>\n",
       "      <td>72148000000</td>\n",
       "      <td>690</td>\n",
       "      <td>13</td>\n",
       "      <td>1</td>\n",
       "      <td>0</td>\n",
       "      <td>0.077994</td>\n",
       "      <td>4.0</td>\n",
       "      <td>0</td>\n",
       "      <td>1</td>\n",
       "      <td>300€</td>\n",
       "      <td>0%</td>\n",
       "      <td>1</td>\n",
       "    </tr>\n",
       "    <tr>\n",
       "      <th>3</th>\n",
       "      <td>abanca</td>\n",
       "      <td>2022-01-01</td>\n",
       "      <td>42183.913207</td>\n",
       "      <td>5946</td>\n",
       "      <td>72148000000</td>\n",
       "      <td>690</td>\n",
       "      <td>13</td>\n",
       "      <td>1</td>\n",
       "      <td>0</td>\n",
       "      <td>0.062500</td>\n",
       "      <td>4.0</td>\n",
       "      <td>0</td>\n",
       "      <td>0</td>\n",
       "      <td>300€</td>\n",
       "      <td>0%</td>\n",
       "      <td>1</td>\n",
       "    </tr>\n",
       "    <tr>\n",
       "      <th>4</th>\n",
       "      <td>abanca</td>\n",
       "      <td>2022-01-01</td>\n",
       "      <td>42183.913207</td>\n",
       "      <td>5946</td>\n",
       "      <td>72148000000</td>\n",
       "      <td>690</td>\n",
       "      <td>13</td>\n",
       "      <td>1</td>\n",
       "      <td>0</td>\n",
       "      <td>0.062500</td>\n",
       "      <td>4.0</td>\n",
       "      <td>1</td>\n",
       "      <td>0</td>\n",
       "      <td>300€</td>\n",
       "      <td>0%</td>\n",
       "      <td>1</td>\n",
       "    </tr>\n",
       "  </tbody>\n",
       "</table>\n",
       "</div>"
      ],
      "text/plain": [
       "     bank        date   web_traffic  number_of_employee  \\\n",
       "0  abanca  2021-12-01  15202.983835                5946   \n",
       "1  abanca  2021-12-01  15202.983835                5946   \n",
       "2  abanca  2021-12-01  15202.983835                5946   \n",
       "3  abanca  2022-01-01  42183.913207                5946   \n",
       "4  abanca  2022-01-01  42183.913207                5946   \n",
       "\n",
       "   assets_under_management  number_of_branches  age  has_stores  \\\n",
       "0              72148000000                 690   13           1   \n",
       "1              72148000000                 690   13           1   \n",
       "2              72148000000                 690   13           1   \n",
       "3              72148000000                 690   13           1   \n",
       "4              72148000000                 690   13           1   \n",
       "\n",
       "   founded_before_2000  cross_visitation  rank  \\\n",
       "0                    0          0.077994   4.0   \n",
       "1                    0          0.077994   4.0   \n",
       "2                    0          0.077994   4.0   \n",
       "3                    0          0.062500   4.0   \n",
       "4                    0          0.062500   4.0   \n",
       "\n",
       "   category_best_salary_accounts_helmycash  \\\n",
       "0                                        0   \n",
       "1                                        1   \n",
       "2                                        0   \n",
       "3                                        0   \n",
       "4                                        1   \n",
       "\n",
       "   category_best_savings_accounts_helpmycash incentive apr  mentions  \n",
       "0                                          0      300€  0%         1  \n",
       "1                                          0      300€  0%         1  \n",
       "2                                          1      300€  0%         1  \n",
       "3                                          0      300€  0%         1  \n",
       "4                                          0      300€  0%         1  "
      ]
     },
     "execution_count": 49,
     "metadata": {},
     "output_type": "execute_result"
    }
   ],
   "source": [
    "data = pd.read_csv('data/regression_clean_data.csv')\n",
    "data.head()"
   ]
  },
  {
   "cell_type": "code",
   "execution_count": 50,
   "metadata": {},
   "outputs": [
    {
     "data": {
      "text/plain": [
       "Index(['bank', 'date', 'web_traffic', 'number_of_employee',\n",
       "       'assets_under_management', 'number_of_branches', 'age', 'has_stores',\n",
       "       'founded_before_2000', 'cross_visitation', 'rank',\n",
       "       'category_best_salary_accounts_helmycash',\n",
       "       'category_best_savings_accounts_helpmycash', 'incentive', 'apr',\n",
       "       'mentions'],\n",
       "      dtype='object')"
      ]
     },
     "execution_count": 50,
     "metadata": {},
     "output_type": "execute_result"
    }
   ],
   "source": [
    "data.columns"
   ]
  },
  {
   "cell_type": "code",
   "execution_count": 51,
   "metadata": {},
   "outputs": [],
   "source": [
    "ind_vars = ['cross_visitation', 'rank',\n",
    "       'category_best_salary_accounts_helmycash',\n",
    "       'category_best_savings_accounts_helpmycash', 'incentive', 'apr',\n",
    "       'mentions']"
   ]
  },
  {
   "cell_type": "code",
   "execution_count": 52,
   "metadata": {},
   "outputs": [
    {
     "data": {
      "text/plain": [
       "bank                                           0\n",
       "date                                           0\n",
       "web_traffic                                    0\n",
       "number_of_employee                             0\n",
       "assets_under_management                        0\n",
       "number_of_branches                             0\n",
       "age                                            0\n",
       "has_stores                                     0\n",
       "founded_before_2000                            0\n",
       "cross_visitation                               0\n",
       "rank                                           0\n",
       "category_best_salary_accounts_helmycash        0\n",
       "category_best_savings_accounts_helpmycash      0\n",
       "incentive                                    301\n",
       "apr                                          953\n",
       "mentions                                       0\n",
       "dtype: int64"
      ]
     },
     "execution_count": 52,
     "metadata": {},
     "output_type": "execute_result"
    }
   ],
   "source": [
    "\n",
    "# Ensure the relevant columns are numeric\n",
    "data[ind_vars] = data[ind_vars].apply(pd.to_numeric, errors='coerce')\n",
    "data['web_traffic'] = pd.to_numeric(data['web_traffic'], errors='coerce')\n",
    "\n",
    "data.isna().sum()"
   ]
  },
  {
   "cell_type": "code",
   "execution_count": 53,
   "metadata": {},
   "outputs": [],
   "source": [
    "# find the minimum date \n",
    "min_date = data['date'].min()\n",
    "\n",
    "# for each bank on the minimum date, set apr and incentive to 0 if it is missing\n",
    "\n",
    "for bank in data['bank'].unique():\n",
    "    bank_data = data[data['bank'] == bank]\n",
    "    min_date_data = bank_data[bank_data['date'] == min_date]\n",
    "    if min_date_data['apr'].isnull().values[0]:\n",
    "        data.loc[(data['bank'] == bank) & (data['date'] == min_date), 'apr'] = 0\n",
    "    if min_date_data['incentive'].isnull().values[0]:\n",
    "        data.loc[(data['bank'] == bank) & (data['date'] == min_date), 'incentive'] = 0\n"
   ]
  },
  {
   "cell_type": "code",
   "execution_count": 54,
   "metadata": {},
   "outputs": [],
   "source": [
    "# ffill then bfill the missing values in the apr and incentive columns\n",
    "data['apr'] = data['apr'].ffill()\n",
    "data['apr'] = data['apr'].bfill()\n",
    "\n",
    "data['incentive'] = data['incentive'].ffill().bfill()\n",
    "\n",
    "\n"
   ]
  },
  {
   "cell_type": "code",
   "execution_count": 40,
   "metadata": {},
   "outputs": [],
   "source": [
    "data.to_csv('data/final_regression_data.csv', index=False)"
   ]
  },
  {
   "cell_type": "code",
   "execution_count": 55,
   "metadata": {},
   "outputs": [
    {
     "name": "stdout",
     "output_type": "stream",
     "text": [
      "Results for bank: abanca\n",
      "                                     Results: Ordinary least squares\n",
      "=========================================================================================================\n",
      "Model:                            OLS                          Adj. R-squared:                 0.321     \n",
      "Dependent Variable:               web_traffic                  AIC:                            1649.0964 \n",
      "Date:                             2024-06-13 13:57             BIC:                            1663.0014 \n",
      "No. Observations:                 75                           Log-Likelihood:                 -818.55   \n",
      "Df Model:                         5                            F-statistic:                    8.010     \n",
      "Df Residuals:                     69                           Prob (F-statistic):             5.34e-06  \n",
      "R-squared:                        0.367                        Scale:                          1.9209e+08\n",
      "---------------------------------------------------------------------------------------------------------\n",
      "                                             Coef.      Std.Err.     t    P>|t|     [0.025       0.975]  \n",
      "---------------------------------------------------------------------------------------------------------\n",
      "const                                      17030.7939  14125.1865  1.2057 0.2321  -11148.1821  45209.7699\n",
      "cross_visitation                          238044.7232 180213.4443  1.3209 0.1909 -121471.2612 597560.7076\n",
      "rank                                        5186.9470    908.8120  5.7074 0.0000    3373.9167   6999.9772\n",
      "category_best_salary_accounts_helmycash     3075.9481   3956.9417  0.7774 0.4396   -4817.9346  10969.8308\n",
      "category_best_savings_accounts_helpmycash   2246.0366   3939.7712  0.5701 0.5705   -5613.5918  10105.6651\n",
      "incentive                                      0.0000      0.0000     nan    nan       0.0000      0.0000\n",
      "apr                                            0.0000      0.0000     nan    nan       0.0000      0.0000\n",
      "mentions                                   -5382.1622   2062.6982 -2.6093 0.0111   -9497.1326  -1267.1918\n",
      "---------------------------------------------------------------------------------------------------------\n",
      "Omnibus:                            6.845                     Durbin-Watson:                       0.640 \n",
      "Prob(Omnibus):                      0.033                     Jarque-Bera (JB):                    11.132\n",
      "Skew:                               -0.182                    Prob(JB):                            0.004 \n",
      "Kurtosis:                           4.852                     Condition No.:                       inf   \n",
      "=========================================================================================================\n",
      "Notes:\n",
      "[1] Standard Errors assume that the covariance matrix of the errors is correctly specified.\n",
      "[2] The smallest eigenvalue is      0. This might indicate that                there are strong\n",
      "multicollinearity problems or that the design                matrix is singular.\n",
      "Results for bank: n26\n",
      "                                  Results: Ordinary least squares\n",
      "====================================================================================================\n",
      "Model:                         OLS                         Adj. R-squared:                0.027     \n",
      "Dependent Variable:            web_traffic                 AIC:                           2825.0568 \n",
      "Date:                          2024-06-13 13:57            BIC:                           2843.1206 \n",
      "No. Observations:              150                         Log-Likelihood:                -1406.5   \n",
      "Df Model:                      5                           F-statistic:                   1.822     \n",
      "Df Residuals:                  144                         Prob (F-statistic):            0.112     \n",
      "R-squared:                     0.060                       Scale:                         8.5092e+06\n",
      "----------------------------------------------------------------------------------------------------\n",
      "                                            Coef.     Std.Err.     t    P>|t|    [0.025     0.975]  \n",
      "----------------------------------------------------------------------------------------------------\n",
      "const                                      9134.7559  1829.6434  4.9926 0.0000  5518.3284 12751.1835\n",
      "cross_visitation                          33108.1521 18322.7143  1.8069 0.0729 -3108.0681 69324.3722\n",
      "rank                                       -218.2836   178.0116 -1.2262 0.2221  -570.1369   133.5696\n",
      "category_best_salary_accounts_helmycash    -165.8955   598.8911 -0.2770 0.7822 -1349.6488  1017.8577\n",
      "category_best_savings_accounts_helpmycash   -69.8508   586.1846 -0.1192 0.9053 -1228.4886  1088.7871\n",
      "incentive                                     0.0000     0.0000     nan    nan     0.0000     0.0000\n",
      "apr                                           0.0000     0.0000     nan    nan     0.0000     0.0000\n",
      "mentions                                   -292.3357   178.6778 -1.6361 0.1040  -645.5058    60.8343\n",
      "----------------------------------------------------------------------------------------------------\n",
      "Omnibus:                          10.118                   Durbin-Watson:                      1.037\n",
      "Prob(Omnibus):                    0.006                    Jarque-Bera (JB):                   7.726\n",
      "Skew:                             0.446                    Prob(JB):                           0.021\n",
      "Kurtosis:                         2.337                    Condition No.:                      inf  \n",
      "====================================================================================================\n",
      "Notes:\n",
      "[1] Standard Errors assume that the covariance matrix of the errors is correctly specified.\n",
      "[2] The smallest eigenvalue is      0. This might indicate that                there are strong\n",
      "multicollinearity problems or that the design                matrix is singular.\n",
      "Results for bank: banc sabadell\n",
      "                                    Results: Ordinary least squares\n",
      "=======================================================================================================\n",
      "Model:                          OLS                          Adj. R-squared:                 0.180     \n",
      "Dependent Variable:             web_traffic                  AIC:                            2142.9583 \n",
      "Date:                           2024-06-13 13:57             BIC:                            2158.5893 \n",
      "No. Observations:               100                          Log-Likelihood:                 -1065.5   \n",
      "Df Model:                       5                            F-statistic:                    5.337     \n",
      "Df Residuals:                   94                           Prob (F-statistic):             0.000232  \n",
      "R-squared:                      0.221                        Scale:                          1.1195e+08\n",
      "-------------------------------------------------------------------------------------------------------\n",
      "                                             Coef.     Std.Err.     t    P>|t|     [0.025      0.975]  \n",
      "-------------------------------------------------------------------------------------------------------\n",
      "const                                       5398.7519  7074.7982  0.7631 0.4473  -8648.4258  19445.9296\n",
      "cross_visitation                          343840.3510 80413.5802  4.2759 0.0000 184177.3026 503503.3994\n",
      "rank                                         412.6034   500.2234  0.8248 0.4116   -580.6019   1405.8086\n",
      "category_best_salary_accounts_helmycash       17.8508  2992.7636  0.0060 0.9953  -5924.3514   5960.0530\n",
      "category_best_savings_accounts_helpmycash    -89.4261  2594.0081 -0.0345 0.9726  -5239.8900   5061.0378\n",
      "incentive                                    -53.2545    11.8460 -4.4956 0.0000    -76.7750    -29.7340\n",
      "apr                                            0.0000     0.0000     nan    nan      0.0000      0.0000\n",
      "mentions                                       0.0000     0.0000     nan    nan      0.0000      0.0000\n",
      "-------------------------------------------------------------------------------------------------------\n",
      "Omnibus:                            3.728                    Durbin-Watson:                       0.273\n",
      "Prob(Omnibus):                      0.155                    Jarque-Bera (JB):                    3.735\n",
      "Skew:                               0.445                    Prob(JB):                            0.154\n",
      "Kurtosis:                           2.675                    Condition No.:                       inf  \n",
      "=======================================================================================================\n",
      "Notes:\n",
      "[1] Standard Errors assume that the covariance matrix of the errors is correctly specified.\n",
      "[2] The smallest eigenvalue is      0. This might indicate that                there are strong\n",
      "multicollinearity problems or that the design                matrix is singular.\n",
      "Results for bank: ing\n",
      "                                   Results: Ordinary least squares\n",
      "======================================================================================================\n",
      "Model:                           OLS                         Adj. R-squared:                0.220     \n",
      "Dependent Variable:              web_traffic                 AIC:                           4075.2706 \n",
      "Date:                            2024-06-13 13:57            BIC:                           4095.0605 \n",
      "No. Observations:                200                         Log-Likelihood:                -2031.6   \n",
      "Df Model:                        5                           F-statistic:                   12.24     \n",
      "Df Residuals:                    194                         Prob (F-statistic):            2.55e-10  \n",
      "R-squared:                       0.240                       Scale:                         4.0182e+07\n",
      "------------------------------------------------------------------------------------------------------\n",
      "                                             Coef.     Std.Err.     t    P>|t|     [0.025     0.975]  \n",
      "------------------------------------------------------------------------------------------------------\n",
      "cross_visitation                          -47390.1347 22526.1680 -2.1038 0.0367 -91817.7646 -2962.5049\n",
      "rank                                       -1096.7980   147.0817 -7.4571 0.0000  -1386.8824  -806.7136\n",
      "category_best_salary_accounts_helmycash      532.1031  1100.2537  0.4836 0.6292  -1637.8914  2702.0977\n",
      "category_best_savings_accounts_helpmycash   2111.4923  1133.8616  1.8622 0.0641   -124.7862  4347.7708\n",
      "incentive                                    144.4547    12.5542 11.5064 0.0000    119.6944   169.2150\n",
      "apr                                            0.0000     0.0000     nan    nan      0.0000     0.0000\n",
      "mentions                                     -89.1891   165.1020 -0.5402 0.5897   -414.8144   236.4361\n",
      "------------------------------------------------------------------------------------------------------\n",
      "Omnibus:                          71.609                   Durbin-Watson:                      0.358  \n",
      "Prob(Omnibus):                    0.000                    Jarque-Bera (JB):                   181.791\n",
      "Skew:                             1.591                    Prob(JB):                           0.000  \n",
      "Kurtosis:                         6.419                    Condition No.:                      inf    \n",
      "======================================================================================================\n",
      "Notes:\n",
      "[1] Standard Errors assume that the covariance matrix of the errors is correctly specified.\n",
      "[2] The smallest eigenvalue is      0. This might indicate that                there are strong\n",
      "multicollinearity problems or that the design                matrix is singular.\n",
      "Results for bank: bbva\n",
      "                                    Results: Ordinary least squares\n",
      "========================================================================================================\n",
      "Model:                           OLS                          Adj. R-squared:                 0.008     \n",
      "Dependent Variable:              web_traffic                  AIC:                            1718.6242 \n",
      "Date:                            2024-06-13 13:57             BIC:                            1730.4077 \n",
      "No. Observations:                78                           Log-Likelihood:                 -854.31   \n",
      "Df Model:                        4                            F-statistic:                    1.164     \n",
      "Df Residuals:                    73                           Prob (F-statistic):             0.334     \n",
      "R-squared:                       0.060                        Scale:                          2.0404e+08\n",
      "--------------------------------------------------------------------------------------------------------\n",
      "                                             Coef.      Std.Err.     t    P>|t|     [0.025      0.975]  \n",
      "--------------------------------------------------------------------------------------------------------\n",
      "const                                     -16501.7208  29253.4488 -0.5641 0.5744 -74803.7601  41800.3186\n",
      "cross_visitation                          298114.4596 152523.5468  1.9545 0.0545  -5864.5308 602093.4500\n",
      "rank                                         273.2836   1148.4233  0.2380 0.8126  -2015.5206   2562.0879\n",
      "category_best_salary_accounts_helmycash     -170.5580   3505.0049 -0.0487 0.9613  -7156.0227   6814.9068\n",
      "category_best_savings_accounts_helpmycash      0.0000      0.0000     nan    nan      0.0000      0.0000\n",
      "incentive                                      0.0000      0.0000     nan    nan      0.0000      0.0000\n",
      "apr                                            0.0000      0.0000     nan    nan      0.0000      0.0000\n",
      "mentions                                     708.8440    928.6894  0.7633 0.4478  -1142.0313   2559.7193\n",
      "--------------------------------------------------------------------------------------------------------\n",
      "Omnibus:                          72.393                    Durbin-Watson:                       0.728  \n",
      "Prob(Omnibus):                    0.000                     Jarque-Bera (JB):                    454.562\n",
      "Skew:                             2.938                     Prob(JB):                            0.000  \n",
      "Kurtosis:                         13.264                    Condition No.:                       inf    \n",
      "========================================================================================================\n",
      "Notes:\n",
      "[1] Standard Errors assume that the covariance matrix of the errors is correctly specified.\n",
      "[2] The smallest eigenvalue is      0. This might indicate that                there are strong\n",
      "multicollinearity problems or that the design                matrix is singular.\n",
      "Results for bank: revolut\n",
      "                                   Results: Ordinary least squares\n",
      "======================================================================================================\n",
      "Model:                           OLS                         Adj. R-squared:                0.504     \n",
      "Dependent Variable:              web_traffic                 AIC:                           469.3539  \n",
      "Date:                            2024-06-13 13:57            BIC:                           474.2294  \n",
      "No. Observations:                25                          Log-Likelihood:                -230.68   \n",
      "Df Model:                        3                           F-statistic:                   9.143     \n",
      "Df Residuals:                    21                          Prob (F-statistic):            0.000455  \n",
      "R-squared:                       0.566                       Scale:                         7.2075e+06\n",
      "------------------------------------------------------------------------------------------------------\n",
      "                                            Coef.     Std.Err.     t    P>|t|     [0.025      0.975]  \n",
      "------------------------------------------------------------------------------------------------------\n",
      "const                                     -7759.5954  3070.3320 -2.5273 0.0196 -14144.7004  -1374.4905\n",
      "cross_visitation                          84822.0029 41966.6178  2.0212 0.0562  -2452.3565 172096.3623\n",
      "rank                                       1057.2469   312.5336  3.3828 0.0028    407.2977   1707.1961\n",
      "category_best_salary_accounts_helmycash       0.0000     0.0000     nan    nan      0.0000      0.0000\n",
      "category_best_savings_accounts_helpmycash     0.0000     0.0000     nan    nan      0.0000      0.0000\n",
      "incentive                                     0.0000     0.0000     nan    nan      0.0000      0.0000\n",
      "apr                                           0.0000     0.0000     nan    nan      0.0000      0.0000\n",
      "mentions                                   1461.7336   767.5966  1.9043 0.0707   -134.5709   3058.0381\n",
      "------------------------------------------------------------------------------------------------------\n",
      "Omnibus:                           6.111                    Durbin-Watson:                       1.567\n",
      "Prob(Omnibus):                     0.047                    Jarque-Bera (JB):                    4.057\n",
      "Skew:                              0.852                    Prob(JB):                            0.132\n",
      "Kurtosis:                          3.996                    Condition No.:                       inf  \n",
      "======================================================================================================\n",
      "Notes:\n",
      "[1] Standard Errors assume that the covariance matrix of the errors is correctly specified.\n",
      "[2] The smallest eigenvalue is      0. This might indicate that                there are strong\n",
      "multicollinearity problems or that the design                matrix is singular.\n",
      "Results for bank: openbank\n",
      "                                   Results: Ordinary least squares\n",
      "=====================================================================================================\n",
      "Model:                          OLS                         Adj. R-squared:                0.006     \n",
      "Dependent Variable:             web_traffic                 AIC:                           1500.6523 \n",
      "Date:                           2024-06-13 13:57            BIC:                           1514.5573 \n",
      "No. Observations:               75                          Log-Likelihood:                -744.33   \n",
      "Df Model:                       5                           F-statistic:                   1.093     \n",
      "Df Residuals:                   69                          Prob (F-statistic):            0.372     \n",
      "R-squared:                      0.073                       Scale:                         2.6541e+07\n",
      "-----------------------------------------------------------------------------------------------------\n",
      "                                            Coef.     Std.Err.     t    P>|t|    [0.025      0.975]  \n",
      "-----------------------------------------------------------------------------------------------------\n",
      "const                                      3988.6135  6100.8753  0.6538 0.5154 -8182.2998  16159.5268\n",
      "cross_visitation                          83786.8601 45828.7330  1.8283 0.0718 -7638.9606 175212.6809\n",
      "rank                                        766.9014   380.6155  2.0149 0.0478     7.5943   1526.2085\n",
      "category_best_salary_accounts_helmycash     429.4648  1472.6551  0.2916 0.7714 -2508.4018   3367.3313\n",
      "category_best_savings_accounts_helpmycash  1161.6155  1567.0514  0.7413 0.4610 -1964.5665   4287.7974\n",
      "incentive                                     0.0000     0.0000     nan    nan     0.0000      0.0000\n",
      "apr                                           0.0000     0.0000     nan    nan     0.0000      0.0000\n",
      "mentions                                    -98.3868   314.7380 -0.3126 0.7555  -726.2719    529.4984\n",
      "-----------------------------------------------------------------------------------------------------\n",
      "Omnibus:                          0.897                    Durbin-Watson:                       0.703\n",
      "Prob(Omnibus):                    0.639                    Jarque-Bera (JB):                    0.606\n",
      "Skew:                             0.219                    Prob(JB):                            0.738\n",
      "Kurtosis:                         3.050                    Condition No.:                       inf  \n",
      "=====================================================================================================\n",
      "Notes:\n",
      "[1] Standard Errors assume that the covariance matrix of the errors is correctly specified.\n",
      "[2] The smallest eigenvalue is      0. This might indicate that                there are strong\n",
      "multicollinearity problems or that the design                matrix is singular.\n",
      "Results for bank: myinvestor\n",
      "                                   Results: Ordinary least squares\n",
      "======================================================================================================\n",
      "Model:                           OLS                         Adj. R-squared:                0.513     \n",
      "Dependent Variable:              web_traffic                 AIC:                           474.9546  \n",
      "Date:                            2024-06-13 13:57            BIC:                           479.8301  \n",
      "No. Observations:                25                          Log-Likelihood:                -233.48   \n",
      "Df Model:                        3                           F-statistic:                   9.431     \n",
      "Df Residuals:                    21                          Prob (F-statistic):            0.000380  \n",
      "R-squared:                       0.574                       Scale:                         9.0173e+06\n",
      "------------------------------------------------------------------------------------------------------\n",
      "                                            Coef.     Std.Err.     t    P>|t|     [0.025      0.975]  \n",
      "------------------------------------------------------------------------------------------------------\n",
      "cross_visitation                          52944.9685 53166.2490  0.9958 0.3307 -57620.2990 163510.2359\n",
      "rank                                        966.3996   287.2364  3.3645 0.0029    369.0589   1563.7403\n",
      "category_best_salary_accounts_helmycash       0.0000     0.0000  1.0544 0.3037     -0.0000      0.0000\n",
      "category_best_savings_accounts_helpmycash -3275.1619  3230.0298 -1.0140 0.3221  -9992.3766   3442.0527\n",
      "incentive                                     0.0000     0.0000     nan    nan      0.0000      0.0000\n",
      "apr                                           0.0000     0.0000     nan    nan      0.0000      0.0000\n",
      "mentions                                    583.4922   247.7155  2.3555 0.0283     68.3396   1098.6448\n",
      "------------------------------------------------------------------------------------------------------\n",
      "Omnibus:                           3.485                    Durbin-Watson:                       1.043\n",
      "Prob(Omnibus):                     0.175                    Jarque-Bera (JB):                    2.078\n",
      "Skew:                              0.679                    Prob(JB):                            0.354\n",
      "Kurtosis:                          3.386                    Condition No.:                       inf  \n",
      "======================================================================================================\n",
      "Notes:\n",
      "[1] Standard Errors assume that the covariance matrix of the errors is correctly specified.\n",
      "[2] The smallest eigenvalue is      0. This might indicate that                there are strong\n",
      "multicollinearity problems or that the design                matrix is singular.\n",
      "Results for bank: bankinter\n",
      "                                     Results: Ordinary least squares\n",
      "=========================================================================================================\n",
      "Model:                            OLS                          Adj. R-squared:                 0.247     \n",
      "Dependent Variable:               web_traffic                  AIC:                            1450.1756 \n",
      "Date:                             2024-06-13 13:57             BIC:                            1466.3980 \n",
      "No. Observations:                 75                           Log-Likelihood:                 -718.09   \n",
      "Df Model:                         6                            F-statistic:                    5.050     \n",
      "Df Residuals:                     68                           Prob (F-statistic):             0.000246  \n",
      "R-squared:                        0.308                        Scale:                          1.3378e+07\n",
      "---------------------------------------------------------------------------------------------------------\n",
      "                                             Coef.      Std.Err.     t    P>|t|     [0.025       0.975]  \n",
      "---------------------------------------------------------------------------------------------------------\n",
      "const                                       26074.8737  4863.5510  5.3613 0.0000   16369.8089  35779.9386\n",
      "cross_visitation                          -157096.1322 45686.5443 -3.4386 0.0010 -248262.2118 -65930.0526\n",
      "rank                                          927.6395   285.2200  3.2524 0.0018     358.4918   1496.7872\n",
      "category_best_salary_accounts_helmycash       519.4781  1046.7759  0.4963 0.6213   -1569.3307   2608.2869\n",
      "category_best_savings_accounts_helpmycash     630.7949  1052.5420  0.5993 0.5510   -1469.5201   2731.1098\n",
      "incentive                                      -7.2608     4.1869 -1.7341 0.0874     -15.6157      1.0942\n",
      "apr                                             0.0000     0.0000     nan    nan       0.0000      0.0000\n",
      "mentions                                     -749.9725   345.9620 -2.1678 0.0337   -1440.3289    -59.6161\n",
      "---------------------------------------------------------------------------------------------------------\n",
      "Omnibus:                            5.063                     Durbin-Watson:                        0.658\n",
      "Prob(Omnibus):                      0.080                     Jarque-Bera (JB):                     5.181\n",
      "Skew:                               0.322                     Prob(JB):                             0.075\n",
      "Kurtosis:                           4.115                     Condition No.:                        inf  \n",
      "=========================================================================================================\n",
      "Notes:\n",
      "[1] Standard Errors assume that the covariance matrix of the errors is correctly specified.\n",
      "[2] The smallest eigenvalue is      0. This might indicate that                there are strong\n",
      "multicollinearity problems or that the design                matrix is singular.\n",
      "Results for bank: evobanco\n",
      "                                   Results: Ordinary least squares\n",
      "=====================================================================================================\n",
      "Model:                          OLS                         Adj. R-squared:                0.274     \n",
      "Dependent Variable:             web_traffic                 AIC:                           1822.0277 \n",
      "Date:                           2024-06-13 13:57            BIC:                           1837.6587 \n",
      "No. Observations:               100                         Log-Likelihood:                -905.01   \n",
      "Df Model:                       5                           F-statistic:                   8.465     \n",
      "Df Residuals:                   94                          Prob (F-statistic):            1.21e-06  \n",
      "R-squared:                      0.310                       Scale:                         4.5211e+06\n",
      "-----------------------------------------------------------------------------------------------------\n",
      "                                            Coef.     Std.Err.     t    P>|t|    [0.025      0.975]  \n",
      "-----------------------------------------------------------------------------------------------------\n",
      "const                                     -2423.5036  1864.2075 -1.3000 0.1968 -6124.9313   1277.9242\n",
      "cross_visitation                          97350.1382 27569.6923  3.5311 0.0006 42609.8678 152090.4085\n",
      "rank                                        313.5837   122.4134  2.5617 0.0120    70.5291    556.6384\n",
      "category_best_salary_accounts_helmycash     130.6936   603.5680  0.2165 0.8290 -1067.7049   1329.0921\n",
      "category_best_savings_accounts_helpmycash    17.8035   520.8809  0.0342 0.9728 -1016.4178   1052.0247\n",
      "incentive                                     0.0000     0.0000     nan    nan     0.0000      0.0000\n",
      "apr                                           0.0000     0.0000     nan    nan     0.0000      0.0000\n",
      "mentions                                    616.0292   139.0300  4.4309 0.0000   339.9819    892.0764\n",
      "-----------------------------------------------------------------------------------------------------\n",
      "Omnibus:                          13.722                   Durbin-Watson:                      0.327 \n",
      "Prob(Omnibus):                    0.001                    Jarque-Bera (JB):                   14.793\n",
      "Skew:                             0.871                    Prob(JB):                           0.001 \n",
      "Kurtosis:                         3.717                    Condition No.:                      inf   \n",
      "=====================================================================================================\n",
      "Notes:\n",
      "[1] Standard Errors assume that the covariance matrix of the errors is correctly specified.\n",
      "[2] The smallest eigenvalue is      0. This might indicate that                there are strong\n",
      "multicollinearity problems or that the design                matrix is singular.\n",
      "Results for bank: santander\n",
      "                                     Results: Ordinary least squares\n",
      "=========================================================================================================\n",
      "Model:                            OLS                          Adj. R-squared:                 0.178     \n",
      "Dependent Variable:               web_traffic                  AIC:                            1073.8205 \n",
      "Date:                             2024-06-13 13:57             BIC:                            1083.3806 \n",
      "No. Observations:                 50                           Log-Likelihood:                 -531.91   \n",
      "Df Model:                         4                            F-statistic:                    3.651     \n",
      "Df Residuals:                     45                           Prob (F-statistic):             0.0117    \n",
      "R-squared:                        0.245                        Scale:                          1.1311e+08\n",
      "---------------------------------------------------------------------------------------------------------\n",
      "                                             Coef.      Std.Err.     t    P>|t|     [0.025       0.975]  \n",
      "---------------------------------------------------------------------------------------------------------\n",
      "const                                      50188.6673  17834.1419  2.8142 0.0072   14268.8617  86108.4728\n",
      "cross_visitation                          -30319.7513 131322.8552 -0.2309 0.8185 -294817.5585 234178.0558\n",
      "rank                                       -1580.4667    453.3324 -3.4863 0.0011   -2493.5250   -667.4083\n",
      "category_best_salary_accounts_helmycash     -101.9656   3008.2963 -0.0339 0.9731   -6160.9853   5957.0541\n",
      "category_best_savings_accounts_helpmycash      0.0000      0.0000     nan    nan       0.0000      0.0000\n",
      "incentive                                      0.0000      0.0000     nan    nan       0.0000      0.0000\n",
      "apr                                            0.0000      0.0000     nan    nan       0.0000      0.0000\n",
      "mentions                                     396.6226   1062.1233  0.3734 0.7106   -1742.6036   2535.8488\n",
      "---------------------------------------------------------------------------------------------------------\n",
      "Omnibus:                            3.443                     Durbin-Watson:                        0.655\n",
      "Prob(Omnibus):                      0.179                     Jarque-Bera (JB):                     2.953\n",
      "Skew:                               0.595                     Prob(JB):                             0.228\n",
      "Kurtosis:                           2.973                     Condition No.:                        inf  \n",
      "=========================================================================================================\n",
      "Notes:\n",
      "[1] Standard Errors assume that the covariance matrix of the errors is correctly specified.\n",
      "[2] The smallest eigenvalue is      0. This might indicate that                there are strong\n",
      "multicollinearity problems or that the design                matrix is singular.\n"
     ]
    },
    {
     "name": "stderr",
     "output_type": "stream",
     "text": [
      "/Users/andrewbennett/Library/Python/3.9/lib/python/site-packages/statsmodels/regression/linear_model.py:1966: RuntimeWarning:\n",
      "\n",
      "divide by zero encountered in scalar divide\n",
      "\n",
      "/Users/andrewbennett/Library/Python/3.9/lib/python/site-packages/statsmodels/regression/linear_model.py:1966: RuntimeWarning:\n",
      "\n",
      "divide by zero encountered in scalar divide\n",
      "\n",
      "/Users/andrewbennett/Library/Python/3.9/lib/python/site-packages/statsmodels/regression/linear_model.py:1966: RuntimeWarning:\n",
      "\n",
      "divide by zero encountered in scalar divide\n",
      "\n",
      "/Users/andrewbennett/Library/Python/3.9/lib/python/site-packages/statsmodels/regression/linear_model.py:1966: RuntimeWarning:\n",
      "\n",
      "divide by zero encountered in scalar divide\n",
      "\n",
      "/Users/andrewbennett/Library/Python/3.9/lib/python/site-packages/statsmodels/regression/linear_model.py:1966: RuntimeWarning:\n",
      "\n",
      "divide by zero encountered in scalar divide\n",
      "\n",
      "/Users/andrewbennett/Library/Python/3.9/lib/python/site-packages/statsmodels/regression/linear_model.py:1966: RuntimeWarning:\n",
      "\n",
      "divide by zero encountered in scalar divide\n",
      "\n",
      "/Users/andrewbennett/Library/Python/3.9/lib/python/site-packages/statsmodels/regression/linear_model.py:1966: RuntimeWarning:\n",
      "\n",
      "divide by zero encountered in scalar divide\n",
      "\n",
      "/Users/andrewbennett/Library/Python/3.9/lib/python/site-packages/statsmodels/regression/linear_model.py:1966: RuntimeWarning:\n",
      "\n",
      "divide by zero encountered in scalar divide\n",
      "\n",
      "/Users/andrewbennett/Library/Python/3.9/lib/python/site-packages/statsmodels/regression/linear_model.py:1966: RuntimeWarning:\n",
      "\n",
      "divide by zero encountered in scalar divide\n",
      "\n",
      "/Users/andrewbennett/Library/Python/3.9/lib/python/site-packages/statsmodels/regression/linear_model.py:1966: RuntimeWarning:\n",
      "\n",
      "divide by zero encountered in scalar divide\n",
      "\n",
      "/Users/andrewbennett/Library/Python/3.9/lib/python/site-packages/statsmodels/regression/linear_model.py:1966: RuntimeWarning:\n",
      "\n",
      "divide by zero encountered in scalar divide\n",
      "\n"
     ]
    }
   ],
   "source": [
    "\n",
    "\n",
    "for bank in data['bank'].unique():\n",
    "    bank_data = data[data['bank'] == bank]\n",
    "    X = bank_data[ind_vars]\n",
    "    y = bank_data['web_traffic']\n",
    "    X = sm.add_constant(X)  # Add a constant term for the intercept\n",
    "    model = sm.OLS(y, X)\n",
    "    results = model.fit()\n",
    "    print(f\"Results for bank: {bank}\")\n",
    "    print(results.summary2())"
   ]
  },
  {
   "cell_type": "code",
   "execution_count": 56,
   "metadata": {},
   "outputs": [
    {
     "data": {
      "application/vnd.plotly.v1+json": {
       "config": {
        "plotlyServerURL": "https://plot.ly"
       },
       "data": [
        {
         "mode": "lines",
         "name": "web_traffic",
         "type": "scatter",
         "x": [
          "2021-12-01",
          "2021-12-01",
          "2021-12-01",
          "2022-01-01",
          "2022-01-01",
          "2022-01-01",
          "2022-02-01",
          "2022-02-01",
          "2022-02-01",
          "2022-03-01",
          "2022-03-01",
          "2022-03-01",
          "2022-04-01",
          "2022-04-01",
          "2022-04-01",
          "2022-05-01",
          "2022-05-01",
          "2022-05-01",
          "2022-06-01",
          "2022-06-01",
          "2022-06-01",
          "2022-07-01",
          "2022-07-01",
          "2022-07-01",
          "2022-08-01",
          "2022-08-01",
          "2022-08-01",
          "2022-09-01",
          "2022-09-01",
          "2022-09-01",
          "2022-10-01",
          "2022-10-01",
          "2022-10-01",
          "2022-11-01",
          "2022-11-01",
          "2022-11-01",
          "2022-12-01",
          "2022-12-01",
          "2022-12-01",
          "2023-01-01",
          "2023-01-01",
          "2023-01-01",
          "2023-02-01",
          "2023-02-01",
          "2023-02-01",
          "2023-03-01",
          "2023-03-01",
          "2023-03-01",
          "2023-04-01",
          "2023-04-01",
          "2023-04-01",
          "2023-05-01",
          "2023-05-01",
          "2023-05-01",
          "2023-06-01",
          "2023-06-01",
          "2023-06-01",
          "2023-07-01",
          "2023-07-01",
          "2023-07-01",
          "2023-08-01",
          "2023-08-01",
          "2023-08-01",
          "2023-09-01",
          "2023-09-01",
          "2023-09-01",
          "2023-10-01",
          "2023-10-01",
          "2023-10-01",
          "2023-11-01",
          "2023-11-01",
          "2023-11-01",
          "2023-12-01",
          "2023-12-01",
          "2023-12-01"
         ],
         "y": [
          15202.983834522543,
          15202.983834522543,
          15202.983834522543,
          42183.91320722453,
          42183.91320722453,
          42183.91320722453,
          34498.1531146278,
          34498.1531146278,
          34498.1531146278,
          34546.3190212837,
          34546.3190212837,
          34546.3190212837,
          40508.28841987453,
          40508.28841987453,
          40508.28841987453,
          29791.338180302395,
          29791.338180302395,
          29791.338180302395,
          35087.42368705404,
          35087.42368705404,
          35087.42368705404,
          61969.49930377689,
          61969.49930377689,
          61969.49930377689,
          53939.00396088239,
          53939.00396088239,
          53939.00396088239,
          50991.05641364365,
          50991.05641364365,
          50991.05641364365,
          50567.12709965697,
          50567.12709965697,
          50567.12709965697,
          54180.810910869746,
          54180.810910869746,
          54180.810910869746,
          68183.61257707448,
          68183.61257707448,
          68183.61257707448,
          72370.73482921092,
          72370.73482921092,
          72370.73482921092,
          49474.72580955974,
          49474.72580955974,
          49474.72580955974,
          57832.8125185439,
          57832.8125185439,
          57832.8125185439,
          52944.02634954544,
          52944.02634954544,
          52944.02634954544,
          57922.472646117,
          57922.472646117,
          57922.472646117,
          64628.532316185054,
          64628.532316185054,
          64628.532316185054,
          77975.9973211147,
          77975.9973211147,
          77975.9973211147,
          90688.23604806988,
          90688.23604806988,
          90688.23604806988,
          69082.3884196847,
          69082.3884196847,
          69082.3884196847,
          75669.22931640742,
          75669.22931640742,
          75669.22931640742,
          60025.43195222091,
          60025.43195222091,
          60025.43195222091,
          57677.13303408881,
          57677.13303408881,
          57677.13303408881
         ],
         "yaxis": "y"
        },
        {
         "mode": "lines",
         "name": "cross_visitation",
         "type": "scatter",
         "x": [
          "2021-12-01",
          "2021-12-01",
          "2021-12-01",
          "2022-01-01",
          "2022-01-01",
          "2022-01-01",
          "2022-02-01",
          "2022-02-01",
          "2022-02-01",
          "2022-03-01",
          "2022-03-01",
          "2022-03-01",
          "2022-04-01",
          "2022-04-01",
          "2022-04-01",
          "2022-05-01",
          "2022-05-01",
          "2022-05-01",
          "2022-06-01",
          "2022-06-01",
          "2022-06-01",
          "2022-07-01",
          "2022-07-01",
          "2022-07-01",
          "2022-08-01",
          "2022-08-01",
          "2022-08-01",
          "2022-09-01",
          "2022-09-01",
          "2022-09-01",
          "2022-10-01",
          "2022-10-01",
          "2022-10-01",
          "2022-11-01",
          "2022-11-01",
          "2022-11-01",
          "2022-12-01",
          "2022-12-01",
          "2022-12-01",
          "2023-01-01",
          "2023-01-01",
          "2023-01-01",
          "2023-02-01",
          "2023-02-01",
          "2023-02-01",
          "2023-03-01",
          "2023-03-01",
          "2023-03-01",
          "2023-04-01",
          "2023-04-01",
          "2023-04-01",
          "2023-05-01",
          "2023-05-01",
          "2023-05-01",
          "2023-06-01",
          "2023-06-01",
          "2023-06-01",
          "2023-07-01",
          "2023-07-01",
          "2023-07-01",
          "2023-08-01",
          "2023-08-01",
          "2023-08-01",
          "2023-09-01",
          "2023-09-01",
          "2023-09-01",
          "2023-10-01",
          "2023-10-01",
          "2023-10-01",
          "2023-11-01",
          "2023-11-01",
          "2023-11-01",
          "2023-12-01",
          "2023-12-01",
          "2023-12-01"
         ],
         "y": [
          0.0779944285750389,
          0.0779944285750389,
          0.0779944285750389,
          0.0625,
          0.0625,
          0.0625,
          0.0522875823080539,
          0.0522875823080539,
          0.0522875823080539,
          0.061503417789936,
          0.061503417789936,
          0.061503417789936,
          0.0502215661108493,
          0.0502215661108493,
          0.0502215661108493,
          0.0582959651947021,
          0.0582959651947021,
          0.0582959651947021,
          0.0548387095332145,
          0.0548387095332145,
          0.0548387095332145,
          0.06050955504179,
          0.06050955504179,
          0.06050955504179,
          0.0706521719694137,
          0.0706521719694137,
          0.0706521719694137,
          0.0602150522172451,
          0.0602150522172451,
          0.0602150522172451,
          0.0815771743655204,
          0.0815771743655204,
          0.0815771743655204,
          0.0604026839137077,
          0.0604026839137077,
          0.0604026839137077,
          0.0726643577218055,
          0.0726643577218055,
          0.0726643577218055,
          0.0653357505798339,
          0.0653357505798339,
          0.0653357505798339,
          0.0618705041706562,
          0.0618705041706562,
          0.0618705041706562,
          0.0521500445902347,
          0.0521500445902347,
          0.0521500445902347,
          0.0465116277337074,
          0.0465116277337074,
          0.0465116277337074,
          0.0531177818775177,
          0.0531177818775177,
          0.0531177818775177,
          0.0518134720623493,
          0.0518134720623493,
          0.0518134720623493,
          0.0710227265954017,
          0.0710227265954017,
          0.0710227265954017,
          0.0683760717511177,
          0.0683760717511177,
          0.0683760717511177,
          0.0637393742799758,
          0.0637393742799758,
          0.0637393742799758,
          0.072727270424366,
          0.072727270424366,
          0.072727270424366,
          0.0672268941998481,
          0.0672268941998481,
          0.0672268941998481,
          0.0894039720296859,
          0.0894039720296859,
          0.0894039720296859
         ],
         "yaxis": "y2"
        },
        {
         "mode": "lines",
         "name": "rank",
         "type": "scatter",
         "x": [
          "2021-12-01",
          "2021-12-01",
          "2021-12-01",
          "2022-01-01",
          "2022-01-01",
          "2022-01-01",
          "2022-02-01",
          "2022-02-01",
          "2022-02-01",
          "2022-03-01",
          "2022-03-01",
          "2022-03-01",
          "2022-04-01",
          "2022-04-01",
          "2022-04-01",
          "2022-05-01",
          "2022-05-01",
          "2022-05-01",
          "2022-06-01",
          "2022-06-01",
          "2022-06-01",
          "2022-07-01",
          "2022-07-01",
          "2022-07-01",
          "2022-08-01",
          "2022-08-01",
          "2022-08-01",
          "2022-09-01",
          "2022-09-01",
          "2022-09-01",
          "2022-10-01",
          "2022-10-01",
          "2022-10-01",
          "2022-11-01",
          "2022-11-01",
          "2022-11-01",
          "2022-12-01",
          "2022-12-01",
          "2022-12-01",
          "2023-01-01",
          "2023-01-01",
          "2023-01-01",
          "2023-02-01",
          "2023-02-01",
          "2023-02-01",
          "2023-03-01",
          "2023-03-01",
          "2023-03-01",
          "2023-04-01",
          "2023-04-01",
          "2023-04-01",
          "2023-05-01",
          "2023-05-01",
          "2023-05-01",
          "2023-06-01",
          "2023-06-01",
          "2023-06-01",
          "2023-07-01",
          "2023-07-01",
          "2023-07-01",
          "2023-08-01",
          "2023-08-01",
          "2023-08-01",
          "2023-09-01",
          "2023-09-01",
          "2023-09-01",
          "2023-10-01",
          "2023-10-01",
          "2023-10-01",
          "2023-11-01",
          "2023-11-01",
          "2023-11-01",
          "2023-12-01",
          "2023-12-01",
          "2023-12-01"
         ],
         "y": [
          4,
          4,
          4,
          4,
          4,
          4,
          4,
          4,
          4,
          4,
          4,
          4,
          4,
          4,
          4,
          4,
          3,
          3,
          6,
          2,
          2,
          6,
          3,
          3,
          5,
          4,
          4,
          6,
          4,
          4,
          4,
          4,
          4,
          4,
          4,
          4,
          5,
          5,
          5,
          4,
          3,
          3,
          4,
          3,
          3,
          4,
          4,
          8,
          8,
          8,
          8,
          8,
          8,
          8,
          8,
          8,
          8,
          8,
          8,
          8,
          4,
          7,
          7,
          7,
          7,
          7,
          7,
          7,
          7,
          5.470588235294118,
          3,
          3,
          5.354838709677419,
          3,
          3
         ],
         "yaxis": "y2"
        },
        {
         "mode": "lines",
         "name": "category_best_salary_accounts_helmycash",
         "type": "scatter",
         "x": [
          "2021-12-01",
          "2021-12-01",
          "2021-12-01",
          "2022-01-01",
          "2022-01-01",
          "2022-01-01",
          "2022-02-01",
          "2022-02-01",
          "2022-02-01",
          "2022-03-01",
          "2022-03-01",
          "2022-03-01",
          "2022-04-01",
          "2022-04-01",
          "2022-04-01",
          "2022-05-01",
          "2022-05-01",
          "2022-05-01",
          "2022-06-01",
          "2022-06-01",
          "2022-06-01",
          "2022-07-01",
          "2022-07-01",
          "2022-07-01",
          "2022-08-01",
          "2022-08-01",
          "2022-08-01",
          "2022-09-01",
          "2022-09-01",
          "2022-09-01",
          "2022-10-01",
          "2022-10-01",
          "2022-10-01",
          "2022-11-01",
          "2022-11-01",
          "2022-11-01",
          "2022-12-01",
          "2022-12-01",
          "2022-12-01",
          "2023-01-01",
          "2023-01-01",
          "2023-01-01",
          "2023-02-01",
          "2023-02-01",
          "2023-02-01",
          "2023-03-01",
          "2023-03-01",
          "2023-03-01",
          "2023-04-01",
          "2023-04-01",
          "2023-04-01",
          "2023-05-01",
          "2023-05-01",
          "2023-05-01",
          "2023-06-01",
          "2023-06-01",
          "2023-06-01",
          "2023-07-01",
          "2023-07-01",
          "2023-07-01",
          "2023-08-01",
          "2023-08-01",
          "2023-08-01",
          "2023-09-01",
          "2023-09-01",
          "2023-09-01",
          "2023-10-01",
          "2023-10-01",
          "2023-10-01",
          "2023-11-01",
          "2023-11-01",
          "2023-11-01",
          "2023-12-01",
          "2023-12-01",
          "2023-12-01"
         ],
         "y": [
          0,
          1,
          0,
          0,
          1,
          0,
          0,
          1,
          0,
          0,
          1,
          0,
          0,
          1,
          0,
          0,
          1,
          0,
          0,
          1,
          0,
          0,
          1,
          0,
          0,
          1,
          0,
          0,
          1,
          0,
          0,
          1,
          0,
          0,
          1,
          0,
          0,
          1,
          0,
          0,
          1,
          0,
          0,
          1,
          0,
          0,
          1,
          0,
          0,
          1,
          0,
          0,
          1,
          0,
          0,
          1,
          0,
          0,
          1,
          0,
          0,
          1,
          0,
          0,
          1,
          0,
          0,
          1,
          0,
          0,
          1,
          0,
          0,
          1,
          0
         ],
         "yaxis": "y2"
        },
        {
         "mode": "lines",
         "name": "category_best_savings_accounts_helpmycash",
         "type": "scatter",
         "x": [
          "2021-12-01",
          "2021-12-01",
          "2021-12-01",
          "2022-01-01",
          "2022-01-01",
          "2022-01-01",
          "2022-02-01",
          "2022-02-01",
          "2022-02-01",
          "2022-03-01",
          "2022-03-01",
          "2022-03-01",
          "2022-04-01",
          "2022-04-01",
          "2022-04-01",
          "2022-05-01",
          "2022-05-01",
          "2022-05-01",
          "2022-06-01",
          "2022-06-01",
          "2022-06-01",
          "2022-07-01",
          "2022-07-01",
          "2022-07-01",
          "2022-08-01",
          "2022-08-01",
          "2022-08-01",
          "2022-09-01",
          "2022-09-01",
          "2022-09-01",
          "2022-10-01",
          "2022-10-01",
          "2022-10-01",
          "2022-11-01",
          "2022-11-01",
          "2022-11-01",
          "2022-12-01",
          "2022-12-01",
          "2022-12-01",
          "2023-01-01",
          "2023-01-01",
          "2023-01-01",
          "2023-02-01",
          "2023-02-01",
          "2023-02-01",
          "2023-03-01",
          "2023-03-01",
          "2023-03-01",
          "2023-04-01",
          "2023-04-01",
          "2023-04-01",
          "2023-05-01",
          "2023-05-01",
          "2023-05-01",
          "2023-06-01",
          "2023-06-01",
          "2023-06-01",
          "2023-07-01",
          "2023-07-01",
          "2023-07-01",
          "2023-08-01",
          "2023-08-01",
          "2023-08-01",
          "2023-09-01",
          "2023-09-01",
          "2023-09-01",
          "2023-10-01",
          "2023-10-01",
          "2023-10-01",
          "2023-11-01",
          "2023-11-01",
          "2023-11-01",
          "2023-12-01",
          "2023-12-01",
          "2023-12-01"
         ],
         "y": [
          0,
          0,
          1,
          0,
          0,
          1,
          0,
          0,
          1,
          0,
          0,
          1,
          0,
          0,
          1,
          0,
          0,
          1,
          0,
          0,
          1,
          0,
          0,
          1,
          0,
          0,
          1,
          0,
          0,
          1,
          0,
          0,
          1,
          0,
          0,
          1,
          0,
          0,
          1,
          0,
          0,
          1,
          0,
          0,
          1,
          0,
          0,
          1,
          0,
          0,
          1,
          0,
          0,
          1,
          0,
          0,
          1,
          0,
          0,
          1,
          0,
          0,
          1,
          0,
          0,
          1,
          0,
          0,
          1,
          0,
          0,
          1,
          0,
          0,
          1
         ],
         "yaxis": "y2"
        },
        {
         "mode": "lines",
         "name": "incentive",
         "type": "scatter",
         "x": [
          "2021-12-01",
          "2021-12-01",
          "2021-12-01",
          "2022-01-01",
          "2022-01-01",
          "2022-01-01",
          "2022-02-01",
          "2022-02-01",
          "2022-02-01",
          "2022-03-01",
          "2022-03-01",
          "2022-03-01",
          "2022-04-01",
          "2022-04-01",
          "2022-04-01",
          "2022-05-01",
          "2022-05-01",
          "2022-05-01",
          "2022-06-01",
          "2022-06-01",
          "2022-06-01",
          "2022-07-01",
          "2022-07-01",
          "2022-07-01",
          "2022-08-01",
          "2022-08-01",
          "2022-08-01",
          "2022-09-01",
          "2022-09-01",
          "2022-09-01",
          "2022-10-01",
          "2022-10-01",
          "2022-10-01",
          "2022-11-01",
          "2022-11-01",
          "2022-11-01",
          "2022-12-01",
          "2022-12-01",
          "2022-12-01",
          "2023-01-01",
          "2023-01-01",
          "2023-01-01",
          "2023-02-01",
          "2023-02-01",
          "2023-02-01",
          "2023-03-01",
          "2023-03-01",
          "2023-03-01",
          "2023-04-01",
          "2023-04-01",
          "2023-04-01",
          "2023-05-01",
          "2023-05-01",
          "2023-05-01",
          "2023-06-01",
          "2023-06-01",
          "2023-06-01",
          "2023-07-01",
          "2023-07-01",
          "2023-07-01",
          "2023-08-01",
          "2023-08-01",
          "2023-08-01",
          "2023-09-01",
          "2023-09-01",
          "2023-09-01",
          "2023-10-01",
          "2023-10-01",
          "2023-10-01",
          "2023-11-01",
          "2023-11-01",
          "2023-11-01",
          "2023-12-01",
          "2023-12-01",
          "2023-12-01"
         ],
         "y": [
          0,
          0,
          0,
          0,
          0,
          0,
          0,
          0,
          0,
          0,
          0,
          0,
          0,
          0,
          0,
          0,
          0,
          0,
          0,
          0,
          0,
          0,
          0,
          0,
          0,
          0,
          0,
          0,
          0,
          0,
          0,
          0,
          0,
          0,
          0,
          0,
          0,
          0,
          0,
          0,
          0,
          0,
          0,
          0,
          0,
          0,
          0,
          0,
          0,
          0,
          0,
          0,
          0,
          0,
          0,
          0,
          0,
          0,
          0,
          0,
          0,
          0,
          0,
          0,
          0,
          0,
          0,
          0,
          0,
          0,
          0,
          0,
          0,
          0,
          0
         ],
         "yaxis": "y2"
        },
        {
         "mode": "lines",
         "name": "apr",
         "type": "scatter",
         "x": [
          "2021-12-01",
          "2021-12-01",
          "2021-12-01",
          "2022-01-01",
          "2022-01-01",
          "2022-01-01",
          "2022-02-01",
          "2022-02-01",
          "2022-02-01",
          "2022-03-01",
          "2022-03-01",
          "2022-03-01",
          "2022-04-01",
          "2022-04-01",
          "2022-04-01",
          "2022-05-01",
          "2022-05-01",
          "2022-05-01",
          "2022-06-01",
          "2022-06-01",
          "2022-06-01",
          "2022-07-01",
          "2022-07-01",
          "2022-07-01",
          "2022-08-01",
          "2022-08-01",
          "2022-08-01",
          "2022-09-01",
          "2022-09-01",
          "2022-09-01",
          "2022-10-01",
          "2022-10-01",
          "2022-10-01",
          "2022-11-01",
          "2022-11-01",
          "2022-11-01",
          "2022-12-01",
          "2022-12-01",
          "2022-12-01",
          "2023-01-01",
          "2023-01-01",
          "2023-01-01",
          "2023-02-01",
          "2023-02-01",
          "2023-02-01",
          "2023-03-01",
          "2023-03-01",
          "2023-03-01",
          "2023-04-01",
          "2023-04-01",
          "2023-04-01",
          "2023-05-01",
          "2023-05-01",
          "2023-05-01",
          "2023-06-01",
          "2023-06-01",
          "2023-06-01",
          "2023-07-01",
          "2023-07-01",
          "2023-07-01",
          "2023-08-01",
          "2023-08-01",
          "2023-08-01",
          "2023-09-01",
          "2023-09-01",
          "2023-09-01",
          "2023-10-01",
          "2023-10-01",
          "2023-10-01",
          "2023-11-01",
          "2023-11-01",
          "2023-11-01",
          "2023-12-01",
          "2023-12-01",
          "2023-12-01"
         ],
         "y": [
          0,
          0,
          0,
          0,
          0,
          0,
          0,
          0,
          0,
          0,
          0,
          0,
          0,
          0,
          0,
          0,
          0,
          0,
          0,
          0,
          0,
          0,
          0,
          0,
          0,
          0,
          0,
          0,
          0,
          0,
          0,
          0,
          0,
          0,
          0,
          0,
          0,
          0,
          0,
          0,
          0,
          0,
          0,
          0,
          0,
          0,
          0,
          0,
          0,
          0,
          0,
          0,
          0,
          0,
          0,
          0,
          0,
          0,
          0,
          0,
          0,
          0,
          0,
          0,
          0,
          0,
          0,
          0,
          0,
          0,
          0,
          0,
          0,
          0,
          0
         ],
         "yaxis": "y2"
        },
        {
         "mode": "lines",
         "name": "mentions",
         "type": "scatter",
         "x": [
          "2021-12-01",
          "2021-12-01",
          "2021-12-01",
          "2022-01-01",
          "2022-01-01",
          "2022-01-01",
          "2022-02-01",
          "2022-02-01",
          "2022-02-01",
          "2022-03-01",
          "2022-03-01",
          "2022-03-01",
          "2022-04-01",
          "2022-04-01",
          "2022-04-01",
          "2022-05-01",
          "2022-05-01",
          "2022-05-01",
          "2022-06-01",
          "2022-06-01",
          "2022-06-01",
          "2022-07-01",
          "2022-07-01",
          "2022-07-01",
          "2022-08-01",
          "2022-08-01",
          "2022-08-01",
          "2022-09-01",
          "2022-09-01",
          "2022-09-01",
          "2022-10-01",
          "2022-10-01",
          "2022-10-01",
          "2022-11-01",
          "2022-11-01",
          "2022-11-01",
          "2022-12-01",
          "2022-12-01",
          "2022-12-01",
          "2023-01-01",
          "2023-01-01",
          "2023-01-01",
          "2023-02-01",
          "2023-02-01",
          "2023-02-01",
          "2023-03-01",
          "2023-03-01",
          "2023-03-01",
          "2023-04-01",
          "2023-04-01",
          "2023-04-01",
          "2023-05-01",
          "2023-05-01",
          "2023-05-01",
          "2023-06-01",
          "2023-06-01",
          "2023-06-01",
          "2023-07-01",
          "2023-07-01",
          "2023-07-01",
          "2023-08-01",
          "2023-08-01",
          "2023-08-01",
          "2023-09-01",
          "2023-09-01",
          "2023-09-01",
          "2023-10-01",
          "2023-10-01",
          "2023-10-01",
          "2023-11-01",
          "2023-11-01",
          "2023-11-01",
          "2023-12-01",
          "2023-12-01",
          "2023-12-01"
         ],
         "y": [
          1,
          1,
          1,
          1,
          1,
          1,
          2,
          2,
          2,
          2,
          2,
          2,
          2,
          2,
          2,
          2,
          2,
          2,
          0,
          0,
          0,
          1,
          1,
          1,
          0,
          0,
          0,
          3,
          3,
          3,
          0,
          0,
          0,
          0,
          0,
          0,
          1,
          1,
          1,
          0,
          0,
          0,
          0,
          0,
          0,
          1,
          1,
          1,
          3,
          3,
          3,
          1,
          1,
          1,
          1,
          1,
          1,
          1,
          1,
          1,
          1,
          1,
          1,
          0,
          0,
          0,
          1,
          1,
          1,
          1,
          1,
          1,
          0,
          0,
          0
         ],
         "yaxis": "y2"
        }
       ],
       "layout": {
        "legend": {
         "x": 1.1,
         "y": 1
        },
        "template": {
         "data": {
          "bar": [
           {
            "error_x": {
             "color": "#2a3f5f"
            },
            "error_y": {
             "color": "#2a3f5f"
            },
            "marker": {
             "line": {
              "color": "#E5ECF6",
              "width": 0.5
             },
             "pattern": {
              "fillmode": "overlay",
              "size": 10,
              "solidity": 0.2
             }
            },
            "type": "bar"
           }
          ],
          "barpolar": [
           {
            "marker": {
             "line": {
              "color": "#E5ECF6",
              "width": 0.5
             },
             "pattern": {
              "fillmode": "overlay",
              "size": 10,
              "solidity": 0.2
             }
            },
            "type": "barpolar"
           }
          ],
          "carpet": [
           {
            "aaxis": {
             "endlinecolor": "#2a3f5f",
             "gridcolor": "white",
             "linecolor": "white",
             "minorgridcolor": "white",
             "startlinecolor": "#2a3f5f"
            },
            "baxis": {
             "endlinecolor": "#2a3f5f",
             "gridcolor": "white",
             "linecolor": "white",
             "minorgridcolor": "white",
             "startlinecolor": "#2a3f5f"
            },
            "type": "carpet"
           }
          ],
          "choropleth": [
           {
            "colorbar": {
             "outlinewidth": 0,
             "ticks": ""
            },
            "type": "choropleth"
           }
          ],
          "contour": [
           {
            "colorbar": {
             "outlinewidth": 0,
             "ticks": ""
            },
            "colorscale": [
             [
              0,
              "#0d0887"
             ],
             [
              0.1111111111111111,
              "#46039f"
             ],
             [
              0.2222222222222222,
              "#7201a8"
             ],
             [
              0.3333333333333333,
              "#9c179e"
             ],
             [
              0.4444444444444444,
              "#bd3786"
             ],
             [
              0.5555555555555556,
              "#d8576b"
             ],
             [
              0.6666666666666666,
              "#ed7953"
             ],
             [
              0.7777777777777778,
              "#fb9f3a"
             ],
             [
              0.8888888888888888,
              "#fdca26"
             ],
             [
              1,
              "#f0f921"
             ]
            ],
            "type": "contour"
           }
          ],
          "contourcarpet": [
           {
            "colorbar": {
             "outlinewidth": 0,
             "ticks": ""
            },
            "type": "contourcarpet"
           }
          ],
          "heatmap": [
           {
            "colorbar": {
             "outlinewidth": 0,
             "ticks": ""
            },
            "colorscale": [
             [
              0,
              "#0d0887"
             ],
             [
              0.1111111111111111,
              "#46039f"
             ],
             [
              0.2222222222222222,
              "#7201a8"
             ],
             [
              0.3333333333333333,
              "#9c179e"
             ],
             [
              0.4444444444444444,
              "#bd3786"
             ],
             [
              0.5555555555555556,
              "#d8576b"
             ],
             [
              0.6666666666666666,
              "#ed7953"
             ],
             [
              0.7777777777777778,
              "#fb9f3a"
             ],
             [
              0.8888888888888888,
              "#fdca26"
             ],
             [
              1,
              "#f0f921"
             ]
            ],
            "type": "heatmap"
           }
          ],
          "heatmapgl": [
           {
            "colorbar": {
             "outlinewidth": 0,
             "ticks": ""
            },
            "colorscale": [
             [
              0,
              "#0d0887"
             ],
             [
              0.1111111111111111,
              "#46039f"
             ],
             [
              0.2222222222222222,
              "#7201a8"
             ],
             [
              0.3333333333333333,
              "#9c179e"
             ],
             [
              0.4444444444444444,
              "#bd3786"
             ],
             [
              0.5555555555555556,
              "#d8576b"
             ],
             [
              0.6666666666666666,
              "#ed7953"
             ],
             [
              0.7777777777777778,
              "#fb9f3a"
             ],
             [
              0.8888888888888888,
              "#fdca26"
             ],
             [
              1,
              "#f0f921"
             ]
            ],
            "type": "heatmapgl"
           }
          ],
          "histogram": [
           {
            "marker": {
             "pattern": {
              "fillmode": "overlay",
              "size": 10,
              "solidity": 0.2
             }
            },
            "type": "histogram"
           }
          ],
          "histogram2d": [
           {
            "colorbar": {
             "outlinewidth": 0,
             "ticks": ""
            },
            "colorscale": [
             [
              0,
              "#0d0887"
             ],
             [
              0.1111111111111111,
              "#46039f"
             ],
             [
              0.2222222222222222,
              "#7201a8"
             ],
             [
              0.3333333333333333,
              "#9c179e"
             ],
             [
              0.4444444444444444,
              "#bd3786"
             ],
             [
              0.5555555555555556,
              "#d8576b"
             ],
             [
              0.6666666666666666,
              "#ed7953"
             ],
             [
              0.7777777777777778,
              "#fb9f3a"
             ],
             [
              0.8888888888888888,
              "#fdca26"
             ],
             [
              1,
              "#f0f921"
             ]
            ],
            "type": "histogram2d"
           }
          ],
          "histogram2dcontour": [
           {
            "colorbar": {
             "outlinewidth": 0,
             "ticks": ""
            },
            "colorscale": [
             [
              0,
              "#0d0887"
             ],
             [
              0.1111111111111111,
              "#46039f"
             ],
             [
              0.2222222222222222,
              "#7201a8"
             ],
             [
              0.3333333333333333,
              "#9c179e"
             ],
             [
              0.4444444444444444,
              "#bd3786"
             ],
             [
              0.5555555555555556,
              "#d8576b"
             ],
             [
              0.6666666666666666,
              "#ed7953"
             ],
             [
              0.7777777777777778,
              "#fb9f3a"
             ],
             [
              0.8888888888888888,
              "#fdca26"
             ],
             [
              1,
              "#f0f921"
             ]
            ],
            "type": "histogram2dcontour"
           }
          ],
          "mesh3d": [
           {
            "colorbar": {
             "outlinewidth": 0,
             "ticks": ""
            },
            "type": "mesh3d"
           }
          ],
          "parcoords": [
           {
            "line": {
             "colorbar": {
              "outlinewidth": 0,
              "ticks": ""
             }
            },
            "type": "parcoords"
           }
          ],
          "pie": [
           {
            "automargin": true,
            "type": "pie"
           }
          ],
          "scatter": [
           {
            "fillpattern": {
             "fillmode": "overlay",
             "size": 10,
             "solidity": 0.2
            },
            "type": "scatter"
           }
          ],
          "scatter3d": [
           {
            "line": {
             "colorbar": {
              "outlinewidth": 0,
              "ticks": ""
             }
            },
            "marker": {
             "colorbar": {
              "outlinewidth": 0,
              "ticks": ""
             }
            },
            "type": "scatter3d"
           }
          ],
          "scattercarpet": [
           {
            "marker": {
             "colorbar": {
              "outlinewidth": 0,
              "ticks": ""
             }
            },
            "type": "scattercarpet"
           }
          ],
          "scattergeo": [
           {
            "marker": {
             "colorbar": {
              "outlinewidth": 0,
              "ticks": ""
             }
            },
            "type": "scattergeo"
           }
          ],
          "scattergl": [
           {
            "marker": {
             "colorbar": {
              "outlinewidth": 0,
              "ticks": ""
             }
            },
            "type": "scattergl"
           }
          ],
          "scattermapbox": [
           {
            "marker": {
             "colorbar": {
              "outlinewidth": 0,
              "ticks": ""
             }
            },
            "type": "scattermapbox"
           }
          ],
          "scatterpolar": [
           {
            "marker": {
             "colorbar": {
              "outlinewidth": 0,
              "ticks": ""
             }
            },
            "type": "scatterpolar"
           }
          ],
          "scatterpolargl": [
           {
            "marker": {
             "colorbar": {
              "outlinewidth": 0,
              "ticks": ""
             }
            },
            "type": "scatterpolargl"
           }
          ],
          "scatterternary": [
           {
            "marker": {
             "colorbar": {
              "outlinewidth": 0,
              "ticks": ""
             }
            },
            "type": "scatterternary"
           }
          ],
          "surface": [
           {
            "colorbar": {
             "outlinewidth": 0,
             "ticks": ""
            },
            "colorscale": [
             [
              0,
              "#0d0887"
             ],
             [
              0.1111111111111111,
              "#46039f"
             ],
             [
              0.2222222222222222,
              "#7201a8"
             ],
             [
              0.3333333333333333,
              "#9c179e"
             ],
             [
              0.4444444444444444,
              "#bd3786"
             ],
             [
              0.5555555555555556,
              "#d8576b"
             ],
             [
              0.6666666666666666,
              "#ed7953"
             ],
             [
              0.7777777777777778,
              "#fb9f3a"
             ],
             [
              0.8888888888888888,
              "#fdca26"
             ],
             [
              1,
              "#f0f921"
             ]
            ],
            "type": "surface"
           }
          ],
          "table": [
           {
            "cells": {
             "fill": {
              "color": "#EBF0F8"
             },
             "line": {
              "color": "white"
             }
            },
            "header": {
             "fill": {
              "color": "#C8D4E3"
             },
             "line": {
              "color": "white"
             }
            },
            "type": "table"
           }
          ]
         },
         "layout": {
          "annotationdefaults": {
           "arrowcolor": "#2a3f5f",
           "arrowhead": 0,
           "arrowwidth": 1
          },
          "autotypenumbers": "strict",
          "coloraxis": {
           "colorbar": {
            "outlinewidth": 0,
            "ticks": ""
           }
          },
          "colorscale": {
           "diverging": [
            [
             0,
             "#8e0152"
            ],
            [
             0.1,
             "#c51b7d"
            ],
            [
             0.2,
             "#de77ae"
            ],
            [
             0.3,
             "#f1b6da"
            ],
            [
             0.4,
             "#fde0ef"
            ],
            [
             0.5,
             "#f7f7f7"
            ],
            [
             0.6,
             "#e6f5d0"
            ],
            [
             0.7,
             "#b8e186"
            ],
            [
             0.8,
             "#7fbc41"
            ],
            [
             0.9,
             "#4d9221"
            ],
            [
             1,
             "#276419"
            ]
           ],
           "sequential": [
            [
             0,
             "#0d0887"
            ],
            [
             0.1111111111111111,
             "#46039f"
            ],
            [
             0.2222222222222222,
             "#7201a8"
            ],
            [
             0.3333333333333333,
             "#9c179e"
            ],
            [
             0.4444444444444444,
             "#bd3786"
            ],
            [
             0.5555555555555556,
             "#d8576b"
            ],
            [
             0.6666666666666666,
             "#ed7953"
            ],
            [
             0.7777777777777778,
             "#fb9f3a"
            ],
            [
             0.8888888888888888,
             "#fdca26"
            ],
            [
             1,
             "#f0f921"
            ]
           ],
           "sequentialminus": [
            [
             0,
             "#0d0887"
            ],
            [
             0.1111111111111111,
             "#46039f"
            ],
            [
             0.2222222222222222,
             "#7201a8"
            ],
            [
             0.3333333333333333,
             "#9c179e"
            ],
            [
             0.4444444444444444,
             "#bd3786"
            ],
            [
             0.5555555555555556,
             "#d8576b"
            ],
            [
             0.6666666666666666,
             "#ed7953"
            ],
            [
             0.7777777777777778,
             "#fb9f3a"
            ],
            [
             0.8888888888888888,
             "#fdca26"
            ],
            [
             1,
             "#f0f921"
            ]
           ]
          },
          "colorway": [
           "#636efa",
           "#EF553B",
           "#00cc96",
           "#ab63fa",
           "#FFA15A",
           "#19d3f3",
           "#FF6692",
           "#B6E880",
           "#FF97FF",
           "#FECB52"
          ],
          "font": {
           "color": "#2a3f5f"
          },
          "geo": {
           "bgcolor": "white",
           "lakecolor": "white",
           "landcolor": "#E5ECF6",
           "showlakes": true,
           "showland": true,
           "subunitcolor": "white"
          },
          "hoverlabel": {
           "align": "left"
          },
          "hovermode": "closest",
          "mapbox": {
           "style": "light"
          },
          "paper_bgcolor": "white",
          "plot_bgcolor": "#E5ECF6",
          "polar": {
           "angularaxis": {
            "gridcolor": "white",
            "linecolor": "white",
            "ticks": ""
           },
           "bgcolor": "#E5ECF6",
           "radialaxis": {
            "gridcolor": "white",
            "linecolor": "white",
            "ticks": ""
           }
          },
          "scene": {
           "xaxis": {
            "backgroundcolor": "#E5ECF6",
            "gridcolor": "white",
            "gridwidth": 2,
            "linecolor": "white",
            "showbackground": true,
            "ticks": "",
            "zerolinecolor": "white"
           },
           "yaxis": {
            "backgroundcolor": "#E5ECF6",
            "gridcolor": "white",
            "gridwidth": 2,
            "linecolor": "white",
            "showbackground": true,
            "ticks": "",
            "zerolinecolor": "white"
           },
           "zaxis": {
            "backgroundcolor": "#E5ECF6",
            "gridcolor": "white",
            "gridwidth": 2,
            "linecolor": "white",
            "showbackground": true,
            "ticks": "",
            "zerolinecolor": "white"
           }
          },
          "shapedefaults": {
           "line": {
            "color": "#2a3f5f"
           }
          },
          "ternary": {
           "aaxis": {
            "gridcolor": "white",
            "linecolor": "white",
            "ticks": ""
           },
           "baxis": {
            "gridcolor": "white",
            "linecolor": "white",
            "ticks": ""
           },
           "bgcolor": "#E5ECF6",
           "caxis": {
            "gridcolor": "white",
            "linecolor": "white",
            "ticks": ""
           }
          },
          "title": {
           "x": 0.05
          },
          "xaxis": {
           "automargin": true,
           "gridcolor": "white",
           "linecolor": "white",
           "ticks": "",
           "title": {
            "standoff": 15
           },
           "zerolinecolor": "white",
           "zerolinewidth": 2
          },
          "yaxis": {
           "automargin": true,
           "gridcolor": "white",
           "linecolor": "white",
           "ticks": "",
           "title": {
            "standoff": 15
           },
           "zerolinecolor": "white",
           "zerolinewidth": 2
          }
         }
        },
        "title": {
         "text": "abanca Web Traffic and Independent Variables"
        },
        "xaxis": {
         "title": {
          "text": "Date"
         }
        },
        "yaxis": {
         "tickfont": {
          "color": "#000000"
         },
         "title": {
          "font": {
           "color": "#000000"
          },
          "text": "Web Traffic"
         }
        },
        "yaxis2": {
         "overlaying": "y",
         "side": "right",
         "tickfont": {
          "color": "#000000"
         },
         "title": {
          "font": {
           "color": "#000000"
          },
          "text": "Independent Variables"
         }
        }
       }
      }
     },
     "metadata": {},
     "output_type": "display_data"
    },
    {
     "data": {
      "application/vnd.plotly.v1+json": {
       "config": {
        "plotlyServerURL": "https://plot.ly"
       },
       "data": [
        {
         "mode": "lines",
         "name": "web_traffic",
         "type": "scatter",
         "x": [
          "2021-12-01",
          "2021-12-01",
          "2021-12-01",
          "2021-12-01",
          "2021-12-01",
          "2021-12-01",
          "2022-01-01",
          "2022-01-01",
          "2022-01-01",
          "2022-01-01",
          "2022-01-01",
          "2022-01-01",
          "2022-02-01",
          "2022-02-01",
          "2022-02-01",
          "2022-02-01",
          "2022-02-01",
          "2022-02-01",
          "2022-03-01",
          "2022-03-01",
          "2022-03-01",
          "2022-03-01",
          "2022-03-01",
          "2022-03-01",
          "2022-04-01",
          "2022-04-01",
          "2022-04-01",
          "2022-04-01",
          "2022-04-01",
          "2022-04-01",
          "2022-05-01",
          "2022-05-01",
          "2022-05-01",
          "2022-05-01",
          "2022-05-01",
          "2022-05-01",
          "2022-06-01",
          "2022-06-01",
          "2022-06-01",
          "2022-06-01",
          "2022-06-01",
          "2022-06-01",
          "2022-07-01",
          "2022-07-01",
          "2022-07-01",
          "2022-07-01",
          "2022-07-01",
          "2022-07-01",
          "2022-08-01",
          "2022-08-01",
          "2022-08-01",
          "2022-08-01",
          "2022-08-01",
          "2022-08-01",
          "2022-09-01",
          "2022-09-01",
          "2022-09-01",
          "2022-09-01",
          "2022-09-01",
          "2022-09-01",
          "2022-10-01",
          "2022-10-01",
          "2022-10-01",
          "2022-10-01",
          "2022-10-01",
          "2022-10-01",
          "2022-11-01",
          "2022-11-01",
          "2022-11-01",
          "2022-11-01",
          "2022-11-01",
          "2022-11-01",
          "2022-12-01",
          "2022-12-01",
          "2022-12-01",
          "2022-12-01",
          "2022-12-01",
          "2022-12-01",
          "2023-01-01",
          "2023-01-01",
          "2023-01-01",
          "2023-01-01",
          "2023-01-01",
          "2023-01-01",
          "2023-02-01",
          "2023-02-01",
          "2023-02-01",
          "2023-02-01",
          "2023-02-01",
          "2023-02-01",
          "2023-03-01",
          "2023-03-01",
          "2023-03-01",
          "2023-03-01",
          "2023-03-01",
          "2023-03-01",
          "2023-04-01",
          "2023-04-01",
          "2023-04-01",
          "2023-04-01",
          "2023-04-01",
          "2023-04-01",
          "2023-05-01",
          "2023-05-01",
          "2023-05-01",
          "2023-05-01",
          "2023-05-01",
          "2023-05-01",
          "2023-06-01",
          "2023-06-01",
          "2023-06-01",
          "2023-06-01",
          "2023-06-01",
          "2023-06-01",
          "2023-07-01",
          "2023-07-01",
          "2023-07-01",
          "2023-07-01",
          "2023-07-01",
          "2023-07-01",
          "2023-08-01",
          "2023-08-01",
          "2023-08-01",
          "2023-08-01",
          "2023-08-01",
          "2023-08-01",
          "2023-09-01",
          "2023-09-01",
          "2023-09-01",
          "2023-09-01",
          "2023-09-01",
          "2023-09-01",
          "2023-10-01",
          "2023-10-01",
          "2023-10-01",
          "2023-10-01",
          "2023-10-01",
          "2023-10-01",
          "2023-11-01",
          "2023-11-01",
          "2023-11-01",
          "2023-11-01",
          "2023-11-01",
          "2023-11-01",
          "2023-12-01",
          "2023-12-01",
          "2023-12-01",
          "2023-12-01",
          "2023-12-01",
          "2023-12-01"
         ],
         "y": [
          6664.368910778517,
          6664.368910778517,
          6664.368910778517,
          15239.190071293438,
          15239.190071293438,
          15239.190071293438,
          5310.17735954677,
          5310.17735954677,
          5310.17735954677,
          11468.598705576667,
          11468.598705576667,
          11468.598705576667,
          5547.5889705106265,
          5547.5889705106265,
          5547.5889705106265,
          12928.637518661106,
          12928.637518661106,
          12928.637518661106,
          4900.271300032084,
          4900.271300032084,
          4900.271300032084,
          12554.646465097732,
          12554.646465097732,
          12554.646465097732,
          4909.581023140519,
          4909.581023140519,
          4909.581023140519,
          11887.397875042518,
          11887.397875042518,
          11887.397875042518,
          6639.387528361599,
          6639.387528361599,
          6639.387528361599,
          14913.055479318127,
          14913.055479318127,
          14913.055479318127,
          7382.78333666578,
          7382.78333666578,
          7382.78333666578,
          13022.084931741949,
          13022.084931741949,
          13022.084931741949,
          9062.696017401997,
          9062.696017401997,
          9062.696017401997,
          10516.891239356415,
          10516.891239356415,
          10516.891239356415,
          8751.572647446745,
          8751.572647446745,
          8751.572647446745,
          11442.034145373626,
          11442.034145373626,
          11442.034145373626,
          7224.135118626587,
          7224.135118626587,
          7224.135118626587,
          13134.701328776178,
          13134.701328776178,
          13134.701328776178,
          5354.453814001844,
          5354.453814001844,
          5354.453814001844,
          13014.949555790388,
          13014.949555790388,
          13014.949555790388,
          9354.98767605288,
          9354.98767605288,
          9354.98767605288,
          9779.149729760553,
          9779.149729760553,
          9779.149729760553,
          5165.09800463829,
          5165.09800463829,
          5165.09800463829,
          11302.005588201922,
          11302.005588201922,
          11302.005588201922,
          6291.218744785735,
          6291.218744785735,
          6291.218744785735,
          6858.590184761588,
          6858.590184761588,
          6858.590184761588,
          6289.0524789627725,
          6289.0524789627725,
          6289.0524789627725,
          7424.03914524577,
          7424.03914524577,
          7424.03914524577,
          5844.544203102415,
          5844.544203102415,
          5844.544203102415,
          8809.934385511588,
          8809.934385511588,
          8809.934385511588,
          6423.697228227968,
          6423.697228227968,
          6423.697228227968,
          10265.227329036006,
          10265.227329036006,
          10265.227329036006,
          5934.9573003898795,
          5934.9573003898795,
          5934.9573003898795,
          6051.689088089369,
          6051.689088089369,
          6051.689088089369,
          7570.643411413261,
          7570.643411413261,
          7570.643411413261,
          8215.615083321494,
          8215.615083321494,
          8215.615083321494,
          14679.82996548805,
          14679.82996548805,
          14679.82996548805,
          11091.106152260778,
          11091.106152260778,
          11091.106152260778,
          11489.221891729096,
          11489.221891729096,
          11489.221891729096,
          9104.383956197373,
          9104.383956197373,
          9104.383956197373,
          6403.965627919878,
          6403.965627919878,
          6403.965627919878,
          7935.475920146254,
          7935.475920146254,
          7935.475920146254,
          6319.372965945205,
          6319.372965945205,
          6319.372965945205,
          8796.029983827872,
          8796.029983827872,
          8796.029983827872,
          5037.106188622178,
          5037.106188622178,
          5037.106188622178,
          9529.609109058978,
          9529.609109058978,
          9529.609109058978,
          6233.761119561585,
          6233.761119561585,
          6233.761119561585,
          12034.247890228124,
          12034.247890228124,
          12034.247890228124
         ],
         "yaxis": "y"
        },
        {
         "mode": "lines",
         "name": "cross_visitation",
         "type": "scatter",
         "x": [
          "2021-12-01",
          "2021-12-01",
          "2021-12-01",
          "2021-12-01",
          "2021-12-01",
          "2021-12-01",
          "2022-01-01",
          "2022-01-01",
          "2022-01-01",
          "2022-01-01",
          "2022-01-01",
          "2022-01-01",
          "2022-02-01",
          "2022-02-01",
          "2022-02-01",
          "2022-02-01",
          "2022-02-01",
          "2022-02-01",
          "2022-03-01",
          "2022-03-01",
          "2022-03-01",
          "2022-03-01",
          "2022-03-01",
          "2022-03-01",
          "2022-04-01",
          "2022-04-01",
          "2022-04-01",
          "2022-04-01",
          "2022-04-01",
          "2022-04-01",
          "2022-05-01",
          "2022-05-01",
          "2022-05-01",
          "2022-05-01",
          "2022-05-01",
          "2022-05-01",
          "2022-06-01",
          "2022-06-01",
          "2022-06-01",
          "2022-06-01",
          "2022-06-01",
          "2022-06-01",
          "2022-07-01",
          "2022-07-01",
          "2022-07-01",
          "2022-07-01",
          "2022-07-01",
          "2022-07-01",
          "2022-08-01",
          "2022-08-01",
          "2022-08-01",
          "2022-08-01",
          "2022-08-01",
          "2022-08-01",
          "2022-09-01",
          "2022-09-01",
          "2022-09-01",
          "2022-09-01",
          "2022-09-01",
          "2022-09-01",
          "2022-10-01",
          "2022-10-01",
          "2022-10-01",
          "2022-10-01",
          "2022-10-01",
          "2022-10-01",
          "2022-11-01",
          "2022-11-01",
          "2022-11-01",
          "2022-11-01",
          "2022-11-01",
          "2022-11-01",
          "2022-12-01",
          "2022-12-01",
          "2022-12-01",
          "2022-12-01",
          "2022-12-01",
          "2022-12-01",
          "2023-01-01",
          "2023-01-01",
          "2023-01-01",
          "2023-01-01",
          "2023-01-01",
          "2023-01-01",
          "2023-02-01",
          "2023-02-01",
          "2023-02-01",
          "2023-02-01",
          "2023-02-01",
          "2023-02-01",
          "2023-03-01",
          "2023-03-01",
          "2023-03-01",
          "2023-03-01",
          "2023-03-01",
          "2023-03-01",
          "2023-04-01",
          "2023-04-01",
          "2023-04-01",
          "2023-04-01",
          "2023-04-01",
          "2023-04-01",
          "2023-05-01",
          "2023-05-01",
          "2023-05-01",
          "2023-05-01",
          "2023-05-01",
          "2023-05-01",
          "2023-06-01",
          "2023-06-01",
          "2023-06-01",
          "2023-06-01",
          "2023-06-01",
          "2023-06-01",
          "2023-07-01",
          "2023-07-01",
          "2023-07-01",
          "2023-07-01",
          "2023-07-01",
          "2023-07-01",
          "2023-08-01",
          "2023-08-01",
          "2023-08-01",
          "2023-08-01",
          "2023-08-01",
          "2023-08-01",
          "2023-09-01",
          "2023-09-01",
          "2023-09-01",
          "2023-09-01",
          "2023-09-01",
          "2023-09-01",
          "2023-10-01",
          "2023-10-01",
          "2023-10-01",
          "2023-10-01",
          "2023-10-01",
          "2023-10-01",
          "2023-11-01",
          "2023-11-01",
          "2023-11-01",
          "2023-11-01",
          "2023-11-01",
          "2023-11-01",
          "2023-12-01",
          "2023-12-01",
          "2023-12-01",
          "2023-12-01",
          "2023-12-01",
          "2023-12-01"
         ],
         "y": [
          0.0672043040394783,
          0.0672043040394783,
          0.0672043040394783,
          0.0672043040394783,
          0.0672043040394783,
          0.0672043040394783,
          0.0787234008312225,
          0.0787234008312225,
          0.0787234008312225,
          0.0787234008312225,
          0.0787234008312225,
          0.0787234008312225,
          0.0554765276610851,
          0.0554765276610851,
          0.0554765276610851,
          0.0554765276610851,
          0.0554765276610851,
          0.0554765276610851,
          0.0565476194024086,
          0.0565476194024086,
          0.0565476194024086,
          0.0565476194024086,
          0.0565476194024086,
          0.0565476194024086,
          0.0522540993988513,
          0.0522540993988513,
          0.0522540993988513,
          0.0522540993988513,
          0.0522540993988513,
          0.0522540993988513,
          0.0546218492090702,
          0.0546218492090702,
          0.0546218492090702,
          0.0546218492090702,
          0.0546218492090702,
          0.0546218492090702,
          0.0503432489931583,
          0.0503432489931583,
          0.0503432489931583,
          0.0503432489931583,
          0.0503432489931583,
          0.0503432489931583,
          0.0451339930295944,
          0.0451339930295944,
          0.0451339930295944,
          0.0451339930295944,
          0.0451339930295944,
          0.0451339930295944,
          0.054435484111309,
          0.054435484111309,
          0.054435484111309,
          0.054435484111309,
          0.054435484111309,
          0.054435484111309,
          0.0499168038368225,
          0.0499168038368225,
          0.0499168038368225,
          0.0499168038368225,
          0.0499168038368225,
          0.0499168038368225,
          0.0425000004470348,
          0.0425000004470348,
          0.0425000004470348,
          0.0425000004470348,
          0.0425000004470348,
          0.0425000004470348,
          0.0579710155725479,
          0.0579710155725479,
          0.0579710155725479,
          0.0579710155725479,
          0.0579710155725479,
          0.0579710155725479,
          0.0601265840232372,
          0.0601265840232372,
          0.0601265840232372,
          0.0601265840232372,
          0.0601265840232372,
          0.0601265840232372,
          0.0598669610917568,
          0.0598669610917568,
          0.0598669610917568,
          0.0598669610917568,
          0.0598669610917568,
          0.0598669610917568,
          0.0427350439131259,
          0.0427350439131259,
          0.0427350439131259,
          0.0427350439131259,
          0.0427350439131259,
          0.0427350439131259,
          0.0418060198426246,
          0.0418060198426246,
          0.0418060198426246,
          0.0418060198426246,
          0.0418060198426246,
          0.0418060198426246,
          0.0421686731278896,
          0.0421686731278896,
          0.0421686731278896,
          0.0421686731278896,
          0.0421686731278896,
          0.0421686731278896,
          0.0491573028266429,
          0.0491573028266429,
          0.0491573028266429,
          0.0491573028266429,
          0.0491573028266429,
          0.0491573028266429,
          0.058626465499401,
          0.058626465499401,
          0.058626465499401,
          0.058626465499401,
          0.058626465499401,
          0.058626465499401,
          0.0836120396852493,
          0.0836120396852493,
          0.0836120396852493,
          0.0836120396852493,
          0.0836120396852493,
          0.0836120396852493,
          0.0693240910768508,
          0.0693240910768508,
          0.0693240910768508,
          0.0693240910768508,
          0.0693240910768508,
          0.0693240910768508,
          0.0533642694354057,
          0.0533642694354057,
          0.0533642694354057,
          0.0533642694354057,
          0.0533642694354057,
          0.0533642694354057,
          0.0589473694562912,
          0.0589473694562912,
          0.0589473694562912,
          0.0589473694562912,
          0.0589473694562912,
          0.0589473694562912,
          0.0760233923792839,
          0.0760233923792839,
          0.0760233923792839,
          0.0760233923792839,
          0.0760233923792839,
          0.0760233923792839,
          0.092261902987957,
          0.092261902987957,
          0.092261902987957,
          0.092261902987957,
          0.092261902987957,
          0.092261902987957
         ],
         "yaxis": "y2"
        },
        {
         "mode": "lines",
         "name": "rank",
         "type": "scatter",
         "x": [
          "2021-12-01",
          "2021-12-01",
          "2021-12-01",
          "2021-12-01",
          "2021-12-01",
          "2021-12-01",
          "2022-01-01",
          "2022-01-01",
          "2022-01-01",
          "2022-01-01",
          "2022-01-01",
          "2022-01-01",
          "2022-02-01",
          "2022-02-01",
          "2022-02-01",
          "2022-02-01",
          "2022-02-01",
          "2022-02-01",
          "2022-03-01",
          "2022-03-01",
          "2022-03-01",
          "2022-03-01",
          "2022-03-01",
          "2022-03-01",
          "2022-04-01",
          "2022-04-01",
          "2022-04-01",
          "2022-04-01",
          "2022-04-01",
          "2022-04-01",
          "2022-05-01",
          "2022-05-01",
          "2022-05-01",
          "2022-05-01",
          "2022-05-01",
          "2022-05-01",
          "2022-06-01",
          "2022-06-01",
          "2022-06-01",
          "2022-06-01",
          "2022-06-01",
          "2022-06-01",
          "2022-07-01",
          "2022-07-01",
          "2022-07-01",
          "2022-07-01",
          "2022-07-01",
          "2022-07-01",
          "2022-08-01",
          "2022-08-01",
          "2022-08-01",
          "2022-08-01",
          "2022-08-01",
          "2022-08-01",
          "2022-09-01",
          "2022-09-01",
          "2022-09-01",
          "2022-09-01",
          "2022-09-01",
          "2022-09-01",
          "2022-10-01",
          "2022-10-01",
          "2022-10-01",
          "2022-10-01",
          "2022-10-01",
          "2022-10-01",
          "2022-11-01",
          "2022-11-01",
          "2022-11-01",
          "2022-11-01",
          "2022-11-01",
          "2022-11-01",
          "2022-12-01",
          "2022-12-01",
          "2022-12-01",
          "2022-12-01",
          "2022-12-01",
          "2022-12-01",
          "2023-01-01",
          "2023-01-01",
          "2023-01-01",
          "2023-01-01",
          "2023-01-01",
          "2023-01-01",
          "2023-02-01",
          "2023-02-01",
          "2023-02-01",
          "2023-02-01",
          "2023-02-01",
          "2023-02-01",
          "2023-03-01",
          "2023-03-01",
          "2023-03-01",
          "2023-03-01",
          "2023-03-01",
          "2023-03-01",
          "2023-04-01",
          "2023-04-01",
          "2023-04-01",
          "2023-04-01",
          "2023-04-01",
          "2023-04-01",
          "2023-05-01",
          "2023-05-01",
          "2023-05-01",
          "2023-05-01",
          "2023-05-01",
          "2023-05-01",
          "2023-06-01",
          "2023-06-01",
          "2023-06-01",
          "2023-06-01",
          "2023-06-01",
          "2023-06-01",
          "2023-07-01",
          "2023-07-01",
          "2023-07-01",
          "2023-07-01",
          "2023-07-01",
          "2023-07-01",
          "2023-08-01",
          "2023-08-01",
          "2023-08-01",
          "2023-08-01",
          "2023-08-01",
          "2023-08-01",
          "2023-09-01",
          "2023-09-01",
          "2023-09-01",
          "2023-09-01",
          "2023-09-01",
          "2023-09-01",
          "2023-10-01",
          "2023-10-01",
          "2023-10-01",
          "2023-10-01",
          "2023-10-01",
          "2023-10-01",
          "2023-11-01",
          "2023-11-01",
          "2023-11-01",
          "2023-11-01",
          "2023-11-01",
          "2023-11-01",
          "2023-12-01",
          "2023-12-01",
          "2023-12-01",
          "2023-12-01",
          "2023-12-01",
          "2023-12-01"
         ],
         "y": [
          7,
          7,
          7,
          7,
          7,
          7,
          7,
          7,
          7,
          7,
          7,
          7,
          7,
          7,
          7,
          7,
          7,
          7,
          7,
          7,
          7,
          7,
          7,
          7,
          7,
          7,
          7,
          7,
          7,
          7,
          9,
          5,
          5,
          9,
          5,
          5,
          4,
          7,
          7,
          4,
          7,
          7,
          5,
          6,
          6,
          5,
          6,
          6,
          8,
          8,
          8,
          8,
          8,
          8,
          9,
          8,
          8,
          9,
          8,
          8,
          8,
          8,
          8,
          8,
          8,
          8,
          8,
          7,
          7,
          8,
          7,
          7,
          8,
          7,
          7,
          8,
          7,
          7,
          9,
          8,
          8,
          9,
          8,
          8,
          9,
          8,
          8,
          9,
          8,
          8,
          9,
          7,
          7,
          9,
          7,
          7,
          7,
          7,
          7,
          7,
          7,
          7,
          7,
          7,
          7,
          7,
          7,
          7,
          7,
          7,
          7,
          7,
          7,
          7,
          6,
          6,
          10,
          6,
          6,
          10,
          9,
          3,
          10,
          9,
          3,
          10,
          10,
          10,
          10,
          10,
          10,
          10,
          10,
          10,
          10,
          10,
          10,
          10,
          9,
          6,
          6,
          9,
          6,
          6,
          9,
          6,
          6,
          9,
          6,
          6
         ],
         "yaxis": "y2"
        },
        {
         "mode": "lines",
         "name": "category_best_salary_accounts_helmycash",
         "type": "scatter",
         "x": [
          "2021-12-01",
          "2021-12-01",
          "2021-12-01",
          "2021-12-01",
          "2021-12-01",
          "2021-12-01",
          "2022-01-01",
          "2022-01-01",
          "2022-01-01",
          "2022-01-01",
          "2022-01-01",
          "2022-01-01",
          "2022-02-01",
          "2022-02-01",
          "2022-02-01",
          "2022-02-01",
          "2022-02-01",
          "2022-02-01",
          "2022-03-01",
          "2022-03-01",
          "2022-03-01",
          "2022-03-01",
          "2022-03-01",
          "2022-03-01",
          "2022-04-01",
          "2022-04-01",
          "2022-04-01",
          "2022-04-01",
          "2022-04-01",
          "2022-04-01",
          "2022-05-01",
          "2022-05-01",
          "2022-05-01",
          "2022-05-01",
          "2022-05-01",
          "2022-05-01",
          "2022-06-01",
          "2022-06-01",
          "2022-06-01",
          "2022-06-01",
          "2022-06-01",
          "2022-06-01",
          "2022-07-01",
          "2022-07-01",
          "2022-07-01",
          "2022-07-01",
          "2022-07-01",
          "2022-07-01",
          "2022-08-01",
          "2022-08-01",
          "2022-08-01",
          "2022-08-01",
          "2022-08-01",
          "2022-08-01",
          "2022-09-01",
          "2022-09-01",
          "2022-09-01",
          "2022-09-01",
          "2022-09-01",
          "2022-09-01",
          "2022-10-01",
          "2022-10-01",
          "2022-10-01",
          "2022-10-01",
          "2022-10-01",
          "2022-10-01",
          "2022-11-01",
          "2022-11-01",
          "2022-11-01",
          "2022-11-01",
          "2022-11-01",
          "2022-11-01",
          "2022-12-01",
          "2022-12-01",
          "2022-12-01",
          "2022-12-01",
          "2022-12-01",
          "2022-12-01",
          "2023-01-01",
          "2023-01-01",
          "2023-01-01",
          "2023-01-01",
          "2023-01-01",
          "2023-01-01",
          "2023-02-01",
          "2023-02-01",
          "2023-02-01",
          "2023-02-01",
          "2023-02-01",
          "2023-02-01",
          "2023-03-01",
          "2023-03-01",
          "2023-03-01",
          "2023-03-01",
          "2023-03-01",
          "2023-03-01",
          "2023-04-01",
          "2023-04-01",
          "2023-04-01",
          "2023-04-01",
          "2023-04-01",
          "2023-04-01",
          "2023-05-01",
          "2023-05-01",
          "2023-05-01",
          "2023-05-01",
          "2023-05-01",
          "2023-05-01",
          "2023-06-01",
          "2023-06-01",
          "2023-06-01",
          "2023-06-01",
          "2023-06-01",
          "2023-06-01",
          "2023-07-01",
          "2023-07-01",
          "2023-07-01",
          "2023-07-01",
          "2023-07-01",
          "2023-07-01",
          "2023-08-01",
          "2023-08-01",
          "2023-08-01",
          "2023-08-01",
          "2023-08-01",
          "2023-08-01",
          "2023-09-01",
          "2023-09-01",
          "2023-09-01",
          "2023-09-01",
          "2023-09-01",
          "2023-09-01",
          "2023-10-01",
          "2023-10-01",
          "2023-10-01",
          "2023-10-01",
          "2023-10-01",
          "2023-10-01",
          "2023-11-01",
          "2023-11-01",
          "2023-11-01",
          "2023-11-01",
          "2023-11-01",
          "2023-11-01",
          "2023-12-01",
          "2023-12-01",
          "2023-12-01",
          "2023-12-01",
          "2023-12-01",
          "2023-12-01"
         ],
         "y": [
          0,
          1,
          0,
          0,
          1,
          0,
          0,
          1,
          0,
          0,
          1,
          0,
          0,
          1,
          0,
          0,
          1,
          0,
          0,
          1,
          0,
          0,
          1,
          0,
          0,
          1,
          0,
          0,
          1,
          0,
          0,
          1,
          0,
          0,
          1,
          0,
          0,
          1,
          0,
          0,
          1,
          0,
          0,
          1,
          0,
          0,
          1,
          0,
          0,
          1,
          0,
          0,
          1,
          0,
          0,
          1,
          0,
          0,
          1,
          0,
          0,
          1,
          0,
          0,
          1,
          0,
          0,
          1,
          0,
          0,
          1,
          0,
          0,
          1,
          0,
          0,
          1,
          0,
          0,
          1,
          0,
          0,
          1,
          0,
          0,
          1,
          0,
          0,
          1,
          0,
          0,
          1,
          0,
          0,
          1,
          0,
          0,
          1,
          0,
          0,
          1,
          0,
          0,
          1,
          0,
          0,
          1,
          0,
          0,
          1,
          0,
          0,
          1,
          0,
          0,
          1,
          0,
          0,
          1,
          0,
          0,
          1,
          0,
          0,
          1,
          0,
          0,
          1,
          0,
          0,
          1,
          0,
          0,
          1,
          0,
          0,
          1,
          0,
          0,
          1,
          0,
          0,
          1,
          0,
          0,
          1,
          0,
          0,
          1,
          0
         ],
         "yaxis": "y2"
        },
        {
         "mode": "lines",
         "name": "category_best_savings_accounts_helpmycash",
         "type": "scatter",
         "x": [
          "2021-12-01",
          "2021-12-01",
          "2021-12-01",
          "2021-12-01",
          "2021-12-01",
          "2021-12-01",
          "2022-01-01",
          "2022-01-01",
          "2022-01-01",
          "2022-01-01",
          "2022-01-01",
          "2022-01-01",
          "2022-02-01",
          "2022-02-01",
          "2022-02-01",
          "2022-02-01",
          "2022-02-01",
          "2022-02-01",
          "2022-03-01",
          "2022-03-01",
          "2022-03-01",
          "2022-03-01",
          "2022-03-01",
          "2022-03-01",
          "2022-04-01",
          "2022-04-01",
          "2022-04-01",
          "2022-04-01",
          "2022-04-01",
          "2022-04-01",
          "2022-05-01",
          "2022-05-01",
          "2022-05-01",
          "2022-05-01",
          "2022-05-01",
          "2022-05-01",
          "2022-06-01",
          "2022-06-01",
          "2022-06-01",
          "2022-06-01",
          "2022-06-01",
          "2022-06-01",
          "2022-07-01",
          "2022-07-01",
          "2022-07-01",
          "2022-07-01",
          "2022-07-01",
          "2022-07-01",
          "2022-08-01",
          "2022-08-01",
          "2022-08-01",
          "2022-08-01",
          "2022-08-01",
          "2022-08-01",
          "2022-09-01",
          "2022-09-01",
          "2022-09-01",
          "2022-09-01",
          "2022-09-01",
          "2022-09-01",
          "2022-10-01",
          "2022-10-01",
          "2022-10-01",
          "2022-10-01",
          "2022-10-01",
          "2022-10-01",
          "2022-11-01",
          "2022-11-01",
          "2022-11-01",
          "2022-11-01",
          "2022-11-01",
          "2022-11-01",
          "2022-12-01",
          "2022-12-01",
          "2022-12-01",
          "2022-12-01",
          "2022-12-01",
          "2022-12-01",
          "2023-01-01",
          "2023-01-01",
          "2023-01-01",
          "2023-01-01",
          "2023-01-01",
          "2023-01-01",
          "2023-02-01",
          "2023-02-01",
          "2023-02-01",
          "2023-02-01",
          "2023-02-01",
          "2023-02-01",
          "2023-03-01",
          "2023-03-01",
          "2023-03-01",
          "2023-03-01",
          "2023-03-01",
          "2023-03-01",
          "2023-04-01",
          "2023-04-01",
          "2023-04-01",
          "2023-04-01",
          "2023-04-01",
          "2023-04-01",
          "2023-05-01",
          "2023-05-01",
          "2023-05-01",
          "2023-05-01",
          "2023-05-01",
          "2023-05-01",
          "2023-06-01",
          "2023-06-01",
          "2023-06-01",
          "2023-06-01",
          "2023-06-01",
          "2023-06-01",
          "2023-07-01",
          "2023-07-01",
          "2023-07-01",
          "2023-07-01",
          "2023-07-01",
          "2023-07-01",
          "2023-08-01",
          "2023-08-01",
          "2023-08-01",
          "2023-08-01",
          "2023-08-01",
          "2023-08-01",
          "2023-09-01",
          "2023-09-01",
          "2023-09-01",
          "2023-09-01",
          "2023-09-01",
          "2023-09-01",
          "2023-10-01",
          "2023-10-01",
          "2023-10-01",
          "2023-10-01",
          "2023-10-01",
          "2023-10-01",
          "2023-11-01",
          "2023-11-01",
          "2023-11-01",
          "2023-11-01",
          "2023-11-01",
          "2023-11-01",
          "2023-12-01",
          "2023-12-01",
          "2023-12-01",
          "2023-12-01",
          "2023-12-01",
          "2023-12-01"
         ],
         "y": [
          0,
          0,
          1,
          0,
          0,
          1,
          0,
          0,
          1,
          0,
          0,
          1,
          0,
          0,
          1,
          0,
          0,
          1,
          0,
          0,
          1,
          0,
          0,
          1,
          0,
          0,
          1,
          0,
          0,
          1,
          0,
          0,
          1,
          0,
          0,
          1,
          0,
          0,
          1,
          0,
          0,
          1,
          0,
          0,
          1,
          0,
          0,
          1,
          0,
          0,
          1,
          0,
          0,
          1,
          0,
          0,
          1,
          0,
          0,
          1,
          0,
          0,
          1,
          0,
          0,
          1,
          0,
          0,
          1,
          0,
          0,
          1,
          0,
          0,
          1,
          0,
          0,
          1,
          0,
          0,
          1,
          0,
          0,
          1,
          0,
          0,
          1,
          0,
          0,
          1,
          0,
          0,
          1,
          0,
          0,
          1,
          0,
          0,
          1,
          0,
          0,
          1,
          0,
          0,
          1,
          0,
          0,
          1,
          0,
          0,
          1,
          0,
          0,
          1,
          0,
          0,
          1,
          0,
          0,
          1,
          0,
          0,
          1,
          0,
          0,
          1,
          0,
          0,
          1,
          0,
          0,
          1,
          0,
          0,
          1,
          0,
          0,
          1,
          0,
          0,
          1,
          0,
          0,
          1,
          0,
          0,
          1,
          0,
          0,
          1
         ],
         "yaxis": "y2"
        },
        {
         "mode": "lines",
         "name": "incentive",
         "type": "scatter",
         "x": [
          "2021-12-01",
          "2021-12-01",
          "2021-12-01",
          "2021-12-01",
          "2021-12-01",
          "2021-12-01",
          "2022-01-01",
          "2022-01-01",
          "2022-01-01",
          "2022-01-01",
          "2022-01-01",
          "2022-01-01",
          "2022-02-01",
          "2022-02-01",
          "2022-02-01",
          "2022-02-01",
          "2022-02-01",
          "2022-02-01",
          "2022-03-01",
          "2022-03-01",
          "2022-03-01",
          "2022-03-01",
          "2022-03-01",
          "2022-03-01",
          "2022-04-01",
          "2022-04-01",
          "2022-04-01",
          "2022-04-01",
          "2022-04-01",
          "2022-04-01",
          "2022-05-01",
          "2022-05-01",
          "2022-05-01",
          "2022-05-01",
          "2022-05-01",
          "2022-05-01",
          "2022-06-01",
          "2022-06-01",
          "2022-06-01",
          "2022-06-01",
          "2022-06-01",
          "2022-06-01",
          "2022-07-01",
          "2022-07-01",
          "2022-07-01",
          "2022-07-01",
          "2022-07-01",
          "2022-07-01",
          "2022-08-01",
          "2022-08-01",
          "2022-08-01",
          "2022-08-01",
          "2022-08-01",
          "2022-08-01",
          "2022-09-01",
          "2022-09-01",
          "2022-09-01",
          "2022-09-01",
          "2022-09-01",
          "2022-09-01",
          "2022-10-01",
          "2022-10-01",
          "2022-10-01",
          "2022-10-01",
          "2022-10-01",
          "2022-10-01",
          "2022-11-01",
          "2022-11-01",
          "2022-11-01",
          "2022-11-01",
          "2022-11-01",
          "2022-11-01",
          "2022-12-01",
          "2022-12-01",
          "2022-12-01",
          "2022-12-01",
          "2022-12-01",
          "2022-12-01",
          "2023-01-01",
          "2023-01-01",
          "2023-01-01",
          "2023-01-01",
          "2023-01-01",
          "2023-01-01",
          "2023-02-01",
          "2023-02-01",
          "2023-02-01",
          "2023-02-01",
          "2023-02-01",
          "2023-02-01",
          "2023-03-01",
          "2023-03-01",
          "2023-03-01",
          "2023-03-01",
          "2023-03-01",
          "2023-03-01",
          "2023-04-01",
          "2023-04-01",
          "2023-04-01",
          "2023-04-01",
          "2023-04-01",
          "2023-04-01",
          "2023-05-01",
          "2023-05-01",
          "2023-05-01",
          "2023-05-01",
          "2023-05-01",
          "2023-05-01",
          "2023-06-01",
          "2023-06-01",
          "2023-06-01",
          "2023-06-01",
          "2023-06-01",
          "2023-06-01",
          "2023-07-01",
          "2023-07-01",
          "2023-07-01",
          "2023-07-01",
          "2023-07-01",
          "2023-07-01",
          "2023-08-01",
          "2023-08-01",
          "2023-08-01",
          "2023-08-01",
          "2023-08-01",
          "2023-08-01",
          "2023-09-01",
          "2023-09-01",
          "2023-09-01",
          "2023-09-01",
          "2023-09-01",
          "2023-09-01",
          "2023-10-01",
          "2023-10-01",
          "2023-10-01",
          "2023-10-01",
          "2023-10-01",
          "2023-10-01",
          "2023-11-01",
          "2023-11-01",
          "2023-11-01",
          "2023-11-01",
          "2023-11-01",
          "2023-11-01",
          "2023-12-01",
          "2023-12-01",
          "2023-12-01",
          "2023-12-01",
          "2023-12-01",
          "2023-12-01"
         ],
         "y": [
          0,
          0,
          0,
          0,
          0,
          0,
          0,
          0,
          0,
          0,
          0,
          0,
          0,
          0,
          0,
          0,
          0,
          0,
          0,
          0,
          0,
          0,
          0,
          0,
          0,
          0,
          0,
          0,
          0,
          0,
          0,
          0,
          0,
          0,
          0,
          0,
          0,
          0,
          0,
          0,
          0,
          0,
          0,
          0,
          0,
          0,
          0,
          0,
          0,
          0,
          0,
          0,
          0,
          0,
          0,
          0,
          0,
          0,
          0,
          0,
          0,
          0,
          0,
          0,
          0,
          0,
          0,
          0,
          0,
          0,
          0,
          0,
          0,
          0,
          0,
          0,
          0,
          0,
          0,
          0,
          0,
          0,
          0,
          0,
          0,
          0,
          0,
          0,
          0,
          0,
          0,
          0,
          0,
          0,
          0,
          0,
          0,
          0,
          0,
          0,
          0,
          0,
          0,
          0,
          0,
          0,
          0,
          0,
          0,
          0,
          0,
          0,
          0,
          0,
          0,
          0,
          0,
          0,
          0,
          0,
          0,
          0,
          0,
          0,
          0,
          0,
          0,
          0,
          0,
          0,
          0,
          0,
          0,
          0,
          0,
          0,
          0,
          0,
          0,
          0,
          0,
          0,
          0,
          0,
          0,
          0,
          0,
          0,
          0,
          0
         ],
         "yaxis": "y2"
        },
        {
         "mode": "lines",
         "name": "apr",
         "type": "scatter",
         "x": [
          "2021-12-01",
          "2021-12-01",
          "2021-12-01",
          "2021-12-01",
          "2021-12-01",
          "2021-12-01",
          "2022-01-01",
          "2022-01-01",
          "2022-01-01",
          "2022-01-01",
          "2022-01-01",
          "2022-01-01",
          "2022-02-01",
          "2022-02-01",
          "2022-02-01",
          "2022-02-01",
          "2022-02-01",
          "2022-02-01",
          "2022-03-01",
          "2022-03-01",
          "2022-03-01",
          "2022-03-01",
          "2022-03-01",
          "2022-03-01",
          "2022-04-01",
          "2022-04-01",
          "2022-04-01",
          "2022-04-01",
          "2022-04-01",
          "2022-04-01",
          "2022-05-01",
          "2022-05-01",
          "2022-05-01",
          "2022-05-01",
          "2022-05-01",
          "2022-05-01",
          "2022-06-01",
          "2022-06-01",
          "2022-06-01",
          "2022-06-01",
          "2022-06-01",
          "2022-06-01",
          "2022-07-01",
          "2022-07-01",
          "2022-07-01",
          "2022-07-01",
          "2022-07-01",
          "2022-07-01",
          "2022-08-01",
          "2022-08-01",
          "2022-08-01",
          "2022-08-01",
          "2022-08-01",
          "2022-08-01",
          "2022-09-01",
          "2022-09-01",
          "2022-09-01",
          "2022-09-01",
          "2022-09-01",
          "2022-09-01",
          "2022-10-01",
          "2022-10-01",
          "2022-10-01",
          "2022-10-01",
          "2022-10-01",
          "2022-10-01",
          "2022-11-01",
          "2022-11-01",
          "2022-11-01",
          "2022-11-01",
          "2022-11-01",
          "2022-11-01",
          "2022-12-01",
          "2022-12-01",
          "2022-12-01",
          "2022-12-01",
          "2022-12-01",
          "2022-12-01",
          "2023-01-01",
          "2023-01-01",
          "2023-01-01",
          "2023-01-01",
          "2023-01-01",
          "2023-01-01",
          "2023-02-01",
          "2023-02-01",
          "2023-02-01",
          "2023-02-01",
          "2023-02-01",
          "2023-02-01",
          "2023-03-01",
          "2023-03-01",
          "2023-03-01",
          "2023-03-01",
          "2023-03-01",
          "2023-03-01",
          "2023-04-01",
          "2023-04-01",
          "2023-04-01",
          "2023-04-01",
          "2023-04-01",
          "2023-04-01",
          "2023-05-01",
          "2023-05-01",
          "2023-05-01",
          "2023-05-01",
          "2023-05-01",
          "2023-05-01",
          "2023-06-01",
          "2023-06-01",
          "2023-06-01",
          "2023-06-01",
          "2023-06-01",
          "2023-06-01",
          "2023-07-01",
          "2023-07-01",
          "2023-07-01",
          "2023-07-01",
          "2023-07-01",
          "2023-07-01",
          "2023-08-01",
          "2023-08-01",
          "2023-08-01",
          "2023-08-01",
          "2023-08-01",
          "2023-08-01",
          "2023-09-01",
          "2023-09-01",
          "2023-09-01",
          "2023-09-01",
          "2023-09-01",
          "2023-09-01",
          "2023-10-01",
          "2023-10-01",
          "2023-10-01",
          "2023-10-01",
          "2023-10-01",
          "2023-10-01",
          "2023-11-01",
          "2023-11-01",
          "2023-11-01",
          "2023-11-01",
          "2023-11-01",
          "2023-11-01",
          "2023-12-01",
          "2023-12-01",
          "2023-12-01",
          "2023-12-01",
          "2023-12-01",
          "2023-12-01"
         ],
         "y": [
          0,
          0,
          0,
          0,
          0,
          0,
          0,
          0,
          0,
          0,
          0,
          0,
          0,
          0,
          0,
          0,
          0,
          0,
          0,
          0,
          0,
          0,
          0,
          0,
          0,
          0,
          0,
          0,
          0,
          0,
          0,
          0,
          0,
          0,
          0,
          0,
          0,
          0,
          0,
          0,
          0,
          0,
          0,
          0,
          0,
          0,
          0,
          0,
          0,
          0,
          0,
          0,
          0,
          0,
          0,
          0,
          0,
          0,
          0,
          0,
          0,
          0,
          0,
          0,
          0,
          0,
          0,
          0,
          0,
          0,
          0,
          0,
          0,
          0,
          0,
          0,
          0,
          0,
          0,
          0,
          0,
          0,
          0,
          0,
          0,
          0,
          0,
          0,
          0,
          0,
          0,
          0,
          0,
          0,
          0,
          0,
          0,
          0,
          0,
          0,
          0,
          0,
          0,
          0,
          0,
          0,
          0,
          0,
          0,
          0,
          0,
          0,
          0,
          0,
          0,
          0,
          0,
          0,
          0,
          0,
          0,
          0,
          0,
          0,
          0,
          0,
          0,
          0,
          0,
          0,
          0,
          0,
          0,
          0,
          0,
          0,
          0,
          0,
          0,
          0,
          0,
          0,
          0,
          0,
          0,
          0,
          0,
          0,
          0,
          0
         ],
         "yaxis": "y2"
        },
        {
         "mode": "lines",
         "name": "mentions",
         "type": "scatter",
         "x": [
          "2021-12-01",
          "2021-12-01",
          "2021-12-01",
          "2021-12-01",
          "2021-12-01",
          "2021-12-01",
          "2022-01-01",
          "2022-01-01",
          "2022-01-01",
          "2022-01-01",
          "2022-01-01",
          "2022-01-01",
          "2022-02-01",
          "2022-02-01",
          "2022-02-01",
          "2022-02-01",
          "2022-02-01",
          "2022-02-01",
          "2022-03-01",
          "2022-03-01",
          "2022-03-01",
          "2022-03-01",
          "2022-03-01",
          "2022-03-01",
          "2022-04-01",
          "2022-04-01",
          "2022-04-01",
          "2022-04-01",
          "2022-04-01",
          "2022-04-01",
          "2022-05-01",
          "2022-05-01",
          "2022-05-01",
          "2022-05-01",
          "2022-05-01",
          "2022-05-01",
          "2022-06-01",
          "2022-06-01",
          "2022-06-01",
          "2022-06-01",
          "2022-06-01",
          "2022-06-01",
          "2022-07-01",
          "2022-07-01",
          "2022-07-01",
          "2022-07-01",
          "2022-07-01",
          "2022-07-01",
          "2022-08-01",
          "2022-08-01",
          "2022-08-01",
          "2022-08-01",
          "2022-08-01",
          "2022-08-01",
          "2022-09-01",
          "2022-09-01",
          "2022-09-01",
          "2022-09-01",
          "2022-09-01",
          "2022-09-01",
          "2022-10-01",
          "2022-10-01",
          "2022-10-01",
          "2022-10-01",
          "2022-10-01",
          "2022-10-01",
          "2022-11-01",
          "2022-11-01",
          "2022-11-01",
          "2022-11-01",
          "2022-11-01",
          "2022-11-01",
          "2022-12-01",
          "2022-12-01",
          "2022-12-01",
          "2022-12-01",
          "2022-12-01",
          "2022-12-01",
          "2023-01-01",
          "2023-01-01",
          "2023-01-01",
          "2023-01-01",
          "2023-01-01",
          "2023-01-01",
          "2023-02-01",
          "2023-02-01",
          "2023-02-01",
          "2023-02-01",
          "2023-02-01",
          "2023-02-01",
          "2023-03-01",
          "2023-03-01",
          "2023-03-01",
          "2023-03-01",
          "2023-03-01",
          "2023-03-01",
          "2023-04-01",
          "2023-04-01",
          "2023-04-01",
          "2023-04-01",
          "2023-04-01",
          "2023-04-01",
          "2023-05-01",
          "2023-05-01",
          "2023-05-01",
          "2023-05-01",
          "2023-05-01",
          "2023-05-01",
          "2023-06-01",
          "2023-06-01",
          "2023-06-01",
          "2023-06-01",
          "2023-06-01",
          "2023-06-01",
          "2023-07-01",
          "2023-07-01",
          "2023-07-01",
          "2023-07-01",
          "2023-07-01",
          "2023-07-01",
          "2023-08-01",
          "2023-08-01",
          "2023-08-01",
          "2023-08-01",
          "2023-08-01",
          "2023-08-01",
          "2023-09-01",
          "2023-09-01",
          "2023-09-01",
          "2023-09-01",
          "2023-09-01",
          "2023-09-01",
          "2023-10-01",
          "2023-10-01",
          "2023-10-01",
          "2023-10-01",
          "2023-10-01",
          "2023-10-01",
          "2023-11-01",
          "2023-11-01",
          "2023-11-01",
          "2023-11-01",
          "2023-11-01",
          "2023-11-01",
          "2023-12-01",
          "2023-12-01",
          "2023-12-01",
          "2023-12-01",
          "2023-12-01",
          "2023-12-01"
         ],
         "y": [
          2,
          2,
          2,
          2,
          2,
          2,
          2,
          2,
          2,
          2,
          2,
          2,
          2,
          2,
          2,
          2,
          2,
          2,
          1,
          1,
          1,
          1,
          1,
          1,
          1,
          1,
          1,
          1,
          1,
          1,
          2,
          2,
          2,
          2,
          2,
          2,
          1,
          1,
          1,
          1,
          1,
          1,
          0,
          0,
          0,
          0,
          0,
          0,
          0,
          0,
          0,
          0,
          0,
          0,
          5,
          5,
          5,
          5,
          5,
          5,
          1,
          1,
          1,
          1,
          1,
          1,
          0,
          0,
          0,
          0,
          0,
          0,
          3,
          3,
          3,
          3,
          3,
          3,
          3,
          3,
          3,
          3,
          3,
          3,
          2,
          2,
          2,
          2,
          2,
          2,
          1,
          1,
          1,
          1,
          1,
          1,
          2,
          2,
          2,
          2,
          2,
          2,
          4,
          4,
          4,
          4,
          4,
          4,
          2,
          2,
          2,
          2,
          2,
          2,
          1,
          1,
          1,
          1,
          1,
          1,
          1,
          1,
          1,
          1,
          1,
          1,
          0,
          0,
          0,
          0,
          0,
          0,
          5,
          5,
          5,
          5,
          5,
          5,
          2,
          2,
          2,
          2,
          2,
          2,
          1,
          1,
          1,
          1,
          1,
          1
         ],
         "yaxis": "y2"
        }
       ],
       "layout": {
        "legend": {
         "x": 1.1,
         "y": 1
        },
        "template": {
         "data": {
          "bar": [
           {
            "error_x": {
             "color": "#2a3f5f"
            },
            "error_y": {
             "color": "#2a3f5f"
            },
            "marker": {
             "line": {
              "color": "#E5ECF6",
              "width": 0.5
             },
             "pattern": {
              "fillmode": "overlay",
              "size": 10,
              "solidity": 0.2
             }
            },
            "type": "bar"
           }
          ],
          "barpolar": [
           {
            "marker": {
             "line": {
              "color": "#E5ECF6",
              "width": 0.5
             },
             "pattern": {
              "fillmode": "overlay",
              "size": 10,
              "solidity": 0.2
             }
            },
            "type": "barpolar"
           }
          ],
          "carpet": [
           {
            "aaxis": {
             "endlinecolor": "#2a3f5f",
             "gridcolor": "white",
             "linecolor": "white",
             "minorgridcolor": "white",
             "startlinecolor": "#2a3f5f"
            },
            "baxis": {
             "endlinecolor": "#2a3f5f",
             "gridcolor": "white",
             "linecolor": "white",
             "minorgridcolor": "white",
             "startlinecolor": "#2a3f5f"
            },
            "type": "carpet"
           }
          ],
          "choropleth": [
           {
            "colorbar": {
             "outlinewidth": 0,
             "ticks": ""
            },
            "type": "choropleth"
           }
          ],
          "contour": [
           {
            "colorbar": {
             "outlinewidth": 0,
             "ticks": ""
            },
            "colorscale": [
             [
              0,
              "#0d0887"
             ],
             [
              0.1111111111111111,
              "#46039f"
             ],
             [
              0.2222222222222222,
              "#7201a8"
             ],
             [
              0.3333333333333333,
              "#9c179e"
             ],
             [
              0.4444444444444444,
              "#bd3786"
             ],
             [
              0.5555555555555556,
              "#d8576b"
             ],
             [
              0.6666666666666666,
              "#ed7953"
             ],
             [
              0.7777777777777778,
              "#fb9f3a"
             ],
             [
              0.8888888888888888,
              "#fdca26"
             ],
             [
              1,
              "#f0f921"
             ]
            ],
            "type": "contour"
           }
          ],
          "contourcarpet": [
           {
            "colorbar": {
             "outlinewidth": 0,
             "ticks": ""
            },
            "type": "contourcarpet"
           }
          ],
          "heatmap": [
           {
            "colorbar": {
             "outlinewidth": 0,
             "ticks": ""
            },
            "colorscale": [
             [
              0,
              "#0d0887"
             ],
             [
              0.1111111111111111,
              "#46039f"
             ],
             [
              0.2222222222222222,
              "#7201a8"
             ],
             [
              0.3333333333333333,
              "#9c179e"
             ],
             [
              0.4444444444444444,
              "#bd3786"
             ],
             [
              0.5555555555555556,
              "#d8576b"
             ],
             [
              0.6666666666666666,
              "#ed7953"
             ],
             [
              0.7777777777777778,
              "#fb9f3a"
             ],
             [
              0.8888888888888888,
              "#fdca26"
             ],
             [
              1,
              "#f0f921"
             ]
            ],
            "type": "heatmap"
           }
          ],
          "heatmapgl": [
           {
            "colorbar": {
             "outlinewidth": 0,
             "ticks": ""
            },
            "colorscale": [
             [
              0,
              "#0d0887"
             ],
             [
              0.1111111111111111,
              "#46039f"
             ],
             [
              0.2222222222222222,
              "#7201a8"
             ],
             [
              0.3333333333333333,
              "#9c179e"
             ],
             [
              0.4444444444444444,
              "#bd3786"
             ],
             [
              0.5555555555555556,
              "#d8576b"
             ],
             [
              0.6666666666666666,
              "#ed7953"
             ],
             [
              0.7777777777777778,
              "#fb9f3a"
             ],
             [
              0.8888888888888888,
              "#fdca26"
             ],
             [
              1,
              "#f0f921"
             ]
            ],
            "type": "heatmapgl"
           }
          ],
          "histogram": [
           {
            "marker": {
             "pattern": {
              "fillmode": "overlay",
              "size": 10,
              "solidity": 0.2
             }
            },
            "type": "histogram"
           }
          ],
          "histogram2d": [
           {
            "colorbar": {
             "outlinewidth": 0,
             "ticks": ""
            },
            "colorscale": [
             [
              0,
              "#0d0887"
             ],
             [
              0.1111111111111111,
              "#46039f"
             ],
             [
              0.2222222222222222,
              "#7201a8"
             ],
             [
              0.3333333333333333,
              "#9c179e"
             ],
             [
              0.4444444444444444,
              "#bd3786"
             ],
             [
              0.5555555555555556,
              "#d8576b"
             ],
             [
              0.6666666666666666,
              "#ed7953"
             ],
             [
              0.7777777777777778,
              "#fb9f3a"
             ],
             [
              0.8888888888888888,
              "#fdca26"
             ],
             [
              1,
              "#f0f921"
             ]
            ],
            "type": "histogram2d"
           }
          ],
          "histogram2dcontour": [
           {
            "colorbar": {
             "outlinewidth": 0,
             "ticks": ""
            },
            "colorscale": [
             [
              0,
              "#0d0887"
             ],
             [
              0.1111111111111111,
              "#46039f"
             ],
             [
              0.2222222222222222,
              "#7201a8"
             ],
             [
              0.3333333333333333,
              "#9c179e"
             ],
             [
              0.4444444444444444,
              "#bd3786"
             ],
             [
              0.5555555555555556,
              "#d8576b"
             ],
             [
              0.6666666666666666,
              "#ed7953"
             ],
             [
              0.7777777777777778,
              "#fb9f3a"
             ],
             [
              0.8888888888888888,
              "#fdca26"
             ],
             [
              1,
              "#f0f921"
             ]
            ],
            "type": "histogram2dcontour"
           }
          ],
          "mesh3d": [
           {
            "colorbar": {
             "outlinewidth": 0,
             "ticks": ""
            },
            "type": "mesh3d"
           }
          ],
          "parcoords": [
           {
            "line": {
             "colorbar": {
              "outlinewidth": 0,
              "ticks": ""
             }
            },
            "type": "parcoords"
           }
          ],
          "pie": [
           {
            "automargin": true,
            "type": "pie"
           }
          ],
          "scatter": [
           {
            "fillpattern": {
             "fillmode": "overlay",
             "size": 10,
             "solidity": 0.2
            },
            "type": "scatter"
           }
          ],
          "scatter3d": [
           {
            "line": {
             "colorbar": {
              "outlinewidth": 0,
              "ticks": ""
             }
            },
            "marker": {
             "colorbar": {
              "outlinewidth": 0,
              "ticks": ""
             }
            },
            "type": "scatter3d"
           }
          ],
          "scattercarpet": [
           {
            "marker": {
             "colorbar": {
              "outlinewidth": 0,
              "ticks": ""
             }
            },
            "type": "scattercarpet"
           }
          ],
          "scattergeo": [
           {
            "marker": {
             "colorbar": {
              "outlinewidth": 0,
              "ticks": ""
             }
            },
            "type": "scattergeo"
           }
          ],
          "scattergl": [
           {
            "marker": {
             "colorbar": {
              "outlinewidth": 0,
              "ticks": ""
             }
            },
            "type": "scattergl"
           }
          ],
          "scattermapbox": [
           {
            "marker": {
             "colorbar": {
              "outlinewidth": 0,
              "ticks": ""
             }
            },
            "type": "scattermapbox"
           }
          ],
          "scatterpolar": [
           {
            "marker": {
             "colorbar": {
              "outlinewidth": 0,
              "ticks": ""
             }
            },
            "type": "scatterpolar"
           }
          ],
          "scatterpolargl": [
           {
            "marker": {
             "colorbar": {
              "outlinewidth": 0,
              "ticks": ""
             }
            },
            "type": "scatterpolargl"
           }
          ],
          "scatterternary": [
           {
            "marker": {
             "colorbar": {
              "outlinewidth": 0,
              "ticks": ""
             }
            },
            "type": "scatterternary"
           }
          ],
          "surface": [
           {
            "colorbar": {
             "outlinewidth": 0,
             "ticks": ""
            },
            "colorscale": [
             [
              0,
              "#0d0887"
             ],
             [
              0.1111111111111111,
              "#46039f"
             ],
             [
              0.2222222222222222,
              "#7201a8"
             ],
             [
              0.3333333333333333,
              "#9c179e"
             ],
             [
              0.4444444444444444,
              "#bd3786"
             ],
             [
              0.5555555555555556,
              "#d8576b"
             ],
             [
              0.6666666666666666,
              "#ed7953"
             ],
             [
              0.7777777777777778,
              "#fb9f3a"
             ],
             [
              0.8888888888888888,
              "#fdca26"
             ],
             [
              1,
              "#f0f921"
             ]
            ],
            "type": "surface"
           }
          ],
          "table": [
           {
            "cells": {
             "fill": {
              "color": "#EBF0F8"
             },
             "line": {
              "color": "white"
             }
            },
            "header": {
             "fill": {
              "color": "#C8D4E3"
             },
             "line": {
              "color": "white"
             }
            },
            "type": "table"
           }
          ]
         },
         "layout": {
          "annotationdefaults": {
           "arrowcolor": "#2a3f5f",
           "arrowhead": 0,
           "arrowwidth": 1
          },
          "autotypenumbers": "strict",
          "coloraxis": {
           "colorbar": {
            "outlinewidth": 0,
            "ticks": ""
           }
          },
          "colorscale": {
           "diverging": [
            [
             0,
             "#8e0152"
            ],
            [
             0.1,
             "#c51b7d"
            ],
            [
             0.2,
             "#de77ae"
            ],
            [
             0.3,
             "#f1b6da"
            ],
            [
             0.4,
             "#fde0ef"
            ],
            [
             0.5,
             "#f7f7f7"
            ],
            [
             0.6,
             "#e6f5d0"
            ],
            [
             0.7,
             "#b8e186"
            ],
            [
             0.8,
             "#7fbc41"
            ],
            [
             0.9,
             "#4d9221"
            ],
            [
             1,
             "#276419"
            ]
           ],
           "sequential": [
            [
             0,
             "#0d0887"
            ],
            [
             0.1111111111111111,
             "#46039f"
            ],
            [
             0.2222222222222222,
             "#7201a8"
            ],
            [
             0.3333333333333333,
             "#9c179e"
            ],
            [
             0.4444444444444444,
             "#bd3786"
            ],
            [
             0.5555555555555556,
             "#d8576b"
            ],
            [
             0.6666666666666666,
             "#ed7953"
            ],
            [
             0.7777777777777778,
             "#fb9f3a"
            ],
            [
             0.8888888888888888,
             "#fdca26"
            ],
            [
             1,
             "#f0f921"
            ]
           ],
           "sequentialminus": [
            [
             0,
             "#0d0887"
            ],
            [
             0.1111111111111111,
             "#46039f"
            ],
            [
             0.2222222222222222,
             "#7201a8"
            ],
            [
             0.3333333333333333,
             "#9c179e"
            ],
            [
             0.4444444444444444,
             "#bd3786"
            ],
            [
             0.5555555555555556,
             "#d8576b"
            ],
            [
             0.6666666666666666,
             "#ed7953"
            ],
            [
             0.7777777777777778,
             "#fb9f3a"
            ],
            [
             0.8888888888888888,
             "#fdca26"
            ],
            [
             1,
             "#f0f921"
            ]
           ]
          },
          "colorway": [
           "#636efa",
           "#EF553B",
           "#00cc96",
           "#ab63fa",
           "#FFA15A",
           "#19d3f3",
           "#FF6692",
           "#B6E880",
           "#FF97FF",
           "#FECB52"
          ],
          "font": {
           "color": "#2a3f5f"
          },
          "geo": {
           "bgcolor": "white",
           "lakecolor": "white",
           "landcolor": "#E5ECF6",
           "showlakes": true,
           "showland": true,
           "subunitcolor": "white"
          },
          "hoverlabel": {
           "align": "left"
          },
          "hovermode": "closest",
          "mapbox": {
           "style": "light"
          },
          "paper_bgcolor": "white",
          "plot_bgcolor": "#E5ECF6",
          "polar": {
           "angularaxis": {
            "gridcolor": "white",
            "linecolor": "white",
            "ticks": ""
           },
           "bgcolor": "#E5ECF6",
           "radialaxis": {
            "gridcolor": "white",
            "linecolor": "white",
            "ticks": ""
           }
          },
          "scene": {
           "xaxis": {
            "backgroundcolor": "#E5ECF6",
            "gridcolor": "white",
            "gridwidth": 2,
            "linecolor": "white",
            "showbackground": true,
            "ticks": "",
            "zerolinecolor": "white"
           },
           "yaxis": {
            "backgroundcolor": "#E5ECF6",
            "gridcolor": "white",
            "gridwidth": 2,
            "linecolor": "white",
            "showbackground": true,
            "ticks": "",
            "zerolinecolor": "white"
           },
           "zaxis": {
            "backgroundcolor": "#E5ECF6",
            "gridcolor": "white",
            "gridwidth": 2,
            "linecolor": "white",
            "showbackground": true,
            "ticks": "",
            "zerolinecolor": "white"
           }
          },
          "shapedefaults": {
           "line": {
            "color": "#2a3f5f"
           }
          },
          "ternary": {
           "aaxis": {
            "gridcolor": "white",
            "linecolor": "white",
            "ticks": ""
           },
           "baxis": {
            "gridcolor": "white",
            "linecolor": "white",
            "ticks": ""
           },
           "bgcolor": "#E5ECF6",
           "caxis": {
            "gridcolor": "white",
            "linecolor": "white",
            "ticks": ""
           }
          },
          "title": {
           "x": 0.05
          },
          "xaxis": {
           "automargin": true,
           "gridcolor": "white",
           "linecolor": "white",
           "ticks": "",
           "title": {
            "standoff": 15
           },
           "zerolinecolor": "white",
           "zerolinewidth": 2
          },
          "yaxis": {
           "automargin": true,
           "gridcolor": "white",
           "linecolor": "white",
           "ticks": "",
           "title": {
            "standoff": 15
           },
           "zerolinecolor": "white",
           "zerolinewidth": 2
          }
         }
        },
        "title": {
         "text": "n26 Web Traffic and Independent Variables"
        },
        "xaxis": {
         "title": {
          "text": "Date"
         }
        },
        "yaxis": {
         "tickfont": {
          "color": "#000000"
         },
         "title": {
          "font": {
           "color": "#000000"
          },
          "text": "Web Traffic"
         }
        },
        "yaxis2": {
         "overlaying": "y",
         "side": "right",
         "tickfont": {
          "color": "#000000"
         },
         "title": {
          "font": {
           "color": "#000000"
          },
          "text": "Independent Variables"
         }
        }
       }
      }
     },
     "metadata": {},
     "output_type": "display_data"
    },
    {
     "data": {
      "application/vnd.plotly.v1+json": {
       "config": {
        "plotlyServerURL": "https://plot.ly"
       },
       "data": [
        {
         "mode": "lines",
         "name": "web_traffic",
         "type": "scatter",
         "x": [
          "2021-12-01",
          "2021-12-01",
          "2021-12-01",
          "2021-12-01",
          "2022-01-01",
          "2022-01-01",
          "2022-01-01",
          "2022-01-01",
          "2022-02-01",
          "2022-02-01",
          "2022-02-01",
          "2022-02-01",
          "2022-03-01",
          "2022-03-01",
          "2022-03-01",
          "2022-03-01",
          "2022-04-01",
          "2022-04-01",
          "2022-04-01",
          "2022-04-01",
          "2022-05-01",
          "2022-05-01",
          "2022-05-01",
          "2022-05-01",
          "2022-06-01",
          "2022-06-01",
          "2022-06-01",
          "2022-06-01",
          "2022-07-01",
          "2022-07-01",
          "2022-07-01",
          "2022-07-01",
          "2022-08-01",
          "2022-08-01",
          "2022-08-01",
          "2022-08-01",
          "2022-09-01",
          "2022-09-01",
          "2022-09-01",
          "2022-09-01",
          "2022-10-01",
          "2022-10-01",
          "2022-10-01",
          "2022-10-01",
          "2022-11-01",
          "2022-11-01",
          "2022-11-01",
          "2022-11-01",
          "2022-12-01",
          "2022-12-01",
          "2022-12-01",
          "2022-12-01",
          "2023-01-01",
          "2023-01-01",
          "2023-01-01",
          "2023-01-01",
          "2023-02-01",
          "2023-02-01",
          "2023-02-01",
          "2023-02-01",
          "2023-03-01",
          "2023-03-01",
          "2023-03-01",
          "2023-03-01",
          "2023-04-01",
          "2023-04-01",
          "2023-04-01",
          "2023-04-01",
          "2023-05-01",
          "2023-05-01",
          "2023-05-01",
          "2023-05-01",
          "2023-06-01",
          "2023-06-01",
          "2023-06-01",
          "2023-06-01",
          "2023-07-01",
          "2023-07-01",
          "2023-07-01",
          "2023-07-01",
          "2023-08-01",
          "2023-08-01",
          "2023-08-01",
          "2023-08-01",
          "2023-09-01",
          "2023-09-01",
          "2023-09-01",
          "2023-09-01",
          "2023-10-01",
          "2023-10-01",
          "2023-10-01",
          "2023-10-01",
          "2023-11-01",
          "2023-11-01",
          "2023-11-01",
          "2023-11-01",
          "2023-12-01",
          "2023-12-01",
          "2023-12-01",
          "2023-12-01"
         ],
         "y": [
          20611.877467019574,
          20611.877467019574,
          20611.877467019574,
          20611.877467019574,
          28890.415604773065,
          28890.415604773065,
          28890.415604773065,
          28890.415604773065,
          24924.68118436902,
          24924.68118436902,
          24924.68118436902,
          24924.68118436902,
          23968.596015124363,
          23968.596015124363,
          23968.596015124363,
          23968.596015124363,
          27150.311204916776,
          27150.311204916776,
          27150.311204916776,
          27150.311204916776,
          12267.129452972538,
          12267.129452972538,
          12267.129452972538,
          12267.129452972538,
          27765.9781710917,
          27765.9781710917,
          27765.9781710917,
          27765.9781710917,
          33651.426645391424,
          33651.426645391424,
          33651.426645391424,
          33651.426645391424,
          36382.54241811369,
          36382.54241811369,
          36382.54241811369,
          36382.54241811369,
          40102.3719438098,
          40102.3719438098,
          40102.3719438098,
          40102.3719438098,
          18165.133261740248,
          18165.133261740248,
          18165.133261740248,
          18165.133261740248,
          32183.327434895953,
          32183.327434895953,
          32183.327434895953,
          32183.327434895953,
          44020.33598295302,
          44020.33598295302,
          44020.33598295302,
          44020.33598295302,
          62312.793075368056,
          62312.793075368056,
          62312.793075368056,
          62312.793075368056,
          45136.357494715296,
          45136.357494715296,
          45136.357494715296,
          45136.357494715296,
          45176.84391601955,
          45176.84391601955,
          45176.84391601955,
          45176.84391601955,
          31605.25034550236,
          31605.25034550236,
          31605.25034550236,
          31605.25034550236,
          40352.96900686287,
          40352.96900686287,
          40352.96900686287,
          40352.96900686287,
          35514.73489812541,
          35514.73489812541,
          35514.73489812541,
          35514.73489812541,
          21331.91578388771,
          21331.91578388771,
          21331.91578388771,
          21331.91578388771,
          18200.440263664634,
          18200.440263664634,
          18200.440263664634,
          18200.440263664634,
          11592.195403930802,
          11592.195403930802,
          11592.195403930802,
          11592.195403930802,
          15965.007608487933,
          15965.007608487933,
          15965.007608487933,
          15965.007608487933,
          29518.772024870043,
          29518.772024870043,
          29518.772024870043,
          29518.772024870043,
          33315.90213484227,
          33315.90213484227,
          33315.90213484227,
          33315.90213484227
         ],
         "yaxis": "y"
        },
        {
         "mode": "lines",
         "name": "cross_visitation",
         "type": "scatter",
         "x": [
          "2021-12-01",
          "2021-12-01",
          "2021-12-01",
          "2021-12-01",
          "2022-01-01",
          "2022-01-01",
          "2022-01-01",
          "2022-01-01",
          "2022-02-01",
          "2022-02-01",
          "2022-02-01",
          "2022-02-01",
          "2022-03-01",
          "2022-03-01",
          "2022-03-01",
          "2022-03-01",
          "2022-04-01",
          "2022-04-01",
          "2022-04-01",
          "2022-04-01",
          "2022-05-01",
          "2022-05-01",
          "2022-05-01",
          "2022-05-01",
          "2022-06-01",
          "2022-06-01",
          "2022-06-01",
          "2022-06-01",
          "2022-07-01",
          "2022-07-01",
          "2022-07-01",
          "2022-07-01",
          "2022-08-01",
          "2022-08-01",
          "2022-08-01",
          "2022-08-01",
          "2022-09-01",
          "2022-09-01",
          "2022-09-01",
          "2022-09-01",
          "2022-10-01",
          "2022-10-01",
          "2022-10-01",
          "2022-10-01",
          "2022-11-01",
          "2022-11-01",
          "2022-11-01",
          "2022-11-01",
          "2022-12-01",
          "2022-12-01",
          "2022-12-01",
          "2022-12-01",
          "2023-01-01",
          "2023-01-01",
          "2023-01-01",
          "2023-01-01",
          "2023-02-01",
          "2023-02-01",
          "2023-02-01",
          "2023-02-01",
          "2023-03-01",
          "2023-03-01",
          "2023-03-01",
          "2023-03-01",
          "2023-04-01",
          "2023-04-01",
          "2023-04-01",
          "2023-04-01",
          "2023-05-01",
          "2023-05-01",
          "2023-05-01",
          "2023-05-01",
          "2023-06-01",
          "2023-06-01",
          "2023-06-01",
          "2023-06-01",
          "2023-07-01",
          "2023-07-01",
          "2023-07-01",
          "2023-07-01",
          "2023-08-01",
          "2023-08-01",
          "2023-08-01",
          "2023-08-01",
          "2023-09-01",
          "2023-09-01",
          "2023-09-01",
          "2023-09-01",
          "2023-10-01",
          "2023-10-01",
          "2023-10-01",
          "2023-10-01",
          "2023-11-01",
          "2023-11-01",
          "2023-11-01",
          "2023-11-01",
          "2023-12-01",
          "2023-12-01",
          "2023-12-01",
          "2023-12-01"
         ],
         "y": [
          0.0702290087938308,
          0.0702290087938308,
          0.0702290087938308,
          0.0702290087938308,
          0.0846047177910804,
          0.0846047177910804,
          0.0846047177910804,
          0.0846047177910804,
          0.0596205964684486,
          0.0596205964684486,
          0.0596205964684486,
          0.0596205964684486,
          0.0676506757736206,
          0.0676506757736206,
          0.0676506757736206,
          0.0676506757736206,
          0.0640074238181114,
          0.0640074238181114,
          0.0640074238181114,
          0.0640074238181114,
          0.0656084641814231,
          0.0656084641814231,
          0.0656084641814231,
          0.0656084641814231,
          0.0656168013811111,
          0.0656168013811111,
          0.0656168013811111,
          0.0656168013811111,
          0.0767807587981224,
          0.0767807587981224,
          0.0767807587981224,
          0.0767807587981224,
          0.0791027173399925,
          0.0791027173399925,
          0.0791027173399925,
          0.0791027173399925,
          0.0753176063299179,
          0.0753176063299179,
          0.0753176063299179,
          0.0753176063299179,
          0.0710710734128952,
          0.0710710734128952,
          0.0710710734128952,
          0.0710710734128952,
          0.0750883370637893,
          0.0750883370637893,
          0.0750883370637893,
          0.0750883370637893,
          0.1022604927420616,
          0.1022604927420616,
          0.1022604927420616,
          0.1022604927420616,
          0.0924453288316726,
          0.0924453288316726,
          0.0924453288316726,
          0.0924453288316726,
          0.0821078419685363,
          0.0821078419685363,
          0.0821078419685363,
          0.0821078419685363,
          0.0793522298336029,
          0.0793522298336029,
          0.0793522298336029,
          0.0793522298336029,
          0.0813528299331665,
          0.0813528299331665,
          0.0813528299331665,
          0.0813528299331665,
          0.0774853825569152,
          0.0774853825569152,
          0.0774853825569152,
          0.0774853825569152,
          0.08195211738348,
          0.08195211738348,
          0.08195211738348,
          0.08195211738348,
          0.0917622521519661,
          0.0917622521519661,
          0.0917622521519661,
          0.0917622521519661,
          0.0928571447730064,
          0.0928571447730064,
          0.0928571447730064,
          0.0928571447730064,
          0.0861878469586372,
          0.0861878469586372,
          0.0861878469586372,
          0.0861878469586372,
          0.0993006974458694,
          0.0993006974458694,
          0.0993006974458694,
          0.0993006974458694,
          0.0917431190609932,
          0.0917431190609932,
          0.0917431190609932,
          0.0917431190609932,
          0.1413881778717041,
          0.1413881778717041,
          0.1413881778717041,
          0.1413881778717041
         ],
         "yaxis": "y2"
        },
        {
         "mode": "lines",
         "name": "rank",
         "type": "scatter",
         "x": [
          "2021-12-01",
          "2021-12-01",
          "2021-12-01",
          "2021-12-01",
          "2022-01-01",
          "2022-01-01",
          "2022-01-01",
          "2022-01-01",
          "2022-02-01",
          "2022-02-01",
          "2022-02-01",
          "2022-02-01",
          "2022-03-01",
          "2022-03-01",
          "2022-03-01",
          "2022-03-01",
          "2022-04-01",
          "2022-04-01",
          "2022-04-01",
          "2022-04-01",
          "2022-05-01",
          "2022-05-01",
          "2022-05-01",
          "2022-05-01",
          "2022-06-01",
          "2022-06-01",
          "2022-06-01",
          "2022-06-01",
          "2022-07-01",
          "2022-07-01",
          "2022-07-01",
          "2022-07-01",
          "2022-08-01",
          "2022-08-01",
          "2022-08-01",
          "2022-08-01",
          "2022-09-01",
          "2022-09-01",
          "2022-09-01",
          "2022-09-01",
          "2022-10-01",
          "2022-10-01",
          "2022-10-01",
          "2022-10-01",
          "2022-11-01",
          "2022-11-01",
          "2022-11-01",
          "2022-11-01",
          "2022-12-01",
          "2022-12-01",
          "2022-12-01",
          "2022-12-01",
          "2023-01-01",
          "2023-01-01",
          "2023-01-01",
          "2023-01-01",
          "2023-02-01",
          "2023-02-01",
          "2023-02-01",
          "2023-02-01",
          "2023-03-01",
          "2023-03-01",
          "2023-03-01",
          "2023-03-01",
          "2023-04-01",
          "2023-04-01",
          "2023-04-01",
          "2023-04-01",
          "2023-05-01",
          "2023-05-01",
          "2023-05-01",
          "2023-05-01",
          "2023-06-01",
          "2023-06-01",
          "2023-06-01",
          "2023-06-01",
          "2023-07-01",
          "2023-07-01",
          "2023-07-01",
          "2023-07-01",
          "2023-08-01",
          "2023-08-01",
          "2023-08-01",
          "2023-08-01",
          "2023-09-01",
          "2023-09-01",
          "2023-09-01",
          "2023-09-01",
          "2023-10-01",
          "2023-10-01",
          "2023-10-01",
          "2023-10-01",
          "2023-11-01",
          "2023-11-01",
          "2023-11-01",
          "2023-11-01",
          "2023-12-01",
          "2023-12-01",
          "2023-12-01",
          "2023-12-01"
         ],
         "y": [
          6,
          6,
          2,
          2,
          2,
          2,
          2,
          2,
          2,
          2,
          2,
          2,
          2,
          2,
          2,
          2,
          2,
          2,
          2,
          2,
          2,
          2,
          3,
          3,
          3,
          3,
          2,
          2,
          2,
          2,
          2,
          2,
          2,
          5,
          5,
          5,
          2,
          5,
          5,
          5,
          5,
          5,
          5,
          5,
          6,
          6,
          6,
          2,
          2,
          2,
          2,
          4,
          1,
          1,
          1,
          4,
          6,
          4,
          4,
          6,
          2,
          2,
          2,
          7,
          7,
          7,
          7,
          7,
          7,
          7,
          7,
          7,
          7,
          7,
          7,
          7,
          2,
          1,
          1,
          7,
          1,
          1,
          1,
          8,
          8,
          8,
          8,
          8,
          8,
          8,
          8,
          8,
          2.823529411764706,
          1,
          1,
          1,
          3.2580645161290325,
          1,
          1,
          1
         ],
         "yaxis": "y2"
        },
        {
         "mode": "lines",
         "name": "category_best_salary_accounts_helmycash",
         "type": "scatter",
         "x": [
          "2021-12-01",
          "2021-12-01",
          "2021-12-01",
          "2021-12-01",
          "2022-01-01",
          "2022-01-01",
          "2022-01-01",
          "2022-01-01",
          "2022-02-01",
          "2022-02-01",
          "2022-02-01",
          "2022-02-01",
          "2022-03-01",
          "2022-03-01",
          "2022-03-01",
          "2022-03-01",
          "2022-04-01",
          "2022-04-01",
          "2022-04-01",
          "2022-04-01",
          "2022-05-01",
          "2022-05-01",
          "2022-05-01",
          "2022-05-01",
          "2022-06-01",
          "2022-06-01",
          "2022-06-01",
          "2022-06-01",
          "2022-07-01",
          "2022-07-01",
          "2022-07-01",
          "2022-07-01",
          "2022-08-01",
          "2022-08-01",
          "2022-08-01",
          "2022-08-01",
          "2022-09-01",
          "2022-09-01",
          "2022-09-01",
          "2022-09-01",
          "2022-10-01",
          "2022-10-01",
          "2022-10-01",
          "2022-10-01",
          "2022-11-01",
          "2022-11-01",
          "2022-11-01",
          "2022-11-01",
          "2022-12-01",
          "2022-12-01",
          "2022-12-01",
          "2022-12-01",
          "2023-01-01",
          "2023-01-01",
          "2023-01-01",
          "2023-01-01",
          "2023-02-01",
          "2023-02-01",
          "2023-02-01",
          "2023-02-01",
          "2023-03-01",
          "2023-03-01",
          "2023-03-01",
          "2023-03-01",
          "2023-04-01",
          "2023-04-01",
          "2023-04-01",
          "2023-04-01",
          "2023-05-01",
          "2023-05-01",
          "2023-05-01",
          "2023-05-01",
          "2023-06-01",
          "2023-06-01",
          "2023-06-01",
          "2023-06-01",
          "2023-07-01",
          "2023-07-01",
          "2023-07-01",
          "2023-07-01",
          "2023-08-01",
          "2023-08-01",
          "2023-08-01",
          "2023-08-01",
          "2023-09-01",
          "2023-09-01",
          "2023-09-01",
          "2023-09-01",
          "2023-10-01",
          "2023-10-01",
          "2023-10-01",
          "2023-10-01",
          "2023-11-01",
          "2023-11-01",
          "2023-11-01",
          "2023-11-01",
          "2023-12-01",
          "2023-12-01",
          "2023-12-01",
          "2023-12-01"
         ],
         "y": [
          0,
          1,
          0,
          0,
          0,
          1,
          0,
          0,
          0,
          1,
          0,
          0,
          0,
          1,
          0,
          0,
          0,
          1,
          0,
          0,
          0,
          1,
          0,
          0,
          0,
          1,
          0,
          0,
          0,
          1,
          0,
          0,
          0,
          1,
          0,
          0,
          0,
          1,
          0,
          0,
          0,
          1,
          0,
          0,
          0,
          1,
          0,
          0,
          0,
          1,
          0,
          0,
          0,
          1,
          0,
          0,
          0,
          1,
          0,
          0,
          0,
          1,
          0,
          0,
          0,
          1,
          0,
          0,
          0,
          1,
          0,
          0,
          0,
          1,
          0,
          0,
          0,
          1,
          0,
          0,
          0,
          1,
          0,
          0,
          0,
          1,
          0,
          0,
          0,
          1,
          0,
          0,
          0,
          1,
          0,
          0,
          0,
          1,
          0,
          0
         ],
         "yaxis": "y2"
        },
        {
         "mode": "lines",
         "name": "category_best_savings_accounts_helpmycash",
         "type": "scatter",
         "x": [
          "2021-12-01",
          "2021-12-01",
          "2021-12-01",
          "2021-12-01",
          "2022-01-01",
          "2022-01-01",
          "2022-01-01",
          "2022-01-01",
          "2022-02-01",
          "2022-02-01",
          "2022-02-01",
          "2022-02-01",
          "2022-03-01",
          "2022-03-01",
          "2022-03-01",
          "2022-03-01",
          "2022-04-01",
          "2022-04-01",
          "2022-04-01",
          "2022-04-01",
          "2022-05-01",
          "2022-05-01",
          "2022-05-01",
          "2022-05-01",
          "2022-06-01",
          "2022-06-01",
          "2022-06-01",
          "2022-06-01",
          "2022-07-01",
          "2022-07-01",
          "2022-07-01",
          "2022-07-01",
          "2022-08-01",
          "2022-08-01",
          "2022-08-01",
          "2022-08-01",
          "2022-09-01",
          "2022-09-01",
          "2022-09-01",
          "2022-09-01",
          "2022-10-01",
          "2022-10-01",
          "2022-10-01",
          "2022-10-01",
          "2022-11-01",
          "2022-11-01",
          "2022-11-01",
          "2022-11-01",
          "2022-12-01",
          "2022-12-01",
          "2022-12-01",
          "2022-12-01",
          "2023-01-01",
          "2023-01-01",
          "2023-01-01",
          "2023-01-01",
          "2023-02-01",
          "2023-02-01",
          "2023-02-01",
          "2023-02-01",
          "2023-03-01",
          "2023-03-01",
          "2023-03-01",
          "2023-03-01",
          "2023-04-01",
          "2023-04-01",
          "2023-04-01",
          "2023-04-01",
          "2023-05-01",
          "2023-05-01",
          "2023-05-01",
          "2023-05-01",
          "2023-06-01",
          "2023-06-01",
          "2023-06-01",
          "2023-06-01",
          "2023-07-01",
          "2023-07-01",
          "2023-07-01",
          "2023-07-01",
          "2023-08-01",
          "2023-08-01",
          "2023-08-01",
          "2023-08-01",
          "2023-09-01",
          "2023-09-01",
          "2023-09-01",
          "2023-09-01",
          "2023-10-01",
          "2023-10-01",
          "2023-10-01",
          "2023-10-01",
          "2023-11-01",
          "2023-11-01",
          "2023-11-01",
          "2023-11-01",
          "2023-12-01",
          "2023-12-01",
          "2023-12-01",
          "2023-12-01"
         ],
         "y": [
          0,
          0,
          1,
          1,
          0,
          0,
          1,
          1,
          0,
          0,
          1,
          1,
          0,
          0,
          1,
          1,
          0,
          0,
          1,
          1,
          0,
          0,
          1,
          1,
          0,
          0,
          1,
          1,
          0,
          0,
          1,
          1,
          0,
          0,
          1,
          1,
          0,
          0,
          1,
          1,
          0,
          0,
          1,
          1,
          0,
          0,
          1,
          1,
          0,
          0,
          1,
          1,
          0,
          0,
          1,
          1,
          0,
          0,
          1,
          1,
          0,
          0,
          1,
          1,
          0,
          0,
          1,
          1,
          0,
          0,
          1,
          1,
          0,
          0,
          1,
          1,
          0,
          0,
          1,
          1,
          0,
          0,
          1,
          1,
          0,
          0,
          1,
          1,
          0,
          0,
          1,
          1,
          0,
          0,
          1,
          1,
          0,
          0,
          1,
          1
         ],
         "yaxis": "y2"
        },
        {
         "mode": "lines",
         "name": "incentive",
         "type": "scatter",
         "x": [
          "2021-12-01",
          "2021-12-01",
          "2021-12-01",
          "2021-12-01",
          "2022-01-01",
          "2022-01-01",
          "2022-01-01",
          "2022-01-01",
          "2022-02-01",
          "2022-02-01",
          "2022-02-01",
          "2022-02-01",
          "2022-03-01",
          "2022-03-01",
          "2022-03-01",
          "2022-03-01",
          "2022-04-01",
          "2022-04-01",
          "2022-04-01",
          "2022-04-01",
          "2022-05-01",
          "2022-05-01",
          "2022-05-01",
          "2022-05-01",
          "2022-06-01",
          "2022-06-01",
          "2022-06-01",
          "2022-06-01",
          "2022-07-01",
          "2022-07-01",
          "2022-07-01",
          "2022-07-01",
          "2022-08-01",
          "2022-08-01",
          "2022-08-01",
          "2022-08-01",
          "2022-09-01",
          "2022-09-01",
          "2022-09-01",
          "2022-09-01",
          "2022-10-01",
          "2022-10-01",
          "2022-10-01",
          "2022-10-01",
          "2022-11-01",
          "2022-11-01",
          "2022-11-01",
          "2022-11-01",
          "2022-12-01",
          "2022-12-01",
          "2022-12-01",
          "2022-12-01",
          "2023-01-01",
          "2023-01-01",
          "2023-01-01",
          "2023-01-01",
          "2023-02-01",
          "2023-02-01",
          "2023-02-01",
          "2023-02-01",
          "2023-03-01",
          "2023-03-01",
          "2023-03-01",
          "2023-03-01",
          "2023-04-01",
          "2023-04-01",
          "2023-04-01",
          "2023-04-01",
          "2023-05-01",
          "2023-05-01",
          "2023-05-01",
          "2023-05-01",
          "2023-06-01",
          "2023-06-01",
          "2023-06-01",
          "2023-06-01",
          "2023-07-01",
          "2023-07-01",
          "2023-07-01",
          "2023-07-01",
          "2023-08-01",
          "2023-08-01",
          "2023-08-01",
          "2023-08-01",
          "2023-09-01",
          "2023-09-01",
          "2023-09-01",
          "2023-09-01",
          "2023-10-01",
          "2023-10-01",
          "2023-10-01",
          "2023-10-01",
          "2023-11-01",
          "2023-11-01",
          "2023-11-01",
          "2023-11-01",
          "2023-12-01",
          "2023-12-01",
          "2023-12-01",
          "2023-12-01"
         ],
         "y": [
          0,
          0,
          0,
          0,
          0,
          0,
          0,
          0,
          0,
          0,
          0,
          0,
          0,
          0,
          0,
          0,
          0,
          0,
          0,
          0,
          0,
          0,
          0,
          0,
          0,
          0,
          0,
          0,
          0,
          0,
          0,
          0,
          0,
          0,
          0,
          0,
          0,
          0,
          0,
          0,
          0,
          0,
          0,
          0,
          0,
          0,
          0,
          0,
          0,
          0,
          0,
          0,
          0,
          0,
          0,
          0,
          0,
          0,
          0,
          0,
          0,
          0,
          0,
          0,
          250,
          250,
          250,
          250,
          250,
          250,
          250,
          250,
          250,
          250,
          250,
          250,
          250,
          250,
          250,
          250,
          250,
          250,
          250,
          250,
          250,
          250,
          250,
          250,
          250,
          250,
          250,
          250,
          250,
          250,
          250,
          250,
          250,
          250,
          250,
          250
         ],
         "yaxis": "y2"
        },
        {
         "mode": "lines",
         "name": "apr",
         "type": "scatter",
         "x": [
          "2021-12-01",
          "2021-12-01",
          "2021-12-01",
          "2021-12-01",
          "2022-01-01",
          "2022-01-01",
          "2022-01-01",
          "2022-01-01",
          "2022-02-01",
          "2022-02-01",
          "2022-02-01",
          "2022-02-01",
          "2022-03-01",
          "2022-03-01",
          "2022-03-01",
          "2022-03-01",
          "2022-04-01",
          "2022-04-01",
          "2022-04-01",
          "2022-04-01",
          "2022-05-01",
          "2022-05-01",
          "2022-05-01",
          "2022-05-01",
          "2022-06-01",
          "2022-06-01",
          "2022-06-01",
          "2022-06-01",
          "2022-07-01",
          "2022-07-01",
          "2022-07-01",
          "2022-07-01",
          "2022-08-01",
          "2022-08-01",
          "2022-08-01",
          "2022-08-01",
          "2022-09-01",
          "2022-09-01",
          "2022-09-01",
          "2022-09-01",
          "2022-10-01",
          "2022-10-01",
          "2022-10-01",
          "2022-10-01",
          "2022-11-01",
          "2022-11-01",
          "2022-11-01",
          "2022-11-01",
          "2022-12-01",
          "2022-12-01",
          "2022-12-01",
          "2022-12-01",
          "2023-01-01",
          "2023-01-01",
          "2023-01-01",
          "2023-01-01",
          "2023-02-01",
          "2023-02-01",
          "2023-02-01",
          "2023-02-01",
          "2023-03-01",
          "2023-03-01",
          "2023-03-01",
          "2023-03-01",
          "2023-04-01",
          "2023-04-01",
          "2023-04-01",
          "2023-04-01",
          "2023-05-01",
          "2023-05-01",
          "2023-05-01",
          "2023-05-01",
          "2023-06-01",
          "2023-06-01",
          "2023-06-01",
          "2023-06-01",
          "2023-07-01",
          "2023-07-01",
          "2023-07-01",
          "2023-07-01",
          "2023-08-01",
          "2023-08-01",
          "2023-08-01",
          "2023-08-01",
          "2023-09-01",
          "2023-09-01",
          "2023-09-01",
          "2023-09-01",
          "2023-10-01",
          "2023-10-01",
          "2023-10-01",
          "2023-10-01",
          "2023-11-01",
          "2023-11-01",
          "2023-11-01",
          "2023-11-01",
          "2023-12-01",
          "2023-12-01",
          "2023-12-01",
          "2023-12-01"
         ],
         "y": [
          0,
          0,
          0,
          0,
          0,
          0,
          0,
          0,
          0,
          0,
          0,
          0,
          0,
          0,
          0,
          0,
          0,
          0,
          0,
          0,
          0,
          0,
          0,
          0,
          0,
          0,
          0,
          0,
          0,
          0,
          0,
          0,
          0,
          0,
          0,
          0,
          0,
          0,
          0,
          0,
          0,
          0,
          0,
          0,
          0,
          0,
          0,
          0,
          0,
          0,
          0,
          0,
          0,
          0,
          0,
          0,
          0,
          0,
          0,
          0,
          0,
          0,
          0,
          0,
          0,
          0,
          0,
          0,
          0,
          0,
          0,
          0,
          0,
          0,
          0,
          0,
          0,
          0,
          0,
          0,
          0,
          0,
          0,
          0,
          0,
          0,
          0,
          0,
          0,
          0,
          0,
          0,
          0,
          0,
          0,
          0,
          0,
          0,
          0,
          0
         ],
         "yaxis": "y2"
        },
        {
         "mode": "lines",
         "name": "mentions",
         "type": "scatter",
         "x": [
          "2021-12-01",
          "2021-12-01",
          "2021-12-01",
          "2021-12-01",
          "2022-01-01",
          "2022-01-01",
          "2022-01-01",
          "2022-01-01",
          "2022-02-01",
          "2022-02-01",
          "2022-02-01",
          "2022-02-01",
          "2022-03-01",
          "2022-03-01",
          "2022-03-01",
          "2022-03-01",
          "2022-04-01",
          "2022-04-01",
          "2022-04-01",
          "2022-04-01",
          "2022-05-01",
          "2022-05-01",
          "2022-05-01",
          "2022-05-01",
          "2022-06-01",
          "2022-06-01",
          "2022-06-01",
          "2022-06-01",
          "2022-07-01",
          "2022-07-01",
          "2022-07-01",
          "2022-07-01",
          "2022-08-01",
          "2022-08-01",
          "2022-08-01",
          "2022-08-01",
          "2022-09-01",
          "2022-09-01",
          "2022-09-01",
          "2022-09-01",
          "2022-10-01",
          "2022-10-01",
          "2022-10-01",
          "2022-10-01",
          "2022-11-01",
          "2022-11-01",
          "2022-11-01",
          "2022-11-01",
          "2022-12-01",
          "2022-12-01",
          "2022-12-01",
          "2022-12-01",
          "2023-01-01",
          "2023-01-01",
          "2023-01-01",
          "2023-01-01",
          "2023-02-01",
          "2023-02-01",
          "2023-02-01",
          "2023-02-01",
          "2023-03-01",
          "2023-03-01",
          "2023-03-01",
          "2023-03-01",
          "2023-04-01",
          "2023-04-01",
          "2023-04-01",
          "2023-04-01",
          "2023-05-01",
          "2023-05-01",
          "2023-05-01",
          "2023-05-01",
          "2023-06-01",
          "2023-06-01",
          "2023-06-01",
          "2023-06-01",
          "2023-07-01",
          "2023-07-01",
          "2023-07-01",
          "2023-07-01",
          "2023-08-01",
          "2023-08-01",
          "2023-08-01",
          "2023-08-01",
          "2023-09-01",
          "2023-09-01",
          "2023-09-01",
          "2023-09-01",
          "2023-10-01",
          "2023-10-01",
          "2023-10-01",
          "2023-10-01",
          "2023-11-01",
          "2023-11-01",
          "2023-11-01",
          "2023-11-01",
          "2023-12-01",
          "2023-12-01",
          "2023-12-01",
          "2023-12-01"
         ],
         "y": [
          0,
          0,
          0,
          0,
          0,
          0,
          0,
          0,
          0,
          0,
          0,
          0,
          0,
          0,
          0,
          0,
          0,
          0,
          0,
          0,
          0,
          0,
          0,
          0,
          0,
          0,
          0,
          0,
          0,
          0,
          0,
          0,
          0,
          0,
          0,
          0,
          0,
          0,
          0,
          0,
          0,
          0,
          0,
          0,
          0,
          0,
          0,
          0,
          0,
          0,
          0,
          0,
          0,
          0,
          0,
          0,
          0,
          0,
          0,
          0,
          0,
          0,
          0,
          0,
          0,
          0,
          0,
          0,
          0,
          0,
          0,
          0,
          0,
          0,
          0,
          0,
          0,
          0,
          0,
          0,
          0,
          0,
          0,
          0,
          0,
          0,
          0,
          0,
          0,
          0,
          0,
          0,
          0,
          0,
          0,
          0,
          0,
          0,
          0,
          0
         ],
         "yaxis": "y2"
        }
       ],
       "layout": {
        "legend": {
         "x": 1.1,
         "y": 1
        },
        "template": {
         "data": {
          "bar": [
           {
            "error_x": {
             "color": "#2a3f5f"
            },
            "error_y": {
             "color": "#2a3f5f"
            },
            "marker": {
             "line": {
              "color": "#E5ECF6",
              "width": 0.5
             },
             "pattern": {
              "fillmode": "overlay",
              "size": 10,
              "solidity": 0.2
             }
            },
            "type": "bar"
           }
          ],
          "barpolar": [
           {
            "marker": {
             "line": {
              "color": "#E5ECF6",
              "width": 0.5
             },
             "pattern": {
              "fillmode": "overlay",
              "size": 10,
              "solidity": 0.2
             }
            },
            "type": "barpolar"
           }
          ],
          "carpet": [
           {
            "aaxis": {
             "endlinecolor": "#2a3f5f",
             "gridcolor": "white",
             "linecolor": "white",
             "minorgridcolor": "white",
             "startlinecolor": "#2a3f5f"
            },
            "baxis": {
             "endlinecolor": "#2a3f5f",
             "gridcolor": "white",
             "linecolor": "white",
             "minorgridcolor": "white",
             "startlinecolor": "#2a3f5f"
            },
            "type": "carpet"
           }
          ],
          "choropleth": [
           {
            "colorbar": {
             "outlinewidth": 0,
             "ticks": ""
            },
            "type": "choropleth"
           }
          ],
          "contour": [
           {
            "colorbar": {
             "outlinewidth": 0,
             "ticks": ""
            },
            "colorscale": [
             [
              0,
              "#0d0887"
             ],
             [
              0.1111111111111111,
              "#46039f"
             ],
             [
              0.2222222222222222,
              "#7201a8"
             ],
             [
              0.3333333333333333,
              "#9c179e"
             ],
             [
              0.4444444444444444,
              "#bd3786"
             ],
             [
              0.5555555555555556,
              "#d8576b"
             ],
             [
              0.6666666666666666,
              "#ed7953"
             ],
             [
              0.7777777777777778,
              "#fb9f3a"
             ],
             [
              0.8888888888888888,
              "#fdca26"
             ],
             [
              1,
              "#f0f921"
             ]
            ],
            "type": "contour"
           }
          ],
          "contourcarpet": [
           {
            "colorbar": {
             "outlinewidth": 0,
             "ticks": ""
            },
            "type": "contourcarpet"
           }
          ],
          "heatmap": [
           {
            "colorbar": {
             "outlinewidth": 0,
             "ticks": ""
            },
            "colorscale": [
             [
              0,
              "#0d0887"
             ],
             [
              0.1111111111111111,
              "#46039f"
             ],
             [
              0.2222222222222222,
              "#7201a8"
             ],
             [
              0.3333333333333333,
              "#9c179e"
             ],
             [
              0.4444444444444444,
              "#bd3786"
             ],
             [
              0.5555555555555556,
              "#d8576b"
             ],
             [
              0.6666666666666666,
              "#ed7953"
             ],
             [
              0.7777777777777778,
              "#fb9f3a"
             ],
             [
              0.8888888888888888,
              "#fdca26"
             ],
             [
              1,
              "#f0f921"
             ]
            ],
            "type": "heatmap"
           }
          ],
          "heatmapgl": [
           {
            "colorbar": {
             "outlinewidth": 0,
             "ticks": ""
            },
            "colorscale": [
             [
              0,
              "#0d0887"
             ],
             [
              0.1111111111111111,
              "#46039f"
             ],
             [
              0.2222222222222222,
              "#7201a8"
             ],
             [
              0.3333333333333333,
              "#9c179e"
             ],
             [
              0.4444444444444444,
              "#bd3786"
             ],
             [
              0.5555555555555556,
              "#d8576b"
             ],
             [
              0.6666666666666666,
              "#ed7953"
             ],
             [
              0.7777777777777778,
              "#fb9f3a"
             ],
             [
              0.8888888888888888,
              "#fdca26"
             ],
             [
              1,
              "#f0f921"
             ]
            ],
            "type": "heatmapgl"
           }
          ],
          "histogram": [
           {
            "marker": {
             "pattern": {
              "fillmode": "overlay",
              "size": 10,
              "solidity": 0.2
             }
            },
            "type": "histogram"
           }
          ],
          "histogram2d": [
           {
            "colorbar": {
             "outlinewidth": 0,
             "ticks": ""
            },
            "colorscale": [
             [
              0,
              "#0d0887"
             ],
             [
              0.1111111111111111,
              "#46039f"
             ],
             [
              0.2222222222222222,
              "#7201a8"
             ],
             [
              0.3333333333333333,
              "#9c179e"
             ],
             [
              0.4444444444444444,
              "#bd3786"
             ],
             [
              0.5555555555555556,
              "#d8576b"
             ],
             [
              0.6666666666666666,
              "#ed7953"
             ],
             [
              0.7777777777777778,
              "#fb9f3a"
             ],
             [
              0.8888888888888888,
              "#fdca26"
             ],
             [
              1,
              "#f0f921"
             ]
            ],
            "type": "histogram2d"
           }
          ],
          "histogram2dcontour": [
           {
            "colorbar": {
             "outlinewidth": 0,
             "ticks": ""
            },
            "colorscale": [
             [
              0,
              "#0d0887"
             ],
             [
              0.1111111111111111,
              "#46039f"
             ],
             [
              0.2222222222222222,
              "#7201a8"
             ],
             [
              0.3333333333333333,
              "#9c179e"
             ],
             [
              0.4444444444444444,
              "#bd3786"
             ],
             [
              0.5555555555555556,
              "#d8576b"
             ],
             [
              0.6666666666666666,
              "#ed7953"
             ],
             [
              0.7777777777777778,
              "#fb9f3a"
             ],
             [
              0.8888888888888888,
              "#fdca26"
             ],
             [
              1,
              "#f0f921"
             ]
            ],
            "type": "histogram2dcontour"
           }
          ],
          "mesh3d": [
           {
            "colorbar": {
             "outlinewidth": 0,
             "ticks": ""
            },
            "type": "mesh3d"
           }
          ],
          "parcoords": [
           {
            "line": {
             "colorbar": {
              "outlinewidth": 0,
              "ticks": ""
             }
            },
            "type": "parcoords"
           }
          ],
          "pie": [
           {
            "automargin": true,
            "type": "pie"
           }
          ],
          "scatter": [
           {
            "fillpattern": {
             "fillmode": "overlay",
             "size": 10,
             "solidity": 0.2
            },
            "type": "scatter"
           }
          ],
          "scatter3d": [
           {
            "line": {
             "colorbar": {
              "outlinewidth": 0,
              "ticks": ""
             }
            },
            "marker": {
             "colorbar": {
              "outlinewidth": 0,
              "ticks": ""
             }
            },
            "type": "scatter3d"
           }
          ],
          "scattercarpet": [
           {
            "marker": {
             "colorbar": {
              "outlinewidth": 0,
              "ticks": ""
             }
            },
            "type": "scattercarpet"
           }
          ],
          "scattergeo": [
           {
            "marker": {
             "colorbar": {
              "outlinewidth": 0,
              "ticks": ""
             }
            },
            "type": "scattergeo"
           }
          ],
          "scattergl": [
           {
            "marker": {
             "colorbar": {
              "outlinewidth": 0,
              "ticks": ""
             }
            },
            "type": "scattergl"
           }
          ],
          "scattermapbox": [
           {
            "marker": {
             "colorbar": {
              "outlinewidth": 0,
              "ticks": ""
             }
            },
            "type": "scattermapbox"
           }
          ],
          "scatterpolar": [
           {
            "marker": {
             "colorbar": {
              "outlinewidth": 0,
              "ticks": ""
             }
            },
            "type": "scatterpolar"
           }
          ],
          "scatterpolargl": [
           {
            "marker": {
             "colorbar": {
              "outlinewidth": 0,
              "ticks": ""
             }
            },
            "type": "scatterpolargl"
           }
          ],
          "scatterternary": [
           {
            "marker": {
             "colorbar": {
              "outlinewidth": 0,
              "ticks": ""
             }
            },
            "type": "scatterternary"
           }
          ],
          "surface": [
           {
            "colorbar": {
             "outlinewidth": 0,
             "ticks": ""
            },
            "colorscale": [
             [
              0,
              "#0d0887"
             ],
             [
              0.1111111111111111,
              "#46039f"
             ],
             [
              0.2222222222222222,
              "#7201a8"
             ],
             [
              0.3333333333333333,
              "#9c179e"
             ],
             [
              0.4444444444444444,
              "#bd3786"
             ],
             [
              0.5555555555555556,
              "#d8576b"
             ],
             [
              0.6666666666666666,
              "#ed7953"
             ],
             [
              0.7777777777777778,
              "#fb9f3a"
             ],
             [
              0.8888888888888888,
              "#fdca26"
             ],
             [
              1,
              "#f0f921"
             ]
            ],
            "type": "surface"
           }
          ],
          "table": [
           {
            "cells": {
             "fill": {
              "color": "#EBF0F8"
             },
             "line": {
              "color": "white"
             }
            },
            "header": {
             "fill": {
              "color": "#C8D4E3"
             },
             "line": {
              "color": "white"
             }
            },
            "type": "table"
           }
          ]
         },
         "layout": {
          "annotationdefaults": {
           "arrowcolor": "#2a3f5f",
           "arrowhead": 0,
           "arrowwidth": 1
          },
          "autotypenumbers": "strict",
          "coloraxis": {
           "colorbar": {
            "outlinewidth": 0,
            "ticks": ""
           }
          },
          "colorscale": {
           "diverging": [
            [
             0,
             "#8e0152"
            ],
            [
             0.1,
             "#c51b7d"
            ],
            [
             0.2,
             "#de77ae"
            ],
            [
             0.3,
             "#f1b6da"
            ],
            [
             0.4,
             "#fde0ef"
            ],
            [
             0.5,
             "#f7f7f7"
            ],
            [
             0.6,
             "#e6f5d0"
            ],
            [
             0.7,
             "#b8e186"
            ],
            [
             0.8,
             "#7fbc41"
            ],
            [
             0.9,
             "#4d9221"
            ],
            [
             1,
             "#276419"
            ]
           ],
           "sequential": [
            [
             0,
             "#0d0887"
            ],
            [
             0.1111111111111111,
             "#46039f"
            ],
            [
             0.2222222222222222,
             "#7201a8"
            ],
            [
             0.3333333333333333,
             "#9c179e"
            ],
            [
             0.4444444444444444,
             "#bd3786"
            ],
            [
             0.5555555555555556,
             "#d8576b"
            ],
            [
             0.6666666666666666,
             "#ed7953"
            ],
            [
             0.7777777777777778,
             "#fb9f3a"
            ],
            [
             0.8888888888888888,
             "#fdca26"
            ],
            [
             1,
             "#f0f921"
            ]
           ],
           "sequentialminus": [
            [
             0,
             "#0d0887"
            ],
            [
             0.1111111111111111,
             "#46039f"
            ],
            [
             0.2222222222222222,
             "#7201a8"
            ],
            [
             0.3333333333333333,
             "#9c179e"
            ],
            [
             0.4444444444444444,
             "#bd3786"
            ],
            [
             0.5555555555555556,
             "#d8576b"
            ],
            [
             0.6666666666666666,
             "#ed7953"
            ],
            [
             0.7777777777777778,
             "#fb9f3a"
            ],
            [
             0.8888888888888888,
             "#fdca26"
            ],
            [
             1,
             "#f0f921"
            ]
           ]
          },
          "colorway": [
           "#636efa",
           "#EF553B",
           "#00cc96",
           "#ab63fa",
           "#FFA15A",
           "#19d3f3",
           "#FF6692",
           "#B6E880",
           "#FF97FF",
           "#FECB52"
          ],
          "font": {
           "color": "#2a3f5f"
          },
          "geo": {
           "bgcolor": "white",
           "lakecolor": "white",
           "landcolor": "#E5ECF6",
           "showlakes": true,
           "showland": true,
           "subunitcolor": "white"
          },
          "hoverlabel": {
           "align": "left"
          },
          "hovermode": "closest",
          "mapbox": {
           "style": "light"
          },
          "paper_bgcolor": "white",
          "plot_bgcolor": "#E5ECF6",
          "polar": {
           "angularaxis": {
            "gridcolor": "white",
            "linecolor": "white",
            "ticks": ""
           },
           "bgcolor": "#E5ECF6",
           "radialaxis": {
            "gridcolor": "white",
            "linecolor": "white",
            "ticks": ""
           }
          },
          "scene": {
           "xaxis": {
            "backgroundcolor": "#E5ECF6",
            "gridcolor": "white",
            "gridwidth": 2,
            "linecolor": "white",
            "showbackground": true,
            "ticks": "",
            "zerolinecolor": "white"
           },
           "yaxis": {
            "backgroundcolor": "#E5ECF6",
            "gridcolor": "white",
            "gridwidth": 2,
            "linecolor": "white",
            "showbackground": true,
            "ticks": "",
            "zerolinecolor": "white"
           },
           "zaxis": {
            "backgroundcolor": "#E5ECF6",
            "gridcolor": "white",
            "gridwidth": 2,
            "linecolor": "white",
            "showbackground": true,
            "ticks": "",
            "zerolinecolor": "white"
           }
          },
          "shapedefaults": {
           "line": {
            "color": "#2a3f5f"
           }
          },
          "ternary": {
           "aaxis": {
            "gridcolor": "white",
            "linecolor": "white",
            "ticks": ""
           },
           "baxis": {
            "gridcolor": "white",
            "linecolor": "white",
            "ticks": ""
           },
           "bgcolor": "#E5ECF6",
           "caxis": {
            "gridcolor": "white",
            "linecolor": "white",
            "ticks": ""
           }
          },
          "title": {
           "x": 0.05
          },
          "xaxis": {
           "automargin": true,
           "gridcolor": "white",
           "linecolor": "white",
           "ticks": "",
           "title": {
            "standoff": 15
           },
           "zerolinecolor": "white",
           "zerolinewidth": 2
          },
          "yaxis": {
           "automargin": true,
           "gridcolor": "white",
           "linecolor": "white",
           "ticks": "",
           "title": {
            "standoff": 15
           },
           "zerolinecolor": "white",
           "zerolinewidth": 2
          }
         }
        },
        "title": {
         "text": "banc sabadell Web Traffic and Independent Variables"
        },
        "xaxis": {
         "title": {
          "text": "Date"
         }
        },
        "yaxis": {
         "tickfont": {
          "color": "#000000"
         },
         "title": {
          "font": {
           "color": "#000000"
          },
          "text": "Web Traffic"
         }
        },
        "yaxis2": {
         "overlaying": "y",
         "side": "right",
         "tickfont": {
          "color": "#000000"
         },
         "title": {
          "font": {
           "color": "#000000"
          },
          "text": "Independent Variables"
         }
        }
       }
      }
     },
     "metadata": {},
     "output_type": "display_data"
    },
    {
     "data": {
      "application/vnd.plotly.v1+json": {
       "config": {
        "plotlyServerURL": "https://plot.ly"
       },
       "data": [
        {
         "mode": "lines",
         "name": "web_traffic",
         "type": "scatter",
         "x": [
          "2021-12-01",
          "2021-12-01",
          "2021-12-01",
          "2021-12-01",
          "2021-12-01",
          "2021-12-01",
          "2021-12-01",
          "2021-12-01",
          "2022-01-01",
          "2022-01-01",
          "2022-01-01",
          "2022-01-01",
          "2022-01-01",
          "2022-01-01",
          "2022-01-01",
          "2022-01-01",
          "2022-02-01",
          "2022-02-01",
          "2022-02-01",
          "2022-02-01",
          "2022-02-01",
          "2022-02-01",
          "2022-02-01",
          "2022-02-01",
          "2022-03-01",
          "2022-03-01",
          "2022-03-01",
          "2022-03-01",
          "2022-03-01",
          "2022-03-01",
          "2022-03-01",
          "2022-03-01",
          "2022-04-01",
          "2022-04-01",
          "2022-04-01",
          "2022-04-01",
          "2022-04-01",
          "2022-04-01",
          "2022-04-01",
          "2022-04-01",
          "2022-05-01",
          "2022-05-01",
          "2022-05-01",
          "2022-05-01",
          "2022-05-01",
          "2022-05-01",
          "2022-05-01",
          "2022-05-01",
          "2022-06-01",
          "2022-06-01",
          "2022-06-01",
          "2022-06-01",
          "2022-06-01",
          "2022-06-01",
          "2022-06-01",
          "2022-06-01",
          "2022-07-01",
          "2022-07-01",
          "2022-07-01",
          "2022-07-01",
          "2022-07-01",
          "2022-07-01",
          "2022-07-01",
          "2022-07-01",
          "2022-08-01",
          "2022-08-01",
          "2022-08-01",
          "2022-08-01",
          "2022-08-01",
          "2022-08-01",
          "2022-08-01",
          "2022-08-01",
          "2022-09-01",
          "2022-09-01",
          "2022-09-01",
          "2022-09-01",
          "2022-09-01",
          "2022-09-01",
          "2022-09-01",
          "2022-09-01",
          "2022-10-01",
          "2022-10-01",
          "2022-10-01",
          "2022-10-01",
          "2022-10-01",
          "2022-10-01",
          "2022-10-01",
          "2022-10-01",
          "2022-11-01",
          "2022-11-01",
          "2022-11-01",
          "2022-11-01",
          "2022-11-01",
          "2022-11-01",
          "2022-11-01",
          "2022-11-01",
          "2022-12-01",
          "2022-12-01",
          "2022-12-01",
          "2022-12-01",
          "2022-12-01",
          "2022-12-01",
          "2022-12-01",
          "2022-12-01",
          "2023-01-01",
          "2023-01-01",
          "2023-01-01",
          "2023-01-01",
          "2023-01-01",
          "2023-01-01",
          "2023-01-01",
          "2023-01-01",
          "2023-02-01",
          "2023-02-01",
          "2023-02-01",
          "2023-02-01",
          "2023-02-01",
          "2023-02-01",
          "2023-02-01",
          "2023-02-01",
          "2023-03-01",
          "2023-03-01",
          "2023-03-01",
          "2023-03-01",
          "2023-03-01",
          "2023-03-01",
          "2023-03-01",
          "2023-03-01",
          "2023-04-01",
          "2023-04-01",
          "2023-04-01",
          "2023-04-01",
          "2023-04-01",
          "2023-04-01",
          "2023-04-01",
          "2023-04-01",
          "2023-05-01",
          "2023-05-01",
          "2023-05-01",
          "2023-05-01",
          "2023-05-01",
          "2023-05-01",
          "2023-05-01",
          "2023-05-01",
          "2023-06-01",
          "2023-06-01",
          "2023-06-01",
          "2023-06-01",
          "2023-06-01",
          "2023-06-01",
          "2023-06-01",
          "2023-06-01",
          "2023-07-01",
          "2023-07-01",
          "2023-07-01",
          "2023-07-01",
          "2023-07-01",
          "2023-07-01",
          "2023-07-01",
          "2023-07-01",
          "2023-08-01",
          "2023-08-01",
          "2023-08-01",
          "2023-08-01",
          "2023-08-01",
          "2023-08-01",
          "2023-08-01",
          "2023-08-01",
          "2023-09-01",
          "2023-09-01",
          "2023-09-01",
          "2023-09-01",
          "2023-09-01",
          "2023-09-01",
          "2023-09-01",
          "2023-09-01",
          "2023-10-01",
          "2023-10-01",
          "2023-10-01",
          "2023-10-01",
          "2023-10-01",
          "2023-10-01",
          "2023-10-01",
          "2023-10-01",
          "2023-11-01",
          "2023-11-01",
          "2023-11-01",
          "2023-11-01",
          "2023-11-01",
          "2023-11-01",
          "2023-11-01",
          "2023-11-01",
          "2023-12-01",
          "2023-12-01",
          "2023-12-01",
          "2023-12-01",
          "2023-12-01",
          "2023-12-01",
          "2023-12-01",
          "2023-12-01"
         ],
         "y": [
          24449.39365384191,
          24449.39365384191,
          24449.39365384191,
          24449.39365384191,
          24448.706785556056,
          24448.706785556056,
          24448.706785556056,
          24448.706785556056,
          24463.625736999373,
          24463.625736999373,
          24463.625736999373,
          24463.625736999373,
          24463.492621359983,
          24463.492621359983,
          24463.492621359983,
          24463.492621359983,
          24456.83945499643,
          24456.83945499643,
          24456.83945499643,
          24456.83945499643,
          24456.44166872823,
          24456.44166872823,
          24456.44166872823,
          24456.44166872823,
          24455.72583489321,
          24455.72583489321,
          24455.72583489321,
          24455.72583489321,
          24455.281024091462,
          24455.281024091462,
          24455.281024091462,
          24455.281024091462,
          24461.18450929176,
          24461.18450929176,
          24461.18450929176,
          24461.18450929176,
          24460.96276963499,
          24460.96276963499,
          24460.96276963499,
          24460.96276963499,
          24467.642359535537,
          24467.642359535537,
          24467.642359535537,
          24467.642359535537,
          24467.64235953552,
          24467.64235953552,
          24467.64235953552,
          24467.64235953552,
          24467.642359535326,
          24467.642359535326,
          24467.642359535326,
          24467.642359535326,
          24467.642359535348,
          24467.642359535348,
          24467.642359535348,
          24467.642359535348,
          22189.24782790647,
          22189.24782790647,
          22189.24782790647,
          22189.24782790647,
          22189.24782790647,
          22189.24782790647,
          22189.24782790647,
          22189.24782790647,
          29944.644101650792,
          29944.644101650792,
          29944.644101650792,
          29944.644101650792,
          29944.644101650792,
          29944.644101650792,
          29944.644101650792,
          29944.644101650792,
          50772.22105030252,
          50772.22105030252,
          50772.22105030252,
          50772.22105030252,
          50772.22105030252,
          50772.22105030252,
          50772.22105030252,
          50772.22105030252,
          37030.16800800749,
          37030.16800800749,
          37030.16800800749,
          37030.16800800749,
          37030.16800800749,
          37030.16800800749,
          37030.16800800749,
          37030.16800800749,
          26060.153790871776,
          26060.153790871776,
          26060.153790871776,
          26060.153790871776,
          26060.153790871776,
          26060.153790871776,
          26060.153790871776,
          26060.153790871776,
          27993.221192530156,
          27993.221192530156,
          27993.221192530156,
          27993.221192530156,
          27993.221192530156,
          27993.221192530156,
          27993.221192530156,
          27993.221192530156,
          27614.885810370062,
          27614.885810370062,
          27614.885810370062,
          27614.885810370062,
          27614.885810370062,
          27614.885810370062,
          27614.885810370062,
          27614.885810370062,
          26023.707736812856,
          26023.707736812856,
          26023.707736812856,
          26023.707736812856,
          26023.707736812856,
          26023.707736812856,
          26023.707736812856,
          26023.707736812856,
          20935.685508796298,
          20935.685508796298,
          20935.685508796298,
          20935.685508796298,
          20935.685508796298,
          20935.685508796298,
          20935.685508796298,
          20935.685508796298,
          17193.952740691508,
          17193.952740691508,
          17193.952740691508,
          17193.952740691508,
          17193.952740691508,
          17193.952740691508,
          17193.952740691508,
          17193.952740691508,
          19644.87222672516,
          19644.87222672516,
          19644.87222672516,
          19644.87222672516,
          19644.87222672516,
          19644.87222672516,
          19644.87222672516,
          19644.87222672516,
          17358.399171606405,
          17358.399171606405,
          17358.399171606405,
          17358.399171606405,
          17358.399171606405,
          17358.399171606405,
          17358.399171606405,
          17358.399171606405,
          26414.425930682966,
          26414.425930682966,
          26414.425930682966,
          26414.425930682966,
          26414.425930682966,
          26414.425930682966,
          26414.425930682966,
          26414.425930682966,
          18230.702829947855,
          18230.702829947855,
          18230.702829947855,
          18230.702829947855,
          18230.702829947855,
          18230.702829947855,
          18230.702829947855,
          18230.702829947855,
          20531.783912986422,
          20531.783912986422,
          20531.783912986422,
          20531.783912986422,
          20531.783912986422,
          20531.783912986422,
          20531.783912986422,
          20531.783912986422,
          17299.21395490016,
          17299.21395490016,
          17299.21395490016,
          17299.21395490016,
          17299.21395490016,
          17299.21395490016,
          17299.21395490016,
          17299.21395490016,
          21210.030797498937,
          21210.030797498937,
          21210.030797498937,
          21210.030797498937,
          21210.030797498937,
          21210.030797498937,
          21210.030797498937,
          21210.030797498937,
          13970.245879340026,
          13970.245879340026,
          13970.245879340026,
          13970.245879340026,
          13970.245879340026,
          13970.245879340026,
          13970.245879340026,
          13970.245879340026
         ],
         "yaxis": "y"
        },
        {
         "mode": "lines",
         "name": "cross_visitation",
         "type": "scatter",
         "x": [
          "2021-12-01",
          "2021-12-01",
          "2021-12-01",
          "2021-12-01",
          "2021-12-01",
          "2021-12-01",
          "2021-12-01",
          "2021-12-01",
          "2022-01-01",
          "2022-01-01",
          "2022-01-01",
          "2022-01-01",
          "2022-01-01",
          "2022-01-01",
          "2022-01-01",
          "2022-01-01",
          "2022-02-01",
          "2022-02-01",
          "2022-02-01",
          "2022-02-01",
          "2022-02-01",
          "2022-02-01",
          "2022-02-01",
          "2022-02-01",
          "2022-03-01",
          "2022-03-01",
          "2022-03-01",
          "2022-03-01",
          "2022-03-01",
          "2022-03-01",
          "2022-03-01",
          "2022-03-01",
          "2022-04-01",
          "2022-04-01",
          "2022-04-01",
          "2022-04-01",
          "2022-04-01",
          "2022-04-01",
          "2022-04-01",
          "2022-04-01",
          "2022-05-01",
          "2022-05-01",
          "2022-05-01",
          "2022-05-01",
          "2022-05-01",
          "2022-05-01",
          "2022-05-01",
          "2022-05-01",
          "2022-06-01",
          "2022-06-01",
          "2022-06-01",
          "2022-06-01",
          "2022-06-01",
          "2022-06-01",
          "2022-06-01",
          "2022-06-01",
          "2022-07-01",
          "2022-07-01",
          "2022-07-01",
          "2022-07-01",
          "2022-07-01",
          "2022-07-01",
          "2022-07-01",
          "2022-07-01",
          "2022-08-01",
          "2022-08-01",
          "2022-08-01",
          "2022-08-01",
          "2022-08-01",
          "2022-08-01",
          "2022-08-01",
          "2022-08-01",
          "2022-09-01",
          "2022-09-01",
          "2022-09-01",
          "2022-09-01",
          "2022-09-01",
          "2022-09-01",
          "2022-09-01",
          "2022-09-01",
          "2022-10-01",
          "2022-10-01",
          "2022-10-01",
          "2022-10-01",
          "2022-10-01",
          "2022-10-01",
          "2022-10-01",
          "2022-10-01",
          "2022-11-01",
          "2022-11-01",
          "2022-11-01",
          "2022-11-01",
          "2022-11-01",
          "2022-11-01",
          "2022-11-01",
          "2022-11-01",
          "2022-12-01",
          "2022-12-01",
          "2022-12-01",
          "2022-12-01",
          "2022-12-01",
          "2022-12-01",
          "2022-12-01",
          "2022-12-01",
          "2023-01-01",
          "2023-01-01",
          "2023-01-01",
          "2023-01-01",
          "2023-01-01",
          "2023-01-01",
          "2023-01-01",
          "2023-01-01",
          "2023-02-01",
          "2023-02-01",
          "2023-02-01",
          "2023-02-01",
          "2023-02-01",
          "2023-02-01",
          "2023-02-01",
          "2023-02-01",
          "2023-03-01",
          "2023-03-01",
          "2023-03-01",
          "2023-03-01",
          "2023-03-01",
          "2023-03-01",
          "2023-03-01",
          "2023-03-01",
          "2023-04-01",
          "2023-04-01",
          "2023-04-01",
          "2023-04-01",
          "2023-04-01",
          "2023-04-01",
          "2023-04-01",
          "2023-04-01",
          "2023-05-01",
          "2023-05-01",
          "2023-05-01",
          "2023-05-01",
          "2023-05-01",
          "2023-05-01",
          "2023-05-01",
          "2023-05-01",
          "2023-06-01",
          "2023-06-01",
          "2023-06-01",
          "2023-06-01",
          "2023-06-01",
          "2023-06-01",
          "2023-06-01",
          "2023-06-01",
          "2023-07-01",
          "2023-07-01",
          "2023-07-01",
          "2023-07-01",
          "2023-07-01",
          "2023-07-01",
          "2023-07-01",
          "2023-07-01",
          "2023-08-01",
          "2023-08-01",
          "2023-08-01",
          "2023-08-01",
          "2023-08-01",
          "2023-08-01",
          "2023-08-01",
          "2023-08-01",
          "2023-09-01",
          "2023-09-01",
          "2023-09-01",
          "2023-09-01",
          "2023-09-01",
          "2023-09-01",
          "2023-09-01",
          "2023-09-01",
          "2023-10-01",
          "2023-10-01",
          "2023-10-01",
          "2023-10-01",
          "2023-10-01",
          "2023-10-01",
          "2023-10-01",
          "2023-10-01",
          "2023-11-01",
          "2023-11-01",
          "2023-11-01",
          "2023-11-01",
          "2023-11-01",
          "2023-11-01",
          "2023-11-01",
          "2023-11-01",
          "2023-12-01",
          "2023-12-01",
          "2023-12-01",
          "2023-12-01",
          "2023-12-01",
          "2023-12-01",
          "2023-12-01",
          "2023-12-01"
         ],
         "y": [
          0.1208556145429611,
          0.1208556145429611,
          0.1208556145429611,
          0.1208556145429611,
          0.1208556145429611,
          0.1208556145429611,
          0.1208556145429611,
          0.1208556145429611,
          0.1212704554200172,
          0.1212704554200172,
          0.1212704554200172,
          0.1212704554200172,
          0.1212704554200172,
          0.1212704554200172,
          0.1212704554200172,
          0.1212704554200172,
          0.0986047536134719,
          0.0986047536134719,
          0.0986047536134719,
          0.0986047536134719,
          0.0986047536134719,
          0.0986047536134719,
          0.0986047536134719,
          0.0986047536134719,
          0.1205564141273498,
          0.1205564141273498,
          0.1205564141273498,
          0.1205564141273498,
          0.1205564141273498,
          0.1205564141273498,
          0.1205564141273498,
          0.1205564141273498,
          0.1145404651761055,
          0.1145404651761055,
          0.1145404651761055,
          0.1145404651761055,
          0.1145404651761055,
          0.1145404651761055,
          0.1145404651761055,
          0.1145404651761055,
          0.1273653507232666,
          0.1273653507232666,
          0.1273653507232666,
          0.1273653507232666,
          0.1273653507232666,
          0.1273653507232666,
          0.1273653507232666,
          0.1273653507232666,
          0.1134352385997772,
          0.1134352385997772,
          0.1134352385997772,
          0.1134352385997772,
          0.1134352385997772,
          0.1134352385997772,
          0.1134352385997772,
          0.1134352385997772,
          0.1684117913246154,
          0.1684117913246154,
          0.1684117913246154,
          0.1684117913246154,
          0.1684117913246154,
          0.1684117913246154,
          0.1684117913246154,
          0.1684117913246154,
          0.1324739605188369,
          0.1324739605188369,
          0.1324739605188369,
          0.1324739605188369,
          0.1324739605188369,
          0.1324739605188369,
          0.1324739605188369,
          0.1324739605188369,
          0.1256623715162277,
          0.1256623715162277,
          0.1256623715162277,
          0.1256623715162277,
          0.1256623715162277,
          0.1256623715162277,
          0.1256623715162277,
          0.1256623715162277,
          0.1447801142930984,
          0.1447801142930984,
          0.1447801142930984,
          0.1447801142930984,
          0.1447801142930984,
          0.1447801142930984,
          0.1447801142930984,
          0.1447801142930984,
          0.1581836491823196,
          0.1581836491823196,
          0.1581836491823196,
          0.1581836491823196,
          0.1581836491823196,
          0.1581836491823196,
          0.1581836491823196,
          0.1581836491823196,
          0.1167133525013923,
          0.1167133525013923,
          0.1167133525013923,
          0.1167133525013923,
          0.1167133525013923,
          0.1167133525013923,
          0.1167133525013923,
          0.1167133525013923,
          0.1202321723103523,
          0.1202321723103523,
          0.1202321723103523,
          0.1202321723103523,
          0.1202321723103523,
          0.1202321723103523,
          0.1202321723103523,
          0.1202321723103523,
          0.1223776191473007,
          0.1223776191473007,
          0.1223776191473007,
          0.1223776191473007,
          0.1223776191473007,
          0.1223776191473007,
          0.1223776191473007,
          0.1223776191473007,
          0.1312611550092697,
          0.1312611550092697,
          0.1312611550092697,
          0.1312611550092697,
          0.1312611550092697,
          0.1312611550092697,
          0.1312611550092697,
          0.1312611550092697,
          0.0942139774560928,
          0.0942139774560928,
          0.0942139774560928,
          0.0942139774560928,
          0.0942139774560928,
          0.0942139774560928,
          0.0942139774560928,
          0.0942139774560928,
          0.1874629408121109,
          0.1874629408121109,
          0.1874629408121109,
          0.1874629408121109,
          0.1874629408121109,
          0.1874629408121109,
          0.1874629408121109,
          0.1874629408121109,
          0.1071729958057403,
          0.1071729958057403,
          0.1071729958057403,
          0.1071729958057403,
          0.1071729958057403,
          0.1071729958057403,
          0.1071729958057403,
          0.1071729958057403,
          0.1184336170554161,
          0.1184336170554161,
          0.1184336170554161,
          0.1184336170554161,
          0.1184336170554161,
          0.1184336170554161,
          0.1184336170554161,
          0.1184336170554161,
          0.1325678527355194,
          0.1325678527355194,
          0.1325678527355194,
          0.1325678527355194,
          0.1325678527355194,
          0.1325678527355194,
          0.1325678527355194,
          0.1325678527355194,
          0.1475806385278701,
          0.1475806385278701,
          0.1475806385278701,
          0.1475806385278701,
          0.1475806385278701,
          0.1475806385278701,
          0.1475806385278701,
          0.1475806385278701,
          0.126379132270813,
          0.126379132270813,
          0.126379132270813,
          0.126379132270813,
          0.126379132270813,
          0.126379132270813,
          0.126379132270813,
          0.126379132270813,
          0.1190781071782112,
          0.1190781071782112,
          0.1190781071782112,
          0.1190781071782112,
          0.1190781071782112,
          0.1190781071782112,
          0.1190781071782112,
          0.1190781071782112,
          0.149920254945755,
          0.149920254945755,
          0.149920254945755,
          0.149920254945755,
          0.149920254945755,
          0.149920254945755,
          0.149920254945755,
          0.149920254945755
         ],
         "yaxis": "y2"
        },
        {
         "mode": "lines",
         "name": "rank",
         "type": "scatter",
         "x": [
          "2021-12-01",
          "2021-12-01",
          "2021-12-01",
          "2021-12-01",
          "2021-12-01",
          "2021-12-01",
          "2021-12-01",
          "2021-12-01",
          "2022-01-01",
          "2022-01-01",
          "2022-01-01",
          "2022-01-01",
          "2022-01-01",
          "2022-01-01",
          "2022-01-01",
          "2022-01-01",
          "2022-02-01",
          "2022-02-01",
          "2022-02-01",
          "2022-02-01",
          "2022-02-01",
          "2022-02-01",
          "2022-02-01",
          "2022-02-01",
          "2022-03-01",
          "2022-03-01",
          "2022-03-01",
          "2022-03-01",
          "2022-03-01",
          "2022-03-01",
          "2022-03-01",
          "2022-03-01",
          "2022-04-01",
          "2022-04-01",
          "2022-04-01",
          "2022-04-01",
          "2022-04-01",
          "2022-04-01",
          "2022-04-01",
          "2022-04-01",
          "2022-05-01",
          "2022-05-01",
          "2022-05-01",
          "2022-05-01",
          "2022-05-01",
          "2022-05-01",
          "2022-05-01",
          "2022-05-01",
          "2022-06-01",
          "2022-06-01",
          "2022-06-01",
          "2022-06-01",
          "2022-06-01",
          "2022-06-01",
          "2022-06-01",
          "2022-06-01",
          "2022-07-01",
          "2022-07-01",
          "2022-07-01",
          "2022-07-01",
          "2022-07-01",
          "2022-07-01",
          "2022-07-01",
          "2022-07-01",
          "2022-08-01",
          "2022-08-01",
          "2022-08-01",
          "2022-08-01",
          "2022-08-01",
          "2022-08-01",
          "2022-08-01",
          "2022-08-01",
          "2022-09-01",
          "2022-09-01",
          "2022-09-01",
          "2022-09-01",
          "2022-09-01",
          "2022-09-01",
          "2022-09-01",
          "2022-09-01",
          "2022-10-01",
          "2022-10-01",
          "2022-10-01",
          "2022-10-01",
          "2022-10-01",
          "2022-10-01",
          "2022-10-01",
          "2022-10-01",
          "2022-11-01",
          "2022-11-01",
          "2022-11-01",
          "2022-11-01",
          "2022-11-01",
          "2022-11-01",
          "2022-11-01",
          "2022-11-01",
          "2022-12-01",
          "2022-12-01",
          "2022-12-01",
          "2022-12-01",
          "2022-12-01",
          "2022-12-01",
          "2022-12-01",
          "2022-12-01",
          "2023-01-01",
          "2023-01-01",
          "2023-01-01",
          "2023-01-01",
          "2023-01-01",
          "2023-01-01",
          "2023-01-01",
          "2023-01-01",
          "2023-02-01",
          "2023-02-01",
          "2023-02-01",
          "2023-02-01",
          "2023-02-01",
          "2023-02-01",
          "2023-02-01",
          "2023-02-01",
          "2023-03-01",
          "2023-03-01",
          "2023-03-01",
          "2023-03-01",
          "2023-03-01",
          "2023-03-01",
          "2023-03-01",
          "2023-03-01",
          "2023-04-01",
          "2023-04-01",
          "2023-04-01",
          "2023-04-01",
          "2023-04-01",
          "2023-04-01",
          "2023-04-01",
          "2023-04-01",
          "2023-05-01",
          "2023-05-01",
          "2023-05-01",
          "2023-05-01",
          "2023-05-01",
          "2023-05-01",
          "2023-05-01",
          "2023-05-01",
          "2023-06-01",
          "2023-06-01",
          "2023-06-01",
          "2023-06-01",
          "2023-06-01",
          "2023-06-01",
          "2023-06-01",
          "2023-06-01",
          "2023-07-01",
          "2023-07-01",
          "2023-07-01",
          "2023-07-01",
          "2023-07-01",
          "2023-07-01",
          "2023-07-01",
          "2023-07-01",
          "2023-08-01",
          "2023-08-01",
          "2023-08-01",
          "2023-08-01",
          "2023-08-01",
          "2023-08-01",
          "2023-08-01",
          "2023-08-01",
          "2023-09-01",
          "2023-09-01",
          "2023-09-01",
          "2023-09-01",
          "2023-09-01",
          "2023-09-01",
          "2023-09-01",
          "2023-09-01",
          "2023-10-01",
          "2023-10-01",
          "2023-10-01",
          "2023-10-01",
          "2023-10-01",
          "2023-10-01",
          "2023-10-01",
          "2023-10-01",
          "2023-11-01",
          "2023-11-01",
          "2023-11-01",
          "2023-11-01",
          "2023-11-01",
          "2023-11-01",
          "2023-11-01",
          "2023-11-01",
          "2023-12-01",
          "2023-12-01",
          "2023-12-01",
          "2023-12-01",
          "2023-12-01",
          "2023-12-01",
          "2023-12-01",
          "2023-12-01"
         ],
         "y": [
          2,
          2,
          2,
          11,
          2,
          2,
          2,
          11,
          2,
          2,
          2,
          11,
          2,
          2,
          2,
          11,
          2,
          2,
          2,
          11,
          2,
          2,
          2,
          11,
          11,
          11,
          11,
          11,
          11,
          11,
          11,
          11,
          11,
          11,
          11,
          11,
          11,
          11,
          11,
          11,
          2,
          2,
          1,
          10,
          2,
          2,
          1,
          10,
          1,
          1,
          3,
          3,
          1,
          1,
          3,
          3,
          1,
          1,
          1,
          1,
          1,
          1,
          1,
          1,
          1,
          1,
          1,
          1,
          1,
          1,
          1,
          1,
          1,
          1,
          1,
          1,
          1,
          1,
          1,
          1,
          1,
          1,
          1,
          1,
          1,
          1,
          1,
          1,
          2,
          2,
          2,
          2,
          2,
          2,
          2,
          2,
          6,
          6,
          6,
          6,
          6,
          6,
          6,
          6,
          6,
          3,
          6,
          6,
          6,
          3,
          6,
          6,
          6,
          2,
          6,
          6,
          6,
          2,
          6,
          6,
          6,
          5,
          8,
          8,
          8,
          5,
          8,
          8,
          8,
          8,
          8,
          8,
          8,
          8,
          8,
          8,
          8,
          8,
          8,
          8,
          8,
          8,
          8,
          8,
          8,
          8,
          8,
          8,
          8,
          8,
          8,
          8,
          8,
          1,
          6,
          6,
          6,
          1,
          6,
          6,
          6,
          3,
          6,
          6,
          6,
          3,
          6,
          6,
          6,
          6,
          6,
          6,
          6,
          6,
          6,
          6,
          6,
          6,
          6,
          6,
          6,
          6,
          6,
          6,
          6,
          4.823529411764706,
          7,
          7,
          7,
          4.823529411764706,
          7,
          7,
          7,
          5.419354838709677,
          7,
          7,
          7,
          5.419354838709677,
          7,
          7
         ],
         "yaxis": "y2"
        },
        {
         "mode": "lines",
         "name": "category_best_salary_accounts_helmycash",
         "type": "scatter",
         "x": [
          "2021-12-01",
          "2021-12-01",
          "2021-12-01",
          "2021-12-01",
          "2021-12-01",
          "2021-12-01",
          "2021-12-01",
          "2021-12-01",
          "2022-01-01",
          "2022-01-01",
          "2022-01-01",
          "2022-01-01",
          "2022-01-01",
          "2022-01-01",
          "2022-01-01",
          "2022-01-01",
          "2022-02-01",
          "2022-02-01",
          "2022-02-01",
          "2022-02-01",
          "2022-02-01",
          "2022-02-01",
          "2022-02-01",
          "2022-02-01",
          "2022-03-01",
          "2022-03-01",
          "2022-03-01",
          "2022-03-01",
          "2022-03-01",
          "2022-03-01",
          "2022-03-01",
          "2022-03-01",
          "2022-04-01",
          "2022-04-01",
          "2022-04-01",
          "2022-04-01",
          "2022-04-01",
          "2022-04-01",
          "2022-04-01",
          "2022-04-01",
          "2022-05-01",
          "2022-05-01",
          "2022-05-01",
          "2022-05-01",
          "2022-05-01",
          "2022-05-01",
          "2022-05-01",
          "2022-05-01",
          "2022-06-01",
          "2022-06-01",
          "2022-06-01",
          "2022-06-01",
          "2022-06-01",
          "2022-06-01",
          "2022-06-01",
          "2022-06-01",
          "2022-07-01",
          "2022-07-01",
          "2022-07-01",
          "2022-07-01",
          "2022-07-01",
          "2022-07-01",
          "2022-07-01",
          "2022-07-01",
          "2022-08-01",
          "2022-08-01",
          "2022-08-01",
          "2022-08-01",
          "2022-08-01",
          "2022-08-01",
          "2022-08-01",
          "2022-08-01",
          "2022-09-01",
          "2022-09-01",
          "2022-09-01",
          "2022-09-01",
          "2022-09-01",
          "2022-09-01",
          "2022-09-01",
          "2022-09-01",
          "2022-10-01",
          "2022-10-01",
          "2022-10-01",
          "2022-10-01",
          "2022-10-01",
          "2022-10-01",
          "2022-10-01",
          "2022-10-01",
          "2022-11-01",
          "2022-11-01",
          "2022-11-01",
          "2022-11-01",
          "2022-11-01",
          "2022-11-01",
          "2022-11-01",
          "2022-11-01",
          "2022-12-01",
          "2022-12-01",
          "2022-12-01",
          "2022-12-01",
          "2022-12-01",
          "2022-12-01",
          "2022-12-01",
          "2022-12-01",
          "2023-01-01",
          "2023-01-01",
          "2023-01-01",
          "2023-01-01",
          "2023-01-01",
          "2023-01-01",
          "2023-01-01",
          "2023-01-01",
          "2023-02-01",
          "2023-02-01",
          "2023-02-01",
          "2023-02-01",
          "2023-02-01",
          "2023-02-01",
          "2023-02-01",
          "2023-02-01",
          "2023-03-01",
          "2023-03-01",
          "2023-03-01",
          "2023-03-01",
          "2023-03-01",
          "2023-03-01",
          "2023-03-01",
          "2023-03-01",
          "2023-04-01",
          "2023-04-01",
          "2023-04-01",
          "2023-04-01",
          "2023-04-01",
          "2023-04-01",
          "2023-04-01",
          "2023-04-01",
          "2023-05-01",
          "2023-05-01",
          "2023-05-01",
          "2023-05-01",
          "2023-05-01",
          "2023-05-01",
          "2023-05-01",
          "2023-05-01",
          "2023-06-01",
          "2023-06-01",
          "2023-06-01",
          "2023-06-01",
          "2023-06-01",
          "2023-06-01",
          "2023-06-01",
          "2023-06-01",
          "2023-07-01",
          "2023-07-01",
          "2023-07-01",
          "2023-07-01",
          "2023-07-01",
          "2023-07-01",
          "2023-07-01",
          "2023-07-01",
          "2023-08-01",
          "2023-08-01",
          "2023-08-01",
          "2023-08-01",
          "2023-08-01",
          "2023-08-01",
          "2023-08-01",
          "2023-08-01",
          "2023-09-01",
          "2023-09-01",
          "2023-09-01",
          "2023-09-01",
          "2023-09-01",
          "2023-09-01",
          "2023-09-01",
          "2023-09-01",
          "2023-10-01",
          "2023-10-01",
          "2023-10-01",
          "2023-10-01",
          "2023-10-01",
          "2023-10-01",
          "2023-10-01",
          "2023-10-01",
          "2023-11-01",
          "2023-11-01",
          "2023-11-01",
          "2023-11-01",
          "2023-11-01",
          "2023-11-01",
          "2023-11-01",
          "2023-11-01",
          "2023-12-01",
          "2023-12-01",
          "2023-12-01",
          "2023-12-01",
          "2023-12-01",
          "2023-12-01",
          "2023-12-01",
          "2023-12-01"
         ],
         "y": [
          0,
          0,
          1,
          0,
          0,
          0,
          1,
          0,
          0,
          0,
          1,
          0,
          0,
          0,
          1,
          0,
          0,
          0,
          1,
          0,
          0,
          0,
          1,
          0,
          0,
          0,
          1,
          0,
          0,
          0,
          1,
          0,
          0,
          0,
          1,
          0,
          0,
          0,
          1,
          0,
          0,
          0,
          1,
          0,
          0,
          0,
          1,
          0,
          0,
          0,
          1,
          0,
          0,
          0,
          1,
          0,
          0,
          0,
          1,
          0,
          0,
          0,
          1,
          0,
          0,
          0,
          1,
          0,
          0,
          0,
          1,
          0,
          0,
          0,
          1,
          0,
          0,
          0,
          1,
          0,
          0,
          0,
          1,
          0,
          0,
          0,
          1,
          0,
          0,
          0,
          1,
          0,
          0,
          0,
          1,
          0,
          0,
          0,
          1,
          0,
          0,
          0,
          1,
          0,
          0,
          0,
          1,
          0,
          0,
          0,
          1,
          0,
          0,
          0,
          1,
          0,
          0,
          0,
          1,
          0,
          0,
          0,
          1,
          0,
          0,
          0,
          1,
          0,
          0,
          0,
          1,
          0,
          0,
          0,
          1,
          0,
          0,
          0,
          1,
          0,
          0,
          0,
          1,
          0,
          0,
          0,
          1,
          0,
          0,
          0,
          1,
          0,
          0,
          0,
          1,
          0,
          0,
          0,
          1,
          0,
          0,
          0,
          1,
          0,
          0,
          0,
          1,
          0,
          0,
          0,
          1,
          0,
          0,
          0,
          1,
          0,
          0,
          0,
          1,
          0,
          0,
          0,
          1,
          0,
          0,
          0,
          1,
          0,
          0,
          0,
          1,
          0,
          0,
          0,
          1,
          0,
          0,
          0,
          1,
          0
         ],
         "yaxis": "y2"
        },
        {
         "mode": "lines",
         "name": "category_best_savings_accounts_helpmycash",
         "type": "scatter",
         "x": [
          "2021-12-01",
          "2021-12-01",
          "2021-12-01",
          "2021-12-01",
          "2021-12-01",
          "2021-12-01",
          "2021-12-01",
          "2021-12-01",
          "2022-01-01",
          "2022-01-01",
          "2022-01-01",
          "2022-01-01",
          "2022-01-01",
          "2022-01-01",
          "2022-01-01",
          "2022-01-01",
          "2022-02-01",
          "2022-02-01",
          "2022-02-01",
          "2022-02-01",
          "2022-02-01",
          "2022-02-01",
          "2022-02-01",
          "2022-02-01",
          "2022-03-01",
          "2022-03-01",
          "2022-03-01",
          "2022-03-01",
          "2022-03-01",
          "2022-03-01",
          "2022-03-01",
          "2022-03-01",
          "2022-04-01",
          "2022-04-01",
          "2022-04-01",
          "2022-04-01",
          "2022-04-01",
          "2022-04-01",
          "2022-04-01",
          "2022-04-01",
          "2022-05-01",
          "2022-05-01",
          "2022-05-01",
          "2022-05-01",
          "2022-05-01",
          "2022-05-01",
          "2022-05-01",
          "2022-05-01",
          "2022-06-01",
          "2022-06-01",
          "2022-06-01",
          "2022-06-01",
          "2022-06-01",
          "2022-06-01",
          "2022-06-01",
          "2022-06-01",
          "2022-07-01",
          "2022-07-01",
          "2022-07-01",
          "2022-07-01",
          "2022-07-01",
          "2022-07-01",
          "2022-07-01",
          "2022-07-01",
          "2022-08-01",
          "2022-08-01",
          "2022-08-01",
          "2022-08-01",
          "2022-08-01",
          "2022-08-01",
          "2022-08-01",
          "2022-08-01",
          "2022-09-01",
          "2022-09-01",
          "2022-09-01",
          "2022-09-01",
          "2022-09-01",
          "2022-09-01",
          "2022-09-01",
          "2022-09-01",
          "2022-10-01",
          "2022-10-01",
          "2022-10-01",
          "2022-10-01",
          "2022-10-01",
          "2022-10-01",
          "2022-10-01",
          "2022-10-01",
          "2022-11-01",
          "2022-11-01",
          "2022-11-01",
          "2022-11-01",
          "2022-11-01",
          "2022-11-01",
          "2022-11-01",
          "2022-11-01",
          "2022-12-01",
          "2022-12-01",
          "2022-12-01",
          "2022-12-01",
          "2022-12-01",
          "2022-12-01",
          "2022-12-01",
          "2022-12-01",
          "2023-01-01",
          "2023-01-01",
          "2023-01-01",
          "2023-01-01",
          "2023-01-01",
          "2023-01-01",
          "2023-01-01",
          "2023-01-01",
          "2023-02-01",
          "2023-02-01",
          "2023-02-01",
          "2023-02-01",
          "2023-02-01",
          "2023-02-01",
          "2023-02-01",
          "2023-02-01",
          "2023-03-01",
          "2023-03-01",
          "2023-03-01",
          "2023-03-01",
          "2023-03-01",
          "2023-03-01",
          "2023-03-01",
          "2023-03-01",
          "2023-04-01",
          "2023-04-01",
          "2023-04-01",
          "2023-04-01",
          "2023-04-01",
          "2023-04-01",
          "2023-04-01",
          "2023-04-01",
          "2023-05-01",
          "2023-05-01",
          "2023-05-01",
          "2023-05-01",
          "2023-05-01",
          "2023-05-01",
          "2023-05-01",
          "2023-05-01",
          "2023-06-01",
          "2023-06-01",
          "2023-06-01",
          "2023-06-01",
          "2023-06-01",
          "2023-06-01",
          "2023-06-01",
          "2023-06-01",
          "2023-07-01",
          "2023-07-01",
          "2023-07-01",
          "2023-07-01",
          "2023-07-01",
          "2023-07-01",
          "2023-07-01",
          "2023-07-01",
          "2023-08-01",
          "2023-08-01",
          "2023-08-01",
          "2023-08-01",
          "2023-08-01",
          "2023-08-01",
          "2023-08-01",
          "2023-08-01",
          "2023-09-01",
          "2023-09-01",
          "2023-09-01",
          "2023-09-01",
          "2023-09-01",
          "2023-09-01",
          "2023-09-01",
          "2023-09-01",
          "2023-10-01",
          "2023-10-01",
          "2023-10-01",
          "2023-10-01",
          "2023-10-01",
          "2023-10-01",
          "2023-10-01",
          "2023-10-01",
          "2023-11-01",
          "2023-11-01",
          "2023-11-01",
          "2023-11-01",
          "2023-11-01",
          "2023-11-01",
          "2023-11-01",
          "2023-11-01",
          "2023-12-01",
          "2023-12-01",
          "2023-12-01",
          "2023-12-01",
          "2023-12-01",
          "2023-12-01",
          "2023-12-01",
          "2023-12-01"
         ],
         "y": [
          0,
          0,
          0,
          1,
          0,
          0,
          0,
          1,
          0,
          0,
          0,
          1,
          0,
          0,
          0,
          1,
          0,
          0,
          0,
          1,
          0,
          0,
          0,
          1,
          0,
          0,
          0,
          1,
          0,
          0,
          0,
          1,
          0,
          0,
          0,
          1,
          0,
          0,
          0,
          1,
          0,
          0,
          0,
          1,
          0,
          0,
          0,
          1,
          0,
          0,
          0,
          1,
          0,
          0,
          0,
          1,
          0,
          0,
          0,
          1,
          0,
          0,
          0,
          1,
          0,
          0,
          0,
          1,
          0,
          0,
          0,
          1,
          0,
          0,
          0,
          1,
          0,
          0,
          0,
          1,
          0,
          0,
          0,
          1,
          0,
          0,
          0,
          1,
          0,
          0,
          0,
          1,
          0,
          0,
          0,
          1,
          0,
          0,
          0,
          1,
          0,
          0,
          0,
          1,
          0,
          0,
          0,
          1,
          0,
          0,
          0,
          1,
          0,
          0,
          0,
          1,
          0,
          0,
          0,
          1,
          0,
          0,
          0,
          1,
          0,
          0,
          0,
          1,
          0,
          0,
          0,
          1,
          0,
          0,
          0,
          1,
          0,
          0,
          0,
          1,
          0,
          0,
          0,
          1,
          0,
          0,
          0,
          1,
          0,
          0,
          0,
          1,
          0,
          0,
          0,
          1,
          0,
          0,
          0,
          1,
          0,
          0,
          0,
          1,
          0,
          0,
          0,
          1,
          0,
          0,
          0,
          1,
          0,
          0,
          0,
          1,
          0,
          0,
          0,
          1,
          0,
          0,
          0,
          1,
          0,
          0,
          0,
          1,
          0,
          0,
          0,
          1,
          0,
          0,
          0,
          1,
          0,
          0,
          0,
          1
         ],
         "yaxis": "y2"
        },
        {
         "mode": "lines",
         "name": "incentive",
         "type": "scatter",
         "x": [
          "2021-12-01",
          "2021-12-01",
          "2021-12-01",
          "2021-12-01",
          "2021-12-01",
          "2021-12-01",
          "2021-12-01",
          "2021-12-01",
          "2022-01-01",
          "2022-01-01",
          "2022-01-01",
          "2022-01-01",
          "2022-01-01",
          "2022-01-01",
          "2022-01-01",
          "2022-01-01",
          "2022-02-01",
          "2022-02-01",
          "2022-02-01",
          "2022-02-01",
          "2022-02-01",
          "2022-02-01",
          "2022-02-01",
          "2022-02-01",
          "2022-03-01",
          "2022-03-01",
          "2022-03-01",
          "2022-03-01",
          "2022-03-01",
          "2022-03-01",
          "2022-03-01",
          "2022-03-01",
          "2022-04-01",
          "2022-04-01",
          "2022-04-01",
          "2022-04-01",
          "2022-04-01",
          "2022-04-01",
          "2022-04-01",
          "2022-04-01",
          "2022-05-01",
          "2022-05-01",
          "2022-05-01",
          "2022-05-01",
          "2022-05-01",
          "2022-05-01",
          "2022-05-01",
          "2022-05-01",
          "2022-06-01",
          "2022-06-01",
          "2022-06-01",
          "2022-06-01",
          "2022-06-01",
          "2022-06-01",
          "2022-06-01",
          "2022-06-01",
          "2022-07-01",
          "2022-07-01",
          "2022-07-01",
          "2022-07-01",
          "2022-07-01",
          "2022-07-01",
          "2022-07-01",
          "2022-07-01",
          "2022-08-01",
          "2022-08-01",
          "2022-08-01",
          "2022-08-01",
          "2022-08-01",
          "2022-08-01",
          "2022-08-01",
          "2022-08-01",
          "2022-09-01",
          "2022-09-01",
          "2022-09-01",
          "2022-09-01",
          "2022-09-01",
          "2022-09-01",
          "2022-09-01",
          "2022-09-01",
          "2022-10-01",
          "2022-10-01",
          "2022-10-01",
          "2022-10-01",
          "2022-10-01",
          "2022-10-01",
          "2022-10-01",
          "2022-10-01",
          "2022-11-01",
          "2022-11-01",
          "2022-11-01",
          "2022-11-01",
          "2022-11-01",
          "2022-11-01",
          "2022-11-01",
          "2022-11-01",
          "2022-12-01",
          "2022-12-01",
          "2022-12-01",
          "2022-12-01",
          "2022-12-01",
          "2022-12-01",
          "2022-12-01",
          "2022-12-01",
          "2023-01-01",
          "2023-01-01",
          "2023-01-01",
          "2023-01-01",
          "2023-01-01",
          "2023-01-01",
          "2023-01-01",
          "2023-01-01",
          "2023-02-01",
          "2023-02-01",
          "2023-02-01",
          "2023-02-01",
          "2023-02-01",
          "2023-02-01",
          "2023-02-01",
          "2023-02-01",
          "2023-03-01",
          "2023-03-01",
          "2023-03-01",
          "2023-03-01",
          "2023-03-01",
          "2023-03-01",
          "2023-03-01",
          "2023-03-01",
          "2023-04-01",
          "2023-04-01",
          "2023-04-01",
          "2023-04-01",
          "2023-04-01",
          "2023-04-01",
          "2023-04-01",
          "2023-04-01",
          "2023-05-01",
          "2023-05-01",
          "2023-05-01",
          "2023-05-01",
          "2023-05-01",
          "2023-05-01",
          "2023-05-01",
          "2023-05-01",
          "2023-06-01",
          "2023-06-01",
          "2023-06-01",
          "2023-06-01",
          "2023-06-01",
          "2023-06-01",
          "2023-06-01",
          "2023-06-01",
          "2023-07-01",
          "2023-07-01",
          "2023-07-01",
          "2023-07-01",
          "2023-07-01",
          "2023-07-01",
          "2023-07-01",
          "2023-07-01",
          "2023-08-01",
          "2023-08-01",
          "2023-08-01",
          "2023-08-01",
          "2023-08-01",
          "2023-08-01",
          "2023-08-01",
          "2023-08-01",
          "2023-09-01",
          "2023-09-01",
          "2023-09-01",
          "2023-09-01",
          "2023-09-01",
          "2023-09-01",
          "2023-09-01",
          "2023-09-01",
          "2023-10-01",
          "2023-10-01",
          "2023-10-01",
          "2023-10-01",
          "2023-10-01",
          "2023-10-01",
          "2023-10-01",
          "2023-10-01",
          "2023-11-01",
          "2023-11-01",
          "2023-11-01",
          "2023-11-01",
          "2023-11-01",
          "2023-11-01",
          "2023-11-01",
          "2023-11-01",
          "2023-12-01",
          "2023-12-01",
          "2023-12-01",
          "2023-12-01",
          "2023-12-01",
          "2023-12-01",
          "2023-12-01",
          "2023-12-01"
         ],
         "y": [
          250,
          250,
          250,
          250,
          250,
          250,
          250,
          250,
          250,
          250,
          250,
          250,
          250,
          250,
          250,
          250,
          250,
          250,
          250,
          250,
          250,
          250,
          250,
          250,
          250,
          250,
          250,
          250,
          250,
          250,
          250,
          250,
          250,
          250,
          250,
          250,
          250,
          250,
          250,
          250,
          250,
          250,
          250,
          250,
          250,
          250,
          250,
          250,
          250,
          250,
          250,
          250,
          250,
          250,
          250,
          250,
          250,
          250,
          250,
          250,
          250,
          250,
          250,
          250,
          250,
          250,
          250,
          250,
          250,
          250,
          250,
          250,
          250,
          250,
          250,
          250,
          250,
          250,
          250,
          250,
          250,
          250,
          250,
          250,
          250,
          250,
          250,
          250,
          250,
          250,
          250,
          250,
          250,
          250,
          250,
          250,
          250,
          250,
          250,
          250,
          250,
          250,
          250,
          250,
          250,
          250,
          250,
          250,
          250,
          250,
          250,
          250,
          250,
          250,
          250,
          250,
          250,
          250,
          250,
          250,
          250,
          250,
          250,
          250,
          250,
          250,
          250,
          250,
          250,
          250,
          250,
          250,
          250,
          250,
          250,
          250,
          250,
          250,
          250,
          250,
          250,
          250,
          250,
          250,
          250,
          250,
          250,
          250,
          250,
          250,
          250,
          250,
          250,
          250,
          250,
          250,
          250,
          250,
          250,
          250,
          250,
          250,
          250,
          250,
          250,
          250,
          250,
          250,
          250,
          250,
          250,
          250,
          250,
          250,
          250,
          250,
          250,
          250,
          250,
          250,
          250,
          250,
          250,
          250,
          250,
          250,
          250,
          250,
          250,
          250,
          250,
          250,
          250,
          250,
          250,
          250,
          250,
          250,
          250,
          250
         ],
         "yaxis": "y2"
        },
        {
         "mode": "lines",
         "name": "apr",
         "type": "scatter",
         "x": [
          "2021-12-01",
          "2021-12-01",
          "2021-12-01",
          "2021-12-01",
          "2021-12-01",
          "2021-12-01",
          "2021-12-01",
          "2021-12-01",
          "2022-01-01",
          "2022-01-01",
          "2022-01-01",
          "2022-01-01",
          "2022-01-01",
          "2022-01-01",
          "2022-01-01",
          "2022-01-01",
          "2022-02-01",
          "2022-02-01",
          "2022-02-01",
          "2022-02-01",
          "2022-02-01",
          "2022-02-01",
          "2022-02-01",
          "2022-02-01",
          "2022-03-01",
          "2022-03-01",
          "2022-03-01",
          "2022-03-01",
          "2022-03-01",
          "2022-03-01",
          "2022-03-01",
          "2022-03-01",
          "2022-04-01",
          "2022-04-01",
          "2022-04-01",
          "2022-04-01",
          "2022-04-01",
          "2022-04-01",
          "2022-04-01",
          "2022-04-01",
          "2022-05-01",
          "2022-05-01",
          "2022-05-01",
          "2022-05-01",
          "2022-05-01",
          "2022-05-01",
          "2022-05-01",
          "2022-05-01",
          "2022-06-01",
          "2022-06-01",
          "2022-06-01",
          "2022-06-01",
          "2022-06-01",
          "2022-06-01",
          "2022-06-01",
          "2022-06-01",
          "2022-07-01",
          "2022-07-01",
          "2022-07-01",
          "2022-07-01",
          "2022-07-01",
          "2022-07-01",
          "2022-07-01",
          "2022-07-01",
          "2022-08-01",
          "2022-08-01",
          "2022-08-01",
          "2022-08-01",
          "2022-08-01",
          "2022-08-01",
          "2022-08-01",
          "2022-08-01",
          "2022-09-01",
          "2022-09-01",
          "2022-09-01",
          "2022-09-01",
          "2022-09-01",
          "2022-09-01",
          "2022-09-01",
          "2022-09-01",
          "2022-10-01",
          "2022-10-01",
          "2022-10-01",
          "2022-10-01",
          "2022-10-01",
          "2022-10-01",
          "2022-10-01",
          "2022-10-01",
          "2022-11-01",
          "2022-11-01",
          "2022-11-01",
          "2022-11-01",
          "2022-11-01",
          "2022-11-01",
          "2022-11-01",
          "2022-11-01",
          "2022-12-01",
          "2022-12-01",
          "2022-12-01",
          "2022-12-01",
          "2022-12-01",
          "2022-12-01",
          "2022-12-01",
          "2022-12-01",
          "2023-01-01",
          "2023-01-01",
          "2023-01-01",
          "2023-01-01",
          "2023-01-01",
          "2023-01-01",
          "2023-01-01",
          "2023-01-01",
          "2023-02-01",
          "2023-02-01",
          "2023-02-01",
          "2023-02-01",
          "2023-02-01",
          "2023-02-01",
          "2023-02-01",
          "2023-02-01",
          "2023-03-01",
          "2023-03-01",
          "2023-03-01",
          "2023-03-01",
          "2023-03-01",
          "2023-03-01",
          "2023-03-01",
          "2023-03-01",
          "2023-04-01",
          "2023-04-01",
          "2023-04-01",
          "2023-04-01",
          "2023-04-01",
          "2023-04-01",
          "2023-04-01",
          "2023-04-01",
          "2023-05-01",
          "2023-05-01",
          "2023-05-01",
          "2023-05-01",
          "2023-05-01",
          "2023-05-01",
          "2023-05-01",
          "2023-05-01",
          "2023-06-01",
          "2023-06-01",
          "2023-06-01",
          "2023-06-01",
          "2023-06-01",
          "2023-06-01",
          "2023-06-01",
          "2023-06-01",
          "2023-07-01",
          "2023-07-01",
          "2023-07-01",
          "2023-07-01",
          "2023-07-01",
          "2023-07-01",
          "2023-07-01",
          "2023-07-01",
          "2023-08-01",
          "2023-08-01",
          "2023-08-01",
          "2023-08-01",
          "2023-08-01",
          "2023-08-01",
          "2023-08-01",
          "2023-08-01",
          "2023-09-01",
          "2023-09-01",
          "2023-09-01",
          "2023-09-01",
          "2023-09-01",
          "2023-09-01",
          "2023-09-01",
          "2023-09-01",
          "2023-10-01",
          "2023-10-01",
          "2023-10-01",
          "2023-10-01",
          "2023-10-01",
          "2023-10-01",
          "2023-10-01",
          "2023-10-01",
          "2023-11-01",
          "2023-11-01",
          "2023-11-01",
          "2023-11-01",
          "2023-11-01",
          "2023-11-01",
          "2023-11-01",
          "2023-11-01",
          "2023-12-01",
          "2023-12-01",
          "2023-12-01",
          "2023-12-01",
          "2023-12-01",
          "2023-12-01",
          "2023-12-01",
          "2023-12-01"
         ],
         "y": [
          0,
          0,
          0,
          0,
          0,
          0,
          0,
          0,
          0,
          0,
          0,
          0,
          0,
          0,
          0,
          0,
          0,
          0,
          0,
          0,
          0,
          0,
          0,
          0,
          0,
          0,
          0,
          0,
          0,
          0,
          0,
          0,
          0,
          0,
          0,
          0,
          0,
          0,
          0,
          0,
          0,
          0,
          0,
          0,
          0,
          0,
          0,
          0,
          0,
          0,
          0,
          0,
          0,
          0,
          0,
          0,
          0,
          0,
          0,
          0,
          0,
          0,
          0,
          0,
          0,
          0,
          0,
          0,
          0,
          0,
          0,
          0,
          0,
          0,
          0,
          0,
          0,
          0,
          0,
          0,
          0,
          0,
          0,
          0,
          0,
          0,
          0,
          0,
          0,
          0,
          0,
          0,
          0,
          0,
          0,
          0,
          0,
          0,
          0,
          0,
          0,
          0,
          0,
          0,
          0,
          0,
          0,
          0,
          0,
          0,
          0,
          0,
          0,
          0,
          0,
          0,
          0,
          0,
          0,
          0,
          0,
          0,
          0,
          0,
          0,
          0,
          0,
          0,
          0,
          0,
          0,
          0,
          0,
          0,
          0,
          0,
          0,
          0,
          0,
          0,
          0,
          0,
          0,
          0,
          0,
          0,
          0,
          0,
          0,
          0,
          0,
          0,
          0,
          0,
          0,
          0,
          0,
          0,
          0,
          0,
          0,
          0,
          0,
          0,
          0,
          0,
          0,
          0,
          0,
          0,
          0,
          0,
          0,
          0,
          0,
          0,
          0,
          0,
          0,
          0,
          0,
          0,
          0,
          0,
          0,
          0,
          0,
          0,
          0,
          0,
          0,
          0,
          0,
          0,
          0,
          0,
          0,
          0,
          0,
          0
         ],
         "yaxis": "y2"
        },
        {
         "mode": "lines",
         "name": "mentions",
         "type": "scatter",
         "x": [
          "2021-12-01",
          "2021-12-01",
          "2021-12-01",
          "2021-12-01",
          "2021-12-01",
          "2021-12-01",
          "2021-12-01",
          "2021-12-01",
          "2022-01-01",
          "2022-01-01",
          "2022-01-01",
          "2022-01-01",
          "2022-01-01",
          "2022-01-01",
          "2022-01-01",
          "2022-01-01",
          "2022-02-01",
          "2022-02-01",
          "2022-02-01",
          "2022-02-01",
          "2022-02-01",
          "2022-02-01",
          "2022-02-01",
          "2022-02-01",
          "2022-03-01",
          "2022-03-01",
          "2022-03-01",
          "2022-03-01",
          "2022-03-01",
          "2022-03-01",
          "2022-03-01",
          "2022-03-01",
          "2022-04-01",
          "2022-04-01",
          "2022-04-01",
          "2022-04-01",
          "2022-04-01",
          "2022-04-01",
          "2022-04-01",
          "2022-04-01",
          "2022-05-01",
          "2022-05-01",
          "2022-05-01",
          "2022-05-01",
          "2022-05-01",
          "2022-05-01",
          "2022-05-01",
          "2022-05-01",
          "2022-06-01",
          "2022-06-01",
          "2022-06-01",
          "2022-06-01",
          "2022-06-01",
          "2022-06-01",
          "2022-06-01",
          "2022-06-01",
          "2022-07-01",
          "2022-07-01",
          "2022-07-01",
          "2022-07-01",
          "2022-07-01",
          "2022-07-01",
          "2022-07-01",
          "2022-07-01",
          "2022-08-01",
          "2022-08-01",
          "2022-08-01",
          "2022-08-01",
          "2022-08-01",
          "2022-08-01",
          "2022-08-01",
          "2022-08-01",
          "2022-09-01",
          "2022-09-01",
          "2022-09-01",
          "2022-09-01",
          "2022-09-01",
          "2022-09-01",
          "2022-09-01",
          "2022-09-01",
          "2022-10-01",
          "2022-10-01",
          "2022-10-01",
          "2022-10-01",
          "2022-10-01",
          "2022-10-01",
          "2022-10-01",
          "2022-10-01",
          "2022-11-01",
          "2022-11-01",
          "2022-11-01",
          "2022-11-01",
          "2022-11-01",
          "2022-11-01",
          "2022-11-01",
          "2022-11-01",
          "2022-12-01",
          "2022-12-01",
          "2022-12-01",
          "2022-12-01",
          "2022-12-01",
          "2022-12-01",
          "2022-12-01",
          "2022-12-01",
          "2023-01-01",
          "2023-01-01",
          "2023-01-01",
          "2023-01-01",
          "2023-01-01",
          "2023-01-01",
          "2023-01-01",
          "2023-01-01",
          "2023-02-01",
          "2023-02-01",
          "2023-02-01",
          "2023-02-01",
          "2023-02-01",
          "2023-02-01",
          "2023-02-01",
          "2023-02-01",
          "2023-03-01",
          "2023-03-01",
          "2023-03-01",
          "2023-03-01",
          "2023-03-01",
          "2023-03-01",
          "2023-03-01",
          "2023-03-01",
          "2023-04-01",
          "2023-04-01",
          "2023-04-01",
          "2023-04-01",
          "2023-04-01",
          "2023-04-01",
          "2023-04-01",
          "2023-04-01",
          "2023-05-01",
          "2023-05-01",
          "2023-05-01",
          "2023-05-01",
          "2023-05-01",
          "2023-05-01",
          "2023-05-01",
          "2023-05-01",
          "2023-06-01",
          "2023-06-01",
          "2023-06-01",
          "2023-06-01",
          "2023-06-01",
          "2023-06-01",
          "2023-06-01",
          "2023-06-01",
          "2023-07-01",
          "2023-07-01",
          "2023-07-01",
          "2023-07-01",
          "2023-07-01",
          "2023-07-01",
          "2023-07-01",
          "2023-07-01",
          "2023-08-01",
          "2023-08-01",
          "2023-08-01",
          "2023-08-01",
          "2023-08-01",
          "2023-08-01",
          "2023-08-01",
          "2023-08-01",
          "2023-09-01",
          "2023-09-01",
          "2023-09-01",
          "2023-09-01",
          "2023-09-01",
          "2023-09-01",
          "2023-09-01",
          "2023-09-01",
          "2023-10-01",
          "2023-10-01",
          "2023-10-01",
          "2023-10-01",
          "2023-10-01",
          "2023-10-01",
          "2023-10-01",
          "2023-10-01",
          "2023-11-01",
          "2023-11-01",
          "2023-11-01",
          "2023-11-01",
          "2023-11-01",
          "2023-11-01",
          "2023-11-01",
          "2023-11-01",
          "2023-12-01",
          "2023-12-01",
          "2023-12-01",
          "2023-12-01",
          "2023-12-01",
          "2023-12-01",
          "2023-12-01",
          "2023-12-01"
         ],
         "y": [
          7,
          7,
          7,
          7,
          7,
          7,
          7,
          7,
          4,
          4,
          4,
          4,
          4,
          4,
          4,
          4,
          7,
          7,
          7,
          7,
          7,
          7,
          7,
          7,
          4,
          4,
          4,
          4,
          4,
          4,
          4,
          4,
          4,
          4,
          4,
          4,
          4,
          4,
          4,
          4,
          6,
          6,
          6,
          6,
          6,
          6,
          6,
          6,
          4,
          4,
          4,
          4,
          4,
          4,
          4,
          4,
          4,
          4,
          4,
          4,
          4,
          4,
          4,
          4,
          4,
          4,
          4,
          4,
          4,
          4,
          4,
          4,
          7,
          7,
          7,
          7,
          7,
          7,
          7,
          7,
          5,
          5,
          5,
          5,
          5,
          5,
          5,
          5,
          2,
          2,
          2,
          2,
          2,
          2,
          2,
          2,
          5,
          5,
          5,
          5,
          5,
          5,
          5,
          5,
          8,
          8,
          8,
          8,
          8,
          8,
          8,
          8,
          4,
          4,
          4,
          4,
          4,
          4,
          4,
          4,
          12,
          12,
          12,
          12,
          12,
          12,
          12,
          12,
          2,
          2,
          2,
          2,
          2,
          2,
          2,
          2,
          11,
          11,
          11,
          11,
          11,
          11,
          11,
          11,
          8,
          8,
          8,
          8,
          8,
          8,
          8,
          8,
          5,
          5,
          5,
          5,
          5,
          5,
          5,
          5,
          6,
          6,
          6,
          6,
          6,
          6,
          6,
          6,
          8,
          8,
          8,
          8,
          8,
          8,
          8,
          8,
          9,
          9,
          9,
          9,
          9,
          9,
          9,
          9,
          13,
          13,
          13,
          13,
          13,
          13,
          13,
          13,
          5,
          5,
          5,
          5,
          5,
          5,
          5,
          5
         ],
         "yaxis": "y2"
        }
       ],
       "layout": {
        "legend": {
         "x": 1.1,
         "y": 1
        },
        "template": {
         "data": {
          "bar": [
           {
            "error_x": {
             "color": "#2a3f5f"
            },
            "error_y": {
             "color": "#2a3f5f"
            },
            "marker": {
             "line": {
              "color": "#E5ECF6",
              "width": 0.5
             },
             "pattern": {
              "fillmode": "overlay",
              "size": 10,
              "solidity": 0.2
             }
            },
            "type": "bar"
           }
          ],
          "barpolar": [
           {
            "marker": {
             "line": {
              "color": "#E5ECF6",
              "width": 0.5
             },
             "pattern": {
              "fillmode": "overlay",
              "size": 10,
              "solidity": 0.2
             }
            },
            "type": "barpolar"
           }
          ],
          "carpet": [
           {
            "aaxis": {
             "endlinecolor": "#2a3f5f",
             "gridcolor": "white",
             "linecolor": "white",
             "minorgridcolor": "white",
             "startlinecolor": "#2a3f5f"
            },
            "baxis": {
             "endlinecolor": "#2a3f5f",
             "gridcolor": "white",
             "linecolor": "white",
             "minorgridcolor": "white",
             "startlinecolor": "#2a3f5f"
            },
            "type": "carpet"
           }
          ],
          "choropleth": [
           {
            "colorbar": {
             "outlinewidth": 0,
             "ticks": ""
            },
            "type": "choropleth"
           }
          ],
          "contour": [
           {
            "colorbar": {
             "outlinewidth": 0,
             "ticks": ""
            },
            "colorscale": [
             [
              0,
              "#0d0887"
             ],
             [
              0.1111111111111111,
              "#46039f"
             ],
             [
              0.2222222222222222,
              "#7201a8"
             ],
             [
              0.3333333333333333,
              "#9c179e"
             ],
             [
              0.4444444444444444,
              "#bd3786"
             ],
             [
              0.5555555555555556,
              "#d8576b"
             ],
             [
              0.6666666666666666,
              "#ed7953"
             ],
             [
              0.7777777777777778,
              "#fb9f3a"
             ],
             [
              0.8888888888888888,
              "#fdca26"
             ],
             [
              1,
              "#f0f921"
             ]
            ],
            "type": "contour"
           }
          ],
          "contourcarpet": [
           {
            "colorbar": {
             "outlinewidth": 0,
             "ticks": ""
            },
            "type": "contourcarpet"
           }
          ],
          "heatmap": [
           {
            "colorbar": {
             "outlinewidth": 0,
             "ticks": ""
            },
            "colorscale": [
             [
              0,
              "#0d0887"
             ],
             [
              0.1111111111111111,
              "#46039f"
             ],
             [
              0.2222222222222222,
              "#7201a8"
             ],
             [
              0.3333333333333333,
              "#9c179e"
             ],
             [
              0.4444444444444444,
              "#bd3786"
             ],
             [
              0.5555555555555556,
              "#d8576b"
             ],
             [
              0.6666666666666666,
              "#ed7953"
             ],
             [
              0.7777777777777778,
              "#fb9f3a"
             ],
             [
              0.8888888888888888,
              "#fdca26"
             ],
             [
              1,
              "#f0f921"
             ]
            ],
            "type": "heatmap"
           }
          ],
          "heatmapgl": [
           {
            "colorbar": {
             "outlinewidth": 0,
             "ticks": ""
            },
            "colorscale": [
             [
              0,
              "#0d0887"
             ],
             [
              0.1111111111111111,
              "#46039f"
             ],
             [
              0.2222222222222222,
              "#7201a8"
             ],
             [
              0.3333333333333333,
              "#9c179e"
             ],
             [
              0.4444444444444444,
              "#bd3786"
             ],
             [
              0.5555555555555556,
              "#d8576b"
             ],
             [
              0.6666666666666666,
              "#ed7953"
             ],
             [
              0.7777777777777778,
              "#fb9f3a"
             ],
             [
              0.8888888888888888,
              "#fdca26"
             ],
             [
              1,
              "#f0f921"
             ]
            ],
            "type": "heatmapgl"
           }
          ],
          "histogram": [
           {
            "marker": {
             "pattern": {
              "fillmode": "overlay",
              "size": 10,
              "solidity": 0.2
             }
            },
            "type": "histogram"
           }
          ],
          "histogram2d": [
           {
            "colorbar": {
             "outlinewidth": 0,
             "ticks": ""
            },
            "colorscale": [
             [
              0,
              "#0d0887"
             ],
             [
              0.1111111111111111,
              "#46039f"
             ],
             [
              0.2222222222222222,
              "#7201a8"
             ],
             [
              0.3333333333333333,
              "#9c179e"
             ],
             [
              0.4444444444444444,
              "#bd3786"
             ],
             [
              0.5555555555555556,
              "#d8576b"
             ],
             [
              0.6666666666666666,
              "#ed7953"
             ],
             [
              0.7777777777777778,
              "#fb9f3a"
             ],
             [
              0.8888888888888888,
              "#fdca26"
             ],
             [
              1,
              "#f0f921"
             ]
            ],
            "type": "histogram2d"
           }
          ],
          "histogram2dcontour": [
           {
            "colorbar": {
             "outlinewidth": 0,
             "ticks": ""
            },
            "colorscale": [
             [
              0,
              "#0d0887"
             ],
             [
              0.1111111111111111,
              "#46039f"
             ],
             [
              0.2222222222222222,
              "#7201a8"
             ],
             [
              0.3333333333333333,
              "#9c179e"
             ],
             [
              0.4444444444444444,
              "#bd3786"
             ],
             [
              0.5555555555555556,
              "#d8576b"
             ],
             [
              0.6666666666666666,
              "#ed7953"
             ],
             [
              0.7777777777777778,
              "#fb9f3a"
             ],
             [
              0.8888888888888888,
              "#fdca26"
             ],
             [
              1,
              "#f0f921"
             ]
            ],
            "type": "histogram2dcontour"
           }
          ],
          "mesh3d": [
           {
            "colorbar": {
             "outlinewidth": 0,
             "ticks": ""
            },
            "type": "mesh3d"
           }
          ],
          "parcoords": [
           {
            "line": {
             "colorbar": {
              "outlinewidth": 0,
              "ticks": ""
             }
            },
            "type": "parcoords"
           }
          ],
          "pie": [
           {
            "automargin": true,
            "type": "pie"
           }
          ],
          "scatter": [
           {
            "fillpattern": {
             "fillmode": "overlay",
             "size": 10,
             "solidity": 0.2
            },
            "type": "scatter"
           }
          ],
          "scatter3d": [
           {
            "line": {
             "colorbar": {
              "outlinewidth": 0,
              "ticks": ""
             }
            },
            "marker": {
             "colorbar": {
              "outlinewidth": 0,
              "ticks": ""
             }
            },
            "type": "scatter3d"
           }
          ],
          "scattercarpet": [
           {
            "marker": {
             "colorbar": {
              "outlinewidth": 0,
              "ticks": ""
             }
            },
            "type": "scattercarpet"
           }
          ],
          "scattergeo": [
           {
            "marker": {
             "colorbar": {
              "outlinewidth": 0,
              "ticks": ""
             }
            },
            "type": "scattergeo"
           }
          ],
          "scattergl": [
           {
            "marker": {
             "colorbar": {
              "outlinewidth": 0,
              "ticks": ""
             }
            },
            "type": "scattergl"
           }
          ],
          "scattermapbox": [
           {
            "marker": {
             "colorbar": {
              "outlinewidth": 0,
              "ticks": ""
             }
            },
            "type": "scattermapbox"
           }
          ],
          "scatterpolar": [
           {
            "marker": {
             "colorbar": {
              "outlinewidth": 0,
              "ticks": ""
             }
            },
            "type": "scatterpolar"
           }
          ],
          "scatterpolargl": [
           {
            "marker": {
             "colorbar": {
              "outlinewidth": 0,
              "ticks": ""
             }
            },
            "type": "scatterpolargl"
           }
          ],
          "scatterternary": [
           {
            "marker": {
             "colorbar": {
              "outlinewidth": 0,
              "ticks": ""
             }
            },
            "type": "scatterternary"
           }
          ],
          "surface": [
           {
            "colorbar": {
             "outlinewidth": 0,
             "ticks": ""
            },
            "colorscale": [
             [
              0,
              "#0d0887"
             ],
             [
              0.1111111111111111,
              "#46039f"
             ],
             [
              0.2222222222222222,
              "#7201a8"
             ],
             [
              0.3333333333333333,
              "#9c179e"
             ],
             [
              0.4444444444444444,
              "#bd3786"
             ],
             [
              0.5555555555555556,
              "#d8576b"
             ],
             [
              0.6666666666666666,
              "#ed7953"
             ],
             [
              0.7777777777777778,
              "#fb9f3a"
             ],
             [
              0.8888888888888888,
              "#fdca26"
             ],
             [
              1,
              "#f0f921"
             ]
            ],
            "type": "surface"
           }
          ],
          "table": [
           {
            "cells": {
             "fill": {
              "color": "#EBF0F8"
             },
             "line": {
              "color": "white"
             }
            },
            "header": {
             "fill": {
              "color": "#C8D4E3"
             },
             "line": {
              "color": "white"
             }
            },
            "type": "table"
           }
          ]
         },
         "layout": {
          "annotationdefaults": {
           "arrowcolor": "#2a3f5f",
           "arrowhead": 0,
           "arrowwidth": 1
          },
          "autotypenumbers": "strict",
          "coloraxis": {
           "colorbar": {
            "outlinewidth": 0,
            "ticks": ""
           }
          },
          "colorscale": {
           "diverging": [
            [
             0,
             "#8e0152"
            ],
            [
             0.1,
             "#c51b7d"
            ],
            [
             0.2,
             "#de77ae"
            ],
            [
             0.3,
             "#f1b6da"
            ],
            [
             0.4,
             "#fde0ef"
            ],
            [
             0.5,
             "#f7f7f7"
            ],
            [
             0.6,
             "#e6f5d0"
            ],
            [
             0.7,
             "#b8e186"
            ],
            [
             0.8,
             "#7fbc41"
            ],
            [
             0.9,
             "#4d9221"
            ],
            [
             1,
             "#276419"
            ]
           ],
           "sequential": [
            [
             0,
             "#0d0887"
            ],
            [
             0.1111111111111111,
             "#46039f"
            ],
            [
             0.2222222222222222,
             "#7201a8"
            ],
            [
             0.3333333333333333,
             "#9c179e"
            ],
            [
             0.4444444444444444,
             "#bd3786"
            ],
            [
             0.5555555555555556,
             "#d8576b"
            ],
            [
             0.6666666666666666,
             "#ed7953"
            ],
            [
             0.7777777777777778,
             "#fb9f3a"
            ],
            [
             0.8888888888888888,
             "#fdca26"
            ],
            [
             1,
             "#f0f921"
            ]
           ],
           "sequentialminus": [
            [
             0,
             "#0d0887"
            ],
            [
             0.1111111111111111,
             "#46039f"
            ],
            [
             0.2222222222222222,
             "#7201a8"
            ],
            [
             0.3333333333333333,
             "#9c179e"
            ],
            [
             0.4444444444444444,
             "#bd3786"
            ],
            [
             0.5555555555555556,
             "#d8576b"
            ],
            [
             0.6666666666666666,
             "#ed7953"
            ],
            [
             0.7777777777777778,
             "#fb9f3a"
            ],
            [
             0.8888888888888888,
             "#fdca26"
            ],
            [
             1,
             "#f0f921"
            ]
           ]
          },
          "colorway": [
           "#636efa",
           "#EF553B",
           "#00cc96",
           "#ab63fa",
           "#FFA15A",
           "#19d3f3",
           "#FF6692",
           "#B6E880",
           "#FF97FF",
           "#FECB52"
          ],
          "font": {
           "color": "#2a3f5f"
          },
          "geo": {
           "bgcolor": "white",
           "lakecolor": "white",
           "landcolor": "#E5ECF6",
           "showlakes": true,
           "showland": true,
           "subunitcolor": "white"
          },
          "hoverlabel": {
           "align": "left"
          },
          "hovermode": "closest",
          "mapbox": {
           "style": "light"
          },
          "paper_bgcolor": "white",
          "plot_bgcolor": "#E5ECF6",
          "polar": {
           "angularaxis": {
            "gridcolor": "white",
            "linecolor": "white",
            "ticks": ""
           },
           "bgcolor": "#E5ECF6",
           "radialaxis": {
            "gridcolor": "white",
            "linecolor": "white",
            "ticks": ""
           }
          },
          "scene": {
           "xaxis": {
            "backgroundcolor": "#E5ECF6",
            "gridcolor": "white",
            "gridwidth": 2,
            "linecolor": "white",
            "showbackground": true,
            "ticks": "",
            "zerolinecolor": "white"
           },
           "yaxis": {
            "backgroundcolor": "#E5ECF6",
            "gridcolor": "white",
            "gridwidth": 2,
            "linecolor": "white",
            "showbackground": true,
            "ticks": "",
            "zerolinecolor": "white"
           },
           "zaxis": {
            "backgroundcolor": "#E5ECF6",
            "gridcolor": "white",
            "gridwidth": 2,
            "linecolor": "white",
            "showbackground": true,
            "ticks": "",
            "zerolinecolor": "white"
           }
          },
          "shapedefaults": {
           "line": {
            "color": "#2a3f5f"
           }
          },
          "ternary": {
           "aaxis": {
            "gridcolor": "white",
            "linecolor": "white",
            "ticks": ""
           },
           "baxis": {
            "gridcolor": "white",
            "linecolor": "white",
            "ticks": ""
           },
           "bgcolor": "#E5ECF6",
           "caxis": {
            "gridcolor": "white",
            "linecolor": "white",
            "ticks": ""
           }
          },
          "title": {
           "x": 0.05
          },
          "xaxis": {
           "automargin": true,
           "gridcolor": "white",
           "linecolor": "white",
           "ticks": "",
           "title": {
            "standoff": 15
           },
           "zerolinecolor": "white",
           "zerolinewidth": 2
          },
          "yaxis": {
           "automargin": true,
           "gridcolor": "white",
           "linecolor": "white",
           "ticks": "",
           "title": {
            "standoff": 15
           },
           "zerolinecolor": "white",
           "zerolinewidth": 2
          }
         }
        },
        "title": {
         "text": "ing Web Traffic and Independent Variables"
        },
        "xaxis": {
         "title": {
          "text": "Date"
         }
        },
        "yaxis": {
         "tickfont": {
          "color": "#000000"
         },
         "title": {
          "font": {
           "color": "#000000"
          },
          "text": "Web Traffic"
         }
        },
        "yaxis2": {
         "overlaying": "y",
         "side": "right",
         "tickfont": {
          "color": "#000000"
         },
         "title": {
          "font": {
           "color": "#000000"
          },
          "text": "Independent Variables"
         }
        }
       }
      }
     },
     "metadata": {},
     "output_type": "display_data"
    },
    {
     "data": {
      "application/vnd.plotly.v1+json": {
       "config": {
        "plotlyServerURL": "https://plot.ly"
       },
       "data": [
        {
         "mode": "lines",
         "name": "web_traffic",
         "type": "scatter",
         "x": [
          "2021-12-01",
          "2021-12-01",
          "2021-12-01",
          "2022-01-01",
          "2022-01-01",
          "2022-01-01",
          "2022-02-01",
          "2022-02-01",
          "2022-02-01",
          "2022-03-01",
          "2022-03-01",
          "2022-03-01",
          "2022-04-01",
          "2022-04-01",
          "2022-04-01",
          "2022-05-01",
          "2022-05-01",
          "2022-05-01",
          "2022-06-01",
          "2022-06-01",
          "2022-06-01",
          "2022-07-01",
          "2022-07-01",
          "2022-07-01",
          "2022-08-01",
          "2022-08-01",
          "2022-08-01",
          "2022-09-01",
          "2022-09-01",
          "2022-09-01",
          "2022-10-01",
          "2022-10-01",
          "2022-10-01",
          "2022-11-01",
          "2022-11-01",
          "2022-11-01",
          "2022-12-01",
          "2022-12-01",
          "2022-12-01",
          "2023-01-01",
          "2023-01-01",
          "2023-01-01",
          "2023-02-01",
          "2023-02-01",
          "2023-02-01",
          "2023-03-01",
          "2023-03-01",
          "2023-03-01",
          "2023-04-01",
          "2023-04-01",
          "2023-04-01",
          "2023-05-01",
          "2023-05-01",
          "2023-05-01",
          "2023-06-01",
          "2023-06-01",
          "2023-06-01",
          "2023-07-01",
          "2023-07-01",
          "2023-07-01",
          "2023-08-01",
          "2023-08-01",
          "2023-08-01",
          "2023-09-01",
          "2023-09-01",
          "2023-09-01",
          "2023-10-01",
          "2023-10-01",
          "2023-10-01",
          "2023-11-01",
          "2023-11-01",
          "2023-11-01",
          "2023-11-01",
          "2023-11-01",
          "2023-11-01",
          "2023-12-01",
          "2023-12-01",
          "2023-12-01"
         ],
         "y": [
          45449.48678651925,
          45449.48678651925,
          45449.48678651925,
          38306.46498262619,
          38306.46498262619,
          38306.46498262619,
          40978.32582147534,
          40978.32582147534,
          40978.32582147534,
          43970.54562733648,
          43970.54562733648,
          43970.54562733648,
          40782.45195649115,
          40782.45195649115,
          40782.45195649115,
          44439.738816212455,
          44439.738816212455,
          44439.738816212455,
          29359.709637423897,
          29359.709637423897,
          29359.709637423897,
          49115.26308520529,
          49115.26308520529,
          49115.26308520529,
          49005.118423851425,
          49005.118423851425,
          49005.118423851425,
          36922.65566335172,
          36922.65566335172,
          36922.65566335172,
          44828.37266305573,
          44828.37266305573,
          44828.37266305573,
          36501.59166682821,
          36501.59166682821,
          36501.59166682821,
          41612.02886947374,
          41612.02886947374,
          41612.02886947374,
          35220.99341526684,
          35220.99341526684,
          35220.99341526684,
          27661.986096174864,
          27661.986096174864,
          27661.986096174864,
          29553.21845535899,
          29553.21845535899,
          29553.21845535899,
          26776.530440562343,
          26776.530440562343,
          26776.530440562343,
          33327.4916768354,
          33327.4916768354,
          33327.4916768354,
          33102.53835861683,
          33102.53835861683,
          33102.53835861683,
          40004.97373618931,
          40004.97373618931,
          40004.97373618931,
          33688.124526660344,
          33688.124526660344,
          33688.124526660344,
          102540.4775208926,
          102540.4775208926,
          102540.4775208926,
          26425.57645595719,
          26425.57645595719,
          26425.57645595719,
          32849.23293514365,
          32849.23293514365,
          32849.23293514365,
          32849.23293514365,
          32849.23293514365,
          32849.23293514365,
          29659.949637098172,
          29659.949637098172,
          29659.949637098172
         ],
         "yaxis": "y"
        },
        {
         "mode": "lines",
         "name": "cross_visitation",
         "type": "scatter",
         "x": [
          "2021-12-01",
          "2021-12-01",
          "2021-12-01",
          "2022-01-01",
          "2022-01-01",
          "2022-01-01",
          "2022-02-01",
          "2022-02-01",
          "2022-02-01",
          "2022-03-01",
          "2022-03-01",
          "2022-03-01",
          "2022-04-01",
          "2022-04-01",
          "2022-04-01",
          "2022-05-01",
          "2022-05-01",
          "2022-05-01",
          "2022-06-01",
          "2022-06-01",
          "2022-06-01",
          "2022-07-01",
          "2022-07-01",
          "2022-07-01",
          "2022-08-01",
          "2022-08-01",
          "2022-08-01",
          "2022-09-01",
          "2022-09-01",
          "2022-09-01",
          "2022-10-01",
          "2022-10-01",
          "2022-10-01",
          "2022-11-01",
          "2022-11-01",
          "2022-11-01",
          "2022-12-01",
          "2022-12-01",
          "2022-12-01",
          "2023-01-01",
          "2023-01-01",
          "2023-01-01",
          "2023-02-01",
          "2023-02-01",
          "2023-02-01",
          "2023-03-01",
          "2023-03-01",
          "2023-03-01",
          "2023-04-01",
          "2023-04-01",
          "2023-04-01",
          "2023-05-01",
          "2023-05-01",
          "2023-05-01",
          "2023-06-01",
          "2023-06-01",
          "2023-06-01",
          "2023-07-01",
          "2023-07-01",
          "2023-07-01",
          "2023-08-01",
          "2023-08-01",
          "2023-08-01",
          "2023-09-01",
          "2023-09-01",
          "2023-09-01",
          "2023-10-01",
          "2023-10-01",
          "2023-10-01",
          "2023-11-01",
          "2023-11-01",
          "2023-11-01",
          "2023-11-01",
          "2023-11-01",
          "2023-11-01",
          "2023-12-01",
          "2023-12-01",
          "2023-12-01"
         ],
         "y": [
          0.1963070929050445,
          0.1963070929050445,
          0.1963070929050445,
          0.170376718044281,
          0.170376718044281,
          0.170376718044281,
          0.1925360411405563,
          0.1925360411405563,
          0.1925360411405563,
          0.1749291718006134,
          0.1749291718006134,
          0.1749291718006134,
          0.1814803481101989,
          0.1814803481101989,
          0.1814803481101989,
          0.1608788073062896,
          0.1608788073062896,
          0.1608788073062896,
          0.1694424301385879,
          0.1694424301385879,
          0.1694424301385879,
          0.1724407225847244,
          0.1724407225847244,
          0.1724407225847244,
          0.1765841543674469,
          0.1765841543674469,
          0.1765841543674469,
          0.1751697957515716,
          0.1751697957515716,
          0.1751697957515716,
          0.1669221520423889,
          0.1669221520423889,
          0.1669221520423889,
          0.1781500428915023,
          0.1781500428915023,
          0.1781500428915023,
          0.1970509588718414,
          0.1970509588718414,
          0.1970509588718414,
          0.1902732849121093,
          0.1902732849121093,
          0.1902732849121093,
          0.192659243941307,
          0.192659243941307,
          0.192659243941307,
          0.1739023327827453,
          0.1739023327827453,
          0.1739023327827453,
          0.1540902256965637,
          0.1540902256965637,
          0.1540902256965637,
          0.177688717842102,
          0.177688717842102,
          0.177688717842102,
          0.1742187440395355,
          0.1742187440395355,
          0.1742187440395355,
          0.1915085762739181,
          0.1915085762739181,
          0.1915085762739181,
          0.1638418138027191,
          0.1638418138027191,
          0.1638418138027191,
          0.1923076957464218,
          0.1923076957464218,
          0.1923076957464218,
          0.1901608258485794,
          0.1901608258485794,
          0.1901608258485794,
          0.1808988749980926,
          0.1808988749980926,
          0.1808988749980926,
          0.1808988749980926,
          0.1808988749980926,
          0.1808988749980926,
          0.1835883110761642,
          0.1835883110761642,
          0.1835883110761642
         ],
         "yaxis": "y2"
        },
        {
         "mode": "lines",
         "name": "rank",
         "type": "scatter",
         "x": [
          "2021-12-01",
          "2021-12-01",
          "2021-12-01",
          "2022-01-01",
          "2022-01-01",
          "2022-01-01",
          "2022-02-01",
          "2022-02-01",
          "2022-02-01",
          "2022-03-01",
          "2022-03-01",
          "2022-03-01",
          "2022-04-01",
          "2022-04-01",
          "2022-04-01",
          "2022-05-01",
          "2022-05-01",
          "2022-05-01",
          "2022-06-01",
          "2022-06-01",
          "2022-06-01",
          "2022-07-01",
          "2022-07-01",
          "2022-07-01",
          "2022-08-01",
          "2022-08-01",
          "2022-08-01",
          "2022-09-01",
          "2022-09-01",
          "2022-09-01",
          "2022-10-01",
          "2022-10-01",
          "2022-10-01",
          "2022-11-01",
          "2022-11-01",
          "2022-11-01",
          "2022-12-01",
          "2022-12-01",
          "2022-12-01",
          "2023-01-01",
          "2023-01-01",
          "2023-01-01",
          "2023-02-01",
          "2023-02-01",
          "2023-02-01",
          "2023-03-01",
          "2023-03-01",
          "2023-03-01",
          "2023-04-01",
          "2023-04-01",
          "2023-04-01",
          "2023-05-01",
          "2023-05-01",
          "2023-05-01",
          "2023-06-01",
          "2023-06-01",
          "2023-06-01",
          "2023-07-01",
          "2023-07-01",
          "2023-07-01",
          "2023-08-01",
          "2023-08-01",
          "2023-08-01",
          "2023-09-01",
          "2023-09-01",
          "2023-09-01",
          "2023-10-01",
          "2023-10-01",
          "2023-10-01",
          "2023-11-01",
          "2023-11-01",
          "2023-11-01",
          "2023-11-01",
          "2023-11-01",
          "2023-11-01",
          "2023-12-01",
          "2023-12-01",
          "2023-12-01"
         ],
         "y": [
          1,
          5,
          5,
          1,
          5,
          5,
          1,
          6,
          6,
          6,
          6,
          6,
          6,
          6,
          6,
          1,
          4,
          4,
          8,
          6,
          6,
          3,
          4,
          4,
          3,
          7,
          7,
          3,
          7,
          7,
          7,
          7,
          7,
          3,
          3,
          3,
          3,
          3,
          3,
          5,
          4,
          4,
          5,
          2,
          2,
          6,
          5,
          5,
          5,
          5,
          5,
          5,
          5,
          5,
          5,
          5,
          5,
          4,
          4,
          4,
          6,
          4,
          4,
          4,
          4,
          4,
          4,
          4,
          4,
          4.176470588235294,
          4.176470588235294,
          4.176470588235294,
          4.176470588235294,
          4,
          4,
          3.193548387096774,
          3.193548387096774,
          4
         ],
         "yaxis": "y2"
        },
        {
         "mode": "lines",
         "name": "category_best_salary_accounts_helmycash",
         "type": "scatter",
         "x": [
          "2021-12-01",
          "2021-12-01",
          "2021-12-01",
          "2022-01-01",
          "2022-01-01",
          "2022-01-01",
          "2022-02-01",
          "2022-02-01",
          "2022-02-01",
          "2022-03-01",
          "2022-03-01",
          "2022-03-01",
          "2022-04-01",
          "2022-04-01",
          "2022-04-01",
          "2022-05-01",
          "2022-05-01",
          "2022-05-01",
          "2022-06-01",
          "2022-06-01",
          "2022-06-01",
          "2022-07-01",
          "2022-07-01",
          "2022-07-01",
          "2022-08-01",
          "2022-08-01",
          "2022-08-01",
          "2022-09-01",
          "2022-09-01",
          "2022-09-01",
          "2022-10-01",
          "2022-10-01",
          "2022-10-01",
          "2022-11-01",
          "2022-11-01",
          "2022-11-01",
          "2022-12-01",
          "2022-12-01",
          "2022-12-01",
          "2023-01-01",
          "2023-01-01",
          "2023-01-01",
          "2023-02-01",
          "2023-02-01",
          "2023-02-01",
          "2023-03-01",
          "2023-03-01",
          "2023-03-01",
          "2023-04-01",
          "2023-04-01",
          "2023-04-01",
          "2023-05-01",
          "2023-05-01",
          "2023-05-01",
          "2023-06-01",
          "2023-06-01",
          "2023-06-01",
          "2023-07-01",
          "2023-07-01",
          "2023-07-01",
          "2023-08-01",
          "2023-08-01",
          "2023-08-01",
          "2023-09-01",
          "2023-09-01",
          "2023-09-01",
          "2023-10-01",
          "2023-10-01",
          "2023-10-01",
          "2023-11-01",
          "2023-11-01",
          "2023-11-01",
          "2023-11-01",
          "2023-11-01",
          "2023-11-01",
          "2023-12-01",
          "2023-12-01",
          "2023-12-01"
         ],
         "y": [
          0,
          1,
          1,
          0,
          1,
          1,
          0,
          1,
          1,
          0,
          1,
          1,
          0,
          1,
          1,
          0,
          1,
          1,
          0,
          1,
          1,
          0,
          1,
          1,
          0,
          1,
          1,
          0,
          1,
          1,
          0,
          1,
          1,
          0,
          1,
          1,
          0,
          1,
          1,
          0,
          1,
          1,
          0,
          1,
          1,
          0,
          1,
          1,
          0,
          1,
          1,
          0,
          1,
          1,
          0,
          1,
          1,
          0,
          1,
          1,
          0,
          1,
          1,
          0,
          1,
          1,
          0,
          1,
          1,
          0,
          0,
          1,
          1,
          1,
          1,
          0,
          1,
          1
         ],
         "yaxis": "y2"
        },
        {
         "mode": "lines",
         "name": "category_best_savings_accounts_helpmycash",
         "type": "scatter",
         "x": [
          "2021-12-01",
          "2021-12-01",
          "2021-12-01",
          "2022-01-01",
          "2022-01-01",
          "2022-01-01",
          "2022-02-01",
          "2022-02-01",
          "2022-02-01",
          "2022-03-01",
          "2022-03-01",
          "2022-03-01",
          "2022-04-01",
          "2022-04-01",
          "2022-04-01",
          "2022-05-01",
          "2022-05-01",
          "2022-05-01",
          "2022-06-01",
          "2022-06-01",
          "2022-06-01",
          "2022-07-01",
          "2022-07-01",
          "2022-07-01",
          "2022-08-01",
          "2022-08-01",
          "2022-08-01",
          "2022-09-01",
          "2022-09-01",
          "2022-09-01",
          "2022-10-01",
          "2022-10-01",
          "2022-10-01",
          "2022-11-01",
          "2022-11-01",
          "2022-11-01",
          "2022-12-01",
          "2022-12-01",
          "2022-12-01",
          "2023-01-01",
          "2023-01-01",
          "2023-01-01",
          "2023-02-01",
          "2023-02-01",
          "2023-02-01",
          "2023-03-01",
          "2023-03-01",
          "2023-03-01",
          "2023-04-01",
          "2023-04-01",
          "2023-04-01",
          "2023-05-01",
          "2023-05-01",
          "2023-05-01",
          "2023-06-01",
          "2023-06-01",
          "2023-06-01",
          "2023-07-01",
          "2023-07-01",
          "2023-07-01",
          "2023-08-01",
          "2023-08-01",
          "2023-08-01",
          "2023-09-01",
          "2023-09-01",
          "2023-09-01",
          "2023-10-01",
          "2023-10-01",
          "2023-10-01",
          "2023-11-01",
          "2023-11-01",
          "2023-11-01",
          "2023-11-01",
          "2023-11-01",
          "2023-11-01",
          "2023-12-01",
          "2023-12-01",
          "2023-12-01"
         ],
         "y": [
          0,
          0,
          0,
          0,
          0,
          0,
          0,
          0,
          0,
          0,
          0,
          0,
          0,
          0,
          0,
          0,
          0,
          0,
          0,
          0,
          0,
          0,
          0,
          0,
          0,
          0,
          0,
          0,
          0,
          0,
          0,
          0,
          0,
          0,
          0,
          0,
          0,
          0,
          0,
          0,
          0,
          0,
          0,
          0,
          0,
          0,
          0,
          0,
          0,
          0,
          0,
          0,
          0,
          0,
          0,
          0,
          0,
          0,
          0,
          0,
          0,
          0,
          0,
          0,
          0,
          0,
          0,
          0,
          0,
          0,
          0,
          0,
          0,
          0,
          0,
          0,
          0,
          0
         ],
         "yaxis": "y2"
        },
        {
         "mode": "lines",
         "name": "incentive",
         "type": "scatter",
         "x": [
          "2021-12-01",
          "2021-12-01",
          "2021-12-01",
          "2022-01-01",
          "2022-01-01",
          "2022-01-01",
          "2022-02-01",
          "2022-02-01",
          "2022-02-01",
          "2022-03-01",
          "2022-03-01",
          "2022-03-01",
          "2022-04-01",
          "2022-04-01",
          "2022-04-01",
          "2022-05-01",
          "2022-05-01",
          "2022-05-01",
          "2022-06-01",
          "2022-06-01",
          "2022-06-01",
          "2022-07-01",
          "2022-07-01",
          "2022-07-01",
          "2022-08-01",
          "2022-08-01",
          "2022-08-01",
          "2022-09-01",
          "2022-09-01",
          "2022-09-01",
          "2022-10-01",
          "2022-10-01",
          "2022-10-01",
          "2022-11-01",
          "2022-11-01",
          "2022-11-01",
          "2022-12-01",
          "2022-12-01",
          "2022-12-01",
          "2023-01-01",
          "2023-01-01",
          "2023-01-01",
          "2023-02-01",
          "2023-02-01",
          "2023-02-01",
          "2023-03-01",
          "2023-03-01",
          "2023-03-01",
          "2023-04-01",
          "2023-04-01",
          "2023-04-01",
          "2023-05-01",
          "2023-05-01",
          "2023-05-01",
          "2023-06-01",
          "2023-06-01",
          "2023-06-01",
          "2023-07-01",
          "2023-07-01",
          "2023-07-01",
          "2023-08-01",
          "2023-08-01",
          "2023-08-01",
          "2023-09-01",
          "2023-09-01",
          "2023-09-01",
          "2023-10-01",
          "2023-10-01",
          "2023-10-01",
          "2023-11-01",
          "2023-11-01",
          "2023-11-01",
          "2023-11-01",
          "2023-11-01",
          "2023-11-01",
          "2023-12-01",
          "2023-12-01",
          "2023-12-01"
         ],
         "y": [
          0,
          0,
          0,
          0,
          0,
          0,
          0,
          0,
          0,
          0,
          0,
          0,
          0,
          0,
          0,
          0,
          0,
          0,
          0,
          0,
          0,
          0,
          0,
          0,
          0,
          0,
          0,
          0,
          0,
          0,
          0,
          0,
          0,
          0,
          0,
          0,
          0,
          0,
          0,
          0,
          0,
          0,
          0,
          0,
          0,
          0,
          0,
          0,
          0,
          0,
          0,
          0,
          0,
          0,
          0,
          0,
          0,
          0,
          0,
          0,
          0,
          0,
          0,
          0,
          0,
          0,
          0,
          0,
          0,
          0,
          0,
          0,
          0,
          0,
          0,
          0,
          0,
          0
         ],
         "yaxis": "y2"
        },
        {
         "mode": "lines",
         "name": "apr",
         "type": "scatter",
         "x": [
          "2021-12-01",
          "2021-12-01",
          "2021-12-01",
          "2022-01-01",
          "2022-01-01",
          "2022-01-01",
          "2022-02-01",
          "2022-02-01",
          "2022-02-01",
          "2022-03-01",
          "2022-03-01",
          "2022-03-01",
          "2022-04-01",
          "2022-04-01",
          "2022-04-01",
          "2022-05-01",
          "2022-05-01",
          "2022-05-01",
          "2022-06-01",
          "2022-06-01",
          "2022-06-01",
          "2022-07-01",
          "2022-07-01",
          "2022-07-01",
          "2022-08-01",
          "2022-08-01",
          "2022-08-01",
          "2022-09-01",
          "2022-09-01",
          "2022-09-01",
          "2022-10-01",
          "2022-10-01",
          "2022-10-01",
          "2022-11-01",
          "2022-11-01",
          "2022-11-01",
          "2022-12-01",
          "2022-12-01",
          "2022-12-01",
          "2023-01-01",
          "2023-01-01",
          "2023-01-01",
          "2023-02-01",
          "2023-02-01",
          "2023-02-01",
          "2023-03-01",
          "2023-03-01",
          "2023-03-01",
          "2023-04-01",
          "2023-04-01",
          "2023-04-01",
          "2023-05-01",
          "2023-05-01",
          "2023-05-01",
          "2023-06-01",
          "2023-06-01",
          "2023-06-01",
          "2023-07-01",
          "2023-07-01",
          "2023-07-01",
          "2023-08-01",
          "2023-08-01",
          "2023-08-01",
          "2023-09-01",
          "2023-09-01",
          "2023-09-01",
          "2023-10-01",
          "2023-10-01",
          "2023-10-01",
          "2023-11-01",
          "2023-11-01",
          "2023-11-01",
          "2023-11-01",
          "2023-11-01",
          "2023-11-01",
          "2023-12-01",
          "2023-12-01",
          "2023-12-01"
         ],
         "y": [
          0,
          0,
          0,
          0,
          0,
          0,
          0,
          0,
          0,
          0,
          0,
          0,
          0,
          0,
          0,
          0,
          0,
          0,
          0,
          0,
          0,
          0,
          0,
          0,
          0,
          0,
          0,
          0,
          0,
          0,
          0,
          0,
          0,
          0,
          0,
          0,
          0,
          0,
          0,
          0,
          0,
          0,
          0,
          0,
          0,
          0,
          0,
          0,
          0,
          0,
          0,
          0,
          0,
          0,
          0,
          0,
          0,
          0,
          0,
          0,
          0,
          0,
          0,
          0,
          0,
          0,
          0,
          0,
          0,
          0,
          0,
          0,
          0,
          0,
          0,
          0,
          0,
          0
         ],
         "yaxis": "y2"
        },
        {
         "mode": "lines",
         "name": "mentions",
         "type": "scatter",
         "x": [
          "2021-12-01",
          "2021-12-01",
          "2021-12-01",
          "2022-01-01",
          "2022-01-01",
          "2022-01-01",
          "2022-02-01",
          "2022-02-01",
          "2022-02-01",
          "2022-03-01",
          "2022-03-01",
          "2022-03-01",
          "2022-04-01",
          "2022-04-01",
          "2022-04-01",
          "2022-05-01",
          "2022-05-01",
          "2022-05-01",
          "2022-06-01",
          "2022-06-01",
          "2022-06-01",
          "2022-07-01",
          "2022-07-01",
          "2022-07-01",
          "2022-08-01",
          "2022-08-01",
          "2022-08-01",
          "2022-09-01",
          "2022-09-01",
          "2022-09-01",
          "2022-10-01",
          "2022-10-01",
          "2022-10-01",
          "2022-11-01",
          "2022-11-01",
          "2022-11-01",
          "2022-12-01",
          "2022-12-01",
          "2022-12-01",
          "2023-01-01",
          "2023-01-01",
          "2023-01-01",
          "2023-02-01",
          "2023-02-01",
          "2023-02-01",
          "2023-03-01",
          "2023-03-01",
          "2023-03-01",
          "2023-04-01",
          "2023-04-01",
          "2023-04-01",
          "2023-05-01",
          "2023-05-01",
          "2023-05-01",
          "2023-06-01",
          "2023-06-01",
          "2023-06-01",
          "2023-07-01",
          "2023-07-01",
          "2023-07-01",
          "2023-08-01",
          "2023-08-01",
          "2023-08-01",
          "2023-09-01",
          "2023-09-01",
          "2023-09-01",
          "2023-10-01",
          "2023-10-01",
          "2023-10-01",
          "2023-11-01",
          "2023-11-01",
          "2023-11-01",
          "2023-11-01",
          "2023-11-01",
          "2023-11-01",
          "2023-12-01",
          "2023-12-01",
          "2023-12-01"
         ],
         "y": [
          4,
          4,
          4,
          0,
          0,
          0,
          7,
          7,
          7,
          4,
          4,
          4,
          1,
          1,
          1,
          4,
          4,
          4,
          1,
          1,
          1,
          2,
          2,
          2,
          2,
          2,
          2,
          2,
          2,
          2,
          1,
          1,
          1,
          0,
          0,
          0,
          0,
          0,
          0,
          0,
          0,
          0,
          0,
          0,
          0,
          0,
          0,
          0,
          3,
          3,
          3,
          3,
          3,
          3,
          1,
          1,
          1,
          1,
          1,
          1,
          1,
          1,
          1,
          2,
          2,
          2,
          3,
          3,
          3,
          4,
          4,
          4,
          4,
          4,
          4,
          1,
          1,
          1
         ],
         "yaxis": "y2"
        }
       ],
       "layout": {
        "legend": {
         "x": 1.1,
         "y": 1
        },
        "template": {
         "data": {
          "bar": [
           {
            "error_x": {
             "color": "#2a3f5f"
            },
            "error_y": {
             "color": "#2a3f5f"
            },
            "marker": {
             "line": {
              "color": "#E5ECF6",
              "width": 0.5
             },
             "pattern": {
              "fillmode": "overlay",
              "size": 10,
              "solidity": 0.2
             }
            },
            "type": "bar"
           }
          ],
          "barpolar": [
           {
            "marker": {
             "line": {
              "color": "#E5ECF6",
              "width": 0.5
             },
             "pattern": {
              "fillmode": "overlay",
              "size": 10,
              "solidity": 0.2
             }
            },
            "type": "barpolar"
           }
          ],
          "carpet": [
           {
            "aaxis": {
             "endlinecolor": "#2a3f5f",
             "gridcolor": "white",
             "linecolor": "white",
             "minorgridcolor": "white",
             "startlinecolor": "#2a3f5f"
            },
            "baxis": {
             "endlinecolor": "#2a3f5f",
             "gridcolor": "white",
             "linecolor": "white",
             "minorgridcolor": "white",
             "startlinecolor": "#2a3f5f"
            },
            "type": "carpet"
           }
          ],
          "choropleth": [
           {
            "colorbar": {
             "outlinewidth": 0,
             "ticks": ""
            },
            "type": "choropleth"
           }
          ],
          "contour": [
           {
            "colorbar": {
             "outlinewidth": 0,
             "ticks": ""
            },
            "colorscale": [
             [
              0,
              "#0d0887"
             ],
             [
              0.1111111111111111,
              "#46039f"
             ],
             [
              0.2222222222222222,
              "#7201a8"
             ],
             [
              0.3333333333333333,
              "#9c179e"
             ],
             [
              0.4444444444444444,
              "#bd3786"
             ],
             [
              0.5555555555555556,
              "#d8576b"
             ],
             [
              0.6666666666666666,
              "#ed7953"
             ],
             [
              0.7777777777777778,
              "#fb9f3a"
             ],
             [
              0.8888888888888888,
              "#fdca26"
             ],
             [
              1,
              "#f0f921"
             ]
            ],
            "type": "contour"
           }
          ],
          "contourcarpet": [
           {
            "colorbar": {
             "outlinewidth": 0,
             "ticks": ""
            },
            "type": "contourcarpet"
           }
          ],
          "heatmap": [
           {
            "colorbar": {
             "outlinewidth": 0,
             "ticks": ""
            },
            "colorscale": [
             [
              0,
              "#0d0887"
             ],
             [
              0.1111111111111111,
              "#46039f"
             ],
             [
              0.2222222222222222,
              "#7201a8"
             ],
             [
              0.3333333333333333,
              "#9c179e"
             ],
             [
              0.4444444444444444,
              "#bd3786"
             ],
             [
              0.5555555555555556,
              "#d8576b"
             ],
             [
              0.6666666666666666,
              "#ed7953"
             ],
             [
              0.7777777777777778,
              "#fb9f3a"
             ],
             [
              0.8888888888888888,
              "#fdca26"
             ],
             [
              1,
              "#f0f921"
             ]
            ],
            "type": "heatmap"
           }
          ],
          "heatmapgl": [
           {
            "colorbar": {
             "outlinewidth": 0,
             "ticks": ""
            },
            "colorscale": [
             [
              0,
              "#0d0887"
             ],
             [
              0.1111111111111111,
              "#46039f"
             ],
             [
              0.2222222222222222,
              "#7201a8"
             ],
             [
              0.3333333333333333,
              "#9c179e"
             ],
             [
              0.4444444444444444,
              "#bd3786"
             ],
             [
              0.5555555555555556,
              "#d8576b"
             ],
             [
              0.6666666666666666,
              "#ed7953"
             ],
             [
              0.7777777777777778,
              "#fb9f3a"
             ],
             [
              0.8888888888888888,
              "#fdca26"
             ],
             [
              1,
              "#f0f921"
             ]
            ],
            "type": "heatmapgl"
           }
          ],
          "histogram": [
           {
            "marker": {
             "pattern": {
              "fillmode": "overlay",
              "size": 10,
              "solidity": 0.2
             }
            },
            "type": "histogram"
           }
          ],
          "histogram2d": [
           {
            "colorbar": {
             "outlinewidth": 0,
             "ticks": ""
            },
            "colorscale": [
             [
              0,
              "#0d0887"
             ],
             [
              0.1111111111111111,
              "#46039f"
             ],
             [
              0.2222222222222222,
              "#7201a8"
             ],
             [
              0.3333333333333333,
              "#9c179e"
             ],
             [
              0.4444444444444444,
              "#bd3786"
             ],
             [
              0.5555555555555556,
              "#d8576b"
             ],
             [
              0.6666666666666666,
              "#ed7953"
             ],
             [
              0.7777777777777778,
              "#fb9f3a"
             ],
             [
              0.8888888888888888,
              "#fdca26"
             ],
             [
              1,
              "#f0f921"
             ]
            ],
            "type": "histogram2d"
           }
          ],
          "histogram2dcontour": [
           {
            "colorbar": {
             "outlinewidth": 0,
             "ticks": ""
            },
            "colorscale": [
             [
              0,
              "#0d0887"
             ],
             [
              0.1111111111111111,
              "#46039f"
             ],
             [
              0.2222222222222222,
              "#7201a8"
             ],
             [
              0.3333333333333333,
              "#9c179e"
             ],
             [
              0.4444444444444444,
              "#bd3786"
             ],
             [
              0.5555555555555556,
              "#d8576b"
             ],
             [
              0.6666666666666666,
              "#ed7953"
             ],
             [
              0.7777777777777778,
              "#fb9f3a"
             ],
             [
              0.8888888888888888,
              "#fdca26"
             ],
             [
              1,
              "#f0f921"
             ]
            ],
            "type": "histogram2dcontour"
           }
          ],
          "mesh3d": [
           {
            "colorbar": {
             "outlinewidth": 0,
             "ticks": ""
            },
            "type": "mesh3d"
           }
          ],
          "parcoords": [
           {
            "line": {
             "colorbar": {
              "outlinewidth": 0,
              "ticks": ""
             }
            },
            "type": "parcoords"
           }
          ],
          "pie": [
           {
            "automargin": true,
            "type": "pie"
           }
          ],
          "scatter": [
           {
            "fillpattern": {
             "fillmode": "overlay",
             "size": 10,
             "solidity": 0.2
            },
            "type": "scatter"
           }
          ],
          "scatter3d": [
           {
            "line": {
             "colorbar": {
              "outlinewidth": 0,
              "ticks": ""
             }
            },
            "marker": {
             "colorbar": {
              "outlinewidth": 0,
              "ticks": ""
             }
            },
            "type": "scatter3d"
           }
          ],
          "scattercarpet": [
           {
            "marker": {
             "colorbar": {
              "outlinewidth": 0,
              "ticks": ""
             }
            },
            "type": "scattercarpet"
           }
          ],
          "scattergeo": [
           {
            "marker": {
             "colorbar": {
              "outlinewidth": 0,
              "ticks": ""
             }
            },
            "type": "scattergeo"
           }
          ],
          "scattergl": [
           {
            "marker": {
             "colorbar": {
              "outlinewidth": 0,
              "ticks": ""
             }
            },
            "type": "scattergl"
           }
          ],
          "scattermapbox": [
           {
            "marker": {
             "colorbar": {
              "outlinewidth": 0,
              "ticks": ""
             }
            },
            "type": "scattermapbox"
           }
          ],
          "scatterpolar": [
           {
            "marker": {
             "colorbar": {
              "outlinewidth": 0,
              "ticks": ""
             }
            },
            "type": "scatterpolar"
           }
          ],
          "scatterpolargl": [
           {
            "marker": {
             "colorbar": {
              "outlinewidth": 0,
              "ticks": ""
             }
            },
            "type": "scatterpolargl"
           }
          ],
          "scatterternary": [
           {
            "marker": {
             "colorbar": {
              "outlinewidth": 0,
              "ticks": ""
             }
            },
            "type": "scatterternary"
           }
          ],
          "surface": [
           {
            "colorbar": {
             "outlinewidth": 0,
             "ticks": ""
            },
            "colorscale": [
             [
              0,
              "#0d0887"
             ],
             [
              0.1111111111111111,
              "#46039f"
             ],
             [
              0.2222222222222222,
              "#7201a8"
             ],
             [
              0.3333333333333333,
              "#9c179e"
             ],
             [
              0.4444444444444444,
              "#bd3786"
             ],
             [
              0.5555555555555556,
              "#d8576b"
             ],
             [
              0.6666666666666666,
              "#ed7953"
             ],
             [
              0.7777777777777778,
              "#fb9f3a"
             ],
             [
              0.8888888888888888,
              "#fdca26"
             ],
             [
              1,
              "#f0f921"
             ]
            ],
            "type": "surface"
           }
          ],
          "table": [
           {
            "cells": {
             "fill": {
              "color": "#EBF0F8"
             },
             "line": {
              "color": "white"
             }
            },
            "header": {
             "fill": {
              "color": "#C8D4E3"
             },
             "line": {
              "color": "white"
             }
            },
            "type": "table"
           }
          ]
         },
         "layout": {
          "annotationdefaults": {
           "arrowcolor": "#2a3f5f",
           "arrowhead": 0,
           "arrowwidth": 1
          },
          "autotypenumbers": "strict",
          "coloraxis": {
           "colorbar": {
            "outlinewidth": 0,
            "ticks": ""
           }
          },
          "colorscale": {
           "diverging": [
            [
             0,
             "#8e0152"
            ],
            [
             0.1,
             "#c51b7d"
            ],
            [
             0.2,
             "#de77ae"
            ],
            [
             0.3,
             "#f1b6da"
            ],
            [
             0.4,
             "#fde0ef"
            ],
            [
             0.5,
             "#f7f7f7"
            ],
            [
             0.6,
             "#e6f5d0"
            ],
            [
             0.7,
             "#b8e186"
            ],
            [
             0.8,
             "#7fbc41"
            ],
            [
             0.9,
             "#4d9221"
            ],
            [
             1,
             "#276419"
            ]
           ],
           "sequential": [
            [
             0,
             "#0d0887"
            ],
            [
             0.1111111111111111,
             "#46039f"
            ],
            [
             0.2222222222222222,
             "#7201a8"
            ],
            [
             0.3333333333333333,
             "#9c179e"
            ],
            [
             0.4444444444444444,
             "#bd3786"
            ],
            [
             0.5555555555555556,
             "#d8576b"
            ],
            [
             0.6666666666666666,
             "#ed7953"
            ],
            [
             0.7777777777777778,
             "#fb9f3a"
            ],
            [
             0.8888888888888888,
             "#fdca26"
            ],
            [
             1,
             "#f0f921"
            ]
           ],
           "sequentialminus": [
            [
             0,
             "#0d0887"
            ],
            [
             0.1111111111111111,
             "#46039f"
            ],
            [
             0.2222222222222222,
             "#7201a8"
            ],
            [
             0.3333333333333333,
             "#9c179e"
            ],
            [
             0.4444444444444444,
             "#bd3786"
            ],
            [
             0.5555555555555556,
             "#d8576b"
            ],
            [
             0.6666666666666666,
             "#ed7953"
            ],
            [
             0.7777777777777778,
             "#fb9f3a"
            ],
            [
             0.8888888888888888,
             "#fdca26"
            ],
            [
             1,
             "#f0f921"
            ]
           ]
          },
          "colorway": [
           "#636efa",
           "#EF553B",
           "#00cc96",
           "#ab63fa",
           "#FFA15A",
           "#19d3f3",
           "#FF6692",
           "#B6E880",
           "#FF97FF",
           "#FECB52"
          ],
          "font": {
           "color": "#2a3f5f"
          },
          "geo": {
           "bgcolor": "white",
           "lakecolor": "white",
           "landcolor": "#E5ECF6",
           "showlakes": true,
           "showland": true,
           "subunitcolor": "white"
          },
          "hoverlabel": {
           "align": "left"
          },
          "hovermode": "closest",
          "mapbox": {
           "style": "light"
          },
          "paper_bgcolor": "white",
          "plot_bgcolor": "#E5ECF6",
          "polar": {
           "angularaxis": {
            "gridcolor": "white",
            "linecolor": "white",
            "ticks": ""
           },
           "bgcolor": "#E5ECF6",
           "radialaxis": {
            "gridcolor": "white",
            "linecolor": "white",
            "ticks": ""
           }
          },
          "scene": {
           "xaxis": {
            "backgroundcolor": "#E5ECF6",
            "gridcolor": "white",
            "gridwidth": 2,
            "linecolor": "white",
            "showbackground": true,
            "ticks": "",
            "zerolinecolor": "white"
           },
           "yaxis": {
            "backgroundcolor": "#E5ECF6",
            "gridcolor": "white",
            "gridwidth": 2,
            "linecolor": "white",
            "showbackground": true,
            "ticks": "",
            "zerolinecolor": "white"
           },
           "zaxis": {
            "backgroundcolor": "#E5ECF6",
            "gridcolor": "white",
            "gridwidth": 2,
            "linecolor": "white",
            "showbackground": true,
            "ticks": "",
            "zerolinecolor": "white"
           }
          },
          "shapedefaults": {
           "line": {
            "color": "#2a3f5f"
           }
          },
          "ternary": {
           "aaxis": {
            "gridcolor": "white",
            "linecolor": "white",
            "ticks": ""
           },
           "baxis": {
            "gridcolor": "white",
            "linecolor": "white",
            "ticks": ""
           },
           "bgcolor": "#E5ECF6",
           "caxis": {
            "gridcolor": "white",
            "linecolor": "white",
            "ticks": ""
           }
          },
          "title": {
           "x": 0.05
          },
          "xaxis": {
           "automargin": true,
           "gridcolor": "white",
           "linecolor": "white",
           "ticks": "",
           "title": {
            "standoff": 15
           },
           "zerolinecolor": "white",
           "zerolinewidth": 2
          },
          "yaxis": {
           "automargin": true,
           "gridcolor": "white",
           "linecolor": "white",
           "ticks": "",
           "title": {
            "standoff": 15
           },
           "zerolinecolor": "white",
           "zerolinewidth": 2
          }
         }
        },
        "title": {
         "text": "bbva Web Traffic and Independent Variables"
        },
        "xaxis": {
         "title": {
          "text": "Date"
         }
        },
        "yaxis": {
         "tickfont": {
          "color": "#000000"
         },
         "title": {
          "font": {
           "color": "#000000"
          },
          "text": "Web Traffic"
         }
        },
        "yaxis2": {
         "overlaying": "y",
         "side": "right",
         "tickfont": {
          "color": "#000000"
         },
         "title": {
          "font": {
           "color": "#000000"
          },
          "text": "Independent Variables"
         }
        }
       }
      }
     },
     "metadata": {},
     "output_type": "display_data"
    },
    {
     "data": {
      "application/vnd.plotly.v1+json": {
       "config": {
        "plotlyServerURL": "https://plot.ly"
       },
       "data": [
        {
         "mode": "lines",
         "name": "web_traffic",
         "type": "scatter",
         "x": [
          "2021-12-01",
          "2022-01-01",
          "2022-02-01",
          "2022-03-01",
          "2022-04-01",
          "2022-05-01",
          "2022-06-01",
          "2022-07-01",
          "2022-08-01",
          "2022-09-01",
          "2022-10-01",
          "2022-11-01",
          "2022-12-01",
          "2023-01-01",
          "2023-02-01",
          "2023-03-01",
          "2023-04-01",
          "2023-05-01",
          "2023-06-01",
          "2023-07-01",
          "2023-08-01",
          "2023-09-01",
          "2023-10-01",
          "2023-11-01",
          "2023-12-01"
         ],
         "y": [
          1343.4183275020612,
          1531.016800629015,
          1304.5912569955065,
          1105.180575414742,
          1020.9687131524568,
          1648.2213654015509,
          1261.1834025115638,
          2692.5794530888957,
          4602.381164147279,
          9032.796517813407,
          6463.124093192265,
          8429.248465428038,
          5686.426537295162,
          7935.564101445778,
          7681.633005270518,
          6635.917039374039,
          4491.217019181385,
          6999.442780011702,
          5608.260579251467,
          9965.09682915058,
          16445.37661086263,
          9423.148002535894,
          9094.833809237429,
          7857.143495084002,
          8700.515519822618
         ],
         "yaxis": "y"
        },
        {
         "mode": "lines",
         "name": "cross_visitation",
         "type": "scatter",
         "x": [
          "2021-12-01",
          "2022-01-01",
          "2022-02-01",
          "2022-03-01",
          "2022-04-01",
          "2022-05-01",
          "2022-06-01",
          "2022-07-01",
          "2022-08-01",
          "2022-09-01",
          "2022-10-01",
          "2022-11-01",
          "2022-12-01",
          "2023-01-01",
          "2023-02-01",
          "2023-03-01",
          "2023-04-01",
          "2023-05-01",
          "2023-06-01",
          "2023-07-01",
          "2023-08-01",
          "2023-09-01",
          "2023-10-01",
          "2023-11-01",
          "2023-12-01"
         ],
         "y": [
          0.0710059180855751,
          0.0527950301766395,
          0.0490196086466312,
          0.0510752685368061,
          0.0451693870127201,
          0.0476190485060215,
          0.0586011335253715,
          0.0633397325873375,
          0.0776119381189346,
          0.0515873022377491,
          0.0473815463483333,
          0.0614250600337982,
          0.0604026839137077,
          0.046070460230112,
          0.072398193180561,
          0.0525502301752567,
          0.0522388070821762,
          0.0563002675771713,
          0.0581395365297794,
          0.0757180154323577,
          0.0780911073088646,
          0.0664739906787872,
          0.0850340127944946,
          0.0756302550435066,
          0.0996884703636169
         ],
         "yaxis": "y2"
        },
        {
         "mode": "lines",
         "name": "rank",
         "type": "scatter",
         "x": [
          "2021-12-01",
          "2022-01-01",
          "2022-02-01",
          "2022-03-01",
          "2022-04-01",
          "2022-05-01",
          "2022-06-01",
          "2022-07-01",
          "2022-08-01",
          "2022-09-01",
          "2022-10-01",
          "2022-11-01",
          "2022-12-01",
          "2023-01-01",
          "2023-02-01",
          "2023-03-01",
          "2023-04-01",
          "2023-05-01",
          "2023-06-01",
          "2023-07-01",
          "2023-08-01",
          "2023-09-01",
          "2023-10-01",
          "2023-11-01",
          "2023-12-01"
         ],
         "y": [
          4,
          4,
          4,
          4,
          4,
          6,
          7,
          7,
          9,
          10,
          10,
          7,
          7,
          8,
          8,
          8,
          8,
          8,
          8,
          8,
          7,
          7,
          7,
          8,
          7.580645161290323
         ],
         "yaxis": "y2"
        },
        {
         "mode": "lines",
         "name": "category_best_salary_accounts_helmycash",
         "type": "scatter",
         "x": [
          "2021-12-01",
          "2022-01-01",
          "2022-02-01",
          "2022-03-01",
          "2022-04-01",
          "2022-05-01",
          "2022-06-01",
          "2022-07-01",
          "2022-08-01",
          "2022-09-01",
          "2022-10-01",
          "2022-11-01",
          "2022-12-01",
          "2023-01-01",
          "2023-02-01",
          "2023-03-01",
          "2023-04-01",
          "2023-05-01",
          "2023-06-01",
          "2023-07-01",
          "2023-08-01",
          "2023-09-01",
          "2023-10-01",
          "2023-11-01",
          "2023-12-01"
         ],
         "y": [
          0,
          0,
          0,
          0,
          0,
          0,
          0,
          0,
          0,
          0,
          0,
          0,
          0,
          0,
          0,
          0,
          0,
          0,
          0,
          0,
          0,
          0,
          0,
          0,
          0
         ],
         "yaxis": "y2"
        },
        {
         "mode": "lines",
         "name": "category_best_savings_accounts_helpmycash",
         "type": "scatter",
         "x": [
          "2021-12-01",
          "2022-01-01",
          "2022-02-01",
          "2022-03-01",
          "2022-04-01",
          "2022-05-01",
          "2022-06-01",
          "2022-07-01",
          "2022-08-01",
          "2022-09-01",
          "2022-10-01",
          "2022-11-01",
          "2022-12-01",
          "2023-01-01",
          "2023-02-01",
          "2023-03-01",
          "2023-04-01",
          "2023-05-01",
          "2023-06-01",
          "2023-07-01",
          "2023-08-01",
          "2023-09-01",
          "2023-10-01",
          "2023-11-01",
          "2023-12-01"
         ],
         "y": [
          0,
          0,
          0,
          0,
          0,
          0,
          0,
          0,
          0,
          0,
          0,
          0,
          0,
          0,
          0,
          0,
          0,
          0,
          0,
          0,
          0,
          0,
          0,
          0,
          0
         ],
         "yaxis": "y2"
        },
        {
         "mode": "lines",
         "name": "incentive",
         "type": "scatter",
         "x": [
          "2021-12-01",
          "2022-01-01",
          "2022-02-01",
          "2022-03-01",
          "2022-04-01",
          "2022-05-01",
          "2022-06-01",
          "2022-07-01",
          "2022-08-01",
          "2022-09-01",
          "2022-10-01",
          "2022-11-01",
          "2022-12-01",
          "2023-01-01",
          "2023-02-01",
          "2023-03-01",
          "2023-04-01",
          "2023-05-01",
          "2023-06-01",
          "2023-07-01",
          "2023-08-01",
          "2023-09-01",
          "2023-10-01",
          "2023-11-01",
          "2023-12-01"
         ],
         "y": [
          0,
          0,
          0,
          0,
          0,
          0,
          0,
          0,
          0,
          0,
          0,
          0,
          0,
          0,
          0,
          0,
          0,
          0,
          0,
          0,
          0,
          0,
          0,
          0,
          0
         ],
         "yaxis": "y2"
        },
        {
         "mode": "lines",
         "name": "apr",
         "type": "scatter",
         "x": [
          "2021-12-01",
          "2022-01-01",
          "2022-02-01",
          "2022-03-01",
          "2022-04-01",
          "2022-05-01",
          "2022-06-01",
          "2022-07-01",
          "2022-08-01",
          "2022-09-01",
          "2022-10-01",
          "2022-11-01",
          "2022-12-01",
          "2023-01-01",
          "2023-02-01",
          "2023-03-01",
          "2023-04-01",
          "2023-05-01",
          "2023-06-01",
          "2023-07-01",
          "2023-08-01",
          "2023-09-01",
          "2023-10-01",
          "2023-11-01",
          "2023-12-01"
         ],
         "y": [
          0,
          0,
          0,
          0,
          0,
          0,
          0,
          0,
          0,
          0,
          0,
          0,
          0,
          0,
          0,
          0,
          0,
          0,
          0,
          0,
          0,
          0,
          0,
          0,
          0
         ],
         "yaxis": "y2"
        },
        {
         "mode": "lines",
         "name": "mentions",
         "type": "scatter",
         "x": [
          "2021-12-01",
          "2022-01-01",
          "2022-02-01",
          "2022-03-01",
          "2022-04-01",
          "2022-05-01",
          "2022-06-01",
          "2022-07-01",
          "2022-08-01",
          "2022-09-01",
          "2022-10-01",
          "2022-11-01",
          "2022-12-01",
          "2023-01-01",
          "2023-02-01",
          "2023-03-01",
          "2023-04-01",
          "2023-05-01",
          "2023-06-01",
          "2023-07-01",
          "2023-08-01",
          "2023-09-01",
          "2023-10-01",
          "2023-11-01",
          "2023-12-01"
         ],
         "y": [
          0,
          0,
          1,
          1,
          0,
          0,
          0,
          0,
          0,
          1,
          0,
          0,
          2,
          0,
          0,
          0,
          1,
          1,
          2,
          1,
          2,
          1,
          1,
          0,
          2
         ],
         "yaxis": "y2"
        }
       ],
       "layout": {
        "legend": {
         "x": 1.1,
         "y": 1
        },
        "template": {
         "data": {
          "bar": [
           {
            "error_x": {
             "color": "#2a3f5f"
            },
            "error_y": {
             "color": "#2a3f5f"
            },
            "marker": {
             "line": {
              "color": "#E5ECF6",
              "width": 0.5
             },
             "pattern": {
              "fillmode": "overlay",
              "size": 10,
              "solidity": 0.2
             }
            },
            "type": "bar"
           }
          ],
          "barpolar": [
           {
            "marker": {
             "line": {
              "color": "#E5ECF6",
              "width": 0.5
             },
             "pattern": {
              "fillmode": "overlay",
              "size": 10,
              "solidity": 0.2
             }
            },
            "type": "barpolar"
           }
          ],
          "carpet": [
           {
            "aaxis": {
             "endlinecolor": "#2a3f5f",
             "gridcolor": "white",
             "linecolor": "white",
             "minorgridcolor": "white",
             "startlinecolor": "#2a3f5f"
            },
            "baxis": {
             "endlinecolor": "#2a3f5f",
             "gridcolor": "white",
             "linecolor": "white",
             "minorgridcolor": "white",
             "startlinecolor": "#2a3f5f"
            },
            "type": "carpet"
           }
          ],
          "choropleth": [
           {
            "colorbar": {
             "outlinewidth": 0,
             "ticks": ""
            },
            "type": "choropleth"
           }
          ],
          "contour": [
           {
            "colorbar": {
             "outlinewidth": 0,
             "ticks": ""
            },
            "colorscale": [
             [
              0,
              "#0d0887"
             ],
             [
              0.1111111111111111,
              "#46039f"
             ],
             [
              0.2222222222222222,
              "#7201a8"
             ],
             [
              0.3333333333333333,
              "#9c179e"
             ],
             [
              0.4444444444444444,
              "#bd3786"
             ],
             [
              0.5555555555555556,
              "#d8576b"
             ],
             [
              0.6666666666666666,
              "#ed7953"
             ],
             [
              0.7777777777777778,
              "#fb9f3a"
             ],
             [
              0.8888888888888888,
              "#fdca26"
             ],
             [
              1,
              "#f0f921"
             ]
            ],
            "type": "contour"
           }
          ],
          "contourcarpet": [
           {
            "colorbar": {
             "outlinewidth": 0,
             "ticks": ""
            },
            "type": "contourcarpet"
           }
          ],
          "heatmap": [
           {
            "colorbar": {
             "outlinewidth": 0,
             "ticks": ""
            },
            "colorscale": [
             [
              0,
              "#0d0887"
             ],
             [
              0.1111111111111111,
              "#46039f"
             ],
             [
              0.2222222222222222,
              "#7201a8"
             ],
             [
              0.3333333333333333,
              "#9c179e"
             ],
             [
              0.4444444444444444,
              "#bd3786"
             ],
             [
              0.5555555555555556,
              "#d8576b"
             ],
             [
              0.6666666666666666,
              "#ed7953"
             ],
             [
              0.7777777777777778,
              "#fb9f3a"
             ],
             [
              0.8888888888888888,
              "#fdca26"
             ],
             [
              1,
              "#f0f921"
             ]
            ],
            "type": "heatmap"
           }
          ],
          "heatmapgl": [
           {
            "colorbar": {
             "outlinewidth": 0,
             "ticks": ""
            },
            "colorscale": [
             [
              0,
              "#0d0887"
             ],
             [
              0.1111111111111111,
              "#46039f"
             ],
             [
              0.2222222222222222,
              "#7201a8"
             ],
             [
              0.3333333333333333,
              "#9c179e"
             ],
             [
              0.4444444444444444,
              "#bd3786"
             ],
             [
              0.5555555555555556,
              "#d8576b"
             ],
             [
              0.6666666666666666,
              "#ed7953"
             ],
             [
              0.7777777777777778,
              "#fb9f3a"
             ],
             [
              0.8888888888888888,
              "#fdca26"
             ],
             [
              1,
              "#f0f921"
             ]
            ],
            "type": "heatmapgl"
           }
          ],
          "histogram": [
           {
            "marker": {
             "pattern": {
              "fillmode": "overlay",
              "size": 10,
              "solidity": 0.2
             }
            },
            "type": "histogram"
           }
          ],
          "histogram2d": [
           {
            "colorbar": {
             "outlinewidth": 0,
             "ticks": ""
            },
            "colorscale": [
             [
              0,
              "#0d0887"
             ],
             [
              0.1111111111111111,
              "#46039f"
             ],
             [
              0.2222222222222222,
              "#7201a8"
             ],
             [
              0.3333333333333333,
              "#9c179e"
             ],
             [
              0.4444444444444444,
              "#bd3786"
             ],
             [
              0.5555555555555556,
              "#d8576b"
             ],
             [
              0.6666666666666666,
              "#ed7953"
             ],
             [
              0.7777777777777778,
              "#fb9f3a"
             ],
             [
              0.8888888888888888,
              "#fdca26"
             ],
             [
              1,
              "#f0f921"
             ]
            ],
            "type": "histogram2d"
           }
          ],
          "histogram2dcontour": [
           {
            "colorbar": {
             "outlinewidth": 0,
             "ticks": ""
            },
            "colorscale": [
             [
              0,
              "#0d0887"
             ],
             [
              0.1111111111111111,
              "#46039f"
             ],
             [
              0.2222222222222222,
              "#7201a8"
             ],
             [
              0.3333333333333333,
              "#9c179e"
             ],
             [
              0.4444444444444444,
              "#bd3786"
             ],
             [
              0.5555555555555556,
              "#d8576b"
             ],
             [
              0.6666666666666666,
              "#ed7953"
             ],
             [
              0.7777777777777778,
              "#fb9f3a"
             ],
             [
              0.8888888888888888,
              "#fdca26"
             ],
             [
              1,
              "#f0f921"
             ]
            ],
            "type": "histogram2dcontour"
           }
          ],
          "mesh3d": [
           {
            "colorbar": {
             "outlinewidth": 0,
             "ticks": ""
            },
            "type": "mesh3d"
           }
          ],
          "parcoords": [
           {
            "line": {
             "colorbar": {
              "outlinewidth": 0,
              "ticks": ""
             }
            },
            "type": "parcoords"
           }
          ],
          "pie": [
           {
            "automargin": true,
            "type": "pie"
           }
          ],
          "scatter": [
           {
            "fillpattern": {
             "fillmode": "overlay",
             "size": 10,
             "solidity": 0.2
            },
            "type": "scatter"
           }
          ],
          "scatter3d": [
           {
            "line": {
             "colorbar": {
              "outlinewidth": 0,
              "ticks": ""
             }
            },
            "marker": {
             "colorbar": {
              "outlinewidth": 0,
              "ticks": ""
             }
            },
            "type": "scatter3d"
           }
          ],
          "scattercarpet": [
           {
            "marker": {
             "colorbar": {
              "outlinewidth": 0,
              "ticks": ""
             }
            },
            "type": "scattercarpet"
           }
          ],
          "scattergeo": [
           {
            "marker": {
             "colorbar": {
              "outlinewidth": 0,
              "ticks": ""
             }
            },
            "type": "scattergeo"
           }
          ],
          "scattergl": [
           {
            "marker": {
             "colorbar": {
              "outlinewidth": 0,
              "ticks": ""
             }
            },
            "type": "scattergl"
           }
          ],
          "scattermapbox": [
           {
            "marker": {
             "colorbar": {
              "outlinewidth": 0,
              "ticks": ""
             }
            },
            "type": "scattermapbox"
           }
          ],
          "scatterpolar": [
           {
            "marker": {
             "colorbar": {
              "outlinewidth": 0,
              "ticks": ""
             }
            },
            "type": "scatterpolar"
           }
          ],
          "scatterpolargl": [
           {
            "marker": {
             "colorbar": {
              "outlinewidth": 0,
              "ticks": ""
             }
            },
            "type": "scatterpolargl"
           }
          ],
          "scatterternary": [
           {
            "marker": {
             "colorbar": {
              "outlinewidth": 0,
              "ticks": ""
             }
            },
            "type": "scatterternary"
           }
          ],
          "surface": [
           {
            "colorbar": {
             "outlinewidth": 0,
             "ticks": ""
            },
            "colorscale": [
             [
              0,
              "#0d0887"
             ],
             [
              0.1111111111111111,
              "#46039f"
             ],
             [
              0.2222222222222222,
              "#7201a8"
             ],
             [
              0.3333333333333333,
              "#9c179e"
             ],
             [
              0.4444444444444444,
              "#bd3786"
             ],
             [
              0.5555555555555556,
              "#d8576b"
             ],
             [
              0.6666666666666666,
              "#ed7953"
             ],
             [
              0.7777777777777778,
              "#fb9f3a"
             ],
             [
              0.8888888888888888,
              "#fdca26"
             ],
             [
              1,
              "#f0f921"
             ]
            ],
            "type": "surface"
           }
          ],
          "table": [
           {
            "cells": {
             "fill": {
              "color": "#EBF0F8"
             },
             "line": {
              "color": "white"
             }
            },
            "header": {
             "fill": {
              "color": "#C8D4E3"
             },
             "line": {
              "color": "white"
             }
            },
            "type": "table"
           }
          ]
         },
         "layout": {
          "annotationdefaults": {
           "arrowcolor": "#2a3f5f",
           "arrowhead": 0,
           "arrowwidth": 1
          },
          "autotypenumbers": "strict",
          "coloraxis": {
           "colorbar": {
            "outlinewidth": 0,
            "ticks": ""
           }
          },
          "colorscale": {
           "diverging": [
            [
             0,
             "#8e0152"
            ],
            [
             0.1,
             "#c51b7d"
            ],
            [
             0.2,
             "#de77ae"
            ],
            [
             0.3,
             "#f1b6da"
            ],
            [
             0.4,
             "#fde0ef"
            ],
            [
             0.5,
             "#f7f7f7"
            ],
            [
             0.6,
             "#e6f5d0"
            ],
            [
             0.7,
             "#b8e186"
            ],
            [
             0.8,
             "#7fbc41"
            ],
            [
             0.9,
             "#4d9221"
            ],
            [
             1,
             "#276419"
            ]
           ],
           "sequential": [
            [
             0,
             "#0d0887"
            ],
            [
             0.1111111111111111,
             "#46039f"
            ],
            [
             0.2222222222222222,
             "#7201a8"
            ],
            [
             0.3333333333333333,
             "#9c179e"
            ],
            [
             0.4444444444444444,
             "#bd3786"
            ],
            [
             0.5555555555555556,
             "#d8576b"
            ],
            [
             0.6666666666666666,
             "#ed7953"
            ],
            [
             0.7777777777777778,
             "#fb9f3a"
            ],
            [
             0.8888888888888888,
             "#fdca26"
            ],
            [
             1,
             "#f0f921"
            ]
           ],
           "sequentialminus": [
            [
             0,
             "#0d0887"
            ],
            [
             0.1111111111111111,
             "#46039f"
            ],
            [
             0.2222222222222222,
             "#7201a8"
            ],
            [
             0.3333333333333333,
             "#9c179e"
            ],
            [
             0.4444444444444444,
             "#bd3786"
            ],
            [
             0.5555555555555556,
             "#d8576b"
            ],
            [
             0.6666666666666666,
             "#ed7953"
            ],
            [
             0.7777777777777778,
             "#fb9f3a"
            ],
            [
             0.8888888888888888,
             "#fdca26"
            ],
            [
             1,
             "#f0f921"
            ]
           ]
          },
          "colorway": [
           "#636efa",
           "#EF553B",
           "#00cc96",
           "#ab63fa",
           "#FFA15A",
           "#19d3f3",
           "#FF6692",
           "#B6E880",
           "#FF97FF",
           "#FECB52"
          ],
          "font": {
           "color": "#2a3f5f"
          },
          "geo": {
           "bgcolor": "white",
           "lakecolor": "white",
           "landcolor": "#E5ECF6",
           "showlakes": true,
           "showland": true,
           "subunitcolor": "white"
          },
          "hoverlabel": {
           "align": "left"
          },
          "hovermode": "closest",
          "mapbox": {
           "style": "light"
          },
          "paper_bgcolor": "white",
          "plot_bgcolor": "#E5ECF6",
          "polar": {
           "angularaxis": {
            "gridcolor": "white",
            "linecolor": "white",
            "ticks": ""
           },
           "bgcolor": "#E5ECF6",
           "radialaxis": {
            "gridcolor": "white",
            "linecolor": "white",
            "ticks": ""
           }
          },
          "scene": {
           "xaxis": {
            "backgroundcolor": "#E5ECF6",
            "gridcolor": "white",
            "gridwidth": 2,
            "linecolor": "white",
            "showbackground": true,
            "ticks": "",
            "zerolinecolor": "white"
           },
           "yaxis": {
            "backgroundcolor": "#E5ECF6",
            "gridcolor": "white",
            "gridwidth": 2,
            "linecolor": "white",
            "showbackground": true,
            "ticks": "",
            "zerolinecolor": "white"
           },
           "zaxis": {
            "backgroundcolor": "#E5ECF6",
            "gridcolor": "white",
            "gridwidth": 2,
            "linecolor": "white",
            "showbackground": true,
            "ticks": "",
            "zerolinecolor": "white"
           }
          },
          "shapedefaults": {
           "line": {
            "color": "#2a3f5f"
           }
          },
          "ternary": {
           "aaxis": {
            "gridcolor": "white",
            "linecolor": "white",
            "ticks": ""
           },
           "baxis": {
            "gridcolor": "white",
            "linecolor": "white",
            "ticks": ""
           },
           "bgcolor": "#E5ECF6",
           "caxis": {
            "gridcolor": "white",
            "linecolor": "white",
            "ticks": ""
           }
          },
          "title": {
           "x": 0.05
          },
          "xaxis": {
           "automargin": true,
           "gridcolor": "white",
           "linecolor": "white",
           "ticks": "",
           "title": {
            "standoff": 15
           },
           "zerolinecolor": "white",
           "zerolinewidth": 2
          },
          "yaxis": {
           "automargin": true,
           "gridcolor": "white",
           "linecolor": "white",
           "ticks": "",
           "title": {
            "standoff": 15
           },
           "zerolinecolor": "white",
           "zerolinewidth": 2
          }
         }
        },
        "title": {
         "text": "revolut Web Traffic and Independent Variables"
        },
        "xaxis": {
         "title": {
          "text": "Date"
         }
        },
        "yaxis": {
         "tickfont": {
          "color": "#000000"
         },
         "title": {
          "font": {
           "color": "#000000"
          },
          "text": "Web Traffic"
         }
        },
        "yaxis2": {
         "overlaying": "y",
         "side": "right",
         "tickfont": {
          "color": "#000000"
         },
         "title": {
          "font": {
           "color": "#000000"
          },
          "text": "Independent Variables"
         }
        }
       }
      }
     },
     "metadata": {},
     "output_type": "display_data"
    },
    {
     "data": {
      "application/vnd.plotly.v1+json": {
       "config": {
        "plotlyServerURL": "https://plot.ly"
       },
       "data": [
        {
         "mode": "lines",
         "name": "web_traffic",
         "type": "scatter",
         "x": [
          "2021-12-01",
          "2021-12-01",
          "2021-12-01",
          "2022-01-01",
          "2022-01-01",
          "2022-01-01",
          "2022-02-01",
          "2022-02-01",
          "2022-02-01",
          "2022-03-01",
          "2022-03-01",
          "2022-03-01",
          "2022-04-01",
          "2022-04-01",
          "2022-04-01",
          "2022-05-01",
          "2022-05-01",
          "2022-05-01",
          "2022-06-01",
          "2022-06-01",
          "2022-06-01",
          "2022-07-01",
          "2022-07-01",
          "2022-07-01",
          "2022-08-01",
          "2022-08-01",
          "2022-08-01",
          "2022-09-01",
          "2022-09-01",
          "2022-09-01",
          "2022-10-01",
          "2022-10-01",
          "2022-10-01",
          "2022-11-01",
          "2022-11-01",
          "2022-11-01",
          "2022-12-01",
          "2022-12-01",
          "2022-12-01",
          "2023-01-01",
          "2023-01-01",
          "2023-01-01",
          "2023-02-01",
          "2023-02-01",
          "2023-02-01",
          "2023-03-01",
          "2023-03-01",
          "2023-03-01",
          "2023-04-01",
          "2023-04-01",
          "2023-04-01",
          "2023-05-01",
          "2023-05-01",
          "2023-05-01",
          "2023-06-01",
          "2023-06-01",
          "2023-06-01",
          "2023-07-01",
          "2023-07-01",
          "2023-07-01",
          "2023-08-01",
          "2023-08-01",
          "2023-08-01",
          "2023-09-01",
          "2023-09-01",
          "2023-09-01",
          "2023-10-01",
          "2023-10-01",
          "2023-10-01",
          "2023-11-01",
          "2023-11-01",
          "2023-11-01",
          "2023-12-01",
          "2023-12-01",
          "2023-12-01"
         ],
         "y": [
          15254.582227879431,
          15254.582227879431,
          15254.582227879431,
          17359.852957740786,
          17359.852957740786,
          17359.852957740786,
          16944.05469595422,
          16944.05469595422,
          16944.05469595422,
          16387.002852519057,
          16387.002852519057,
          16387.002852519057,
          17414.866042179106,
          17414.866042179106,
          17414.866042179106,
          12540.812363543868,
          12540.812363543868,
          12540.812363543868,
          16505.499592440774,
          16505.499592440774,
          16505.499592440774,
          18092.837331292547,
          18092.837331292547,
          18092.837331292547,
          17800.66743773906,
          17800.66743773906,
          17800.66743773906,
          18473.27451111883,
          18473.27451111883,
          18473.27451111883,
          11038.006484230971,
          11038.006484230971,
          11038.006484230971,
          11530.562132413075,
          11530.562132413075,
          11530.562132413075,
          28515.85419262995,
          28515.85419262995,
          28515.85419262995,
          24494.214875132067,
          24494.214875132067,
          24494.214875132067,
          6808.164100967604,
          6808.164100967604,
          6808.164100967604,
          22470.826102761795,
          22470.826102761795,
          22470.826102761795,
          16055.428829553157,
          16055.428829553157,
          16055.428829553157,
          20648.96254158443,
          20648.96254158443,
          20648.96254158443,
          17035.047467547898,
          17035.047467547898,
          17035.047467547898,
          19151.87148367556,
          19151.87148367556,
          19151.87148367556,
          11585.968429359173,
          11585.968429359173,
          11585.968429359173,
          8604.217514977208,
          8604.217514977208,
          8604.217514977208,
          11373.377131753588,
          11373.377131753588,
          11373.377131753588,
          10553.927787335704,
          10553.927787335704,
          10553.927787335704,
          24651.811837706096,
          24651.811837706096,
          24651.811837706096
         ],
         "yaxis": "y"
        },
        {
         "mode": "lines",
         "name": "cross_visitation",
         "type": "scatter",
         "x": [
          "2021-12-01",
          "2021-12-01",
          "2021-12-01",
          "2022-01-01",
          "2022-01-01",
          "2022-01-01",
          "2022-02-01",
          "2022-02-01",
          "2022-02-01",
          "2022-03-01",
          "2022-03-01",
          "2022-03-01",
          "2022-04-01",
          "2022-04-01",
          "2022-04-01",
          "2022-05-01",
          "2022-05-01",
          "2022-05-01",
          "2022-06-01",
          "2022-06-01",
          "2022-06-01",
          "2022-07-01",
          "2022-07-01",
          "2022-07-01",
          "2022-08-01",
          "2022-08-01",
          "2022-08-01",
          "2022-09-01",
          "2022-09-01",
          "2022-09-01",
          "2022-10-01",
          "2022-10-01",
          "2022-10-01",
          "2022-11-01",
          "2022-11-01",
          "2022-11-01",
          "2022-12-01",
          "2022-12-01",
          "2022-12-01",
          "2023-01-01",
          "2023-01-01",
          "2023-01-01",
          "2023-02-01",
          "2023-02-01",
          "2023-02-01",
          "2023-03-01",
          "2023-03-01",
          "2023-03-01",
          "2023-04-01",
          "2023-04-01",
          "2023-04-01",
          "2023-05-01",
          "2023-05-01",
          "2023-05-01",
          "2023-06-01",
          "2023-06-01",
          "2023-06-01",
          "2023-07-01",
          "2023-07-01",
          "2023-07-01",
          "2023-08-01",
          "2023-08-01",
          "2023-08-01",
          "2023-09-01",
          "2023-09-01",
          "2023-09-01",
          "2023-10-01",
          "2023-10-01",
          "2023-10-01",
          "2023-11-01",
          "2023-11-01",
          "2023-11-01",
          "2023-12-01",
          "2023-12-01",
          "2023-12-01"
         ],
         "y": [
          0.1282798796892166,
          0.1282798796892166,
          0.1282798796892166,
          0.1276223808526992,
          0.1276223808526992,
          0.1276223808526992,
          0.1173986494541168,
          0.1173986494541168,
          0.1173986494541168,
          0.107581228017807,
          0.107581228017807,
          0.107581228017807,
          0.1042523980140686,
          0.1042523980140686,
          0.1042523980140686,
          0.1149253696203231,
          0.1149253696203231,
          0.1149253696203231,
          0.1040061637759208,
          0.1040061637759208,
          0.1040061637759208,
          0.1199341639876365,
          0.1199341639876365,
          0.1199341639876365,
          0.1133263409137725,
          0.1133263409137725,
          0.1133263409137725,
          0.0974279046058654,
          0.0974279046058654,
          0.0974279046058654,
          0.095563143491745,
          0.095563143491745,
          0.095563143491745,
          0.1061946898698806,
          0.1061946898698806,
          0.1061946898698806,
          0.1118951588869094,
          0.1118951588869094,
          0.1118951588869094,
          0.1142625585198402,
          0.1142625585198402,
          0.1142625585198402,
          0.1084337383508682,
          0.1084337383508682,
          0.1084337383508682,
          0.1218920201063156,
          0.1218920201063156,
          0.1218920201063156,
          0.1135442033410072,
          0.1135442033410072,
          0.1135442033410072,
          0.1494923233985901,
          0.1494923233985901,
          0.1494923233985901,
          0.1170651242136955,
          0.1170651242136955,
          0.1170651242136955,
          0.1316793859004974,
          0.1316793859004974,
          0.1316793859004974,
          0.1476190537214279,
          0.1476190537214279,
          0.1476190537214279,
          0.1317225247621536,
          0.1317225247621536,
          0.1317225247621536,
          0.1064718142151832,
          0.1064718142151832,
          0.1064718142151832,
          0.1266666650772094,
          0.1266666650772094,
          0.1266666650772094,
          0.1397174298763275,
          0.1397174298763275,
          0.1397174298763275
         ],
         "yaxis": "y2"
        },
        {
         "mode": "lines",
         "name": "rank",
         "type": "scatter",
         "x": [
          "2021-12-01",
          "2021-12-01",
          "2021-12-01",
          "2022-01-01",
          "2022-01-01",
          "2022-01-01",
          "2022-02-01",
          "2022-02-01",
          "2022-02-01",
          "2022-03-01",
          "2022-03-01",
          "2022-03-01",
          "2022-04-01",
          "2022-04-01",
          "2022-04-01",
          "2022-05-01",
          "2022-05-01",
          "2022-05-01",
          "2022-06-01",
          "2022-06-01",
          "2022-06-01",
          "2022-07-01",
          "2022-07-01",
          "2022-07-01",
          "2022-08-01",
          "2022-08-01",
          "2022-08-01",
          "2022-09-01",
          "2022-09-01",
          "2022-09-01",
          "2022-10-01",
          "2022-10-01",
          "2022-10-01",
          "2022-11-01",
          "2022-11-01",
          "2022-11-01",
          "2022-12-01",
          "2022-12-01",
          "2022-12-01",
          "2023-01-01",
          "2023-01-01",
          "2023-01-01",
          "2023-02-01",
          "2023-02-01",
          "2023-02-01",
          "2023-03-01",
          "2023-03-01",
          "2023-03-01",
          "2023-04-01",
          "2023-04-01",
          "2023-04-01",
          "2023-05-01",
          "2023-05-01",
          "2023-05-01",
          "2023-06-01",
          "2023-06-01",
          "2023-06-01",
          "2023-07-01",
          "2023-07-01",
          "2023-07-01",
          "2023-08-01",
          "2023-08-01",
          "2023-08-01",
          "2023-09-01",
          "2023-09-01",
          "2023-09-01",
          "2023-10-01",
          "2023-10-01",
          "2023-10-01",
          "2023-11-01",
          "2023-11-01",
          "2023-11-01",
          "2023-12-01",
          "2023-12-01",
          "2023-12-01"
         ],
         "y": [
          6,
          3,
          3,
          6,
          3,
          3,
          6,
          3,
          3,
          3,
          3,
          3,
          3,
          3,
          3,
          5,
          6,
          2,
          5,
          5,
          3,
          4,
          5,
          3,
          4,
          2,
          3,
          8,
          2,
          3,
          3,
          3,
          3,
          5,
          5,
          3,
          4,
          4,
          3,
          7,
          7,
          3,
          3,
          5,
          5,
          7,
          6,
          1,
          1,
          1,
          1,
          1,
          1,
          1,
          1,
          1,
          1,
          3,
          3,
          1,
          2,
          2,
          1,
          1,
          1,
          1,
          1,
          1,
          1,
          2.7058823529411766,
          2.7058823529411766,
          1,
          2.161290322580645,
          2.161290322580645,
          1
         ],
         "yaxis": "y2"
        },
        {
         "mode": "lines",
         "name": "category_best_salary_accounts_helmycash",
         "type": "scatter",
         "x": [
          "2021-12-01",
          "2021-12-01",
          "2021-12-01",
          "2022-01-01",
          "2022-01-01",
          "2022-01-01",
          "2022-02-01",
          "2022-02-01",
          "2022-02-01",
          "2022-03-01",
          "2022-03-01",
          "2022-03-01",
          "2022-04-01",
          "2022-04-01",
          "2022-04-01",
          "2022-05-01",
          "2022-05-01",
          "2022-05-01",
          "2022-06-01",
          "2022-06-01",
          "2022-06-01",
          "2022-07-01",
          "2022-07-01",
          "2022-07-01",
          "2022-08-01",
          "2022-08-01",
          "2022-08-01",
          "2022-09-01",
          "2022-09-01",
          "2022-09-01",
          "2022-10-01",
          "2022-10-01",
          "2022-10-01",
          "2022-11-01",
          "2022-11-01",
          "2022-11-01",
          "2022-12-01",
          "2022-12-01",
          "2022-12-01",
          "2023-01-01",
          "2023-01-01",
          "2023-01-01",
          "2023-02-01",
          "2023-02-01",
          "2023-02-01",
          "2023-03-01",
          "2023-03-01",
          "2023-03-01",
          "2023-04-01",
          "2023-04-01",
          "2023-04-01",
          "2023-05-01",
          "2023-05-01",
          "2023-05-01",
          "2023-06-01",
          "2023-06-01",
          "2023-06-01",
          "2023-07-01",
          "2023-07-01",
          "2023-07-01",
          "2023-08-01",
          "2023-08-01",
          "2023-08-01",
          "2023-09-01",
          "2023-09-01",
          "2023-09-01",
          "2023-10-01",
          "2023-10-01",
          "2023-10-01",
          "2023-11-01",
          "2023-11-01",
          "2023-11-01",
          "2023-12-01",
          "2023-12-01",
          "2023-12-01"
         ],
         "y": [
          0,
          1,
          0,
          0,
          1,
          0,
          0,
          1,
          0,
          0,
          1,
          0,
          0,
          1,
          0,
          0,
          1,
          0,
          0,
          1,
          0,
          0,
          1,
          0,
          0,
          1,
          0,
          0,
          1,
          0,
          0,
          1,
          0,
          0,
          1,
          0,
          0,
          1,
          0,
          0,
          1,
          0,
          0,
          1,
          0,
          0,
          1,
          0,
          0,
          1,
          0,
          0,
          1,
          0,
          0,
          1,
          0,
          0,
          1,
          0,
          0,
          1,
          0,
          0,
          1,
          0,
          0,
          1,
          0,
          0,
          1,
          0,
          0,
          1,
          0
         ],
         "yaxis": "y2"
        },
        {
         "mode": "lines",
         "name": "category_best_savings_accounts_helpmycash",
         "type": "scatter",
         "x": [
          "2021-12-01",
          "2021-12-01",
          "2021-12-01",
          "2022-01-01",
          "2022-01-01",
          "2022-01-01",
          "2022-02-01",
          "2022-02-01",
          "2022-02-01",
          "2022-03-01",
          "2022-03-01",
          "2022-03-01",
          "2022-04-01",
          "2022-04-01",
          "2022-04-01",
          "2022-05-01",
          "2022-05-01",
          "2022-05-01",
          "2022-06-01",
          "2022-06-01",
          "2022-06-01",
          "2022-07-01",
          "2022-07-01",
          "2022-07-01",
          "2022-08-01",
          "2022-08-01",
          "2022-08-01",
          "2022-09-01",
          "2022-09-01",
          "2022-09-01",
          "2022-10-01",
          "2022-10-01",
          "2022-10-01",
          "2022-11-01",
          "2022-11-01",
          "2022-11-01",
          "2022-12-01",
          "2022-12-01",
          "2022-12-01",
          "2023-01-01",
          "2023-01-01",
          "2023-01-01",
          "2023-02-01",
          "2023-02-01",
          "2023-02-01",
          "2023-03-01",
          "2023-03-01",
          "2023-03-01",
          "2023-04-01",
          "2023-04-01",
          "2023-04-01",
          "2023-05-01",
          "2023-05-01",
          "2023-05-01",
          "2023-06-01",
          "2023-06-01",
          "2023-06-01",
          "2023-07-01",
          "2023-07-01",
          "2023-07-01",
          "2023-08-01",
          "2023-08-01",
          "2023-08-01",
          "2023-09-01",
          "2023-09-01",
          "2023-09-01",
          "2023-10-01",
          "2023-10-01",
          "2023-10-01",
          "2023-11-01",
          "2023-11-01",
          "2023-11-01",
          "2023-12-01",
          "2023-12-01",
          "2023-12-01"
         ],
         "y": [
          0,
          0,
          1,
          0,
          0,
          1,
          0,
          0,
          1,
          0,
          0,
          1,
          0,
          0,
          1,
          0,
          0,
          1,
          0,
          0,
          1,
          0,
          0,
          1,
          0,
          0,
          1,
          0,
          0,
          1,
          0,
          0,
          1,
          0,
          0,
          1,
          0,
          0,
          1,
          0,
          0,
          1,
          0,
          0,
          1,
          0,
          0,
          1,
          0,
          0,
          1,
          0,
          0,
          1,
          0,
          0,
          1,
          0,
          0,
          1,
          0,
          0,
          1,
          0,
          0,
          1,
          0,
          0,
          1,
          0,
          0,
          1,
          0,
          0,
          1
         ],
         "yaxis": "y2"
        },
        {
         "mode": "lines",
         "name": "incentive",
         "type": "scatter",
         "x": [
          "2021-12-01",
          "2021-12-01",
          "2021-12-01",
          "2022-01-01",
          "2022-01-01",
          "2022-01-01",
          "2022-02-01",
          "2022-02-01",
          "2022-02-01",
          "2022-03-01",
          "2022-03-01",
          "2022-03-01",
          "2022-04-01",
          "2022-04-01",
          "2022-04-01",
          "2022-05-01",
          "2022-05-01",
          "2022-05-01",
          "2022-06-01",
          "2022-06-01",
          "2022-06-01",
          "2022-07-01",
          "2022-07-01",
          "2022-07-01",
          "2022-08-01",
          "2022-08-01",
          "2022-08-01",
          "2022-09-01",
          "2022-09-01",
          "2022-09-01",
          "2022-10-01",
          "2022-10-01",
          "2022-10-01",
          "2022-11-01",
          "2022-11-01",
          "2022-11-01",
          "2022-12-01",
          "2022-12-01",
          "2022-12-01",
          "2023-01-01",
          "2023-01-01",
          "2023-01-01",
          "2023-02-01",
          "2023-02-01",
          "2023-02-01",
          "2023-03-01",
          "2023-03-01",
          "2023-03-01",
          "2023-04-01",
          "2023-04-01",
          "2023-04-01",
          "2023-05-01",
          "2023-05-01",
          "2023-05-01",
          "2023-06-01",
          "2023-06-01",
          "2023-06-01",
          "2023-07-01",
          "2023-07-01",
          "2023-07-01",
          "2023-08-01",
          "2023-08-01",
          "2023-08-01",
          "2023-09-01",
          "2023-09-01",
          "2023-09-01",
          "2023-10-01",
          "2023-10-01",
          "2023-10-01",
          "2023-11-01",
          "2023-11-01",
          "2023-11-01",
          "2023-12-01",
          "2023-12-01",
          "2023-12-01"
         ],
         "y": [
          0,
          0,
          0,
          0,
          0,
          0,
          0,
          0,
          0,
          0,
          0,
          0,
          0,
          0,
          0,
          0,
          0,
          0,
          0,
          0,
          0,
          0,
          0,
          0,
          0,
          0,
          0,
          0,
          0,
          0,
          0,
          0,
          0,
          0,
          0,
          0,
          0,
          0,
          0,
          0,
          0,
          0,
          0,
          0,
          0,
          0,
          0,
          0,
          0,
          0,
          0,
          0,
          0,
          0,
          0,
          0,
          0,
          0,
          0,
          0,
          0,
          0,
          0,
          0,
          0,
          0,
          0,
          0,
          0,
          0,
          0,
          0,
          0,
          0,
          0
         ],
         "yaxis": "y2"
        },
        {
         "mode": "lines",
         "name": "apr",
         "type": "scatter",
         "x": [
          "2021-12-01",
          "2021-12-01",
          "2021-12-01",
          "2022-01-01",
          "2022-01-01",
          "2022-01-01",
          "2022-02-01",
          "2022-02-01",
          "2022-02-01",
          "2022-03-01",
          "2022-03-01",
          "2022-03-01",
          "2022-04-01",
          "2022-04-01",
          "2022-04-01",
          "2022-05-01",
          "2022-05-01",
          "2022-05-01",
          "2022-06-01",
          "2022-06-01",
          "2022-06-01",
          "2022-07-01",
          "2022-07-01",
          "2022-07-01",
          "2022-08-01",
          "2022-08-01",
          "2022-08-01",
          "2022-09-01",
          "2022-09-01",
          "2022-09-01",
          "2022-10-01",
          "2022-10-01",
          "2022-10-01",
          "2022-11-01",
          "2022-11-01",
          "2022-11-01",
          "2022-12-01",
          "2022-12-01",
          "2022-12-01",
          "2023-01-01",
          "2023-01-01",
          "2023-01-01",
          "2023-02-01",
          "2023-02-01",
          "2023-02-01",
          "2023-03-01",
          "2023-03-01",
          "2023-03-01",
          "2023-04-01",
          "2023-04-01",
          "2023-04-01",
          "2023-05-01",
          "2023-05-01",
          "2023-05-01",
          "2023-06-01",
          "2023-06-01",
          "2023-06-01",
          "2023-07-01",
          "2023-07-01",
          "2023-07-01",
          "2023-08-01",
          "2023-08-01",
          "2023-08-01",
          "2023-09-01",
          "2023-09-01",
          "2023-09-01",
          "2023-10-01",
          "2023-10-01",
          "2023-10-01",
          "2023-11-01",
          "2023-11-01",
          "2023-11-01",
          "2023-12-01",
          "2023-12-01",
          "2023-12-01"
         ],
         "y": [
          0,
          0,
          0,
          0,
          0,
          0,
          0,
          0,
          0,
          0,
          0,
          0,
          0,
          0,
          0,
          0,
          0,
          0,
          0,
          0,
          0,
          0,
          0,
          0,
          0,
          0,
          0,
          0,
          0,
          0,
          0,
          0,
          0,
          0,
          0,
          0,
          0,
          0,
          0,
          0,
          0,
          0,
          0,
          0,
          0,
          0,
          0,
          0,
          0,
          0,
          0,
          0,
          0,
          0,
          0,
          0,
          0,
          0,
          0,
          0,
          0,
          0,
          0,
          0,
          0,
          0,
          0,
          0,
          0,
          0,
          0,
          0,
          0,
          0,
          0
         ],
         "yaxis": "y2"
        },
        {
         "mode": "lines",
         "name": "mentions",
         "type": "scatter",
         "x": [
          "2021-12-01",
          "2021-12-01",
          "2021-12-01",
          "2022-01-01",
          "2022-01-01",
          "2022-01-01",
          "2022-02-01",
          "2022-02-01",
          "2022-02-01",
          "2022-03-01",
          "2022-03-01",
          "2022-03-01",
          "2022-04-01",
          "2022-04-01",
          "2022-04-01",
          "2022-05-01",
          "2022-05-01",
          "2022-05-01",
          "2022-06-01",
          "2022-06-01",
          "2022-06-01",
          "2022-07-01",
          "2022-07-01",
          "2022-07-01",
          "2022-08-01",
          "2022-08-01",
          "2022-08-01",
          "2022-09-01",
          "2022-09-01",
          "2022-09-01",
          "2022-10-01",
          "2022-10-01",
          "2022-10-01",
          "2022-11-01",
          "2022-11-01",
          "2022-11-01",
          "2022-12-01",
          "2022-12-01",
          "2022-12-01",
          "2023-01-01",
          "2023-01-01",
          "2023-01-01",
          "2023-02-01",
          "2023-02-01",
          "2023-02-01",
          "2023-03-01",
          "2023-03-01",
          "2023-03-01",
          "2023-04-01",
          "2023-04-01",
          "2023-04-01",
          "2023-05-01",
          "2023-05-01",
          "2023-05-01",
          "2023-06-01",
          "2023-06-01",
          "2023-06-01",
          "2023-07-01",
          "2023-07-01",
          "2023-07-01",
          "2023-08-01",
          "2023-08-01",
          "2023-08-01",
          "2023-09-01",
          "2023-09-01",
          "2023-09-01",
          "2023-10-01",
          "2023-10-01",
          "2023-10-01",
          "2023-11-01",
          "2023-11-01",
          "2023-11-01",
          "2023-12-01",
          "2023-12-01",
          "2023-12-01"
         ],
         "y": [
          5,
          5,
          5,
          2,
          2,
          2,
          4,
          4,
          4,
          5,
          5,
          5,
          0,
          0,
          0,
          5,
          5,
          5,
          0,
          0,
          0,
          1,
          1,
          1,
          4,
          4,
          4,
          1,
          1,
          1,
          4,
          4,
          4,
          4,
          4,
          4,
          4,
          4,
          4,
          2,
          2,
          2,
          4,
          4,
          4,
          9,
          9,
          9,
          1,
          1,
          1,
          3,
          3,
          3,
          3,
          3,
          3,
          4,
          4,
          4,
          2,
          2,
          2,
          3,
          3,
          3,
          5,
          5,
          5,
          4,
          4,
          4,
          4,
          4,
          4
         ],
         "yaxis": "y2"
        }
       ],
       "layout": {
        "legend": {
         "x": 1.1,
         "y": 1
        },
        "template": {
         "data": {
          "bar": [
           {
            "error_x": {
             "color": "#2a3f5f"
            },
            "error_y": {
             "color": "#2a3f5f"
            },
            "marker": {
             "line": {
              "color": "#E5ECF6",
              "width": 0.5
             },
             "pattern": {
              "fillmode": "overlay",
              "size": 10,
              "solidity": 0.2
             }
            },
            "type": "bar"
           }
          ],
          "barpolar": [
           {
            "marker": {
             "line": {
              "color": "#E5ECF6",
              "width": 0.5
             },
             "pattern": {
              "fillmode": "overlay",
              "size": 10,
              "solidity": 0.2
             }
            },
            "type": "barpolar"
           }
          ],
          "carpet": [
           {
            "aaxis": {
             "endlinecolor": "#2a3f5f",
             "gridcolor": "white",
             "linecolor": "white",
             "minorgridcolor": "white",
             "startlinecolor": "#2a3f5f"
            },
            "baxis": {
             "endlinecolor": "#2a3f5f",
             "gridcolor": "white",
             "linecolor": "white",
             "minorgridcolor": "white",
             "startlinecolor": "#2a3f5f"
            },
            "type": "carpet"
           }
          ],
          "choropleth": [
           {
            "colorbar": {
             "outlinewidth": 0,
             "ticks": ""
            },
            "type": "choropleth"
           }
          ],
          "contour": [
           {
            "colorbar": {
             "outlinewidth": 0,
             "ticks": ""
            },
            "colorscale": [
             [
              0,
              "#0d0887"
             ],
             [
              0.1111111111111111,
              "#46039f"
             ],
             [
              0.2222222222222222,
              "#7201a8"
             ],
             [
              0.3333333333333333,
              "#9c179e"
             ],
             [
              0.4444444444444444,
              "#bd3786"
             ],
             [
              0.5555555555555556,
              "#d8576b"
             ],
             [
              0.6666666666666666,
              "#ed7953"
             ],
             [
              0.7777777777777778,
              "#fb9f3a"
             ],
             [
              0.8888888888888888,
              "#fdca26"
             ],
             [
              1,
              "#f0f921"
             ]
            ],
            "type": "contour"
           }
          ],
          "contourcarpet": [
           {
            "colorbar": {
             "outlinewidth": 0,
             "ticks": ""
            },
            "type": "contourcarpet"
           }
          ],
          "heatmap": [
           {
            "colorbar": {
             "outlinewidth": 0,
             "ticks": ""
            },
            "colorscale": [
             [
              0,
              "#0d0887"
             ],
             [
              0.1111111111111111,
              "#46039f"
             ],
             [
              0.2222222222222222,
              "#7201a8"
             ],
             [
              0.3333333333333333,
              "#9c179e"
             ],
             [
              0.4444444444444444,
              "#bd3786"
             ],
             [
              0.5555555555555556,
              "#d8576b"
             ],
             [
              0.6666666666666666,
              "#ed7953"
             ],
             [
              0.7777777777777778,
              "#fb9f3a"
             ],
             [
              0.8888888888888888,
              "#fdca26"
             ],
             [
              1,
              "#f0f921"
             ]
            ],
            "type": "heatmap"
           }
          ],
          "heatmapgl": [
           {
            "colorbar": {
             "outlinewidth": 0,
             "ticks": ""
            },
            "colorscale": [
             [
              0,
              "#0d0887"
             ],
             [
              0.1111111111111111,
              "#46039f"
             ],
             [
              0.2222222222222222,
              "#7201a8"
             ],
             [
              0.3333333333333333,
              "#9c179e"
             ],
             [
              0.4444444444444444,
              "#bd3786"
             ],
             [
              0.5555555555555556,
              "#d8576b"
             ],
             [
              0.6666666666666666,
              "#ed7953"
             ],
             [
              0.7777777777777778,
              "#fb9f3a"
             ],
             [
              0.8888888888888888,
              "#fdca26"
             ],
             [
              1,
              "#f0f921"
             ]
            ],
            "type": "heatmapgl"
           }
          ],
          "histogram": [
           {
            "marker": {
             "pattern": {
              "fillmode": "overlay",
              "size": 10,
              "solidity": 0.2
             }
            },
            "type": "histogram"
           }
          ],
          "histogram2d": [
           {
            "colorbar": {
             "outlinewidth": 0,
             "ticks": ""
            },
            "colorscale": [
             [
              0,
              "#0d0887"
             ],
             [
              0.1111111111111111,
              "#46039f"
             ],
             [
              0.2222222222222222,
              "#7201a8"
             ],
             [
              0.3333333333333333,
              "#9c179e"
             ],
             [
              0.4444444444444444,
              "#bd3786"
             ],
             [
              0.5555555555555556,
              "#d8576b"
             ],
             [
              0.6666666666666666,
              "#ed7953"
             ],
             [
              0.7777777777777778,
              "#fb9f3a"
             ],
             [
              0.8888888888888888,
              "#fdca26"
             ],
             [
              1,
              "#f0f921"
             ]
            ],
            "type": "histogram2d"
           }
          ],
          "histogram2dcontour": [
           {
            "colorbar": {
             "outlinewidth": 0,
             "ticks": ""
            },
            "colorscale": [
             [
              0,
              "#0d0887"
             ],
             [
              0.1111111111111111,
              "#46039f"
             ],
             [
              0.2222222222222222,
              "#7201a8"
             ],
             [
              0.3333333333333333,
              "#9c179e"
             ],
             [
              0.4444444444444444,
              "#bd3786"
             ],
             [
              0.5555555555555556,
              "#d8576b"
             ],
             [
              0.6666666666666666,
              "#ed7953"
             ],
             [
              0.7777777777777778,
              "#fb9f3a"
             ],
             [
              0.8888888888888888,
              "#fdca26"
             ],
             [
              1,
              "#f0f921"
             ]
            ],
            "type": "histogram2dcontour"
           }
          ],
          "mesh3d": [
           {
            "colorbar": {
             "outlinewidth": 0,
             "ticks": ""
            },
            "type": "mesh3d"
           }
          ],
          "parcoords": [
           {
            "line": {
             "colorbar": {
              "outlinewidth": 0,
              "ticks": ""
             }
            },
            "type": "parcoords"
           }
          ],
          "pie": [
           {
            "automargin": true,
            "type": "pie"
           }
          ],
          "scatter": [
           {
            "fillpattern": {
             "fillmode": "overlay",
             "size": 10,
             "solidity": 0.2
            },
            "type": "scatter"
           }
          ],
          "scatter3d": [
           {
            "line": {
             "colorbar": {
              "outlinewidth": 0,
              "ticks": ""
             }
            },
            "marker": {
             "colorbar": {
              "outlinewidth": 0,
              "ticks": ""
             }
            },
            "type": "scatter3d"
           }
          ],
          "scattercarpet": [
           {
            "marker": {
             "colorbar": {
              "outlinewidth": 0,
              "ticks": ""
             }
            },
            "type": "scattercarpet"
           }
          ],
          "scattergeo": [
           {
            "marker": {
             "colorbar": {
              "outlinewidth": 0,
              "ticks": ""
             }
            },
            "type": "scattergeo"
           }
          ],
          "scattergl": [
           {
            "marker": {
             "colorbar": {
              "outlinewidth": 0,
              "ticks": ""
             }
            },
            "type": "scattergl"
           }
          ],
          "scattermapbox": [
           {
            "marker": {
             "colorbar": {
              "outlinewidth": 0,
              "ticks": ""
             }
            },
            "type": "scattermapbox"
           }
          ],
          "scatterpolar": [
           {
            "marker": {
             "colorbar": {
              "outlinewidth": 0,
              "ticks": ""
             }
            },
            "type": "scatterpolar"
           }
          ],
          "scatterpolargl": [
           {
            "marker": {
             "colorbar": {
              "outlinewidth": 0,
              "ticks": ""
             }
            },
            "type": "scatterpolargl"
           }
          ],
          "scatterternary": [
           {
            "marker": {
             "colorbar": {
              "outlinewidth": 0,
              "ticks": ""
             }
            },
            "type": "scatterternary"
           }
          ],
          "surface": [
           {
            "colorbar": {
             "outlinewidth": 0,
             "ticks": ""
            },
            "colorscale": [
             [
              0,
              "#0d0887"
             ],
             [
              0.1111111111111111,
              "#46039f"
             ],
             [
              0.2222222222222222,
              "#7201a8"
             ],
             [
              0.3333333333333333,
              "#9c179e"
             ],
             [
              0.4444444444444444,
              "#bd3786"
             ],
             [
              0.5555555555555556,
              "#d8576b"
             ],
             [
              0.6666666666666666,
              "#ed7953"
             ],
             [
              0.7777777777777778,
              "#fb9f3a"
             ],
             [
              0.8888888888888888,
              "#fdca26"
             ],
             [
              1,
              "#f0f921"
             ]
            ],
            "type": "surface"
           }
          ],
          "table": [
           {
            "cells": {
             "fill": {
              "color": "#EBF0F8"
             },
             "line": {
              "color": "white"
             }
            },
            "header": {
             "fill": {
              "color": "#C8D4E3"
             },
             "line": {
              "color": "white"
             }
            },
            "type": "table"
           }
          ]
         },
         "layout": {
          "annotationdefaults": {
           "arrowcolor": "#2a3f5f",
           "arrowhead": 0,
           "arrowwidth": 1
          },
          "autotypenumbers": "strict",
          "coloraxis": {
           "colorbar": {
            "outlinewidth": 0,
            "ticks": ""
           }
          },
          "colorscale": {
           "diverging": [
            [
             0,
             "#8e0152"
            ],
            [
             0.1,
             "#c51b7d"
            ],
            [
             0.2,
             "#de77ae"
            ],
            [
             0.3,
             "#f1b6da"
            ],
            [
             0.4,
             "#fde0ef"
            ],
            [
             0.5,
             "#f7f7f7"
            ],
            [
             0.6,
             "#e6f5d0"
            ],
            [
             0.7,
             "#b8e186"
            ],
            [
             0.8,
             "#7fbc41"
            ],
            [
             0.9,
             "#4d9221"
            ],
            [
             1,
             "#276419"
            ]
           ],
           "sequential": [
            [
             0,
             "#0d0887"
            ],
            [
             0.1111111111111111,
             "#46039f"
            ],
            [
             0.2222222222222222,
             "#7201a8"
            ],
            [
             0.3333333333333333,
             "#9c179e"
            ],
            [
             0.4444444444444444,
             "#bd3786"
            ],
            [
             0.5555555555555556,
             "#d8576b"
            ],
            [
             0.6666666666666666,
             "#ed7953"
            ],
            [
             0.7777777777777778,
             "#fb9f3a"
            ],
            [
             0.8888888888888888,
             "#fdca26"
            ],
            [
             1,
             "#f0f921"
            ]
           ],
           "sequentialminus": [
            [
             0,
             "#0d0887"
            ],
            [
             0.1111111111111111,
             "#46039f"
            ],
            [
             0.2222222222222222,
             "#7201a8"
            ],
            [
             0.3333333333333333,
             "#9c179e"
            ],
            [
             0.4444444444444444,
             "#bd3786"
            ],
            [
             0.5555555555555556,
             "#d8576b"
            ],
            [
             0.6666666666666666,
             "#ed7953"
            ],
            [
             0.7777777777777778,
             "#fb9f3a"
            ],
            [
             0.8888888888888888,
             "#fdca26"
            ],
            [
             1,
             "#f0f921"
            ]
           ]
          },
          "colorway": [
           "#636efa",
           "#EF553B",
           "#00cc96",
           "#ab63fa",
           "#FFA15A",
           "#19d3f3",
           "#FF6692",
           "#B6E880",
           "#FF97FF",
           "#FECB52"
          ],
          "font": {
           "color": "#2a3f5f"
          },
          "geo": {
           "bgcolor": "white",
           "lakecolor": "white",
           "landcolor": "#E5ECF6",
           "showlakes": true,
           "showland": true,
           "subunitcolor": "white"
          },
          "hoverlabel": {
           "align": "left"
          },
          "hovermode": "closest",
          "mapbox": {
           "style": "light"
          },
          "paper_bgcolor": "white",
          "plot_bgcolor": "#E5ECF6",
          "polar": {
           "angularaxis": {
            "gridcolor": "white",
            "linecolor": "white",
            "ticks": ""
           },
           "bgcolor": "#E5ECF6",
           "radialaxis": {
            "gridcolor": "white",
            "linecolor": "white",
            "ticks": ""
           }
          },
          "scene": {
           "xaxis": {
            "backgroundcolor": "#E5ECF6",
            "gridcolor": "white",
            "gridwidth": 2,
            "linecolor": "white",
            "showbackground": true,
            "ticks": "",
            "zerolinecolor": "white"
           },
           "yaxis": {
            "backgroundcolor": "#E5ECF6",
            "gridcolor": "white",
            "gridwidth": 2,
            "linecolor": "white",
            "showbackground": true,
            "ticks": "",
            "zerolinecolor": "white"
           },
           "zaxis": {
            "backgroundcolor": "#E5ECF6",
            "gridcolor": "white",
            "gridwidth": 2,
            "linecolor": "white",
            "showbackground": true,
            "ticks": "",
            "zerolinecolor": "white"
           }
          },
          "shapedefaults": {
           "line": {
            "color": "#2a3f5f"
           }
          },
          "ternary": {
           "aaxis": {
            "gridcolor": "white",
            "linecolor": "white",
            "ticks": ""
           },
           "baxis": {
            "gridcolor": "white",
            "linecolor": "white",
            "ticks": ""
           },
           "bgcolor": "#E5ECF6",
           "caxis": {
            "gridcolor": "white",
            "linecolor": "white",
            "ticks": ""
           }
          },
          "title": {
           "x": 0.05
          },
          "xaxis": {
           "automargin": true,
           "gridcolor": "white",
           "linecolor": "white",
           "ticks": "",
           "title": {
            "standoff": 15
           },
           "zerolinecolor": "white",
           "zerolinewidth": 2
          },
          "yaxis": {
           "automargin": true,
           "gridcolor": "white",
           "linecolor": "white",
           "ticks": "",
           "title": {
            "standoff": 15
           },
           "zerolinecolor": "white",
           "zerolinewidth": 2
          }
         }
        },
        "title": {
         "text": "openbank Web Traffic and Independent Variables"
        },
        "xaxis": {
         "title": {
          "text": "Date"
         }
        },
        "yaxis": {
         "tickfont": {
          "color": "#000000"
         },
         "title": {
          "font": {
           "color": "#000000"
          },
          "text": "Web Traffic"
         }
        },
        "yaxis2": {
         "overlaying": "y",
         "side": "right",
         "tickfont": {
          "color": "#000000"
         },
         "title": {
          "font": {
           "color": "#000000"
          },
          "text": "Independent Variables"
         }
        }
       }
      }
     },
     "metadata": {},
     "output_type": "display_data"
    },
    {
     "data": {
      "application/vnd.plotly.v1+json": {
       "config": {
        "plotlyServerURL": "https://plot.ly"
       },
       "data": [
        {
         "mode": "lines",
         "name": "web_traffic",
         "type": "scatter",
         "x": [
          "2021-12-01",
          "2022-01-01",
          "2022-02-01",
          "2022-03-01",
          "2022-04-01",
          "2022-05-01",
          "2022-06-01",
          "2022-07-01",
          "2022-08-01",
          "2022-09-01",
          "2022-10-01",
          "2022-11-01",
          "2022-12-01",
          "2023-01-01",
          "2023-02-01",
          "2023-03-01",
          "2023-04-01",
          "2023-05-01",
          "2023-06-01",
          "2023-07-01",
          "2023-08-01",
          "2023-09-01",
          "2023-10-01",
          "2023-11-01",
          "2023-12-01"
         ],
         "y": [
          5319.608622705422,
          6577.851993048615,
          4031.716960163975,
          4941.009311037862,
          5774.73445521747,
          4701.67615195101,
          3743.6978269564174,
          8887.531979881833,
          6295.460706653864,
          6546.830235428043,
          7167.531538575914,
          6307.812017711763,
          7304.328761345544,
          8734.948773057473,
          19912.767403405633,
          17370.94663979311,
          11503.598498976402,
          8063.71476260001,
          11695.0782654102,
          9215.53662651582,
          10196.614426445682,
          15325.244152409185,
          13931.765275155927,
          12300.92091394445,
          13585.14235899432
         ],
         "yaxis": "y"
        },
        {
         "mode": "lines",
         "name": "cross_visitation",
         "type": "scatter",
         "x": [
          "2021-12-01",
          "2022-01-01",
          "2022-02-01",
          "2022-03-01",
          "2022-04-01",
          "2022-05-01",
          "2022-06-01",
          "2022-07-01",
          "2022-08-01",
          "2022-09-01",
          "2022-10-01",
          "2022-11-01",
          "2022-12-01",
          "2023-01-01",
          "2023-02-01",
          "2023-03-01",
          "2023-04-01",
          "2023-05-01",
          "2023-06-01",
          "2023-07-01",
          "2023-08-01",
          "2023-09-01",
          "2023-10-01",
          "2023-11-01",
          "2023-12-01"
         ],
         "y": [
          0.068322978913784,
          0.0671140924096107,
          0.0497382208704948,
          0.0590604022145271,
          0.0501043833792209,
          0.050264548510313,
          0.0421686731278896,
          0.0494699664413929,
          0.0508905835449695,
          0.045380875468254,
          0.0578313246369361,
          0.0572450794279575,
          0.0751879662275314,
          0.0517241396009922,
          0.0661764740943908,
          0.0406626500189304,
          0.0508849546313285,
          0.0494071133434772,
          0.057544756680727,
          0.0646551698446273,
          0.0793950855731964,
          0.0641025677323341,
          0.0694143176078796,
          0.0653594806790351,
          0.0961538478732109
         ],
         "yaxis": "y2"
        },
        {
         "mode": "lines",
         "name": "rank",
         "type": "scatter",
         "x": [
          "2021-12-01",
          "2022-01-01",
          "2022-02-01",
          "2022-03-01",
          "2022-04-01",
          "2022-05-01",
          "2022-06-01",
          "2022-07-01",
          "2022-08-01",
          "2022-09-01",
          "2022-10-01",
          "2022-11-01",
          "2022-12-01",
          "2023-01-01",
          "2023-02-01",
          "2023-03-01",
          "2023-04-01",
          "2023-05-01",
          "2023-06-01",
          "2023-07-01",
          "2023-08-01",
          "2023-09-01",
          "2023-10-01",
          "2023-11-01",
          "2023-12-01"
         ],
         "y": [
          5,
          5,
          5,
          5,
          5,
          4,
          4,
          4,
          6,
          6,
          6,
          8,
          7,
          8,
          7,
          10,
          10,
          10,
          10,
          10,
          10,
          10,
          10,
          10,
          10
         ],
         "yaxis": "y2"
        },
        {
         "mode": "lines",
         "name": "category_best_salary_accounts_helmycash",
         "type": "scatter",
         "x": [
          "2021-12-01",
          "2022-01-01",
          "2022-02-01",
          "2022-03-01",
          "2022-04-01",
          "2022-05-01",
          "2022-06-01",
          "2022-07-01",
          "2022-08-01",
          "2022-09-01",
          "2022-10-01",
          "2022-11-01",
          "2022-12-01",
          "2023-01-01",
          "2023-02-01",
          "2023-03-01",
          "2023-04-01",
          "2023-05-01",
          "2023-06-01",
          "2023-07-01",
          "2023-08-01",
          "2023-09-01",
          "2023-10-01",
          "2023-11-01",
          "2023-12-01"
         ],
         "y": [
          0,
          0,
          0,
          0,
          0,
          0,
          0,
          0,
          0,
          0,
          0,
          0,
          0,
          0,
          0,
          0,
          0,
          0,
          0,
          0,
          0,
          0,
          0,
          0,
          0
         ],
         "yaxis": "y2"
        },
        {
         "mode": "lines",
         "name": "category_best_savings_accounts_helpmycash",
         "type": "scatter",
         "x": [
          "2021-12-01",
          "2022-01-01",
          "2022-02-01",
          "2022-03-01",
          "2022-04-01",
          "2022-05-01",
          "2022-06-01",
          "2022-07-01",
          "2022-08-01",
          "2022-09-01",
          "2022-10-01",
          "2022-11-01",
          "2022-12-01",
          "2023-01-01",
          "2023-02-01",
          "2023-03-01",
          "2023-04-01",
          "2023-05-01",
          "2023-06-01",
          "2023-07-01",
          "2023-08-01",
          "2023-09-01",
          "2023-10-01",
          "2023-11-01",
          "2023-12-01"
         ],
         "y": [
          1,
          1,
          1,
          1,
          1,
          1,
          1,
          1,
          1,
          1,
          1,
          1,
          1,
          1,
          1,
          1,
          1,
          1,
          1,
          1,
          1,
          1,
          1,
          1,
          1
         ],
         "yaxis": "y2"
        },
        {
         "mode": "lines",
         "name": "incentive",
         "type": "scatter",
         "x": [
          "2021-12-01",
          "2022-01-01",
          "2022-02-01",
          "2022-03-01",
          "2022-04-01",
          "2022-05-01",
          "2022-06-01",
          "2022-07-01",
          "2022-08-01",
          "2022-09-01",
          "2022-10-01",
          "2022-11-01",
          "2022-12-01",
          "2023-01-01",
          "2023-02-01",
          "2023-03-01",
          "2023-04-01",
          "2023-05-01",
          "2023-06-01",
          "2023-07-01",
          "2023-08-01",
          "2023-09-01",
          "2023-10-01",
          "2023-11-01",
          "2023-12-01"
         ],
         "y": [
          0,
          0,
          0,
          0,
          0,
          0,
          0,
          0,
          0,
          0,
          0,
          0,
          0,
          0,
          0,
          0,
          0,
          0,
          0,
          0,
          0,
          0,
          0,
          0,
          0
         ],
         "yaxis": "y2"
        },
        {
         "mode": "lines",
         "name": "apr",
         "type": "scatter",
         "x": [
          "2021-12-01",
          "2022-01-01",
          "2022-02-01",
          "2022-03-01",
          "2022-04-01",
          "2022-05-01",
          "2022-06-01",
          "2022-07-01",
          "2022-08-01",
          "2022-09-01",
          "2022-10-01",
          "2022-11-01",
          "2022-12-01",
          "2023-01-01",
          "2023-02-01",
          "2023-03-01",
          "2023-04-01",
          "2023-05-01",
          "2023-06-01",
          "2023-07-01",
          "2023-08-01",
          "2023-09-01",
          "2023-10-01",
          "2023-11-01",
          "2023-12-01"
         ],
         "y": [
          0,
          0,
          0,
          0,
          0,
          0,
          0,
          0,
          0,
          0,
          0,
          0,
          0,
          0,
          0,
          0,
          0,
          0,
          0,
          0,
          0,
          0,
          0,
          0,
          0
         ],
         "yaxis": "y2"
        },
        {
         "mode": "lines",
         "name": "mentions",
         "type": "scatter",
         "x": [
          "2021-12-01",
          "2022-01-01",
          "2022-02-01",
          "2022-03-01",
          "2022-04-01",
          "2022-05-01",
          "2022-06-01",
          "2022-07-01",
          "2022-08-01",
          "2022-09-01",
          "2022-10-01",
          "2022-11-01",
          "2022-12-01",
          "2023-01-01",
          "2023-02-01",
          "2023-03-01",
          "2023-04-01",
          "2023-05-01",
          "2023-06-01",
          "2023-07-01",
          "2023-08-01",
          "2023-09-01",
          "2023-10-01",
          "2023-11-01",
          "2023-12-01"
         ],
         "y": [
          2,
          2,
          2,
          2,
          2,
          0,
          1,
          6,
          4,
          4,
          6,
          5,
          4,
          2,
          11,
          4,
          8,
          7,
          7,
          4,
          1,
          4,
          2,
          1,
          2
         ],
         "yaxis": "y2"
        }
       ],
       "layout": {
        "legend": {
         "x": 1.1,
         "y": 1
        },
        "template": {
         "data": {
          "bar": [
           {
            "error_x": {
             "color": "#2a3f5f"
            },
            "error_y": {
             "color": "#2a3f5f"
            },
            "marker": {
             "line": {
              "color": "#E5ECF6",
              "width": 0.5
             },
             "pattern": {
              "fillmode": "overlay",
              "size": 10,
              "solidity": 0.2
             }
            },
            "type": "bar"
           }
          ],
          "barpolar": [
           {
            "marker": {
             "line": {
              "color": "#E5ECF6",
              "width": 0.5
             },
             "pattern": {
              "fillmode": "overlay",
              "size": 10,
              "solidity": 0.2
             }
            },
            "type": "barpolar"
           }
          ],
          "carpet": [
           {
            "aaxis": {
             "endlinecolor": "#2a3f5f",
             "gridcolor": "white",
             "linecolor": "white",
             "minorgridcolor": "white",
             "startlinecolor": "#2a3f5f"
            },
            "baxis": {
             "endlinecolor": "#2a3f5f",
             "gridcolor": "white",
             "linecolor": "white",
             "minorgridcolor": "white",
             "startlinecolor": "#2a3f5f"
            },
            "type": "carpet"
           }
          ],
          "choropleth": [
           {
            "colorbar": {
             "outlinewidth": 0,
             "ticks": ""
            },
            "type": "choropleth"
           }
          ],
          "contour": [
           {
            "colorbar": {
             "outlinewidth": 0,
             "ticks": ""
            },
            "colorscale": [
             [
              0,
              "#0d0887"
             ],
             [
              0.1111111111111111,
              "#46039f"
             ],
             [
              0.2222222222222222,
              "#7201a8"
             ],
             [
              0.3333333333333333,
              "#9c179e"
             ],
             [
              0.4444444444444444,
              "#bd3786"
             ],
             [
              0.5555555555555556,
              "#d8576b"
             ],
             [
              0.6666666666666666,
              "#ed7953"
             ],
             [
              0.7777777777777778,
              "#fb9f3a"
             ],
             [
              0.8888888888888888,
              "#fdca26"
             ],
             [
              1,
              "#f0f921"
             ]
            ],
            "type": "contour"
           }
          ],
          "contourcarpet": [
           {
            "colorbar": {
             "outlinewidth": 0,
             "ticks": ""
            },
            "type": "contourcarpet"
           }
          ],
          "heatmap": [
           {
            "colorbar": {
             "outlinewidth": 0,
             "ticks": ""
            },
            "colorscale": [
             [
              0,
              "#0d0887"
             ],
             [
              0.1111111111111111,
              "#46039f"
             ],
             [
              0.2222222222222222,
              "#7201a8"
             ],
             [
              0.3333333333333333,
              "#9c179e"
             ],
             [
              0.4444444444444444,
              "#bd3786"
             ],
             [
              0.5555555555555556,
              "#d8576b"
             ],
             [
              0.6666666666666666,
              "#ed7953"
             ],
             [
              0.7777777777777778,
              "#fb9f3a"
             ],
             [
              0.8888888888888888,
              "#fdca26"
             ],
             [
              1,
              "#f0f921"
             ]
            ],
            "type": "heatmap"
           }
          ],
          "heatmapgl": [
           {
            "colorbar": {
             "outlinewidth": 0,
             "ticks": ""
            },
            "colorscale": [
             [
              0,
              "#0d0887"
             ],
             [
              0.1111111111111111,
              "#46039f"
             ],
             [
              0.2222222222222222,
              "#7201a8"
             ],
             [
              0.3333333333333333,
              "#9c179e"
             ],
             [
              0.4444444444444444,
              "#bd3786"
             ],
             [
              0.5555555555555556,
              "#d8576b"
             ],
             [
              0.6666666666666666,
              "#ed7953"
             ],
             [
              0.7777777777777778,
              "#fb9f3a"
             ],
             [
              0.8888888888888888,
              "#fdca26"
             ],
             [
              1,
              "#f0f921"
             ]
            ],
            "type": "heatmapgl"
           }
          ],
          "histogram": [
           {
            "marker": {
             "pattern": {
              "fillmode": "overlay",
              "size": 10,
              "solidity": 0.2
             }
            },
            "type": "histogram"
           }
          ],
          "histogram2d": [
           {
            "colorbar": {
             "outlinewidth": 0,
             "ticks": ""
            },
            "colorscale": [
             [
              0,
              "#0d0887"
             ],
             [
              0.1111111111111111,
              "#46039f"
             ],
             [
              0.2222222222222222,
              "#7201a8"
             ],
             [
              0.3333333333333333,
              "#9c179e"
             ],
             [
              0.4444444444444444,
              "#bd3786"
             ],
             [
              0.5555555555555556,
              "#d8576b"
             ],
             [
              0.6666666666666666,
              "#ed7953"
             ],
             [
              0.7777777777777778,
              "#fb9f3a"
             ],
             [
              0.8888888888888888,
              "#fdca26"
             ],
             [
              1,
              "#f0f921"
             ]
            ],
            "type": "histogram2d"
           }
          ],
          "histogram2dcontour": [
           {
            "colorbar": {
             "outlinewidth": 0,
             "ticks": ""
            },
            "colorscale": [
             [
              0,
              "#0d0887"
             ],
             [
              0.1111111111111111,
              "#46039f"
             ],
             [
              0.2222222222222222,
              "#7201a8"
             ],
             [
              0.3333333333333333,
              "#9c179e"
             ],
             [
              0.4444444444444444,
              "#bd3786"
             ],
             [
              0.5555555555555556,
              "#d8576b"
             ],
             [
              0.6666666666666666,
              "#ed7953"
             ],
             [
              0.7777777777777778,
              "#fb9f3a"
             ],
             [
              0.8888888888888888,
              "#fdca26"
             ],
             [
              1,
              "#f0f921"
             ]
            ],
            "type": "histogram2dcontour"
           }
          ],
          "mesh3d": [
           {
            "colorbar": {
             "outlinewidth": 0,
             "ticks": ""
            },
            "type": "mesh3d"
           }
          ],
          "parcoords": [
           {
            "line": {
             "colorbar": {
              "outlinewidth": 0,
              "ticks": ""
             }
            },
            "type": "parcoords"
           }
          ],
          "pie": [
           {
            "automargin": true,
            "type": "pie"
           }
          ],
          "scatter": [
           {
            "fillpattern": {
             "fillmode": "overlay",
             "size": 10,
             "solidity": 0.2
            },
            "type": "scatter"
           }
          ],
          "scatter3d": [
           {
            "line": {
             "colorbar": {
              "outlinewidth": 0,
              "ticks": ""
             }
            },
            "marker": {
             "colorbar": {
              "outlinewidth": 0,
              "ticks": ""
             }
            },
            "type": "scatter3d"
           }
          ],
          "scattercarpet": [
           {
            "marker": {
             "colorbar": {
              "outlinewidth": 0,
              "ticks": ""
             }
            },
            "type": "scattercarpet"
           }
          ],
          "scattergeo": [
           {
            "marker": {
             "colorbar": {
              "outlinewidth": 0,
              "ticks": ""
             }
            },
            "type": "scattergeo"
           }
          ],
          "scattergl": [
           {
            "marker": {
             "colorbar": {
              "outlinewidth": 0,
              "ticks": ""
             }
            },
            "type": "scattergl"
           }
          ],
          "scattermapbox": [
           {
            "marker": {
             "colorbar": {
              "outlinewidth": 0,
              "ticks": ""
             }
            },
            "type": "scattermapbox"
           }
          ],
          "scatterpolar": [
           {
            "marker": {
             "colorbar": {
              "outlinewidth": 0,
              "ticks": ""
             }
            },
            "type": "scatterpolar"
           }
          ],
          "scatterpolargl": [
           {
            "marker": {
             "colorbar": {
              "outlinewidth": 0,
              "ticks": ""
             }
            },
            "type": "scatterpolargl"
           }
          ],
          "scatterternary": [
           {
            "marker": {
             "colorbar": {
              "outlinewidth": 0,
              "ticks": ""
             }
            },
            "type": "scatterternary"
           }
          ],
          "surface": [
           {
            "colorbar": {
             "outlinewidth": 0,
             "ticks": ""
            },
            "colorscale": [
             [
              0,
              "#0d0887"
             ],
             [
              0.1111111111111111,
              "#46039f"
             ],
             [
              0.2222222222222222,
              "#7201a8"
             ],
             [
              0.3333333333333333,
              "#9c179e"
             ],
             [
              0.4444444444444444,
              "#bd3786"
             ],
             [
              0.5555555555555556,
              "#d8576b"
             ],
             [
              0.6666666666666666,
              "#ed7953"
             ],
             [
              0.7777777777777778,
              "#fb9f3a"
             ],
             [
              0.8888888888888888,
              "#fdca26"
             ],
             [
              1,
              "#f0f921"
             ]
            ],
            "type": "surface"
           }
          ],
          "table": [
           {
            "cells": {
             "fill": {
              "color": "#EBF0F8"
             },
             "line": {
              "color": "white"
             }
            },
            "header": {
             "fill": {
              "color": "#C8D4E3"
             },
             "line": {
              "color": "white"
             }
            },
            "type": "table"
           }
          ]
         },
         "layout": {
          "annotationdefaults": {
           "arrowcolor": "#2a3f5f",
           "arrowhead": 0,
           "arrowwidth": 1
          },
          "autotypenumbers": "strict",
          "coloraxis": {
           "colorbar": {
            "outlinewidth": 0,
            "ticks": ""
           }
          },
          "colorscale": {
           "diverging": [
            [
             0,
             "#8e0152"
            ],
            [
             0.1,
             "#c51b7d"
            ],
            [
             0.2,
             "#de77ae"
            ],
            [
             0.3,
             "#f1b6da"
            ],
            [
             0.4,
             "#fde0ef"
            ],
            [
             0.5,
             "#f7f7f7"
            ],
            [
             0.6,
             "#e6f5d0"
            ],
            [
             0.7,
             "#b8e186"
            ],
            [
             0.8,
             "#7fbc41"
            ],
            [
             0.9,
             "#4d9221"
            ],
            [
             1,
             "#276419"
            ]
           ],
           "sequential": [
            [
             0,
             "#0d0887"
            ],
            [
             0.1111111111111111,
             "#46039f"
            ],
            [
             0.2222222222222222,
             "#7201a8"
            ],
            [
             0.3333333333333333,
             "#9c179e"
            ],
            [
             0.4444444444444444,
             "#bd3786"
            ],
            [
             0.5555555555555556,
             "#d8576b"
            ],
            [
             0.6666666666666666,
             "#ed7953"
            ],
            [
             0.7777777777777778,
             "#fb9f3a"
            ],
            [
             0.8888888888888888,
             "#fdca26"
            ],
            [
             1,
             "#f0f921"
            ]
           ],
           "sequentialminus": [
            [
             0,
             "#0d0887"
            ],
            [
             0.1111111111111111,
             "#46039f"
            ],
            [
             0.2222222222222222,
             "#7201a8"
            ],
            [
             0.3333333333333333,
             "#9c179e"
            ],
            [
             0.4444444444444444,
             "#bd3786"
            ],
            [
             0.5555555555555556,
             "#d8576b"
            ],
            [
             0.6666666666666666,
             "#ed7953"
            ],
            [
             0.7777777777777778,
             "#fb9f3a"
            ],
            [
             0.8888888888888888,
             "#fdca26"
            ],
            [
             1,
             "#f0f921"
            ]
           ]
          },
          "colorway": [
           "#636efa",
           "#EF553B",
           "#00cc96",
           "#ab63fa",
           "#FFA15A",
           "#19d3f3",
           "#FF6692",
           "#B6E880",
           "#FF97FF",
           "#FECB52"
          ],
          "font": {
           "color": "#2a3f5f"
          },
          "geo": {
           "bgcolor": "white",
           "lakecolor": "white",
           "landcolor": "#E5ECF6",
           "showlakes": true,
           "showland": true,
           "subunitcolor": "white"
          },
          "hoverlabel": {
           "align": "left"
          },
          "hovermode": "closest",
          "mapbox": {
           "style": "light"
          },
          "paper_bgcolor": "white",
          "plot_bgcolor": "#E5ECF6",
          "polar": {
           "angularaxis": {
            "gridcolor": "white",
            "linecolor": "white",
            "ticks": ""
           },
           "bgcolor": "#E5ECF6",
           "radialaxis": {
            "gridcolor": "white",
            "linecolor": "white",
            "ticks": ""
           }
          },
          "scene": {
           "xaxis": {
            "backgroundcolor": "#E5ECF6",
            "gridcolor": "white",
            "gridwidth": 2,
            "linecolor": "white",
            "showbackground": true,
            "ticks": "",
            "zerolinecolor": "white"
           },
           "yaxis": {
            "backgroundcolor": "#E5ECF6",
            "gridcolor": "white",
            "gridwidth": 2,
            "linecolor": "white",
            "showbackground": true,
            "ticks": "",
            "zerolinecolor": "white"
           },
           "zaxis": {
            "backgroundcolor": "#E5ECF6",
            "gridcolor": "white",
            "gridwidth": 2,
            "linecolor": "white",
            "showbackground": true,
            "ticks": "",
            "zerolinecolor": "white"
           }
          },
          "shapedefaults": {
           "line": {
            "color": "#2a3f5f"
           }
          },
          "ternary": {
           "aaxis": {
            "gridcolor": "white",
            "linecolor": "white",
            "ticks": ""
           },
           "baxis": {
            "gridcolor": "white",
            "linecolor": "white",
            "ticks": ""
           },
           "bgcolor": "#E5ECF6",
           "caxis": {
            "gridcolor": "white",
            "linecolor": "white",
            "ticks": ""
           }
          },
          "title": {
           "x": 0.05
          },
          "xaxis": {
           "automargin": true,
           "gridcolor": "white",
           "linecolor": "white",
           "ticks": "",
           "title": {
            "standoff": 15
           },
           "zerolinecolor": "white",
           "zerolinewidth": 2
          },
          "yaxis": {
           "automargin": true,
           "gridcolor": "white",
           "linecolor": "white",
           "ticks": "",
           "title": {
            "standoff": 15
           },
           "zerolinecolor": "white",
           "zerolinewidth": 2
          }
         }
        },
        "title": {
         "text": "myinvestor Web Traffic and Independent Variables"
        },
        "xaxis": {
         "title": {
          "text": "Date"
         }
        },
        "yaxis": {
         "tickfont": {
          "color": "#000000"
         },
         "title": {
          "font": {
           "color": "#000000"
          },
          "text": "Web Traffic"
         }
        },
        "yaxis2": {
         "overlaying": "y",
         "side": "right",
         "tickfont": {
          "color": "#000000"
         },
         "title": {
          "font": {
           "color": "#000000"
          },
          "text": "Independent Variables"
         }
        }
       }
      }
     },
     "metadata": {},
     "output_type": "display_data"
    },
    {
     "data": {
      "application/vnd.plotly.v1+json": {
       "config": {
        "plotlyServerURL": "https://plot.ly"
       },
       "data": [
        {
         "mode": "lines",
         "name": "web_traffic",
         "type": "scatter",
         "x": [
          "2021-12-01",
          "2021-12-01",
          "2021-12-01",
          "2022-01-01",
          "2022-01-01",
          "2022-01-01",
          "2022-02-01",
          "2022-02-01",
          "2022-02-01",
          "2022-03-01",
          "2022-03-01",
          "2022-03-01",
          "2022-04-01",
          "2022-04-01",
          "2022-04-01",
          "2022-05-01",
          "2022-05-01",
          "2022-05-01",
          "2022-06-01",
          "2022-06-01",
          "2022-06-01",
          "2022-07-01",
          "2022-07-01",
          "2022-07-01",
          "2022-08-01",
          "2022-08-01",
          "2022-08-01",
          "2022-09-01",
          "2022-09-01",
          "2022-09-01",
          "2022-10-01",
          "2022-10-01",
          "2022-10-01",
          "2022-11-01",
          "2022-11-01",
          "2022-11-01",
          "2022-12-01",
          "2022-12-01",
          "2022-12-01",
          "2023-01-01",
          "2023-01-01",
          "2023-01-01",
          "2023-02-01",
          "2023-02-01",
          "2023-02-01",
          "2023-03-01",
          "2023-03-01",
          "2023-03-01",
          "2023-04-01",
          "2023-04-01",
          "2023-04-01",
          "2023-05-01",
          "2023-05-01",
          "2023-05-01",
          "2023-06-01",
          "2023-06-01",
          "2023-06-01",
          "2023-07-01",
          "2023-07-01",
          "2023-07-01",
          "2023-08-01",
          "2023-08-01",
          "2023-08-01",
          "2023-09-01",
          "2023-09-01",
          "2023-09-01",
          "2023-10-01",
          "2023-10-01",
          "2023-10-01",
          "2023-11-01",
          "2023-11-01",
          "2023-11-01",
          "2023-12-01",
          "2023-12-01",
          "2023-12-01"
         ],
         "y": [
          8733.56083469671,
          8733.56083469671,
          8733.56083469671,
          11410.593442735666,
          11410.593442735666,
          11410.593442735666,
          8891.661052867186,
          8891.661052867186,
          8891.661052867186,
          7446.92514370052,
          7446.92514370052,
          7446.92514370052,
          10285.861726329063,
          10285.861726329063,
          10285.861726329063,
          5975.582249925638,
          5975.582249925638,
          5975.582249925638,
          7762.845174982507,
          7762.845174982507,
          7762.845174982507,
          6762.668090547939,
          6762.668090547939,
          6762.668090547939,
          5397.61571806962,
          5397.61571806962,
          5397.61571806962,
          8613.556577120236,
          8613.556577120236,
          8613.556577120236,
          9038.461163024074,
          9038.461163024074,
          9038.461163024074,
          13388.84576834338,
          13388.84576834338,
          13388.84576834338,
          6247.4198820247275,
          6247.4198820247275,
          6247.4198820247275,
          11173.980088579076,
          11173.980088579076,
          11173.980088579076,
          14400.977226220057,
          14400.977226220057,
          14400.977226220057,
          15987.257195924634,
          15987.257195924634,
          15987.257195924634,
          10308.194758669017,
          10308.194758669017,
          10308.194758669017,
          24378.839259055894,
          24378.839259055894,
          24378.839259055894,
          10733.464506580976,
          10733.464506580976,
          10733.464506580976,
          12473.692111833258,
          12473.692111833258,
          12473.692111833258,
          16491.783897844,
          16491.783897844,
          16491.783897844,
          14668.724298778588,
          14668.724298778588,
          14668.724298778588,
          16023.529139976768,
          16023.529139976768,
          16023.529139976768,
          10137.76425943294,
          10137.76425943294,
          10137.76425943294,
          8809.659637144894,
          8809.659637144894,
          8809.659637144894
         ],
         "yaxis": "y"
        },
        {
         "mode": "lines",
         "name": "cross_visitation",
         "type": "scatter",
         "x": [
          "2021-12-01",
          "2021-12-01",
          "2021-12-01",
          "2022-01-01",
          "2022-01-01",
          "2022-01-01",
          "2022-02-01",
          "2022-02-01",
          "2022-02-01",
          "2022-03-01",
          "2022-03-01",
          "2022-03-01",
          "2022-04-01",
          "2022-04-01",
          "2022-04-01",
          "2022-05-01",
          "2022-05-01",
          "2022-05-01",
          "2022-06-01",
          "2022-06-01",
          "2022-06-01",
          "2022-07-01",
          "2022-07-01",
          "2022-07-01",
          "2022-08-01",
          "2022-08-01",
          "2022-08-01",
          "2022-09-01",
          "2022-09-01",
          "2022-09-01",
          "2022-10-01",
          "2022-10-01",
          "2022-10-01",
          "2022-11-01",
          "2022-11-01",
          "2022-11-01",
          "2022-12-01",
          "2022-12-01",
          "2022-12-01",
          "2023-01-01",
          "2023-01-01",
          "2023-01-01",
          "2023-02-01",
          "2023-02-01",
          "2023-02-01",
          "2023-03-01",
          "2023-03-01",
          "2023-03-01",
          "2023-04-01",
          "2023-04-01",
          "2023-04-01",
          "2023-05-01",
          "2023-05-01",
          "2023-05-01",
          "2023-06-01",
          "2023-06-01",
          "2023-06-01",
          "2023-07-01",
          "2023-07-01",
          "2023-07-01",
          "2023-08-01",
          "2023-08-01",
          "2023-08-01",
          "2023-09-01",
          "2023-09-01",
          "2023-09-01",
          "2023-10-01",
          "2023-10-01",
          "2023-10-01",
          "2023-11-01",
          "2023-11-01",
          "2023-11-01",
          "2023-12-01",
          "2023-12-01",
          "2023-12-01"
         ],
         "y": [
          0.1057692319154739,
          0.1057692319154739,
          0.1057692319154739,
          0.0941860452294349,
          0.0941860452294349,
          0.0941860452294349,
          0.0830830857157707,
          0.0830830857157707,
          0.0830830857157707,
          0.0825763866305351,
          0.0825763866305351,
          0.0825763866305351,
          0.1029923483729362,
          0.1029923483729362,
          0.1029923483729362,
          0.0936555862426757,
          0.0936555862426757,
          0.0936555862426757,
          0.1135845258831977,
          0.1135845258831977,
          0.1135845258831977,
          0.0851943790912628,
          0.0851943790912628,
          0.0851943790912628,
          0.0955414026975631,
          0.0955414026975631,
          0.0955414026975631,
          0.1069042310118675,
          0.1069042310118675,
          0.1069042310118675,
          0.0937245339155197,
          0.0937245339155197,
          0.0937245339155197,
          0.0992234721779823,
          0.0992234721779823,
          0.0992234721779823,
          0.1095189377665519,
          0.1095189377665519,
          0.1095189377665519,
          0.0903665795922279,
          0.0903665795922279,
          0.0903665795922279,
          0.0960352420806884,
          0.0960352420806884,
          0.0960352420806884,
          0.0980683490633964,
          0.0980683490633964,
          0.0980683490633964,
          0.1081314906477928,
          0.1081314906477928,
          0.1081314906477928,
          0.082061544060707,
          0.082061544060707,
          0.082061544060707,
          0.0932773128151893,
          0.0932773128151893,
          0.0932773128151893,
          0.0819672122597694,
          0.0819672122597694,
          0.0819672122597694,
          0.1001221016049385,
          0.1001221016049385,
          0.1001221016049385,
          0.0978723391890525,
          0.0978723391890525,
          0.0978723391890525,
          0.0881316065788269,
          0.0881316065788269,
          0.0881316065788269,
          0.1081871315836906,
          0.1081871315836906,
          0.1081871315836906,
          0.1129518076777458,
          0.1129518076777458,
          0.1129518076777458
         ],
         "yaxis": "y2"
        },
        {
         "mode": "lines",
         "name": "rank",
         "type": "scatter",
         "x": [
          "2021-12-01",
          "2021-12-01",
          "2021-12-01",
          "2022-01-01",
          "2022-01-01",
          "2022-01-01",
          "2022-02-01",
          "2022-02-01",
          "2022-02-01",
          "2022-03-01",
          "2022-03-01",
          "2022-03-01",
          "2022-04-01",
          "2022-04-01",
          "2022-04-01",
          "2022-05-01",
          "2022-05-01",
          "2022-05-01",
          "2022-06-01",
          "2022-06-01",
          "2022-06-01",
          "2022-07-01",
          "2022-07-01",
          "2022-07-01",
          "2022-08-01",
          "2022-08-01",
          "2022-08-01",
          "2022-09-01",
          "2022-09-01",
          "2022-09-01",
          "2022-10-01",
          "2022-10-01",
          "2022-10-01",
          "2022-11-01",
          "2022-11-01",
          "2022-11-01",
          "2022-12-01",
          "2022-12-01",
          "2022-12-01",
          "2023-01-01",
          "2023-01-01",
          "2023-01-01",
          "2023-02-01",
          "2023-02-01",
          "2023-02-01",
          "2023-03-01",
          "2023-03-01",
          "2023-03-01",
          "2023-04-01",
          "2023-04-01",
          "2023-04-01",
          "2023-05-01",
          "2023-05-01",
          "2023-05-01",
          "2023-06-01",
          "2023-06-01",
          "2023-06-01",
          "2023-07-01",
          "2023-07-01",
          "2023-07-01",
          "2023-08-01",
          "2023-08-01",
          "2023-08-01",
          "2023-09-01",
          "2023-09-01",
          "2023-09-01",
          "2023-10-01",
          "2023-10-01",
          "2023-10-01",
          "2023-11-01",
          "2023-11-01",
          "2023-11-01",
          "2023-12-01",
          "2023-12-01",
          "2023-12-01"
         ],
         "y": [
          3,
          1,
          1,
          3,
          1,
          1,
          3,
          1,
          1,
          1,
          1,
          1,
          1,
          1,
          1,
          3,
          2,
          1,
          2,
          1,
          1,
          2,
          2,
          1,
          7,
          3,
          1,
          5,
          3,
          1,
          1,
          1,
          1,
          1,
          1,
          1,
          1,
          1,
          1,
          1,
          1,
          1,
          1,
          1,
          4,
          4,
          4,
          5,
          5,
          5,
          5,
          5,
          5,
          5,
          5,
          5,
          5,
          5,
          5,
          3,
          3,
          3,
          3,
          3,
          3,
          3,
          3,
          3,
          3,
          3,
          3,
          4,
          4,
          4,
          4
         ],
         "yaxis": "y2"
        },
        {
         "mode": "lines",
         "name": "category_best_salary_accounts_helmycash",
         "type": "scatter",
         "x": [
          "2021-12-01",
          "2021-12-01",
          "2021-12-01",
          "2022-01-01",
          "2022-01-01",
          "2022-01-01",
          "2022-02-01",
          "2022-02-01",
          "2022-02-01",
          "2022-03-01",
          "2022-03-01",
          "2022-03-01",
          "2022-04-01",
          "2022-04-01",
          "2022-04-01",
          "2022-05-01",
          "2022-05-01",
          "2022-05-01",
          "2022-06-01",
          "2022-06-01",
          "2022-06-01",
          "2022-07-01",
          "2022-07-01",
          "2022-07-01",
          "2022-08-01",
          "2022-08-01",
          "2022-08-01",
          "2022-09-01",
          "2022-09-01",
          "2022-09-01",
          "2022-10-01",
          "2022-10-01",
          "2022-10-01",
          "2022-11-01",
          "2022-11-01",
          "2022-11-01",
          "2022-12-01",
          "2022-12-01",
          "2022-12-01",
          "2023-01-01",
          "2023-01-01",
          "2023-01-01",
          "2023-02-01",
          "2023-02-01",
          "2023-02-01",
          "2023-03-01",
          "2023-03-01",
          "2023-03-01",
          "2023-04-01",
          "2023-04-01",
          "2023-04-01",
          "2023-05-01",
          "2023-05-01",
          "2023-05-01",
          "2023-06-01",
          "2023-06-01",
          "2023-06-01",
          "2023-07-01",
          "2023-07-01",
          "2023-07-01",
          "2023-08-01",
          "2023-08-01",
          "2023-08-01",
          "2023-09-01",
          "2023-09-01",
          "2023-09-01",
          "2023-10-01",
          "2023-10-01",
          "2023-10-01",
          "2023-11-01",
          "2023-11-01",
          "2023-11-01",
          "2023-12-01",
          "2023-12-01",
          "2023-12-01"
         ],
         "y": [
          0,
          1,
          0,
          0,
          1,
          0,
          0,
          1,
          0,
          0,
          1,
          0,
          0,
          1,
          0,
          0,
          1,
          0,
          0,
          1,
          0,
          0,
          1,
          0,
          0,
          1,
          0,
          0,
          1,
          0,
          0,
          1,
          0,
          0,
          1,
          0,
          0,
          1,
          0,
          0,
          1,
          0,
          0,
          1,
          0,
          0,
          1,
          0,
          0,
          1,
          0,
          0,
          1,
          0,
          0,
          1,
          0,
          0,
          1,
          0,
          0,
          1,
          0,
          0,
          1,
          0,
          0,
          1,
          0,
          0,
          1,
          0,
          0,
          1,
          0
         ],
         "yaxis": "y2"
        },
        {
         "mode": "lines",
         "name": "category_best_savings_accounts_helpmycash",
         "type": "scatter",
         "x": [
          "2021-12-01",
          "2021-12-01",
          "2021-12-01",
          "2022-01-01",
          "2022-01-01",
          "2022-01-01",
          "2022-02-01",
          "2022-02-01",
          "2022-02-01",
          "2022-03-01",
          "2022-03-01",
          "2022-03-01",
          "2022-04-01",
          "2022-04-01",
          "2022-04-01",
          "2022-05-01",
          "2022-05-01",
          "2022-05-01",
          "2022-06-01",
          "2022-06-01",
          "2022-06-01",
          "2022-07-01",
          "2022-07-01",
          "2022-07-01",
          "2022-08-01",
          "2022-08-01",
          "2022-08-01",
          "2022-09-01",
          "2022-09-01",
          "2022-09-01",
          "2022-10-01",
          "2022-10-01",
          "2022-10-01",
          "2022-11-01",
          "2022-11-01",
          "2022-11-01",
          "2022-12-01",
          "2022-12-01",
          "2022-12-01",
          "2023-01-01",
          "2023-01-01",
          "2023-01-01",
          "2023-02-01",
          "2023-02-01",
          "2023-02-01",
          "2023-03-01",
          "2023-03-01",
          "2023-03-01",
          "2023-04-01",
          "2023-04-01",
          "2023-04-01",
          "2023-05-01",
          "2023-05-01",
          "2023-05-01",
          "2023-06-01",
          "2023-06-01",
          "2023-06-01",
          "2023-07-01",
          "2023-07-01",
          "2023-07-01",
          "2023-08-01",
          "2023-08-01",
          "2023-08-01",
          "2023-09-01",
          "2023-09-01",
          "2023-09-01",
          "2023-10-01",
          "2023-10-01",
          "2023-10-01",
          "2023-11-01",
          "2023-11-01",
          "2023-11-01",
          "2023-12-01",
          "2023-12-01",
          "2023-12-01"
         ],
         "y": [
          0,
          0,
          1,
          0,
          0,
          1,
          0,
          0,
          1,
          0,
          0,
          1,
          0,
          0,
          1,
          0,
          0,
          1,
          0,
          0,
          1,
          0,
          0,
          1,
          0,
          0,
          1,
          0,
          0,
          1,
          0,
          0,
          1,
          0,
          0,
          1,
          0,
          0,
          1,
          0,
          0,
          1,
          0,
          0,
          1,
          0,
          0,
          1,
          0,
          0,
          1,
          0,
          0,
          1,
          0,
          0,
          1,
          0,
          0,
          1,
          0,
          0,
          1,
          0,
          0,
          1,
          0,
          0,
          1,
          0,
          0,
          1,
          0,
          0,
          1
         ],
         "yaxis": "y2"
        },
        {
         "mode": "lines",
         "name": "incentive",
         "type": "scatter",
         "x": [
          "2021-12-01",
          "2021-12-01",
          "2021-12-01",
          "2022-01-01",
          "2022-01-01",
          "2022-01-01",
          "2022-02-01",
          "2022-02-01",
          "2022-02-01",
          "2022-03-01",
          "2022-03-01",
          "2022-03-01",
          "2022-04-01",
          "2022-04-01",
          "2022-04-01",
          "2022-05-01",
          "2022-05-01",
          "2022-05-01",
          "2022-06-01",
          "2022-06-01",
          "2022-06-01",
          "2022-07-01",
          "2022-07-01",
          "2022-07-01",
          "2022-08-01",
          "2022-08-01",
          "2022-08-01",
          "2022-09-01",
          "2022-09-01",
          "2022-09-01",
          "2022-10-01",
          "2022-10-01",
          "2022-10-01",
          "2022-11-01",
          "2022-11-01",
          "2022-11-01",
          "2022-12-01",
          "2022-12-01",
          "2022-12-01",
          "2023-01-01",
          "2023-01-01",
          "2023-01-01",
          "2023-02-01",
          "2023-02-01",
          "2023-02-01",
          "2023-03-01",
          "2023-03-01",
          "2023-03-01",
          "2023-04-01",
          "2023-04-01",
          "2023-04-01",
          "2023-05-01",
          "2023-05-01",
          "2023-05-01",
          "2023-06-01",
          "2023-06-01",
          "2023-06-01",
          "2023-07-01",
          "2023-07-01",
          "2023-07-01",
          "2023-08-01",
          "2023-08-01",
          "2023-08-01",
          "2023-09-01",
          "2023-09-01",
          "2023-09-01",
          "2023-10-01",
          "2023-10-01",
          "2023-10-01",
          "2023-11-01",
          "2023-11-01",
          "2023-11-01",
          "2023-12-01",
          "2023-12-01",
          "2023-12-01"
         ],
         "y": [
          250,
          250,
          250,
          250,
          250,
          250,
          250,
          250,
          250,
          250,
          250,
          250,
          250,
          250,
          250,
          250,
          250,
          250,
          250,
          250,
          250,
          250,
          250,
          250,
          250,
          250,
          250,
          250,
          250,
          250,
          250,
          250,
          250,
          250,
          250,
          250,
          250,
          250,
          250,
          250,
          250,
          250,
          250,
          250,
          250,
          250,
          250,
          250,
          250,
          250,
          250,
          250,
          250,
          250,
          250,
          250,
          250,
          0,
          0,
          0,
          0,
          0,
          0,
          0,
          0,
          0,
          0,
          0,
          0,
          0,
          0,
          0,
          0,
          0,
          0
         ],
         "yaxis": "y2"
        },
        {
         "mode": "lines",
         "name": "apr",
         "type": "scatter",
         "x": [
          "2021-12-01",
          "2021-12-01",
          "2021-12-01",
          "2022-01-01",
          "2022-01-01",
          "2022-01-01",
          "2022-02-01",
          "2022-02-01",
          "2022-02-01",
          "2022-03-01",
          "2022-03-01",
          "2022-03-01",
          "2022-04-01",
          "2022-04-01",
          "2022-04-01",
          "2022-05-01",
          "2022-05-01",
          "2022-05-01",
          "2022-06-01",
          "2022-06-01",
          "2022-06-01",
          "2022-07-01",
          "2022-07-01",
          "2022-07-01",
          "2022-08-01",
          "2022-08-01",
          "2022-08-01",
          "2022-09-01",
          "2022-09-01",
          "2022-09-01",
          "2022-10-01",
          "2022-10-01",
          "2022-10-01",
          "2022-11-01",
          "2022-11-01",
          "2022-11-01",
          "2022-12-01",
          "2022-12-01",
          "2022-12-01",
          "2023-01-01",
          "2023-01-01",
          "2023-01-01",
          "2023-02-01",
          "2023-02-01",
          "2023-02-01",
          "2023-03-01",
          "2023-03-01",
          "2023-03-01",
          "2023-04-01",
          "2023-04-01",
          "2023-04-01",
          "2023-05-01",
          "2023-05-01",
          "2023-05-01",
          "2023-06-01",
          "2023-06-01",
          "2023-06-01",
          "2023-07-01",
          "2023-07-01",
          "2023-07-01",
          "2023-08-01",
          "2023-08-01",
          "2023-08-01",
          "2023-09-01",
          "2023-09-01",
          "2023-09-01",
          "2023-10-01",
          "2023-10-01",
          "2023-10-01",
          "2023-11-01",
          "2023-11-01",
          "2023-11-01",
          "2023-12-01",
          "2023-12-01",
          "2023-12-01"
         ],
         "y": [
          0,
          0,
          0,
          0,
          0,
          0,
          0,
          0,
          0,
          0,
          0,
          0,
          0,
          0,
          0,
          0,
          0,
          0,
          0,
          0,
          0,
          0,
          0,
          0,
          0,
          0,
          0,
          0,
          0,
          0,
          0,
          0,
          0,
          0,
          0,
          0,
          0,
          0,
          0,
          0,
          0,
          0,
          0,
          0,
          0,
          0,
          0,
          0,
          0,
          0,
          0,
          0,
          0,
          0,
          0,
          0,
          0,
          0,
          0,
          0,
          0,
          0,
          0,
          0,
          0,
          0,
          0,
          0,
          0,
          0,
          0,
          0,
          0,
          0,
          0
         ],
         "yaxis": "y2"
        },
        {
         "mode": "lines",
         "name": "mentions",
         "type": "scatter",
         "x": [
          "2021-12-01",
          "2021-12-01",
          "2021-12-01",
          "2022-01-01",
          "2022-01-01",
          "2022-01-01",
          "2022-02-01",
          "2022-02-01",
          "2022-02-01",
          "2022-03-01",
          "2022-03-01",
          "2022-03-01",
          "2022-04-01",
          "2022-04-01",
          "2022-04-01",
          "2022-05-01",
          "2022-05-01",
          "2022-05-01",
          "2022-06-01",
          "2022-06-01",
          "2022-06-01",
          "2022-07-01",
          "2022-07-01",
          "2022-07-01",
          "2022-08-01",
          "2022-08-01",
          "2022-08-01",
          "2022-09-01",
          "2022-09-01",
          "2022-09-01",
          "2022-10-01",
          "2022-10-01",
          "2022-10-01",
          "2022-11-01",
          "2022-11-01",
          "2022-11-01",
          "2022-12-01",
          "2022-12-01",
          "2022-12-01",
          "2023-01-01",
          "2023-01-01",
          "2023-01-01",
          "2023-02-01",
          "2023-02-01",
          "2023-02-01",
          "2023-03-01",
          "2023-03-01",
          "2023-03-01",
          "2023-04-01",
          "2023-04-01",
          "2023-04-01",
          "2023-05-01",
          "2023-05-01",
          "2023-05-01",
          "2023-06-01",
          "2023-06-01",
          "2023-06-01",
          "2023-07-01",
          "2023-07-01",
          "2023-07-01",
          "2023-08-01",
          "2023-08-01",
          "2023-08-01",
          "2023-09-01",
          "2023-09-01",
          "2023-09-01",
          "2023-10-01",
          "2023-10-01",
          "2023-10-01",
          "2023-11-01",
          "2023-11-01",
          "2023-11-01",
          "2023-12-01",
          "2023-12-01",
          "2023-12-01"
         ],
         "y": [
          4,
          4,
          4,
          1,
          1,
          1,
          4,
          4,
          4,
          2,
          2,
          2,
          2,
          2,
          2,
          4,
          4,
          4,
          1,
          1,
          1,
          2,
          2,
          2,
          0,
          0,
          0,
          1,
          1,
          1,
          0,
          0,
          0,
          0,
          0,
          0,
          1,
          1,
          1,
          0,
          0,
          0,
          1,
          1,
          1,
          2,
          2,
          2,
          2,
          2,
          2,
          2,
          2,
          2,
          3,
          3,
          3,
          3,
          3,
          3,
          0,
          0,
          0,
          0,
          0,
          0,
          3,
          3,
          3,
          2,
          2,
          2,
          1,
          1,
          1
         ],
         "yaxis": "y2"
        }
       ],
       "layout": {
        "legend": {
         "x": 1.1,
         "y": 1
        },
        "template": {
         "data": {
          "bar": [
           {
            "error_x": {
             "color": "#2a3f5f"
            },
            "error_y": {
             "color": "#2a3f5f"
            },
            "marker": {
             "line": {
              "color": "#E5ECF6",
              "width": 0.5
             },
             "pattern": {
              "fillmode": "overlay",
              "size": 10,
              "solidity": 0.2
             }
            },
            "type": "bar"
           }
          ],
          "barpolar": [
           {
            "marker": {
             "line": {
              "color": "#E5ECF6",
              "width": 0.5
             },
             "pattern": {
              "fillmode": "overlay",
              "size": 10,
              "solidity": 0.2
             }
            },
            "type": "barpolar"
           }
          ],
          "carpet": [
           {
            "aaxis": {
             "endlinecolor": "#2a3f5f",
             "gridcolor": "white",
             "linecolor": "white",
             "minorgridcolor": "white",
             "startlinecolor": "#2a3f5f"
            },
            "baxis": {
             "endlinecolor": "#2a3f5f",
             "gridcolor": "white",
             "linecolor": "white",
             "minorgridcolor": "white",
             "startlinecolor": "#2a3f5f"
            },
            "type": "carpet"
           }
          ],
          "choropleth": [
           {
            "colorbar": {
             "outlinewidth": 0,
             "ticks": ""
            },
            "type": "choropleth"
           }
          ],
          "contour": [
           {
            "colorbar": {
             "outlinewidth": 0,
             "ticks": ""
            },
            "colorscale": [
             [
              0,
              "#0d0887"
             ],
             [
              0.1111111111111111,
              "#46039f"
             ],
             [
              0.2222222222222222,
              "#7201a8"
             ],
             [
              0.3333333333333333,
              "#9c179e"
             ],
             [
              0.4444444444444444,
              "#bd3786"
             ],
             [
              0.5555555555555556,
              "#d8576b"
             ],
             [
              0.6666666666666666,
              "#ed7953"
             ],
             [
              0.7777777777777778,
              "#fb9f3a"
             ],
             [
              0.8888888888888888,
              "#fdca26"
             ],
             [
              1,
              "#f0f921"
             ]
            ],
            "type": "contour"
           }
          ],
          "contourcarpet": [
           {
            "colorbar": {
             "outlinewidth": 0,
             "ticks": ""
            },
            "type": "contourcarpet"
           }
          ],
          "heatmap": [
           {
            "colorbar": {
             "outlinewidth": 0,
             "ticks": ""
            },
            "colorscale": [
             [
              0,
              "#0d0887"
             ],
             [
              0.1111111111111111,
              "#46039f"
             ],
             [
              0.2222222222222222,
              "#7201a8"
             ],
             [
              0.3333333333333333,
              "#9c179e"
             ],
             [
              0.4444444444444444,
              "#bd3786"
             ],
             [
              0.5555555555555556,
              "#d8576b"
             ],
             [
              0.6666666666666666,
              "#ed7953"
             ],
             [
              0.7777777777777778,
              "#fb9f3a"
             ],
             [
              0.8888888888888888,
              "#fdca26"
             ],
             [
              1,
              "#f0f921"
             ]
            ],
            "type": "heatmap"
           }
          ],
          "heatmapgl": [
           {
            "colorbar": {
             "outlinewidth": 0,
             "ticks": ""
            },
            "colorscale": [
             [
              0,
              "#0d0887"
             ],
             [
              0.1111111111111111,
              "#46039f"
             ],
             [
              0.2222222222222222,
              "#7201a8"
             ],
             [
              0.3333333333333333,
              "#9c179e"
             ],
             [
              0.4444444444444444,
              "#bd3786"
             ],
             [
              0.5555555555555556,
              "#d8576b"
             ],
             [
              0.6666666666666666,
              "#ed7953"
             ],
             [
              0.7777777777777778,
              "#fb9f3a"
             ],
             [
              0.8888888888888888,
              "#fdca26"
             ],
             [
              1,
              "#f0f921"
             ]
            ],
            "type": "heatmapgl"
           }
          ],
          "histogram": [
           {
            "marker": {
             "pattern": {
              "fillmode": "overlay",
              "size": 10,
              "solidity": 0.2
             }
            },
            "type": "histogram"
           }
          ],
          "histogram2d": [
           {
            "colorbar": {
             "outlinewidth": 0,
             "ticks": ""
            },
            "colorscale": [
             [
              0,
              "#0d0887"
             ],
             [
              0.1111111111111111,
              "#46039f"
             ],
             [
              0.2222222222222222,
              "#7201a8"
             ],
             [
              0.3333333333333333,
              "#9c179e"
             ],
             [
              0.4444444444444444,
              "#bd3786"
             ],
             [
              0.5555555555555556,
              "#d8576b"
             ],
             [
              0.6666666666666666,
              "#ed7953"
             ],
             [
              0.7777777777777778,
              "#fb9f3a"
             ],
             [
              0.8888888888888888,
              "#fdca26"
             ],
             [
              1,
              "#f0f921"
             ]
            ],
            "type": "histogram2d"
           }
          ],
          "histogram2dcontour": [
           {
            "colorbar": {
             "outlinewidth": 0,
             "ticks": ""
            },
            "colorscale": [
             [
              0,
              "#0d0887"
             ],
             [
              0.1111111111111111,
              "#46039f"
             ],
             [
              0.2222222222222222,
              "#7201a8"
             ],
             [
              0.3333333333333333,
              "#9c179e"
             ],
             [
              0.4444444444444444,
              "#bd3786"
             ],
             [
              0.5555555555555556,
              "#d8576b"
             ],
             [
              0.6666666666666666,
              "#ed7953"
             ],
             [
              0.7777777777777778,
              "#fb9f3a"
             ],
             [
              0.8888888888888888,
              "#fdca26"
             ],
             [
              1,
              "#f0f921"
             ]
            ],
            "type": "histogram2dcontour"
           }
          ],
          "mesh3d": [
           {
            "colorbar": {
             "outlinewidth": 0,
             "ticks": ""
            },
            "type": "mesh3d"
           }
          ],
          "parcoords": [
           {
            "line": {
             "colorbar": {
              "outlinewidth": 0,
              "ticks": ""
             }
            },
            "type": "parcoords"
           }
          ],
          "pie": [
           {
            "automargin": true,
            "type": "pie"
           }
          ],
          "scatter": [
           {
            "fillpattern": {
             "fillmode": "overlay",
             "size": 10,
             "solidity": 0.2
            },
            "type": "scatter"
           }
          ],
          "scatter3d": [
           {
            "line": {
             "colorbar": {
              "outlinewidth": 0,
              "ticks": ""
             }
            },
            "marker": {
             "colorbar": {
              "outlinewidth": 0,
              "ticks": ""
             }
            },
            "type": "scatter3d"
           }
          ],
          "scattercarpet": [
           {
            "marker": {
             "colorbar": {
              "outlinewidth": 0,
              "ticks": ""
             }
            },
            "type": "scattercarpet"
           }
          ],
          "scattergeo": [
           {
            "marker": {
             "colorbar": {
              "outlinewidth": 0,
              "ticks": ""
             }
            },
            "type": "scattergeo"
           }
          ],
          "scattergl": [
           {
            "marker": {
             "colorbar": {
              "outlinewidth": 0,
              "ticks": ""
             }
            },
            "type": "scattergl"
           }
          ],
          "scattermapbox": [
           {
            "marker": {
             "colorbar": {
              "outlinewidth": 0,
              "ticks": ""
             }
            },
            "type": "scattermapbox"
           }
          ],
          "scatterpolar": [
           {
            "marker": {
             "colorbar": {
              "outlinewidth": 0,
              "ticks": ""
             }
            },
            "type": "scatterpolar"
           }
          ],
          "scatterpolargl": [
           {
            "marker": {
             "colorbar": {
              "outlinewidth": 0,
              "ticks": ""
             }
            },
            "type": "scatterpolargl"
           }
          ],
          "scatterternary": [
           {
            "marker": {
             "colorbar": {
              "outlinewidth": 0,
              "ticks": ""
             }
            },
            "type": "scatterternary"
           }
          ],
          "surface": [
           {
            "colorbar": {
             "outlinewidth": 0,
             "ticks": ""
            },
            "colorscale": [
             [
              0,
              "#0d0887"
             ],
             [
              0.1111111111111111,
              "#46039f"
             ],
             [
              0.2222222222222222,
              "#7201a8"
             ],
             [
              0.3333333333333333,
              "#9c179e"
             ],
             [
              0.4444444444444444,
              "#bd3786"
             ],
             [
              0.5555555555555556,
              "#d8576b"
             ],
             [
              0.6666666666666666,
              "#ed7953"
             ],
             [
              0.7777777777777778,
              "#fb9f3a"
             ],
             [
              0.8888888888888888,
              "#fdca26"
             ],
             [
              1,
              "#f0f921"
             ]
            ],
            "type": "surface"
           }
          ],
          "table": [
           {
            "cells": {
             "fill": {
              "color": "#EBF0F8"
             },
             "line": {
              "color": "white"
             }
            },
            "header": {
             "fill": {
              "color": "#C8D4E3"
             },
             "line": {
              "color": "white"
             }
            },
            "type": "table"
           }
          ]
         },
         "layout": {
          "annotationdefaults": {
           "arrowcolor": "#2a3f5f",
           "arrowhead": 0,
           "arrowwidth": 1
          },
          "autotypenumbers": "strict",
          "coloraxis": {
           "colorbar": {
            "outlinewidth": 0,
            "ticks": ""
           }
          },
          "colorscale": {
           "diverging": [
            [
             0,
             "#8e0152"
            ],
            [
             0.1,
             "#c51b7d"
            ],
            [
             0.2,
             "#de77ae"
            ],
            [
             0.3,
             "#f1b6da"
            ],
            [
             0.4,
             "#fde0ef"
            ],
            [
             0.5,
             "#f7f7f7"
            ],
            [
             0.6,
             "#e6f5d0"
            ],
            [
             0.7,
             "#b8e186"
            ],
            [
             0.8,
             "#7fbc41"
            ],
            [
             0.9,
             "#4d9221"
            ],
            [
             1,
             "#276419"
            ]
           ],
           "sequential": [
            [
             0,
             "#0d0887"
            ],
            [
             0.1111111111111111,
             "#46039f"
            ],
            [
             0.2222222222222222,
             "#7201a8"
            ],
            [
             0.3333333333333333,
             "#9c179e"
            ],
            [
             0.4444444444444444,
             "#bd3786"
            ],
            [
             0.5555555555555556,
             "#d8576b"
            ],
            [
             0.6666666666666666,
             "#ed7953"
            ],
            [
             0.7777777777777778,
             "#fb9f3a"
            ],
            [
             0.8888888888888888,
             "#fdca26"
            ],
            [
             1,
             "#f0f921"
            ]
           ],
           "sequentialminus": [
            [
             0,
             "#0d0887"
            ],
            [
             0.1111111111111111,
             "#46039f"
            ],
            [
             0.2222222222222222,
             "#7201a8"
            ],
            [
             0.3333333333333333,
             "#9c179e"
            ],
            [
             0.4444444444444444,
             "#bd3786"
            ],
            [
             0.5555555555555556,
             "#d8576b"
            ],
            [
             0.6666666666666666,
             "#ed7953"
            ],
            [
             0.7777777777777778,
             "#fb9f3a"
            ],
            [
             0.8888888888888888,
             "#fdca26"
            ],
            [
             1,
             "#f0f921"
            ]
           ]
          },
          "colorway": [
           "#636efa",
           "#EF553B",
           "#00cc96",
           "#ab63fa",
           "#FFA15A",
           "#19d3f3",
           "#FF6692",
           "#B6E880",
           "#FF97FF",
           "#FECB52"
          ],
          "font": {
           "color": "#2a3f5f"
          },
          "geo": {
           "bgcolor": "white",
           "lakecolor": "white",
           "landcolor": "#E5ECF6",
           "showlakes": true,
           "showland": true,
           "subunitcolor": "white"
          },
          "hoverlabel": {
           "align": "left"
          },
          "hovermode": "closest",
          "mapbox": {
           "style": "light"
          },
          "paper_bgcolor": "white",
          "plot_bgcolor": "#E5ECF6",
          "polar": {
           "angularaxis": {
            "gridcolor": "white",
            "linecolor": "white",
            "ticks": ""
           },
           "bgcolor": "#E5ECF6",
           "radialaxis": {
            "gridcolor": "white",
            "linecolor": "white",
            "ticks": ""
           }
          },
          "scene": {
           "xaxis": {
            "backgroundcolor": "#E5ECF6",
            "gridcolor": "white",
            "gridwidth": 2,
            "linecolor": "white",
            "showbackground": true,
            "ticks": "",
            "zerolinecolor": "white"
           },
           "yaxis": {
            "backgroundcolor": "#E5ECF6",
            "gridcolor": "white",
            "gridwidth": 2,
            "linecolor": "white",
            "showbackground": true,
            "ticks": "",
            "zerolinecolor": "white"
           },
           "zaxis": {
            "backgroundcolor": "#E5ECF6",
            "gridcolor": "white",
            "gridwidth": 2,
            "linecolor": "white",
            "showbackground": true,
            "ticks": "",
            "zerolinecolor": "white"
           }
          },
          "shapedefaults": {
           "line": {
            "color": "#2a3f5f"
           }
          },
          "ternary": {
           "aaxis": {
            "gridcolor": "white",
            "linecolor": "white",
            "ticks": ""
           },
           "baxis": {
            "gridcolor": "white",
            "linecolor": "white",
            "ticks": ""
           },
           "bgcolor": "#E5ECF6",
           "caxis": {
            "gridcolor": "white",
            "linecolor": "white",
            "ticks": ""
           }
          },
          "title": {
           "x": 0.05
          },
          "xaxis": {
           "automargin": true,
           "gridcolor": "white",
           "linecolor": "white",
           "ticks": "",
           "title": {
            "standoff": 15
           },
           "zerolinecolor": "white",
           "zerolinewidth": 2
          },
          "yaxis": {
           "automargin": true,
           "gridcolor": "white",
           "linecolor": "white",
           "ticks": "",
           "title": {
            "standoff": 15
           },
           "zerolinecolor": "white",
           "zerolinewidth": 2
          }
         }
        },
        "title": {
         "text": "bankinter Web Traffic and Independent Variables"
        },
        "xaxis": {
         "title": {
          "text": "Date"
         }
        },
        "yaxis": {
         "tickfont": {
          "color": "#000000"
         },
         "title": {
          "font": {
           "color": "#000000"
          },
          "text": "Web Traffic"
         }
        },
        "yaxis2": {
         "overlaying": "y",
         "side": "right",
         "tickfont": {
          "color": "#000000"
         },
         "title": {
          "font": {
           "color": "#000000"
          },
          "text": "Independent Variables"
         }
        }
       }
      }
     },
     "metadata": {},
     "output_type": "display_data"
    },
    {
     "data": {
      "application/vnd.plotly.v1+json": {
       "config": {
        "plotlyServerURL": "https://plot.ly"
       },
       "data": [
        {
         "mode": "lines",
         "name": "web_traffic",
         "type": "scatter",
         "x": [
          "2021-12-01",
          "2021-12-01",
          "2021-12-01",
          "2021-12-01",
          "2022-01-01",
          "2022-01-01",
          "2022-01-01",
          "2022-01-01",
          "2022-02-01",
          "2022-02-01",
          "2022-02-01",
          "2022-02-01",
          "2022-03-01",
          "2022-03-01",
          "2022-03-01",
          "2022-03-01",
          "2022-04-01",
          "2022-04-01",
          "2022-04-01",
          "2022-04-01",
          "2022-05-01",
          "2022-05-01",
          "2022-05-01",
          "2022-05-01",
          "2022-06-01",
          "2022-06-01",
          "2022-06-01",
          "2022-06-01",
          "2022-07-01",
          "2022-07-01",
          "2022-07-01",
          "2022-07-01",
          "2022-08-01",
          "2022-08-01",
          "2022-08-01",
          "2022-08-01",
          "2022-09-01",
          "2022-09-01",
          "2022-09-01",
          "2022-09-01",
          "2022-10-01",
          "2022-10-01",
          "2022-10-01",
          "2022-10-01",
          "2022-11-01",
          "2022-11-01",
          "2022-11-01",
          "2022-11-01",
          "2022-12-01",
          "2022-12-01",
          "2022-12-01",
          "2022-12-01",
          "2023-01-01",
          "2023-01-01",
          "2023-01-01",
          "2023-01-01",
          "2023-02-01",
          "2023-02-01",
          "2023-02-01",
          "2023-02-01",
          "2023-03-01",
          "2023-03-01",
          "2023-03-01",
          "2023-03-01",
          "2023-04-01",
          "2023-04-01",
          "2023-04-01",
          "2023-04-01",
          "2023-05-01",
          "2023-05-01",
          "2023-05-01",
          "2023-05-01",
          "2023-06-01",
          "2023-06-01",
          "2023-06-01",
          "2023-06-01",
          "2023-07-01",
          "2023-07-01",
          "2023-07-01",
          "2023-07-01",
          "2023-08-01",
          "2023-08-01",
          "2023-08-01",
          "2023-08-01",
          "2023-09-01",
          "2023-09-01",
          "2023-09-01",
          "2023-09-01",
          "2023-10-01",
          "2023-10-01",
          "2023-10-01",
          "2023-10-01",
          "2023-11-01",
          "2023-11-01",
          "2023-11-01",
          "2023-11-01",
          "2023-12-01",
          "2023-12-01",
          "2023-12-01",
          "2023-12-01"
         ],
         "y": [
          5055.542563928903,
          5055.542563928903,
          5055.542563928903,
          5055.542563928903,
          4539.012047327285,
          4539.012047327285,
          4539.012047327285,
          4539.012047327285,
          6049.457904896492,
          6049.457904896492,
          6049.457904896492,
          6049.457904896492,
          9826.19360834962,
          9826.19360834962,
          9826.19360834962,
          9826.19360834962,
          5028.236253886188,
          5028.236253886188,
          5028.236253886188,
          5028.236253886188,
          6753.060528080503,
          6753.060528080503,
          6753.060528080503,
          6753.060528080503,
          5874.30001380048,
          5874.30001380048,
          5874.30001380048,
          5874.30001380048,
          2726.8682968029243,
          2726.8682968029243,
          2726.8682968029243,
          2726.8682968029243,
          5641.461710752132,
          5641.461710752132,
          5641.461710752132,
          5641.461710752132,
          4338.912964526001,
          4338.912964526001,
          4338.912964526001,
          4338.912964526001,
          4082.4316515533646,
          4082.4316515533646,
          4082.4316515533646,
          4082.4316515533646,
          6046.18054609565,
          6046.18054609565,
          6046.18054609565,
          6046.18054609565,
          4019.2405856585274,
          4019.2405856585274,
          4019.2405856585274,
          4019.2405856585274,
          4322.9666970501785,
          4322.9666970501785,
          4322.9666970501785,
          4322.9666970501785,
          6607.313703795276,
          6607.313703795276,
          6607.313703795276,
          6607.313703795276,
          4223.3848013347615,
          4223.3848013347615,
          4223.3848013347615,
          4223.3848013347615,
          7512.648131975472,
          7512.648131975472,
          7512.648131975472,
          7512.648131975472,
          9008.812031281264,
          9008.812031281264,
          9008.812031281264,
          9008.812031281264,
          12311.57811392023,
          12311.57811392023,
          12311.57811392023,
          12311.57811392023,
          7533.147002392063,
          7533.147002392063,
          7533.147002392063,
          7533.147002392063,
          8121.277500403561,
          8121.277500403561,
          8121.277500403561,
          8121.277500403561,
          9924.854621037495,
          9924.854621037495,
          9924.854621037495,
          9924.854621037495,
          10604.39206217207,
          10604.39206217207,
          10604.39206217207,
          10604.39206217207,
          9441.869500773428,
          9441.869500773428,
          9441.869500773428,
          9441.869500773428,
          10035.281182273044,
          10035.281182273044,
          10035.281182273044,
          10035.281182273044
         ],
         "yaxis": "y"
        },
        {
         "mode": "lines",
         "name": "cross_visitation",
         "type": "scatter",
         "x": [
          "2021-12-01",
          "2021-12-01",
          "2021-12-01",
          "2021-12-01",
          "2022-01-01",
          "2022-01-01",
          "2022-01-01",
          "2022-01-01",
          "2022-02-01",
          "2022-02-01",
          "2022-02-01",
          "2022-02-01",
          "2022-03-01",
          "2022-03-01",
          "2022-03-01",
          "2022-03-01",
          "2022-04-01",
          "2022-04-01",
          "2022-04-01",
          "2022-04-01",
          "2022-05-01",
          "2022-05-01",
          "2022-05-01",
          "2022-05-01",
          "2022-06-01",
          "2022-06-01",
          "2022-06-01",
          "2022-06-01",
          "2022-07-01",
          "2022-07-01",
          "2022-07-01",
          "2022-07-01",
          "2022-08-01",
          "2022-08-01",
          "2022-08-01",
          "2022-08-01",
          "2022-09-01",
          "2022-09-01",
          "2022-09-01",
          "2022-09-01",
          "2022-10-01",
          "2022-10-01",
          "2022-10-01",
          "2022-10-01",
          "2022-11-01",
          "2022-11-01",
          "2022-11-01",
          "2022-11-01",
          "2022-12-01",
          "2022-12-01",
          "2022-12-01",
          "2022-12-01",
          "2023-01-01",
          "2023-01-01",
          "2023-01-01",
          "2023-01-01",
          "2023-02-01",
          "2023-02-01",
          "2023-02-01",
          "2023-02-01",
          "2023-03-01",
          "2023-03-01",
          "2023-03-01",
          "2023-03-01",
          "2023-04-01",
          "2023-04-01",
          "2023-04-01",
          "2023-04-01",
          "2023-05-01",
          "2023-05-01",
          "2023-05-01",
          "2023-05-01",
          "2023-06-01",
          "2023-06-01",
          "2023-06-01",
          "2023-06-01",
          "2023-07-01",
          "2023-07-01",
          "2023-07-01",
          "2023-07-01",
          "2023-08-01",
          "2023-08-01",
          "2023-08-01",
          "2023-08-01",
          "2023-09-01",
          "2023-09-01",
          "2023-09-01",
          "2023-09-01",
          "2023-10-01",
          "2023-10-01",
          "2023-10-01",
          "2023-10-01",
          "2023-11-01",
          "2023-11-01",
          "2023-11-01",
          "2023-11-01",
          "2023-12-01",
          "2023-12-01",
          "2023-12-01",
          "2023-12-01"
         ],
         "y": [
          0.0798122063279151,
          0.0798122063279151,
          0.0798122063279151,
          0.0798122063279151,
          0.055327869951725,
          0.055327869951725,
          0.055327869951725,
          0.055327869951725,
          0.0674778744578361,
          0.0674778744578361,
          0.0674778744578361,
          0.0674778744578361,
          0.0754716992378234,
          0.0754716992378234,
          0.0754716992378234,
          0.0754716992378234,
          0.0721476525068283,
          0.0721476525068283,
          0.0721476525068283,
          0.0721476525068283,
          0.0837742537260055,
          0.0837742537260055,
          0.0837742537260055,
          0.0837742537260055,
          0.0698275864124298,
          0.0698275864124298,
          0.0698275864124298,
          0.0698275864124298,
          0.0695553049445152,
          0.0695553049445152,
          0.0695553049445152,
          0.0695553049445152,
          0.0649526417255401,
          0.0649526417255401,
          0.0649526417255401,
          0.0649526417255401,
          0.0606060624122619,
          0.0606060624122619,
          0.0606060624122619,
          0.0606060624122619,
          0.0596833117306232,
          0.0596833117306232,
          0.0596833117306232,
          0.0596833117306232,
          0.072592593729496,
          0.072592593729496,
          0.072592593729496,
          0.072592593729496,
          0.0736434087157249,
          0.0736434087157249,
          0.0736434087157249,
          0.0736434087157249,
          0.0652818977832794,
          0.0652818977832794,
          0.0652818977832794,
          0.0652818977832794,
          0.0798569694161415,
          0.0798569694161415,
          0.0798569694161415,
          0.0798569694161415,
          0.0546875,
          0.0546875,
          0.0546875,
          0.0546875,
          0.0597519725561142,
          0.0597519725561142,
          0.0597519725561142,
          0.0597519725561142,
          0.0653846189379692,
          0.0653846189379692,
          0.0653846189379692,
          0.0653846189379692,
          0.0634920671582222,
          0.0634920671582222,
          0.0634920671582222,
          0.0634920671582222,
          0.0700636953115463,
          0.0700636953115463,
          0.0700636953115463,
          0.0700636953115463,
          0.068273089826107,
          0.068273089826107,
          0.068273089826107,
          0.068273089826107,
          0.0742637664079666,
          0.0742637664079666,
          0.0742637664079666,
          0.0742637664079666,
          0.0753138065338134,
          0.0753138065338134,
          0.0753138065338134,
          0.0753138065338134,
          0.0825242698192596,
          0.0825242698192596,
          0.0825242698192596,
          0.0825242698192596,
          0.0882352963089943,
          0.0882352963089943,
          0.0882352963089943,
          0.0882352963089943
         ],
         "yaxis": "y2"
        },
        {
         "mode": "lines",
         "name": "rank",
         "type": "scatter",
         "x": [
          "2021-12-01",
          "2021-12-01",
          "2021-12-01",
          "2021-12-01",
          "2022-01-01",
          "2022-01-01",
          "2022-01-01",
          "2022-01-01",
          "2022-02-01",
          "2022-02-01",
          "2022-02-01",
          "2022-02-01",
          "2022-03-01",
          "2022-03-01",
          "2022-03-01",
          "2022-03-01",
          "2022-04-01",
          "2022-04-01",
          "2022-04-01",
          "2022-04-01",
          "2022-05-01",
          "2022-05-01",
          "2022-05-01",
          "2022-05-01",
          "2022-06-01",
          "2022-06-01",
          "2022-06-01",
          "2022-06-01",
          "2022-07-01",
          "2022-07-01",
          "2022-07-01",
          "2022-07-01",
          "2022-08-01",
          "2022-08-01",
          "2022-08-01",
          "2022-08-01",
          "2022-09-01",
          "2022-09-01",
          "2022-09-01",
          "2022-09-01",
          "2022-10-01",
          "2022-10-01",
          "2022-10-01",
          "2022-10-01",
          "2022-11-01",
          "2022-11-01",
          "2022-11-01",
          "2022-11-01",
          "2022-12-01",
          "2022-12-01",
          "2022-12-01",
          "2022-12-01",
          "2023-01-01",
          "2023-01-01",
          "2023-01-01",
          "2023-01-01",
          "2023-02-01",
          "2023-02-01",
          "2023-02-01",
          "2023-02-01",
          "2023-03-01",
          "2023-03-01",
          "2023-03-01",
          "2023-03-01",
          "2023-04-01",
          "2023-04-01",
          "2023-04-01",
          "2023-04-01",
          "2023-05-01",
          "2023-05-01",
          "2023-05-01",
          "2023-05-01",
          "2023-06-01",
          "2023-06-01",
          "2023-06-01",
          "2023-06-01",
          "2023-07-01",
          "2023-07-01",
          "2023-07-01",
          "2023-07-01",
          "2023-08-01",
          "2023-08-01",
          "2023-08-01",
          "2023-08-01",
          "2023-09-01",
          "2023-09-01",
          "2023-09-01",
          "2023-09-01",
          "2023-10-01",
          "2023-10-01",
          "2023-10-01",
          "2023-10-01",
          "2023-11-01",
          "2023-11-01",
          "2023-11-01",
          "2023-11-01",
          "2023-12-01",
          "2023-12-01",
          "2023-12-01",
          "2023-12-01"
         ],
         "y": [
          4,
          4,
          4,
          4,
          4,
          4,
          4,
          4,
          4,
          4,
          4,
          4,
          4,
          4,
          4,
          4,
          4,
          4,
          4,
          4,
          4,
          4,
          4,
          4,
          3,
          4,
          4,
          4,
          4,
          4,
          4,
          4,
          4,
          4,
          4,
          4,
          7,
          7,
          4,
          4,
          4,
          4,
          4,
          4,
          4,
          4,
          5,
          5,
          5,
          5,
          5,
          5,
          6,
          5,
          6,
          6,
          7,
          7,
          7,
          7,
          3,
          3,
          3,
          3,
          3,
          3,
          3,
          3,
          3,
          3,
          3,
          3,
          3,
          3,
          3,
          3,
          5,
          2,
          2,
          8,
          8,
          5,
          5,
          9,
          9,
          9,
          9,
          9,
          9,
          9,
          9,
          9,
          7,
          5,
          5,
          10,
          7.419354838709677,
          5,
          5,
          10
         ],
         "yaxis": "y2"
        },
        {
         "mode": "lines",
         "name": "category_best_salary_accounts_helmycash",
         "type": "scatter",
         "x": [
          "2021-12-01",
          "2021-12-01",
          "2021-12-01",
          "2021-12-01",
          "2022-01-01",
          "2022-01-01",
          "2022-01-01",
          "2022-01-01",
          "2022-02-01",
          "2022-02-01",
          "2022-02-01",
          "2022-02-01",
          "2022-03-01",
          "2022-03-01",
          "2022-03-01",
          "2022-03-01",
          "2022-04-01",
          "2022-04-01",
          "2022-04-01",
          "2022-04-01",
          "2022-05-01",
          "2022-05-01",
          "2022-05-01",
          "2022-05-01",
          "2022-06-01",
          "2022-06-01",
          "2022-06-01",
          "2022-06-01",
          "2022-07-01",
          "2022-07-01",
          "2022-07-01",
          "2022-07-01",
          "2022-08-01",
          "2022-08-01",
          "2022-08-01",
          "2022-08-01",
          "2022-09-01",
          "2022-09-01",
          "2022-09-01",
          "2022-09-01",
          "2022-10-01",
          "2022-10-01",
          "2022-10-01",
          "2022-10-01",
          "2022-11-01",
          "2022-11-01",
          "2022-11-01",
          "2022-11-01",
          "2022-12-01",
          "2022-12-01",
          "2022-12-01",
          "2022-12-01",
          "2023-01-01",
          "2023-01-01",
          "2023-01-01",
          "2023-01-01",
          "2023-02-01",
          "2023-02-01",
          "2023-02-01",
          "2023-02-01",
          "2023-03-01",
          "2023-03-01",
          "2023-03-01",
          "2023-03-01",
          "2023-04-01",
          "2023-04-01",
          "2023-04-01",
          "2023-04-01",
          "2023-05-01",
          "2023-05-01",
          "2023-05-01",
          "2023-05-01",
          "2023-06-01",
          "2023-06-01",
          "2023-06-01",
          "2023-06-01",
          "2023-07-01",
          "2023-07-01",
          "2023-07-01",
          "2023-07-01",
          "2023-08-01",
          "2023-08-01",
          "2023-08-01",
          "2023-08-01",
          "2023-09-01",
          "2023-09-01",
          "2023-09-01",
          "2023-09-01",
          "2023-10-01",
          "2023-10-01",
          "2023-10-01",
          "2023-10-01",
          "2023-11-01",
          "2023-11-01",
          "2023-11-01",
          "2023-11-01",
          "2023-12-01",
          "2023-12-01",
          "2023-12-01",
          "2023-12-01"
         ],
         "y": [
          0,
          1,
          0,
          0,
          0,
          1,
          0,
          0,
          0,
          1,
          0,
          0,
          0,
          1,
          0,
          0,
          0,
          1,
          0,
          0,
          0,
          1,
          0,
          0,
          0,
          1,
          0,
          0,
          0,
          1,
          0,
          0,
          0,
          1,
          0,
          0,
          0,
          1,
          0,
          0,
          0,
          1,
          0,
          0,
          0,
          1,
          0,
          0,
          0,
          1,
          0,
          0,
          0,
          1,
          0,
          0,
          0,
          1,
          0,
          0,
          0,
          1,
          0,
          0,
          0,
          1,
          0,
          0,
          0,
          1,
          0,
          0,
          0,
          1,
          0,
          0,
          0,
          1,
          0,
          0,
          0,
          1,
          0,
          0,
          0,
          1,
          0,
          0,
          0,
          1,
          0,
          0,
          0,
          1,
          0,
          0,
          0,
          1,
          0,
          0
         ],
         "yaxis": "y2"
        },
        {
         "mode": "lines",
         "name": "category_best_savings_accounts_helpmycash",
         "type": "scatter",
         "x": [
          "2021-12-01",
          "2021-12-01",
          "2021-12-01",
          "2021-12-01",
          "2022-01-01",
          "2022-01-01",
          "2022-01-01",
          "2022-01-01",
          "2022-02-01",
          "2022-02-01",
          "2022-02-01",
          "2022-02-01",
          "2022-03-01",
          "2022-03-01",
          "2022-03-01",
          "2022-03-01",
          "2022-04-01",
          "2022-04-01",
          "2022-04-01",
          "2022-04-01",
          "2022-05-01",
          "2022-05-01",
          "2022-05-01",
          "2022-05-01",
          "2022-06-01",
          "2022-06-01",
          "2022-06-01",
          "2022-06-01",
          "2022-07-01",
          "2022-07-01",
          "2022-07-01",
          "2022-07-01",
          "2022-08-01",
          "2022-08-01",
          "2022-08-01",
          "2022-08-01",
          "2022-09-01",
          "2022-09-01",
          "2022-09-01",
          "2022-09-01",
          "2022-10-01",
          "2022-10-01",
          "2022-10-01",
          "2022-10-01",
          "2022-11-01",
          "2022-11-01",
          "2022-11-01",
          "2022-11-01",
          "2022-12-01",
          "2022-12-01",
          "2022-12-01",
          "2022-12-01",
          "2023-01-01",
          "2023-01-01",
          "2023-01-01",
          "2023-01-01",
          "2023-02-01",
          "2023-02-01",
          "2023-02-01",
          "2023-02-01",
          "2023-03-01",
          "2023-03-01",
          "2023-03-01",
          "2023-03-01",
          "2023-04-01",
          "2023-04-01",
          "2023-04-01",
          "2023-04-01",
          "2023-05-01",
          "2023-05-01",
          "2023-05-01",
          "2023-05-01",
          "2023-06-01",
          "2023-06-01",
          "2023-06-01",
          "2023-06-01",
          "2023-07-01",
          "2023-07-01",
          "2023-07-01",
          "2023-07-01",
          "2023-08-01",
          "2023-08-01",
          "2023-08-01",
          "2023-08-01",
          "2023-09-01",
          "2023-09-01",
          "2023-09-01",
          "2023-09-01",
          "2023-10-01",
          "2023-10-01",
          "2023-10-01",
          "2023-10-01",
          "2023-11-01",
          "2023-11-01",
          "2023-11-01",
          "2023-11-01",
          "2023-12-01",
          "2023-12-01",
          "2023-12-01",
          "2023-12-01"
         ],
         "y": [
          0,
          0,
          1,
          1,
          0,
          0,
          1,
          1,
          0,
          0,
          1,
          1,
          0,
          0,
          1,
          1,
          0,
          0,
          1,
          1,
          0,
          0,
          1,
          1,
          0,
          0,
          1,
          1,
          0,
          0,
          1,
          1,
          0,
          0,
          1,
          1,
          0,
          0,
          1,
          1,
          0,
          0,
          1,
          1,
          0,
          0,
          1,
          1,
          0,
          0,
          1,
          1,
          0,
          0,
          1,
          1,
          0,
          0,
          1,
          1,
          0,
          0,
          1,
          1,
          0,
          0,
          1,
          1,
          0,
          0,
          1,
          1,
          0,
          0,
          1,
          1,
          0,
          0,
          1,
          1,
          0,
          0,
          1,
          1,
          0,
          0,
          1,
          1,
          0,
          0,
          1,
          1,
          0,
          0,
          1,
          1,
          0,
          0,
          1,
          1
         ],
         "yaxis": "y2"
        },
        {
         "mode": "lines",
         "name": "incentive",
         "type": "scatter",
         "x": [
          "2021-12-01",
          "2021-12-01",
          "2021-12-01",
          "2021-12-01",
          "2022-01-01",
          "2022-01-01",
          "2022-01-01",
          "2022-01-01",
          "2022-02-01",
          "2022-02-01",
          "2022-02-01",
          "2022-02-01",
          "2022-03-01",
          "2022-03-01",
          "2022-03-01",
          "2022-03-01",
          "2022-04-01",
          "2022-04-01",
          "2022-04-01",
          "2022-04-01",
          "2022-05-01",
          "2022-05-01",
          "2022-05-01",
          "2022-05-01",
          "2022-06-01",
          "2022-06-01",
          "2022-06-01",
          "2022-06-01",
          "2022-07-01",
          "2022-07-01",
          "2022-07-01",
          "2022-07-01",
          "2022-08-01",
          "2022-08-01",
          "2022-08-01",
          "2022-08-01",
          "2022-09-01",
          "2022-09-01",
          "2022-09-01",
          "2022-09-01",
          "2022-10-01",
          "2022-10-01",
          "2022-10-01",
          "2022-10-01",
          "2022-11-01",
          "2022-11-01",
          "2022-11-01",
          "2022-11-01",
          "2022-12-01",
          "2022-12-01",
          "2022-12-01",
          "2022-12-01",
          "2023-01-01",
          "2023-01-01",
          "2023-01-01",
          "2023-01-01",
          "2023-02-01",
          "2023-02-01",
          "2023-02-01",
          "2023-02-01",
          "2023-03-01",
          "2023-03-01",
          "2023-03-01",
          "2023-03-01",
          "2023-04-01",
          "2023-04-01",
          "2023-04-01",
          "2023-04-01",
          "2023-05-01",
          "2023-05-01",
          "2023-05-01",
          "2023-05-01",
          "2023-06-01",
          "2023-06-01",
          "2023-06-01",
          "2023-06-01",
          "2023-07-01",
          "2023-07-01",
          "2023-07-01",
          "2023-07-01",
          "2023-08-01",
          "2023-08-01",
          "2023-08-01",
          "2023-08-01",
          "2023-09-01",
          "2023-09-01",
          "2023-09-01",
          "2023-09-01",
          "2023-10-01",
          "2023-10-01",
          "2023-10-01",
          "2023-10-01",
          "2023-11-01",
          "2023-11-01",
          "2023-11-01",
          "2023-11-01",
          "2023-12-01",
          "2023-12-01",
          "2023-12-01",
          "2023-12-01"
         ],
         "y": [
          0,
          0,
          0,
          0,
          0,
          0,
          0,
          0,
          0,
          0,
          0,
          0,
          0,
          0,
          0,
          0,
          0,
          0,
          0,
          0,
          0,
          0,
          0,
          0,
          0,
          0,
          0,
          0,
          0,
          0,
          0,
          0,
          0,
          0,
          0,
          0,
          0,
          0,
          0,
          0,
          0,
          0,
          0,
          0,
          0,
          0,
          0,
          0,
          0,
          0,
          0,
          0,
          0,
          0,
          0,
          0,
          0,
          0,
          0,
          0,
          0,
          0,
          0,
          0,
          0,
          0,
          0,
          0,
          0,
          0,
          0,
          0,
          0,
          0,
          0,
          0,
          0,
          0,
          0,
          0,
          0,
          0,
          0,
          0,
          0,
          0,
          0,
          0,
          0,
          0,
          0,
          0,
          0,
          0,
          0,
          0,
          0,
          0,
          0,
          0
         ],
         "yaxis": "y2"
        },
        {
         "mode": "lines",
         "name": "apr",
         "type": "scatter",
         "x": [
          "2021-12-01",
          "2021-12-01",
          "2021-12-01",
          "2021-12-01",
          "2022-01-01",
          "2022-01-01",
          "2022-01-01",
          "2022-01-01",
          "2022-02-01",
          "2022-02-01",
          "2022-02-01",
          "2022-02-01",
          "2022-03-01",
          "2022-03-01",
          "2022-03-01",
          "2022-03-01",
          "2022-04-01",
          "2022-04-01",
          "2022-04-01",
          "2022-04-01",
          "2022-05-01",
          "2022-05-01",
          "2022-05-01",
          "2022-05-01",
          "2022-06-01",
          "2022-06-01",
          "2022-06-01",
          "2022-06-01",
          "2022-07-01",
          "2022-07-01",
          "2022-07-01",
          "2022-07-01",
          "2022-08-01",
          "2022-08-01",
          "2022-08-01",
          "2022-08-01",
          "2022-09-01",
          "2022-09-01",
          "2022-09-01",
          "2022-09-01",
          "2022-10-01",
          "2022-10-01",
          "2022-10-01",
          "2022-10-01",
          "2022-11-01",
          "2022-11-01",
          "2022-11-01",
          "2022-11-01",
          "2022-12-01",
          "2022-12-01",
          "2022-12-01",
          "2022-12-01",
          "2023-01-01",
          "2023-01-01",
          "2023-01-01",
          "2023-01-01",
          "2023-02-01",
          "2023-02-01",
          "2023-02-01",
          "2023-02-01",
          "2023-03-01",
          "2023-03-01",
          "2023-03-01",
          "2023-03-01",
          "2023-04-01",
          "2023-04-01",
          "2023-04-01",
          "2023-04-01",
          "2023-05-01",
          "2023-05-01",
          "2023-05-01",
          "2023-05-01",
          "2023-06-01",
          "2023-06-01",
          "2023-06-01",
          "2023-06-01",
          "2023-07-01",
          "2023-07-01",
          "2023-07-01",
          "2023-07-01",
          "2023-08-01",
          "2023-08-01",
          "2023-08-01",
          "2023-08-01",
          "2023-09-01",
          "2023-09-01",
          "2023-09-01",
          "2023-09-01",
          "2023-10-01",
          "2023-10-01",
          "2023-10-01",
          "2023-10-01",
          "2023-11-01",
          "2023-11-01",
          "2023-11-01",
          "2023-11-01",
          "2023-12-01",
          "2023-12-01",
          "2023-12-01",
          "2023-12-01"
         ],
         "y": [
          0,
          0,
          0,
          0,
          0,
          0,
          0,
          0,
          0,
          0,
          0,
          0,
          0,
          0,
          0,
          0,
          0,
          0,
          0,
          0,
          0,
          0,
          0,
          0,
          0,
          0,
          0,
          0,
          0,
          0,
          0,
          0,
          0,
          0,
          0,
          0,
          0,
          0,
          0,
          0,
          0,
          0,
          0,
          0,
          0,
          0,
          0,
          0,
          0,
          0,
          0,
          0,
          0,
          0,
          0,
          0,
          0,
          0,
          0,
          0,
          0,
          0,
          0,
          0,
          0,
          0,
          0,
          0,
          0,
          0,
          0,
          0,
          0,
          0,
          0,
          0,
          0,
          0,
          0,
          0,
          0,
          0,
          0,
          0,
          0,
          0,
          0,
          0,
          0,
          0,
          0,
          0,
          0,
          0,
          0,
          0,
          0,
          0,
          0,
          0
         ],
         "yaxis": "y2"
        },
        {
         "mode": "lines",
         "name": "mentions",
         "type": "scatter",
         "x": [
          "2021-12-01",
          "2021-12-01",
          "2021-12-01",
          "2021-12-01",
          "2022-01-01",
          "2022-01-01",
          "2022-01-01",
          "2022-01-01",
          "2022-02-01",
          "2022-02-01",
          "2022-02-01",
          "2022-02-01",
          "2022-03-01",
          "2022-03-01",
          "2022-03-01",
          "2022-03-01",
          "2022-04-01",
          "2022-04-01",
          "2022-04-01",
          "2022-04-01",
          "2022-05-01",
          "2022-05-01",
          "2022-05-01",
          "2022-05-01",
          "2022-06-01",
          "2022-06-01",
          "2022-06-01",
          "2022-06-01",
          "2022-07-01",
          "2022-07-01",
          "2022-07-01",
          "2022-07-01",
          "2022-08-01",
          "2022-08-01",
          "2022-08-01",
          "2022-08-01",
          "2022-09-01",
          "2022-09-01",
          "2022-09-01",
          "2022-09-01",
          "2022-10-01",
          "2022-10-01",
          "2022-10-01",
          "2022-10-01",
          "2022-11-01",
          "2022-11-01",
          "2022-11-01",
          "2022-11-01",
          "2022-12-01",
          "2022-12-01",
          "2022-12-01",
          "2022-12-01",
          "2023-01-01",
          "2023-01-01",
          "2023-01-01",
          "2023-01-01",
          "2023-02-01",
          "2023-02-01",
          "2023-02-01",
          "2023-02-01",
          "2023-03-01",
          "2023-03-01",
          "2023-03-01",
          "2023-03-01",
          "2023-04-01",
          "2023-04-01",
          "2023-04-01",
          "2023-04-01",
          "2023-05-01",
          "2023-05-01",
          "2023-05-01",
          "2023-05-01",
          "2023-06-01",
          "2023-06-01",
          "2023-06-01",
          "2023-06-01",
          "2023-07-01",
          "2023-07-01",
          "2023-07-01",
          "2023-07-01",
          "2023-08-01",
          "2023-08-01",
          "2023-08-01",
          "2023-08-01",
          "2023-09-01",
          "2023-09-01",
          "2023-09-01",
          "2023-09-01",
          "2023-10-01",
          "2023-10-01",
          "2023-10-01",
          "2023-10-01",
          "2023-11-01",
          "2023-11-01",
          "2023-11-01",
          "2023-11-01",
          "2023-12-01",
          "2023-12-01",
          "2023-12-01",
          "2023-12-01"
         ],
         "y": [
          1,
          1,
          1,
          1,
          0,
          0,
          0,
          0,
          1,
          1,
          1,
          1,
          2,
          2,
          2,
          2,
          2,
          2,
          2,
          2,
          1,
          1,
          1,
          1,
          0,
          0,
          0,
          0,
          1,
          1,
          1,
          1,
          1,
          1,
          1,
          1,
          0,
          0,
          0,
          0,
          1,
          1,
          1,
          1,
          1,
          1,
          1,
          1,
          0,
          0,
          0,
          0,
          0,
          0,
          0,
          0,
          0,
          0,
          0,
          0,
          4,
          4,
          4,
          4,
          7,
          7,
          7,
          7,
          0,
          0,
          0,
          0,
          3,
          3,
          3,
          3,
          1,
          1,
          1,
          1,
          0,
          0,
          0,
          0,
          1,
          1,
          1,
          1,
          3,
          3,
          3,
          3,
          1,
          1,
          1,
          1,
          2,
          2,
          2,
          2
         ],
         "yaxis": "y2"
        }
       ],
       "layout": {
        "legend": {
         "x": 1.1,
         "y": 1
        },
        "template": {
         "data": {
          "bar": [
           {
            "error_x": {
             "color": "#2a3f5f"
            },
            "error_y": {
             "color": "#2a3f5f"
            },
            "marker": {
             "line": {
              "color": "#E5ECF6",
              "width": 0.5
             },
             "pattern": {
              "fillmode": "overlay",
              "size": 10,
              "solidity": 0.2
             }
            },
            "type": "bar"
           }
          ],
          "barpolar": [
           {
            "marker": {
             "line": {
              "color": "#E5ECF6",
              "width": 0.5
             },
             "pattern": {
              "fillmode": "overlay",
              "size": 10,
              "solidity": 0.2
             }
            },
            "type": "barpolar"
           }
          ],
          "carpet": [
           {
            "aaxis": {
             "endlinecolor": "#2a3f5f",
             "gridcolor": "white",
             "linecolor": "white",
             "minorgridcolor": "white",
             "startlinecolor": "#2a3f5f"
            },
            "baxis": {
             "endlinecolor": "#2a3f5f",
             "gridcolor": "white",
             "linecolor": "white",
             "minorgridcolor": "white",
             "startlinecolor": "#2a3f5f"
            },
            "type": "carpet"
           }
          ],
          "choropleth": [
           {
            "colorbar": {
             "outlinewidth": 0,
             "ticks": ""
            },
            "type": "choropleth"
           }
          ],
          "contour": [
           {
            "colorbar": {
             "outlinewidth": 0,
             "ticks": ""
            },
            "colorscale": [
             [
              0,
              "#0d0887"
             ],
             [
              0.1111111111111111,
              "#46039f"
             ],
             [
              0.2222222222222222,
              "#7201a8"
             ],
             [
              0.3333333333333333,
              "#9c179e"
             ],
             [
              0.4444444444444444,
              "#bd3786"
             ],
             [
              0.5555555555555556,
              "#d8576b"
             ],
             [
              0.6666666666666666,
              "#ed7953"
             ],
             [
              0.7777777777777778,
              "#fb9f3a"
             ],
             [
              0.8888888888888888,
              "#fdca26"
             ],
             [
              1,
              "#f0f921"
             ]
            ],
            "type": "contour"
           }
          ],
          "contourcarpet": [
           {
            "colorbar": {
             "outlinewidth": 0,
             "ticks": ""
            },
            "type": "contourcarpet"
           }
          ],
          "heatmap": [
           {
            "colorbar": {
             "outlinewidth": 0,
             "ticks": ""
            },
            "colorscale": [
             [
              0,
              "#0d0887"
             ],
             [
              0.1111111111111111,
              "#46039f"
             ],
             [
              0.2222222222222222,
              "#7201a8"
             ],
             [
              0.3333333333333333,
              "#9c179e"
             ],
             [
              0.4444444444444444,
              "#bd3786"
             ],
             [
              0.5555555555555556,
              "#d8576b"
             ],
             [
              0.6666666666666666,
              "#ed7953"
             ],
             [
              0.7777777777777778,
              "#fb9f3a"
             ],
             [
              0.8888888888888888,
              "#fdca26"
             ],
             [
              1,
              "#f0f921"
             ]
            ],
            "type": "heatmap"
           }
          ],
          "heatmapgl": [
           {
            "colorbar": {
             "outlinewidth": 0,
             "ticks": ""
            },
            "colorscale": [
             [
              0,
              "#0d0887"
             ],
             [
              0.1111111111111111,
              "#46039f"
             ],
             [
              0.2222222222222222,
              "#7201a8"
             ],
             [
              0.3333333333333333,
              "#9c179e"
             ],
             [
              0.4444444444444444,
              "#bd3786"
             ],
             [
              0.5555555555555556,
              "#d8576b"
             ],
             [
              0.6666666666666666,
              "#ed7953"
             ],
             [
              0.7777777777777778,
              "#fb9f3a"
             ],
             [
              0.8888888888888888,
              "#fdca26"
             ],
             [
              1,
              "#f0f921"
             ]
            ],
            "type": "heatmapgl"
           }
          ],
          "histogram": [
           {
            "marker": {
             "pattern": {
              "fillmode": "overlay",
              "size": 10,
              "solidity": 0.2
             }
            },
            "type": "histogram"
           }
          ],
          "histogram2d": [
           {
            "colorbar": {
             "outlinewidth": 0,
             "ticks": ""
            },
            "colorscale": [
             [
              0,
              "#0d0887"
             ],
             [
              0.1111111111111111,
              "#46039f"
             ],
             [
              0.2222222222222222,
              "#7201a8"
             ],
             [
              0.3333333333333333,
              "#9c179e"
             ],
             [
              0.4444444444444444,
              "#bd3786"
             ],
             [
              0.5555555555555556,
              "#d8576b"
             ],
             [
              0.6666666666666666,
              "#ed7953"
             ],
             [
              0.7777777777777778,
              "#fb9f3a"
             ],
             [
              0.8888888888888888,
              "#fdca26"
             ],
             [
              1,
              "#f0f921"
             ]
            ],
            "type": "histogram2d"
           }
          ],
          "histogram2dcontour": [
           {
            "colorbar": {
             "outlinewidth": 0,
             "ticks": ""
            },
            "colorscale": [
             [
              0,
              "#0d0887"
             ],
             [
              0.1111111111111111,
              "#46039f"
             ],
             [
              0.2222222222222222,
              "#7201a8"
             ],
             [
              0.3333333333333333,
              "#9c179e"
             ],
             [
              0.4444444444444444,
              "#bd3786"
             ],
             [
              0.5555555555555556,
              "#d8576b"
             ],
             [
              0.6666666666666666,
              "#ed7953"
             ],
             [
              0.7777777777777778,
              "#fb9f3a"
             ],
             [
              0.8888888888888888,
              "#fdca26"
             ],
             [
              1,
              "#f0f921"
             ]
            ],
            "type": "histogram2dcontour"
           }
          ],
          "mesh3d": [
           {
            "colorbar": {
             "outlinewidth": 0,
             "ticks": ""
            },
            "type": "mesh3d"
           }
          ],
          "parcoords": [
           {
            "line": {
             "colorbar": {
              "outlinewidth": 0,
              "ticks": ""
             }
            },
            "type": "parcoords"
           }
          ],
          "pie": [
           {
            "automargin": true,
            "type": "pie"
           }
          ],
          "scatter": [
           {
            "fillpattern": {
             "fillmode": "overlay",
             "size": 10,
             "solidity": 0.2
            },
            "type": "scatter"
           }
          ],
          "scatter3d": [
           {
            "line": {
             "colorbar": {
              "outlinewidth": 0,
              "ticks": ""
             }
            },
            "marker": {
             "colorbar": {
              "outlinewidth": 0,
              "ticks": ""
             }
            },
            "type": "scatter3d"
           }
          ],
          "scattercarpet": [
           {
            "marker": {
             "colorbar": {
              "outlinewidth": 0,
              "ticks": ""
             }
            },
            "type": "scattercarpet"
           }
          ],
          "scattergeo": [
           {
            "marker": {
             "colorbar": {
              "outlinewidth": 0,
              "ticks": ""
             }
            },
            "type": "scattergeo"
           }
          ],
          "scattergl": [
           {
            "marker": {
             "colorbar": {
              "outlinewidth": 0,
              "ticks": ""
             }
            },
            "type": "scattergl"
           }
          ],
          "scattermapbox": [
           {
            "marker": {
             "colorbar": {
              "outlinewidth": 0,
              "ticks": ""
             }
            },
            "type": "scattermapbox"
           }
          ],
          "scatterpolar": [
           {
            "marker": {
             "colorbar": {
              "outlinewidth": 0,
              "ticks": ""
             }
            },
            "type": "scatterpolar"
           }
          ],
          "scatterpolargl": [
           {
            "marker": {
             "colorbar": {
              "outlinewidth": 0,
              "ticks": ""
             }
            },
            "type": "scatterpolargl"
           }
          ],
          "scatterternary": [
           {
            "marker": {
             "colorbar": {
              "outlinewidth": 0,
              "ticks": ""
             }
            },
            "type": "scatterternary"
           }
          ],
          "surface": [
           {
            "colorbar": {
             "outlinewidth": 0,
             "ticks": ""
            },
            "colorscale": [
             [
              0,
              "#0d0887"
             ],
             [
              0.1111111111111111,
              "#46039f"
             ],
             [
              0.2222222222222222,
              "#7201a8"
             ],
             [
              0.3333333333333333,
              "#9c179e"
             ],
             [
              0.4444444444444444,
              "#bd3786"
             ],
             [
              0.5555555555555556,
              "#d8576b"
             ],
             [
              0.6666666666666666,
              "#ed7953"
             ],
             [
              0.7777777777777778,
              "#fb9f3a"
             ],
             [
              0.8888888888888888,
              "#fdca26"
             ],
             [
              1,
              "#f0f921"
             ]
            ],
            "type": "surface"
           }
          ],
          "table": [
           {
            "cells": {
             "fill": {
              "color": "#EBF0F8"
             },
             "line": {
              "color": "white"
             }
            },
            "header": {
             "fill": {
              "color": "#C8D4E3"
             },
             "line": {
              "color": "white"
             }
            },
            "type": "table"
           }
          ]
         },
         "layout": {
          "annotationdefaults": {
           "arrowcolor": "#2a3f5f",
           "arrowhead": 0,
           "arrowwidth": 1
          },
          "autotypenumbers": "strict",
          "coloraxis": {
           "colorbar": {
            "outlinewidth": 0,
            "ticks": ""
           }
          },
          "colorscale": {
           "diverging": [
            [
             0,
             "#8e0152"
            ],
            [
             0.1,
             "#c51b7d"
            ],
            [
             0.2,
             "#de77ae"
            ],
            [
             0.3,
             "#f1b6da"
            ],
            [
             0.4,
             "#fde0ef"
            ],
            [
             0.5,
             "#f7f7f7"
            ],
            [
             0.6,
             "#e6f5d0"
            ],
            [
             0.7,
             "#b8e186"
            ],
            [
             0.8,
             "#7fbc41"
            ],
            [
             0.9,
             "#4d9221"
            ],
            [
             1,
             "#276419"
            ]
           ],
           "sequential": [
            [
             0,
             "#0d0887"
            ],
            [
             0.1111111111111111,
             "#46039f"
            ],
            [
             0.2222222222222222,
             "#7201a8"
            ],
            [
             0.3333333333333333,
             "#9c179e"
            ],
            [
             0.4444444444444444,
             "#bd3786"
            ],
            [
             0.5555555555555556,
             "#d8576b"
            ],
            [
             0.6666666666666666,
             "#ed7953"
            ],
            [
             0.7777777777777778,
             "#fb9f3a"
            ],
            [
             0.8888888888888888,
             "#fdca26"
            ],
            [
             1,
             "#f0f921"
            ]
           ],
           "sequentialminus": [
            [
             0,
             "#0d0887"
            ],
            [
             0.1111111111111111,
             "#46039f"
            ],
            [
             0.2222222222222222,
             "#7201a8"
            ],
            [
             0.3333333333333333,
             "#9c179e"
            ],
            [
             0.4444444444444444,
             "#bd3786"
            ],
            [
             0.5555555555555556,
             "#d8576b"
            ],
            [
             0.6666666666666666,
             "#ed7953"
            ],
            [
             0.7777777777777778,
             "#fb9f3a"
            ],
            [
             0.8888888888888888,
             "#fdca26"
            ],
            [
             1,
             "#f0f921"
            ]
           ]
          },
          "colorway": [
           "#636efa",
           "#EF553B",
           "#00cc96",
           "#ab63fa",
           "#FFA15A",
           "#19d3f3",
           "#FF6692",
           "#B6E880",
           "#FF97FF",
           "#FECB52"
          ],
          "font": {
           "color": "#2a3f5f"
          },
          "geo": {
           "bgcolor": "white",
           "lakecolor": "white",
           "landcolor": "#E5ECF6",
           "showlakes": true,
           "showland": true,
           "subunitcolor": "white"
          },
          "hoverlabel": {
           "align": "left"
          },
          "hovermode": "closest",
          "mapbox": {
           "style": "light"
          },
          "paper_bgcolor": "white",
          "plot_bgcolor": "#E5ECF6",
          "polar": {
           "angularaxis": {
            "gridcolor": "white",
            "linecolor": "white",
            "ticks": ""
           },
           "bgcolor": "#E5ECF6",
           "radialaxis": {
            "gridcolor": "white",
            "linecolor": "white",
            "ticks": ""
           }
          },
          "scene": {
           "xaxis": {
            "backgroundcolor": "#E5ECF6",
            "gridcolor": "white",
            "gridwidth": 2,
            "linecolor": "white",
            "showbackground": true,
            "ticks": "",
            "zerolinecolor": "white"
           },
           "yaxis": {
            "backgroundcolor": "#E5ECF6",
            "gridcolor": "white",
            "gridwidth": 2,
            "linecolor": "white",
            "showbackground": true,
            "ticks": "",
            "zerolinecolor": "white"
           },
           "zaxis": {
            "backgroundcolor": "#E5ECF6",
            "gridcolor": "white",
            "gridwidth": 2,
            "linecolor": "white",
            "showbackground": true,
            "ticks": "",
            "zerolinecolor": "white"
           }
          },
          "shapedefaults": {
           "line": {
            "color": "#2a3f5f"
           }
          },
          "ternary": {
           "aaxis": {
            "gridcolor": "white",
            "linecolor": "white",
            "ticks": ""
           },
           "baxis": {
            "gridcolor": "white",
            "linecolor": "white",
            "ticks": ""
           },
           "bgcolor": "#E5ECF6",
           "caxis": {
            "gridcolor": "white",
            "linecolor": "white",
            "ticks": ""
           }
          },
          "title": {
           "x": 0.05
          },
          "xaxis": {
           "automargin": true,
           "gridcolor": "white",
           "linecolor": "white",
           "ticks": "",
           "title": {
            "standoff": 15
           },
           "zerolinecolor": "white",
           "zerolinewidth": 2
          },
          "yaxis": {
           "automargin": true,
           "gridcolor": "white",
           "linecolor": "white",
           "ticks": "",
           "title": {
            "standoff": 15
           },
           "zerolinecolor": "white",
           "zerolinewidth": 2
          }
         }
        },
        "title": {
         "text": "evobanco Web Traffic and Independent Variables"
        },
        "xaxis": {
         "title": {
          "text": "Date"
         }
        },
        "yaxis": {
         "tickfont": {
          "color": "#000000"
         },
         "title": {
          "font": {
           "color": "#000000"
          },
          "text": "Web Traffic"
         }
        },
        "yaxis2": {
         "overlaying": "y",
         "side": "right",
         "tickfont": {
          "color": "#000000"
         },
         "title": {
          "font": {
           "color": "#000000"
          },
          "text": "Independent Variables"
         }
        }
       }
      }
     },
     "metadata": {},
     "output_type": "display_data"
    },
    {
     "data": {
      "application/vnd.plotly.v1+json": {
       "config": {
        "plotlyServerURL": "https://plot.ly"
       },
       "data": [
        {
         "mode": "lines",
         "name": "web_traffic",
         "type": "scatter",
         "x": [
          "2021-12-01",
          "2021-12-01",
          "2022-01-01",
          "2022-01-01",
          "2022-02-01",
          "2022-02-01",
          "2022-03-01",
          "2022-03-01",
          "2022-04-01",
          "2022-04-01",
          "2022-05-01",
          "2022-05-01",
          "2022-06-01",
          "2022-06-01",
          "2022-07-01",
          "2022-07-01",
          "2022-08-01",
          "2022-08-01",
          "2022-09-01",
          "2022-09-01",
          "2022-10-01",
          "2022-10-01",
          "2022-11-01",
          "2022-11-01",
          "2022-12-01",
          "2022-12-01",
          "2023-01-01",
          "2023-01-01",
          "2023-02-01",
          "2023-02-01",
          "2023-03-01",
          "2023-03-01",
          "2023-04-01",
          "2023-04-01",
          "2023-05-01",
          "2023-05-01",
          "2023-06-01",
          "2023-06-01",
          "2023-07-01",
          "2023-07-01",
          "2023-08-01",
          "2023-08-01",
          "2023-09-01",
          "2023-09-01",
          "2023-10-01",
          "2023-10-01",
          "2023-11-01",
          "2023-11-01",
          "2023-12-01",
          "2023-12-01"
         ],
         "y": [
          22325.885970519714,
          22325.885970519714,
          28331.2450436668,
          28331.2450436668,
          23798.819170009858,
          23798.819170009858,
          24808.561729103767,
          24808.561729103767,
          24739.75872891152,
          24739.75872891152,
          37041.514189187285,
          37041.514189187285,
          35471.86559895081,
          35471.86559895081,
          35951.67483036381,
          35951.67483036381,
          40746.60043404907,
          40746.60043404907,
          41933.05791457712,
          41933.05791457712,
          64291.32232392245,
          64291.32232392245,
          53373.40089487209,
          53373.40089487209,
          30042.073993923863,
          30042.073993923863,
          55681.19440177619,
          55681.19440177619,
          60995.204257847,
          60995.204257847,
          54901.09401612448,
          54901.09401612448,
          48906.0560246578,
          48906.0560246578,
          41976.804616542446,
          41976.804616542446,
          30059.299366989188,
          30059.299366989188,
          45095.50277125332,
          45095.50277125332,
          34290.16042543628,
          34290.16042543628,
          40388.73782070144,
          40388.73782070144,
          36636.70663343732,
          36636.70663343732,
          35387.63013874749,
          35387.63013874749,
          29101.697517262797,
          29101.697517262797
         ],
         "yaxis": "y"
        },
        {
         "mode": "lines",
         "name": "cross_visitation",
         "type": "scatter",
         "x": [
          "2021-12-01",
          "2021-12-01",
          "2022-01-01",
          "2022-01-01",
          "2022-02-01",
          "2022-02-01",
          "2022-03-01",
          "2022-03-01",
          "2022-04-01",
          "2022-04-01",
          "2022-05-01",
          "2022-05-01",
          "2022-06-01",
          "2022-06-01",
          "2022-07-01",
          "2022-07-01",
          "2022-08-01",
          "2022-08-01",
          "2022-09-01",
          "2022-09-01",
          "2022-10-01",
          "2022-10-01",
          "2022-11-01",
          "2022-11-01",
          "2022-12-01",
          "2022-12-01",
          "2023-01-01",
          "2023-01-01",
          "2023-02-01",
          "2023-02-01",
          "2023-03-01",
          "2023-03-01",
          "2023-04-01",
          "2023-04-01",
          "2023-05-01",
          "2023-05-01",
          "2023-06-01",
          "2023-06-01",
          "2023-07-01",
          "2023-07-01",
          "2023-08-01",
          "2023-08-01",
          "2023-09-01",
          "2023-09-01",
          "2023-10-01",
          "2023-10-01",
          "2023-11-01",
          "2023-11-01",
          "2023-12-01",
          "2023-12-01"
         ],
         "y": [
          0.1169230788946151,
          0.1169230788946151,
          0.1074718534946441,
          0.1074718534946441,
          0.1192434206604957,
          0.1192434206604957,
          0.1127080172300338,
          0.1127080172300338,
          0.1285919547080993,
          0.1285919547080993,
          0.1144708395004272,
          0.1144708395004272,
          0.1117824763059616,
          0.1117824763059616,
          0.1186174377799034,
          0.1186174377799034,
          0.1324074119329452,
          0.1324074119329452,
          0.1248206570744514,
          0.1248206570744514,
          0.1255337297916412,
          0.1255337297916412,
          0.1309948712587356,
          0.1309948712587356,
          0.1421161890029907,
          0.1421161890029907,
          0.1215986385941505,
          0.1215986385941505,
          0.1237201392650604,
          0.1237201392650604,
          0.1638290286064148,
          0.1638290286064148,
          0.1221682876348495,
          0.1221682876348495,
          0.1084254160523414,
          0.1084254160523414,
          0.1266233772039413,
          0.1266233772039413,
          0.1291821599006652,
          0.1291821599006652,
          0.118913859128952,
          0.118913859128952,
          0.125496432185173,
          0.125496432185173,
          0.1263467222452163,
          0.1263467222452163,
          0.1212121248245239,
          0.1212121248245239,
          0.1591962873935699,
          0.1591962873935699
         ],
         "yaxis": "y2"
        },
        {
         "mode": "lines",
         "name": "rank",
         "type": "scatter",
         "x": [
          "2021-12-01",
          "2021-12-01",
          "2022-01-01",
          "2022-01-01",
          "2022-02-01",
          "2022-02-01",
          "2022-03-01",
          "2022-03-01",
          "2022-04-01",
          "2022-04-01",
          "2022-05-01",
          "2022-05-01",
          "2022-06-01",
          "2022-06-01",
          "2022-07-01",
          "2022-07-01",
          "2022-08-01",
          "2022-08-01",
          "2022-09-01",
          "2022-09-01",
          "2022-10-01",
          "2022-10-01",
          "2022-11-01",
          "2022-11-01",
          "2022-12-01",
          "2022-12-01",
          "2023-01-01",
          "2023-01-01",
          "2023-02-01",
          "2023-02-01",
          "2023-03-01",
          "2023-03-01",
          "2023-04-01",
          "2023-04-01",
          "2023-05-01",
          "2023-05-01",
          "2023-06-01",
          "2023-06-01",
          "2023-07-01",
          "2023-07-01",
          "2023-08-01",
          "2023-08-01",
          "2023-09-01",
          "2023-09-01",
          "2023-10-01",
          "2023-10-01",
          "2023-11-01",
          "2023-11-01",
          "2023-12-01",
          "2023-12-01"
         ],
         "y": [
          10,
          10,
          10,
          10,
          10,
          10,
          10,
          10,
          10,
          10,
          10,
          10,
          10,
          10,
          10,
          10,
          6,
          6,
          4,
          6,
          6,
          6,
          1,
          1,
          1,
          1,
          2,
          2,
          1,
          1,
          1,
          1,
          1,
          1,
          1,
          1,
          1,
          1,
          7,
          5,
          5,
          2,
          2,
          2,
          2,
          2,
          1,
          2,
          1.6129032258064515,
          2
         ],
         "yaxis": "y2"
        },
        {
         "mode": "lines",
         "name": "category_best_salary_accounts_helmycash",
         "type": "scatter",
         "x": [
          "2021-12-01",
          "2021-12-01",
          "2022-01-01",
          "2022-01-01",
          "2022-02-01",
          "2022-02-01",
          "2022-03-01",
          "2022-03-01",
          "2022-04-01",
          "2022-04-01",
          "2022-05-01",
          "2022-05-01",
          "2022-06-01",
          "2022-06-01",
          "2022-07-01",
          "2022-07-01",
          "2022-08-01",
          "2022-08-01",
          "2022-09-01",
          "2022-09-01",
          "2022-10-01",
          "2022-10-01",
          "2022-11-01",
          "2022-11-01",
          "2022-12-01",
          "2022-12-01",
          "2023-01-01",
          "2023-01-01",
          "2023-02-01",
          "2023-02-01",
          "2023-03-01",
          "2023-03-01",
          "2023-04-01",
          "2023-04-01",
          "2023-05-01",
          "2023-05-01",
          "2023-06-01",
          "2023-06-01",
          "2023-07-01",
          "2023-07-01",
          "2023-08-01",
          "2023-08-01",
          "2023-09-01",
          "2023-09-01",
          "2023-10-01",
          "2023-10-01",
          "2023-11-01",
          "2023-11-01",
          "2023-12-01",
          "2023-12-01"
         ],
         "y": [
          0,
          1,
          0,
          1,
          0,
          1,
          0,
          1,
          0,
          1,
          0,
          1,
          0,
          1,
          0,
          1,
          0,
          1,
          0,
          1,
          0,
          1,
          0,
          1,
          0,
          1,
          0,
          1,
          0,
          1,
          0,
          1,
          0,
          1,
          0,
          1,
          0,
          1,
          0,
          1,
          0,
          1,
          0,
          1,
          0,
          1,
          0,
          1,
          0,
          1
         ],
         "yaxis": "y2"
        },
        {
         "mode": "lines",
         "name": "category_best_savings_accounts_helpmycash",
         "type": "scatter",
         "x": [
          "2021-12-01",
          "2021-12-01",
          "2022-01-01",
          "2022-01-01",
          "2022-02-01",
          "2022-02-01",
          "2022-03-01",
          "2022-03-01",
          "2022-04-01",
          "2022-04-01",
          "2022-05-01",
          "2022-05-01",
          "2022-06-01",
          "2022-06-01",
          "2022-07-01",
          "2022-07-01",
          "2022-08-01",
          "2022-08-01",
          "2022-09-01",
          "2022-09-01",
          "2022-10-01",
          "2022-10-01",
          "2022-11-01",
          "2022-11-01",
          "2022-12-01",
          "2022-12-01",
          "2023-01-01",
          "2023-01-01",
          "2023-02-01",
          "2023-02-01",
          "2023-03-01",
          "2023-03-01",
          "2023-04-01",
          "2023-04-01",
          "2023-05-01",
          "2023-05-01",
          "2023-06-01",
          "2023-06-01",
          "2023-07-01",
          "2023-07-01",
          "2023-08-01",
          "2023-08-01",
          "2023-09-01",
          "2023-09-01",
          "2023-10-01",
          "2023-10-01",
          "2023-11-01",
          "2023-11-01",
          "2023-12-01",
          "2023-12-01"
         ],
         "y": [
          0,
          0,
          0,
          0,
          0,
          0,
          0,
          0,
          0,
          0,
          0,
          0,
          0,
          0,
          0,
          0,
          0,
          0,
          0,
          0,
          0,
          0,
          0,
          0,
          0,
          0,
          0,
          0,
          0,
          0,
          0,
          0,
          0,
          0,
          0,
          0,
          0,
          0,
          0,
          0,
          0,
          0,
          0,
          0,
          0,
          0,
          0,
          0,
          0,
          0
         ],
         "yaxis": "y2"
        },
        {
         "mode": "lines",
         "name": "incentive",
         "type": "scatter",
         "x": [
          "2021-12-01",
          "2021-12-01",
          "2022-01-01",
          "2022-01-01",
          "2022-02-01",
          "2022-02-01",
          "2022-03-01",
          "2022-03-01",
          "2022-04-01",
          "2022-04-01",
          "2022-05-01",
          "2022-05-01",
          "2022-06-01",
          "2022-06-01",
          "2022-07-01",
          "2022-07-01",
          "2022-08-01",
          "2022-08-01",
          "2022-09-01",
          "2022-09-01",
          "2022-10-01",
          "2022-10-01",
          "2022-11-01",
          "2022-11-01",
          "2022-12-01",
          "2022-12-01",
          "2023-01-01",
          "2023-01-01",
          "2023-02-01",
          "2023-02-01",
          "2023-03-01",
          "2023-03-01",
          "2023-04-01",
          "2023-04-01",
          "2023-05-01",
          "2023-05-01",
          "2023-06-01",
          "2023-06-01",
          "2023-07-01",
          "2023-07-01",
          "2023-08-01",
          "2023-08-01",
          "2023-09-01",
          "2023-09-01",
          "2023-10-01",
          "2023-10-01",
          "2023-11-01",
          "2023-11-01",
          "2023-12-01",
          "2023-12-01"
         ],
         "y": [
          0,
          0,
          0,
          0,
          0,
          0,
          0,
          0,
          0,
          0,
          0,
          0,
          0,
          0,
          0,
          0,
          0,
          0,
          0,
          0,
          0,
          0,
          0,
          0,
          0,
          0,
          0,
          0,
          0,
          0,
          0,
          0,
          0,
          0,
          0,
          0,
          0,
          0,
          0,
          0,
          0,
          0,
          0,
          0,
          0,
          0,
          0,
          0,
          0,
          0
         ],
         "yaxis": "y2"
        },
        {
         "mode": "lines",
         "name": "apr",
         "type": "scatter",
         "x": [
          "2021-12-01",
          "2021-12-01",
          "2022-01-01",
          "2022-01-01",
          "2022-02-01",
          "2022-02-01",
          "2022-03-01",
          "2022-03-01",
          "2022-04-01",
          "2022-04-01",
          "2022-05-01",
          "2022-05-01",
          "2022-06-01",
          "2022-06-01",
          "2022-07-01",
          "2022-07-01",
          "2022-08-01",
          "2022-08-01",
          "2022-09-01",
          "2022-09-01",
          "2022-10-01",
          "2022-10-01",
          "2022-11-01",
          "2022-11-01",
          "2022-12-01",
          "2022-12-01",
          "2023-01-01",
          "2023-01-01",
          "2023-02-01",
          "2023-02-01",
          "2023-03-01",
          "2023-03-01",
          "2023-04-01",
          "2023-04-01",
          "2023-05-01",
          "2023-05-01",
          "2023-06-01",
          "2023-06-01",
          "2023-07-01",
          "2023-07-01",
          "2023-08-01",
          "2023-08-01",
          "2023-09-01",
          "2023-09-01",
          "2023-10-01",
          "2023-10-01",
          "2023-11-01",
          "2023-11-01",
          "2023-12-01",
          "2023-12-01"
         ],
         "y": [
          0,
          0,
          0,
          0,
          0,
          0,
          0,
          0,
          0,
          0,
          0,
          0,
          0,
          0,
          0,
          0,
          0,
          0,
          0,
          0,
          0,
          0,
          0,
          0,
          0,
          0,
          0,
          0,
          0,
          0,
          0,
          0,
          0,
          0,
          0,
          0,
          0,
          0,
          0,
          0,
          0,
          0,
          0,
          0,
          0,
          0,
          0,
          0,
          0,
          0
         ],
         "yaxis": "y2"
        },
        {
         "mode": "lines",
         "name": "mentions",
         "type": "scatter",
         "x": [
          "2021-12-01",
          "2021-12-01",
          "2022-01-01",
          "2022-01-01",
          "2022-02-01",
          "2022-02-01",
          "2022-03-01",
          "2022-03-01",
          "2022-04-01",
          "2022-04-01",
          "2022-05-01",
          "2022-05-01",
          "2022-06-01",
          "2022-06-01",
          "2022-07-01",
          "2022-07-01",
          "2022-08-01",
          "2022-08-01",
          "2022-09-01",
          "2022-09-01",
          "2022-10-01",
          "2022-10-01",
          "2022-11-01",
          "2022-11-01",
          "2022-12-01",
          "2022-12-01",
          "2023-01-01",
          "2023-01-01",
          "2023-02-01",
          "2023-02-01",
          "2023-03-01",
          "2023-03-01",
          "2023-04-01",
          "2023-04-01",
          "2023-05-01",
          "2023-05-01",
          "2023-06-01",
          "2023-06-01",
          "2023-07-01",
          "2023-07-01",
          "2023-08-01",
          "2023-08-01",
          "2023-09-01",
          "2023-09-01",
          "2023-10-01",
          "2023-10-01",
          "2023-11-01",
          "2023-11-01",
          "2023-12-01",
          "2023-12-01"
         ],
         "y": [
          5,
          5,
          2,
          2,
          0,
          0,
          1,
          1,
          1,
          1,
          6,
          6,
          0,
          0,
          1,
          1,
          0,
          0,
          2,
          2,
          2,
          2,
          0,
          0,
          0,
          0,
          1,
          1,
          1,
          1,
          1,
          1,
          0,
          0,
          3,
          3,
          0,
          0,
          0,
          0,
          0,
          0,
          0,
          0,
          1,
          1,
          2,
          2,
          1,
          1
         ],
         "yaxis": "y2"
        }
       ],
       "layout": {
        "legend": {
         "x": 1.1,
         "y": 1
        },
        "template": {
         "data": {
          "bar": [
           {
            "error_x": {
             "color": "#2a3f5f"
            },
            "error_y": {
             "color": "#2a3f5f"
            },
            "marker": {
             "line": {
              "color": "#E5ECF6",
              "width": 0.5
             },
             "pattern": {
              "fillmode": "overlay",
              "size": 10,
              "solidity": 0.2
             }
            },
            "type": "bar"
           }
          ],
          "barpolar": [
           {
            "marker": {
             "line": {
              "color": "#E5ECF6",
              "width": 0.5
             },
             "pattern": {
              "fillmode": "overlay",
              "size": 10,
              "solidity": 0.2
             }
            },
            "type": "barpolar"
           }
          ],
          "carpet": [
           {
            "aaxis": {
             "endlinecolor": "#2a3f5f",
             "gridcolor": "white",
             "linecolor": "white",
             "minorgridcolor": "white",
             "startlinecolor": "#2a3f5f"
            },
            "baxis": {
             "endlinecolor": "#2a3f5f",
             "gridcolor": "white",
             "linecolor": "white",
             "minorgridcolor": "white",
             "startlinecolor": "#2a3f5f"
            },
            "type": "carpet"
           }
          ],
          "choropleth": [
           {
            "colorbar": {
             "outlinewidth": 0,
             "ticks": ""
            },
            "type": "choropleth"
           }
          ],
          "contour": [
           {
            "colorbar": {
             "outlinewidth": 0,
             "ticks": ""
            },
            "colorscale": [
             [
              0,
              "#0d0887"
             ],
             [
              0.1111111111111111,
              "#46039f"
             ],
             [
              0.2222222222222222,
              "#7201a8"
             ],
             [
              0.3333333333333333,
              "#9c179e"
             ],
             [
              0.4444444444444444,
              "#bd3786"
             ],
             [
              0.5555555555555556,
              "#d8576b"
             ],
             [
              0.6666666666666666,
              "#ed7953"
             ],
             [
              0.7777777777777778,
              "#fb9f3a"
             ],
             [
              0.8888888888888888,
              "#fdca26"
             ],
             [
              1,
              "#f0f921"
             ]
            ],
            "type": "contour"
           }
          ],
          "contourcarpet": [
           {
            "colorbar": {
             "outlinewidth": 0,
             "ticks": ""
            },
            "type": "contourcarpet"
           }
          ],
          "heatmap": [
           {
            "colorbar": {
             "outlinewidth": 0,
             "ticks": ""
            },
            "colorscale": [
             [
              0,
              "#0d0887"
             ],
             [
              0.1111111111111111,
              "#46039f"
             ],
             [
              0.2222222222222222,
              "#7201a8"
             ],
             [
              0.3333333333333333,
              "#9c179e"
             ],
             [
              0.4444444444444444,
              "#bd3786"
             ],
             [
              0.5555555555555556,
              "#d8576b"
             ],
             [
              0.6666666666666666,
              "#ed7953"
             ],
             [
              0.7777777777777778,
              "#fb9f3a"
             ],
             [
              0.8888888888888888,
              "#fdca26"
             ],
             [
              1,
              "#f0f921"
             ]
            ],
            "type": "heatmap"
           }
          ],
          "heatmapgl": [
           {
            "colorbar": {
             "outlinewidth": 0,
             "ticks": ""
            },
            "colorscale": [
             [
              0,
              "#0d0887"
             ],
             [
              0.1111111111111111,
              "#46039f"
             ],
             [
              0.2222222222222222,
              "#7201a8"
             ],
             [
              0.3333333333333333,
              "#9c179e"
             ],
             [
              0.4444444444444444,
              "#bd3786"
             ],
             [
              0.5555555555555556,
              "#d8576b"
             ],
             [
              0.6666666666666666,
              "#ed7953"
             ],
             [
              0.7777777777777778,
              "#fb9f3a"
             ],
             [
              0.8888888888888888,
              "#fdca26"
             ],
             [
              1,
              "#f0f921"
             ]
            ],
            "type": "heatmapgl"
           }
          ],
          "histogram": [
           {
            "marker": {
             "pattern": {
              "fillmode": "overlay",
              "size": 10,
              "solidity": 0.2
             }
            },
            "type": "histogram"
           }
          ],
          "histogram2d": [
           {
            "colorbar": {
             "outlinewidth": 0,
             "ticks": ""
            },
            "colorscale": [
             [
              0,
              "#0d0887"
             ],
             [
              0.1111111111111111,
              "#46039f"
             ],
             [
              0.2222222222222222,
              "#7201a8"
             ],
             [
              0.3333333333333333,
              "#9c179e"
             ],
             [
              0.4444444444444444,
              "#bd3786"
             ],
             [
              0.5555555555555556,
              "#d8576b"
             ],
             [
              0.6666666666666666,
              "#ed7953"
             ],
             [
              0.7777777777777778,
              "#fb9f3a"
             ],
             [
              0.8888888888888888,
              "#fdca26"
             ],
             [
              1,
              "#f0f921"
             ]
            ],
            "type": "histogram2d"
           }
          ],
          "histogram2dcontour": [
           {
            "colorbar": {
             "outlinewidth": 0,
             "ticks": ""
            },
            "colorscale": [
             [
              0,
              "#0d0887"
             ],
             [
              0.1111111111111111,
              "#46039f"
             ],
             [
              0.2222222222222222,
              "#7201a8"
             ],
             [
              0.3333333333333333,
              "#9c179e"
             ],
             [
              0.4444444444444444,
              "#bd3786"
             ],
             [
              0.5555555555555556,
              "#d8576b"
             ],
             [
              0.6666666666666666,
              "#ed7953"
             ],
             [
              0.7777777777777778,
              "#fb9f3a"
             ],
             [
              0.8888888888888888,
              "#fdca26"
             ],
             [
              1,
              "#f0f921"
             ]
            ],
            "type": "histogram2dcontour"
           }
          ],
          "mesh3d": [
           {
            "colorbar": {
             "outlinewidth": 0,
             "ticks": ""
            },
            "type": "mesh3d"
           }
          ],
          "parcoords": [
           {
            "line": {
             "colorbar": {
              "outlinewidth": 0,
              "ticks": ""
             }
            },
            "type": "parcoords"
           }
          ],
          "pie": [
           {
            "automargin": true,
            "type": "pie"
           }
          ],
          "scatter": [
           {
            "fillpattern": {
             "fillmode": "overlay",
             "size": 10,
             "solidity": 0.2
            },
            "type": "scatter"
           }
          ],
          "scatter3d": [
           {
            "line": {
             "colorbar": {
              "outlinewidth": 0,
              "ticks": ""
             }
            },
            "marker": {
             "colorbar": {
              "outlinewidth": 0,
              "ticks": ""
             }
            },
            "type": "scatter3d"
           }
          ],
          "scattercarpet": [
           {
            "marker": {
             "colorbar": {
              "outlinewidth": 0,
              "ticks": ""
             }
            },
            "type": "scattercarpet"
           }
          ],
          "scattergeo": [
           {
            "marker": {
             "colorbar": {
              "outlinewidth": 0,
              "ticks": ""
             }
            },
            "type": "scattergeo"
           }
          ],
          "scattergl": [
           {
            "marker": {
             "colorbar": {
              "outlinewidth": 0,
              "ticks": ""
             }
            },
            "type": "scattergl"
           }
          ],
          "scattermapbox": [
           {
            "marker": {
             "colorbar": {
              "outlinewidth": 0,
              "ticks": ""
             }
            },
            "type": "scattermapbox"
           }
          ],
          "scatterpolar": [
           {
            "marker": {
             "colorbar": {
              "outlinewidth": 0,
              "ticks": ""
             }
            },
            "type": "scatterpolar"
           }
          ],
          "scatterpolargl": [
           {
            "marker": {
             "colorbar": {
              "outlinewidth": 0,
              "ticks": ""
             }
            },
            "type": "scatterpolargl"
           }
          ],
          "scatterternary": [
           {
            "marker": {
             "colorbar": {
              "outlinewidth": 0,
              "ticks": ""
             }
            },
            "type": "scatterternary"
           }
          ],
          "surface": [
           {
            "colorbar": {
             "outlinewidth": 0,
             "ticks": ""
            },
            "colorscale": [
             [
              0,
              "#0d0887"
             ],
             [
              0.1111111111111111,
              "#46039f"
             ],
             [
              0.2222222222222222,
              "#7201a8"
             ],
             [
              0.3333333333333333,
              "#9c179e"
             ],
             [
              0.4444444444444444,
              "#bd3786"
             ],
             [
              0.5555555555555556,
              "#d8576b"
             ],
             [
              0.6666666666666666,
              "#ed7953"
             ],
             [
              0.7777777777777778,
              "#fb9f3a"
             ],
             [
              0.8888888888888888,
              "#fdca26"
             ],
             [
              1,
              "#f0f921"
             ]
            ],
            "type": "surface"
           }
          ],
          "table": [
           {
            "cells": {
             "fill": {
              "color": "#EBF0F8"
             },
             "line": {
              "color": "white"
             }
            },
            "header": {
             "fill": {
              "color": "#C8D4E3"
             },
             "line": {
              "color": "white"
             }
            },
            "type": "table"
           }
          ]
         },
         "layout": {
          "annotationdefaults": {
           "arrowcolor": "#2a3f5f",
           "arrowhead": 0,
           "arrowwidth": 1
          },
          "autotypenumbers": "strict",
          "coloraxis": {
           "colorbar": {
            "outlinewidth": 0,
            "ticks": ""
           }
          },
          "colorscale": {
           "diverging": [
            [
             0,
             "#8e0152"
            ],
            [
             0.1,
             "#c51b7d"
            ],
            [
             0.2,
             "#de77ae"
            ],
            [
             0.3,
             "#f1b6da"
            ],
            [
             0.4,
             "#fde0ef"
            ],
            [
             0.5,
             "#f7f7f7"
            ],
            [
             0.6,
             "#e6f5d0"
            ],
            [
             0.7,
             "#b8e186"
            ],
            [
             0.8,
             "#7fbc41"
            ],
            [
             0.9,
             "#4d9221"
            ],
            [
             1,
             "#276419"
            ]
           ],
           "sequential": [
            [
             0,
             "#0d0887"
            ],
            [
             0.1111111111111111,
             "#46039f"
            ],
            [
             0.2222222222222222,
             "#7201a8"
            ],
            [
             0.3333333333333333,
             "#9c179e"
            ],
            [
             0.4444444444444444,
             "#bd3786"
            ],
            [
             0.5555555555555556,
             "#d8576b"
            ],
            [
             0.6666666666666666,
             "#ed7953"
            ],
            [
             0.7777777777777778,
             "#fb9f3a"
            ],
            [
             0.8888888888888888,
             "#fdca26"
            ],
            [
             1,
             "#f0f921"
            ]
           ],
           "sequentialminus": [
            [
             0,
             "#0d0887"
            ],
            [
             0.1111111111111111,
             "#46039f"
            ],
            [
             0.2222222222222222,
             "#7201a8"
            ],
            [
             0.3333333333333333,
             "#9c179e"
            ],
            [
             0.4444444444444444,
             "#bd3786"
            ],
            [
             0.5555555555555556,
             "#d8576b"
            ],
            [
             0.6666666666666666,
             "#ed7953"
            ],
            [
             0.7777777777777778,
             "#fb9f3a"
            ],
            [
             0.8888888888888888,
             "#fdca26"
            ],
            [
             1,
             "#f0f921"
            ]
           ]
          },
          "colorway": [
           "#636efa",
           "#EF553B",
           "#00cc96",
           "#ab63fa",
           "#FFA15A",
           "#19d3f3",
           "#FF6692",
           "#B6E880",
           "#FF97FF",
           "#FECB52"
          ],
          "font": {
           "color": "#2a3f5f"
          },
          "geo": {
           "bgcolor": "white",
           "lakecolor": "white",
           "landcolor": "#E5ECF6",
           "showlakes": true,
           "showland": true,
           "subunitcolor": "white"
          },
          "hoverlabel": {
           "align": "left"
          },
          "hovermode": "closest",
          "mapbox": {
           "style": "light"
          },
          "paper_bgcolor": "white",
          "plot_bgcolor": "#E5ECF6",
          "polar": {
           "angularaxis": {
            "gridcolor": "white",
            "linecolor": "white",
            "ticks": ""
           },
           "bgcolor": "#E5ECF6",
           "radialaxis": {
            "gridcolor": "white",
            "linecolor": "white",
            "ticks": ""
           }
          },
          "scene": {
           "xaxis": {
            "backgroundcolor": "#E5ECF6",
            "gridcolor": "white",
            "gridwidth": 2,
            "linecolor": "white",
            "showbackground": true,
            "ticks": "",
            "zerolinecolor": "white"
           },
           "yaxis": {
            "backgroundcolor": "#E5ECF6",
            "gridcolor": "white",
            "gridwidth": 2,
            "linecolor": "white",
            "showbackground": true,
            "ticks": "",
            "zerolinecolor": "white"
           },
           "zaxis": {
            "backgroundcolor": "#E5ECF6",
            "gridcolor": "white",
            "gridwidth": 2,
            "linecolor": "white",
            "showbackground": true,
            "ticks": "",
            "zerolinecolor": "white"
           }
          },
          "shapedefaults": {
           "line": {
            "color": "#2a3f5f"
           }
          },
          "ternary": {
           "aaxis": {
            "gridcolor": "white",
            "linecolor": "white",
            "ticks": ""
           },
           "baxis": {
            "gridcolor": "white",
            "linecolor": "white",
            "ticks": ""
           },
           "bgcolor": "#E5ECF6",
           "caxis": {
            "gridcolor": "white",
            "linecolor": "white",
            "ticks": ""
           }
          },
          "title": {
           "x": 0.05
          },
          "xaxis": {
           "automargin": true,
           "gridcolor": "white",
           "linecolor": "white",
           "ticks": "",
           "title": {
            "standoff": 15
           },
           "zerolinecolor": "white",
           "zerolinewidth": 2
          },
          "yaxis": {
           "automargin": true,
           "gridcolor": "white",
           "linecolor": "white",
           "ticks": "",
           "title": {
            "standoff": 15
           },
           "zerolinecolor": "white",
           "zerolinewidth": 2
          }
         }
        },
        "title": {
         "text": "santander Web Traffic and Independent Variables"
        },
        "xaxis": {
         "title": {
          "text": "Date"
         }
        },
        "yaxis": {
         "tickfont": {
          "color": "#000000"
         },
         "title": {
          "font": {
           "color": "#000000"
          },
          "text": "Web Traffic"
         }
        },
        "yaxis2": {
         "overlaying": "y",
         "side": "right",
         "tickfont": {
          "color": "#000000"
         },
         "title": {
          "font": {
           "color": "#000000"
          },
          "text": "Independent Variables"
         }
        }
       }
      }
     },
     "metadata": {},
     "output_type": "display_data"
    }
   ],
   "source": [
    "import plotly.graph_objects as go\n",
    "\n",
    "# Assuming 'data' is your DataFrame and 'ind_vars' is a list of independent variable names.\n",
    "for bank in data['bank'].unique():\n",
    "    bank_data = data[data['bank'] == bank]\n",
    "    fig = go.Figure()\n",
    "    \n",
    "    # Add web traffic trace\n",
    "    fig.add_trace(go.Scatter(x=bank_data['date'], y=bank_data['web_traffic'], mode='lines', name='web_traffic', yaxis='y1'))\n",
    "    \n",
    "    # Add independent variables traces\n",
    "    for ind_var in ind_vars:\n",
    "        fig.add_trace(go.Scatter(x=bank_data['date'], y=bank_data[ind_var], mode='lines', name=ind_var, yaxis='y2'))\n",
    "    \n",
    "    # Update layout for secondary y-axis\n",
    "    fig.update_layout(\n",
    "        title=f\"{bank} Web Traffic and Independent Variables\",\n",
    "        xaxis_title=\"Date\",\n",
    "        yaxis=dict(\n",
    "            title=\"Web Traffic\",\n",
    "            titlefont=dict(color=\"#000000\"),\n",
    "            tickfont=dict(color=\"#000000\")\n",
    "        ),\n",
    "        yaxis2=dict(\n",
    "            title=\"Independent Variables\",\n",
    "            titlefont=dict(color=\"#000000\"),\n",
    "            tickfont=dict(color=\"#000000\"),\n",
    "            overlaying='y',\n",
    "            side='right'\n",
    "        )\n",
    "        # move legend to the right so there is no overlap with the secondary y-axis\n",
    "        ,legend=dict(x=1.1, y=1)\n",
    "        \n",
    "    )\n",
    "    \n",
    "    fig.show()\n"
   ]
  },
  {
   "cell_type": "code",
   "execution_count": 43,
   "metadata": {},
   "outputs": [
    {
     "ename": "ValueError",
     "evalue": "Invalid property specified for object of type plotly.graph_objs.Layout: 'yaxis2'\n\nDid you mean \"yaxis\"?\n\n    Valid properties:\n        activeselection\n            :class:`plotly.graph_objects.layout.Activeselection`\n            instance or dict with compatible properties\n        activeshape\n            :class:`plotly.graph_objects.layout.Activeshape`\n            instance or dict with compatible properties\n        annotations\n            A tuple of\n            :class:`plotly.graph_objects.layout.Annotation`\n            instances or dicts with compatible properties\n        annotationdefaults\n            When used in a template (as\n            layout.template.layout.annotationdefaults), sets the\n            default property values to use for elements of\n            layout.annotations\n        autosize\n            Determines whether or not a layout width or height that\n            has been left undefined by the user is initialized on\n            each relayout. Note that, regardless of this attribute,\n            an undefined layout width or height is always\n            initialized on the first call to plot.\n        autotypenumbers\n            Using \"strict\" a numeric string in trace data is not\n            converted to a number. Using *convert types* a numeric\n            string in trace data may be treated as a number during\n            automatic axis `type` detection. This is the default\n            value; however it could be overridden for individual\n            axes.\n        barcornerradius\n            Sets the rounding of bar corners. May be an integer\n            number of pixels, or a percentage of bar width (as a\n            string ending in %).\n        bargap\n            Sets the gap (in plot fraction) between bars of\n            adjacent location coordinates.\n        bargroupgap\n            Sets the gap (in plot fraction) between bars of the\n            same location coordinate.\n        barmode\n            Determines how bars at the same location coordinate are\n            displayed on the graph. With \"stack\", the bars are\n            stacked on top of one another With \"relative\", the bars\n            are stacked on top of one another, with negative values\n            below the axis, positive values above With \"group\", the\n            bars are plotted next to one another centered around\n            the shared location. With \"overlay\", the bars are\n            plotted over one another, you might need to reduce\n            \"opacity\" to see multiple bars.\n        barnorm\n            Sets the normalization for bar traces on the graph.\n            With \"fraction\", the value of each bar is divided by\n            the sum of all values at that location coordinate.\n            \"percent\" is the same but multiplied by 100 to show\n            percentages.\n        boxgap\n            Sets the gap (in plot fraction) between boxes of\n            adjacent location coordinates. Has no effect on traces\n            that have \"width\" set.\n        boxgroupgap\n            Sets the gap (in plot fraction) between boxes of the\n            same location coordinate. Has no effect on traces that\n            have \"width\" set.\n        boxmode\n            Determines how boxes at the same location coordinate\n            are displayed on the graph. If \"group\", the boxes are\n            plotted next to one another centered around the shared\n            location. If \"overlay\", the boxes are plotted over one\n            another, you might need to set \"opacity\" to see them\n            multiple boxes. Has no effect on traces that have\n            \"width\" set.\n        calendar\n            Sets the default calendar system to use for\n            interpreting and displaying dates throughout the plot.\n        clickmode\n            Determines the mode of single click interactions.\n            \"event\" is the default value and emits the\n            `plotly_click` event. In addition this mode emits the\n            `plotly_selected` event in drag modes \"lasso\" and\n            \"select\", but with no event data attached (kept for\n            compatibility reasons). The \"select\" flag enables\n            selecting single data points via click. This mode also\n            supports persistent selections, meaning that pressing\n            Shift while clicking, adds to / subtracts from an\n            existing selection. \"select\" with `hovermode`: \"x\" can\n            be confusing, consider explicitly setting `hovermode`:\n            \"closest\" when using this feature. Selection events are\n            sent accordingly as long as \"event\" flag is set as\n            well. When the \"event\" flag is missing, `plotly_click`\n            and `plotly_selected` events are not fired.\n        coloraxis\n            :class:`plotly.graph_objects.layout.Coloraxis` instance\n            or dict with compatible properties\n        colorscale\n            :class:`plotly.graph_objects.layout.Colorscale`\n            instance or dict with compatible properties\n        colorway\n            Sets the default trace colors.\n        computed\n            Placeholder for exporting automargin-impacting values\n            namely `margin.t`, `margin.b`, `margin.l` and\n            `margin.r` in \"full-json\" mode.\n        datarevision\n            If provided, a changed value tells `Plotly.react` that\n            one or more data arrays has changed. This way you can\n            modify arrays in-place rather than making a complete\n            new copy for an incremental change. If NOT provided,\n            `Plotly.react` assumes that data arrays are being\n            treated as immutable, thus any data array with a\n            different identity from its predecessor contains new\n            data.\n        dragmode\n            Determines the mode of drag interactions. \"select\" and\n            \"lasso\" apply only to scatter traces with markers or\n            text. \"orbit\" and \"turntable\" apply only to 3D scenes.\n        editrevision\n            Controls persistence of user-driven changes in\n            `editable: true` configuration, other than trace names\n            and axis titles. Defaults to `layout.uirevision`.\n        extendfunnelareacolors\n            If `true`, the funnelarea slice colors (whether given\n            by `funnelareacolorway` or inherited from `colorway`)\n            will be extended to three times its original length by\n            first repeating every color 20% lighter then each color\n            20% darker. This is intended to reduce the likelihood\n            of reusing the same color when you have many slices,\n            but you can set `false` to disable. Colors provided in\n            the trace, using `marker.colors`, are never extended.\n        extendiciclecolors\n            If `true`, the icicle slice colors (whether given by\n            `iciclecolorway` or inherited from `colorway`) will be\n            extended to three times its original length by first\n            repeating every color 20% lighter then each color 20%\n            darker. This is intended to reduce the likelihood of\n            reusing the same color when you have many slices, but\n            you can set `false` to disable. Colors provided in the\n            trace, using `marker.colors`, are never extended.\n        extendpiecolors\n            If `true`, the pie slice colors (whether given by\n            `piecolorway` or inherited from `colorway`) will be\n            extended to three times its original length by first\n            repeating every color 20% lighter then each color 20%\n            darker. This is intended to reduce the likelihood of\n            reusing the same color when you have many slices, but\n            you can set `false` to disable. Colors provided in the\n            trace, using `marker.colors`, are never extended.\n        extendsunburstcolors\n            If `true`, the sunburst slice colors (whether given by\n            `sunburstcolorway` or inherited from `colorway`) will\n            be extended to three times its original length by first\n            repeating every color 20% lighter then each color 20%\n            darker. This is intended to reduce the likelihood of\n            reusing the same color when you have many slices, but\n            you can set `false` to disable. Colors provided in the\n            trace, using `marker.colors`, are never extended.\n        extendtreemapcolors\n            If `true`, the treemap slice colors (whether given by\n            `treemapcolorway` or inherited from `colorway`) will be\n            extended to three times its original length by first\n            repeating every color 20% lighter then each color 20%\n            darker. This is intended to reduce the likelihood of\n            reusing the same color when you have many slices, but\n            you can set `false` to disable. Colors provided in the\n            trace, using `marker.colors`, are never extended.\n        font\n            Sets the global font. Note that fonts used in traces\n            and other layout components inherit from the global\n            font.\n        funnelareacolorway\n            Sets the default funnelarea slice colors. Defaults to\n            the main `colorway` used for trace colors. If you\n            specify a new list here it can still be extended with\n            lighter and darker colors, see\n            `extendfunnelareacolors`.\n        funnelgap\n            Sets the gap (in plot fraction) between bars of\n            adjacent location coordinates.\n        funnelgroupgap\n            Sets the gap (in plot fraction) between bars of the\n            same location coordinate.\n        funnelmode\n            Determines how bars at the same location coordinate are\n            displayed on the graph. With \"stack\", the bars are\n            stacked on top of one another With \"group\", the bars\n            are plotted next to one another centered around the\n            shared location. With \"overlay\", the bars are plotted\n            over one another, you might need to reduce \"opacity\" to\n            see multiple bars.\n        geo\n            :class:`plotly.graph_objects.layout.Geo` instance or\n            dict with compatible properties\n        grid\n            :class:`plotly.graph_objects.layout.Grid` instance or\n            dict with compatible properties\n        height\n            Sets the plot's height (in px).\n        hiddenlabels\n            hiddenlabels is the funnelarea & pie chart analog of\n            visible:'legendonly' but it can contain many labels,\n            and can simultaneously hide slices from several\n            pies/funnelarea charts\n        hiddenlabelssrc\n            Sets the source reference on Chart Studio Cloud for\n            `hiddenlabels`.\n        hidesources\n            Determines whether or not a text link citing the data\n            source is placed at the bottom-right cored of the\n            figure. Has only an effect only on graphs that have\n            been generated via forked graphs from the Chart Studio\n            Cloud (at https://chart-studio.plotly.com or on-\n            premise).\n        hoverdistance\n            Sets the default distance (in pixels) to look for data\n            to add hover labels (-1 means no cutoff, 0 means no\n            looking for data). This is only a real distance for\n            hovering on point-like objects, like scatter points.\n            For area-like objects (bars, scatter fills, etc)\n            hovering is on inside the area and off outside, but\n            these objects will not supersede hover on point-like\n            objects in case of conflict.\n        hoverlabel\n            :class:`plotly.graph_objects.layout.Hoverlabel`\n            instance or dict with compatible properties\n        hovermode\n            Determines the mode of hover interactions. If\n            \"closest\", a single hoverlabel will appear for the\n            \"closest\" point within the `hoverdistance`. If \"x\" (or\n            \"y\"), multiple hoverlabels will appear for multiple\n            points at the \"closest\" x- (or y-) coordinate within\n            the `hoverdistance`, with the caveat that no more than\n            one hoverlabel will appear per trace. If *x unified*\n            (or *y unified*), a single hoverlabel will appear\n            multiple points at the closest x- (or y-) coordinate\n            within the `hoverdistance` with the caveat that no more\n            than one hoverlabel will appear per trace. In this\n            mode, spikelines are enabled by default perpendicular\n            to the specified axis. If false, hover interactions are\n            disabled.\n        iciclecolorway\n            Sets the default icicle slice colors. Defaults to the\n            main `colorway` used for trace colors. If you specify a\n            new list here it can still be extended with lighter and\n            darker colors, see `extendiciclecolors`.\n        images\n            A tuple of :class:`plotly.graph_objects.layout.Image`\n            instances or dicts with compatible properties\n        imagedefaults\n            When used in a template (as\n            layout.template.layout.imagedefaults), sets the default\n            property values to use for elements of layout.images\n        legend\n            :class:`plotly.graph_objects.layout.Legend` instance or\n            dict with compatible properties\n        mapbox\n            :class:`plotly.graph_objects.layout.Mapbox` instance or\n            dict with compatible properties\n        margin\n            :class:`plotly.graph_objects.layout.Margin` instance or\n            dict with compatible properties\n        meta\n            Assigns extra meta information that can be used in\n            various `text` attributes. Attributes such as the\n            graph, axis and colorbar `title.text`, annotation\n            `text` `trace.name` in legend items, `rangeselector`,\n            `updatemenus` and `sliders` `label` text all support\n            `meta`. One can access `meta` fields using template\n            strings: `%{meta[i]}` where `i` is the index of the\n            `meta` item in question. `meta` can also be an object\n            for example `{key: value}` which can be accessed\n            %{meta[key]}.\n        metasrc\n            Sets the source reference on Chart Studio Cloud for\n            `meta`.\n        minreducedheight\n            Minimum height of the plot with margin.automargin\n            applied (in px)\n        minreducedwidth\n            Minimum width of the plot with margin.automargin\n            applied (in px)\n        modebar\n            :class:`plotly.graph_objects.layout.Modebar` instance\n            or dict with compatible properties\n        newselection\n            :class:`plotly.graph_objects.layout.Newselection`\n            instance or dict with compatible properties\n        newshape\n            :class:`plotly.graph_objects.layout.Newshape` instance\n            or dict with compatible properties\n        paper_bgcolor\n            Sets the background color of the paper where the graph\n            is drawn.\n        piecolorway\n            Sets the default pie slice colors. Defaults to the main\n            `colorway` used for trace colors. If you specify a new\n            list here it can still be extended with lighter and\n            darker colors, see `extendpiecolors`.\n        plot_bgcolor\n            Sets the background color of the plotting area in-\n            between x and y axes.\n        polar\n            :class:`plotly.graph_objects.layout.Polar` instance or\n            dict with compatible properties\n        scattergap\n            Sets the gap (in plot fraction) between scatter points\n            of adjacent location coordinates. Defaults to `bargap`.\n        scattermode\n            Determines how scatter points at the same location\n            coordinate are displayed on the graph. With \"group\",\n            the scatter points are plotted next to one another\n            centered around the shared location. With \"overlay\",\n            the scatter points are plotted over one another, you\n            might need to reduce \"opacity\" to see multiple scatter\n            points.\n        scene\n            :class:`plotly.graph_objects.layout.Scene` instance or\n            dict with compatible properties\n        selectdirection\n            When `dragmode` is set to \"select\", this limits the\n            selection of the drag to horizontal, vertical or\n            diagonal. \"h\" only allows horizontal selection, \"v\"\n            only vertical, \"d\" only diagonal and \"any\" sets no\n            limit.\n        selectionrevision\n            Controls persistence of user-driven changes in selected\n            points from all traces.\n        selections\n            A tuple of\n            :class:`plotly.graph_objects.layout.Selection`\n            instances or dicts with compatible properties\n        selectiondefaults\n            When used in a template (as\n            layout.template.layout.selectiondefaults), sets the\n            default property values to use for elements of\n            layout.selections\n        separators\n            Sets the decimal and thousand separators. For example,\n            *. * puts a '.' before decimals and a space between\n            thousands. In English locales, dflt is \".,\" but other\n            locales may alter this default.\n        shapes\n            A tuple of :class:`plotly.graph_objects.layout.Shape`\n            instances or dicts with compatible properties\n        shapedefaults\n            When used in a template (as\n            layout.template.layout.shapedefaults), sets the default\n            property values to use for elements of layout.shapes\n        showlegend\n            Determines whether or not a legend is drawn. Default is\n            `true` if there is a trace to show and any of these: a)\n            Two or more traces would by default be shown in the\n            legend. b) One pie trace is shown in the legend. c) One\n            trace is explicitly given with `showlegend: true`.\n        sliders\n            A tuple of :class:`plotly.graph_objects.layout.Slider`\n            instances or dicts with compatible properties\n        sliderdefaults\n            When used in a template (as\n            layout.template.layout.sliderdefaults), sets the\n            default property values to use for elements of\n            layout.sliders\n        smith\n            :class:`plotly.graph_objects.layout.Smith` instance or\n            dict with compatible properties\n        spikedistance\n            Sets the default distance (in pixels) to look for data\n            to draw spikelines to (-1 means no cutoff, 0 means no\n            looking for data). As with hoverdistance, distance does\n            not apply to area-like objects. In addition, some\n            objects can be hovered on but will not generate\n            spikelines, such as scatter fills.\n        sunburstcolorway\n            Sets the default sunburst slice colors. Defaults to the\n            main `colorway` used for trace colors. If you specify a\n            new list here it can still be extended with lighter and\n            darker colors, see `extendsunburstcolors`.\n        template\n            Default attributes to be applied to the plot. This\n            should be a dict with format: `{'layout':\n            layoutTemplate, 'data': {trace_type: [traceTemplate,\n            ...], ...}}` where `layoutTemplate` is a dict matching\n            the structure of `figure.layout` and `traceTemplate` is\n            a dict matching the structure of the trace with type\n            `trace_type` (e.g. 'scatter'). Alternatively, this may\n            be specified as an instance of\n            plotly.graph_objs.layout.Template.  Trace templates are\n            applied cyclically to traces of each type. Container\n            arrays (eg `annotations`) have special handling: An\n            object ending in `defaults` (eg `annotationdefaults`)\n            is applied to each array item. But if an item has a\n            `templateitemname` key we look in the template array\n            for an item with matching `name` and apply that\n            instead. If no matching `name` is found we mark the\n            item invisible. Any named template item not referenced\n            is appended to the end of the array, so this can be\n            used to add a watermark annotation or a logo image, for\n            example. To omit one of these items on the plot, make\n            an item with matching `templateitemname` and `visible:\n            false`.\n        ternary\n            :class:`plotly.graph_objects.layout.Ternary` instance\n            or dict with compatible properties\n        title\n            :class:`plotly.graph_objects.layout.Title` instance or\n            dict with compatible properties\n        titlefont\n            Deprecated: Please use layout.title.font instead. Sets\n            the title font. Note that the title's font used to be\n            customized by the now deprecated `titlefont` attribute.\n        transition\n            Sets transition options used during Plotly.react\n            updates.\n        treemapcolorway\n            Sets the default treemap slice colors. Defaults to the\n            main `colorway` used for trace colors. If you specify a\n            new list here it can still be extended with lighter and\n            darker colors, see `extendtreemapcolors`.\n        uirevision\n            Used to allow user interactions with the plot to\n            persist after `Plotly.react` calls that are unaware of\n            these interactions. If `uirevision` is omitted, or if\n            it is given and it changed from the previous\n            `Plotly.react` call, the exact new figure is used. If\n            `uirevision` is truthy and did NOT change, any\n            attribute that has been affected by user interactions\n            and did not receive a different value in the new figure\n            will keep the interaction value. `layout.uirevision`\n            attribute serves as the default for `uirevision`\n            attributes in various sub-containers. For finer control\n            you can set these sub-attributes directly. For example,\n            if your app separately controls the data on the x and y\n            axes you might set `xaxis.uirevision=*time*` and\n            `yaxis.uirevision=*cost*`. Then if only the y data is\n            changed, you can update `yaxis.uirevision=*quantity*`\n            and the y axis range will reset but the x axis range\n            will retain any user-driven zoom.\n        uniformtext\n            :class:`plotly.graph_objects.layout.Uniformtext`\n            instance or dict with compatible properties\n        updatemenus\n            A tuple of\n            :class:`plotly.graph_objects.layout.Updatemenu`\n            instances or dicts with compatible properties\n        updatemenudefaults\n            When used in a template (as\n            layout.template.layout.updatemenudefaults), sets the\n            default property values to use for elements of\n            layout.updatemenus\n        violingap\n            Sets the gap (in plot fraction) between violins of\n            adjacent location coordinates. Has no effect on traces\n            that have \"width\" set.\n        violingroupgap\n            Sets the gap (in plot fraction) between violins of the\n            same location coordinate. Has no effect on traces that\n            have \"width\" set.\n        violinmode\n            Determines how violins at the same location coordinate\n            are displayed on the graph. If \"group\", the violins are\n            plotted next to one another centered around the shared\n            location. If \"overlay\", the violins are plotted over\n            one another, you might need to set \"opacity\" to see\n            them multiple violins. Has no effect on traces that\n            have \"width\" set.\n        waterfallgap\n            Sets the gap (in plot fraction) between bars of\n            adjacent location coordinates.\n        waterfallgroupgap\n            Sets the gap (in plot fraction) between bars of the\n            same location coordinate.\n        waterfallmode\n            Determines how bars at the same location coordinate are\n            displayed on the graph. With \"group\", the bars are\n            plotted next to one another centered around the shared\n            location. With \"overlay\", the bars are plotted over one\n            another, you might need to reduce \"opacity\" to see\n            multiple bars.\n        width\n            Sets the plot's width (in px).\n        xaxis\n            :class:`plotly.graph_objects.layout.XAxis` instance or\n            dict with compatible properties\n        yaxis\n            :class:`plotly.graph_objects.layout.YAxis` instance or\n            dict with compatible properties\n        \nDid you mean \"yaxis\"?\n\nBad property path:\nyaxis2_title\n^^^^^^",
     "output_type": "error",
     "traceback": [
      "\u001b[0;31m---------------------------------------------------------------------------\u001b[0m",
      "\u001b[0;31mValueError\u001b[0m                                Traceback (most recent call last)",
      "\u001b[1;32m/Users/andrewbennett/Documents/bse/term3/deloitte_digital_banking/deloitte_digital_banking/regression_analysis.ipynb Cell 10\u001b[0m line \u001b[0;36m1\n\u001b[1;32m      <a href='vscode-notebook-cell:/Users/andrewbennett/Documents/bse/term3/deloitte_digital_banking/deloitte_digital_banking/regression_analysis.ipynb#W4sZmlsZQ%3D%3D?line=6'>7</a>\u001b[0m \u001b[39mfor\u001b[39;00m ind_var \u001b[39min\u001b[39;00m ind_vars:\n\u001b[1;32m      <a href='vscode-notebook-cell:/Users/andrewbennett/Documents/bse/term3/deloitte_digital_banking/deloitte_digital_banking/regression_analysis.ipynb#W4sZmlsZQ%3D%3D?line=7'>8</a>\u001b[0m     fig\u001b[39m.\u001b[39madd_trace(go\u001b[39m.\u001b[39mScatter\n\u001b[1;32m      <a href='vscode-notebook-cell:/Users/andrewbennett/Documents/bse/term3/deloitte_digital_banking/deloitte_digital_banking/regression_analysis.ipynb#W4sZmlsZQ%3D%3D?line=8'>9</a>\u001b[0m     (x\u001b[39m=\u001b[39mbank_data[\u001b[39m'\u001b[39m\u001b[39mdate\u001b[39m\u001b[39m'\u001b[39m], y\u001b[39m=\u001b[39mbank_data[ind_var], mode\u001b[39m=\u001b[39m\u001b[39m'\u001b[39m\u001b[39mlines\u001b[39m\u001b[39m'\u001b[39m, name\u001b[39m=\u001b[39mind_var, yaxis\u001b[39m=\u001b[39m\u001b[39m'\u001b[39m\u001b[39my2\u001b[39m\u001b[39m'\u001b[39m))\n\u001b[0;32m---> <a href='vscode-notebook-cell:/Users/andrewbennett/Documents/bse/term3/deloitte_digital_banking/deloitte_digital_banking/regression_analysis.ipynb#W4sZmlsZQ%3D%3D?line=9'>10</a>\u001b[0m fig\u001b[39m.\u001b[39;49mupdate_layout(title\u001b[39m=\u001b[39;49m\u001b[39mf\u001b[39;49m\u001b[39m\"\u001b[39;49m\u001b[39m{\u001b[39;49;00mbank\u001b[39m}\u001b[39;49;00m\u001b[39m Web Traffic and Independent Variables\u001b[39;49m\u001b[39m\"\u001b[39;49m, yaxis_title\u001b[39m=\u001b[39;49m\u001b[39m\"\u001b[39;49m\u001b[39mWeb Traffic\u001b[39;49m\u001b[39m\"\u001b[39;49m, yaxis2_title\u001b[39m=\u001b[39;49m\u001b[39m\"\u001b[39;49m\u001b[39mIndependent Variables\u001b[39;49m\u001b[39m\"\u001b[39;49m)\n\u001b[1;32m     <a href='vscode-notebook-cell:/Users/andrewbennett/Documents/bse/term3/deloitte_digital_banking/deloitte_digital_banking/regression_analysis.ipynb#W4sZmlsZQ%3D%3D?line=11'>12</a>\u001b[0m fig\u001b[39m.\u001b[39mshow()\n",
      "File \u001b[0;32m~/Library/Python/3.9/lib/python/site-packages/plotly/graph_objs/_figure.py:779\u001b[0m, in \u001b[0;36mFigure.update_layout\u001b[0;34m(self, dict1, overwrite, **kwargs)\u001b[0m\n\u001b[1;32m    753\u001b[0m \u001b[39mdef\u001b[39;00m \u001b[39mupdate_layout\u001b[39m(\u001b[39mself\u001b[39m, dict1\u001b[39m=\u001b[39m\u001b[39mNone\u001b[39;00m, overwrite\u001b[39m=\u001b[39m\u001b[39mFalse\u001b[39;00m, \u001b[39m*\u001b[39m\u001b[39m*\u001b[39mkwargs) \u001b[39m-\u001b[39m\u001b[39m>\u001b[39m \u001b[39m\"\u001b[39m\u001b[39mFigure\u001b[39m\u001b[39m\"\u001b[39m:\n\u001b[1;32m    754\u001b[0m \u001b[39m    \u001b[39m\u001b[39m\"\"\"\u001b[39;00m\n\u001b[1;32m    755\u001b[0m \n\u001b[1;32m    756\u001b[0m \u001b[39m    Update the properties of the figure's layout with a dict and/or with\u001b[39;00m\n\u001b[0;32m   (...)\u001b[0m\n\u001b[1;32m    777\u001b[0m \n\u001b[1;32m    778\u001b[0m \u001b[39m    \"\"\"\u001b[39;00m\n\u001b[0;32m--> 779\u001b[0m     \u001b[39mreturn\u001b[39;00m \u001b[39msuper\u001b[39;49m(Figure, \u001b[39mself\u001b[39;49m)\u001b[39m.\u001b[39;49mupdate_layout(dict1, overwrite, \u001b[39m*\u001b[39;49m\u001b[39m*\u001b[39;49mkwargs)\n",
      "File \u001b[0;32m~/Library/Python/3.9/lib/python/site-packages/plotly/basedatatypes.py:1391\u001b[0m, in \u001b[0;36mBaseFigure.update_layout\u001b[0;34m(self, dict1, overwrite, **kwargs)\u001b[0m\n\u001b[1;32m   1367\u001b[0m \u001b[39mdef\u001b[39;00m \u001b[39mupdate_layout\u001b[39m(\u001b[39mself\u001b[39m, dict1\u001b[39m=\u001b[39m\u001b[39mNone\u001b[39;00m, overwrite\u001b[39m=\u001b[39m\u001b[39mFalse\u001b[39;00m, \u001b[39m*\u001b[39m\u001b[39m*\u001b[39mkwargs):\n\u001b[1;32m   1368\u001b[0m \u001b[39m    \u001b[39m\u001b[39m\"\"\"\u001b[39;00m\n\u001b[1;32m   1369\u001b[0m \u001b[39m    Update the properties of the figure's layout with a dict and/or with\u001b[39;00m\n\u001b[1;32m   1370\u001b[0m \u001b[39m    keyword arguments.\u001b[39;00m\n\u001b[0;32m   (...)\u001b[0m\n\u001b[1;32m   1389\u001b[0m \u001b[39m        The Figure object that the update_layout method was called on\u001b[39;00m\n\u001b[1;32m   1390\u001b[0m \u001b[39m    \"\"\"\u001b[39;00m\n\u001b[0;32m-> 1391\u001b[0m     \u001b[39mself\u001b[39;49m\u001b[39m.\u001b[39;49mlayout\u001b[39m.\u001b[39;49mupdate(dict1, overwrite\u001b[39m=\u001b[39;49moverwrite, \u001b[39m*\u001b[39;49m\u001b[39m*\u001b[39;49mkwargs)\n\u001b[1;32m   1392\u001b[0m     \u001b[39mreturn\u001b[39;00m \u001b[39mself\u001b[39m\n",
      "File \u001b[0;32m~/Library/Python/3.9/lib/python/site-packages/plotly/basedatatypes.py:5137\u001b[0m, in \u001b[0;36mBasePlotlyType.update\u001b[0;34m(self, dict1, overwrite, **kwargs)\u001b[0m\n\u001b[1;32m   5135\u001b[0m     \u001b[39mwith\u001b[39;00m \u001b[39mself\u001b[39m\u001b[39m.\u001b[39mfigure\u001b[39m.\u001b[39mbatch_update():\n\u001b[1;32m   5136\u001b[0m         BaseFigure\u001b[39m.\u001b[39m_perform_update(\u001b[39mself\u001b[39m, dict1, overwrite\u001b[39m=\u001b[39moverwrite)\n\u001b[0;32m-> 5137\u001b[0m         BaseFigure\u001b[39m.\u001b[39;49m_perform_update(\u001b[39mself\u001b[39;49m, kwargs, overwrite\u001b[39m=\u001b[39;49moverwrite)\n\u001b[1;32m   5138\u001b[0m \u001b[39melse\u001b[39;00m:\n\u001b[1;32m   5139\u001b[0m     BaseFigure\u001b[39m.\u001b[39m_perform_update(\u001b[39mself\u001b[39m, dict1, overwrite\u001b[39m=\u001b[39moverwrite)\n",
      "File \u001b[0;32m~/Library/Python/3.9/lib/python/site-packages/plotly/basedatatypes.py:3896\u001b[0m, in \u001b[0;36mBaseFigure._perform_update\u001b[0;34m(plotly_obj, update_obj, overwrite)\u001b[0m\n\u001b[1;32m   3894\u001b[0m     err \u001b[39m=\u001b[39m _check_path_in_prop_tree(plotly_obj, key, error_cast\u001b[39m=\u001b[39m\u001b[39mValueError\u001b[39;00m)\n\u001b[1;32m   3895\u001b[0m     \u001b[39mif\u001b[39;00m err \u001b[39mis\u001b[39;00m \u001b[39mnot\u001b[39;00m \u001b[39mNone\u001b[39;00m:\n\u001b[0;32m-> 3896\u001b[0m         \u001b[39mraise\u001b[39;00m err\n\u001b[1;32m   3898\u001b[0m \u001b[39m# Convert update_obj to dict\u001b[39;00m\n\u001b[1;32m   3899\u001b[0m \u001b[39m# --------------------------\u001b[39;00m\n\u001b[1;32m   3900\u001b[0m \u001b[39mif\u001b[39;00m \u001b[39misinstance\u001b[39m(update_obj, BasePlotlyType):\n",
      "\u001b[0;31mValueError\u001b[0m: Invalid property specified for object of type plotly.graph_objs.Layout: 'yaxis2'\n\nDid you mean \"yaxis\"?\n\n    Valid properties:\n        activeselection\n            :class:`plotly.graph_objects.layout.Activeselection`\n            instance or dict with compatible properties\n        activeshape\n            :class:`plotly.graph_objects.layout.Activeshape`\n            instance or dict with compatible properties\n        annotations\n            A tuple of\n            :class:`plotly.graph_objects.layout.Annotation`\n            instances or dicts with compatible properties\n        annotationdefaults\n            When used in a template (as\n            layout.template.layout.annotationdefaults), sets the\n            default property values to use for elements of\n            layout.annotations\n        autosize\n            Determines whether or not a layout width or height that\n            has been left undefined by the user is initialized on\n            each relayout. Note that, regardless of this attribute,\n            an undefined layout width or height is always\n            initialized on the first call to plot.\n        autotypenumbers\n            Using \"strict\" a numeric string in trace data is not\n            converted to a number. Using *convert types* a numeric\n            string in trace data may be treated as a number during\n            automatic axis `type` detection. This is the default\n            value; however it could be overridden for individual\n            axes.\n        barcornerradius\n            Sets the rounding of bar corners. May be an integer\n            number of pixels, or a percentage of bar width (as a\n            string ending in %).\n        bargap\n            Sets the gap (in plot fraction) between bars of\n            adjacent location coordinates.\n        bargroupgap\n            Sets the gap (in plot fraction) between bars of the\n            same location coordinate.\n        barmode\n            Determines how bars at the same location coordinate are\n            displayed on the graph. With \"stack\", the bars are\n            stacked on top of one another With \"relative\", the bars\n            are stacked on top of one another, with negative values\n            below the axis, positive values above With \"group\", the\n            bars are plotted next to one another centered around\n            the shared location. With \"overlay\", the bars are\n            plotted over one another, you might need to reduce\n            \"opacity\" to see multiple bars.\n        barnorm\n            Sets the normalization for bar traces on the graph.\n            With \"fraction\", the value of each bar is divided by\n            the sum of all values at that location coordinate.\n            \"percent\" is the same but multiplied by 100 to show\n            percentages.\n        boxgap\n            Sets the gap (in plot fraction) between boxes of\n            adjacent location coordinates. Has no effect on traces\n            that have \"width\" set.\n        boxgroupgap\n            Sets the gap (in plot fraction) between boxes of the\n            same location coordinate. Has no effect on traces that\n            have \"width\" set.\n        boxmode\n            Determines how boxes at the same location coordinate\n            are displayed on the graph. If \"group\", the boxes are\n            plotted next to one another centered around the shared\n            location. If \"overlay\", the boxes are plotted over one\n            another, you might need to set \"opacity\" to see them\n            multiple boxes. Has no effect on traces that have\n            \"width\" set.\n        calendar\n            Sets the default calendar system to use for\n            interpreting and displaying dates throughout the plot.\n        clickmode\n            Determines the mode of single click interactions.\n            \"event\" is the default value and emits the\n            `plotly_click` event. In addition this mode emits the\n            `plotly_selected` event in drag modes \"lasso\" and\n            \"select\", but with no event data attached (kept for\n            compatibility reasons). The \"select\" flag enables\n            selecting single data points via click. This mode also\n            supports persistent selections, meaning that pressing\n            Shift while clicking, adds to / subtracts from an\n            existing selection. \"select\" with `hovermode`: \"x\" can\n            be confusing, consider explicitly setting `hovermode`:\n            \"closest\" when using this feature. Selection events are\n            sent accordingly as long as \"event\" flag is set as\n            well. When the \"event\" flag is missing, `plotly_click`\n            and `plotly_selected` events are not fired.\n        coloraxis\n            :class:`plotly.graph_objects.layout.Coloraxis` instance\n            or dict with compatible properties\n        colorscale\n            :class:`plotly.graph_objects.layout.Colorscale`\n            instance or dict with compatible properties\n        colorway\n            Sets the default trace colors.\n        computed\n            Placeholder for exporting automargin-impacting values\n            namely `margin.t`, `margin.b`, `margin.l` and\n            `margin.r` in \"full-json\" mode.\n        datarevision\n            If provided, a changed value tells `Plotly.react` that\n            one or more data arrays has changed. This way you can\n            modify arrays in-place rather than making a complete\n            new copy for an incremental change. If NOT provided,\n            `Plotly.react` assumes that data arrays are being\n            treated as immutable, thus any data array with a\n            different identity from its predecessor contains new\n            data.\n        dragmode\n            Determines the mode of drag interactions. \"select\" and\n            \"lasso\" apply only to scatter traces with markers or\n            text. \"orbit\" and \"turntable\" apply only to 3D scenes.\n        editrevision\n            Controls persistence of user-driven changes in\n            `editable: true` configuration, other than trace names\n            and axis titles. Defaults to `layout.uirevision`.\n        extendfunnelareacolors\n            If `true`, the funnelarea slice colors (whether given\n            by `funnelareacolorway` or inherited from `colorway`)\n            will be extended to three times its original length by\n            first repeating every color 20% lighter then each color\n            20% darker. This is intended to reduce the likelihood\n            of reusing the same color when you have many slices,\n            but you can set `false` to disable. Colors provided in\n            the trace, using `marker.colors`, are never extended.\n        extendiciclecolors\n            If `true`, the icicle slice colors (whether given by\n            `iciclecolorway` or inherited from `colorway`) will be\n            extended to three times its original length by first\n            repeating every color 20% lighter then each color 20%\n            darker. This is intended to reduce the likelihood of\n            reusing the same color when you have many slices, but\n            you can set `false` to disable. Colors provided in the\n            trace, using `marker.colors`, are never extended.\n        extendpiecolors\n            If `true`, the pie slice colors (whether given by\n            `piecolorway` or inherited from `colorway`) will be\n            extended to three times its original length by first\n            repeating every color 20% lighter then each color 20%\n            darker. This is intended to reduce the likelihood of\n            reusing the same color when you have many slices, but\n            you can set `false` to disable. Colors provided in the\n            trace, using `marker.colors`, are never extended.\n        extendsunburstcolors\n            If `true`, the sunburst slice colors (whether given by\n            `sunburstcolorway` or inherited from `colorway`) will\n            be extended to three times its original length by first\n            repeating every color 20% lighter then each color 20%\n            darker. This is intended to reduce the likelihood of\n            reusing the same color when you have many slices, but\n            you can set `false` to disable. Colors provided in the\n            trace, using `marker.colors`, are never extended.\n        extendtreemapcolors\n            If `true`, the treemap slice colors (whether given by\n            `treemapcolorway` or inherited from `colorway`) will be\n            extended to three times its original length by first\n            repeating every color 20% lighter then each color 20%\n            darker. This is intended to reduce the likelihood of\n            reusing the same color when you have many slices, but\n            you can set `false` to disable. Colors provided in the\n            trace, using `marker.colors`, are never extended.\n        font\n            Sets the global font. Note that fonts used in traces\n            and other layout components inherit from the global\n            font.\n        funnelareacolorway\n            Sets the default funnelarea slice colors. Defaults to\n            the main `colorway` used for trace colors. If you\n            specify a new list here it can still be extended with\n            lighter and darker colors, see\n            `extendfunnelareacolors`.\n        funnelgap\n            Sets the gap (in plot fraction) between bars of\n            adjacent location coordinates.\n        funnelgroupgap\n            Sets the gap (in plot fraction) between bars of the\n            same location coordinate.\n        funnelmode\n            Determines how bars at the same location coordinate are\n            displayed on the graph. With \"stack\", the bars are\n            stacked on top of one another With \"group\", the bars\n            are plotted next to one another centered around the\n            shared location. With \"overlay\", the bars are plotted\n            over one another, you might need to reduce \"opacity\" to\n            see multiple bars.\n        geo\n            :class:`plotly.graph_objects.layout.Geo` instance or\n            dict with compatible properties\n        grid\n            :class:`plotly.graph_objects.layout.Grid` instance or\n            dict with compatible properties\n        height\n            Sets the plot's height (in px).\n        hiddenlabels\n            hiddenlabels is the funnelarea & pie chart analog of\n            visible:'legendonly' but it can contain many labels,\n            and can simultaneously hide slices from several\n            pies/funnelarea charts\n        hiddenlabelssrc\n            Sets the source reference on Chart Studio Cloud for\n            `hiddenlabels`.\n        hidesources\n            Determines whether or not a text link citing the data\n            source is placed at the bottom-right cored of the\n            figure. Has only an effect only on graphs that have\n            been generated via forked graphs from the Chart Studio\n            Cloud (at https://chart-studio.plotly.com or on-\n            premise).\n        hoverdistance\n            Sets the default distance (in pixels) to look for data\n            to add hover labels (-1 means no cutoff, 0 means no\n            looking for data). This is only a real distance for\n            hovering on point-like objects, like scatter points.\n            For area-like objects (bars, scatter fills, etc)\n            hovering is on inside the area and off outside, but\n            these objects will not supersede hover on point-like\n            objects in case of conflict.\n        hoverlabel\n            :class:`plotly.graph_objects.layout.Hoverlabel`\n            instance or dict with compatible properties\n        hovermode\n            Determines the mode of hover interactions. If\n            \"closest\", a single hoverlabel will appear for the\n            \"closest\" point within the `hoverdistance`. If \"x\" (or\n            \"y\"), multiple hoverlabels will appear for multiple\n            points at the \"closest\" x- (or y-) coordinate within\n            the `hoverdistance`, with the caveat that no more than\n            one hoverlabel will appear per trace. If *x unified*\n            (or *y unified*), a single hoverlabel will appear\n            multiple points at the closest x- (or y-) coordinate\n            within the `hoverdistance` with the caveat that no more\n            than one hoverlabel will appear per trace. In this\n            mode, spikelines are enabled by default perpendicular\n            to the specified axis. If false, hover interactions are\n            disabled.\n        iciclecolorway\n            Sets the default icicle slice colors. Defaults to the\n            main `colorway` used for trace colors. If you specify a\n            new list here it can still be extended with lighter and\n            darker colors, see `extendiciclecolors`.\n        images\n            A tuple of :class:`plotly.graph_objects.layout.Image`\n            instances or dicts with compatible properties\n        imagedefaults\n            When used in a template (as\n            layout.template.layout.imagedefaults), sets the default\n            property values to use for elements of layout.images\n        legend\n            :class:`plotly.graph_objects.layout.Legend` instance or\n            dict with compatible properties\n        mapbox\n            :class:`plotly.graph_objects.layout.Mapbox` instance or\n            dict with compatible properties\n        margin\n            :class:`plotly.graph_objects.layout.Margin` instance or\n            dict with compatible properties\n        meta\n            Assigns extra meta information that can be used in\n            various `text` attributes. Attributes such as the\n            graph, axis and colorbar `title.text`, annotation\n            `text` `trace.name` in legend items, `rangeselector`,\n            `updatemenus` and `sliders` `label` text all support\n            `meta`. One can access `meta` fields using template\n            strings: `%{meta[i]}` where `i` is the index of the\n            `meta` item in question. `meta` can also be an object\n            for example `{key: value}` which can be accessed\n            %{meta[key]}.\n        metasrc\n            Sets the source reference on Chart Studio Cloud for\n            `meta`.\n        minreducedheight\n            Minimum height of the plot with margin.automargin\n            applied (in px)\n        minreducedwidth\n            Minimum width of the plot with margin.automargin\n            applied (in px)\n        modebar\n            :class:`plotly.graph_objects.layout.Modebar` instance\n            or dict with compatible properties\n        newselection\n            :class:`plotly.graph_objects.layout.Newselection`\n            instance or dict with compatible properties\n        newshape\n            :class:`plotly.graph_objects.layout.Newshape` instance\n            or dict with compatible properties\n        paper_bgcolor\n            Sets the background color of the paper where the graph\n            is drawn.\n        piecolorway\n            Sets the default pie slice colors. Defaults to the main\n            `colorway` used for trace colors. If you specify a new\n            list here it can still be extended with lighter and\n            darker colors, see `extendpiecolors`.\n        plot_bgcolor\n            Sets the background color of the plotting area in-\n            between x and y axes.\n        polar\n            :class:`plotly.graph_objects.layout.Polar` instance or\n            dict with compatible properties\n        scattergap\n            Sets the gap (in plot fraction) between scatter points\n            of adjacent location coordinates. Defaults to `bargap`.\n        scattermode\n            Determines how scatter points at the same location\n            coordinate are displayed on the graph. With \"group\",\n            the scatter points are plotted next to one another\n            centered around the shared location. With \"overlay\",\n            the scatter points are plotted over one another, you\n            might need to reduce \"opacity\" to see multiple scatter\n            points.\n        scene\n            :class:`plotly.graph_objects.layout.Scene` instance or\n            dict with compatible properties\n        selectdirection\n            When `dragmode` is set to \"select\", this limits the\n            selection of the drag to horizontal, vertical or\n            diagonal. \"h\" only allows horizontal selection, \"v\"\n            only vertical, \"d\" only diagonal and \"any\" sets no\n            limit.\n        selectionrevision\n            Controls persistence of user-driven changes in selected\n            points from all traces.\n        selections\n            A tuple of\n            :class:`plotly.graph_objects.layout.Selection`\n            instances or dicts with compatible properties\n        selectiondefaults\n            When used in a template (as\n            layout.template.layout.selectiondefaults), sets the\n            default property values to use for elements of\n            layout.selections\n        separators\n            Sets the decimal and thousand separators. For example,\n            *. * puts a '.' before decimals and a space between\n            thousands. In English locales, dflt is \".,\" but other\n            locales may alter this default.\n        shapes\n            A tuple of :class:`plotly.graph_objects.layout.Shape`\n            instances or dicts with compatible properties\n        shapedefaults\n            When used in a template (as\n            layout.template.layout.shapedefaults), sets the default\n            property values to use for elements of layout.shapes\n        showlegend\n            Determines whether or not a legend is drawn. Default is\n            `true` if there is a trace to show and any of these: a)\n            Two or more traces would by default be shown in the\n            legend. b) One pie trace is shown in the legend. c) One\n            trace is explicitly given with `showlegend: true`.\n        sliders\n            A tuple of :class:`plotly.graph_objects.layout.Slider`\n            instances or dicts with compatible properties\n        sliderdefaults\n            When used in a template (as\n            layout.template.layout.sliderdefaults), sets the\n            default property values to use for elements of\n            layout.sliders\n        smith\n            :class:`plotly.graph_objects.layout.Smith` instance or\n            dict with compatible properties\n        spikedistance\n            Sets the default distance (in pixels) to look for data\n            to draw spikelines to (-1 means no cutoff, 0 means no\n            looking for data). As with hoverdistance, distance does\n            not apply to area-like objects. In addition, some\n            objects can be hovered on but will not generate\n            spikelines, such as scatter fills.\n        sunburstcolorway\n            Sets the default sunburst slice colors. Defaults to the\n            main `colorway` used for trace colors. If you specify a\n            new list here it can still be extended with lighter and\n            darker colors, see `extendsunburstcolors`.\n        template\n            Default attributes to be applied to the plot. This\n            should be a dict with format: `{'layout':\n            layoutTemplate, 'data': {trace_type: [traceTemplate,\n            ...], ...}}` where `layoutTemplate` is a dict matching\n            the structure of `figure.layout` and `traceTemplate` is\n            a dict matching the structure of the trace with type\n            `trace_type` (e.g. 'scatter'). Alternatively, this may\n            be specified as an instance of\n            plotly.graph_objs.layout.Template.  Trace templates are\n            applied cyclically to traces of each type. Container\n            arrays (eg `annotations`) have special handling: An\n            object ending in `defaults` (eg `annotationdefaults`)\n            is applied to each array item. But if an item has a\n            `templateitemname` key we look in the template array\n            for an item with matching `name` and apply that\n            instead. If no matching `name` is found we mark the\n            item invisible. Any named template item not referenced\n            is appended to the end of the array, so this can be\n            used to add a watermark annotation or a logo image, for\n            example. To omit one of these items on the plot, make\n            an item with matching `templateitemname` and `visible:\n            false`.\n        ternary\n            :class:`plotly.graph_objects.layout.Ternary` instance\n            or dict with compatible properties\n        title\n            :class:`plotly.graph_objects.layout.Title` instance or\n            dict with compatible properties\n        titlefont\n            Deprecated: Please use layout.title.font instead. Sets\n            the title font. Note that the title's font used to be\n            customized by the now deprecated `titlefont` attribute.\n        transition\n            Sets transition options used during Plotly.react\n            updates.\n        treemapcolorway\n            Sets the default treemap slice colors. Defaults to the\n            main `colorway` used for trace colors. If you specify a\n            new list here it can still be extended with lighter and\n            darker colors, see `extendtreemapcolors`.\n        uirevision\n            Used to allow user interactions with the plot to\n            persist after `Plotly.react` calls that are unaware of\n            these interactions. If `uirevision` is omitted, or if\n            it is given and it changed from the previous\n            `Plotly.react` call, the exact new figure is used. If\n            `uirevision` is truthy and did NOT change, any\n            attribute that has been affected by user interactions\n            and did not receive a different value in the new figure\n            will keep the interaction value. `layout.uirevision`\n            attribute serves as the default for `uirevision`\n            attributes in various sub-containers. For finer control\n            you can set these sub-attributes directly. For example,\n            if your app separately controls the data on the x and y\n            axes you might set `xaxis.uirevision=*time*` and\n            `yaxis.uirevision=*cost*`. Then if only the y data is\n            changed, you can update `yaxis.uirevision=*quantity*`\n            and the y axis range will reset but the x axis range\n            will retain any user-driven zoom.\n        uniformtext\n            :class:`plotly.graph_objects.layout.Uniformtext`\n            instance or dict with compatible properties\n        updatemenus\n            A tuple of\n            :class:`plotly.graph_objects.layout.Updatemenu`\n            instances or dicts with compatible properties\n        updatemenudefaults\n            When used in a template (as\n            layout.template.layout.updatemenudefaults), sets the\n            default property values to use for elements of\n            layout.updatemenus\n        violingap\n            Sets the gap (in plot fraction) between violins of\n            adjacent location coordinates. Has no effect on traces\n            that have \"width\" set.\n        violingroupgap\n            Sets the gap (in plot fraction) between violins of the\n            same location coordinate. Has no effect on traces that\n            have \"width\" set.\n        violinmode\n            Determines how violins at the same location coordinate\n            are displayed on the graph. If \"group\", the violins are\n            plotted next to one another centered around the shared\n            location. If \"overlay\", the violins are plotted over\n            one another, you might need to set \"opacity\" to see\n            them multiple violins. Has no effect on traces that\n            have \"width\" set.\n        waterfallgap\n            Sets the gap (in plot fraction) between bars of\n            adjacent location coordinates.\n        waterfallgroupgap\n            Sets the gap (in plot fraction) between bars of the\n            same location coordinate.\n        waterfallmode\n            Determines how bars at the same location coordinate are\n            displayed on the graph. With \"group\", the bars are\n            plotted next to one another centered around the shared\n            location. With \"overlay\", the bars are plotted over one\n            another, you might need to reduce \"opacity\" to see\n            multiple bars.\n        width\n            Sets the plot's width (in px).\n        xaxis\n            :class:`plotly.graph_objects.layout.XAxis` instance or\n            dict with compatible properties\n        yaxis\n            :class:`plotly.graph_objects.layout.YAxis` instance or\n            dict with compatible properties\n        \nDid you mean \"yaxis\"?\n\nBad property path:\nyaxis2_title\n^^^^^^"
     ]
    }
   ],
   "source": [
    "# for each bank plot the ind_vars and web_trafiic on a stacked line graph with ind vars on a separate axis\n",
    "\n",
    "for bank in data['bank'].unique():\n",
    "    bank_data = data[data['bank'] == bank]\n",
    "    fig = go.Figure()\n",
    "    fig.add_trace(go.Scatter(x=bank_data['date'], y=bank_data['web_traffic'], mode='lines', name='web_traffic'))\n",
    "    for ind_var in ind_vars:\n",
    "        fig.add_trace(go.Scatter\n",
    "        (x=bank_data['date'], y=bank_data[ind_var], mode='lines', name=ind_var, yaxis='y2'))\n",
    "    fig.update_layout(title=f\"{bank} Web Traffic and Independent Variables\", yaxis_title=\"Web Traffic\", yaxis2_title=\"Independent Variables\")\n",
    "\n",
    "    fig.show()"
   ]
  },
  {
   "cell_type": "code",
   "execution_count": null,
   "metadata": {},
   "outputs": [],
   "source": []
  }
 ],
 "metadata": {
  "kernelspec": {
   "display_name": "Python 3",
   "language": "python",
   "name": "python3"
  },
  "language_info": {
   "codemirror_mode": {
    "name": "ipython",
    "version": 3
   },
   "file_extension": ".py",
   "mimetype": "text/x-python",
   "name": "python",
   "nbconvert_exporter": "python",
   "pygments_lexer": "ipython3",
   "version": "3.9.6"
  },
  "orig_nbformat": 4
 },
 "nbformat": 4,
 "nbformat_minor": 2
}
